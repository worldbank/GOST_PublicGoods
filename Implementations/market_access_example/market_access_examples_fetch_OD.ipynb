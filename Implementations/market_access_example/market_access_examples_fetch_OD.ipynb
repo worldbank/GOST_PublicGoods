{
 "cells": [
  {
   "cell_type": "markdown",
   "metadata": {},
   "source": [
    "# GOSTnets Market Access Examples: fetch Origin Destination Matrices\n"
   ]
  },
  {
   "cell_type": "markdown",
   "metadata": {},
   "source": [
    "### Import libraries"
   ]
  },
  {
   "cell_type": "code",
   "execution_count": 1,
   "metadata": {},
   "outputs": [],
   "source": [
    "%load_ext autoreload\n",
    "%autoreload 2"
   ]
  },
  {
   "cell_type": "code",
   "execution_count": 2,
   "metadata": {},
   "outputs": [],
   "source": [
    "import sys, os, inspect, logging, importlib\n",
    "\n",
    "import geopandas as gpd\n",
    "import pandas as pd\n",
    "import numpy as np\n",
    "import osmnx as ox\n",
    "import networkx as nx\n",
    "from shapely.ops import split, unary_union\n",
    "from shapely.geometry import box, Point\n",
    "\n",
    "import matplotlib.pyplot as plt"
   ]
  },
  {
   "cell_type": "code",
   "execution_count": 3,
   "metadata": {},
   "outputs": [],
   "source": [
    "# Get reference to GOSTNets\n",
    "sys.path.append(r'../../../GOSTnets')\n",
    "import GOSTnets as gn"
   ]
  },
  {
   "cell_type": "code",
   "execution_count": 4,
   "metadata": {},
   "outputs": [],
   "source": [
    "from GOSTnets.fetch_od import *"
   ]
  },
  {
   "cell_type": "code",
   "execution_count": 5,
   "metadata": {},
   "outputs": [],
   "source": [
    "# import extent\n",
    "city_extent = gpd.read_file(\"admin/Buffalo_City.shp\")"
   ]
  },
  {
   "cell_type": "code",
   "execution_count": 6,
   "metadata": {},
   "outputs": [
    {
     "data": {
      "image/svg+xml": [
       "<svg xmlns=\"http://www.w3.org/2000/svg\" xmlns:xlink=\"http://www.w3.org/1999/xlink\" width=\"100.0\" height=\"100.0\" viewBox=\"27.120670704880062 -33.32200959111993 0.9973688792399713 0.6849491822399756\" preserveAspectRatio=\"xMinYMin meet\"><g transform=\"matrix(1,0,0,-1,0,-65.95906999999988)\"><path fill-rule=\"evenodd\" fill=\"#66cc99\" stroke=\"#555555\" stroke-width=\"0.019947377584799426\" opacity=\"0.6\" d=\"M 28.081099996000034,-33.28507000299993 L 28.081099996000034,-32.67399999699995 L 27.15761029300006,-32.67399999699995 L 27.15761029300006,-33.28507000299993 L 28.081099996000034,-33.28507000299993 z\" /></g></svg>"
      ],
      "text/plain": [
       "<shapely.geometry.polygon.Polygon at 0x1417dbdb248>"
      ]
     },
     "execution_count": 6,
     "metadata": {},
     "output_type": "execute_result"
    }
   ],
   "source": [
    "extent = box(*city_extent.total_bounds)\n",
    "extent"
   ]
  },
  {
   "cell_type": "code",
   "execution_count": 9,
   "metadata": {},
   "outputs": [],
   "source": [
    "# retrieved from the market access fetch POIs notebook results\n",
    "school_destinations_gpd = gpd.read_file('osm_schools.csv',GEOM_POSSIBLE_NAMES=\"geometry\", KEEP_GEOM_COLUMNS=\"NO\")"
   ]
  },
  {
   "cell_type": "code",
   "execution_count": 10,
   "metadata": {},
   "outputs": [
    {
     "data": {
      "text/html": [
       "<div>\n",
       "<style scoped>\n",
       "    .dataframe tbody tr th:only-of-type {\n",
       "        vertical-align: middle;\n",
       "    }\n",
       "\n",
       "    .dataframe tbody tr th {\n",
       "        vertical-align: top;\n",
       "    }\n",
       "\n",
       "    .dataframe thead th {\n",
       "        text-align: right;\n",
       "    }\n",
       "</style>\n",
       "<table border=\"1\" class=\"dataframe\">\n",
       "  <thead>\n",
       "    <tr style=\"text-align: right;\">\n",
       "      <th></th>\n",
       "      <th>field_1</th>\n",
       "      <th>amenity</th>\n",
       "      <th>name</th>\n",
       "      <th>geometry</th>\n",
       "    </tr>\n",
       "  </thead>\n",
       "  <tbody>\n",
       "    <tr>\n",
       "      <th>0</th>\n",
       "      <td>0</td>\n",
       "      <td>school</td>\n",
       "      <td>Port Rex Technical High</td>\n",
       "      <td>POINT (27.91170 -32.98514)</td>\n",
       "    </tr>\n",
       "    <tr>\n",
       "      <th>1</th>\n",
       "      <td>1</td>\n",
       "      <td>school</td>\n",
       "      <td>Hudson Park High</td>\n",
       "      <td>POINT (27.91586 -32.98572)</td>\n",
       "    </tr>\n",
       "    <tr>\n",
       "      <th>2</th>\n",
       "      <td>2</td>\n",
       "      <td>school</td>\n",
       "      <td>Hudson Park Primary</td>\n",
       "      <td>POINT (27.91603 -32.98316)</td>\n",
       "    </tr>\n",
       "    <tr>\n",
       "      <th>3</th>\n",
       "      <td>3</td>\n",
       "      <td>college</td>\n",
       "      <td>East London FET College</td>\n",
       "      <td>POINT (27.89951 -32.99601)</td>\n",
       "    </tr>\n",
       "    <tr>\n",
       "      <th>4</th>\n",
       "      <td>4</td>\n",
       "      <td>school</td>\n",
       "      <td>St. Johns Road Primary</td>\n",
       "      <td>POINT (27.89632 -33.00945)</td>\n",
       "    </tr>\n",
       "    <tr>\n",
       "      <th>...</th>\n",
       "      <td>...</td>\n",
       "      <td>...</td>\n",
       "      <td>...</td>\n",
       "      <td>...</td>\n",
       "    </tr>\n",
       "    <tr>\n",
       "      <th>115</th>\n",
       "      <td>115</td>\n",
       "      <td>university</td>\n",
       "      <td>University of Fort Hare</td>\n",
       "      <td>POINT (27.42815 -32.86145)</td>\n",
       "    </tr>\n",
       "    <tr>\n",
       "      <th>116</th>\n",
       "      <td>116</td>\n",
       "      <td>school</td>\n",
       "      <td></td>\n",
       "      <td>POINT (27.44307 -32.88653)</td>\n",
       "    </tr>\n",
       "    <tr>\n",
       "      <th>117</th>\n",
       "      <td>117</td>\n",
       "      <td>school</td>\n",
       "      <td></td>\n",
       "      <td>POINT (27.44323 -32.88988)</td>\n",
       "    </tr>\n",
       "    <tr>\n",
       "      <th>118</th>\n",
       "      <td>118</td>\n",
       "      <td>school</td>\n",
       "      <td></td>\n",
       "      <td>POINT (27.38356 -32.89457)</td>\n",
       "    </tr>\n",
       "    <tr>\n",
       "      <th>119</th>\n",
       "      <td>119</td>\n",
       "      <td>school</td>\n",
       "      <td></td>\n",
       "      <td>POINT (27.41476 -32.88113)</td>\n",
       "    </tr>\n",
       "  </tbody>\n",
       "</table>\n",
       "<p>120 rows × 4 columns</p>\n",
       "</div>"
      ],
      "text/plain": [
       "    field_1     amenity                     name                    geometry\n",
       "0         0      school  Port Rex Technical High  POINT (27.91170 -32.98514)\n",
       "1         1      school         Hudson Park High  POINT (27.91586 -32.98572)\n",
       "2         2      school      Hudson Park Primary  POINT (27.91603 -32.98316)\n",
       "3         3     college  East London FET College  POINT (27.89951 -32.99601)\n",
       "4         4      school   St. Johns Road Primary  POINT (27.89632 -33.00945)\n",
       "..      ...         ...                      ...                         ...\n",
       "115     115  university  University of Fort Hare  POINT (27.42815 -32.86145)\n",
       "116     116      school                           POINT (27.44307 -32.88653)\n",
       "117     117      school                           POINT (27.44323 -32.88988)\n",
       "118     118      school                           POINT (27.38356 -32.89457)\n",
       "119     119      school                           POINT (27.41476 -32.88113)\n",
       "\n",
       "[120 rows x 4 columns]"
      ]
     },
     "execution_count": 10,
     "metadata": {},
     "output_type": "execute_result"
    }
   ],
   "source": [
    "school_destinations_gpd"
   ]
  },
  {
   "cell_type": "code",
   "execution_count": 21,
   "metadata": {},
   "outputs": [],
   "source": [
    "# make a Lat and Lon column"
   ]
  },
  {
   "cell_type": "code",
   "execution_count": 30,
   "metadata": {},
   "outputs": [
    {
     "data": {
      "text/plain": [
       "(27.9158605, -32.9857187)"
      ]
     },
     "execution_count": 30,
     "metadata": {},
     "output_type": "execute_result"
    }
   ],
   "source": [
    "school_destinations_gpd.loc[1].geometry.coords[0]"
   ]
  },
  {
   "cell_type": "code",
   "execution_count": 52,
   "metadata": {},
   "outputs": [],
   "source": [
    "school_destinations_gpd['Lon'] = school_destinations_gpd.geometry.apply(lambda geometry: geometry.x)\n",
    "school_destinations_gpd['Lat'] = school_destinations_gpd.geometry.apply(lambda geometry: geometry.y)"
   ]
  },
  {
   "cell_type": "code",
   "execution_count": 53,
   "metadata": {},
   "outputs": [
    {
     "data": {
      "text/html": [
       "<div>\n",
       "<style scoped>\n",
       "    .dataframe tbody tr th:only-of-type {\n",
       "        vertical-align: middle;\n",
       "    }\n",
       "\n",
       "    .dataframe tbody tr th {\n",
       "        vertical-align: top;\n",
       "    }\n",
       "\n",
       "    .dataframe thead th {\n",
       "        text-align: right;\n",
       "    }\n",
       "</style>\n",
       "<table border=\"1\" class=\"dataframe\">\n",
       "  <thead>\n",
       "    <tr style=\"text-align: right;\">\n",
       "      <th></th>\n",
       "      <th>field_1</th>\n",
       "      <th>amenity</th>\n",
       "      <th>name</th>\n",
       "      <th>geometry</th>\n",
       "      <th>Lat</th>\n",
       "      <th>Lon</th>\n",
       "    </tr>\n",
       "  </thead>\n",
       "  <tbody>\n",
       "    <tr>\n",
       "      <th>0</th>\n",
       "      <td>0</td>\n",
       "      <td>school</td>\n",
       "      <td>Port Rex Technical High</td>\n",
       "      <td>POINT (27.91170 -32.98514)</td>\n",
       "      <td>-32.985143</td>\n",
       "      <td>27.911698</td>\n",
       "    </tr>\n",
       "    <tr>\n",
       "      <th>1</th>\n",
       "      <td>1</td>\n",
       "      <td>school</td>\n",
       "      <td>Hudson Park High</td>\n",
       "      <td>POINT (27.91586 -32.98572)</td>\n",
       "      <td>-32.985719</td>\n",
       "      <td>27.915861</td>\n",
       "    </tr>\n",
       "    <tr>\n",
       "      <th>2</th>\n",
       "      <td>2</td>\n",
       "      <td>school</td>\n",
       "      <td>Hudson Park Primary</td>\n",
       "      <td>POINT (27.91603 -32.98316)</td>\n",
       "      <td>-32.983163</td>\n",
       "      <td>27.916032</td>\n",
       "    </tr>\n",
       "    <tr>\n",
       "      <th>3</th>\n",
       "      <td>3</td>\n",
       "      <td>college</td>\n",
       "      <td>East London FET College</td>\n",
       "      <td>POINT (27.89951 -32.99601)</td>\n",
       "      <td>-32.996010</td>\n",
       "      <td>27.899510</td>\n",
       "    </tr>\n",
       "    <tr>\n",
       "      <th>4</th>\n",
       "      <td>4</td>\n",
       "      <td>school</td>\n",
       "      <td>St. Johns Road Primary</td>\n",
       "      <td>POINT (27.89632 -33.00945)</td>\n",
       "      <td>-33.009453</td>\n",
       "      <td>27.896321</td>\n",
       "    </tr>\n",
       "    <tr>\n",
       "      <th>...</th>\n",
       "      <td>...</td>\n",
       "      <td>...</td>\n",
       "      <td>...</td>\n",
       "      <td>...</td>\n",
       "      <td>...</td>\n",
       "      <td>...</td>\n",
       "    </tr>\n",
       "    <tr>\n",
       "      <th>115</th>\n",
       "      <td>115</td>\n",
       "      <td>university</td>\n",
       "      <td>University of Fort Hare</td>\n",
       "      <td>POINT (27.42815 -32.86145)</td>\n",
       "      <td>-32.861446</td>\n",
       "      <td>27.428155</td>\n",
       "    </tr>\n",
       "    <tr>\n",
       "      <th>116</th>\n",
       "      <td>116</td>\n",
       "      <td>school</td>\n",
       "      <td></td>\n",
       "      <td>POINT (27.44307 -32.88653)</td>\n",
       "      <td>-32.886526</td>\n",
       "      <td>27.443067</td>\n",
       "    </tr>\n",
       "    <tr>\n",
       "      <th>117</th>\n",
       "      <td>117</td>\n",
       "      <td>school</td>\n",
       "      <td></td>\n",
       "      <td>POINT (27.44323 -32.88988)</td>\n",
       "      <td>-32.889881</td>\n",
       "      <td>27.443233</td>\n",
       "    </tr>\n",
       "    <tr>\n",
       "      <th>118</th>\n",
       "      <td>118</td>\n",
       "      <td>school</td>\n",
       "      <td></td>\n",
       "      <td>POINT (27.38356 -32.89457)</td>\n",
       "      <td>-32.894569</td>\n",
       "      <td>27.383561</td>\n",
       "    </tr>\n",
       "    <tr>\n",
       "      <th>119</th>\n",
       "      <td>119</td>\n",
       "      <td>school</td>\n",
       "      <td></td>\n",
       "      <td>POINT (27.41476 -32.88113)</td>\n",
       "      <td>-32.881126</td>\n",
       "      <td>27.414763</td>\n",
       "    </tr>\n",
       "  </tbody>\n",
       "</table>\n",
       "<p>120 rows × 6 columns</p>\n",
       "</div>"
      ],
      "text/plain": [
       "    field_1     amenity                     name                    geometry  \\\n",
       "0         0      school  Port Rex Technical High  POINT (27.91170 -32.98514)   \n",
       "1         1      school         Hudson Park High  POINT (27.91586 -32.98572)   \n",
       "2         2      school      Hudson Park Primary  POINT (27.91603 -32.98316)   \n",
       "3         3     college  East London FET College  POINT (27.89951 -32.99601)   \n",
       "4         4      school   St. Johns Road Primary  POINT (27.89632 -33.00945)   \n",
       "..      ...         ...                      ...                         ...   \n",
       "115     115  university  University of Fort Hare  POINT (27.42815 -32.86145)   \n",
       "116     116      school                           POINT (27.44307 -32.88653)   \n",
       "117     117      school                           POINT (27.44323 -32.88988)   \n",
       "118     118      school                           POINT (27.38356 -32.89457)   \n",
       "119     119      school                           POINT (27.41476 -32.88113)   \n",
       "\n",
       "           Lat        Lon  \n",
       "0   -32.985143  27.911698  \n",
       "1   -32.985719  27.915861  \n",
       "2   -32.983163  27.916032  \n",
       "3   -32.996010  27.899510  \n",
       "4   -33.009453  27.896321  \n",
       "..         ...        ...  \n",
       "115 -32.861446  27.428155  \n",
       "116 -32.886526  27.443067  \n",
       "117 -32.889881  27.443233  \n",
       "118 -32.894569  27.383561  \n",
       "119 -32.881126  27.414763  \n",
       "\n",
       "[120 rows x 6 columns]"
      ]
     },
     "execution_count": 53,
     "metadata": {},
     "output_type": "execute_result"
    }
   ],
   "source": [
    "school_destinations_gpd"
   ]
  },
  {
   "cell_type": "markdown",
   "metadata": {},
   "source": [
    "### Let's create two CSVs from this one."
   ]
  },
  {
   "cell_type": "code",
   "execution_count": 54,
   "metadata": {},
   "outputs": [],
   "source": [
    "school_destinations_gpd1 = school_destinations_gpd[:10]"
   ]
  },
  {
   "cell_type": "code",
   "execution_count": 55,
   "metadata": {},
   "outputs": [],
   "source": [
    "school_destinations_gpd2 = school_destinations_gpd[10:20]"
   ]
  },
  {
   "cell_type": "code",
   "execution_count": 56,
   "metadata": {},
   "outputs": [
    {
     "name": "stderr",
     "output_type": "stream",
     "text": [
      "C:\\Users\\war-machine\\Anaconda2\\envs\\gostnets2\\lib\\site-packages\\geopandas\\geodataframe.py:853: SettingWithCopyWarning: \n",
      "A value is trying to be set on a copy of a slice from a DataFrame.\n",
      "Try using .loc[row_indexer,col_indexer] = value instead\n",
      "\n",
      "See the caveats in the documentation: https://pandas.pydata.org/pandas-docs/stable/user_guide/indexing.html#returning-a-view-versus-a-copy\n",
      "  super(GeoDataFrame, self).__setitem__(key, value)\n"
     ]
    },
    {
     "name": "stdout",
     "output_type": "stream",
     "text": [
      "length of sources list 1, and destinations list is 1\n",
      "source list: 10\n",
      "sources list: 1\n",
      "dest list: 10\n",
      "dests list: 1\n",
      "\n",
      "Estimated remaining calls to chosen server: 100\n",
      "\n",
      "save points will occur every 1 calls\n",
      "\n",
      "1 iteration\n",
      "Call to OSRM server number: 1 of 100\n",
      "done with call\n"
     ]
    }
   ],
   "source": [
    "schoolMatrix = CreateODMatrix(school_destinations_gpd1, school_destinations_gpd2, UID='field_1', sleepTime=0)"
   ]
  },
  {
   "cell_type": "code",
   "execution_count": 57,
   "metadata": {},
   "outputs": [
    {
     "data": {
      "text/plain": [
       "0  10    309.3\n",
       "   11    237.5\n",
       "   12    257.1\n",
       "   13    269.0\n",
       "   14    605.5\n",
       "         ...  \n",
       "9  15    527.0\n",
       "   16    551.9\n",
       "   17    482.7\n",
       "   18    533.4\n",
       "   19    333.3\n",
       "Length: 100, dtype: float64"
      ]
     },
     "execution_count": 57,
     "metadata": {},
     "output_type": "execute_result"
    }
   ],
   "source": [
    "schoolMatrix"
   ]
  },
  {
   "cell_type": "code",
   "execution_count": 58,
   "metadata": {},
   "outputs": [
    {
     "data": {
      "text/plain": [
       "pandas.core.series.Series"
      ]
     },
     "execution_count": 58,
     "metadata": {},
     "output_type": "execute_result"
    }
   ],
   "source": [
    "type(schoolMatrix)"
   ]
  },
  {
   "cell_type": "code",
   "execution_count": 59,
   "metadata": {},
   "outputs": [
    {
     "data": {
      "text/plain": [
       "309.3"
      ]
     },
     "execution_count": 59,
     "metadata": {},
     "output_type": "execute_result"
    }
   ],
   "source": [
    "schoolMatrix[0]"
   ]
  },
  {
   "cell_type": "code",
   "execution_count": 61,
   "metadata": {},
   "outputs": [
    {
     "data": {
      "text/plain": [
       "(100,)"
      ]
     },
     "execution_count": 61,
     "metadata": {},
     "output_type": "execute_result"
    }
   ],
   "source": [
    "schoolMatrix.shape"
   ]
  },
  {
   "cell_type": "code",
   "execution_count": 62,
   "metadata": {},
   "outputs": [],
   "source": [
    "# you can save as a CSV\n",
    "#schoolMatrix.to_csv('school_OD_matrix.csv')"
   ]
  },
  {
   "cell_type": "markdown",
   "metadata": {},
   "source": [
    "## Now try with MapBox"
   ]
  },
  {
   "cell_type": "code",
   "execution_count": null,
   "metadata": {},
   "outputs": [],
   "source": [
    "MB_Token = 'insert private key here'"
   ]
  },
  {
   "cell_type": "code",
   "execution_count": 63,
   "metadata": {},
   "outputs": [
    {
     "name": "stdout",
     "output_type": "stream",
     "text": [
      "length of sources list 1, and destinations list is 1\n",
      "source list: 10\n",
      "sources list: 1\n",
      "dest list: 10\n",
      "dests list: 1\n",
      "\n",
      "Estimated remaining calls to chosen server: 100\n",
      "\n",
      "save points will occur every 1 calls\n",
      "\n",
      "1 iteration\n",
      "Call to OSRM server number: 1 of 100\n",
      "call type is MB\n",
      "done with call\n"
     ]
    }
   ],
   "source": [
    "schoolMatrix_mapbox = CreateODMatrix(school_destinations_gpd1, school_destinations_gpd2, UID='field_1', sleepTime=0, call_type = 'MB', MB_Token = MB_Token)"
   ]
  },
  {
   "cell_type": "code",
   "execution_count": 64,
   "metadata": {},
   "outputs": [
    {
     "data": {
      "text/plain": [
       "0  10    497.7\n",
       "   11    928.4\n",
       "   12    393.2\n",
       "   13    469.6\n",
       "   14    896.5\n",
       "         ...  \n",
       "9  15    740.8\n",
       "   16    821.1\n",
       "   17    692.2\n",
       "   18    732.9\n",
       "   19    482.1\n",
       "Length: 100, dtype: float64"
      ]
     },
     "execution_count": 64,
     "metadata": {},
     "output_type": "execute_result"
    }
   ],
   "source": [
    "schoolMatrix_mapbox"
   ]
  },
  {
   "cell_type": "markdown",
   "metadata": {},
   "source": [
    "### now with Mapbox traffic"
   ]
  },
  {
   "cell_type": "code",
   "execution_count": 67,
   "metadata": {},
   "outputs": [
    {
     "name": "stdout",
     "output_type": "stream",
     "text": [
      "length of sources list 2, and destinations list is 2\n",
      "source list: 10\n",
      "sources list: 2\n",
      "dest list: 10\n",
      "dests list: 2\n",
      "\n",
      "Estimated remaining calls to chosen server: 100\n",
      "\n",
      "save points will occur every 2 calls\n",
      "\n",
      "1 iteration\n",
      "Call to OSRM server number: 1 of 100\n",
      "call type is MBT\n",
      "done with call\n",
      "1 iteration\n",
      "Call to OSRM server number: 2 of 100\n",
      "call type is MBT\n",
      "done with call\n",
      "1 iteration\n",
      "Call to OSRM server number: 3 of 100\n",
      "call type is MBT\n",
      "done with call\n",
      "1 iteration\n",
      "Call to OSRM server number: 4 of 100\n",
      "call type is MBT\n",
      "done with call\n"
     ]
    }
   ],
   "source": [
    "schoolMatrix_mapbox_traffic = CreateODMatrix(school_destinations_gpd1, school_destinations_gpd2, UID='field_1', sleepTime=0, call_type = 'MBT', MB_Token = MB_Token)"
   ]
  },
  {
   "cell_type": "code",
   "execution_count": 68,
   "metadata": {},
   "outputs": [
    {
     "data": {
      "text/plain": [
       "0  10    543.1\n",
       "   11    951.5\n",
       "   12    429.8\n",
       "   13    482.9\n",
       "   14    880.8\n",
       "         ...  \n",
       "9  15    720.2\n",
       "   16    756.2\n",
       "   17    712.9\n",
       "   18    729.3\n",
       "   19    486.6\n",
       "Length: 100, dtype: float64"
      ]
     },
     "execution_count": 68,
     "metadata": {},
     "output_type": "execute_result"
    }
   ],
   "source": [
    "schoolMatrix_mapbox_traffic"
   ]
  },
  {
   "cell_type": "code",
   "execution_count": null,
   "metadata": {},
   "outputs": [],
   "source": []
  }
 ],
 "metadata": {
  "kernelspec": {
   "display_name": "Python 3",
   "language": "python",
   "name": "python3"
  },
  "language_info": {
   "codemirror_mode": {
    "name": "ipython",
    "version": 3
   },
   "file_extension": ".py",
   "mimetype": "text/x-python",
   "name": "python",
   "nbconvert_exporter": "python",
   "pygments_lexer": "ipython3",
   "version": "3.7.7"
  }
 },
 "nbformat": 4,
 "nbformat_minor": 2
}
