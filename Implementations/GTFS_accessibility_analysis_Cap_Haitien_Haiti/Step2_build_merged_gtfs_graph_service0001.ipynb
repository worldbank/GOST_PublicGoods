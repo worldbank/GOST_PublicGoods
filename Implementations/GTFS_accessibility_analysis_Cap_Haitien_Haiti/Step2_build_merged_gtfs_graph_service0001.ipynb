{
 "cells": [
  {
   "cell_type": "markdown",
   "metadata": {},
   "source": [
    "# Step 2: Building a GTFS graph and merging it with a walking graph\n",
    "We heavily follow Kuan Butts's Calculating Betweenness Centrality with GTFS blog post: https://gist.github.com/kuanb/c54d0ae7ee353cac3d56371d3491cf56\n",
    "\n",
    "The peartree (https://github.com/kuanb/peartree) source code was modified. Until code is merged you should use code from this fork: https://github.com/d3netxer/peartree"
   ]
  },
  {
   "cell_type": "code",
   "execution_count": 155,
   "metadata": {},
   "outputs": [
    {
     "name": "stdout",
     "output_type": "stream",
     "text": [
      "The autoreload extension is already loaded. To reload it, use:\n",
      "  %reload_ext autoreload\n"
     ]
    }
   ],
   "source": [
    "%load_ext autoreload\n",
    "%autoreload 2"
   ]
  },
  {
   "cell_type": "code",
   "execution_count": 156,
   "metadata": {},
   "outputs": [],
   "source": [
    "import matplotlib.pyplot as plt\n",
    "%matplotlib inline"
   ]
  },
  {
   "cell_type": "code",
   "execution_count": 157,
   "metadata": {},
   "outputs": [],
   "source": [
    "import osmnx as ox\n",
    "import pandas as pd\n",
    "import geopandas as gpd\n",
    "import networkx as nx\n",
    "import numpy as np\n",
    "from shapely.geometry import Point"
   ]
  },
  {
   "cell_type": "code",
   "execution_count": 158,
   "metadata": {},
   "outputs": [],
   "source": [
    "import partridge as ptg"
   ]
  },
  {
   "cell_type": "code",
   "execution_count": 159,
   "metadata": {},
   "outputs": [],
   "source": [
    "import os, sys"
   ]
  },
  {
   "cell_type": "code",
   "execution_count": 160,
   "metadata": {},
   "outputs": [],
   "source": [
    "sys.path.append(r\"C:\\repos\\peartree\")\n",
    "import peartree as pt"
   ]
  },
  {
   "cell_type": "code",
   "execution_count": 161,
   "metadata": {},
   "outputs": [
    {
     "name": "stdout",
     "output_type": "stream",
     "text": [
      "C:\\repos\\peartree\\peartree\\__init__.py\n"
     ]
    }
   ],
   "source": [
    "print(pt.__file__)"
   ]
  },
  {
   "cell_type": "code",
   "execution_count": 162,
   "metadata": {},
   "outputs": [],
   "source": [
    "path = r'input_folder/cap_haitien_gtfs.zip'"
   ]
  },
  {
   "cell_type": "markdown",
   "metadata": {},
   "source": [
    "### Build a graph from service_0001\n",
    "service_0001 is on the weekends, so below we are choosing a data that lands on a weekend"
   ]
  },
  {
   "cell_type": "code",
   "execution_count": 163,
   "metadata": {},
   "outputs": [
    {
     "name": "stdout",
     "output_type": "stream",
     "text": [
      "service_ids is frozenset({'service_0001'})\n"
     ]
    }
   ],
   "source": [
    "# from: http://simplistic.me/playing-with-gtfs.html\n",
    "import datetime\n",
    "\n",
    "service_ids_by_date = ptg.read_service_ids_by_date(path)\n",
    "service_ids = service_ids_by_date[datetime.date(2019, 6, 29)]\n",
    "\n",
    "print(f\"service_ids is {service_ids}\")\n",
    "\n",
    "# view lets you filter before you load the feed. For example, below you are filtering by the service_ids\n",
    "feed = ptg.load_feed(path, view={\n",
    "    'trips.txt': {\n",
    "        'service_id': service_ids,\n",
    "    },\n",
    "})"
   ]
  },
  {
   "cell_type": "code",
   "execution_count": 164,
   "metadata": {},
   "outputs": [
    {
     "data": {
      "text/html": [
       "<div>\n",
       "<style scoped>\n",
       "    .dataframe tbody tr th:only-of-type {\n",
       "        vertical-align: middle;\n",
       "    }\n",
       "\n",
       "    .dataframe tbody tr th {\n",
       "        vertical-align: top;\n",
       "    }\n",
       "\n",
       "    .dataframe thead th {\n",
       "        text-align: right;\n",
       "    }\n",
       "</style>\n",
       "<table border=\"1\" class=\"dataframe\">\n",
       "  <thead>\n",
       "    <tr style=\"text-align: right;\">\n",
       "      <th></th>\n",
       "      <th>service_id</th>\n",
       "      <th>monday</th>\n",
       "      <th>tuesday</th>\n",
       "      <th>wednesday</th>\n",
       "      <th>thursday</th>\n",
       "      <th>friday</th>\n",
       "      <th>saturday</th>\n",
       "      <th>sunday</th>\n",
       "      <th>start_date</th>\n",
       "      <th>end_date</th>\n",
       "    </tr>\n",
       "  </thead>\n",
       "  <tbody>\n",
       "    <tr>\n",
       "      <th>0</th>\n",
       "      <td>service_0001</td>\n",
       "      <td>0</td>\n",
       "      <td>0</td>\n",
       "      <td>0</td>\n",
       "      <td>0</td>\n",
       "      <td>0</td>\n",
       "      <td>1</td>\n",
       "      <td>1</td>\n",
       "      <td>2019-06-29</td>\n",
       "      <td>2020-07-29</td>\n",
       "    </tr>\n",
       "  </tbody>\n",
       "</table>\n",
       "</div>"
      ],
      "text/plain": [
       "     service_id  monday  tuesday  wednesday  thursday  friday  saturday  \\\n",
       "0  service_0001       0        0          0         0       0         1   \n",
       "\n",
       "   sunday  start_date    end_date  \n",
       "0       1  2019-06-29  2020-07-29  "
      ]
     },
     "execution_count": 164,
     "metadata": {},
     "output_type": "execute_result"
    }
   ],
   "source": [
    "feed.calendar"
   ]
  },
  {
   "cell_type": "markdown",
   "metadata": {},
   "source": [
    "### give all trips a direction of 0\n",
    "PearTree wants directions assigned"
   ]
  },
  {
   "cell_type": "code",
   "execution_count": 165,
   "metadata": {},
   "outputs": [],
   "source": [
    "feed.trips['direction_id'] = 0"
   ]
  },
  {
   "cell_type": "markdown",
   "metadata": {},
   "source": [
    "## Preview the GTFS network"
   ]
  },
  {
   "cell_type": "code",
   "execution_count": 166,
   "metadata": {},
   "outputs": [],
   "source": [
    "# Set a target time period to summarize impedance\n",
    "start = 0  # 0:00 \n",
    "end = 24*60*60  # 24:00 \n",
    "\n",
    "# Converts feed subset into a directed\n",
    "# network multigraph\n",
    "G = pt.load_feed_as_graph(feed, start, end, add_trips_per_edge=True)"
   ]
  },
  {
   "cell_type": "code",
   "execution_count": 167,
   "metadata": {},
   "outputs": [
    {
     "name": "stderr",
     "output_type": "stream",
     "text": [
      "C:\\Users\\war-machine\\Anaconda2\\envs\\gostnets2\\lib\\site-packages\\pyproj\\crs\\crs.py:53: FutureWarning: '+init=<authority>:<code>' syntax is deprecated. '<authority>:<code>' is the preferred initialization method. When making the change, be mindful of axis order changes: https://pyproj4.github.io/pyproj/stable/gotchas.html#axis-order-changes-in-proj-6\n",
      "  return _prepare_from_string(\" \".join(pjargs))\n"
     ]
    },
    {
     "data": {
      "image/png": "[encoded data removed]",
      "text/plain": [
       "<Figure size 864x864 with 1 Axes>"
      ]
     },
     "metadata": {},
     "output_type": "display_data"
    }
   ],
   "source": [
    "fig, ax = ox.plot_graph(G,\n",
    "                            figsize=(12,12),\n",
    "                            show=False,\n",
    "                            close=False,\n",
    "                            node_color='#8aedfc',\n",
    "                            node_size=5,\n",
    "                            edge_color='#e2dede',\n",
    "                            edge_alpha=0.25,\n",
    "                            bgcolor='black')"
   ]
  },
  {
   "cell_type": "code",
   "execution_count": 168,
   "metadata": {},
   "outputs": [
    {
     "data": {
      "text/plain": [
       "[('GLYN8_stop_0119', 'GLYN8_stop_0096', 0),\n",
       " ('GLYN8_stop_0143', 'GLYN8_stop_0260', 0),\n",
       " ('GLYN8_stop_0143', 'GLYN8_stop_0081', 0),\n",
       " ('GLYN8_stop_0143', 'GLYN8_stop_0154', 0),\n",
       " ('GLYN8_stop_0176', 'GLYN8_stop_0074', 0),\n",
       " ('GLYN8_stop_0217', 'GLYN8_stop_0001', 0),\n",
       " ('GLYN8_stop_0217', 'GLYN8_stop_0034', 0),\n",
       " ('GLYN8_stop_0232', 'GLYN8_stop_0104', 0),\n",
       " ('GLYN8_stop_0250', 'GLYN8_stop_0228', 0),\n",
       " ('GLYN8_stop_0103', 'GLYN8_stop_0140', 0),\n",
       " ('GLYN8_stop_0100', 'GLYN8_stop_0143', 0),\n",
       " ('GLYN8_stop_0195', 'GLYN8_stop_0240', 0),\n",
       " ('GLYN8_stop_0195', 'GLYN8_stop_0197', 0),\n",
       " ('GLYN8_stop_0195', 'GLYN8_stop_0135', 0),\n",
       " ('GLYN8_stop_0190', 'GLYN8_stop_0200', 0),\n",
       " ('GLYN8_stop_0032', 'GLYN8_stop_0072', 0),\n",
       " ('GLYN8_stop_0209', 'GLYN8_stop_0212', 0),\n",
       " ('GLYN8_stop_0197', 'GLYN8_stop_0135', 0),\n",
       " ('GLYN8_stop_0197', 'GLYN8_stop_0240', 0),\n",
       " ('GLYN8_stop_0110', 'GLYN8_stop_0107', 0),\n",
       " ('GLYN8_stop_0204', 'GLYN8_stop_0114', 0),\n",
       " ('GLYN8_stop_0063', 'GLYN8_stop_0144', 0),\n",
       " ('GLYN8_stop_0064', 'GLYN8_stop_0129', 0),\n",
       " ('GLYN8_stop_0220', 'GLYN8_stop_0224', 0),\n",
       " ('GLYN8_stop_0010', 'GLYN8_stop_0250', 0),\n",
       " ('GLYN8_stop_0212', 'GLYN8_stop_0054', 0),\n",
       " ('GLYN8_stop_0212', 'GLYN8_stop_0158', 0),\n",
       " ('GLYN8_stop_0212', 'GLYN8_stop_0217', 0),\n",
       " ('GLYN8_stop_0138', 'GLYN8_stop_0166', 0),\n",
       " ('GLYN8_stop_0079', 'GLYN8_stop_0064', 0),\n",
       " ('GLYN8_stop_0167', 'GLYN8_stop_0192', 0),\n",
       " ('GLYN8_stop_0125', 'GLYN8_stop_0257', 0),\n",
       " ('GLYN8_stop_0044', 'GLYN8_stop_0147', 0),\n",
       " ('GLYN8_stop_0237', 'GLYN8_stop_0218', 0),\n",
       " ('GLYN8_stop_0264', 'GLYN8_stop_0177', 0),\n",
       " ('GLYN8_stop_0027', 'GLYN8_stop_0260', 0),\n",
       " ('GLYN8_stop_0059', 'GLYN8_stop_0101', 0),\n",
       " ('GLYN8_stop_0114', 'GLYN8_stop_0056', 0),\n",
       " ('GLYN8_stop_0129', 'GLYN8_stop_0173', 0),\n",
       " ('GLYN8_stop_0129', 'GLYN8_stop_0001', 0),\n",
       " ('GLYN8_stop_0255', 'GLYN8_stop_0007', 0),\n",
       " ('GLYN8_stop_0256', 'GLYN8_stop_0244', 0),\n",
       " ('GLYN8_stop_0017', 'GLYN8_stop_0076', 0),\n",
       " ('GLYN8_stop_0227', 'GLYN8_stop_0042', 0),\n",
       " ('GLYN8_stop_0228', 'GLYN8_stop_0238', 0),\n",
       " ('GLYN8_stop_0076', 'GLYN8_stop_0087', 0),\n",
       " ('GLYN8_stop_0076', 'GLYN8_stop_0103', 0),\n",
       " ('GLYN8_stop_0234', 'GLYN8_stop_0205', 0),\n",
       " ('GLYN8_stop_0054', 'GLYN8_stop_0099', 0),\n",
       " ('GLYN8_stop_0054', 'GLYN8_stop_0086', 0),\n",
       " ('GLYN8_stop_0054', 'GLYN8_stop_0158', 0),\n",
       " ('GLYN8_stop_0199', 'GLYN8_stop_0060', 0),\n",
       " ('GLYN8_stop_0083', 'GLYN8_stop_0040', 0),\n",
       " ('GLYN8_stop_0233', 'GLYN8_stop_0249', 0),\n",
       " ('GLYN8_stop_0252', 'GLYN8_stop_0193', 0),\n",
       " ('GLYN8_stop_0252', 'GLYN8_stop_0094', 0),\n",
       " ('GLYN8_stop_0189', 'GLYN8_stop_0155', 0),\n",
       " ('GLYN8_stop_0179', 'GLYN8_stop_0048', 0),\n",
       " ('GLYN8_stop_0139', 'GLYN8_stop_0157', 0),\n",
       " ('GLYN8_stop_0025', 'GLYN8_stop_0210', 0),\n",
       " ('GLYN8_stop_0105', 'GLYN8_stop_0003', 0),\n",
       " ('GLYN8_stop_0205', 'GLYN8_stop_0196', 0),\n",
       " ('GLYN8_stop_0165', 'GLYN8_stop_0193', 0),\n",
       " ('GLYN8_stop_0099', 'GLYN8_stop_0061', 0),\n",
       " ('GLYN8_stop_0099', 'GLYN8_stop_0241', 0),\n",
       " ('GLYN8_stop_0023', 'GLYN8_stop_0185', 0),\n",
       " ('GLYN8_stop_0005', 'GLYN8_stop_0198', 0),\n",
       " ('GLYN8_stop_0085', 'GLYN8_stop_0031', 0),\n",
       " ('GLYN8_stop_0036', 'GLYN8_stop_0176', 0),\n",
       " ('GLYN8_stop_0126', 'GLYN8_stop_0055', 0),\n",
       " ('GLYN8_stop_0166', 'GLYN8_stop_0047', 0),\n",
       " ('GLYN8_stop_0009', 'GLYN8_stop_0222', 0),\n",
       " ('GLYN8_stop_0009', 'GLYN8_stop_0188', 0),\n",
       " ('GLYN8_stop_0135', 'GLYN8_stop_0178', 0),\n",
       " ('GLYN8_stop_0135', 'GLYN8_stop_0158', 0),\n",
       " ('GLYN8_stop_0135', 'GLYN8_stop_0212', 0),\n",
       " ('GLYN8_stop_0254', 'GLYN8_stop_0172', 0),\n",
       " ('GLYN8_stop_0254', 'GLYN8_stop_0093', 0),\n",
       " ('GLYN8_stop_0183', 'GLYN8_stop_0122', 0),\n",
       " ('GLYN8_stop_0257', 'GLYN8_stop_0051', 0),\n",
       " ('GLYN8_stop_0262', 'GLYN8_stop_0085', 0),\n",
       " ('GLYN8_stop_0074', 'GLYN8_stop_0225', 0),\n",
       " ('GLYN8_stop_0144', 'GLYN8_stop_0195', 0),\n",
       " ('GLYN8_stop_0029', 'GLYN8_stop_0252', 0),\n",
       " ('GLYN8_stop_0029', 'GLYN8_stop_0058', 0),\n",
       " ('GLYN8_stop_0162', 'GLYN8_stop_0115', 0),\n",
       " ('GLYN8_stop_0191', 'GLYN8_stop_0080', 0),\n",
       " ('GLYN8_stop_0191', 'GLYN8_stop_0174', 0),\n",
       " ('GLYN8_stop_0014', 'GLYN8_stop_0142', 0),\n",
       " ('GLYN8_stop_0037', 'GLYN8_stop_0190', 0),\n",
       " ('GLYN8_stop_0026', 'GLYN8_stop_0238', 0),\n",
       " ('GLYN8_stop_0070', 'GLYN8_stop_0003', 0),\n",
       " ('GLYN8_stop_0070', 'GLYN8_stop_0185', 0),\n",
       " ('GLYN8_stop_0070', 'GLYN8_stop_0105', 0),\n",
       " ('GLYN8_stop_0073', 'GLYN8_stop_0076', 0),\n",
       " ('GLYN8_stop_0201', 'GLYN8_stop_0059', 0),\n",
       " ('GLYN8_stop_0008', 'GLYN8_stop_0013', 0),\n",
       " ('GLYN8_stop_0015', 'GLYN8_stop_0141', 0),\n",
       " ('GLYN8_stop_0089', 'GLYN8_stop_0199', 0),\n",
       " ('GLYN8_stop_0240', 'GLYN8_stop_0202', 0),\n",
       " ('GLYN8_stop_0240', 'GLYN8_stop_0135', 0),\n",
       " ('GLYN8_stop_0146', 'GLYN8_stop_0201', 0),\n",
       " ('GLYN8_stop_0206', 'GLYN8_stop_0058', 0),\n",
       " ('GLYN8_stop_0206', 'GLYN8_stop_0029', 0),\n",
       " ('GLYN8_stop_0001', 'GLYN8_stop_0139', 0),\n",
       " ('GLYN8_stop_0001', 'GLYN8_stop_0219', 0),\n",
       " ('GLYN8_stop_0038', 'GLYN8_stop_0024', 0),\n",
       " ('GLYN8_stop_0230', 'GLYN8_stop_0111', 0),\n",
       " ('GLYN8_stop_0230', 'GLYN8_stop_0220', 0),\n",
       " ('GLYN8_stop_0210', 'GLYN8_stop_0008', 0),\n",
       " ('GLYN8_stop_0185', 'GLYN8_stop_0213', 0),\n",
       " ('GLYN8_stop_0185', 'GLYN8_stop_0149', 0),\n",
       " ('GLYN8_stop_0224', 'GLYN8_stop_0055', 0),\n",
       " ('GLYN8_stop_0133', 'GLYN8_stop_0027', 0),\n",
       " ('GLYN8_stop_0090', 'GLYN8_stop_0230', 0),\n",
       " ('GLYN8_stop_0013', 'GLYN8_stop_0145', 0),\n",
       " ('GLYN8_stop_0229', 'GLYN8_stop_0038', 0),\n",
       " ('GLYN8_stop_0244', 'GLYN8_stop_0120', 0),\n",
       " ('GLYN8_stop_0244', 'GLYN8_stop_0134', 0),\n",
       " ('GLYN8_stop_0024', 'GLYN8_stop_0109', 0),\n",
       " ('GLYN8_stop_0024', 'GLYN8_stop_0067', 0),\n",
       " ('GLYN8_stop_0024', 'GLYN8_stop_0216', 0),\n",
       " ('GLYN8_stop_0024', 'GLYN8_stop_0112', 0),\n",
       " ('GLYN8_stop_0086', 'GLYN8_stop_0255', 0),\n",
       " ('GLYN8_stop_0259', 'GLYN8_stop_0147', 0),\n",
       " ('GLYN8_stop_0219', 'GLYN8_stop_0208', 0),\n",
       " ('GLYN8_stop_0219', 'GLYN8_stop_0011', 0),\n",
       " ('GLYN8_stop_0141', 'GLYN8_stop_0014', 0),\n",
       " ('GLYN8_stop_0235', 'GLYN8_stop_0185', 0),\n",
       " ('GLYN8_stop_0222', 'GLYN8_stop_0030', 0),\n",
       " ('GLYN8_stop_0222', 'GLYN8_stop_0064', 0),\n",
       " ('GLYN8_stop_0222', 'GLYN8_stop_0019', 0),\n",
       " ('GLYN8_stop_0019', 'GLYN8_stop_0113', 0),\n",
       " ('GLYN8_stop_0019', 'GLYN8_stop_0084', 0),\n",
       " ('GLYN8_stop_0060', 'GLYN8_stop_0151', 0),\n",
       " ('GLYN8_stop_0215', 'GLYN8_stop_0047', 0),\n",
       " ('GLYN8_stop_0215', 'GLYN8_stop_0196', 0),\n",
       " ('GLYN8_stop_0158', 'GLYN8_stop_0099', 0),\n",
       " ('GLYN8_stop_0158', 'GLYN8_stop_0217', 0),\n",
       " ('GLYN8_stop_0181', 'GLYN8_stop_0015', 0),\n",
       " ('GLYN8_stop_0087', 'GLYN8_stop_0054', 0),\n",
       " ('GLYN8_stop_0087', 'GLYN8_stop_0063', 0),\n",
       " ('GLYN8_stop_0087', 'GLYN8_stop_0140', 0),\n",
       " ('GLYN8_stop_0150', 'GLYN8_stop_0104', 0),\n",
       " ('GLYN8_stop_0178', 'GLYN8_stop_0212', 0),\n",
       " ('GLYN8_stop_0172', 'GLYN8_stop_0093', 0),\n",
       " ('GLYN8_stop_0151', 'GLYN8_stop_0078', 0),\n",
       " ('GLYN8_stop_0122', 'GLYN8_stop_0022', 0),\n",
       " ('GLYN8_stop_0080', 'GLYN8_stop_0182', 0),\n",
       " ('GLYN8_stop_0080', 'GLYN8_stop_0238', 0),\n",
       " ('GLYN8_stop_0067', 'GLYN8_stop_0050', 0),\n",
       " ('GLYN8_stop_0067', 'GLYN8_stop_0020', 0),\n",
       " ('GLYN8_stop_0067', 'GLYN8_stop_0102', 0),\n",
       " ('GLYN8_stop_0067', 'GLYN8_stop_0251', 0),\n",
       " ('GLYN8_stop_0028', 'GLYN8_stop_0214', 0),\n",
       " ('GLYN8_stop_0123', 'GLYN8_stop_0004', 0),\n",
       " ('GLYN8_stop_0207', 'GLYN8_stop_0046', 0),\n",
       " ('GLYN8_stop_0196', 'GLYN8_stop_0006', 0),\n",
       " ('GLYN8_stop_0198', 'GLYN8_stop_0264', 0),\n",
       " ('GLYN8_stop_0260', 'GLYN8_stop_0239', 0),\n",
       " ('GLYN8_stop_0260', 'GLYN8_stop_0127', 0),\n",
       " ('GLYN8_stop_0203', 'GLYN8_stop_0065', 0),\n",
       " ('GLYN8_stop_0203', 'GLYN8_stop_0253', 0),\n",
       " ('GLYN8_stop_0118', 'GLYN8_stop_0036', 0),\n",
       " ('GLYN8_stop_0251', 'GLYN8_stop_0102', 0),\n",
       " ('GLYN8_stop_0187', 'GLYN8_stop_0025', 0),\n",
       " ('GLYN8_stop_0180', 'GLYN8_stop_0094', 0),\n",
       " ('GLYN8_stop_0173', 'GLYN8_stop_0219', 0),\n",
       " ('GLYN8_stop_0057', 'GLYN8_stop_0262', 0),\n",
       " ('GLYN8_stop_0186', 'GLYN8_stop_0227', 0),\n",
       " ('GLYN8_stop_0012', 'GLYN8_stop_0039', 0),\n",
       " ('GLYN8_stop_0147', 'GLYN8_stop_0068', 0),\n",
       " ('GLYN8_stop_0147', 'GLYN8_stop_0168', 0),\n",
       " ('GLYN8_stop_0049', 'GLYN8_stop_0021', 0),\n",
       " ('GLYN8_stop_0208', 'GLYN8_stop_0091', 0),\n",
       " ('GLYN8_stop_0208', 'GLYN8_stop_0097', 0),\n",
       " ('GLYN8_stop_0120', 'GLYN8_stop_0095', 0),\n",
       " ('GLYN8_stop_0211', 'GLYN8_stop_0248', 0),\n",
       " ('GLYN8_stop_0149', 'GLYN8_stop_0162', 0),\n",
       " ('GLYN8_stop_0149', 'GLYN8_stop_0203', 0),\n",
       " ('GLYN8_stop_0149', 'GLYN8_stop_0065', 0),\n",
       " ('GLYN8_stop_0069', 'GLYN8_stop_0171', 0),\n",
       " ('GLYN8_stop_0058', 'GLYN8_stop_0180', 0),\n",
       " ('GLYN8_stop_0058', 'GLYN8_stop_0252', 0),\n",
       " ('GLYN8_stop_0058', 'GLYN8_stop_0094', 0),\n",
       " ('GLYN8_stop_0050', 'GLYN8_stop_0109', 0),\n",
       " ('GLYN8_stop_0050', 'GLYN8_stop_0114', 0),\n",
       " ('GLYN8_stop_0021', 'GLYN8_stop_0254', 0),\n",
       " ('GLYN8_stop_0140', 'GLYN8_stop_0144', 0),\n",
       " ('GLYN8_stop_0140', 'GLYN8_stop_0197', 0),\n",
       " ('GLYN8_stop_0140', 'GLYN8_stop_0135', 0),\n",
       " ('GLYN8_stop_0182', 'GLYN8_stop_0258', 0),\n",
       " ('GLYN8_stop_0182', 'GLYN8_stop_0072', 0),\n",
       " ('GLYN8_stop_0117', 'GLYN8_stop_0062', 0),\n",
       " ('GLYN8_stop_0091', 'GLYN8_stop_0262', 0),\n",
       " ('GLYN8_stop_0091', 'GLYN8_stop_0124', 0),\n",
       " ('GLYN8_stop_0239', 'GLYN8_stop_0088', 0),\n",
       " ('GLYN8_stop_0071', 'GLYN8_stop_0020', 0),\n",
       " ('GLYN8_stop_0152', 'GLYN8_stop_0023', 0),\n",
       " ('GLYN8_stop_0136', 'GLYN8_stop_0235', 0),\n",
       " ('GLYN8_stop_0248', 'GLYN8_stop_0163', 0),\n",
       " ('GLYN8_stop_0061', 'GLYN8_stop_0255', 0),\n",
       " ('GLYN8_stop_0043', 'GLYN8_stop_0033', 0),\n",
       " ('GLYN8_stop_0046', 'GLYN8_stop_0256', 0),\n",
       " ('GLYN8_stop_0046', 'GLYN8_stop_0175', 0),\n",
       " ('GLYN8_stop_0088', 'GLYN8_stop_0116', 0),\n",
       " ('GLYN8_stop_0111', 'GLYN8_stop_0159', 0),\n",
       " ('GLYN8_stop_0157', 'GLYN8_stop_0119', 0),\n",
       " ('GLYN8_stop_0011', 'GLYN8_stop_0247', 0),\n",
       " ('GLYN8_stop_0145', 'GLYN8_stop_0012', 0),\n",
       " ('GLYN8_stop_0148', 'GLYN8_stop_0236', 0),\n",
       " ('GLYN8_stop_0116', 'GLYN8_stop_0010', 0),\n",
       " ('GLYN8_stop_0247', 'GLYN8_stop_0208', 0),\n",
       " ('GLYN8_stop_0174', 'GLYN8_stop_0164', 0),\n",
       " ('GLYN8_stop_0200', 'GLYN8_stop_0156', 0),\n",
       " ('GLYN8_stop_0039', 'GLYN8_stop_0191', 0),\n",
       " ('GLYN8_stop_0039', 'GLYN8_stop_0028', 0),\n",
       " ('GLYN8_stop_0104', 'GLYN8_stop_0121', 0),\n",
       " ('GLYN8_stop_0104', 'GLYN8_stop_0022', 0),\n",
       " ('GLYN8_stop_0193', 'GLYN8_stop_0053', 0),\n",
       " ('GLYN8_stop_0193', 'GLYN8_stop_0215', 0),\n",
       " ('GLYN8_stop_0193', 'GLYN8_stop_0261', 0),\n",
       " ('GLYN8_stop_0034', 'GLYN8_stop_0009', 0),\n",
       " ('GLYN8_stop_0034', 'GLYN8_stop_0137', 0),\n",
       " ('GLYN8_stop_0034', 'GLYN8_stop_0222', 0),\n",
       " ('GLYN8_stop_0035', 'GLYN8_stop_0110', 0),\n",
       " ('GLYN8_stop_0107', 'GLYN8_stop_0179', 0),\n",
       " ('GLYN8_stop_0092', 'GLYN8_stop_0149', 0),\n",
       " ('GLYN8_stop_0081', 'GLYN8_stop_0194', 0),\n",
       " ('GLYN8_stop_0072', 'GLYN8_stop_0026', 0),\n",
       " ('GLYN8_stop_0072', 'GLYN8_stop_0238', 0),\n",
       " ('GLYN8_stop_0006', 'GLYN8_stop_0161', 0),\n",
       " ('GLYN8_stop_0096', 'GLYN8_stop_0126', 0),\n",
       " ('GLYN8_stop_0018', 'GLYN8_stop_0153', 0),\n",
       " ('GLYN8_stop_0003', 'GLYN8_stop_0152', 0),\n",
       " ('GLYN8_stop_0003', 'GLYN8_stop_0023', 0),\n",
       " ('GLYN8_stop_0218', 'GLYN8_stop_0002', 0),\n",
       " ('GLYN8_stop_0218', 'GLYN8_stop_0246', 0),\n",
       " ('GLYN8_stop_0218', 'GLYN8_stop_0075', 0),\n",
       " ('GLYN8_stop_0095', 'GLYN8_stop_0248', 0),\n",
       " ('GLYN8_stop_0095', 'GLYN8_stop_0211', 0),\n",
       " ('GLYN8_stop_0094', 'GLYN8_stop_0170', 0),\n",
       " ('GLYN8_stop_0094', 'GLYN8_stop_0165', 0),\n",
       " ('GLYN8_stop_0112', 'GLYN8_stop_0067', 0),\n",
       " ('GLYN8_stop_0052', 'GLYN8_stop_0207', 0),\n",
       " ('GLYN8_stop_0020', 'GLYN8_stop_0050', 0),\n",
       " ('GLYN8_stop_0020', 'GLYN8_stop_0189', 0),\n",
       " ('GLYN8_stop_0020', 'GLYN8_stop_0204', 0),\n",
       " ('GLYN8_stop_0078', 'GLYN8_stop_0223', 0),\n",
       " ('GLYN8_stop_0188', 'GLYN8_stop_0222', 0),\n",
       " ('GLYN8_stop_0004', 'GLYN8_stop_0041', 0),\n",
       " ('GLYN8_stop_0221', 'GLYN8_stop_0231', 0),\n",
       " ('GLYN8_stop_0077', 'GLYN8_stop_0138', 0),\n",
       " ('GLYN8_stop_0098', 'GLYN8_stop_0131', 0),\n",
       " ('GLYN8_stop_0242', 'GLYN8_stop_0148', 0),\n",
       " ('GLYN8_stop_0161', 'GLYN8_stop_0184', 0),\n",
       " ('GLYN8_stop_0161', 'GLYN8_stop_0083', 0),\n",
       " ('GLYN8_stop_0053', 'GLYN8_stop_0234', 0),\n",
       " ('GLYN8_stop_0053', 'GLYN8_stop_0005', 0),\n",
       " ('GLYN8_stop_0263', 'GLYN8_stop_0160', 0),\n",
       " ('GLYN8_stop_0175', 'GLYN8_stop_0098', 0),\n",
       " ('GLYN8_stop_0051', 'GLYN8_stop_0106', 0),\n",
       " ('GLYN8_stop_0184', 'GLYN8_stop_0077', 0),\n",
       " ('GLYN8_stop_0102', 'GLYN8_stop_0020', 0),\n",
       " ('GLYN8_stop_0236', 'GLYN8_stop_0018', 0),\n",
       " ('GLYN8_stop_0214', 'GLYN8_stop_0191', 0),\n",
       " ('GLYN8_stop_0246', 'GLYN8_stop_0092', 0),\n",
       " ('GLYN8_stop_0246', 'GLYN8_stop_0149', 0),\n",
       " ('GLYN8_stop_0047', 'GLYN8_stop_0117', 0),\n",
       " ('GLYN8_stop_0153', 'GLYN8_stop_0167', 0),\n",
       " ('GLYN8_stop_0131', 'GLYN8_stop_0147', 0),\n",
       " ('GLYN8_stop_0131', 'GLYN8_stop_0034', 0),\n",
       " ('GLYN8_stop_0131', 'GLYN8_stop_0044', 0),\n",
       " ('GLYN8_stop_0131', 'GLYN8_stop_0259', 0),\n",
       " ('GLYN8_stop_0066', 'GLYN8_stop_0081', 0),\n",
       " ('GLYN8_stop_0249', 'GLYN8_stop_0221', 0),\n",
       " ('GLYN8_stop_0258', 'GLYN8_stop_0024', 0),\n",
       " ('GLYN8_stop_0068', 'GLYN8_stop_0034', 0),\n",
       " ('GLYN8_stop_0238', 'GLYN8_stop_0038', 0),\n",
       " ('GLYN8_stop_0238', 'GLYN8_stop_0258', 0),\n",
       " ('GLYN8_stop_0238', 'GLYN8_stop_0229', 0),\n",
       " ('GLYN8_stop_0128', 'GLYN8_stop_0230', 0),\n",
       " ('GLYN8_stop_0128', 'GLYN8_stop_0090', 0),\n",
       " ('GLYN8_stop_0045', 'GLYN8_stop_0053', 0),\n",
       " ('GLYN8_stop_0127', 'GLYN8_stop_0039', 0),\n",
       " ('GLYN8_stop_0016', 'GLYN8_stop_0079', 0),\n",
       " ('GLYN8_stop_0261', 'GLYN8_stop_0045', 0),\n",
       " ('GLYN8_stop_0031', 'GLYN8_stop_0089', 0),\n",
       " ('GLYN8_stop_0097', 'GLYN8_stop_0091', 0),\n",
       " ('GLYN8_stop_0213', 'GLYN8_stop_0130', 0),\n",
       " ('GLYN8_stop_0213', 'GLYN8_stop_0237', 0),\n",
       " ('GLYN8_stop_0216', 'GLYN8_stop_0067', 0),\n",
       " ('GLYN8_stop_0225', 'GLYN8_stop_0233', 0),\n",
       " ('GLYN8_stop_0202', 'GLYN8_stop_0209', 0),\n",
       " ('GLYN8_stop_0075', 'GLYN8_stop_0246', 0),\n",
       " ('GLYN8_stop_0243', 'GLYN8_stop_0128', 0),\n",
       " ('GLYN8_stop_0253', 'GLYN8_stop_0043', 0),\n",
       " ('GLYN8_stop_0170', 'GLYN8_stop_0193', 0),\n",
       " ('GLYN8_stop_0048', 'GLYN8_stop_0057', 0),\n",
       " ('GLYN8_stop_0065', 'GLYN8_stop_0206', 0),\n",
       " ('GLYN8_stop_0065', 'GLYN8_stop_0029', 0),\n",
       " ('GLYN8_stop_0108', 'GLYN8_stop_0049', 0),\n",
       " ('GLYN8_stop_0042', 'GLYN8_stop_0108', 0),\n",
       " ('GLYN8_stop_0062', 'GLYN8_stop_0263', 0),\n",
       " ('GLYN8_stop_0109', 'GLYN8_stop_0143', 0),\n",
       " ('GLYN8_stop_0109', 'GLYN8_stop_0056', 0),\n",
       " ('GLYN8_stop_0109', 'GLYN8_stop_0100', 0),\n",
       " ('GLYN8_stop_0163', 'GLYN8_stop_0131', 0),\n",
       " ('GLYN8_stop_0163', 'GLYN8_stop_0098', 0),\n",
       " ('GLYN8_stop_0113', 'GLYN8_stop_0037', 0),\n",
       " ('GLYN8_stop_0171', 'GLYN8_stop_0232', 0),\n",
       " ('GLYN8_stop_0030', 'GLYN8_stop_0019', 0),\n",
       " ('GLYN8_stop_0030', 'GLYN8_stop_0016', 0),\n",
       " ('GLYN8_stop_0223', 'GLYN8_stop_0242', 0),\n",
       " ('GLYN8_stop_0168', 'GLYN8_stop_0034', 0),\n",
       " ('GLYN8_stop_0168', 'GLYN8_stop_0068', 0),\n",
       " ('GLYN8_stop_0106', 'GLYN8_stop_0055', 0),\n",
       " ('GLYN8_stop_0134', 'GLYN8_stop_0095', 0),\n",
       " ('GLYN8_stop_0177', 'GLYN8_stop_0215', 0),\n",
       " ('GLYN8_stop_0084', 'GLYN8_stop_0069', 0),\n",
       " ('GLYN8_stop_0164', 'GLYN8_stop_0080', 0),\n",
       " ('GLYN8_stop_0093', 'GLYN8_stop_0245', 0),\n",
       " ('GLYN8_stop_0093', 'GLYN8_stop_0243', 0),\n",
       " ('GLYN8_stop_0130', 'GLYN8_stop_0218', 0),\n",
       " ('GLYN8_stop_0241', 'GLYN8_stop_0007', 0),\n",
       " ('GLYN8_stop_0002', 'GLYN8_stop_0075', 0),\n",
       " ('GLYN8_stop_0142', 'GLYN8_stop_0186', 0),\n",
       " ('GLYN8_stop_0056', 'GLYN8_stop_0100', 0),\n",
       " ('GLYN8_stop_0056', 'GLYN8_stop_0066', 0),\n",
       " ('GLYN8_stop_0245', 'GLYN8_stop_0243', 0),\n",
       " ('GLYN8_stop_0022', 'GLYN8_stop_0017', 0),\n",
       " ('GLYN8_stop_0022', 'GLYN8_stop_0076', 0),\n",
       " ('GLYN8_stop_0055', 'GLYN8_stop_0073', 0),\n",
       " ('GLYN8_stop_0055', 'GLYN8_stop_0195', 0),\n",
       " ('GLYN8_stop_0101', 'GLYN8_stop_0164', 0),\n",
       " ('GLYN8_stop_0121', 'GLYN8_stop_0183', 0),\n",
       " ('GLYN8_stop_0033', 'GLYN8_stop_0206', 0),\n",
       " ('GLYN8_stop_0159', 'GLYN8_stop_0125', 0),\n",
       " ('GLYN8_stop_0156', 'GLYN8_stop_0123', 0),\n",
       " ('GLYN8_stop_0124', 'GLYN8_stop_0035', 0),\n",
       " ('GLYN8_stop_0132', 'GLYN8_stop_0046', 0),\n",
       " ('GLYN8_stop_0132', 'GLYN8_stop_0052', 0)]"
      ]
     },
     "execution_count": 168,
     "metadata": {},
     "output_type": "execute_result"
    }
   ],
   "source": [
    "list(G.edges)"
   ]
  },
  {
   "cell_type": "code",
   "execution_count": 169,
   "metadata": {},
   "outputs": [],
   "source": [
    "#list(G.edges(data='True'))"
   ]
  },
  {
   "cell_type": "code",
   "execution_count": 170,
   "metadata": {},
   "outputs": [
    {
     "data": {
      "text/plain": [
       "261"
      ]
     },
     "execution_count": 170,
     "metadata": {},
     "output_type": "execute_result"
    }
   ],
   "source": [
    "len(G.nodes)"
   ]
  },
  {
   "cell_type": "markdown",
   "metadata": {},
   "source": [
    "### Inspect edge data, and you should see the length attribute, which is the time in seconds needs to traverse an edge. The trips attribute represents how many trips cross that edge."
   ]
  },
  {
   "cell_type": "code",
   "execution_count": 171,
   "metadata": {},
   "outputs": [
    {
     "name": "stdout",
     "output_type": "stream",
     "text": [
      "{0: {'length': 2119.0, 'trips': 1, 'mode': 'transit'}}\n",
      "{0: {'length': 1462.0, 'trips': 1, 'mode': 'transit'}}\n",
      "{0: {'length': 74.0, 'trips': 2, 'mode': 'transit'}}\n",
      "{0: {'length': 122.0, 'trips': 1, 'mode': 'transit'}}\n",
      "{0: {'length': 706.0, 'trips': 1, 'mode': 'transit'}}\n",
      "{0: {'length': 1213.0, 'trips': 1, 'mode': 'transit'}}\n",
      "{0: {'length': 648.0, 'trips': 1, 'mode': 'transit'}}\n",
      "{0: {'length': 1257.0, 'trips': 1, 'mode': 'transit'}}\n",
      "{0: {'length': 2657.0, 'trips': 1, 'mode': 'transit'}}\n",
      "{0: {'length': 100.0, 'trips': 1, 'mode': 'transit'}}\n",
      "{0: {'length': 145.33333333333334, 'trips': 3, 'mode': 'transit'}}\n",
      "{0: {'length': 61.0, 'trips': 1, 'mode': 'transit'}}\n",
      "{0: {'length': 16.0, 'trips': 1, 'mode': 'transit'}}\n",
      "{0: {'length': 242.0, 'trips': 1, 'mode': 'transit'}}\n",
      "{0: {'length': 487.0, 'trips': 1, 'mode': 'transit'}}\n",
      "{0: {'length': 142.0, 'trips': 1, 'mode': 'transit'}}\n",
      "{0: {'length': 22.0, 'trips': 1, 'mode': 'transit'}}\n",
      "{0: {'length': 71.0, 'trips': 1, 'mode': 'transit'}}\n",
      "{0: {'length': 71.0, 'trips': 1, 'mode': 'transit'}}\n",
      "{0: {'length': 33.0, 'trips': 1, 'mode': 'transit'}}\n",
      "{0: {'length': 94.0, 'trips': 1, 'mode': 'transit'}}\n",
      "{0: {'length': 63.0, 'trips': 1, 'mode': 'transit'}}\n",
      "{0: {'length': 33.5, 'trips': 2, 'mode': 'transit'}}\n",
      "{0: {'length': 177.0, 'trips': 1, 'mode': 'transit'}}\n",
      "{0: {'length': 611.0, 'trips': 1, 'mode': 'transit'}}\n",
      "{0: {'length': 45.5, 'trips': 2, 'mode': 'transit'}}\n",
      "{0: {'length': 55.0, 'trips': 1, 'mode': 'transit'}}\n",
      "{0: {'length': 138.0, 'trips': 1, 'mode': 'transit'}}\n",
      "{0: {'length': 126.0, 'trips': 1, 'mode': 'transit'}}\n",
      "{0: {'length': 22.0, 'trips': 1, 'mode': 'transit'}}\n",
      "{0: {'length': 96.0, 'trips': 1, 'mode': 'transit'}}\n",
      "{0: {'length': 156.0, 'trips': 1, 'mode': 'transit'}}\n",
      "{0: {'length': 85.0, 'trips': 1, 'mode': 'transit'}}\n",
      "{0: {'length': 83.0, 'trips': 2, 'mode': 'transit'}}\n",
      "{0: {'length': 57.0, 'trips': 1, 'mode': 'transit'}}\n",
      "{0: {'length': 1736.0, 'trips': 1, 'mode': 'transit'}}\n",
      "{0: {'length': 391.0, 'trips': 1, 'mode': 'transit'}}\n",
      "{0: {'length': 32.5, 'trips': 2, 'mode': 'transit'}}\n",
      "{0: {'length': 14.0, 'trips': 1, 'mode': 'transit'}}\n",
      "{0: {'length': 30.0, 'trips': 1, 'mode': 'transit'}}\n",
      "{0: {'length': 220.5, 'trips': 2, 'mode': 'transit'}}\n",
      "{0: {'length': 67.33333333333333, 'trips': 3, 'mode': 'transit'}}\n",
      "{0: {'length': 161.0, 'trips': 2, 'mode': 'transit'}}\n",
      "{0: {'length': 88.0, 'trips': 1, 'mode': 'transit'}}\n",
      "{0: {'length': 627.0, 'trips': 1, 'mode': 'transit'}}\n",
      "{0: {'length': 108.5, 'trips': 4, 'mode': 'transit'}}\n",
      "{0: {'length': 137.0, 'trips': 1, 'mode': 'transit'}}\n",
      "{0: {'length': 83.0, 'trips': 1, 'mode': 'transit'}}\n",
      "{0: {'length': 154.0, 'trips': 1, 'mode': 'transit'}}\n",
      "{0: {'length': 107.0, 'trips': 1, 'mode': 'transit'}}\n",
      "{0: {'length': 61.0, 'trips': 1, 'mode': 'transit'}}\n",
      "{0: {'length': 235.0, 'trips': 1, 'mode': 'transit'}}\n",
      "{0: {'length': 61.0, 'trips': 1, 'mode': 'transit'}}\n",
      "{0: {'length': 257.0, 'trips': 1, 'mode': 'transit'}}\n",
      "{0: {'length': 196.0, 'trips': 1, 'mode': 'transit'}}\n",
      "{0: {'length': 102.0, 'trips': 1, 'mode': 'transit'}}\n",
      "{0: {'length': 247.0, 'trips': 1, 'mode': 'transit'}}\n",
      "{0: {'length': 215.0, 'trips': 1, 'mode': 'transit'}}\n",
      "{0: {'length': 987.0, 'trips': 1, 'mode': 'transit'}}\n",
      "{0: {'length': 18.0, 'trips': 1, 'mode': 'transit'}}\n",
      "{0: {'length': 65.0, 'trips': 1, 'mode': 'transit'}}\n",
      "{0: {'length': 41.0, 'trips': 1, 'mode': 'transit'}}\n",
      "{0: {'length': 51.0, 'trips': 1, 'mode': 'transit'}}\n",
      "{0: {'length': 52.0, 'trips': 1, 'mode': 'transit'}}\n",
      "{0: {'length': 1027.0, 'trips': 1, 'mode': 'transit'}}\n",
      "{0: {'length': 137.0, 'trips': 2, 'mode': 'transit'}}\n",
      "{0: {'length': 47.0, 'trips': 1, 'mode': 'transit'}}\n",
      "{0: {'length': 275.0, 'trips': 1, 'mode': 'transit'}}\n",
      "{0: {'length': 811.0, 'trips': 1, 'mode': 'transit'}}\n",
      "{0: {'length': 1801.0, 'trips': 1, 'mode': 'transit'}}\n",
      "{0: {'length': 76.0, 'trips': 1, 'mode': 'transit'}}\n",
      "{0: {'length': 129.0, 'trips': 2, 'mode': 'transit'}}\n",
      "{0: {'length': 42.0, 'trips': 1, 'mode': 'transit'}}\n",
      "{0: {'length': 106.5, 'trips': 2, 'mode': 'transit'}}\n",
      "{0: {'length': 277.0, 'trips': 1, 'mode': 'transit'}}\n",
      "{0: {'length': 167.0, 'trips': 1, 'mode': 'transit'}}\n",
      "{0: {'length': 125.0, 'trips': 1, 'mode': 'transit'}}\n",
      "{0: {'length': 604.0, 'trips': 1, 'mode': 'transit'}}\n",
      "{0: {'length': 72.0, 'trips': 1, 'mode': 'transit'}}\n",
      "{0: {'length': 120.0, 'trips': 1, 'mode': 'transit'}}\n",
      "{0: {'length': 128.0, 'trips': 1, 'mode': 'transit'}}\n",
      "{0: {'length': 309.0, 'trips': 1, 'mode': 'transit'}}\n",
      "{0: {'length': 39.0, 'trips': 2, 'mode': 'transit'}}\n",
      "{0: {'length': 86.0, 'trips': 1, 'mode': 'transit'}}\n",
      "{0: {'length': 24.0, 'trips': 2, 'mode': 'transit'}}\n",
      "{0: {'length': 99.0, 'trips': 1, 'mode': 'transit'}}\n",
      "{0: {'length': 90.0, 'trips': 1, 'mode': 'transit'}}\n",
      "{0: {'length': 40.0, 'trips': 1, 'mode': 'transit'}}\n",
      "{0: {'length': 116.0, 'trips': 1, 'mode': 'transit'}}\n",
      "{0: {'length': 121.0, 'trips': 1, 'mode': 'transit'}}\n",
      "{0: {'length': 70.0, 'trips': 1, 'mode': 'transit'}}\n",
      "{0: {'length': 309.0, 'trips': 1, 'mode': 'transit'}}\n",
      "{0: {'length': 228.0, 'trips': 1, 'mode': 'transit'}}\n",
      "{0: {'length': 78.0, 'trips': 1, 'mode': 'transit'}}\n",
      "{0: {'length': 69.5, 'trips': 2, 'mode': 'transit'}}\n",
      "{0: {'length': 100.0, 'trips': 1, 'mode': 'transit'}}\n",
      "{0: {'length': 94.0, 'trips': 1, 'mode': 'transit'}}\n",
      "{0: {'length': 76.0, 'trips': 1, 'mode': 'transit'}}\n",
      "{0: {'length': 39.0, 'trips': 1, 'mode': 'transit'}}\n",
      "{0: {'length': 153.0, 'trips': 1, 'mode': 'transit'}}\n",
      "{0: {'length': 24.0, 'trips': 1, 'mode': 'transit'}}\n",
      "{0: {'length': 269.0, 'trips': 1, 'mode': 'transit'}}\n",
      "{0: {'length': 76.0, 'trips': 1, 'mode': 'transit'}}\n",
      "{0: {'length': 57.5, 'trips': 2, 'mode': 'transit'}}\n",
      "{0: {'length': 2905.0, 'trips': 1, 'mode': 'transit'}}\n",
      "{0: {'length': 197.0, 'trips': 1, 'mode': 'transit'}}\n",
      "{0: {'length': 49.0, 'trips': 3, 'mode': 'transit'}}\n",
      "{0: {'length': 122.0, 'trips': 1, 'mode': 'transit'}}\n",
      "{0: {'length': 122.0, 'trips': 1, 'mode': 'transit'}}\n",
      "{0: {'length': 80.0, 'trips': 1, 'mode': 'transit'}}\n",
      "{0: {'length': 66.25, 'trips': 4, 'mode': 'transit'}}\n",
      "{0: {'length': 345.0, 'trips': 1, 'mode': 'transit'}}\n",
      "{0: {'length': 424.0, 'trips': 1, 'mode': 'transit'}}\n",
      "{0: {'length': 732.0, 'trips': 1, 'mode': 'transit'}}\n",
      "{0: {'length': 41.0, 'trips': 1, 'mode': 'transit'}}\n",
      "{0: {'length': 44.0, 'trips': 1, 'mode': 'transit'}}\n",
      "{0: {'length': 34.5, 'trips': 2, 'mode': 'transit'}}\n",
      "{0: {'length': 113.0, 'trips': 1, 'mode': 'transit'}}\n",
      "{0: {'length': 36.0, 'trips': 2, 'mode': 'transit'}}\n",
      "{0: {'length': 806.0, 'trips': 1, 'mode': 'transit'}}\n",
      "{0: {'length': 94.5, 'trips': 2, 'mode': 'transit'}}\n",
      "{0: {'length': 56.0, 'trips': 1, 'mode': 'transit'}}\n",
      "{0: {'length': 34.0, 'trips': 1, 'mode': 'transit'}}\n",
      "{0: {'length': 422.0, 'trips': 1, 'mode': 'transit'}}\n",
      "{0: {'length': 44.0, 'trips': 1, 'mode': 'transit'}}\n",
      "{0: {'length': 116.0, 'trips': 1, 'mode': 'transit'}}\n",
      "{0: {'length': 20.0, 'trips': 1, 'mode': 'transit'}}\n",
      "{0: {'length': 268.0, 'trips': 1, 'mode': 'transit'}}\n",
      "{0: {'length': 310.0, 'trips': 1, 'mode': 'transit'}}\n",
      "{0: {'length': 48.0, 'trips': 2, 'mode': 'transit'}}\n",
      "{0: {'length': 86.0, 'trips': 1, 'mode': 'transit'}}\n",
      "{0: {'length': 426.0, 'trips': 1, 'mode': 'transit'}}\n",
      "{0: {'length': 218.0, 'trips': 1, 'mode': 'transit'}}\n",
      "{0: {'length': 618.0, 'trips': 1, 'mode': 'transit'}}\n",
      "{0: {'length': 45.0, 'trips': 1, 'mode': 'transit'}}\n",
      "{0: {'length': 402.0, 'trips': 1, 'mode': 'transit'}}\n",
      "{0: {'length': 16.0, 'trips': 1, 'mode': 'transit'}}\n",
      "{0: {'length': 338.5, 'trips': 2, 'mode': 'transit'}}\n",
      "{0: {'length': 222.0, 'trips': 1, 'mode': 'transit'}}\n",
      "{0: {'length': 145.0, 'trips': 1, 'mode': 'transit'}}\n",
      "{0: {'length': 852.0, 'trips': 1, 'mode': 'transit'}}\n",
      "{0: {'length': 72.0, 'trips': 1, 'mode': 'transit'}}\n",
      "{0: {'length': 59.5, 'trips': 2, 'mode': 'transit'}}\n",
      "{0: {'length': 436.0, 'trips': 1, 'mode': 'transit'}}\n",
      "{0: {'length': 150.0, 'trips': 2, 'mode': 'transit'}}\n",
      "{0: {'length': 126.0, 'trips': 1, 'mode': 'transit'}}\n",
      "{0: {'length': 179.0, 'trips': 1, 'mode': 'transit'}}\n",
      "{0: {'length': 489.0, 'trips': 1, 'mode': 'transit'}}\n",
      "{0: {'length': 63.0, 'trips': 2, 'mode': 'transit'}}\n",
      "{0: {'length': 137.0, 'trips': 1, 'mode': 'transit'}}\n",
      "{0: {'length': 135.0, 'trips': 1, 'mode': 'transit'}}\n",
      "{0: {'length': 82.0, 'trips': 1, 'mode': 'transit'}}\n",
      "{0: {'length': 30.0, 'trips': 1, 'mode': 'transit'}}\n",
      "{0: {'length': 22.0, 'trips': 1, 'mode': 'transit'}}\n",
      "{0: {'length': 136.0, 'trips': 1, 'mode': 'transit'}}\n",
      "{0: {'length': 213.0, 'trips': 1, 'mode': 'transit'}}\n",
      "{0: {'length': 66.5, 'trips': 2, 'mode': 'transit'}}\n",
      "{0: {'length': 41.0, 'trips': 2, 'mode': 'transit'}}\n",
      "{0: {'length': 15.0, 'trips': 1, 'mode': 'transit'}}\n",
      "{0: {'length': 91.0, 'trips': 1, 'mode': 'transit'}}\n",
      "{0: {'length': 138.0, 'trips': 1, 'mode': 'transit'}}\n",
      "{0: {'length': 112.0, 'trips': 1, 'mode': 'transit'}}\n",
      "{0: {'length': 34.5, 'trips': 2, 'mode': 'transit'}}\n",
      "{0: {'length': 561.0, 'trips': 1, 'mode': 'transit'}}\n",
      "{0: {'length': 26.0, 'trips': 1, 'mode': 'transit'}}\n",
      "{0: {'length': 80.0, 'trips': 1, 'mode': 'transit'}}\n",
      "{0: {'length': 44.0, 'trips': 1, 'mode': 'transit'}}\n",
      "{0: {'length': 170.0, 'trips': 1, 'mode': 'transit'}}\n",
      "{0: {'length': 105.0, 'trips': 1, 'mode': 'transit'}}\n",
      "{0: {'length': 186.0, 'trips': 1, 'mode': 'transit'}}\n",
      "{0: {'length': 75.0, 'trips': 1, 'mode': 'transit'}}\n",
      "{0: {'length': 66.0, 'trips': 1, 'mode': 'transit'}}\n",
      "{0: {'length': 37.5, 'trips': 2, 'mode': 'transit'}}\n",
      "{0: {'length': 76.0, 'trips': 1, 'mode': 'transit'}}\n",
      "{0: {'length': 66.0, 'trips': 1, 'mode': 'transit'}}\n",
      "{0: {'length': 53.0, 'trips': 1, 'mode': 'transit'}}\n",
      "{0: {'length': 73.0, 'trips': 1, 'mode': 'transit'}}\n",
      "{0: {'length': 26.5, 'trips': 2, 'mode': 'transit'}}\n",
      "{0: {'length': 64.0, 'trips': 1, 'mode': 'transit'}}\n",
      "{0: {'length': 50.666666666666664, 'trips': 3, 'mode': 'transit'}}\n",
      "{0: {'length': 92.0, 'trips': 1, 'mode': 'transit'}}\n",
      "{0: {'length': 298.0, 'trips': 1, 'mode': 'transit'}}\n",
      "{0: {'length': 152.0, 'trips': 1, 'mode': 'transit'}}\n",
      "{0: {'length': 34.0, 'trips': 1, 'mode': 'transit'}}\n",
      "{0: {'length': 80.0, 'trips': 1, 'mode': 'transit'}}\n",
      "{0: {'length': 58.0, 'trips': 2, 'mode': 'transit'}}\n",
      "{0: {'length': 34.0, 'trips': 1, 'mode': 'transit'}}\n",
      "{0: {'length': 35.0, 'trips': 1, 'mode': 'transit'}}\n",
      "{0: {'length': 98.0, 'trips': 1, 'mode': 'transit'}}\n",
      "{0: {'length': 51.0, 'trips': 1, 'mode': 'transit'}}\n",
      "{0: {'length': 142.0, 'trips': 1, 'mode': 'transit'}}\n",
      "{0: {'length': 198.0, 'trips': 1, 'mode': 'transit'}}\n",
      "{0: {'length': 79.0, 'trips': 1, 'mode': 'transit'}}\n",
      "{0: {'length': 536.0, 'trips': 1, 'mode': 'transit'}}\n",
      "{0: {'length': 494.0, 'trips': 1, 'mode': 'transit'}}\n",
      "{0: {'length': 32.0, 'trips': 1, 'mode': 'transit'}}\n",
      "{0: {'length': 850.0, 'trips': 1, 'mode': 'transit'}}\n",
      "{0: {'length': 218.0, 'trips': 1, 'mode': 'transit'}}\n",
      "{0: {'length': 249.0, 'trips': 1, 'mode': 'transit'}}\n",
      "{0: {'length': 98.0, 'trips': 1, 'mode': 'transit'}}\n",
      "{0: {'length': 55.0, 'trips': 3, 'mode': 'transit'}}\n",
      "{0: {'length': 1085.0, 'trips': 1, 'mode': 'transit'}}\n",
      "{0: {'length': 40.5, 'trips': 2, 'mode': 'transit'}}\n",
      "{0: {'length': 117.33333333333333, 'trips': 3, 'mode': 'transit'}}\n",
      "{0: {'length': 103.0, 'trips': 1, 'mode': 'transit'}}\n",
      "{0: {'length': 243.0, 'trips': 1, 'mode': 'transit'}}\n",
      "{0: {'length': 123.0, 'trips': 1, 'mode': 'transit'}}\n",
      "{0: {'length': 292.0, 'trips': 1, 'mode': 'transit'}}\n",
      "{0: {'length': 38.0, 'trips': 1, 'mode': 'transit'}}\n",
      "{0: {'length': 11.0, 'trips': 1, 'mode': 'transit'}}\n",
      "{0: {'length': 34.0, 'trips': 1, 'mode': 'transit'}}\n",
      "{0: {'length': 102.0, 'trips': 1, 'mode': 'transit'}}\n",
      "{0: {'length': 65.0, 'trips': 1, 'mode': 'transit'}}\n",
      "{0: {'length': 84.0, 'trips': 1, 'mode': 'transit'}}\n",
      "{0: {'length': 64.0, 'trips': 1, 'mode': 'transit'}}\n",
      "{0: {'length': 358.0, 'trips': 1, 'mode': 'transit'}}\n",
      "{0: {'length': 38.0, 'trips': 1, 'mode': 'transit'}}\n",
      "{0: {'length': 32.0, 'trips': 1, 'mode': 'transit'}}\n",
      "{0: {'length': 648.0, 'trips': 1, 'mode': 'transit'}}\n",
      "{0: {'length': 150.0, 'trips': 1, 'mode': 'transit'}}\n",
      "{0: {'length': 172.0, 'trips': 1, 'mode': 'transit'}}\n",
      "{0: {'length': 99.0, 'trips': 1, 'mode': 'transit'}}\n",
      "{0: {'length': 70.0, 'trips': 3, 'mode': 'transit'}}\n",
      "{0: {'length': 84.0, 'trips': 1, 'mode': 'transit'}}\n",
      "{0: {'length': 194.0, 'trips': 1, 'mode': 'transit'}}\n",
      "{0: {'length': 52.0, 'trips': 1, 'mode': 'transit'}}\n",
      "{0: {'length': 83.0, 'trips': 1, 'mode': 'transit'}}\n",
      "{0: {'length': 37.333333333333336, 'trips': 3, 'mode': 'transit'}}\n",
      "{0: {'length': 103.0, 'trips': 3, 'mode': 'transit'}}\n",
      "{0: {'length': 46.0, 'trips': 1, 'mode': 'transit'}}\n",
      "{0: {'length': 89.0, 'trips': 1, 'mode': 'transit'}}\n",
      "{0: {'length': 12.0, 'trips': 2, 'mode': 'transit'}}\n",
      "{0: {'length': 465.0, 'trips': 1, 'mode': 'transit'}}\n",
      "{0: {'length': 69.0, 'trips': 1, 'mode': 'transit'}}\n",
      "{0: {'length': 98.0, 'trips': 1, 'mode': 'transit'}}\n",
      "{0: {'length': 45.0, 'trips': 1, 'mode': 'transit'}}\n",
      "{0: {'length': 21.0, 'trips': 2, 'mode': 'transit'}}\n",
      "{0: {'length': 64.0, 'trips': 1, 'mode': 'transit'}}\n",
      "{0: {'length': 36.0, 'trips': 1, 'mode': 'transit'}}\n",
      "{0: {'length': 285.0, 'trips': 1, 'mode': 'transit'}}\n",
      "{0: {'length': 104.0, 'trips': 2, 'mode': 'transit'}}\n",
      "{0: {'length': 39.0, 'trips': 1, 'mode': 'transit'}}\n",
      "{0: {'length': 42.0, 'trips': 1, 'mode': 'transit'}}\n",
      "{0: {'length': 49.0, 'trips': 1, 'mode': 'transit'}}\n",
      "{0: {'length': 66.0, 'trips': 2, 'mode': 'transit'}}\n",
      "{0: {'length': 67.0, 'trips': 2, 'mode': 'transit'}}\n",
      "{0: {'length': 378.0, 'trips': 1, 'mode': 'transit'}}\n",
      "{0: {'length': 39.0, 'trips': 1, 'mode': 'transit'}}\n",
      "{0: {'length': 120.0, 'trips': 1, 'mode': 'transit'}}\n",
      "{0: {'length': 100.0, 'trips': 1, 'mode': 'transit'}}\n",
      "{0: {'length': 94.0, 'trips': 1, 'mode': 'transit'}}\n",
      "{0: {'length': 48.0, 'trips': 1, 'mode': 'transit'}}\n",
      "{0: {'length': 66.0, 'trips': 1, 'mode': 'transit'}}\n",
      "{0: {'length': 60.333333333333336, 'trips': 3, 'mode': 'transit'}}\n",
      "{0: {'length': 115.0, 'trips': 1, 'mode': 'transit'}}\n",
      "{0: {'length': 42.0, 'trips': 1, 'mode': 'transit'}}\n",
      "{0: {'length': 91.0, 'trips': 1, 'mode': 'transit'}}\n",
      "{0: {'length': 57.0, 'trips': 1, 'mode': 'transit'}}\n",
      "{0: {'length': 29.0, 'trips': 1, 'mode': 'transit'}}\n",
      "{0: {'length': 355.0, 'trips': 1, 'mode': 'transit'}}\n",
      "{0: {'length': 597.0, 'trips': 1, 'mode': 'transit'}}\n",
      "{0: {'length': 52.0, 'trips': 1, 'mode': 'transit'}}\n",
      "{0: {'length': 44.0, 'trips': 1, 'mode': 'transit'}}\n",
      "{0: {'length': 34.0, 'trips': 2, 'mode': 'transit'}}\n",
      "{0: {'length': 35.0, 'trips': 1, 'mode': 'transit'}}\n",
      "{0: {'length': 65.0, 'trips': 1, 'mode': 'transit'}}\n",
      "{0: {'length': 104.0, 'trips': 3, 'mode': 'transit'}}\n",
      "{0: {'length': 73.0, 'trips': 1, 'mode': 'transit'}}\n",
      "{0: {'length': 1155.0, 'trips': 1, 'mode': 'transit'}}\n",
      "{0: {'length': 257.0, 'trips': 1, 'mode': 'transit'}}\n",
      "{0: {'length': 74.0, 'trips': 1, 'mode': 'transit'}}\n",
      "{0: {'length': 172.0, 'trips': 1, 'mode': 'transit'}}\n",
      "{0: {'length': 60.0, 'trips': 1, 'mode': 'transit'}}\n",
      "{0: {'length': 34.0, 'trips': 1, 'mode': 'transit'}}\n",
      "{0: {'length': 70.0, 'trips': 1, 'mode': 'transit'}}\n",
      "{0: {'length': 54.0, 'trips': 1, 'mode': 'transit'}}\n",
      "{0: {'length': 69.5, 'trips': 2, 'mode': 'transit'}}\n",
      "{0: {'length': 46.5, 'trips': 2, 'mode': 'transit'}}\n",
      "{0: {'length': 214.0, 'trips': 1, 'mode': 'transit'}}\n",
      "{0: {'length': 65.0, 'trips': 1, 'mode': 'transit'}}\n",
      "{0: {'length': 72.0, 'trips': 2, 'mode': 'transit'}}\n",
      "{0: {'length': 138.0, 'trips': 1, 'mode': 'transit'}}\n",
      "{0: {'length': 86.0, 'trips': 1, 'mode': 'transit'}}\n",
      "{0: {'length': 54.0, 'trips': 1, 'mode': 'transit'}}\n",
      "{0: {'length': 252.0, 'trips': 1, 'mode': 'transit'}}\n",
      "{0: {'length': 17.0, 'trips': 1, 'mode': 'transit'}}\n",
      "{0: {'length': 28.0, 'trips': 1, 'mode': 'transit'}}\n",
      "{0: {'length': 8.0, 'trips': 1, 'mode': 'transit'}}\n",
      "{0: {'length': 29.0, 'trips': 1, 'mode': 'transit'}}\n",
      "{0: {'length': 60.5, 'trips': 2, 'mode': 'transit'}}\n",
      "{0: {'length': 38.0, 'trips': 2, 'mode': 'transit'}}\n",
      "{0: {'length': 78.0, 'trips': 1, 'mode': 'transit'}}\n",
      "{0: {'length': 147.0, 'trips': 1, 'mode': 'transit'}}\n",
      "{0: {'length': 168.0, 'trips': 1, 'mode': 'transit'}}\n",
      "{0: {'length': 57.333333333333336, 'trips': 3, 'mode': 'transit'}}\n",
      "{0: {'length': 104.0, 'trips': 2, 'mode': 'transit'}}\n",
      "{0: {'length': 29.5, 'trips': 2, 'mode': 'transit'}}\n",
      "{0: {'length': 198.0, 'trips': 1, 'mode': 'transit'}}\n",
      "{0: {'length': 53.0, 'trips': 1, 'mode': 'transit'}}\n",
      "{0: {'length': 88.0, 'trips': 1, 'mode': 'transit'}}\n",
      "{0: {'length': 88.0, 'trips': 1, 'mode': 'transit'}}\n",
      "{0: {'length': 302.0, 'trips': 1, 'mode': 'transit'}}\n",
      "{0: {'length': 46.0, 'trips': 1, 'mode': 'transit'}}\n",
      "{0: {'length': 370.0, 'trips': 1, 'mode': 'transit'}}\n",
      "{0: {'length': 213.0, 'trips': 1, 'mode': 'transit'}}\n",
      "{0: {'length': 40.0, 'trips': 1, 'mode': 'transit'}}\n",
      "{0: {'length': 100.0, 'trips': 1, 'mode': 'transit'}}\n",
      "{0: {'length': 112.0, 'trips': 1, 'mode': 'transit'}}\n",
      "{0: {'length': 87.5, 'trips': 2, 'mode': 'transit'}}\n",
      "{0: {'length': 76.0, 'trips': 1, 'mode': 'transit'}}\n",
      "{0: {'length': 449.0, 'trips': 1, 'mode': 'transit'}}\n",
      "{0: {'length': 222.0, 'trips': 1, 'mode': 'transit'}}\n",
      "{0: {'length': 125.0, 'trips': 1, 'mode': 'transit'}}\n",
      "{0: {'length': 89.0, 'trips': 1, 'mode': 'transit'}}\n",
      "{0: {'length': 89.0, 'trips': 1, 'mode': 'transit'}}\n",
      "{0: {'length': 20.0, 'trips': 1, 'mode': 'transit'}}\n",
      "{0: {'length': 210.0, 'trips': 1, 'mode': 'transit'}}\n",
      "{0: {'length': 157.0, 'trips': 2, 'mode': 'transit'}}\n",
      "{0: {'length': 20.0, 'trips': 1, 'mode': 'transit'}}\n",
      "{0: {'length': 546.0, 'trips': 1, 'mode': 'transit'}}\n",
      "{0: {'length': 78.0, 'trips': 2, 'mode': 'transit'}}\n",
      "{0: {'length': 14.0, 'trips': 1, 'mode': 'transit'}}\n",
      "{0: {'length': 44.0, 'trips': 1, 'mode': 'transit'}}\n",
      "{0: {'length': 39.0, 'trips': 2, 'mode': 'transit'}}\n",
      "{0: {'length': 347.0, 'trips': 1, 'mode': 'transit'}}\n",
      "{0: {'length': 24.0, 'trips': 2, 'mode': 'transit'}}\n",
      "{0: {'length': 188.0, 'trips': 1, 'mode': 'transit'}}\n",
      "{0: {'length': 73.0, 'trips': 2, 'mode': 'transit'}}\n",
      "{0: {'length': 346.0, 'trips': 1, 'mode': 'transit'}}\n",
      "{0: {'length': 86.0, 'trips': 1, 'mode': 'transit'}}\n",
      "{0: {'length': 565.0, 'trips': 1, 'mode': 'transit'}}\n",
      "{0: {'length': 575.0, 'trips': 1, 'mode': 'transit'}}\n",
      "{0: {'length': 43.0, 'trips': 2, 'mode': 'transit'}}\n",
      "{0: {'length': 522.0, 'trips': 1, 'mode': 'transit'}}\n",
      "{0: {'length': 177.0, 'trips': 1, 'mode': 'transit'}}\n",
      "{0: {'length': 199.0, 'trips': 1, 'mode': 'transit'}}\n",
      "{0: {'length': 41.0, 'trips': 2, 'mode': 'transit'}}\n",
      "{0: {'length': 177.0, 'trips': 1, 'mode': 'transit'}}\n",
      "{0: {'length': 78.0, 'trips': 1, 'mode': 'transit'}}\n",
      "{0: {'length': 122.0, 'trips': 1, 'mode': 'transit'}}\n",
      "{0: {'length': 364.0, 'trips': 2, 'mode': 'transit'}}\n",
      "{0: {'length': 152.0, 'trips': 2, 'mode': 'transit'}}\n"
     ]
    }
   ],
   "source": [
    "for edge in list(G.edges):\n",
    "    print(G.get_edge_data(edge[0],edge[1]))"
   ]
  },
  {
   "cell_type": "markdown",
   "metadata": {},
   "source": [
    "## Inspect graph as a shapefile\n",
    "Used for testing"
   ]
  },
  {
   "cell_type": "code",
   "execution_count": 172,
   "metadata": {},
   "outputs": [],
   "source": [
    "# Get reference to GOSTNets\n",
    "sys.path.append(r'C:\\repos\\GOSTnets')\n",
    "import GOSTnets as gn"
   ]
  },
  {
   "cell_type": "code",
   "execution_count": 173,
   "metadata": {},
   "outputs": [],
   "source": [
    "gn.save(G,\"gtfs_export_cap_haitien_service0001\",r\"temp\")"
   ]
  },
  {
   "cell_type": "markdown",
   "metadata": {},
   "source": [
    "note: On inspection the edges have a length field. This length field is the average traversal time per edge based on the GTFS data in seconds."
   ]
  },
  {
   "cell_type": "markdown",
   "metadata": {},
   "source": [
    "## Merge a walk network\n",
    "following this blog post: http://kuanbutts.com/2018/12/24/peartree-with-walk-network/"
   ]
  },
  {
   "cell_type": "code",
   "execution_count": 174,
   "metadata": {},
   "outputs": [],
   "source": [
    "# load existing walk/ferry graph from step 1\n",
    "G = nx.read_gpickle(r\"temp\\cap_haitien_walk_w_ferries_via_osmnx.pickle\")"
   ]
  },
  {
   "cell_type": "code",
   "execution_count": 175,
   "metadata": {},
   "outputs": [
    {
     "name": "stdout",
     "output_type": "stream",
     "text": [
      "Name: \n",
      "Type: MultiDiGraph\n",
      "Number of nodes: 12931\n",
      "Number of edges: 34334\n",
      "Average in degree:   2.6552\n",
      "Average out degree:   2.6552\n"
     ]
    }
   ],
   "source": [
    "print(nx.info(G))"
   ]
  },
  {
   "cell_type": "markdown",
   "metadata": {},
   "source": [
    "### Assign traversal times in seconds to edges\n",
    "Since peartree represents edge length (that is the impedance value associated with the edge) in seconds; we will need to convert the edge values that are in meters into seconds:"
   ]
  },
  {
   "cell_type": "code",
   "execution_count": 176,
   "metadata": {},
   "outputs": [
    {
     "name": "stdout",
     "output_type": "stream",
     "text": [
      "unclassified\n",
      "{'osmid': 212397499, 'ferry': 'unclassified', 'oneway': False, 'length': 8474.458, 'geometry': <shapely.geometry.linestring.LineString object at 0x00000205087BA9C8>, 'orig_length': 8474.458}\n",
      "unclassified\n",
      "{'osmid': 214459218, 'ferry': 'unclassified', 'oneway': False, 'length': 1449.198, 'geometry': <shapely.geometry.linestring.LineString object at 0x00000205087BAB08>, 'orig_length': 1449.198}\n",
      "unclassified\n",
      "{'osmid': 233037712, 'ferry': 'unclassified', 'oneway': False, 'length': 1186.217, 'geometry': <shapely.geometry.linestring.LineString object at 0x00000205087BAB88>, 'orig_length': 1186.217}\n",
      "unclassified\n",
      "{'osmid': 233037714, 'ferry': 'unclassified', 'oneway': False, 'length': 888.716, 'geometry': <shapely.geometry.linestring.LineString object at 0x00000205087BAC08>, 'orig_length': 888.716}\n",
      "unclassified\n",
      "{'osmid': 337815403, 'ferry': 'unclassified', 'oneway': False, 'length': 1428.7089999999998, 'geometry': <shapely.geometry.linestring.LineString object at 0x00000205087BAC88>, 'orig_length': 1428.7089999999998}\n",
      "unclassified\n",
      "{'osmid': 233037712, 'ferry': 'unclassified', 'oneway': False, 'length': 1186.2169999999999, 'geometry': <shapely.geometry.linestring.LineString object at 0x000002050F1059C8>, 'orig_length': 1186.2169999999999}\n",
      "unclassified\n",
      "{'osmid': 233037714, 'ferry': 'unclassified', 'oneway': False, 'length': 888.7159999999999, 'geometry': <shapely.geometry.linestring.LineString object at 0x000002050F105C88>, 'orig_length': 888.7159999999999}\n",
      "unclassified\n",
      "{'osmid': 337815403, 'ferry': 'unclassified', 'oneway': False, 'length': 1428.7089999999998, 'geometry': <shapely.geometry.linestring.LineString object at 0x000002050E491848>, 'orig_length': 1428.7089999999998}\n",
      "unclassified\n",
      "{'osmid': 214459218, 'ferry': 'unclassified', 'oneway': False, 'length': 1449.198, 'geometry': <shapely.geometry.linestring.LineString object at 0x000002050E588508>, 'orig_length': 1449.198}\n",
      "unclassified\n",
      "{'osmid': 212397499, 'ferry': 'unclassified', 'oneway': False, 'length': 8474.458000000002, 'geometry': <shapely.geometry.linestring.LineString object at 0x0000020509669C08>, 'orig_length': 8474.458000000002}\n"
     ]
    }
   ],
   "source": [
    "walk_speed = 3.5  # about 3 miles per hour\n",
    "ferry_speed = 15\n",
    "\n",
    "# Make a copy of the graph in case we make a mistake\n",
    "G_adj = G.copy()\n",
    "\n",
    "# Iterate through and convert lengths to seconds\n",
    "for from_node, to_node, edge in G_adj.edges(data=True):\n",
    "    orig_len = edge['length']\n",
    "    \n",
    "    # Note that this is a MultiDiGraph so there could\n",
    "    # be multiple indices here, I naively assume this is not the case\n",
    "    G_adj[from_node][to_node][0]['orig_length'] = orig_len\n",
    "\n",
    "    # if ferry\n",
    "    try:\n",
    "        print(G_adj[from_node][to_node][0]['ferry'])\n",
    "        print(G_adj[from_node][to_node][0])\n",
    "        \n",
    "        # Conversion of walk speed and into seconds from meters\n",
    "        kmph = (orig_len / 1000) / ferry_speed\n",
    "        in_seconds = kmph * 60 * 60\n",
    "        G_adj[from_node][to_node][0]['length'] = in_seconds\n",
    "    \n",
    "        # And state the mode, too\n",
    "        G_adj[from_node][to_node][0]['mode'] = 'ferry'\n",
    "    except:\n",
    "        # Conversion of walk speed and into seconds from meters\n",
    "        kmph = (orig_len / 1000) / walk_speed\n",
    "        in_seconds = kmph * 60 * 60\n",
    "        G_adj[from_node][to_node][0]['length'] = in_seconds\n",
    "    \n",
    "        # And state the mode, too\n",
    "        G_adj[from_node][to_node][0]['mode'] = 'walk'"
   ]
  },
  {
   "cell_type": "code",
   "execution_count": 177,
   "metadata": {},
   "outputs": [
    {
     "data": {
      "text/plain": [
       "{'y': 19.6193274, 'x': -72.0230707, 'osmid': 330530920}"
      ]
     },
     "execution_count": 177,
     "metadata": {},
     "output_type": "execute_result"
    }
   ],
   "source": [
    "G_adj.nodes[330530920]"
   ]
  },
  {
   "cell_type": "code",
   "execution_count": 178,
   "metadata": {},
   "outputs": [],
   "source": [
    "# So this should be easy - just go through all nodes\n",
    "# and make them have a 0 cost to board\n",
    "for i, node in G_adj.nodes(data=True):\n",
    "    G_adj.nodes[i]['boarding_cost'] = 0"
   ]
  },
  {
   "cell_type": "code",
   "execution_count": 179,
   "metadata": {},
   "outputs": [
    {
     "data": {
      "text/plain": [
       "[(247844908,\n",
       "  3806054858,\n",
       "  {'osmid': [379649269, 233072790],\n",
       "   'highway': 'footway',\n",
       "   'oneway': False,\n",
       "   'length': 1262.7689142857146,\n",
       "   'geometry': <shapely.geometry.linestring.LineString at 0x20508990148>,\n",
       "   'orig_length': 1227.6920000000002,\n",
       "   'mode': 'walk'}),\n",
       " (330521785,\n",
       "  2353905402,\n",
       "  {'osmid': [227769624, 226616997],\n",
       "   'highway': ['unclassified', 'footway'],\n",
       "   'oneway': False,\n",
       "   'length': 1360.701257142857,\n",
       "   'geometry': <shapely.geometry.linestring.LineString at 0x20508990cc8>,\n",
       "   'orig_length': 1322.904,\n",
       "   'mode': 'walk'})]"
      ]
     },
     "execution_count": 179,
     "metadata": {},
     "output_type": "execute_result"
    }
   ],
   "source": [
    "list(G_adj.edges(data=True))[:2]"
   ]
  },
  {
   "cell_type": "markdown",
   "metadata": {},
   "source": [
    "### save the graph again to be used for the isochrones notebook"
   ]
  },
  {
   "cell_type": "code",
   "execution_count": 180,
   "metadata": {},
   "outputs": [],
   "source": [
    "sys.path.append(r'C:\\repos\\GOSTnets')\n",
    "import GOSTnets as gn"
   ]
  },
  {
   "cell_type": "code",
   "execution_count": 181,
   "metadata": {},
   "outputs": [],
   "source": [
    "gn.save(G,\"cap_haitien_walk_w_ferries_via_osmnx_w_time\",r\"temp\")"
   ]
  },
  {
   "cell_type": "markdown",
   "metadata": {},
   "source": [
    "## Loading the feed as a graph with the walking graph as the existing graph\n",
    "Now that the two graphs have the same internal structures, we can load the walk network onto the transit network with the following peartree helper method."
   ]
  },
  {
   "cell_type": "code",
   "execution_count": 182,
   "metadata": {},
   "outputs": [
    {
     "name": "stdout",
     "output_type": "stream",
     "text": [
      "Wall time: 2.92 s\n"
     ]
    }
   ],
   "source": [
    "# Now that we have a formatted walk network\n",
    "# it should be easy to reload the peartree graph\n",
    "# and stack it on the walk network\n",
    "start = 0  # 0:00 \n",
    "end = 24*60*60  # 24:00 \n",
    "\n",
    "# Note this will be a little slow - an optimization here would be\n",
    "# to have coalesced the walk network\n",
    "%time G2 = pt.load_feed_as_graph(feed, start, end, existing_graph=G_adj,impute_walk_transfers=True)"
   ]
  },
  {
   "cell_type": "code",
   "execution_count": 183,
   "metadata": {},
   "outputs": [
    {
     "data": {
      "text/plain": [
       "<networkx.classes.multidigraph.MultiDiGraph at 0x2050ea22588>"
      ]
     },
     "execution_count": 183,
     "metadata": {},
     "output_type": "execute_result"
    }
   ],
   "source": [
    "G2"
   ]
  },
  {
   "cell_type": "code",
   "execution_count": 184,
   "metadata": {},
   "outputs": [
    {
     "data": {
      "text/plain": [
       "(247844908,\n",
       " 3806054858,\n",
       " {'osmid': [379649269, 233072790],\n",
       "  'highway': 'footway',\n",
       "  'oneway': False,\n",
       "  'length': 1262.7689142857146,\n",
       "  'geometry': <shapely.geometry.linestring.LineString at 0x20508990148>,\n",
       "  'orig_length': 1227.6920000000002,\n",
       "  'mode': 'walk'})"
      ]
     },
     "execution_count": 184,
     "metadata": {},
     "output_type": "execute_result"
    }
   ],
   "source": [
    "list(G2.edges(data=True))[0]"
   ]
  },
  {
   "cell_type": "code",
   "execution_count": 185,
   "metadata": {},
   "outputs": [
    {
     "data": {
      "image/png": "[encoded data removed]",
      "text/plain": [
       "<Figure size 864x864 with 1 Axes>"
      ]
     },
     "metadata": {},
     "output_type": "display_data"
    }
   ],
   "source": [
    "fig, ax = ox.plot_graph(G2,\n",
    "                            figsize=(12,12),\n",
    "                            show=False,\n",
    "                            close=False,\n",
    "                            node_color='#8aedfc',\n",
    "                            node_size=5,\n",
    "                            edge_color='#e2dede',\n",
    "                            edge_alpha=0.25,\n",
    "                            bgcolor='black')"
   ]
  },
  {
   "cell_type": "markdown",
   "metadata": {},
   "source": [
    "## Identify only the largest graph"
   ]
  },
  {
   "cell_type": "code",
   "execution_count": 186,
   "metadata": {},
   "outputs": [],
   "source": [
    "# compatible with NetworkX 2.4\n",
    "list_of_subgraphs = list(G2.subgraph(c).copy() for c in nx.weakly_connected_components(G2))\n",
    "max_graph = None\n",
    "max_edges = 0\n",
    "for i in list_of_subgraphs:\n",
    "    if i.number_of_edges() > max_edges:\n",
    "        max_edges = i.number_of_edges()\n",
    "        max_graph = i\n",
    "\n",
    "# set your graph equal to the largest sub-graph\n",
    "G_service0001 = max_graph"
   ]
  },
  {
   "cell_type": "code",
   "execution_count": 187,
   "metadata": {},
   "outputs": [],
   "source": [
    "# save again and inspect\n",
    "gn.save(G_service0001,\"gtfs_export_cap_haitien_merged_impute_walk_v5_service0001\",r\"temp\")"
   ]
  },
  {
   "cell_type": "markdown",
   "metadata": {},
   "source": [
    "now go on to network analysis with GOSTNets..."
   ]
  }
 ],
 "metadata": {
  "kernelspec": {
   "display_name": "Python 3",
   "language": "python",
   "name": "python3"
  },
  "language_info": {
   "codemirror_mode": {
    "name": "ipython",
    "version": 3
   },
   "file_extension": ".py",
   "mimetype": "text/x-python",
   "name": "python",
   "nbconvert_exporter": "python",
   "pygments_lexer": "ipython3",
   "version": "3.7.7"
  }
 },
 "nbformat": 4,
 "nbformat_minor": 4
}
