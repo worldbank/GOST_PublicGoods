{
 "cells": [
  {
   "cell_type": "markdown",
   "metadata": {},
   "source": [
    "# Step 3: Cap Haitien GTFS Accessibility Analysis\n",
    "Running travel time to closest facility for health facilities, schools, and markets"
   ]
  },
  {
   "cell_type": "code",
   "execution_count": 1,
   "metadata": {},
   "outputs": [],
   "source": [
    "%load_ext autoreload\n",
    "%autoreload 2"
   ]
  },
  {
   "cell_type": "code",
   "execution_count": 2,
   "metadata": {},
   "outputs": [],
   "source": [
    "import osmnx as ox\n",
    "import pandas as pd\n",
    "import geopandas as gpd\n",
    "import networkx as nx\n",
    "import numpy as np\n",
    "from shapely.geometry import Point"
   ]
  },
  {
   "cell_type": "code",
   "execution_count": 3,
   "metadata": {},
   "outputs": [],
   "source": [
    "import os, sys"
   ]
  },
  {
   "cell_type": "code",
   "execution_count": 4,
   "metadata": {},
   "outputs": [],
   "source": [
    "# Get reference to GOSTNets\n",
    "import sys\n",
    "sys.path.append(r'C:\\repos\\GOSTnets')\n",
    "import GOSTnets as gn"
   ]
  },
  {
   "cell_type": "markdown",
   "metadata": {},
   "source": [
    "### Load graphs"
   ]
  },
  {
   "cell_type": "code",
   "execution_count": 5,
   "metadata": {},
   "outputs": [],
   "source": [
    "# read back your graphs from step 2 from you saved pickle\n",
    "G_service0001 = nx.read_gpickle(r\"temp\\gtfs_export_cap_haitien_merged_impute_walk_v5_service0001.pickle\")\n",
    "G_service0002 = nx.read_gpickle(r\"temp\\gtfs_export_cap_haitien_merged_impute_walk_v5_service0002.pickle\")"
   ]
  },
  {
   "cell_type": "code",
   "execution_count": 6,
   "metadata": {},
   "outputs": [],
   "source": [
    "#print(nx.info(G))"
   ]
  },
  {
   "cell_type": "code",
   "execution_count": 7,
   "metadata": {},
   "outputs": [],
   "source": [
    "#list(G.edges)[0:15]"
   ]
  },
  {
   "cell_type": "code",
   "execution_count": 8,
   "metadata": {},
   "outputs": [],
   "source": [
    "graphs = {'G_service0001': G_service0001, 'G_service0002': G_service0002}"
   ]
  },
  {
   "cell_type": "code",
   "execution_count": 9,
   "metadata": {},
   "outputs": [],
   "source": [
    "# print info about the largest sub-graph\n",
    "#print(nx.info(G_largest))"
   ]
  },
  {
   "cell_type": "markdown",
   "metadata": {},
   "source": [
    "### Load Data"
   ]
  },
  {
   "cell_type": "code",
   "execution_count": 10,
   "metadata": {},
   "outputs": [],
   "source": [
    "# load origins\n",
    "origins = gpd.read_file(r\"input_folder\\cap_haitien_worldpop_pts2.shp\")"
   ]
  },
  {
   "cell_type": "code",
   "execution_count": 11,
   "metadata": {},
   "outputs": [],
   "source": [
    "# load destinations\n",
    "health_destinations = gpd.read_file(r\"input_folder\\cap_haitien_health_pts.shp\")\n",
    "school_destinations = gpd.read_file(r\"input_folder\\cap_haitien_schools_DPCE_20180709.shp\")\n",
    "market_destinations = gpd.read_file(r\"input_folder\\Marches_Haiti_IICA1977.shp\")"
   ]
  },
  {
   "cell_type": "code",
   "execution_count": 12,
   "metadata": {},
   "outputs": [],
   "source": [
    "destinations_dict = {'health_destinations': health_destinations, 'school_destinations': school_destinations, 'market_destinations': market_destinations}"
   ]
  },
  {
   "cell_type": "markdown",
   "metadata": {},
   "source": [
    "#### For each destination for each type of graph do an accessibility analysis"
   ]
  },
  {
   "cell_type": "code",
   "execution_count": 13,
   "metadata": {},
   "outputs": [
    {
     "name": "stdout",
     "output_type": "stream",
     "text": [
      "average trip time for health_destinations with the G_service0001 graph is: 175.53994741170698 minutes\n",
      "average trip time for school_destinations with the G_service0001 graph is: 163.54374861129423 minutes\n",
      "average trip time for market_destinations with the G_service0001 graph is: 237.239912326493 minutes\n",
      "average trip time for health_destinations with the G_service0002 graph is: 174.96226560365415 minutes\n",
      "average trip time for school_destinations with the G_service0002 graph is: 162.99757422166755 minutes\n",
      "average trip time for market_destinations with the G_service0002 graph is: 236.83141094660292 minutes\n"
     ]
    }
   ],
   "source": [
    "for G in graphs.items():\n",
    "    # Origins remain the same for each type of accessibility\n",
    "    # insert origins\n",
    "    origins = gpd.read_file(r\"input_folder\\cap_haitien_worldpop_pts2.shp\")\n",
    "    # snap the origins to the road graph\n",
    "    snapped_origins = gn.pandana_snap(G[1], origins, source_crs = 'epsg:4326', target_crs = 'epsg:32619')\n",
    "    # filter out origins with a distance more than 2km\n",
    "    snapped_origins_filtered = snapped_origins[snapped_origins.NN_dist < 2000]\n",
    "    originNodes = list(snapped_origins_filtered['NN'].unique())\n",
    "    for destination in destinations_dict.items():\n",
    "        # snap the destinations to the road graph\n",
    "        snapped_destinations = gn.pandana_snap(G[1], destination[1], source_crs = 'epsg:4326', target_crs = 'epsg:32619')\n",
    "        destinationsNodes = list(snapped_destinations['NN'].unique())\n",
    "        # Calculate OD Matrix\n",
    "        OD_matrix = gn.calculate_OD(G[1], originNodes, destinationsNodes, fail_value=-1, weight='length')\n",
    "        avg_trip_time = np.mean(OD_matrix)\n",
    "        print(f\"average trip time for {destination[0]} with the {G[0]} graph is: {avg_trip_time/60} minutes\")\n",
    "        # calculate accessibility\n",
    "        # For each row, the closest facility is the smallest value in the row\n",
    "        closest_facility_per_origin = OD_matrix.min(axis=1)\n",
    "        results = pd.DataFrame([originNodes, closest_facility_per_origin]).transpose()\n",
    "        colName = \"travel_time_to_closest_facility\"\n",
    "        results.columns = ['NN', colName]\n",
    "        output = snapped_origins_filtered.copy()\n",
    "        output = pd.merge(output, results, on=\"NN\")\n",
    "        #convert travel_time_to_closest_facility to number\n",
    "        output[\"travel_time_to_closest_facility\"] = pd.to_numeric(output[\"travel_time_to_closest_facility\"])\n",
    "        # save a shapefile...\n",
    "        destinations_gpd = gpd.GeoDataFrame(output, crs = \"epsg:4326\", geometry = 'geometry')\n",
    "        destinations_gpd.to_file(fr\"output_folder\\cap_haitien_accessibility_{destination[0]}_{G[0]}.shp\")\n"
   ]
  },
  {
   "cell_type": "code",
   "execution_count": null,
   "metadata": {},
   "outputs": [],
   "source": []
  }
 ],
 "metadata": {
  "kernelspec": {
   "display_name": "Python 3",
   "language": "python",
   "name": "python3"
  },
  "language_info": {
   "codemirror_mode": {
    "name": "ipython",
    "version": 3
   },
   "file_extension": ".py",
   "mimetype": "text/x-python",
   "name": "python",
   "nbconvert_exporter": "python",
   "pygments_lexer": "ipython3",
   "version": "3.7.7"
  }
 },
 "nbformat": 4,
 "nbformat_minor": 4
}
