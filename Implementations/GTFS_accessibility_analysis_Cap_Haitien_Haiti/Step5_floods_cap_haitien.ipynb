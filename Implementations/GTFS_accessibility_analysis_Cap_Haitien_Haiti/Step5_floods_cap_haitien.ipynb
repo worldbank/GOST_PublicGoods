{
 "cells": [
  {
   "cell_type": "markdown",
   "metadata": {},
   "source": [
    "## Step 5: Basic flooding analysis\n",
    "create a graph for visualization where disrupted edges that intersect simulated flooded areas are removed from the graph"
   ]
  },
  {
   "cell_type": "code",
   "execution_count": 5,
   "metadata": {},
   "outputs": [
    {
     "name": "stdout",
     "output_type": "stream",
     "text": [
      "The autoreload extension is already loaded. To reload it, use:\n",
      "  %reload_ext autoreload\n"
     ]
    }
   ],
   "source": [
    "%load_ext autoreload\n",
    "%autoreload 2"
   ]
  },
  {
   "cell_type": "code",
   "execution_count": 6,
   "metadata": {},
   "outputs": [],
   "source": [
    "import osmnx as ox\n",
    "import pandas as pd\n",
    "import geopandas as gpd\n",
    "import networkx as nx\n",
    "import numpy as np"
   ]
  },
  {
   "cell_type": "code",
   "execution_count": 7,
   "metadata": {},
   "outputs": [],
   "source": [
    "from shapely.geometry import Point, shape\n",
    "from shapely import geometry\n",
    "import shapely"
   ]
  },
  {
   "cell_type": "code",
   "execution_count": 8,
   "metadata": {},
   "outputs": [],
   "source": [
    "# Get reference to GOSTNets\n",
    "import sys\n",
    "sys.path.append(r'C:\\repos\\GOSTnets')\n",
    "import GOSTnets as gn"
   ]
  },
  {
   "cell_type": "markdown",
   "metadata": {},
   "source": [
    "### Fathom SSBN data was used as an input for the simulated flooded areas. The FD_1in20 layer was used, and in QGIS the raster calculater was used to filter raster pixels with a value greater than .25 meters, using this query:\n",
    "### (\"FD_1in20@1\" >= 0.25) * 1\"\n",
    "### Then raster was polygonized using QGIS. Finally, the QGIS fix geometries tool was run."
   ]
  },
  {
   "cell_type": "code",
   "execution_count": 9,
   "metadata": {},
   "outputs": [],
   "source": [
    "# read back your graph from step 2 from your saved pickle\n",
    "G = nx.read_gpickle(r\"temp\\cap_haitien_walk_w_ferries_via_osmnx_w_time.pickle\")"
   ]
  },
  {
   "cell_type": "code",
   "execution_count": 10,
   "metadata": {},
   "outputs": [
    {
     "name": "stdout",
     "output_type": "stream",
     "text": [
      "{'properties': OrderedDict([('fid', 'float:20'), ('DN', 'int:10')]), 'geometry': 'Polygon'}\n",
      "{'type': 'Feature', 'id': '0', 'properties': OrderedDict([('fid', 170.0), ('DN', 1)]), 'geometry': {'type': 'Polygon', 'coordinates': [[(-72.4679166665885, 19.822083333666665), (-72.467083333255, 19.822083333666665), (-72.467083333255, 19.821250000333333), (-72.4679166665885, 19.821250000333333), (-72.4679166665885, 19.822083333666665)]]}}\n"
     ]
    },
    {
     "name": "stderr",
     "output_type": "stream",
     "text": [
      "C:\\Users\\war-machine\\Anaconda2\\envs\\gostnets2\\lib\\site-packages\\ipykernel_launcher.py:7: FionaDeprecationWarning: Collection.__next__() is buggy and will be removed in Fiona 2.0. Switch to `next(iter(collection))`.\n",
      "  import sys\n"
     ]
    }
   ],
   "source": [
    "import fiona\n",
    "fc = fiona.open(r\"input_folder\\FD_1in20_classified_polygonized3.shp\")\n",
    "\n",
    "print(fc.schema)\n",
    "\n",
    "#first feature of the shapefile\n",
    "first = fc.next()\n",
    "print(first) # (GeoJSON format)"
   ]
  },
  {
   "cell_type": "code",
   "execution_count": 11,
   "metadata": {},
   "outputs": [
    {
     "name": "stdout",
     "output_type": "stream",
     "text": [
      "POLYGON ((-72.46791666658849 19.82208333366667, -72.467083333255 19.82208333366667, -72.467083333255 19.82125000033333, -72.46791666658849 19.82125000033333, -72.46791666658849 19.82208333366667))\n",
      "<class 'shapely.geometry.polygon.Polygon'>\n"
     ]
    }
   ],
   "source": [
    "shp_geom = shape(first['geometry']) # or shp_geom = shape(first) with PyShp)\n",
    "print(shp_geom)\n",
    "print(type(shp_geom))"
   ]
  },
  {
   "cell_type": "code",
   "execution_count": 12,
   "metadata": {},
   "outputs": [],
   "source": [
    "edges_gdf = ox.utils_graph.graph_to_gdfs(G, nodes=False, edges=True, fill_edge_geometry=True)"
   ]
  },
  {
   "cell_type": "code",
   "execution_count": 13,
   "metadata": {},
   "outputs": [
    {
     "data": {
      "text/html": [
       "<div>\n",
       "<style scoped>\n",
       "    .dataframe tbody tr th:only-of-type {\n",
       "        vertical-align: middle;\n",
       "    }\n",
       "\n",
       "    .dataframe tbody tr th {\n",
       "        vertical-align: top;\n",
       "    }\n",
       "\n",
       "    .dataframe thead th {\n",
       "        text-align: right;\n",
       "    }\n",
       "</style>\n",
       "<table border=\"1\" class=\"dataframe\">\n",
       "  <thead>\n",
       "    <tr style=\"text-align: right;\">\n",
       "      <th></th>\n",
       "      <th>osmid</th>\n",
       "      <th>highway</th>\n",
       "      <th>oneway</th>\n",
       "      <th>length</th>\n",
       "      <th>geometry</th>\n",
       "      <th>ref</th>\n",
       "      <th>name</th>\n",
       "      <th>maxspeed</th>\n",
       "      <th>service</th>\n",
       "      <th>lanes</th>\n",
       "      <th>bridge</th>\n",
       "      <th>junction</th>\n",
       "      <th>access</th>\n",
       "      <th>ferry</th>\n",
       "      <th>est_width</th>\n",
       "      <th>width</th>\n",
       "      <th>u</th>\n",
       "      <th>v</th>\n",
       "      <th>key</th>\n",
       "    </tr>\n",
       "  </thead>\n",
       "  <tbody>\n",
       "    <tr>\n",
       "      <th>0</th>\n",
       "      <td>[379649269, 233072790]</td>\n",
       "      <td>footway</td>\n",
       "      <td>False</td>\n",
       "      <td>1227.692</td>\n",
       "      <td>LINESTRING (-71.99988 19.70057, -72.00021 19.7...</td>\n",
       "      <td>NaN</td>\n",
       "      <td>NaN</td>\n",
       "      <td>NaN</td>\n",
       "      <td>NaN</td>\n",
       "      <td>NaN</td>\n",
       "      <td>NaN</td>\n",
       "      <td>NaN</td>\n",
       "      <td>NaN</td>\n",
       "      <td>NaN</td>\n",
       "      <td>NaN</td>\n",
       "      <td>NaN</td>\n",
       "      <td>247844908</td>\n",
       "      <td>3806054858</td>\n",
       "      <td>0</td>\n",
       "    </tr>\n",
       "    <tr>\n",
       "      <th>1</th>\n",
       "      <td>[227769624, 226616997]</td>\n",
       "      <td>[unclassified, footway]</td>\n",
       "      <td>False</td>\n",
       "      <td>1322.904</td>\n",
       "      <td>LINESTRING (-71.96271 19.56871, -71.96121 19.5...</td>\n",
       "      <td>NaN</td>\n",
       "      <td>NaN</td>\n",
       "      <td>NaN</td>\n",
       "      <td>NaN</td>\n",
       "      <td>NaN</td>\n",
       "      <td>NaN</td>\n",
       "      <td>NaN</td>\n",
       "      <td>NaN</td>\n",
       "      <td>NaN</td>\n",
       "      <td>NaN</td>\n",
       "      <td>NaN</td>\n",
       "      <td>330521785</td>\n",
       "      <td>2353905402</td>\n",
       "      <td>0</td>\n",
       "    </tr>\n",
       "    <tr>\n",
       "      <th>2</th>\n",
       "      <td>[227769628, 219143021]</td>\n",
       "      <td>unclassified</td>\n",
       "      <td>False</td>\n",
       "      <td>3659.690</td>\n",
       "      <td>LINESTRING (-71.96271 19.56871, -71.96282 19.5...</td>\n",
       "      <td>NaN</td>\n",
       "      <td>NaN</td>\n",
       "      <td>NaN</td>\n",
       "      <td>NaN</td>\n",
       "      <td>NaN</td>\n",
       "      <td>NaN</td>\n",
       "      <td>NaN</td>\n",
       "      <td>NaN</td>\n",
       "      <td>NaN</td>\n",
       "      <td>NaN</td>\n",
       "      <td>NaN</td>\n",
       "      <td>330521785</td>\n",
       "      <td>330540551</td>\n",
       "      <td>0</td>\n",
       "    </tr>\n",
       "  </tbody>\n",
       "</table>\n",
       "</div>"
      ],
      "text/plain": [
       "                    osmid                  highway  oneway    length  \\\n",
       "0  [379649269, 233072790]                  footway   False  1227.692   \n",
       "1  [227769624, 226616997]  [unclassified, footway]   False  1322.904   \n",
       "2  [227769628, 219143021]             unclassified   False  3659.690   \n",
       "\n",
       "                                            geometry  ref name maxspeed  \\\n",
       "0  LINESTRING (-71.99988 19.70057, -72.00021 19.7...  NaN  NaN      NaN   \n",
       "1  LINESTRING (-71.96271 19.56871, -71.96121 19.5...  NaN  NaN      NaN   \n",
       "2  LINESTRING (-71.96271 19.56871, -71.96282 19.5...  NaN  NaN      NaN   \n",
       "\n",
       "  service lanes bridge junction access ferry est_width width          u  \\\n",
       "0     NaN   NaN    NaN      NaN    NaN   NaN       NaN   NaN  247844908   \n",
       "1     NaN   NaN    NaN      NaN    NaN   NaN       NaN   NaN  330521785   \n",
       "2     NaN   NaN    NaN      NaN    NaN   NaN       NaN   NaN  330521785   \n",
       "\n",
       "            v  key  \n",
       "0  3806054858    0  \n",
       "1  2353905402    0  \n",
       "2   330540551    0  "
      ]
     },
     "execution_count": 13,
     "metadata": {},
     "output_type": "execute_result"
    }
   ],
   "source": [
    "edges_gdf[:3]"
   ]
  },
  {
   "cell_type": "markdown",
   "metadata": {},
   "source": [
    "### Find intersections between edges and flood polygons"
   ]
  },
  {
   "cell_type": "code",
   "execution_count": 14,
   "metadata": {},
   "outputs": [],
   "source": [
    "intersection_list = []\n",
    "#loop through each edge:\n",
    "for index, row in edges_gdf.iterrows():\n",
    "    #print(row['geometry'])\n",
    "    line_geom = row['geometry']\n",
    "    #loop through each polygon:\n",
    "    for shapely_poly in fc:\n",
    "        #print(shapely_poly)\n",
    "        shapely_poly = shape(shapely_poly['geometry'])\n",
    "        intersection_line = shapely_poly.intersection(line_geom)\n",
    "        if intersection_line:\n",
    "            #print(\"intersection found\")\n",
    "            #print(intersection_line)\n",
    "            #print(\"osmid\")\n",
    "            #print(row['osmid'])\n",
    "            #if true, add edge to a list of intersections\n",
    "            intersection_list.append((row['u'],row['v']))"
   ]
  },
  {
   "cell_type": "code",
   "execution_count": 15,
   "metadata": {},
   "outputs": [
    {
     "data": {
      "text/plain": [
       "1542"
      ]
     },
     "execution_count": 15,
     "metadata": {},
     "output_type": "execute_result"
    }
   ],
   "source": [
    "len(intersection_list)"
   ]
  },
  {
   "cell_type": "code",
   "execution_count": 16,
   "metadata": {},
   "outputs": [],
   "source": [
    "# get rid of duplicates\n",
    "intersection_list = list(set(intersection_list))"
   ]
  },
  {
   "cell_type": "code",
   "execution_count": 17,
   "metadata": {},
   "outputs": [
    {
     "data": {
      "text/plain": [
       "1492"
      ]
     },
     "execution_count": 17,
     "metadata": {},
     "output_type": "execute_result"
    }
   ],
   "source": [
    "len(intersection_list)"
   ]
  },
  {
   "cell_type": "code",
   "execution_count": 18,
   "metadata": {},
   "outputs": [
    {
     "name": "stdout",
     "output_type": "stream",
     "text": [
      "Name: \n",
      "Type: MultiDiGraph\n",
      "Number of nodes: 12931\n",
      "Number of edges: 34334\n",
      "Average in degree:   2.6552\n",
      "Average out degree:   2.6552\n"
     ]
    }
   ],
   "source": [
    "print(nx.info(G))"
   ]
  },
  {
   "cell_type": "code",
   "execution_count": 19,
   "metadata": {},
   "outputs": [],
   "source": [
    "G_flooded = G.copy()"
   ]
  },
  {
   "cell_type": "markdown",
   "metadata": {},
   "source": [
    "### need to remove disrupted edges from the graph\n",
    "We need to remove the edges from the graph that intersect the flooded area. Then using only the walk/ferry graph we can run accessibility analysis and see how many routes are affected."
   ]
  },
  {
   "cell_type": "code",
   "execution_count": 20,
   "metadata": {},
   "outputs": [],
   "source": [
    "for line in intersection_list:\n",
    "    G_flooded.remove_edge(line[0],line[1])"
   ]
  },
  {
   "cell_type": "code",
   "execution_count": 21,
   "metadata": {},
   "outputs": [
    {
     "name": "stdout",
     "output_type": "stream",
     "text": [
      "Name: \n",
      "Type: MultiDiGraph\n",
      "Number of nodes: 12931\n",
      "Number of edges: 32842\n",
      "Average in degree:   2.5398\n",
      "Average out degree:   2.5398\n"
     ]
    }
   ],
   "source": [
    "print(nx.info(G_flooded))"
   ]
  },
  {
   "cell_type": "markdown",
   "metadata": {},
   "source": [
    "### need to take the largest connected graph and also lose some potentially dangling nodes "
   ]
  },
  {
   "cell_type": "code",
   "execution_count": 22,
   "metadata": {},
   "outputs": [
    {
     "name": "stdout",
     "output_type": "stream",
     "text": [
      "The  graph contains <bound method MultiGraph.number_of_edges of <networkx.classes.multidigraph.MultiDiGraph object at 0x000001C43AC38048>> edges\n",
      "The  graph contains <bound method MultiGraph.number_of_edges of <networkx.classes.multidigraph.MultiDiGraph object at 0x000001C43AC3E4C8>> edges\n",
      "The  graph contains <bound method MultiGraph.number_of_edges of <networkx.classes.multidigraph.MultiDiGraph object at 0x000001C43AC3E5C8>> edges\n",
      "The  graph contains <bound method MultiGraph.number_of_edges of <networkx.classes.multidigraph.MultiDiGraph object at 0x000001C43AC3E648>> edges\n",
      "The  graph contains <bound method MultiGraph.number_of_edges of <networkx.classes.multidigraph.MultiDiGraph object at 0x000001C43AC3E488>> edges\n",
      "The  graph contains <bound method MultiGraph.number_of_edges of <networkx.classes.multidigraph.MultiDiGraph object at 0x000001C43AC3E6C8>> edges\n",
      "The  graph contains <bound method MultiGraph.number_of_edges of <networkx.classes.multidigraph.MultiDiGraph object at 0x000001C43AC3E188>> edges\n",
      "The  graph contains <bound method MultiGraph.number_of_edges of <networkx.classes.multidigraph.MultiDiGraph object at 0x000001C43AC3E688>> edges\n",
      "The  graph contains <bound method MultiGraph.number_of_edges of <networkx.classes.multidigraph.MultiDiGraph object at 0x000001C43AC3E548>> edges\n",
      "The  graph contains <bound method MultiGraph.number_of_edges of <networkx.classes.multidigraph.MultiDiGraph object at 0x000001C43AC3E588>> edges\n",
      "The  graph contains <bound method MultiGraph.number_of_edges of <networkx.classes.multidigraph.MultiDiGraph object at 0x000001C43AC3E708>> edges\n",
      "The  graph contains <bound method MultiGraph.number_of_edges of <networkx.classes.multidigraph.MultiDiGraph object at 0x000001C43AC3E788>> edges\n",
      "The  graph contains <bound method MultiGraph.number_of_edges of <networkx.classes.multidigraph.MultiDiGraph object at 0x000001C43AC3EA08>> edges\n",
      "The  graph contains <bound method MultiGraph.number_of_edges of <networkx.classes.multidigraph.MultiDiGraph object at 0x000001C43AC3E7C8>> edges\n",
      "The  graph contains <bound method MultiGraph.number_of_edges of <networkx.classes.multidigraph.MultiDiGraph object at 0x000001C43AC3E748>> edges\n",
      "The  graph contains <bound method MultiGraph.number_of_edges of <networkx.classes.multidigraph.MultiDiGraph object at 0x000001C43AC3EC88>> edges\n",
      "The  graph contains <bound method MultiGraph.number_of_edges of <networkx.classes.multidigraph.MultiDiGraph object at 0x000001C43AC3EB88>> edges\n",
      "The  graph contains <bound method MultiGraph.number_of_edges of <networkx.classes.multidigraph.MultiDiGraph object at 0x000001C43AC3EA88>> edges\n",
      "The  graph contains <bound method MultiGraph.number_of_edges of <networkx.classes.multidigraph.MultiDiGraph object at 0x000001C43AC3E608>> edges\n",
      "The  graph contains <bound method MultiGraph.number_of_edges of <networkx.classes.multidigraph.MultiDiGraph object at 0x000001C43AC3EC08>> edges\n",
      "The  graph contains <bound method MultiGraph.number_of_edges of <networkx.classes.multidigraph.MultiDiGraph object at 0x000001C43AC3F7C8>> edges\n",
      "The  graph contains <bound method MultiGraph.number_of_edges of <networkx.classes.multidigraph.MultiDiGraph object at 0x000001C43AC3FA88>> edges\n",
      "The  graph contains <bound method MultiGraph.number_of_edges of <networkx.classes.multidigraph.MultiDiGraph object at 0x000001C43AC3FB08>> edges\n",
      "The  graph contains <bound method MultiGraph.number_of_edges of <networkx.classes.multidigraph.MultiDiGraph object at 0x000001C43AC3FA08>> edges\n",
      "The  graph contains <bound method MultiGraph.number_of_edges of <networkx.classes.multidigraph.MultiDiGraph object at 0x000001C43AC3F9C8>> edges\n",
      "The  graph contains <bound method MultiGraph.number_of_edges of <networkx.classes.multidigraph.MultiDiGraph object at 0x000001C43AC3FA48>> edges\n",
      "The  graph contains <bound method MultiGraph.number_of_edges of <networkx.classes.multidigraph.MultiDiGraph object at 0x000001C43AC3FAC8>> edges\n",
      "The  graph contains <bound method MultiGraph.number_of_edges of <networkx.classes.multidigraph.MultiDiGraph object at 0x000001C43AC3FBC8>> edges\n",
      "The  graph contains <bound method MultiGraph.number_of_edges of <networkx.classes.multidigraph.MultiDiGraph object at 0x000001C43AC3F888>> edges\n",
      "The  graph contains <bound method MultiGraph.number_of_edges of <networkx.classes.multidigraph.MultiDiGraph object at 0x000001C43AC3FB48>> edges\n",
      "The  graph contains <bound method MultiGraph.number_of_edges of <networkx.classes.multidigraph.MultiDiGraph object at 0x000001C43AC3FC08>> edges\n",
      "The  graph contains <bound method MultiGraph.number_of_edges of <networkx.classes.multidigraph.MultiDiGraph object at 0x000001C43AC3F548>> edges\n",
      "The  graph contains <bound method MultiGraph.number_of_edges of <networkx.classes.multidigraph.MultiDiGraph object at 0x000001C43AC3FD88>> edges\n",
      "The  graph contains <bound method MultiGraph.number_of_edges of <networkx.classes.multidigraph.MultiDiGraph object at 0x000001C43AC3FC48>> edges\n",
      "The  graph contains <bound method MultiGraph.number_of_edges of <networkx.classes.multidigraph.MultiDiGraph object at 0x000001C43AC38148>> edges\n",
      "The  graph contains <bound method MultiGraph.number_of_edges of <networkx.classes.multidigraph.MultiDiGraph object at 0x000001C43AC381C8>> edges\n",
      "The  graph contains <bound method MultiGraph.number_of_edges of <networkx.classes.multidigraph.MultiDiGraph object at 0x000001C43AC38088>> edges\n",
      "The  graph contains <bound method MultiGraph.number_of_edges of <networkx.classes.multidigraph.MultiDiGraph object at 0x000001C43AC38208>> edges\n",
      "The  graph contains <bound method MultiGraph.number_of_edges of <networkx.classes.multidigraph.MultiDiGraph object at 0x000001C43AC380C8>> edges\n",
      "The  graph contains <bound method MultiGraph.number_of_edges of <networkx.classes.multidigraph.MultiDiGraph object at 0x000001C43AC37D88>> edges\n",
      "The  graph contains <bound method MultiGraph.number_of_edges of <networkx.classes.multidigraph.MultiDiGraph object at 0x000001C43AC37F88>> edges\n",
      "The  graph contains <bound method MultiGraph.number_of_edges of <networkx.classes.multidigraph.MultiDiGraph object at 0x000001C43AC37F08>> edges\n",
      "The  graph contains <bound method MultiGraph.number_of_edges of <networkx.classes.multidigraph.MultiDiGraph object at 0x000001C43AC37B48>> edges\n",
      "The  graph contains <bound method MultiGraph.number_of_edges of <networkx.classes.multidigraph.MultiDiGraph object at 0x000001C43AC37F48>> edges\n",
      "The  graph contains <bound method MultiGraph.number_of_edges of <networkx.classes.multidigraph.MultiDiGraph object at 0x000001C43AC37CC8>> edges\n",
      "The  graph contains <bound method MultiGraph.number_of_edges of <networkx.classes.multidigraph.MultiDiGraph object at 0x000001C43AC37EC8>> edges\n",
      "The  graph contains <bound method MultiGraph.number_of_edges of <networkx.classes.multidigraph.MultiDiGraph object at 0x000001C43AC37E88>> edges\n",
      "The  graph contains <bound method MultiGraph.number_of_edges of <networkx.classes.multidigraph.MultiDiGraph object at 0x000001C43AC37E48>> edges\n",
      "The  graph contains <bound method MultiGraph.number_of_edges of <networkx.classes.multidigraph.MultiDiGraph object at 0x000001C43AC37E08>> edges\n",
      "The  graph contains <bound method MultiGraph.number_of_edges of <networkx.classes.multidigraph.MultiDiGraph object at 0x000001C43AC37DC8>> edges\n",
      "The  graph contains <bound method MultiGraph.number_of_edges of <networkx.classes.multidigraph.MultiDiGraph object at 0x000001C43AC37C08>> edges\n",
      "The  graph contains <bound method MultiGraph.number_of_edges of <networkx.classes.multidigraph.MultiDiGraph object at 0x000001C43AC37D48>> edges\n",
      "The  graph contains <bound method MultiGraph.number_of_edges of <networkx.classes.multidigraph.MultiDiGraph object at 0x000001C43AC37D08>> edges\n",
      "The  graph contains <bound method MultiGraph.number_of_edges of <networkx.classes.multidigraph.MultiDiGraph object at 0x000001C43AC37C48>> edges\n",
      "The  graph contains <bound method MultiGraph.number_of_edges of <networkx.classes.multidigraph.MultiDiGraph object at 0x000001C43AC37BC8>> edges\n",
      "The  graph contains <bound method MultiGraph.number_of_edges of <networkx.classes.multidigraph.MultiDiGraph object at 0x000001C43AC37A48>> edges\n",
      "The  graph contains <bound method MultiGraph.number_of_edges of <networkx.classes.multidigraph.MultiDiGraph object at 0x000001C43AC37888>> edges\n",
      "The  graph contains <bound method MultiGraph.number_of_edges of <networkx.classes.multidigraph.MultiDiGraph object at 0x000001C43AC37C88>> edges\n",
      "The  graph contains <bound method MultiGraph.number_of_edges of <networkx.classes.multidigraph.MultiDiGraph object at 0x000001C43AC37B88>> edges\n",
      "The  graph contains <bound method MultiGraph.number_of_edges of <networkx.classes.multidigraph.MultiDiGraph object at 0x000001C43AC37AC8>> edges\n",
      "The  graph contains <bound method MultiGraph.number_of_edges of <networkx.classes.multidigraph.MultiDiGraph object at 0x000001C43AC37B08>> edges\n",
      "The  graph contains <bound method MultiGraph.number_of_edges of <networkx.classes.multidigraph.MultiDiGraph object at 0x000001C43AC377C8>> edges\n",
      "The  graph contains <bound method MultiGraph.number_of_edges of <networkx.classes.multidigraph.MultiDiGraph object at 0x000001C43AC37A88>> edges\n",
      "The  graph contains <bound method MultiGraph.number_of_edges of <networkx.classes.multidigraph.MultiDiGraph object at 0x000001C43AC37A08>> edges\n",
      "The  graph contains <bound method MultiGraph.number_of_edges of <networkx.classes.multidigraph.MultiDiGraph object at 0x000001C43AC37788>> edges\n",
      "The  graph contains <bound method MultiGraph.number_of_edges of <networkx.classes.multidigraph.MultiDiGraph object at 0x000001C43AC379C8>> edges\n",
      "The  graph contains <bound method MultiGraph.number_of_edges of <networkx.classes.multidigraph.MultiDiGraph object at 0x000001C43AC37988>> edges\n",
      "The  graph contains <bound method MultiGraph.number_of_edges of <networkx.classes.multidigraph.MultiDiGraph object at 0x000001C43AC37908>> edges\n",
      "The  graph contains <bound method MultiGraph.number_of_edges of <networkx.classes.multidigraph.MultiDiGraph object at 0x000001C43AC378C8>> edges\n",
      "The  graph contains <bound method MultiGraph.number_of_edges of <networkx.classes.multidigraph.MultiDiGraph object at 0x000001C43AC37948>> edges\n",
      "The  graph contains <bound method MultiGraph.number_of_edges of <networkx.classes.multidigraph.MultiDiGraph object at 0x000001C43AC37808>> edges\n",
      "The  graph contains <bound method MultiGraph.number_of_edges of <networkx.classes.multidigraph.MultiDiGraph object at 0x000001C43AC37848>> edges\n",
      "The  graph contains <bound method MultiGraph.number_of_edges of <networkx.classes.multidigraph.MultiDiGraph object at 0x000001C43AC37608>> edges\n",
      "The  graph contains <bound method MultiGraph.number_of_edges of <networkx.classes.multidigraph.MultiDiGraph object at 0x000001C43AC376C8>> edges\n",
      "The  graph contains <bound method MultiGraph.number_of_edges of <networkx.classes.multidigraph.MultiDiGraph object at 0x000001C43AC37748>> edges\n",
      "The  graph contains <bound method MultiGraph.number_of_edges of <networkx.classes.multidigraph.MultiDiGraph object at 0x000001C43AC37688>> edges\n",
      "The  graph contains <bound method MultiGraph.number_of_edges of <networkx.classes.multidigraph.MultiDiGraph object at 0x000001C43AC37308>> edges\n",
      "The  graph contains <bound method MultiGraph.number_of_edges of <networkx.classes.multidigraph.MultiDiGraph object at 0x000001C43AC37708>> edges\n",
      "The  graph contains <bound method MultiGraph.number_of_edges of <networkx.classes.multidigraph.MultiDiGraph object at 0x000001C43AC375C8>> edges\n",
      "The  graph contains <bound method MultiGraph.number_of_edges of <networkx.classes.multidigraph.MultiDiGraph object at 0x000001C43AC37648>> edges\n",
      "The  graph contains <bound method MultiGraph.number_of_edges of <networkx.classes.multidigraph.MultiDiGraph object at 0x000001C43AC37348>> edges\n",
      "The  graph contains <bound method MultiGraph.number_of_edges of <networkx.classes.multidigraph.MultiDiGraph object at 0x000001C43AC37208>> edges\n",
      "The  graph contains <bound method MultiGraph.number_of_edges of <networkx.classes.multidigraph.MultiDiGraph object at 0x000001C43AC37588>> edges\n",
      "The  graph contains <bound method MultiGraph.number_of_edges of <networkx.classes.multidigraph.MultiDiGraph object at 0x000001C43AC37548>> edges\n",
      "The  graph contains <bound method MultiGraph.number_of_edges of <networkx.classes.multidigraph.MultiDiGraph object at 0x000001C43AC37508>> edges\n",
      "The  graph contains <bound method MultiGraph.number_of_edges of <networkx.classes.multidigraph.MultiDiGraph object at 0x000001C43AC374C8>> edges\n",
      "The  graph contains <bound method MultiGraph.number_of_edges of <networkx.classes.multidigraph.MultiDiGraph object at 0x000001C43AC37488>> edges\n",
      "The  graph contains <bound method MultiGraph.number_of_edges of <networkx.classes.multidigraph.MultiDiGraph object at 0x000001C43AC37448>> edges\n",
      "The  graph contains <bound method MultiGraph.number_of_edges of <networkx.classes.multidigraph.MultiDiGraph object at 0x000001C43AC37408>> edges\n",
      "The  graph contains <bound method MultiGraph.number_of_edges of <networkx.classes.multidigraph.MultiDiGraph object at 0x000001C43AC373C8>> edges\n",
      "The  graph contains <bound method MultiGraph.number_of_edges of <networkx.classes.multidigraph.MultiDiGraph object at 0x000001C43AC37388>> edges\n",
      "The  graph contains <bound method MultiGraph.number_of_edges of <networkx.classes.multidigraph.MultiDiGraph object at 0x000001C43AC372C8>> edges\n",
      "The  graph contains <bound method MultiGraph.number_of_edges of <networkx.classes.multidigraph.MultiDiGraph object at 0x000001C43AC37148>> edges\n",
      "The  graph contains <bound method MultiGraph.number_of_edges of <networkx.classes.multidigraph.MultiDiGraph object at 0x000001C43AC37108>> edges\n",
      "The  graph contains <bound method MultiGraph.number_of_edges of <networkx.classes.multidigraph.MultiDiGraph object at 0x000001C43AC37288>> edges\n",
      "The  graph contains <bound method MultiGraph.number_of_edges of <networkx.classes.multidigraph.MultiDiGraph object at 0x000001C43AC37248>> edges\n",
      "The  graph contains <bound method MultiGraph.number_of_edges of <networkx.classes.multidigraph.MultiDiGraph object at 0x000001C43AC37188>> edges\n",
      "The  graph contains <bound method MultiGraph.number_of_edges of <networkx.classes.multidigraph.MultiDiGraph object at 0x000001C43AC371C8>> edges\n",
      "The  graph contains <bound method MultiGraph.number_of_edges of <networkx.classes.multidigraph.MultiDiGraph object at 0x000001C43AC370C8>> edges\n",
      "The  graph contains <bound method MultiGraph.number_of_edges of <networkx.classes.multidigraph.MultiDiGraph object at 0x000001C43AC37088>> edges\n",
      "The  graph contains <bound method MultiGraph.number_of_edges of <networkx.classes.multidigraph.MultiDiGraph object at 0x000001C43AC37048>> edges\n",
      "The  graph contains <bound method MultiGraph.number_of_edges of <networkx.classes.multidigraph.MultiDiGraph object at 0x000001C43AC36F88>> edges\n",
      "The  graph contains <bound method MultiGraph.number_of_edges of <networkx.classes.multidigraph.MultiDiGraph object at 0x000001C43AC36E08>> edges\n",
      "The  graph contains <bound method MultiGraph.number_of_edges of <networkx.classes.multidigraph.MultiDiGraph object at 0x000001C43AC36F48>> edges\n",
      "The  graph contains <bound method MultiGraph.number_of_edges of <networkx.classes.multidigraph.MultiDiGraph object at 0x000001C43AC36E88>> edges\n",
      "The  graph contains <bound method MultiGraph.number_of_edges of <networkx.classes.multidigraph.MultiDiGraph object at 0x000001C43AC36F08>> edges\n",
      "The  graph contains <bound method MultiGraph.number_of_edges of <networkx.classes.multidigraph.MultiDiGraph object at 0x000001C43AC36E48>> edges\n",
      "The  graph contains <bound method MultiGraph.number_of_edges of <networkx.classes.multidigraph.MultiDiGraph object at 0x000001C43AC36EC8>> edges\n",
      "The  graph contains <bound method MultiGraph.number_of_edges of <networkx.classes.multidigraph.MultiDiGraph object at 0x000001C43AC36DC8>> edges\n",
      "The  graph contains <bound method MultiGraph.number_of_edges of <networkx.classes.multidigraph.MultiDiGraph object at 0x000001C43AC36C48>> edges\n",
      "The  graph contains <bound method MultiGraph.number_of_edges of <networkx.classes.multidigraph.MultiDiGraph object at 0x000001C43AC369C8>> edges\n",
      "The  graph contains <bound method MultiGraph.number_of_edges of <networkx.classes.multidigraph.MultiDiGraph object at 0x000001C43AC36D48>> edges\n",
      "The  graph contains <bound method MultiGraph.number_of_edges of <networkx.classes.multidigraph.MultiDiGraph object at 0x000001C43AC36CC8>> edges\n",
      "The  graph contains <bound method MultiGraph.number_of_edges of <networkx.classes.multidigraph.MultiDiGraph object at 0x000001C43AC36D88>> edges\n",
      "The  graph contains <bound method MultiGraph.number_of_edges of <networkx.classes.multidigraph.MultiDiGraph object at 0x000001C43AC36BC8>> edges\n",
      "The  graph contains <bound method MultiGraph.number_of_edges of <networkx.classes.multidigraph.MultiDiGraph object at 0x000001C43AC36D08>> edges\n",
      "The  graph contains <bound method MultiGraph.number_of_edges of <networkx.classes.multidigraph.MultiDiGraph object at 0x000001C43AC36C88>> edges\n",
      "The  graph contains <bound method MultiGraph.number_of_edges of <networkx.classes.multidigraph.MultiDiGraph object at 0x000001C43AC36C08>> edges\n",
      "The  graph contains <bound method MultiGraph.number_of_edges of <networkx.classes.multidigraph.MultiDiGraph object at 0x000001C43AC367C8>> edges\n",
      "The  graph contains <bound method MultiGraph.number_of_edges of <networkx.classes.multidigraph.MultiDiGraph object at 0x000001C43AC36B88>> edges\n",
      "The  graph contains <bound method MultiGraph.number_of_edges of <networkx.classes.multidigraph.MultiDiGraph object at 0x000001C43AC36AC8>> edges\n",
      "The  graph contains <bound method MultiGraph.number_of_edges of <networkx.classes.multidigraph.MultiDiGraph object at 0x000001C43AC36B08>> edges\n",
      "The  graph contains <bound method MultiGraph.number_of_edges of <networkx.classes.multidigraph.MultiDiGraph object at 0x000001C43AC36B48>> edges\n",
      "The  graph contains <bound method MultiGraph.number_of_edges of <networkx.classes.multidigraph.MultiDiGraph object at 0x000001C43AC36848>> edges\n",
      "The  graph contains <bound method MultiGraph.number_of_edges of <networkx.classes.multidigraph.MultiDiGraph object at 0x000001C43AC36A88>> edges\n",
      "The  graph contains <bound method MultiGraph.number_of_edges of <networkx.classes.multidigraph.MultiDiGraph object at 0x000001C43AC36A48>> edges\n",
      "The  graph contains <bound method MultiGraph.number_of_edges of <networkx.classes.multidigraph.MultiDiGraph object at 0x000001C43AC36A08>> edges\n",
      "The  graph contains <bound method MultiGraph.number_of_edges of <networkx.classes.multidigraph.MultiDiGraph object at 0x000001C43AC36908>> edges\n",
      "The  graph contains <bound method MultiGraph.number_of_edges of <networkx.classes.multidigraph.MultiDiGraph object at 0x000001C43AC36988>> edges\n",
      "The  graph contains <bound method MultiGraph.number_of_edges of <networkx.classes.multidigraph.MultiDiGraph object at 0x000001C43AC36948>> edges\n",
      "The  graph contains <bound method MultiGraph.number_of_edges of <networkx.classes.multidigraph.MultiDiGraph object at 0x000001C43AC36808>> edges\n",
      "The  graph contains <bound method MultiGraph.number_of_edges of <networkx.classes.multidigraph.MultiDiGraph object at 0x000001C43AC368C8>> edges\n",
      "The  graph contains <bound method MultiGraph.number_of_edges of <networkx.classes.multidigraph.MultiDiGraph object at 0x000001C43AC36788>> edges\n",
      "The  graph contains <bound method MultiGraph.number_of_edges of <networkx.classes.multidigraph.MultiDiGraph object at 0x000001C43AC366C8>> edges\n",
      "The  graph contains <bound method MultiGraph.number_of_edges of <networkx.classes.multidigraph.MultiDiGraph object at 0x000001C43AC36888>> edges\n",
      "The  graph contains <bound method MultiGraph.number_of_edges of <networkx.classes.multidigraph.MultiDiGraph object at 0x000001C43AC36748>> edges\n",
      "The  graph contains <bound method MultiGraph.number_of_edges of <networkx.classes.multidigraph.MultiDiGraph object at 0x000001C43AC36688>> edges\n",
      "The  graph contains <bound method MultiGraph.number_of_edges of <networkx.classes.multidigraph.MultiDiGraph object at 0x000001C43AC36648>> edges\n",
      "The  graph contains <bound method MultiGraph.number_of_edges of <networkx.classes.multidigraph.MultiDiGraph object at 0x000001C43AC36708>> edges\n",
      "The  graph contains <bound method MultiGraph.number_of_edges of <networkx.classes.multidigraph.MultiDiGraph object at 0x000001C43AC36508>> edges\n",
      "The  graph contains <bound method MultiGraph.number_of_edges of <networkx.classes.multidigraph.MultiDiGraph object at 0x000001C43AC36608>> edges\n",
      "The  graph contains <bound method MultiGraph.number_of_edges of <networkx.classes.multidigraph.MultiDiGraph object at 0x000001C43AC36588>> edges\n",
      "The  graph contains <bound method MultiGraph.number_of_edges of <networkx.classes.multidigraph.MultiDiGraph object at 0x000001C43AC365C8>> edges\n",
      "The  graph contains <bound method MultiGraph.number_of_edges of <networkx.classes.multidigraph.MultiDiGraph object at 0x000001C43AC36548>> edges\n",
      "The  graph contains <bound method MultiGraph.number_of_edges of <networkx.classes.multidigraph.MultiDiGraph object at 0x000001C43AC36448>> edges\n",
      "The  graph contains <bound method MultiGraph.number_of_edges of <networkx.classes.multidigraph.MultiDiGraph object at 0x000001C43AC364C8>> edges\n",
      "The  graph contains <bound method MultiGraph.number_of_edges of <networkx.classes.multidigraph.MultiDiGraph object at 0x000001C43AC36148>> edges\n",
      "The  graph contains <bound method MultiGraph.number_of_edges of <networkx.classes.multidigraph.MultiDiGraph object at 0x000001C43AC36348>> edges\n",
      "The  graph contains <bound method MultiGraph.number_of_edges of <networkx.classes.multidigraph.MultiDiGraph object at 0x000001C43AC36388>> edges\n",
      "The  graph contains <bound method MultiGraph.number_of_edges of <networkx.classes.multidigraph.MultiDiGraph object at 0x000001C43AC36408>> edges\n",
      "The  graph contains <bound method MultiGraph.number_of_edges of <networkx.classes.multidigraph.MultiDiGraph object at 0x000001C43AC36488>> edges\n",
      "The  graph contains <bound method MultiGraph.number_of_edges of <networkx.classes.multidigraph.MultiDiGraph object at 0x000001C43AC363C8>> edges\n",
      "The  graph contains <bound method MultiGraph.number_of_edges of <networkx.classes.multidigraph.MultiDiGraph object at 0x000001C43AC36248>> edges\n",
      "The  graph contains <bound method MultiGraph.number_of_edges of <networkx.classes.multidigraph.MultiDiGraph object at 0x000001C43AC362C8>> edges\n",
      "The  graph contains <bound method MultiGraph.number_of_edges of <networkx.classes.multidigraph.MultiDiGraph object at 0x000001C43AC36308>> edges\n",
      "The  graph contains <bound method MultiGraph.number_of_edges of <networkx.classes.multidigraph.MultiDiGraph object at 0x000001C43AC36288>> edges\n",
      "The  graph contains <bound method MultiGraph.number_of_edges of <networkx.classes.multidigraph.MultiDiGraph object at 0x000001C43AC36108>> edges\n",
      "The  graph contains <bound method MultiGraph.number_of_edges of <networkx.classes.multidigraph.MultiDiGraph object at 0x000001C43AC36208>> edges\n",
      "The  graph contains <bound method MultiGraph.number_of_edges of <networkx.classes.multidigraph.MultiDiGraph object at 0x000001C43AC361C8>> edges\n",
      "The  graph contains <bound method MultiGraph.number_of_edges of <networkx.classes.multidigraph.MultiDiGraph object at 0x000001C43AC36188>> edges\n",
      "The  graph contains <bound method MultiGraph.number_of_edges of <networkx.classes.multidigraph.MultiDiGraph object at 0x000001C43AC36048>> edges\n",
      "The  graph contains <bound method MultiGraph.number_of_edges of <networkx.classes.multidigraph.MultiDiGraph object at 0x000001C43AC36088>> edges\n",
      "The  graph contains <bound method MultiGraph.number_of_edges of <networkx.classes.multidigraph.MultiDiGraph object at 0x000001C43AC360C8>> edges\n",
      "The  graph contains <bound method MultiGraph.number_of_edges of <networkx.classes.multidigraph.MultiDiGraph object at 0x000001C43AC34F88>> edges\n",
      "The  graph contains <bound method MultiGraph.number_of_edges of <networkx.classes.multidigraph.MultiDiGraph object at 0x000001C43AC34FC8>> edges\n",
      "The  graph contains <bound method MultiGraph.number_of_edges of <networkx.classes.multidigraph.MultiDiGraph object at 0x000001C43AC34E88>> edges\n",
      "The  graph contains <bound method MultiGraph.number_of_edges of <networkx.classes.multidigraph.MultiDiGraph object at 0x000001C43AC34E08>> edges\n",
      "The  graph contains <bound method MultiGraph.number_of_edges of <networkx.classes.multidigraph.MultiDiGraph object at 0x000001C43AC34E48>> edges\n",
      "The  graph contains <bound method MultiGraph.number_of_edges of <networkx.classes.multidigraph.MultiDiGraph object at 0x000001C43AC34F48>> edges\n",
      "The  graph contains <bound method MultiGraph.number_of_edges of <networkx.classes.multidigraph.MultiDiGraph object at 0x000001C43AC34F08>> edges\n",
      "The  graph contains <bound method MultiGraph.number_of_edges of <networkx.classes.multidigraph.MultiDiGraph object at 0x000001C43AC34EC8>> edges\n",
      "The  graph contains <bound method MultiGraph.number_of_edges of <networkx.classes.multidigraph.MultiDiGraph object at 0x000001C43AC34AC8>> edges\n",
      "The  graph contains <bound method MultiGraph.number_of_edges of <networkx.classes.multidigraph.MultiDiGraph object at 0x000001C43AC34DC8>> edges\n",
      "The  graph contains <bound method MultiGraph.number_of_edges of <networkx.classes.multidigraph.MultiDiGraph object at 0x000001C43AC34D48>> edges\n",
      "The  graph contains <bound method MultiGraph.number_of_edges of <networkx.classes.multidigraph.MultiDiGraph object at 0x000001C43AC34CC8>> edges\n",
      "The  graph contains <bound method MultiGraph.number_of_edges of <networkx.classes.multidigraph.MultiDiGraph object at 0x000001C43AC34D88>> edges\n",
      "The  graph contains <bound method MultiGraph.number_of_edges of <networkx.classes.multidigraph.MultiDiGraph object at 0x000001C43AC34B88>> edges\n",
      "The  graph contains <bound method MultiGraph.number_of_edges of <networkx.classes.multidigraph.MultiDiGraph object at 0x000001C43AC34C88>> edges\n",
      "The  graph contains <bound method MultiGraph.number_of_edges of <networkx.classes.multidigraph.MultiDiGraph object at 0x000001C43AC34C48>> edges\n",
      "The  graph contains <bound method MultiGraph.number_of_edges of <networkx.classes.multidigraph.MultiDiGraph object at 0x000001C43AC34C08>> edges\n",
      "The  graph contains <bound method MultiGraph.number_of_edges of <networkx.classes.multidigraph.MultiDiGraph object at 0x000001C43AC34B08>> edges\n",
      "The  graph contains <bound method MultiGraph.number_of_edges of <networkx.classes.multidigraph.MultiDiGraph object at 0x000001C43AC34BC8>> edges\n",
      "The  graph contains <bound method MultiGraph.number_of_edges of <networkx.classes.multidigraph.MultiDiGraph object at 0x000001C43AC349C8>> edges\n",
      "The  graph contains <bound method MultiGraph.number_of_edges of <networkx.classes.multidigraph.MultiDiGraph object at 0x000001C43AC34988>> edges\n",
      "The  graph contains <bound method MultiGraph.number_of_edges of <networkx.classes.multidigraph.MultiDiGraph object at 0x000001C43AC34B48>> edges\n",
      "The  graph contains <bound method MultiGraph.number_of_edges of <networkx.classes.multidigraph.MultiDiGraph object at 0x000001C43AC34848>> edges\n",
      "The  graph contains <bound method MultiGraph.number_of_edges of <networkx.classes.multidigraph.MultiDiGraph object at 0x000001C43AC34A48>> edges\n",
      "The  graph contains <bound method MultiGraph.number_of_edges of <networkx.classes.multidigraph.MultiDiGraph object at 0x000001C43AC34A08>> edges\n",
      "The  graph contains <bound method MultiGraph.number_of_edges of <networkx.classes.multidigraph.MultiDiGraph object at 0x000001C43AC34748>> edges\n",
      "The  graph contains <bound method MultiGraph.number_of_edges of <networkx.classes.multidigraph.MultiDiGraph object at 0x000001C43AC348C8>> edges\n",
      "The  graph contains <bound method MultiGraph.number_of_edges of <networkx.classes.multidigraph.MultiDiGraph object at 0x000001C43AC34908>> edges\n",
      "The  graph contains <bound method MultiGraph.number_of_edges of <networkx.classes.multidigraph.MultiDiGraph object at 0x000001C43AC34948>> edges\n",
      "The  graph contains <bound method MultiGraph.number_of_edges of <networkx.classes.multidigraph.MultiDiGraph object at 0x000001C43AC34788>> edges\n",
      "The  graph contains <bound method MultiGraph.number_of_edges of <networkx.classes.multidigraph.MultiDiGraph object at 0x000001C43AC34888>> edges\n",
      "The  graph contains <bound method MultiGraph.number_of_edges of <networkx.classes.multidigraph.MultiDiGraph object at 0x000001C43AC34708>> edges\n",
      "The  graph contains <bound method MultiGraph.number_of_edges of <networkx.classes.multidigraph.MultiDiGraph object at 0x000001C43AC34808>> edges\n",
      "The  graph contains <bound method MultiGraph.number_of_edges of <networkx.classes.multidigraph.MultiDiGraph object at 0x000001C43AC347C8>> edges\n",
      "The  graph contains <bound method MultiGraph.number_of_edges of <networkx.classes.multidigraph.MultiDiGraph object at 0x000001C43AC34548>> edges\n",
      "The  graph contains <bound method MultiGraph.number_of_edges of <networkx.classes.multidigraph.MultiDiGraph object at 0x000001C43AC34588>> edges\n",
      "The  graph contains <bound method MultiGraph.number_of_edges of <networkx.classes.multidigraph.MultiDiGraph object at 0x000001C43AC346C8>> edges\n",
      "The  graph contains <bound method MultiGraph.number_of_edges of <networkx.classes.multidigraph.MultiDiGraph object at 0x000001C43AC34448>> edges\n",
      "The  graph contains <bound method MultiGraph.number_of_edges of <networkx.classes.multidigraph.MultiDiGraph object at 0x000001C43AC34688>> edges\n",
      "The  graph contains <bound method MultiGraph.number_of_edges of <networkx.classes.multidigraph.MultiDiGraph object at 0x000001C43AC34648>> edges\n",
      "The  graph contains <bound method MultiGraph.number_of_edges of <networkx.classes.multidigraph.MultiDiGraph object at 0x000001C43AC34608>> edges\n",
      "The  graph contains <bound method MultiGraph.number_of_edges of <networkx.classes.multidigraph.MultiDiGraph object at 0x000001C43AC345C8>> edges\n",
      "The  graph contains <bound method MultiGraph.number_of_edges of <networkx.classes.multidigraph.MultiDiGraph object at 0x000001C43AC34348>> edges\n",
      "The  graph contains <bound method MultiGraph.number_of_edges of <networkx.classes.multidigraph.MultiDiGraph object at 0x000001C43AC34508>> edges\n",
      "The  graph contains <bound method MultiGraph.number_of_edges of <networkx.classes.multidigraph.MultiDiGraph object at 0x000001C43AC342C8>> edges\n",
      "The  graph contains <bound method MultiGraph.number_of_edges of <networkx.classes.multidigraph.MultiDiGraph object at 0x000001C43AC344C8>> edges\n",
      "The  graph contains <bound method MultiGraph.number_of_edges of <networkx.classes.multidigraph.MultiDiGraph object at 0x000001C43AC34488>> edges\n",
      "The  graph contains <bound method MultiGraph.number_of_edges of <networkx.classes.multidigraph.MultiDiGraph object at 0x000001C43AC34388>> edges\n",
      "The  graph contains <bound method MultiGraph.number_of_edges of <networkx.classes.multidigraph.MultiDiGraph object at 0x000001C43AC34408>> edges\n",
      "The  graph contains <bound method MultiGraph.number_of_edges of <networkx.classes.multidigraph.MultiDiGraph object at 0x000001C43AC343C8>> edges\n",
      "The  graph contains <bound method MultiGraph.number_of_edges of <networkx.classes.multidigraph.MultiDiGraph object at 0x000001C43AC34148>> edges\n",
      "The  graph contains <bound method MultiGraph.number_of_edges of <networkx.classes.multidigraph.MultiDiGraph object at 0x000001C43AC34288>> edges\n",
      "The  graph contains <bound method MultiGraph.number_of_edges of <networkx.classes.multidigraph.MultiDiGraph object at 0x000001C43AC34308>> edges\n",
      "The  graph contains <bound method MultiGraph.number_of_edges of <networkx.classes.multidigraph.MultiDiGraph object at 0x000001C43AC34188>> edges\n",
      "The  graph contains <bound method MultiGraph.number_of_edges of <networkx.classes.multidigraph.MultiDiGraph object at 0x000001C43AC34248>> edges\n",
      "The  graph contains <bound method MultiGraph.number_of_edges of <networkx.classes.multidigraph.MultiDiGraph object at 0x000001C43AC34088>> edges\n",
      "The  graph contains <bound method MultiGraph.number_of_edges of <networkx.classes.multidigraph.MultiDiGraph object at 0x000001C43AC34208>> edges\n",
      "The  graph contains <bound method MultiGraph.number_of_edges of <networkx.classes.multidigraph.MultiDiGraph object at 0x000001C43AC341C8>> edges\n",
      "The  graph contains <bound method MultiGraph.number_of_edges of <networkx.classes.multidigraph.MultiDiGraph object at 0x000001C43AC34048>> edges\n",
      "The  graph contains <bound method MultiGraph.number_of_edges of <networkx.classes.multidigraph.MultiDiGraph object at 0x000001C43AC340C8>> edges\n",
      "The  graph contains <bound method MultiGraph.number_of_edges of <networkx.classes.multidigraph.MultiDiGraph object at 0x000001C43AC34108>> edges\n",
      "The  graph contains <bound method MultiGraph.number_of_edges of <networkx.classes.multidigraph.MultiDiGraph object at 0x000001C436484148>> edges\n",
      "The  graph contains <bound method MultiGraph.number_of_edges of <networkx.classes.multidigraph.MultiDiGraph object at 0x000001C436484688>> edges\n",
      "The  graph contains <bound method MultiGraph.number_of_edges of <networkx.classes.multidigraph.MultiDiGraph object at 0x000001C435C2C608>> edges\n",
      "The  graph contains <bound method MultiGraph.number_of_edges of <networkx.classes.multidigraph.MultiDiGraph object at 0x000001C43AC18F48>> edges\n",
      "The  graph contains <bound method MultiGraph.number_of_edges of <networkx.classes.multidigraph.MultiDiGraph object at 0x000001C43AC18FC8>> edges\n",
      "The  graph contains <bound method MultiGraph.number_of_edges of <networkx.classes.multidigraph.MultiDiGraph object at 0x000001C43AC18F88>> edges\n",
      "The  graph contains <bound method MultiGraph.number_of_edges of <networkx.classes.multidigraph.MultiDiGraph object at 0x000001C43AC18A88>> edges\n",
      "The  graph contains <bound method MultiGraph.number_of_edges of <networkx.classes.multidigraph.MultiDiGraph object at 0x000001C43AC18F08>> edges\n",
      "The  graph contains <bound method MultiGraph.number_of_edges of <networkx.classes.multidigraph.MultiDiGraph object at 0x000001C43635A548>> edges\n",
      "The  graph contains <bound method MultiGraph.number_of_edges of <networkx.classes.multidigraph.MultiDiGraph object at 0x000001C4363B4D88>> edges\n",
      "The  graph contains <bound method MultiGraph.number_of_edges of <networkx.classes.multidigraph.MultiDiGraph object at 0x000001C43AC18D48>> edges\n",
      "The  graph contains <bound method MultiGraph.number_of_edges of <networkx.classes.multidigraph.MultiDiGraph object at 0x000001C43AC184C8>> edges\n",
      "The  graph contains <bound method MultiGraph.number_of_edges of <networkx.classes.multidigraph.MultiDiGraph object at 0x000001C43AC16B08>> edges\n",
      "The  graph contains <bound method MultiGraph.number_of_edges of <networkx.classes.multidigraph.MultiDiGraph object at 0x000001C43AC14C08>> edges\n",
      "The  graph contains <bound method MultiGraph.number_of_edges of <networkx.classes.multidigraph.MultiDiGraph object at 0x000001C43AC14788>> edges\n",
      "The  graph contains <bound method MultiGraph.number_of_edges of <networkx.classes.multidigraph.MultiDiGraph object at 0x000001C43AC14208>> edges\n",
      "The  graph contains <bound method MultiGraph.number_of_edges of <networkx.classes.multidigraph.MultiDiGraph object at 0x000001C43AC0C2C8>> edges\n",
      "The  graph contains <bound method MultiGraph.number_of_edges of <networkx.classes.multidigraph.MultiDiGraph object at 0x000001C43AC0A808>> edges\n",
      "The  graph contains <bound method MultiGraph.number_of_edges of <networkx.classes.multidigraph.MultiDiGraph object at 0x000001C43AC08508>> edges\n",
      "The  graph contains <bound method MultiGraph.number_of_edges of <networkx.classes.multidigraph.MultiDiGraph object at 0x000001C43AC0EFC8>> edges\n",
      "The  graph contains <bound method MultiGraph.number_of_edges of <networkx.classes.multidigraph.MultiDiGraph object at 0x000001C43AC0ED48>> edges\n",
      "The  graph contains <bound method MultiGraph.number_of_edges of <networkx.classes.multidigraph.MultiDiGraph object at 0x000001C43AC0EDC8>> edges\n",
      "The  graph contains <bound method MultiGraph.number_of_edges of <networkx.classes.multidigraph.MultiDiGraph object at 0x000001C43AC0EE48>> edges\n",
      "The  graph contains <bound method MultiGraph.number_of_edges of <networkx.classes.multidigraph.MultiDiGraph object at 0x000001C43AC0EF08>> edges\n",
      "The  graph contains <bound method MultiGraph.number_of_edges of <networkx.classes.multidigraph.MultiDiGraph object at 0x000001C43AC0E6C8>> edges\n",
      "The  graph contains <bound method MultiGraph.number_of_edges of <networkx.classes.multidigraph.MultiDiGraph object at 0x000001C43AC0E5C8>> edges\n",
      "The  graph contains <bound method MultiGraph.number_of_edges of <networkx.classes.multidigraph.MultiDiGraph object at 0x000001C43AC02948>> edges\n",
      "The  graph contains <bound method MultiGraph.number_of_edges of <networkx.classes.multidigraph.MultiDiGraph object at 0x000001C436C8D248>> edges\n",
      "The  graph contains <bound method MultiGraph.number_of_edges of <networkx.classes.multidigraph.MultiDiGraph object at 0x000001C43AC12848>> edges\n",
      "The  graph contains <bound method MultiGraph.number_of_edges of <networkx.classes.multidigraph.MultiDiGraph object at 0x000001C43AC124C8>> edges\n",
      "The  graph contains <bound method MultiGraph.number_of_edges of <networkx.classes.multidigraph.MultiDiGraph object at 0x000001C43AC1A988>> edges\n",
      "The  graph contains <bound method MultiGraph.number_of_edges of <networkx.classes.multidigraph.MultiDiGraph object at 0x000001C43AC1AC08>> edges\n",
      "The  graph contains <bound method MultiGraph.number_of_edges of <networkx.classes.multidigraph.MultiDiGraph object at 0x000001C43AC1AE08>> edges\n",
      "The  graph contains <bound method MultiGraph.number_of_edges of <networkx.classes.multidigraph.MultiDiGraph object at 0x000001C43AC1ABC8>> edges\n",
      "The  graph contains <bound method MultiGraph.number_of_edges of <networkx.classes.multidigraph.MultiDiGraph object at 0x000001C43AC1AF88>> edges\n",
      "The  graph contains <bound method MultiGraph.number_of_edges of <networkx.classes.multidigraph.MultiDiGraph object at 0x000001C43AC1AFC8>> edges\n",
      "The  graph contains <bound method MultiGraph.number_of_edges of <networkx.classes.multidigraph.MultiDiGraph object at 0x000001C43AC1AF08>> edges\n",
      "The  graph contains <bound method MultiGraph.number_of_edges of <networkx.classes.multidigraph.MultiDiGraph object at 0x000001C43AC1AD88>> edges\n",
      "The  graph contains <bound method MultiGraph.number_of_edges of <networkx.classes.multidigraph.MultiDiGraph object at 0x000001C43AC1AF48>> edges\n",
      "The  graph contains <bound method MultiGraph.number_of_edges of <networkx.classes.multidigraph.MultiDiGraph object at 0x000001C43AC1AC88>> edges\n",
      "The  graph contains <bound method MultiGraph.number_of_edges of <networkx.classes.multidigraph.MultiDiGraph object at 0x000001C43AC1AB08>> edges\n",
      "The  graph contains <bound method MultiGraph.number_of_edges of <networkx.classes.multidigraph.MultiDiGraph object at 0x000001C43AC1A548>> edges\n",
      "The  graph contains <bound method MultiGraph.number_of_edges of <networkx.classes.multidigraph.MultiDiGraph object at 0x000001C43AC1ACC8>> edges\n",
      "The  graph contains <bound method MultiGraph.number_of_edges of <networkx.classes.multidigraph.MultiDiGraph object at 0x000001C43AC1AEC8>> edges\n",
      "The  graph contains <bound method MultiGraph.number_of_edges of <networkx.classes.multidigraph.MultiDiGraph object at 0x000001C43AC1AE88>> edges\n",
      "The  graph contains <bound method MultiGraph.number_of_edges of <networkx.classes.multidigraph.MultiDiGraph object at 0x000001C43AC1AD48>> edges\n",
      "The  graph contains <bound method MultiGraph.number_of_edges of <networkx.classes.multidigraph.MultiDiGraph object at 0x000001C43AC1A908>> edges\n",
      "The  graph contains <bound method MultiGraph.number_of_edges of <networkx.classes.multidigraph.MultiDiGraph object at 0x000001C43AC1ADC8>> edges\n",
      "The  graph contains <bound method MultiGraph.number_of_edges of <networkx.classes.multidigraph.MultiDiGraph object at 0x000001C43AC1A5C8>> edges\n",
      "The  graph contains <bound method MultiGraph.number_of_edges of <networkx.classes.multidigraph.MultiDiGraph object at 0x000001C43AC1A848>> edges\n",
      "The  graph contains <bound method MultiGraph.number_of_edges of <networkx.classes.multidigraph.MultiDiGraph object at 0x000001C43AC1A9C8>> edges\n",
      "The  graph contains <bound method MultiGraph.number_of_edges of <networkx.classes.multidigraph.MultiDiGraph object at 0x000001C43AC1AB48>> edges\n",
      "The  graph contains <bound method MultiGraph.number_of_edges of <networkx.classes.multidigraph.MultiDiGraph object at 0x000001C43AC1A688>> edges\n",
      "The  graph contains <bound method MultiGraph.number_of_edges of <networkx.classes.multidigraph.MultiDiGraph object at 0x000001C43AC1A808>> edges\n",
      "The  graph contains <bound method MultiGraph.number_of_edges of <networkx.classes.multidigraph.MultiDiGraph object at 0x000001C43AC1AE48>> edges\n",
      "The  graph contains <bound method MultiGraph.number_of_edges of <networkx.classes.multidigraph.MultiDiGraph object at 0x000001C43AC1A6C8>> edges\n",
      "The  graph contains <bound method MultiGraph.number_of_edges of <networkx.classes.multidigraph.MultiDiGraph object at 0x000001C43AC1A788>> edges\n",
      "The  graph contains <bound method MultiGraph.number_of_edges of <networkx.classes.multidigraph.MultiDiGraph object at 0x000001C43AC1AA88>> edges\n",
      "The  graph contains <bound method MultiGraph.number_of_edges of <networkx.classes.multidigraph.MultiDiGraph object at 0x000001C43AC1AA48>> edges\n",
      "The  graph contains <bound method MultiGraph.number_of_edges of <networkx.classes.multidigraph.MultiDiGraph object at 0x000001C43AC1A8C8>> edges\n",
      "The  graph contains <bound method MultiGraph.number_of_edges of <networkx.classes.multidigraph.MultiDiGraph object at 0x000001C43AC1AA08>> edges\n",
      "The  graph contains <bound method MultiGraph.number_of_edges of <networkx.classes.multidigraph.MultiDiGraph object at 0x000001C43AC1A588>> edges\n",
      "The  graph contains <bound method MultiGraph.number_of_edges of <networkx.classes.multidigraph.MultiDiGraph object at 0x000001C43AC1A748>> edges\n",
      "The  graph contains <bound method MultiGraph.number_of_edges of <networkx.classes.multidigraph.MultiDiGraph object at 0x000001C43AC1AC48>> edges\n",
      "The  graph contains <bound method MultiGraph.number_of_edges of <networkx.classes.multidigraph.MultiDiGraph object at 0x000001C43AC1A448>> edges\n",
      "The  graph contains <bound method MultiGraph.number_of_edges of <networkx.classes.multidigraph.MultiDiGraph object at 0x000001C43AC1A648>> edges\n",
      "The  graph contains <bound method MultiGraph.number_of_edges of <networkx.classes.multidigraph.MultiDiGraph object at 0x000001C43AC1A7C8>> edges\n",
      "The  graph contains <bound method MultiGraph.number_of_edges of <networkx.classes.multidigraph.MultiDiGraph object at 0x000001C43AC1A888>> edges\n",
      "The  graph contains <bound method MultiGraph.number_of_edges of <networkx.classes.multidigraph.MultiDiGraph object at 0x000001C43AC1A088>> edges\n",
      "The  graph contains <bound method MultiGraph.number_of_edges of <networkx.classes.multidigraph.MultiDiGraph object at 0x000001C43AC1A288>> edges\n",
      "The  graph contains <bound method MultiGraph.number_of_edges of <networkx.classes.multidigraph.MultiDiGraph object at 0x000001C43AC1A3C8>> edges\n",
      "The  graph contains <bound method MultiGraph.number_of_edges of <networkx.classes.multidigraph.MultiDiGraph object at 0x000001C43AC1AAC8>> edges\n",
      "The  graph contains <bound method MultiGraph.number_of_edges of <networkx.classes.multidigraph.MultiDiGraph object at 0x000001C43AC1A048>> edges\n",
      "The  graph contains <bound method MultiGraph.number_of_edges of <networkx.classes.multidigraph.MultiDiGraph object at 0x000001C43AC1A508>> edges\n",
      "The  graph contains <bound method MultiGraph.number_of_edges of <networkx.classes.multidigraph.MultiDiGraph object at 0x000001C43AC1A708>> edges\n",
      "The  graph contains <bound method MultiGraph.number_of_edges of <networkx.classes.multidigraph.MultiDiGraph object at 0x000001C43AC1A188>> edges\n",
      "The  graph contains <bound method MultiGraph.number_of_edges of <networkx.classes.multidigraph.MultiDiGraph object at 0x000001C43AC1A108>> edges\n",
      "The  graph contains <bound method MultiGraph.number_of_edges of <networkx.classes.multidigraph.MultiDiGraph object at 0x000001C43AC1AD08>> edges\n",
      "The  graph contains <bound method MultiGraph.number_of_edges of <networkx.classes.multidigraph.MultiDiGraph object at 0x000001C43AC1A608>> edges\n",
      "The  graph contains <bound method MultiGraph.number_of_edges of <networkx.classes.multidigraph.MultiDiGraph object at 0x000001C43AC1A348>> edges\n",
      "The  graph contains <bound method MultiGraph.number_of_edges of <networkx.classes.multidigraph.MultiDiGraph object at 0x000001C43AC1AB88>> edges\n",
      "The  graph contains <bound method MultiGraph.number_of_edges of <networkx.classes.multidigraph.MultiDiGraph object at 0x000001C43AC1A208>> edges\n",
      "The  graph contains <bound method MultiGraph.number_of_edges of <networkx.classes.multidigraph.MultiDiGraph object at 0x000001C43AC1A948>> edges\n",
      "The  graph contains <bound method MultiGraph.number_of_edges of <networkx.classes.multidigraph.MultiDiGraph object at 0x000001C43AC1A0C8>> edges\n",
      "The  graph contains <bound method MultiGraph.number_of_edges of <networkx.classes.multidigraph.MultiDiGraph object at 0x000001C43AC1A308>> edges\n",
      "The  graph contains <bound method MultiGraph.number_of_edges of <networkx.classes.multidigraph.MultiDiGraph object at 0x000001C43AC1A408>> edges\n",
      "The  graph contains <bound method MultiGraph.number_of_edges of <networkx.classes.multidigraph.MultiDiGraph object at 0x000001C4398CFC48>> edges\n",
      "The  graph contains <bound method MultiGraph.number_of_edges of <networkx.classes.multidigraph.MultiDiGraph object at 0x000001C4398CF908>> edges\n",
      "The  graph contains <bound method MultiGraph.number_of_edges of <networkx.classes.multidigraph.MultiDiGraph object at 0x000001C4398CF8C8>> edges\n",
      "The  graph contains <bound method MultiGraph.number_of_edges of <networkx.classes.multidigraph.MultiDiGraph object at 0x000001C4398CF988>> edges\n",
      "The  graph contains <bound method MultiGraph.number_of_edges of <networkx.classes.multidigraph.MultiDiGraph object at 0x000001C4398CF1C8>> edges\n",
      "The  graph contains <bound method MultiGraph.number_of_edges of <networkx.classes.multidigraph.MultiDiGraph object at 0x000001C4398CF448>> edges\n",
      "The  graph contains <bound method MultiGraph.number_of_edges of <networkx.classes.multidigraph.MultiDiGraph object at 0x000001C4398CF408>> edges\n",
      "The  graph contains <bound method MultiGraph.number_of_edges of <networkx.classes.multidigraph.MultiDiGraph object at 0x000001C4398CF508>> edges\n",
      "The  graph contains <bound method MultiGraph.number_of_edges of <networkx.classes.multidigraph.MultiDiGraph object at 0x000001C4398CF188>> edges\n",
      "The  graph contains <bound method MultiGraph.number_of_edges of <networkx.classes.multidigraph.MultiDiGraph object at 0x000001C4398CF288>> edges\n",
      "The  graph contains <bound method MultiGraph.number_of_edges of <networkx.classes.multidigraph.MultiDiGraph object at 0x000001C4398CF0C8>> edges\n",
      "The  graph contains <bound method MultiGraph.number_of_edges of <networkx.classes.multidigraph.MultiDiGraph object at 0x000001C4398CF048>> edges\n",
      "The  graph contains <bound method MultiGraph.number_of_edges of <networkx.classes.multidigraph.MultiDiGraph object at 0x000001C4398CF3C8>> edges\n",
      "The  graph contains <bound method MultiGraph.number_of_edges of <networkx.classes.multidigraph.MultiDiGraph object at 0x000001C4398CF4C8>> edges\n",
      "The  graph contains <bound method MultiGraph.number_of_edges of <networkx.classes.multidigraph.MultiDiGraph object at 0x000001C4398CF648>> edges\n",
      "The  graph contains <bound method MultiGraph.number_of_edges of <networkx.classes.multidigraph.MultiDiGraph object at 0x000001C4398CF7C8>> edges\n",
      "The  graph contains <bound method MultiGraph.number_of_edges of <networkx.classes.multidigraph.MultiDiGraph object at 0x000001C4398CF848>> edges\n",
      "The  graph contains <bound method MultiGraph.number_of_edges of <networkx.classes.multidigraph.MultiDiGraph object at 0x000001C4398CF948>> edges\n",
      "The  graph contains <bound method MultiGraph.number_of_edges of <networkx.classes.multidigraph.MultiDiGraph object at 0x000001C4398CFA08>> edges\n",
      "The  graph contains <bound method MultiGraph.number_of_edges of <networkx.classes.multidigraph.MultiDiGraph object at 0x000001C4398CFFC8>> edges\n",
      "The  graph contains <bound method MultiGraph.number_of_edges of <networkx.classes.multidigraph.MultiDiGraph object at 0x000001C4398CFD08>> edges\n",
      "The  graph contains <bound method MultiGraph.number_of_edges of <networkx.classes.multidigraph.MultiDiGraph object at 0x000001C4398CFCC8>> edges\n",
      "The  graph contains <bound method MultiGraph.number_of_edges of <networkx.classes.multidigraph.MultiDiGraph object at 0x000001C4398CFF88>> edges\n",
      "The  graph contains <bound method MultiGraph.number_of_edges of <networkx.classes.multidigraph.MultiDiGraph object at 0x000001C4398CFD88>> edges\n",
      "The  graph contains <bound method MultiGraph.number_of_edges of <networkx.classes.multidigraph.MultiDiGraph object at 0x000001C4398CFE48>> edges\n",
      "The  graph contains <bound method MultiGraph.number_of_edges of <networkx.classes.multidigraph.MultiDiGraph object at 0x000001C4398CFF08>> edges\n",
      "The  graph contains <bound method MultiGraph.number_of_edges of <networkx.classes.multidigraph.MultiDiGraph object at 0x000001C4398CFE88>> edges\n",
      "The  graph contains <bound method MultiGraph.number_of_edges of <networkx.classes.multidigraph.MultiDiGraph object at 0x000001C4398CF548>> edges\n",
      "The  graph contains <bound method MultiGraph.number_of_edges of <networkx.classes.multidigraph.MultiDiGraph object at 0x000001C4398CF588>> edges\n",
      "The  graph contains <bound method MultiGraph.number_of_edges of <networkx.classes.multidigraph.MultiDiGraph object at 0x000001C4398CF5C8>> edges\n",
      "The  graph contains <bound method MultiGraph.number_of_edges of <networkx.classes.multidigraph.MultiDiGraph object at 0x000001C4398CF488>> edges\n",
      "The  graph contains <bound method MultiGraph.number_of_edges of <networkx.classes.multidigraph.MultiDiGraph object at 0x000001C4398CF348>> edges\n",
      "The  graph contains <bound method MultiGraph.number_of_edges of <networkx.classes.multidigraph.MultiDiGraph object at 0x000001C4398CF108>> edges\n",
      "The  graph contains <bound method MultiGraph.number_of_edges of <networkx.classes.multidigraph.MultiDiGraph object at 0x000001C4398CF208>> edges\n",
      "The  graph contains <bound method MultiGraph.number_of_edges of <networkx.classes.multidigraph.MultiDiGraph object at 0x000001C4398CF2C8>> edges\n",
      "The  graph contains <bound method MultiGraph.number_of_edges of <networkx.classes.multidigraph.MultiDiGraph object at 0x000001C4398CF308>> edges\n",
      "The  graph contains <bound method MultiGraph.number_of_edges of <networkx.classes.multidigraph.MultiDiGraph object at 0x000001C4398CF148>> edges\n",
      "The  graph contains <bound method MultiGraph.number_of_edges of <networkx.classes.multidigraph.MultiDiGraph object at 0x000001C43618CEC8>> edges\n",
      "The  graph contains <bound method MultiGraph.number_of_edges of <networkx.classes.multidigraph.MultiDiGraph object at 0x000001C4398C2908>> edges\n",
      "The  graph contains <bound method MultiGraph.number_of_edges of <networkx.classes.multidigraph.MultiDiGraph object at 0x000001C4398C2848>> edges\n",
      "The  graph contains <bound method MultiGraph.number_of_edges of <networkx.classes.multidigraph.MultiDiGraph object at 0x000001C4398C2A08>> edges\n",
      "The  graph contains <bound method MultiGraph.number_of_edges of <networkx.classes.multidigraph.MultiDiGraph object at 0x000001C4398C2788>> edges\n",
      "The  graph contains <bound method MultiGraph.number_of_edges of <networkx.classes.multidigraph.MultiDiGraph object at 0x000001C4398C2C08>> edges\n",
      "The  graph contains <bound method MultiGraph.number_of_edges of <networkx.classes.multidigraph.MultiDiGraph object at 0x000001C4398C2088>> edges\n",
      "The  graph contains <bound method MultiGraph.number_of_edges of <networkx.classes.multidigraph.MultiDiGraph object at 0x000001C4398C20C8>> edges\n",
      "The  graph contains <bound method MultiGraph.number_of_edges of <networkx.classes.multidigraph.MultiDiGraph object at 0x000001C4398C2808>> edges\n",
      "The  graph contains <bound method MultiGraph.number_of_edges of <networkx.classes.multidigraph.MultiDiGraph object at 0x000001C4398C2748>> edges\n",
      "The  graph contains <bound method MultiGraph.number_of_edges of <networkx.classes.multidigraph.MultiDiGraph object at 0x000001C42FBA67C8>> edges\n",
      "The  graph contains <bound method MultiGraph.number_of_edges of <networkx.classes.multidigraph.MultiDiGraph object at 0x000001C4361F0EC8>> edges\n",
      "The  graph contains <bound method MultiGraph.number_of_edges of <networkx.classes.multidigraph.MultiDiGraph object at 0x000001C4361F0388>> edges\n",
      "The  graph contains <bound method MultiGraph.number_of_edges of <networkx.classes.multidigraph.MultiDiGraph object at 0x000001C436174E48>> edges\n",
      "The  graph contains <bound method MultiGraph.number_of_edges of <networkx.classes.multidigraph.MultiDiGraph object at 0x000001C436149708>> edges\n",
      "The  graph contains <bound method MultiGraph.number_of_edges of <networkx.classes.multidigraph.MultiDiGraph object at 0x000001C4371FD6C8>> edges\n",
      "The  graph contains <bound method MultiGraph.number_of_edges of <networkx.classes.multidigraph.MultiDiGraph object at 0x000001C4371FD208>> edges\n",
      "The  graph contains <bound method MultiGraph.number_of_edges of <networkx.classes.multidigraph.MultiDiGraph object at 0x000001C4371FD488>> edges\n",
      "The  graph contains <bound method MultiGraph.number_of_edges of <networkx.classes.multidigraph.MultiDiGraph object at 0x000001C435D178C8>> edges\n",
      "The  graph contains <bound method MultiGraph.number_of_edges of <networkx.classes.multidigraph.MultiDiGraph object at 0x000001C435FCFDC8>> edges\n",
      "The  graph contains <bound method MultiGraph.number_of_edges of <networkx.classes.multidigraph.MultiDiGraph object at 0x000001C435FCFD88>> edges\n",
      "The  graph contains <bound method MultiGraph.number_of_edges of <networkx.classes.multidigraph.MultiDiGraph object at 0x000001C435CF1A48>> edges\n",
      "The  graph contains <bound method MultiGraph.number_of_edges of <networkx.classes.multidigraph.MultiDiGraph object at 0x000001C435FD2108>> edges\n",
      "The  graph contains <bound method MultiGraph.number_of_edges of <networkx.classes.multidigraph.MultiDiGraph object at 0x000001C435FD2148>> edges\n",
      "The  graph contains <bound method MultiGraph.number_of_edges of <networkx.classes.multidigraph.MultiDiGraph object at 0x000001C435FD2188>> edges\n",
      "The  graph contains <bound method MultiGraph.number_of_edges of <networkx.classes.multidigraph.MultiDiGraph object at 0x000001C43AC10648>> edges\n",
      "The  graph contains <bound method MultiGraph.number_of_edges of <networkx.classes.multidigraph.MultiDiGraph object at 0x000001C43AC10188>> edges\n",
      "The  graph contains <bound method MultiGraph.number_of_edges of <networkx.classes.multidigraph.MultiDiGraph object at 0x000001C43AC10048>> edges\n",
      "The  graph contains <bound method MultiGraph.number_of_edges of <networkx.classes.multidigraph.MultiDiGraph object at 0x000001C43AC103C8>> edges\n",
      "The  graph contains <bound method MultiGraph.number_of_edges of <networkx.classes.multidigraph.MultiDiGraph object at 0x000001C43AC10288>> edges\n",
      "The  graph contains <bound method MultiGraph.number_of_edges of <networkx.classes.multidigraph.MultiDiGraph object at 0x000001C43AC40F88>> edges\n",
      "The  graph contains <bound method MultiGraph.number_of_edges of <networkx.classes.multidigraph.MultiDiGraph object at 0x000001C43AC40C08>> edges\n",
      "The  graph contains <bound method MultiGraph.number_of_edges of <networkx.classes.multidigraph.MultiDiGraph object at 0x000001C43AC40688>> edges\n",
      "The  graph contains <bound method MultiGraph.number_of_edges of <networkx.classes.multidigraph.MultiDiGraph object at 0x000001C43AC407C8>> edges\n",
      "The  graph contains <bound method MultiGraph.number_of_edges of <networkx.classes.multidigraph.MultiDiGraph object at 0x000001C43AC40788>> edges\n",
      "The  graph contains <bound method MultiGraph.number_of_edges of <networkx.classes.multidigraph.MultiDiGraph object at 0x000001C43AC40708>> edges\n",
      "The  graph contains <bound method MultiGraph.number_of_edges of <networkx.classes.multidigraph.MultiDiGraph object at 0x000001C43AC40648>> edges\n",
      "The  graph contains <bound method MultiGraph.number_of_edges of <networkx.classes.multidigraph.MultiDiGraph object at 0x000001C43AC406C8>> edges\n",
      "The  graph contains <bound method MultiGraph.number_of_edges of <networkx.classes.multidigraph.MultiDiGraph object at 0x000001C43AC40488>> edges\n",
      "The  graph contains <bound method MultiGraph.number_of_edges of <networkx.classes.multidigraph.MultiDiGraph object at 0x000001C43AC40608>> edges\n",
      "The  graph contains <bound method MultiGraph.number_of_edges of <networkx.classes.multidigraph.MultiDiGraph object at 0x000001C43AC40548>> edges\n",
      "The  graph contains <bound method MultiGraph.number_of_edges of <networkx.classes.multidigraph.MultiDiGraph object at 0x000001C43AC405C8>> edges\n",
      "The  graph contains <bound method MultiGraph.number_of_edges of <networkx.classes.multidigraph.MultiDiGraph object at 0x000001C43AC40588>> edges\n",
      "The  graph contains <bound method MultiGraph.number_of_edges of <networkx.classes.multidigraph.MultiDiGraph object at 0x000001C43AC40388>> edges\n",
      "The  graph contains <bound method MultiGraph.number_of_edges of <networkx.classes.multidigraph.MultiDiGraph object at 0x000001C43AC40508>> edges\n",
      "The  graph contains <bound method MultiGraph.number_of_edges of <networkx.classes.multidigraph.MultiDiGraph object at 0x000001C43AC404C8>> edges\n",
      "The  graph contains <bound method MultiGraph.number_of_edges of <networkx.classes.multidigraph.MultiDiGraph object at 0x000001C43AC403C8>> edges\n",
      "The  graph contains <bound method MultiGraph.number_of_edges of <networkx.classes.multidigraph.MultiDiGraph object at 0x000001C43AC40448>> edges\n",
      "The  graph contains <bound method MultiGraph.number_of_edges of <networkx.classes.multidigraph.MultiDiGraph object at 0x000001C43AC40348>> edges\n",
      "The  graph contains <bound method MultiGraph.number_of_edges of <networkx.classes.multidigraph.MultiDiGraph object at 0x000001C43AC40408>> edges\n",
      "The  graph contains <bound method MultiGraph.number_of_edges of <networkx.classes.multidigraph.MultiDiGraph object at 0x000001C43AC40108>> edges\n",
      "The  graph contains <bound method MultiGraph.number_of_edges of <networkx.classes.multidigraph.MultiDiGraph object at 0x000001C43AC40248>> edges\n",
      "The  graph contains <bound method MultiGraph.number_of_edges of <networkx.classes.multidigraph.MultiDiGraph object at 0x000001C43AC40308>> edges\n",
      "The  graph contains <bound method MultiGraph.number_of_edges of <networkx.classes.multidigraph.MultiDiGraph object at 0x000001C43AC40288>> edges\n",
      "The  graph contains <bound method MultiGraph.number_of_edges of <networkx.classes.multidigraph.MultiDiGraph object at 0x000001C43AC402C8>> edges\n",
      "The  graph contains <bound method MultiGraph.number_of_edges of <networkx.classes.multidigraph.MultiDiGraph object at 0x000001C43AC40208>> edges\n",
      "The  graph contains <bound method MultiGraph.number_of_edges of <networkx.classes.multidigraph.MultiDiGraph object at 0x000001C43AC40188>> edges\n",
      "The  graph contains <bound method MultiGraph.number_of_edges of <networkx.classes.multidigraph.MultiDiGraph object at 0x000001C43AC40148>> edges\n",
      "The  graph contains <bound method MultiGraph.number_of_edges of <networkx.classes.multidigraph.MultiDiGraph object at 0x000001C43AC40088>> edges\n",
      "The  graph contains <bound method MultiGraph.number_of_edges of <networkx.classes.multidigraph.MultiDiGraph object at 0x000001C43AC401C8>> edges\n",
      "The  graph contains <bound method MultiGraph.number_of_edges of <networkx.classes.multidigraph.MultiDiGraph object at 0x000001C43AC400C8>> edges\n",
      "The  graph contains <bound method MultiGraph.number_of_edges of <networkx.classes.multidigraph.MultiDiGraph object at 0x000001C43AC40B08>> edges\n",
      "The  graph contains <bound method MultiGraph.number_of_edges of <networkx.classes.multidigraph.MultiDiGraph object at 0x000001C43AC40B48>> edges\n",
      "The  graph contains <bound method MultiGraph.number_of_edges of <networkx.classes.multidigraph.MultiDiGraph object at 0x000001C43AC40988>> edges\n",
      "The  graph contains <bound method MultiGraph.number_of_edges of <networkx.classes.multidigraph.MultiDiGraph object at 0x000001C43AC40DC8>> edges\n",
      "The  graph contains <bound method MultiGraph.number_of_edges of <networkx.classes.multidigraph.MultiDiGraph object at 0x000001C43AC409C8>> edges\n",
      "The  graph contains <bound method MultiGraph.number_of_edges of <networkx.classes.multidigraph.MultiDiGraph object at 0x000001C43AC40E48>> edges\n",
      "The  graph contains <bound method MultiGraph.number_of_edges of <networkx.classes.multidigraph.MultiDiGraph object at 0x000001C43AC40C48>> edges\n",
      "The  graph contains <bound method MultiGraph.number_of_edges of <networkx.classes.multidigraph.MultiDiGraph object at 0x000001C43AC40FC8>> edges\n",
      "The  graph contains <bound method MultiGraph.number_of_edges of <networkx.classes.multidigraph.MultiDiGraph object at 0x000001C43AC40E88>> edges\n",
      "The  graph contains <bound method MultiGraph.number_of_edges of <networkx.classes.multidigraph.MultiDiGraph object at 0x000001C43AC40948>> edges\n",
      "The  graph contains <bound method MultiGraph.number_of_edges of <networkx.classes.multidigraph.MultiDiGraph object at 0x000001C43AC40B88>> edges\n",
      "The  graph contains <bound method MultiGraph.number_of_edges of <networkx.classes.multidigraph.MultiDiGraph object at 0x000001C43AC40CC8>> edges\n",
      "The  graph contains <bound method MultiGraph.number_of_edges of <networkx.classes.multidigraph.MultiDiGraph object at 0x000001C43AC40BC8>> edges\n",
      "The  graph contains <bound method MultiGraph.number_of_edges of <networkx.classes.multidigraph.MultiDiGraph object at 0x000001C43AC40D08>> edges\n",
      "The  graph contains <bound method MultiGraph.number_of_edges of <networkx.classes.multidigraph.MultiDiGraph object at 0x000001C43AC40E08>> edges\n",
      "The  graph contains <bound method MultiGraph.number_of_edges of <networkx.classes.multidigraph.MultiDiGraph object at 0x000001C43AC00948>> edges\n",
      "The  graph contains <bound method MultiGraph.number_of_edges of <networkx.classes.multidigraph.MultiDiGraph object at 0x000001C43ABFEB08>> edges\n",
      "The  graph contains <bound method MultiGraph.number_of_edges of <networkx.classes.multidigraph.MultiDiGraph object at 0x000001C43ABFA448>> edges\n",
      "The  graph contains <bound method MultiGraph.number_of_edges of <networkx.classes.multidigraph.MultiDiGraph object at 0x000001C43ABFA9C8>> edges\n",
      "The  graph contains <bound method MultiGraph.number_of_edges of <networkx.classes.multidigraph.MultiDiGraph object at 0x000001C43ABFA188>> edges\n",
      "The  graph contains <bound method MultiGraph.number_of_edges of <networkx.classes.multidigraph.MultiDiGraph object at 0x000001C43ABF8F08>> edges\n",
      "The  graph contains <bound method MultiGraph.number_of_edges of <networkx.classes.multidigraph.MultiDiGraph object at 0x000001C43ABF8B48>> edges\n",
      "The  graph contains <bound method MultiGraph.number_of_edges of <networkx.classes.multidigraph.MultiDiGraph object at 0x000001C43ABF8748>> edges\n",
      "The  graph contains <bound method MultiGraph.number_of_edges of <networkx.classes.multidigraph.MultiDiGraph object at 0x000001C43ABF8348>> edges\n",
      "The  graph contains <bound method MultiGraph.number_of_edges of <networkx.classes.multidigraph.MultiDiGraph object at 0x000001C43ABF8C08>> edges\n",
      "The  graph contains <bound method MultiGraph.number_of_edges of <networkx.classes.multidigraph.MultiDiGraph object at 0x000001C43ABFCE08>> edges\n",
      "The  graph contains <bound method MultiGraph.number_of_edges of <networkx.classes.multidigraph.MultiDiGraph object at 0x000001C43ABF2748>> edges\n",
      "The  graph contains <bound method MultiGraph.number_of_edges of <networkx.classes.multidigraph.MultiDiGraph object at 0x000001C43ABF2408>> edges\n",
      "The  graph contains <bound method MultiGraph.number_of_edges of <networkx.classes.multidigraph.MultiDiGraph object at 0x000001C439927548>> edges\n",
      "The  graph contains <bound method MultiGraph.number_of_edges of <networkx.classes.multidigraph.MultiDiGraph object at 0x000001C439927488>> edges\n",
      "The  graph contains <bound method MultiGraph.number_of_edges of <networkx.classes.multidigraph.MultiDiGraph object at 0x000001C439927588>> edges\n",
      "The  graph contains <bound method MultiGraph.number_of_edges of <networkx.classes.multidigraph.MultiDiGraph object at 0x000001C439927688>> edges\n",
      "The  graph contains <bound method MultiGraph.number_of_edges of <networkx.classes.multidigraph.MultiDiGraph object at 0x000001C439927608>> edges\n",
      "The  graph contains <bound method MultiGraph.number_of_edges of <networkx.classes.multidigraph.MultiDiGraph object at 0x000001C439927AC8>> edges\n",
      "The  graph contains <bound method MultiGraph.number_of_edges of <networkx.classes.multidigraph.MultiDiGraph object at 0x000001C439927C88>> edges\n",
      "The  graph contains <bound method MultiGraph.number_of_edges of <networkx.classes.multidigraph.MultiDiGraph object at 0x000001C439927848>> edges\n",
      "The  graph contains <bound method MultiGraph.number_of_edges of <networkx.classes.multidigraph.MultiDiGraph object at 0x000001C439927708>> edges\n",
      "The  graph contains <bound method MultiGraph.number_of_edges of <networkx.classes.multidigraph.MultiDiGraph object at 0x000001C439927748>> edges\n",
      "The  graph contains <bound method MultiGraph.number_of_edges of <networkx.classes.multidigraph.MultiDiGraph object at 0x000001C439927908>> edges\n",
      "The  graph contains <bound method MultiGraph.number_of_edges of <networkx.classes.multidigraph.MultiDiGraph object at 0x000001C439927788>> edges\n",
      "The  graph contains <bound method MultiGraph.number_of_edges of <networkx.classes.multidigraph.MultiDiGraph object at 0x000001C439927E88>> edges\n",
      "The  graph contains <bound method MultiGraph.number_of_edges of <networkx.classes.multidigraph.MultiDiGraph object at 0x000001C439927F08>> edges\n",
      "The  graph contains <bound method MultiGraph.number_of_edges of <networkx.classes.multidigraph.MultiDiGraph object at 0x000001C439927208>> edges\n",
      "The  graph contains <bound method MultiGraph.number_of_edges of <networkx.classes.multidigraph.MultiDiGraph object at 0x000001C439927088>> edges\n",
      "The  graph contains <bound method MultiGraph.number_of_edges of <networkx.classes.multidigraph.MultiDiGraph object at 0x000001C4399274C8>> edges\n",
      "The  graph contains <bound method MultiGraph.number_of_edges of <networkx.classes.multidigraph.MultiDiGraph object at 0x000001C439927148>> edges\n",
      "The  graph contains <bound method MultiGraph.number_of_edges of <networkx.classes.multidigraph.MultiDiGraph object at 0x000001C439927448>> edges\n",
      "The  graph contains <bound method MultiGraph.number_of_edges of <networkx.classes.multidigraph.MultiDiGraph object at 0x000001C439927348>> edges\n",
      "The  graph contains <bound method MultiGraph.number_of_edges of <networkx.classes.multidigraph.MultiDiGraph object at 0x000001C439927248>> edges\n",
      "The  graph contains <bound method MultiGraph.number_of_edges of <networkx.classes.multidigraph.MultiDiGraph object at 0x000001C439927188>> edges\n",
      "The  graph contains <bound method MultiGraph.number_of_edges of <networkx.classes.multidigraph.MultiDiGraph object at 0x000001C439927388>> edges\n",
      "The  graph contains <bound method MultiGraph.number_of_edges of <networkx.classes.multidigraph.MultiDiGraph object at 0x000001C4399273C8>> edges\n",
      "The  graph contains <bound method MultiGraph.number_of_edges of <networkx.classes.multidigraph.MultiDiGraph object at 0x000001C4399272C8>> edges\n",
      "The  graph contains <bound method MultiGraph.number_of_edges of <networkx.classes.multidigraph.MultiDiGraph object at 0x000001C4399271C8>> edges\n",
      "The  graph contains <bound method MultiGraph.number_of_edges of <networkx.classes.multidigraph.MultiDiGraph object at 0x000001C439927288>> edges\n",
      "The  graph contains <bound method MultiGraph.number_of_edges of <networkx.classes.multidigraph.MultiDiGraph object at 0x000001C4399270C8>> edges\n",
      "The  graph contains <bound method MultiGraph.number_of_edges of <networkx.classes.multidigraph.MultiDiGraph object at 0x000001C43991FEC8>> edges\n",
      "The  graph contains <bound method MultiGraph.number_of_edges of <networkx.classes.multidigraph.MultiDiGraph object at 0x000001C43991FCC8>> edges\n",
      "The  graph contains <bound method MultiGraph.number_of_edges of <networkx.classes.multidigraph.MultiDiGraph object at 0x000001C43991F808>> edges\n",
      "The  graph contains <bound method MultiGraph.number_of_edges of <networkx.classes.multidigraph.MultiDiGraph object at 0x000001C43991F908>> edges\n",
      "The  graph contains <bound method MultiGraph.number_of_edges of <networkx.classes.multidigraph.MultiDiGraph object at 0x000001C43991FC08>> edges\n",
      "The  graph contains <bound method MultiGraph.number_of_edges of <networkx.classes.multidigraph.MultiDiGraph object at 0x000001C43991FC88>> edges\n",
      "The  graph contains <bound method MultiGraph.number_of_edges of <networkx.classes.multidigraph.MultiDiGraph object at 0x000001C43991F0C8>> edges\n",
      "The  graph contains <bound method MultiGraph.number_of_edges of <networkx.classes.multidigraph.MultiDiGraph object at 0x000001C43991F848>> edges\n",
      "The  graph contains <bound method MultiGraph.number_of_edges of <networkx.classes.multidigraph.MultiDiGraph object at 0x000001C43991FD88>> edges\n",
      "The  graph contains <bound method MultiGraph.number_of_edges of <networkx.classes.multidigraph.MultiDiGraph object at 0x000001C43991FF08>> edges\n",
      "The  graph contains <bound method MultiGraph.number_of_edges of <networkx.classes.multidigraph.MultiDiGraph object at 0x000001C43991FE88>> edges\n",
      "The  graph contains <bound method MultiGraph.number_of_edges of <networkx.classes.multidigraph.MultiDiGraph object at 0x000001C43991FA88>> edges\n",
      "The  graph contains <bound method MultiGraph.number_of_edges of <networkx.classes.multidigraph.MultiDiGraph object at 0x000001C43991FA08>> edges\n",
      "The  graph contains <bound method MultiGraph.number_of_edges of <networkx.classes.multidigraph.MultiDiGraph object at 0x000001C43991F988>> edges\n",
      "The  graph contains <bound method MultiGraph.number_of_edges of <networkx.classes.multidigraph.MultiDiGraph object at 0x000001C43991F2C8>> edges\n",
      "The  graph contains <bound method MultiGraph.number_of_edges of <networkx.classes.multidigraph.MultiDiGraph object at 0x000001C43991FF48>> edges\n",
      "The  graph contains <bound method MultiGraph.number_of_edges of <networkx.classes.multidigraph.MultiDiGraph object at 0x000001C43991FB88>> edges\n",
      "The  graph contains <bound method MultiGraph.number_of_edges of <networkx.classes.multidigraph.MultiDiGraph object at 0x000001C439921648>> edges\n",
      "The  graph contains <bound method MultiGraph.number_of_edges of <networkx.classes.multidigraph.MultiDiGraph object at 0x000001C439921548>> edges\n",
      "The  graph contains <bound method MultiGraph.number_of_edges of <networkx.classes.multidigraph.MultiDiGraph object at 0x000001C439921308>> edges\n",
      "The  graph contains <bound method MultiGraph.number_of_edges of <networkx.classes.multidigraph.MultiDiGraph object at 0x000001C439921808>> edges\n",
      "The  graph contains <bound method MultiGraph.number_of_edges of <networkx.classes.multidigraph.MultiDiGraph object at 0x000001C4399213C8>> edges\n",
      "The  graph contains <bound method MultiGraph.number_of_edges of <networkx.classes.multidigraph.MultiDiGraph object at 0x000001C439921FC8>> edges\n",
      "The  graph contains <bound method MultiGraph.number_of_edges of <networkx.classes.multidigraph.MultiDiGraph object at 0x000001C439921EC8>> edges\n",
      "The  graph contains <bound method MultiGraph.number_of_edges of <networkx.classes.multidigraph.MultiDiGraph object at 0x000001C439921F88>> edges\n",
      "The  graph contains <bound method MultiGraph.number_of_edges of <networkx.classes.multidigraph.MultiDiGraph object at 0x000001C439921F48>> edges\n",
      "The  graph contains <bound method MultiGraph.number_of_edges of <networkx.classes.multidigraph.MultiDiGraph object at 0x000001C439921D48>> edges\n",
      "The  graph contains <bound method MultiGraph.number_of_edges of <networkx.classes.multidigraph.MultiDiGraph object at 0x000001C439921BC8>> edges\n",
      "The  graph contains <bound method MultiGraph.number_of_edges of <networkx.classes.multidigraph.MultiDiGraph object at 0x000001C439921F08>> edges\n",
      "The  graph contains <bound method MultiGraph.number_of_edges of <networkx.classes.multidigraph.MultiDiGraph object at 0x000001C439921E88>> edges\n",
      "The  graph contains <bound method MultiGraph.number_of_edges of <networkx.classes.multidigraph.MultiDiGraph object at 0x000001C439921A88>> edges\n",
      "The  graph contains <bound method MultiGraph.number_of_edges of <networkx.classes.multidigraph.MultiDiGraph object at 0x000001C4399216C8>> edges\n",
      "The  graph contains <bound method MultiGraph.number_of_edges of <networkx.classes.multidigraph.MultiDiGraph object at 0x000001C4399215C8>> edges\n",
      "The  graph contains <bound method MultiGraph.number_of_edges of <networkx.classes.multidigraph.MultiDiGraph object at 0x000001C439921888>> edges\n",
      "The  graph contains <bound method MultiGraph.number_of_edges of <networkx.classes.multidigraph.MultiDiGraph object at 0x000001C4398D1088>> edges\n",
      "The  graph contains <bound method MultiGraph.number_of_edges of <networkx.classes.multidigraph.MultiDiGraph object at 0x000001C4398D1348>> edges\n",
      "The  graph contains <bound method MultiGraph.number_of_edges of <networkx.classes.multidigraph.MultiDiGraph object at 0x000001C4398D1208>> edges\n",
      "The  graph contains <bound method MultiGraph.number_of_edges of <networkx.classes.multidigraph.MultiDiGraph object at 0x000001C4398D1488>> edges\n",
      "The  graph contains <bound method MultiGraph.number_of_edges of <networkx.classes.multidigraph.MultiDiGraph object at 0x000001C4398D17C8>> edges\n",
      "The  graph contains <bound method MultiGraph.number_of_edges of <networkx.classes.multidigraph.MultiDiGraph object at 0x000001C4398D1248>> edges\n"
     ]
    }
   ],
   "source": [
    "# compatible with NetworkX 2.4\n",
    "list_of_subgraphs = list(G_flooded.subgraph(c).copy() for c in nx.strongly_connected_components(G_flooded))\n",
    "max_graph = None\n",
    "max_edges = 0\n",
    "\n",
    "# To sort the list in place...\n",
    "list_of_subgraphs.sort(key=lambda x: x.number_of_edges(), reverse=True)\n",
    "\n",
    "# for i in list_of_subgraphs:\n",
    "#     print(f\"The {i} graph contains {i.number_of_edges()} edges\")\n",
    "#     if i.number_of_edges() > max_edges:\n",
    "#         max_edges = i.number_of_edges()\n",
    "#         max_graph = i\n",
    "\n",
    "# set your graph equal to the largest sub-graph\n",
    "G_largest_flooded = list_of_subgraphs[0]"
   ]
  },
  {
   "cell_type": "code",
   "execution_count": 25,
   "metadata": {},
   "outputs": [
    {
     "name": "stdout",
     "output_type": "stream",
     "text": [
      "Name: \n",
      "Type: MultiDiGraph\n",
      "Number of nodes: 4853\n",
      "Number of edges: 13060\n",
      "Average in degree:   2.6911\n",
      "Average out degree:   2.6911\n"
     ]
    }
   ],
   "source": [
    "print(nx.info(G_largest_flooded))"
   ]
  },
  {
   "cell_type": "code",
   "execution_count": 28,
   "metadata": {},
   "outputs": [
    {
     "data": {
      "text/plain": [
       "13060"
      ]
     },
     "execution_count": 28,
     "metadata": {},
     "output_type": "execute_result"
    }
   ],
   "source": [
    "G_largest_flooded.number_of_edges()"
   ]
  },
  {
   "cell_type": "code",
   "execution_count": 31,
   "metadata": {},
   "outputs": [
    {
     "data": {
      "text/plain": [
       "504"
      ]
     },
     "execution_count": 31,
     "metadata": {},
     "output_type": "execute_result"
    }
   ],
   "source": [
    "len(list_of_subgraphs)"
   ]
  },
  {
   "cell_type": "code",
   "execution_count": 37,
   "metadata": {},
   "outputs": [
    {
     "name": "stdout",
     "output_type": "stream",
     "text": [
      "13060\n"
     ]
    }
   ],
   "source": [
    "print(list_of_subgraphs[0].number_of_edges())"
   ]
  },
  {
   "cell_type": "code",
   "execution_count": 38,
   "metadata": {},
   "outputs": [
    {
     "name": "stdout",
     "output_type": "stream",
     "text": [
      "7156\n"
     ]
    }
   ],
   "source": [
    "print(print(list_of_subgraphs[1].number_of_edges())"
   ]
  },
  {
   "cell_type": "code",
   "execution_count": 39,
   "metadata": {},
   "outputs": [
    {
     "name": "stdout",
     "output_type": "stream",
     "text": [
      "6048\n"
     ]
    }
   ],
   "source": [
    "print(list_of_subgraphs[2].number_of_edges())"
   ]
  },
  {
   "cell_type": "code",
   "execution_count": 40,
   "metadata": {},
   "outputs": [
    {
     "name": "stdout",
     "output_type": "stream",
     "text": [
      "4936\n"
     ]
    }
   ],
   "source": [
    "print(list_of_subgraphs[3].number_of_edges())"
   ]
  },
  {
   "cell_type": "code",
   "execution_count": 41,
   "metadata": {},
   "outputs": [
    {
     "name": "stdout",
     "output_type": "stream",
     "text": [
      "374\n"
     ]
    }
   ],
   "source": [
    "print(list_of_subgraphs[4].number_of_edges())"
   ]
  },
  {
   "cell_type": "markdown",
   "metadata": {},
   "source": [
    "### For visualization purposes save the top 3 largest disconnected graphs"
   ]
  },
  {
   "cell_type": "code",
   "execution_count": 27,
   "metadata": {},
   "outputs": [],
   "source": [
    "gn.save(G_largest_flooded,\"cap_haitien_walk_w_ferries_flooded_largest_1\", \"temp\",pickle = False, edges = True, nodes = False)"
   ]
  },
  {
   "cell_type": "code",
   "execution_count": 42,
   "metadata": {},
   "outputs": [],
   "source": [
    "gn.save(list_of_subgraphs[1],\"cap_haitien_walk_w_ferries_flooded_largest_2\", \"temp\",pickle = False, edges = True, nodes = False)"
   ]
  },
  {
   "cell_type": "code",
   "execution_count": 43,
   "metadata": {},
   "outputs": [],
   "source": [
    "gn.save(list_of_subgraphs[2],\"cap_haitien_walk_w_ferries_flooded_largest_3\", \"temp\",pickle = False, edges = True, nodes = False)"
   ]
  },
  {
   "cell_type": "code",
   "execution_count": 44,
   "metadata": {},
   "outputs": [],
   "source": [
    "gn.save(list_of_subgraphs[3],\"cap_haitien_walk_w_ferries_flooded_largest_4\", \"temp\",pickle = False, edges = True, nodes = False)"
   ]
  },
  {
   "cell_type": "code",
   "execution_count": null,
   "metadata": {},
   "outputs": [],
   "source": []
  }
 ],
 "metadata": {
  "kernelspec": {
   "display_name": "Python 3",
   "language": "python",
   "name": "python3"
  },
  "language_info": {
   "codemirror_mode": {
    "name": "ipython",
    "version": 3
   },
   "file_extension": ".py",
   "mimetype": "text/x-python",
   "name": "python",
   "nbconvert_exporter": "python",
   "pygments_lexer": "ipython3",
   "version": "3.7.7"
  }
 },
 "nbformat": 4,
 "nbformat_minor": 4
}
