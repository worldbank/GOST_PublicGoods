{
 "cells": [
  {
   "cell_type": "markdown",
   "metadata": {},
   "source": [
    "# Step 4: Create Isochrones"
   ]
  },
  {
   "cell_type": "code",
   "execution_count": 1,
   "metadata": {},
   "outputs": [],
   "source": [
    "%load_ext autoreload\n",
    "%autoreload 2"
   ]
  },
  {
   "cell_type": "code",
   "execution_count": 2,
   "metadata": {},
   "outputs": [],
   "source": [
    "import osmnx as ox\n",
    "import pandas as pd\n",
    "import geopandas as gpd\n",
    "import networkx as nx\n",
    "import numpy as np\n",
    "from shapely.geometry import Point\n",
    "import partridge as ptg"
   ]
  },
  {
   "cell_type": "code",
   "execution_count": 3,
   "metadata": {},
   "outputs": [],
   "source": [
    "import os, sys"
   ]
  },
  {
   "cell_type": "code",
   "execution_count": 4,
   "metadata": {},
   "outputs": [],
   "source": [
    "# Get reference to GOSTNets\n",
    "import sys\n",
    "sys.path.append(r'C:\\repos\\GOSTnets')\n",
    "import GOSTnets as gn"
   ]
  },
  {
   "cell_type": "markdown",
   "metadata": {},
   "source": [
    "##  Load data"
   ]
  },
  {
   "cell_type": "code",
   "execution_count": 5,
   "metadata": {},
   "outputs": [],
   "source": [
    "path = r'input_folder/cap_haitien_gtfs.zip'"
   ]
  },
  {
   "cell_type": "code",
   "execution_count": 6,
   "metadata": {},
   "outputs": [],
   "source": [
    "# original graph\n",
    "original_G = nx.read_gpickle(r\"temp\\cap_haitien_walk_w_ferries_via_osmnx.pickle\")\n",
    "# original graph with time and snapped origin points\n",
    "original_G_adv_snap = nx.read_gpickle(r\"temp\\cap_haitien_walk_w_ferries_via_osmnx_w_time_adv_snap.pickle\")"
   ]
  },
  {
   "cell_type": "markdown",
   "metadata": {},
   "source": [
    "### Load the stops for service0001\n",
    "service_0001 is on the weekends. 6-29-2019 lands on a weekend."
   ]
  },
  {
   "cell_type": "code",
   "execution_count": 7,
   "metadata": {},
   "outputs": [
    {
     "name": "stdout",
     "output_type": "stream",
     "text": [
      "service_ids is frozenset({'service_0001'})\n"
     ]
    }
   ],
   "source": [
    "# from: http://simplistic.me/playing-with-gtfs.html\n",
    "import datetime\n",
    "\n",
    "service_ids_by_date = ptg.read_service_ids_by_date(path)\n",
    "service_ids = service_ids_by_date[datetime.date(2019, 6, 29)]\n",
    "\n",
    "print(f\"service_ids is {service_ids}\")\n",
    "\n",
    "# view lets you filter before you load the feed. For example, below you are filtering by the service_ids\n",
    "feed = ptg.load_feed(path, view={\n",
    "    'trips.txt': {\n",
    "        'service_id': service_ids,\n",
    "    },\n",
    "})"
   ]
  },
  {
   "cell_type": "code",
   "execution_count": 8,
   "metadata": {},
   "outputs": [
    {
     "data": {
      "text/html": [
       "<div>\n",
       "<style scoped>\n",
       "    .dataframe tbody tr th:only-of-type {\n",
       "        vertical-align: middle;\n",
       "    }\n",
       "\n",
       "    .dataframe tbody tr th {\n",
       "        vertical-align: top;\n",
       "    }\n",
       "\n",
       "    .dataframe thead th {\n",
       "        text-align: right;\n",
       "    }\n",
       "</style>\n",
       "<table border=\"1\" class=\"dataframe\">\n",
       "  <thead>\n",
       "    <tr style=\"text-align: right;\">\n",
       "      <th></th>\n",
       "      <th>stop_id</th>\n",
       "      <th>stop_code</th>\n",
       "      <th>stop_name</th>\n",
       "      <th>stop_desc</th>\n",
       "      <th>stop_lat</th>\n",
       "      <th>stop_lon</th>\n",
       "      <th>zone_id</th>\n",
       "      <th>stop_url</th>\n",
       "      <th>location_type</th>\n",
       "      <th>parent_station</th>\n",
       "      <th>stop_timezone</th>\n",
       "      <th>wheelchair_boarding</th>\n",
       "    </tr>\n",
       "  </thead>\n",
       "  <tbody>\n",
       "    <tr>\n",
       "      <th>0</th>\n",
       "      <td>stop_0001</td>\n",
       "      <td>NaN</td>\n",
       "      <td>Bonnay Dugal 1</td>\n",
       "      <td>NaN</td>\n",
       "      <td>19.704813</td>\n",
       "      <td>-72.180840</td>\n",
       "      <td>NaN</td>\n",
       "      <td>NaN</td>\n",
       "      <td>0</td>\n",
       "      <td>NaN</td>\n",
       "      <td>NaN</td>\n",
       "      <td>NaN</td>\n",
       "    </tr>\n",
       "    <tr>\n",
       "      <th>1</th>\n",
       "      <td>stop_0002</td>\n",
       "      <td>NaN</td>\n",
       "      <td>Cité du Peuple</td>\n",
       "      <td>NaN</td>\n",
       "      <td>19.744087</td>\n",
       "      <td>-72.212227</td>\n",
       "      <td>NaN</td>\n",
       "      <td>NaN</td>\n",
       "      <td>0</td>\n",
       "      <td>NaN</td>\n",
       "      <td>NaN</td>\n",
       "      <td>NaN</td>\n",
       "    </tr>\n",
       "    <tr>\n",
       "      <th>2</th>\n",
       "      <td>stop_0003</td>\n",
       "      <td>NaN</td>\n",
       "      <td>Cité Lescot</td>\n",
       "      <td>NaN</td>\n",
       "      <td>19.752174</td>\n",
       "      <td>-72.206665</td>\n",
       "      <td>NaN</td>\n",
       "      <td>NaN</td>\n",
       "      <td>0</td>\n",
       "      <td>NaN</td>\n",
       "      <td>NaN</td>\n",
       "      <td>NaN</td>\n",
       "    </tr>\n",
       "    <tr>\n",
       "      <th>3</th>\n",
       "      <td>stop_0004</td>\n",
       "      <td>NaN</td>\n",
       "      <td>Dubreuil</td>\n",
       "      <td>NaN</td>\n",
       "      <td>19.613947</td>\n",
       "      <td>-72.203201</td>\n",
       "      <td>NaN</td>\n",
       "      <td>NaN</td>\n",
       "      <td>0</td>\n",
       "      <td>NaN</td>\n",
       "      <td>NaN</td>\n",
       "      <td>NaN</td>\n",
       "    </tr>\n",
       "    <tr>\n",
       "      <th>4</th>\n",
       "      <td>stop_0005</td>\n",
       "      <td>NaN</td>\n",
       "      <td>Pipo-Ville</td>\n",
       "      <td>NaN</td>\n",
       "      <td>19.722265</td>\n",
       "      <td>-72.241341</td>\n",
       "      <td>NaN</td>\n",
       "      <td>NaN</td>\n",
       "      <td>0</td>\n",
       "      <td>NaN</td>\n",
       "      <td>NaN</td>\n",
       "      <td>NaN</td>\n",
       "    </tr>\n",
       "    <tr>\n",
       "      <th>...</th>\n",
       "      <td>...</td>\n",
       "      <td>...</td>\n",
       "      <td>...</td>\n",
       "      <td>...</td>\n",
       "      <td>...</td>\n",
       "      <td>...</td>\n",
       "      <td>...</td>\n",
       "      <td>...</td>\n",
       "      <td>...</td>\n",
       "      <td>...</td>\n",
       "      <td>...</td>\n",
       "      <td>...</td>\n",
       "    </tr>\n",
       "    <tr>\n",
       "      <th>256</th>\n",
       "      <td>stop_0260</td>\n",
       "      <td>NaN</td>\n",
       "      <td>Morne Rouge</td>\n",
       "      <td>NaN</td>\n",
       "      <td>19.708532</td>\n",
       "      <td>-72.273491</td>\n",
       "      <td>NaN</td>\n",
       "      <td>NaN</td>\n",
       "      <td>0</td>\n",
       "      <td>hub_0003</td>\n",
       "      <td>NaN</td>\n",
       "      <td>NaN</td>\n",
       "    </tr>\n",
       "    <tr>\n",
       "      <th>257</th>\n",
       "      <td>stop_0261</td>\n",
       "      <td>NaN</td>\n",
       "      <td>Haut Du Cap 1</td>\n",
       "      <td>NaN</td>\n",
       "      <td>19.721527</td>\n",
       "      <td>-72.231148</td>\n",
       "      <td>NaN</td>\n",
       "      <td>NaN</td>\n",
       "      <td>0</td>\n",
       "      <td>NaN</td>\n",
       "      <td>NaN</td>\n",
       "      <td>NaN</td>\n",
       "    </tr>\n",
       "    <tr>\n",
       "      <th>258</th>\n",
       "      <td>stop_0262</td>\n",
       "      <td>NaN</td>\n",
       "      <td>Limonade</td>\n",
       "      <td>NaN</td>\n",
       "      <td>19.672407</td>\n",
       "      <td>-72.124825</td>\n",
       "      <td>NaN</td>\n",
       "      <td>NaN</td>\n",
       "      <td>0</td>\n",
       "      <td>hub_0007</td>\n",
       "      <td>NaN</td>\n",
       "      <td>NaN</td>\n",
       "    </tr>\n",
       "    <tr>\n",
       "      <th>259</th>\n",
       "      <td>stop_0263</td>\n",
       "      <td>NaN</td>\n",
       "      <td>Carrefour Bas Limbe</td>\n",
       "      <td>NaN</td>\n",
       "      <td>19.703863</td>\n",
       "      <td>-72.379448</td>\n",
       "      <td>NaN</td>\n",
       "      <td>NaN</td>\n",
       "      <td>0</td>\n",
       "      <td>NaN</td>\n",
       "      <td>NaN</td>\n",
       "      <td>NaN</td>\n",
       "    </tr>\n",
       "    <tr>\n",
       "      <th>260</th>\n",
       "      <td>stop_0264</td>\n",
       "      <td>NaN</td>\n",
       "      <td>Pipo-Ville 1</td>\n",
       "      <td>NaN</td>\n",
       "      <td>19.722525</td>\n",
       "      <td>-72.244438</td>\n",
       "      <td>NaN</td>\n",
       "      <td>NaN</td>\n",
       "      <td>0</td>\n",
       "      <td>NaN</td>\n",
       "      <td>NaN</td>\n",
       "      <td>NaN</td>\n",
       "    </tr>\n",
       "  </tbody>\n",
       "</table>\n",
       "<p>261 rows × 12 columns</p>\n",
       "</div>"
      ],
      "text/plain": [
       "       stop_id stop_code            stop_name stop_desc   stop_lat   stop_lon  \\\n",
       "0    stop_0001       NaN       Bonnay Dugal 1       NaN  19.704813 -72.180840   \n",
       "1    stop_0002       NaN       Cité du Peuple       NaN  19.744087 -72.212227   \n",
       "2    stop_0003       NaN          Cité Lescot       NaN  19.752174 -72.206665   \n",
       "3    stop_0004       NaN             Dubreuil       NaN  19.613947 -72.203201   \n",
       "4    stop_0005       NaN           Pipo-Ville       NaN  19.722265 -72.241341   \n",
       "..         ...       ...                  ...       ...        ...        ...   \n",
       "256  stop_0260       NaN          Morne Rouge       NaN  19.708532 -72.273491   \n",
       "257  stop_0261       NaN        Haut Du Cap 1       NaN  19.721527 -72.231148   \n",
       "258  stop_0262       NaN             Limonade       NaN  19.672407 -72.124825   \n",
       "259  stop_0263       NaN  Carrefour Bas Limbe       NaN  19.703863 -72.379448   \n",
       "260  stop_0264       NaN         Pipo-Ville 1       NaN  19.722525 -72.244438   \n",
       "\n",
       "    zone_id stop_url  location_type parent_station stop_timezone  \\\n",
       "0       NaN      NaN              0            NaN           NaN   \n",
       "1       NaN      NaN              0            NaN           NaN   \n",
       "2       NaN      NaN              0            NaN           NaN   \n",
       "3       NaN      NaN              0            NaN           NaN   \n",
       "4       NaN      NaN              0            NaN           NaN   \n",
       "..      ...      ...            ...            ...           ...   \n",
       "256     NaN      NaN              0       hub_0003           NaN   \n",
       "257     NaN      NaN              0            NaN           NaN   \n",
       "258     NaN      NaN              0       hub_0007           NaN   \n",
       "259     NaN      NaN              0            NaN           NaN   \n",
       "260     NaN      NaN              0            NaN           NaN   \n",
       "\n",
       "     wheelchair_boarding  \n",
       "0                    NaN  \n",
       "1                    NaN  \n",
       "2                    NaN  \n",
       "3                    NaN  \n",
       "4                    NaN  \n",
       "..                   ...  \n",
       "256                  NaN  \n",
       "257                  NaN  \n",
       "258                  NaN  \n",
       "259                  NaN  \n",
       "260                  NaN  \n",
       "\n",
       "[261 rows x 12 columns]"
      ]
     },
     "execution_count": 8,
     "metadata": {},
     "output_type": "execute_result"
    }
   ],
   "source": [
    "feed.stops"
   ]
  },
  {
   "cell_type": "code",
   "execution_count": 9,
   "metadata": {},
   "outputs": [],
   "source": [
    "stops = feed.stops[['stop_id','stop_lat','stop_lon']]"
   ]
  },
  {
   "cell_type": "code",
   "execution_count": 10,
   "metadata": {},
   "outputs": [],
   "source": [
    "stops_gdf_service0001 = gpd.GeoDataFrame(stops, geometry=gpd.points_from_xy(stops.stop_lon, stops.stop_lat))"
   ]
  },
  {
   "cell_type": "code",
   "execution_count": 11,
   "metadata": {},
   "outputs": [
    {
     "data": {
      "text/html": [
       "<div>\n",
       "<style scoped>\n",
       "    .dataframe tbody tr th:only-of-type {\n",
       "        vertical-align: middle;\n",
       "    }\n",
       "\n",
       "    .dataframe tbody tr th {\n",
       "        vertical-align: top;\n",
       "    }\n",
       "\n",
       "    .dataframe thead th {\n",
       "        text-align: right;\n",
       "    }\n",
       "</style>\n",
       "<table border=\"1\" class=\"dataframe\">\n",
       "  <thead>\n",
       "    <tr style=\"text-align: right;\">\n",
       "      <th></th>\n",
       "      <th>stop_id</th>\n",
       "      <th>stop_lat</th>\n",
       "      <th>stop_lon</th>\n",
       "      <th>geometry</th>\n",
       "    </tr>\n",
       "  </thead>\n",
       "  <tbody>\n",
       "    <tr>\n",
       "      <th>0</th>\n",
       "      <td>stop_0001</td>\n",
       "      <td>19.704813</td>\n",
       "      <td>-72.180840</td>\n",
       "      <td>POINT (-72.18084 19.70481)</td>\n",
       "    </tr>\n",
       "    <tr>\n",
       "      <th>1</th>\n",
       "      <td>stop_0002</td>\n",
       "      <td>19.744087</td>\n",
       "      <td>-72.212227</td>\n",
       "      <td>POINT (-72.21223 19.74409)</td>\n",
       "    </tr>\n",
       "    <tr>\n",
       "      <th>2</th>\n",
       "      <td>stop_0003</td>\n",
       "      <td>19.752174</td>\n",
       "      <td>-72.206665</td>\n",
       "      <td>POINT (-72.20667 19.75217)</td>\n",
       "    </tr>\n",
       "  </tbody>\n",
       "</table>\n",
       "</div>"
      ],
      "text/plain": [
       "     stop_id   stop_lat   stop_lon                    geometry\n",
       "0  stop_0001  19.704813 -72.180840  POINT (-72.18084 19.70481)\n",
       "1  stop_0002  19.744087 -72.212227  POINT (-72.21223 19.74409)\n",
       "2  stop_0003  19.752174 -72.206665  POINT (-72.20667 19.75217)"
      ]
     },
     "execution_count": 11,
     "metadata": {},
     "output_type": "execute_result"
    }
   ],
   "source": [
    "stops_gdf_service0001[:3]"
   ]
  },
  {
   "cell_type": "markdown",
   "metadata": {},
   "source": [
    "### Load the stops for service0002\n",
    "service_0001 is on the weekday. 7-01-2019 lands on a weekday."
   ]
  },
  {
   "cell_type": "code",
   "execution_count": 12,
   "metadata": {},
   "outputs": [
    {
     "name": "stdout",
     "output_type": "stream",
     "text": [
      "service_ids is frozenset({'service_0002'})\n"
     ]
    }
   ],
   "source": [
    "# from: http://simplistic.me/playing-with-gtfs.html\n",
    "import datetime\n",
    "\n",
    "service_ids_by_date = ptg.read_service_ids_by_date(path)\n",
    "service_ids = service_ids_by_date[datetime.date(2019, 7, 1)]\n",
    "\n",
    "print(f\"service_ids is {service_ids}\")\n",
    "\n",
    "# view lets you filter before you load the feed. For example, below you are filtering by the service_ids\n",
    "feed = ptg.load_feed(path, view={\n",
    "    'trips.txt': {\n",
    "        'service_id': service_ids,\n",
    "    },\n",
    "})"
   ]
  },
  {
   "cell_type": "code",
   "execution_count": 13,
   "metadata": {},
   "outputs": [],
   "source": [
    "stops = feed.stops[['stop_id','stop_lat','stop_lon']]"
   ]
  },
  {
   "cell_type": "code",
   "execution_count": 14,
   "metadata": {},
   "outputs": [],
   "source": [
    "stops_gdf_service0002 = gpd.GeoDataFrame(stops, geometry=gpd.points_from_xy(stops.stop_lon, stops.stop_lat))"
   ]
  },
  {
   "cell_type": "code",
   "execution_count": 15,
   "metadata": {},
   "outputs": [
    {
     "data": {
      "text/html": [
       "<div>\n",
       "<style scoped>\n",
       "    .dataframe tbody tr th:only-of-type {\n",
       "        vertical-align: middle;\n",
       "    }\n",
       "\n",
       "    .dataframe tbody tr th {\n",
       "        vertical-align: top;\n",
       "    }\n",
       "\n",
       "    .dataframe thead th {\n",
       "        text-align: right;\n",
       "    }\n",
       "</style>\n",
       "<table border=\"1\" class=\"dataframe\">\n",
       "  <thead>\n",
       "    <tr style=\"text-align: right;\">\n",
       "      <th></th>\n",
       "      <th>stop_id</th>\n",
       "      <th>stop_lat</th>\n",
       "      <th>stop_lon</th>\n",
       "      <th>geometry</th>\n",
       "    </tr>\n",
       "  </thead>\n",
       "  <tbody>\n",
       "    <tr>\n",
       "      <th>0</th>\n",
       "      <td>stop_0001</td>\n",
       "      <td>19.704813</td>\n",
       "      <td>-72.180840</td>\n",
       "      <td>POINT (-72.18084 19.70481)</td>\n",
       "    </tr>\n",
       "    <tr>\n",
       "      <th>1</th>\n",
       "      <td>stop_0002</td>\n",
       "      <td>19.744087</td>\n",
       "      <td>-72.212227</td>\n",
       "      <td>POINT (-72.21223 19.74409)</td>\n",
       "    </tr>\n",
       "    <tr>\n",
       "      <th>2</th>\n",
       "      <td>stop_0003</td>\n",
       "      <td>19.752174</td>\n",
       "      <td>-72.206665</td>\n",
       "      <td>POINT (-72.20667 19.75217)</td>\n",
       "    </tr>\n",
       "  </tbody>\n",
       "</table>\n",
       "</div>"
      ],
      "text/plain": [
       "     stop_id   stop_lat   stop_lon                    geometry\n",
       "0  stop_0001  19.704813 -72.180840  POINT (-72.18084 19.70481)\n",
       "1  stop_0002  19.744087 -72.212227  POINT (-72.21223 19.74409)\n",
       "2  stop_0003  19.752174 -72.206665  POINT (-72.20667 19.75217)"
      ]
     },
     "execution_count": 15,
     "metadata": {},
     "output_type": "execute_result"
    }
   ],
   "source": [
    "stops_gdf_service0002[:3]"
   ]
  },
  {
   "cell_type": "markdown",
   "metadata": {},
   "source": [
    "### Load the health facilities"
   ]
  },
  {
   "cell_type": "code",
   "execution_count": 16,
   "metadata": {},
   "outputs": [],
   "source": [
    "health_facilities = gpd.read_file(r\"input_folder\\cap_haitien_health_pts.shp\")"
   ]
  },
  {
   "cell_type": "code",
   "execution_count": 17,
   "metadata": {},
   "outputs": [
    {
     "data": {
      "text/html": [
       "<div>\n",
       "<style scoped>\n",
       "    .dataframe tbody tr th:only-of-type {\n",
       "        vertical-align: middle;\n",
       "    }\n",
       "\n",
       "    .dataframe tbody tr th {\n",
       "        vertical-align: top;\n",
       "    }\n",
       "\n",
       "    .dataframe thead th {\n",
       "        text-align: right;\n",
       "    }\n",
       "</style>\n",
       "<table border=\"1\" class=\"dataframe\">\n",
       "  <thead>\n",
       "    <tr style=\"text-align: right;\">\n",
       "      <th></th>\n",
       "      <th>Code2018</th>\n",
       "      <th>Facility n</th>\n",
       "      <th>Department</th>\n",
       "      <th>Vilcom</th>\n",
       "      <th>Commune</th>\n",
       "      <th>Facility t</th>\n",
       "      <th>MGA</th>\n",
       "      <th>Geolocatio</th>\n",
       "      <th>Geolocat_1</th>\n",
       "      <th>geometry</th>\n",
       "    </tr>\n",
       "  </thead>\n",
       "  <tbody>\n",
       "    <tr>\n",
       "      <th>0</th>\n",
       "      <td>476</td>\n",
       "      <td>HôPital Universitaire Justinien</td>\n",
       "      <td>Nord</td>\n",
       "      <td>11</td>\n",
       "      <td>Cap-Haitien</td>\n",
       "      <td>hopital universitaire</td>\n",
       "      <td>publique</td>\n",
       "      <td>19.762251</td>\n",
       "      <td>-72.206200</td>\n",
       "      <td>POINT (-72.20620 19.76225)</td>\n",
       "    </tr>\n",
       "    <tr>\n",
       "      <th>1</th>\n",
       "      <td>573</td>\n",
       "      <td>Centre Sante Communautaire De Ferrier (Csc)</td>\n",
       "      <td>Nord'Est</td>\n",
       "      <td>12</td>\n",
       "      <td>Ferrier</td>\n",
       "      <td>dispensaire/centre communautaire de sante</td>\n",
       "      <td>publique</td>\n",
       "      <td>19.616028</td>\n",
       "      <td>-71.779961</td>\n",
       "      <td>POINT (-71.77996 19.61603)</td>\n",
       "    </tr>\n",
       "    <tr>\n",
       "      <th>2</th>\n",
       "      <td>593</td>\n",
       "      <td>Centre De Santé De Sainte Suzanne</td>\n",
       "      <td>Nord'Est</td>\n",
       "      <td>32</td>\n",
       "      <td>Sainte-Suzanne</td>\n",
       "      <td>centre de sante sans lit</td>\n",
       "      <td>publique</td>\n",
       "      <td>19.584867</td>\n",
       "      <td>-72.089272</td>\n",
       "      <td>POINT (-72.08927 19.58487)</td>\n",
       "    </tr>\n",
       "  </tbody>\n",
       "</table>\n",
       "</div>"
      ],
      "text/plain": [
       "   Code2018                                   Facility n Department  Vilcom  \\\n",
       "0       476              HôPital Universitaire Justinien       Nord      11   \n",
       "1       573  Centre Sante Communautaire De Ferrier (Csc)   Nord'Est      12   \n",
       "2       593            Centre De Santé De Sainte Suzanne   Nord'Est      32   \n",
       "\n",
       "          Commune                                 Facility t       MGA  \\\n",
       "0     Cap-Haitien                      hopital universitaire  publique   \n",
       "1         Ferrier  dispensaire/centre communautaire de sante  publique   \n",
       "2  Sainte-Suzanne                   centre de sante sans lit  publique   \n",
       "\n",
       "   Geolocatio  Geolocat_1                    geometry  \n",
       "0   19.762251  -72.206200  POINT (-72.20620 19.76225)  \n",
       "1   19.616028  -71.779961  POINT (-71.77996 19.61603)  \n",
       "2   19.584867  -72.089272  POINT (-72.08927 19.58487)  "
      ]
     },
     "execution_count": 17,
     "metadata": {},
     "output_type": "execute_result"
    }
   ],
   "source": [
    "health_facilities[:3]"
   ]
  },
  {
   "cell_type": "markdown",
   "metadata": {},
   "source": [
    "## Process Isochrones\n",
    "Only use the two service graphs for creating the isochrones for the health facilities. For the stops, you will read in only the walk graph."
   ]
  },
  {
   "cell_type": "markdown",
   "metadata": {},
   "source": [
    "### Health Facilities\n",
    "We will use the graph with the GTFS lines to calculate the isochrones, but we will choose to ignore drawing the isochrones around the GTFS edges"
   ]
  },
  {
   "cell_type": "code",
   "execution_count": 18,
   "metadata": {},
   "outputs": [],
   "source": [
    "# read back your graphs from step 2 from you saved pickle\n",
    "G_service0001 = nx.read_gpickle(r\"temp\\gtfs_export_cap_haitien_merged_impute_walk_adv_snap_service0001.pickle\")\n",
    "G_service0002 = nx.read_gpickle(r\"temp\\gtfs_export_cap_haitien_merged_impute_walk_adv_snap_service0002.pickle\")\n",
    "\n",
    "graphs = {'G_service0001': G_service0001, 'G_service0002': G_service0002}\n",
    "#graphs = {'G_service0002': G_service0002}"
   ]
  },
  {
   "cell_type": "code",
   "execution_count": 19,
   "metadata": {},
   "outputs": [
    {
     "name": "stdout",
     "output_type": "stream",
     "text": [
      "merge all edges and nodes\n",
      "unary_union\n",
      "merge all edges and nodes\n",
      "unary_union\n",
      "Wall time: 23min 4s\n"
     ]
    }
   ],
   "source": [
    "%%time\n",
    "for G in graphs.items():\n",
    "    GTFS_graph_snapped = gn.pandana_snap(original_G, health_facilities)\n",
    "    NN_to_graph = list(set(list(GTFS_graph_snapped.NN)))\n",
    "    # simulate up to a 60-min isochrone\n",
    "    iso_gdf = gn.make_iso_polys(G[1], NN_to_graph, [3600], edge_buff=700, node_buff=700, weight = 'length', measure_crs = 'epsg:32619', edge_filters = {'mode':'transit'})\n",
    "    dissolved = iso_gdf.dissolve(by=\"thresh\")\n",
    "    gdf_out = dissolved.explode()\n",
    "    gdf_out2 = gdf_out.reset_index()\n",
    "    # save file\n",
    "    gdf_out2.to_file(fr\"output_folder\\isochrones_health_facilities_{G[0]}_60m_adv_snap.shp\")"
   ]
  },
  {
   "cell_type": "markdown",
   "metadata": {},
   "source": [
    "### GTFS stops\n",
    "We want to represent walkability to the GTFS stops, so we will use the original graph without the GTFS lines when calculating the isochrones"
   ]
  },
  {
   "cell_type": "code",
   "execution_count": 20,
   "metadata": {},
   "outputs": [],
   "source": [
    "stops_dict = {'stops_gdf_service0001': stops_gdf_service0001,'stops_gdf_service0002': stops_gdf_service0002}"
   ]
  },
  {
   "cell_type": "code",
   "execution_count": 21,
   "metadata": {},
   "outputs": [
    {
     "name": "stdout",
     "output_type": "stream",
     "text": [
      "merge all edges and nodes\n",
      "unary_union\n",
      "merge all edges and nodes\n",
      "unary_union\n",
      "merge all edges and nodes\n",
      "unary_union\n",
      "merge all edges and nodes\n",
      "unary_union\n",
      "Wall time: 8min 59s\n"
     ]
    }
   ],
   "source": [
    "%%time\n",
    "for stops in stops_dict.items():\n",
    "    GTFS_graph_snapped = gn.pandana_snap(original_G, stops[1])\n",
    "    NN_to_stops = list(set(list(GTFS_graph_snapped.NN)))\n",
    "    \n",
    "    # simulate up to a 15-min and 30-min isochrone\n",
    "    # at 3.5 Kmph, 15 min equals 875m\n",
    "    iso_gdf = gn.make_iso_polys(original_G_adv_snap, NN_to_stops, [900], edge_buff=700, node_buff=700, weight = 'length', measure_crs = 'epsg:32619')\n",
    "    dissolved = iso_gdf.dissolve(by=\"thresh\")\n",
    "    gdf_out = dissolved.explode()\n",
    "    gdf_out2 = gdf_out.reset_index()\n",
    "    # save file\n",
    "    gdf_out2.to_file(fr\"output_folder\\isochrones_{stops[0]}_original_G_15m_adv_snap.shp\")\n",
    "    \n",
    "    # simulate up to 30-min isochrone\n",
    "    # at 3.5 Kmph, 30 min equals 1750m\n",
    "    iso_gdf = gn.make_iso_polys(original_G_adv_snap, NN_to_stops, [1800], edge_buff=700, node_buff=700, weight = 'length', measure_crs = 'epsg:32619')\n",
    "    dissolved = iso_gdf.dissolve(by=\"thresh\")\n",
    "    gdf_out = dissolved.explode()\n",
    "    gdf_out2 = gdf_out.reset_index()\n",
    "    # save file\n",
    "    gdf_out2.to_file(fr\"output_folder\\isochrones_{stops[0]}_original_G_30m_adv_snap.shp\")"
   ]
  },
  {
   "cell_type": "markdown",
   "metadata": {},
   "source": [
    "## Create tables for population count and percentage of population within isochrones"
   ]
  },
  {
   "cell_type": "code",
   "execution_count": 22,
   "metadata": {},
   "outputs": [],
   "source": [
    "# read in WorldPop and count total polygons\n",
    "# read in shapefiles that begin with isochrones_"
   ]
  },
  {
   "cell_type": "code",
   "execution_count": 23,
   "metadata": {},
   "outputs": [
    {
     "data": {
      "text/html": [
       "<div>\n",
       "<style scoped>\n",
       "    .dataframe tbody tr th:only-of-type {\n",
       "        vertical-align: middle;\n",
       "    }\n",
       "\n",
       "    .dataframe tbody tr th {\n",
       "        vertical-align: top;\n",
       "    }\n",
       "\n",
       "    .dataframe thead th {\n",
       "        text-align: right;\n",
       "    }\n",
       "</style>\n",
       "<table border=\"1\" class=\"dataframe\">\n",
       "  <thead>\n",
       "    <tr style=\"text-align: right;\">\n",
       "      <th></th>\n",
       "      <th>VALUE</th>\n",
       "      <th>geometry</th>\n",
       "    </tr>\n",
       "  </thead>\n",
       "  <tbody>\n",
       "    <tr>\n",
       "      <th>0</th>\n",
       "      <td>3.630365</td>\n",
       "      <td>POINT (-72.38833 19.81667)</td>\n",
       "    </tr>\n",
       "    <tr>\n",
       "      <th>1</th>\n",
       "      <td>3.881798</td>\n",
       "      <td>POINT (-72.38667 19.81667)</td>\n",
       "    </tr>\n",
       "    <tr>\n",
       "      <th>2</th>\n",
       "      <td>4.394933</td>\n",
       "      <td>POINT (-72.38250 19.81667)</td>\n",
       "    </tr>\n",
       "    <tr>\n",
       "      <th>3</th>\n",
       "      <td>4.479361</td>\n",
       "      <td>POINT (-72.38167 19.81667)</td>\n",
       "    </tr>\n",
       "    <tr>\n",
       "      <th>4</th>\n",
       "      <td>3.633273</td>\n",
       "      <td>POINT (-72.38833 19.81583)</td>\n",
       "    </tr>\n",
       "    <tr>\n",
       "      <th>...</th>\n",
       "      <td>...</td>\n",
       "      <td>...</td>\n",
       "    </tr>\n",
       "    <tr>\n",
       "      <th>182971</th>\n",
       "      <td>1.172181</td>\n",
       "      <td>POINT (-72.18667 19.49583)</td>\n",
       "    </tr>\n",
       "    <tr>\n",
       "      <th>182972</th>\n",
       "      <td>1.175843</td>\n",
       "      <td>POINT (-72.18583 19.49583)</td>\n",
       "    </tr>\n",
       "    <tr>\n",
       "      <th>182973</th>\n",
       "      <td>1.067793</td>\n",
       "      <td>POINT (-72.18500 19.49583)</td>\n",
       "    </tr>\n",
       "    <tr>\n",
       "      <th>182974</th>\n",
       "      <td>1.201748</td>\n",
       "      <td>POINT (-72.18417 19.49583)</td>\n",
       "    </tr>\n",
       "    <tr>\n",
       "      <th>182975</th>\n",
       "      <td>1.251299</td>\n",
       "      <td>POINT (-72.18333 19.49583)</td>\n",
       "    </tr>\n",
       "  </tbody>\n",
       "</table>\n",
       "<p>182976 rows × 2 columns</p>\n",
       "</div>"
      ],
      "text/plain": [
       "           VALUE                    geometry\n",
       "0       3.630365  POINT (-72.38833 19.81667)\n",
       "1       3.881798  POINT (-72.38667 19.81667)\n",
       "2       4.394933  POINT (-72.38250 19.81667)\n",
       "3       4.479361  POINT (-72.38167 19.81667)\n",
       "4       3.633273  POINT (-72.38833 19.81583)\n",
       "...          ...                         ...\n",
       "182971  1.172181  POINT (-72.18667 19.49583)\n",
       "182972  1.175843  POINT (-72.18583 19.49583)\n",
       "182973  1.067793  POINT (-72.18500 19.49583)\n",
       "182974  1.201748  POINT (-72.18417 19.49583)\n",
       "182975  1.251299  POINT (-72.18333 19.49583)\n",
       "\n",
       "[182976 rows x 2 columns]"
      ]
     },
     "execution_count": 23,
     "metadata": {},
     "output_type": "execute_result"
    }
   ],
   "source": [
    "# load origins\n",
    "origins = gpd.read_file(r\"input_folder\\cap_haitien_worldpop_pts2.shp\")\n",
    "origins"
   ]
  },
  {
   "cell_type": "code",
   "execution_count": 24,
   "metadata": {},
   "outputs": [],
   "source": [
    "# sum of Worldpop points\n",
    "total_pop = origins.VALUE.sum()"
   ]
  },
  {
   "cell_type": "markdown",
   "metadata": {},
   "source": [
    "### for stops"
   ]
  },
  {
   "cell_type": "code",
   "execution_count": 25,
   "metadata": {},
   "outputs": [],
   "source": [
    "for stops in stops_dict.items():\n",
    "    d = {'label':[],'population':[]}\n",
    "    # for 15-min\n",
    "    isochrone_gdf = gpd.read_file(fr\"output_folder\\isochrones_{stops[0]}_original_G_15m_adv_snap.shp\")\n",
    "    #isochrone_gdf\n",
    "    \n",
    "    points_in_polygons = gpd.overlay(origins, isochrone_gdf, how = 'intersection')\n",
    "    iso_pop = points_in_polygons.VALUE.sum()\n",
    "    percent_in_iso = iso_pop/total_pop\n",
    "    #percent_in_iso\n",
    "    \n",
    "    d['label'].append('Total_pop')\n",
    "    d['population'].append(total_pop)\n",
    "    \n",
    "    d['label'].append('pop in 15-min isochrones')\n",
    "    d['population'].append(iso_pop)\n",
    "    \n",
    "    d['label'].append('percentage of pop in 15-min isochrones')\n",
    "    d['population'].append(percent_in_iso)\n",
    "    \n",
    "    # for 30-min\n",
    "    isochrone_gdf = gpd.read_file(fr\"output_folder\\isochrones_{stops[0]}_original_G_30m_adv_snap.shp\")\n",
    "    #isochrone_gdf\n",
    "    \n",
    "    points_in_polygons = gpd.overlay(origins, isochrone_gdf, how = 'intersection')\n",
    "    iso_pop = points_in_polygons.VALUE.sum()\n",
    "    percent_in_iso = iso_pop/total_pop\n",
    "    #percent_in_iso\n",
    "    \n",
    "    d['label'].append('Total_pop')\n",
    "    d['population'].append(total_pop)\n",
    "    \n",
    "    d['label'].append('pop in 30-min isochrones')\n",
    "    d['population'].append(iso_pop)\n",
    "    \n",
    "    d['label'].append('percentage of pop in 30-min isochrones')\n",
    "    d['population'].append(percent_in_iso)\n",
    "\n",
    "    d_df = pd.DataFrame(d)\n",
    "\n",
    "    # save a CSV of Table\n",
    "    d_df.to_csv(fr\"output_folder\\table_isochrones_{stops[0]}_stops_adv_snap.csv\")"
   ]
  },
  {
   "cell_type": "markdown",
   "metadata": {},
   "source": [
    "### for health facilities"
   ]
  },
  {
   "cell_type": "code",
   "execution_count": 26,
   "metadata": {},
   "outputs": [],
   "source": [
    "for G in graphs.items():\n",
    "   \n",
    "    d = {'label':[],'population':[]}\n",
    "\n",
    "    isochrone_gdf = gpd.read_file(fr\"output_folder\\isochrones_health_facilities_{G[0]}_60m_adv_snap.shp\")\n",
    "    #isochrone_gdf\n",
    "    \n",
    "    points_in_polygons = gpd.overlay(origins, isochrone_gdf, how = 'intersection')\n",
    "    iso_pop = points_in_polygons.VALUE.sum()\n",
    "    percent_in_iso = iso_pop/total_pop\n",
    "    #percent_in_iso\n",
    "    \n",
    "    d['label'].append('Total_pop')\n",
    "    d['population'].append(total_pop)\n",
    "    \n",
    "    d['label'].append('pop in 60-min isochrones')\n",
    "    d['population'].append(iso_pop)\n",
    "    \n",
    "    d['label'].append('percentage of pop in 60-min isochrones')\n",
    "    d['population'].append(percent_in_iso)\n",
    "    \n",
    "    d_df = pd.DataFrame(d)\n",
    "\n",
    "    # save a CSV of Table\n",
    "    d_df.to_csv(fr\"output_folder\\table_isochrones_{G[0]}_health_adv_snap.csv\")"
   ]
  },
  {
   "cell_type": "code",
   "execution_count": null,
   "metadata": {},
   "outputs": [],
   "source": []
  }
 ],
 "metadata": {
  "kernelspec": {
   "display_name": "Python 3",
   "language": "python",
   "name": "python3"
  },
  "language_info": {
   "codemirror_mode": {
    "name": "ipython",
    "version": 3
   },
   "file_extension": ".py",
   "mimetype": "text/x-python",
   "name": "python",
   "nbconvert_exporter": "python",
   "pygments_lexer": "ipython3",
   "version": "3.7.7"
  }
 },
 "nbformat": 4,
 "nbformat_minor": 4
}
