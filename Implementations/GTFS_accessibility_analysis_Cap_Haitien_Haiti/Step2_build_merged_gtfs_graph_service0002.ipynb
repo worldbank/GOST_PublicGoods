{
 "cells": [
  {
   "cell_type": "markdown",
   "metadata": {},
   "source": [
    "# Step 2: Building a GTFS graph and merging it with a walking graph\n",
    "We heavily follow Kuan Butts's Calculating Betweenness Centrality with GTFS blog post: https://gist.github.com/kuanb/c54d0ae7ee353cac3d56371d3491cf56\n",
    "\n",
    "The peartree (https://github.com/kuanb/peartree) source code was modified. Until code is merged you should use code from this fork: https://github.com/d3netxer/peartree"
   ]
  },
  {
   "cell_type": "code",
   "execution_count": 59,
   "metadata": {},
   "outputs": [
    {
     "name": "stdout",
     "output_type": "stream",
     "text": [
      "The autoreload extension is already loaded. To reload it, use:\n",
      "  %reload_ext autoreload\n"
     ]
    }
   ],
   "source": [
    "%load_ext autoreload\n",
    "%autoreload 2"
   ]
  },
  {
   "cell_type": "code",
   "execution_count": 60,
   "metadata": {},
   "outputs": [],
   "source": [
    "import matplotlib.pyplot as plt\n",
    "%matplotlib inline"
   ]
  },
  {
   "cell_type": "code",
   "execution_count": 61,
   "metadata": {},
   "outputs": [],
   "source": [
    "import osmnx as ox\n",
    "import pandas as pd\n",
    "import geopandas as gpd\n",
    "import networkx as nx\n",
    "import numpy as np\n",
    "from shapely.geometry import Point"
   ]
  },
  {
   "cell_type": "code",
   "execution_count": 62,
   "metadata": {},
   "outputs": [],
   "source": [
    "import os, sys"
   ]
  },
  {
   "cell_type": "code",
   "execution_count": 63,
   "metadata": {},
   "outputs": [],
   "source": [
    "sys.path.append(r\"C:\\repos\\peartree\")\n",
    "import peartree as pt"
   ]
  },
  {
   "cell_type": "code",
   "execution_count": 64,
   "metadata": {},
   "outputs": [
    {
     "name": "stdout",
     "output_type": "stream",
     "text": [
      "C:\\repos\\peartree\\peartree\\__init__.py\n"
     ]
    }
   ],
   "source": [
    "print(pt.__file__)"
   ]
  },
  {
   "cell_type": "code",
   "execution_count": 65,
   "metadata": {},
   "outputs": [],
   "source": [
    "path = r'input_folder/cap_haitien_gtfs.zip'\n",
    "\n",
    "# Automatically identify the busiest day and\n",
    "# read that in as a Partidge feed\n",
    "feed = pt.get_representative_feed(path)"
   ]
  },
  {
   "cell_type": "code",
   "execution_count": 66,
   "metadata": {},
   "outputs": [
    {
     "data": {
      "text/html": [
       "<div>\n",
       "<style scoped>\n",
       "    .dataframe tbody tr th:only-of-type {\n",
       "        vertical-align: middle;\n",
       "    }\n",
       "\n",
       "    .dataframe tbody tr th {\n",
       "        vertical-align: top;\n",
       "    }\n",
       "\n",
       "    .dataframe thead th {\n",
       "        text-align: right;\n",
       "    }\n",
       "</style>\n",
       "<table border=\"1\" class=\"dataframe\">\n",
       "  <thead>\n",
       "    <tr style=\"text-align: right;\">\n",
       "      <th></th>\n",
       "      <th>service_id</th>\n",
       "      <th>monday</th>\n",
       "      <th>tuesday</th>\n",
       "      <th>wednesday</th>\n",
       "      <th>thursday</th>\n",
       "      <th>friday</th>\n",
       "      <th>saturday</th>\n",
       "      <th>sunday</th>\n",
       "      <th>start_date</th>\n",
       "      <th>end_date</th>\n",
       "    </tr>\n",
       "  </thead>\n",
       "  <tbody>\n",
       "    <tr>\n",
       "      <th>0</th>\n",
       "      <td>service_0002</td>\n",
       "      <td>1</td>\n",
       "      <td>1</td>\n",
       "      <td>1</td>\n",
       "      <td>1</td>\n",
       "      <td>1</td>\n",
       "      <td>0</td>\n",
       "      <td>0</td>\n",
       "      <td>2019-06-29</td>\n",
       "      <td>2020-07-29</td>\n",
       "    </tr>\n",
       "  </tbody>\n",
       "</table>\n",
       "</div>"
      ],
      "text/plain": [
       "     service_id  monday  tuesday  wednesday  thursday  friday  saturday  \\\n",
       "0  service_0002       1        1          1         1       1         0   \n",
       "\n",
       "   sunday  start_date    end_date  \n",
       "0       0  2019-06-29  2020-07-29  "
      ]
     },
     "execution_count": 66,
     "metadata": {},
     "output_type": "execute_result"
    }
   ],
   "source": [
    "feed.calendar"
   ]
  },
  {
   "cell_type": "code",
   "execution_count": 67,
   "metadata": {},
   "outputs": [],
   "source": [
    "#feed.frequencies "
   ]
  },
  {
   "cell_type": "markdown",
   "metadata": {},
   "source": [
    "### give all trips a direction of 0\n",
    "PearTree wants directions assigned"
   ]
  },
  {
   "cell_type": "code",
   "execution_count": 68,
   "metadata": {},
   "outputs": [],
   "source": [
    "feed.trips['direction_id'] = 0"
   ]
  },
  {
   "cell_type": "markdown",
   "metadata": {},
   "source": [
    "## Preview the GTFS network"
   ]
  },
  {
   "cell_type": "code",
   "execution_count": 69,
   "metadata": {},
   "outputs": [],
   "source": [
    "# Set a target time period to summarize impedance\n",
    "start = 0  # 0:00 \n",
    "end = 24*60*60  # 24:00 \n",
    "\n",
    "# Converts feed subset into a directed\n",
    "# network multigraph\n",
    "G = pt.load_feed_as_graph(feed, start, end, add_trips_per_edge=True)"
   ]
  },
  {
   "cell_type": "code",
   "execution_count": 70,
   "metadata": {},
   "outputs": [
    {
     "name": "stderr",
     "output_type": "stream",
     "text": [
      "C:\\Users\\war-machine\\Anaconda2\\envs\\gostnets2\\lib\\site-packages\\pyproj\\crs\\crs.py:53: FutureWarning: '+init=<authority>:<code>' syntax is deprecated. '<authority>:<code>' is the preferred initialization method. When making the change, be mindful of axis order changes: https://pyproj4.github.io/pyproj/stable/gotchas.html#axis-order-changes-in-proj-6\n",
      "  return _prepare_from_string(\" \".join(pjargs))\n"
     ]
    },
    {
     "data": {
      "image/png": "[encoded data removed]",
      "text/plain": [
       "<Figure size 864x864 with 1 Axes>"
      ]
     },
     "metadata": {},
     "output_type": "display_data"
    }
   ],
   "source": [
    "fig, ax = ox.plot_graph(G,\n",
    "                            figsize=(12,12),\n",
    "                            show=False,\n",
    "                            close=False,\n",
    "                            node_color='#8aedfc',\n",
    "                            node_size=5,\n",
    "                            edge_color='#e2dede',\n",
    "                            edge_alpha=0.25,\n",
    "                            bgcolor='black')"
   ]
  },
  {
   "cell_type": "code",
   "execution_count": 71,
   "metadata": {},
   "outputs": [
    {
     "data": {
      "text/plain": [
       "[('B9IOC_stop_0001', 'B9IOC_stop_0139', 0),\n",
       " ('B9IOC_stop_0001', 'B9IOC_stop_0219', 0),\n",
       " ('B9IOC_stop_0002', 'B9IOC_stop_0075', 0),\n",
       " ('B9IOC_stop_0003', 'B9IOC_stop_0152', 0),\n",
       " ('B9IOC_stop_0003', 'B9IOC_stop_0023', 0),\n",
       " ('B9IOC_stop_0004', 'B9IOC_stop_0041', 0),\n",
       " ('B9IOC_stop_0005', 'B9IOC_stop_0198', 0),\n",
       " ('B9IOC_stop_0006', 'B9IOC_stop_0161', 0),\n",
       " ('B9IOC_stop_0008', 'B9IOC_stop_0013', 0),\n",
       " ('B9IOC_stop_0009', 'B9IOC_stop_0222', 0),\n",
       " ('B9IOC_stop_0009', 'B9IOC_stop_0188', 0),\n",
       " ('B9IOC_stop_0011', 'B9IOC_stop_0247', 0),\n",
       " ('B9IOC_stop_0012', 'B9IOC_stop_0039', 0),\n",
       " ('B9IOC_stop_0013', 'B9IOC_stop_0145', 0),\n",
       " ('B9IOC_stop_0014', 'B9IOC_stop_0142', 0),\n",
       " ('B9IOC_stop_0015', 'B9IOC_stop_0141', 0),\n",
       " ('B9IOC_stop_0016', 'B9IOC_stop_0079', 0),\n",
       " ('B9IOC_stop_0017', 'B9IOC_stop_0076', 0),\n",
       " ('B9IOC_stop_0018', 'B9IOC_stop_0153', 0),\n",
       " ('B9IOC_stop_0019', 'B9IOC_stop_0113', 0),\n",
       " ('B9IOC_stop_0019', 'B9IOC_stop_0084', 0),\n",
       " ('B9IOC_stop_0020', 'B9IOC_stop_0050', 0),\n",
       " ('B9IOC_stop_0020', 'B9IOC_stop_0204', 0),\n",
       " ('B9IOC_stop_0020', 'B9IOC_stop_0189', 0),\n",
       " ('B9IOC_stop_0021', 'B9IOC_stop_0254', 0),\n",
       " ('B9IOC_stop_0022', 'B9IOC_stop_0017', 0),\n",
       " ('B9IOC_stop_0022', 'B9IOC_stop_0076', 0),\n",
       " ('B9IOC_stop_0023', 'B9IOC_stop_0185', 0),\n",
       " ('B9IOC_stop_0023', 'B9IOC_stop_0213', 0),\n",
       " ('B9IOC_stop_0024', 'B9IOC_stop_0109', 0),\n",
       " ('B9IOC_stop_0024', 'B9IOC_stop_0067', 0),\n",
       " ('B9IOC_stop_0024', 'B9IOC_stop_0216', 0),\n",
       " ('B9IOC_stop_0024', 'B9IOC_stop_0112', 0),\n",
       " ('B9IOC_stop_0025', 'B9IOC_stop_0210', 0),\n",
       " ('B9IOC_stop_0026', 'B9IOC_stop_0238', 0),\n",
       " ('B9IOC_stop_0027', 'B9IOC_stop_0260', 0),\n",
       " ('B9IOC_stop_0028', 'B9IOC_stop_0214', 0),\n",
       " ('B9IOC_stop_0029', 'B9IOC_stop_0252', 0),\n",
       " ('B9IOC_stop_0029', 'B9IOC_stop_0058', 0),\n",
       " ('B9IOC_stop_0030', 'B9IOC_stop_0019', 0),\n",
       " ('B9IOC_stop_0030', 'B9IOC_stop_0016', 0),\n",
       " ('B9IOC_stop_0031', 'B9IOC_stop_0089', 0),\n",
       " ('B9IOC_stop_0032', 'B9IOC_stop_0072', 0),\n",
       " ('B9IOC_stop_0033', 'B9IOC_stop_0206', 0),\n",
       " ('B9IOC_stop_0034', 'B9IOC_stop_0009', 0),\n",
       " ('B9IOC_stop_0034', 'B9IOC_stop_0137', 0),\n",
       " ('B9IOC_stop_0034', 'B9IOC_stop_0222', 0),\n",
       " ('B9IOC_stop_0035', 'B9IOC_stop_0110', 0),\n",
       " ('B9IOC_stop_0036', 'B9IOC_stop_0176', 0),\n",
       " ('B9IOC_stop_0037', 'B9IOC_stop_0190', 0),\n",
       " ('B9IOC_stop_0038', 'B9IOC_stop_0024', 0),\n",
       " ('B9IOC_stop_0038', 'B9IOC_stop_0112', 0),\n",
       " ('B9IOC_stop_0039', 'B9IOC_stop_0191', 0),\n",
       " ('B9IOC_stop_0039', 'B9IOC_stop_0028', 0),\n",
       " ('B9IOC_stop_0042', 'B9IOC_stop_0108', 0),\n",
       " ('B9IOC_stop_0043', 'B9IOC_stop_0033', 0),\n",
       " ('B9IOC_stop_0044', 'B9IOC_stop_0147', 0),\n",
       " ('B9IOC_stop_0045', 'B9IOC_stop_0053', 0),\n",
       " ('B9IOC_stop_0046', 'B9IOC_stop_0256', 0),\n",
       " ('B9IOC_stop_0046', 'B9IOC_stop_0175', 0),\n",
       " ('B9IOC_stop_0047', 'B9IOC_stop_0117', 0),\n",
       " ('B9IOC_stop_0048', 'B9IOC_stop_0057', 0),\n",
       " ('B9IOC_stop_0049', 'B9IOC_stop_0021', 0),\n",
       " ('B9IOC_stop_0050', 'B9IOC_stop_0109', 0),\n",
       " ('B9IOC_stop_0050', 'B9IOC_stop_0114', 0),\n",
       " ('B9IOC_stop_0051', 'B9IOC_stop_0106', 0),\n",
       " ('B9IOC_stop_0052', 'B9IOC_stop_0046', 0),\n",
       " ('B9IOC_stop_0052', 'B9IOC_stop_0207', 0),\n",
       " ('B9IOC_stop_0053', 'B9IOC_stop_0234', 0),\n",
       " ('B9IOC_stop_0053', 'B9IOC_stop_0005', 0),\n",
       " ('B9IOC_stop_0054', 'B9IOC_stop_0099', 0),\n",
       " ('B9IOC_stop_0054', 'B9IOC_stop_0086', 0),\n",
       " ('B9IOC_stop_0054', 'B9IOC_stop_0158', 0),\n",
       " ('B9IOC_stop_0055', 'B9IOC_stop_0073', 0),\n",
       " ('B9IOC_stop_0055', 'B9IOC_stop_0195', 0),\n",
       " ('B9IOC_stop_0056', 'B9IOC_stop_0100', 0),\n",
       " ('B9IOC_stop_0056', 'B9IOC_stop_0155', 0),\n",
       " ('B9IOC_stop_0056', 'B9IOC_stop_0066', 0),\n",
       " ('B9IOC_stop_0057', 'B9IOC_stop_0262', 0),\n",
       " ('B9IOC_stop_0058', 'B9IOC_stop_0180', 0),\n",
       " ('B9IOC_stop_0058', 'B9IOC_stop_0252', 0),\n",
       " ('B9IOC_stop_0058', 'B9IOC_stop_0094', 0),\n",
       " ('B9IOC_stop_0060', 'B9IOC_stop_0151', 0),\n",
       " ('B9IOC_stop_0061', 'B9IOC_stop_0255', 0),\n",
       " ('B9IOC_stop_0062', 'B9IOC_stop_0263', 0),\n",
       " ('B9IOC_stop_0063', 'B9IOC_stop_0144', 0),\n",
       " ('B9IOC_stop_0064', 'B9IOC_stop_0129', 0),\n",
       " ('B9IOC_stop_0065', 'B9IOC_stop_0206', 0),\n",
       " ('B9IOC_stop_0065', 'B9IOC_stop_0029', 0),\n",
       " ('B9IOC_stop_0066', 'B9IOC_stop_0081', 0),\n",
       " ('B9IOC_stop_0067', 'B9IOC_stop_0251', 0),\n",
       " ('B9IOC_stop_0067', 'B9IOC_stop_0050', 0),\n",
       " ('B9IOC_stop_0067', 'B9IOC_stop_0020', 0),\n",
       " ('B9IOC_stop_0067', 'B9IOC_stop_0102', 0),\n",
       " ('B9IOC_stop_0068', 'B9IOC_stop_0034', 0),\n",
       " ('B9IOC_stop_0069', 'B9IOC_stop_0171', 0),\n",
       " ('B9IOC_stop_0070', 'B9IOC_stop_0003', 0),\n",
       " ('B9IOC_stop_0070', 'B9IOC_stop_0185', 0),\n",
       " ('B9IOC_stop_0070', 'B9IOC_stop_0105', 0),\n",
       " ('B9IOC_stop_0071', 'B9IOC_stop_0020', 0),\n",
       " ('B9IOC_stop_0072', 'B9IOC_stop_0026', 0),\n",
       " ('B9IOC_stop_0072', 'B9IOC_stop_0238', 0),\n",
       " ('B9IOC_stop_0073', 'B9IOC_stop_0076', 0),\n",
       " ('B9IOC_stop_0074', 'B9IOC_stop_0225', 0),\n",
       " ('B9IOC_stop_0075', 'B9IOC_stop_0246', 0),\n",
       " ('B9IOC_stop_0076', 'B9IOC_stop_0087', 0),\n",
       " ('B9IOC_stop_0076', 'B9IOC_stop_0103', 0),\n",
       " ('B9IOC_stop_0077', 'B9IOC_stop_0138', 0),\n",
       " ('B9IOC_stop_0078', 'B9IOC_stop_0223', 0),\n",
       " ('B9IOC_stop_0079', 'B9IOC_stop_0064', 0),\n",
       " ('B9IOC_stop_0080', 'B9IOC_stop_0182', 0),\n",
       " ('B9IOC_stop_0080', 'B9IOC_stop_0238', 0),\n",
       " ('B9IOC_stop_0081', 'B9IOC_stop_0194', 0),\n",
       " ('B9IOC_stop_0081', 'B9IOC_stop_0154', 0),\n",
       " ('B9IOC_stop_0083', 'B9IOC_stop_0040', 0),\n",
       " ('B9IOC_stop_0084', 'B9IOC_stop_0069', 0),\n",
       " ('B9IOC_stop_0085', 'B9IOC_stop_0031', 0),\n",
       " ('B9IOC_stop_0086', 'B9IOC_stop_0255', 0),\n",
       " ('B9IOC_stop_0087', 'B9IOC_stop_0054', 0),\n",
       " ('B9IOC_stop_0087', 'B9IOC_stop_0063', 0),\n",
       " ('B9IOC_stop_0087', 'B9IOC_stop_0140', 0),\n",
       " ('B9IOC_stop_0089', 'B9IOC_stop_0199', 0),\n",
       " ('B9IOC_stop_0090', 'B9IOC_stop_0230', 0),\n",
       " ('B9IOC_stop_0091', 'B9IOC_stop_0262', 0),\n",
       " ('B9IOC_stop_0091', 'B9IOC_stop_0124', 0),\n",
       " ('B9IOC_stop_0092', 'B9IOC_stop_0149', 0),\n",
       " ('B9IOC_stop_0093', 'B9IOC_stop_0245', 0),\n",
       " ('B9IOC_stop_0093', 'B9IOC_stop_0243', 0),\n",
       " ('B9IOC_stop_0094', 'B9IOC_stop_0170', 0),\n",
       " ('B9IOC_stop_0094', 'B9IOC_stop_0165', 0),\n",
       " ('B9IOC_stop_0095', 'B9IOC_stop_0248', 0),\n",
       " ('B9IOC_stop_0095', 'B9IOC_stop_0211', 0),\n",
       " ('B9IOC_stop_0097', 'B9IOC_stop_0091', 0),\n",
       " ('B9IOC_stop_0098', 'B9IOC_stop_0131', 0),\n",
       " ('B9IOC_stop_0099', 'B9IOC_stop_0061', 0),\n",
       " ('B9IOC_stop_0099', 'B9IOC_stop_0169', 0),\n",
       " ('B9IOC_stop_0099', 'B9IOC_stop_0241', 0),\n",
       " ('B9IOC_stop_0100', 'B9IOC_stop_0143', 0),\n",
       " ('B9IOC_stop_0102', 'B9IOC_stop_0020', 0),\n",
       " ('B9IOC_stop_0103', 'B9IOC_stop_0140', 0),\n",
       " ('B9IOC_stop_0104', 'B9IOC_stop_0121', 0),\n",
       " ('B9IOC_stop_0104', 'B9IOC_stop_0022', 0),\n",
       " ('B9IOC_stop_0105', 'B9IOC_stop_0003', 0),\n",
       " ('B9IOC_stop_0106', 'B9IOC_stop_0055', 0),\n",
       " ('B9IOC_stop_0107', 'B9IOC_stop_0179', 0),\n",
       " ('B9IOC_stop_0108', 'B9IOC_stop_0049', 0),\n",
       " ('B9IOC_stop_0109', 'B9IOC_stop_0143', 0),\n",
       " ('B9IOC_stop_0109', 'B9IOC_stop_0056', 0),\n",
       " ('B9IOC_stop_0109', 'B9IOC_stop_0114', 0),\n",
       " ('B9IOC_stop_0109', 'B9IOC_stop_0100', 0),\n",
       " ('B9IOC_stop_0110', 'B9IOC_stop_0107', 0),\n",
       " ('B9IOC_stop_0111', 'B9IOC_stop_0159', 0),\n",
       " ('B9IOC_stop_0112', 'B9IOC_stop_0067', 0),\n",
       " ('B9IOC_stop_0113', 'B9IOC_stop_0037', 0),\n",
       " ('B9IOC_stop_0114', 'B9IOC_stop_0056', 0),\n",
       " ('B9IOC_stop_0117', 'B9IOC_stop_0062', 0),\n",
       " ('B9IOC_stop_0118', 'B9IOC_stop_0036', 0),\n",
       " ('B9IOC_stop_0119', 'B9IOC_stop_0096', 0),\n",
       " ('B9IOC_stop_0120', 'B9IOC_stop_0095', 0),\n",
       " ('B9IOC_stop_0121', 'B9IOC_stop_0183', 0),\n",
       " ('B9IOC_stop_0122', 'B9IOC_stop_0022', 0),\n",
       " ('B9IOC_stop_0123', 'B9IOC_stop_0004', 0),\n",
       " ('B9IOC_stop_0124', 'B9IOC_stop_0035', 0),\n",
       " ('B9IOC_stop_0125', 'B9IOC_stop_0257', 0),\n",
       " ('B9IOC_stop_0127', 'B9IOC_stop_0039', 0),\n",
       " ('B9IOC_stop_0128', 'B9IOC_stop_0230', 0),\n",
       " ('B9IOC_stop_0128', 'B9IOC_stop_0090', 0),\n",
       " ('B9IOC_stop_0129', 'B9IOC_stop_0173', 0),\n",
       " ('B9IOC_stop_0129', 'B9IOC_stop_0001', 0),\n",
       " ('B9IOC_stop_0130', 'B9IOC_stop_0218', 0),\n",
       " ('B9IOC_stop_0131', 'B9IOC_stop_0147', 0),\n",
       " ('B9IOC_stop_0131', 'B9IOC_stop_0034', 0),\n",
       " ('B9IOC_stop_0131', 'B9IOC_stop_0044', 0),\n",
       " ('B9IOC_stop_0131', 'B9IOC_stop_0259', 0),\n",
       " ('B9IOC_stop_0132', 'B9IOC_stop_0052', 0),\n",
       " ('B9IOC_stop_0132', 'B9IOC_stop_0046', 0),\n",
       " ('B9IOC_stop_0133', 'B9IOC_stop_0027', 0),\n",
       " ('B9IOC_stop_0134', 'B9IOC_stop_0095', 0),\n",
       " ('B9IOC_stop_0135', 'B9IOC_stop_0178', 0),\n",
       " ('B9IOC_stop_0135', 'B9IOC_stop_0158', 0),\n",
       " ('B9IOC_stop_0135', 'B9IOC_stop_0212', 0),\n",
       " ('B9IOC_stop_0136', 'B9IOC_stop_0235', 0),\n",
       " ('B9IOC_stop_0138', 'B9IOC_stop_0166', 0),\n",
       " ('B9IOC_stop_0140', 'B9IOC_stop_0144', 0),\n",
       " ('B9IOC_stop_0140', 'B9IOC_stop_0197', 0),\n",
       " ('B9IOC_stop_0140', 'B9IOC_stop_0135', 0),\n",
       " ('B9IOC_stop_0141', 'B9IOC_stop_0014', 0),\n",
       " ('B9IOC_stop_0142', 'B9IOC_stop_0186', 0),\n",
       " ('B9IOC_stop_0143', 'B9IOC_stop_0260', 0),\n",
       " ('B9IOC_stop_0143', 'B9IOC_stop_0081', 0),\n",
       " ('B9IOC_stop_0143', 'B9IOC_stop_0154', 0),\n",
       " ('B9IOC_stop_0144', 'B9IOC_stop_0195', 0),\n",
       " ('B9IOC_stop_0145', 'B9IOC_stop_0012', 0),\n",
       " ('B9IOC_stop_0147', 'B9IOC_stop_0068', 0),\n",
       " ('B9IOC_stop_0147', 'B9IOC_stop_0168', 0),\n",
       " ('B9IOC_stop_0148', 'B9IOC_stop_0236', 0),\n",
       " ('B9IOC_stop_0149', 'B9IOC_stop_0162', 0),\n",
       " ('B9IOC_stop_0149', 'B9IOC_stop_0253', 0),\n",
       " ('B9IOC_stop_0149', 'B9IOC_stop_0203', 0),\n",
       " ('B9IOC_stop_0149', 'B9IOC_stop_0065', 0),\n",
       " ('B9IOC_stop_0150', 'B9IOC_stop_0104', 0),\n",
       " ('B9IOC_stop_0151', 'B9IOC_stop_0078', 0),\n",
       " ('B9IOC_stop_0152', 'B9IOC_stop_0023', 0),\n",
       " ('B9IOC_stop_0153', 'B9IOC_stop_0167', 0),\n",
       " ('B9IOC_stop_0154', 'B9IOC_stop_0194', 0),\n",
       " ('B9IOC_stop_0155', 'B9IOC_stop_0081', 0),\n",
       " ('B9IOC_stop_0156', 'B9IOC_stop_0123', 0),\n",
       " ('B9IOC_stop_0158', 'B9IOC_stop_0099', 0),\n",
       " ('B9IOC_stop_0158', 'B9IOC_stop_0217', 0),\n",
       " ('B9IOC_stop_0159', 'B9IOC_stop_0125', 0),\n",
       " ('B9IOC_stop_0161', 'B9IOC_stop_0184', 0),\n",
       " ('B9IOC_stop_0161', 'B9IOC_stop_0083', 0),\n",
       " ('B9IOC_stop_0162', 'B9IOC_stop_0115', 0),\n",
       " ('B9IOC_stop_0163', 'B9IOC_stop_0131', 0),\n",
       " ('B9IOC_stop_0163', 'B9IOC_stop_0098', 0),\n",
       " ('B9IOC_stop_0164', 'B9IOC_stop_0080', 0),\n",
       " ('B9IOC_stop_0165', 'B9IOC_stop_0193', 0),\n",
       " ('B9IOC_stop_0166', 'B9IOC_stop_0047', 0),\n",
       " ('B9IOC_stop_0167', 'B9IOC_stop_0192', 0),\n",
       " ('B9IOC_stop_0168', 'B9IOC_stop_0137', 0),\n",
       " ('B9IOC_stop_0168', 'B9IOC_stop_0034', 0),\n",
       " ('B9IOC_stop_0168', 'B9IOC_stop_0068', 0),\n",
       " ('B9IOC_stop_0170', 'B9IOC_stop_0193', 0),\n",
       " ('B9IOC_stop_0171', 'B9IOC_stop_0232', 0),\n",
       " ('B9IOC_stop_0172', 'B9IOC_stop_0093', 0),\n",
       " ('B9IOC_stop_0173', 'B9IOC_stop_0219', 0),\n",
       " ('B9IOC_stop_0174', 'B9IOC_stop_0164', 0),\n",
       " ('B9IOC_stop_0175', 'B9IOC_stop_0098', 0),\n",
       " ('B9IOC_stop_0176', 'B9IOC_stop_0074', 0),\n",
       " ('B9IOC_stop_0177', 'B9IOC_stop_0215', 0),\n",
       " ('B9IOC_stop_0178', 'B9IOC_stop_0212', 0),\n",
       " ('B9IOC_stop_0179', 'B9IOC_stop_0048', 0),\n",
       " ('B9IOC_stop_0180', 'B9IOC_stop_0094', 0),\n",
       " ('B9IOC_stop_0181', 'B9IOC_stop_0015', 0),\n",
       " ('B9IOC_stop_0182', 'B9IOC_stop_0258', 0),\n",
       " ('B9IOC_stop_0182', 'B9IOC_stop_0072', 0),\n",
       " ('B9IOC_stop_0183', 'B9IOC_stop_0122', 0),\n",
       " ('B9IOC_stop_0184', 'B9IOC_stop_0077', 0),\n",
       " ('B9IOC_stop_0185', 'B9IOC_stop_0213', 0),\n",
       " ('B9IOC_stop_0185', 'B9IOC_stop_0149', 0),\n",
       " ('B9IOC_stop_0186', 'B9IOC_stop_0227', 0),\n",
       " ('B9IOC_stop_0187', 'B9IOC_stop_0025', 0),\n",
       " ('B9IOC_stop_0188', 'B9IOC_stop_0222', 0),\n",
       " ('B9IOC_stop_0189', 'B9IOC_stop_0155', 0),\n",
       " ('B9IOC_stop_0190', 'B9IOC_stop_0200', 0),\n",
       " ('B9IOC_stop_0191', 'B9IOC_stop_0080', 0),\n",
       " ('B9IOC_stop_0191', 'B9IOC_stop_0174', 0),\n",
       " ('B9IOC_stop_0193', 'B9IOC_stop_0053', 0),\n",
       " ('B9IOC_stop_0193', 'B9IOC_stop_0215', 0),\n",
       " ('B9IOC_stop_0193', 'B9IOC_stop_0261', 0),\n",
       " ('B9IOC_stop_0195', 'B9IOC_stop_0240', 0),\n",
       " ('B9IOC_stop_0195', 'B9IOC_stop_0197', 0),\n",
       " ('B9IOC_stop_0195', 'B9IOC_stop_0135', 0),\n",
       " ('B9IOC_stop_0196', 'B9IOC_stop_0006', 0),\n",
       " ('B9IOC_stop_0197', 'B9IOC_stop_0135', 0),\n",
       " ('B9IOC_stop_0197', 'B9IOC_stop_0240', 0),\n",
       " ('B9IOC_stop_0198', 'B9IOC_stop_0264', 0),\n",
       " ('B9IOC_stop_0199', 'B9IOC_stop_0060', 0),\n",
       " ('B9IOC_stop_0200', 'B9IOC_stop_0156', 0),\n",
       " ('B9IOC_stop_0202', 'B9IOC_stop_0209', 0),\n",
       " ('B9IOC_stop_0203', 'B9IOC_stop_0065', 0),\n",
       " ('B9IOC_stop_0203', 'B9IOC_stop_0253', 0),\n",
       " ('B9IOC_stop_0204', 'B9IOC_stop_0050', 0),\n",
       " ('B9IOC_stop_0204', 'B9IOC_stop_0114', 0),\n",
       " ('B9IOC_stop_0205', 'B9IOC_stop_0196', 0),\n",
       " ('B9IOC_stop_0206', 'B9IOC_stop_0058', 0),\n",
       " ('B9IOC_stop_0206', 'B9IOC_stop_0029', 0),\n",
       " ('B9IOC_stop_0207', 'B9IOC_stop_0046', 0),\n",
       " ('B9IOC_stop_0208', 'B9IOC_stop_0091', 0),\n",
       " ('B9IOC_stop_0208', 'B9IOC_stop_0097', 0),\n",
       " ('B9IOC_stop_0209', 'B9IOC_stop_0212', 0),\n",
       " ('B9IOC_stop_0209', 'B9IOC_stop_0054', 0),\n",
       " ('B9IOC_stop_0210', 'B9IOC_stop_0008', 0),\n",
       " ('B9IOC_stop_0211', 'B9IOC_stop_0248', 0),\n",
       " ('B9IOC_stop_0212', 'B9IOC_stop_0054', 0),\n",
       " ('B9IOC_stop_0212', 'B9IOC_stop_0158', 0),\n",
       " ('B9IOC_stop_0212', 'B9IOC_stop_0217', 0),\n",
       " ('B9IOC_stop_0213', 'B9IOC_stop_0130', 0),\n",
       " ('B9IOC_stop_0213', 'B9IOC_stop_0237', 0),\n",
       " ('B9IOC_stop_0214', 'B9IOC_stop_0191', 0),\n",
       " ('B9IOC_stop_0215', 'B9IOC_stop_0047', 0),\n",
       " ('B9IOC_stop_0215', 'B9IOC_stop_0196', 0),\n",
       " ('B9IOC_stop_0216', 'B9IOC_stop_0067', 0),\n",
       " ('B9IOC_stop_0217', 'B9IOC_stop_0001', 0),\n",
       " ('B9IOC_stop_0217', 'B9IOC_stop_0034', 0),\n",
       " ('B9IOC_stop_0218', 'B9IOC_stop_0002', 0),\n",
       " ('B9IOC_stop_0218', 'B9IOC_stop_0246', 0),\n",
       " ('B9IOC_stop_0218', 'B9IOC_stop_0075', 0),\n",
       " ('B9IOC_stop_0219', 'B9IOC_stop_0208', 0),\n",
       " ('B9IOC_stop_0219', 'B9IOC_stop_0011', 0),\n",
       " ('B9IOC_stop_0220', 'B9IOC_stop_0224', 0),\n",
       " ('B9IOC_stop_0221', 'B9IOC_stop_0231', 0),\n",
       " ('B9IOC_stop_0222', 'B9IOC_stop_0030', 0),\n",
       " ('B9IOC_stop_0222', 'B9IOC_stop_0064', 0),\n",
       " ('B9IOC_stop_0222', 'B9IOC_stop_0019', 0),\n",
       " ('B9IOC_stop_0223', 'B9IOC_stop_0242', 0),\n",
       " ('B9IOC_stop_0224', 'B9IOC_stop_0055', 0),\n",
       " ('B9IOC_stop_0225', 'B9IOC_stop_0233', 0),\n",
       " ('B9IOC_stop_0226', 'B9IOC_stop_0075', 0),\n",
       " ('B9IOC_stop_0227', 'B9IOC_stop_0042', 0),\n",
       " ('B9IOC_stop_0229', 'B9IOC_stop_0038', 0),\n",
       " ('B9IOC_stop_0230', 'B9IOC_stop_0111', 0),\n",
       " ('B9IOC_stop_0230', 'B9IOC_stop_0220', 0),\n",
       " ('B9IOC_stop_0232', 'B9IOC_stop_0104', 0),\n",
       " ('B9IOC_stop_0233', 'B9IOC_stop_0249', 0),\n",
       " ('B9IOC_stop_0234', 'B9IOC_stop_0205', 0),\n",
       " ('B9IOC_stop_0235', 'B9IOC_stop_0023', 0),\n",
       " ('B9IOC_stop_0235', 'B9IOC_stop_0185', 0),\n",
       " ('B9IOC_stop_0236', 'B9IOC_stop_0018', 0),\n",
       " ('B9IOC_stop_0237', 'B9IOC_stop_0226', 0),\n",
       " ('B9IOC_stop_0237', 'B9IOC_stop_0218', 0),\n",
       " ('B9IOC_stop_0238', 'B9IOC_stop_0038', 0),\n",
       " ('B9IOC_stop_0238', 'B9IOC_stop_0258', 0),\n",
       " ('B9IOC_stop_0238', 'B9IOC_stop_0229', 0),\n",
       " ('B9IOC_stop_0240', 'B9IOC_stop_0202', 0),\n",
       " ('B9IOC_stop_0240', 'B9IOC_stop_0135', 0),\n",
       " ('B9IOC_stop_0241', 'B9IOC_stop_0007', 0),\n",
       " ('B9IOC_stop_0242', 'B9IOC_stop_0148', 0),\n",
       " ('B9IOC_stop_0243', 'B9IOC_stop_0128', 0),\n",
       " ('B9IOC_stop_0244', 'B9IOC_stop_0120', 0),\n",
       " ('B9IOC_stop_0244', 'B9IOC_stop_0134', 0),\n",
       " ('B9IOC_stop_0245', 'B9IOC_stop_0243', 0),\n",
       " ('B9IOC_stop_0246', 'B9IOC_stop_0092', 0),\n",
       " ('B9IOC_stop_0246', 'B9IOC_stop_0149', 0),\n",
       " ('B9IOC_stop_0247', 'B9IOC_stop_0208', 0),\n",
       " ('B9IOC_stop_0248', 'B9IOC_stop_0163', 0),\n",
       " ('B9IOC_stop_0249', 'B9IOC_stop_0221', 0),\n",
       " ('B9IOC_stop_0250', 'B9IOC_stop_0228', 0),\n",
       " ('B9IOC_stop_0251', 'B9IOC_stop_0102', 0),\n",
       " ('B9IOC_stop_0252', 'B9IOC_stop_0193', 0),\n",
       " ('B9IOC_stop_0252', 'B9IOC_stop_0094', 0),\n",
       " ('B9IOC_stop_0253', 'B9IOC_stop_0043', 0),\n",
       " ('B9IOC_stop_0254', 'B9IOC_stop_0172', 0),\n",
       " ('B9IOC_stop_0254', 'B9IOC_stop_0093', 0),\n",
       " ('B9IOC_stop_0255', 'B9IOC_stop_0007', 0),\n",
       " ('B9IOC_stop_0256', 'B9IOC_stop_0244', 0),\n",
       " ('B9IOC_stop_0257', 'B9IOC_stop_0051', 0),\n",
       " ('B9IOC_stop_0258', 'B9IOC_stop_0038', 0),\n",
       " ('B9IOC_stop_0258', 'B9IOC_stop_0024', 0),\n",
       " ('B9IOC_stop_0259', 'B9IOC_stop_0147', 0),\n",
       " ('B9IOC_stop_0260', 'B9IOC_stop_0239', 0),\n",
       " ('B9IOC_stop_0260', 'B9IOC_stop_0127', 0),\n",
       " ('B9IOC_stop_0261', 'B9IOC_stop_0045', 0),\n",
       " ('B9IOC_stop_0262', 'B9IOC_stop_0085', 0),\n",
       " ('B9IOC_stop_0263', 'B9IOC_stop_0160', 0),\n",
       " ('B9IOC_stop_0264', 'B9IOC_stop_0177', 0),\n",
       " ('B9IOC_stop_0201', 'B9IOC_stop_0059', 0),\n",
       " ('B9IOC_stop_0116', 'B9IOC_stop_0010', 0),\n",
       " ('B9IOC_stop_0059', 'B9IOC_stop_0101', 0),\n",
       " ('B9IOC_stop_0010', 'B9IOC_stop_0250', 0),\n",
       " ('B9IOC_stop_0239', 'B9IOC_stop_0088', 0),\n",
       " ('B9IOC_stop_0101', 'B9IOC_stop_0164', 0),\n",
       " ('B9IOC_stop_0126', 'B9IOC_stop_0055', 0),\n",
       " ('B9IOC_stop_0228', 'B9IOC_stop_0238', 0),\n",
       " ('B9IOC_stop_0169', 'B9IOC_stop_0007', 0),\n",
       " ('B9IOC_stop_0096', 'B9IOC_stop_0126', 0),\n",
       " ('B9IOC_stop_0139', 'B9IOC_stop_0157', 0),\n",
       " ('B9IOC_stop_0157', 'B9IOC_stop_0119', 0),\n",
       " ('B9IOC_stop_0088', 'B9IOC_stop_0116', 0),\n",
       " ('B9IOC_stop_0146', 'B9IOC_stop_0201', 0)]"
      ]
     },
     "execution_count": 71,
     "metadata": {},
     "output_type": "execute_result"
    }
   ],
   "source": [
    "list(G.edges)"
   ]
  },
  {
   "cell_type": "code",
   "execution_count": 72,
   "metadata": {},
   "outputs": [],
   "source": [
    "#list(G.edges(data='True'))"
   ]
  },
  {
   "cell_type": "code",
   "execution_count": 73,
   "metadata": {},
   "outputs": [
    {
     "data": {
      "text/plain": [
       "263"
      ]
     },
     "execution_count": 73,
     "metadata": {},
     "output_type": "execute_result"
    }
   ],
   "source": [
    "len(G.nodes)"
   ]
  },
  {
   "cell_type": "markdown",
   "metadata": {},
   "source": [
    "### Inspect edge data, and you should see the length attribute, which is the time in seconds needs to traverse an edge. The trips attribute represents how many trips cross that edge."
   ]
  },
  {
   "cell_type": "code",
   "execution_count": 74,
   "metadata": {},
   "outputs": [
    {
     "name": "stdout",
     "output_type": "stream",
     "text": [
      "{0: {'length': 2905.0, 'trips': 1, 'mode': 'transit'}}\n",
      "{0: {'length': 150.66666666666666, 'trips': 3, 'mode': 'transit'}}\n",
      "{0: {'length': 32.666666666666664, 'trips': 6, 'mode': 'transit'}}\n",
      "{0: {'length': 49.333333333333336, 'trips': 3, 'mode': 'transit'}}\n",
      "{0: {'length': 67.66666666666667, 'trips': 3, 'mode': 'transit'}}\n",
      "{0: {'length': 99.0, 'trips': 3, 'mode': 'transit'}}\n",
      "{0: {'length': 38.333333333333336, 'trips': 3, 'mode': 'transit'}}\n",
      "{0: {'length': 22.5, 'trips': 6, 'mode': 'transit'}}\n",
      "{0: {'length': 78.66666666666667, 'trips': 3, 'mode': 'transit'}}\n",
      "{0: {'length': 151.5, 'trips': 6, 'mode': 'transit'}}\n",
      "{0: {'length': 52.0, 'trips': 3, 'mode': 'transit'}}\n",
      "{0: {'length': 39.0, 'trips': 3, 'mode': 'transit'}}\n",
      "{0: {'length': 37.666666666666664, 'trips': 3, 'mode': 'transit'}}\n",
      "{0: {'length': 56.666666666666664, 'trips': 3, 'mode': 'transit'}}\n",
      "{0: {'length': 126.33333333333333, 'trips': 3, 'mode': 'transit'}}\n",
      "{0: {'length': 59.0, 'trips': 3, 'mode': 'transit'}}\n",
      "{0: {'length': 24.333333333333332, 'trips': 3, 'mode': 'transit'}}\n",
      "{0: {'length': 170.66666666666666, 'trips': 6, 'mode': 'transit'}}\n",
      "{0: {'length': 49.666666666666664, 'trips': 3, 'mode': 'transit'}}\n",
      "{0: {'length': 177.33333333333334, 'trips': 3, 'mode': 'transit'}}\n",
      "{0: {'length': 685.3333333333334, 'trips': 3, 'mode': 'transit'}}\n",
      "{0: {'length': 55.5, 'trips': 6, 'mode': 'transit'}}\n",
      "{0: {'length': 31.666666666666668, 'trips': 6, 'mode': 'transit'}}\n",
      "{0: {'length': 214.66666666666666, 'trips': 3, 'mode': 'transit'}}\n",
      "{0: {'length': 50.0, 'trips': 3, 'mode': 'transit'}}\n",
      "{0: {'length': 524.0, 'trips': 3, 'mode': 'transit'}}\n",
      "{0: {'length': 538.0, 'trips': 3, 'mode': 'transit'}}\n",
      "{0: {'length': 110.0, 'trips': 6, 'mode': 'transit'}}\n",
      "{0: {'length': 117.33333333333333, 'trips': 3, 'mode': 'transit'}}\n",
      "{0: {'length': 806.0, 'trips': 1, 'mode': 'transit'}}\n",
      "{0: {'length': 72.5, 'trips': 4, 'mode': 'transit'}}\n",
      "{0: {'length': 31.666666666666668, 'trips': 3, 'mode': 'transit'}}\n",
      "{0: {'length': 29.333333333333332, 'trips': 3, 'mode': 'transit'}}\n",
      "{0: {'length': 24.0, 'trips': 3, 'mode': 'transit'}}\n",
      "{0: {'length': 48.333333333333336, 'trips': 3, 'mode': 'transit'}}\n",
      "{0: {'length': 1671.6666666666667, 'trips': 3, 'mode': 'transit'}}\n",
      "{0: {'length': 160.0, 'trips': 3, 'mode': 'transit'}}\n",
      "{0: {'length': 74.0, 'trips': 3, 'mode': 'transit'}}\n",
      "{0: {'length': 30.833333333333332, 'trips': 6, 'mode': 'transit'}}\n",
      "{0: {'length': 210.66666666666666, 'trips': 3, 'mode': 'transit'}}\n",
      "{0: {'length': 60.0, 'trips': 3, 'mode': 'transit'}}\n",
      "{0: {'length': 16.0, 'trips': 3, 'mode': 'transit'}}\n",
      "{0: {'length': 128.0, 'trips': 3, 'mode': 'transit'}}\n",
      "{0: {'length': 42.666666666666664, 'trips': 9, 'mode': 'transit'}}\n",
      "{0: {'length': 80.88888888888889, 'trips': 9, 'mode': 'transit'}}\n",
      "{0: {'length': 116.0, 'trips': 2, 'mode': 'transit'}}\n",
      "{0: {'length': 201.0, 'trips': 3, 'mode': 'transit'}}\n",
      "{0: {'length': 56.0, 'trips': 3, 'mode': 'transit'}}\n",
      "{0: {'length': 822.3333333333334, 'trips': 3, 'mode': 'transit'}}\n",
      "{0: {'length': 116.0, 'trips': 3, 'mode': 'transit'}}\n",
      "{0: {'length': 50.285714285714285, 'trips': 7, 'mode': 'transit'}}\n",
      "{0: {'length': 50.666666666666664, 'trips': 3, 'mode': 'transit'}}\n",
      "{0: {'length': 246.0, 'trips': 3, 'mode': 'transit'}}\n",
      "{0: {'length': 49.333333333333336, 'trips': 3, 'mode': 'transit'}}\n",
      "{0: {'length': 39.0, 'trips': 3, 'mode': 'transit'}}\n",
      "{0: {'length': 56.44444444444444, 'trips': 9, 'mode': 'transit'}}\n",
      "{0: {'length': 71.33333333333333, 'trips': 3, 'mode': 'transit'}}\n",
      "{0: {'length': 56.666666666666664, 'trips': 3, 'mode': 'transit'}}\n",
      "{0: {'length': 96.0, 'trips': 9, 'mode': 'transit'}}\n",
      "{0: {'length': 97.0, 'trips': 3, 'mode': 'transit'}}\n",
      "{0: {'length': 1184.0, 'trips': 3, 'mode': 'transit'}}\n",
      "{0: {'length': 165.0, 'trips': 3, 'mode': 'transit'}}\n",
      "{0: {'length': 69.66666666666667, 'trips': 3, 'mode': 'transit'}}\n",
      "{0: {'length': 39.285714285714285, 'trips': 7, 'mode': 'transit'}}\n",
      "{0: {'length': 64.0, 'trips': 3, 'mode': 'transit'}}\n",
      "{0: {'length': 53.0, 'trips': 3, 'mode': 'transit'}}\n",
      "{0: {'length': 86.5, 'trips': 2, 'mode': 'transit'}}\n",
      "{0: {'length': 71.0, 'trips': 6, 'mode': 'transit'}}\n",
      "{0: {'length': 44.666666666666664, 'trips': 3, 'mode': 'transit'}}\n",
      "{0: {'length': 45.666666666666664, 'trips': 3, 'mode': 'transit'}}\n",
      "{0: {'length': 115.66666666666667, 'trips': 3, 'mode': 'transit'}}\n",
      "{0: {'length': 363.6666666666667, 'trips': 3, 'mode': 'transit'}}\n",
      "{0: {'length': 56.333333333333336, 'trips': 3, 'mode': 'transit'}}\n",
      "{0: {'length': 71.0, 'trips': 6, 'mode': 'transit'}}\n",
      "{0: {'length': 522.0, 'trips': 1, 'mode': 'transit'}}\n",
      "{0: {'length': 82.83333333333333, 'trips': 6, 'mode': 'transit'}}\n",
      "{0: {'length': 188.0, 'trips': 3, 'mode': 'transit'}}\n",
      "{0: {'length': 259.3333333333333, 'trips': 3, 'mode': 'transit'}}\n",
      "{0: {'length': 141.0, 'trips': 3, 'mode': 'transit'}}\n",
      "{0: {'length': 87.0, 'trips': 3, 'mode': 'transit'}}\n",
      "{0: {'length': 29.0, 'trips': 3, 'mode': 'transit'}}\n",
      "{0: {'length': 105.0, 'trips': 3, 'mode': 'transit'}}\n",
      "{0: {'length': 35.0, 'trips': 3, 'mode': 'transit'}}\n",
      "{0: {'length': 557.3333333333334, 'trips': 3, 'mode': 'transit'}}\n",
      "{0: {'length': 373.3333333333333, 'trips': 3, 'mode': 'transit'}}\n",
      "{0: {'length': 73.33333333333333, 'trips': 3, 'mode': 'transit'}}\n",
      "{0: {'length': 35.166666666666664, 'trips': 6, 'mode': 'transit'}}\n",
      "{0: {'length': 110.33333333333333, 'trips': 3, 'mode': 'transit'}}\n",
      "{0: {'length': 76.0, 'trips': 3, 'mode': 'transit'}}\n",
      "{0: {'length': 90.33333333333333, 'trips': 3, 'mode': 'transit'}}\n",
      "{0: {'length': 29.333333333333332, 'trips': 6, 'mode': 'transit'}}\n",
      "{0: {'length': 135.0, 'trips': 1, 'mode': 'transit'}}\n",
      "{0: {'length': 101.66666666666667, 'trips': 3, 'mode': 'transit'}}\n",
      "{0: {'length': 29.666666666666668, 'trips': 3, 'mode': 'transit'}}\n",
      "{0: {'length': 40.333333333333336, 'trips': 6, 'mode': 'transit'}}\n",
      "{0: {'length': 330.3333333333333, 'trips': 3, 'mode': 'transit'}}\n",
      "{0: {'length': 436.6666666666667, 'trips': 3, 'mode': 'transit'}}\n",
      "{0: {'length': 428.3333333333333, 'trips': 3, 'mode': 'transit'}}\n",
      "{0: {'length': 89.0, 'trips': 3, 'mode': 'transit'}}\n",
      "{0: {'length': 250.33333333333334, 'trips': 3, 'mode': 'transit'}}\n",
      "{0: {'length': 34.666666666666664, 'trips': 3, 'mode': 'transit'}}\n",
      "{0: {'length': 94.0, 'trips': 3, 'mode': 'transit'}}\n",
      "{0: {'length': 163.83333333333334, 'trips': 6, 'mode': 'transit'}}\n",
      "{0: {'length': 323.6666666666667, 'trips': 3, 'mode': 'transit'}}\n",
      "{0: {'length': 36.916666666666664, 'trips': 12, 'mode': 'transit'}}\n",
      "{0: {'length': 86.16666666666667, 'trips': 12, 'mode': 'transit'}}\n",
      "{0: {'length': 151.66666666666666, 'trips': 3, 'mode': 'transit'}}\n",
      "{0: {'length': 94.33333333333333, 'trips': 3, 'mode': 'transit'}}\n",
      "{0: {'length': 85.66666666666667, 'trips': 3, 'mode': 'transit'}}\n",
      "{0: {'length': 28.333333333333332, 'trips': 3, 'mode': 'transit'}}\n",
      "{0: {'length': 54.75, 'trips': 4, 'mode': 'transit'}}\n",
      "{0: {'length': 210.33333333333334, 'trips': 3, 'mode': 'transit'}}\n",
      "{0: {'length': 89.88888888888889, 'trips': 9, 'mode': 'transit'}}\n",
      "{0: {'length': 94.66666666666667, 'trips': 3, 'mode': 'transit'}}\n",
      "{0: {'length': 88.0, 'trips': 3, 'mode': 'transit'}}\n",
      "{0: {'length': 635.6666666666666, 'trips': 3, 'mode': 'transit'}}\n",
      "{0: {'length': 325.3333333333333, 'trips': 3, 'mode': 'transit'}}\n",
      "{0: {'length': 386.5, 'trips': 2, 'mode': 'transit'}}\n",
      "{0: {'length': 605.0, 'trips': 3, 'mode': 'transit'}}\n",
      "{0: {'length': 61.0, 'trips': 3, 'mode': 'transit'}}\n",
      "{0: {'length': 63.666666666666664, 'trips': 6, 'mode': 'transit'}}\n",
      "{0: {'length': 44.666666666666664, 'trips': 3, 'mode': 'transit'}}\n",
      "{0: {'length': 47.333333333333336, 'trips': 3, 'mode': 'transit'}}\n",
      "{0: {'length': 490.3333333333333, 'trips': 3, 'mode': 'transit'}}\n",
      "{0: {'length': 55.666666666666664, 'trips': 3, 'mode': 'transit'}}\n",
      "{0: {'length': 45.666666666666664, 'trips': 9, 'mode': 'transit'}}\n",
      "{0: {'length': 18.333333333333332, 'trips': 3, 'mode': 'transit'}}\n",
      "{0: {'length': 47.666666666666664, 'trips': 3, 'mode': 'transit'}}\n",
      "{0: {'length': 57.0, 'trips': 3, 'mode': 'transit'}}\n",
      "{0: {'length': 45.0, 'trips': 3, 'mode': 'transit'}}\n",
      "{0: {'length': 147.66666666666666, 'trips': 3, 'mode': 'transit'}}\n",
      "{0: {'length': 93.5, 'trips': 6, 'mode': 'transit'}}\n",
      "{0: {'length': 30.0, 'trips': 3, 'mode': 'transit'}}\n",
      "{0: {'length': 57.22222222222222, 'trips': 9, 'mode': 'transit'}}\n",
      "{0: {'length': 157.66666666666666, 'trips': 3, 'mode': 'transit'}}\n",
      "{0: {'length': 199.0, 'trips': 1, 'mode': 'transit'}}\n",
      "{0: {'length': 587.5, 'trips': 2, 'mode': 'transit'}}\n",
      "{0: {'length': 122.14285714285714, 'trips': 7, 'mode': 'transit'}}\n",
      "{0: {'length': 50.22222222222222, 'trips': 9, 'mode': 'transit'}}\n",
      "{0: {'length': 70.0, 'trips': 3, 'mode': 'transit'}}\n",
      "{0: {'length': 41.0, 'trips': 3, 'mode': 'transit'}}\n",
      "{0: {'length': 607.0, 'trips': 3, 'mode': 'transit'}}\n",
      "{0: {'length': 77.0, 'trips': 3, 'mode': 'transit'}}\n",
      "{0: {'length': 188.33333333333334, 'trips': 3, 'mode': 'transit'}}\n",
      "{0: {'length': 82.0, 'trips': 3, 'mode': 'transit'}}\n",
      "{0: {'length': 262.6666666666667, 'trips': 3, 'mode': 'transit'}}\n",
      "{0: {'length': 213.0, 'trips': 1, 'mode': 'transit'}}\n",
      "{0: {'length': 73.33333333333333, 'trips': 3, 'mode': 'transit'}}\n",
      "{0: {'length': 36.333333333333336, 'trips': 3, 'mode': 'transit'}}\n",
      "{0: {'length': 100.0, 'trips': 1, 'mode': 'transit'}}\n",
      "{0: {'length': 37.0, 'trips': 3, 'mode': 'transit'}}\n",
      "{0: {'length': 99.0, 'trips': 3, 'mode': 'transit'}}\n",
      "{0: {'length': 32.0, 'trips': 6, 'mode': 'transit'}}\n",
      "{0: {'length': 91.0, 'trips': 3, 'mode': 'transit'}}\n",
      "{0: {'length': 62.111111111111114, 'trips': 9, 'mode': 'transit'}}\n",
      "{0: {'length': 677.3333333333334, 'trips': 3, 'mode': 'transit'}}\n",
      "{0: {'length': 498.0, 'trips': 3, 'mode': 'transit'}}\n",
      "{0: {'length': 2119.0, 'trips': 1, 'mode': 'transit'}}\n",
      "{0: {'length': 71.0, 'trips': 3, 'mode': 'transit'}}\n",
      "{0: {'length': 159.33333333333334, 'trips': 3, 'mode': 'transit'}}\n",
      "{0: {'length': 485.3333333333333, 'trips': 3, 'mode': 'transit'}}\n",
      "{0: {'length': 160.66666666666666, 'trips': 3, 'mode': 'transit'}}\n",
      "{0: {'length': 139.0, 'trips': 3, 'mode': 'transit'}}\n",
      "{0: {'length': 152.66666666666666, 'trips': 3, 'mode': 'transit'}}\n",
      "{0: {'length': 265.3333333333333, 'trips': 3, 'mode': 'transit'}}\n",
      "{0: {'length': 128.66666666666666, 'trips': 3, 'mode': 'transit'}}\n",
      "{0: {'length': 87.66666666666667, 'trips': 3, 'mode': 'transit'}}\n",
      "{0: {'length': 17.333333333333332, 'trips': 3, 'mode': 'transit'}}\n",
      "{0: {'length': 18.0, 'trips': 3, 'mode': 'transit'}}\n",
      "{0: {'length': 56.833333333333336, 'trips': 6, 'mode': 'transit'}}\n",
      "{0: {'length': 107.33333333333333, 'trips': 3, 'mode': 'transit'}}\n",
      "{0: {'length': 186.33333333333334, 'trips': 3, 'mode': 'transit'}}\n",
      "{0: {'length': 61.666666666666664, 'trips': 3, 'mode': 'transit'}}\n",
      "{0: {'length': 76.66666666666667, 'trips': 3, 'mode': 'transit'}}\n",
      "{0: {'length': 102.875, 'trips': 8, 'mode': 'transit'}}\n",
      "{0: {'length': 314.75, 'trips': 4, 'mode': 'transit'}}\n",
      "{0: {'length': 719.6666666666666, 'trips': 3, 'mode': 'transit'}}\n",
      "{0: {'length': 106.66666666666667, 'trips': 6, 'mode': 'transit'}}\n",
      "{0: {'length': 97.33333333333333, 'trips': 6, 'mode': 'transit'}}\n",
      "{0: {'length': 277.0, 'trips': 1, 'mode': 'transit'}}\n",
      "{0: {'length': 172.33333333333334, 'trips': 3, 'mode': 'transit'}}\n",
      "{0: {'length': 169.0, 'trips': 6, 'mode': 'transit'}}\n",
      "{0: {'length': 122.66666666666667, 'trips': 3, 'mode': 'transit'}}\n",
      "{0: {'length': 61.333333333333336, 'trips': 3, 'mode': 'transit'}}\n",
      "{0: {'length': 70.0, 'trips': 3, 'mode': 'transit'}}\n",
      "{0: {'length': 134.33333333333334, 'trips': 3, 'mode': 'transit'}}\n",
      "{0: {'length': 286.0, 'trips': 3, 'mode': 'transit'}}\n",
      "{0: {'length': 189.33333333333334, 'trips': 3, 'mode': 'transit'}}\n",
      "{0: {'length': 1462.0, 'trips': 1, 'mode': 'transit'}}\n",
      "{0: {'length': 121.16666666666667, 'trips': 6, 'mode': 'transit'}}\n",
      "{0: {'length': 122.0, 'trips': 1, 'mode': 'transit'}}\n",
      "{0: {'length': 34.833333333333336, 'trips': 6, 'mode': 'transit'}}\n",
      "{0: {'length': 19.0, 'trips': 3, 'mode': 'transit'}}\n",
      "{0: {'length': 87.33333333333333, 'trips': 3, 'mode': 'transit'}}\n",
      "{0: {'length': 45.5, 'trips': 6, 'mode': 'transit'}}\n",
      "{0: {'length': 29.0, 'trips': 3, 'mode': 'transit'}}\n",
      "{0: {'length': 107.33333333333333, 'trips': 3, 'mode': 'transit'}}\n",
      "{0: {'length': 61.0, 'trips': 3, 'mode': 'transit'}}\n",
      "{0: {'length': 68.0, 'trips': 9, 'mode': 'transit'}}\n",
      "{0: {'length': 90.66666666666667, 'trips': 3, 'mode': 'transit'}}\n",
      "{0: {'length': 361.0, 'trips': 3, 'mode': 'transit'}}\n",
      "{0: {'length': 161.33333333333334, 'trips': 3, 'mode': 'transit'}}\n",
      "{0: {'length': 132.0, 'trips': 3, 'mode': 'transit'}}\n",
      "{0: {'length': 226.66666666666666, 'trips': 3, 'mode': 'transit'}}\n",
      "{0: {'length': 78.66666666666667, 'trips': 3, 'mode': 'transit'}}\n",
      "{0: {'length': 72.0, 'trips': 3, 'mode': 'transit'}}\n",
      "{0: {'length': 52.333333333333336, 'trips': 3, 'mode': 'transit'}}\n",
      "{0: {'length': 262.1666666666667, 'trips': 6, 'mode': 'transit'}}\n",
      "{0: {'length': 222.0, 'trips': 1, 'mode': 'transit'}}\n",
      "{0: {'length': 158.33333333333334, 'trips': 3, 'mode': 'transit'}}\n",
      "{0: {'length': 60.333333333333336, 'trips': 3, 'mode': 'transit'}}\n",
      "{0: {'length': 47.333333333333336, 'trips': 3, 'mode': 'transit'}}\n",
      "{0: {'length': 245.66666666666666, 'trips': 3, 'mode': 'transit'}}\n",
      "{0: {'length': 105.33333333333333, 'trips': 3, 'mode': 'transit'}}\n",
      "{0: {'length': 75.16666666666667, 'trips': 6, 'mode': 'transit'}}\n",
      "{0: {'length': 65.75, 'trips': 4, 'mode': 'transit'}}\n",
      "{0: {'length': 72.0, 'trips': 3, 'mode': 'transit'}}\n",
      "{0: {'length': 133.0, 'trips': 3, 'mode': 'transit'}}\n",
      "{0: {'length': 107.0, 'trips': 3, 'mode': 'transit'}}\n",
      "{0: {'length': 170.0, 'trips': 1, 'mode': 'transit'}}\n",
      "{0: {'length': 78.5, 'trips': 2, 'mode': 'transit'}}\n",
      "{0: {'length': 29.666666666666668, 'trips': 3, 'mode': 'transit'}}\n",
      "{0: {'length': 157.66666666666666, 'trips': 3, 'mode': 'transit'}}\n",
      "{0: {'length': 462.6666666666667, 'trips': 3, 'mode': 'transit'}}\n",
      "{0: {'length': 106.0, 'trips': 3, 'mode': 'transit'}}\n",
      "{0: {'length': 143.33333333333334, 'trips': 3, 'mode': 'transit'}}\n",
      "{0: {'length': 68.66666666666667, 'trips': 3, 'mode': 'transit'}}\n",
      "{0: {'length': 465.0, 'trips': 3, 'mode': 'transit'}}\n",
      "{0: {'length': 635.3333333333334, 'trips': 3, 'mode': 'transit'}}\n",
      "{0: {'length': 32.333333333333336, 'trips': 3, 'mode': 'transit'}}\n",
      "{0: {'length': 138.66666666666666, 'trips': 6, 'mode': 'transit'}}\n",
      "{0: {'length': 154.66666666666666, 'trips': 3, 'mode': 'transit'}}\n",
      "{0: {'length': 40.333333333333336, 'trips': 3, 'mode': 'transit'}}\n",
      "{0: {'length': 107.0, 'trips': 3, 'mode': 'transit'}}\n",
      "{0: {'length': 198.0, 'trips': 1, 'mode': 'transit'}}\n",
      "{0: {'length': 56.333333333333336, 'trips': 3, 'mode': 'transit'}}\n",
      "{0: {'length': 39.333333333333336, 'trips': 3, 'mode': 'transit'}}\n",
      "{0: {'length': 55.333333333333336, 'trips': 3, 'mode': 'transit'}}\n",
      "{0: {'length': 69.66666666666667, 'trips': 12, 'mode': 'transit'}}\n",
      "{0: {'length': 296.3333333333333, 'trips': 3, 'mode': 'transit'}}\n",
      "{0: {'length': 156.66666666666666, 'trips': 3, 'mode': 'transit'}}\n",
      "{0: {'length': 66.33333333333333, 'trips': 3, 'mode': 'transit'}}\n",
      "{0: {'length': 122.0, 'trips': 3, 'mode': 'transit'}}\n",
      "{0: {'length': 182.0, 'trips': 3, 'mode': 'transit'}}\n",
      "{0: {'length': 398.3333333333333, 'trips': 3, 'mode': 'transit'}}\n",
      "{0: {'length': 100.66666666666667, 'trips': 3, 'mode': 'transit'}}\n",
      "{0: {'length': 38.333333333333336, 'trips': 3, 'mode': 'transit'}}\n",
      "{0: {'length': 152.0, 'trips': 3, 'mode': 'transit'}}\n",
      "{0: {'length': 177.66666666666666, 'trips': 3, 'mode': 'transit'}}\n",
      "{0: {'length': 50.333333333333336, 'trips': 3, 'mode': 'transit'}}\n",
      "{0: {'length': 51.666666666666664, 'trips': 3, 'mode': 'transit'}}\n",
      "{0: {'length': 16.666666666666668, 'trips': 3, 'mode': 'transit'}}\n",
      "{0: {'length': 242.0, 'trips': 1, 'mode': 'transit'}}\n",
      "{0: {'length': 34.166666666666664, 'trips': 6, 'mode': 'transit'}}\n",
      "{0: {'length': 85.0, 'trips': 3, 'mode': 'transit'}}\n",
      "{0: {'length': 67.33333333333333, 'trips': 3, 'mode': 'transit'}}\n",
      "{0: {'length': 30.666666666666668, 'trips': 3, 'mode': 'transit'}}\n",
      "{0: {'length': 151.0, 'trips': 3, 'mode': 'transit'}}\n",
      "{0: {'length': 43.0, 'trips': 3, 'mode': 'transit'}}\n",
      "{0: {'length': 155.66666666666666, 'trips': 3, 'mode': 'transit'}}\n",
      "{0: {'length': 115.66666666666667, 'trips': 3, 'mode': 'transit'}}\n",
      "{0: {'length': 31.5, 'trips': 6, 'mode': 'transit'}}\n",
      "{0: {'length': 16.0, 'trips': 3, 'mode': 'transit'}}\n",
      "{0: {'length': 85.0, 'trips': 3, 'mode': 'transit'}}\n",
      "{0: {'length': 40.666666666666664, 'trips': 3, 'mode': 'transit'}}\n",
      "{0: {'length': 110.33333333333333, 'trips': 3, 'mode': 'transit'}}\n",
      "{0: {'length': 56.0, 'trips': 6, 'mode': 'transit'}}\n",
      "{0: {'length': 70.0, 'trips': 6, 'mode': 'transit'}}\n",
      "{0: {'length': 68.66666666666667, 'trips': 3, 'mode': 'transit'}}\n",
      "{0: {'length': 111.66666666666667, 'trips': 3, 'mode': 'transit'}}\n",
      "{0: {'length': 46.5, 'trips': 2, 'mode': 'transit'}}\n",
      "{0: {'length': 68.0, 'trips': 1, 'mode': 'transit'}}\n",
      "{0: {'length': 44.0, 'trips': 3, 'mode': 'transit'}}\n",
      "{0: {'length': 35.166666666666664, 'trips': 6, 'mode': 'transit'}}\n",
      "{0: {'length': 116.6, 'trips': 5, 'mode': 'transit'}}\n",
      "{0: {'length': 53.666666666666664, 'trips': 3, 'mode': 'transit'}}\n",
      "{0: {'length': 282.6666666666667, 'trips': 3, 'mode': 'transit'}}\n",
      "{0: {'length': 49.166666666666664, 'trips': 6, 'mode': 'transit'}}\n",
      "{0: {'length': 39.888888888888886, 'trips': 9, 'mode': 'transit'}}\n",
      "{0: {'length': 76.66666666666667, 'trips': 3, 'mode': 'transit'}}\n",
      "{0: {'length': 383.3333333333333, 'trips': 3, 'mode': 'transit'}}\n",
      "{0: {'length': 43.0, 'trips': 3, 'mode': 'transit'}}\n",
      "{0: {'length': 41.666666666666664, 'trips': 3, 'mode': 'transit'}}\n",
      "{0: {'length': 1213.0, 'trips': 1, 'mode': 'transit'}}\n",
      "{0: {'length': 968.0, 'trips': 3, 'mode': 'transit'}}\n",
      "{0: {'length': 24.166666666666668, 'trips': 6, 'mode': 'transit'}}\n",
      "{0: {'length': 65.33333333333333, 'trips': 3, 'mode': 'transit'}}\n",
      "{0: {'length': 27.666666666666668, 'trips': 3, 'mode': 'transit'}}\n",
      "{0: {'length': 123.66666666666667, 'trips': 3, 'mode': 'transit'}}\n",
      "{0: {'length': 42.333333333333336, 'trips': 3, 'mode': 'transit'}}\n",
      "{0: {'length': 112.33333333333333, 'trips': 3, 'mode': 'transit'}}\n",
      "{0: {'length': 65.66666666666667, 'trips': 3, 'mode': 'transit'}}\n",
      "{0: {'length': 55.166666666666664, 'trips': 6, 'mode': 'transit'}}\n",
      "{0: {'length': 128.0, 'trips': 3, 'mode': 'transit'}}\n",
      "{0: {'length': 308.6666666666667, 'trips': 3, 'mode': 'transit'}}\n",
      "{0: {'length': 108.33333333333333, 'trips': 3, 'mode': 'transit'}}\n",
      "{0: {'length': 390.6666666666667, 'trips': 3, 'mode': 'transit'}}\n",
      "{0: {'length': 158.0, 'trips': 3, 'mode': 'transit'}}\n",
      "{0: {'length': 75.66666666666667, 'trips': 3, 'mode': 'transit'}}\n",
      "{0: {'length': 78.66666666666667, 'trips': 3, 'mode': 'transit'}}\n",
      "{0: {'length': 34.333333333333336, 'trips': 6, 'mode': 'transit'}}\n",
      "{0: {'length': 118.66666666666667, 'trips': 3, 'mode': 'transit'}}\n",
      "{0: {'length': 122.0, 'trips': 3, 'mode': 'transit'}}\n",
      "{0: {'length': 1496.3333333333333, 'trips': 3, 'mode': 'transit'}}\n",
      "{0: {'length': 228.0, 'trips': 3, 'mode': 'transit'}}\n",
      "{0: {'length': 103.33333333333333, 'trips': 3, 'mode': 'transit'}}\n",
      "{0: {'length': 97.66666666666667, 'trips': 3, 'mode': 'transit'}}\n",
      "{0: {'length': 276.6666666666667, 'trips': 3, 'mode': 'transit'}}\n",
      "{0: {'length': 22.333333333333332, 'trips': 3, 'mode': 'transit'}}\n",
      "{0: {'length': 27.666666666666668, 'trips': 3, 'mode': 'transit'}}\n",
      "{0: {'length': 60.833333333333336, 'trips': 6, 'mode': 'transit'}}\n",
      "{0: {'length': 214.0, 'trips': 1, 'mode': 'transit'}}\n",
      "{0: {'length': 47.833333333333336, 'trips': 6, 'mode': 'transit'}}\n",
      "{0: {'length': 54.833333333333336, 'trips': 6, 'mode': 'transit'}}\n",
      "{0: {'length': 111.66666666666667, 'trips': 3, 'mode': 'transit'}}\n",
      "{0: {'length': 34.0, 'trips': 3, 'mode': 'transit'}}\n",
      "{0: {'length': 284.0, 'trips': 2, 'mode': 'transit'}}\n",
      "{0: {'length': 145.33333333333334, 'trips': 3, 'mode': 'transit'}}\n",
      "{0: {'length': 95.66666666666667, 'trips': 6, 'mode': 'transit'}}\n",
      "{0: {'length': 81.0, 'trips': 3, 'mode': 'transit'}}\n",
      "{0: {'length': 33.5, 'trips': 6, 'mode': 'transit'}}\n",
      "{0: {'length': 47.0, 'trips': 3, 'mode': 'transit'}}\n",
      "{0: {'length': 64.44444444444444, 'trips': 9, 'mode': 'transit'}}\n",
      "{0: {'length': 92.5, 'trips': 6, 'mode': 'transit'}}\n",
      "{0: {'length': 58.0, 'trips': 3, 'mode': 'transit'}}\n",
      "{0: {'length': 60.888888888888886, 'trips': 9, 'mode': 'transit'}}\n",
      "{0: {'length': 73.0, 'trips': 3, 'mode': 'transit'}}\n",
      "{0: {'length': 2657.0, 'trips': 1, 'mode': 'transit'}}\n",
      "{0: {'length': 28.666666666666668, 'trips': 6, 'mode': 'transit'}}\n",
      "{0: {'length': 196.66666666666666, 'trips': 3, 'mode': 'transit'}}\n",
      "{0: {'length': 73.33333333333333, 'trips': 3, 'mode': 'transit'}}\n",
      "{0: {'length': 27.88888888888889, 'trips': 9, 'mode': 'transit'}}\n",
      "{0: {'length': 88.66666666666667, 'trips': 3, 'mode': 'transit'}}\n",
      "{0: {'length': 458.3333333333333, 'trips': 3, 'mode': 'transit'}}\n",
      "{0: {'length': 124.4, 'trips': 5, 'mode': 'transit'}}\n",
      "{0: {'length': 66.66666666666667, 'trips': 9, 'mode': 'transit'}}\n",
      "{0: {'length': 88.33333333333333, 'trips': 3, 'mode': 'transit'}}\n",
      "{0: {'length': 23.333333333333332, 'trips': 3, 'mode': 'transit'}}\n",
      "{0: {'length': 65.5, 'trips': 4, 'mode': 'transit'}}\n",
      "{0: {'length': 44.0, 'trips': 3, 'mode': 'transit'}}\n",
      "{0: {'length': 91.0, 'trips': 1, 'mode': 'transit'}}\n",
      "{0: {'length': 157.66666666666666, 'trips': 3, 'mode': 'transit'}}\n",
      "{0: {'length': 37.666666666666664, 'trips': 3, 'mode': 'transit'}}\n",
      "{0: {'length': 107.0, 'trips': 3, 'mode': 'transit'}}\n",
      "{0: {'length': 360.6666666666667, 'trips': 3, 'mode': 'transit'}}\n",
      "{0: {'length': 63.666666666666664, 'trips': 3, 'mode': 'transit'}}\n",
      "{0: {'length': 100.0, 'trips': 1, 'mode': 'transit'}}\n",
      "{0: {'length': 102.0, 'trips': 1, 'mode': 'transit'}}\n",
      "{0: {'length': 391.0, 'trips': 1, 'mode': 'transit'}}\n",
      "{0: {'length': 611.0, 'trips': 1, 'mode': 'transit'}}\n",
      "{0: {'length': 850.0, 'trips': 1, 'mode': 'transit'}}\n",
      "{0: {'length': 177.0, 'trips': 1, 'mode': 'transit'}}\n",
      "{0: {'length': 1801.0, 'trips': 1, 'mode': 'transit'}}\n",
      "{0: {'length': 627.0, 'trips': 1, 'mode': 'transit'}}\n",
      "{0: {'length': 188.0, 'trips': 1, 'mode': 'transit'}}\n",
      "{0: {'length': 465.0, 'trips': 1, 'mode': 'transit'}}\n",
      "{0: {'length': 987.0, 'trips': 1, 'mode': 'transit'}}\n",
      "{0: {'length': 292.0, 'trips': 1, 'mode': 'transit'}}\n",
      "{0: {'length': 243.0, 'trips': 1, 'mode': 'transit'}}\n",
      "{0: {'length': 269.0, 'trips': 1, 'mode': 'transit'}}\n"
     ]
    }
   ],
   "source": [
    "for edge in list(G.edges):\n",
    "    print(G.get_edge_data(edge[0],edge[1]))"
   ]
  },
  {
   "cell_type": "markdown",
   "metadata": {},
   "source": [
    "## Inspect graph as a shapefile\n",
    "Used for testing"
   ]
  },
  {
   "cell_type": "code",
   "execution_count": 75,
   "metadata": {},
   "outputs": [],
   "source": [
    "# Get reference to GOSTNets\n",
    "sys.path.append(r'C:\\repos\\GOSTnets')\n",
    "import GOSTnets as gn"
   ]
  },
  {
   "cell_type": "code",
   "execution_count": 76,
   "metadata": {},
   "outputs": [],
   "source": [
    "gn.save(G,\"gtfs_export_cap_haitien_service0002\",r\"temp\")"
   ]
  },
  {
   "cell_type": "markdown",
   "metadata": {},
   "source": [
    "note: On inspection the edges have a length field. This length field is the average traversal time per edge based on the GTFS data in seconds."
   ]
  },
  {
   "cell_type": "markdown",
   "metadata": {},
   "source": [
    "## Merge a walk network\n",
    "following this blog post: http://kuanbutts.com/2018/12/24/peartree-with-walk-network/"
   ]
  },
  {
   "cell_type": "code",
   "execution_count": 77,
   "metadata": {},
   "outputs": [],
   "source": [
    "# load existing walk/ferry graph from step 1\n",
    "G = nx.read_gpickle(r\"temp/cap_haitien_walk_w_ferries_via_osmnx.pickle\")"
   ]
  },
  {
   "cell_type": "code",
   "execution_count": 78,
   "metadata": {},
   "outputs": [
    {
     "name": "stdout",
     "output_type": "stream",
     "text": [
      "Name: \n",
      "Type: MultiDiGraph\n",
      "Number of nodes: 12931\n",
      "Number of edges: 34334\n",
      "Average in degree:   2.6552\n",
      "Average out degree:   2.6552\n"
     ]
    }
   ],
   "source": [
    "print(nx.info(G))"
   ]
  },
  {
   "cell_type": "markdown",
   "metadata": {},
   "source": [
    "### Assign traversal times in seconds to edges\n",
    "Since peartree represents edge length (that is the impedance value associated with the edge) in seconds; we will need to convert the edge values that are in meters into seconds:"
   ]
  },
  {
   "cell_type": "code",
   "execution_count": 79,
   "metadata": {},
   "outputs": [
    {
     "name": "stdout",
     "output_type": "stream",
     "text": [
      "unclassified\n",
      "{'osmid': 212397499, 'ferry': 'unclassified', 'oneway': False, 'length': 8474.458, 'geometry': <shapely.geometry.linestring.LineString object at 0x0000024FED46F148>, 'orig_length': 8474.458}\n",
      "unclassified\n",
      "{'osmid': 214459218, 'ferry': 'unclassified', 'oneway': False, 'length': 1449.198, 'geometry': <shapely.geometry.linestring.LineString object at 0x0000024FED46F288>, 'orig_length': 1449.198}\n",
      "unclassified\n",
      "{'osmid': 233037712, 'ferry': 'unclassified', 'oneway': False, 'length': 1186.217, 'geometry': <shapely.geometry.linestring.LineString object at 0x0000024FED46F308>, 'orig_length': 1186.217}\n",
      "unclassified\n",
      "{'osmid': 233037714, 'ferry': 'unclassified', 'oneway': False, 'length': 888.716, 'geometry': <shapely.geometry.linestring.LineString object at 0x0000024FED46F388>, 'orig_length': 888.716}\n",
      "unclassified\n",
      "{'osmid': 337815403, 'ferry': 'unclassified', 'oneway': False, 'length': 1428.7089999999998, 'geometry': <shapely.geometry.linestring.LineString object at 0x0000024FED46F408>, 'orig_length': 1428.7089999999998}\n",
      "unclassified\n",
      "{'osmid': 233037712, 'ferry': 'unclassified', 'oneway': False, 'length': 1186.2169999999999, 'geometry': <shapely.geometry.linestring.LineString object at 0x0000024FF57CA488>, 'orig_length': 1186.2169999999999}\n",
      "unclassified\n",
      "{'osmid': 233037714, 'ferry': 'unclassified', 'oneway': False, 'length': 888.7159999999999, 'geometry': <shapely.geometry.linestring.LineString object at 0x0000024FF57CA748>, 'orig_length': 888.7159999999999}\n",
      "unclassified\n",
      "{'osmid': 337815403, 'ferry': 'unclassified', 'oneway': False, 'length': 1428.7089999999998, 'geometry': <shapely.geometry.linestring.LineString object at 0x0000024FEB18E308>, 'orig_length': 1428.7089999999998}\n",
      "unclassified\n",
      "{'osmid': 214459218, 'ferry': 'unclassified', 'oneway': False, 'length': 1449.198, 'geometry': <shapely.geometry.linestring.LineString object at 0x0000024FF71AFF88>, 'orig_length': 1449.198}\n",
      "unclassified\n",
      "{'osmid': 212397499, 'ferry': 'unclassified', 'oneway': False, 'length': 8474.458000000002, 'geometry': <shapely.geometry.linestring.LineString object at 0x0000024FF729C6C8>, 'orig_length': 8474.458000000002}\n"
     ]
    }
   ],
   "source": [
    "walk_speed = 3.5  # about 3 miles per hour\n",
    "ferry_speed = 15\n",
    "\n",
    "# Make a copy of the graph in case we make a mistake\n",
    "G_adj = G.copy()\n",
    "\n",
    "# Iterate through and convert lengths to seconds\n",
    "for from_node, to_node, edge in G_adj.edges(data=True):\n",
    "    orig_len = edge['length']\n",
    "    \n",
    "    # Note that this is a MultiDiGraph so there could\n",
    "    # be multiple indices here, I naively assume this is not the case\n",
    "    G_adj[from_node][to_node][0]['orig_length'] = orig_len\n",
    "\n",
    "    # if ferry\n",
    "    try:\n",
    "        print(G_adj[from_node][to_node][0]['ferry'])\n",
    "        print(G_adj[from_node][to_node][0])\n",
    "        \n",
    "        # Conversion of walk speed and into seconds from meters\n",
    "        kmph = (orig_len / 1000) / ferry_speed\n",
    "        in_seconds = kmph * 60 * 60\n",
    "        G_adj[from_node][to_node][0]['length'] = in_seconds\n",
    "    \n",
    "        # And state the mode, too\n",
    "        G_adj[from_node][to_node][0]['mode'] = 'ferry'\n",
    "    except:\n",
    "        # Conversion of walk speed and into seconds from meters\n",
    "        kmph = (orig_len / 1000) / walk_speed\n",
    "        in_seconds = kmph * 60 * 60\n",
    "        G_adj[from_node][to_node][0]['length'] = in_seconds\n",
    "    \n",
    "        # And state the mode, too\n",
    "        G_adj[from_node][to_node][0]['mode'] = 'walk'"
   ]
  },
  {
   "cell_type": "code",
   "execution_count": 80,
   "metadata": {},
   "outputs": [
    {
     "data": {
      "text/plain": [
       "{'y': 19.6193274, 'x': -72.0230707, 'osmid': 330530920}"
      ]
     },
     "execution_count": 80,
     "metadata": {},
     "output_type": "execute_result"
    }
   ],
   "source": [
    "G_adj.nodes[330530920]"
   ]
  },
  {
   "cell_type": "code",
   "execution_count": 81,
   "metadata": {},
   "outputs": [],
   "source": [
    "# So this should be easy - just go through all nodes\n",
    "# and make them have a 0 cost to board\n",
    "for i, node in G_adj.nodes(data=True):\n",
    "    G_adj.nodes[i]['boarding_cost'] = 0"
   ]
  },
  {
   "cell_type": "code",
   "execution_count": 82,
   "metadata": {},
   "outputs": [
    {
     "data": {
      "text/plain": [
       "[(247844908,\n",
       "  3806054858,\n",
       "  {'osmid': [379649269, 233072790],\n",
       "   'highway': 'footway',\n",
       "   'oneway': False,\n",
       "   'length': 1262.7689142857146,\n",
       "   'geometry': <shapely.geometry.linestring.LineString at 0x24ff5510088>,\n",
       "   'orig_length': 1227.6920000000002,\n",
       "   'mode': 'walk'}),\n",
       " (330521785,\n",
       "  2353905402,\n",
       "  {'osmid': [227769624, 226616997],\n",
       "   'highway': ['unclassified', 'footway'],\n",
       "   'oneway': False,\n",
       "   'length': 1360.701257142857,\n",
       "   'geometry': <shapely.geometry.linestring.LineString at 0x24ff5510608>,\n",
       "   'orig_length': 1322.904,\n",
       "   'mode': 'walk'})]"
      ]
     },
     "execution_count": 82,
     "metadata": {},
     "output_type": "execute_result"
    }
   ],
   "source": [
    "list(G_adj.edges(data=True))[:2]"
   ]
  },
  {
   "cell_type": "markdown",
   "metadata": {},
   "source": [
    "### save the graph again to be used for the isochrones notebook"
   ]
  },
  {
   "cell_type": "code",
   "execution_count": 83,
   "metadata": {},
   "outputs": [],
   "source": [
    "sys.path.append(r'C:\\repos\\GOSTnets')\n",
    "import GOSTnets as gn"
   ]
  },
  {
   "cell_type": "code",
   "execution_count": 84,
   "metadata": {},
   "outputs": [],
   "source": [
    "gn.save(G,\"cap_haitien_walk_w_ferries_via_osmnx_w_time\",r\"temp\")"
   ]
  },
  {
   "cell_type": "markdown",
   "metadata": {},
   "source": [
    "## Loading the feed as a graph with the walking graph as the existing graph\n",
    "Now that the two graphs have the same internal structures, we can load the walk network onto the transit network with the following peartree helper method."
   ]
  },
  {
   "cell_type": "code",
   "execution_count": 85,
   "metadata": {},
   "outputs": [
    {
     "name": "stdout",
     "output_type": "stream",
     "text": [
      "Wall time: 3.31 s\n"
     ]
    }
   ],
   "source": [
    "# Now that we have a formatted walk network\n",
    "# it should be easy to reload the peartree graph\n",
    "# and stack it on the walk network\n",
    "start = 0  # 0:00 \n",
    "end = 24*60*60  # 24:00 \n",
    "\n",
    "# Note this will be a little slow - an optimization here would be\n",
    "# to have coalesced the walk network\n",
    "%time G2 = pt.load_feed_as_graph(feed, start, end, existing_graph=G_adj,impute_walk_transfers=True)"
   ]
  },
  {
   "cell_type": "code",
   "execution_count": 86,
   "metadata": {},
   "outputs": [
    {
     "data": {
      "text/plain": [
       "<networkx.classes.multidigraph.MultiDiGraph at 0x24ff5d2fe48>"
      ]
     },
     "execution_count": 86,
     "metadata": {},
     "output_type": "execute_result"
    }
   ],
   "source": [
    "G2"
   ]
  },
  {
   "cell_type": "code",
   "execution_count": 87,
   "metadata": {},
   "outputs": [
    {
     "data": {
      "text/plain": [
       "(247844908,\n",
       " 3806054858,\n",
       " {'osmid': [379649269, 233072790],\n",
       "  'highway': 'footway',\n",
       "  'oneway': False,\n",
       "  'length': 1262.7689142857146,\n",
       "  'geometry': <shapely.geometry.linestring.LineString at 0x24ff5510088>,\n",
       "  'orig_length': 1227.6920000000002,\n",
       "  'mode': 'walk'})"
      ]
     },
     "execution_count": 87,
     "metadata": {},
     "output_type": "execute_result"
    }
   ],
   "source": [
    "list(G2.edges(data=True))[0]"
   ]
  },
  {
   "cell_type": "code",
   "execution_count": 88,
   "metadata": {},
   "outputs": [
    {
     "data": {
      "image/png": "[encoded data removed]",
      "text/plain": [
       "<Figure size 864x864 with 1 Axes>"
      ]
     },
     "metadata": {},
     "output_type": "display_data"
    }
   ],
   "source": [
    "fig, ax = ox.plot_graph(G2,\n",
    "                            figsize=(12,12),\n",
    "                            show=False,\n",
    "                            close=False,\n",
    "                            node_color='#8aedfc',\n",
    "                            node_size=5,\n",
    "                            edge_color='#e2dede',\n",
    "                            edge_alpha=0.25,\n",
    "                            bgcolor='black')"
   ]
  },
  {
   "cell_type": "markdown",
   "metadata": {},
   "source": [
    "## Identify only the largest graph"
   ]
  },
  {
   "cell_type": "code",
   "execution_count": 89,
   "metadata": {},
   "outputs": [],
   "source": [
    "# compatible with NetworkX 2.4\n",
    "list_of_subgraphs = list(G2.subgraph(c).copy() for c in nx.weakly_connected_components(G2))\n",
    "max_graph = None\n",
    "max_edges = 0\n",
    "for i in list_of_subgraphs:\n",
    "    if i.number_of_edges() > max_edges:\n",
    "        max_edges = i.number_of_edges()\n",
    "        max_graph = i\n",
    "\n",
    "# set your graph equal to the largest sub-graph\n",
    "G_service0002 = max_graph"
   ]
  },
  {
   "cell_type": "code",
   "execution_count": 90,
   "metadata": {},
   "outputs": [],
   "source": [
    "# save again and inspect\n",
    "gn.save(G_service0002,\"gtfs_export_cap_haitien_merged_impute_walk_v5_service0002\",r\"temp\")"
   ]
  }
 ],
 "metadata": {
  "kernelspec": {
   "display_name": "Python 3",
   "language": "python",
   "name": "python3"
  },
  "language_info": {
   "codemirror_mode": {
    "name": "ipython",
    "version": 3
   },
   "file_extension": ".py",
   "mimetype": "text/x-python",
   "name": "python",
   "nbconvert_exporter": "python",
   "pygments_lexer": "ipython3",
   "version": "3.7.7"
  }
 },
 "nbformat": 4,
 "nbformat_minor": 4
}
