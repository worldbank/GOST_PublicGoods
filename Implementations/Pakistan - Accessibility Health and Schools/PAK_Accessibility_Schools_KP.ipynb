{
 "cells": [
  {
   "cell_type": "markdown",
   "metadata": {},
   "source": [
    "## Accessibility to schools - KP, Pakistan\n",
    "\n",
    "### Inputs\n",
    "- Driving friction surface\n",
    "- Gridded population\n",
    "- School data\n",
    "\n",
    "This notebook cleans the school data, and re-uses inputs from the previous health script (urban population, and travel time) to calculate rural pop. within 30 min. drive of schools"
   ]
  },
  {
   "cell_type": "markdown",
   "metadata": {},
   "source": [
    "### Import libriaries"
   ]
  },
  {
   "cell_type": "code",
   "execution_count": 44,
   "metadata": {},
   "outputs": [],
   "source": [
    "import sys, os\n",
    "import rasterio\n",
    "\n",
    "import pandas as pd\n",
    "import geopandas as gpd\n",
    "import numpy as np\n",
    "import skimage.graph as graph\n",
    "\n",
    "from rasterio.mask import mask\n",
    "from rasterio import features\n",
    "from shapely.geometry import box, Point, Polygon\n",
    "from scipy.ndimage import generic_filter\n",
    "\n",
    "# sys.path.append(\"../../../GOST_Urban\")\n",
    "# import src.UrbanRaster as urban\n",
    "\n",
    "sys.path.append(\"/home/wb514197/Repos/INFRA_SAP\")\n",
    "sys.path.append('/home/wb514197/Repos/GOSTnets')\n",
    "import infrasap.market_access as ma\n",
    "import infrasap.rasterMisc as rMisc\n",
    "from infrasap.misc import tPrint\n",
    "\n",
    "import fiona\n",
    "import matplotlib.pyplot as plt\n",
    "from rasterstats import zonal_stats"
   ]
  },
  {
   "cell_type": "code",
   "execution_count": 2,
   "metadata": {},
   "outputs": [],
   "source": [
    "%load_ext autoreload\n",
    "%autoreload 2\n",
    "%matplotlib inline"
   ]
  },
  {
   "cell_type": "code",
   "execution_count": 3,
   "metadata": {},
   "outputs": [],
   "source": [
    "#User records\n",
    "# destinations = \"/home/public/Data/COUNTRY/PAK/HEALTH/pakistan_health_facilities/Pakistan_Health_Facilities.shp\"\n",
    "iso3 = \"PAK\"\n",
    "data_dir = \"/home/wb514197/data/PAK\"\n",
    "out_folder = os.path.join(data_dir, \"output\")\n",
    "\n",
    "if not os.path.exists(out_folder):\n",
    "    os.makedirs(out_folder)"
   ]
  },
  {
   "cell_type": "markdown",
   "metadata": {},
   "source": [
    "### 1. Process and clean school data"
   ]
  },
  {
   "cell_type": "code",
   "execution_count": 5,
   "metadata": {},
   "outputs": [],
   "source": [
    "schools_dir = os.path.join(data_dir, \"schools\")"
   ]
  },
  {
   "cell_type": "code",
   "execution_count": 6,
   "metadata": {},
   "outputs": [],
   "source": [
    "fiona.drvsupport.supported_drivers['LIBKML'] = 'rw'"
   ]
  },
  {
   "cell_type": "code",
   "execution_count": 7,
   "metadata": {},
   "outputs": [
    {
     "name": "stdout",
     "output_type": "stream",
     "text": [
      "Abbottabad.kmz\n",
      "Bannu.kmz\n",
      "Battagram.kmz\n",
      "Bunner.kmz\n",
      "Charsadda.kmz\n",
      "Chitral.kmz\n",
      "D.I. Khan.kmz\n",
      "Dir Lower.kmz\n",
      "Dir Upper.kmz\n",
      "Hangu.kmz\n",
      "Haripur.kmz\n",
      "Karak.kmz\n",
      "Kohat.kmz\n",
      "Kohistan.kmz\n",
      "Lakki.kmz\n",
      "Malakand.kmz\n",
      "Mansehra.kmz\n",
      "Mardan.kmz\n",
      "Nowshera.kmz\n",
      "Peshawar.kmz\n",
      "Shangla.kmz\n",
      "Swabi.kmz\n",
      "Swat.kmz\n",
      "Tank.kmz\n",
      "Torghar.kmz\n"
     ]
    }
   ],
   "source": [
    "res_list = []\n",
    "for district in os.listdir(schools_dir):\n",
    "    print(district)\n",
    "    kmz = gpd.read_file(os.path.join(schools_dir, district))\n",
    "    for idx, row in kmz.iterrows():\n",
    "        table = pd.read_html(kmz.loc[idx].description)[1]\n",
    "        table = table.transpose()\n",
    "        table.columns = table.iloc[0]\n",
    "        table = table.drop(axis=0, index=0)\n",
    "        table.index = [idx]\n",
    "        if idx==0:\n",
    "            res = table.copy()\n",
    "        else:\n",
    "            res.loc[idx] = table.loc[idx]\n",
    "    res_list.append(res)"
   ]
  },
  {
   "cell_type": "code",
   "execution_count": 8,
   "metadata": {},
   "outputs": [],
   "source": [
    "res_df = pd.concat(res_list)"
   ]
  },
  {
   "cell_type": "code",
   "execution_count": 9,
   "metadata": {},
   "outputs": [],
   "source": [
    "geoms = [Point(xy) for xy in zip(res_df.X.astype('float'), res_df.Y.astype('float'))]\n",
    "crs = 'EPSG:4326'\n",
    "schools = gpd.GeoDataFrame(res_df, crs=crs, geometry=geoms)"
   ]
  },
  {
   "cell_type": "code",
   "execution_count": 10,
   "metadata": {},
   "outputs": [
    {
     "data": {
      "text/html": [
       "<div>\n",
       "<style scoped>\n",
       "    .dataframe tbody tr th:only-of-type {\n",
       "        vertical-align: middle;\n",
       "    }\n",
       "\n",
       "    .dataframe tbody tr th {\n",
       "        vertical-align: top;\n",
       "    }\n",
       "\n",
       "    .dataframe thead th {\n",
       "        text-align: right;\n",
       "    }\n",
       "</style>\n",
       "<table border=\"1\" class=\"dataframe\">\n",
       "  <thead>\n",
       "    <tr style=\"text-align: right;\">\n",
       "      <th></th>\n",
       "      <th>FID</th>\n",
       "      <th>Scode</th>\n",
       "      <th>SchoolName</th>\n",
       "      <th>PresentSta</th>\n",
       "      <th>SchoolGend</th>\n",
       "      <th>SchoolLeve</th>\n",
       "      <th>GeoLocatio</th>\n",
       "      <th>Village</th>\n",
       "      <th>PostOffice</th>\n",
       "      <th>UnionCounc</th>\n",
       "      <th>...</th>\n",
       "      <th>AditionalA</th>\n",
       "      <th>ClassRooms</th>\n",
       "      <th>OtherRooms</th>\n",
       "      <th>Water</th>\n",
       "      <th>Electicity</th>\n",
       "      <th>LatrineUsa</th>\n",
       "      <th>BoudaryWal</th>\n",
       "      <th>X</th>\n",
       "      <th>Y</th>\n",
       "      <th>geometry</th>\n",
       "    </tr>\n",
       "  </thead>\n",
       "  <tbody>\n",
       "    <tr>\n",
       "      <th>0</th>\n",
       "      <td>0</td>\n",
       "      <td>10000</td>\n",
       "      <td>GPS ABBOTTABAD NO.1</td>\n",
       "      <td>Functional</td>\n",
       "      <td>Boys</td>\n",
       "      <td>Primary</td>\n",
       "      <td>Urbon</td>\n",
       "      <td>ABBOTTABAD</td>\n",
       "      <td>GPO ABBOTTABAD</td>\n",
       "      <td>CITY URBAN ABBOTTABAD</td>\n",
       "      <td>...</td>\n",
       "      <td>NaN</td>\n",
       "      <td>6</td>\n",
       "      <td>0</td>\n",
       "      <td>No</td>\n",
       "      <td>No</td>\n",
       "      <td>0</td>\n",
       "      <td>Yes</td>\n",
       "      <td>73.2096</td>\n",
       "      <td>34.1446</td>\n",
       "      <td>POINT (73.20960 34.14460)</td>\n",
       "    </tr>\n",
       "    <tr>\n",
       "      <th>1</th>\n",
       "      <td>1</td>\n",
       "      <td>10001</td>\n",
       "      <td>GPS ABBOTTABAD NO.2</td>\n",
       "      <td>Functional</td>\n",
       "      <td>Boys</td>\n",
       "      <td>Primary</td>\n",
       "      <td>Urbon</td>\n",
       "      <td>TANCHI CHOWK ABBOTT ABAD</td>\n",
       "      <td>A.ABAD</td>\n",
       "      <td>CANT ABBOTTABAD</td>\n",
       "      <td>...</td>\n",
       "      <td>Within Premises</td>\n",
       "      <td>3</td>\n",
       "      <td>3</td>\n",
       "      <td>Yes</td>\n",
       "      <td>Yes</td>\n",
       "      <td>1</td>\n",
       "      <td>Yes</td>\n",
       "      <td>73.2124</td>\n",
       "      <td>34.1423</td>\n",
       "      <td>POINT (73.21240 34.14230)</td>\n",
       "    </tr>\n",
       "    <tr>\n",
       "      <th>2</th>\n",
       "      <td>2</td>\n",
       "      <td>10002</td>\n",
       "      <td>GPS ABBOTTABAD NO.3</td>\n",
       "      <td>Functional</td>\n",
       "      <td>Boys</td>\n",
       "      <td>Primary</td>\n",
       "      <td>Urbon</td>\n",
       "      <td>ABBOTT ABAD</td>\n",
       "      <td>GPO ABBOTTABAD</td>\n",
       "      <td>CANT ABBOTTABAD</td>\n",
       "      <td>...</td>\n",
       "      <td>NaN</td>\n",
       "      <td>2</td>\n",
       "      <td>0</td>\n",
       "      <td>No</td>\n",
       "      <td>No</td>\n",
       "      <td>0</td>\n",
       "      <td>No</td>\n",
       "      <td>73.2096</td>\n",
       "      <td>34.1446</td>\n",
       "      <td>POINT (73.20960 34.14460)</td>\n",
       "    </tr>\n",
       "    <tr>\n",
       "      <th>3</th>\n",
       "      <td>3</td>\n",
       "      <td>10003</td>\n",
       "      <td>GPS ABBOTTABAD NO.4</td>\n",
       "      <td>Functional</td>\n",
       "      <td>Boys</td>\n",
       "      <td>Primary</td>\n",
       "      <td>Urbon</td>\n",
       "      <td>ABBOTT ABAD</td>\n",
       "      <td>GPO ABBOTTABAD</td>\n",
       "      <td>CITY URBAN ABBOTTABAD</td>\n",
       "      <td>...</td>\n",
       "      <td>NaN</td>\n",
       "      <td>7</td>\n",
       "      <td>6</td>\n",
       "      <td>Yes</td>\n",
       "      <td>Yes</td>\n",
       "      <td>0</td>\n",
       "      <td>Yes</td>\n",
       "      <td>73.2123</td>\n",
       "      <td>34.1422</td>\n",
       "      <td>POINT (73.21230 34.14220)</td>\n",
       "    </tr>\n",
       "    <tr>\n",
       "      <th>4</th>\n",
       "      <td>4</td>\n",
       "      <td>10004</td>\n",
       "      <td>GPS BANDI KALOO</td>\n",
       "      <td>Functional</td>\n",
       "      <td>Boys</td>\n",
       "      <td>Primary</td>\n",
       "      <td>Urbon</td>\n",
       "      <td>BANDI KALOO</td>\n",
       "      <td>TARNAWI</td>\n",
       "      <td>BANDA PIR KHAN</td>\n",
       "      <td>...</td>\n",
       "      <td>NaN</td>\n",
       "      <td>4</td>\n",
       "      <td>0</td>\n",
       "      <td>Yes</td>\n",
       "      <td>No</td>\n",
       "      <td>0</td>\n",
       "      <td>Yes</td>\n",
       "      <td>73.2985</td>\n",
       "      <td>34.2884</td>\n",
       "      <td>POINT (73.29850 34.28840)</td>\n",
       "    </tr>\n",
       "  </tbody>\n",
       "</table>\n",
       "<p>5 rows × 35 columns</p>\n",
       "</div>"
      ],
      "text/plain": [
       "0 FID  Scode           SchoolName  PresentSta SchoolGend SchoolLeve  \\\n",
       "0   0  10000  GPS ABBOTTABAD NO.1  Functional       Boys    Primary   \n",
       "1   1  10001  GPS ABBOTTABAD NO.2  Functional       Boys    Primary   \n",
       "2   2  10002  GPS ABBOTTABAD NO.3  Functional       Boys    Primary   \n",
       "3   3  10003  GPS ABBOTTABAD NO.4  Functional       Boys    Primary   \n",
       "4   4  10004      GPS BANDI KALOO  Functional       Boys    Primary   \n",
       "\n",
       "0 GeoLocatio                   Village      PostOffice             UnionCounc  \\\n",
       "0      Urbon                ABBOTTABAD  GPO ABBOTTABAD  CITY URBAN ABBOTTABAD   \n",
       "1      Urbon  TANCHI CHOWK ABBOTT ABAD          A.ABAD        CANT ABBOTTABAD   \n",
       "2      Urbon               ABBOTT ABAD  GPO ABBOTTABAD        CANT ABBOTTABAD   \n",
       "3      Urbon               ABBOTT ABAD  GPO ABBOTTABAD  CITY URBAN ABBOTTABAD   \n",
       "4      Urbon               BANDI KALOO         TARNAWI         BANDA PIR KHAN   \n",
       "\n",
       "0  ...       AditionalA ClassRooms OtherRooms Water Electicity LatrineUsa  \\\n",
       "0  ...              NaN          6          0    No         No          0   \n",
       "1  ...  Within Premises          3          3   Yes        Yes          1   \n",
       "2  ...              NaN          2          0    No         No          0   \n",
       "3  ...              NaN          7          6   Yes        Yes          0   \n",
       "4  ...              NaN          4          0   Yes         No          0   \n",
       "\n",
       "0 BoudaryWal        X        Y                   geometry  \n",
       "0        Yes  73.2096  34.1446  POINT (73.20960 34.14460)  \n",
       "1        Yes  73.2124  34.1423  POINT (73.21240 34.14230)  \n",
       "2         No  73.2096  34.1446  POINT (73.20960 34.14460)  \n",
       "3        Yes  73.2123  34.1422  POINT (73.21230 34.14220)  \n",
       "4        Yes  73.2985  34.2884  POINT (73.29850 34.28840)  \n",
       "\n",
       "[5 rows x 35 columns]"
      ]
     },
     "execution_count": 10,
     "metadata": {},
     "output_type": "execute_result"
    }
   ],
   "source": [
    "schools.head()"
   ]
  },
  {
   "cell_type": "code",
   "execution_count": 11,
   "metadata": {},
   "outputs": [],
   "source": [
    "schools.set_index(\"FID\", inplace=True)"
   ]
  },
  {
   "cell_type": "code",
   "execution_count": 26,
   "metadata": {},
   "outputs": [],
   "source": [
    "schools.to_file(os.path.join(data_dir, \"schools.shp\"), driver=\"ESRI Shapefile\")"
   ]
  },
  {
   "cell_type": "code",
   "execution_count": 12,
   "metadata": {},
   "outputs": [],
   "source": [
    "# DATA FROM PREVIOUS SCRIPT\n",
    "admin1 = \"/home/public/Data/GLOBAL/ADMIN/Admin1_Polys.shp\"\n",
    "admin2 = \"/home/wb514197/data/PAK/pakistan_indicators.shp\"\n",
    "\n",
    "out_health = \"/home/wb514197/data/PAK/HEALTH/\"\n",
    "out_pop_surface_std = os.path.join(out_health, \"POP_2020_NEW_STD.tif\")\n",
    "out_travel_surface = os.path.join(out_health, \"TRAVEL_SURFACE.tif\")"
   ]
  },
  {
   "cell_type": "code",
   "execution_count": 13,
   "metadata": {},
   "outputs": [],
   "source": [
    "travel_surf = rasterio.open(out_travel_surface)\n",
    "pop_raster = rasterio.open(out_pop_surface_std)"
   ]
  },
  {
   "cell_type": "code",
   "execution_count": 15,
   "metadata": {},
   "outputs": [],
   "source": [
    "inB2 = gpd.read_file(admin2)\n",
    "inB2 = inB2.to_crs(travel_surf.crs)\n",
    "inB2 = inB2.loc[inB2.Year==2018].copy()\n",
    "inB2.index.name = \"FID\"\n",
    "inB2.reset_index(inplace=True)"
   ]
  },
  {
   "cell_type": "code",
   "execution_count": 16,
   "metadata": {},
   "outputs": [
    {
     "data": {
      "text/plain": [
       "array(['Balochistan', 'Khyber Pakhtunkhwa', 'Federal Capital Territory',\n",
       "       'Punjab', 'Sindh'], dtype=object)"
      ]
     },
     "execution_count": 16,
     "metadata": {},
     "output_type": "execute_result"
    }
   ],
   "source": [
    "inB2.Province.unique()"
   ]
  },
  {
   "cell_type": "code",
   "execution_count": 17,
   "metadata": {},
   "outputs": [],
   "source": [
    "inB2_sel = inB2.loc[inB2.Province==\"Sindh\"].copy()"
   ]
  },
  {
   "cell_type": "markdown",
   "metadata": {},
   "source": [
    "### 2. Calculate rural population"
   ]
  },
  {
   "cell_type": "code",
   "execution_count": 18,
   "metadata": {},
   "outputs": [],
   "source": [
    "urban_bool_ = rasterio.open(os.path.join(out_health, \"URBAN.tif\"))\n",
    "urban_bool = urban_bool_.read(1)"
   ]
  },
  {
   "cell_type": "code",
   "execution_count": 19,
   "metadata": {},
   "outputs": [],
   "source": [
    "urban_bool[urban_bool==1] = 2"
   ]
  },
  {
   "cell_type": "code",
   "execution_count": 20,
   "metadata": {},
   "outputs": [],
   "source": [
    "urban_bool[urban_bool==0] = 1"
   ]
  },
  {
   "cell_type": "code",
   "execution_count": 21,
   "metadata": {},
   "outputs": [],
   "source": [
    "urban_bool[urban_bool==2] = 0"
   ]
  },
  {
   "cell_type": "code",
   "execution_count": 22,
   "metadata": {},
   "outputs": [],
   "source": [
    "rural_bool = urban_bool.copy()"
   ]
  },
  {
   "cell_type": "code",
   "execution_count": 23,
   "metadata": {},
   "outputs": [],
   "source": [
    "pop_ = rasterio.open(os.path.join(out_health, \"POP_2020_NEW.tif\"))\n",
    "pop = pop_.read(1)\n",
    "pop[pop<0] = 0"
   ]
  },
  {
   "cell_type": "code",
   "execution_count": 24,
   "metadata": {},
   "outputs": [],
   "source": [
    "pop_rural = pop*rural_bool"
   ]
  },
  {
   "cell_type": "code",
   "execution_count": 25,
   "metadata": {},
   "outputs": [],
   "source": [
    "meta = pop_.meta.copy()"
   ]
  },
  {
   "cell_type": "code",
   "execution_count": 26,
   "metadata": {},
   "outputs": [],
   "source": [
    "out_file = os.path.join(out_health, \"RURAL_POP.tif\")"
   ]
  },
  {
   "cell_type": "code",
   "execution_count": 27,
   "metadata": {},
   "outputs": [],
   "source": [
    "with rasterio.open(out_file, 'w', **meta) as out:\n",
    "    out.write_band(1, pop_rural)"
   ]
  },
  {
   "cell_type": "code",
   "execution_count": 28,
   "metadata": {},
   "outputs": [],
   "source": [
    "rural_surf = rasterio.open(out_file)"
   ]
  },
  {
   "cell_type": "code",
   "execution_count": 29,
   "metadata": {},
   "outputs": [],
   "source": [
    "rMisc.standardizeInputRasters(rural_surf, travel_surf, os.path.join(out_health, \"RURAL_POP_STD.tif\"), data_type=\"C\")"
   ]
  },
  {
   "cell_type": "code",
   "execution_count": 30,
   "metadata": {},
   "outputs": [],
   "source": [
    "rural_pop_ras = rasterio.open(os.path.join(out_health, \"RURAL_POP_STD.tif\"))"
   ]
  },
  {
   "cell_type": "code",
   "execution_count": 31,
   "metadata": {},
   "outputs": [],
   "source": [
    "rural_pop_data = rural_pop_ras.read(1)"
   ]
  },
  {
   "cell_type": "code",
   "execution_count": 32,
   "metadata": {},
   "outputs": [
    {
     "data": {
      "text/plain": [
       "1776.6442"
      ]
     },
     "execution_count": 32,
     "metadata": {},
     "output_type": "execute_result"
    }
   ],
   "source": [
    "rural_pop_data.max()"
   ]
  },
  {
   "cell_type": "markdown",
   "metadata": {},
   "source": [
    "### Filter schools"
   ]
  },
  {
   "cell_type": "code",
   "execution_count": 33,
   "metadata": {},
   "outputs": [
    {
     "data": {
      "text/plain": [
       "Index(['Scode', 'SchoolName', 'PresentSta', 'SchoolGend', 'SchoolLeve',\n",
       "       'GeoLocatio', 'Village', 'PostOffice', 'UnionCounc', 'CircleOffi',\n",
       "       'Tehsil', 'distnumb', 'District', 'PKNO', 'NANo', 'UB', 'Boys', 'UG',\n",
       "       'Girls', 'TeachingSt', 'NonTeachin', 'CoveredAre', 'Additional', 'ADL',\n",
       "       'AditionalA', 'ClassRooms', 'OtherRooms', 'Water', 'Electicity',\n",
       "       'LatrineUsa', 'BoudaryWal', 'X', 'Y', 'geometry'],\n",
       "      dtype='object', name=0)"
      ]
     },
     "execution_count": 33,
     "metadata": {},
     "output_type": "execute_result"
    }
   ],
   "source": [
    "schools.columns"
   ]
  },
  {
   "cell_type": "code",
   "execution_count": 34,
   "metadata": {},
   "outputs": [],
   "source": [
    "schools.loc[schools.SchoolLeve==\"Higher Secondary\", \"SchoolLeve\"] = \"Secondary\"\n",
    "schools.loc[schools.SchoolLeve==\"High\", \"SchoolLeve\"] = \"Secondary\""
   ]
  },
  {
   "cell_type": "code",
   "execution_count": 36,
   "metadata": {},
   "outputs": [
    {
     "data": {
      "text/plain": [
       "Primary      23007\n",
       "Middle        2508\n",
       "Secondary     2384\n",
       "Name: SchoolLeve, dtype: int64"
      ]
     },
     "execution_count": 36,
     "metadata": {},
     "output_type": "execute_result"
    }
   ],
   "source": [
    "schools.SchoolLeve.value_counts()"
   ]
  },
  {
   "cell_type": "code",
   "execution_count": 37,
   "metadata": {},
   "outputs": [
    {
     "data": {
      "text/plain": [
       "Boys     17773\n",
       "Girls    10126\n",
       "Name: SchoolGend, dtype: int64"
      ]
     },
     "execution_count": 37,
     "metadata": {},
     "output_type": "execute_result"
    }
   ],
   "source": [
    "schools.SchoolGend.value_counts()"
   ]
  },
  {
   "cell_type": "code",
   "execution_count": 38,
   "metadata": {},
   "outputs": [],
   "source": [
    "thresh = 30"
   ]
  },
  {
   "cell_type": "code",
   "execution_count": 40,
   "metadata": {},
   "outputs": [],
   "source": [
    "# create MCP object\n",
    "inG_data = travel_surf.read(1) * 1000\n",
    "# Correct no data values\n",
    "inG_data[inG_data < 0] = 99999999\n",
    "mcp = graph.MCP_Geometric(inG_data)\n",
    "# mcp = graph.MCP_Geometric(inG_data[0,:,:])"
   ]
  },
  {
   "cell_type": "code",
   "execution_count": 48,
   "metadata": {},
   "outputs": [],
   "source": [
    "final = []"
   ]
  },
  {
   "cell_type": "code",
   "execution_count": 49,
   "metadata": {},
   "outputs": [
    {
     "name": "stdout",
     "output_type": "stream",
     "text": [
      "\t Primary, All\n",
      "\t Primary, Boys\n",
      "\t Primary, Girls\n",
      "\t Middle, All\n",
      "\t Middle, Boys\n",
      "\t Middle, Girls\n",
      "\t Secondary, All\n",
      "\t Secondary, Boys\n",
      "\t Secondary, Girls\n"
     ]
    }
   ],
   "source": [
    "for school_type in schools.SchoolLeve.unique():\n",
    "    gender= 'All'\n",
    "    col = school_type+', '+gender\n",
    "    print(f\"\\t {col}\")\n",
    "    schools_filt = schools.loc[schools.SchoolLeve==school_type].copy()\n",
    "    tt_raster = ma.calculate_travel_time(travel_surf, mcp, schools_filt)[0]\n",
    "    cur_tt_d = (tt_raster < thresh).astype('int')\n",
    "    cur_pop = rural_pop_data * cur_tt_d\n",
    "    res = pd.DataFrame(zonal_stats(inB2_sel, cur_pop, affine=rural_pop_ras.transform, stats='sum', nodata=pop_raster.nodata)).rename(columns = {'sum':col})\n",
    "    final.append(res)\n",
    "    for gender in schools_filt.SchoolGend.unique():\n",
    "        col = school_type+', '+gender\n",
    "        schools_filt2 = schools_filt.loc[schools_filt.SchoolGend==gender].copy()\n",
    "        tt_raster = ma.calculate_travel_time(travel_surf, mcp, schools_filt2)[0]\n",
    "        cur_tt_d = (tt_raster < thresh).astype('int')\n",
    "        cur_pop = rural_pop_data * cur_tt_d\n",
    "        res = pd.DataFrame(zonal_stats(inB2_sel, cur_pop, affine=rural_pop_ras.transform, stats='sum', nodata=pop_raster.nodata)).rename(columns = {'sum':col})\n",
    "        print(f\"\\t {col}\")\n",
    "        final.append(res)"
   ]
  },
  {
   "cell_type": "code",
   "execution_count": 50,
   "metadata": {},
   "outputs": [],
   "source": [
    "final = pd.concat(final, axis=1)"
   ]
  },
  {
   "cell_type": "code",
   "execution_count": 51,
   "metadata": {},
   "outputs": [],
   "source": [
    "zs_pop = pd.DataFrame(zonal_stats(inB2_sel, rural_pop_data, affine=pop_raster.transform, stats='sum', nodata=rural_pop_ras.nodata)).rename(columns = {'sum':'rural_pop'})"
   ]
  },
  {
   "cell_type": "code",
   "execution_count": 52,
   "metadata": {},
   "outputs": [
    {
     "data": {
      "text/plain": [
       "Index(['FID', 'Province', 'District', 'Year', 'P_DIST', 'P_RK_NTL', 'P_RK_PRV',\n",
       "       'P_NUMP', 'W_IMP', 'W_PIP',\n",
       "       ...\n",
       "       'M_PNTA_1', 'M_PNTA_2', 'M_MSLS_1', 'M_VITA', 'MHY_SOAP', 'MHY_IOD',\n",
       "       'MHY_WAT', 'P_POP', 'Missing', 'geometry'],\n",
       "      dtype='object', length=139)"
      ]
     },
     "execution_count": 52,
     "metadata": {},
     "output_type": "execute_result"
    }
   ],
   "source": [
    "inB2_sel.columns"
   ]
  },
  {
   "cell_type": "code",
   "execution_count": 53,
   "metadata": {},
   "outputs": [],
   "source": [
    "output = inB2_sel[['FID', 'Province', 'District']].copy()"
   ]
  },
  {
   "cell_type": "code",
   "execution_count": 54,
   "metadata": {},
   "outputs": [],
   "source": [
    "output = output.reset_index(drop=True)"
   ]
  },
  {
   "cell_type": "code",
   "execution_count": 55,
   "metadata": {},
   "outputs": [],
   "source": [
    "output = output.join(zs_pop).join(final)"
   ]
  },
  {
   "cell_type": "code",
   "execution_count": 56,
   "metadata": {},
   "outputs": [
    {
     "data": {
      "text/plain": [
       "'/home/wb514197/data/PAK/output'"
      ]
     },
     "execution_count": 56,
     "metadata": {},
     "output_type": "execute_result"
    }
   ],
   "source": [
    "out_folder"
   ]
  },
  {
   "cell_type": "code",
   "execution_count": 69,
   "metadata": {},
   "outputs": [],
   "source": [
    "output.to_csv(os.path.join(out_folder, \"Share of Rural Pop Within 30 Min Sindh.csv\"), index=False)"
   ]
  },
  {
   "cell_type": "markdown",
   "metadata": {},
   "source": [
    "### # of students"
   ]
  },
  {
   "cell_type": "code",
   "execution_count": 70,
   "metadata": {},
   "outputs": [],
   "source": [
    "inB2_sel.loc[:,\"District2\"] = inB2_sel.loc[:,\"District\"]"
   ]
  },
  {
   "cell_type": "code",
   "execution_count": 71,
   "metadata": {},
   "outputs": [],
   "source": [
    "schools_sj = gpd.sjoin(schools, inB2_sel[['Province', 'District2', 'geometry']], how='left')"
   ]
  },
  {
   "cell_type": "code",
   "execution_count": 586,
   "metadata": {},
   "outputs": [],
   "source": [
    "schools_original = schools.copy()"
   ]
  },
  {
   "cell_type": "code",
   "execution_count": 587,
   "metadata": {},
   "outputs": [],
   "source": [
    "schools = schools_sj.copy()"
   ]
  },
  {
   "cell_type": "code",
   "execution_count": 704,
   "metadata": {},
   "outputs": [],
   "source": [
    "schools.loc[:,'Boys'] = schools.loc[:,'Boys'].astype('int')\n",
    "schools.loc[:,'Girls'] = schools.loc[:,'Girls'].astype('int')"
   ]
  },
  {
   "cell_type": "code",
   "execution_count": 705,
   "metadata": {},
   "outputs": [
    {
     "data": {
      "text/html": [
       "<div>\n",
       "<style scoped>\n",
       "    .dataframe tbody tr th:only-of-type {\n",
       "        vertical-align: middle;\n",
       "    }\n",
       "\n",
       "    .dataframe tbody tr th {\n",
       "        vertical-align: top;\n",
       "    }\n",
       "\n",
       "    .dataframe thead th {\n",
       "        text-align: right;\n",
       "    }\n",
       "</style>\n",
       "<table border=\"1\" class=\"dataframe\">\n",
       "  <thead>\n",
       "    <tr style=\"text-align: right;\">\n",
       "      <th></th>\n",
       "      <th>SchoolGend</th>\n",
       "      <th>Boys</th>\n",
       "      <th>Girls</th>\n",
       "    </tr>\n",
       "    <tr>\n",
       "      <th>FID</th>\n",
       "      <th></th>\n",
       "      <th></th>\n",
       "      <th></th>\n",
       "    </tr>\n",
       "  </thead>\n",
       "  <tbody>\n",
       "    <tr>\n",
       "      <th>0</th>\n",
       "      <td>Boys</td>\n",
       "      <td>18</td>\n",
       "      <td>7</td>\n",
       "    </tr>\n",
       "    <tr>\n",
       "      <th>1</th>\n",
       "      <td>Boys</td>\n",
       "      <td>141</td>\n",
       "      <td>4</td>\n",
       "    </tr>\n",
       "    <tr>\n",
       "      <th>2</th>\n",
       "      <td>Boys</td>\n",
       "      <td>14</td>\n",
       "      <td>9</td>\n",
       "    </tr>\n",
       "    <tr>\n",
       "      <th>4</th>\n",
       "      <td>Boys</td>\n",
       "      <td>84</td>\n",
       "      <td>47</td>\n",
       "    </tr>\n",
       "    <tr>\n",
       "      <th>5</th>\n",
       "      <td>Boys</td>\n",
       "      <td>14</td>\n",
       "      <td>2</td>\n",
       "    </tr>\n",
       "    <tr>\n",
       "      <th>...</th>\n",
       "      <td>...</td>\n",
       "      <td>...</td>\n",
       "      <td>...</td>\n",
       "    </tr>\n",
       "    <tr>\n",
       "      <th>25974</th>\n",
       "      <td>Boys</td>\n",
       "      <td>20</td>\n",
       "      <td>4</td>\n",
       "    </tr>\n",
       "    <tr>\n",
       "      <th>25976</th>\n",
       "      <td>Boys</td>\n",
       "      <td>72</td>\n",
       "      <td>7</td>\n",
       "    </tr>\n",
       "    <tr>\n",
       "      <th>25982</th>\n",
       "      <td>Boys</td>\n",
       "      <td>81</td>\n",
       "      <td>1</td>\n",
       "    </tr>\n",
       "    <tr>\n",
       "      <th>26013</th>\n",
       "      <td>Girls</td>\n",
       "      <td>3</td>\n",
       "      <td>20</td>\n",
       "    </tr>\n",
       "    <tr>\n",
       "      <th>26018</th>\n",
       "      <td>Boys</td>\n",
       "      <td>43</td>\n",
       "      <td>24</td>\n",
       "    </tr>\n",
       "  </tbody>\n",
       "</table>\n",
       "<p>13632 rows × 3 columns</p>\n",
       "</div>"
      ],
      "text/plain": [
       "0     SchoolGend  Boys  Girls\n",
       "FID                          \n",
       "0           Boys    18      7\n",
       "1           Boys   141      4\n",
       "2           Boys    14      9\n",
       "4           Boys    84     47\n",
       "5           Boys    14      2\n",
       "...          ...   ...    ...\n",
       "25974       Boys    20      4\n",
       "25976       Boys    72      7\n",
       "25982       Boys    81      1\n",
       "26013      Girls     3     20\n",
       "26018       Boys    43     24\n",
       "\n",
       "[13632 rows x 3 columns]"
      ]
     },
     "execution_count": 705,
     "metadata": {},
     "output_type": "execute_result"
    }
   ],
   "source": [
    "schools.loc[(schools.Boys>0) & (schools.Girls>0), ['SchoolGend', 'Boys', 'Girls']]"
   ]
  },
  {
   "cell_type": "code",
   "execution_count": 706,
   "metadata": {},
   "outputs": [],
   "source": [
    "schools.loc[(schools.Boys>0) & (schools.Girls>0), 'SchoolGend'] = \"Mixed\""
   ]
  },
  {
   "cell_type": "code",
   "execution_count": 59,
   "metadata": {
    "scrolled": true
   },
   "outputs": [
    {
     "data": {
      "text/html": [
       "<div>\n",
       "<style scoped>\n",
       "    .dataframe tbody tr th:only-of-type {\n",
       "        vertical-align: middle;\n",
       "    }\n",
       "\n",
       "    .dataframe tbody tr th {\n",
       "        vertical-align: top;\n",
       "    }\n",
       "\n",
       "    .dataframe thead th {\n",
       "        text-align: right;\n",
       "    }\n",
       "</style>\n",
       "<table border=\"1\" class=\"dataframe\">\n",
       "  <thead>\n",
       "    <tr style=\"text-align: right;\">\n",
       "      <th></th>\n",
       "      <th>SchoolGend</th>\n",
       "      <th>SchoolLeve</th>\n",
       "      <th>Boys</th>\n",
       "      <th>Girls</th>\n",
       "    </tr>\n",
       "    <tr>\n",
       "      <th>FID</th>\n",
       "      <th></th>\n",
       "      <th></th>\n",
       "      <th></th>\n",
       "      <th></th>\n",
       "    </tr>\n",
       "  </thead>\n",
       "  <tbody>\n",
       "    <tr>\n",
       "      <th>0</th>\n",
       "      <td>Boys</td>\n",
       "      <td>Primary</td>\n",
       "      <td>18</td>\n",
       "      <td>7</td>\n",
       "    </tr>\n",
       "    <tr>\n",
       "      <th>1</th>\n",
       "      <td>Boys</td>\n",
       "      <td>Primary</td>\n",
       "      <td>141</td>\n",
       "      <td>4</td>\n",
       "    </tr>\n",
       "    <tr>\n",
       "      <th>2</th>\n",
       "      <td>Boys</td>\n",
       "      <td>Primary</td>\n",
       "      <td>14</td>\n",
       "      <td>9</td>\n",
       "    </tr>\n",
       "    <tr>\n",
       "      <th>3</th>\n",
       "      <td>Boys</td>\n",
       "      <td>Primary</td>\n",
       "      <td>414</td>\n",
       "      <td>0</td>\n",
       "    </tr>\n",
       "    <tr>\n",
       "      <th>4</th>\n",
       "      <td>Boys</td>\n",
       "      <td>Primary</td>\n",
       "      <td>84</td>\n",
       "      <td>47</td>\n",
       "    </tr>\n",
       "    <tr>\n",
       "      <th>...</th>\n",
       "      <td>...</td>\n",
       "      <td>...</td>\n",
       "      <td>...</td>\n",
       "      <td>...</td>\n",
       "    </tr>\n",
       "    <tr>\n",
       "      <th>26016</th>\n",
       "      <td>Boys</td>\n",
       "      <td>Primary</td>\n",
       "      <td>95</td>\n",
       "      <td>0</td>\n",
       "    </tr>\n",
       "    <tr>\n",
       "      <th>26017</th>\n",
       "      <td>Boys</td>\n",
       "      <td>Primary</td>\n",
       "      <td>122</td>\n",
       "      <td>0</td>\n",
       "    </tr>\n",
       "    <tr>\n",
       "      <th>26018</th>\n",
       "      <td>Boys</td>\n",
       "      <td>Primary</td>\n",
       "      <td>43</td>\n",
       "      <td>24</td>\n",
       "    </tr>\n",
       "    <tr>\n",
       "      <th>26019</th>\n",
       "      <td>Boys</td>\n",
       "      <td>Primary</td>\n",
       "      <td>52</td>\n",
       "      <td>0</td>\n",
       "    </tr>\n",
       "    <tr>\n",
       "      <th>26020</th>\n",
       "      <td>Boys</td>\n",
       "      <td>Primary</td>\n",
       "      <td>55</td>\n",
       "      <td>0</td>\n",
       "    </tr>\n",
       "  </tbody>\n",
       "</table>\n",
       "<p>27899 rows × 4 columns</p>\n",
       "</div>"
      ],
      "text/plain": [
       "0     SchoolGend SchoolLeve Boys Girls\n",
       "FID                                   \n",
       "0           Boys    Primary   18     7\n",
       "1           Boys    Primary  141     4\n",
       "2           Boys    Primary   14     9\n",
       "3           Boys    Primary  414     0\n",
       "4           Boys    Primary   84    47\n",
       "...          ...        ...  ...   ...\n",
       "26016       Boys    Primary   95     0\n",
       "26017       Boys    Primary  122     0\n",
       "26018       Boys    Primary   43    24\n",
       "26019       Boys    Primary   52     0\n",
       "26020       Boys    Primary   55     0\n",
       "\n",
       "[27899 rows x 4 columns]"
      ]
     },
     "execution_count": 59,
     "metadata": {},
     "output_type": "execute_result"
    }
   ],
   "source": [
    "schools[['SchoolGend', 'SchoolLeve','Boys','Girls']]"
   ]
  },
  {
   "cell_type": "code",
   "execution_count": 410,
   "metadata": {},
   "outputs": [
    {
     "name": "stderr",
     "output_type": "stream",
     "text": [
      "/home/wb514197/.conda/envs/geo/lib/python3.7/site-packages/ipykernel_launcher.py:1: FutureWarning: Indexing with multiple keys (implicitly converted to a tuple of keys) will be deprecated, use a list instead.\n",
      "  \"\"\"Entry point for launching an IPython kernel.\n"
     ]
    }
   ],
   "source": [
    "students = schools.groupby(['District', 'SchoolLeve'])['Boys', 'Girls'].sum()"
   ]
  },
  {
   "cell_type": "code",
   "execution_count": 595,
   "metadata": {},
   "outputs": [
    {
     "name": "stderr",
     "output_type": "stream",
     "text": [
      "/home/wb514197/.conda/envs/geo/lib/python3.7/site-packages/ipykernel_launcher.py:2: FutureWarning: Indexing with multiple keys (implicitly converted to a tuple of keys) will be deprecated, use a list instead.\n",
      "  \n"
     ]
    }
   ],
   "source": [
    "#District\n",
    "students2 = schools.groupby(['District2', 'SchoolLeve', 'SchoolGend'])['Boys', 'Girls'].sum()"
   ]
  },
  {
   "cell_type": "code",
   "execution_count": 596,
   "metadata": {},
   "outputs": [
    {
     "data": {
      "text/html": [
       "<div>\n",
       "<style scoped>\n",
       "    .dataframe tbody tr th:only-of-type {\n",
       "        vertical-align: middle;\n",
       "    }\n",
       "\n",
       "    .dataframe tbody tr th {\n",
       "        vertical-align: top;\n",
       "    }\n",
       "\n",
       "    .dataframe thead th {\n",
       "        text-align: right;\n",
       "    }\n",
       "</style>\n",
       "<table border=\"1\" class=\"dataframe\">\n",
       "  <thead>\n",
       "    <tr style=\"text-align: right;\">\n",
       "      <th></th>\n",
       "      <th></th>\n",
       "      <th></th>\n",
       "      <th>Boys</th>\n",
       "      <th>Girls</th>\n",
       "    </tr>\n",
       "    <tr>\n",
       "      <th>District2</th>\n",
       "      <th>SchoolLeve</th>\n",
       "      <th>SchoolGend</th>\n",
       "      <th></th>\n",
       "      <th></th>\n",
       "    </tr>\n",
       "  </thead>\n",
       "  <tbody>\n",
       "    <tr>\n",
       "      <th rowspan=\"5\" valign=\"top\">Abbottabad</th>\n",
       "      <th rowspan=\"3\" valign=\"top\">Middle</th>\n",
       "      <th>Boys</th>\n",
       "      <td>3351</td>\n",
       "      <td>0</td>\n",
       "    </tr>\n",
       "    <tr>\n",
       "      <th>Girls</th>\n",
       "      <td>0</td>\n",
       "      <td>5810</td>\n",
       "    </tr>\n",
       "    <tr>\n",
       "      <th>Mixed</th>\n",
       "      <td>2519</td>\n",
       "      <td>1725</td>\n",
       "    </tr>\n",
       "    <tr>\n",
       "      <th rowspan=\"2\" valign=\"top\">Primary</th>\n",
       "      <th>Boys</th>\n",
       "      <td>10988</td>\n",
       "      <td>0</td>\n",
       "    </tr>\n",
       "    <tr>\n",
       "      <th>Girls</th>\n",
       "      <td>47</td>\n",
       "      <td>3981</td>\n",
       "    </tr>\n",
       "    <tr>\n",
       "      <th>...</th>\n",
       "      <th>...</th>\n",
       "      <th>...</th>\n",
       "      <td>...</td>\n",
       "      <td>...</td>\n",
       "    </tr>\n",
       "    <tr>\n",
       "      <th rowspan=\"5\" valign=\"top\">Upper Dir</th>\n",
       "      <th rowspan=\"2\" valign=\"top\">Primary</th>\n",
       "      <th>Girls</th>\n",
       "      <td>0</td>\n",
       "      <td>31563</td>\n",
       "    </tr>\n",
       "    <tr>\n",
       "      <th>Mixed</th>\n",
       "      <td>62946</td>\n",
       "      <td>27457</td>\n",
       "    </tr>\n",
       "    <tr>\n",
       "      <th rowspan=\"3\" valign=\"top\">Secondary</th>\n",
       "      <th>Boys</th>\n",
       "      <td>16243</td>\n",
       "      <td>0</td>\n",
       "    </tr>\n",
       "    <tr>\n",
       "      <th>Girls</th>\n",
       "      <td>0</td>\n",
       "      <td>5914</td>\n",
       "    </tr>\n",
       "    <tr>\n",
       "      <th>Mixed</th>\n",
       "      <td>4660</td>\n",
       "      <td>649</td>\n",
       "    </tr>\n",
       "  </tbody>\n",
       "</table>\n",
       "<p>219 rows × 2 columns</p>\n",
       "</div>"
      ],
      "text/plain": [
       "                                   Boys  Girls\n",
       "District2  SchoolLeve SchoolGend              \n",
       "Abbottabad Middle     Boys         3351      0\n",
       "                      Girls           0   5810\n",
       "                      Mixed        2519   1725\n",
       "           Primary    Boys        10988      0\n",
       "                      Girls          47   3981\n",
       "...                                 ...    ...\n",
       "Upper Dir  Primary    Girls           0  31563\n",
       "                      Mixed       62946  27457\n",
       "           Secondary  Boys        16243      0\n",
       "                      Girls           0   5914\n",
       "                      Mixed        4660    649\n",
       "\n",
       "[219 rows x 2 columns]"
      ]
     },
     "execution_count": 596,
     "metadata": {},
     "output_type": "execute_result"
    }
   ],
   "source": [
    "students2"
   ]
  },
  {
   "cell_type": "code",
   "execution_count": 416,
   "metadata": {},
   "outputs": [],
   "source": [
    "students.to_csv(os.path.join(out_folder, \"Students by Gender.csv\"), index=True)"
   ]
  },
  {
   "cell_type": "code",
   "execution_count": 597,
   "metadata": {},
   "outputs": [],
   "source": [
    "students2.to_csv(os.path.join(out_folder, \"Students by Gender and Mixed2.csv\"), index=True)"
   ]
  },
  {
   "cell_type": "markdown",
   "metadata": {},
   "source": [
    "### # of schools"
   ]
  },
  {
   "cell_type": "code",
   "execution_count": 598,
   "metadata": {},
   "outputs": [],
   "source": [
    "schools_n = schools.groupby(['District2', 'SchoolLeve', 'SchoolGend'])[['Scode']].count()"
   ]
  },
  {
   "cell_type": "code",
   "execution_count": 599,
   "metadata": {},
   "outputs": [],
   "source": [
    "schools_n.to_csv(os.path.join(out_folder, \"Number of Schools by Gender and Mixed2.csv\"), index=True)"
   ]
  },
  {
   "cell_type": "markdown",
   "metadata": {},
   "source": [
    "### Average TT"
   ]
  },
  {
   "cell_type": "code",
   "execution_count": 441,
   "metadata": {},
   "outputs": [
    {
     "data": {
      "text/plain": [
       "0.5"
      ]
     },
     "execution_count": 441,
     "metadata": {},
     "output_type": "execute_result"
    }
   ],
   "source": [
    "inG_data.max()"
   ]
  },
  {
   "cell_type": "code",
   "execution_count": 446,
   "metadata": {},
   "outputs": [
    {
     "data": {
      "text/plain": [
       "Affine(0.008333333333333333, 0.0, 60.866666666666674,\n",
       "       0.0, -0.008333333333333333, 37.09166666666667)"
      ]
     },
     "execution_count": 446,
     "metadata": {},
     "output_type": "execute_result"
    }
   ],
   "source": [
    "inG.transform"
   ]
  },
  {
   "cell_type": "code",
   "execution_count": 480,
   "metadata": {},
   "outputs": [
    {
     "data": {
      "text/plain": [
       "(1608, 2033)"
      ]
     },
     "execution_count": 480,
     "metadata": {},
     "output_type": "execute_result"
    }
   ],
   "source": [
    "inG_data.shape"
   ]
  },
  {
   "cell_type": "code",
   "execution_count": 481,
   "metadata": {},
   "outputs": [],
   "source": [
    "zs_avg = pd.DataFrame(zonal_stats(inB2, inG_data, affine=inG.transform, stats='mean', nodata=inG_data.max())).rename(columns = {'mean':'average travel time'})"
   ]
  },
  {
   "cell_type": "code",
   "execution_count": 451,
   "metadata": {},
   "outputs": [
    {
     "data": {
      "text/plain": [
       "0.0"
      ]
     },
     "execution_count": 451,
     "metadata": {},
     "output_type": "execute_result"
    }
   ],
   "source": [
    "pop_data.min()"
   ]
  },
  {
   "cell_type": "code",
   "execution_count": 452,
   "metadata": {},
   "outputs": [],
   "source": [
    "zs_sum_pop = pd.DataFrame(zonal_stats(inB2, pop_data, affine=pop_raster.transform, stats='sum', nodata=pop_raster.nodata)).rename(columns={'sum':'pop_sum'})"
   ]
  },
  {
   "cell_type": "code",
   "execution_count": 454,
   "metadata": {},
   "outputs": [],
   "source": [
    "target_temp = inB2.join(zs_sum_pop)"
   ]
  },
  {
   "cell_type": "code",
   "execution_count": 456,
   "metadata": {},
   "outputs": [
    {
     "data": {
      "text/plain": [
       "geopandas.geodataframe.GeoDataFrame"
      ]
     },
     "execution_count": 456,
     "metadata": {},
     "output_type": "execute_result"
    }
   ],
   "source": [
    "type(target_temp)"
   ]
  },
  {
   "cell_type": "code",
   "execution_count": 457,
   "metadata": {},
   "outputs": [],
   "source": [
    "from infrasap import aggregator"
   ]
  },
  {
   "cell_type": "code",
   "execution_count": 459,
   "metadata": {},
   "outputs": [
    {
     "data": {
      "text/plain": [
       "<open DatasetReader name='/home/wb514197/data/PAK/HEALTH/POP_2020_NEW_STD.tif' mode='r'>"
      ]
     },
     "execution_count": 459,
     "metadata": {},
     "output_type": "execute_result"
    }
   ],
   "source": [
    "pop_raster"
   ]
  },
  {
   "cell_type": "code",
   "execution_count": 530,
   "metadata": {},
   "outputs": [],
   "source": [
    "pop_sum_array = aggregator.rasterize_gdf(inD=target_temp, field='pop_sum', template=out_pop_surface_std)"
   ]
  },
  {
   "cell_type": "code",
   "execution_count": 546,
   "metadata": {},
   "outputs": [],
   "source": [
    "pop_data = pop_raster.read(1)"
   ]
  },
  {
   "cell_type": "code",
   "execution_count": 549,
   "metadata": {},
   "outputs": [],
   "source": [
    "pop_data[pop_data<0] = np.nan"
   ]
  },
  {
   "cell_type": "code",
   "execution_count": 550,
   "metadata": {},
   "outputs": [
    {
     "data": {
      "text/plain": [
       "<matplotlib.image.AxesImage at 0x7f70e70c4550>"
      ]
     },
     "execution_count": 550,
     "metadata": {},
     "output_type": "execute_result"
    },
    {
     "data": {
      "image/png": "[encoded data removed]",
      "text/plain": [
       "<Figure size 432x288 with 1 Axes>"
      ]
     },
     "metadata": {
      "needs_background": "light"
     },
     "output_type": "display_data"
    }
   ],
   "source": [
    "plt.imshow(pop_data)"
   ]
  },
  {
   "cell_type": "code",
   "execution_count": 560,
   "metadata": {},
   "outputs": [
    {
     "data": {
      "text/plain": [
       "nan"
      ]
     },
     "execution_count": 560,
     "metadata": {},
     "output_type": "execute_result"
    }
   ],
   "source": [
    "pop_data.min()"
   ]
  },
  {
   "cell_type": "code",
   "execution_count": 561,
   "metadata": {},
   "outputs": [],
   "source": [
    "weights = pop_data/pop_sum_array"
   ]
  },
  {
   "cell_type": "code",
   "execution_count": 562,
   "metadata": {},
   "outputs": [
    {
     "data": {
      "text/plain": [
       "array([[nan, nan, nan, ..., nan, nan, nan],\n",
       "       [nan, nan, nan, ..., nan, nan, nan],\n",
       "       [nan, nan, nan, ..., nan, nan, nan],\n",
       "       ...,\n",
       "       [nan, nan, nan, ..., nan, nan, nan],\n",
       "       [nan, nan, nan, ..., nan, nan, nan],\n",
       "       [nan, nan, nan, ..., nan, nan, nan]])"
      ]
     },
     "execution_count": 562,
     "metadata": {},
     "output_type": "execute_result"
    }
   ],
   "source": [
    "weights"
   ]
  },
  {
   "cell_type": "code",
   "execution_count": 563,
   "metadata": {},
   "outputs": [
    {
     "data": {
      "text/plain": [
       "(1608, 2033)"
      ]
     },
     "execution_count": 563,
     "metadata": {},
     "output_type": "execute_result"
    }
   ],
   "source": [
    "pop_sum_array.shape"
   ]
  },
  {
   "cell_type": "code",
   "execution_count": 565,
   "metadata": {},
   "outputs": [
    {
     "data": {
      "text/plain": [
       "<matplotlib.image.AxesImage at 0x7f70d6f9d110>"
      ]
     },
     "execution_count": 565,
     "metadata": {},
     "output_type": "execute_result"
    },
    {
     "data": {
      "image/png": "[encoded data removed]",
      "text/plain": [
       "<Figure size 432x288 with 1 Axes>"
      ]
     },
     "metadata": {
      "needs_background": "light"
     },
     "output_type": "display_data"
    }
   ],
   "source": [
    "plt.imshow(weights)"
   ]
  },
  {
   "cell_type": "code",
   "execution_count": 566,
   "metadata": {},
   "outputs": [],
   "source": [
    "zs_sum_weights = pd.DataFrame(zonal_stats(inB2, weights, affine=pop_raster.transform, stats='sum', nodata=np.nan))"
   ]
  },
  {
   "cell_type": "code",
   "execution_count": 568,
   "metadata": {},
   "outputs": [],
   "source": [
    "inG_data = inG.read(1, masked=False) * 1000\n",
    "# Correct no data values\n",
    "# inG_data[inG_data < 0] = 99999999"
   ]
  },
  {
   "cell_type": "code",
   "execution_count": 569,
   "metadata": {},
   "outputs": [
    {
     "data": {
      "text/plain": [
       "(1608, 2033)"
      ]
     },
     "execution_count": 569,
     "metadata": {},
     "output_type": "execute_result"
    }
   ],
   "source": [
    "inG_data.shape"
   ]
  },
  {
   "cell_type": "code",
   "execution_count": 570,
   "metadata": {},
   "outputs": [],
   "source": [
    "inG_data[inG_data < 0] = np.nan"
   ]
  },
  {
   "cell_type": "code",
   "execution_count": 571,
   "metadata": {},
   "outputs": [
    {
     "data": {
      "text/plain": [
       "nan"
      ]
     },
     "execution_count": 571,
     "metadata": {},
     "output_type": "execute_result"
    }
   ],
   "source": [
    "inG_data.max()"
   ]
  },
  {
   "cell_type": "code",
   "execution_count": 572,
   "metadata": {},
   "outputs": [],
   "source": [
    "data_weighted = weights*inG_data"
   ]
  },
  {
   "cell_type": "code",
   "execution_count": 573,
   "metadata": {},
   "outputs": [],
   "source": [
    "zs_weighted = pd.DataFrame(zonal_stats(inB2, data_weighted, affine=inG.transform, stats='sum', nodata=np.nan)).rename(columns={'sum':'pop weighted average travel time'})"
   ]
  },
  {
   "cell_type": "code",
   "execution_count": 574,
   "metadata": {},
   "outputs": [
    {
     "data": {
      "text/plain": [
       "pop weighted average travel time    83.309463\n",
       "dtype: float64"
      ]
     },
     "execution_count": 574,
     "metadata": {},
     "output_type": "execute_result"
    }
   ],
   "source": [
    "zs_weighted.max()"
   ]
  },
  {
   "cell_type": "code",
   "execution_count": 581,
   "metadata": {},
   "outputs": [],
   "source": [
    "tt_table = inB2[['Province', 'District']].join(zs_avg).join(zs_weighted)"
   ]
  },
  {
   "cell_type": "code",
   "execution_count": 582,
   "metadata": {},
   "outputs": [],
   "source": [
    "tt_table.to_csv(os.path.join(out_folder, \"Average Travel Time.csv\"), index=False)"
   ]
  }
 ],
 "metadata": {
  "kernelspec": {
   "display_name": "GEO",
   "language": "python",
   "name": "geo"
  },
  "language_info": {
   "codemirror_mode": {
    "name": "ipython",
    "version": 3
   },
   "file_extension": ".py",
   "mimetype": "text/x-python",
   "name": "python",
   "nbconvert_exporter": "python",
   "pygments_lexer": "ipython3",
   "version": "3.7.6"
  }
 },
 "nbformat": 4,
 "nbformat_minor": 2
}
