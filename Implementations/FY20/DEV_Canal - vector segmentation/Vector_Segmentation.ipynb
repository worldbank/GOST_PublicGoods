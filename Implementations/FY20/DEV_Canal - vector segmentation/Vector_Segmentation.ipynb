{
 "cells": [
  {
   "cell_type": "code",
   "execution_count": 1,
   "metadata": {},
   "outputs": [],
   "source": [
    "import os, sys, importlib\n",
    "\n",
    "import geopandas as gpd\n",
    "import pandas as pd\n",
    "\n",
    "import shapely.ops\n",
    "from shapely.geometry import Point, LineString\n",
    "from shapely import ops\n",
    "\n",
    "from osgeo import ogr\n"
   ]
  },
  {
   "cell_type": "code",
   "execution_count": 2,
   "metadata": {},
   "outputs": [
    {
     "data": {
      "text/plain": [
       "'C:\\\\Users\\\\lordBen\\\\Documents\\\\GitHub\\\\GOST_PublicGoods\\\\Implementations\\\\Canal - vector segmentation'"
      ]
     },
     "execution_count": 2,
     "metadata": {},
     "output_type": "execute_result"
    }
   ],
   "source": [
    "os.getcwd()"
   ]
  },
  {
   "cell_type": "code",
   "execution_count": 3,
   "metadata": {},
   "outputs": [
    {
     "data": {
      "text/html": [
       "<div>\n",
       "<style scoped>\n",
       "    .dataframe tbody tr th:only-of-type {\n",
       "        vertical-align: middle;\n",
       "    }\n",
       "\n",
       "    .dataframe tbody tr th {\n",
       "        vertical-align: top;\n",
       "    }\n",
       "\n",
       "    .dataframe thead th {\n",
       "        text-align: right;\n",
       "    }\n",
       "</style>\n",
       "<table border=\"1\" class=\"dataframe\">\n",
       "  <thead>\n",
       "    <tr style=\"text-align: right;\">\n",
       "      <th></th>\n",
       "      <th>CHANNEL_NA</th>\n",
       "      <th>CHANNEL_TY</th>\n",
       "      <th>SHAPE_Leng</th>\n",
       "      <th>Head_X</th>\n",
       "      <th>Head_y</th>\n",
       "      <th>Tail_X</th>\n",
       "      <th>Tail_Y</th>\n",
       "      <th>LENGTH</th>\n",
       "      <th>Shape_Le_1</th>\n",
       "      <th>UID</th>\n",
       "      <th>geometry</th>\n",
       "    </tr>\n",
       "  </thead>\n",
       "  <tbody>\n",
       "    <tr>\n",
       "      <th>0</th>\n",
       "      <td>Jandraka Disty</td>\n",
       "      <td>D</td>\n",
       "      <td>29194.000197</td>\n",
       "      <td>73.498880</td>\n",
       "      <td>31.024473</td>\n",
       "      <td>73.259512</td>\n",
       "      <td>30.951668</td>\n",
       "      <td>29194.000197</td>\n",
       "      <td>29194.000197</td>\n",
       "      <td>10008000000</td>\n",
       "      <td>LINESTRING (356722.854 3433281.631, 356407.332...</td>\n",
       "    </tr>\n",
       "    <tr>\n",
       "      <th>1</th>\n",
       "      <td>Jassoki Kalasan Minor</td>\n",
       "      <td>M</td>\n",
       "      <td>5303.319279</td>\n",
       "      <td>73.478236</td>\n",
       "      <td>31.050279</td>\n",
       "      <td>73.433809</td>\n",
       "      <td>31.063130</td>\n",
       "      <td>5303.319279</td>\n",
       "      <td>5303.319279</td>\n",
       "      <td>10008002000</td>\n",
       "      <td>LINESTRING (354791.383 3436168.912, 354793.727...</td>\n",
       "    </tr>\n",
       "    <tr>\n",
       "      <th>2</th>\n",
       "      <td>Baran Pur Minor</td>\n",
       "      <td>M</td>\n",
       "      <td>10890.999684</td>\n",
       "      <td>73.487066</td>\n",
       "      <td>31.040016</td>\n",
       "      <td>73.397662</td>\n",
       "      <td>30.990222</td>\n",
       "      <td>10890.999684</td>\n",
       "      <td>10890.999684</td>\n",
       "      <td>10008001000</td>\n",
       "      <td>LINESTRING (355618.574 3435019.745, 355479.722...</td>\n",
       "    </tr>\n",
       "    <tr>\n",
       "      <th>3</th>\n",
       "      <td>Joya Disty</td>\n",
       "      <td>D</td>\n",
       "      <td>23415.233457</td>\n",
       "      <td>73.516364</td>\n",
       "      <td>31.035883</td>\n",
       "      <td>73.389395</td>\n",
       "      <td>30.879284</td>\n",
       "      <td>23415.233457</td>\n",
       "      <td>23415.233457</td>\n",
       "      <td>10007000000</td>\n",
       "      <td>LINESTRING (358408.692 3434523.990, 358545.533...</td>\n",
       "    </tr>\n",
       "    <tr>\n",
       "      <th>4</th>\n",
       "      <td>Bibi Pur Minor</td>\n",
       "      <td>M</td>\n",
       "      <td>3374.505853</td>\n",
       "      <td>73.458213</td>\n",
       "      <td>30.930921</td>\n",
       "      <td>73.470638</td>\n",
       "      <td>30.902517</td>\n",
       "      <td>3374.505853</td>\n",
       "      <td>3374.505853</td>\n",
       "      <td>10007001000</td>\n",
       "      <td>LINESTRING (352697.238 3422965.144, 353072.296...</td>\n",
       "    </tr>\n",
       "  </tbody>\n",
       "</table>\n",
       "</div>"
      ],
      "text/plain": [
       "              CHANNEL_NA CHANNEL_TY    SHAPE_Leng     Head_X     Head_y  \\\n",
       "0         Jandraka Disty          D  29194.000197  73.498880  31.024473   \n",
       "1  Jassoki Kalasan Minor          M   5303.319279  73.478236  31.050279   \n",
       "2        Baran Pur Minor          M  10890.999684  73.487066  31.040016   \n",
       "3             Joya Disty          D  23415.233457  73.516364  31.035883   \n",
       "4         Bibi Pur Minor          M   3374.505853  73.458213  30.930921   \n",
       "\n",
       "      Tail_X     Tail_Y        LENGTH    Shape_Le_1          UID  \\\n",
       "0  73.259512  30.951668  29194.000197  29194.000197  10008000000   \n",
       "1  73.433809  31.063130   5303.319279   5303.319279  10008002000   \n",
       "2  73.397662  30.990222  10890.999684  10890.999684  10008001000   \n",
       "3  73.389395  30.879284  23415.233457  23415.233457  10007000000   \n",
       "4  73.470638  30.902517   3374.505853   3374.505853  10007001000   \n",
       "\n",
       "                                            geometry  \n",
       "0  LINESTRING (356722.854 3433281.631, 356407.332...  \n",
       "1  LINESTRING (354791.383 3436168.912, 354793.727...  \n",
       "2  LINESTRING (355618.574 3435019.745, 355479.722...  \n",
       "3  LINESTRING (358408.692 3434523.990, 358545.533...  \n",
       "4  LINESTRING (352697.238 3422965.144, 353072.296...  "
      ]
     },
     "execution_count": 3,
     "metadata": {},
     "output_type": "execute_result"
    }
   ],
   "source": [
    "baseFolder = os.path.join(os.getcwd(), \"SampleData\",\"Canals_sample_3\")\n",
    "#This points to the input lines file - points to sample data right now\n",
    "inLines = os.path.join(baseFolder, 'Canals_sample_3.shp')\n",
    "#Enter the folder where you want output created\n",
    "unqID = \"UID\"\n",
    "inL = gpd.read_file(inLines)\n",
    "#inL = inL.to_crs({'init':'epsg:3857'}) #need to project to a CRS with metres \n",
    "inL.head()"
   ]
  },
  {
   "cell_type": "code",
   "execution_count": 4,
   "metadata": {},
   "outputs": [],
   "source": [
    "def generate_subset_line(allCoords, length):\n",
    "    #Generate the \n",
    "    allPts = []\n",
    "    for cIdx in range(0, len(allCoords)):\n",
    "        cPoint = Point(allCoords[cIdx])\n",
    "        allPts.append(cPoint)\n",
    "        if cIdx > 0:\n",
    "            curLine = LineString(allPts)\n",
    "            if curLine.length > length:\n",
    "                break\n",
    "    return(curLine)\n",
    "\n",
    "def getBiggestString(geom):\n",
    "    ''' get the longest segment from multiline string'''\n",
    "    if geom.type != \"MultiLineString\":\n",
    "        return(geom)\n",
    "    longestSection = 0\n",
    "    for x in geom:\n",
    "        if x.length > longestSection:\n",
    "            longest = x\n",
    "            longestSection = x.length\n",
    "    return(longest)"
   ]
  },
  {
   "cell_type": "code",
   "execution_count": 5,
   "metadata": {},
   "outputs": [
    {
     "name": "stderr",
     "output_type": "stream",
     "text": [
      "C:\\Users\\lordBen\\AppData\\Local\\conda\\conda\\envs\\Geog36\\lib\\site-packages\\pandas\\core\\indexing.py:190: SettingWithCopyWarning: \n",
      "A value is trying to be set on a copy of a slice from a DataFrame\n",
      "\n",
      "See the caveats in the documentation: http://pandas.pydata.org/pandas-docs/stable/indexing.html#indexing-view-versus-copy\n",
      "  self._setitem_with_indexer(indexer, value)\n",
      "C:\\Users\\lordBen\\AppData\\Local\\conda\\conda\\envs\\Geog36\\lib\\site-packages\\pandas\\core\\indexing.py:190: SettingWithCopyWarning: \n",
      "A value is trying to be set on a copy of a slice from a DataFrame\n",
      "\n",
      "See the caveats in the documentation: http://pandas.pydata.org/pandas-docs/stable/indexing.html#indexing-view-versus-copy\n",
      "  self._setitem_with_indexer(indexer, value)\n"
     ]
    },
    {
     "name": "stdout",
     "output_type": "stream",
     "text": [
      "10008000000 - 29194.000197278416 - 11696.196811054238 - 5881.21741490273\n",
      "10008002000 - 5303.31927925844 - 2129.0916204691393 - 1066.0262993209142\n"
     ]
    },
    {
     "name": "stderr",
     "output_type": "stream",
     "text": [
      "C:\\Users\\lordBen\\AppData\\Local\\conda\\conda\\envs\\Geog36\\lib\\site-packages\\pandas\\core\\indexing.py:190: SettingWithCopyWarning: \n",
      "A value is trying to be set on a copy of a slice from a DataFrame\n",
      "\n",
      "See the caveats in the documentation: http://pandas.pydata.org/pandas-docs/stable/indexing.html#indexing-view-versus-copy\n",
      "  self._setitem_with_indexer(indexer, value)\n"
     ]
    },
    {
     "name": "stdout",
     "output_type": "stream",
     "text": [
      "10008001000 - 10890.999684395832 - 4358.955907569318 - 2194.2714067931097\n"
     ]
    },
    {
     "name": "stderr",
     "output_type": "stream",
     "text": [
      "C:\\Users\\lordBen\\AppData\\Local\\conda\\conda\\envs\\Geog36\\lib\\site-packages\\pandas\\core\\indexing.py:190: SettingWithCopyWarning: \n",
      "A value is trying to be set on a copy of a slice from a DataFrame\n",
      "\n",
      "See the caveats in the documentation: http://pandas.pydata.org/pandas-docs/stable/indexing.html#indexing-view-versus-copy\n",
      "  self._setitem_with_indexer(indexer, value)\n",
      "C:\\Users\\lordBen\\AppData\\Local\\conda\\conda\\envs\\Geog36\\lib\\site-packages\\pandas\\core\\indexing.py:190: SettingWithCopyWarning: \n",
      "A value is trying to be set on a copy of a slice from a DataFrame\n",
      "\n",
      "See the caveats in the documentation: http://pandas.pydata.org/pandas-docs/stable/indexing.html#indexing-view-versus-copy\n",
      "  self._setitem_with_indexer(indexer, value)\n"
     ]
    },
    {
     "name": "stdout",
     "output_type": "stream",
     "text": [
      "10007000000 - 23415.233456643342 - 9382.162866951683 - 4691.998568546903\n"
     ]
    },
    {
     "name": "stderr",
     "output_type": "stream",
     "text": [
      "C:\\Users\\lordBen\\AppData\\Local\\conda\\conda\\envs\\Geog36\\lib\\site-packages\\pandas\\core\\indexing.py:190: SettingWithCopyWarning: \n",
      "A value is trying to be set on a copy of a slice from a DataFrame\n",
      "\n",
      "See the caveats in the documentation: http://pandas.pydata.org/pandas-docs/stable/indexing.html#indexing-view-versus-copy\n",
      "  self._setitem_with_indexer(indexer, value)\n",
      "C:\\Users\\lordBen\\AppData\\Local\\conda\\conda\\envs\\Geog36\\lib\\site-packages\\pandas\\core\\indexing.py:190: SettingWithCopyWarning: \n",
      "A value is trying to be set on a copy of a slice from a DataFrame\n",
      "\n",
      "See the caveats in the documentation: http://pandas.pydata.org/pandas-docs/stable/indexing.html#indexing-view-versus-copy\n",
      "  self._setitem_with_indexer(indexer, value)\n"
     ]
    },
    {
     "name": "stdout",
     "output_type": "stream",
     "text": [
      "10007001000 - 3374.5058534317172 - 1356.1251774998925 - 679.4910802457425\n",
      "10004000000 - 10748.900010836185 - 4301.186770119129 - 2151.671005960016\n"
     ]
    },
    {
     "name": "stderr",
     "output_type": "stream",
     "text": [
      "C:\\Users\\lordBen\\AppData\\Local\\conda\\conda\\envs\\Geog36\\lib\\site-packages\\pandas\\core\\indexing.py:190: SettingWithCopyWarning: \n",
      "A value is trying to be set on a copy of a slice from a DataFrame\n",
      "\n",
      "See the caveats in the documentation: http://pandas.pydata.org/pandas-docs/stable/indexing.html#indexing-view-versus-copy\n",
      "  self._setitem_with_indexer(indexer, value)\n"
     ]
    },
    {
     "name": "stdout",
     "output_type": "stream",
     "text": [
      "10004003000 - 9499.765000104599 - 3800.925084457017 - 1905.2551752496884\n",
      "10004002000 - 7182.148791502585 - 2877.8626064064674 - 1446.496531966086\n"
     ]
    },
    {
     "name": "stderr",
     "output_type": "stream",
     "text": [
      "C:\\Users\\lordBen\\AppData\\Local\\conda\\conda\\envs\\Geog36\\lib\\site-packages\\pandas\\core\\indexing.py:190: SettingWithCopyWarning: \n",
      "A value is trying to be set on a copy of a slice from a DataFrame\n",
      "\n",
      "See the caveats in the documentation: http://pandas.pydata.org/pandas-docs/stable/indexing.html#indexing-view-versus-copy\n",
      "  self._setitem_with_indexer(indexer, value)\n",
      "C:\\Users\\lordBen\\AppData\\Local\\conda\\conda\\envs\\Geog36\\lib\\site-packages\\pandas\\core\\indexing.py:190: SettingWithCopyWarning: \n",
      "A value is trying to be set on a copy of a slice from a DataFrame\n",
      "\n",
      "See the caveats in the documentation: http://pandas.pydata.org/pandas-docs/stable/indexing.html#indexing-view-versus-copy\n",
      "  self._setitem_with_indexer(indexer, value)\n"
     ]
    },
    {
     "name": "stdout",
     "output_type": "stream",
     "text": [
      "10002000000 - 2727.874758420922 - 1095.994347697433 - 548.753097128461\n"
     ]
    },
    {
     "name": "stderr",
     "output_type": "stream",
     "text": [
      "C:\\Users\\lordBen\\AppData\\Local\\conda\\conda\\envs\\Geog36\\lib\\site-packages\\pandas\\core\\indexing.py:190: SettingWithCopyWarning: \n",
      "A value is trying to be set on a copy of a slice from a DataFrame\n",
      "\n",
      "See the caveats in the documentation: http://pandas.pydata.org/pandas-docs/stable/indexing.html#indexing-view-versus-copy\n",
      "  self._setitem_with_indexer(indexer, value)\n"
     ]
    },
    {
     "name": "stdout",
     "output_type": "stream",
     "text": [
      "10001000000 - 2023.0671497643157 - 811.2952841855997 - 405.5473061745798\n",
      "10004001000 - 4135.282115430735 - 1654.7020939983956 - 832.0573397305884\n"
     ]
    },
    {
     "name": "stderr",
     "output_type": "stream",
     "text": [
      "C:\\Users\\lordBen\\AppData\\Local\\conda\\conda\\envs\\Geog36\\lib\\site-packages\\pandas\\core\\indexing.py:190: SettingWithCopyWarning: \n",
      "A value is trying to be set on a copy of a slice from a DataFrame\n",
      "\n",
      "See the caveats in the documentation: http://pandas.pydata.org/pandas-docs/stable/indexing.html#indexing-view-versus-copy\n",
      "  self._setitem_with_indexer(indexer, value)\n"
     ]
    },
    {
     "name": "stdout",
     "output_type": "stream",
     "text": [
      "10005000000 - 3695.6605096609437 - 1480.2722944689579 - 741.0842639849272\n"
     ]
    },
    {
     "name": "stderr",
     "output_type": "stream",
     "text": [
      "C:\\Users\\lordBen\\AppData\\Local\\conda\\conda\\envs\\Geog36\\lib\\site-packages\\pandas\\core\\indexing.py:190: SettingWithCopyWarning: \n",
      "A value is trying to be set on a copy of a slice from a DataFrame\n",
      "\n",
      "See the caveats in the documentation: http://pandas.pydata.org/pandas-docs/stable/indexing.html#indexing-view-versus-copy\n",
      "  self._setitem_with_indexer(indexer, value)\n",
      "C:\\Users\\lordBen\\AppData\\Local\\conda\\conda\\envs\\Geog36\\lib\\site-packages\\pandas\\core\\indexing.py:190: SettingWithCopyWarning: \n",
      "A value is trying to be set on a copy of a slice from a DataFrame\n",
      "\n",
      "See the caveats in the documentation: http://pandas.pydata.org/pandas-docs/stable/indexing.html#indexing-view-versus-copy\n",
      "  self._setitem_with_indexer(indexer, value)\n"
     ]
    },
    {
     "name": "stdout",
     "output_type": "stream",
     "text": [
      "10006000000 - 8535.470579116549 - 3420.645927682937 - 1716.041535760671\n",
      "10006001000 - 3799.052380245794 - 1523.4508627133775 - 766.2408423354384\n"
     ]
    }
   ],
   "source": [
    "start = []\n",
    "middle = []\n",
    "end = []\n",
    "riverNameColumn = unqID\n",
    "inL['startPer'] = 0\n",
    "inL['endPer'] = 0\n",
    "for idx, row in inL.iterrows():\n",
    "    x = row['geometry']\n",
    "    if x.geom_type == 'MultiLineString':\n",
    "        x = ops.linemerge(x)\n",
    "    x = ogr.CreateGeometryFromWkt(x.wkt)\n",
    "    if x.GetGeometryType() == 2:\n",
    "        totalLength = x.Length()\n",
    "        x.Segmentize(round(totalLength/500))    \n",
    "        startLength = totalLength * 0.4\n",
    "        endLength   = totalLength * 0.2\n",
    "        allCoords = list(x.GetPoints())\n",
    "\n",
    "        startLen = generate_subset_line(allCoords, startLength)\n",
    "        allCoords.reverse()\n",
    "        endLen   = generate_subset_line(allCoords, endLength)\n",
    "        \n",
    "        middleGeom = row['geometry'].difference(startLen.buffer(0.001,cap_style=2)).difference(endLen.buffer(0.001,cap_style=2))\n",
    "        middleGeom = getBiggestString(middleGeom)\n",
    "        \n",
    "        start.append([row[riverNameColumn], startLen])\n",
    "        end.append([row[riverNameColumn], endLen])\n",
    "        middle.append([row[riverNameColumn], middleGeom])\n",
    "        \n",
    "        inL['startPer'].loc[idx] = startLen.length/totalLength\n",
    "        inL['endPer'].loc[idx] = endLen.length/totalLength\n",
    "        inL['geometry'].loc[idx] = LineString(allCoords)\n",
    "        \n",
    "        print(\"%s - %s - %s - %s\" % (row[riverNameColumn], x.Length(), startLen.length, endLen.length))\n",
    "    else:\n",
    "        break\n",
    "startDF = pd.DataFrame(start, columns=[\"NAME\", \"GEOM\"])\n",
    "endDF = pd.DataFrame(end,  columns=[\"NAME\", \"GEOM\"])\n",
    "middleDF = pd.DataFrame(middle, columns=[\"NAME\", \"GEOM\"])"
   ]
  },
  {
   "cell_type": "code",
   "execution_count": 6,
   "metadata": {},
   "outputs": [],
   "source": [
    "from shapely.wkt import loads\n",
    "\n",
    "startDF_geom = startDF['GEOM']\n",
    "startDF = startDF.drop(['GEOM'], axis=1)\n",
    "startGDF = gpd.GeoDataFrame(startDF, geometry=startDF_geom, crs=inL.crs)\n",
    "\n",
    "endDF_geom = endDF['GEOM']\n",
    "endDF = endDF.drop(['GEOM'], axis=1)\n",
    "endGDF = gpd.GeoDataFrame(endDF, geometry=endDF_geom, crs=inL.crs)\n",
    "\n",
    "middleDF_geom = middleDF['GEOM']\n",
    "middleDF = middleDF.drop(['GEOM'], axis=1)\n",
    "middleDF = gpd.GeoDataFrame(middleDF, geometry=middleDF_geom, crs=inL.crs)\n"
   ]
  },
  {
   "cell_type": "code",
   "execution_count": 7,
   "metadata": {},
   "outputs": [],
   "source": [
    "'''startDF.to_csv(os.path.join(baseFolder,\"canal_starts.csv\"))\n",
    "endDF.to_csv(os.path.join(baseFolder,\"canal_ends.csv\"))\n",
    "inL.to_csv(os.path.join(baseFolder,\"canals_with_length.csv\"))\n",
    "'''\n",
    "startGDF.to_file(os.path.join(baseFolder,\"canal_starts.shp\"))\n",
    "endGDF.to_file(os.path.join(baseFolder,\"canal_ends.shp\"))\n",
    "middleDF.to_file(os.path.join(baseFolder,\"canal_middles.shp\"))\n",
    "inL.to_file(os.path.join(baseFolder,\"canal_with_length.shp\"))"
   ]
  },
  {
   "cell_type": "markdown",
   "metadata": {},
   "source": [
    "# Buffering and clipping\n",
    "For each start and end segment, the feature needs to be buffered, but the buffer needs to be limited to not cover anything covered by other canals"
   ]
  },
  {
   "cell_type": "code",
   "execution_count": 25,
   "metadata": {},
   "outputs": [],
   "source": [
    "bufferDist = 1000 # metres\n",
    "bufferSet = startDF # endDF\n",
    "clipBuffers = False\n",
    "\n",
    "for bufferSet, outName in [[startDF, 'canal_start_buffered_clipped'],[endDF, 'canal_end_buffered_clipped']]:\n",
    "    bufferSet['GEOM2'] = ''\n",
    "    outFile = os.path.join(baseFolder,\"%s.shp\" % outName)\n",
    "    for idx, row in bufferSet.iterrows():\n",
    "        curName = row['NAME']\n",
    "        curShape = row['geometry']        \n",
    "        bufferShape = curShape.buffer(bufferDist, cap_style=2, join_style=2, mitre_limit=1000000)\n",
    "\n",
    "        if clipBuffers:\n",
    "            #Select canals that intersect current buffered shape\n",
    "            intersecting_canals = inL[inL.intersects(bufferShape)]\n",
    "            if intersecting_canals.shape[0] > 1:\n",
    "                intersecting_canals = intersecting_canals[intersecting_canals[riverNameColumn] != curName]        \n",
    "                for selCanal in intersecting_canals['geometry']:\n",
    "                    xx = shapely.ops.split(bufferShape, selCanal)\n",
    "                    maxArea = 0            \n",
    "                    selArea = None\n",
    "                    for x in xx:\n",
    "                        if x.area > maxArea:\n",
    "                            maxArea = x.area\n",
    "                            selArea = x\n",
    "                    bufferShape = selArea\n",
    "        bufferSet['GEOM2'].iloc[idx] = bufferShape\n",
    "    bufferSet_geom = bufferSet['GEOM2']\n",
    "    bufferSetGDF = bufferSet.drop('GEOM2', axis=1)\n",
    "    try:\n",
    "        bufferSetGDF = bufferSetGDF.drop('GEOM', axis=1)\n",
    "    except:\n",
    "        pass\n",
    "    bufferSetGDF = gpd.GeoDataFrame(bufferSetGDF, geometry=bufferSet_geom, crs=inL.crs)\n",
    "    bufferSetGDF.to_file(outFile)\n",
    "    #bufferSet.to_csv(outFile)"
   ]
  },
  {
   "cell_type": "code",
   "execution_count": 11,
   "metadata": {},
   "outputs": [],
   "source": [
    "curShape.buffer?"
   ]
  }
 ],
 "metadata": {
  "kernelspec": {
   "display_name": "Python (geog)",
   "language": "python",
   "name": "geog36"
  },
  "language_info": {
   "codemirror_mode": {
    "name": "ipython",
    "version": 3
   },
   "file_extension": ".py",
   "mimetype": "text/x-python",
   "name": "python",
   "nbconvert_exporter": "python",
   "pygments_lexer": "ipython3",
   "version": "3.6.6"
  }
 },
 "nbformat": 4,
 "nbformat_minor": 2
}
