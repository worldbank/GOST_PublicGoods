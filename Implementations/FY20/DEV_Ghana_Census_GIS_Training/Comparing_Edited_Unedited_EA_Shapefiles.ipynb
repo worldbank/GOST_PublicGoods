{
 "cells": [
  {
   "cell_type": "markdown",
   "metadata": {},
   "source": [
    "# Exploring EA editing\n",
    "\n",
    "The editing process happens once EAS have been successfully digitized, and coding has occured (on paper). The editing process is the reconciliation of the paper coding efforts with the digital data. It involves a combination of manual data entry with some geospatial comparisons"
   ]
  },
  {
   "cell_type": "code",
   "execution_count": 1,
   "metadata": {},
   "outputs": [],
   "source": [
    "import os, sys\n",
    "\n",
    "import geopandas as gpd"
   ]
  },
  {
   "cell_type": "code",
   "execution_count": 2,
   "metadata": {},
   "outputs": [],
   "source": [
    "# I chose two shapefiles at random that were edited and non-edited\n",
    "editedShape = r\"C:\\Users\\WB411133\\OneDrive - WBG\\AAA_BPS\\GOST\\Projects\\Ghana_Census_Support\\Data\\GSS_Data\\EDITED_DISTRICTS\\2020 GUSHIEGU\\TYPE 2\\gushiegu final1.shp\"\n",
    "uneditedShape = r\"C:\\Users\\WB411133\\OneDrive - WBG\\AAA_BPS\\GOST\\Projects\\Ghana_Census_Support\\Data\\GSS_Data\\UNEDITED_DSITRICTS\\2020 KORLE KLOTTEY\\2020_KORLE_KLOTTEY_FINAL.shp\"\n",
    "\n",
    "inE = gpd.read_file(editedShape)\n",
    "inU = gpd.read_file(uneditedShape)"
   ]
  },
  {
   "cell_type": "markdown",
   "metadata": {},
   "source": [
    "### Investigating columns\n",
    "The edited dataset has many more columns than the unedited dataset, as exepcted. The goal of this exercise is to identify which aspects of this column creation can be handled in a model."
   ]
  },
  {
   "cell_type": "code",
   "execution_count": 3,
   "metadata": {},
   "outputs": [
    {
     "data": {
      "text/plain": [
       "Index(['SP_ID', 'GEOMETRY_S', 'ID1', 'EST_POP', 'Z00_EA_COD', 'REG_NAME',\n",
       "       'DIST_CODE', 'FID_1', 'DIST_NAME', 'TYP', 'LOC_NAME', 'BASE_NAM',\n",
       "       'Z010_EA_CO', 'SA', 'EA_NUM', 'AGRIC_ZONE', 'LOC_NO', '20_PROV_CO',\n",
       "       '20_REG_NAM', '20_DIS_NAM', '20_EA_TYP', '20_BASE_N', '20_LOCAL',\n",
       "       '20_EST_POP', 'SPECIAL', '20_DIS_COD', '20_DIS_TYP', '20_LOC_TYP',\n",
       "       '20_LOC_NO', '20_EA_NO', '20_EA_CODE', '20_SA_NO', 'ORIENT',\n",
       "       'geometry'],\n",
       "      dtype='object')"
      ]
     },
     "execution_count": 3,
     "metadata": {},
     "output_type": "execute_result"
    }
   ],
   "source": [
    "inE.columns"
   ]
  },
  {
   "cell_type": "code",
   "execution_count": 4,
   "metadata": {},
   "outputs": [
    {
     "data": {
      "text/plain": [
       "Index(['SP_ID', 'GEOMETRY_S', 'ID1', 'EST_POP', 'REG_NAME', 'DIST_CODE',\n",
       "       'DIST_NAME', 'Z00_EA_COD', 'TYP', 'LOC_NAME', 'Z010_EA_CO', 'BASE_NAM',\n",
       "       'FID_1', 'SA', 'AGRIC_ZONE', 'LOC_NUM', 'EA_NO_', 'Z020_PROV',\n",
       "       'Z020_LOC', 'Z020_BASE', 'Z020_TYPE', 'Z020_EST_P', 'Z020_EA',\n",
       "       'SPECIAL', 'Z020_SA_', 'Z020_REGIO', 'geometry'],\n",
       "      dtype='object')"
      ]
     },
     "execution_count": 4,
     "metadata": {},
     "output_type": "execute_result"
    }
   ],
   "source": [
    "inU.columns"
   ]
  },
  {
   "cell_type": "code",
   "execution_count": 5,
   "metadata": {},
   "outputs": [
    {
     "data": {
      "text/plain": [
       "['LOC_NUM',\n",
       " 'EA_NO_',\n",
       " 'Z020_PROV',\n",
       " 'Z020_LOC',\n",
       " 'Z020_BASE',\n",
       " 'Z020_TYPE',\n",
       " 'Z020_EST_P',\n",
       " 'Z020_EA',\n",
       " 'Z020_SA_',\n",
       " 'Z020_REGIO']"
      ]
     },
     "execution_count": 5,
     "metadata": {},
     "output_type": "execute_result"
    }
   ],
   "source": [
    "# These are the columns in the unedited dataset that are not present in edited\n",
    "new_unedited_columns = [x for x in list(inU.columns) if not x in list(inE.columns)]\n",
    "new_unedited_columns"
   ]
  },
  {
   "cell_type": "code",
   "execution_count": 6,
   "metadata": {},
   "outputs": [
    {
     "data": {
      "text/plain": [
       "['EA_NUM',\n",
       " 'LOC_NO',\n",
       " '20_PROV_CO',\n",
       " '20_REG_NAM',\n",
       " '20_DIS_NAM',\n",
       " '20_EA_TYP',\n",
       " '20_BASE_N',\n",
       " '20_LOCAL',\n",
       " '20_EST_POP',\n",
       " '20_DIS_COD',\n",
       " '20_DIS_TYP',\n",
       " '20_LOC_TYP',\n",
       " '20_LOC_NO',\n",
       " '20_EA_NO',\n",
       " '20_EA_CODE',\n",
       " '20_SA_NO',\n",
       " 'ORIENT']"
      ]
     },
     "execution_count": 6,
     "metadata": {},
     "output_type": "execute_result"
    }
   ],
   "source": [
    "# These are the columns in the edited dataset that are not present in unedited\n",
    "new_edited_columns = [x for x in list(inE.columns) if not x in list(inU.columns)]\n",
    "new_edited_columns"
   ]
  },
  {
   "cell_type": "code",
   "execution_count": 7,
   "metadata": {},
   "outputs": [
    {
     "data": {
      "text/plain": [
       "['EA_NUM',\n",
       " 'LOC_NO',\n",
       " '20_EST_POP',\n",
       " '20_PROV_CO',\n",
       " '20_BASE_N',\n",
       " '20_EA_TYP',\n",
       " '20_LOC_TYP',\n",
       " '20_REG_NAM',\n",
       " '20_LOC_NO',\n",
       " '20_LOCAL',\n",
       " '20_EA_NO',\n",
       " '20_SA_NO',\n",
       " '20_DIS_NAM',\n",
       " '20_DIS_COD',\n",
       " '20_DIS_TYP',\n",
       " '20_EA_CODE',\n",
       " 'ORIENT']"
      ]
     },
     "execution_count": 7,
     "metadata": {},
     "output_type": "execute_result"
    }
   ],
   "source": [
    "['EA_NUM',     # RENAME\n",
    " 'LOC_NO',     # RENAME\n",
    " '20_EST_POP', # RENAME       # Estimated Population\n",
    " '20_PROV_CO', # RENAME       # Provisional EA Code from the field\n",
    " '20_BASE_N',  # RENAME       # EA Name\n",
    " '20_EA_TYP',  # RENAME       # EA TYPE\n",
    " '20_LOC_TYP', # RENAME       # Locality type - 1 - urban 2 - rural\n",
    " \n",
    " '20_REG_NAM', # MANUAL       # REGION NAME  \n",
    " '20_LOC_NO',  # MANUAL       # Locality Number - number of localities in area\n",
    " '20_LOCAL',   # MANUAL       # Same as 20_BASE_N\n",
    " '20_EA_NO',   # MANUAL       # EA Number\n",
    " '20_SA_NO',   # MANUAL       # SA number\n",
    " '20_DIS_NAM', # MANUAL       # DISTRICT NAME\n",
    " '20_DIS_COD', # JOIN         # District Code\n",
    " '20_DIS_TYP', # JOIN         # District Type\n",
    " '20_EA_CODE', # CONCATENATED # Complete EA CODE - REGION + DISTRICT + DISTRICTTYPE + EA\n",
    " 'ORIENT']     # WB           # My estimate of portrait v landscape for the EA"
   ]
  },
  {
   "cell_type": "markdown",
   "metadata": {},
   "source": [
    "# Steps to perform editing\n",
    "\n",
    "1. Add final fields\n",
    "2. Populate rename fields\n",
    "\n",
    "### Manual data entry\n",
    "\n",
    "### Locality verification\n",
    "\n",
    "### Google Earth comparison\n",
    "\n",
    "1. Concatanate final EA code\n",
    "2. Perform SA dissolve - this is actually a locality dissolve!\n"
   ]
  },
  {
   "cell_type": "code",
   "execution_count": null,
   "metadata": {},
   "outputs": [],
   "source": []
  }
 ],
 "metadata": {
  "kernelspec": {
   "display_name": "Python (geog)",
   "language": "python",
   "name": "geog"
  },
  "language_info": {
   "codemirror_mode": {
    "name": "ipython",
    "version": 3
   },
   "file_extension": ".py",
   "mimetype": "text/x-python",
   "name": "python",
   "nbconvert_exporter": "python",
   "pygments_lexer": "ipython3",
   "version": "3.6.7"
  }
 },
 "nbformat": 4,
 "nbformat_minor": 2
}
