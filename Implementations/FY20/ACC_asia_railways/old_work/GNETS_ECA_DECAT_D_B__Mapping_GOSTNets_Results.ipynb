{
 "cells": [
  {
   "cell_type": "code",
   "execution_count": 2,
   "metadata": {},
   "outputs": [],
   "source": [
    "import sys, os, inspect, logging, importlib\n",
    "\n",
    "import geopandas as gpd\n",
    "import pandas as pd\n",
    "import numpy as np\n",
    "import osmnx as ox\n",
    "import networkx as nx\n",
    "\n",
    "import matplotlib.pyplot as plt\n",
    "\n",
    "sys.path.append(r'../../GOSTNets/GOSTNets')\n",
    "import GOSTnet as gn\n",
    "\n",
    "from shapely.geometry import Point, LineString"
   ]
  },
  {
   "cell_type": "code",
   "execution_count": 60,
   "metadata": {},
   "outputs": [],
   "source": [
    "scenario_var = \"_scenario1\"\n",
    "cost_attr = 'cost'\n",
    "res_folder = r\"C:\\Work\\Code\\GOST_PublicGoods\\Implementations\\asia_railways\"\n",
    "G_pickle  = os.path.join(res_folder, \"cleaned_network.pickle\")\n",
    "\n",
    "#Output files\n",
    "complete_volume_map = os.path.join(res_folder, \"complete_equal_volume_map.csv\")\n",
    "trade_volume_map = os.path.join(res_folder, \"trade_volume_map.csv\")\n",
    "\n",
    "#Read in and process input data\n",
    "edges_geography = r\"S:/REGIONAL/ECA/Projects/Rail_Network_Mapping/data/edges.shp\"\n",
    "edges_data = gpd.read_file(edges_geography)\n",
    "\n",
    "nodes_geography = r\"S:/REGIONAL/ECA/Projects/Rail_Network_Mapping/data/rail_nodes.csv\"\n",
    "nodes_data = pd.read_csv(nodes_geography)\n",
    "nodes_data['Point'] = [Point(x, y) for x, y in zip(nodes_data['X'],nodes_data['Y'])]\n",
    "nodes_data['node_id'] = nodes_data['node_id'].astype(str)\n",
    "\n",
    "OD_df = pd.read_csv(os.path.join(res_folder, \"asia_railways_output_OD_matrix{}.csv\".format(scenario_var)), index_col=0)\n",
    "G = nx.read_gpickle(G_pickle)\n",
    "\n",
    "trade_flows = pd.read_csv(os.path.join(res_folder, \"trade_flows_v1.csv\"))"
   ]
  },
  {
   "cell_type": "markdown",
   "metadata": {},
   "source": [
    "# Map network volume based on ALL least-cost trips"
   ]
  },
  {
   "cell_type": "code",
   "execution_count": 19,
   "metadata": {},
   "outputs": [],
   "source": [
    "def tabulate_edges(route):\n",
    "    edge_table = []\n",
    "    for idx in range(0, len(route) - 1):\n",
    "        edge_table.append([route[idx], route[idx+1]])\n",
    "    return(edge_table)\n",
    "\n",
    "def get_route(route, nodes_data):\n",
    "    all_nodes = []\n",
    "    for x in route:\n",
    "        try:\n",
    "            cur_node = nodes_data.loc[nodes_data['node_id'] == x]\n",
    "            all_nodes.append(Point(cur_node.X, cur_node.Y))\n",
    "        except:\n",
    "            pass\n",
    "    if len(all_nodes) > 1:\n",
    "        return(LineString(all_nodes))\n",
    "    else:\n",
    "        return(None)"
   ]
  },
  {
   "cell_type": "code",
   "execution_count": 34,
   "metadata": {},
   "outputs": [],
   "source": [
    "all_res = []\n",
    "complete_edges = []\n",
    "for origin, row in OD_df.iterrows():    \n",
    "    for destination, value in row.items():\n",
    "        try:\n",
    "            origin = int(origin)\n",
    "        except:\n",
    "            pass\n",
    "        try:\n",
    "            destination = int(destination)\n",
    "        except:\n",
    "            pass\n",
    "        route = nx.bidirectional_shortest_path(G, origin, destination)\n",
    "        edge_table = tabulate_edges(route)\n",
    "        complete_edges = complete_edges + edge_table \n",
    "        #all_res.append([origin, destination, get_route(route, nodes_data)])\n"
   ]
  },
  {
   "cell_type": "code",
   "execution_count": 37,
   "metadata": {},
   "outputs": [],
   "source": [
    "complete = pd.DataFrame(complete_edges, columns=['o', 'd'])\n",
    "complete['w'] = 1\n",
    "complete_count = pd.DataFrame(complete.groupby(['o','d']).count())\n",
    "complete_count.reset_index(inplace=True)\n",
    "complete_count['o'] = complete_count['o'].astype(str)\n",
    "complete_count['d'] = complete_count['d'].astype(str)\n",
    "complete_count = pd.merge(complete_count, nodes_data.loc[:,['node_id','Point']], left_on='o', right_on='node_id')\n",
    "complete_count = pd.merge(complete_count, nodes_data.loc[:,['node_id','Point']], left_on='d', right_on='node_id')\n",
    "complete_count['geometry'] = [LineString([x,y]) for x, y in zip(complete_count['Point_x'], complete_count[\"Point_y\"])]\n",
    "complete_count = complete_count.loc[:,['o','d','w','geometry']]\n",
    "complete_count.to_csv(complete_volume_map)"
   ]
  },
  {
   "cell_type": "markdown",
   "metadata": {},
   "source": [
    "# Map specific routes with trade flows"
   ]
  },
  {
   "cell_type": "code",
   "execution_count": 55,
   "metadata": {},
   "outputs": [],
   "source": [
    "trade_flows = pd.read_csv(os.path.join(res_folder, \"trade_flows_v1.csv\"))\n",
    "complete_edges = []\n",
    "for idx, row in trade_flows.iterrows():    \n",
    "    origin = row['Node number']\n",
    "    destination = row['Node Number']\n",
    "    route = nx.bidirectional_shortest_path(G, origin, destination)\n",
    "    edge_table = tabulate_edges(route)\n",
    "    [x.append(int(row['Trade volume'].replace(\",\", \"\"))) for x in edge_table]\n",
    "    complete_edges = complete_edges + edge_table \n"
   ]
  },
  {
   "cell_type": "code",
   "execution_count": 61,
   "metadata": {},
   "outputs": [],
   "source": [
    "complete = pd.DataFrame(complete_edges, columns=['o', 'd', 'w'])\n",
    "complete_count = pd.DataFrame(complete.groupby(['o','d']).sum())\n",
    "complete_count.reset_index(inplace=True)\n",
    "complete_count['o'] = complete_count['o'].astype(str)\n",
    "complete_count['d'] = complete_count['d'].astype(str)\n",
    "complete_count = pd.merge(complete_count, nodes_data.loc[:,['node_id','Point']], left_on='o', right_on='node_id')\n",
    "complete_count = pd.merge(complete_count, nodes_data.loc[:,['node_id','Point']], left_on='d', right_on='node_id')\n",
    "complete_count['geometry'] = [LineString([x,y]) for x, y in zip(complete_count['Point_x'], complete_count[\"Point_y\"])]\n",
    "complete_count = complete_count.loc[:,['o','d','w','geometry']]\n",
    "complete_count.to_csv(trade_volume_map)"
   ]
  },
  {
   "cell_type": "code",
   "execution_count": null,
   "metadata": {},
   "outputs": [],
   "source": []
  }
 ],
 "metadata": {
  "kernelspec": {
   "display_name": "Python 3",
   "language": "python",
   "name": "python3"
  },
  "language_info": {
   "codemirror_mode": {
    "name": "ipython",
    "version": 3
   },
   "file_extension": ".py",
   "mimetype": "text/x-python",
   "name": "python",
   "nbconvert_exporter": "python",
   "pygments_lexer": "ipython3",
   "version": "3.6.7"
  }
 },
 "nbformat": 4,
 "nbformat_minor": 2
}
