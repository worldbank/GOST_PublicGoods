{
 "cells": [
  {
   "cell_type": "markdown",
   "metadata": {},
   "source": [
    "# Travel Times for Asia Railways\n",
    "\n",
    "This project takes in input edges and border nodes from spreadsheets and constructs travel times in an OD Matrix (origin-destination matrix) format.\n",
    "\n",
    "## Assumptions:\n",
    "\n",
    "- edges are bidirectional\n",
    "- each node in the network is a potential origin and destination\n",
    "\n",
    "## input data:\n",
    "\n",
    "- edges have these fields: source, target, link_id, length (km), time (hours)\n",
    "- nodes have these fields: node_id, name, country, border, gauge_change, if_border_is_an_origin_or_destination\n",
    "\n",
    "The time cost found in the input data will be converted to a USD per tonnage cost. This is converted using the value of time per ton in USD, which is .102704. This value can be adjusted by modifying the value_of_time_per_ton_in_usd variable.\n",
    "\n",
    "There are also 2 other ways costs are adjusted in this project:\n",
    "\n",
    "1. Border costs: There are additional costs for borders. Also some borders have a gauge change. A gauge change is an additional time and monetary cost on top of the standard border crossing time and cost.\n",
    "\n",
    "2. Access links: The network only has rail links, so the access distance represents the average road distance to reach the rail network's origins and destinations. For now we are adding 50km access links with a speed of 30 km/hr. Therefore 1.67 hours to traverse each access link, with a value of time per ton in USD of .102704, the cost is 0.17117 USD per ton per access link.\n",
    "\n",
    "border cost assumptions:\n",
    "\n",
    "- each border crossing has a time of 4 hours and a cost of 20 USD per ton\n",
    "- each gauge change has a time of 12 hours and a cost of 10 USD per ton\n",
    "\n",
    "Other project assumptions:\n",
    "\n",
    "- A border node can be either a potential origin or destination, but not both.\n"
   ]
  },
  {
   "cell_type": "code",
   "execution_count": 343,
   "metadata": {},
   "outputs": [],
   "source": [
    "import sys, os, inspect, logging, importlib\n",
    "\n",
    "import geopandas as gpd\n",
    "import pandas as pd\n",
    "import numpy as np\n",
    "import osmnx as ox\n",
    "import networkx as nx\n",
    "\n",
    "import matplotlib.pyplot as plt"
   ]
  },
  {
   "cell_type": "code",
   "execution_count": 344,
   "metadata": {},
   "outputs": [],
   "source": [
    "# Get reference to GOSTNets\n",
    "sys.path.append(r'../../GOSTNets/GOSTNets')\n",
    "import GOSTnet as gn"
   ]
  },
  {
   "cell_type": "code",
   "execution_count": 345,
   "metadata": {},
   "outputs": [],
   "source": [
    "# Define input data\n",
    "inputFolder = r'./input_folder'\n",
    "input_edges = pd.read_csv(os.path.join(inputFolder, \"edges.csv\"))"
   ]
  },
  {
   "cell_type": "code",
   "execution_count": 346,
   "metadata": {},
   "outputs": [
    {
     "data": {
      "text/html": [
       "<div>\n",
       "<style scoped>\n",
       "    .dataframe tbody tr th:only-of-type {\n",
       "        vertical-align: middle;\n",
       "    }\n",
       "\n",
       "    .dataframe tbody tr th {\n",
       "        vertical-align: top;\n",
       "    }\n",
       "\n",
       "    .dataframe thead th {\n",
       "        text-align: right;\n",
       "    }\n",
       "</style>\n",
       "<table border=\"1\" class=\"dataframe\">\n",
       "  <thead>\n",
       "    <tr style=\"text-align: right;\">\n",
       "      <th></th>\n",
       "      <th>source</th>\n",
       "      <th>target</th>\n",
       "      <th>link_id</th>\n",
       "      <th>length</th>\n",
       "      <th>time</th>\n",
       "    </tr>\n",
       "  </thead>\n",
       "  <tbody>\n",
       "    <tr>\n",
       "      <th>0</th>\n",
       "      <td>38</td>\n",
       "      <td>69</td>\n",
       "      <td>1</td>\n",
       "      <td>1304</td>\n",
       "      <td>28.977778</td>\n",
       "    </tr>\n",
       "    <tr>\n",
       "      <th>1</th>\n",
       "      <td>38</td>\n",
       "      <td>70</td>\n",
       "      <td>2</td>\n",
       "      <td>174</td>\n",
       "      <td>3.866667</td>\n",
       "    </tr>\n",
       "    <tr>\n",
       "      <th>2</th>\n",
       "      <td>36</td>\n",
       "      <td>70</td>\n",
       "      <td>3</td>\n",
       "      <td>259</td>\n",
       "      <td>10.360000</td>\n",
       "    </tr>\n",
       "    <tr>\n",
       "      <th>3</th>\n",
       "      <td>5</td>\n",
       "      <td>36</td>\n",
       "      <td>4</td>\n",
       "      <td>45</td>\n",
       "      <td>1.800000</td>\n",
       "    </tr>\n",
       "    <tr>\n",
       "      <th>4</th>\n",
       "      <td>25</td>\n",
       "      <td>5</td>\n",
       "      <td>5</td>\n",
       "      <td>77</td>\n",
       "      <td>2.200000</td>\n",
       "    </tr>\n",
       "    <tr>\n",
       "      <th>...</th>\n",
       "      <td>...</td>\n",
       "      <td>...</td>\n",
       "      <td>...</td>\n",
       "      <td>...</td>\n",
       "      <td>...</td>\n",
       "    </tr>\n",
       "    <tr>\n",
       "      <th>96</th>\n",
       "      <td>36</td>\n",
       "      <td>49</td>\n",
       "      <td>104</td>\n",
       "      <td>22</td>\n",
       "      <td>0.880000</td>\n",
       "    </tr>\n",
       "    <tr>\n",
       "      <th>97</th>\n",
       "      <td>50</td>\n",
       "      <td>25</td>\n",
       "      <td>105</td>\n",
       "      <td>113</td>\n",
       "      <td>4.520000</td>\n",
       "    </tr>\n",
       "    <tr>\n",
       "      <th>98</th>\n",
       "      <td>33</td>\n",
       "      <td>79</td>\n",
       "      <td>106</td>\n",
       "      <td>460</td>\n",
       "      <td>46.000000</td>\n",
       "    </tr>\n",
       "    <tr>\n",
       "      <th>99</th>\n",
       "      <td>79</td>\n",
       "      <td>80</td>\n",
       "      <td>107</td>\n",
       "      <td>257</td>\n",
       "      <td>25.700000</td>\n",
       "    </tr>\n",
       "    <tr>\n",
       "      <th>100</th>\n",
       "      <td>80</td>\n",
       "      <td>81</td>\n",
       "      <td>108</td>\n",
       "      <td>722</td>\n",
       "      <td>28.880000</td>\n",
       "    </tr>\n",
       "  </tbody>\n",
       "</table>\n",
       "<p>101 rows × 5 columns</p>\n",
       "</div>"
      ],
      "text/plain": [
       "     source  target  link_id  length       time\n",
       "0        38      69        1    1304  28.977778\n",
       "1        38      70        2     174   3.866667\n",
       "2        36      70        3     259  10.360000\n",
       "3         5      36        4      45   1.800000\n",
       "4        25       5        5      77   2.200000\n",
       "..      ...     ...      ...     ...        ...\n",
       "96       36      49      104      22   0.880000\n",
       "97       50      25      105     113   4.520000\n",
       "98       33      79      106     460  46.000000\n",
       "99       79      80      107     257  25.700000\n",
       "100      80      81      108     722  28.880000\n",
       "\n",
       "[101 rows x 5 columns]"
      ]
     },
     "execution_count": 346,
     "metadata": {},
     "output_type": "execute_result"
    }
   ],
   "source": [
    "input_edges"
   ]
  },
  {
   "cell_type": "code",
   "execution_count": 347,
   "metadata": {},
   "outputs": [],
   "source": [
    "value_of_time_per_ton_in_usd = .102704"
   ]
  },
  {
   "cell_type": "code",
   "execution_count": 348,
   "metadata": {},
   "outputs": [],
   "source": [
    "input_edges['cost'] = input_edges['time'] * value_of_time_per_ton_in_usd"
   ]
  },
  {
   "cell_type": "code",
   "execution_count": 349,
   "metadata": {},
   "outputs": [
    {
     "data": {
      "text/html": [
       "<div>\n",
       "<style scoped>\n",
       "    .dataframe tbody tr th:only-of-type {\n",
       "        vertical-align: middle;\n",
       "    }\n",
       "\n",
       "    .dataframe tbody tr th {\n",
       "        vertical-align: top;\n",
       "    }\n",
       "\n",
       "    .dataframe thead th {\n",
       "        text-align: right;\n",
       "    }\n",
       "</style>\n",
       "<table border=\"1\" class=\"dataframe\">\n",
       "  <thead>\n",
       "    <tr style=\"text-align: right;\">\n",
       "      <th></th>\n",
       "      <th>source</th>\n",
       "      <th>target</th>\n",
       "      <th>link_id</th>\n",
       "      <th>length</th>\n",
       "      <th>time</th>\n",
       "      <th>cost</th>\n",
       "    </tr>\n",
       "  </thead>\n",
       "  <tbody>\n",
       "    <tr>\n",
       "      <th>0</th>\n",
       "      <td>38</td>\n",
       "      <td>69</td>\n",
       "      <td>1</td>\n",
       "      <td>1304</td>\n",
       "      <td>28.977778</td>\n",
       "      <td>2.976134</td>\n",
       "    </tr>\n",
       "    <tr>\n",
       "      <th>1</th>\n",
       "      <td>38</td>\n",
       "      <td>70</td>\n",
       "      <td>2</td>\n",
       "      <td>174</td>\n",
       "      <td>3.866667</td>\n",
       "      <td>0.397122</td>\n",
       "    </tr>\n",
       "    <tr>\n",
       "      <th>2</th>\n",
       "      <td>36</td>\n",
       "      <td>70</td>\n",
       "      <td>3</td>\n",
       "      <td>259</td>\n",
       "      <td>10.360000</td>\n",
       "      <td>1.064013</td>\n",
       "    </tr>\n",
       "    <tr>\n",
       "      <th>3</th>\n",
       "      <td>5</td>\n",
       "      <td>36</td>\n",
       "      <td>4</td>\n",
       "      <td>45</td>\n",
       "      <td>1.800000</td>\n",
       "      <td>0.184867</td>\n",
       "    </tr>\n",
       "    <tr>\n",
       "      <th>4</th>\n",
       "      <td>25</td>\n",
       "      <td>5</td>\n",
       "      <td>5</td>\n",
       "      <td>77</td>\n",
       "      <td>2.200000</td>\n",
       "      <td>0.225949</td>\n",
       "    </tr>\n",
       "    <tr>\n",
       "      <th>...</th>\n",
       "      <td>...</td>\n",
       "      <td>...</td>\n",
       "      <td>...</td>\n",
       "      <td>...</td>\n",
       "      <td>...</td>\n",
       "      <td>...</td>\n",
       "    </tr>\n",
       "    <tr>\n",
       "      <th>96</th>\n",
       "      <td>36</td>\n",
       "      <td>49</td>\n",
       "      <td>104</td>\n",
       "      <td>22</td>\n",
       "      <td>0.880000</td>\n",
       "      <td>0.090380</td>\n",
       "    </tr>\n",
       "    <tr>\n",
       "      <th>97</th>\n",
       "      <td>50</td>\n",
       "      <td>25</td>\n",
       "      <td>105</td>\n",
       "      <td>113</td>\n",
       "      <td>4.520000</td>\n",
       "      <td>0.464222</td>\n",
       "    </tr>\n",
       "    <tr>\n",
       "      <th>98</th>\n",
       "      <td>33</td>\n",
       "      <td>79</td>\n",
       "      <td>106</td>\n",
       "      <td>460</td>\n",
       "      <td>46.000000</td>\n",
       "      <td>4.724384</td>\n",
       "    </tr>\n",
       "    <tr>\n",
       "      <th>99</th>\n",
       "      <td>79</td>\n",
       "      <td>80</td>\n",
       "      <td>107</td>\n",
       "      <td>257</td>\n",
       "      <td>25.700000</td>\n",
       "      <td>2.639493</td>\n",
       "    </tr>\n",
       "    <tr>\n",
       "      <th>100</th>\n",
       "      <td>80</td>\n",
       "      <td>81</td>\n",
       "      <td>108</td>\n",
       "      <td>722</td>\n",
       "      <td>28.880000</td>\n",
       "      <td>2.966092</td>\n",
       "    </tr>\n",
       "  </tbody>\n",
       "</table>\n",
       "<p>101 rows × 6 columns</p>\n",
       "</div>"
      ],
      "text/plain": [
       "     source  target  link_id  length       time      cost\n",
       "0        38      69        1    1304  28.977778  2.976134\n",
       "1        38      70        2     174   3.866667  0.397122\n",
       "2        36      70        3     259  10.360000  1.064013\n",
       "3         5      36        4      45   1.800000  0.184867\n",
       "4        25       5        5      77   2.200000  0.225949\n",
       "..      ...     ...      ...     ...        ...       ...\n",
       "96       36      49      104      22   0.880000  0.090380\n",
       "97       50      25      105     113   4.520000  0.464222\n",
       "98       33      79      106     460  46.000000  4.724384\n",
       "99       79      80      107     257  25.700000  2.639493\n",
       "100      80      81      108     722  28.880000  2.966092\n",
       "\n",
       "[101 rows x 6 columns]"
      ]
     },
     "execution_count": 349,
     "metadata": {},
     "output_type": "execute_result"
    }
   ],
   "source": [
    "input_edges"
   ]
  },
  {
   "cell_type": "code",
   "execution_count": 350,
   "metadata": {},
   "outputs": [],
   "source": [
    "G = nx.from_pandas_edgelist(input_edges, edge_attr = 'cost')"
   ]
  },
  {
   "cell_type": "code",
   "execution_count": 351,
   "metadata": {},
   "outputs": [
    {
     "data": {
      "image/png": "[encoded data removed]",
      "text/plain": [
       "<Figure size 432x288 with 1 Axes>"
      ]
     },
     "metadata": {},
     "output_type": "display_data"
    }
   ],
   "source": [
    "nx.draw(G, with_labels = True)"
   ]
  },
  {
   "cell_type": "code",
   "execution_count": 352,
   "metadata": {},
   "outputs": [
    {
     "data": {
      "text/plain": [
       "networkx.classes.graph.Graph"
      ]
     },
     "execution_count": 352,
     "metadata": {},
     "output_type": "execute_result"
    }
   ],
   "source": [
    "type(G)"
   ]
  },
  {
   "cell_type": "markdown",
   "metadata": {},
   "source": [
    "## Add border nodes"
   ]
  },
  {
   "cell_type": "code",
   "execution_count": 353,
   "metadata": {},
   "outputs": [],
   "source": [
    "input_nodes = pd.read_csv(os.path.join(inputFolder, \"nodes.csv\"))"
   ]
  },
  {
   "cell_type": "code",
   "execution_count": 354,
   "metadata": {},
   "outputs": [
    {
     "data": {
      "text/html": [
       "<div>\n",
       "<style scoped>\n",
       "    .dataframe tbody tr th:only-of-type {\n",
       "        vertical-align: middle;\n",
       "    }\n",
       "\n",
       "    .dataframe tbody tr th {\n",
       "        vertical-align: top;\n",
       "    }\n",
       "\n",
       "    .dataframe thead th {\n",
       "        text-align: right;\n",
       "    }\n",
       "</style>\n",
       "<table border=\"1\" class=\"dataframe\">\n",
       "  <thead>\n",
       "    <tr style=\"text-align: right;\">\n",
       "      <th></th>\n",
       "      <th>node_id</th>\n",
       "      <th>name</th>\n",
       "      <th>country</th>\n",
       "      <th>border</th>\n",
       "      <th>gauge_change</th>\n",
       "      <th>if_border_is_an_origin_or_destination</th>\n",
       "    </tr>\n",
       "  </thead>\n",
       "  <tbody>\n",
       "    <tr>\n",
       "      <th>0</th>\n",
       "      <td>1</td>\n",
       "      <td>Aktau</td>\n",
       "      <td>KAZ</td>\n",
       "      <td>False</td>\n",
       "      <td>False</td>\n",
       "      <td>False</td>\n",
       "    </tr>\n",
       "    <tr>\n",
       "      <th>1</th>\n",
       "      <td>2</td>\n",
       "      <td>Aktobe</td>\n",
       "      <td>KAZ</td>\n",
       "      <td>False</td>\n",
       "      <td>False</td>\n",
       "      <td>False</td>\n",
       "    </tr>\n",
       "    <tr>\n",
       "      <th>2</th>\n",
       "      <td>3</td>\n",
       "      <td>Aktogal</td>\n",
       "      <td>KAZ</td>\n",
       "      <td>False</td>\n",
       "      <td>False</td>\n",
       "      <td>False</td>\n",
       "    </tr>\n",
       "    <tr>\n",
       "      <th>3</th>\n",
       "      <td>4</td>\n",
       "      <td>Almaty</td>\n",
       "      <td>KAZ</td>\n",
       "      <td>False</td>\n",
       "      <td>False</td>\n",
       "      <td>False</td>\n",
       "    </tr>\n",
       "    <tr>\n",
       "      <th>4</th>\n",
       "      <td>5</td>\n",
       "      <td>Andijan</td>\n",
       "      <td>UBZ</td>\n",
       "      <td>True</td>\n",
       "      <td>False</td>\n",
       "      <td>False</td>\n",
       "    </tr>\n",
       "    <tr>\n",
       "      <th>...</th>\n",
       "      <td>...</td>\n",
       "      <td>...</td>\n",
       "      <td>...</td>\n",
       "      <td>...</td>\n",
       "      <td>...</td>\n",
       "      <td>...</td>\n",
       "    </tr>\n",
       "    <tr>\n",
       "      <th>78</th>\n",
       "      <td>84</td>\n",
       "      <td>Rustawi</td>\n",
       "      <td>GEO</td>\n",
       "      <td>True</td>\n",
       "      <td>False</td>\n",
       "      <td>False</td>\n",
       "    </tr>\n",
       "    <tr>\n",
       "      <th>79</th>\n",
       "      <td>85</td>\n",
       "      <td>Gomishan</td>\n",
       "      <td>IRA</td>\n",
       "      <td>True</td>\n",
       "      <td>True</td>\n",
       "      <td>False</td>\n",
       "    </tr>\n",
       "    <tr>\n",
       "      <th>80</th>\n",
       "      <td>86</td>\n",
       "      <td>No Name</td>\n",
       "      <td>UBZ</td>\n",
       "      <td>False</td>\n",
       "      <td>False</td>\n",
       "      <td>False</td>\n",
       "    </tr>\n",
       "    <tr>\n",
       "      <th>81</th>\n",
       "      <td>87</td>\n",
       "      <td>Yaysan</td>\n",
       "      <td>KAZ</td>\n",
       "      <td>True</td>\n",
       "      <td>False</td>\n",
       "      <td>False</td>\n",
       "    </tr>\n",
       "    <tr>\n",
       "      <th>82</th>\n",
       "      <td>88</td>\n",
       "      <td>Kunowice</td>\n",
       "      <td>POL</td>\n",
       "      <td>False</td>\n",
       "      <td>False</td>\n",
       "      <td>False</td>\n",
       "    </tr>\n",
       "  </tbody>\n",
       "</table>\n",
       "<p>83 rows × 6 columns</p>\n",
       "</div>"
      ],
      "text/plain": [
       "    node_id      name country  border  gauge_change  \\\n",
       "0         1     Aktau     KAZ   False         False   \n",
       "1         2    Aktobe     KAZ   False         False   \n",
       "2         3   Aktogal     KAZ   False         False   \n",
       "3         4    Almaty     KAZ   False         False   \n",
       "4         5   Andijan     UBZ    True         False   \n",
       "..      ...       ...     ...     ...           ...   \n",
       "78       84   Rustawi     GEO    True         False   \n",
       "79       85  Gomishan     IRA    True          True   \n",
       "80       86   No Name     UBZ   False         False   \n",
       "81       87    Yaysan     KAZ    True         False   \n",
       "82       88  Kunowice     POL   False         False   \n",
       "\n",
       "    if_border_is_an_origin_or_destination  \n",
       "0                                   False  \n",
       "1                                   False  \n",
       "2                                   False  \n",
       "3                                   False  \n",
       "4                                   False  \n",
       "..                                    ...  \n",
       "78                                  False  \n",
       "79                                  False  \n",
       "80                                  False  \n",
       "81                                  False  \n",
       "82                                  False  \n",
       "\n",
       "[83 rows x 6 columns]"
      ]
     },
     "execution_count": 354,
     "metadata": {},
     "output_type": "execute_result"
    }
   ],
   "source": [
    "input_nodes"
   ]
  },
  {
   "cell_type": "markdown",
   "metadata": {},
   "source": [
    "####  Add country names to each node in graph"
   ]
  },
  {
   "cell_type": "code",
   "execution_count": 355,
   "metadata": {},
   "outputs": [],
   "source": [
    "# loop through input nodes\n",
    "for index, row in input_nodes.iterrows():\n",
    "    if row[0]:\n",
    "        # print(row[0])\n",
    "        G.nodes[row[0]]['country'] = row[2]"
   ]
  },
  {
   "cell_type": "code",
   "execution_count": 356,
   "metadata": {},
   "outputs": [],
   "source": [
    "# double-check results\n",
    "#list(G.nodes(data='country'))"
   ]
  },
  {
   "cell_type": "markdown",
   "metadata": {},
   "source": [
    "## General methodology\n",
    "Traversing through a border incurs additional costs. On top of this additional costs are incurred when a gauge change occurs at a border. The way these costs are modeled are by adding 1/2 the costs to each edge adjacent to each border node. This works because each path that traverses a border cost must enter a border node through an edge and exit through a different edge."
   ]
  },
  {
   "cell_type": "markdown",
   "metadata": {},
   "source": [
    "### Pre-Processing for border nodes that are also an origin or destination node\n",
    "(Insert Pic)\n",
    "\n",
    "There are edge cases when a border node is also either an origin or destination (In this project it is never both). An example to illustrate why this is so:\n",
    "Imagine a border node is also an origin. Then depending on what side of the border the border node is in then the border cost may not occur at all if the next stop does not cross the border."
   ]
  },
  {
   "cell_type": "markdown",
   "metadata": {},
   "source": [
    "#### Phase 1: To handle these edge cases we are adding additional in-between nodes for border nodes that are also an origin or destination node\n",
    "(insert pic)\n",
    "Psuedo-code:\n",
    "```\n",
    "For each border node that is also an origin or destination node:\n",
    "    read which country the border node is in\n",
    "    For each edge adjacent to the border node:\n",
    "        If the to node is also in the same country as the border node:\n",
    "            Add an extra node and split the edge\n",
    "```"
   ]
  },
  {
   "cell_type": "code",
   "execution_count": 357,
   "metadata": {},
   "outputs": [
    {
     "name": "stdout",
     "output_type": "stream",
     "text": [
      "10 Baku AZE\n",
      "18 Brest BEL\n",
      "60 Tashkent UBZ\n",
      "68 Turkmenabad TKM\n"
     ]
    }
   ],
   "source": [
    "# loop through input nodes\n",
    "for index, row in input_nodes.iterrows():\n",
    "    # if border node and is either an origin or destination\n",
    "    if row[5]:\n",
    "        # country border node is in is row[2]\n",
    "        print(row[0],row[1],row[2])\n",
    "        # For each edge adjacent to the border node:\n",
    "        for entry in list(G.neighbors(row[0])):\n",
    "            # print('adj node')\n",
    "            # print(entry)\n",
    "            # print(G.nodes[entry]['country'])\n",
    "            # print(row[2])\n",
    "            # If the to node is also in the same country as the border node:\n",
    "            if G.nodes[entry]['country'] == row[2]:\n",
    "                # print(\"border node and is either an origin or destination is in country: \" + str(G.nodes[entry]['country']))\n",
    "                # add new intermediate node\n",
    "                G.add_node(str(row[0]) + 'b')\n",
    "                # add new edge from intermediate node to border node\n",
    "                G.add_edge(str(row[0]) + 'b',row[0], cost = .000001)\n",
    "                # add new edge to connect to intermediate node instead of the border node\n",
    "                G.add_edge(entry, str(row[0]) + 'b', cost = G.edges[entry,row[0]]['cost'] )\n",
    "                # remove edge\n",
    "                G.remove_edge(entry,row[0])"
   ]
  },
  {
   "cell_type": "markdown",
   "metadata": {},
   "source": [
    "#### Phase 2: Adding 1/2 the costs to each edge adjacent to each border node. "
   ]
  },
  {
   "cell_type": "code",
   "execution_count": 358,
   "metadata": {},
   "outputs": [],
   "source": [
    "# border costs\n",
    "# each border crossing has a time of 4 hours and a cost of $20 per ton\n",
    "add_half_border_costs_per_link = (4 * value_of_time_per_ton_in_usd + 20) / 2\n",
    "# each gauge change has a time of 12 hours and a cost of $10 per ton\n",
    "add_half_border_w_gauge_costs_per_link = (12 * value_of_time_per_ton_in_usd + 10) / 2"
   ]
  },
  {
   "cell_type": "code",
   "execution_count": 359,
   "metadata": {},
   "outputs": [],
   "source": [
    "border_nodes = []\n",
    "border_nodes_w_gauge_change = []\n",
    "# loop through input nodes\n",
    "for index, row in input_nodes.iterrows():\n",
    "    # if border node with gauge change\n",
    "    if row[4]:\n",
    "        border_nodes_w_gauge_change.append(row[0])\n",
    "        border_nodes.append(row[0])\n",
    "        # For each edge adjacent to the border node:\n",
    "        for entry in list(G.neighbors(row[0])):\n",
    "                # print('edge')\n",
    "                # print(G.edges[entry,row[0]])\n",
    "                # print(entry)\n",
    "                G.edges[entry,row[0]]['cost'] = G.edges[entry,row[0]]['cost'] + add_half_border_w_gauge_costs_per_link + add_half_border_costs_per_link\n",
    "    # else if reg border node\n",
    "    elif row[3]:\n",
    "        border_nodes.append(row[0])\n",
    "        #print(row[0],row[1])\n",
    "        # For each edge adjacent to the border node:\n",
    "        for entry in list(G.neighbors(row[0])):\n",
    "            #print('edge')\n",
    "            #print(entry)\n",
    "            G.edges[entry,row[0]]['cost'] = G.edges[entry,row[0]]['cost'] + add_half_border_costs_per_link"
   ]
  },
  {
   "cell_type": "code",
   "execution_count": 360,
   "metadata": {},
   "outputs": [],
   "source": [
    "# testing\n",
    "# len(border_nodes)"
   ]
  },
  {
   "cell_type": "code",
   "execution_count": 361,
   "metadata": {},
   "outputs": [],
   "source": [
    "# testing\n",
    "# len(border_nodes_w_gauge_change)"
   ]
  },
  {
   "cell_type": "code",
   "execution_count": 362,
   "metadata": {},
   "outputs": [],
   "source": [
    "# testing\n",
    "# G.edges[5,36]"
   ]
  },
  {
   "cell_type": "code",
   "execution_count": 363,
   "metadata": {},
   "outputs": [],
   "source": [
    "# testing\n",
    "# for e in G.edges(data = True):\n",
    "    # For each edge's attribute\n",
    "    # print(e)"
   ]
  },
  {
   "cell_type": "code",
   "execution_count": 364,
   "metadata": {
    "scrolled": true
   },
   "outputs": [
    {
     "data": {
      "image/png": "[encoded data removed]",
      "text/plain": [
       "<Figure size 432x288 with 1 Axes>"
      ]
     },
     "metadata": {},
     "output_type": "display_data"
    }
   ],
   "source": [
    "nx.draw(G, with_labels = True)"
   ]
  },
  {
   "cell_type": "code",
   "execution_count": 365,
   "metadata": {},
   "outputs": [
    {
     "data": {
      "text/plain": [
       "<module 'GOSTnet' from '../../GOSTNets/GOSTNets/GOSTnet.py'>"
      ]
     },
     "execution_count": 365,
     "metadata": {},
     "output_type": "execute_result"
    }
   ],
   "source": [
    "import importlib\n",
    "importlib.reload(gn)"
   ]
  },
  {
   "cell_type": "code",
   "execution_count": 366,
   "metadata": {},
   "outputs": [],
   "source": [
    "nodes_list = []\n",
    "for n in G.nodes():\n",
    "    nodes_list.append(n)"
   ]
  },
  {
   "cell_type": "code",
   "execution_count": 367,
   "metadata": {},
   "outputs": [
    {
     "name": "stdout",
     "output_type": "stream",
     "text": [
      "0.015283823013305664\n"
     ]
    }
   ],
   "source": [
    "# calculate OD matrix\n",
    "import time\n",
    "start = time.time()\n",
    "OD_matrix = gn.calculate_OD(G, nodes_list, nodes_list, fail_value=-1, weight='cost')\n",
    "end = time.time()\n",
    "print(end-start)"
   ]
  },
  {
   "cell_type": "code",
   "execution_count": 368,
   "metadata": {},
   "outputs": [
    {
     "data": {
      "text/plain": [
       "array([[ 0.        ,  2.97613369, 16.21875413, ..., 63.0328229 ,\n",
       "        28.75462038, 41.24856098],\n",
       "       [ 2.97613369,  0.        , 19.19488782, ..., 60.05668921,\n",
       "        25.77848669, 38.27242729],\n",
       "       [16.21875413, 19.19488782,  0.        , ..., 79.25157703,\n",
       "        44.97337451, 57.46731511],\n",
       "       ...,\n",
       "       [63.0328229 , 60.05668921, 79.25157703, ...,  0.        ,\n",
       "        75.75127332, 83.16870192],\n",
       "       [28.75462038, 25.77848669, 44.97337451, ..., 75.75127332,\n",
       "         0.        , 22.3416522 ],\n",
       "       [41.24856098, 38.27242729, 57.46731511, ..., 83.16870192,\n",
       "        22.3416522 ,  0.        ]])"
      ]
     },
     "execution_count": 368,
     "metadata": {},
     "output_type": "execute_result"
    }
   ],
   "source": [
    "OD_matrix"
   ]
  },
  {
   "cell_type": "code",
   "execution_count": 369,
   "metadata": {},
   "outputs": [],
   "source": [
    "OD_df = pd.DataFrame(OD_matrix, columns = nodes_list, index = nodes_list)"
   ]
  },
  {
   "cell_type": "code",
   "execution_count": 370,
   "metadata": {},
   "outputs": [
    {
     "data": {
      "text/html": [
       "<div>\n",
       "<style scoped>\n",
       "    .dataframe tbody tr th:only-of-type {\n",
       "        vertical-align: middle;\n",
       "    }\n",
       "\n",
       "    .dataframe tbody tr th {\n",
       "        vertical-align: top;\n",
       "    }\n",
       "\n",
       "    .dataframe thead th {\n",
       "        text-align: right;\n",
       "    }\n",
       "</style>\n",
       "<table border=\"1\" class=\"dataframe\">\n",
       "  <thead>\n",
       "    <tr style=\"text-align: right;\">\n",
       "      <th></th>\n",
       "      <th>38</th>\n",
       "      <th>69</th>\n",
       "      <th>70</th>\n",
       "      <th>36</th>\n",
       "      <th>5</th>\n",
       "      <th>25</th>\n",
       "      <th>35</th>\n",
       "      <th>54</th>\n",
       "      <th>37</th>\n",
       "      <th>65</th>\n",
       "      <th>...</th>\n",
       "      <th>41</th>\n",
       "      <th>73</th>\n",
       "      <th>22</th>\n",
       "      <th>49</th>\n",
       "      <th>79</th>\n",
       "      <th>80</th>\n",
       "      <th>81</th>\n",
       "      <th>18b</th>\n",
       "      <th>60b</th>\n",
       "      <th>68b</th>\n",
       "    </tr>\n",
       "  </thead>\n",
       "  <tbody>\n",
       "    <tr>\n",
       "      <th>38</th>\n",
       "      <td>0.000000</td>\n",
       "      <td>2.976134</td>\n",
       "      <td>16.218754</td>\n",
       "      <td>43.309808</td>\n",
       "      <td>40.190129</td>\n",
       "      <td>29.758772</td>\n",
       "      <td>29.901971</td>\n",
       "      <td>29.634940</td>\n",
       "      <td>30.075100</td>\n",
       "      <td>30.899667</td>\n",
       "      <td>...</td>\n",
       "      <td>97.047669</td>\n",
       "      <td>96.487786</td>\n",
       "      <td>30.923142</td>\n",
       "      <td>53.605595</td>\n",
       "      <td>62.592517</td>\n",
       "      <td>65.232010</td>\n",
       "      <td>68.198101</td>\n",
       "      <td>63.032823</td>\n",
       "      <td>28.754620</td>\n",
       "      <td>41.248561</td>\n",
       "    </tr>\n",
       "    <tr>\n",
       "      <th>69</th>\n",
       "      <td>2.976134</td>\n",
       "      <td>0.000000</td>\n",
       "      <td>19.194888</td>\n",
       "      <td>46.285941</td>\n",
       "      <td>37.213995</td>\n",
       "      <td>26.782638</td>\n",
       "      <td>26.925837</td>\n",
       "      <td>26.658807</td>\n",
       "      <td>27.098967</td>\n",
       "      <td>27.923533</td>\n",
       "      <td>...</td>\n",
       "      <td>94.071535</td>\n",
       "      <td>93.511653</td>\n",
       "      <td>27.947008</td>\n",
       "      <td>56.581729</td>\n",
       "      <td>59.616383</td>\n",
       "      <td>62.255876</td>\n",
       "      <td>65.221968</td>\n",
       "      <td>60.056689</td>\n",
       "      <td>25.778487</td>\n",
       "      <td>38.272427</td>\n",
       "    </tr>\n",
       "    <tr>\n",
       "      <th>70</th>\n",
       "      <td>16.218754</td>\n",
       "      <td>19.194888</td>\n",
       "      <td>0.000000</td>\n",
       "      <td>27.091053</td>\n",
       "      <td>47.686737</td>\n",
       "      <td>45.977526</td>\n",
       "      <td>46.120725</td>\n",
       "      <td>45.853695</td>\n",
       "      <td>46.293855</td>\n",
       "      <td>47.118421</td>\n",
       "      <td>...</td>\n",
       "      <td>113.266423</td>\n",
       "      <td>112.706541</td>\n",
       "      <td>47.141896</td>\n",
       "      <td>37.386841</td>\n",
       "      <td>78.811271</td>\n",
       "      <td>81.450764</td>\n",
       "      <td>84.416856</td>\n",
       "      <td>79.251577</td>\n",
       "      <td>44.973375</td>\n",
       "      <td>57.467315</td>\n",
       "    </tr>\n",
       "    <tr>\n",
       "      <th>36</th>\n",
       "      <td>43.309808</td>\n",
       "      <td>46.285941</td>\n",
       "      <td>27.091053</td>\n",
       "      <td>0.000000</td>\n",
       "      <td>20.595683</td>\n",
       "      <td>31.027040</td>\n",
       "      <td>32.071686</td>\n",
       "      <td>32.338717</td>\n",
       "      <td>32.778877</td>\n",
       "      <td>33.603443</td>\n",
       "      <td>...</td>\n",
       "      <td>139.620133</td>\n",
       "      <td>139.797594</td>\n",
       "      <td>33.626918</td>\n",
       "      <td>10.295788</td>\n",
       "      <td>65.296294</td>\n",
       "      <td>67.935786</td>\n",
       "      <td>70.901878</td>\n",
       "      <td>106.342630</td>\n",
       "      <td>32.031192</td>\n",
       "      <td>53.800049</td>\n",
       "    </tr>\n",
       "    <tr>\n",
       "      <th>5</th>\n",
       "      <td>40.190129</td>\n",
       "      <td>37.213995</td>\n",
       "      <td>47.686737</td>\n",
       "      <td>20.595683</td>\n",
       "      <td>0.000000</td>\n",
       "      <td>10.431357</td>\n",
       "      <td>11.476003</td>\n",
       "      <td>11.743034</td>\n",
       "      <td>12.183194</td>\n",
       "      <td>13.007760</td>\n",
       "      <td>...</td>\n",
       "      <td>119.024450</td>\n",
       "      <td>120.641745</td>\n",
       "      <td>13.031235</td>\n",
       "      <td>30.891471</td>\n",
       "      <td>44.700610</td>\n",
       "      <td>47.340103</td>\n",
       "      <td>50.306195</td>\n",
       "      <td>87.186782</td>\n",
       "      <td>11.435508</td>\n",
       "      <td>33.204366</td>\n",
       "    </tr>\n",
       "    <tr>\n",
       "      <th>...</th>\n",
       "      <td>...</td>\n",
       "      <td>...</td>\n",
       "      <td>...</td>\n",
       "      <td>...</td>\n",
       "      <td>...</td>\n",
       "      <td>...</td>\n",
       "      <td>...</td>\n",
       "      <td>...</td>\n",
       "      <td>...</td>\n",
       "      <td>...</td>\n",
       "      <td>...</td>\n",
       "      <td>...</td>\n",
       "      <td>...</td>\n",
       "      <td>...</td>\n",
       "      <td>...</td>\n",
       "      <td>...</td>\n",
       "      <td>...</td>\n",
       "      <td>...</td>\n",
       "      <td>...</td>\n",
       "      <td>...</td>\n",
       "      <td>...</td>\n",
       "    </tr>\n",
       "    <tr>\n",
       "      <th>80</th>\n",
       "      <td>65.232010</td>\n",
       "      <td>62.255876</td>\n",
       "      <td>81.450764</td>\n",
       "      <td>67.935786</td>\n",
       "      <td>47.340103</td>\n",
       "      <td>36.908746</td>\n",
       "      <td>35.864100</td>\n",
       "      <td>35.597070</td>\n",
       "      <td>35.156910</td>\n",
       "      <td>34.332343</td>\n",
       "      <td>...</td>\n",
       "      <td>142.206508</td>\n",
       "      <td>145.683626</td>\n",
       "      <td>36.004951</td>\n",
       "      <td>78.231574</td>\n",
       "      <td>2.639493</td>\n",
       "      <td>0.000000</td>\n",
       "      <td>2.966092</td>\n",
       "      <td>112.228663</td>\n",
       "      <td>36.477390</td>\n",
       "      <td>56.386424</td>\n",
       "    </tr>\n",
       "    <tr>\n",
       "      <th>81</th>\n",
       "      <td>68.198101</td>\n",
       "      <td>65.221968</td>\n",
       "      <td>84.416856</td>\n",
       "      <td>70.901878</td>\n",
       "      <td>50.306195</td>\n",
       "      <td>39.874838</td>\n",
       "      <td>38.830192</td>\n",
       "      <td>38.563161</td>\n",
       "      <td>38.123001</td>\n",
       "      <td>37.298435</td>\n",
       "      <td>...</td>\n",
       "      <td>145.172600</td>\n",
       "      <td>148.649718</td>\n",
       "      <td>38.971043</td>\n",
       "      <td>81.197665</td>\n",
       "      <td>5.605584</td>\n",
       "      <td>2.966092</td>\n",
       "      <td>0.000000</td>\n",
       "      <td>115.194754</td>\n",
       "      <td>39.443481</td>\n",
       "      <td>59.352516</td>\n",
       "    </tr>\n",
       "    <tr>\n",
       "      <th>18b</th>\n",
       "      <td>63.032823</td>\n",
       "      <td>60.056689</td>\n",
       "      <td>79.251577</td>\n",
       "      <td>106.342630</td>\n",
       "      <td>87.186782</td>\n",
       "      <td>76.755425</td>\n",
       "      <td>76.898624</td>\n",
       "      <td>76.631593</td>\n",
       "      <td>77.071753</td>\n",
       "      <td>77.896320</td>\n",
       "      <td>...</td>\n",
       "      <td>37.567525</td>\n",
       "      <td>33.454964</td>\n",
       "      <td>77.919795</td>\n",
       "      <td>116.638418</td>\n",
       "      <td>109.589170</td>\n",
       "      <td>112.228663</td>\n",
       "      <td>115.194754</td>\n",
       "      <td>0.000000</td>\n",
       "      <td>75.751273</td>\n",
       "      <td>83.168702</td>\n",
       "    </tr>\n",
       "    <tr>\n",
       "      <th>60b</th>\n",
       "      <td>28.754620</td>\n",
       "      <td>25.778487</td>\n",
       "      <td>44.973375</td>\n",
       "      <td>32.031192</td>\n",
       "      <td>11.435508</td>\n",
       "      <td>1.004152</td>\n",
       "      <td>1.147350</td>\n",
       "      <td>0.880320</td>\n",
       "      <td>1.320480</td>\n",
       "      <td>2.145046</td>\n",
       "      <td>...</td>\n",
       "      <td>108.161736</td>\n",
       "      <td>109.206237</td>\n",
       "      <td>2.168522</td>\n",
       "      <td>42.326979</td>\n",
       "      <td>33.837897</td>\n",
       "      <td>36.477390</td>\n",
       "      <td>39.443481</td>\n",
       "      <td>75.751273</td>\n",
       "      <td>0.000000</td>\n",
       "      <td>22.341652</td>\n",
       "    </tr>\n",
       "    <tr>\n",
       "      <th>68b</th>\n",
       "      <td>41.248561</td>\n",
       "      <td>38.272427</td>\n",
       "      <td>57.467315</td>\n",
       "      <td>53.800049</td>\n",
       "      <td>33.204366</td>\n",
       "      <td>22.773009</td>\n",
       "      <td>21.728363</td>\n",
       "      <td>21.461332</td>\n",
       "      <td>21.229515</td>\n",
       "      <td>22.054081</td>\n",
       "      <td>...</td>\n",
       "      <td>85.820084</td>\n",
       "      <td>116.623665</td>\n",
       "      <td>22.077556</td>\n",
       "      <td>64.095837</td>\n",
       "      <td>53.746931</td>\n",
       "      <td>56.386424</td>\n",
       "      <td>59.352516</td>\n",
       "      <td>83.168702</td>\n",
       "      <td>22.341652</td>\n",
       "      <td>0.000000</td>\n",
       "    </tr>\n",
       "  </tbody>\n",
       "</table>\n",
       "<p>87 rows × 87 columns</p>\n",
       "</div>"
      ],
      "text/plain": [
       "            38         69         70          36          5         25  \\\n",
       "38    0.000000   2.976134  16.218754   43.309808  40.190129  29.758772   \n",
       "69    2.976134   0.000000  19.194888   46.285941  37.213995  26.782638   \n",
       "70   16.218754  19.194888   0.000000   27.091053  47.686737  45.977526   \n",
       "36   43.309808  46.285941  27.091053    0.000000  20.595683  31.027040   \n",
       "5    40.190129  37.213995  47.686737   20.595683   0.000000  10.431357   \n",
       "..         ...        ...        ...         ...        ...        ...   \n",
       "80   65.232010  62.255876  81.450764   67.935786  47.340103  36.908746   \n",
       "81   68.198101  65.221968  84.416856   70.901878  50.306195  39.874838   \n",
       "18b  63.032823  60.056689  79.251577  106.342630  87.186782  76.755425   \n",
       "60b  28.754620  25.778487  44.973375   32.031192  11.435508   1.004152   \n",
       "68b  41.248561  38.272427  57.467315   53.800049  33.204366  22.773009   \n",
       "\n",
       "            35         54         37         65  ...          41          73  \\\n",
       "38   29.901971  29.634940  30.075100  30.899667  ...   97.047669   96.487786   \n",
       "69   26.925837  26.658807  27.098967  27.923533  ...   94.071535   93.511653   \n",
       "70   46.120725  45.853695  46.293855  47.118421  ...  113.266423  112.706541   \n",
       "36   32.071686  32.338717  32.778877  33.603443  ...  139.620133  139.797594   \n",
       "5    11.476003  11.743034  12.183194  13.007760  ...  119.024450  120.641745   \n",
       "..         ...        ...        ...        ...  ...         ...         ...   \n",
       "80   35.864100  35.597070  35.156910  34.332343  ...  142.206508  145.683626   \n",
       "81   38.830192  38.563161  38.123001  37.298435  ...  145.172600  148.649718   \n",
       "18b  76.898624  76.631593  77.071753  77.896320  ...   37.567525   33.454964   \n",
       "60b   1.147350   0.880320   1.320480   2.145046  ...  108.161736  109.206237   \n",
       "68b  21.728363  21.461332  21.229515  22.054081  ...   85.820084  116.623665   \n",
       "\n",
       "            22          49          79          80          81         18b  \\\n",
       "38   30.923142   53.605595   62.592517   65.232010   68.198101   63.032823   \n",
       "69   27.947008   56.581729   59.616383   62.255876   65.221968   60.056689   \n",
       "70   47.141896   37.386841   78.811271   81.450764   84.416856   79.251577   \n",
       "36   33.626918   10.295788   65.296294   67.935786   70.901878  106.342630   \n",
       "5    13.031235   30.891471   44.700610   47.340103   50.306195   87.186782   \n",
       "..         ...         ...         ...         ...         ...         ...   \n",
       "80   36.004951   78.231574    2.639493    0.000000    2.966092  112.228663   \n",
       "81   38.971043   81.197665    5.605584    2.966092    0.000000  115.194754   \n",
       "18b  77.919795  116.638418  109.589170  112.228663  115.194754    0.000000   \n",
       "60b   2.168522   42.326979   33.837897   36.477390   39.443481   75.751273   \n",
       "68b  22.077556   64.095837   53.746931   56.386424   59.352516   83.168702   \n",
       "\n",
       "           60b        68b  \n",
       "38   28.754620  41.248561  \n",
       "69   25.778487  38.272427  \n",
       "70   44.973375  57.467315  \n",
       "36   32.031192  53.800049  \n",
       "5    11.435508  33.204366  \n",
       "..         ...        ...  \n",
       "80   36.477390  56.386424  \n",
       "81   39.443481  59.352516  \n",
       "18b  75.751273  83.168702  \n",
       "60b   0.000000  22.341652  \n",
       "68b  22.341652   0.000000  \n",
       "\n",
       "[87 rows x 87 columns]"
      ]
     },
     "execution_count": 370,
     "metadata": {},
     "output_type": "execute_result"
    }
   ],
   "source": [
    "OD_df"
   ]
  },
  {
   "cell_type": "markdown",
   "metadata": {},
   "source": [
    "#### Phase 3: Add additional access costs to each route"
   ]
  },
  {
   "cell_type": "code",
   "execution_count": 371,
   "metadata": {},
   "outputs": [],
   "source": [
    "# access costs are 0.17117 USD per ton\n",
    "OD_df_w_extra_costs = OD_df + 0.17117"
   ]
  },
  {
   "cell_type": "code",
   "execution_count": 372,
   "metadata": {},
   "outputs": [],
   "source": [
    "OD_df_w_extra_costs.to_csv(\"asia_railways_output_OD_matrix.csv\")"
   ]
  },
  {
   "cell_type": "code",
   "execution_count": 373,
   "metadata": {},
   "outputs": [],
   "source": [
    "# nx.bidirectional_shortest_path(G, 26, 70)"
   ]
  },
  {
   "cell_type": "code",
   "execution_count": 374,
   "metadata": {},
   "outputs": [
    {
     "data": {
      "text/plain": [
       "[56, 48, 87, 2, 53, 7, 17, 4, 40, 69]"
      ]
     },
     "execution_count": 374,
     "metadata": {},
     "output_type": "execute_result"
    }
   ],
   "source": [
    "nx.bidirectional_shortest_path(G, 56, 69)"
   ]
  },
  {
   "cell_type": "code",
   "execution_count": 375,
   "metadata": {},
   "outputs": [],
   "source": [
    "# Testing Saratov (56) to Turpan (69)\n",
    "shortest_path_list = nx.bidirectional_shortest_path(G, 56, 69)"
   ]
  },
  {
   "cell_type": "code",
   "execution_count": 376,
   "metadata": {},
   "outputs": [
    {
     "data": {
      "text/plain": [
       "0        Aktau\n",
       "1       Aktobe\n",
       "2      Aktogal\n",
       "3       Almaty\n",
       "4      Andijan\n",
       "        ...   \n",
       "78     Rustawi\n",
       "79    Gomishan\n",
       "80     No Name\n",
       "81      Yaysan\n",
       "82    Kunowice\n",
       "Name: name, Length: 83, dtype: object"
      ]
     },
     "execution_count": 376,
     "metadata": {},
     "output_type": "execute_result"
    }
   ],
   "source": [
    "input_nodes['name']"
   ]
  },
  {
   "cell_type": "code",
   "execution_count": 377,
   "metadata": {},
   "outputs": [],
   "source": [
    "# lookup\n",
    "def look_up(x):\n",
    "    return input_nodes.loc[input_nodes['node_id']==x]['name'].iloc[0]"
   ]
  },
  {
   "cell_type": "code",
   "execution_count": 378,
   "metadata": {},
   "outputs": [
    {
     "data": {
      "text/plain": [
       "'Saratov'"
      ]
     },
     "execution_count": 378,
     "metadata": {},
     "output_type": "execute_result"
    }
   ],
   "source": [
    "look_up(56)"
   ]
  },
  {
   "cell_type": "code",
   "execution_count": 379,
   "metadata": {},
   "outputs": [],
   "source": [
    "shortest_path_list_w_names = []\n",
    "for x in shortest_path_list:\n",
    "    shortest_path_list_w_names.append(look_up(x))"
   ]
  },
  {
   "cell_type": "code",
   "execution_count": 380,
   "metadata": {},
   "outputs": [
    {
     "data": {
      "text/plain": [
       "['Saratov',\n",
       " 'Orenburg',\n",
       " 'Yaysan',\n",
       " 'Aktobe',\n",
       " 'Saksaulskaya',\n",
       " 'Arys',\n",
       " 'Birlik',\n",
       " 'Almaty',\n",
       " 'Khorgos',\n",
       " 'Turpan']"
      ]
     },
     "execution_count": 380,
     "metadata": {},
     "output_type": "execute_result"
    }
   ],
   "source": [
    "shortest_path_list_w_names"
   ]
  },
  {
   "cell_type": "code",
   "execution_count": 381,
   "metadata": {},
   "outputs": [
    {
     "data": {
      "text/plain": [
       "32.49239288869164"
      ]
     },
     "execution_count": 381,
     "metadata": {},
     "output_type": "execute_result"
    }
   ],
   "source": [
    "# Look up route cost via OD Matrix\n",
    "nx.dijkstra_path_length(G, 56, 69, weight='cost')"
   ]
  },
  {
   "cell_type": "code",
   "execution_count": 382,
   "metadata": {},
   "outputs": [
    {
     "data": {
      "text/plain": [
       "32.49239288869163"
      ]
     },
     "execution_count": 382,
     "metadata": {},
     "output_type": "execute_result"
    }
   ],
   "source": [
    "# Look up route cost via OD Matrix\n",
    "OD_df[56][69]"
   ]
  },
  {
   "cell_type": "code",
   "execution_count": null,
   "metadata": {},
   "outputs": [],
   "source": []
  }
 ],
 "metadata": {
  "kernelspec": {
   "display_name": "Python 3",
   "language": "python",
   "name": "python3"
  },
  "language_info": {
   "codemirror_mode": {
    "name": "ipython",
    "version": 3
   },
   "file_extension": ".py",
   "mimetype": "text/x-python",
   "name": "python",
   "nbconvert_exporter": "python",
   "pygments_lexer": "ipython3",
   "version": "3.7.6"
  }
 },
 "nbformat": 4,
 "nbformat_minor": 2
}
