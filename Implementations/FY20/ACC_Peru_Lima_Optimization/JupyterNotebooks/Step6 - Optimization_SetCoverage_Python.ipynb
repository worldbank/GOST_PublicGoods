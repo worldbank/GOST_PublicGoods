{
 "cells": [
  {
   "cell_type": "markdown",
   "metadata": {},
   "source": [
    "This is a type of location optimization analysis, specifically finding the optimal location of facilites on a network. These are two types of Set-Coverage analysis implemented in **Python**:\n",
    "\n",
    "### Set-Coverage Problem\n",
    "#### Objective: Determine the minimum number of facilities and their locations in order to cover all demands within a pre-specified maximum distance (or time) coverage\n",
    "\n",
    "### Partial Set-Coverage Problem\n",
    "#### Objective: Determine the minimum number of facilities and their locations in order to cover a given fraction of the population within a pre-specified maximum distance (or time) coverage\n",
    "\n",
    "more information on GOSTNets Optimization can be found in the wiki: https://github.com/worldbank/GOST_PublicGoods/wiki/GOSTnets-Optimization"
   ]
  },
  {
   "cell_type": "code",
   "execution_count": 1,
   "metadata": {},
   "outputs": [
    {
     "name": "stdout",
     "output_type": "stream",
     "text": [
      "peartree version: 0.6.1 \n",
      "networkx version: 2.2 \n",
      "matplotlib version: 2.2.2 \n",
      "osmnx version: 0.9 \n"
     ]
    }
   ],
   "source": [
    "import geopandas as gpd\n",
    "import pandas as pd\n",
    "import os, sys\n",
    "# add to your system path the location of the GOSTnet.py library\n",
    "sys.path.append(r'../../../GOSTNets/GOSTNets')\n",
    "import GOSTnet_Optimization as gn\n",
    "import importlib"
   ]
  },
  {
   "cell_type": "markdown",
   "metadata": {},
   "source": [
    "#### These Set-Coverage Problems require an OD matrix as an input¶\n",
    "read in OD matrix saved as csv file as dataframe"
   ]
  },
  {
   "cell_type": "code",
   "execution_count": 2,
   "metadata": {},
   "outputs": [],
   "source": [
    "pth = r'../../../../lima_optimization_output'\n",
    "OD_df = pd.read_csv(os.path.join(pth, 'saved_OD.csv'),index_col=0)"
   ]
  },
  {
   "cell_type": "code",
   "execution_count": 3,
   "metadata": {},
   "outputs": [],
   "source": [
    "import pulp"
   ]
  },
  {
   "cell_type": "markdown",
   "metadata": {},
   "source": [
    "### Run the Set-Coverage Problem\n",
    "#### Objective: Determine the minimum number of facilities and their locations in order to cover all demands within a pre-specified maximum distance (or time) coverage"
   ]
  },
  {
   "cell_type": "markdown",
   "metadata": {},
   "source": [
    "In the example below there is a pre-specified maximum distance coverage of 1200 seconds"
   ]
  },
  {
   "cell_type": "code",
   "execution_count": 66,
   "metadata": {},
   "outputs": [
    {
     "name": "stdout",
     "output_type": "stream",
     "text": [
      "number of origins\n",
      "678\n",
      "print totalCoveredFacilities\n",
      "678\n",
      "print percent coverage\n",
      "100.0\n",
      "print prob obj\n",
      "X_1556 + X_175 + X_2048 + X_2959 + X_3409 + X_367 + X_3914 + X_4154 + X_4198 + X_4233 + X_4647 + X_474 + X_4919 + X_6048 + X_6107 + X_6691 + X_917\n"
     ]
    }
   ],
   "source": [
    "set_coverage_result = gn.optimize_set_coverage(OD_df, max_coverage = 1200)"
   ]
  },
  {
   "cell_type": "code",
   "execution_count": 57,
   "metadata": {},
   "outputs": [
    {
     "data": {
      "text/plain": [
       "[2048, 2959, 4919]"
      ]
     },
     "execution_count": 57,
     "metadata": {},
     "output_type": "execute_result"
    }
   ],
   "source": [
    "set_coverage_result"
   ]
  },
  {
   "cell_type": "markdown",
   "metadata": {},
   "source": [
    "### Partial Set-Coverage Problem\n",
    "#### Objective: Determine the minimum number of facilities and their locations in order to cover a given fraction of the population within a pre-specified maximum distance (or time) coverage\n",
    "This problem factors in population coverage, therefore as an additional input we need to produce a series that has each origin and its respective population"
   ]
  },
  {
   "cell_type": "code",
   "execution_count": 6,
   "metadata": {},
   "outputs": [],
   "source": [
    "origins_gdf = pd.read_csv(os.path.join(pth, 'origins_snapped.csv'))\n",
    "#origins_gdf\n",
    "#origins_gdf.Population.values"
   ]
  },
  {
   "cell_type": "code",
   "execution_count": 7,
   "metadata": {},
   "outputs": [
    {
     "data": {
      "text/plain": [
       "707"
      ]
     },
     "execution_count": 7,
     "metadata": {},
     "output_type": "execute_result"
    }
   ],
   "source": [
    "origins_w_pop_series = pd.Series(origins_gdf.Population.values, index=origins_gdf.NN)\n",
    "len(origins_w_pop_series)"
   ]
  },
  {
   "cell_type": "code",
   "execution_count": 16,
   "metadata": {},
   "outputs": [
    {
     "data": {
      "text/plain": [
       "678"
      ]
     },
     "execution_count": 16,
     "metadata": {},
     "output_type": "execute_result"
    }
   ],
   "source": [
    "#some origins end up snapping to the same nearest node, therefore the code below groups and sums origin populations\n",
    "origins_w_pop_series_no_dupl = origins_w_pop_series.groupby('NN').sum()\n",
    "len(origins_w_pop_series_no_dupl)"
   ]
  },
  {
   "cell_type": "code",
   "execution_count": 17,
   "metadata": {},
   "outputs": [
    {
     "data": {
      "text/plain": [
       "NN\n",
       "3      1458.0\n",
       "21     2232.0\n",
       "32     2041.0\n",
       "82     1508.0\n",
       "84     1610.0\n",
       "99     1295.0\n",
       "106    1216.0\n",
       "114     824.0\n",
       "124     440.0\n",
       "130    1104.0\n",
       "dtype: float64"
      ]
     },
     "execution_count": 17,
     "metadata": {},
     "output_type": "execute_result"
    }
   ],
   "source": [
    "origins_w_pop_series_no_dupl[:10]"
   ]
  },
  {
   "cell_type": "code",
   "execution_count": 18,
   "metadata": {},
   "outputs": [
    {
     "data": {
      "text/plain": [
       "1458.0"
      ]
     },
     "execution_count": 18,
     "metadata": {},
     "output_type": "execute_result"
    }
   ],
   "source": [
    "#sum(origins_w_pop_series_no_dupl)\n",
    "origins_w_pop_series_no_dupl[3]"
   ]
  },
  {
   "cell_type": "markdown",
   "metadata": {},
   "source": [
    "In the example below, inputs include covering 90 percent of the population, a pre-specified maximum distance coverage of 1200 seconds, and a series of origins with their population"
   ]
  },
  {
   "cell_type": "code",
   "execution_count": 19,
   "metadata": {},
   "outputs": [
    {
     "data": {
      "text/html": [
       "<div>\n",
       "<style scoped>\n",
       "    .dataframe tbody tr th:only-of-type {\n",
       "        vertical-align: middle;\n",
       "    }\n",
       "\n",
       "    .dataframe tbody tr th {\n",
       "        vertical-align: top;\n",
       "    }\n",
       "\n",
       "    .dataframe thead th {\n",
       "        text-align: right;\n",
       "    }\n",
       "</style>\n",
       "<table border=\"1\" class=\"dataframe\">\n",
       "  <thead>\n",
       "    <tr style=\"text-align: right;\">\n",
       "      <th></th>\n",
       "      <th>6048</th>\n",
       "      <th>2048</th>\n",
       "      <th>6691</th>\n",
       "      <th>4154</th>\n",
       "      <th>4198</th>\n",
       "      <th>4647</th>\n",
       "      <th>4233</th>\n",
       "      <th>3914</th>\n",
       "      <th>2959</th>\n",
       "      <th>175</th>\n",
       "      <th>3409</th>\n",
       "      <th>367</th>\n",
       "      <th>1556</th>\n",
       "      <th>917</th>\n",
       "      <th>4919</th>\n",
       "      <th>474</th>\n",
       "      <th>6107</th>\n",
       "    </tr>\n",
       "  </thead>\n",
       "  <tbody>\n",
       "    <tr>\n",
       "      <th>6147</th>\n",
       "      <td>1968.655016</td>\n",
       "      <td>1020.721567</td>\n",
       "      <td>363.676689</td>\n",
       "      <td>819.749517</td>\n",
       "      <td>1322.002788</td>\n",
       "      <td>1578.076932</td>\n",
       "      <td>1803.247252</td>\n",
       "      <td>806.455001</td>\n",
       "      <td>2049.990821</td>\n",
       "      <td>1517.705535</td>\n",
       "      <td>1879.396717</td>\n",
       "      <td>803.156991</td>\n",
       "      <td>1542.402922</td>\n",
       "      <td>1657.102815</td>\n",
       "      <td>583.090841</td>\n",
       "      <td>1736.154601</td>\n",
       "      <td>1584.512721</td>\n",
       "    </tr>\n",
       "    <tr>\n",
       "      <th>2052</th>\n",
       "      <td>525.817013</td>\n",
       "      <td>558.842693</td>\n",
       "      <td>1633.650766</td>\n",
       "      <td>1591.881656</td>\n",
       "      <td>274.594031</td>\n",
       "      <td>839.743363</td>\n",
       "      <td>1166.553316</td>\n",
       "      <td>1578.626774</td>\n",
       "      <td>872.524426</td>\n",
       "      <td>1600.311304</td>\n",
       "      <td>1019.720100</td>\n",
       "      <td>1744.228690</td>\n",
       "      <td>875.417373</td>\n",
       "      <td>694.618499</td>\n",
       "      <td>1785.150976</td>\n",
       "      <td>666.975509</td>\n",
       "      <td>544.361984</td>\n",
       "    </tr>\n",
       "    <tr>\n",
       "      <th>3</th>\n",
       "      <td>1330.771618</td>\n",
       "      <td>448.775456</td>\n",
       "      <td>1230.200991</td>\n",
       "      <td>1380.165021</td>\n",
       "      <td>873.074022</td>\n",
       "      <td>1498.688595</td>\n",
       "      <td>1962.518259</td>\n",
       "      <td>1307.025267</td>\n",
       "      <td>1668.335516</td>\n",
       "      <td>2097.397326</td>\n",
       "      <td>1815.601711</td>\n",
       "      <td>1546.804731</td>\n",
       "      <td>1534.362605</td>\n",
       "      <td>1386.775967</td>\n",
       "      <td>1520.879916</td>\n",
       "      <td>1471.197652</td>\n",
       "      <td>1236.519452</td>\n",
       "    </tr>\n",
       "    <tr>\n",
       "      <th>6154</th>\n",
       "      <td>153.550210</td>\n",
       "      <td>1138.247790</td>\n",
       "      <td>1658.305553</td>\n",
       "      <td>1700.636369</td>\n",
       "      <td>853.999129</td>\n",
       "      <td>1304.180223</td>\n",
       "      <td>723.313264</td>\n",
       "      <td>1988.980369</td>\n",
       "      <td>429.130522</td>\n",
       "      <td>1197.635321</td>\n",
       "      <td>576.396716</td>\n",
       "      <td>1787.841266</td>\n",
       "      <td>1304.052071</td>\n",
       "      <td>1079.897504</td>\n",
       "      <td>1828.763553</td>\n",
       "      <td>817.834594</td>\n",
       "      <td>822.268208</td>\n",
       "    </tr>\n",
       "    <tr>\n",
       "      <th>6162</th>\n",
       "      <td>202.318076</td>\n",
       "      <td>907.367997</td>\n",
       "      <td>1799.378687</td>\n",
       "      <td>1663.935343</td>\n",
       "      <td>623.119336</td>\n",
       "      <td>1074.262074</td>\n",
       "      <td>845.305328</td>\n",
       "      <td>1927.152078</td>\n",
       "      <td>551.122585</td>\n",
       "      <td>1319.627384</td>\n",
       "      <td>698.388780</td>\n",
       "      <td>1751.140240</td>\n",
       "      <td>1074.133922</td>\n",
       "      <td>849.979356</td>\n",
       "      <td>1792.062527</td>\n",
       "      <td>653.254488</td>\n",
       "      <td>592.350060</td>\n",
       "    </tr>\n",
       "  </tbody>\n",
       "</table>\n",
       "</div>"
      ],
      "text/plain": [
       "             6048         2048         6691         4154         4198  \\\n",
       "6147  1968.655016  1020.721567   363.676689   819.749517  1322.002788   \n",
       "2052   525.817013   558.842693  1633.650766  1591.881656   274.594031   \n",
       "3     1330.771618   448.775456  1230.200991  1380.165021   873.074022   \n",
       "6154   153.550210  1138.247790  1658.305553  1700.636369   853.999129   \n",
       "6162   202.318076   907.367997  1799.378687  1663.935343   623.119336   \n",
       "\n",
       "             4647         4233         3914         2959         175   \\\n",
       "6147  1578.076932  1803.247252   806.455001  2049.990821  1517.705535   \n",
       "2052   839.743363  1166.553316  1578.626774   872.524426  1600.311304   \n",
       "3     1498.688595  1962.518259  1307.025267  1668.335516  2097.397326   \n",
       "6154  1304.180223   723.313264  1988.980369   429.130522  1197.635321   \n",
       "6162  1074.262074   845.305328  1927.152078   551.122585  1319.627384   \n",
       "\n",
       "             3409         367          1556         917          4919  \\\n",
       "6147  1879.396717   803.156991  1542.402922  1657.102815   583.090841   \n",
       "2052  1019.720100  1744.228690   875.417373   694.618499  1785.150976   \n",
       "3     1815.601711  1546.804731  1534.362605  1386.775967  1520.879916   \n",
       "6154   576.396716  1787.841266  1304.052071  1079.897504  1828.763553   \n",
       "6162   698.388780  1751.140240  1074.133922   849.979356  1792.062527   \n",
       "\n",
       "             474          6107  \n",
       "6147  1736.154601  1584.512721  \n",
       "2052   666.975509   544.361984  \n",
       "3     1471.197652  1236.519452  \n",
       "6154   817.834594   822.268208  \n",
       "6162   653.254488   592.350060  "
      ]
     },
     "execution_count": 19,
     "metadata": {},
     "output_type": "execute_result"
    }
   ],
   "source": [
    "OD_df[:5]"
   ]
  },
  {
   "cell_type": "code",
   "execution_count": 41,
   "metadata": {},
   "outputs": [
    {
     "name": "stdout",
     "output_type": "stream",
     "text": [
      "peartree version: 0.6.1 \n",
      "networkx version: 2.2 \n",
      "matplotlib version: 2.2.2 \n",
      "osmnx version: 0.9 \n"
     ]
    },
    {
     "data": {
      "text/plain": [
       "<module 'GOSTnet_Optimization' from '../../../GOSTNets/GOSTNets/GOSTnet_Optimization.py'>"
      ]
     },
     "execution_count": 41,
     "metadata": {},
     "output_type": "execute_result"
    }
   ],
   "source": [
    "import importlib\n",
    "importlib.reload(gn)"
   ]
  },
  {
   "cell_type": "code",
   "execution_count": 80,
   "metadata": {},
   "outputs": [
    {
     "name": "stdout",
     "output_type": "stream",
     "text": [
      "print min_coverage\n",
      "846785.6000000001\n"
     ]
    }
   ],
   "source": [
    "# neet to double-check this\n",
    "partial_set_coverage_result = gn.optimize_partial_set_coverage(OD_df, pop_coverage = .8, max_coverage = 900, origins_pop_series = origins_w_pop_series_no_dupl, existing_facilities = None)"
   ]
  },
  {
   "cell_type": "code",
   "execution_count": 81,
   "metadata": {},
   "outputs": [
    {
     "data": {
      "text/plain": [
       "[2048, 3409, 3914]"
      ]
     },
     "execution_count": 81,
     "metadata": {},
     "output_type": "execute_result"
    }
   ],
   "source": [
    "partial_set_coverage_result"
   ]
  },
  {
   "cell_type": "code",
   "execution_count": null,
   "metadata": {},
   "outputs": [],
   "source": []
  }
 ],
 "metadata": {
  "kernelspec": {
   "display_name": "templateA",
   "language": "python",
   "name": "templatea"
  },
  "language_info": {
   "codemirror_mode": {
    "name": "ipython",
    "version": 3
   },
   "file_extension": ".py",
   "mimetype": "text/x-python",
   "name": "python",
   "nbconvert_exporter": "python",
   "pygments_lexer": "ipython3",
   "version": "3.7.3"
  }
 },
 "nbformat": 4,
 "nbformat_minor": 2
}
