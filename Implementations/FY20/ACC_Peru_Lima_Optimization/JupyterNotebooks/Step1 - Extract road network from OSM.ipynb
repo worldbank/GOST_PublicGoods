{
 "cells": [
  {
   "cell_type": "markdown",
   "metadata": {},
   "source": [
    "### Extract from OSM\n",
    "The purpose of this script is to show how to go from a .osm.pbf file to a network format that GOSTnets will accept. \n",
    "Additional modifications in this script include: clipping the roads to an input polygon, and slicing the roads DataFrame by a list of accepted road types, as tagged in OSM (see accepted_road_types list). "
   ]
  },
  {
   "cell_type": "code",
   "execution_count": 20,
   "metadata": {},
   "outputs": [],
   "source": [
    "import geopandas as gpd\n",
    "import pandas as pd\n",
    "import os, sys\n",
    "# add to your system path the location of the LoadOSM.py and GOSTnet.py scripts if this notebook is in\n",
    "# this path: GOST_PublicGoods/Implementations/Peru_Lima_Optimization/JupyterNotebooks\n",
    "sys.path.append(r'../../../GOSTNets/GOSTNets')\n",
    "import GOSTnet as gn\n",
    "import LoadOSM as losm\n",
    "import importlib"
   ]
  },
  {
   "cell_type": "markdown",
   "metadata": {},
   "source": [
    "Define filepaths. To obtain the latest .osm.pbf file for your country/region of interest, visit: http://download.geofabrik.de/ "
   ]
  },
  {
   "cell_type": "code",
   "execution_count": 21,
   "metadata": {},
   "outputs": [],
   "source": [
    "pth = r'../../Peru_Lima_Optimization/test_data'\n",
    "fil = r'peru-latest.osm.pbf'\n",
    "f = os.path.join(pth, fil)"
   ]
  },
  {
   "cell_type": "markdown",
   "metadata": {},
   "source": [
    "Using the loadOSM library, pass the filepath of the .osm.pbf to initiate a OSM_to_network class"
   ]
  },
  {
   "cell_type": "code",
   "execution_count": 22,
   "metadata": {},
   "outputs": [],
   "source": [
    "lima_network_obj = losm.OSM_to_network(f)"
   ]
  },
  {
   "cell_type": "markdown",
   "metadata": {},
   "source": [
    "This generates a property of the class called 'roads_raw'. This is a raw geodataframe of the highway objects, extracted from the .osm.pbf. This is the starting point for our network"
   ]
  },
  {
   "cell_type": "code",
   "execution_count": 23,
   "metadata": {},
   "outputs": [
    {
     "data": {
      "text/plain": [
       "residential       214694\n",
       "footway            34638\n",
       "path               22200\n",
       "unclassified       21416\n",
       "track              19940\n",
       "tertiary           18363\n",
       "service            16187\n",
       "secondary           9374\n",
       "primary             7090\n",
       "trunk               6849\n",
       "living_street       5436\n",
       "pedestrian          3766\n",
       "steps               3251\n",
       "road                2034\n",
       "secondary_link      1084\n",
       "primary_link        1004\n",
       "corridor             753\n",
       "motorway_link        645\n",
       "trunk_link           579\n",
       "motorway             513\n",
       "tertiary_link        317\n",
       "cycleway             255\n",
       "construction         174\n",
       "bridleway            144\n",
       "raceway               49\n",
       "bus_stop              27\n",
       "proposed              14\n",
       "yes                    2\n",
       "piste                  1\n",
       "Name: infra_type, dtype: int64"
      ]
     },
     "execution_count": 23,
     "metadata": {},
     "output_type": "execute_result"
    }
   ],
   "source": [
    "lima_network_obj.roads_raw.infra_type.value_counts()"
   ]
  },
  {
   "cell_type": "code",
   "execution_count": 24,
   "metadata": {},
   "outputs": [],
   "source": [
    "accepted_road_types = ['residential', 'unclassified', 'track','service','tertiary','road','secondary','primary','trunk','primary_link','trunk_link','tertiary_link','secondary_link']"
   ]
  },
  {
   "cell_type": "markdown",
   "metadata": {},
   "source": [
    "We call the filerRoads method and pass it a list of acceptable road types"
   ]
  },
  {
   "cell_type": "code",
   "execution_count": 25,
   "metadata": {},
   "outputs": [],
   "source": [
    "lima_network_obj.filterRoads(acceptedRoads = accepted_road_types)"
   ]
  },
  {
   "cell_type": "code",
   "execution_count": 26,
   "metadata": {},
   "outputs": [
    {
     "data": {
      "text/plain": [
       "residential       214694\n",
       "unclassified       21416\n",
       "track              19940\n",
       "tertiary           18363\n",
       "service            16187\n",
       "secondary           9374\n",
       "primary             7090\n",
       "trunk               6849\n",
       "road                2034\n",
       "secondary_link      1084\n",
       "primary_link        1004\n",
       "trunk_link           579\n",
       "tertiary_link        317\n",
       "Name: infra_type, dtype: int64"
      ]
     },
     "execution_count": 26,
     "metadata": {},
     "output_type": "execute_result"
    }
   ],
   "source": [
    "lima_network_obj.roads_raw.infra_type.value_counts()"
   ]
  },
  {
   "cell_type": "markdown",
   "metadata": {},
   "source": [
    "Here, we import a shapefile for our AOI and clip to its extent using standard Shapely and GeoPandas functions"
   ]
  },
  {
   "cell_type": "code",
   "execution_count": 28,
   "metadata": {},
   "outputs": [],
   "source": [
    "shp = gpd.read_file(os.path.join(pth, 'VillaElSalvador_AOI.shp'))\n",
    "#shp = shp.to_crs({'init':'epsg:4326'})\n",
    "from shapely.ops import unary_union\n",
    "shp_obj = unary_union(shp.geometry)"
   ]
  },
  {
   "cell_type": "code",
   "execution_count": 29,
   "metadata": {},
   "outputs": [
    {
     "data": {
      "image/svg+xml": [
       "<svg xmlns=\"http://www.w3.org/2000/svg\" xmlns:xlink=\"http://www.w3.org/1999/xlink\" width=\"100.0\" height=\"100.0\" viewBox=\"-76.97948619999988 -12.254653199999892 0.07320139999984576 0.07525439999994532\" preserveAspectRatio=\"xMinYMin meet\"><g transform=\"matrix(1,0,0,-1,0,-24.434051999999838)\"><path fill-rule=\"evenodd\" fill=\"#66cc99\" stroke=\"#555555\" stroke-width=\"0.0015050879999989064\" opacity=\"0.6\" d=\"M -76.9417959999999,-12.182413999999994 L -76.92251699999991,-12.214146999999855 L -76.92044099999993,-12.221924999999942 L -76.91924199999994,-12.22461699999991 L -76.91824399999996,-12.225909000000058 L -76.91685599999994,-12.22689600000001 L -76.91120999999998,-12.229165999999907 L -76.9091949999999,-12.229550999999901 L -76.90907200000004,-12.230084999999917 L -76.90931599999993,-12.231383999999935 L -76.90988099999998,-12.232267999999863 L -76.91168900000002,-12.236502999999914 L -76.91176599999989,-12.239086999999927 L -76.91136999999998,-12.240066999999897 L -76.91440599999993,-12.242710999999929 L -76.91514599999988,-12.243617999999913 L -76.91554299999996,-12.24481000000003 L -76.91602399999994,-12.248231000000033 L -76.91721999999987,-12.24849299999994 L -76.92487399999999,-12.24872999999991 L -76.92516999999998,-12.249178999999856 L -76.92572799999994,-12.25166999999999 L -76.92614799999996,-12.251865999999893 L -76.93345699999998,-12.247250999999892 L -76.93543999999997,-12.246450999999922 L -76.95146199999994,-12.238546999999926 L -76.96580499999993,-12.231105999999954 L -76.96703999999994,-12.230166999999938 L -76.96962699999995,-12.227460999999948 L -76.97104000000002,-12.22663799999998 L -76.97544799999986,-12.222184999999854 L -76.97622699999982,-12.220030999999892 L -76.97669899999988,-12.217496999999923 L -76.97640299999989,-12.216935999999919 L -76.97571699999997,-12.213409999999897 L -76.97187899999994,-12.191842999999892 L -76.97108499999996,-12.191723999999908 L -76.96923899999985,-12.19260399999996 L -76.96769599999988,-12.19291399999986 L -76.95930499999997,-12.192375999999967 L -76.95728999999989,-12.1919749999999 L -76.95583999999991,-12.190829000000008 L -76.95371199999994,-12.187571999999989 L -76.95326899999998,-12.186454999999853 L -76.95281099999983,-12.184125999999878 L -76.94728899999984,-12.185365999999988 L -76.94236799999999,-12.182185999999945 L -76.9417959999999,-12.182413999999994 z\" /></g></svg>"
      ],
      "text/plain": [
       "<shapely.geometry.polygon.Polygon at 0x7f8f1c635cc0>"
      ]
     },
     "execution_count": 29,
     "metadata": {},
     "output_type": "execute_result"
    }
   ],
   "source": [
    "shp_obj"
   ]
  },
  {
   "cell_type": "code",
   "execution_count": 30,
   "metadata": {},
   "outputs": [
    {
     "data": {
      "text/plain": [
       "osm_id        318931\n",
       "infra_type    318931\n",
       "geometry      318931\n",
       "dtype: int64"
      ]
     },
     "execution_count": 30,
     "metadata": {},
     "output_type": "execute_result"
    }
   ],
   "source": [
    "lima_network_obj.roads_raw.count()"
   ]
  },
  {
   "cell_type": "code",
   "execution_count": 31,
   "metadata": {},
   "outputs": [
    {
     "data": {
      "text/plain": [
       "False    315833\n",
       "True       3098\n",
       "dtype: int64"
      ]
     },
     "execution_count": 31,
     "metadata": {},
     "output_type": "execute_result"
    }
   ],
   "source": [
    "# count of roads that intersect the AOI\n",
    "lima_network_obj.roads_raw.geometry.intersects(shp_obj).value_counts()"
   ]
  },
  {
   "cell_type": "code",
   "execution_count": 12,
   "metadata": {},
   "outputs": [],
   "source": [
    "lima_network_obj.roads_raw = lima.roads_raw.loc[lima.roads_raw.geometry.intersects(shp_obj) == True]"
   ]
  },
  {
   "cell_type": "code",
   "execution_count": 13,
   "metadata": {},
   "outputs": [
    {
     "data": {
      "text/plain": [
       "osm_id        3098\n",
       "infra_type    3098\n",
       "geometry      3098\n",
       "dtype: int64"
      ]
     },
     "execution_count": 13,
     "metadata": {},
     "output_type": "execute_result"
    }
   ],
   "source": [
    "lima_network_obj.roads_raw.count()"
   ]
  },
  {
   "cell_type": "code",
   "execution_count": 14,
   "metadata": {},
   "outputs": [
    {
     "data": {
      "text/html": [
       "<div>\n",
       "<style scoped>\n",
       "    .dataframe tbody tr th:only-of-type {\n",
       "        vertical-align: middle;\n",
       "    }\n",
       "\n",
       "    .dataframe tbody tr th {\n",
       "        vertical-align: top;\n",
       "    }\n",
       "\n",
       "    .dataframe thead th {\n",
       "        text-align: right;\n",
       "    }\n",
       "</style>\n",
       "<table border=\"1\" class=\"dataframe\">\n",
       "  <thead>\n",
       "    <tr style=\"text-align: right;\">\n",
       "      <th></th>\n",
       "      <th>osm_id</th>\n",
       "      <th>infra_type</th>\n",
       "      <th>geometry</th>\n",
       "    </tr>\n",
       "  </thead>\n",
       "  <tbody>\n",
       "    <tr>\n",
       "      <th>5686</th>\n",
       "      <td>39456802</td>\n",
       "      <td>primary</td>\n",
       "      <td>LINESTRING (-76.94347740000001 -12.1805205, -7...</td>\n",
       "    </tr>\n",
       "    <tr>\n",
       "      <th>6335</th>\n",
       "      <td>42432493</td>\n",
       "      <td>residential</td>\n",
       "      <td>LINESTRING (-76.9116267 -12.2349531, -76.91152...</td>\n",
       "    </tr>\n",
       "    <tr>\n",
       "      <th>12224</th>\n",
       "      <td>80913464</td>\n",
       "      <td>residential</td>\n",
       "      <td>LINESTRING (-76.9596478 -12.2232528, -76.95906...</td>\n",
       "    </tr>\n",
       "    <tr>\n",
       "      <th>12225</th>\n",
       "      <td>80913482</td>\n",
       "      <td>primary</td>\n",
       "      <td>LINESTRING (-76.93026399999999 -12.2024961, -7...</td>\n",
       "    </tr>\n",
       "    <tr>\n",
       "      <th>29878</th>\n",
       "      <td>111879454</td>\n",
       "      <td>residential</td>\n",
       "      <td>LINESTRING (-76.92377860000001 -12.2195938, -7...</td>\n",
       "    </tr>\n",
       "  </tbody>\n",
       "</table>\n",
       "</div>"
      ],
      "text/plain": [
       "          osm_id   infra_type  \\\n",
       "5686    39456802      primary   \n",
       "6335    42432493  residential   \n",
       "12224   80913464  residential   \n",
       "12225   80913482      primary   \n",
       "29878  111879454  residential   \n",
       "\n",
       "                                                geometry  \n",
       "5686   LINESTRING (-76.94347740000001 -12.1805205, -7...  \n",
       "6335   LINESTRING (-76.9116267 -12.2349531, -76.91152...  \n",
       "12224  LINESTRING (-76.9596478 -12.2232528, -76.95906...  \n",
       "12225  LINESTRING (-76.93026399999999 -12.2024961, -7...  \n",
       "29878  LINESTRING (-76.92377860000001 -12.2195938, -7...  "
      ]
     },
     "execution_count": 14,
     "metadata": {},
     "output_type": "execute_result"
    }
   ],
   "source": [
    "lima_network_obj.roads_raw[:5]"
   ]
  },
  {
   "cell_type": "markdown",
   "metadata": {},
   "source": [
    "having narrowed the GeoDataFrame to the roads we are interested in, we generate the RoadsGDF GeoDataFrame (by default this function saves the RoadsGDF GeoDataFrame into the object's roadsGPD property"
   ]
  },
  {
   "cell_type": "code",
   "execution_count": 15,
   "metadata": {},
   "outputs": [],
   "source": [
    "lima_network_obj.generateRoadsGDF(verbose = False)"
   ]
  },
  {
   "cell_type": "code",
   "execution_count": 16,
   "metadata": {},
   "outputs": [
    {
     "data": {
      "text/html": [
       "<div>\n",
       "<style scoped>\n",
       "    .dataframe tbody tr th:only-of-type {\n",
       "        vertical-align: middle;\n",
       "    }\n",
       "\n",
       "    .dataframe tbody tr th {\n",
       "        vertical-align: top;\n",
       "    }\n",
       "\n",
       "    .dataframe thead th {\n",
       "        text-align: right;\n",
       "    }\n",
       "</style>\n",
       "<table border=\"1\" class=\"dataframe\">\n",
       "  <thead>\n",
       "    <tr style=\"text-align: right;\">\n",
       "      <th></th>\n",
       "      <th>Wkt</th>\n",
       "      <th>id</th>\n",
       "      <th>infra_type</th>\n",
       "      <th>osm_id</th>\n",
       "      <th>key</th>\n",
       "      <th>length</th>\n",
       "      <th>u</th>\n",
       "      <th>v</th>\n",
       "    </tr>\n",
       "  </thead>\n",
       "  <tbody>\n",
       "    <tr>\n",
       "      <th>0</th>\n",
       "      <td>LINESTRING (-76.94347740000001 -12.1805205, -7...</td>\n",
       "      <td>1</td>\n",
       "      <td>primary</td>\n",
       "      <td>39456802</td>\n",
       "      <td>edge_1</td>\n",
       "      <td>0.107734</td>\n",
       "      <td>(-76.9434774, -12.1805205)</td>\n",
       "      <td>(-76.9429819, -12.1813636)</td>\n",
       "    </tr>\n",
       "    <tr>\n",
       "      <th>1</th>\n",
       "      <td>LINESTRING (-76.94298190000001 -12.1813636, -7...</td>\n",
       "      <td>2</td>\n",
       "      <td>primary</td>\n",
       "      <td>39456802</td>\n",
       "      <td>edge_2</td>\n",
       "      <td>0.145671</td>\n",
       "      <td>(-76.9429819, -12.1813636)</td>\n",
       "      <td>(-76.9423017, -12.1824977)</td>\n",
       "    </tr>\n",
       "    <tr>\n",
       "      <th>2</th>\n",
       "      <td>LINESTRING (-76.9116267 -12.2349531, -76.91152...</td>\n",
       "      <td>3</td>\n",
       "      <td>residential</td>\n",
       "      <td>42432493</td>\n",
       "      <td>edge_3</td>\n",
       "      <td>0.010957</td>\n",
       "      <td>(-76.9116267, -12.2349531)</td>\n",
       "      <td>(-76.9115282, -12.2349737)</td>\n",
       "    </tr>\n",
       "    <tr>\n",
       "      <th>3</th>\n",
       "      <td>LINESTRING (-76.91152820000001 -12.2349737, -7...</td>\n",
       "      <td>4</td>\n",
       "      <td>residential</td>\n",
       "      <td>42432493</td>\n",
       "      <td>edge_4</td>\n",
       "      <td>0.034435</td>\n",
       "      <td>(-76.9115282, -12.2349737)</td>\n",
       "      <td>(-76.9112309, -12.2350804)</td>\n",
       "    </tr>\n",
       "    <tr>\n",
       "      <th>4</th>\n",
       "      <td>LINESTRING (-76.91123090000001 -12.2350804, -7...</td>\n",
       "      <td>5</td>\n",
       "      <td>residential</td>\n",
       "      <td>42432493</td>\n",
       "      <td>edge_5</td>\n",
       "      <td>1.008291</td>\n",
       "      <td>(-76.9112309, -12.2350804)</td>\n",
       "      <td>(-76.9026954, -12.2335763)</td>\n",
       "    </tr>\n",
       "  </tbody>\n",
       "</table>\n",
       "</div>"
      ],
      "text/plain": [
       "                                                 Wkt  id   infra_type  \\\n",
       "0  LINESTRING (-76.94347740000001 -12.1805205, -7...   1      primary   \n",
       "1  LINESTRING (-76.94298190000001 -12.1813636, -7...   2      primary   \n",
       "2  LINESTRING (-76.9116267 -12.2349531, -76.91152...   3  residential   \n",
       "3  LINESTRING (-76.91152820000001 -12.2349737, -7...   4  residential   \n",
       "4  LINESTRING (-76.91123090000001 -12.2350804, -7...   5  residential   \n",
       "\n",
       "     osm_id     key    length                           u  \\\n",
       "0  39456802  edge_1  0.107734  (-76.9434774, -12.1805205)   \n",
       "1  39456802  edge_2  0.145671  (-76.9429819, -12.1813636)   \n",
       "2  42432493  edge_3  0.010957  (-76.9116267, -12.2349531)   \n",
       "3  42432493  edge_4  0.034435  (-76.9115282, -12.2349737)   \n",
       "4  42432493  edge_5  1.008291  (-76.9112309, -12.2350804)   \n",
       "\n",
       "                            v  \n",
       "0  (-76.9429819, -12.1813636)  \n",
       "1  (-76.9423017, -12.1824977)  \n",
       "2  (-76.9115282, -12.2349737)  \n",
       "3  (-76.9112309, -12.2350804)  \n",
       "4  (-76.9026954, -12.2335763)  "
      ]
     },
     "execution_count": 16,
     "metadata": {},
     "output_type": "execute_result"
    }
   ],
   "source": [
    "lima_network_obj.roadsGPD[:5]"
   ]
  },
  {
   "cell_type": "markdown",
   "metadata": {},
   "source": [
    "With initialReadIn(), we transform this to a graph object"
   ]
  },
  {
   "cell_type": "code",
   "execution_count": 17,
   "metadata": {},
   "outputs": [
    {
     "data": {
      "text/plain": [
       "<networkx.classes.multidigraph.MultiDiGraph at 0x7f8f1f4aeb00>"
      ]
     },
     "execution_count": 17,
     "metadata": {},
     "output_type": "execute_result"
    }
   ],
   "source": [
    "lima_network_obj.initialReadIn()"
   ]
  },
  {
   "cell_type": "markdown",
   "metadata": {},
   "source": [
    "We save this graph object down to file using gn.save()"
   ]
  },
  {
   "cell_type": "code",
   "execution_count": 18,
   "metadata": {},
   "outputs": [],
   "source": [
    "#output_pth = r'/home/public/Data/PROJECTS/lima_optimization'\n",
    "output_pth = r'../../../../lima_optimization_output'\n",
    "gn.save(lima_network_obj.network,'VES_graph',output_pth)"
   ]
  }
 ],
 "metadata": {
  "kernelspec": {
   "display_name": "templateA",
   "language": "python",
   "name": "templatea"
  },
  "language_info": {
   "codemirror_mode": {
    "name": "ipython",
    "version": 3
   },
   "file_extension": ".py",
   "mimetype": "text/x-python",
   "name": "python",
   "nbconvert_exporter": "python",
   "pygments_lexer": "ipython3",
   "version": "3.7.3"
  }
 },
 "nbformat": 4,
 "nbformat_minor": 2
}
