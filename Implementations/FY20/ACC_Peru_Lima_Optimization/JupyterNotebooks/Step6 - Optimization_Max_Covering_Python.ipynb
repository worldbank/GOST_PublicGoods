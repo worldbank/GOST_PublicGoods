{
 "cells": [
  {
   "cell_type": "markdown",
   "metadata": {},
   "source": [
    "This is a type of location optimization analysis, specifically finding the optimal location of facilites on a network. These are two types of Set-Coverage analysis implemented in **Python**:\n",
    "\n",
    "### The Maximal Covering Location Problem (MCLP)\n",
    "#### Objective: The Maximal Covering Location Problem determines the location of P facilities in order to maximize the demand covered within a pre-specified maximum distance coverage.\n",
    "\n",
    "more information on GOSTNets Optimization can be found in the wiki: https://github.com/worldbank/GOST_PublicGoods/wiki/GOSTnets-Optimization"
   ]
  },
  {
   "cell_type": "code",
   "execution_count": 4,
   "metadata": {},
   "outputs": [],
   "source": [
    "import geopandas as gpd\n",
    "import pandas as pd\n",
    "import os, sys, time\n",
    "sys.path.append(r'../../../GOSTNets/GOSTNets')\n",
    "import GOSTnet_Optimization as gn\n",
    "import importlib\n",
    "import networkx as nx\n",
    "import osmnx as ox"
   ]
  },
  {
   "cell_type": "code",
   "execution_count": 9,
   "metadata": {},
   "outputs": [],
   "source": [
    "pth = r'../../../../lima_optimization_output'"
   ]
  },
  {
   "cell_type": "markdown",
   "metadata": {},
   "source": [
    "### load OD matrix"
   ]
  },
  {
   "cell_type": "code",
   "execution_count": 21,
   "metadata": {},
   "outputs": [],
   "source": [
    "OD_df = pd.read_csv(os.path.join(pth, 'saved_OD.csv'),index_col=0)"
   ]
  },
  {
   "cell_type": "markdown",
   "metadata": {},
   "source": [
    "### read origins snapped csv"
   ]
  },
  {
   "cell_type": "code",
   "execution_count": 10,
   "metadata": {},
   "outputs": [
    {
     "data": {
      "text/html": [
       "<div>\n",
       "<style scoped>\n",
       "    .dataframe tbody tr th:only-of-type {\n",
       "        vertical-align: middle;\n",
       "    }\n",
       "\n",
       "    .dataframe tbody tr th {\n",
       "        vertical-align: top;\n",
       "    }\n",
       "\n",
       "    .dataframe thead th {\n",
       "        text-align: right;\n",
       "    }\n",
       "</style>\n",
       "<table border=\"1\" class=\"dataframe\">\n",
       "  <thead>\n",
       "    <tr style=\"text-align: right;\">\n",
       "      <th></th>\n",
       "      <th>Unnamed: 0</th>\n",
       "      <th>O_ID</th>\n",
       "      <th>NC_CLASS</th>\n",
       "      <th>Shape_Leng</th>\n",
       "      <th>Shape_Area</th>\n",
       "      <th>ORIG_FID</th>\n",
       "      <th>Population</th>\n",
       "      <th>Lat</th>\n",
       "      <th>Lon</th>\n",
       "      <th>geometry</th>\n",
       "      <th>NN</th>\n",
       "      <th>NN_dist</th>\n",
       "    </tr>\n",
       "  </thead>\n",
       "  <tbody>\n",
       "    <tr>\n",
       "      <th>0</th>\n",
       "      <td>0</td>\n",
       "      <td>1</td>\n",
       "      <td>3.0</td>\n",
       "      <td>0.003205</td>\n",
       "      <td>2.860800e-07</td>\n",
       "      <td>0</td>\n",
       "      <td>1078.0</td>\n",
       "      <td>-12.24839</td>\n",
       "      <td>-76.91749</td>\n",
       "      <td>POINT (-76.91749 -12.24839)</td>\n",
       "      <td>6528</td>\n",
       "      <td>21.347245</td>\n",
       "    </tr>\n",
       "    <tr>\n",
       "      <th>1</th>\n",
       "      <td>1</td>\n",
       "      <td>2</td>\n",
       "      <td>3.0</td>\n",
       "      <td>0.008010</td>\n",
       "      <td>2.565700e-06</td>\n",
       "      <td>1</td>\n",
       "      <td>2374.0</td>\n",
       "      <td>-12.24319</td>\n",
       "      <td>-76.92767</td>\n",
       "      <td>POINT (-76.92766999999999 -12.24319)</td>\n",
       "      <td>5270</td>\n",
       "      <td>37.506920</td>\n",
       "    </tr>\n",
       "    <tr>\n",
       "      <th>2</th>\n",
       "      <td>2</td>\n",
       "      <td>3</td>\n",
       "      <td>3.0</td>\n",
       "      <td>0.010808</td>\n",
       "      <td>2.141710e-06</td>\n",
       "      <td>2</td>\n",
       "      <td>367.0</td>\n",
       "      <td>-12.24444</td>\n",
       "      <td>-76.91685</td>\n",
       "      <td>POINT (-76.91685 -12.24444)</td>\n",
       "      <td>1921</td>\n",
       "      <td>6.260416</td>\n",
       "    </tr>\n",
       "  </tbody>\n",
       "</table>\n",
       "</div>"
      ],
      "text/plain": [
       "   Unnamed: 0  O_ID  NC_CLASS  Shape_Leng    Shape_Area  ORIG_FID  Population  \\\n",
       "0           0     1       3.0    0.003205  2.860800e-07         0      1078.0   \n",
       "1           1     2       3.0    0.008010  2.565700e-06         1      2374.0   \n",
       "2           2     3       3.0    0.010808  2.141710e-06         2       367.0   \n",
       "\n",
       "        Lat       Lon                              geometry    NN    NN_dist  \n",
       "0 -12.24839 -76.91749           POINT (-76.91749 -12.24839)  6528  21.347245  \n",
       "1 -12.24319 -76.92767  POINT (-76.92766999999999 -12.24319)  5270  37.506920  \n",
       "2 -12.24444 -76.91685           POINT (-76.91685 -12.24444)  1921   6.260416  "
      ]
     },
     "execution_count": 10,
     "metadata": {},
     "output_type": "execute_result"
    }
   ],
   "source": [
    "origins_snapped_df =  pd.read_csv(os.path.join(pth, 'origins_snapped.csv'))\n",
    "origins_snapped_df[:3]"
   ]
  },
  {
   "cell_type": "code",
   "execution_count": 14,
   "metadata": {},
   "outputs": [
    {
     "data": {
      "text/plain": [
       "707"
      ]
     },
     "execution_count": 14,
     "metadata": {},
     "output_type": "execute_result"
    }
   ],
   "source": [
    "#create a series of the unique Nearest Node (NN) and its corresponding population value\n",
    "origins_w_demands_series = pd.Series(origins_snapped_df.Population.values,index=origins_snapped_df.NN)\n",
    "len(origins_w_demands_series)"
   ]
  },
  {
   "cell_type": "code",
   "execution_count": 17,
   "metadata": {},
   "outputs": [
    {
     "data": {
      "text/plain": [
       "678"
      ]
     },
     "execution_count": 17,
     "metadata": {},
     "output_type": "execute_result"
    }
   ],
   "source": [
    "#some origins end up snapping to the same nearest node, therefore the code below groups and sums origin populations\n",
    "origins_w_demands_series_no_dupl = origins_w_demands_series.groupby('NN').sum()\n",
    "len(origins_w_demands_series_no_dupl)"
   ]
  },
  {
   "cell_type": "markdown",
   "metadata": {},
   "source": [
    "### we produced a series that has each origin and its respective population"
   ]
  },
  {
   "cell_type": "code",
   "execution_count": 29,
   "metadata": {},
   "outputs": [
    {
     "data": {
      "text/plain": [
       "NN\n",
       "3       1458.0\n",
       "21      2232.0\n",
       "32      2041.0\n",
       "82      1508.0\n",
       "84      1610.0\n",
       "99      1295.0\n",
       "106     1216.0\n",
       "114      824.0\n",
       "124      440.0\n",
       "130     1104.0\n",
       "149     1798.0\n",
       "150     2484.0\n",
       "152      310.0\n",
       "161      665.0\n",
       "163     1611.0\n",
       "170     2729.0\n",
       "173     2208.0\n",
       "174     2426.0\n",
       "175     1225.0\n",
       "222      526.0\n",
       "224      455.0\n",
       "294      649.0\n",
       "295     2393.0\n",
       "296     2218.0\n",
       "297     2301.0\n",
       "298     2689.0\n",
       "321      512.0\n",
       "335     1303.0\n",
       "351     2787.0\n",
       "352     1978.0\n",
       "         ...  \n",
       "6440    1525.0\n",
       "6478     297.0\n",
       "6485    1510.0\n",
       "6486    2716.0\n",
       "6493    2990.0\n",
       "6495    2664.0\n",
       "6498     998.0\n",
       "6513    1579.0\n",
       "6514     852.0\n",
       "6528    1078.0\n",
       "6529    2113.0\n",
       "6533     130.0\n",
       "6536    2718.0\n",
       "6546     261.0\n",
       "6558    1151.0\n",
       "6568    2352.0\n",
       "6605    2816.0\n",
       "6626    2503.0\n",
       "6629    2505.0\n",
       "6645    2854.0\n",
       "6659    1183.0\n",
       "6660     682.0\n",
       "6666    1451.0\n",
       "6671    1818.0\n",
       "6674    2150.0\n",
       "6675    1092.0\n",
       "6698    2078.0\n",
       "6703     435.0\n",
       "6718    1285.0\n",
       "6726    2981.0\n",
       "Length: 678, dtype: float64"
      ]
     },
     "execution_count": 29,
     "metadata": {},
     "output_type": "execute_result"
    }
   ],
   "source": [
    "origins_w_demands_series_no_dupl"
   ]
  },
  {
   "cell_type": "code",
   "execution_count": 31,
   "metadata": {
    "scrolled": false
   },
   "outputs": [],
   "source": [
    "#for Julia functions\n",
    "origins_w_demands_series_no_dupl.to_csv(os.path.join(pth, 'origins_w_demands_series_no_dupl.csv'), header=[\"pop\"])"
   ]
  },
  {
   "cell_type": "markdown",
   "metadata": {},
   "source": [
    "### Inputs include the OD matrix, locating 3 facilities, a pre-specified maximum distance coverage of 2000 seconds, and a dictionary of origins with their population"
   ]
  },
  {
   "cell_type": "code",
   "execution_count": 24,
   "metadata": {},
   "outputs": [
    {
     "name": "stdout",
     "output_type": "stream",
     "text": [
      "peartree version: 0.6.1 \n",
      "networkx version: 2.2 \n",
      "matplotlib version: 2.2.2 \n",
      "osmnx version: 0.9 \n"
     ]
    },
    {
     "data": {
      "text/plain": [
       "<module 'GOSTnet_Optimization' from '../../../GOSTNets/GOSTNets/GOSTnet_Optimization.py'>"
      ]
     },
     "execution_count": 24,
     "metadata": {},
     "output_type": "execute_result"
    }
   ],
   "source": [
    "import importlib\n",
    "importlib.reload(gn)"
   ]
  },
  {
   "cell_type": "code",
   "execution_count": 41,
   "metadata": {},
   "outputs": [
    {
     "name": "stdout",
     "output_type": "stream",
     "text": [
      "print objective value\n",
      "98238.0\n"
     ]
    }
   ],
   "source": [
    "max_coverage_result = gn.optimize_max_coverage(OD_df, p_facilities = 3, max_coverage = 200, origins_pop_series = origins_w_demands_series_no_dupl, existing_facilities = None)"
   ]
  },
  {
   "cell_type": "code",
   "execution_count": 42,
   "metadata": {},
   "outputs": [
    {
     "data": {
      "text/plain": [
       "[2048, 3914, 474]"
      ]
     },
     "execution_count": 42,
     "metadata": {},
     "output_type": "execute_result"
    }
   ],
   "source": [
    "max_coverage_result"
   ]
  },
  {
   "cell_type": "code",
   "execution_count": null,
   "metadata": {},
   "outputs": [],
   "source": []
  }
 ],
 "metadata": {
  "kernelspec": {
   "display_name": "templateA",
   "language": "python",
   "name": "templatea"
  },
  "language_info": {
   "codemirror_mode": {
    "name": "ipython",
    "version": 3
   },
   "file_extension": ".py",
   "mimetype": "text/x-python",
   "name": "python",
   "nbconvert_exporter": "python",
   "pygments_lexer": "ipython3",
   "version": "3.7.3"
  }
 },
 "nbformat": 4,
 "nbformat_minor": 2
}
