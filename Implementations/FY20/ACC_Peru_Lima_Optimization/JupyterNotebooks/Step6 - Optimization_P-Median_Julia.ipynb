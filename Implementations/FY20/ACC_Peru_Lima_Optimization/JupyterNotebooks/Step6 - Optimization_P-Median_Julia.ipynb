{
 "cells": [
  {
   "cell_type": "markdown",
   "metadata": {},
   "source": [
    "This is a type of location optimization analysis, specifically finding the optimal location of facilites on a network. This analysis is the P-Median Problem implemented in **Julia**:\n",
    "\n",
    "### P-Median Problem\n",
    "The P-median problem finds the location of (a pre-specified number of) P facilities to minimize the average travel distance (or time) among all demand points and facilities. The P-median problem can take into account the level of demand at each point (e.g. number of people, or the number of visits).\n",
    "\n",
    "more information on GOSTNets Optimization can be found in the wiki: https://github.com/worldbank/GOST_PublicGoods/wiki/GOSTnets-Optimization"
   ]
  },
  {
   "cell_type": "markdown",
   "metadata": {},
   "source": [
    "#### This is a Julia Notebook. If you are new to Julia, these are the [steps](https://datatofish.com/add-julia-to-jupyter/) to add Julia to a Jupyter Notebook"
   ]
  },
  {
   "cell_type": "code",
   "execution_count": 46,
   "metadata": {},
   "outputs": [
    {
     "name": "stdout",
     "output_type": "stream",
     "text": [
      "\u001b[32m\u001b[1m Resolving\u001b[22m\u001b[39m package versions...\n",
      "\u001b[32m\u001b[1m  Updating\u001b[22m\u001b[39m `~/.julia/environments/v1.0/Project.toml`\n",
      "\u001b[90m [no changes]\u001b[39m\n",
      "\u001b[32m\u001b[1m  Updating\u001b[22m\u001b[39m `~/.julia/environments/v1.0/Manifest.toml`\n",
      "\u001b[90m [no changes]\u001b[39m\n",
      "\u001b[32m\u001b[1m Resolving\u001b[22m\u001b[39m package versions...\n",
      "\u001b[32m\u001b[1m  Updating\u001b[22m\u001b[39m `~/.julia/environments/v1.0/Project.toml`\n",
      "\u001b[90m [no changes]\u001b[39m\n",
      "\u001b[32m\u001b[1m  Updating\u001b[22m\u001b[39m `~/.julia/environments/v1.0/Manifest.toml`\n",
      "\u001b[90m [no changes]\u001b[39m\n",
      "\u001b[32m\u001b[1m Resolving\u001b[22m\u001b[39m package versions...\n",
      "\u001b[32m\u001b[1m  Updating\u001b[22m\u001b[39m `~/.julia/environments/v1.0/Project.toml`\n",
      "\u001b[90m [no changes]\u001b[39m\n",
      "\u001b[32m\u001b[1m  Updating\u001b[22m\u001b[39m `~/.julia/environments/v1.0/Manifest.toml`\n",
      "\u001b[90m [no changes]\u001b[39m\n",
      "\u001b[32m\u001b[1m Resolving\u001b[22m\u001b[39m package versions...\n",
      "\u001b[32m\u001b[1m  Updating\u001b[22m\u001b[39m `~/.julia/environments/v1.0/Project.toml`\n",
      "\u001b[90m [no changes]\u001b[39m\n",
      "\u001b[32m\u001b[1m  Updating\u001b[22m\u001b[39m `~/.julia/environments/v1.0/Manifest.toml`\n",
      "\u001b[90m [no changes]\u001b[39m\n",
      "\u001b[32m\u001b[1m Resolving\u001b[22m\u001b[39m package versions...\n",
      "\u001b[32m\u001b[1m  Updating\u001b[22m\u001b[39m `~/.julia/environments/v1.0/Project.toml`\n",
      "\u001b[90m [no changes]\u001b[39m\n",
      "\u001b[32m\u001b[1m  Updating\u001b[22m\u001b[39m `~/.julia/environments/v1.0/Manifest.toml`\n",
      "\u001b[90m [no changes]\u001b[39m\n",
      "\u001b[32m\u001b[1m Resolving\u001b[22m\u001b[39m package versions...\n",
      "\u001b[32m\u001b[1m  Updating\u001b[22m\u001b[39m `~/.julia/environments/v1.0/Project.toml`\n",
      "\u001b[90m [no changes]\u001b[39m\n",
      "\u001b[32m\u001b[1m  Updating\u001b[22m\u001b[39m `~/.julia/environments/v1.0/Manifest.toml`\n",
      "\u001b[90m [no changes]\u001b[39m\n",
      "\u001b[32m\u001b[1m Resolving\u001b[22m\u001b[39m package versions...\n",
      "\u001b[32m\u001b[1m  Updating\u001b[22m\u001b[39m `~/.julia/environments/v1.0/Project.toml`\n",
      "\u001b[90m [no changes]\u001b[39m\n",
      "\u001b[32m\u001b[1m  Updating\u001b[22m\u001b[39m `~/.julia/environments/v1.0/Manifest.toml`\n",
      "\u001b[90m [no changes]\u001b[39m\n",
      "Done installing packages\n"
     ]
    }
   ],
   "source": [
    "using Pkg\n",
    "Pkg.add(\"JuMP\")\n",
    "Pkg.add(\"Cbc\")\n",
    "Pkg.add(\"MathOptInterface\")\n",
    "Pkg.add(\"MathProgBase\")\n",
    "Pkg.add(\"CSV\")\n",
    "Pkg.add(\"DelimitedFiles\")\n",
    "Pkg.add(\"DataFrames\")\n",
    "println(\"Done installing packages\")"
   ]
  },
  {
   "cell_type": "code",
   "execution_count": 47,
   "metadata": {},
   "outputs": [],
   "source": [
    "#using JuMP, Cbc, GLPK, CPLEX, Test, Random, MathOptInterface, MathOptFormat, CSV, DataFrames, DelimitedFiles, MathProgBase\n",
    "using JuMP, Cbc, MathOptInterface, CSV, DataFrames, DelimitedFiles, MathProgBase"
   ]
  },
  {
   "cell_type": "code",
   "execution_count": 48,
   "metadata": {},
   "outputs": [
    {
     "data": {
      "text/plain": [
       "MathOptInterface"
      ]
     },
     "execution_count": 48,
     "metadata": {},
     "output_type": "execute_result"
    }
   ],
   "source": [
    "# MathOptInterface is an abstraction layer for mathematical optimization solvers\n",
    "const MOI = MathOptInterface"
   ]
  },
  {
   "cell_type": "markdown",
   "metadata": {},
   "source": [
    "## This is the Julia P-Median function"
   ]
  },
  {
   "cell_type": "code",
   "execution_count": 10,
   "metadata": {},
   "outputs": [
    {
     "data": {
      "text/plain": [
       "pMedian (generic function with 1 method)"
      ]
     },
     "execution_count": 10,
     "metadata": {},
     "output_type": "execute_result"
    }
   ],
   "source": [
    "function pMedian(numFacility::Int, CSVfile)\n",
    "\n",
    "    println(\"numFacility\")\n",
    "    println(numFacility)\n",
    "\n",
    "    # materialize a csv file as a DataFrame\n",
    "    df = CSV.File(CSVfile) |> DataFrame!\n",
    "\n",
    "    #extract column_headers\n",
    "    column_headers = []\n",
    "    #skip Column1\n",
    "    for i=2:length(names(df))\n",
    "      push!(column_headers,String(names(df)[i]))\n",
    "    end\n",
    "    \n",
    "    OD_dict = Dict()\n",
    "    for i in 1:size(df, 1)\n",
    "        OD_dict[df[i,1]] = df[i,2:end]\n",
    "    end\n",
    "\n",
    "    #println(\"print OD_dict\")\n",
    "    #println(OD_dict)\n",
    "\n",
    "    #origins as array\n",
    "    origins = df[:,1]\n",
    "\n",
    "    #println(\"origins\")\n",
    "    #println(origins)\n",
    "\n",
    "    facilities = []\n",
    "    for i in df[1,2:end]\n",
    "      push!(facilities,trunc(Int, i))\n",
    "    end\n",
    "\n",
    "    #println(\"facilities\")\n",
    "    #println(facilities)\n",
    "\n",
    "    #m = Model(with_optimizer(CPLEX.Optimizer))\n",
    "    #output says threads were changed, but I do not see a difference on the resource monitor\n",
    "    #m = Model(with_optimizer(Cbc.Optimizer, threads = 14))\n",
    "    #change the limit to \n",
    "    m = Model(with_optimizer(Cbc.Optimizer, threads = 2, seconds = 68400))\n",
    "\n",
    "    # Facility locations\n",
    "    #@variable(m, 0 <= s[1:numLocation] <= 1)\n",
    "    #@variable(m, 0 <= x[1:length(facilities)] <= 1)\n",
    "    #binary variable\n",
    "    @variable(m, x[1:length(facilities)], binary=true)\n",
    "\n",
    "    #println(\"print Facility location var\")\n",
    "    #println(x)\n",
    "\n",
    "    # Aux. variable: x_a,i = 1 if the closest facility to a is at i\n",
    "    #@variable(m, 0 <= x[1:numLocation,1:numCustomer] <= 1)\n",
    "    #@variable(m, 0 <= y[origins,1:length(facilities)] <= 1)\n",
    "    #binary variable\n",
    "    @variable(m, y[origins,1:length(facilities)], binary=true)\n",
    "\n",
    "    #println(\"print origin facility var\")\n",
    "    #println(y)\n",
    "\n",
    "    # Objective: min distance\n",
    "    #@objective(m, Min, sum(abs(customerLocations[a]-i)*x[i,a] for a = 1:numCustomer, i = 1:numLocation) )\n",
    "\n",
    "    @objective(m, Min, sum(OD_dict[i][j]*y[i,j] for i in origins, j = 1:length(facilities)) )\n",
    "\n",
    "    # Constraints\n",
    "\n",
    "\n",
    "    # Subject to must allocate all facilities\n",
    "    @constraint(m, sum(x[i] for i=1:length(facilities)) == numFacility )\n",
    "\n",
    "\n",
    "    for i in origins\n",
    "        # Subject to linking x with s\n",
    "        for j in 1:length(facilities)\n",
    "            @constraint(m, y[i,j] <= x[j])\n",
    "        end\n",
    "\n",
    "        # Subject to one of x must be 1\n",
    "        @constraint(m, sum(y[i,j] for j=1:length(facilities)) == 1 )\n",
    "    end\n",
    "\n",
    "\n",
    "    JuMP.optimize!(m)\n",
    "\n",
    "    println(\"Objective value is: \", JuMP.objective_value(m))\n",
    "\n",
    "    #println(\"Objective bound is: \", JuMP.objective_bound(m))\n",
    "\n",
    "\n",
    "    println(\"print array values\")\n",
    "    println(value.(x))\n",
    "    println(\"print array length\")\n",
    "    println(length(value.(x)))\n",
    "\n",
    "    result_array = value.(x)\n",
    "\n",
    "    selected_facilities = []\n",
    "\n",
    "    for i=1:length(result_array)\n",
    "       if result_array[i] == 1\n",
    "           push!(selected_facilities,column_headers[i])\n",
    "       end\n",
    "    end\n",
    "\n",
    "    println(\"print selected_facilities\")\n",
    "    println(selected_facilities)\n",
    "\n",
    "    #save selected_facilities array to file\n",
    "    #C:\\Users\\gost_\\Desktop\\lima\\data\\OD_distance\n",
    "    #writedlm(\"C:\\\\Users\\\\gost_\\\\Desktop\\\\lima\\data\\\\OD_distance\\\\selected_facilities_array\", selected_facilities)\n",
    "    #writedlm(\"H:\\\\lima_optimality\\\\examples_testing\\\\OD2\\\\selected_facilities_array\", selected_facilities)\n",
    "    #writedlm(\"C:\\\\Temp\\\\lima_OD_distance_output\\\\selected_facilities_array_lima_distance_weighted_12hr_v2_binary_vars\", selected_facilities)\n",
    "\n",
    "    #println(\"finished writing selected_facilities_array to file\")\n",
    "\n",
    "    if termination_status(m) == MOI.OPTIMAL\n",
    "        optimal_solution = value.(x)\n",
    "        optimal_objective = objective_value(m)\n",
    "    elseif termination_status(m) == MOI.TIME_LIMIT && has_values(model)\n",
    "        suboptimal_solution = value.(x)\n",
    "        suboptimal_objective = objective_value(m)\n",
    "    else\n",
    "        error(\"The model was not solved correctly.\")\n",
    "    end\n",
    "\n",
    "    return selected_facilities\n",
    "\n",
    "end"
   ]
  },
  {
   "cell_type": "markdown",
   "metadata": {},
   "source": [
    "### The pMedian function takes the number of facilities to place as the first input. For the second input it takes in the OD matrix as a csv file."
   ]
  },
  {
   "cell_type": "code",
   "execution_count": 42,
   "metadata": {},
   "outputs": [
    {
     "name": "stdout",
     "output_type": "stream",
     "text": [
      "numFacility\n",
      "4\n",
      "Objective value is: 312049.36805564194\n",
      "print array values\n",
      "[0.0, 1.0, 0.0, 1.0, 0.0, 0.0, 0.0, 0.0, 0.0, 0.0, 1.0, 0.0, 0.0, 0.0, 0.0, 0.0, 1.0]\n",
      "print array length\n",
      "17\n",
      "print selected_facilities\n",
      "Any[\"2048\", \"4154\", \"3409\", \"6107\"]\n",
      "Welcome to the CBC MILP Solver \n",
      "Version: 2.9.9 \n",
      "Build Date: Dec 31 2018 \n",
      "\n",
      "command line - Cbc_C_Interface -threads 2 -seconds 68400 -solve -quit (default strategy 1)\n",
      "threads was changed from 0 to 2\n",
      "seconds was changed from 1e+100 to 68400\n",
      "Continuous objective value is 312049 - 1.22 seconds\n",
      "Cgl0004I processed model has 12205 rows, 11543 columns (11543 integer (11543 of which binary)) and 34595 elements\n",
      "Cbc0038I Initial state - 0 integers unsatisfied sum - 0\n",
      "Cbc0038I Solution found of 312049\n",
      "Cbc0038I Before mini branch and bound, 11543 integers at bound fixed and 0 continuous\n",
      "Cbc0038I Mini branch and bound did not improve solution (2.47 seconds)\n",
      "Cbc0038I After 2.47 seconds - Feasibility pump exiting with objective of 312049 - took 0.06 seconds\n",
      "Cbc0012I Integer solution of 312049.37 found by feasibility pump after 0 iterations and 0 nodes (2.49 seconds)\n",
      "Cbc0030I Thread 0 used 0 times,  waiting to start 0.041201115, 0 cpu time, 0 locks, 0 locked, 0 waiting for locks\n",
      "Cbc0030I Thread 1 used 0 times,  waiting to start 0.019063473, 0 cpu time, 0 locks, 0 locked, 0 waiting for locks\n",
      "Cbc0030I Main thread 0 waiting for threads,  1 locks, 3.0040741e-05 locked, 5.2452087e-06 waiting for locks\n",
      "Cbc0001I Search completed - best objective 312049.3680556419, took 0 iterations and 0 nodes (2.59 seconds)\n",
      "Cbc0035I Maximum depth 0, 0 variables fixed on reduced cost\n",
      "Cuts at root node changed objective from 312049 to 312049\n",
      "Probing was tried 0 times and created 0 cuts of which 0 were active after adding rounds of cuts (0.000 seconds)\n",
      "Gomory was tried 0 times and created 0 cuts of which 0 were active after adding rounds of cuts (0.000 seconds)\n",
      "Knapsack was tried 0 times and created 0 cuts of which 0 were active after adding rounds of cuts (0.000 seconds)\n",
      "Clique was tried 0 times and created 0 cuts of which 0 were active after adding rounds of cuts (0.000 seconds)\n",
      "MixedIntegerRounding2 was tried 0 times and created 0 cuts of which 0 were active after adding rounds of cuts (0.000 seconds)\n",
      "FlowCover was tried 0 times and created 0 cuts of which 0 were active after adding rounds of cuts (0.000 seconds)\n",
      "TwoMirCuts was tried 0 times and created 0 cuts of which 0 were active after adding rounds of cuts (0.000 seconds)\n",
      "\n",
      "Result - Optimal solution found\n",
      "\n",
      "Objective value:                312049.36805564\n",
      "Enumerated nodes:               0\n",
      "Total iterations:               0\n",
      "Time (CPU seconds):             2.67\n",
      "Time (Wallclock seconds):       2.67\n",
      "\n",
      "Total time (CPU seconds):       2.67   (Wallclock seconds):       2.67\n",
      "\n"
     ]
    },
    {
     "data": {
      "text/plain": [
       "4-element Array{Any,1}:\n",
       " \"2048\"\n",
       " \"4154\"\n",
       " \"3409\"\n",
       " \"6107\""
      ]
     },
     "execution_count": 42,
     "metadata": {},
     "output_type": "execute_result"
    }
   ],
   "source": [
    "selected_facilities = pMedian(4,\"../../../../lima_optimization_output/saved_OD.csv\")"
   ]
  },
  {
   "cell_type": "code",
   "execution_count": 43,
   "metadata": {},
   "outputs": [
    {
     "data": {
      "text/plain": [
       "4-element Array{Any,1}:\n",
       " \"2048\"\n",
       " \"4154\"\n",
       " \"3409\"\n",
       " \"6107\""
      ]
     },
     "execution_count": 43,
     "metadata": {},
     "output_type": "execute_result"
    }
   ],
   "source": [
    "selected_facilities"
   ]
  },
  {
   "cell_type": "code",
   "execution_count": 45,
   "metadata": {},
   "outputs": [],
   "source": [
    "#write-out selected_facilities\n",
    "writedlm(\"../../../../lima_optimization_output/selected_facilities_file_from_julia\",selected_facilities)"
   ]
  }
 ],
 "metadata": {
  "kernelspec": {
   "display_name": "Julia 1.0.3",
   "language": "julia",
   "name": "julia-1.0"
  },
  "language_info": {
   "file_extension": ".jl",
   "mimetype": "application/julia",
   "name": "julia",
   "version": "1.0.3"
  }
 },
 "nbformat": 4,
 "nbformat_minor": 2
}
