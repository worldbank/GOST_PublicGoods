{
 "cells": [
  {
   "cell_type": "markdown",
   "metadata": {},
   "source": [
    "This is a type of location optimization analysis, specifically finding the optimal location of facilites on a network. This analysis is the P-Median Problem implemented in **Julia**:\n",
    "\n",
    "### Capacitated P-Median Problem\n",
    "The P-median problem finds the location of (a pre-specified number of) P facilities to minimize the average travel distance (or time) among all demand points and facilities. The P-median problem can take into account the level of demand at each point (e.g. number of people, or the number of visits). The capacitated version of the P-median problem adds capacity contraints to facilities, so that customers may be directed to the nearest available facility if capacity is reached.\n",
    "\n",
    "more information on GOSTNets Optimization can be found in the wiki: https://github.com/worldbank/GOST_PublicGoods/wiki/GOSTnets-Optimization"
   ]
  },
  {
   "cell_type": "markdown",
   "metadata": {},
   "source": [
    "#### This is a Julia Notebook. If you are new to Julia, these are the [steps](https://datatofish.com/add-julia-to-jupyter/) to add Julia to a Jupyter Notebook"
   ]
  },
  {
   "cell_type": "code",
   "execution_count": 1,
   "metadata": {},
   "outputs": [
    {
     "name": "stdout",
     "output_type": "stream",
     "text": [
      "\u001b[32m\u001b[1m  Updating\u001b[22m\u001b[39m registry at `~/.julia/registries/General`\n",
      "\u001b[32m\u001b[1m  Updating\u001b[22m\u001b[39m git-repo `https://github.com/JuliaRegistries/General.git`\n",
      "\u001b[2K\u001b[?25h[1mFetching:\u001b[22m\u001b[39m [========================================>]  100.0 %.0 %.1 %          ]  72.6 %\u001b[32m\u001b[1m Resolving\u001b[22m\u001b[39m package versions...\n",
      "\u001b[32m\u001b[1m  Updating\u001b[22m\u001b[39m `~/.julia/environments/v1.0/Project.toml`\n",
      "\u001b[90m [no changes]\u001b[39m\n",
      "\u001b[32m\u001b[1m  Updating\u001b[22m\u001b[39m `~/.julia/environments/v1.0/Manifest.toml`\n",
      "\u001b[90m [no changes]\u001b[39m\n",
      "\u001b[32m\u001b[1m Resolving\u001b[22m\u001b[39m package versions...\n",
      "\u001b[32m\u001b[1m  Updating\u001b[22m\u001b[39m `~/.julia/environments/v1.0/Project.toml`\n",
      "\u001b[90m [no changes]\u001b[39m\n",
      "\u001b[32m\u001b[1m  Updating\u001b[22m\u001b[39m `~/.julia/environments/v1.0/Manifest.toml`\n",
      "\u001b[90m [no changes]\u001b[39m\n",
      "\u001b[32m\u001b[1m Resolving\u001b[22m\u001b[39m package versions...\n",
      "\u001b[32m\u001b[1m  Updating\u001b[22m\u001b[39m `~/.julia/environments/v1.0/Project.toml`\n",
      "\u001b[90m [no changes]\u001b[39m\n",
      "\u001b[32m\u001b[1m  Updating\u001b[22m\u001b[39m `~/.julia/environments/v1.0/Manifest.toml`\n",
      "\u001b[90m [no changes]\u001b[39m\n",
      "\u001b[32m\u001b[1m Resolving\u001b[22m\u001b[39m package versions...\n",
      "\u001b[32m\u001b[1m  Updating\u001b[22m\u001b[39m `~/.julia/environments/v1.0/Project.toml`\n",
      "\u001b[90m [no changes]\u001b[39m\n",
      "\u001b[32m\u001b[1m  Updating\u001b[22m\u001b[39m `~/.julia/environments/v1.0/Manifest.toml`\n",
      "\u001b[90m [no changes]\u001b[39m\n",
      "\u001b[32m\u001b[1m Resolving\u001b[22m\u001b[39m package versions...\n",
      "\u001b[32m\u001b[1m  Updating\u001b[22m\u001b[39m `~/.julia/environments/v1.0/Project.toml`\n",
      "\u001b[90m [no changes]\u001b[39m\n",
      "\u001b[32m\u001b[1m  Updating\u001b[22m\u001b[39m `~/.julia/environments/v1.0/Manifest.toml`\n",
      "\u001b[90m [no changes]\u001b[39m\n",
      "\u001b[32m\u001b[1m Resolving\u001b[22m\u001b[39m package versions...\n",
      "\u001b[32m\u001b[1m  Updating\u001b[22m\u001b[39m `~/.julia/environments/v1.0/Project.toml`\n",
      "\u001b[90m [no changes]\u001b[39m\n",
      "\u001b[32m\u001b[1m  Updating\u001b[22m\u001b[39m `~/.julia/environments/v1.0/Manifest.toml`\n",
      "\u001b[90m [no changes]\u001b[39m\n",
      "\u001b[32m\u001b[1m Resolving\u001b[22m\u001b[39m package versions...\n",
      "\u001b[32m\u001b[1m  Updating\u001b[22m\u001b[39m `~/.julia/environments/v1.0/Project.toml`\n",
      "\u001b[90m [no changes]\u001b[39m\n",
      "\u001b[32m\u001b[1m  Updating\u001b[22m\u001b[39m `~/.julia/environments/v1.0/Manifest.toml`\n",
      "\u001b[90m [no changes]\u001b[39m\n",
      "Done installing packages\n"
     ]
    }
   ],
   "source": [
    "using Pkg\n",
    "Pkg.add(\"JuMP\")\n",
    "Pkg.add(\"Cbc\")\n",
    "Pkg.add(\"MathOptInterface\")\n",
    "Pkg.add(\"MathProgBase\")\n",
    "Pkg.add(\"CSV\")\n",
    "Pkg.add(\"DelimitedFiles\")\n",
    "Pkg.add(\"DataFrames\")\n",
    "println(\"Done installing packages\")"
   ]
  },
  {
   "cell_type": "code",
   "execution_count": 2,
   "metadata": {},
   "outputs": [],
   "source": [
    "#using JuMP, Cbc, GLPK, CPLEX, Test, Random, MathOptInterface, MathOptFormat, CSV, DataFrames, DelimitedFiles, MathProgBase\n",
    "using JuMP, Cbc, MathOptInterface, CSV, DataFrames, DelimitedFiles, MathProgBase"
   ]
  },
  {
   "cell_type": "code",
   "execution_count": 3,
   "metadata": {},
   "outputs": [
    {
     "data": {
      "text/plain": [
       "MathOptInterface"
      ]
     },
     "execution_count": 3,
     "metadata": {},
     "output_type": "execute_result"
    }
   ],
   "source": [
    "# MathOptInterface is an abstraction layer for mathematical optimization solvers\n",
    "const MOI = MathOptInterface"
   ]
  },
  {
   "cell_type": "markdown",
   "metadata": {},
   "source": [
    "## This is the Julia Capacitated P-Median function"
   ]
  },
  {
   "cell_type": "code",
   "execution_count": 110,
   "metadata": {},
   "outputs": [
    {
     "data": {
      "text/plain": [
       "Cap_pMedian (generic function with 1 method)"
      ]
     },
     "execution_count": 110,
     "metadata": {},
     "output_type": "execute_result"
    }
   ],
   "source": [
    "function Cap_pMedian(numFacility::Int, CSVfile, origins_pop_dict, facilities_cap_dict)\n",
    "\n",
    "    println(\"numFacility\")\n",
    "    println(numFacility)\n",
    "\n",
    "    # materialize a csv file as a DataFrame\n",
    "    df = CSV.File(CSVfile) |> DataFrame!\n",
    "\n",
    "    #extract column_headers\n",
    "    column_headers = []\n",
    "    #skip Column1\n",
    "    for i=2:length(names(df))\n",
    "      push!(column_headers,String(names(df)[i]))\n",
    "    end\n",
    "    \n",
    "    OD_dict = Dict()\n",
    "    for i in 1:size(df, 1)\n",
    "        OD_dict[df[i,1]] = df[i,2:end]\n",
    "    end\n",
    "\n",
    "    #println(\"print OD_dict\")\n",
    "    #println(OD_dict)\n",
    "\n",
    "    #origins as array\n",
    "    origins = df[:,1]\n",
    "\n",
    "    println(\"origins type\")\n",
    "    println(typeof(origins))\n",
    "    \n",
    "    #println(\"print for i in origins\")\n",
    "    #for i in origins\n",
    "    #    println(i)\n",
    "    #end\n",
    "\n",
    "    facilities = Int64[]\n",
    "    for i in df[1,2:end]\n",
    "      push!(facilities,trunc(Int, i))\n",
    "    end\n",
    "\n",
    "    println(\"facilities type\")\n",
    "    println(typeof(facilities))\n",
    "    \n",
    "    println(\"facilities j\")\n",
    "    for j in 1:length(facilities)\n",
    "        println(j)\n",
    "    end\n",
    "    \n",
    "    println(\"facilities[j]\")\n",
    "    for j in 1:length(facilities)\n",
    "        println(facilities[j])\n",
    "    end\n",
    "    \n",
    "    #m = Model(with_optimizer(CPLEX.Optimizer))\n",
    "    #output says threads were changed, but I do not see a difference on the resource monitor\n",
    "    #m = Model(with_optimizer(Cbc.Optimizer, threads = 14))\n",
    "    #change the limit to \n",
    "    m = Model(with_optimizer(Cbc.Optimizer, threads = 2, seconds = 68400))\n",
    "\n",
    "    # Facility locations\n",
    "    #@variable(m, 0 <= s[1:numLocation] <= 1)\n",
    "    #@variable(m, 0 <= x[1:length(facilities)] <= 1)\n",
    "    #binary variable\n",
    "    @variable(m, x[1:length(facilities)], binary=true)\n",
    "\n",
    "    #println(\"print Facility location var\")\n",
    "    #println(x)\n",
    "\n",
    "    # Aux. variable: x_a,i = 1 if the closest facility to a is at i\n",
    "    #@variable(m, 0 <= x[1:numLocation,1:numCustomer] <= 1)\n",
    "    #@variable(m, 0 <= y[origins,1:length(facilities)] <= 1)\n",
    "    #binary variable\n",
    "    @variable(m, y[origins,1:length(facilities)], binary=true)\n",
    "\n",
    "    #println(\"print origin facility var\")\n",
    "    #println(y)\n",
    "    \n",
    "    \n",
    "    #println(\"test\")\n",
    "    #for j in 1:length(facilities)\n",
    "    #    for i in origins\n",
    "    #       println(OD_dict[i][j])\n",
    "    #    end\n",
    "    #end\n",
    "\n",
    "    # Objective: min distance\n",
    "    #@objective(m, Min, sum(abs(customerLocations[a]-i)*x[i,a] for a = 1:numCustomer, i = 1:numLocation) )\n",
    "\n",
    "    @objective(m, Min, sum(OD_dict[i][j]*y[i,j] for i in origins, j = 1:length(facilities)) )\n",
    "\n",
    "    # Constraints\n",
    "\n",
    "\n",
    "    # Subject to must allocate all facilities\n",
    "    @constraint(m, sum(x[i] for i=1:length(facilities)) == numFacility )\n",
    "\n",
    "\n",
    "    for i in origins\n",
    "        # Subject to linking x with s\n",
    "        for j in 1:length(facilities)\n",
    "            @constraint(m, y[i,j] <= x[j])\n",
    "        end\n",
    "\n",
    "        # Subject to one of x must be 1\n",
    "        @constraint(m, sum(y[i,j] for j=1:length(facilities)) == 1 )\n",
    "    end\n",
    "    \n",
    "    \n",
    "    # capacity constraints\n",
    "    for j in 1:length(facilities)\n",
    "        @constraint(m, sum(y[i,j] * origins_pop_dict[i] for i in origins) <= facilities_cap_dict[facilities[j]])\n",
    "    end\n",
    "\n",
    "\n",
    "    JuMP.optimize!(m)\n",
    "\n",
    "    println(\"Objective value is: \", JuMP.objective_value(m))\n",
    "\n",
    "    #println(\"Objective bound is: \", JuMP.objective_bound(m))\n",
    "\n",
    "\n",
    "    println(\"print array values\")\n",
    "    println(value.(x))\n",
    "    println(\"print array length\")\n",
    "    println(length(value.(x)))\n",
    "\n",
    "    result_array = value.(x)\n",
    "\n",
    "    selected_facilities = []\n",
    "\n",
    "    for i=1:length(result_array)\n",
    "       if result_array[i] == 1\n",
    "           push!(selected_facilities,column_headers[i])\n",
    "       end\n",
    "    end\n",
    "\n",
    "    println(\"print selected_facilities\")\n",
    "    println(selected_facilities)\n",
    "\n",
    "    #save selected_facilities array to file\n",
    "    #C:\\Users\\gost_\\Desktop\\lima\\data\\OD_distance\n",
    "    #writedlm(\"C:\\\\Users\\\\gost_\\\\Desktop\\\\lima\\data\\\\OD_distance\\\\selected_facilities_array\", selected_facilities)\n",
    "    #writedlm(\"H:\\\\lima_optimality\\\\examples_testing\\\\OD2\\\\selected_facilities_array\", selected_facilities)\n",
    "    #writedlm(\"C:\\\\Temp\\\\lima_OD_distance_output\\\\selected_facilities_array_lima_distance_weighted_12hr_v2_binary_vars\", selected_facilities)\n",
    "\n",
    "    #println(\"finished writing selected_facilities_array to file\")\n",
    "\n",
    "    if termination_status(m) == MOI.OPTIMAL\n",
    "        optimal_solution = value.(x)\n",
    "        optimal_objective = objective_value(m)\n",
    "    elseif termination_status(m) == MOI.TIME_LIMIT && has_values(model)\n",
    "        suboptimal_solution = value.(x)\n",
    "        suboptimal_objective = objective_value(m)\n",
    "    else\n",
    "        error(\"The model was not solved correctly.\")\n",
    "    end\n",
    "\n",
    "    return selected_facilities\n",
    "\n",
    "end"
   ]
  },
  {
   "cell_type": "markdown",
   "metadata": {},
   "source": [
    "### The pMedian function takes the number of facilities to place as the first input. For the second input it takes in the OD matrix as a csv file. For the third input it takes in a dictionary of the origins with their populations. For the forth input it takes a dictionary of facilities with their capacity."
   ]
  },
  {
   "cell_type": "markdown",
   "metadata": {},
   "source": [
    "### You may import a facilities_cap_series from csv, but in this case we will generate our own test data"
   ]
  },
  {
   "cell_type": "code",
   "execution_count": 17,
   "metadata": {},
   "outputs": [
    {
     "data": {
      "text/html": [
       "<table class=\"data-frame\"><thead><tr><th></th><th>Column1</th><th>6048</th><th>2048</th><th>6691</th><th>4154</th><th>4198</th><th>4647</th><th>4233</th><th>3914</th></tr><tr><th></th><th>Int64</th><th>Float64</th><th>Float64</th><th>Float64</th><th>Float64</th><th>Float64</th><th>Float64</th><th>Float64</th><th>Float64</th></tr></thead><tbody><p>678 rows × 18 columns (omitted printing of 9 columns)</p><tr><th>1</th><td>6147</td><td>1968.66</td><td>1020.72</td><td>363.677</td><td>819.75</td><td>1322.0</td><td>1578.08</td><td>1803.25</td><td>806.455</td></tr><tr><th>2</th><td>2052</td><td>525.817</td><td>558.843</td><td>1633.65</td><td>1591.88</td><td>274.594</td><td>839.743</td><td>1166.55</td><td>1578.63</td></tr><tr><th>3</th><td>3</td><td>1330.77</td><td>448.775</td><td>1230.2</td><td>1380.17</td><td>873.074</td><td>1498.69</td><td>1962.52</td><td>1307.03</td></tr><tr><th>4</th><td>6154</td><td>153.55</td><td>1138.25</td><td>1658.31</td><td>1700.64</td><td>853.999</td><td>1304.18</td><td>723.313</td><td>1988.98</td></tr><tr><th>5</th><td>6162</td><td>202.318</td><td>907.368</td><td>1799.38</td><td>1663.94</td><td>623.119</td><td>1074.26</td><td>845.305</td><td>1927.15</td></tr><tr><th>6</th><td>4115</td><td>802.824</td><td>1190.08</td><td>1769.8</td><td>1064.24</td><td>763.704</td><td>477.901</td><td>500.301</td><td>1352.59</td></tr><tr><th>7</th><td>6165</td><td>953.191</td><td>391.808</td><td>1494.09</td><td>1121.14</td><td>280.176</td><td>730.055</td><td>1171.03</td><td>1098.5</td></tr><tr><th>8</th><td>21</td><td>697.559</td><td>1618.36</td><td>2043.28</td><td>1814.87</td><td>1190.01</td><td>1528.51</td><td>820.985</td><td>2103.22</td></tr><tr><th>9</th><td>4125</td><td>799.148</td><td>1715.41</td><td>2094.9</td><td>1389.34</td><td>1288.38</td><td>1016.71</td><td>236.478</td><td>1677.68</td></tr><tr><th>10</th><td>32</td><td>1908.16</td><td>1344.5</td><td>765.374</td><td>455.056</td><td>1641.9</td><td>1213.38</td><td>1438.55</td><td>415.772</td></tr><tr><th>11</th><td>4130</td><td>814.788</td><td>1697.58</td><td>1865.4</td><td>1159.85</td><td>1303.52</td><td>872.436</td><td>206.299</td><td>1448.19</td></tr><tr><th>12</th><td>4132</td><td>1838.1</td><td>902.283</td><td>999.155</td><td>386.85</td><td>1168.85</td><td>965.201</td><td>1483.41</td><td>176.481</td></tr><tr><th>13</th><td>6181</td><td>703.75</td><td>1359.31</td><td>1824.58</td><td>1119.02</td><td>964.353</td><td>538.007</td><td>278.738</td><td>1407.36</td></tr><tr><th>14</th><td>4134</td><td>621.379</td><td>809.637</td><td>1911.92</td><td>1243.87</td><td>382.451</td><td>644.538</td><td>753.845</td><td>1391.07</td></tr><tr><th>15</th><td>2087</td><td>983.931</td><td>630.13</td><td>1637.73</td><td>1077.37</td><td>387.852</td><td>492.988</td><td>968.956</td><td>1064.11</td></tr><tr><th>16</th><td>4139</td><td>1518.33</td><td>1032.46</td><td>1231.14</td><td>525.581</td><td>1098.79</td><td>515.407</td><td>1048.73</td><td>813.925</td></tr><tr><th>17</th><td>6190</td><td>2090.59</td><td>1198.62</td><td>858.963</td><td>524.424</td><td>1465.18</td><td>1260.07</td><td>1620.98</td><td>180.314</td></tr><tr><th>18</th><td>4144</td><td>384.554</td><td>888.24</td><td>1913.09</td><td>1416.95</td><td>459.889</td><td>827.274</td><td>801.727</td><td>1682.38</td></tr><tr><th>19</th><td>6193</td><td>1207.68</td><td>1601.94</td><td>1494.19</td><td>788.633</td><td>1488.0</td><td>792.292</td><td>723.778</td><td>1076.98</td></tr><tr><th>20</th><td>4146</td><td>1487.12</td><td>610.928</td><td>1134.75</td><td>605.942</td><td>804.395</td><td>992.645</td><td>1473.82</td><td>548.395</td></tr><tr><th>21</th><td>2099</td><td>930.675</td><td>116.748</td><td>1250.32</td><td>1185.15</td><td>468.685</td><td>1090.39</td><td>1568.96</td><td>1159.46</td></tr><tr><th>22</th><td>2100</td><td>520.776</td><td>1437.26</td><td>2098.24</td><td>1392.68</td><td>1010.1</td><td>1015.3</td><td>318.185</td><td>1681.03</td></tr><tr><th>23</th><td>2096</td><td>1507.87</td><td>2425.15</td><td>2649.96</td><td>1944.4</td><td>1997.96</td><td>1814.21</td><td>1103.5</td><td>2232.75</td></tr><tr><th>24</th><td>4151</td><td>1332.53</td><td>409.1</td><td>928.324</td><td>1046.98</td><td>870.535</td><td>1491.89</td><td>1970.81</td><td>973.199</td></tr><tr><th>25</th><td>2103</td><td>891.281</td><td>1807.66</td><td>2097.16</td><td>1391.6</td><td>1380.6</td><td>1018.98</td><td>308.268</td><td>1679.95</td></tr><tr><th>26</th><td>6204</td><td>1811.64</td><td>863.707</td><td>425.783</td><td>953.121</td><td>1276.92</td><td>1684.15</td><td>1936.62</td><td>761.369</td></tr><tr><th>27</th><td>4157</td><td>1955.28</td><td>1172.56</td><td>289.36</td><td>622.364</td><td>1488.89</td><td>1380.69</td><td>1605.86</td><td>729.818</td></tr><tr><th>28</th><td>6207</td><td>1629.82</td><td>697.855</td><td>1133.92</td><td>483.225</td><td>947.09</td><td>996.195</td><td>1514.94</td><td>425.679</td></tr><tr><th>29</th><td>2112</td><td>555.434</td><td>552.813</td><td>1697.38</td><td>1512.39</td><td>268.565</td><td>758.964</td><td>1120.51</td><td>1499.14</td></tr><tr><th>30</th><td>6214</td><td>1520.58</td><td>947.205</td><td>1205.15</td><td>499.298</td><td>1034.0</td><td>450.62</td><td>1050.97</td><td>740.106</td></tr><tr><th>&vellip;</th><td>&vellip;</td><td>&vellip;</td><td>&vellip;</td><td>&vellip;</td><td>&vellip;</td><td>&vellip;</td><td>&vellip;</td><td>&vellip;</td><td>&vellip;</td></tr></tbody></table>"
      ],
      "text/latex": [
       "\\begin{tabular}{r|cccccccccc}\n",
       "\t& Column1 & 6048 & 2048 & 6691 & 4154 & 4198 & 4647 & 4233 & 3914 & \\\\\n",
       "\t\\hline\n",
       "\t& Int64 & Float64 & Float64 & Float64 & Float64 & Float64 & Float64 & Float64 & Float64 & \\\\\n",
       "\t\\hline\n",
       "\t1 & 6147 & 1968.66 & 1020.72 & 363.677 & 819.75 & 1322.0 & 1578.08 & 1803.25 & 806.455 & $\\dots$ \\\\\n",
       "\t2 & 2052 & 525.817 & 558.843 & 1633.65 & 1591.88 & 274.594 & 839.743 & 1166.55 & 1578.63 & $\\dots$ \\\\\n",
       "\t3 & 3 & 1330.77 & 448.775 & 1230.2 & 1380.17 & 873.074 & 1498.69 & 1962.52 & 1307.03 & $\\dots$ \\\\\n",
       "\t4 & 6154 & 153.55 & 1138.25 & 1658.31 & 1700.64 & 853.999 & 1304.18 & 723.313 & 1988.98 & $\\dots$ \\\\\n",
       "\t5 & 6162 & 202.318 & 907.368 & 1799.38 & 1663.94 & 623.119 & 1074.26 & 845.305 & 1927.15 & $\\dots$ \\\\\n",
       "\t6 & 4115 & 802.824 & 1190.08 & 1769.8 & 1064.24 & 763.704 & 477.901 & 500.301 & 1352.59 & $\\dots$ \\\\\n",
       "\t7 & 6165 & 953.191 & 391.808 & 1494.09 & 1121.14 & 280.176 & 730.055 & 1171.03 & 1098.5 & $\\dots$ \\\\\n",
       "\t8 & 21 & 697.559 & 1618.36 & 2043.28 & 1814.87 & 1190.01 & 1528.51 & 820.985 & 2103.22 & $\\dots$ \\\\\n",
       "\t9 & 4125 & 799.148 & 1715.41 & 2094.9 & 1389.34 & 1288.38 & 1016.71 & 236.478 & 1677.68 & $\\dots$ \\\\\n",
       "\t10 & 32 & 1908.16 & 1344.5 & 765.374 & 455.056 & 1641.9 & 1213.38 & 1438.55 & 415.772 & $\\dots$ \\\\\n",
       "\t11 & 4130 & 814.788 & 1697.58 & 1865.4 & 1159.85 & 1303.52 & 872.436 & 206.299 & 1448.19 & $\\dots$ \\\\\n",
       "\t12 & 4132 & 1838.1 & 902.283 & 999.155 & 386.85 & 1168.85 & 965.201 & 1483.41 & 176.481 & $\\dots$ \\\\\n",
       "\t13 & 6181 & 703.75 & 1359.31 & 1824.58 & 1119.02 & 964.353 & 538.007 & 278.738 & 1407.36 & $\\dots$ \\\\\n",
       "\t14 & 4134 & 621.379 & 809.637 & 1911.92 & 1243.87 & 382.451 & 644.538 & 753.845 & 1391.07 & $\\dots$ \\\\\n",
       "\t15 & 2087 & 983.931 & 630.13 & 1637.73 & 1077.37 & 387.852 & 492.988 & 968.956 & 1064.11 & $\\dots$ \\\\\n",
       "\t16 & 4139 & 1518.33 & 1032.46 & 1231.14 & 525.581 & 1098.79 & 515.407 & 1048.73 & 813.925 & $\\dots$ \\\\\n",
       "\t17 & 6190 & 2090.59 & 1198.62 & 858.963 & 524.424 & 1465.18 & 1260.07 & 1620.98 & 180.314 & $\\dots$ \\\\\n",
       "\t18 & 4144 & 384.554 & 888.24 & 1913.09 & 1416.95 & 459.889 & 827.274 & 801.727 & 1682.38 & $\\dots$ \\\\\n",
       "\t19 & 6193 & 1207.68 & 1601.94 & 1494.19 & 788.633 & 1488.0 & 792.292 & 723.778 & 1076.98 & $\\dots$ \\\\\n",
       "\t20 & 4146 & 1487.12 & 610.928 & 1134.75 & 605.942 & 804.395 & 992.645 & 1473.82 & 548.395 & $\\dots$ \\\\\n",
       "\t21 & 2099 & 930.675 & 116.748 & 1250.32 & 1185.15 & 468.685 & 1090.39 & 1568.96 & 1159.46 & $\\dots$ \\\\\n",
       "\t22 & 2100 & 520.776 & 1437.26 & 2098.24 & 1392.68 & 1010.1 & 1015.3 & 318.185 & 1681.03 & $\\dots$ \\\\\n",
       "\t23 & 2096 & 1507.87 & 2425.15 & 2649.96 & 1944.4 & 1997.96 & 1814.21 & 1103.5 & 2232.75 & $\\dots$ \\\\\n",
       "\t24 & 4151 & 1332.53 & 409.1 & 928.324 & 1046.98 & 870.535 & 1491.89 & 1970.81 & 973.199 & $\\dots$ \\\\\n",
       "\t25 & 2103 & 891.281 & 1807.66 & 2097.16 & 1391.6 & 1380.6 & 1018.98 & 308.268 & 1679.95 & $\\dots$ \\\\\n",
       "\t26 & 6204 & 1811.64 & 863.707 & 425.783 & 953.121 & 1276.92 & 1684.15 & 1936.62 & 761.369 & $\\dots$ \\\\\n",
       "\t27 & 4157 & 1955.28 & 1172.56 & 289.36 & 622.364 & 1488.89 & 1380.69 & 1605.86 & 729.818 & $\\dots$ \\\\\n",
       "\t28 & 6207 & 1629.82 & 697.855 & 1133.92 & 483.225 & 947.09 & 996.195 & 1514.94 & 425.679 & $\\dots$ \\\\\n",
       "\t29 & 2112 & 555.434 & 552.813 & 1697.38 & 1512.39 & 268.565 & 758.964 & 1120.51 & 1499.14 & $\\dots$ \\\\\n",
       "\t30 & 6214 & 1520.58 & 947.205 & 1205.15 & 499.298 & 1034.0 & 450.62 & 1050.97 & 740.106 & $\\dots$ \\\\\n",
       "\t$\\dots$ & $\\dots$ & $\\dots$ & $\\dots$ & $\\dots$ & $\\dots$ & $\\dots$ & $\\dots$ & $\\dots$ & $\\dots$ &  \\\\\n",
       "\\end{tabular}\n"
      ],
      "text/plain": [
       "678×18 DataFrame. Omitted printing of 11 columns\n",
       "│ Row │ Column1 │ 6048    │ 2048    │ 6691    │ 4154    │ 4198    │ 4647    │\n",
       "│     │ \u001b[90mInt64\u001b[39m   │ \u001b[90mFloat64\u001b[39m │ \u001b[90mFloat64\u001b[39m │ \u001b[90mFloat64\u001b[39m │ \u001b[90mFloat64\u001b[39m │ \u001b[90mFloat64\u001b[39m │ \u001b[90mFloat64\u001b[39m │\n",
       "├─────┼─────────┼─────────┼─────────┼─────────┼─────────┼─────────┼─────────┤\n",
       "│ 1   │ 6147    │ 1968.66 │ 1020.72 │ 363.677 │ 819.75  │ 1322.0  │ 1578.08 │\n",
       "│ 2   │ 2052    │ 525.817 │ 558.843 │ 1633.65 │ 1591.88 │ 274.594 │ 839.743 │\n",
       "│ 3   │ 3       │ 1330.77 │ 448.775 │ 1230.2  │ 1380.17 │ 873.074 │ 1498.69 │\n",
       "│ 4   │ 6154    │ 153.55  │ 1138.25 │ 1658.31 │ 1700.64 │ 853.999 │ 1304.18 │\n",
       "│ 5   │ 6162    │ 202.318 │ 907.368 │ 1799.38 │ 1663.94 │ 623.119 │ 1074.26 │\n",
       "│ 6   │ 4115    │ 802.824 │ 1190.08 │ 1769.8  │ 1064.24 │ 763.704 │ 477.901 │\n",
       "│ 7   │ 6165    │ 953.191 │ 391.808 │ 1494.09 │ 1121.14 │ 280.176 │ 730.055 │\n",
       "│ 8   │ 21      │ 697.559 │ 1618.36 │ 2043.28 │ 1814.87 │ 1190.01 │ 1528.51 │\n",
       "│ 9   │ 4125    │ 799.148 │ 1715.41 │ 2094.9  │ 1389.34 │ 1288.38 │ 1016.71 │\n",
       "│ 10  │ 32      │ 1908.16 │ 1344.5  │ 765.374 │ 455.056 │ 1641.9  │ 1213.38 │\n",
       "⋮\n",
       "│ 668 │ 6088    │ 1114.79 │ 93.8692 │ 1162.44 │ 1095.21 │ 591.806 │ 1176.66 │\n",
       "│ 669 │ 4041    │ 1540.5  │ 666.156 │ 1272.32 │ 552.301 │ 858.107 │ 755.782 │\n",
       "│ 670 │ 6093    │ 574.929 │ 1189.51 │ 1990.36 │ 1284.8  │ 762.475 │ 698.461 │\n",
       "│ 671 │ 1998    │ 1633.21 │ 1111.17 │ 875.833 │ 105.719 │ 1369.76 │ 893.066 │\n",
       "│ 672 │ 6098    │ 761.27  │ 1599.72 │ 1609.19 │ 903.63  │ 1206.69 │ 585.259 │\n",
       "│ 673 │ 4055    │ 720.054 │ 437.836 │ 1571.42 │ 1500.89 │ 324.623 │ 919.462 │\n",
       "│ 674 │ 6105    │ 451.994 │ 633.404 │ 1636.23 │ 1583.2  │ 349.155 │ 914.304 │\n",
       "│ 675 │ 4063    │ 513.147 │ 1005.66 │ 1991.43 │ 1285.87 │ 578.477 │ 696.345 │\n",
       "│ 676 │ 4065    │ 972.39  │ 932.272 │ 1818.7  │ 1069.62 │ 511.195 │ 185.448 │\n",
       "│ 677 │ 2028    │ 1026.54 │ 188.783 │ 1345.08 │ 1069.58 │ 381.751 │ 941.427 │\n",
       "│ 678 │ 2043    │ 739.279 │ 1323.86 │ 1789.13 │ 1083.57 │ 928.906 │ 502.56  │"
      ]
     },
     "execution_count": 17,
     "metadata": {},
     "output_type": "execute_result"
    }
   ],
   "source": [
    "# materialize a csv file as a DataFrame\n",
    "df = CSV.File(\"../../../../lima_optimization_output/saved_OD.csv\") |> DataFrame!"
   ]
  },
  {
   "cell_type": "code",
   "execution_count": 18,
   "metadata": {},
   "outputs": [],
   "source": [
    "facilities = []\n",
    "for i in df[1,2:end]\n",
    "  push!(facilities,trunc(Int, i))\n",
    "end"
   ]
  },
  {
   "cell_type": "code",
   "execution_count": 19,
   "metadata": {
    "scrolled": true
   },
   "outputs": [
    {
     "data": {
      "text/plain": [
       "17-element Array{Any,1}:\n",
       " 1968\n",
       " 1020\n",
       "  363\n",
       "  819\n",
       " 1322\n",
       " 1578\n",
       " 1803\n",
       "  806\n",
       " 2049\n",
       " 1517\n",
       " 1879\n",
       "  803\n",
       " 1542\n",
       " 1657\n",
       "  583\n",
       " 1736\n",
       " 1584"
      ]
     },
     "execution_count": 19,
     "metadata": {},
     "output_type": "execute_result"
    }
   ],
   "source": [
    "facilities"
   ]
  },
  {
   "cell_type": "code",
   "execution_count": 102,
   "metadata": {},
   "outputs": [],
   "source": [
    "# create a dictionary of facilities and assign them a random capacity between 20k and 50k\n",
    "facilities_cap_dict = Dict()\n",
    "for i in 1:size(facilities,1)\n",
    "    facilities_cap_dict[facilities[i,1]] = rand(200000:500000)\n",
    "end"
   ]
  },
  {
   "cell_type": "code",
   "execution_count": 103,
   "metadata": {},
   "outputs": [
    {
     "data": {
      "text/plain": [
       "Dict{Any,Any} with 17 entries:\n",
       "  1879 => 352151\n",
       "  1578 => 444537\n",
       "  1736 => 221651\n",
       "  1584 => 293965\n",
       "  2049 => 458020\n",
       "  1542 => 292101\n",
       "  803  => 486850\n",
       "  583  => 289452\n",
       "  819  => 382890\n",
       "  363  => 439585\n",
       "  1803 => 406534\n",
       "  1322 => 243748\n",
       "  1968 => 447991\n",
       "  806  => 338052\n",
       "  1517 => 443935\n",
       "  1657 => 320002\n",
       "  1020 => 301991"
      ]
     },
     "execution_count": 103,
     "metadata": {},
     "output_type": "execute_result"
    }
   ],
   "source": [
    "facilities_cap_dict"
   ]
  },
  {
   "cell_type": "code",
   "execution_count": 104,
   "metadata": {},
   "outputs": [
    {
     "data": {
      "text/plain": [
       "338052"
      ]
     },
     "execution_count": 104,
     "metadata": {},
     "output_type": "execute_result"
    }
   ],
   "source": [
    "facilities_cap_dict[806]"
   ]
  },
  {
   "cell_type": "markdown",
   "metadata": {},
   "source": [
    "#### import an origins_pop_series from csv\n"
   ]
  },
  {
   "cell_type": "code",
   "execution_count": 105,
   "metadata": {},
   "outputs": [
    {
     "data": {
      "text/html": [
       "<table class=\"data-frame\"><thead><tr><th></th><th>NN</th><th>pop</th></tr><tr><th></th><th>Int64</th><th>Float64</th></tr></thead><tbody><p>678 rows × 2 columns</p><tr><th>1</th><td>3</td><td>1458.0</td></tr><tr><th>2</th><td>21</td><td>2232.0</td></tr><tr><th>3</th><td>32</td><td>2041.0</td></tr><tr><th>4</th><td>82</td><td>1508.0</td></tr><tr><th>5</th><td>84</td><td>1610.0</td></tr><tr><th>6</th><td>99</td><td>1295.0</td></tr><tr><th>7</th><td>106</td><td>1216.0</td></tr><tr><th>8</th><td>114</td><td>824.0</td></tr><tr><th>9</th><td>124</td><td>440.0</td></tr><tr><th>10</th><td>130</td><td>1104.0</td></tr><tr><th>11</th><td>149</td><td>1798.0</td></tr><tr><th>12</th><td>150</td><td>2484.0</td></tr><tr><th>13</th><td>152</td><td>310.0</td></tr><tr><th>14</th><td>161</td><td>665.0</td></tr><tr><th>15</th><td>163</td><td>1611.0</td></tr><tr><th>16</th><td>170</td><td>2729.0</td></tr><tr><th>17</th><td>173</td><td>2208.0</td></tr><tr><th>18</th><td>174</td><td>2426.0</td></tr><tr><th>19</th><td>175</td><td>1225.0</td></tr><tr><th>20</th><td>222</td><td>526.0</td></tr><tr><th>21</th><td>224</td><td>455.0</td></tr><tr><th>22</th><td>294</td><td>649.0</td></tr><tr><th>23</th><td>295</td><td>2393.0</td></tr><tr><th>24</th><td>296</td><td>2218.0</td></tr><tr><th>25</th><td>297</td><td>2301.0</td></tr><tr><th>26</th><td>298</td><td>2689.0</td></tr><tr><th>27</th><td>321</td><td>512.0</td></tr><tr><th>28</th><td>335</td><td>1303.0</td></tr><tr><th>29</th><td>351</td><td>2787.0</td></tr><tr><th>30</th><td>352</td><td>1978.0</td></tr><tr><th>&vellip;</th><td>&vellip;</td><td>&vellip;</td></tr></tbody></table>"
      ],
      "text/latex": [
       "\\begin{tabular}{r|cc}\n",
       "\t& NN & pop\\\\\n",
       "\t\\hline\n",
       "\t& Int64 & Float64\\\\\n",
       "\t\\hline\n",
       "\t1 & 3 & 1458.0 \\\\\n",
       "\t2 & 21 & 2232.0 \\\\\n",
       "\t3 & 32 & 2041.0 \\\\\n",
       "\t4 & 82 & 1508.0 \\\\\n",
       "\t5 & 84 & 1610.0 \\\\\n",
       "\t6 & 99 & 1295.0 \\\\\n",
       "\t7 & 106 & 1216.0 \\\\\n",
       "\t8 & 114 & 824.0 \\\\\n",
       "\t9 & 124 & 440.0 \\\\\n",
       "\t10 & 130 & 1104.0 \\\\\n",
       "\t11 & 149 & 1798.0 \\\\\n",
       "\t12 & 150 & 2484.0 \\\\\n",
       "\t13 & 152 & 310.0 \\\\\n",
       "\t14 & 161 & 665.0 \\\\\n",
       "\t15 & 163 & 1611.0 \\\\\n",
       "\t16 & 170 & 2729.0 \\\\\n",
       "\t17 & 173 & 2208.0 \\\\\n",
       "\t18 & 174 & 2426.0 \\\\\n",
       "\t19 & 175 & 1225.0 \\\\\n",
       "\t20 & 222 & 526.0 \\\\\n",
       "\t21 & 224 & 455.0 \\\\\n",
       "\t22 & 294 & 649.0 \\\\\n",
       "\t23 & 295 & 2393.0 \\\\\n",
       "\t24 & 296 & 2218.0 \\\\\n",
       "\t25 & 297 & 2301.0 \\\\\n",
       "\t26 & 298 & 2689.0 \\\\\n",
       "\t27 & 321 & 512.0 \\\\\n",
       "\t28 & 335 & 1303.0 \\\\\n",
       "\t29 & 351 & 2787.0 \\\\\n",
       "\t30 & 352 & 1978.0 \\\\\n",
       "\t$\\dots$ & $\\dots$ & $\\dots$ \\\\\n",
       "\\end{tabular}\n"
      ],
      "text/plain": [
       "678×2 DataFrame\n",
       "│ Row │ NN    │ pop     │\n",
       "│     │ \u001b[90mInt64\u001b[39m │ \u001b[90mFloat64\u001b[39m │\n",
       "├─────┼───────┼─────────┤\n",
       "│ 1   │ 3     │ 1458.0  │\n",
       "│ 2   │ 21    │ 2232.0  │\n",
       "│ 3   │ 32    │ 2041.0  │\n",
       "│ 4   │ 82    │ 1508.0  │\n",
       "│ 5   │ 84    │ 1610.0  │\n",
       "│ 6   │ 99    │ 1295.0  │\n",
       "│ 7   │ 106   │ 1216.0  │\n",
       "│ 8   │ 114   │ 824.0   │\n",
       "│ 9   │ 124   │ 440.0   │\n",
       "│ 10  │ 130   │ 1104.0  │\n",
       "⋮\n",
       "│ 668 │ 6645  │ 2854.0  │\n",
       "│ 669 │ 6659  │ 1183.0  │\n",
       "│ 670 │ 6660  │ 682.0   │\n",
       "│ 671 │ 6666  │ 1451.0  │\n",
       "│ 672 │ 6671  │ 1818.0  │\n",
       "│ 673 │ 6674  │ 2150.0  │\n",
       "│ 674 │ 6675  │ 1092.0  │\n",
       "│ 675 │ 6698  │ 2078.0  │\n",
       "│ 676 │ 6703  │ 435.0   │\n",
       "│ 677 │ 6718  │ 1285.0  │\n",
       "│ 678 │ 6726  │ 2981.0  │"
      ]
     },
     "execution_count": 105,
     "metadata": {},
     "output_type": "execute_result"
    }
   ],
   "source": [
    "# materialize a csv file as a DataFrame\n",
    "origins_pop_series = CSV.File(\"../../../../lima_optimization_output/origins_w_demands_series_no_dupl.csv\") |> DataFrame!"
   ]
  },
  {
   "cell_type": "code",
   "execution_count": 106,
   "metadata": {},
   "outputs": [],
   "source": [
    "origins_pop_dict = Dict()\n",
    "for i in 1:size(origins_pop_series,1)\n",
    "    origins_pop_dict[origins_pop_series[i,1]] = origins_pop_series[i,2]\n",
    "end"
   ]
  },
  {
   "cell_type": "code",
   "execution_count": 107,
   "metadata": {},
   "outputs": [
    {
     "data": {
      "text/plain": [
       "Dict{Any,Any} with 678 entries:\n",
       "  3847 => 847.0\n",
       "  1090 => 1371.0\n",
       "  4130 => 130.0\n",
       "  1333 => 141.0\n",
       "  2812 => 1843.0\n",
       "  3485 => 2131.0\n",
       "  2564 => 1535.0\n",
       "  5162 => 436.0\n",
       "  5476 => 2520.0\n",
       "  1662 => 1474.0\n",
       "  1461 => 1715.0\n",
       "  4223 => 1625.0\n",
       "  1124 => 1705.0\n",
       "  3181 => 1409.0\n",
       "  6440 => 1525.0\n",
       "  2835 => 2374.0\n",
       "  1845 => 2921.0\n",
       "  5784 => 2197.0\n",
       "  563  => 4970.0\n",
       "  2202 => 160.0\n",
       "  3213 => 2394.0\n",
       "  2354 => 2584.0\n",
       "  671  => 110.0\n",
       "  3126 => 4035.0\n",
       "  5743 => 1392.0\n",
       "  ⋮    => ⋮"
      ]
     },
     "execution_count": 107,
     "metadata": {},
     "output_type": "execute_result"
    }
   ],
   "source": [
    "origins_pop_dict"
   ]
  },
  {
   "cell_type": "code",
   "execution_count": 108,
   "metadata": {},
   "outputs": [
    {
     "data": {
      "text/plain": [
       "1458.0"
      ]
     },
     "execution_count": 108,
     "metadata": {},
     "output_type": "execute_result"
    }
   ],
   "source": [
    "origins_pop_dict[3]"
   ]
  },
  {
   "cell_type": "code",
   "execution_count": 112,
   "metadata": {},
   "outputs": [
    {
     "name": "stdout",
     "output_type": "stream",
     "text": [
      "numFacility\n",
      "4\n",
      "origins type\n",
      "Array{Int64,1}\n",
      "facilities type\n",
      "Array{Int64,1}\n",
      "facilities j\n",
      "1\n",
      "2\n",
      "3\n",
      "4\n",
      "5\n",
      "6\n",
      "7\n",
      "8\n",
      "9\n",
      "10\n",
      "11\n",
      "12\n",
      "13\n",
      "14\n",
      "15\n",
      "16\n",
      "17\n",
      "facilities[j]\n",
      "1968\n",
      "1020\n",
      "363\n",
      "819\n",
      "1322\n",
      "1578\n",
      "1803\n",
      "806\n",
      "2049\n",
      "1517\n",
      "1879\n",
      "803\n",
      "1542\n",
      "1657\n",
      "583\n",
      "1736\n",
      "1584\n",
      "Objective value is: 312049.36805564194\n",
      "print array values\n",
      "[0.0, 1.0, 0.0, 1.0, 0.0, 0.0, 0.0, 0.0, 0.0, 0.0, 1.0, 0.0, 0.0, 0.0, 0.0, 0.0, 1.0]\n",
      "print array length\n",
      "17\n",
      "print selected_facilities\n",
      "Any[\"2048\", \"4154\", \"3409\", \"6107\"]\n",
      "Welcome to the CBC MILP Solver \n",
      "Version: 2.9.9 \n",
      "Build Date: Dec 31 2018 \n",
      "\n",
      "command line - Cbc_C_Interface -threads 2 -seconds 68400 -solve -quit (default strategy 1)\n",
      "threads was changed from 0 to 2\n",
      "seconds was changed from 1e+100 to 68400\n",
      "Continuous objective value is 312049 - 0.73 seconds\n",
      "Cgl0004I processed model has 12222 rows, 11543 columns (11543 integer (11543 of which binary)) and 46121 elements\n",
      "Cbc0038I Initial state - 0 integers unsatisfied sum - 6.17284e-14\n",
      "Cbc0038I Solution found of 312049\n",
      "Cbc0038I Before mini branch and bound, 11543 integers at bound fixed and 0 continuous\n",
      "Cbc0038I Mini branch and bound did not improve solution (1.34 seconds)\n",
      "Cbc0038I After 1.34 seconds - Feasibility pump exiting with objective of 312049 - took 0.03 seconds\n",
      "Cbc0012I Integer solution of 312049.37 found by feasibility pump after 0 iterations and 0 nodes (1.35 seconds)\n",
      "Cbc0030I Thread 0 used 0 times,  waiting to start 0.027426004, 0 cpu time, 0 locks, 0 locked, 0 waiting for locks\n",
      "Cbc0030I Thread 1 used 0 times,  waiting to start 0.014256239, 0 cpu time, 0 locks, 0 locked, 0 waiting for locks\n",
      "Cbc0030I Main thread 0 waiting for threads,  1 locks, 3.8146973e-06 locked, 1.4305115e-06 waiting for locks\n",
      "Cbc0001I Search completed - best objective 312049.3680556419, took 0 iterations and 0 nodes (1.38 seconds)\n",
      "Cbc0035I Maximum depth 0, 0 variables fixed on reduced cost\n",
      "Cuts at root node changed objective from 312049 to 312049\n",
      "Probing was tried 0 times and created 0 cuts of which 0 were active after adding rounds of cuts (0.000 seconds)\n",
      "Gomory was tried 0 times and created 0 cuts of which 0 were active after adding rounds of cuts (0.000 seconds)\n",
      "Knapsack was tried 0 times and created 0 cuts of which 0 were active after adding rounds of cuts (0.000 seconds)\n",
      "Clique was tried 0 times and created 0 cuts of which 0 were active after adding rounds of cuts (0.000 seconds)\n",
      "MixedIntegerRounding2 was tried 0 times and created 0 cuts of which 0 were active after adding rounds of cuts (0.000 seconds)\n",
      "FlowCover was tried 0 times and created 0 cuts of which 0 were active after adding rounds of cuts (0.000 seconds)\n",
      "TwoMirCuts was tried 0 times and created 0 cuts of which 0 were active after adding rounds of cuts (0.000 seconds)\n",
      "\n",
      "Result - Optimal solution found\n",
      "\n",
      "Objective value:                312049.36805564\n",
      "Enumerated nodes:               0\n",
      "Total iterations:               0\n",
      "Time (CPU seconds):             1.42\n",
      "Time (Wallclock seconds):       1.44\n",
      "\n",
      "Total time (CPU seconds):       1.42   (Wallclock seconds):       1.44\n",
      "\n"
     ]
    },
    {
     "data": {
      "text/plain": [
       "4-element Array{Any,1}:\n",
       " \"2048\"\n",
       " \"4154\"\n",
       " \"3409\"\n",
       " \"6107\""
      ]
     },
     "execution_count": 112,
     "metadata": {},
     "output_type": "execute_result"
    }
   ],
   "source": [
    "selected_facilities = Cap_pMedian(4,\"../../../../lima_optimization_output/saved_OD.csv\", origins_pop_dict, facilities_cap_dict)"
   ]
  },
  {
   "cell_type": "code",
   "execution_count": 43,
   "metadata": {},
   "outputs": [
    {
     "data": {
      "text/plain": [
       "4-element Array{Any,1}:\n",
       " \"2048\"\n",
       " \"4154\"\n",
       " \"3409\"\n",
       " \"6107\""
      ]
     },
     "execution_count": 43,
     "metadata": {},
     "output_type": "execute_result"
    }
   ],
   "source": [
    "selected_facilities"
   ]
  },
  {
   "cell_type": "code",
   "execution_count": 45,
   "metadata": {},
   "outputs": [],
   "source": [
    "#write-out selected_facilities\n",
    "writedlm(\"../../../../lima_optimization_output/selected_facilities_file_from_julia\",selected_facilities)"
   ]
  }
 ],
 "metadata": {
  "kernelspec": {
   "display_name": "Julia 1.0.3",
   "language": "julia",
   "name": "julia-1.0"
  },
  "language_info": {
   "file_extension": ".jl",
   "mimetype": "application/julia",
   "name": "julia",
   "version": "1.0.3"
  }
 },
 "nbformat": 4,
 "nbformat_minor": 2
}
