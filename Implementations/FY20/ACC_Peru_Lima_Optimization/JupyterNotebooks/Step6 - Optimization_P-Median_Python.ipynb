{
 "cells": [
  {
   "cell_type": "markdown",
   "metadata": {},
   "source": [
    "This is a type of location optimization analysis, specifically finding the optimal location of facilites on a network. This analysis is the P-Median Problem implemented in **Python**:\n",
    "\n",
    "### P-Median Problem\n",
    "The P-median problem finds the location of (a pre-specified number of) P facilities to minimize the average travel distance (or time) among all demand points and facilities. The P-median problem can take into account the level of demand at each point (e.g. number of people, or the number of visits).\n",
    "\n",
    "more information on GOSTNets Optimization can be found in the wiki: https://github.com/worldbank/GOST_PublicGoods/wiki/GOSTnets-Optimization"
   ]
  },
  {
   "cell_type": "code",
   "execution_count": 34,
   "metadata": {},
   "outputs": [],
   "source": [
    "import geopandas as gpd\n",
    "import pandas as pd\n",
    "import os, sys\n",
    "# add to your system path the location of the GOSTnet.py library\n",
    "sys.path.append(r'../../../GOSTNets/GOSTNets')\n",
    "import GOSTnet_Optimization as gn\n",
    "import importlib"
   ]
  },
  {
   "cell_type": "markdown",
   "metadata": {},
   "source": [
    "## The P-Median Problem requires an OD matrix as an input\n",
    "### read in OD matrix saved as csv file as dataframe"
   ]
  },
  {
   "cell_type": "code",
   "execution_count": 35,
   "metadata": {},
   "outputs": [],
   "source": [
    "pth = r'../../../../lima_optimization_output'\n",
    "OD_df = pd.read_csv(os.path.join(pth, 'saved_OD.csv'),index_col=0)"
   ]
  },
  {
   "cell_type": "code",
   "execution_count": 36,
   "metadata": {},
   "outputs": [
    {
     "data": {
      "text/html": [
       "<div>\n",
       "<style scoped>\n",
       "    .dataframe tbody tr th:only-of-type {\n",
       "        vertical-align: middle;\n",
       "    }\n",
       "\n",
       "    .dataframe tbody tr th {\n",
       "        vertical-align: top;\n",
       "    }\n",
       "\n",
       "    .dataframe thead th {\n",
       "        text-align: right;\n",
       "    }\n",
       "</style>\n",
       "<table border=\"1\" class=\"dataframe\">\n",
       "  <thead>\n",
       "    <tr style=\"text-align: right;\">\n",
       "      <th></th>\n",
       "      <th>6048</th>\n",
       "      <th>2048</th>\n",
       "      <th>6691</th>\n",
       "      <th>4154</th>\n",
       "      <th>4198</th>\n",
       "      <th>4647</th>\n",
       "      <th>4233</th>\n",
       "      <th>3914</th>\n",
       "      <th>2959</th>\n",
       "      <th>175</th>\n",
       "      <th>3409</th>\n",
       "      <th>367</th>\n",
       "      <th>1556</th>\n",
       "      <th>917</th>\n",
       "      <th>4919</th>\n",
       "      <th>474</th>\n",
       "      <th>6107</th>\n",
       "    </tr>\n",
       "  </thead>\n",
       "  <tbody>\n",
       "    <tr>\n",
       "      <th>6147</th>\n",
       "      <td>1968.655016</td>\n",
       "      <td>1020.721567</td>\n",
       "      <td>363.676689</td>\n",
       "      <td>819.749517</td>\n",
       "      <td>1322.002788</td>\n",
       "      <td>1578.076932</td>\n",
       "      <td>1803.247252</td>\n",
       "      <td>806.455001</td>\n",
       "      <td>2049.990821</td>\n",
       "      <td>1517.705535</td>\n",
       "      <td>1879.396717</td>\n",
       "      <td>803.156991</td>\n",
       "      <td>1542.402922</td>\n",
       "      <td>1657.102815</td>\n",
       "      <td>583.090841</td>\n",
       "      <td>1736.154601</td>\n",
       "      <td>1584.512721</td>\n",
       "    </tr>\n",
       "    <tr>\n",
       "      <th>2052</th>\n",
       "      <td>525.817013</td>\n",
       "      <td>558.842693</td>\n",
       "      <td>1633.650766</td>\n",
       "      <td>1591.881656</td>\n",
       "      <td>274.594031</td>\n",
       "      <td>839.743363</td>\n",
       "      <td>1166.553316</td>\n",
       "      <td>1578.626774</td>\n",
       "      <td>872.524426</td>\n",
       "      <td>1600.311304</td>\n",
       "      <td>1019.720100</td>\n",
       "      <td>1744.228690</td>\n",
       "      <td>875.417373</td>\n",
       "      <td>694.618499</td>\n",
       "      <td>1785.150976</td>\n",
       "      <td>666.975509</td>\n",
       "      <td>544.361984</td>\n",
       "    </tr>\n",
       "    <tr>\n",
       "      <th>3</th>\n",
       "      <td>1330.771618</td>\n",
       "      <td>448.775456</td>\n",
       "      <td>1230.200991</td>\n",
       "      <td>1380.165021</td>\n",
       "      <td>873.074022</td>\n",
       "      <td>1498.688595</td>\n",
       "      <td>1962.518259</td>\n",
       "      <td>1307.025267</td>\n",
       "      <td>1668.335516</td>\n",
       "      <td>2097.397326</td>\n",
       "      <td>1815.601711</td>\n",
       "      <td>1546.804731</td>\n",
       "      <td>1534.362605</td>\n",
       "      <td>1386.775967</td>\n",
       "      <td>1520.879916</td>\n",
       "      <td>1471.197652</td>\n",
       "      <td>1236.519452</td>\n",
       "    </tr>\n",
       "  </tbody>\n",
       "</table>\n",
       "</div>"
      ],
      "text/plain": [
       "             6048         2048         6691         4154         4198  \\\n",
       "6147  1968.655016  1020.721567   363.676689   819.749517  1322.002788   \n",
       "2052   525.817013   558.842693  1633.650766  1591.881656   274.594031   \n",
       "3     1330.771618   448.775456  1230.200991  1380.165021   873.074022   \n",
       "\n",
       "             4647         4233         3914         2959          175  \\\n",
       "6147  1578.076932  1803.247252   806.455001  2049.990821  1517.705535   \n",
       "2052   839.743363  1166.553316  1578.626774   872.524426  1600.311304   \n",
       "3     1498.688595  1962.518259  1307.025267  1668.335516  2097.397326   \n",
       "\n",
       "             3409          367         1556          917         4919  \\\n",
       "6147  1879.396717   803.156991  1542.402922  1657.102815   583.090841   \n",
       "2052  1019.720100  1744.228690   875.417373   694.618499  1785.150976   \n",
       "3     1815.601711  1546.804731  1534.362605  1386.775967  1520.879916   \n",
       "\n",
       "              474         6107  \n",
       "6147  1736.154601  1584.512721  \n",
       "2052   666.975509   544.361984  \n",
       "3     1471.197652  1236.519452  "
      ]
     },
     "execution_count": 36,
     "metadata": {},
     "output_type": "execute_result"
    }
   ],
   "source": [
    "OD_df[:3]"
   ]
  },
  {
   "cell_type": "code",
   "execution_count": 37,
   "metadata": {},
   "outputs": [
    {
     "data": {
      "text/plain": [
       "Index(['6048', '2048', '6691', '4154', '4198', '4647', '4233', '3914', '2959',\n",
       "       '175', '3409', '367', '1556', '917', '4919', '474', '6107'],\n",
       "      dtype='object')"
      ]
     },
     "execution_count": 37,
     "metadata": {},
     "output_type": "execute_result"
    }
   ],
   "source": [
    "OD_df.keys()"
   ]
  },
  {
   "cell_type": "code",
   "execution_count": 38,
   "metadata": {},
   "outputs": [],
   "source": [
    "facilities = OD_df.columns.values.tolist()"
   ]
  },
  {
   "cell_type": "code",
   "execution_count": 39,
   "metadata": {},
   "outputs": [
    {
     "data": {
      "text/plain": [
       "['6048',\n",
       " '2048',\n",
       " '6691',\n",
       " '4154',\n",
       " '4198',\n",
       " '4647',\n",
       " '4233',\n",
       " '3914',\n",
       " '2959',\n",
       " '175',\n",
       " '3409',\n",
       " '367',\n",
       " '1556',\n",
       " '917',\n",
       " '4919',\n",
       " '474',\n",
       " '6107']"
      ]
     },
     "execution_count": 39,
     "metadata": {},
     "output_type": "execute_result"
    }
   ],
   "source": [
    "# facilities list\n",
    "facilities"
   ]
  },
  {
   "cell_type": "code",
   "execution_count": 40,
   "metadata": {},
   "outputs": [],
   "source": [
    "# pulp is a python optimization library\n",
    "import pulp\n",
    "#import importlib\n",
    "#importlib.reload(gn)"
   ]
  },
  {
   "cell_type": "markdown",
   "metadata": {},
   "source": [
    "## Compute the P-Median Problem\n",
    "The third argument to the optimize_facility_locations function is the number facilities to optimally locate"
   ]
  },
  {
   "cell_type": "code",
   "execution_count": 41,
   "metadata": {},
   "outputs": [],
   "source": [
    "results = gn.optimize_facility_locations(OD_df, facilities, 4, existing_facilities = None)"
   ]
  },
  {
   "cell_type": "markdown",
   "metadata": {},
   "source": [
    "### These are the node IDs of the selected optimal facilities"
   ]
  },
  {
   "cell_type": "code",
   "execution_count": 29,
   "metadata": {},
   "outputs": [
    {
     "data": {
      "text/plain": [
       "[2048, 3409, 4154, 6107]"
      ]
     },
     "execution_count": 29,
     "metadata": {},
     "output_type": "execute_result"
    }
   ],
   "source": [
    "results"
   ]
  },
  {
   "cell_type": "code",
   "execution_count": 42,
   "metadata": {},
   "outputs": [],
   "source": [
    "# save results in a .txt file\n",
    "file = open(r'../../../../lima_optimization_output/results.txt', 'w')\n",
    "for r in results:\n",
    "    file.write('{}\\n'.format(r))\n",
    "file.close()"
   ]
  },
  {
   "cell_type": "markdown",
   "metadata": {},
   "source": [
    "### Optional, if you would like to access the objective function value"
   ]
  },
  {
   "cell_type": "code",
   "execution_count": 43,
   "metadata": {},
   "outputs": [],
   "source": [
    "#generate pulp.LpProblem object without solving\n",
    "return_problem = gn.optimize_facility_locations(OD_df, facilities, 4, existing_facilities = None, execute=False)"
   ]
  },
  {
   "cell_type": "code",
   "execution_count": 44,
   "metadata": {},
   "outputs": [
    {
     "data": {
      "text/plain": [
       "1"
      ]
     },
     "execution_count": 44,
     "metadata": {},
     "output_type": "execute_result"
    }
   ],
   "source": [
    "#solve problem\n",
    "return_problem.solve()"
   ]
  },
  {
   "cell_type": "code",
   "execution_count": 45,
   "metadata": {},
   "outputs": [
    {
     "data": {
      "text/plain": [
       "312049.36805564194"
      ]
     },
     "execution_count": 45,
     "metadata": {},
     "output_type": "execute_result"
    }
   ],
   "source": [
    "#print out objective value\n",
    "return_problem.objective.value()"
   ]
  }
 ],
 "metadata": {
  "kernelspec": {
   "display_name": "templateA",
   "language": "python",
   "name": "templatea"
  },
  "language_info": {
   "codemirror_mode": {
    "name": "ipython",
    "version": 3
   },
   "file_extension": ".py",
   "mimetype": "text/x-python",
   "name": "python",
   "nbconvert_exporter": "python",
   "pygments_lexer": "ipython3",
   "version": "3.7.3"
  }
 },
 "nbformat": 4,
 "nbformat_minor": 2
}
