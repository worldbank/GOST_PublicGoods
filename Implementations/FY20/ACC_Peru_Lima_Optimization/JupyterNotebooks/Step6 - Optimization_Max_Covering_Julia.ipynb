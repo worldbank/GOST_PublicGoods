{
 "cells": [
  {
   "cell_type": "markdown",
   "metadata": {},
   "source": [
    "This is a type of location optimization analysis, specifically finding the optimal location of facilites on a network. These are two types of Set-Coverage analysis implemented in **julia**:\n",
    "\n",
    "### The Maximal Covering Location Problem (MCLP)\n",
    "#### Objective: The Maximal Covering Location Problem determines the location of P facilities in order to maximize the demand covered within a pre-specified maximum distance coverage.\n",
    "\n",
    "more information on GOSTNets Optimization can be found in the wiki: https://github.com/worldbank/GOST_PublicGoods/wiki/GOSTnets-Optimization"
   ]
  },
  {
   "cell_type": "markdown",
   "metadata": {},
   "source": [
    "#### This is a Julia Notebook. If you are new to Julia, these are the [steps](https://datatofish.com/add-julia-to-jupyter/) to add Julia to a Jupyter Notebook"
   ]
  },
  {
   "cell_type": "code",
   "execution_count": 1,
   "metadata": {},
   "outputs": [
    {
     "name": "stdout",
     "output_type": "stream",
     "text": [
      "\u001b[32m\u001b[1m  Updating\u001b[22m\u001b[39m registry at `~/.julia/registries/General`\n",
      "\u001b[32m\u001b[1m  Updating\u001b[22m\u001b[39m git-repo `https://github.com/JuliaRegistries/General.git`\n",
      "\u001b[2K\u001b[?25h[1mFetching:\u001b[22m\u001b[39m [========================================>]  100.0 %.0 %\u001b[32m\u001b[1m Resolving\u001b[22m\u001b[39m package versions...\n",
      "\u001b[32m\u001b[1m  Updating\u001b[22m\u001b[39m `~/.julia/environments/v1.0/Project.toml`\n",
      "\u001b[90m [no changes]\u001b[39m\n",
      "\u001b[32m\u001b[1m  Updating\u001b[22m\u001b[39m `~/.julia/environments/v1.0/Manifest.toml`\n",
      "\u001b[90m [no changes]\u001b[39m\n",
      "\u001b[32m\u001b[1m Resolving\u001b[22m\u001b[39m package versions...\n",
      "\u001b[32m\u001b[1m  Updating\u001b[22m\u001b[39m `~/.julia/environments/v1.0/Project.toml`\n",
      "\u001b[90m [no changes]\u001b[39m\n",
      "\u001b[32m\u001b[1m  Updating\u001b[22m\u001b[39m `~/.julia/environments/v1.0/Manifest.toml`\n",
      "\u001b[90m [no changes]\u001b[39m\n",
      "\u001b[32m\u001b[1m Resolving\u001b[22m\u001b[39m package versions...\n",
      "\u001b[32m\u001b[1m  Updating\u001b[22m\u001b[39m `~/.julia/environments/v1.0/Project.toml`\n",
      "\u001b[90m [no changes]\u001b[39m\n",
      "\u001b[32m\u001b[1m  Updating\u001b[22m\u001b[39m `~/.julia/environments/v1.0/Manifest.toml`\n",
      "\u001b[90m [no changes]\u001b[39m\n",
      "\u001b[32m\u001b[1m Resolving\u001b[22m\u001b[39m package versions...\n",
      "\u001b[32m\u001b[1m  Updating\u001b[22m\u001b[39m `~/.julia/environments/v1.0/Project.toml`\n",
      "\u001b[90m [no changes]\u001b[39m\n",
      "\u001b[32m\u001b[1m  Updating\u001b[22m\u001b[39m `~/.julia/environments/v1.0/Manifest.toml`\n",
      "\u001b[90m [no changes]\u001b[39m\n",
      "\u001b[32m\u001b[1m Resolving\u001b[22m\u001b[39m package versions...\n",
      "\u001b[32m\u001b[1m  Updating\u001b[22m\u001b[39m `~/.julia/environments/v1.0/Project.toml`\n",
      "\u001b[90m [no changes]\u001b[39m\n",
      "\u001b[32m\u001b[1m  Updating\u001b[22m\u001b[39m `~/.julia/environments/v1.0/Manifest.toml`\n",
      "\u001b[90m [no changes]\u001b[39m\n",
      "\u001b[32m\u001b[1m Resolving\u001b[22m\u001b[39m package versions...\n",
      "\u001b[32m\u001b[1m  Updating\u001b[22m\u001b[39m `~/.julia/environments/v1.0/Project.toml`\n",
      "\u001b[90m [no changes]\u001b[39m\n",
      "\u001b[32m\u001b[1m  Updating\u001b[22m\u001b[39m `~/.julia/environments/v1.0/Manifest.toml`\n",
      "\u001b[90m [no changes]\u001b[39m\n",
      "\u001b[32m\u001b[1m Resolving\u001b[22m\u001b[39m package versions...\n",
      "\u001b[32m\u001b[1m  Updating\u001b[22m\u001b[39m `~/.julia/environments/v1.0/Project.toml`\n",
      "\u001b[90m [no changes]\u001b[39m\n",
      "\u001b[32m\u001b[1m  Updating\u001b[22m\u001b[39m `~/.julia/environments/v1.0/Manifest.toml`\n",
      "\u001b[90m [no changes]\u001b[39m\n",
      "Done installing packages\n"
     ]
    }
   ],
   "source": [
    "using Pkg\n",
    "Pkg.add(\"JuMP\")\n",
    "Pkg.add(\"Cbc\")\n",
    "Pkg.add(\"MathOptInterface\")\n",
    "Pkg.add(\"MathProgBase\")\n",
    "Pkg.add(\"CSV\")\n",
    "Pkg.add(\"DelimitedFiles\")\n",
    "Pkg.add(\"DataFrames\")\n",
    "println(\"Done installing packages\")"
   ]
  },
  {
   "cell_type": "code",
   "execution_count": 2,
   "metadata": {},
   "outputs": [],
   "source": [
    "#using JuMP, Cbc, GLPK, CPLEX, Test, Random, MathOptInterface, MathOptFormat, CSV, DataFrames, DelimitedFiles, MathProgBase\n",
    "using JuMP, Cbc, MathOptInterface, CSV, DataFrames, DelimitedFiles, MathProgBase"
   ]
  },
  {
   "cell_type": "code",
   "execution_count": 3,
   "metadata": {},
   "outputs": [
    {
     "data": {
      "text/plain": [
       "MathOptInterface"
      ]
     },
     "execution_count": 3,
     "metadata": {},
     "output_type": "execute_result"
    }
   ],
   "source": [
    "# MathOptInterface is an abstraction layer for mathematical optimization solvers\n",
    "const MOI = MathOptInterface"
   ]
  },
  {
   "cell_type": "markdown",
   "metadata": {},
   "source": [
    "## This is the Julia Maximal Covering Location Problem (MCLP) function"
   ]
  },
  {
   "cell_type": "code",
   "execution_count": 101,
   "metadata": {},
   "outputs": [
    {
     "data": {
      "text/plain": [
       "MaxCoveringProblem (generic function with 1 method)"
      ]
     },
     "execution_count": 101,
     "metadata": {},
     "output_type": "execute_result"
    }
   ],
   "source": [
    "function MaxCoveringProblem(CSVfile, pFacilities, maxCoverage::Int, origins_pop_dict)\n",
    "\n",
    "    println(\"maxCoverage value\")\n",
    "    println(maxCoverage)\n",
    "\n",
    "    # materialize a csv file as a DataFrame\n",
    "    df = CSV.File(CSVfile) |> DataFrame!\n",
    "\n",
    "    #extract column_headers\n",
    "    column_headers = []\n",
    "    #skip Column1\n",
    "    for i=2:length(names(df))\n",
    "      push!(column_headers,String(names(df)[i]))\n",
    "    end\n",
    "    \n",
    "    OD_dict = Dict()\n",
    "    for i in 1:size(df, 1)\n",
    "        OD_dict[df[i,1]] = df[i,2:end]\n",
    "    end\n",
    "\n",
    "    #println(\"print OD_dict\")\n",
    "    #println(OD_dict)\n",
    "\n",
    "    #origins as array\n",
    "    origins = df[:,1]\n",
    "\n",
    "    println(\"print origins length\")\n",
    "    print(length(origins))\n",
    "    println(\"origins\")\n",
    "    println(origins)\n",
    "\n",
    "    facilities = []\n",
    "    for i in df[1,2:end]\n",
    "      push!(facilities,trunc(Int, i))\n",
    "    end\n",
    "\n",
    "    println(\"facilities\")\n",
    "    println(facilities)\n",
    "\n",
    "    #m = Model(with_optimizer(CPLEX.Optimizer))\n",
    "    #output says threads were changed, but I do not see a difference on the resource monitor\n",
    "    #m = Model(with_optimizer(Cbc.Optimizer, threads = 14))\n",
    "    #change the limit to \n",
    "    m = Model(with_optimizer(Cbc.Optimizer, threads = 2, seconds = 68400))\n",
    "\n",
    "    # Facility locations\n",
    "    #@variable(m, 0 <= s[1:numLocation] <= 1)\n",
    "    #@variable(m, 0 <= x[1:length(facilities)] <= 1)\n",
    "    #binary variable\n",
    "    @variable(m, x[1:length(facilities)], binary=true)\n",
    "\n",
    "    #println(\"print Facility location var\")\n",
    "    #println(x)\n",
    "\n",
    "    # Aux. variable: x_a,i = 1 if the closest facility to a is at i\n",
    "    #@variable(m, 0 <= x[1:numLocation,1:numCustomer] <= 1)\n",
    "    #@variable(m, 0 <= y[origins,1:length(facilities)] <= 1)\n",
    "    #binary variable\n",
    "    @variable(m, y[origins], binary=true)\n",
    "\n",
    "    #println(\"print origin facility var\")\n",
    "    #println(y)\n",
    "\n",
    "    # Objective: min distance\n",
    "    #@objective(m, Min, sum(abs(customerLocations[a]-i)*x[i,a] for a = 1:numCustomer, i = 1:numLocation) )\n",
    "\n",
    "    \n",
    "    #println(\"testing1\")\n",
    "    #for j in facilities\n",
    "    #    println(j)\n",
    "    #end\n",
    "    \n",
    "    #@objective(m, Min, sum(OD_dict[i][j]*y[i,j] for i in origins, j = 1:length(facilities)) )\n",
    "    \n",
    "    if @isdefined origins_pop_dict\n",
    "        println(\"origins_pop_dict exists\")\n",
    "        @objective(m, Max, sum(origins_pop_dict[i] * y[i] for i in origins))\n",
    "        #@objective(m, Max, sum(y[i] for i in origins))\n",
    "    else\n",
    "        println(\"origins_pop_dict is not defined\")\n",
    "        @objective(m, Max, sum(y[i] for i in origins))\n",
    "    end\n",
    "    \n",
    "    # Constraints\n",
    "\n",
    "\n",
    "    # Subject to must allocate all facilities\n",
    "    #@constraint(m, sum(x[i] for i=1:length(facilities)) == numFacility )\n",
    "\n",
    "\n",
    "    for i in origins\n",
    "        eligibleFacilities = []\n",
    "        for j in 1:length(facilities)\n",
    "            if OD_dict[i][j] <= maxCoverage\n",
    "                push!(eligibleFacilities,j)\n",
    "            end\n",
    "        end\n",
    "        @constraint(m, sum(x[j] for j in eligibleFacilities) >= y[i] )\n",
    "    end\n",
    "\n",
    "    @constraint(m, sum(x[j] for j in 1:length(facilities)) == pFacilities)\n",
    "\n",
    "    JuMP.optimize!(m)\n",
    "\n",
    "    println(\"Objective value is: \", JuMP.objective_value(m))\n",
    "\n",
    "    #println(\"Objective bound is: \", JuMP.objective_bound(m))\n",
    "\n",
    "\n",
    "    println(\"print array values\")\n",
    "    println(value.(x))\n",
    "    println(\"print array length\")\n",
    "    println(length(value.(x)))\n",
    "\n",
    "    result_array = value.(x)\n",
    "\n",
    "    selected_facilities = []\n",
    "\n",
    "    for i=1:length(result_array)\n",
    "       if result_array[i] == 1\n",
    "           push!(selected_facilities,column_headers[i])\n",
    "       end\n",
    "    end\n",
    "\n",
    "    println(\"print selected_facilities\")\n",
    "    println(selected_facilities)\n",
    "\n",
    "\n",
    "\n",
    "    if termination_status(m) == MOI.OPTIMAL\n",
    "        optimal_solution = value.(x)\n",
    "        optimal_objective = objective_value(m)\n",
    "    elseif termination_status(m) == MOI.TIME_LIMIT && has_values(model)\n",
    "        suboptimal_solution = value.(x)\n",
    "        suboptimal_objective = objective_value(m)\n",
    "    else\n",
    "        error(\"The model was not solved correctly.\")\n",
    "    end\n",
    "\n",
    "    return selected_facilities\n",
    "\n",
    "end"
   ]
  },
  {
   "cell_type": "markdown",
   "metadata": {},
   "source": [
    "### The Max Covering function takes in the OD matrix as a csv file for the first argument, the number of P facilities as the second argument, and as the third argument it takes in a series of origins with their population."
   ]
  },
  {
   "cell_type": "markdown",
   "metadata": {},
   "source": [
    "### import an origins_pop_series from csv"
   ]
  },
  {
   "cell_type": "code",
   "execution_count": 85,
   "metadata": {},
   "outputs": [
    {
     "data": {
      "text/html": [
       "<table class=\"data-frame\"><thead><tr><th></th><th>NN</th><th>pop</th></tr><tr><th></th><th>Int64</th><th>Float64</th></tr></thead><tbody><p>678 rows × 2 columns</p><tr><th>1</th><td>3</td><td>1458.0</td></tr><tr><th>2</th><td>21</td><td>2232.0</td></tr><tr><th>3</th><td>32</td><td>2041.0</td></tr><tr><th>4</th><td>82</td><td>1508.0</td></tr><tr><th>5</th><td>84</td><td>1610.0</td></tr><tr><th>6</th><td>99</td><td>1295.0</td></tr><tr><th>7</th><td>106</td><td>1216.0</td></tr><tr><th>8</th><td>114</td><td>824.0</td></tr><tr><th>9</th><td>124</td><td>440.0</td></tr><tr><th>10</th><td>130</td><td>1104.0</td></tr><tr><th>11</th><td>149</td><td>1798.0</td></tr><tr><th>12</th><td>150</td><td>2484.0</td></tr><tr><th>13</th><td>152</td><td>310.0</td></tr><tr><th>14</th><td>161</td><td>665.0</td></tr><tr><th>15</th><td>163</td><td>1611.0</td></tr><tr><th>16</th><td>170</td><td>2729.0</td></tr><tr><th>17</th><td>173</td><td>2208.0</td></tr><tr><th>18</th><td>174</td><td>2426.0</td></tr><tr><th>19</th><td>175</td><td>1225.0</td></tr><tr><th>20</th><td>222</td><td>526.0</td></tr><tr><th>21</th><td>224</td><td>455.0</td></tr><tr><th>22</th><td>294</td><td>649.0</td></tr><tr><th>23</th><td>295</td><td>2393.0</td></tr><tr><th>24</th><td>296</td><td>2218.0</td></tr><tr><th>25</th><td>297</td><td>2301.0</td></tr><tr><th>26</th><td>298</td><td>2689.0</td></tr><tr><th>27</th><td>321</td><td>512.0</td></tr><tr><th>28</th><td>335</td><td>1303.0</td></tr><tr><th>29</th><td>351</td><td>2787.0</td></tr><tr><th>30</th><td>352</td><td>1978.0</td></tr><tr><th>&vellip;</th><td>&vellip;</td><td>&vellip;</td></tr></tbody></table>"
      ],
      "text/latex": [
       "\\begin{tabular}{r|cc}\n",
       "\t& NN & pop\\\\\n",
       "\t\\hline\n",
       "\t& Int64 & Float64\\\\\n",
       "\t\\hline\n",
       "\t1 & 3 & 1458.0 \\\\\n",
       "\t2 & 21 & 2232.0 \\\\\n",
       "\t3 & 32 & 2041.0 \\\\\n",
       "\t4 & 82 & 1508.0 \\\\\n",
       "\t5 & 84 & 1610.0 \\\\\n",
       "\t6 & 99 & 1295.0 \\\\\n",
       "\t7 & 106 & 1216.0 \\\\\n",
       "\t8 & 114 & 824.0 \\\\\n",
       "\t9 & 124 & 440.0 \\\\\n",
       "\t10 & 130 & 1104.0 \\\\\n",
       "\t11 & 149 & 1798.0 \\\\\n",
       "\t12 & 150 & 2484.0 \\\\\n",
       "\t13 & 152 & 310.0 \\\\\n",
       "\t14 & 161 & 665.0 \\\\\n",
       "\t15 & 163 & 1611.0 \\\\\n",
       "\t16 & 170 & 2729.0 \\\\\n",
       "\t17 & 173 & 2208.0 \\\\\n",
       "\t18 & 174 & 2426.0 \\\\\n",
       "\t19 & 175 & 1225.0 \\\\\n",
       "\t20 & 222 & 526.0 \\\\\n",
       "\t21 & 224 & 455.0 \\\\\n",
       "\t22 & 294 & 649.0 \\\\\n",
       "\t23 & 295 & 2393.0 \\\\\n",
       "\t24 & 296 & 2218.0 \\\\\n",
       "\t25 & 297 & 2301.0 \\\\\n",
       "\t26 & 298 & 2689.0 \\\\\n",
       "\t27 & 321 & 512.0 \\\\\n",
       "\t28 & 335 & 1303.0 \\\\\n",
       "\t29 & 351 & 2787.0 \\\\\n",
       "\t30 & 352 & 1978.0 \\\\\n",
       "\t$\\dots$ & $\\dots$ & $\\dots$ \\\\\n",
       "\\end{tabular}\n"
      ],
      "text/plain": [
       "678×2 DataFrame\n",
       "│ Row │ NN    │ pop     │\n",
       "│     │ \u001b[90mInt64\u001b[39m │ \u001b[90mFloat64\u001b[39m │\n",
       "├─────┼───────┼─────────┤\n",
       "│ 1   │ 3     │ 1458.0  │\n",
       "│ 2   │ 21    │ 2232.0  │\n",
       "│ 3   │ 32    │ 2041.0  │\n",
       "│ 4   │ 82    │ 1508.0  │\n",
       "│ 5   │ 84    │ 1610.0  │\n",
       "│ 6   │ 99    │ 1295.0  │\n",
       "│ 7   │ 106   │ 1216.0  │\n",
       "│ 8   │ 114   │ 824.0   │\n",
       "│ 9   │ 124   │ 440.0   │\n",
       "│ 10  │ 130   │ 1104.0  │\n",
       "⋮\n",
       "│ 668 │ 6645  │ 2854.0  │\n",
       "│ 669 │ 6659  │ 1183.0  │\n",
       "│ 670 │ 6660  │ 682.0   │\n",
       "│ 671 │ 6666  │ 1451.0  │\n",
       "│ 672 │ 6671  │ 1818.0  │\n",
       "│ 673 │ 6674  │ 2150.0  │\n",
       "│ 674 │ 6675  │ 1092.0  │\n",
       "│ 675 │ 6698  │ 2078.0  │\n",
       "│ 676 │ 6703  │ 435.0   │\n",
       "│ 677 │ 6718  │ 1285.0  │\n",
       "│ 678 │ 6726  │ 2981.0  │"
      ]
     },
     "execution_count": 85,
     "metadata": {},
     "output_type": "execute_result"
    }
   ],
   "source": [
    "# materialize a csv file as a DataFrame\n",
    "origins_pop_series = CSV.File(\"../../../../lima_optimization_output/origins_w_demands_series_no_dupl.csv\") |> DataFrame!"
   ]
  },
  {
   "cell_type": "code",
   "execution_count": 86,
   "metadata": {},
   "outputs": [
    {
     "data": {
      "text/plain": [
       "DataFrame"
      ]
     },
     "execution_count": 86,
     "metadata": {},
     "output_type": "execute_result"
    }
   ],
   "source": [
    "typeof(origins_pop_series)"
   ]
  },
  {
   "cell_type": "code",
   "execution_count": 87,
   "metadata": {},
   "outputs": [
    {
     "data": {
      "text/plain": [
       "2-element Array{Symbol,1}:\n",
       " :NN \n",
       " :pop"
      ]
     },
     "execution_count": 87,
     "metadata": {},
     "output_type": "execute_result"
    }
   ],
   "source": [
    "names(origins_pop_series)"
   ]
  },
  {
   "cell_type": "code",
   "execution_count": 88,
   "metadata": {},
   "outputs": [],
   "source": [
    "#names!(origins_pop_series, [Symbol(\"col$i\") for i in 1:2])\n",
    "#names!(origins_pop_series,[Symbol(\"NN\"),Symbol(\"pop\")])"
   ]
  },
  {
   "cell_type": "code",
   "execution_count": 89,
   "metadata": {},
   "outputs": [
    {
     "data": {
      "text/plain": [
       "(678, 2)"
      ]
     },
     "execution_count": 89,
     "metadata": {},
     "output_type": "execute_result"
    }
   ],
   "source": [
    "size(origins_pop_series)"
   ]
  },
  {
   "cell_type": "code",
   "execution_count": 90,
   "metadata": {},
   "outputs": [
    {
     "data": {
      "text/html": [
       "<table class=\"data-frame\"><thead><tr><th></th><th>NN</th><th>pop</th></tr><tr><th></th><th>Int64</th><th>Float64</th></tr></thead><tbody><p>678 rows × 2 columns</p><tr><th>1</th><td>3</td><td>1458.0</td></tr><tr><th>2</th><td>21</td><td>2232.0</td></tr><tr><th>3</th><td>32</td><td>2041.0</td></tr><tr><th>4</th><td>82</td><td>1508.0</td></tr><tr><th>5</th><td>84</td><td>1610.0</td></tr><tr><th>6</th><td>99</td><td>1295.0</td></tr><tr><th>7</th><td>106</td><td>1216.0</td></tr><tr><th>8</th><td>114</td><td>824.0</td></tr><tr><th>9</th><td>124</td><td>440.0</td></tr><tr><th>10</th><td>130</td><td>1104.0</td></tr><tr><th>11</th><td>149</td><td>1798.0</td></tr><tr><th>12</th><td>150</td><td>2484.0</td></tr><tr><th>13</th><td>152</td><td>310.0</td></tr><tr><th>14</th><td>161</td><td>665.0</td></tr><tr><th>15</th><td>163</td><td>1611.0</td></tr><tr><th>16</th><td>170</td><td>2729.0</td></tr><tr><th>17</th><td>173</td><td>2208.0</td></tr><tr><th>18</th><td>174</td><td>2426.0</td></tr><tr><th>19</th><td>175</td><td>1225.0</td></tr><tr><th>20</th><td>222</td><td>526.0</td></tr><tr><th>21</th><td>224</td><td>455.0</td></tr><tr><th>22</th><td>294</td><td>649.0</td></tr><tr><th>23</th><td>295</td><td>2393.0</td></tr><tr><th>24</th><td>296</td><td>2218.0</td></tr><tr><th>25</th><td>297</td><td>2301.0</td></tr><tr><th>26</th><td>298</td><td>2689.0</td></tr><tr><th>27</th><td>321</td><td>512.0</td></tr><tr><th>28</th><td>335</td><td>1303.0</td></tr><tr><th>29</th><td>351</td><td>2787.0</td></tr><tr><th>30</th><td>352</td><td>1978.0</td></tr><tr><th>&vellip;</th><td>&vellip;</td><td>&vellip;</td></tr></tbody></table>"
      ],
      "text/latex": [
       "\\begin{tabular}{r|cc}\n",
       "\t& NN & pop\\\\\n",
       "\t\\hline\n",
       "\t& Int64 & Float64\\\\\n",
       "\t\\hline\n",
       "\t1 & 3 & 1458.0 \\\\\n",
       "\t2 & 21 & 2232.0 \\\\\n",
       "\t3 & 32 & 2041.0 \\\\\n",
       "\t4 & 82 & 1508.0 \\\\\n",
       "\t5 & 84 & 1610.0 \\\\\n",
       "\t6 & 99 & 1295.0 \\\\\n",
       "\t7 & 106 & 1216.0 \\\\\n",
       "\t8 & 114 & 824.0 \\\\\n",
       "\t9 & 124 & 440.0 \\\\\n",
       "\t10 & 130 & 1104.0 \\\\\n",
       "\t11 & 149 & 1798.0 \\\\\n",
       "\t12 & 150 & 2484.0 \\\\\n",
       "\t13 & 152 & 310.0 \\\\\n",
       "\t14 & 161 & 665.0 \\\\\n",
       "\t15 & 163 & 1611.0 \\\\\n",
       "\t16 & 170 & 2729.0 \\\\\n",
       "\t17 & 173 & 2208.0 \\\\\n",
       "\t18 & 174 & 2426.0 \\\\\n",
       "\t19 & 175 & 1225.0 \\\\\n",
       "\t20 & 222 & 526.0 \\\\\n",
       "\t21 & 224 & 455.0 \\\\\n",
       "\t22 & 294 & 649.0 \\\\\n",
       "\t23 & 295 & 2393.0 \\\\\n",
       "\t24 & 296 & 2218.0 \\\\\n",
       "\t25 & 297 & 2301.0 \\\\\n",
       "\t26 & 298 & 2689.0 \\\\\n",
       "\t27 & 321 & 512.0 \\\\\n",
       "\t28 & 335 & 1303.0 \\\\\n",
       "\t29 & 351 & 2787.0 \\\\\n",
       "\t30 & 352 & 1978.0 \\\\\n",
       "\t$\\dots$ & $\\dots$ & $\\dots$ \\\\\n",
       "\\end{tabular}\n"
      ],
      "text/plain": [
       "678×2 DataFrame\n",
       "│ Row │ NN    │ pop     │\n",
       "│     │ \u001b[90mInt64\u001b[39m │ \u001b[90mFloat64\u001b[39m │\n",
       "├─────┼───────┼─────────┤\n",
       "│ 1   │ 3     │ 1458.0  │\n",
       "│ 2   │ 21    │ 2232.0  │\n",
       "│ 3   │ 32    │ 2041.0  │\n",
       "│ 4   │ 82    │ 1508.0  │\n",
       "│ 5   │ 84    │ 1610.0  │\n",
       "│ 6   │ 99    │ 1295.0  │\n",
       "│ 7   │ 106   │ 1216.0  │\n",
       "│ 8   │ 114   │ 824.0   │\n",
       "│ 9   │ 124   │ 440.0   │\n",
       "│ 10  │ 130   │ 1104.0  │\n",
       "⋮\n",
       "│ 668 │ 6645  │ 2854.0  │\n",
       "│ 669 │ 6659  │ 1183.0  │\n",
       "│ 670 │ 6660  │ 682.0   │\n",
       "│ 671 │ 6666  │ 1451.0  │\n",
       "│ 672 │ 6671  │ 1818.0  │\n",
       "│ 673 │ 6674  │ 2150.0  │\n",
       "│ 674 │ 6675  │ 1092.0  │\n",
       "│ 675 │ 6698  │ 2078.0  │\n",
       "│ 676 │ 6703  │ 435.0   │\n",
       "│ 677 │ 6718  │ 1285.0  │\n",
       "│ 678 │ 6726  │ 2981.0  │"
      ]
     },
     "execution_count": 90,
     "metadata": {},
     "output_type": "execute_result"
    }
   ],
   "source": [
    "origins_pop_series"
   ]
  },
  {
   "cell_type": "code",
   "execution_count": 91,
   "metadata": {},
   "outputs": [
    {
     "data": {
      "text/plain": [
       "1458.0"
      ]
     },
     "execution_count": 91,
     "metadata": {},
     "output_type": "execute_result"
    }
   ],
   "source": [
    "origins_pop_series[1,2]"
   ]
  },
  {
   "cell_type": "code",
   "execution_count": 92,
   "metadata": {},
   "outputs": [],
   "source": [
    "origins_pop_dict = Dict()\n",
    "for i in 1:size(origins_pop_series,1)\n",
    "    origins_pop_dict[origins_pop_series[i,1]] = origins_pop_series[i,2]\n",
    "end"
   ]
  },
  {
   "cell_type": "code",
   "execution_count": 93,
   "metadata": {},
   "outputs": [
    {
     "data": {
      "text/plain": [
       "Dict{Any,Any} with 678 entries:\n",
       "  3847 => 847.0\n",
       "  1090 => 1371.0\n",
       "  4130 => 130.0\n",
       "  1333 => 141.0\n",
       "  2812 => 1843.0\n",
       "  3485 => 2131.0\n",
       "  2564 => 1535.0\n",
       "  5162 => 436.0\n",
       "  5476 => 2520.0\n",
       "  1662 => 1474.0\n",
       "  1461 => 1715.0\n",
       "  4223 => 1625.0\n",
       "  1124 => 1705.0\n",
       "  3181 => 1409.0\n",
       "  6440 => 1525.0\n",
       "  2835 => 2374.0\n",
       "  1845 => 2921.0\n",
       "  5784 => 2197.0\n",
       "  563  => 4970.0\n",
       "  2202 => 160.0\n",
       "  3213 => 2394.0\n",
       "  2354 => 2584.0\n",
       "  671  => 110.0\n",
       "  3126 => 4035.0\n",
       "  5743 => 1392.0\n",
       "  ⋮    => ⋮"
      ]
     },
     "execution_count": 93,
     "metadata": {},
     "output_type": "execute_result"
    }
   ],
   "source": [
    "origins_pop_dict"
   ]
  },
  {
   "cell_type": "code",
   "execution_count": 94,
   "metadata": {},
   "outputs": [
    {
     "data": {
      "text/plain": [
       "110.0"
      ]
     },
     "execution_count": 94,
     "metadata": {},
     "output_type": "execute_result"
    }
   ],
   "source": [
    "origins_pop_dict[671]"
   ]
  },
  {
   "cell_type": "code",
   "execution_count": 105,
   "metadata": {},
   "outputs": [
    {
     "name": "stdout",
     "output_type": "stream",
     "text": [
      "maxCoverage value\n",
      "200\n",
      "print origins length\n",
      "678origins\n",
      "[6147, 2052, 3, 6154, 6162, 4115, 6165, 21, 4125, 32, 4130, 4132, 6181, 4134, 2087, 4139, 6190, 4144, 6193, 4146, 2099, 2100, 2096, 4151, 2103, 6204, 4157, 6207, 2112, 6214, 2119, 4167, 4170, 2125, 6222, 4176, 6224, 82, 84, 4180, 2135, 4183, 6233, 6234, 99, 6245, 2150, 6247, 6248, 4198, 106, 4204, 2157, 2160, 114, 2167, 2169, 4219, 124, 2175, 6271, 4223, 130, 6278, 6279, 4233, 4234, 6283, 6286, 6292, 6293, 150, 149, 4244, 2197, 152, 2202, 4252, 2196, 161, 163, 6307, 6311, 170, 173, 4269, 6318, 175, 2225, 174, 2231, 6332, 6334, 4302, 6355, 6357, 2263, 4312, 6361, 6363, 222, 224, 6369, 2278, 2280, 6377, 4329, 4340, 4341, 4342, 6393, 4348, 4354, 4356, 2319, 4373, 2328, 4378, 2334, 2335, 4388, 6437, 294, 295, 296, 297, 6440, 2343, 298, 4394, 2354, 2356, 4404, 4410, 321, 4419, 6478, 335, 6485, 6486, 2389, 2395, 6493, 2397, 351, 352, 6495, 6498, 4455, 4456, 2410, 2413, 368, 6513, 370, 6514, 4468, 2424, 380, 6528, 6529, 384, 4482, 386, 389, 6533, 2433, 6536, 2444, 2447, 4497, 6546, 411, 6558, 4512, 420, 4518, 6568, 425, 4522, 2481, 4531, 438, 2489, 4540, 2492, 4546, 4548, 2501, 6605, 4567, 2528, 6626, 6629, 487, 488, 493, 495, 2546, 4596, 6645, 504, 4600, 511, 4608, 2561, 4610, 6659, 2564, 6660, 521, 6666, 4622, 527, 6671, 526, 6674, 6675, 2583, 537, 2586, 4640, 544, 2593, 546, 545, 552, 6698, 2603, 4654, 2607, 6703, 563, 569, 4666, 4670, 6718, 4671, 577, 581, 6726, 4678, 589, 2643, 596, 607, 615, 618, 2667, 2672, 2681, 4740, 653, 654, 2703, 2708, 4760, 4763, 668, 2717, 669, 671, 4771, 4773, 678, 4777, 4780, 691, 2741, 2743, 4793, 4798, 2753, 2756, 4805, 2760, 717, 2768, 2772, 2777, 4826, 4830, 4835, 2787, 2789, 4843, 752, 754, 4851, 2807, 760, 4858, 2812, 4862, 4868, 772, 4872, 4874, 4875, 781, 2830, 783, 2835, 787, 4890, 802, 4899, 4902, 2857, 4909, 4911, 815, 819, 4928, 2881, 833, 838, 4936, 843, 2891, 2894, 849, 854, 2908, 2914, 869, 4966, 2919, 870, 878, 4976, 4981, 2938, 4993, 897, 2945, 4997, 908, 2957, 2956, 913, 5012, 5013, 2965, 2964, 925, 926, 5025, 2979, 932, 2981, 5030, 5031, 936, 5041, 3001, 3003, 956, 3005, 5054, 5059, 5063, 3016, 5065, 971, 3021, 5069, 5070, 3024, 977, 979, 981, 5086, 3041, 3042, 5091, 3044, 3047, 5098, 3051, 3053, 3054, 3055, 1007, 3059, 3061, 1018, 5118, 3083, 3085, 5135, 5139, 3096, 5146, 5151, 1056, 5158, 3111, 5162, 5164, 5166, 5168, 3126, 3128, 1085, 1090, 5198, 1103, 1106, 3157, 5208, 3161, 5212, 5215, 1124, 3181, 3188, 5238, 1163, 3213, 5262, 3214, 1166, 5270, 5277, 3229, 1183, 3235, 1187, 5285, 3241, 5289, 1197, 5297, 5298, 5299, 5308, 1213, 1221, 1228, 5329, 1234, 3294, 5343, 5344, 3297, 1257, 5362, 1267, 5364, 3318, 3319, 1288, 5384, 5386, 3340, 1292, 1295, 5392, 5393, 3347, 3354, 3356, 3362, 3363, 5412, 1317, 3365, 5425, 1333, 3383, 1338, 5437, 3389, 5439, 3403, 1357, 1367, 5464, 5466, 1372, 1376, 5476, 1381, 5477, 1384, 1407, 1409, 5507, 3469, 1423, 1426, 5527, 3483, 5531, 3485, 1444, 1449, 3498, 3504, 5552, 3506, 1461, 1462, 3511, 5558, 5566, 5567, 1471, 5571, 3523, 5573, 1475, 5575, 3528, 3529, 5576, 3535, 1488, 5589, 5599, 3553, 3558, 5613, 3570, 5621, 1525, 1534, 5632, 5643, 3602, 1557, 1560, 5657, 5663, 1571, 1579, 1582, 1583, 5682, 5685, 3637, 1593, 3644, 1598, 5695, 5698, 1602, 3652, 1605, 1604, 3655, 5705, 3657, 5707, 1612, 3661, 5711, 3664, 3673, 5721, 5729, 1634, 5735, 5743, 3695, 1649, 1652, 5757, 1662, 3713, 3727, 3728, 3729, 3730, 5784, 3736, 1690, 5787, 1694, 3744, 1698, 1706, 1715, 3764, 1720, 5816, 3770, 1722, 3771, 5821, 5823, 1728, 3777, 5827, 3782, 5833, 3786, 3793, 3794, 1747, 3801, 5857, 1763, 3812, 1769, 3819, 1781, 5878, 5879, 5881, 1788, 5891, 3847, 5896, 5900, 1814, 1816, 1817, 1820, 5921, 5925, 5926, 5933, 1841, 3890, 5938, 1845, 5945, 1853, 1855, 3905, 1861, 5958, 3911, 1864, 1866, 5962, 1868, 3920, 5970, 1883, 5983, 5994, 1901, 3949, 3955, 1908, 1910, 3959, 3967, 1921, 1922, 6023, 1930, 6028, 3981, 1938, 1939, 1943, 3994, 6048, 6053, 6055, 1976, 4029, 6086, 6088, 4041, 6093, 1998, 6098, 4055, 6105, 4063, 4065, 2028, 2043]\n",
      "facilities\n",
      "Any[1968, 1020, 363, 819, 1322, 1578, 1803, 806, 2049, 1517, 1879, 803, 1542, 1657, 583, 1736, 1584]\n",
      "origins_pop_dict exists\n",
      "Objective value is: 98238.0\n",
      "print array values\n",
      "[0.0, 1.0, 0.0, 0.0, 0.0, 0.0, 0.0, 1.0, 0.0, 0.0, 0.0, 0.0, 0.0, 0.0, 0.0, 1.0, 0.0]\n",
      "print array length\n",
      "17\n",
      "print selected_facilities\n",
      "Any[\"2048\", \"3914\", \"474\"]\n",
      "Welcome to the CBC MILP Solver \n",
      "Version: 2.9.9 \n",
      "Build Date: Dec 31 2018 \n",
      "\n",
      "command line - Cbc_C_Interface -threads 2 -seconds 68400 -solve -quit (default strategy 1)\n",
      "threads was changed from 0 to 2\n",
      "seconds was changed from 1e+100 to 68400\n",
      "Continuous objective value is 98238 - 0.00 seconds\n",
      "Cgl0004I processed model has 188 rows, 204 columns (204 integer (204 of which binary)) and 429 elements\n",
      "Cutoff increment increased from 1e-05 to 0.9999\n",
      "Cbc0038I Initial state - 0 integers unsatisfied sum - 0\n",
      "Cbc0038I Solution found of -98238\n",
      "Cbc0038I Before mini branch and bound, 204 integers at bound fixed and 0 continuous\n",
      "Cbc0038I Mini branch and bound did not improve solution (0.01 seconds)\n",
      "Cbc0038I After 0.01 seconds - Feasibility pump exiting with objective of -98238 - took 0.00 seconds\n",
      "Cbc0012I Integer solution of -98238 found by feasibility pump after 0 iterations and 0 nodes (0.01 seconds)\n",
      "Cbc0030I Thread 0 used 0 times,  waiting to start 0.00061416626, 0 cpu time, 0 locks, 0 locked, 0 waiting for locks\n",
      "Cbc0030I Thread 1 used 0 times,  waiting to start 0.00082707405, 0 cpu time, 0 locks, 0 locked, 0 waiting for locks\n",
      "Cbc0030I Main thread 0 waiting for threads,  1 locks, 2.3841858e-06 locked, 9.5367432e-07 waiting for locks\n",
      "Cbc0001I Search completed - best objective -98238, took 0 iterations and 0 nodes (0.01 seconds)\n",
      "Cbc0035I Maximum depth 0, 0 variables fixed on reduced cost\n",
      "Cuts at root node changed objective from -98238 to -98238\n",
      "Probing was tried 0 times and created 0 cuts of which 0 were active after adding rounds of cuts (0.000 seconds)\n",
      "Gomory was tried 0 times and created 0 cuts of which 0 were active after adding rounds of cuts (0.000 seconds)\n",
      "Knapsack was tried 0 times and created 0 cuts of which 0 were active after adding rounds of cuts (0.000 seconds)\n",
      "Clique was tried 0 times and created 0 cuts of which 0 were active after adding rounds of cuts (0.000 seconds)\n",
      "MixedIntegerRounding2 was tried 0 times and created 0 cuts of which 0 were active after adding rounds of cuts (0.000 seconds)\n",
      "FlowCover was tried 0 times and created 0 cuts of which 0 were active after adding rounds of cuts (0.000 seconds)\n",
      "TwoMirCuts was tried 0 times and created 0 cuts of which 0 were active after adding rounds of cuts (0.000 seconds)\n",
      "\n",
      "Result - Optimal solution found\n",
      "\n",
      "Objective value:                98238.00000000\n",
      "Enumerated nodes:               0\n",
      "Total iterations:               0\n",
      "Time (CPU seconds):             0.01\n",
      "Time (Wallclock seconds):       0.01\n",
      "\n",
      "Total time (CPU seconds):       0.01   (Wallclock seconds):       0.01\n",
      "\n"
     ]
    },
    {
     "data": {
      "text/plain": [
       "3-element Array{Any,1}:\n",
       " \"2048\"\n",
       " \"3914\"\n",
       " \"474\" "
      ]
     },
     "execution_count": 105,
     "metadata": {},
     "output_type": "execute_result"
    }
   ],
   "source": [
    "selected_facilities = MaxCoveringProblem(\"../../../../lima_optimization_output/saved_OD.csv\", 3, 200, origins_pop_dict)"
   ]
  },
  {
   "cell_type": "code",
   "execution_count": 106,
   "metadata": {},
   "outputs": [
    {
     "data": {
      "text/plain": [
       "3-element Array{Any,1}:\n",
       " \"2048\"\n",
       " \"3914\"\n",
       " \"474\" "
      ]
     },
     "execution_count": 106,
     "metadata": {},
     "output_type": "execute_result"
    }
   ],
   "source": [
    "selected_facilities"
   ]
  },
  {
   "cell_type": "code",
   "execution_count": 45,
   "metadata": {},
   "outputs": [],
   "source": [
    "#write-out selected_facilities\n",
    "#writedlm(\"../../../../lima_optimization_output/selected_facilities_file_from_julia\",selected_facilities)"
   ]
  }
 ],
 "metadata": {
  "kernelspec": {
   "display_name": "Julia 1.0.3",
   "language": "julia",
   "name": "julia-1.0"
  },
  "language_info": {
   "file_extension": ".jl",
   "mimetype": "application/julia",
   "name": "julia",
   "version": "1.0.3"
  }
 },
 "nbformat": 4,
 "nbformat_minor": 2
}
