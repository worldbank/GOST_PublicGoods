{
 "cells": [
  {
   "cell_type": "markdown",
   "metadata": {},
   "source": [
    "# Mumbai Travel time and accessibility analysis\n",
    "\n",
    "We have data for 3,017 unique ids. **note: the original dataset had 3,135 rows but 115 of them did not have a PIN code for the work destination.** The dataset is named \"2019 08 14 Jobs Data from Module 9\". \n",
    "\n",
    "In addition the first two columns were combined in order to create unique ids. Each id represents a respondent in the survey who commutes to work. Finally, 3 of the households (unique ids 355021, 718011, 473031) had coordinates that were located in the ocean, so these were deleted in the pre-processing phase.\n",
    "\n",
    "We are primarily looking to do two kinds of analysis. For both types of analysis described below, we will calculate travel times according to three modes of transit:\n",
    "1. OSM road network driving with standard road classes\n",
    "2. Rail network (known) with walking to the rail station\n",
    "3. A combined rail and road network with the option of taking both forms of transportation\n",
    " \n",
    "First, identify the households which have individual work places identified by PIN code (There are 107 PIN codes), and calculate their travel time. The second analysis is for every geocoded household, calculate job accessibilitiy indices.\n",
    "\n",
    "1. Distance from residence to work place; estimated travel time (analysis 1)\n",
    "          a. Calculate distance from house to workplace using (i) road network; (ii) rail network \n",
    "          b. Calculate travel time via road network and rail network\n",
    "          c. Calculate travel time via walking\n",
    "          d. Calculate Euclidean distance from house to workplace for each worker \n",
    "\n",
    "**note that not all the households could be matched to PIN codes, for example, there is no 400000 PIN code in the dataset.**\n",
    "\n",
    "2. Index of employment accessibility (analysis 2)\n",
    "          a. In addition to the information used in analysis 1, we have information on employment, by gender and industry for 99 Sections of Mumbai.\n",
    "          b. We would like to combine this information with household location information from the survey to calculate an index of employment accessibility (separate index for men and women) for each household in the sample. The index would measure number of jobs accessible based on a weighted gravity model. \n",
    "          c. We are also calculating the number of jobs accessible per household based on three travel windows (30 min, 60 min, and 90 min).\n",
    "\n",
    "\n",
    "### The parameters are used in our model:\n",
    "\n",
    "- metroSpeed = 35 #kph\n",
    "- railSpeed = 40 #kph\n",
    "- station_wait = 30 #seconds\n",
    "- walk_speed = 5 #kph"
   ]
  },
  {
   "cell_type": "markdown",
   "metadata": {},
   "source": [
    "## import libraries"
   ]
  },
  {
   "cell_type": "code",
   "execution_count": 278,
   "metadata": {},
   "outputs": [],
   "source": [
    "import sys, os, inspect, logging, importlib\n",
    "\n",
    "import geopandas as gpd\n",
    "import pandas as pd\n",
    "import numpy as np\n",
    "import osmnx as ox\n",
    "import networkx as nx\n",
    "from shapely.ops import split, unary_union\n",
    "from shapely.geometry import box, Point\n",
    "\n",
    "import matplotlib.pyplot as plt"
   ]
  },
  {
   "cell_type": "code",
   "execution_count": 279,
   "metadata": {},
   "outputs": [],
   "source": [
    "# Get reference to GOSTNets\n",
    "sys.path.append(r'../../GOSTNets/GOSTNets')\n",
    "import GOSTnet as gn"
   ]
  },
  {
   "cell_type": "code",
   "execution_count": 280,
   "metadata": {},
   "outputs": [],
   "source": [
    "# Define input data and create a number of output datasets if they do not yet exist\n",
    "inputFolder = r'./input_folder'\n",
    "\n",
    "inputRailways = os.path.join(inputFolder, \"Mumbai_Railway_MANUAL_43N.shp\")\n",
    "inputRailstops = os.path.join(inputFolder, \"Mumbai_Railway_stations_MANUAL.shp\")\n",
    "\n",
    "sections = gpd.read_file(os.path.join(inputFolder, \"greater_mumbai_merged.shp\"))\n",
    "pin_codes = gpd.read_file(os.path.join(inputFolder, \"mumbai_pin_codes.shp\"))"
   ]
  },
  {
   "cell_type": "code",
   "execution_count": 281,
   "metadata": {},
   "outputs": [],
   "source": [
    "# this data is not public\n",
    "inputFolder2 = r'../../../mumbai_input_folder2'\n",
    "\n",
    "inHouseholds = os.path.join(inputFolder2, \"2019_08_14_households_and_destinations_reformatted4.csv\")\n",
    "employment_by_section_path = os.path.join(inputFolder2, \"employment_by_section.csv\")\n",
    "inJD_by_section = pd.read_csv(employment_by_section_path)"
   ]
  },
  {
   "cell_type": "code",
   "execution_count": 282,
   "metadata": {},
   "outputs": [],
   "source": [
    "# not using employment by section data for for analysis 1\n",
    "# Read in the Section admin boundaries and extract the centroids\n",
    "inJ_by_section = pd.merge(sections, inJD_by_section, left_on=\"WARD_NO\", right_on=\"section\")\n",
    "inJ_cen_by_section = inJ_by_section.copy()\n",
    "inJ_cen_by_section['geometry'] = inJ_cen_by_section.centroid\n",
    "\n",
    "# Read in the PIN admin boundaries and extract the centroids\n",
    "pin_codes_w_centroids = pin_codes.copy()\n",
    "pin_codes_w_centroids['geometry'] = pin_codes_w_centroids.centroid\n",
    "\n",
    "outputFolder = r'../../../mumbai_output_folder'\n",
    "\n",
    "if not os.path.exists(outputFolder):\n",
    "    os.makedirs(outputFolder)\n",
    "\n",
    "outGraph = os.path.join(outputFolder, \"OSM_Roads.pickle\")\n",
    "outRailGraph = os.path.join(outputFolder, \"OSM_Rail.pickle\")"
   ]
  },
  {
   "cell_type": "markdown",
   "metadata": {},
   "source": [
    "### calculate speeds using original speed dictionary"
   ]
  },
  {
   "cell_type": "code",
   "execution_count": 283,
   "metadata": {},
   "outputs": [],
   "source": [
    "# original speed dict\n",
    "speed_dict = {\n",
    "               'residential': 20,  # kmph\n",
    "               'primary': 40, # kmph\n",
    "               'primary_link':35,\n",
    "               'motorway':50,\n",
    "               'motorway_link': 45,\n",
    "               'trunk': 40,\n",
    "               'trunk_link':35,\n",
    "               'secondary': 30,\n",
    "               'secondary_link':25,\n",
    "               'tertiary':30,\n",
    "               'tertiary_link': 25,\n",
    "               'unclassified':20\n",
    "               }\n",
    "# the default speed if no match is 20kph"
   ]
  },
  {
   "cell_type": "code",
   "execution_count": 284,
   "metadata": {
    "scrolled": true
   },
   "outputs": [],
   "source": [
    "# This is the section where we can adjust the road speeds\n",
    "if not os.path.exists(outGraph):\n",
    "    extent = box(*inJ_cen_by_section.total_bounds)\n",
    "    G = ox.graph_from_polygon(extent, network_type = 'drive_service')\n",
    "    # This is how time is calculated from the OSMNX length attribute\n",
    "    G = gn.convert_network_to_time(G, 'length', speed_dict = speed_dict)\n",
    "    # save the largerst subgraph\n",
    "    list_of_Gs = list((nx.strongly_connected_component_subgraphs(G)))\n",
    "    sz = 0\n",
    "    largest_G = list_of_Gs[0]\n",
    "    for g in list_of_Gs:\n",
    "        curSize = g.size()\n",
    "        if curSize > sz:\n",
    "            largest_G = g\n",
    "            sz = curSize\n",
    "    G = largest_G\n",
    "    print('print G')\n",
    "    print(sz)\n",
    "    nx.write_gpickle(G, outGraph)\n",
    "else:\n",
    "    G = nx.read_gpickle(outGraph)    \n",
    "    G = gn.convert_network_to_time(G, 'length', speed_dict = speed_dict)"
   ]
  },
  {
   "cell_type": "markdown",
   "metadata": {},
   "source": [
    "### This block saves the roads as a shapefile for inspection purposes"
   ]
  },
  {
   "cell_type": "code",
   "execution_count": 285,
   "metadata": {},
   "outputs": [],
   "source": [
    "# Highway features are reclassified to 4 OSMLR classes for simplification and standardization\n",
    "# https://mapzen.com/blog/osmlr-2nd-technical-preview/\n",
    "OSMLR_Classes = {\n",
    "\"motorway\":\"OSMLR level 1\",\n",
    "\"motorway_link\":\"OSMLR level 1\",\n",
    "\"trunk\":\"OSMLR level 1\",\n",
    "\"trunk_link\":\"OSMLR level 1\",\n",
    "\"primary\":\"OSMLR level 1\",\n",
    "\"primary_link\":\"OSMLR level 1\",\n",
    "\n",
    "\"secondary\":\"OSMLR level 2\",\n",
    "\"secondary_link\":\"OSMLR level 2\",\n",
    "\"tertiary\":\"OSMLR level 2\",\n",
    "\"tertiary_link\":\"OSMLR level 2\",\n",
    "\n",
    "\"unclassified\":\"OSMLR level 3\",\n",
    "\"unclassified_link\": \"OSMLR level 3\",\n",
    "\"residential\": \"OSMLR level 3\",\n",
    "\"residential_link\": \"OSMLR level 3\",\n",
    "\n",
    "\"track\": \"OSMLR level 4\",\n",
    "\"service\": \"OSMLR level 4\"\n",
    "}"
   ]
  },
  {
   "cell_type": "code",
   "execution_count": 286,
   "metadata": {},
   "outputs": [],
   "source": [
    "roads = gn.edge_gdf_from_graph(G)\n",
    "roads['highway'] = roads.highway.astype(str)\n",
    "roads['OSMLR'] = roads.highway.map(OSMLR_Classes)\n",
    "roads['oneway'] = roads.oneway.astype(int)\n",
    "# geopandas cannot save dataframe to file if fields contain lists. \n",
    "# There have been instances where fields such as 'osmid' and 'highway' contain a list.\n",
    "# Therefore reduce the number of fields\n",
    "roads = roads[['OSMLR','oneway','length','time','mode','geometry']]\n",
    "roads.to_file(outputFolder + '/OSM_Roads')"
   ]
  },
  {
   "cell_type": "code",
   "execution_count": 287,
   "metadata": {},
   "outputs": [],
   "source": [
    "# inspect the road nodes\n",
    "from shapely.geometry import Point\n",
    "g_point_gdf = gn.node_gdf_from_graph(G,crs = {'init' :'epsg:4326'})\n",
    "#g_point_gdf = g_point_gdf.drop(columns=['geom'])\n",
    "g_point_gdf.to_file(driver = 'ESRI Shapefile', filename = outputFolder + '/OSM_Roads_nodes.shp')"
   ]
  },
  {
   "cell_type": "markdown",
   "metadata": {},
   "source": [
    "### Generate speed dictionaries based on average peak, off-peak, and average speeds"
   ]
  },
  {
   "cell_type": "code",
   "execution_count": 288,
   "metadata": {},
   "outputs": [
    {
     "name": "stdout",
     "output_type": "stream",
     "text": [
      "22.077775823514266\n"
     ]
    }
   ],
   "source": [
    "# find the average speed of the road graph\n",
    "avg_graph_speed = gn.find_graph_avg_speed(G, 'length', 'time')\n",
    "print(avg_graph_speed)"
   ]
  },
  {
   "cell_type": "code",
   "execution_count": 289,
   "metadata": {},
   "outputs": [],
   "source": [
    "# 15kph peak\n",
    "# 16.5kph avg speed\n",
    "# 20kph off-peak\n",
    "peak_ratio = 15/avg_graph_speed\n",
    "avg_speed_ratio = 16.5/avg_graph_speed\n",
    "off_peak_ratio = 20/avg_graph_speed"
   ]
  },
  {
   "cell_type": "code",
   "execution_count": 290,
   "metadata": {},
   "outputs": [
    {
     "data": {
      "text/plain": [
       "{'residential': 2770772.5210000104,\n",
       " 'primary': 280381.7460000001,\n",
       " 'tertiary': 706398.5100000006,\n",
       " 'unclassified': 1914080.057999995,\n",
       " 'motorway': 50689.783999999985,\n",
       " 'secondary': 530176.9170000005,\n",
       " 'trunk': 167778.20200000002,\n",
       " 'living_street': 231523.83900000044,\n",
       " 'service': 664795.6699999991,\n",
       " 'trunk_link': 34657.96100000001,\n",
       " 'primary_link': 16368.254999999992,\n",
       " 'secondary_link': 2853.644000000001,\n",
       " 'motorway_link': 9351.706,\n",
       " 'tertiary_link': 3194.3910000000014,\n",
       " 'road': 1387.3359999999998}"
      ]
     },
     "execution_count": 290,
     "metadata": {},
     "output_type": "execute_result"
    }
   ],
   "source": [
    "# find all classes of highways\n",
    "highway_classes = gn.find_hwy_distances_by_class(G)\n",
    "highway_classes"
   ]
  },
  {
   "cell_type": "code",
   "execution_count": 291,
   "metadata": {},
   "outputs": [],
   "source": [
    "speed_peak_dict = {}\n",
    "speed_avg_dict = {}\n",
    "speed_off_peak_dict = {}"
   ]
  },
  {
   "cell_type": "code",
   "execution_count": 292,
   "metadata": {},
   "outputs": [],
   "source": [
    "for key in speed_dict:\n",
    "    speed_peak_dict[key] = speed_dict[key] * peak_ratio\n",
    "    speed_avg_dict[key] = speed_dict[key] * avg_speed_ratio\n",
    "    speed_off_peak_dict[key] = speed_dict[key] * off_peak_ratio "
   ]
  },
  {
   "cell_type": "code",
   "execution_count": 293,
   "metadata": {},
   "outputs": [],
   "source": [
    "# add living_street, service, and road\n",
    "speed_peak_dict_default_speed = 20 * peak_ratio\n",
    "speed_peak_dict['living_street']=speed_peak_dict_default_speed\n",
    "speed_peak_dict['service']=speed_peak_dict_default_speed\n",
    "speed_peak_dict['road']=speed_peak_dict_default_speed\n",
    "\n",
    "speed_avg_dict_default_speed = 20 * avg_speed_ratio\n",
    "speed_avg_dict['living_street']=speed_avg_dict_default_speed\n",
    "speed_avg_dict['service']=speed_avg_dict_default_speed\n",
    "speed_avg_dict['road']=speed_avg_dict_default_speed\n",
    "  \n",
    "speed_off_peak_dict_default_speed = 20 * off_peak_ratio\n",
    "speed_off_peak_dict['living_street']=speed_off_peak_dict_default_speed\n",
    "speed_off_peak_dict['service']=speed_off_peak_dict_default_speed\n",
    "speed_off_peak_dict['road']=speed_off_peak_dict_default_speed"
   ]
  },
  {
   "cell_type": "code",
   "execution_count": 294,
   "metadata": {},
   "outputs": [
    {
     "data": {
      "text/plain": [
       "{'residential': 13.588325309494289,\n",
       " 'primary': 27.176650618988578,\n",
       " 'primary_link': 23.779569291615005,\n",
       " 'motorway': 33.97081327373572,\n",
       " 'motorway_link': 30.57373194636215,\n",
       " 'trunk': 27.176650618988578,\n",
       " 'trunk_link': 23.779569291615005,\n",
       " 'secondary': 20.382487964241434,\n",
       " 'secondary_link': 16.98540663686786,\n",
       " 'tertiary': 20.382487964241434,\n",
       " 'tertiary_link': 16.98540663686786,\n",
       " 'unclassified': 13.588325309494289,\n",
       " 'living_street': 13.588325309494289,\n",
       " 'service': 13.588325309494289,\n",
       " 'road': 13.588325309494289}"
      ]
     },
     "execution_count": 294,
     "metadata": {},
     "output_type": "execute_result"
    }
   ],
   "source": [
    "speed_peak_dict"
   ]
  },
  {
   "cell_type": "code",
   "execution_count": 295,
   "metadata": {},
   "outputs": [
    {
     "data": {
      "text/plain": [
       "{'residential': 14.947157840443717,\n",
       " 'primary': 29.894315680887434,\n",
       " 'primary_link': 26.157526220776504,\n",
       " 'motorway': 37.36789460110929,\n",
       " 'motorway_link': 33.631105140998365,\n",
       " 'trunk': 29.894315680887434,\n",
       " 'trunk_link': 26.157526220776504,\n",
       " 'secondary': 22.420736760665577,\n",
       " 'secondary_link': 18.683947300554646,\n",
       " 'tertiary': 22.420736760665577,\n",
       " 'tertiary_link': 18.683947300554646,\n",
       " 'unclassified': 14.947157840443717,\n",
       " 'living_street': 14.947157840443717,\n",
       " 'service': 14.947157840443717,\n",
       " 'road': 14.947157840443717}"
      ]
     },
     "execution_count": 295,
     "metadata": {},
     "output_type": "execute_result"
    }
   ],
   "source": [
    "speed_avg_dict"
   ]
  },
  {
   "cell_type": "code",
   "execution_count": 296,
   "metadata": {},
   "outputs": [
    {
     "data": {
      "text/plain": [
       "{'residential': 18.117767079325716,\n",
       " 'primary': 36.23553415865143,\n",
       " 'primary_link': 31.706092388820004,\n",
       " 'motorway': 45.29441769831429,\n",
       " 'motorway_link': 40.76497592848286,\n",
       " 'trunk': 36.23553415865143,\n",
       " 'trunk_link': 31.706092388820004,\n",
       " 'secondary': 27.176650618988575,\n",
       " 'secondary_link': 22.647208849157145,\n",
       " 'tertiary': 27.176650618988575,\n",
       " 'tertiary_link': 22.647208849157145,\n",
       " 'unclassified': 18.117767079325716,\n",
       " 'living_street': 18.117767079325716,\n",
       " 'service': 18.117767079325716,\n",
       " 'road': 18.117767079325716}"
      ]
     },
     "execution_count": 296,
     "metadata": {},
     "output_type": "execute_result"
    }
   ],
   "source": [
    "speed_off_peak_dict"
   ]
  },
  {
   "cell_type": "markdown",
   "metadata": {},
   "source": [
    "## Create a road graph for each travel time category"
   ]
  },
  {
   "cell_type": "code",
   "execution_count": 297,
   "metadata": {},
   "outputs": [
    {
     "name": "stdout",
     "output_type": "stream",
     "text": [
      "22.077775823514266\n",
      "22.077775823514266\n",
      "22.077775823514266\n"
     ]
    }
   ],
   "source": [
    "speed_dict_list = [[speed_peak_dict,\"peak_speed\"],[speed_avg_dict,\"avg_speed\"],[speed_off_peak_dict,\"off_peak_speed\"]]\n",
    "\n",
    "road_graph = {}\n",
    "for i in speed_dict_list:\n",
    "    # This is the section where we can adjust the road speeds\n",
    "    G = nx.read_gpickle(outGraph)    \n",
    "    road_graph[i[1]] = gn.convert_network_to_time(G, 'length', speed_dict = i[0])\n",
    "    nx.write_gpickle(road_graph[i[1]], os.path.join(outputFolder, \"OSM_%s_Roads.pickle\" % (i[1])))\n",
    "    # double-check the road graph G\n",
    "    # gn.example_edge(G, 3)\n",
    "    # find the average speed of the road graph\n",
    "    print(gn.find_graph_avg_speed(G, 'length', 'time'))"
   ]
  },
  {
   "cell_type": "markdown",
   "metadata": {},
   "source": [
    "## Generate the rail network part I\n",
    "#### This takes in the input railways and converts it to a geodataframe of points. Then the input station points are snapped to these points and the geometries of the stations get changed to match the geometry of the point it was snapped to"
   ]
  },
  {
   "cell_type": "code",
   "execution_count": 298,
   "metadata": {},
   "outputs": [],
   "source": [
    "if not os.path.exists(outRailGraph):\n",
    "    #Read in the input railways check for problems, and project\n",
    "    inR = gpd.read_file(inputRailways)\n",
    "    inR = inR[[r is not None for r in inR.geometry]]\n",
    "    if inR.crs == {'init':'epsg:4326'}:\n",
    "        #inR = misc.project_UTM(inR)\n",
    "        print('skip')\n",
    "    inR = inR.to_crs({'init': 'epsg:32643'})\n",
    "\n",
    "    # line below not needed because length will be generated at a later step\n",
    "    # inR['length'] = inR['geometry'].apply(lambda x: x.length)\n",
    "\n",
    "    #Read in the railway stations and project\n",
    "    inS = gpd.read_file(inputRailstops)\n",
    "    inS = inS[inS['railway'] == \"station\"]\n",
    "\n",
    "    inS_proj = inS.to_crs({'init': 'epsg:32643'})\n",
    "    print('check projection inS')\n",
    "    print(inS_proj.crs)\n",
    "\n",
    "    print('check projection inR')\n",
    "    print(inR.crs)\n",
    "\n",
    "    #Generate the Rail network from the rail shapefile\n",
    "    allRailLines = unary_union(inR['geometry'])\n",
    "\n",
    "    # deconstructing the rail network into a geodataframe of points\n",
    "    bag_of_points,ids = [],[]\n",
    "    id_ = 0\n",
    "    for r in allRailLines.geoms:\n",
    "        for q in r.coords:\n",
    "            bag_of_points.append(q)\n",
    "            ids.append(id_)\n",
    "            id_+=1\n",
    "\n",
    "    df_temp = pd.DataFrame(({'ids':ids,'geometry':bag_of_points}))\n",
    "    df_temp['geometry'] = df_temp['geometry'].apply(Point)\n",
    "    gdf_temp = gpd.GeoDataFrame(df_temp, crs = inR.crs, geometry = 'geometry')\n",
    "\n",
    "    # for testing temporarily export rail bag of points\n",
    "    #gdf_temp.to_file(driver = 'ESRI Shapefile', filename = 'pre_railine_points3.shp' )\n",
    "\n",
    "    # for testing temporarily export rail stations\n",
    "    #inS_proj.to_file(driver = 'ESRI Shapefile', filename = 'pre_station_points3.shp' )\n",
    "\n",
    "    # the source_crs should be the same proj as both the input graph and input geodataframe of points\n",
    "    # the rail points need to be snapped to the rail because later the snapped points will be used to split the rail\n",
    "    inS_proj_snapped = gn.pandana_snap_points(inS_proj, \n",
    "                                              gdf_temp, \n",
    "                                              source_crs = 'epsg:32643', \n",
    "                                              target_crs = 'epsg:32643',\n",
    "                                              add_dist_to_node_col = True)\n",
    "    inS_proj_snapped_temp = inS_proj_snapped.drop_duplicates('NN')\n",
    "\n",
    "    # I think that when the rail stations got snapped to the nearest node in the dataframe it is keeping the original geometry\n",
    "    # but it is adding the NN id and the NN_distance\n",
    "\n",
    "    # Therefore join to the Rail gdf to add the geometries of the nodes snapped to\n",
    "    inS_proj_snapped_temp = inS_proj_snapped_temp.rename(columns={\"geometry\": \"original_geometry\"})\n",
    "    inS_proj_snapped_temp_joined = inS_proj_snapped_temp.set_index('NN').join(gdf_temp.set_index('ids'))\n",
    "    inS_proj_snapped_temp_joined = inS_proj_snapped_temp_joined.reset_index()\n",
    "\n",
    "    # note when I had both original_geometry and geometry columns there was an error in outputting a shapefile\n",
    "    # it must have been confused with two geometry columns, therefore I am dropping the 'original_geometry' column\n",
    "    inS_proj_snapped_temp_joined_slim = inS_proj_snapped_temp_joined.drop(columns=\"original_geometry\")\n",
    "    inS_proj_snapped_temp_joined_slim\n",
    "\n",
    "    #inS_proj_snapped_temp.keys()\n",
    "\n",
    "    inS_proj_snapped_temp_joined_geo = gpd.GeoDataFrame(inS_proj_snapped_temp_joined_slim, crs = inS_proj.crs, geometry = 'geometry')\n",
    "    # preview the snapped rail stations\n",
    "    inS_proj_snapped_temp_joined_geo.to_file(driver = 'ESRI Shapefile', filename = outputFolder + '/snapped_rail_stations3.shp')"
   ]
  },
  {
   "cell_type": "code",
   "execution_count": 299,
   "metadata": {},
   "outputs": [
    {
     "data": {
      "text/html": [
       "<div>\n",
       "<style scoped>\n",
       "    .dataframe tbody tr th:only-of-type {\n",
       "        vertical-align: middle;\n",
       "    }\n",
       "\n",
       "    .dataframe tbody tr th {\n",
       "        vertical-align: top;\n",
       "    }\n",
       "\n",
       "    .dataframe thead th {\n",
       "        text-align: right;\n",
       "    }\n",
       "</style>\n",
       "<table border=\"1\" class=\"dataframe\">\n",
       "  <thead>\n",
       "    <tr style=\"text-align: right;\">\n",
       "      <th></th>\n",
       "      <th>NN</th>\n",
       "      <th>full_id</th>\n",
       "      <th>osm_id</th>\n",
       "      <th>osm_type</th>\n",
       "      <th>name</th>\n",
       "      <th>network</th>\n",
       "      <th>railway</th>\n",
       "      <th>ref</th>\n",
       "      <th>wikidata</th>\n",
       "      <th>wikipedia</th>\n",
       "      <th>...</th>\n",
       "      <th>short_name</th>\n",
       "      <th>constructi</th>\n",
       "      <th>disused</th>\n",
       "      <th>proposed</th>\n",
       "      <th>alt_name_h</th>\n",
       "      <th>name_pa</th>\n",
       "      <th>highway</th>\n",
       "      <th>traffic_si</th>\n",
       "      <th>NN_dist</th>\n",
       "      <th>geometry</th>\n",
       "    </tr>\n",
       "  </thead>\n",
       "  <tbody>\n",
       "    <tr>\n",
       "      <th>0</th>\n",
       "      <td>291</td>\n",
       "      <td>n213030669</td>\n",
       "      <td>213030669</td>\n",
       "      <td>node</td>\n",
       "      <td>Dahisar</td>\n",
       "      <td>None</td>\n",
       "      <td>station</td>\n",
       "      <td>DIC</td>\n",
       "      <td>Q5208848</td>\n",
       "      <td>en:Dahisar railway station</td>\n",
       "      <td>...</td>\n",
       "      <td>None</td>\n",
       "      <td>None</td>\n",
       "      <td>None</td>\n",
       "      <td>None</td>\n",
       "      <td>None</td>\n",
       "      <td>None</td>\n",
       "      <td>None</td>\n",
       "      <td>None</td>\n",
       "      <td>27.096695</td>\n",
       "      <td>POINT (275001.0781111507 2129854.901504612)</td>\n",
       "    </tr>\n",
       "    <tr>\n",
       "      <th>1</th>\n",
       "      <td>627</td>\n",
       "      <td>n213030714</td>\n",
       "      <td>213030714</td>\n",
       "      <td>node</td>\n",
       "      <td>Santacruz</td>\n",
       "      <td>IR</td>\n",
       "      <td>station</td>\n",
       "      <td>STC</td>\n",
       "      <td>Q7420001</td>\n",
       "      <td>en:Santacruz railway station</td>\n",
       "      <td>...</td>\n",
       "      <td>None</td>\n",
       "      <td>None</td>\n",
       "      <td>None</td>\n",
       "      <td>None</td>\n",
       "      <td>None</td>\n",
       "      <td>None</td>\n",
       "      <td>None</td>\n",
       "      <td>None</td>\n",
       "      <td>37.092462</td>\n",
       "      <td>POINT (272926.0703397002 2111281.305015021)</td>\n",
       "    </tr>\n",
       "  </tbody>\n",
       "</table>\n",
       "<p>2 rows × 57 columns</p>\n",
       "</div>"
      ],
      "text/plain": [
       "    NN     full_id     osm_id osm_type       name network  railway  ref  \\\n",
       "0  291  n213030669  213030669     node    Dahisar    None  station  DIC   \n",
       "1  627  n213030714  213030714     node  Santacruz      IR  station  STC   \n",
       "\n",
       "   wikidata                     wikipedia  ... short_name constructi disused  \\\n",
       "0  Q5208848    en:Dahisar railway station  ...       None       None    None   \n",
       "1  Q7420001  en:Santacruz railway station  ...       None       None    None   \n",
       "\n",
       "  proposed alt_name_h name_pa highway traffic_si    NN_dist  \\\n",
       "0     None       None    None    None       None  27.096695   \n",
       "1     None       None    None    None       None  37.092462   \n",
       "\n",
       "                                      geometry  \n",
       "0  POINT (275001.0781111507 2129854.901504612)  \n",
       "1  POINT (272926.0703397002 2111281.305015021)  \n",
       "\n",
       "[2 rows x 57 columns]"
      ]
     },
     "execution_count": 299,
     "metadata": {},
     "output_type": "execute_result"
    }
   ],
   "source": [
    "inS_proj_snapped_temp_joined_geo[:2]"
   ]
  },
  {
   "cell_type": "markdown",
   "metadata": {},
   "source": [
    "## Generate the rail network Part II\n",
    "#### The allRailLines are the result of a unary union on the railway lines. Therefore they are only multiLine geometries without any attribution. The snapped railway stations also undergo a unary union and are now multiPoint. allRailLines gets split by the snapped railway stations and all the parts are put back together creating a MultiDiGraph."
   ]
  },
  {
   "cell_type": "code",
   "execution_count": 300,
   "metadata": {},
   "outputs": [],
   "source": [
    "if not os.path.exists(outRailGraph):\n",
    "    bag_of_relevant_points = unary_union(inS_proj_snapped_temp_joined_geo.geometry)\n",
    "\n",
    "    # a shapely.ops function\n",
    "    split_geoms = split(allRailLines, bag_of_relevant_points)\n",
    "\n",
    "    print('print count of split geometries')\n",
    "    print(len(split_geoms))\n",
    "\n",
    "    geom_bag = []\n",
    "\n",
    "    for geom in split_geoms:\n",
    "        g = geom.coords[0]\n",
    "        h = geom.coords[-1]\n",
    "        geom_bag.append(str(g))\n",
    "        geom_bag.append(str(h))\n",
    "\n",
    "    ref = pd.DataFrame({'node_ids':range(0, len(geom_bag)),'geoms':geom_bag})\n",
    "    ref = ref.drop_duplicates('geoms')\n",
    "    ref = ref.set_index('geoms')\n",
    "\n",
    "    nodes = []\n",
    "    edges = []\n",
    "\n",
    "    for geom in split_geoms:\n",
    "        u_data,v_data,edge_data = {},{},{}\n",
    "\n",
    "        # start node\n",
    "        # it is getting a reference to that node's coords\n",
    "        u = ref['node_ids'].loc[str(geom.coords[0])]\n",
    "        u_data['x'] = geom.coords[0][0]\n",
    "        u_data['y'] = geom.coords[0][1]\n",
    "        u_data['geom'] = Point(geom.coords[0])\n",
    "        #u_data['string'] = str(geom.coords[0])\n",
    "\n",
    "        # end node\n",
    "        v = ref['node_ids'].loc[str(geom.coords[-1])]\n",
    "        v_data['x'] = geom.coords[-1][0]\n",
    "        v_data['y'] = geom.coords[-1][1]\n",
    "        v_data['geom'] = Point(geom.coords[-1])\n",
    "        #v_data['string'] = str(geom.coords[-1])\n",
    "\n",
    "        # edge\n",
    "        edge_data['geom'] = geom\n",
    "        edge_data['length'] = geom.length\n",
    "        #edge_data['rail_type'] = geom.rail_type\n",
    "\n",
    "        nodes.append((u,u_data))\n",
    "        nodes.append((v,v_data))\n",
    "        edges.append((u,v,edge_data))\n",
    "        edges.append((v,u,edge_data))\n",
    "\n",
    "        id_ += 2\n",
    "\n",
    "    G_rail = nx.MultiDiGraph()\n",
    "    G_rail.add_nodes_from(nodes)\n",
    "    G_rail.add_edges_from(edges)"
   ]
  },
  {
   "cell_type": "markdown",
   "metadata": {},
   "source": [
    "#### you can see below that the edges only have the geometry and the length attributes"
   ]
  },
  {
   "cell_type": "code",
   "execution_count": 301,
   "metadata": {},
   "outputs": [
    {
     "name": "stdout",
     "output_type": "stream",
     "text": [
      "(0, 1, {'geom': <shapely.geometry.linestring.LineString object at 0x7fae03e3ed30>, 'length': 1388.5881250266957, 'id': 6.0, 'rail_type': 'rail', 'mode': 'rail', 'time': 999999999, 'walk_time': 999999999, 'rail_time': 154.97293125240262, 'road_and_rail_time': 154.97293125240262})\n",
      "(1, 0, {'geom': <shapely.geometry.linestring.LineString object at 0x7fae03e3ed30>, 'length': 1388.5881250266957, 'id': 6.0, 'rail_type': 'rail', 'mode': 'rail', 'time': 999999999, 'walk_time': 999999999, 'rail_time': 154.97293125240262, 'road_and_rail_time': 154.97293125240262})\n",
      "(1, 3, {'geom': <shapely.geometry.linestring.LineString object at 0x7fae03e3ee48>, 'length': 813.9703934797164, 'id': 11.0, 'rail_type': 'rail', 'mode': 'rail', 'time': 999999999, 'walk_time': 999999999, 'rail_time': 103.25733541317447, 'road_and_rail_time': 103.25733541317447})\n"
     ]
    }
   ],
   "source": [
    "gn.example_edge(G_rail, 3)"
   ]
  },
  {
   "cell_type": "code",
   "execution_count": 302,
   "metadata": {},
   "outputs": [
    {
     "name": "stdout",
     "output_type": "stream",
     "text": [
      "(0, {'x': 72.8360633305759, 'y': 18.940975234799453, 'geom': <shapely.geometry.point.Point object at 0x7fae767d4978>})\n"
     ]
    }
   ],
   "source": [
    "gn.example_node(G_rail, 1)"
   ]
  },
  {
   "cell_type": "markdown",
   "metadata": {},
   "source": [
    "#### you can see below that there is an additional attribute 'rail_type' that we would like to add to the edges"
   ]
  },
  {
   "cell_type": "code",
   "execution_count": 303,
   "metadata": {},
   "outputs": [
    {
     "data": {
      "text/html": [
       "<div>\n",
       "<style scoped>\n",
       "    .dataframe tbody tr th:only-of-type {\n",
       "        vertical-align: middle;\n",
       "    }\n",
       "\n",
       "    .dataframe tbody tr th {\n",
       "        vertical-align: top;\n",
       "    }\n",
       "\n",
       "    .dataframe thead th {\n",
       "        text-align: right;\n",
       "    }\n",
       "</style>\n",
       "<table border=\"1\" class=\"dataframe\">\n",
       "  <thead>\n",
       "    <tr style=\"text-align: right;\">\n",
       "      <th></th>\n",
       "      <th>id</th>\n",
       "      <th>length</th>\n",
       "      <th>rail_type</th>\n",
       "      <th>geometry</th>\n",
       "    </tr>\n",
       "  </thead>\n",
       "  <tbody>\n",
       "    <tr>\n",
       "      <th>0</th>\n",
       "      <td>1.0</td>\n",
       "      <td>49224.263829</td>\n",
       "      <td>rail</td>\n",
       "      <td>LINESTRING (274371.3999304119 2137271.12123448...</td>\n",
       "    </tr>\n",
       "    <tr>\n",
       "      <th>1</th>\n",
       "      <td>2.0</td>\n",
       "      <td>30343.365621</td>\n",
       "      <td>rail</td>\n",
       "      <td>LINESTRING (287196.191848074 2122663.190356839...</td>\n",
       "    </tr>\n",
       "    <tr>\n",
       "      <th>2</th>\n",
       "      <td>3.0</td>\n",
       "      <td>15313.909123</td>\n",
       "      <td>rail</td>\n",
       "      <td>LINESTRING (282341.652201739 2107437.899924412...</td>\n",
       "    </tr>\n",
       "    <tr>\n",
       "      <th>3</th>\n",
       "      <td>4.0</td>\n",
       "      <td>13809.747059</td>\n",
       "      <td>rail</td>\n",
       "      <td>LINESTRING (276859.7996443896 2109421.98532877...</td>\n",
       "    </tr>\n",
       "    <tr>\n",
       "      <th>4</th>\n",
       "      <td>5.0</td>\n",
       "      <td>28081.137061</td>\n",
       "      <td>rail</td>\n",
       "      <td>LINESTRING (276859.7996443896 2109421.98532877...</td>\n",
       "    </tr>\n",
       "  </tbody>\n",
       "</table>\n",
       "</div>"
      ],
      "text/plain": [
       "    id        length rail_type  \\\n",
       "0  1.0  49224.263829      rail   \n",
       "1  2.0  30343.365621      rail   \n",
       "2  3.0  15313.909123      rail   \n",
       "3  4.0  13809.747059      rail   \n",
       "4  5.0  28081.137061      rail   \n",
       "\n",
       "                                            geometry  \n",
       "0  LINESTRING (274371.3999304119 2137271.12123448...  \n",
       "1  LINESTRING (287196.191848074 2122663.190356839...  \n",
       "2  LINESTRING (282341.652201739 2107437.899924412...  \n",
       "3  LINESTRING (276859.7996443896 2109421.98532877...  \n",
       "4  LINESTRING (276859.7996443896 2109421.98532877...  "
      ]
     },
     "execution_count": 303,
     "metadata": {},
     "output_type": "execute_result"
    }
   ],
   "source": [
    "inR[:5]"
   ]
  },
  {
   "cell_type": "markdown",
   "metadata": {},
   "source": [
    "### Find all edges that intersect the input railways and where they do add the attributes to the edges"
   ]
  },
  {
   "cell_type": "code",
   "execution_count": 304,
   "metadata": {},
   "outputs": [
    {
     "name": "stdout",
     "output_type": "stream",
     "text": [
      "182\n",
      "276\n",
      "2272\n"
     ]
    }
   ],
   "source": [
    "if not os.path.exists(outRailGraph):\n",
    "    # Remember that this is a MultiDiGraph so there are two directed edges between each pair of nodes. \n",
    "    graph_edge_count = 0\n",
    "    graph_edge_intersects = 0\n",
    "    graph_edge_no_intersects = 0\n",
    "\n",
    "    # loop through each edge in the graph\n",
    "    for edge in G_rail.edges(data=True):\n",
    "        graph_edge_count += 1\n",
    "        # loop through each railway in the input railway geodataframe\n",
    "        for row in inR.itertuples(index=False):\n",
    "            # if there is an intersection\n",
    "            if edge[2]['geom'].intersects(row.geometry):\n",
    "                # print(\"an intersection has occurred\")\n",
    "                graph_edge_intersects += 1\n",
    "                # for the edge add all the attributes that are not length or geometry\n",
    "                row_dict = row._asdict()\n",
    "                for name,value in row_dict.items():\n",
    "                    if not (name=='geometry' or name=='length'):\n",
    "                        #print(name)\n",
    "                        # This updates the edge and adds a new attribute key and value\n",
    "                        #G_rail[edge[0]][edge[1]][0].update(name=value)\n",
    "                        G_rail[edge[0]][edge[1]][0][name]=value\n",
    "            else:\n",
    "                graph_edge_no_intersects += 1\n",
    "    nx.write_gpickle(G_rail, outRailGraph)\n",
    "else:\n",
    "    G_rail = nx.read_gpickle(outRailGraph) \n",
    "    \n",
    "print(graph_edge_count)\n",
    "print(graph_edge_intersects)\n",
    "print(graph_edge_no_intersects)"
   ]
  },
  {
   "cell_type": "code",
   "execution_count": 305,
   "metadata": {},
   "outputs": [
    {
     "name": "stdout",
     "output_type": "stream",
     "text": [
      "{'geom': <shapely.geometry.linestring.LineString object at 0x7fae178a6ef0>, 'length': 1388.5881250266957, 'id': 6.0, 'rail_type': 'rail'}\n",
      "{'geom': <shapely.geometry.linestring.LineString object at 0x7fae178a6ef0>, 'length': 1388.5881250266957, 'id': 6.0, 'rail_type': 'rail'}\n",
      "{'geom': <shapely.geometry.linestring.LineString object at 0x7fae178a6fd0>, 'length': 813.9703934797164, 'id': 11.0, 'rail_type': 'rail'}\n",
      "{'geom': <shapely.geometry.linestring.LineString object at 0x7fae178a6fd0>, 'length': 813.9703934797164, 'id': 11.0, 'rail_type': 'rail'}\n",
      "{'geom': <shapely.geometry.linestring.LineString object at 0x7fae178a4080>, 'length': 939.3411041558159, 'id': 11.0, 'rail_type': 'rail'}\n",
      "{'geom': <shapely.geometry.linestring.LineString object at 0x7fae178a40b8>, 'length': 2016.7291243062305, 'id': 11.0, 'rail_type': 'rail'}\n",
      "{'geom': <shapely.geometry.linestring.LineString object at 0x7fae178a40f0>, 'length': 1083.3242072370874, 'id': 8.0, 'rail_type': 'rail'}\n",
      "{'geom': <shapely.geometry.linestring.LineString object at 0x7fae178a4160>, 'length': 1313.7979308992838, 'id': 8.0, 'rail_type': 'rail'}\n",
      "{'geom': <shapely.geometry.linestring.LineString object at 0x7fae178a4198>, 'length': 1241.4955637511919, 'id': 8.0, 'rail_type': 'rail'}\n",
      "{'geom': <shapely.geometry.linestring.LineString object at 0x7fae178a40f0>, 'length': 1083.3242072370874, 'id': 8.0, 'rail_type': 'rail'}\n",
      "{'geom': <shapely.geometry.linestring.LineString object at 0x7fae178a41d0>, 'length': 1682.8091623966925, 'id': 7.0, 'rail_type': 'rail'}\n",
      "{'geom': <shapely.geometry.linestring.LineString object at 0x7fae178a4240>, 'length': 1656.6962322365853, 'id': 7.0, 'rail_type': 'rail'}\n",
      "{'geom': <shapely.geometry.linestring.LineString object at 0x7fae178a4080>, 'length': 939.3411041558159, 'id': 11.0, 'rail_type': 'rail'}\n",
      "{'geom': <shapely.geometry.linestring.LineString object at 0x7fae178a4278>, 'length': 1213.8243603079775, 'id': 11.0, 'rail_type': 'rail'}\n",
      "{'geom': <shapely.geometry.linestring.LineString object at 0x7fae178a4278>, 'length': 1213.8243603079775, 'id': 11.0, 'rail_type': 'rail'}\n",
      "{'geom': <shapely.geometry.linestring.LineString object at 0x7fae178a42b0>, 'length': 1080.2652458279968, 'id': 11.0, 'rail_type': 'rail'}\n",
      "{'geom': <shapely.geometry.linestring.LineString object at 0x7fae178a42b0>, 'length': 1080.2652458279968, 'id': 11.0, 'rail_type': 'rail'}\n",
      "{'geom': <shapely.geometry.linestring.LineString object at 0x7fae178a42e8>, 'length': 1716.8294706920256, 'id': 9.0, 'rail_type': 'rail'}\n",
      "{'geom': <shapely.geometry.linestring.LineString object at 0x7fae178a42e8>, 'length': 1716.8294706920256, 'id': 9.0, 'rail_type': 'rail'}\n",
      "{'geom': <shapely.geometry.linestring.LineString object at 0x7fae178a4358>, 'length': 2040.1327265269856, 'id': 9.0, 'rail_type': 'rail'}\n",
      "{'geom': <shapely.geometry.linestring.LineString object at 0x7fae178a41d0>, 'length': 1682.8091623966925, 'id': 7.0, 'rail_type': 'rail'}\n",
      "{'geom': <shapely.geometry.linestring.LineString object at 0x7fae178a4390>, 'length': 957.6655624727625, 'id': 7.0, 'rail_type': 'rail'}\n",
      "{'geom': <shapely.geometry.linestring.LineString object at 0x7fae17897b00>, 'length': 377.07958536809036, 'id': 13.0, 'rail_type': 'rail'}\n",
      "{'geom': <shapely.geometry.linestring.LineString object at 0x7fae178a4400>, 'length': 1105.0385644987884, 'id': 13.0, 'rail_type': 'rail'}\n",
      "{'geom': <shapely.geometry.linestring.LineString object at 0x7fae178a4390>, 'length': 957.6655624727625, 'id': 7.0, 'rail_type': 'rail'}\n",
      "{'geom': <shapely.geometry.linestring.LineString object at 0x7fae178a4438>, 'length': 1104.3395814106484, 'id': 7.0, 'rail_type': 'rail'}\n",
      "{'geom': <shapely.geometry.linestring.LineString object at 0x7fae178a4438>, 'length': 1104.3395814106484, 'id': 7.0, 'rail_type': 'rail'}\n",
      "{'geom': <shapely.geometry.linestring.LineString object at 0x7fae178a40b8>, 'length': 2016.7291243062305, 'id': 11.0, 'rail_type': 'rail'}\n",
      "{'geom': <shapely.geometry.linestring.LineString object at 0x7fae178a4240>, 'length': 1656.6962322365853, 'id': 7.0, 'rail_type': 'rail'}\n",
      "{'geom': <shapely.geometry.linestring.LineString object at 0x7fae178a4470>, 'length': 1659.2135760889294, 'id': 5.0, 'rail_type': 'rail'}\n",
      "{'geom': <shapely.geometry.linestring.LineString object at 0x7fae178a4470>, 'length': 1659.2135760889294, 'id': 5.0, 'rail_type': 'rail'}\n",
      "{'geom': <shapely.geometry.linestring.LineString object at 0x7fae178a44e0>, 'length': 1404.1621660466367, 'id': 5.0, 'rail_type': 'rail'}\n",
      "{'geom': <shapely.geometry.linestring.LineString object at 0x7fae178a44e0>, 'length': 1404.1621660466367, 'id': 5.0, 'rail_type': 'rail'}\n",
      "{'geom': <shapely.geometry.linestring.LineString object at 0x7fae178a4518>, 'length': 907.3987408288517, 'id': 5.0, 'rail_type': 'rail'}\n",
      "{'geom': <shapely.geometry.linestring.LineString object at 0x7fae178a4518>, 'length': 907.3987408288517, 'id': 5.0, 'rail_type': 'rail'}\n",
      "{'geom': <shapely.geometry.linestring.LineString object at 0x7fae178a4550>, 'length': 1494.9647472557288, 'id': 5.0, 'rail_type': 'rail'}\n",
      "{'geom': <shapely.geometry.linestring.LineString object at 0x7fae178a4550>, 'length': 1494.9647472557288, 'id': 5.0, 'rail_type': 'rail'}\n",
      "{'geom': <shapely.geometry.linestring.LineString object at 0x7fae178a4588>, 'length': 875.7448573575894, 'id': 5.0, 'rail_type': 'rail'}\n",
      "{'geom': <shapely.geometry.linestring.LineString object at 0x7fae178a4588>, 'length': 875.7448573575894, 'id': 5.0, 'rail_type': 'rail'}\n",
      "{'geom': <shapely.geometry.linestring.LineString object at 0x7fae178a45c0>, 'length': 1364.177135870823, 'id': 5.0, 'rail_type': 'rail'}\n",
      "{'geom': <shapely.geometry.linestring.LineString object at 0x7fae178a45c0>, 'length': 1364.177135870823, 'id': 5.0, 'rail_type': 'rail'}\n",
      "{'geom': <shapely.geometry.linestring.LineString object at 0x7fae178a45f8>, 'length': 1229.0138928751285, 'id': 13.0, 'rail_type': 'rail'}\n",
      "{'geom': <shapely.geometry.linestring.LineString object at 0x7fae178a45f8>, 'length': 1229.0138928751285, 'id': 13.0, 'rail_type': 'rail'}\n",
      "{'geom': <shapely.geometry.linestring.LineString object at 0x7fae17897b00>, 'length': 377.07958536809036, 'id': 13.0, 'rail_type': 'rail'}\n",
      "{'geom': <shapely.geometry.linestring.LineString object at 0x7fae178a4400>, 'length': 1105.0385644987884, 'id': 13.0, 'rail_type': 'rail'}\n",
      "{'geom': <shapely.geometry.linestring.LineString object at 0x7fae178a4630>, 'length': 1091.5400530589309, 'id': 13.0, 'rail_type': 'rail'}\n",
      "{'geom': <shapely.geometry.linestring.LineString object at 0x7fae178a4630>, 'length': 1091.5400530589309, 'id': 13.0, 'rail_type': 'rail'}\n",
      "{'geom': <shapely.geometry.linestring.LineString object at 0x7fae178a4668>, 'length': 1280.4481069517522, 'id': 13.0, 'rail_type': 'rail'}\n",
      "{'geom': <shapely.geometry.linestring.LineString object at 0x7fae178a4668>, 'length': 1280.4481069517522, 'id': 13.0, 'rail_type': 'rail'}\n",
      "{'geom': <shapely.geometry.linestring.LineString object at 0x7fae178a46a0>, 'length': 1833.648761349662, 'id': 13.0, 'rail_type': 'rail'}\n",
      "{'geom': <shapely.geometry.linestring.LineString object at 0x7fae178a46a0>, 'length': 1833.648761349662, 'id': 13.0, 'rail_type': 'rail'}\n",
      "{'geom': <shapely.geometry.linestring.LineString object at 0x7fae178a46d8>, 'length': 147.8314061317834, 'id': 9.0, 'rail_type': 'rail'}\n",
      "{'geom': <shapely.geometry.linestring.LineString object at 0x7fae178a46d8>, 'length': 147.8314061317834, 'id': 9.0, 'rail_type': 'rail'}\n",
      "{'geom': <shapely.geometry.linestring.LineString object at 0x7fae178a4710>, 'length': 287.7039378506849, 'id': 9.0, 'rail_type': 'rail'}\n",
      "{'geom': <shapely.geometry.linestring.LineString object at 0x7fae178a4748>, 'length': 1080.8053401703987, 'id': 13.0, 'rail_type': 'rail'}\n",
      "{'geom': <shapely.geometry.linestring.LineString object at 0x7fae178a4780>, 'length': 1018.4592074418265, 'id': 9.0, 'rail_type': 'rail'}\n",
      "{'geom': <shapely.geometry.linestring.LineString object at 0x7fae178a4710>, 'length': 287.7039378506849, 'id': 9.0, 'rail_type': 'rail'}\n",
      "{'geom': <shapely.geometry.linestring.LineString object at 0x7fae178a4358>, 'length': 2040.1327265269856, 'id': 9.0, 'rail_type': 'rail'}\n",
      "{'geom': <shapely.geometry.linestring.LineString object at 0x7fae178a47b8>, 'length': 1230.3042392530213, 'id': 10.0, 'rail_type': 'metro'}\n",
      "{'geom': <shapely.geometry.linestring.LineString object at 0x7fae178a4828>, 'length': 3634.338983696691, 'id': 10.0, 'rail_type': 'metro'}\n",
      "{'geom': <shapely.geometry.linestring.LineString object at 0x7fae178a4860>, 'length': 1401.5427984876208, 'id': 10.0, 'rail_type': 'metro'}\n",
      "{'geom': <shapely.geometry.linestring.LineString object at 0x7fae178a47b8>, 'length': 1230.3042392530213, 'id': 10.0, 'rail_type': 'metro'}\n",
      "{'geom': <shapely.geometry.linestring.LineString object at 0x7fae178a4898>, 'length': 864.993185788546, 'id': 10.0, 'rail_type': 'metro'}\n",
      "{'geom': <shapely.geometry.linestring.LineString object at 0x7fae178a4898>, 'length': 864.993185788546, 'id': 10.0, 'rail_type': 'metro'}\n",
      "{'geom': <shapely.geometry.linestring.LineString object at 0x7fae178a48d0>, 'length': 1090.9545673392054, 'id': 10.0, 'rail_type': 'metro'}\n",
      "{'geom': <shapely.geometry.linestring.LineString object at 0x7fae178a48d0>, 'length': 1090.9545673392054, 'id': 10.0, 'rail_type': 'metro'}\n",
      "{'geom': <shapely.geometry.linestring.LineString object at 0x7fae178a4908>, 'length': 1075.2369930293992, 'id': 10.0, 'rail_type': 'metro'}\n",
      "{'geom': <shapely.geometry.linestring.LineString object at 0x7fae178a4908>, 'length': 1075.2369930293992, 'id': 10.0, 'rail_type': 'metro'}\n",
      "{'geom': <shapely.geometry.linestring.LineString object at 0x7fae178a4940>, 'length': 601.3400031691094, 'id': 10.0, 'rail_type': 'metro'}\n",
      "{'geom': <shapely.geometry.linestring.LineString object at 0x7fae178a4940>, 'length': 601.3400031691094, 'id': 10.0, 'rail_type': 'metro'}\n",
      "{'geom': <shapely.geometry.linestring.LineString object at 0x7fae178a4978>, 'length': 740.4695454092247, 'id': 10.0, 'rail_type': 'metro'}\n",
      "{'geom': <shapely.geometry.linestring.LineString object at 0x7fae178a4978>, 'length': 740.4695454092247, 'id': 10.0, 'rail_type': 'metro'}\n",
      "{'geom': <shapely.geometry.linestring.LineString object at 0x7fae178a49b0>, 'length': 1245.1404377261065, 'id': 10.0, 'rail_type': 'metro'}\n",
      "{'geom': <shapely.geometry.linestring.LineString object at 0x7fae178a49b0>, 'length': 1245.1404377261065, 'id': 10.0, 'rail_type': 'metro'}\n",
      "{'geom': <shapely.geometry.linestring.LineString object at 0x7fae178a49e8>, 'length': 954.9003859655354, 'id': 10.0, 'rail_type': 'metro'}\n",
      "{'geom': <shapely.geometry.linestring.LineString object at 0x7fae178a49e8>, 'length': 954.9003859655354, 'id': 10.0, 'rail_type': 'metro'}\n",
      "{'geom': <shapely.geometry.linestring.LineString object at 0x7fae178a4a20>, 'length': 202.8948038695215, 'id': 10.0, 'rail_type': 'metro'}\n",
      "{'geom': <shapely.geometry.linestring.LineString object at 0x7fae178a4a20>, 'length': 202.8948038695215, 'id': 10.0, 'rail_type': 'metro'}\n",
      "{'geom': <shapely.geometry.linestring.LineString object at 0x7fae178a4a58>, 'length': 1203.610908762252, 'id': 10.0, 'rail_type': 'metro'}\n",
      "{'geom': <shapely.geometry.linestring.LineString object at 0x7fae178a4a90>, 'length': 1497.3824015996113, 'id': 1.0, 'rail_type': 'rail'}\n",
      "{'geom': <shapely.geometry.linestring.LineString object at 0x7fae178a4b00>, 'length': 201.66981175914125, 'id': 1.0, 'rail_type': 'rail'}\n",
      "{'geom': <shapely.geometry.linestring.LineString object at 0x7fae178a4a58>, 'length': 1203.610908762252, 'id': 10.0, 'rail_type': 'metro'}\n",
      "{'geom': <shapely.geometry.linestring.LineString object at 0x7fae178a4b38>, 'length': 787.0326048537778, 'id': 10.0, 'rail_type': 'metro'}\n",
      "{'geom': <shapely.geometry.linestring.LineString object at 0x7fae178a4b38>, 'length': 787.0326048537778, 'id': 10.0, 'rail_type': 'metro'}\n",
      "{'geom': <shapely.geometry.linestring.LineString object at 0x7fae178a4b70>, 'length': 966.0296763529009, 'id': 10.0, 'rail_type': 'metro'}\n",
      "{'geom': <shapely.geometry.linestring.LineString object at 0x7fae178a4b70>, 'length': 966.0296763529009, 'id': 10.0, 'rail_type': 'metro'}\n",
      "{'geom': <shapely.geometry.linestring.LineString object at 0x7fae178a4ba8>, 'length': 2622.9789322540364, 'id': 2.0, 'rail_type': 'rail'}\n",
      "{'geom': <shapely.geometry.linestring.LineString object at 0x7fae178a4ba8>, 'length': 2622.9789322540364, 'id': 2.0, 'rail_type': 'rail'}\n",
      "{'geom': <shapely.geometry.linestring.LineString object at 0x7fae178a4c18>, 'length': 2294.9798783068836, 'id': 2.0, 'rail_type': 'rail'}\n",
      "{'geom': <shapely.geometry.linestring.LineString object at 0x7fae178a4c18>, 'length': 2294.9798783068836, 'id': 2.0, 'rail_type': 'rail'}\n",
      "{'geom': <shapely.geometry.linestring.LineString object at 0x7fae178a4c50>, 'length': 1401.6899061048555, 'id': 2.0, 'rail_type': 'rail'}\n",
      "{'geom': <shapely.geometry.linestring.LineString object at 0x7fae178a4c50>, 'length': 1401.6899061048555, 'id': 2.0, 'rail_type': 'rail'}\n",
      "{'geom': <shapely.geometry.linestring.LineString object at 0x7fae178a4c88>, 'length': 2053.1958812397525, 'id': 2.0, 'rail_type': 'rail'}\n",
      "{'geom': <shapely.geometry.linestring.LineString object at 0x7fae178a4c88>, 'length': 2053.1958812397525, 'id': 2.0, 'rail_type': 'rail'}\n",
      "{'geom': <shapely.geometry.linestring.LineString object at 0x7fae178a4cc0>, 'length': 1901.4575279740552, 'id': 2.0, 'rail_type': 'rail'}\n",
      "{'geom': <shapely.geometry.linestring.LineString object at 0x7fae178a4cc0>, 'length': 1901.4575279740552, 'id': 2.0, 'rail_type': 'rail'}\n",
      "{'geom': <shapely.geometry.linestring.LineString object at 0x7fae178a4828>, 'length': 3634.338983696691, 'id': 10.0, 'rail_type': 'metro'}\n",
      "{'geom': <shapely.geometry.linestring.LineString object at 0x7fae178a4cf8>, 'length': 4077.8037806960565, 'id': 1.0, 'rail_type': 'rail'}\n",
      "{'geom': <shapely.geometry.linestring.LineString object at 0x7fae178a4cf8>, 'length': 4077.8037806960565, 'id': 1.0, 'rail_type': 'rail'}\n",
      "{'geom': <shapely.geometry.linestring.LineString object at 0x7fae178a4d30>, 'length': 3366.2453490156386, 'id': 1.0, 'rail_type': 'rail'}\n",
      "{'geom': <shapely.geometry.linestring.LineString object at 0x7fae178a4d30>, 'length': 3366.2453490156386, 'id': 1.0, 'rail_type': 'rail'}\n",
      "{'geom': <shapely.geometry.linestring.LineString object at 0x7fae178a4d68>, 'length': 2355.306126671846, 'id': 1.0, 'rail_type': 'rail'}\n",
      "{'geom': <shapely.geometry.linestring.LineString object at 0x7fae178a4d68>, 'length': 2355.306126671846, 'id': 1.0, 'rail_type': 'rail'}\n",
      "{'geom': <shapely.geometry.linestring.LineString object at 0x7fae178a4da0>, 'length': 2878.963313743979, 'id': 1.0, 'rail_type': 'rail'}\n",
      "{'geom': <shapely.geometry.linestring.LineString object at 0x7fae178a4da0>, 'length': 2878.963313743979, 'id': 1.0, 'rail_type': 'rail'}\n",
      "{'geom': <shapely.geometry.linestring.LineString object at 0x7fae178a4dd8>, 'length': 1967.7174900150833, 'id': 1.0, 'rail_type': 'rail'}\n",
      "{'geom': <shapely.geometry.linestring.LineString object at 0x7fae178a4dd8>, 'length': 1967.7174900150833, 'id': 1.0, 'rail_type': 'rail'}\n",
      "{'geom': <shapely.geometry.linestring.LineString object at 0x7fae178a4e10>, 'length': 2309.9322516592147, 'id': 1.0, 'rail_type': 'rail'}\n",
      "{'geom': <shapely.geometry.linestring.LineString object at 0x7fae178a4e10>, 'length': 2309.9322516592147, 'id': 1.0, 'rail_type': 'rail'}\n",
      "{'geom': <shapely.geometry.linestring.LineString object at 0x7fae178a4e48>, 'length': 1526.7468343764183, 'id': 1.0, 'rail_type': 'rail'}\n",
      "{'geom': <shapely.geometry.linestring.LineString object at 0x7fae178a4e48>, 'length': 1526.7468343764183, 'id': 1.0, 'rail_type': 'rail'}\n",
      "{'geom': <shapely.geometry.linestring.LineString object at 0x7fae178a4e80>, 'length': 1786.594888928766, 'id': 1.0, 'rail_type': 'rail'}\n",
      "{'geom': <shapely.geometry.linestring.LineString object at 0x7fae178a4e80>, 'length': 1786.594888928766, 'id': 1.0, 'rail_type': 'rail'}\n",
      "{'geom': <shapely.geometry.linestring.LineString object at 0x7fae178a4a90>, 'length': 1497.3824015996113, 'id': 1.0, 'rail_type': 'rail'}\n",
      "{'geom': <shapely.geometry.linestring.LineString object at 0x7fae178a4eb8>, 'length': 2738.164490309322, 'id': 5.0, 'rail_type': 'rail'}\n",
      "{'geom': <shapely.geometry.linestring.LineString object at 0x7fae178a4ef0>, 'length': 1914.2277707641717, 'id': 5.0, 'rail_type': 'rail'}\n",
      "{'geom': <shapely.geometry.linestring.LineString object at 0x7fae178a4f28>, 'length': 1311.0932651055907, 'id': 5.0, 'rail_type': 'rail'}\n",
      "{'geom': <shapely.geometry.linestring.LineString object at 0x7fae178a4f60>, 'length': 2367.8437749634195, 'id': 5.0, 'rail_type': 'rail'}\n",
      "{'geom': <shapely.geometry.linestring.LineString object at 0x7fae178a4eb8>, 'length': 2738.164490309322, 'id': 5.0, 'rail_type': 'rail'}\n",
      "{'geom': <shapely.geometry.linestring.LineString object at 0x7fae178a4f98>, 'length': 1697.6799754211947, 'id': 5.0, 'rail_type': 'rail'}\n",
      "{'geom': <shapely.geometry.linestring.LineString object at 0x7fae178a4f98>, 'length': 1697.6799754211947, 'id': 5.0, 'rail_type': 'rail'}\n",
      "{'geom': <shapely.geometry.linestring.LineString object at 0x7fae178a4fd0>, 'length': 802.0096806818508, 'id': 14.0, 'rail_type': 'rail'}\n",
      "{'geom': <shapely.geometry.linestring.LineString object at 0x7fae24531080>, 'length': 841.2893914194206, 'id': 8.0, 'rail_type': 'rail'}\n",
      "{'geom': <shapely.geometry.linestring.LineString object at 0x7fae245310b8>, 'length': 955.6533822485512, 'id': 9.0, 'rail_type': 'rail'}\n",
      "{'geom': <shapely.geometry.linestring.LineString object at 0x7fae178a4fd0>, 'length': 802.0096806818508, 'id': 14.0, 'rail_type': 'rail'}\n",
      "{'geom': <shapely.geometry.linestring.LineString object at 0x7fae178a4160>, 'length': 1313.7979308992838, 'id': 8.0, 'rail_type': 'rail'}\n",
      "{'geom': <shapely.geometry.linestring.LineString object at 0x7fae178a4748>, 'length': 1080.8053401703987, 'id': 13.0, 'rail_type': 'rail'}\n",
      "{'geom': <shapely.geometry.linestring.LineString object at 0x7fae245310f0>, 'length': 809.1756481974924, 'id': 13.0, 'rail_type': 'rail'}\n",
      "{'geom': <shapely.geometry.linestring.LineString object at 0x7fae245310f0>, 'length': 809.1756481974924, 'id': 13.0, 'rail_type': 'rail'}\n",
      "{'geom': <shapely.geometry.linestring.LineString object at 0x7fae24531128>, 'length': 1048.9267276476048, 'id': 13.0, 'rail_type': 'rail'}\n",
      "{'geom': <shapely.geometry.linestring.LineString object at 0x7fae24531128>, 'length': 1048.9267276476048, 'id': 13.0, 'rail_type': 'rail'}\n",
      "{'geom': <shapely.geometry.linestring.LineString object at 0x7fae24531160>, 'length': 531.3876018874307, 'id': 13.0, 'rail_type': 'rail'}\n",
      "{'geom': <shapely.geometry.linestring.LineString object at 0x7fae24531160>, 'length': 531.3876018874307, 'id': 13.0, 'rail_type': 'rail'}\n",
      "{'geom': <shapely.geometry.linestring.LineString object at 0x7fae24531198>, 'length': 2364.8498754573543, 'id': 13.0, 'rail_type': 'rail'}\n",
      "{'geom': <shapely.geometry.linestring.LineString object at 0x7fae178a4780>, 'length': 1018.4592074418265, 'id': 9.0, 'rail_type': 'rail'}\n",
      "{'geom': <shapely.geometry.linestring.LineString object at 0x7fae245310b8>, 'length': 955.6533822485512, 'id': 9.0, 'rail_type': 'rail'}\n",
      "{'geom': <shapely.geometry.linestring.LineString object at 0x7fae245311d0>, 'length': 1310.7839309824267, 'id': 9.0, 'rail_type': 'rail'}\n",
      "{'geom': <shapely.geometry.linestring.LineString object at 0x7fae24531208>, 'length': 1059.3078493097103, 'id': 8.0, 'rail_type': 'rail'}\n",
      "{'geom': <shapely.geometry.linestring.LineString object at 0x7fae24531080>, 'length': 841.2893914194206, 'id': 8.0, 'rail_type': 'rail'}\n",
      "{'geom': <shapely.geometry.linestring.LineString object at 0x7fae24531240>, 'length': 355.79156695765346, 'id': 8.0, 'rail_type': 'rail'}\n",
      "{'geom': <shapely.geometry.linestring.LineString object at 0x7fae24531208>, 'length': 1059.3078493097103, 'id': 8.0, 'rail_type': 'rail'}\n",
      "{'geom': <shapely.geometry.linestring.LineString object at 0x7fae178a4198>, 'length': 1241.4955637511919, 'id': 8.0, 'rail_type': 'rail'}\n",
      "{'geom': <shapely.geometry.linestring.LineString object at 0x7fae24531198>, 'length': 2364.8498754573543, 'id': 13.0, 'rail_type': 'rail'}\n",
      "{'geom': <shapely.geometry.linestring.LineString object at 0x7fae24531278>, 'length': 2117.632268310861, 'id': 12.0, 'rail_type': 'rail'}\n",
      "{'geom': <shapely.geometry.linestring.LineString object at 0x7fae24531278>, 'length': 2117.632268310861, 'id': 12.0, 'rail_type': 'rail'}\n",
      "{'geom': <shapely.geometry.linestring.LineString object at 0x7fae245312e8>, 'length': 1431.7540324455167, 'id': 12.0, 'rail_type': 'rail'}\n",
      "{'geom': <shapely.geometry.linestring.LineString object at 0x7fae245312e8>, 'length': 1431.7540324455167, 'id': 12.0, 'rail_type': 'rail'}\n",
      "{'geom': <shapely.geometry.linestring.LineString object at 0x7fae24531320>, 'length': 989.4831305106018, 'id': 12.0, 'rail_type': 'rail'}\n",
      "{'geom': <shapely.geometry.linestring.LineString object at 0x7fae24531320>, 'length': 989.4831305106018, 'id': 12.0, 'rail_type': 'rail'}\n",
      "{'geom': <shapely.geometry.linestring.LineString object at 0x7fae24531358>, 'length': 988.0478505666963, 'id': 12.0, 'rail_type': 'rail'}\n",
      "{'geom': <shapely.geometry.linestring.LineString object at 0x7fae24531358>, 'length': 988.0478505666963, 'id': 12.0, 'rail_type': 'rail'}\n",
      "{'geom': <shapely.geometry.linestring.LineString object at 0x7fae24531390>, 'length': 1026.1015843447185, 'id': 12.0, 'rail_type': 'rail'}\n",
      "{'geom': <shapely.geometry.linestring.LineString object at 0x7fae24531390>, 'length': 1026.1015843447185, 'id': 12.0, 'rail_type': 'rail'}\n",
      "{'geom': <shapely.geometry.linestring.LineString object at 0x7fae245313c8>, 'length': 57.30118618265177, 'id': 12.0, 'rail_type': 'rail'}\n",
      "{'geom': <shapely.geometry.linestring.LineString object at 0x7fae245313c8>, 'length': 57.30118618265177, 'id': 12.0, 'rail_type': 'rail'}\n",
      "{'geom': <shapely.geometry.linestring.LineString object at 0x7fae178a4ef0>, 'length': 1914.2277707641717, 'id': 5.0, 'rail_type': 'rail'}\n",
      "{'geom': <shapely.geometry.linestring.LineString object at 0x7fae24531400>, 'length': 1638.1709946727365, 'id': 4.0, 'rail_type': 'rail'}\n",
      "{'geom': <shapely.geometry.linestring.LineString object at 0x7fae24531400>, 'length': 1638.1709946727365, 'id': 4.0, 'rail_type': 'rail'}\n",
      "{'geom': <shapely.geometry.linestring.LineString object at 0x7fae245311d0>, 'length': 1310.7839309824267, 'id': 9.0, 'rail_type': 'rail'}\n",
      "{'geom': <shapely.geometry.linestring.LineString object at 0x7fae24531470>, 'length': 1984.8448116858178, 'id': 3.0, 'rail_type': 'rail'}\n",
      "{'geom': <shapely.geometry.linestring.LineString object at 0x7fae24531470>, 'length': 1984.8448116858178, 'id': 3.0, 'rail_type': 'rail'}\n",
      "{'geom': <shapely.geometry.linestring.LineString object at 0x7fae245314e0>, 'length': 1639.1279865257006, 'id': 3.0, 'rail_type': 'rail'}\n",
      "{'geom': <shapely.geometry.linestring.LineString object at 0x7fae245314e0>, 'length': 1639.1279865257006, 'id': 3.0, 'rail_type': 'rail'}\n",
      "{'geom': <shapely.geometry.linestring.LineString object at 0x7fae24531518>, 'length': 1137.7588943609899, 'id': 3.0, 'rail_type': 'rail'}\n",
      "{'geom': <shapely.geometry.linestring.LineString object at 0x7fae24531518>, 'length': 1137.7588943609899, 'id': 3.0, 'rail_type': 'rail'}\n",
      "{'geom': <shapely.geometry.linestring.LineString object at 0x7fae178a4f28>, 'length': 1311.0932651055907, 'id': 5.0, 'rail_type': 'rail'}\n",
      "{'geom': <shapely.geometry.linestring.LineString object at 0x7fae178a4860>, 'length': 1401.5427984876208, 'id': 10.0, 'rail_type': 'metro'}\n",
      "{'geom': <shapely.geometry.linestring.LineString object at 0x7fae178a4f60>, 'length': 2367.8437749634195, 'id': 5.0, 'rail_type': 'rail'}\n",
      "{'geom': <shapely.geometry.linestring.LineString object at 0x7fae178a4b00>, 'length': 201.66981175914125, 'id': 1.0, 'rail_type': 'rail'}\n",
      "{'geom': <shapely.geometry.linestring.LineString object at 0x7fae24531550>, 'length': 2212.2435214603183, 'id': 1.0, 'rail_type': 'rail'}\n",
      "{'geom': <shapely.geometry.linestring.LineString object at 0x7fae24531550>, 'length': 2212.2435214603183, 'id': 1.0, 'rail_type': 'rail'}\n",
      "{'geom': <shapely.geometry.linestring.LineString object at 0x7fae24531588>, 'length': 2013.3620594575227, 'id': 1.0, 'rail_type': 'rail'}\n",
      "{'geom': <shapely.geometry.linestring.LineString object at 0x7fae24531588>, 'length': 2013.3620594575227, 'id': 1.0, 'rail_type': 'rail'}\n",
      "{'geom': <shapely.geometry.linestring.LineString object at 0x7fae245315c0>, 'length': 1364.572125117503, 'id': 1.0, 'rail_type': 'rail'}\n",
      "{'geom': <shapely.geometry.linestring.LineString object at 0x7fae245315c0>, 'length': 1364.572125117503, 'id': 1.0, 'rail_type': 'rail'}\n",
      "{'geom': <shapely.geometry.linestring.LineString object at 0x7fae245315f8>, 'length': 603.4517211185697, 'id': 1.0, 'rail_type': 'rail'}\n",
      "{'geom': <shapely.geometry.linestring.LineString object at 0x7fae245315f8>, 'length': 603.4517211185697, 'id': 1.0, 'rail_type': 'rail'}\n",
      "{'geom': <shapely.geometry.linestring.LineString object at 0x7fae24531630>, 'length': 1061.3662331450234, 'id': 1.0, 'rail_type': 'rail'}\n",
      "{'geom': <shapely.geometry.linestring.LineString object at 0x7fae24531630>, 'length': 1061.3662331450234, 'id': 1.0, 'rail_type': 'rail'}\n",
      "{'geom': <shapely.geometry.linestring.LineString object at 0x7fae24531668>, 'length': 1718.7091892110693, 'id': 1.0, 'rail_type': 'rail'}\n",
      "{'geom': <shapely.geometry.linestring.LineString object at 0x7fae24531668>, 'length': 1718.7091892110693, 'id': 1.0, 'rail_type': 'rail'}\n",
      "{'geom': <shapely.geometry.linestring.LineString object at 0x7fae24531240>, 'length': 355.79156695765346, 'id': 8.0, 'rail_type': 'rail'}\n"
     ]
    }
   ],
   "source": [
    "# you can see that the attributes have been added to the graph\n",
    "for edge in G_rail.edges(data=True):\n",
    "    print(edge[2])"
   ]
  },
  {
   "cell_type": "markdown",
   "metadata": {},
   "source": [
    "## visualize network"
   ]
  },
  {
   "cell_type": "code",
   "execution_count": 306,
   "metadata": {},
   "outputs": [
    {
     "data": {
      "image/png": "[encoded data removed]",
      "text/plain": [
       "<Figure size 432x288 with 1 Axes>"
      ]
     },
     "metadata": {},
     "output_type": "display_data"
    }
   ],
   "source": [
    "nx.draw(G_rail)"
   ]
  },
  {
   "cell_type": "markdown",
   "metadata": {},
   "source": [
    "### Tests for the validity of the rail graph"
   ]
  },
  {
   "cell_type": "code",
   "execution_count": 307,
   "metadata": {
    "scrolled": false
   },
   "outputs": [],
   "source": [
    "# this is a test to export a shapefile for testing\n",
    "list_of_Gs = list((nx.strongly_connected_component_subgraphs(G_rail)))\n",
    "sz = 0\n",
    "largest_G = list_of_Gs[0]\n",
    "count = 0\n",
    "for g in list_of_Gs:\n",
    "    curSize = g.size()\n",
    "    #print(curSize)\n",
    "    if curSize > sz:\n",
    "        largest_G = g\n",
    "        sz = curSize \n",
    "    g_gdf = gn.edge_gdf_from_graph(g,crs = {'init' :'epsg:32643'})\n",
    "    # for some reason has both a geom and geometry column\n",
    "    g_gdf = g_gdf.drop(columns=['geom'])\n",
    "    # print(g_gdf)\n",
    "    g_gdf.to_file(driver = 'ESRI Shapefile', filename = outputFolder + '/g_rail_gdf_test_%d.shp' % count)\n",
    "    count += 1\n",
    "    #print(count)\n",
    "# G_rail_largest = largest_G\n",
    "# print(G_rail_largest)"
   ]
  },
  {
   "cell_type": "code",
   "execution_count": 308,
   "metadata": {},
   "outputs": [
    {
     "name": "stdout",
     "output_type": "stream",
     "text": [
      "(0, {'x': 272122.66290875676, 'y': 2095693.7796779373, 'geom': <shapely.geometry.point.Point object at 0x7fae17897898>})\n",
      "(1, {'x': 272366.8491270583, 'y': 2097048.817394499, 'geom': <shapely.geometry.point.Point object at 0x7fae17897630>})\n",
      "(3, {'x': 272508.9179740083, 'y': 2097844.3993548118, 'geom': <shapely.geometry.point.Point object at 0x7fae17897978>})\n"
     ]
    }
   ],
   "source": [
    "gn.example_node(G_rail, 3)"
   ]
  },
  {
   "cell_type": "markdown",
   "metadata": {},
   "source": [
    "### Need to convert the rail graph node coordinates from UTM to WGS84. Note that the road graph node coordinates are already in WGS84."
   ]
  },
  {
   "cell_type": "code",
   "execution_count": 309,
   "metadata": {},
   "outputs": [
    {
     "data": {
      "text/plain": [
       "<module 'GOSTnet' from '../../GOSTNets/GOSTNets/GOSTnet.py'>"
      ]
     },
     "execution_count": 309,
     "metadata": {},
     "output_type": "execute_result"
    }
   ],
   "source": [
    "import importlib\n",
    "importlib.reload(gn)"
   ]
  },
  {
   "cell_type": "code",
   "execution_count": 310,
   "metadata": {},
   "outputs": [
    {
     "name": "stdout",
     "output_type": "stream",
     "text": [
      "POINT (72.8305819 18.996213)\n"
     ]
    }
   ],
   "source": [
    "from shapely.geometry import Point\n",
    "sample_point = Point(271620.51371866115,2101816.267494734)\n",
    "\n",
    "from shapely.ops import transform\n",
    "from functools import partial\n",
    "import pyproj\n",
    "\n",
    "project_WGS_UTM = partial(\n",
    "                pyproj.transform,\n",
    "                pyproj.Proj(init='epsg:32643'),\n",
    "                pyproj.Proj(init='epsg:4326'))\n",
    "\n",
    "print(transform(project_WGS_UTM,sample_point))"
   ]
  },
  {
   "cell_type": "code",
   "execution_count": 311,
   "metadata": {},
   "outputs": [],
   "source": [
    "G_rail = gn.reproject_graph(G_rail, 'epsg:32643', 'epsg:4326')"
   ]
  },
  {
   "cell_type": "code",
   "execution_count": 312,
   "metadata": {},
   "outputs": [
    {
     "name": "stdout",
     "output_type": "stream",
     "text": [
      "(0, {'x': 72.8360633305759, 'y': 18.940975234799453, 'geom': <shapely.geometry.point.Point object at 0x7fae515a40f0>})\n",
      "(1, {'x': 72.83822328429102, 'y': 18.95323998167732, 'geom': <shapely.geometry.point.Point object at 0x7fae515a4048>})\n",
      "(3, {'x': 72.83947921893387, 'y': 18.960440822411584, 'geom': <shapely.geometry.point.Point object at 0x7fae4eb57828>})\n",
      "(4, {'x': 72.8435321130054, 'y': 19.017516410491485, 'geom': <shapely.geometry.point.Point object at 0x7fae44ec6470>})\n"
     ]
    }
   ],
   "source": [
    "gn.example_node(G_rail, 4)"
   ]
  },
  {
   "cell_type": "code",
   "execution_count": 313,
   "metadata": {},
   "outputs": [
    {
     "name": "stdout",
     "output_type": "stream",
     "text": [
      "(0, 1, {'geom': <shapely.geometry.linestring.LineString object at 0x7fae178a6ef0>, 'length': 1388.5881250266957, 'id': 6.0, 'rail_type': 'rail'})\n",
      "(1, 0, {'geom': <shapely.geometry.linestring.LineString object at 0x7fae178a6ef0>, 'length': 1388.5881250266957, 'id': 6.0, 'rail_type': 'rail'})\n",
      "(1, 3, {'geom': <shapely.geometry.linestring.LineString object at 0x7fae178a6fd0>, 'length': 813.9703934797164, 'id': 11.0, 'rail_type': 'rail'})\n",
      "(3, 1, {'geom': <shapely.geometry.linestring.LineString object at 0x7fae178a6fd0>, 'length': 813.9703934797164, 'id': 11.0, 'rail_type': 'rail'})\n"
     ]
    }
   ],
   "source": [
    "gn.example_edge(G_rail, 4)"
   ]
  },
  {
   "cell_type": "markdown",
   "metadata": {},
   "source": [
    "## Set the rail speed and station wait time, and speeds for walking"
   ]
  },
  {
   "cell_type": "code",
   "execution_count": 314,
   "metadata": {},
   "outputs": [],
   "source": [
    "# Required parameters in processing rail network\n",
    "metroSpeed = 35 #kph\n",
    "railSpeed = 40 #kph\n",
    "station_wait = 30 #seconds\n",
    "walk_speed = 5 #kph"
   ]
  },
  {
   "cell_type": "code",
   "execution_count": 315,
   "metadata": {},
   "outputs": [],
   "source": [
    "# Convert Rail network length to time\n",
    "for u, v, data in G_rail.edges(data=True):\n",
    "    data['mode'] = 'rail'\n",
    "    data['time'] = 999999999 # driving time\n",
    "    data['walk_time'] = 999999999 # walking time\n",
    "    if data['rail_type'] == \"metro\":\n",
    "        #print(data['rail_type'])\n",
    "        data['rail_time'] = ((data['length']/1000 / metroSpeed) * 60 * 60) + station_wait\n",
    "        # the best time on the rail edges will be the rail times\n",
    "        data['road_and_rail_time'] = data['rail_time']\n",
    "    else:\n",
    "        #print(data['rail_type'])\n",
    "        data['rail_time'] = ((data['length']/1000 / railSpeed) * 60 * 60) + station_wait\n",
    "        # the best time on the rail edges will be the rail times\n",
    "        data['road_and_rail_time'] = data['rail_time']"
   ]
  },
  {
   "cell_type": "code",
   "execution_count": 316,
   "metadata": {},
   "outputs": [
    {
     "name": "stdout",
     "output_type": "stream",
     "text": [
      "{'peak_speed': <networkx.classes.multidigraph.MultiDiGraph object at 0x7fae03e745c0>, 'avg_speed': <networkx.classes.multidigraph.MultiDiGraph object at 0x7fae73a242e8>, 'off_peak_speed': <networkx.classes.multidigraph.MultiDiGraph object at 0x7fae14fd7a58>}\n"
     ]
    }
   ],
   "source": [
    "# print road_graph\n",
    "print(road_graph)"
   ]
  },
  {
   "cell_type": "code",
   "execution_count": 317,
   "metadata": {},
   "outputs": [],
   "source": [
    "for key in road_graph:\n",
    "    # Convert Road network length to time\n",
    "    for u, v, data in road_graph[key].edges(data=True):\n",
    "        data['mode'] = 'road'\n",
    "        #Set the rail_time to walking time for the road network\n",
    "        data['rail_time'] = ((data['length']/1000 / walk_speed) * 60 * 60)\n",
    "        # the best time on the road edges will be the road times\n",
    "        data['road_and_rail_time'] = data['time']\n",
    "        data['walk_time'] = ((data['length']/1000 / walk_speed) * 60 * 60)"
   ]
  },
  {
   "cell_type": "code",
   "execution_count": 318,
   "metadata": {},
   "outputs": [
    {
     "name": "stdout",
     "output_type": "stream",
     "text": [
      "(2248802304, 2248802330, {'osmid': 215438684, 'highway': 'residential', 'oneway': False, 'length': 66.863, 'time': 13.285676923988712, 'mode': 'road', 'rail_time': 48.141360000000006, 'road_and_rail_time': 13.285676923988712, 'walk_time': 48.141360000000006})\n",
      "(2248802313, 2248802342, {'osmid': 215438630, 'highway': 'residential', 'oneway': False, 'length': 101.67399999999999, 'geometry': <shapely.geometry.linestring.LineString object at 0x7fae268385f8>, 'time': 20.202622011719903, 'mode': 'road', 'rail_time': 73.20527999999999, 'road_and_rail_time': 20.202622011719903, 'walk_time': 73.20527999999999})\n",
      "(6136332304, 4292746859, {'osmid': 289412579, 'oneway': True, 'highway': 'primary', 'length': 278.65, 'geometry': <shapely.geometry.linestring.LineString object at 0x7fae26838668>, 'time': 27.683875049500124, 'mode': 'road', 'rail_time': 200.62799999999996, 'road_and_rail_time': 27.683875049500124, 'walk_time': 200.62799999999996})\n",
      "(1351352338, 1351352355, {'osmid': 120529599, 'highway': 'residential', 'oneway': False, 'length': 78.079, 'time': 15.514295926717534, 'mode': 'road', 'rail_time': 56.216879999999996, 'road_and_rail_time': 15.514295926717534, 'walk_time': 56.216879999999996})\n"
     ]
    }
   ],
   "source": [
    "gn.example_edge(road_graph['off_peak_speed'], 4)"
   ]
  },
  {
   "cell_type": "code",
   "execution_count": 319,
   "metadata": {},
   "outputs": [
    {
     "name": "stdout",
     "output_type": "stream",
     "text": [
      "(2248802304, 2248802330, {'osmid': 215438684, 'highway': 'residential', 'oneway': False, 'length': 66.863, 'time': 17.714235898651612, 'mode': 'road', 'rail_time': 48.141360000000006, 'road_and_rail_time': 17.714235898651612, 'walk_time': 48.141360000000006})\n",
      "(2248802313, 2248802342, {'osmid': 215438630, 'highway': 'residential', 'oneway': False, 'length': 101.67399999999999, 'geometry': <shapely.geometry.linestring.LineString object at 0x7fadb1c16048>, 'time': 26.93682934895987, 'mode': 'road', 'rail_time': 73.20527999999999, 'road_and_rail_time': 26.93682934895987, 'walk_time': 73.20527999999999})\n",
      "(6136332304, 4292746859, {'osmid': 289412579, 'oneway': True, 'highway': 'primary', 'length': 278.65, 'geometry': <shapely.geometry.linestring.LineString object at 0x7fadb1c160f0>, 'time': 36.911833399333496, 'mode': 'road', 'rail_time': 200.62799999999996, 'road_and_rail_time': 36.911833399333496, 'walk_time': 200.62799999999996})\n",
      "(1351352338, 1351352355, {'osmid': 120529599, 'highway': 'residential', 'oneway': False, 'length': 78.079, 'time': 20.68572790229004, 'mode': 'road', 'rail_time': 56.216879999999996, 'road_and_rail_time': 20.68572790229004, 'walk_time': 56.216879999999996})\n"
     ]
    }
   ],
   "source": [
    "gn.example_edge(road_graph['peak_speed'], 4)"
   ]
  },
  {
   "cell_type": "markdown",
   "metadata": {},
   "source": [
    "# merge the rail and road networks together"
   ]
  },
  {
   "cell_type": "code",
   "execution_count": 320,
   "metadata": {},
   "outputs": [],
   "source": [
    "# If one outComboGraph doesn't exist than they all should not exist\n",
    "if not os.path.exists(os.path.join(outputFolder, \"avg_speed_outComboGraph.pickle\")):\n",
    "    # Bind the graphs together\n",
    "    # There was problem with this originally. It seems like the GOSTNets function needs the input graphs to be in 4326\n",
    "    # but G_rail was in UTM\n",
    "\n",
    "    # join_networks will join the networks where the rail nodes (which are the stations) meet the road network nodes \n",
    "    # within the threshold\n",
    "\n",
    "    g_combo_graph = {}\n",
    "\n",
    "    for key in road_graph:\n",
    "        g_combo_graph[key] = gn.join_networks(G_rail, road_graph[key], measure_crs=32643, thresh=300)\n",
    "        nx.write_gpickle(g_combo_graph[key], os.path.join(outputFolder, \"%s_outComboGraph.pickle\" % key))\n"
   ]
  },
  {
   "cell_type": "markdown",
   "metadata": {},
   "source": [
    "#### Inspect the output of the combo graph"
   ]
  },
  {
   "cell_type": "code",
   "execution_count": 321,
   "metadata": {},
   "outputs": [],
   "source": [
    "# inspect G_combo\n",
    "# g_combo_gdf = gn.edge_gdf_from_graph(g_combo_graph['avg_speed'],crs = {'init' :'epsg:4326'})\n",
    "# for some reason has both a geom and geometry column\n",
    "# g_combo_gdf = g_combo_gdf.drop(columns=['geom','osmid','junction', 'ref','lanes', 'bridge',\n",
    "#       'maxspeed', 'width', 'access','Wkt', 'infra_type','time', 'road_and_rail_time', 'rail_time',\n",
    "#       'highway', 'oneway', 'service', 'length', 'name', 'mode', 'tunnel'])\n",
    "# print(g_combo_gdf.keys())\n",
    "# print(g_combo_gdf)\n",
    "# g_combo_gdf.to_file(driver = 'ESRI Shapefile', filename = outputFolder + '/inspect_g_combo.shp' )"
   ]
  },
  {
   "cell_type": "markdown",
   "metadata": {},
   "source": [
    "## Run analysis 1 - Distance from each individual to work\n",
    "### The first step is generating households and adding a field of the nearest node on the graph from each household. A similiar step is done for destinations. Also, just for households a field is added that has the walking time from the household location to its nearest node. \n",
    "### The comboData dataframe merges the households and destinations together based on the PIN code.\n",
    "### The nearest node ids should be the same on all the different graphs, so this just has to be done once."
   ]
  },
  {
   "cell_type": "code",
   "execution_count": 322,
   "metadata": {},
   "outputs": [
    {
     "name": "stdout",
     "output_type": "stream",
     "text": [
      "3017\n"
     ]
    }
   ],
   "source": [
    "inH = pd.read_csv(inHouseholds)\n",
    "inH[:5]\n",
    "print(len(inH))"
   ]
  },
  {
   "cell_type": "code",
   "execution_count": 323,
   "metadata": {},
   "outputs": [
    {
     "data": {
      "text/plain": [
       "Index(['unique_respondent', 'gps_latitude_home', 'gps_longitude_home',\n",
       "       'work_pin_code'],\n",
       "      dtype='object')"
      ]
     },
     "execution_count": 323,
     "metadata": {},
     "output_type": "execute_result"
    }
   ],
   "source": [
    "inH.keys()"
   ]
  },
  {
   "cell_type": "code",
   "execution_count": 324,
   "metadata": {},
   "outputs": [],
   "source": [
    "# Group the data frame by id and item\n",
    "hh = pd.DataFrame(inH.groupby(\n",
    "   ['unique_respondent']\n",
    ").agg(\n",
    "    {\n",
    "         'gps_latitude_home':\"mean\",    # Sum duration per group\n",
    "         'gps_longitude_home': \"mean\",\n",
    "         'work_pin_code': \"first\"\n",
    "    }\n",
    "))"
   ]
  },
  {
   "cell_type": "code",
   "execution_count": 325,
   "metadata": {},
   "outputs": [
    {
     "data": {
      "text/html": [
       "<div>\n",
       "<style scoped>\n",
       "    .dataframe tbody tr th:only-of-type {\n",
       "        vertical-align: middle;\n",
       "    }\n",
       "\n",
       "    .dataframe tbody tr th {\n",
       "        vertical-align: top;\n",
       "    }\n",
       "\n",
       "    .dataframe thead th {\n",
       "        text-align: right;\n",
       "    }\n",
       "</style>\n",
       "<table border=\"1\" class=\"dataframe\">\n",
       "  <thead>\n",
       "    <tr style=\"text-align: right;\">\n",
       "      <th></th>\n",
       "      <th>gps_latitude_home</th>\n",
       "      <th>gps_longitude_home</th>\n",
       "      <th>work_pin_code</th>\n",
       "    </tr>\n",
       "    <tr>\n",
       "      <th>unique_respondent</th>\n",
       "      <th></th>\n",
       "      <th></th>\n",
       "      <th></th>\n",
       "    </tr>\n",
       "  </thead>\n",
       "  <tbody>\n",
       "    <tr>\n",
       "      <th>1011</th>\n",
       "      <td>18.909705</td>\n",
       "      <td>72.813837</td>\n",
       "      <td>400005</td>\n",
       "    </tr>\n",
       "    <tr>\n",
       "      <th>1021</th>\n",
       "      <td>18.909766</td>\n",
       "      <td>72.813820</td>\n",
       "      <td>400064</td>\n",
       "    </tr>\n",
       "    <tr>\n",
       "      <th>1031</th>\n",
       "      <td>18.909751</td>\n",
       "      <td>72.813732</td>\n",
       "      <td>400005</td>\n",
       "    </tr>\n",
       "  </tbody>\n",
       "</table>\n",
       "</div>"
      ],
      "text/plain": [
       "                   gps_latitude_home  gps_longitude_home  work_pin_code\n",
       "unique_respondent                                                      \n",
       "1011                       18.909705           72.813837         400005\n",
       "1021                       18.909766           72.813820         400064\n",
       "1031                       18.909751           72.813732         400005"
      ]
     },
     "execution_count": 325,
     "metadata": {},
     "output_type": "execute_result"
    }
   ],
   "source": [
    "hh[:3]"
   ]
  },
  {
   "cell_type": "markdown",
   "metadata": {},
   "source": [
    "### create a geodataframe of the households and snap to the combo graph"
   ]
  },
  {
   "cell_type": "code",
   "execution_count": 326,
   "metadata": {},
   "outputs": [],
   "source": [
    "hh['geometry'] = hh.apply(lambda x: Point(x['gps_longitude_home'], x['gps_latitude_home']), axis=1)\n",
    "hh = gpd.GeoDataFrame(hh, geometry=\"geometry\")\n",
    "hh.crs = {'init': 'epsg:4326'}\n",
    "hh = hh.reset_index()\n",
    "hh = hh[[x.is_valid for x in hh['geometry']]]"
   ]
  },
  {
   "cell_type": "code",
   "execution_count": 327,
   "metadata": {},
   "outputs": [
    {
     "name": "stdout",
     "output_type": "stream",
     "text": [
      "3.151160955429077\n"
     ]
    }
   ],
   "source": [
    "# look into warning below\n",
    "# snapping each individual location to the combo graph\n",
    "# add walking time to get from household to nearest point in graph, by default 'add_dist_to_node_col = True'\n",
    "# the source_crs should be the same proj as both the input graph and input geodataframe of points\n",
    "\n",
    "# hh_nn = gn.pandana_snap(G_combo, hh)\n",
    "import time\n",
    "start = time.time()\n",
    "#hh_nn = gn.pandana_snap(G_combo, hh, target_crs = 'epsg:32643')\n",
    "hh_nn = gn.pandana_snap(g_combo_graph['avg_speed'], hh, target_crs = 'epsg:32643')\n",
    "end = time.time()\n",
    "print(end - start)"
   ]
  },
  {
   "cell_type": "code",
   "execution_count": 328,
   "metadata": {},
   "outputs": [
    {
     "data": {
      "text/html": [
       "<div>\n",
       "<style scoped>\n",
       "    .dataframe tbody tr th:only-of-type {\n",
       "        vertical-align: middle;\n",
       "    }\n",
       "\n",
       "    .dataframe tbody tr th {\n",
       "        vertical-align: top;\n",
       "    }\n",
       "\n",
       "    .dataframe thead th {\n",
       "        text-align: right;\n",
       "    }\n",
       "</style>\n",
       "<table border=\"1\" class=\"dataframe\">\n",
       "  <thead>\n",
       "    <tr style=\"text-align: right;\">\n",
       "      <th></th>\n",
       "      <th>unique_respondent</th>\n",
       "      <th>gps_latitude_home</th>\n",
       "      <th>gps_longitude_home</th>\n",
       "      <th>work_pin_code</th>\n",
       "      <th>geometry</th>\n",
       "      <th>NN</th>\n",
       "      <th>NN_dist</th>\n",
       "    </tr>\n",
       "  </thead>\n",
       "  <tbody>\n",
       "    <tr>\n",
       "      <th>0</th>\n",
       "      <td>1011</td>\n",
       "      <td>18.909705</td>\n",
       "      <td>72.813837</td>\n",
       "      <td>400005</td>\n",
       "      <td>POINT (72.81383700000001 18.909705)</td>\n",
       "      <td>25882</td>\n",
       "      <td>82.066957</td>\n",
       "    </tr>\n",
       "    <tr>\n",
       "      <th>1</th>\n",
       "      <td>1021</td>\n",
       "      <td>18.909766</td>\n",
       "      <td>72.813820</td>\n",
       "      <td>400064</td>\n",
       "      <td>POINT (72.81381999999999 18.909766)</td>\n",
       "      <td>25882</td>\n",
       "      <td>78.841736</td>\n",
       "    </tr>\n",
       "    <tr>\n",
       "      <th>2</th>\n",
       "      <td>1031</td>\n",
       "      <td>18.909751</td>\n",
       "      <td>72.813732</td>\n",
       "      <td>400005</td>\n",
       "      <td>POINT (72.813732 18.909751)</td>\n",
       "      <td>25882</td>\n",
       "      <td>87.130632</td>\n",
       "    </tr>\n",
       "  </tbody>\n",
       "</table>\n",
       "</div>"
      ],
      "text/plain": [
       "   unique_respondent  gps_latitude_home  gps_longitude_home  work_pin_code  \\\n",
       "0               1011          18.909705           72.813837         400005   \n",
       "1               1021          18.909766           72.813820         400064   \n",
       "2               1031          18.909751           72.813732         400005   \n",
       "\n",
       "                              geometry     NN    NN_dist  \n",
       "0  POINT (72.81383700000001 18.909705)  25882  82.066957  \n",
       "1  POINT (72.81381999999999 18.909766)  25882  78.841736  \n",
       "2          POINT (72.813732 18.909751)  25882  87.130632  "
      ]
     },
     "execution_count": 328,
     "metadata": {},
     "output_type": "execute_result"
    }
   ],
   "source": [
    "hh_nn[:3]"
   ]
  },
  {
   "cell_type": "code",
   "execution_count": 329,
   "metadata": {},
   "outputs": [],
   "source": [
    "hh_nn = hh_nn[['unique_respondent', 'work_pin_code', 'NN_dist', 'NN', 'gps_latitude_home', 'gps_longitude_home']]\n",
    "hh_nn.columns = ['unique_respondent', 'PIN', 'walk_dist_to_nn', 'hhNN', 'hhlat', 'hhlon']"
   ]
  },
  {
   "cell_type": "markdown",
   "metadata": {},
   "source": [
    "### add walking speed to the nearest node"
   ]
  },
  {
   "cell_type": "code",
   "execution_count": 330,
   "metadata": {},
   "outputs": [],
   "source": [
    "walk_speed = 5 #kph\n",
    "# generating walk time in seconds\n",
    "hh_nn['walk_time_to_nn'] = hh_nn['walk_dist_to_nn'] / 1000 / walk_speed * 3600"
   ]
  },
  {
   "cell_type": "code",
   "execution_count": 331,
   "metadata": {},
   "outputs": [
    {
     "data": {
      "text/html": [
       "<div>\n",
       "<style scoped>\n",
       "    .dataframe tbody tr th:only-of-type {\n",
       "        vertical-align: middle;\n",
       "    }\n",
       "\n",
       "    .dataframe tbody tr th {\n",
       "        vertical-align: top;\n",
       "    }\n",
       "\n",
       "    .dataframe thead th {\n",
       "        text-align: right;\n",
       "    }\n",
       "</style>\n",
       "<table border=\"1\" class=\"dataframe\">\n",
       "  <thead>\n",
       "    <tr style=\"text-align: right;\">\n",
       "      <th></th>\n",
       "      <th>unique_respondent</th>\n",
       "      <th>PIN</th>\n",
       "      <th>walk_dist_to_nn</th>\n",
       "      <th>hhNN</th>\n",
       "      <th>hhlat</th>\n",
       "      <th>hhlon</th>\n",
       "      <th>walk_time_to_nn</th>\n",
       "    </tr>\n",
       "  </thead>\n",
       "  <tbody>\n",
       "    <tr>\n",
       "      <th>0</th>\n",
       "      <td>1011</td>\n",
       "      <td>400005</td>\n",
       "      <td>82.066957</td>\n",
       "      <td>25882</td>\n",
       "      <td>18.909705</td>\n",
       "      <td>72.813837</td>\n",
       "      <td>59.088209</td>\n",
       "    </tr>\n",
       "    <tr>\n",
       "      <th>1</th>\n",
       "      <td>1021</td>\n",
       "      <td>400064</td>\n",
       "      <td>78.841736</td>\n",
       "      <td>25882</td>\n",
       "      <td>18.909766</td>\n",
       "      <td>72.813820</td>\n",
       "      <td>56.766050</td>\n",
       "    </tr>\n",
       "    <tr>\n",
       "      <th>2</th>\n",
       "      <td>1031</td>\n",
       "      <td>400005</td>\n",
       "      <td>87.130632</td>\n",
       "      <td>25882</td>\n",
       "      <td>18.909751</td>\n",
       "      <td>72.813732</td>\n",
       "      <td>62.734055</td>\n",
       "    </tr>\n",
       "  </tbody>\n",
       "</table>\n",
       "</div>"
      ],
      "text/plain": [
       "   unique_respondent     PIN  walk_dist_to_nn   hhNN      hhlat      hhlon  \\\n",
       "0               1011  400005        82.066957  25882  18.909705  72.813837   \n",
       "1               1021  400064        78.841736  25882  18.909766  72.813820   \n",
       "2               1031  400005        87.130632  25882  18.909751  72.813732   \n",
       "\n",
       "   walk_time_to_nn  \n",
       "0        59.088209  \n",
       "1        56.766050  \n",
       "2        62.734055  "
      ]
     },
     "execution_count": 331,
     "metadata": {},
     "output_type": "execute_result"
    }
   ],
   "source": [
    "hh_nn[:3]"
   ]
  },
  {
   "cell_type": "code",
   "execution_count": 332,
   "metadata": {},
   "outputs": [
    {
     "data": {
      "text/html": [
       "<div>\n",
       "<style scoped>\n",
       "    .dataframe tbody tr th:only-of-type {\n",
       "        vertical-align: middle;\n",
       "    }\n",
       "\n",
       "    .dataframe tbody tr th {\n",
       "        vertical-align: top;\n",
       "    }\n",
       "\n",
       "    .dataframe thead th {\n",
       "        text-align: right;\n",
       "    }\n",
       "</style>\n",
       "<table border=\"1\" class=\"dataframe\">\n",
       "  <thead>\n",
       "    <tr style=\"text-align: right;\">\n",
       "      <th></th>\n",
       "      <th>NAME_2</th>\n",
       "      <th>PIN</th>\n",
       "      <th>geometry</th>\n",
       "      <th>NN</th>\n",
       "      <th>NN_dist</th>\n",
       "    </tr>\n",
       "  </thead>\n",
       "  <tbody>\n",
       "    <tr>\n",
       "      <th>0</th>\n",
       "      <td>Greater Bombay</td>\n",
       "      <td>0</td>\n",
       "      <td>POINT (72.96943284769529 19.1798709108074)</td>\n",
       "      <td>6900</td>\n",
       "      <td>0.008514</td>\n",
       "    </tr>\n",
       "    <tr>\n",
       "      <th>1</th>\n",
       "      <td>Greater Bombay</td>\n",
       "      <td>400005</td>\n",
       "      <td>POINT (72.81558260090947 18.90786843611552)</td>\n",
       "      <td>14366</td>\n",
       "      <td>0.000408</td>\n",
       "    </tr>\n",
       "    <tr>\n",
       "      <th>2</th>\n",
       "      <td>Greater Bombay</td>\n",
       "      <td>400021</td>\n",
       "      <td>POINT (72.82371588197657 18.92448769713017)</td>\n",
       "      <td>15004</td>\n",
       "      <td>0.000338</td>\n",
       "    </tr>\n",
       "  </tbody>\n",
       "</table>\n",
       "</div>"
      ],
      "text/plain": [
       "           NAME_2     PIN                                     geometry     NN  \\\n",
       "0  Greater Bombay       0   POINT (72.96943284769529 19.1798709108074)   6900   \n",
       "1  Greater Bombay  400005  POINT (72.81558260090947 18.90786843611552)  14366   \n",
       "2  Greater Bombay  400021  POINT (72.82371588197657 18.92448769713017)  15004   \n",
       "\n",
       "    NN_dist  \n",
       "0  0.008514  \n",
       "1  0.000408  \n",
       "2  0.000338  "
      ]
     },
     "execution_count": 332,
     "metadata": {},
     "output_type": "execute_result"
    }
   ],
   "source": [
    "# Get nodes for the input admin\n",
    "# snapping the employment by PIN centroids to the combo graph\n",
    "det_nn = gn.pandana_snap(g_combo_graph['avg_speed'], pin_codes_w_centroids)\n",
    "det_nn[:3]\n",
    "# for the destination nodes the nearest node distance will be disregarded, because the destinations are centroids \n",
    "# and inherently not precise, adding a walking time to the centroid will not add any value to the analysis"
   ]
  },
  {
   "cell_type": "code",
   "execution_count": 333,
   "metadata": {},
   "outputs": [
    {
     "name": "stdout",
     "output_type": "stream",
     "text": [
      "det_nn count\n",
      "107\n"
     ]
    }
   ],
   "source": [
    "det_nn = det_nn[['PIN', 'NN', 'geometry']]\n",
    "det_nn_gpd = gpd.GeoDataFrame(det_nn, geometry = 'geometry')\n",
    "det_nn_gpd['detlat'] = det_nn_gpd['geometry'].y\n",
    "det_nn_gpd['detlon'] = det_nn_gpd['geometry'].x\n",
    "det_nn_gpd.columns = ['PIN', \"detNN\", \"geometry\", \"detlat\", \"detlon\"]\n",
    "\n",
    "print('det_nn count')\n",
    "print(len(det_nn_gpd.index))"
   ]
  },
  {
   "cell_type": "code",
   "execution_count": 334,
   "metadata": {},
   "outputs": [
    {
     "data": {
      "text/html": [
       "<div>\n",
       "<style scoped>\n",
       "    .dataframe tbody tr th:only-of-type {\n",
       "        vertical-align: middle;\n",
       "    }\n",
       "\n",
       "    .dataframe tbody tr th {\n",
       "        vertical-align: top;\n",
       "    }\n",
       "\n",
       "    .dataframe thead th {\n",
       "        text-align: right;\n",
       "    }\n",
       "</style>\n",
       "<table border=\"1\" class=\"dataframe\">\n",
       "  <thead>\n",
       "    <tr style=\"text-align: right;\">\n",
       "      <th></th>\n",
       "      <th>PIN</th>\n",
       "      <th>detNN</th>\n",
       "      <th>geometry</th>\n",
       "      <th>detlat</th>\n",
       "      <th>detlon</th>\n",
       "    </tr>\n",
       "  </thead>\n",
       "  <tbody>\n",
       "    <tr>\n",
       "      <th>0</th>\n",
       "      <td>0</td>\n",
       "      <td>6900</td>\n",
       "      <td>POINT (72.96943284769529 19.1798709108074)</td>\n",
       "      <td>19.179871</td>\n",
       "      <td>72.969433</td>\n",
       "    </tr>\n",
       "    <tr>\n",
       "      <th>1</th>\n",
       "      <td>400005</td>\n",
       "      <td>14366</td>\n",
       "      <td>POINT (72.81558260090947 18.90786843611552)</td>\n",
       "      <td>18.907868</td>\n",
       "      <td>72.815583</td>\n",
       "    </tr>\n",
       "    <tr>\n",
       "      <th>2</th>\n",
       "      <td>400021</td>\n",
       "      <td>15004</td>\n",
       "      <td>POINT (72.82371588197657 18.92448769713017)</td>\n",
       "      <td>18.924488</td>\n",
       "      <td>72.823716</td>\n",
       "    </tr>\n",
       "    <tr>\n",
       "      <th>3</th>\n",
       "      <td>400039</td>\n",
       "      <td>11624</td>\n",
       "      <td>POINT (72.82977080668174 18.92444826663544)</td>\n",
       "      <td>18.924448</td>\n",
       "      <td>72.829771</td>\n",
       "    </tr>\n",
       "  </tbody>\n",
       "</table>\n",
       "</div>"
      ],
      "text/plain": [
       "      PIN  detNN                                     geometry     detlat  \\\n",
       "0       0   6900   POINT (72.96943284769529 19.1798709108074)  19.179871   \n",
       "1  400005  14366  POINT (72.81558260090947 18.90786843611552)  18.907868   \n",
       "2  400021  15004  POINT (72.82371588197657 18.92448769713017)  18.924488   \n",
       "3  400039  11624  POINT (72.82977080668174 18.92444826663544)  18.924448   \n",
       "\n",
       "      detlon  \n",
       "0  72.969433  \n",
       "1  72.815583  \n",
       "2  72.823716  \n",
       "3  72.829771  "
      ]
     },
     "execution_count": 334,
     "metadata": {},
     "output_type": "execute_result"
    }
   ],
   "source": [
    "det_nn_gpd[:4]"
   ]
  },
  {
   "cell_type": "code",
   "execution_count": 335,
   "metadata": {},
   "outputs": [
    {
     "data": {
      "text/plain": [
       "Index(['PIN', 'detNN', 'geometry', 'detlat', 'detlon'], dtype='object')"
      ]
     },
     "execution_count": 335,
     "metadata": {},
     "output_type": "execute_result"
    }
   ],
   "source": [
    "det_nn_gpd.keys()"
   ]
  },
  {
   "cell_type": "code",
   "execution_count": 336,
   "metadata": {},
   "outputs": [],
   "source": [
    "# to make sure PIN is unique, get rid of '0' rows.\n",
    "det_nn_gpd = det_nn[det_nn['PIN'] != 0]"
   ]
  },
  {
   "cell_type": "code",
   "execution_count": 337,
   "metadata": {},
   "outputs": [
    {
     "data": {
      "text/html": [
       "<div>\n",
       "<style scoped>\n",
       "    .dataframe tbody tr th:only-of-type {\n",
       "        vertical-align: middle;\n",
       "    }\n",
       "\n",
       "    .dataframe tbody tr th {\n",
       "        vertical-align: top;\n",
       "    }\n",
       "\n",
       "    .dataframe thead th {\n",
       "        text-align: right;\n",
       "    }\n",
       "</style>\n",
       "<table border=\"1\" class=\"dataframe\">\n",
       "  <thead>\n",
       "    <tr style=\"text-align: right;\">\n",
       "      <th></th>\n",
       "      <th>PIN</th>\n",
       "      <th>detNN</th>\n",
       "      <th>geometry</th>\n",
       "      <th>detlat</th>\n",
       "      <th>detlon</th>\n",
       "    </tr>\n",
       "  </thead>\n",
       "  <tbody>\n",
       "    <tr>\n",
       "      <th>1</th>\n",
       "      <td>400005</td>\n",
       "      <td>14366</td>\n",
       "      <td>POINT (72.81558260090947 18.90786843611552)</td>\n",
       "      <td>18.907868</td>\n",
       "      <td>72.815583</td>\n",
       "    </tr>\n",
       "    <tr>\n",
       "      <th>2</th>\n",
       "      <td>400021</td>\n",
       "      <td>15004</td>\n",
       "      <td>POINT (72.82371588197657 18.92448769713017)</td>\n",
       "      <td>18.924488</td>\n",
       "      <td>72.823716</td>\n",
       "    </tr>\n",
       "    <tr>\n",
       "      <th>3</th>\n",
       "      <td>400039</td>\n",
       "      <td>11624</td>\n",
       "      <td>POINT (72.82977080668174 18.92444826663544)</td>\n",
       "      <td>18.924448</td>\n",
       "      <td>72.829771</td>\n",
       "    </tr>\n",
       "    <tr>\n",
       "      <th>4</th>\n",
       "      <td>400032</td>\n",
       "      <td>20896</td>\n",
       "      <td>POINT (72.82565902971034 18.92695446518702)</td>\n",
       "      <td>18.926954</td>\n",
       "      <td>72.825659</td>\n",
       "    </tr>\n",
       "  </tbody>\n",
       "</table>\n",
       "</div>"
      ],
      "text/plain": [
       "      PIN  detNN                                     geometry     detlat  \\\n",
       "1  400005  14366  POINT (72.81558260090947 18.90786843611552)  18.907868   \n",
       "2  400021  15004  POINT (72.82371588197657 18.92448769713017)  18.924488   \n",
       "3  400039  11624  POINT (72.82977080668174 18.92444826663544)  18.924448   \n",
       "4  400032  20896  POINT (72.82565902971034 18.92695446518702)  18.926954   \n",
       "\n",
       "      detlon  \n",
       "1  72.815583  \n",
       "2  72.823716  \n",
       "3  72.829771  \n",
       "4  72.825659  "
      ]
     },
     "execution_count": 337,
     "metadata": {},
     "output_type": "execute_result"
    }
   ],
   "source": [
    "det_nn_gpd[:4]"
   ]
  },
  {
   "cell_type": "code",
   "execution_count": 338,
   "metadata": {},
   "outputs": [
    {
     "name": "stdout",
     "output_type": "stream",
     "text": [
      "comboData count\n",
      "2957\n"
     ]
    }
   ],
   "source": [
    "# Combine Data\n",
    "# The default is 'inner', which is like a SQL inner join, which selects all rows from both tables as long as there is a match between the columns\n",
    "# In this case, only the rows that contain PIN values that are common between hh_nn and det_nn remain in the merged data\n",
    "# This can explain how there are less rows after the merge, for example the certain PIN values don't exist in the PIN centroids dataset\n",
    "comboData = pd.merge(hh_nn, det_nn_gpd, on='PIN')\n",
    "\n",
    "print('comboData count')\n",
    "print(len(comboData.index))"
   ]
  },
  {
   "cell_type": "code",
   "execution_count": 339,
   "metadata": {},
   "outputs": [
    {
     "data": {
      "text/html": [
       "<div>\n",
       "<style scoped>\n",
       "    .dataframe tbody tr th:only-of-type {\n",
       "        vertical-align: middle;\n",
       "    }\n",
       "\n",
       "    .dataframe tbody tr th {\n",
       "        vertical-align: top;\n",
       "    }\n",
       "\n",
       "    .dataframe thead th {\n",
       "        text-align: right;\n",
       "    }\n",
       "</style>\n",
       "<table border=\"1\" class=\"dataframe\">\n",
       "  <thead>\n",
       "    <tr style=\"text-align: right;\">\n",
       "      <th></th>\n",
       "      <th>unique_respondent</th>\n",
       "      <th>PIN</th>\n",
       "      <th>walk_dist_to_nn</th>\n",
       "      <th>hhNN</th>\n",
       "      <th>hhlat</th>\n",
       "      <th>hhlon</th>\n",
       "      <th>walk_time_to_nn</th>\n",
       "      <th>detNN</th>\n",
       "      <th>geometry</th>\n",
       "      <th>detlat</th>\n",
       "      <th>detlon</th>\n",
       "    </tr>\n",
       "  </thead>\n",
       "  <tbody>\n",
       "    <tr>\n",
       "      <th>0</th>\n",
       "      <td>1011</td>\n",
       "      <td>400005</td>\n",
       "      <td>82.066957</td>\n",
       "      <td>25882</td>\n",
       "      <td>18.909705</td>\n",
       "      <td>72.813837</td>\n",
       "      <td>59.088209</td>\n",
       "      <td>14366</td>\n",
       "      <td>POINT (72.81558260090947 18.90786843611552)</td>\n",
       "      <td>18.907868</td>\n",
       "      <td>72.815583</td>\n",
       "    </tr>\n",
       "    <tr>\n",
       "      <th>1</th>\n",
       "      <td>1031</td>\n",
       "      <td>400005</td>\n",
       "      <td>87.130632</td>\n",
       "      <td>25882</td>\n",
       "      <td>18.909751</td>\n",
       "      <td>72.813732</td>\n",
       "      <td>62.734055</td>\n",
       "      <td>14366</td>\n",
       "      <td>POINT (72.81558260090947 18.90786843611552)</td>\n",
       "      <td>18.907868</td>\n",
       "      <td>72.815583</td>\n",
       "    </tr>\n",
       "    <tr>\n",
       "      <th>2</th>\n",
       "      <td>1041</td>\n",
       "      <td>400005</td>\n",
       "      <td>86.183517</td>\n",
       "      <td>25882</td>\n",
       "      <td>18.909460</td>\n",
       "      <td>72.814240</td>\n",
       "      <td>62.052132</td>\n",
       "      <td>14366</td>\n",
       "      <td>POINT (72.81558260090947 18.90786843611552)</td>\n",
       "      <td>18.907868</td>\n",
       "      <td>72.815583</td>\n",
       "    </tr>\n",
       "    <tr>\n",
       "      <th>3</th>\n",
       "      <td>2011</td>\n",
       "      <td>400005</td>\n",
       "      <td>37.877030</td>\n",
       "      <td>19229</td>\n",
       "      <td>18.941155</td>\n",
       "      <td>72.832300</td>\n",
       "      <td>27.271462</td>\n",
       "      <td>14366</td>\n",
       "      <td>POINT (72.81558260090947 18.90786843611552)</td>\n",
       "      <td>18.907868</td>\n",
       "      <td>72.815583</td>\n",
       "    </tr>\n",
       "    <tr>\n",
       "      <th>4</th>\n",
       "      <td>3011</td>\n",
       "      <td>400005</td>\n",
       "      <td>35.423199</td>\n",
       "      <td>8252</td>\n",
       "      <td>18.915563</td>\n",
       "      <td>72.828682</td>\n",
       "      <td>25.504703</td>\n",
       "      <td>14366</td>\n",
       "      <td>POINT (72.81558260090947 18.90786843611552)</td>\n",
       "      <td>18.907868</td>\n",
       "      <td>72.815583</td>\n",
       "    </tr>\n",
       "  </tbody>\n",
       "</table>\n",
       "</div>"
      ],
      "text/plain": [
       "   unique_respondent     PIN  walk_dist_to_nn   hhNN      hhlat      hhlon  \\\n",
       "0               1011  400005        82.066957  25882  18.909705  72.813837   \n",
       "1               1031  400005        87.130632  25882  18.909751  72.813732   \n",
       "2               1041  400005        86.183517  25882  18.909460  72.814240   \n",
       "3               2011  400005        37.877030  19229  18.941155  72.832300   \n",
       "4               3011  400005        35.423199   8252  18.915563  72.828682   \n",
       "\n",
       "   walk_time_to_nn  detNN                                     geometry  \\\n",
       "0        59.088209  14366  POINT (72.81558260090947 18.90786843611552)   \n",
       "1        62.734055  14366  POINT (72.81558260090947 18.90786843611552)   \n",
       "2        62.052132  14366  POINT (72.81558260090947 18.90786843611552)   \n",
       "3        27.271462  14366  POINT (72.81558260090947 18.90786843611552)   \n",
       "4        25.504703  14366  POINT (72.81558260090947 18.90786843611552)   \n",
       "\n",
       "      detlat     detlon  \n",
       "0  18.907868  72.815583  \n",
       "1  18.907868  72.815583  \n",
       "2  18.907868  72.815583  \n",
       "3  18.907868  72.815583  \n",
       "4  18.907868  72.815583  "
      ]
     },
     "execution_count": 339,
     "metadata": {},
     "output_type": "execute_result"
    }
   ],
   "source": [
    "comboData[:5]"
   ]
  },
  {
   "cell_type": "markdown",
   "metadata": {},
   "source": [
    "## Calculate the shortest paths for each of the combo graphs"
   ]
  },
  {
   "cell_type": "code",
   "execution_count": 340,
   "metadata": {},
   "outputs": [],
   "source": [
    "for key in g_combo_graph:\n",
    "    # Driving, Rail, and Driving & Rail distance from the individual to their workplace\n",
    "    drive_Vals = []\n",
    "    rail_Vals = []\n",
    "    drive_and_rail_Vals = []\n",
    "    walk_Vals = []\n",
    "    euclidean_Vals = []\n",
    "    for idx, row in comboData.iterrows():\n",
    "        #distance1 = nx.shortest_path_length(G_combo, row['hhNN'], row['detNN'], weight='time') + row['walk_time_to_nn']\n",
    "        distance1 = nx.shortest_path_length(g_combo_graph[key], row['hhNN'], row['detNN'], weight='time') + row['walk_time_to_nn']\n",
    "        drive_Vals.append(distance1)\n",
    "    comboData['driveToWork'] = drive_Vals\n",
    "    for idx, row in comboData.iterrows():\n",
    "        distance2 = nx.shortest_path_length(g_combo_graph[key], row['hhNN'], row['detNN'], weight='rail_time') + row['walk_time_to_nn']\n",
    "        rail_Vals.append(distance2)\n",
    "    comboData['railToWork'] = rail_Vals\n",
    "    for idx, row in comboData.iterrows():\n",
    "        distance3 = nx.shortest_path_length(g_combo_graph[key], row['hhNN'], row['detNN'], weight='road_and_rail_time') + row['walk_time_to_nn']\n",
    "        drive_and_rail_Vals.append(distance3)\n",
    "    comboData['DriveandRailToWork'] = drive_and_rail_Vals\n",
    "    for idx, row in comboData.iterrows():\n",
    "        distance4 = nx.shortest_path_length(g_combo_graph[key], row['hhNN'], row['detNN'], weight='walk_time') + row['walk_time_to_nn']\n",
    "        walk_Vals.append(distance4)\n",
    "    comboData['WalkToWork'] = walk_Vals\n",
    "    for idx, row in comboData.iterrows():\n",
    "        #returns in km\n",
    "        euclidean_distance = gn.euclidean_distance(row['hhlat'], row['hhlon'], row['detlat'], row['detlon'])\n",
    "        euclidean_Vals.append(euclidean_distance)\n",
    "    comboData['euclidean_distance_km'] = euclidean_Vals\n",
    "    \n",
    "    comboData.to_csv(inHouseholds.replace(\".csv\", \"_all_Distances_%s.csv\" % key))\n",
    "    xx = pd.merge(inH, comboData, on = 'unique_respondent', how = 'left')\n",
    "    xx.to_csv(inHouseholds.replace(\".csv\", \"_all_Distances_merged_%s.csv\" % key))"
   ]
  },
  {
   "cell_type": "markdown",
   "metadata": {},
   "source": [
    "## Run analysis 2 (household accessibilty index) & 3 (number of jobs accessible to households)\n",
    "### This analysis is done on sections instead of pin codes"
   ]
  },
  {
   "cell_type": "code",
   "execution_count": 341,
   "metadata": {},
   "outputs": [],
   "source": [
    "hh_nn.columns = ['unique_respondent', 'PIN','walk_dist_to_nn','NN', 'hhlat', 'hhlon','walk_time_to_nn']"
   ]
  },
  {
   "cell_type": "code",
   "execution_count": 342,
   "metadata": {},
   "outputs": [],
   "source": [
    "originNodes = list(hh_nn['NN'].unique())"
   ]
  },
  {
   "cell_type": "code",
   "execution_count": 343,
   "metadata": {},
   "outputs": [
    {
     "data": {
      "text/plain": [
       "[25882, 19229, 8252, 8311, 13525, 25969, 14366, 13529, 8846]"
      ]
     },
     "execution_count": 343,
     "metadata": {},
     "output_type": "execute_result"
    }
   ],
   "source": [
    "originNodes[:9]"
   ]
  },
  {
   "cell_type": "code",
   "execution_count": 344,
   "metadata": {
    "scrolled": true
   },
   "outputs": [
    {
     "name": "stdout",
     "output_type": "stream",
     "text": [
      "True\n"
     ]
    }
   ],
   "source": [
    "# check to test if list is unique, if flag is true, then the list is unique\n",
    "flag = 0  \n",
    "# using set() + len() \n",
    "# to check all unique list elements \n",
    "flag = len(set(originNodes)) == len(originNodes) \n",
    "print(flag)"
   ]
  },
  {
   "cell_type": "code",
   "execution_count": 345,
   "metadata": {},
   "outputs": [],
   "source": [
    "#Identify destinationNodes\n",
    "det_nn_section = gn.pandana_snap(g_combo_graph['avg_speed'], inJ_cen_by_section)"
   ]
  },
  {
   "cell_type": "code",
   "execution_count": 346,
   "metadata": {},
   "outputs": [
    {
     "data": {
      "text/html": [
       "<div>\n",
       "<style scoped>\n",
       "    .dataframe tbody tr th:only-of-type {\n",
       "        vertical-align: middle;\n",
       "    }\n",
       "\n",
       "    .dataframe tbody tr th {\n",
       "        vertical-align: top;\n",
       "    }\n",
       "\n",
       "    .dataframe thead th {\n",
       "        text-align: right;\n",
       "    }\n",
       "</style>\n",
       "<table border=\"1\" class=\"dataframe\">\n",
       "  <thead>\n",
       "    <tr style=\"text-align: right;\">\n",
       "      <th></th>\n",
       "      <th>WARD_ID</th>\n",
       "      <th>WARD_NO</th>\n",
       "      <th>NAME</th>\n",
       "      <th>MUNI_WARD</th>\n",
       "      <th>C_CODE11</th>\n",
       "      <th>CITY</th>\n",
       "      <th>STATE_UT</th>\n",
       "      <th>TOT_HH</th>\n",
       "      <th>TOT_POP</th>\n",
       "      <th>M_POP</th>\n",
       "      <th>...</th>\n",
       "      <th>M_NNW</th>\n",
       "      <th>F_NNW</th>\n",
       "      <th>geometry</th>\n",
       "      <th>section</th>\n",
       "      <th>TOTAL_WORKERS</th>\n",
       "      <th>male_num</th>\n",
       "      <th>female_num</th>\n",
       "      <th>Number of units</th>\n",
       "      <th>NN</th>\n",
       "      <th>NN_dist</th>\n",
       "    </tr>\n",
       "  </thead>\n",
       "  <tbody>\n",
       "    <tr>\n",
       "      <th>0</th>\n",
       "      <td>74</td>\n",
       "      <td>74</td>\n",
       "      <td>Greater Mumbai (M Corp.) (Part) WARD NO.-1874</td>\n",
       "      <td>R NORTH</td>\n",
       "      <td>27518999998027941874</td>\n",
       "      <td>Greater Mumbai</td>\n",
       "      <td>Maharashtra</td>\n",
       "      <td>36517</td>\n",
       "      <td>154540</td>\n",
       "      <td>81975</td>\n",
       "      <td>...</td>\n",
       "      <td>33880</td>\n",
       "      <td>59607</td>\n",
       "      <td>POINT (72.86367396993295 19.26007731432633)</td>\n",
       "      <td>74</td>\n",
       "      <td>24891</td>\n",
       "      <td>21104</td>\n",
       "      <td>3787</td>\n",
       "      <td>8,523</td>\n",
       "      <td>21509</td>\n",
       "      <td>0.000410</td>\n",
       "    </tr>\n",
       "    <tr>\n",
       "      <th>1</th>\n",
       "      <td>71</td>\n",
       "      <td>71</td>\n",
       "      <td>Greater Mumbai (M Corp.) (Part) WARD NO.-1771</td>\n",
       "      <td>R CENTRAL</td>\n",
       "      <td>27518999998027941771</td>\n",
       "      <td>Greater Mumbai</td>\n",
       "      <td>Maharashtra</td>\n",
       "      <td>1382</td>\n",
       "      <td>6060</td>\n",
       "      <td>3332</td>\n",
       "      <td>...</td>\n",
       "      <td>1284</td>\n",
       "      <td>1726</td>\n",
       "      <td>POINT (72.80193715484089 19.23995946389579)</td>\n",
       "      <td>71</td>\n",
       "      <td>908</td>\n",
       "      <td>685</td>\n",
       "      <td>223</td>\n",
       "      <td>544</td>\n",
       "      <td>23366</td>\n",
       "      <td>0.021754</td>\n",
       "    </tr>\n",
       "    <tr>\n",
       "      <th>2</th>\n",
       "      <td>72</td>\n",
       "      <td>72</td>\n",
       "      <td>Greater Mumbai (M Corp.) (Part) WARD NO.-1772</td>\n",
       "      <td>R CENTRAL</td>\n",
       "      <td>27518999998027941772</td>\n",
       "      <td>Greater Mumbai</td>\n",
       "      <td>Maharashtra</td>\n",
       "      <td>21044</td>\n",
       "      <td>91245</td>\n",
       "      <td>48006</td>\n",
       "      <td>...</td>\n",
       "      <td>19465</td>\n",
       "      <td>35022</td>\n",
       "      <td>POINT (72.86037885584142 19.22328990277008)</td>\n",
       "      <td>72</td>\n",
       "      <td>19323</td>\n",
       "      <td>15917</td>\n",
       "      <td>3406</td>\n",
       "      <td>5,468</td>\n",
       "      <td>25579</td>\n",
       "      <td>0.001097</td>\n",
       "    </tr>\n",
       "  </tbody>\n",
       "</table>\n",
       "<p>3 rows × 100 columns</p>\n",
       "</div>"
      ],
      "text/plain": [
       "   WARD_ID  WARD_NO                                           NAME  MUNI_WARD  \\\n",
       "0       74       74  Greater Mumbai (M Corp.) (Part) WARD NO.-1874    R NORTH   \n",
       "1       71       71  Greater Mumbai (M Corp.) (Part) WARD NO.-1771  R CENTRAL   \n",
       "2       72       72  Greater Mumbai (M Corp.) (Part) WARD NO.-1772  R CENTRAL   \n",
       "\n",
       "               C_CODE11            CITY     STATE_UT  TOT_HH  TOT_POP  M_POP  \\\n",
       "0  27518999998027941874  Greater Mumbai  Maharashtra   36517   154540  81975   \n",
       "1  27518999998027941771  Greater Mumbai  Maharashtra    1382     6060   3332   \n",
       "2  27518999998027941772  Greater Mumbai  Maharashtra   21044    91245  48006   \n",
       "\n",
       "   ...  M_NNW  F_NNW                                     geometry  section  \\\n",
       "0  ...  33880  59607  POINT (72.86367396993295 19.26007731432633)       74   \n",
       "1  ...   1284   1726  POINT (72.80193715484089 19.23995946389579)       71   \n",
       "2  ...  19465  35022  POINT (72.86037885584142 19.22328990277008)       72   \n",
       "\n",
       "   TOTAL_WORKERS  male_num  female_num  Number of units     NN   NN_dist  \n",
       "0          24891     21104        3787            8,523  21509  0.000410  \n",
       "1            908       685         223              544  23366  0.021754  \n",
       "2          19323     15917        3406            5,468  25579  0.001097  \n",
       "\n",
       "[3 rows x 100 columns]"
      ]
     },
     "execution_count": 346,
     "metadata": {},
     "output_type": "execute_result"
    }
   ],
   "source": [
    "det_nn_section[:3]"
   ]
  },
  {
   "cell_type": "code",
   "execution_count": 347,
   "metadata": {},
   "outputs": [],
   "source": [
    "destNodes = list(det_nn_section['NN'].unique())"
   ]
  },
  {
   "cell_type": "code",
   "execution_count": 348,
   "metadata": {},
   "outputs": [
    {
     "data": {
      "text/plain": [
       "[21509, 23366, 25579]"
      ]
     },
     "execution_count": 348,
     "metadata": {},
     "output_type": "execute_result"
    }
   ],
   "source": [
    "destNodes[:3]"
   ]
  },
  {
   "cell_type": "code",
   "execution_count": 349,
   "metadata": {},
   "outputs": [],
   "source": [
    "for key in g_combo_graph:\n",
    "\n",
    "    # Calculate OD matrix\n",
    "    # for the output matrices the order of the orgins and destinations are preserved\n",
    "    od_driving = gn.calculate_OD(g_combo_graph[key], originNodes, destNodes, fail_value=-1, weight='time')\n",
    "    od_rail = gn.calculate_OD(g_combo_graph[key], originNodes, destNodes, fail_value=-1, weight='rail_time')\n",
    "    od_driving_and_rail = gn.calculate_OD(g_combo_graph[key], originNodes, destNodes, fail_value=-1, weight='road_and_rail_time')\n",
    "\n",
    "    # Calculate the gravity weighted jobs access for driving & rail, as well as for total workers, male, and female)\n",
    "    # note that the origins do not have weights in this scenario\n",
    "    hh_out = hh_nn.copy()\n",
    "\n",
    "    originWeights = 1\n",
    "\n",
    "    # dist_decay represents a half-life of 1 hour\n",
    "    dist_decay = .00019\n",
    "    decayFunction = lambda x: np.exp(-1 * dist_decay * x)\n",
    "\n",
    "    for odType in ['driving', 'rail', 'od_driving_and_rail']:\n",
    "        od = od_driving\n",
    "        if odType == \"rail\":\n",
    "            od = od_rail\n",
    "        if odType == \"od_driving_and_rail\":\n",
    "            od = od_driving_and_rail\n",
    "        for weightColumn in ['TOTAL_WORKERS','male_num','female_num']:\n",
    "            for travel_time in [1800,3600,5400]:\n",
    "\n",
    "                destWeights = det_nn_section[weightColumn]\n",
    "                #print(destWeights)\n",
    "                # I think we should normalize the destination weights using min-max normalization\n",
    "                destWeights_normalized = destWeights.copy()\n",
    "                destWeights_normalized = (destWeights_normalized - destWeights_normalized.min())/(destWeights.max()-destWeights.min())\n",
    "\n",
    "                normalized_OD = od\n",
    "\n",
    "                # this zeros out the outOD matrix\n",
    "                outOD = od * 0\n",
    "\n",
    "                for row in range(0, od.shape[0]):\n",
    "                    curRow = normalized_OD[row,:]\n",
    "                    decayedRow = decayFunction(curRow)\n",
    "                    weightedRow = decayedRow * destWeights_normalized * originWeights\n",
    "                    outOD[row,:] = weightedRow\n",
    "\n",
    "                # Calculate the origin sum weights for each node\n",
    "                weightedDistance = np.sum(outOD, axis=1)\n",
    "\n",
    "                resultweights = pd.DataFrame([originNodes, weightedDistance]).transpose()\n",
    "                colName = \"%s_%s_%s\" % (odType, weightColumn, travel_time)\n",
    "                resultweights.columns = ['NN', colName]\n",
    "                hh_out = pd.merge(hh_out, resultweights, on=\"NN\")\n",
    "\n",
    "    hh_out.to_csv(os.path.join(outputFolder, \"weighted_distance_all_JOBS_%s.csv\" % key))\n",
    "\n",
    "    # Run analysis 3 - number of jobs accessible to households\n",
    "\n",
    "    hh_out2 = hh_nn.copy()\n",
    "\n",
    "    for odType in ['driving', 'rail', 'od_driving_and_rail']:\n",
    "        od = od_driving\n",
    "        if odType == \"rail\":\n",
    "            od = od_rail\n",
    "        if odType == \"od_driving_and_rail\":\n",
    "            od = od_driving_and_rail\n",
    "        for weightColumn in ['TOTAL_WORKERS','male_num','female_num']:\n",
    "            for travel_time in [1800,3600,5400]:\n",
    "\n",
    "                jobs_number_series = det_nn_section[weightColumn]\n",
    "\n",
    "                jobOD = np.where(od <= travel_time, 1, 0)\n",
    "\n",
    "                jobs_accessible = jobs_number_series.values * jobOD\n",
    "\n",
    "                jobs_accessible_per_hh = np.sum(jobs_accessible, axis=1)\n",
    "\n",
    "                resultweights2 = pd.DataFrame([originNodes, jobs_accessible_per_hh]).transpose()\n",
    "                colName = \"%s_%s_%s\" % (odType, weightColumn, travel_time)\n",
    "                resultweights2.columns = ['NN', colName]\n",
    "                #results2[colName] = resultweights2\n",
    "                hh_out2 = pd.merge(hh_out2, resultweights2, on=\"NN\")\n",
    "\n",
    "    hh_out2.to_csv(os.path.join(outputFolder, \"total_jobs_accessible_JOBS_%s.csv\" % key)) # Calculate the job accessible per household for driving & rail, as well as for total workers, male, and female)"
   ]
  },
  {
   "cell_type": "markdown",
   "metadata": {},
   "source": [
    "# Mumbai Travel time for trips\n",
    "\n",
    "The dataset is named \"2019_08_14_trip_data_processed_diff_dest\". \n",
    "\n",
    "1. We are calculating the travel time for each trip from their origin to their work place PIN code; estimated travel time (analysis 1)\n",
    "          a. Calculate distance from house to workplace using (i) road network; (ii) rail network \n",
    "          b. Calculate travel time via road network and rail network\n",
    "          c. Calculate travel time via walking\n",
    "          d. Calculate Euclidean distance from house to workplace for each worker \n",
    "\n",
    "**note that not all the households could be matched to PIN codes, for example, there is no 400000 PIN code in the dataset.**\n",
    "\n",
    "### The parameters are used in our model:\n",
    "\n",
    "- metroSpeed = 35 #kph\n",
    "- railSpeed = 40 #kph\n",
    "- station_wait = 30 #seconds\n",
    "- walk_speed = 5 #kph"
   ]
  },
  {
   "cell_type": "code",
   "execution_count": 350,
   "metadata": {},
   "outputs": [
    {
     "name": "stdout",
     "output_type": "stream",
     "text": [
      "3227\n"
     ]
    }
   ],
   "source": [
    "inHouseholds_trips = os.path.join(inputFolder2, \"2019_08_14_trip_data_processed_diff_dest.csv\")\n",
    "inHT = pd.read_csv(inHouseholds_trips)\n",
    "inHT[:5]\n",
    "print(len(inHT))"
   ]
  },
  {
   "cell_type": "code",
   "execution_count": 351,
   "metadata": {},
   "outputs": [
    {
     "data": {
      "text/plain": [
       "Index(['unique_trip', 'tripid', 'lat', 'long', 'purpose  ', 'origin_address',\n",
       "       'pin_origin   ', 'Origin Ward      ',\n",
       "       'Destination Address of Trip      ', 'pin_destination',\n",
       "       '      Destination Ward         ', 'if_same_origin_dest'],\n",
       "      dtype='object')"
      ]
     },
     "execution_count": 351,
     "metadata": {},
     "output_type": "execute_result"
    }
   ],
   "source": [
    "inHT.keys()"
   ]
  },
  {
   "cell_type": "code",
   "execution_count": 352,
   "metadata": {},
   "outputs": [],
   "source": [
    "# Group the data frame by id and item\n",
    "householdLocations_w_trips = pd.DataFrame(inHT.groupby(\n",
    "   ['unique_trip']\n",
    ").agg(\n",
    "    {\n",
    "         'lat':\"mean\",    # Sum duration per group\n",
    "         'long': \"mean\",\n",
    "         'pin_destination': \"first\"\n",
    "    }\n",
    "))"
   ]
  },
  {
   "cell_type": "markdown",
   "metadata": {},
   "source": [
    "### create a geodataframe of the households"
   ]
  },
  {
   "cell_type": "code",
   "execution_count": 353,
   "metadata": {},
   "outputs": [],
   "source": [
    "hh = householdLocations_w_trips\n",
    "hh['geometry'] = hh.apply(lambda x: Point(x['long'], x['lat']), axis=1)\n",
    "hh = gpd.GeoDataFrame(hh, geometry=\"geometry\")\n",
    "hh.crs = {'init': 'epsg:4326'}\n",
    "hh = hh.reset_index()\n",
    "hh = hh[[x.is_valid for x in hh['geometry']]]"
   ]
  },
  {
   "cell_type": "markdown",
   "metadata": {},
   "source": [
    "### snap the households geodataframe to a single combo graph"
   ]
  },
  {
   "cell_type": "code",
   "execution_count": 354,
   "metadata": {},
   "outputs": [],
   "source": [
    "hh_nn = gn.pandana_snap(g_combo_graph['avg_speed'], hh, target_crs = 'epsg:32643')"
   ]
  },
  {
   "cell_type": "code",
   "execution_count": 355,
   "metadata": {},
   "outputs": [
    {
     "data": {
      "text/html": [
       "<div>\n",
       "<style scoped>\n",
       "    .dataframe tbody tr th:only-of-type {\n",
       "        vertical-align: middle;\n",
       "    }\n",
       "\n",
       "    .dataframe tbody tr th {\n",
       "        vertical-align: top;\n",
       "    }\n",
       "\n",
       "    .dataframe thead th {\n",
       "        text-align: right;\n",
       "    }\n",
       "</style>\n",
       "<table border=\"1\" class=\"dataframe\">\n",
       "  <thead>\n",
       "    <tr style=\"text-align: right;\">\n",
       "      <th></th>\n",
       "      <th>unique_trip</th>\n",
       "      <th>lat</th>\n",
       "      <th>long</th>\n",
       "      <th>pin_destination</th>\n",
       "      <th>geometry</th>\n",
       "      <th>NN</th>\n",
       "      <th>NN_dist</th>\n",
       "    </tr>\n",
       "  </thead>\n",
       "  <tbody>\n",
       "    <tr>\n",
       "      <th>0</th>\n",
       "      <td>201101</td>\n",
       "      <td>18.941155</td>\n",
       "      <td>72.832300</td>\n",
       "      <td>400005</td>\n",
       "      <td>POINT (72.8323 18.941155)</td>\n",
       "      <td>19229</td>\n",
       "      <td>37.877030</td>\n",
       "    </tr>\n",
       "    <tr>\n",
       "      <th>1</th>\n",
       "      <td>201102</td>\n",
       "      <td>18.941155</td>\n",
       "      <td>72.832300</td>\n",
       "      <td>400001</td>\n",
       "      <td>POINT (72.8323 18.941155)</td>\n",
       "      <td>19229</td>\n",
       "      <td>37.877030</td>\n",
       "    </tr>\n",
       "    <tr>\n",
       "      <th>2</th>\n",
       "      <td>202101</td>\n",
       "      <td>18.941184</td>\n",
       "      <td>72.832227</td>\n",
       "      <td>400002</td>\n",
       "      <td>POINT (72.832227 18.941184)</td>\n",
       "      <td>19229</td>\n",
       "      <td>38.886073</td>\n",
       "    </tr>\n",
       "  </tbody>\n",
       "</table>\n",
       "</div>"
      ],
      "text/plain": [
       "   unique_trip        lat       long  pin_destination  \\\n",
       "0       201101  18.941155  72.832300           400005   \n",
       "1       201102  18.941155  72.832300           400001   \n",
       "2       202101  18.941184  72.832227           400002   \n",
       "\n",
       "                      geometry     NN    NN_dist  \n",
       "0    POINT (72.8323 18.941155)  19229  37.877030  \n",
       "1    POINT (72.8323 18.941155)  19229  37.877030  \n",
       "2  POINT (72.832227 18.941184)  19229  38.886073  "
      ]
     },
     "execution_count": 355,
     "metadata": {},
     "output_type": "execute_result"
    }
   ],
   "source": [
    "hh_nn[:3]"
   ]
  },
  {
   "cell_type": "code",
   "execution_count": 356,
   "metadata": {},
   "outputs": [
    {
     "name": "stdout",
     "output_type": "stream",
     "text": [
      "hh_nn count\n",
      "3227\n"
     ]
    }
   ],
   "source": [
    "hh_nn = hh_nn[['unique_trip','pin_destination','NN_dist','NN', 'lat', 'long']]\n",
    "hh_nn.columns = ['unique_trip', 'PIN','walk_dist_to_nn','hhNN', 'hhlat', 'hhlon']\n",
    "\n",
    "print('hh_nn count')\n",
    "print(len(hh_nn.index))"
   ]
  },
  {
   "cell_type": "markdown",
   "metadata": {},
   "source": [
    "### add walking speed to the nearest node"
   ]
  },
  {
   "cell_type": "code",
   "execution_count": 357,
   "metadata": {},
   "outputs": [],
   "source": [
    "walk_speed = 5 #kph\n",
    "# generating walk time in seconds\n",
    "hh_nn['walk_time_to_nn'] = hh_nn['walk_dist_to_nn'] / 1000 / walk_speed * 3600"
   ]
  },
  {
   "cell_type": "code",
   "execution_count": 358,
   "metadata": {},
   "outputs": [
    {
     "data": {
      "text/html": [
       "<div>\n",
       "<style scoped>\n",
       "    .dataframe tbody tr th:only-of-type {\n",
       "        vertical-align: middle;\n",
       "    }\n",
       "\n",
       "    .dataframe tbody tr th {\n",
       "        vertical-align: top;\n",
       "    }\n",
       "\n",
       "    .dataframe thead th {\n",
       "        text-align: right;\n",
       "    }\n",
       "</style>\n",
       "<table border=\"1\" class=\"dataframe\">\n",
       "  <thead>\n",
       "    <tr style=\"text-align: right;\">\n",
       "      <th></th>\n",
       "      <th>PIN</th>\n",
       "      <th>detNN</th>\n",
       "      <th>geometry</th>\n",
       "      <th>detlat</th>\n",
       "      <th>detlon</th>\n",
       "    </tr>\n",
       "  </thead>\n",
       "  <tbody>\n",
       "    <tr>\n",
       "      <th>1</th>\n",
       "      <td>400005</td>\n",
       "      <td>14366</td>\n",
       "      <td>POINT (72.81558260090947 18.90786843611552)</td>\n",
       "      <td>18.907868</td>\n",
       "      <td>72.815583</td>\n",
       "    </tr>\n",
       "    <tr>\n",
       "      <th>2</th>\n",
       "      <td>400021</td>\n",
       "      <td>15004</td>\n",
       "      <td>POINT (72.82371588197657 18.92448769713017)</td>\n",
       "      <td>18.924488</td>\n",
       "      <td>72.823716</td>\n",
       "    </tr>\n",
       "    <tr>\n",
       "      <th>3</th>\n",
       "      <td>400039</td>\n",
       "      <td>11624</td>\n",
       "      <td>POINT (72.82977080668174 18.92444826663544)</td>\n",
       "      <td>18.924448</td>\n",
       "      <td>72.829771</td>\n",
       "    </tr>\n",
       "  </tbody>\n",
       "</table>\n",
       "</div>"
      ],
      "text/plain": [
       "      PIN  detNN                                     geometry     detlat  \\\n",
       "1  400005  14366  POINT (72.81558260090947 18.90786843611552)  18.907868   \n",
       "2  400021  15004  POINT (72.82371588197657 18.92448769713017)  18.924488   \n",
       "3  400039  11624  POINT (72.82977080668174 18.92444826663544)  18.924448   \n",
       "\n",
       "      detlon  \n",
       "1  72.815583  \n",
       "2  72.823716  \n",
       "3  72.829771  "
      ]
     },
     "execution_count": 358,
     "metadata": {},
     "output_type": "execute_result"
    }
   ],
   "source": [
    "# destination nodes gdf should already be defined\n",
    "det_nn_gpd[:3]"
   ]
  },
  {
   "cell_type": "code",
   "execution_count": 359,
   "metadata": {},
   "outputs": [
    {
     "name": "stdout",
     "output_type": "stream",
     "text": [
      "comboData count\n",
      "3165\n"
     ]
    }
   ],
   "source": [
    "# Combine Data\n",
    "# The default is 'inner', which is like a SQL inner join, which selects all rows from both tables as long as there is a match between the columns\n",
    "# In this case, only the rows that contain PIN values that are common between hh_nn and det_nn remain in the merged data\n",
    "# This can explain how there are less rows after the merge, for example the certain PIN values don't exist in the PIN centroids dataset\n",
    "comboData = pd.merge(hh_nn, det_nn_gpd, on='PIN')\n",
    "\n",
    "print('comboData count')\n",
    "print(len(comboData.index))"
   ]
  },
  {
   "cell_type": "code",
   "execution_count": 360,
   "metadata": {},
   "outputs": [
    {
     "data": {
      "text/html": [
       "<div>\n",
       "<style scoped>\n",
       "    .dataframe tbody tr th:only-of-type {\n",
       "        vertical-align: middle;\n",
       "    }\n",
       "\n",
       "    .dataframe tbody tr th {\n",
       "        vertical-align: top;\n",
       "    }\n",
       "\n",
       "    .dataframe thead th {\n",
       "        text-align: right;\n",
       "    }\n",
       "</style>\n",
       "<table border=\"1\" class=\"dataframe\">\n",
       "  <thead>\n",
       "    <tr style=\"text-align: right;\">\n",
       "      <th></th>\n",
       "      <th>unique_trip</th>\n",
       "      <th>PIN</th>\n",
       "      <th>walk_dist_to_nn</th>\n",
       "      <th>hhNN</th>\n",
       "      <th>hhlat</th>\n",
       "      <th>hhlon</th>\n",
       "      <th>walk_time_to_nn</th>\n",
       "      <th>detNN</th>\n",
       "      <th>geometry</th>\n",
       "      <th>detlat</th>\n",
       "      <th>detlon</th>\n",
       "    </tr>\n",
       "  </thead>\n",
       "  <tbody>\n",
       "    <tr>\n",
       "      <th>0</th>\n",
       "      <td>201101</td>\n",
       "      <td>400005</td>\n",
       "      <td>37.877030</td>\n",
       "      <td>19229</td>\n",
       "      <td>18.941155</td>\n",
       "      <td>72.832300</td>\n",
       "      <td>27.271462</td>\n",
       "      <td>14366</td>\n",
       "      <td>POINT (72.81558260090947 18.90786843611552)</td>\n",
       "      <td>18.907868</td>\n",
       "      <td>72.815583</td>\n",
       "    </tr>\n",
       "    <tr>\n",
       "      <th>1</th>\n",
       "      <td>204101</td>\n",
       "      <td>400005</td>\n",
       "      <td>45.432562</td>\n",
       "      <td>19229</td>\n",
       "      <td>18.941367</td>\n",
       "      <td>72.832025</td>\n",
       "      <td>32.711445</td>\n",
       "      <td>14366</td>\n",
       "      <td>POINT (72.81558260090947 18.90786843611552)</td>\n",
       "      <td>18.907868</td>\n",
       "      <td>72.815583</td>\n",
       "    </tr>\n",
       "    <tr>\n",
       "      <th>2</th>\n",
       "      <td>301102</td>\n",
       "      <td>400005</td>\n",
       "      <td>35.423199</td>\n",
       "      <td>8252</td>\n",
       "      <td>18.915563</td>\n",
       "      <td>72.828682</td>\n",
       "      <td>25.504703</td>\n",
       "      <td>14366</td>\n",
       "      <td>POINT (72.81558260090947 18.90786843611552)</td>\n",
       "      <td>18.907868</td>\n",
       "      <td>72.815583</td>\n",
       "    </tr>\n",
       "  </tbody>\n",
       "</table>\n",
       "</div>"
      ],
      "text/plain": [
       "   unique_trip     PIN  walk_dist_to_nn   hhNN      hhlat      hhlon  \\\n",
       "0       201101  400005        37.877030  19229  18.941155  72.832300   \n",
       "1       204101  400005        45.432562  19229  18.941367  72.832025   \n",
       "2       301102  400005        35.423199   8252  18.915563  72.828682   \n",
       "\n",
       "   walk_time_to_nn  detNN                                     geometry  \\\n",
       "0        27.271462  14366  POINT (72.81558260090947 18.90786843611552)   \n",
       "1        32.711445  14366  POINT (72.81558260090947 18.90786843611552)   \n",
       "2        25.504703  14366  POINT (72.81558260090947 18.90786843611552)   \n",
       "\n",
       "      detlat     detlon  \n",
       "0  18.907868  72.815583  \n",
       "1  18.907868  72.815583  \n",
       "2  18.907868  72.815583  "
      ]
     },
     "execution_count": 360,
     "metadata": {},
     "output_type": "execute_result"
    }
   ],
   "source": [
    "comboData[:3]"
   ]
  },
  {
   "cell_type": "markdown",
   "metadata": {},
   "source": [
    "### Calculate the Shortest Paths for each of the combo graphs"
   ]
  },
  {
   "cell_type": "code",
   "execution_count": 361,
   "metadata": {},
   "outputs": [],
   "source": [
    "for key in g_combo_graph:\n",
    "    # Driving, Rail, and Driving & Rail distance from the individual to their workplace\n",
    "    drive_Vals = []\n",
    "    rail_Vals = []\n",
    "    drive_and_rail_Vals = []\n",
    "    walk_Vals = []\n",
    "    euclidean_Vals = []\n",
    "    for idx, row in comboData.iterrows():\n",
    "        #distance1 = nx.shortest_path_length(G_combo, row['hhNN'], row['detNN'], weight='time') + row['walk_time_to_nn']\n",
    "        distance1 = nx.shortest_path_length(g_combo_graph[key], row['hhNN'], row['detNN'], weight='time') + row['walk_time_to_nn']\n",
    "        drive_Vals.append(distance1)\n",
    "    comboData['driveToWork'] = drive_Vals\n",
    "    for idx, row in comboData.iterrows():\n",
    "        distance2 = nx.shortest_path_length(g_combo_graph[key], row['hhNN'], row['detNN'], weight='rail_time') + row['walk_time_to_nn']\n",
    "        rail_Vals.append(distance2)\n",
    "    comboData['railToWork'] = rail_Vals\n",
    "    for idx, row in comboData.iterrows():\n",
    "        distance3 = nx.shortest_path_length(g_combo_graph[key], row['hhNN'], row['detNN'], weight='road_and_rail_time') + row['walk_time_to_nn']\n",
    "        drive_and_rail_Vals.append(distance3)\n",
    "    comboData['DriveandRailToWork'] = drive_and_rail_Vals\n",
    "    for idx, row in comboData.iterrows():\n",
    "        distance4 = nx.shortest_path_length(g_combo_graph[key], row['hhNN'], row['detNN'], weight='walk_time') + row['walk_time_to_nn']\n",
    "        walk_Vals.append(distance4)\n",
    "    comboData['WalkToWork'] = walk_Vals\n",
    "    for idx, row in comboData.iterrows():\n",
    "        #returns in km\n",
    "        euclidean_distance = gn.euclidean_distance(row['hhlat'], row['hhlon'], row['detlat'], row['detlon'])\n",
    "        euclidean_Vals.append(euclidean_distance)\n",
    "    comboData['euclidean_distance_km'] = euclidean_Vals\n",
    "    \n",
    "    comboData.to_csv(inHouseholds_trips.replace(\".csv\", \"_all_Distances_%s.csv\" % key))\n",
    "    xx = pd.merge(inHT, comboData, on = 'unique_trip', how = 'left')\n",
    "    xx.to_csv(inHouseholds_trips.replace(\".csv\", \"_all_Distances_merged_%s.csv\" % key))"
   ]
  },
  {
   "cell_type": "code",
   "execution_count": null,
   "metadata": {},
   "outputs": [],
   "source": []
  }
 ],
 "metadata": {
  "kernelspec": {
   "display_name": "Python 3",
   "language": "python",
   "name": "python3"
  },
  "language_info": {
   "codemirror_mode": {
    "name": "ipython",
    "version": 3
   },
   "file_extension": ".py",
   "mimetype": "text/x-python",
   "name": "python",
   "nbconvert_exporter": "python",
   "pygments_lexer": "ipython3",
   "version": "3.7.7"
  }
 },
 "nbformat": 4,
 "nbformat_minor": 2
}
