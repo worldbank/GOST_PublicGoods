{
 "cells": [
  {
   "cell_type": "markdown",
   "metadata": {},
   "source": [
    "# Banjul Accessibility Analysis\n",
    "\n",
    "- This analysis will measure accessibility to schools and hospitals\n",
    "- origins are derived from 100m grid blocks coming from WorldPop\n",
    "- the accessibility measure is the time to the nearest facility in seconds\n",
    "\n",
    "## Inputs:\n",
    "\n",
    "#### origins: derived from a WorldPOP raster using the 'Raster pixels to Points' tool in QGIS 3, and saved as a shapefile\n",
    "#### destinations: The combination of POIs from Overpass as points and centroids of polygons called through the GOSTNets OSMNX_POIs library.\n",
    "#### The admin AOI will be used to create a bounding box to download the road network via OSMNX\n"
   ]
  },
  {
   "cell_type": "markdown",
   "metadata": {},
   "source": [
    "### Import libraries"
   ]
  },
  {
   "cell_type": "code",
   "execution_count": 85,
   "metadata": {},
   "outputs": [],
   "source": [
    "import sys, os, inspect, logging, importlib\n",
    "\n",
    "import geopandas as gpd\n",
    "import pandas as pd\n",
    "import numpy as np\n",
    "import osmnx as ox\n",
    "import networkx as nx\n",
    "from shapely.ops import split, unary_union\n",
    "from shapely.geometry import box, Point\n",
    "\n",
    "import matplotlib.pyplot as plt"
   ]
  },
  {
   "cell_type": "code",
   "execution_count": 86,
   "metadata": {},
   "outputs": [],
   "source": [
    "# Get reference to OSMNX_POIs\n",
    "sys.path.append(r'../..')\n",
    "from Market_Access import OSMNX_POIs"
   ]
  },
  {
   "cell_type": "code",
   "execution_count": 87,
   "metadata": {},
   "outputs": [],
   "source": [
    "# Get reference to GOSTNets\n",
    "sys.path.append(r'../../GOSTNets/GOSTNets')\n",
    "import GOSTnet as gn"
   ]
  },
  {
   "cell_type": "code",
   "execution_count": 88,
   "metadata": {},
   "outputs": [],
   "source": [
    "# define output folder\n",
    "inputFolder = r'input_folder'\n",
    "# define output folder\n",
    "outputFolder = r'../../../banjul_output_folder'\n",
    "# define road graph\n",
    "roadGraph = os.path.join(inputFolder, \"OSM_Roads.pickle\")"
   ]
  },
  {
   "cell_type": "code",
   "execution_count": 89,
   "metadata": {},
   "outputs": [],
   "source": [
    "# import extent\n",
    "city_extent = gpd.read_file(os.path.join(inputFolder, \"Banjul_AOI.shp\"))"
   ]
  },
  {
   "cell_type": "code",
   "execution_count": 90,
   "metadata": {},
   "outputs": [
    {
     "name": "stdout",
     "output_type": "stream",
     "text": [
      "{'init': 'epsg:4326'}\n"
     ]
    }
   ],
   "source": [
    "# make sure crs is 4326\n",
    "print(city_extent.crs)"
   ]
  },
  {
   "cell_type": "code",
   "execution_count": 91,
   "metadata": {},
   "outputs": [],
   "source": [
    "extent = box(*city_extent.total_bounds)"
   ]
  },
  {
   "cell_type": "code",
   "execution_count": 92,
   "metadata": {},
   "outputs": [
    {
     "data": {
      "image/svg+xml": [
       "<svg xmlns=\"http://www.w3.org/2000/svg\" xmlns:xlink=\"http://www.w3.org/1999/xlink\" width=\"100.0\" height=\"100.0\" viewBox=\"-16.82725074769178 13.320361823871108 0.26700073223396004 0.17911010738157884\" preserveAspectRatio=\"xMinYMin meet\"><g transform=\"matrix(1,0,0,-1,0,26.819833755123796)\"><path fill-rule=\"evenodd\" fill=\"#66cc99\" stroke=\"#555555\" stroke-width=\"0.0053400146446792\" opacity=\"0.6\" d=\"M -16.570138931466488,13.330250739879773 L -16.570138931466488,13.489583015244023 L -16.817361831683115,13.489583015244023 L -16.817361831683115,13.330250739879773 L -16.570138931466488,13.330250739879773 z\" /></g></svg>"
      ],
      "text/plain": [
       "<shapely.geometry.polygon.Polygon at 0x7f6473144400>"
      ]
     },
     "execution_count": 92,
     "metadata": {},
     "output_type": "execute_result"
    }
   ],
   "source": [
    "extent"
   ]
  },
  {
   "cell_type": "markdown",
   "metadata": {},
   "source": [
    "## We will extract OSM POIs"
   ]
  },
  {
   "cell_type": "code",
   "execution_count": 93,
   "metadata": {},
   "outputs": [],
   "source": [
    "schools_query = OSMNX_POIs.AmenityObject('education', extent, ['school', 'kindergarten','university', 'college'], inputFolder)        "
   ]
  },
  {
   "cell_type": "code",
   "execution_count": 94,
   "metadata": {},
   "outputs": [],
   "source": [
    "health_query = OSMNX_POIs.AmenityObject('health ', extent, ['clinic','pharmacy','hospital','health'], inputFolder)        "
   ]
  },
  {
   "cell_type": "code",
   "execution_count": 95,
   "metadata": {},
   "outputs": [],
   "source": [
    "school_destinations = schools_query.GenerateOSMPOIs()\n",
    "health_destinations = health_query.GenerateOSMPOIs()"
   ]
  },
  {
   "cell_type": "code",
   "execution_count": 96,
   "metadata": {},
   "outputs": [],
   "source": [
    "#destinations[[\"osmid\"]]\n",
    "#destinations[[\"name\"]]"
   ]
  },
  {
   "cell_type": "code",
   "execution_count": 97,
   "metadata": {},
   "outputs": [],
   "source": [
    "#list(school_destinations.columns)"
   ]
  },
  {
   "cell_type": "code",
   "execution_count": 98,
   "metadata": {},
   "outputs": [],
   "source": [
    "#list(health_destinations.columns)"
   ]
  },
  {
   "cell_type": "code",
   "execution_count": 99,
   "metadata": {},
   "outputs": [],
   "source": [
    "# warining: might not want to include the 'osmid' field because it may contain lists\n",
    "school_destinations = school_destinations[['amenity','geometry','name']]\n",
    "health_destinations = health_destinations[['amenity','geometry','name']]"
   ]
  },
  {
   "cell_type": "code",
   "execution_count": 100,
   "metadata": {},
   "outputs": [
    {
     "data": {
      "text/html": [
       "<div>\n",
       "<style scoped>\n",
       "    .dataframe tbody tr th:only-of-type {\n",
       "        vertical-align: middle;\n",
       "    }\n",
       "\n",
       "    .dataframe tbody tr th {\n",
       "        vertical-align: top;\n",
       "    }\n",
       "\n",
       "    .dataframe thead th {\n",
       "        text-align: right;\n",
       "    }\n",
       "</style>\n",
       "<table border=\"1\" class=\"dataframe\">\n",
       "  <thead>\n",
       "    <tr style=\"text-align: right;\">\n",
       "      <th></th>\n",
       "      <th>amenity</th>\n",
       "      <th>geometry</th>\n",
       "      <th>name</th>\n",
       "    </tr>\n",
       "  </thead>\n",
       "  <tbody>\n",
       "    <tr>\n",
       "      <th>0</th>\n",
       "      <td>school</td>\n",
       "      <td>POINT (-16.6936882 13.4698014)</td>\n",
       "      <td>Ecole Française</td>\n",
       "    </tr>\n",
       "    <tr>\n",
       "      <th>1</th>\n",
       "      <td>school</td>\n",
       "      <td>POINT (-16.7474028 13.397388)</td>\n",
       "      <td>Brufut Senior Secondary School</td>\n",
       "    </tr>\n",
       "    <tr>\n",
       "      <th>2</th>\n",
       "      <td>school</td>\n",
       "      <td>POINT (-16.6760761 13.4468343)</td>\n",
       "      <td>St Theresa's School</td>\n",
       "    </tr>\n",
       "  </tbody>\n",
       "</table>\n",
       "</div>"
      ],
      "text/plain": [
       "  amenity                        geometry                            name\n",
       "0  school  POINT (-16.6936882 13.4698014)                 Ecole Française\n",
       "1  school   POINT (-16.7474028 13.397388)  Brufut Senior Secondary School\n",
       "2  school  POINT (-16.6760761 13.4468343)             St Theresa's School"
      ]
     },
     "execution_count": 100,
     "metadata": {},
     "output_type": "execute_result"
    }
   ],
   "source": [
    "school_destinations[:3]"
   ]
  },
  {
   "cell_type": "code",
   "execution_count": 101,
   "metadata": {},
   "outputs": [],
   "source": [
    "# save the facilities as a shapefile\n",
    "# if not os.path.exists(outputFolder + '/osm_infrastructure/OSM_schools.shp'):\n",
    "\n",
    "# convert to GeoDataFrame\n",
    "school_destinations_gpd = gpd.GeoDataFrame(school_destinations, crs = \"epsg:4326\", geometry = 'geometry')\n",
    "school_destinations_gpd.to_file(outputFolder + '/osm_infrastructure/osm_schools.shp')\n",
    "\n",
    "health_destinations_gpd = gpd.GeoDataFrame(health_destinations, crs = \"epsg:4326\", geometry = 'geometry')\n",
    "health_destinations_gpd.to_file(outputFolder + '/osm_infrastructure/osm_health.shp')"
   ]
  },
  {
   "cell_type": "markdown",
   "metadata": {},
   "source": [
    "## We will extract the Roads and convert into a graph"
   ]
  },
  {
   "cell_type": "code",
   "execution_count": 102,
   "metadata": {},
   "outputs": [],
   "source": [
    "# This is the section where we can adjust the road speeds\n",
    "if not os.path.exists(roadGraph):\n",
    "    extent = box(*city_extent.total_bounds)\n",
    "    G = ox.graph_from_polygon(extent, network_type = 'drive_service')\n",
    "    # This is how time is calculated from the OSMNX length attribute\n",
    "    G = gn.convert_network_to_time(G, 'length')\n",
    "    # save the largerst subgraph\n",
    "    list_of_Gs = list((nx.strongly_connected_component_subgraphs(G)))\n",
    "    sz = 0\n",
    "    largest_G = list_of_Gs[0]\n",
    "    for g in list_of_Gs:\n",
    "        curSize = g.size()\n",
    "        if curSize > sz:\n",
    "            largest_G = g\n",
    "            sz = curSize\n",
    "    G = largest_G\n",
    "    print('print G')\n",
    "    print(sz)\n",
    "    nx.write_gpickle(G, roadGraph)\n",
    "else:\n",
    "    G = nx.read_gpickle(roadGraph)    \n",
    "    G = gn.convert_network_to_time(G, 'length')"
   ]
  },
  {
   "cell_type": "markdown",
   "metadata": {},
   "source": [
    "### Inspect the road graph as a shapefile"
   ]
  },
  {
   "cell_type": "code",
   "execution_count": 103,
   "metadata": {},
   "outputs": [],
   "source": [
    "roads = gn.edge_gdf_from_graph(G)"
   ]
  },
  {
   "cell_type": "code",
   "execution_count": 104,
   "metadata": {},
   "outputs": [
    {
     "data": {
      "text/html": [
       "<div>\n",
       "<style scoped>\n",
       "    .dataframe tbody tr th:only-of-type {\n",
       "        vertical-align: middle;\n",
       "    }\n",
       "\n",
       "    .dataframe tbody tr th {\n",
       "        vertical-align: top;\n",
       "    }\n",
       "\n",
       "    .dataframe thead th {\n",
       "        text-align: right;\n",
       "    }\n",
       "</style>\n",
       "<table border=\"1\" class=\"dataframe\">\n",
       "  <thead>\n",
       "    <tr style=\"text-align: right;\">\n",
       "      <th></th>\n",
       "      <th>stnode</th>\n",
       "      <th>endnode</th>\n",
       "      <th>mode</th>\n",
       "      <th>oneway</th>\n",
       "      <th>lanes</th>\n",
       "      <th>service</th>\n",
       "      <th>bridge</th>\n",
       "      <th>access</th>\n",
       "      <th>length</th>\n",
       "      <th>name</th>\n",
       "      <th>maxspeed</th>\n",
       "      <th>osmid</th>\n",
       "      <th>time</th>\n",
       "      <th>highway</th>\n",
       "      <th>junction</th>\n",
       "      <th>geometry</th>\n",
       "    </tr>\n",
       "  </thead>\n",
       "  <tbody>\n",
       "    <tr>\n",
       "      <th>0</th>\n",
       "      <td>1254588416</td>\n",
       "      <td>3833555169</td>\n",
       "      <td>drive</td>\n",
       "      <td>False</td>\n",
       "      <td>NaN</td>\n",
       "      <td>NaN</td>\n",
       "      <td>NaN</td>\n",
       "      <td>NaN</td>\n",
       "      <td>24.330</td>\n",
       "      <td>NaN</td>\n",
       "      <td>NaN</td>\n",
       "      <td>109643138</td>\n",
       "      <td>4.37940</td>\n",
       "      <td>residential</td>\n",
       "      <td>NaN</td>\n",
       "      <td>LINESTRING (-16.6975914 13.4213108, -16.697753...</td>\n",
       "    </tr>\n",
       "    <tr>\n",
       "      <th>1</th>\n",
       "      <td>1254588416</td>\n",
       "      <td>1254588099</td>\n",
       "      <td>drive</td>\n",
       "      <td>False</td>\n",
       "      <td>NaN</td>\n",
       "      <td>NaN</td>\n",
       "      <td>NaN</td>\n",
       "      <td>NaN</td>\n",
       "      <td>74.157</td>\n",
       "      <td>NaN</td>\n",
       "      <td>NaN</td>\n",
       "      <td>109643138</td>\n",
       "      <td>13.34826</td>\n",
       "      <td>residential</td>\n",
       "      <td>NaN</td>\n",
       "      <td>LINESTRING (-16.6975914 13.4213108, -16.697436...</td>\n",
       "    </tr>\n",
       "  </tbody>\n",
       "</table>\n",
       "</div>"
      ],
      "text/plain": [
       "       stnode     endnode   mode  oneway lanes service bridge access  length  \\\n",
       "0  1254588416  3833555169  drive   False   NaN     NaN    NaN    NaN  24.330   \n",
       "1  1254588416  1254588099  drive   False   NaN     NaN    NaN    NaN  74.157   \n",
       "\n",
       "  name maxspeed      osmid      time      highway junction  \\\n",
       "0  NaN      NaN  109643138   4.37940  residential      NaN   \n",
       "1  NaN      NaN  109643138  13.34826  residential      NaN   \n",
       "\n",
       "                                            geometry  \n",
       "0  LINESTRING (-16.6975914 13.4213108, -16.697753...  \n",
       "1  LINESTRING (-16.6975914 13.4213108, -16.697436...  "
      ]
     },
     "execution_count": 104,
     "metadata": {},
     "output_type": "execute_result"
    }
   ],
   "source": [
    "roads[:2]"
   ]
  },
  {
   "cell_type": "code",
   "execution_count": 105,
   "metadata": {},
   "outputs": [],
   "source": [
    "if not os.path.exists(outputFolder + '/OSM_Roads/OSM_Roads.shp'):\n",
    "    roads['oneway'] = roads.oneway.astype(int)\n",
    "    roads = roads[['oneway','length','time','mode','geometry']]\n",
    "    roads.to_file(outputFolder + '/OSM_Roads')"
   ]
  },
  {
   "cell_type": "markdown",
   "metadata": {},
   "source": [
    "## Create origins and destinations and snap them to the road graph"
   ]
  },
  {
   "cell_type": "code",
   "execution_count": 106,
   "metadata": {},
   "outputs": [],
   "source": [
    "# insert origins\n",
    "origins = gpd.read_file(os.path.join(inputFolder, \"banjul_worldpop_pts.shp\"))"
   ]
  },
  {
   "cell_type": "code",
   "execution_count": 107,
   "metadata": {},
   "outputs": [
    {
     "name": "stderr",
     "output_type": "stream",
     "text": [
      "../../GOSTNets/GOSTNets/GOSTnet.py:1716: FutureWarning: Method .as_matrix will be removed in a future version. Use .values instead.\n",
      "  G_tree = spatial.KDTree(node_gdf[['x','y']].as_matrix())\n",
      "../../GOSTNets/GOSTNets/GOSTnet.py:1718: FutureWarning: Method .as_matrix will be removed in a future version. Use .values instead.\n",
      "  distances, indices = G_tree.query(in_df[['x','y']].as_matrix())\n"
     ]
    }
   ],
   "source": [
    "# snap the origins to the road graph\n",
    "snapped_origins = gn.pandana_snap(G, origins)"
   ]
  },
  {
   "cell_type": "code",
   "execution_count": 108,
   "metadata": {},
   "outputs": [],
   "source": [
    "originNodes = list(snapped_origins['NN'].unique())"
   ]
  },
  {
   "cell_type": "code",
   "execution_count": 109,
   "metadata": {},
   "outputs": [],
   "source": [
    "# snap the destinations to the road graph\n",
    "snapped_school_destinations = gn.pandana_snap(G, school_destinations)\n",
    "snapped_health_destinations = gn.pandana_snap(G, health_destinations)"
   ]
  },
  {
   "cell_type": "code",
   "execution_count": 110,
   "metadata": {},
   "outputs": [],
   "source": [
    "school_destinationNodes = list(snapped_school_destinations['NN'].unique())\n",
    "health_destinationNodes = list(snapped_health_destinations['NN'].unique())"
   ]
  },
  {
   "cell_type": "code",
   "execution_count": 111,
   "metadata": {},
   "outputs": [],
   "source": [
    "# calculate OD matrix\n",
    "school_OD_matrix = gn.calculate_OD(G, originNodes, school_destinationNodes, fail_value=-1, weight='time')\n",
    "health_OD_matrix = gn.calculate_OD(G, originNodes, health_destinationNodes, fail_value=-1, weight='time')"
   ]
  },
  {
   "cell_type": "code",
   "execution_count": 112,
   "metadata": {},
   "outputs": [],
   "source": [
    "#OD_matrix[:3]"
   ]
  },
  {
   "cell_type": "code",
   "execution_count": 113,
   "metadata": {},
   "outputs": [],
   "source": [
    "# testing\n",
    "# school_closest_facility_per_origin = school_OD_matrix.min(axis=1)\n",
    "# school_closest_facility_per_origin[:5]"
   ]
  },
  {
   "cell_type": "code",
   "execution_count": 114,
   "metadata": {},
   "outputs": [],
   "source": [
    "# calculate accessibility\n",
    "# For each row, the closest facility is the smallest value in the row\n",
    "\n",
    "output = snapped_origins.copy()\n",
    "\n",
    "school_closest_facility_per_origin = school_OD_matrix.min(axis=1)\n",
    "health_closest_facility_per_origin = health_OD_matrix.min(axis=1)\n",
    "\n",
    "school_results = pd.DataFrame([originNodes, school_closest_facility_per_origin]).transpose()\n",
    "health_results = pd.DataFrame([originNodes, health_closest_facility_per_origin]).transpose()\n",
    "\n",
    "colName = \"travel_time_to_closest_facility\"\n",
    "school_results.columns = ['NN', colName]\n",
    "health_results.columns = ['NN', colName]"
   ]
  },
  {
   "cell_type": "code",
   "execution_count": 115,
   "metadata": {},
   "outputs": [],
   "source": [
    "#results[:5]"
   ]
  },
  {
   "cell_type": "code",
   "execution_count": 116,
   "metadata": {},
   "outputs": [],
   "source": [
    "school_output = pd.merge(output, school_results, on=\"NN\")\n",
    "health_output = pd.merge(output, health_results, on=\"NN\")"
   ]
  },
  {
   "cell_type": "code",
   "execution_count": 117,
   "metadata": {},
   "outputs": [],
   "source": [
    "school_output.to_csv(os.path.join(outputFolder, \"banjul_accessibility_schools.csv\"))"
   ]
  },
  {
   "cell_type": "code",
   "execution_count": 118,
   "metadata": {},
   "outputs": [],
   "source": [
    "health_output.to_csv(os.path.join(outputFolder, \"banjul_accessibility_health.csv\"))"
   ]
  }
 ],
 "metadata": {
  "kernelspec": {
   "display_name": "templateA",
   "language": "python",
   "name": "templatea"
  },
  "language_info": {
   "codemirror_mode": {
    "name": "ipython",
    "version": 3
   },
   "file_extension": ".py",
   "mimetype": "text/x-python",
   "name": "python",
   "nbconvert_exporter": "python",
   "pygments_lexer": "ipython3",
   "version": "3.7.3"
  }
 },
 "nbformat": 4,
 "nbformat_minor": 2
}
