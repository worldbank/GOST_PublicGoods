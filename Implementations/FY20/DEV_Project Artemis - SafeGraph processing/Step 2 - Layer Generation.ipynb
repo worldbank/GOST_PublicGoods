{
 "cells": [
  {
   "cell_type": "markdown",
   "metadata": {},
   "source": [
    "# Step 2 - Layer Generation\n",
    "\n",
    "In this script, we match the output we generated in Step 1 onto a world admin boundary shapefile."
   ]
  },
  {
   "cell_type": "code",
   "execution_count": 1,
   "metadata": {},
   "outputs": [],
   "source": [
    "import geopandas as gpd\n",
    "import pandas as pd\n",
    "import os, sys\n",
    "import time\n",
    "from shapely.wkt import loads\n",
    "import numpy as np"
   ]
  },
  {
   "cell_type": "markdown",
   "metadata": {},
   "source": [
    "Define settings, per usual. "
   ]
  },
  {
   "cell_type": "code",
   "execution_count": 17,
   "metadata": {},
   "outputs": [],
   "source": [
    "data_path = r'C:\\Users\\charl\\Documents\\GOST\\SafeGraph'\n",
    "shapefile = r'Artemis_countries.shp'\n",
    "shp = 'Artemis_Countries'\n",
    "workspace = r'C:\\Users\\charl\\Documents\\GOST\\SafeGraph'\n",
    "data_file = r'homeRange_analysis_output2.csv'\n",
    "outs = r'C:\\Users\\charl\\Documents\\GOST\\SafeGraph'"
   ]
  },
  {
   "cell_type": "markdown",
   "metadata": {},
   "source": [
    "Import the administrative boundary shapefile as a GeoDataFrame"
   ]
  },
  {
   "cell_type": "code",
   "execution_count": 19,
   "metadata": {},
   "outputs": [],
   "source": [
    "shape = gpd.read_file(os.path.join(data_path, shp, shapefile))"
   ]
  },
  {
   "cell_type": "markdown",
   "metadata": {},
   "source": [
    "Import the datalayer we want to match on to the resultant file, cut out all the b.s. and only retain records with detected migrations"
   ]
  },
  {
   "cell_type": "code",
   "execution_count": 19,
   "metadata": {},
   "outputs": [],
   "source": [
    "res = pd.read_csv(os.path.join(outs, data_file))\n",
    "res = res.loc[res.status == 'migration detected']"
   ]
  },
  {
   "cell_type": "markdown",
   "metadata": {},
   "source": [
    "We create start_loc and end_loc as geometry objects for the start and end points in the migration. Then we generate corresponding GeoDataFrames for each."
   ]
  },
  {
   "cell_type": "code",
   "execution_count": null,
   "metadata": {},
   "outputs": [],
   "source": [
    "res = res[['start_loc','status','end_loc']]\n",
    "res.start_loc = res.start_loc.apply(loads)\n",
    "res.end_loc = res.end_loc.apply(loads)\n",
    "res_start = gpd.GeoDataFrame(res,crs = {'init' :'epsg:4326'}, geometry = 'start_loc' )\n",
    "res_end = gpd.GeoDataFrame(res,crs = {'init' :'epsg:4326'}, geometry = 'end_loc' )"
   ]
  },
  {
   "cell_type": "markdown",
   "metadata": {},
   "source": [
    "Cut the admin boundary shapefile to just the columns we care about:"
   ]
  },
  {
   "cell_type": "code",
   "execution_count": 20,
   "metadata": {},
   "outputs": [],
   "source": [
    "shape_short = shape[['adm0_name','adm1_name','adm2_name','geometry']]"
   ]
  },
  {
   "cell_type": "markdown",
   "metadata": {},
   "source": [
    "Now, we spatially intersect the migration entries with the shapefile to 'load' in the info onto the polygons they intersect. See in line comments for details"
   ]
  },
  {
   "cell_type": "code",
   "execution_count": 21,
   "metadata": {},
   "outputs": [],
   "source": [
    "# Create spatial indexes of the migration start and end pointsw\n",
    "spatial_index_out = res_start.sindex\n",
    "spatial_index_in = res_end.sindex\n",
    "\n",
    "# create a summary bag\n",
    "summary = []\n",
    "\n",
    "# here, we iterate through each polygon in the shapefile - and try to identify migrations that start or end in that territory\n",
    "for i in range(0, len(shape_short)):\n",
    "    \n",
    "    # this is the shapely object associated with this row in the shapefile\n",
    "    polygon = shape_short.geometry.loc[i]\n",
    "    \n",
    "    # using a spatial index to speed the process, identify migrations STARTING in this territory\n",
    "    possible_matches_out_index = list(spatial_index_out.intersection(polygon.bounds))\n",
    "    possible_matches_out = res_start.iloc[possible_matches_out_index]\n",
    "    precise_matches_out = possible_matches_out[possible_matches_out.intersects(polygon)]\n",
    "    \n",
    "    # using a spatial index to speed the process, identify migrations ENDING in this territory\n",
    "    possible_matches_in_index = list(spatial_index_in.intersection(polygon.bounds))\n",
    "    possible_matches_in = res_end.iloc[possible_matches_in_index]\n",
    "    precise_matches_in = possible_matches_in[possible_matches_in.intersects(polygon)]\n",
    "    \n",
    "    # if no matches, set the migration values to 0\n",
    "    if (len(precise_matches_out) == 0) and (len(precise_matches_in) == 0):\n",
    "         info = {'i':i,\n",
    "         'geometry': shape_short.geometry.loc[i],\n",
    "         'adm0_name': shape_short.adm0_name.loc[i],\n",
    "         'adm1_name': shape_short.adm1_name.loc[i],\n",
    "         'adm2_name': shape_short.adm2_name.loc[i],\n",
    "         'TotalMigration':0,\n",
    "         'OutMigration':0,\n",
    "         'InMigration':0}\n",
    "            \n",
    "    # otherwise, set counter variables to the length of the matches lists\n",
    "    else:\n",
    "        # 'counter' for migrations out of this area\n",
    "        migr_out = len(precise_matches_out)\n",
    "        \n",
    "        # counter for migrations moving into this area\n",
    "        migr_in = len(precise_matches_in)\n",
    "        info = {'i':i,\n",
    "         'geometry': shape_short.geometry.loc[i],\n",
    "         'adm0_name': shape_short.adm0_name.loc[i],\n",
    "         'adm1_name': shape_short.adm1_name.loc[i],\n",
    "         'adm2_name': shape_short.adm2_name.loc[i],\n",
    "         'TotalMigration':migr_out + migr_in,\n",
    "         'OutMigration':migr_out,\n",
    "         'InMigration':migr_in}\n",
    "        \n",
    "    # either way, append the results to the summary list\n",
    "    summary.append(info)\n",
    "\n",
    "# rebuild the original admin boundary shapefile\n",
    "df = pd.DataFrame(summary)"
   ]
  },
  {
   "cell_type": "markdown",
   "metadata": {},
   "source": [
    "Convert this guy back into a GeoDataFrame and send to file"
   ]
  },
  {
   "cell_type": "code",
   "execution_count": 22,
   "metadata": {},
   "outputs": [],
   "source": [
    "res_gdf = gpd.GeoDataFrame(df, geometry = 'geometry', crs = {'init':'epsg:4326'})\n",
    "res_gdf.to_file(os.path.join(workspace, 'output.shp'))"
   ]
  }
 ],
 "metadata": {
  "kernelspec": {
   "display_name": "Python (Cfox2)",
   "language": "python",
   "name": "cfox2"
  },
  "language_info": {
   "codemirror_mode": {
    "name": "ipython",
    "version": 3
   },
   "file_extension": ".py",
   "mimetype": "text/x-python",
   "name": "python",
   "nbconvert_exporter": "python",
   "pygments_lexer": "ipython3",
   "version": "3.6.8"
  }
 },
 "nbformat": 4,
 "nbformat_minor": 2
}
