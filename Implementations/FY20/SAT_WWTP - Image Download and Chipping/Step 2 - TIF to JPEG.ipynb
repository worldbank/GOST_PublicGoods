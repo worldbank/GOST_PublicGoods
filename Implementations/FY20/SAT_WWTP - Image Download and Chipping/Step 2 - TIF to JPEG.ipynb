{
 "cells": [
  {
   "cell_type": "markdown",
   "metadata": {},
   "source": [
    "This is not your usual import list - check to ensure that you have all of the libraries installed in your environment first"
   ]
  },
  {
   "cell_type": "code",
   "execution_count": 1,
   "metadata": {
    "collapsed": true
   },
   "outputs": [],
   "source": [
    "from PIL import Image\n",
    "import rasterio\n",
    "import os\n",
    "import numpy as np\n",
    "import xml.etree.ElementTree as ET\n",
    "import copy\n",
    "import random\n",
    "from shutil import copyfile, copy2, move\n",
    "import shutil\n",
    "from rasterio.warp import reproject, calculate_default_transform, Resampling\n",
    "from rasterio.crs import CRS"
   ]
  },
  {
   "cell_type": "markdown",
   "metadata": {},
   "source": [
    "When working with raw satellite imagery, we find that some values are extremely high or extremely low, which make visualization difficult. As such, we construct a normalizaton function to take only values up to the 97th percentile, and then scale those values to 255. We do this so that we can construct JPEG images, for which RGB values must be between 0 and 255. "
   ]
  },
  {
   "cell_type": "code",
   "execution_count": 2,
   "metadata": {
    "collapsed": true
   },
   "outputs": [],
   "source": [
    "def normalize(numpy_array):\n",
    "    mid_range = (np.percentile(numpy_array, 97))\n",
    "    numpy_array = numpy_array / mid_range * 255\n",
    "    numpy_array = np.clip(numpy_array, a_min = 0, a_max = 255)\n",
    "    return numpy_array"
   ]
  },
  {
   "cell_type": "markdown",
   "metadata": {},
   "source": [
    "This function accomplishes two purposes: \n",
    "- it reads in the .tif file and reprojects it to a crs measured in meters (here, epsg 3857 - web mercator)\n",
    "- it copies and saves the file in .jpeg format in the same folder it found the original image"
   ]
  },
  {
   "cell_type": "code",
   "execution_count": 38,
   "metadata": {
    "collapsed": true
   },
   "outputs": [],
   "source": [
    "def TifftoJPEGreproj(tiff):\n",
    "    \n",
    "    # open the tiff using rasterio, assign to variable 'raw'\n",
    "    with rasterio.open(tiff) as raw:\n",
    "        \n",
    "        # get the raw data as a numpy array, make a copy 'x'\n",
    "        arr = raw.read()\n",
    "        x = arr.copy()\n",
    "        \n",
    "        # define the destination CRS\n",
    "        dest_CRS = CRS(init='epsg:3857')\n",
    "        \n",
    "        # we work out here what the destination width, height and affine will be if reprojected to dest_CRS\n",
    "        # from the existing crs\n",
    "        dst_affine, dst_width, dst_height = calculate_default_transform(\n",
    "        raw.crs, dest_CRS, raw.width, raw.height, *raw.bounds)\n",
    "        \n",
    "        # we make an empty array of this shape \n",
    "        x = np.empty([arr.shape[0],dst_height, dst_width])\n",
    "        \n",
    "        # then we go ahead and do the reprojection, using the empty array and the new affine transformation, 'dst_affine'\n",
    "        reproject(source=arr,\n",
    "              src_crs = raw.crs, \n",
    "              src_transform = raw.transform,\n",
    "              destination = x,\n",
    "              dst_transform = dst_affine,\n",
    "              dst_crs = dest_CRS,\n",
    "              resampling=Resampling.nearest,\n",
    "              num_threads=2)\n",
    "        \n",
    "        # we pick out the red, green and blue bands from the .tif, which is known ex-ante to be an 8-band \n",
    "        # World View 2 or World View 3 image\n",
    "        r, g, b = x[4], x[2], x[1]\n",
    "        \n",
    "        # we apply the previously defined normalize function to these bands so that we can generate our JPEG image \n",
    "        r = normalize(r)\n",
    "        g = normalize(g)\n",
    "        b = normalize(b)\n",
    "        \n",
    "        # we stack the data as unsigned 8 bit integers and pass this off rasterio to generate the JPEG\n",
    "        outData = np.stack((r,g,b), axis = 0)\n",
    "        outData = outData.astype(np.uint8)\n",
    "        \n",
    "        # file naming - we take the original file path and adjust the end to read '.jpg'\n",
    "        name = os.path.split(tiff)[1].split('.')[0]\n",
    "        outFile = os.path.join(pth, '%s.jpg' % name)\n",
    "        \n",
    "        # Generate the jpeg object\n",
    "        jpeg = rasterio.open(outFile, 'w', driver=\"JPEG\", dtype='uint8',\n",
    "                                count=outData.shape[0],height=outData.shape[1],width=outData.shape[2])\n",
    "        # write the data to the object\n",
    "        jpeg.write(outData)\n",
    "        \n",
    "        # close the object\n",
    "        jpeg.close()"
   ]
  },
  {
   "cell_type": "markdown",
   "metadata": {},
   "source": [
    "In this block, we set the source of the raw imagery as the variable 'pth'. Then, we walk through looking for .tif files, and apply the TifftoJPEGreproj function to each. "
   ]
  },
  {
   "cell_type": "code",
   "execution_count": 41,
   "metadata": {},
   "outputs": [
    {
     "name": "stderr",
     "output_type": "stream",
     "text": [
      "C:\\Users\\charl\\AppData\\Local\\Continuum\\anaconda3\\envs\\GGCW\\lib\\site-packages\\ipykernel_launcher.py:8: FutureWarning: The value of this property will change in version 1.0. Please see https://github.com/mapbox/rasterio/issues/86 for details.\n",
      "  \n"
     ]
    }
   ],
   "source": [
    "pth = r'D:\\WWTP\\GBDX_images\\MechaTurk'\n",
    "\n",
    "for root, dirs, files in os.walk(pth, topdown=False):\n",
    "    for name in files:\n",
    "        fil = os.path.join(root, name)\n",
    "        if os.path.split(fil)[1].split('.')[-1] == 'tif':\n",
    "            try:\n",
    "                TifftoJPEGreproj(fil)\n",
    "            except:\n",
    "                pass"
   ]
  },
  {
   "cell_type": "markdown",
   "metadata": {},
   "source": [
    "In this second phase, we take the newly generated JPEG images and manipualte them to generate additional training data. First we define a class for the images, IMAGE, and two helper classes, BBOX and DIMS, that work within IMAGE. \n",
    "\n",
    "The reason these are more complicated classes is because of the .xmls. When tagging the base JPEG image, the user identifies a Waste Water Treatment Plant (WWTP) with a bounding box. This is stored in an accompanying .xml file. We do not want to the user to have to re-tag rotations of the same original image! To avoid this, when generating a rotated or flipped image, we also clone and adjust the accompanying image xml. This is what is happening in the lines starting self.xmltree ..."
   ]
  },
  {
   "cell_type": "markdown",
   "metadata": {},
   "source": [
    "### Image Flipping"
   ]
  },
  {
   "cell_type": "code",
   "execution_count": 8,
   "metadata": {
    "collapsed": true
   },
   "outputs": [],
   "source": [
    "class BBOX:\n",
    "    def __init__(self, element):\n",
    "        self.name = element[0].text\n",
    "        for e in element:\n",
    "            if e.tag == 'bndbox':\n",
    "                self.xmin = e[0].text\n",
    "                self.ymin = e[1].text\n",
    "                self.xmax = e[2].text\n",
    "                self.ymax = e[3].text\n",
    "    \n",
    "    def shape(self):\n",
    "        return 'Class: %s, Bounding box: (%s, %s, %s, %s)' % (self.name, self.xmin, self.ymin, self.xmax, self.ymax)\n",
    "    \n",
    "class DIMS:\n",
    "    def __init__(self, element):\n",
    "        for e in element:\n",
    "            if e.tag == 'width':\n",
    "                self.width = e.text\n",
    "            elif e.tag == 'height':\n",
    "                self.height = e.text\n",
    "            elif e.tag == 'depth':\n",
    "                self.depth = e.text\n",
    "        self.dims = ('Shape: %s x %s, depth: %s' % (self.width, self.height, self.depth))\n",
    "\n",
    "# The main base class for re-imported JPEG images\n",
    "class IMAGE:\n",
    "    \n",
    "    # user is only able to instantiate an instance if given a file name, fname, and filepath, path    \n",
    "    def __init__(self, fname, path):\n",
    "        \n",
    "        # set filename and filepath as attributes \n",
    "        self.fname = fname\n",
    "        self.path = path\n",
    "        \n",
    "        # the newly modified images will be saved to a new folder called 'Output' which is a subfolder of the original location\n",
    "        # if this doesn't already exist, generate it here\n",
    "        self.outpath = os.path.join(self.path, 'Output')\n",
    "        if os.path.exists(self.outpath) == False:\n",
    "            os.mkdir(os.path.join(self.path, r'Output'))\n",
    "            \n",
    "        # the xml describing tagged location of WWTPs should have the same name but different extension vs. the JPEG file\n",
    "        self.xml = os.path.join(path,self.fname.replace('.jpg','.xml'))\n",
    "        \n",
    "        # make an output name and location for the modified xml\n",
    "        self.outxml = os.path.join(self.outpath, self.fname.replace('.jpg','.xml'))\n",
    "        \n",
    "        # read in the original xml\n",
    "        self.xmltree = ET.parse(self.xml)\n",
    "        self.root = self.xmltree.getroot()\n",
    "        \n",
    "        # read in the original image \n",
    "        self.image = Image.open(os.path.join(self.path,self.fname))\n",
    "        \n",
    "        # save the original image and the original xml to the output folder - so Output folder contains everything necessary\n",
    "        self.image.save(os.path.join(self.outpath, fname))\n",
    "        self.xmltree.write(self.outxml)\n",
    "        \n",
    "        # open up two empty lists for the dimensions and bounding box info\n",
    "        self.bbox_list, self.dims = [], []\n",
    "        \n",
    "        # find all objects in the xml tree called 'object'. These are the bounding boxes of the WWTP elements in the image. \n",
    "        bboxes = self.root.findall('object')\n",
    "        self.dims = DIMS(self.root.find('size'))\n",
    "        \n",
    "        # add bounding boxes to the list of bounding boxes. Note the use of the helper BBOX class\n",
    "        for b in bboxes:\n",
    "            self.bbox_list.append(BBOX(b))\n",
    "        \n",
    "    # Here we define a function for rotating a single bounding box through 90 degrees.     \n",
    "    def Rotate90(self, bbox, dim, count):\n",
    "        h1,k1 = int(bbox.xmin), int(bbox.ymin)\n",
    "        h2,k2 = int(bbox.xmax), int(bbox.ymax)\n",
    "        if count == 1:\n",
    "            o = int(dim.width)\n",
    "        else:\n",
    "            o = int(dim.height)\n",
    "        bbox.xmin, bbox.ymin = k1, (o - h1)\n",
    "        bbox.xmax, bbox.ymax = k2, (o - h2)\n",
    "        return bbox\n",
    "    \n",
    "    # this function is a child of the IMAGE class, and so can only be used on / inherits an IMAGE object\n",
    "    def CreateRotatedImages(self, degrees):\n",
    "        \n",
    "        # for the rotated image we deepcopy the xml tree\n",
    "        newtree = copy.deepcopy(self.xmltree)\n",
    "        root = newtree.getroot()\n",
    "        \n",
    "        ### Adjust JPEG\n",
    "        \n",
    "        # Happily, there is an easy PIL function for rotating a PIL image...so we don't reinvent the wheel\n",
    "        rim = self.image.rotate(degrees, expand = True)\n",
    "        \n",
    "        # we rename the image with the number of degrees it has been rotated through\n",
    "        newname = self.fname.replace('.jpg','_%s.jpg' % degrees)\n",
    "        \n",
    "        # ... and save it down\n",
    "        rim.save(os.path.join(self.outpath, newname))\n",
    "        \n",
    "        ### Adjust XML\n",
    "        \n",
    "        # There may be many bounding boxes to iterate through - so we set up a loop that goes through all \n",
    "        # 'object' objects in the xml tree\n",
    "        for obj in root.iter('object'):\n",
    "            i = BBOX(obj)\n",
    "            \n",
    "            # we are quite lazy. So, for rotatings of more than 90 degrees, we just call the rotate 90 function more than once!\n",
    "            if degrees == 90:\n",
    "                newbbox = self.Rotate90(i, self.dims, 1)\n",
    "                \n",
    "            # God I know this is lazy but it works\n",
    "            elif degrees == 180:\n",
    "                newbbox = self.Rotate90(i, self.dims, 1)\n",
    "                newbbox = self.Rotate90(newbbox, self.dims, 2)\n",
    "                \n",
    "            # Stop I know already but it works\n",
    "            elif degrees == 270:\n",
    "                newbbox = self.Rotate90(i, self.dims, 1)\n",
    "                newbbox = self.Rotate90(newbbox, self.dims, 2)\n",
    "                newbbox = self.Rotate90(newbbox, self.dims, 1)\n",
    "                \n",
    "            # Here we go ahead and adjust the text in the xml itself using the dimensions of the newbbox\n",
    "            # (the bit above is calculating the correct coordinates of the new bbox, but not doing anything with it)\n",
    "            # Here, we deploy it into our new xml\n",
    "            for t in obj:\n",
    "                if t.tag == 'bndbox':\n",
    "                    t[0].text = str(min(newbbox.xmin, newbbox.xmax))\n",
    "                    t[1].text = str(min(newbbox.ymin, newbbox.ymax))\n",
    "                    t[2].text = str(max(newbbox.xmax, newbbox.xmin))\n",
    "                    t[3].text = str(max(newbbox.ymax, newbbox.ymin))\n",
    "        \n",
    "        ### Adjust metadata of image as captured in the xml - which has a record of not \n",
    "        # just tagged objects, but also the image it relates to...\n",
    "        \n",
    "        # adjusted base image dimensions...\n",
    "        if degrees == 90  or degrees == 270:\n",
    "            for obj in root.iter(\"size\"):\n",
    "                w = obj.find(\"width\")\n",
    "                w.text = str(self.dims.height)\n",
    "                h = obj.find(\"height\")\n",
    "                h.text = str(self.dims.width)\n",
    "                \n",
    "        # Adjusted base image filename...\n",
    "        for obj in root.iter(\"filename\"):\n",
    "            obj.text = str(newname)\n",
    "        for obj in root.iter(\"path\"):\n",
    "            obj.text = str(os.path.join(self.path, newname))\n",
    "        \n",
    "        # Write new file out\n",
    "        newtree.write(self.outxml.replace(\".xml\", \"_%s.xml\" % str(degrees)))\n",
    "    \n",
    "    # in addition to rotating images, we also want to flip them on their axes - left:right, and top:bottom\n",
    "    # for this we need a transpose function for the bounding boxes, which is a bit easier to write than a rotaional one\n",
    "    def Transpose(self, bbox, dim, flip):\n",
    "        h1,k1 = int(bbox.xmin), int(bbox.ymin)\n",
    "        h2,k2 = int(bbox.xmax), int(bbox.ymax)\n",
    "        if flip == 'lr':\n",
    "            o = int(self.dims.width)\n",
    "            bbox.xmin, bbox.ymin = (o - h1), k1\n",
    "            bbox.xmax, bbox.ymax = (o - h2), k2\n",
    "        elif flip == 'tb':\n",
    "            o = int(self.dims.height)\n",
    "            bbox.xmin, bbox.ymin = h1, (o - k1)\n",
    "            bbox.xmax, bbox.ymax = h2, (o - k2)\n",
    "        return bbox\n",
    "    \n",
    "    # this function deals with creating flipped images using the Transpose function above for associated bounding boxes\n",
    "    def CreateFlippedImages(self, flip):\n",
    "        \n",
    "        newtree = copy.deepcopy(self.xmltree)\n",
    "        root = newtree.getroot()\n",
    "        \n",
    "        ### Adjust JPEG\n",
    "        # again, PIL has done the hard part for us - so we use their functions for doing the JPEG\n",
    "        if flip == 'lr':\n",
    "            flim = self.image.transpose(method = Image.FLIP_LEFT_RIGHT)\n",
    "        elif flip == 'tb':\n",
    "            flim = self.image.transpose(method = Image.FLIP_TOP_BOTTOM)\n",
    "        newname = self.fname.replace('.jpg','_%s.jpg' % flip)\n",
    "        flim.save(os.path.join(self.outpath, newname))\n",
    "        \n",
    "        ### Adjust XML\n",
    "        # we are left with the headache of adjusting the corresponding xml bounding boxes and image metadata\n",
    "        for obj in root.iter('object'):\n",
    "            i = BBOX(obj)\n",
    "            if flip == 'lr':\n",
    "                newbbox = self.Transpose(i, self.dims, flip)\n",
    "            elif flip == 'tb':\n",
    "                newbbox = self.Transpose(i, self.dims, flip)\n",
    "            for t in obj:\n",
    "                if t.tag == 'bndbox':\n",
    "                    t[0].text = str(min(newbbox.xmin, newbbox.xmax))\n",
    "                    t[1].text = str(min(newbbox.ymin, newbbox.ymax))\n",
    "                    t[2].text = str(max(newbbox.xmax, newbbox.xmin))\n",
    "                    t[3].text = str(max(newbbox.ymax, newbbox.ymin))\n",
    "                \n",
    "        # Adjust filename \n",
    "        for obj in root.iter(\"filename\"):\n",
    "            obj.text = str(newname)\n",
    "        for obj in root.iter(\"path\"):\n",
    "            obj.text = str(os.path.join(self.outpath, newname))\n",
    "        \n",
    "        # Write new file\n",
    "        newtree.write(self.outxml.replace(\".xml\", \"_%s.xml\" % str(flip)))"
   ]
  },
  {
   "cell_type": "markdown",
   "metadata": {},
   "source": [
    "### Run Image creation tool\n",
    "Here, we iterate through each .jpeg which also has a .xml pair, rotating it through 90, 180 and 270 degrees, and also flipping it on its axes top to bottom and left to right. Thus, each jpeg / xml pair generates 12 output files in the Output folder "
   ]
  },
  {
   "cell_type": "code",
   "execution_count": 10,
   "metadata": {
    "collapsed": true
   },
   "outputs": [],
   "source": [
    "# filepath containing pre-tagged xml / jpeg pairs\n",
    "pth = r'D:\\WWTP\\GBDX_images\\Mexico'\n",
    "\n",
    "# we iterate through this and apply our methodologies described above\n",
    "for root, dirs, files in os.walk(pth, topdown=False):\n",
    "    for name in files:\n",
    "        fil = os.path.join(root, name)\n",
    "        if os.path.split(name)[1].split('.')[-1] == 'jpg' and os.path.exists(os.path.join(root, os.path.split(name)[1].split('.')[-2]+'.xml')) == True:\n",
    "            image = IMAGE(name, pth)\n",
    "            image.CreateRotatedImages(90)\n",
    "            image.CreateRotatedImages(180)\n",
    "            image.CreateRotatedImages(270)\n",
    "            image.CreateFlippedImages('lr')\n",
    "            image.CreateFlippedImages('tb')"
   ]
  },
  {
   "cell_type": "markdown",
   "metadata": {},
   "source": [
    "### Move files into Tensorflow Suite with random Test / Train split\n",
    "This is a helper block used to randomly move through the output folder and move some files into the training folder, and some into the test folder. The test:train split is determined by the random integer - which moves image/xml pairs to the test folder onl if the number is greater than 75. "
   ]
  },
  {
   "cell_type": "code",
   "execution_count": 2,
   "metadata": {
    "collapsed": true
   },
   "outputs": [],
   "source": [
    "PATH = r'D:\\WWTP\\GBDX_images\\Mexico\\Output'\n",
    "outtrain = r'C:\\tensorflow1\\models\\research\\object_detection\\images\\train'\n",
    "outtest = r'C:\\tensorflow1\\models\\research\\object_detection\\images\\test'"
   ]
  },
  {
   "cell_type": "code",
   "execution_count": 3,
   "metadata": {
    "collapsed": true
   },
   "outputs": [],
   "source": [
    "for root, dirs, files in os.walk(PATH, topdown=False):\n",
    "    for name in files:\n",
    "        tif = name.replace('.jpg','.xml')\n",
    "        if os.path.split(name)[1].split('.')[-1] == 'jpg':\n",
    "            if os.path.exists(os.path.join(outtest, name)) == True or os.path.exists(os.path.join(outtrain, name)):\n",
    "                pass\n",
    "            else:\n",
    "\n",
    "                if random.randint(1,100) > 75:\n",
    "                    shutil.copyfile(os.path.join(root, name), os.path.join(outtest, name))\n",
    "                    shutil.copyfile(os.path.join(root, tif), os.path.join(outtest, tif))\n",
    "                else:\n",
    "                    shutil.copyfile(os.path.join(root, name), os.path.join(outtrain, name))\n",
    "                    shutil.copyfile(os.path.join(root, tif), os.path.join(outtrain, tif))"
   ]
  }
 ],
 "metadata": {
  "kernelspec": {
   "display_name": "Python 3",
   "language": "python",
   "name": "python3"
  },
  "language_info": {
   "codemirror_mode": {
    "name": "ipython",
    "version": 3
   },
   "file_extension": ".py",
   "mimetype": "text/x-python",
   "name": "python",
   "nbconvert_exporter": "python",
   "pygments_lexer": "ipython3",
   "version": "3.6.1"
  }
 },
 "nbformat": 4,
 "nbformat_minor": 2
}
