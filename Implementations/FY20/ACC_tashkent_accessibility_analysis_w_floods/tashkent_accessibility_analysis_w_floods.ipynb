{
 "cells": [
  {
   "cell_type": "markdown",
   "metadata": {},
   "source": [
    "# Tashkent Accessibility Analysis with Floods\n",
    "\n",
    "- This analysis will measure accessibility to schools and hospitals\n",
    "- Origins are derived from 250m grid blocks coming from GHSL POP\n",
    "- The accessibility measure is the time to the nearest facility in seconds\n",
    "\n",
    "## Inputs:\n",
    "\n",
    "#### origins: derived from a GHSL POP raster (WorldPop did not visually seem as accurate) manually using the 'Raster pixels to Points' tool in QGIS 3, and saved as a shapefile\n",
    "#### destinations: The combination of POIs from Overpass as points and centroids of polygons called through the GOSTNets OSMNX_POIs library.\n",
    "#### The admin AOI will be used to create a bounding box to download the road network via OSMNX\n"
   ]
  },
  {
   "cell_type": "markdown",
   "metadata": {},
   "source": [
    "### Import libraries"
   ]
  },
  {
   "cell_type": "code",
   "execution_count": 5,
   "metadata": {},
   "outputs": [],
   "source": [
    "import sys, os, inspect, logging, importlib\n",
    "\n",
    "import geopandas as gpd\n",
    "import pandas as pd\n",
    "import numpy as np\n",
    "import osmnx as ox\n",
    "import networkx as nx\n",
    "from shapely.ops import split, unary_union\n",
    "from shapely.geometry import box, Point\n",
    "\n",
    "import matplotlib.pyplot as plt"
   ]
  },
  {
   "cell_type": "code",
   "execution_count": 6,
   "metadata": {},
   "outputs": [],
   "source": [
    "# verify that your Anaconda environment is in your system path\n",
    "# sys.path"
   ]
  },
  {
   "cell_type": "code",
   "execution_count": 7,
   "metadata": {},
   "outputs": [],
   "source": [
    "# Get reference to GOSTNets if not installed through pip\n",
    "# sys.path.append(r'../../../GOSTnets')\n",
    "import GOSTnets as gn"
   ]
  },
  {
   "cell_type": "code",
   "execution_count": 8,
   "metadata": {},
   "outputs": [],
   "source": [
    "# Get reference to OSMNX_POIs\n",
    "sys.path.append(r'../..')\n",
    "from Market_Access import OSMNX_POIs"
   ]
  },
  {
   "cell_type": "code",
   "execution_count": 9,
   "metadata": {},
   "outputs": [],
   "source": [
    "# define output folder\n",
    "inputFolder = r'input_folder'\n",
    "# define output folder\n",
    "outputFolder = r'output_folder'\n",
    "# define road graph\n",
    "roadGraph = os.path.join(inputFolder, \"OSM_Roads.pickle\")"
   ]
  },
  {
   "cell_type": "code",
   "execution_count": 10,
   "metadata": {},
   "outputs": [],
   "source": [
    "# import extent\n",
    "city_extent = gpd.read_file(os.path.join(inputFolder, \"Tashkent_AOI.shp\"))"
   ]
  },
  {
   "cell_type": "code",
   "execution_count": 11,
   "metadata": {},
   "outputs": [
    {
     "name": "stdout",
     "output_type": "stream",
     "text": [
      "epsg:4326\n"
     ]
    }
   ],
   "source": [
    "# make sure crs is 4326\n",
    "print(city_extent.crs)"
   ]
  },
  {
   "cell_type": "code",
   "execution_count": 12,
   "metadata": {},
   "outputs": [],
   "source": [
    "# the * unpacks the city_extent.total_bounds argument list while calling the function\n",
    "extent = box(*city_extent.total_bounds)"
   ]
  },
  {
   "cell_type": "code",
   "execution_count": 13,
   "metadata": {},
   "outputs": [
    {
     "data": {
      "image/svg+xml": [
       "<svg xmlns=\"http://www.w3.org/2000/svg\" xmlns:xlink=\"http://www.w3.org/1999/xlink\" width=\"100.0\" height=\"100.0\" viewBox=\"69.10782086402172 41.155035163721884 0.3797694724231917 0.2815258719613922\" preserveAspectRatio=\"xMinYMin meet\"><g transform=\"matrix(1,0,0,-1,0,82.59159619940516)\"><path fill-rule=\"evenodd\" fill=\"#66cc99\" stroke=\"#555555\" stroke-width=\"0.007595389448463834\" opacity=\"0.6\" d=\"M 69.47352480042923,41.169100699737555 L 69.47352480042923,41.422495499667605 L 69.1218864000374,41.422495499667605 L 69.1218864000374,41.169100699737555 L 69.47352480042923,41.169100699737555 z\" /></g></svg>"
      ],
      "text/plain": [
       "<shapely.geometry.polygon.Polygon at 0x12a101c10>"
      ]
     },
     "execution_count": 13,
     "metadata": {},
     "output_type": "execute_result"
    }
   ],
   "source": [
    "extent"
   ]
  },
  {
   "cell_type": "markdown",
   "metadata": {},
   "source": [
    "## We will extract OSM POIs"
   ]
  },
  {
   "cell_type": "code",
   "execution_count": 14,
   "metadata": {},
   "outputs": [],
   "source": [
    "educational_query = OSMNX_POIs.AmenityObject('Education', extent, ['school', 'kindergarten','university', 'college'], inputFolder)        "
   ]
  },
  {
   "cell_type": "code",
   "execution_count": 15,
   "metadata": {},
   "outputs": [
    {
     "data": {
      "text/plain": [
       "<Market_Access.OSMNX_POIs.AmenityObject at 0x1081ba550>"
      ]
     },
     "execution_count": 15,
     "metadata": {},
     "output_type": "execute_result"
    }
   ],
   "source": [
    "educational_query"
   ]
  },
  {
   "cell_type": "code",
   "execution_count": 16,
   "metadata": {},
   "outputs": [],
   "source": [
    "destinations = educational_query.GenerateOSMPOIs()"
   ]
  },
  {
   "cell_type": "code",
   "execution_count": 17,
   "metadata": {},
   "outputs": [
    {
     "data": {
      "text/html": [
       "<div>\n",
       "<style scoped>\n",
       "    .dataframe tbody tr th:only-of-type {\n",
       "        vertical-align: middle;\n",
       "    }\n",
       "\n",
       "    .dataframe tbody tr th {\n",
       "        vertical-align: top;\n",
       "    }\n",
       "\n",
       "    .dataframe thead th {\n",
       "        text-align: right;\n",
       "    }\n",
       "</style>\n",
       "<table border=\"1\" class=\"dataframe\">\n",
       "  <thead>\n",
       "    <tr style=\"text-align: right;\">\n",
       "      <th></th>\n",
       "      <th>osmid</th>\n",
       "      <th>geometry</th>\n",
       "      <th>crossing</th>\n",
       "      <th>highway</th>\n",
       "      <th>element_type</th>\n",
       "      <th>barrier</th>\n",
       "      <th>bicycle</th>\n",
       "      <th>foot</th>\n",
       "      <th>horse</th>\n",
       "      <th>motorcar</th>\n",
       "      <th>...</th>\n",
       "      <th>phone_2</th>\n",
       "      <th>phone_3</th>\n",
       "      <th>wall</th>\n",
       "      <th>admin_level</th>\n",
       "      <th>boundary</th>\n",
       "      <th>ways</th>\n",
       "      <th>name:uz-cyr</th>\n",
       "      <th>start_date</th>\n",
       "      <th>short_name:en</th>\n",
       "      <th>name:ko</th>\n",
       "    </tr>\n",
       "  </thead>\n",
       "  <tbody>\n",
       "    <tr>\n",
       "      <th>0</th>\n",
       "      <td>358864754</td>\n",
       "      <td>POINT (69.21058 41.34265)</td>\n",
       "      <td>marked</td>\n",
       "      <td>crossing</td>\n",
       "      <td>node</td>\n",
       "      <td>NaN</td>\n",
       "      <td>NaN</td>\n",
       "      <td>NaN</td>\n",
       "      <td>NaN</td>\n",
       "      <td>NaN</td>\n",
       "      <td>...</td>\n",
       "      <td>NaN</td>\n",
       "      <td>NaN</td>\n",
       "      <td>NaN</td>\n",
       "      <td>NaN</td>\n",
       "      <td>NaN</td>\n",
       "      <td>NaN</td>\n",
       "      <td>NaN</td>\n",
       "      <td>NaN</td>\n",
       "      <td>NaN</td>\n",
       "      <td>NaN</td>\n",
       "    </tr>\n",
       "    <tr>\n",
       "      <th>1</th>\n",
       "      <td>359378452</td>\n",
       "      <td>POINT (69.30863 41.31959)</td>\n",
       "      <td>NaN</td>\n",
       "      <td>NaN</td>\n",
       "      <td>node</td>\n",
       "      <td>gate</td>\n",
       "      <td>yes</td>\n",
       "      <td>yes</td>\n",
       "      <td>yes</td>\n",
       "      <td>yes</td>\n",
       "      <td>...</td>\n",
       "      <td>NaN</td>\n",
       "      <td>NaN</td>\n",
       "      <td>NaN</td>\n",
       "      <td>NaN</td>\n",
       "      <td>NaN</td>\n",
       "      <td>NaN</td>\n",
       "      <td>NaN</td>\n",
       "      <td>NaN</td>\n",
       "      <td>NaN</td>\n",
       "      <td>NaN</td>\n",
       "    </tr>\n",
       "    <tr>\n",
       "      <th>2</th>\n",
       "      <td>359525997</td>\n",
       "      <td>POINT (69.28276 41.32064)</td>\n",
       "      <td>NaN</td>\n",
       "      <td>NaN</td>\n",
       "      <td>node</td>\n",
       "      <td>NaN</td>\n",
       "      <td>NaN</td>\n",
       "      <td>NaN</td>\n",
       "      <td>NaN</td>\n",
       "      <td>NaN</td>\n",
       "      <td>...</td>\n",
       "      <td>NaN</td>\n",
       "      <td>NaN</td>\n",
       "      <td>NaN</td>\n",
       "      <td>NaN</td>\n",
       "      <td>NaN</td>\n",
       "      <td>NaN</td>\n",
       "      <td>NaN</td>\n",
       "      <td>NaN</td>\n",
       "      <td>NaN</td>\n",
       "      <td>NaN</td>\n",
       "    </tr>\n",
       "    <tr>\n",
       "      <th>3</th>\n",
       "      <td>964904410</td>\n",
       "      <td>POINT (69.21824 41.19973)</td>\n",
       "      <td>NaN</td>\n",
       "      <td>NaN</td>\n",
       "      <td>node</td>\n",
       "      <td>gate</td>\n",
       "      <td>NaN</td>\n",
       "      <td>NaN</td>\n",
       "      <td>NaN</td>\n",
       "      <td>NaN</td>\n",
       "      <td>...</td>\n",
       "      <td>NaN</td>\n",
       "      <td>NaN</td>\n",
       "      <td>NaN</td>\n",
       "      <td>NaN</td>\n",
       "      <td>NaN</td>\n",
       "      <td>NaN</td>\n",
       "      <td>NaN</td>\n",
       "      <td>NaN</td>\n",
       "      <td>NaN</td>\n",
       "      <td>NaN</td>\n",
       "    </tr>\n",
       "    <tr>\n",
       "      <th>4</th>\n",
       "      <td>999138955</td>\n",
       "      <td>POINT (69.30732 41.25104)</td>\n",
       "      <td>NaN</td>\n",
       "      <td>NaN</td>\n",
       "      <td>node</td>\n",
       "      <td>gate</td>\n",
       "      <td>NaN</td>\n",
       "      <td>NaN</td>\n",
       "      <td>NaN</td>\n",
       "      <td>NaN</td>\n",
       "      <td>...</td>\n",
       "      <td>NaN</td>\n",
       "      <td>NaN</td>\n",
       "      <td>NaN</td>\n",
       "      <td>NaN</td>\n",
       "      <td>NaN</td>\n",
       "      <td>NaN</td>\n",
       "      <td>NaN</td>\n",
       "      <td>NaN</td>\n",
       "      <td>NaN</td>\n",
       "      <td>NaN</td>\n",
       "    </tr>\n",
       "  </tbody>\n",
       "</table>\n",
       "<p>5 rows × 116 columns</p>\n",
       "</div>"
      ],
      "text/plain": [
       "       osmid                   geometry crossing   highway element_type  \\\n",
       "0  358864754  POINT (69.21058 41.34265)   marked  crossing         node   \n",
       "1  359378452  POINT (69.30863 41.31959)      NaN       NaN         node   \n",
       "2  359525997  POINT (69.28276 41.32064)      NaN       NaN         node   \n",
       "3  964904410  POINT (69.21824 41.19973)      NaN       NaN         node   \n",
       "4  999138955  POINT (69.30732 41.25104)      NaN       NaN         node   \n",
       "\n",
       "  barrier bicycle foot horse motorcar  ... phone_2 phone_3 wall admin_level  \\\n",
       "0     NaN     NaN  NaN   NaN      NaN  ...     NaN     NaN  NaN         NaN   \n",
       "1    gate     yes  yes   yes      yes  ...     NaN     NaN  NaN         NaN   \n",
       "2     NaN     NaN  NaN   NaN      NaN  ...     NaN     NaN  NaN         NaN   \n",
       "3    gate     NaN  NaN   NaN      NaN  ...     NaN     NaN  NaN         NaN   \n",
       "4    gate     NaN  NaN   NaN      NaN  ...     NaN     NaN  NaN         NaN   \n",
       "\n",
       "  boundary ways name:uz-cyr start_date short_name:en name:ko  \n",
       "0      NaN  NaN         NaN        NaN           NaN     NaN  \n",
       "1      NaN  NaN         NaN        NaN           NaN     NaN  \n",
       "2      NaN  NaN         NaN        NaN           NaN     NaN  \n",
       "3      NaN  NaN         NaN        NaN           NaN     NaN  \n",
       "4      NaN  NaN         NaN        NaN           NaN     NaN  \n",
       "\n",
       "[5 rows x 116 columns]"
      ]
     },
     "execution_count": 17,
     "metadata": {},
     "output_type": "execute_result"
    }
   ],
   "source": [
    "destinations[:5]"
   ]
  },
  {
   "cell_type": "markdown",
   "metadata": {},
   "source": [
    "## We will extract the Roads and convert into a graph, and calculate edge times"
   ]
  },
  {
   "cell_type": "code",
   "execution_count": 18,
   "metadata": {},
   "outputs": [],
   "source": [
    "# This is the section where we can adjust the road speeds\n",
    "if not os.path.exists(roadGraph):\n",
    "    extent = box(*city_extent.total_bounds)\n",
    "    # OSMNX does similiar cleaning and simplification to gn.network_clean automatically,\n",
    "    # and returns a bidirectional NetworkX MultiDiGraph\n",
    "    G = ox.graph_from_polygon(extent, network_type = 'drive_service')\n",
    "    # This is how time is calculated from the OSMNX length attribute, which is in meters\n",
    "    G = gn.convert_network_to_time(G, 'length')\n",
    "    # save the largest subgraph\n",
    "    \n",
    "    # Identify only the largest graph\n",
    "\n",
    "    # compatible with NetworkX 2.4\n",
    "    list_of_subgraphs = list(G.subgraph(c).copy() for c in nx.strongly_connected_components(G))\n",
    "    max_graph = None\n",
    "    max_edges = 0\n",
    "    for i in list_of_subgraphs:\n",
    "        if i.number_of_edges() > max_edges:\n",
    "            max_edges = i.number_of_edges()\n",
    "            max_graph = i\n",
    "\n",
    "    # set your graph equal to the largest sub-graph\n",
    "    G = max_graph\n",
    "    \n",
    "    print('print G')\n",
    "    print(len(G))\n",
    "    nx.write_gpickle(G, roadGraph)\n",
    "else:\n",
    "    G = nx.read_gpickle(roadGraph)    \n",
    "    G = gn.convert_network_to_time(G, 'length')"
   ]
  },
  {
   "cell_type": "markdown",
   "metadata": {},
   "source": [
    "### Inspect the road graph as a shapefile"
   ]
  },
  {
   "cell_type": "code",
   "execution_count": 19,
   "metadata": {},
   "outputs": [
    {
     "name": "stderr",
     "output_type": "stream",
     "text": [
      "/Users/thomasgertin3/anaconda3/envs/gostnets3/lib/python3.7/site-packages/pyproj/crs/crs.py:55: FutureWarning: '+init=<authority>:<code>' syntax is deprecated. '<authority>:<code>' is the preferred initialization method. When making the change, be mindful of axis order changes: https://pyproj4.github.io/pyproj/stable/gotchas.html#axis-order-changes-in-proj-6\n",
      "  return _prepare_from_string(\" \".join(pjargs))\n"
     ]
    }
   ],
   "source": [
    "roads = gn.edge_gdf_from_graph(G)"
   ]
  },
  {
   "cell_type": "code",
   "execution_count": 20,
   "metadata": {},
   "outputs": [
    {
     "data": {
      "text/html": [
       "<div>\n",
       "<style scoped>\n",
       "    .dataframe tbody tr th:only-of-type {\n",
       "        vertical-align: middle;\n",
       "    }\n",
       "\n",
       "    .dataframe tbody tr th {\n",
       "        vertical-align: top;\n",
       "    }\n",
       "\n",
       "    .dataframe thead th {\n",
       "        text-align: right;\n",
       "    }\n",
       "</style>\n",
       "<table border=\"1\" class=\"dataframe\">\n",
       "  <thead>\n",
       "    <tr style=\"text-align: right;\">\n",
       "      <th></th>\n",
       "      <th>stnode</th>\n",
       "      <th>endnode</th>\n",
       "      <th>maxspeed</th>\n",
       "      <th>width</th>\n",
       "      <th>service</th>\n",
       "      <th>landuse</th>\n",
       "      <th>time</th>\n",
       "      <th>access</th>\n",
       "      <th>lanes</th>\n",
       "      <th>tunnel</th>\n",
       "      <th>bridge</th>\n",
       "      <th>highway</th>\n",
       "      <th>length</th>\n",
       "      <th>junction</th>\n",
       "      <th>mode</th>\n",
       "      <th>oneway</th>\n",
       "      <th>osmid</th>\n",
       "      <th>name</th>\n",
       "      <th>ref</th>\n",
       "      <th>geometry</th>\n",
       "    </tr>\n",
       "  </thead>\n",
       "  <tbody>\n",
       "    <tr>\n",
       "      <th>0</th>\n",
       "      <td>5814616064</td>\n",
       "      <td>5814616062</td>\n",
       "      <td>NaN</td>\n",
       "      <td>NaN</td>\n",
       "      <td>NaN</td>\n",
       "      <td>NaN</td>\n",
       "      <td>12.45708</td>\n",
       "      <td>NaN</td>\n",
       "      <td>NaN</td>\n",
       "      <td>NaN</td>\n",
       "      <td>NaN</td>\n",
       "      <td>service</td>\n",
       "      <td>69.206</td>\n",
       "      <td>NaN</td>\n",
       "      <td>drive</td>\n",
       "      <td>False</td>\n",
       "      <td>614769586</td>\n",
       "      <td>NaN</td>\n",
       "      <td>NaN</td>\n",
       "      <td>LINESTRING (69.29001 41.30948, 69.29002 41.309...</td>\n",
       "    </tr>\n",
       "    <tr>\n",
       "      <th>1</th>\n",
       "      <td>5814616064</td>\n",
       "      <td>5957852995</td>\n",
       "      <td>NaN</td>\n",
       "      <td>NaN</td>\n",
       "      <td>NaN</td>\n",
       "      <td>NaN</td>\n",
       "      <td>4.65552</td>\n",
       "      <td>NaN</td>\n",
       "      <td>NaN</td>\n",
       "      <td>NaN</td>\n",
       "      <td>NaN</td>\n",
       "      <td>service</td>\n",
       "      <td>25.864</td>\n",
       "      <td>NaN</td>\n",
       "      <td>drive</td>\n",
       "      <td>False</td>\n",
       "      <td>614769586</td>\n",
       "      <td>NaN</td>\n",
       "      <td>NaN</td>\n",
       "      <td>LINESTRING (69.29001 41.30948, 69.29000 41.309...</td>\n",
       "    </tr>\n",
       "  </tbody>\n",
       "</table>\n",
       "</div>"
      ],
      "text/plain": [
       "       stnode     endnode maxspeed width service landuse      time access  \\\n",
       "0  5814616064  5814616062      NaN   NaN     NaN     NaN  12.45708    NaN   \n",
       "1  5814616064  5957852995      NaN   NaN     NaN     NaN   4.65552    NaN   \n",
       "\n",
       "  lanes tunnel bridge  highway  length junction   mode  oneway      osmid  \\\n",
       "0   NaN    NaN    NaN  service  69.206      NaN  drive   False  614769586   \n",
       "1   NaN    NaN    NaN  service  25.864      NaN  drive   False  614769586   \n",
       "\n",
       "  name  ref                                           geometry  \n",
       "0  NaN  NaN  LINESTRING (69.29001 41.30948, 69.29002 41.309...  \n",
       "1  NaN  NaN  LINESTRING (69.29001 41.30948, 69.29000 41.309...  "
      ]
     },
     "execution_count": 20,
     "metadata": {},
     "output_type": "execute_result"
    }
   ],
   "source": [
    "roads[:2]"
   ]
  },
  {
   "cell_type": "code",
   "execution_count": 21,
   "metadata": {},
   "outputs": [],
   "source": [
    "if not os.path.exists(outputFolder + '/OSM_Roads/OSM_Roads.shp'):\n",
    "    roads['oneway'] = roads.oneway.astype(int)\n",
    "    roads = roads[['oneway','length','time','mode','geometry']]\n",
    "    roads.to_file(outputFolder + '/OSM_Roads')"
   ]
  },
  {
   "cell_type": "markdown",
   "metadata": {},
   "source": [
    "# 1st Analysis: Non-flooded scenario"
   ]
  },
  {
   "cell_type": "markdown",
   "metadata": {},
   "source": [
    "## Create origins and destinations and snap them to the road graph"
   ]
  },
  {
   "cell_type": "code",
   "execution_count": 22,
   "metadata": {},
   "outputs": [],
   "source": [
    "# insert origins\n",
    "origins = gpd.read_file(os.path.join(inputFolder, \"tashkent_ghsl2015_pop_250m_pts.shp\"))"
   ]
  },
  {
   "cell_type": "code",
   "execution_count": 23,
   "metadata": {},
   "outputs": [],
   "source": [
    "# snap the origins to the road graph\n",
    "snapped_origins = gn.pandana_snap_c(G, origins)"
   ]
  },
  {
   "cell_type": "code",
   "execution_count": 24,
   "metadata": {},
   "outputs": [
    {
     "data": {
      "text/plain": [
       "0       POINT (69.21058 41.34265)\n",
       "1       POINT (69.30863 41.31959)\n",
       "2       POINT (69.28276 41.32064)\n",
       "3       POINT (69.21824 41.19973)\n",
       "4       POINT (69.30732 41.25104)\n",
       "                  ...            \n",
       "1490    POINT (69.18645 41.35817)\n",
       "1491    POINT (69.18623 41.35744)\n",
       "1492    POINT (69.21089 41.19061)\n",
       "1493    POINT (69.16661 41.34217)\n",
       "1494    POINT (69.31959 41.18589)\n",
       "Name: geometry, Length: 1495, dtype: geometry"
      ]
     },
     "execution_count": 24,
     "metadata": {},
     "output_type": "execute_result"
    }
   ],
   "source": [
    "destinations.geometry"
   ]
  },
  {
   "cell_type": "code",
   "execution_count": 25,
   "metadata": {},
   "outputs": [],
   "source": [
    "destinations['x'] = destinations.geometry.apply(lambda geometry: geometry.x)"
   ]
  },
  {
   "cell_type": "code",
   "execution_count": 26,
   "metadata": {},
   "outputs": [
    {
     "data": {
      "text/html": [
       "<div>\n",
       "<style scoped>\n",
       "    .dataframe tbody tr th:only-of-type {\n",
       "        vertical-align: middle;\n",
       "    }\n",
       "\n",
       "    .dataframe tbody tr th {\n",
       "        vertical-align: top;\n",
       "    }\n",
       "\n",
       "    .dataframe thead th {\n",
       "        text-align: right;\n",
       "    }\n",
       "</style>\n",
       "<table border=\"1\" class=\"dataframe\">\n",
       "  <thead>\n",
       "    <tr style=\"text-align: right;\">\n",
       "      <th></th>\n",
       "      <th>osmid</th>\n",
       "      <th>geometry</th>\n",
       "      <th>crossing</th>\n",
       "      <th>highway</th>\n",
       "      <th>element_type</th>\n",
       "      <th>barrier</th>\n",
       "      <th>bicycle</th>\n",
       "      <th>foot</th>\n",
       "      <th>horse</th>\n",
       "      <th>motorcar</th>\n",
       "      <th>...</th>\n",
       "      <th>phone_3</th>\n",
       "      <th>wall</th>\n",
       "      <th>admin_level</th>\n",
       "      <th>boundary</th>\n",
       "      <th>ways</th>\n",
       "      <th>name:uz-cyr</th>\n",
       "      <th>start_date</th>\n",
       "      <th>short_name:en</th>\n",
       "      <th>name:ko</th>\n",
       "      <th>x</th>\n",
       "    </tr>\n",
       "  </thead>\n",
       "  <tbody>\n",
       "    <tr>\n",
       "      <th>0</th>\n",
       "      <td>358864754</td>\n",
       "      <td>POINT (69.21058 41.34265)</td>\n",
       "      <td>marked</td>\n",
       "      <td>crossing</td>\n",
       "      <td>node</td>\n",
       "      <td>NaN</td>\n",
       "      <td>NaN</td>\n",
       "      <td>NaN</td>\n",
       "      <td>NaN</td>\n",
       "      <td>NaN</td>\n",
       "      <td>...</td>\n",
       "      <td>NaN</td>\n",
       "      <td>NaN</td>\n",
       "      <td>NaN</td>\n",
       "      <td>NaN</td>\n",
       "      <td>NaN</td>\n",
       "      <td>NaN</td>\n",
       "      <td>NaN</td>\n",
       "      <td>NaN</td>\n",
       "      <td>NaN</td>\n",
       "      <td>69.210583</td>\n",
       "    </tr>\n",
       "    <tr>\n",
       "      <th>1</th>\n",
       "      <td>359378452</td>\n",
       "      <td>POINT (69.30863 41.31959)</td>\n",
       "      <td>NaN</td>\n",
       "      <td>NaN</td>\n",
       "      <td>node</td>\n",
       "      <td>gate</td>\n",
       "      <td>yes</td>\n",
       "      <td>yes</td>\n",
       "      <td>yes</td>\n",
       "      <td>yes</td>\n",
       "      <td>...</td>\n",
       "      <td>NaN</td>\n",
       "      <td>NaN</td>\n",
       "      <td>NaN</td>\n",
       "      <td>NaN</td>\n",
       "      <td>NaN</td>\n",
       "      <td>NaN</td>\n",
       "      <td>NaN</td>\n",
       "      <td>NaN</td>\n",
       "      <td>NaN</td>\n",
       "      <td>69.308628</td>\n",
       "    </tr>\n",
       "    <tr>\n",
       "      <th>2</th>\n",
       "      <td>359525997</td>\n",
       "      <td>POINT (69.28276 41.32064)</td>\n",
       "      <td>NaN</td>\n",
       "      <td>NaN</td>\n",
       "      <td>node</td>\n",
       "      <td>NaN</td>\n",
       "      <td>NaN</td>\n",
       "      <td>NaN</td>\n",
       "      <td>NaN</td>\n",
       "      <td>NaN</td>\n",
       "      <td>...</td>\n",
       "      <td>NaN</td>\n",
       "      <td>NaN</td>\n",
       "      <td>NaN</td>\n",
       "      <td>NaN</td>\n",
       "      <td>NaN</td>\n",
       "      <td>NaN</td>\n",
       "      <td>NaN</td>\n",
       "      <td>NaN</td>\n",
       "      <td>NaN</td>\n",
       "      <td>69.282759</td>\n",
       "    </tr>\n",
       "    <tr>\n",
       "      <th>3</th>\n",
       "      <td>964904410</td>\n",
       "      <td>POINT (69.21824 41.19973)</td>\n",
       "      <td>NaN</td>\n",
       "      <td>NaN</td>\n",
       "      <td>node</td>\n",
       "      <td>gate</td>\n",
       "      <td>NaN</td>\n",
       "      <td>NaN</td>\n",
       "      <td>NaN</td>\n",
       "      <td>NaN</td>\n",
       "      <td>...</td>\n",
       "      <td>NaN</td>\n",
       "      <td>NaN</td>\n",
       "      <td>NaN</td>\n",
       "      <td>NaN</td>\n",
       "      <td>NaN</td>\n",
       "      <td>NaN</td>\n",
       "      <td>NaN</td>\n",
       "      <td>NaN</td>\n",
       "      <td>NaN</td>\n",
       "      <td>69.218240</td>\n",
       "    </tr>\n",
       "    <tr>\n",
       "      <th>4</th>\n",
       "      <td>999138955</td>\n",
       "      <td>POINT (69.30732 41.25104)</td>\n",
       "      <td>NaN</td>\n",
       "      <td>NaN</td>\n",
       "      <td>node</td>\n",
       "      <td>gate</td>\n",
       "      <td>NaN</td>\n",
       "      <td>NaN</td>\n",
       "      <td>NaN</td>\n",
       "      <td>NaN</td>\n",
       "      <td>...</td>\n",
       "      <td>NaN</td>\n",
       "      <td>NaN</td>\n",
       "      <td>NaN</td>\n",
       "      <td>NaN</td>\n",
       "      <td>NaN</td>\n",
       "      <td>NaN</td>\n",
       "      <td>NaN</td>\n",
       "      <td>NaN</td>\n",
       "      <td>NaN</td>\n",
       "      <td>69.307316</td>\n",
       "    </tr>\n",
       "  </tbody>\n",
       "</table>\n",
       "<p>5 rows × 117 columns</p>\n",
       "</div>"
      ],
      "text/plain": [
       "       osmid                   geometry crossing   highway element_type  \\\n",
       "0  358864754  POINT (69.21058 41.34265)   marked  crossing         node   \n",
       "1  359378452  POINT (69.30863 41.31959)      NaN       NaN         node   \n",
       "2  359525997  POINT (69.28276 41.32064)      NaN       NaN         node   \n",
       "3  964904410  POINT (69.21824 41.19973)      NaN       NaN         node   \n",
       "4  999138955  POINT (69.30732 41.25104)      NaN       NaN         node   \n",
       "\n",
       "  barrier bicycle foot horse motorcar  ... phone_3 wall admin_level boundary  \\\n",
       "0     NaN     NaN  NaN   NaN      NaN  ...     NaN  NaN         NaN      NaN   \n",
       "1    gate     yes  yes   yes      yes  ...     NaN  NaN         NaN      NaN   \n",
       "2     NaN     NaN  NaN   NaN      NaN  ...     NaN  NaN         NaN      NaN   \n",
       "3    gate     NaN  NaN   NaN      NaN  ...     NaN  NaN         NaN      NaN   \n",
       "4    gate     NaN  NaN   NaN      NaN  ...     NaN  NaN         NaN      NaN   \n",
       "\n",
       "  ways name:uz-cyr start_date short_name:en name:ko          x  \n",
       "0  NaN         NaN        NaN           NaN     NaN  69.210583  \n",
       "1  NaN         NaN        NaN           NaN     NaN  69.308628  \n",
       "2  NaN         NaN        NaN           NaN     NaN  69.282759  \n",
       "3  NaN         NaN        NaN           NaN     NaN  69.218240  \n",
       "4  NaN         NaN        NaN           NaN     NaN  69.307316  \n",
       "\n",
       "[5 rows x 117 columns]"
      ]
     },
     "execution_count": 26,
     "metadata": {},
     "output_type": "execute_result"
    }
   ],
   "source": [
    "destinations[:5]"
   ]
  },
  {
   "cell_type": "code",
   "execution_count": 27,
   "metadata": {},
   "outputs": [],
   "source": [
    "# snap the destinations to the road graph\n",
    "snapped_destinations = gn.pandana_snap_c(G, destinations)"
   ]
  },
  {
   "cell_type": "code",
   "execution_count": 28,
   "metadata": {},
   "outputs": [],
   "source": [
    "originNodes = list(snapped_origins['NN'].unique())"
   ]
  },
  {
   "cell_type": "code",
   "execution_count": 29,
   "metadata": {},
   "outputs": [],
   "source": [
    "destinationNodes = list(snapped_destinations['NN'].unique())"
   ]
  },
  {
   "cell_type": "code",
   "execution_count": 30,
   "metadata": {},
   "outputs": [],
   "source": [
    "# calculate OD matrix\n",
    "OD_matrix = gn.calculate_OD(G, originNodes, destinationNodes, fail_value = -1, weight = 'time')"
   ]
  },
  {
   "cell_type": "code",
   "execution_count": 31,
   "metadata": {},
   "outputs": [],
   "source": [
    "#OD_matrix[:3]"
   ]
  },
  {
   "cell_type": "markdown",
   "metadata": {},
   "source": [
    "## calculate accessibility\n",
    "### For each row, the closest facility is the smallest value in the row"
   ]
  },
  {
   "cell_type": "code",
   "execution_count": 32,
   "metadata": {},
   "outputs": [],
   "source": [
    "# testing\n",
    "# closest_facility_per_origin = OD_matrix.min(axis=1)\n",
    "# closest_facility_per_origin[:5]"
   ]
  },
  {
   "cell_type": "code",
   "execution_count": 33,
   "metadata": {},
   "outputs": [],
   "source": [
    "closest_facility_per_origin = OD_matrix.min(axis=1)\n",
    "\n",
    "results = pd.DataFrame([originNodes, closest_facility_per_origin]).transpose()\n",
    "colName = \"travel_time_to_closest_facility\"\n",
    "results.columns = ['NN', colName]"
   ]
  },
  {
   "cell_type": "code",
   "execution_count": 34,
   "metadata": {},
   "outputs": [
    {
     "data": {
      "text/html": [
       "<div>\n",
       "<style scoped>\n",
       "    .dataframe tbody tr th:only-of-type {\n",
       "        vertical-align: middle;\n",
       "    }\n",
       "\n",
       "    .dataframe tbody tr th {\n",
       "        vertical-align: top;\n",
       "    }\n",
       "\n",
       "    .dataframe thead th {\n",
       "        text-align: right;\n",
       "    }\n",
       "</style>\n",
       "<table border=\"1\" class=\"dataframe\">\n",
       "  <thead>\n",
       "    <tr style=\"text-align: right;\">\n",
       "      <th></th>\n",
       "      <th>NN</th>\n",
       "      <th>travel_time_to_closest_facility</th>\n",
       "    </tr>\n",
       "  </thead>\n",
       "  <tbody>\n",
       "    <tr>\n",
       "      <th>0</th>\n",
       "      <td>4.202418e+09</td>\n",
       "      <td>343.20726</td>\n",
       "    </tr>\n",
       "    <tr>\n",
       "      <th>1</th>\n",
       "      <td>2.080926e+09</td>\n",
       "      <td>289.75608</td>\n",
       "    </tr>\n",
       "    <tr>\n",
       "      <th>2</th>\n",
       "      <td>4.709277e+09</td>\n",
       "      <td>604.38702</td>\n",
       "    </tr>\n",
       "    <tr>\n",
       "      <th>3</th>\n",
       "      <td>4.202528e+09</td>\n",
       "      <td>158.40228</td>\n",
       "    </tr>\n",
       "    <tr>\n",
       "      <th>4</th>\n",
       "      <td>4.202528e+09</td>\n",
       "      <td>135.20532</td>\n",
       "    </tr>\n",
       "  </tbody>\n",
       "</table>\n",
       "</div>"
      ],
      "text/plain": [
       "             NN  travel_time_to_closest_facility\n",
       "0  4.202418e+09                        343.20726\n",
       "1  2.080926e+09                        289.75608\n",
       "2  4.709277e+09                        604.38702\n",
       "3  4.202528e+09                        158.40228\n",
       "4  4.202528e+09                        135.20532"
      ]
     },
     "execution_count": 34,
     "metadata": {},
     "output_type": "execute_result"
    }
   ],
   "source": [
    "results[:5]"
   ]
  },
  {
   "cell_type": "code",
   "execution_count": 35,
   "metadata": {},
   "outputs": [],
   "source": [
    "snapped_origins_copy = snapped_origins.copy()\n",
    "output = pd.merge(snapped_origins_copy, results, on = \"NN\")"
   ]
  },
  {
   "cell_type": "code",
   "execution_count": 36,
   "metadata": {},
   "outputs": [],
   "source": [
    "# Save baseline results\n",
    "output.to_csv(os.path.join(outputFolder, \"tashkent_accessibility_schools.csv\"))"
   ]
  },
  {
   "cell_type": "markdown",
   "metadata": {},
   "source": [
    "# 2nd Analysis: Flooded scenario"
   ]
  },
  {
   "cell_type": "code",
   "execution_count": 37,
   "metadata": {},
   "outputs": [],
   "source": [
    "# import simulated flood raster\n",
    "# The raster is a combined fluvial and pluvial flood raster where the pixel values represent \n",
    "# the flood depth in a 250 year flood\n",
    "tif_path = os.path.join(inputFolder, \"ubz_fl_pu_simulated_flood_250yr_tashkent_clipped.tif\")\n",
    "if not os.path.exists(tif_path):\n",
    "    print('{} not found'.format(tif_path))\n",
    "    sys.exit()"
   ]
  },
  {
   "cell_type": "code",
   "execution_count": 38,
   "metadata": {},
   "outputs": [],
   "source": [
    "# the GOSTnets sample raster function needs the rasterio dependency\n",
    "G = gn.sample_raster(G, tif_path, property_name = 'flood_height')"
   ]
  },
  {
   "cell_type": "code",
   "execution_count": 39,
   "metadata": {},
   "outputs": [
    {
     "name": "stdout",
     "output_type": "stream",
     "text": [
      "(5814616064, {'y': 41.3094792, 'x': 69.2900069, 'osmid': 5814616064, 'flood_height': 3.0})\n",
      "(1913651200, {'y': 41.2796871, 'x': 69.2610066, 'osmid': 1913651200, 'flood_height': 0.53240126})\n"
     ]
    }
   ],
   "source": [
    "gn.example_node(G, 2)"
   ]
  },
  {
   "cell_type": "markdown",
   "metadata": {},
   "source": [
    "### do some checks"
   ]
  },
  {
   "cell_type": "code",
   "execution_count": 40,
   "metadata": {},
   "outputs": [
    {
     "name": "stdout",
     "output_type": "stream",
     "text": [
      "total number of nodes: 45162\n"
     ]
    }
   ],
   "source": [
    "G_node_gdf = gn.node_gdf_from_graph(G)\n",
    "print('total number of nodes: %d' % len(G_node_gdf))"
   ]
  },
  {
   "cell_type": "code",
   "execution_count": 41,
   "metadata": {},
   "outputs": [
    {
     "name": "stdout",
     "output_type": "stream",
     "text": [
      "number of nodes where flood depth positive: 622\n"
     ]
    }
   ],
   "source": [
    "print('number of nodes where flood depth positive: %d' % len(G_node_gdf.loc[G_node_gdf.flood_height >= 1]))"
   ]
  },
  {
   "cell_type": "code",
   "execution_count": 42,
   "metadata": {},
   "outputs": [
    {
     "name": "stdout",
     "output_type": "stream",
     "text": [
      "number of nodes where flood depth positive: 354\n"
     ]
    }
   ],
   "source": [
    "print('number of nodes where flood depth positive: %d' % len(G_node_gdf.loc[G_node_gdf.flood_height >= 3]))"
   ]
  },
  {
   "cell_type": "code",
   "execution_count": 43,
   "metadata": {},
   "outputs": [
    {
     "name": "stdout",
     "output_type": "stream",
     "text": [
      "0\n"
     ]
    }
   ],
   "source": [
    "# In cases where some nodes don't intersect the raster, solve this by setting flood_depth = 0 where this is the case\n",
    "i = 0\n",
    "for u, data in G.nodes(data = True):\n",
    "    if 'flood_height' not in data.keys():\n",
    "        data['flood_height'] = 0\n",
    "        i+=1\n",
    "print(i)"
   ]
  },
  {
   "cell_type": "markdown",
   "metadata": {},
   "source": [
    "## disrupt the network"
   ]
  },
  {
   "cell_type": "code",
   "execution_count": 44,
   "metadata": {},
   "outputs": [
    {
     "name": "stdout",
     "output_type": "stream",
     "text": [
      "nodes disrupted: 622\n",
      "edges disrupted: 2105\n"
     ]
    }
   ],
   "source": [
    "cutoff_point_to_be_flooded = 1\n",
    "fail_value = 999999999999999\n",
    "G_flood = gn.disrupt_network(G, 'flood_height', cutoff_point_to_be_flooded, fail_value)"
   ]
  },
  {
   "cell_type": "code",
   "execution_count": 45,
   "metadata": {},
   "outputs": [],
   "source": [
    "#gn.example_node(G_flood, 2)"
   ]
  },
  {
   "cell_type": "code",
   "execution_count": 46,
   "metadata": {},
   "outputs": [],
   "source": [
    "#gn.example_edge(G_flood, 2)"
   ]
  },
  {
   "cell_type": "markdown",
   "metadata": {},
   "source": [
    "### Inaccessible population areas and inaccessible schools due to flooding should be removed from the inputs."
   ]
  },
  {
   "cell_type": "code",
   "execution_count": 47,
   "metadata": {},
   "outputs": [],
   "source": [
    "import rasterio \n",
    "\n",
    "# Open the raster and store metadata\n",
    "src = rasterio.open(tif_path)"
   ]
  },
  {
   "cell_type": "code",
   "execution_count": 48,
   "metadata": {},
   "outputs": [
    {
     "data": {
      "text/plain": [
       "9840"
      ]
     },
     "execution_count": 48,
     "metadata": {},
     "output_type": "execute_result"
    }
   ],
   "source": [
    "len(origins)"
   ]
  },
  {
   "cell_type": "code",
   "execution_count": 49,
   "metadata": {},
   "outputs": [],
   "source": [
    "origins_coords = [(x,y) for x, y in zip(origins.geometry.x, origins.geometry.y)]"
   ]
  },
  {
   "cell_type": "code",
   "execution_count": 50,
   "metadata": {},
   "outputs": [],
   "source": [
    "# Sample the raster at every point location and store values in DataFrame\n",
    "origins['raster_value'] = [x for x in src.sample(origins_coords)]"
   ]
  },
  {
   "cell_type": "code",
   "execution_count": 51,
   "metadata": {},
   "outputs": [],
   "source": [
    "#origins[:15]"
   ]
  },
  {
   "cell_type": "code",
   "execution_count": 52,
   "metadata": {},
   "outputs": [],
   "source": [
    "non_flooded_origins = origins[origins.raster_value < 1]"
   ]
  },
  {
   "cell_type": "code",
   "execution_count": 53,
   "metadata": {},
   "outputs": [
    {
     "data": {
      "text/plain": [
       "9558"
      ]
     },
     "execution_count": 53,
     "metadata": {},
     "output_type": "execute_result"
    }
   ],
   "source": [
    "len(non_flooded_origins)"
   ]
  },
  {
   "cell_type": "code",
   "execution_count": 54,
   "metadata": {},
   "outputs": [],
   "source": [
    "# convert destinations pandas to a geopandas dataframe\n",
    "destinations_gpd = gpd.GeoDataFrame(destinations, crs = \"epsg:4326\", geometry = 'geometry')"
   ]
  },
  {
   "cell_type": "code",
   "execution_count": 55,
   "metadata": {},
   "outputs": [
    {
     "data": {
      "text/plain": [
       "1495"
      ]
     },
     "execution_count": 55,
     "metadata": {},
     "output_type": "execute_result"
    }
   ],
   "source": [
    "len(destinations)"
   ]
  },
  {
   "cell_type": "code",
   "execution_count": 56,
   "metadata": {},
   "outputs": [],
   "source": [
    "destinations_coords = [(x,y) for x, y in zip(destinations_gpd.geometry.x, destinations_gpd.geometry.y)]"
   ]
  },
  {
   "cell_type": "code",
   "execution_count": 57,
   "metadata": {},
   "outputs": [],
   "source": [
    "destinations['raster_value'] = [x for x in src.sample(destinations_coords)]"
   ]
  },
  {
   "cell_type": "code",
   "execution_count": 58,
   "metadata": {},
   "outputs": [],
   "source": [
    "#destinations[:10]"
   ]
  },
  {
   "cell_type": "code",
   "execution_count": 59,
   "metadata": {},
   "outputs": [],
   "source": [
    "non_flooded_destinations = destinations[destinations.raster_value < 1]"
   ]
  },
  {
   "cell_type": "code",
   "execution_count": 60,
   "metadata": {},
   "outputs": [
    {
     "data": {
      "text/plain": [
       "1454"
      ]
     },
     "execution_count": 60,
     "metadata": {},
     "output_type": "execute_result"
    }
   ],
   "source": [
    "len(non_flooded_destinations)"
   ]
  },
  {
   "cell_type": "markdown",
   "metadata": {},
   "source": [
    "### snap the non-flooded origin and destination points to the disrupted flooded network"
   ]
  },
  {
   "cell_type": "code",
   "execution_count": 61,
   "metadata": {},
   "outputs": [],
   "source": [
    "# snap the origins to the road graph\n",
    "non_flooded_snapped_origins = gn.pandana_snap_c(G_flood, non_flooded_origins)"
   ]
  },
  {
   "cell_type": "code",
   "execution_count": 62,
   "metadata": {},
   "outputs": [],
   "source": [
    "non_flooded_originNodes = list(non_flooded_snapped_origins['NN'].unique())"
   ]
  },
  {
   "cell_type": "code",
   "execution_count": 63,
   "metadata": {},
   "outputs": [],
   "source": [
    "non_flooded_snapped_destinations = gn.pandana_snap_c(G_flood, non_flooded_destinations)"
   ]
  },
  {
   "cell_type": "code",
   "execution_count": 64,
   "metadata": {},
   "outputs": [],
   "source": [
    "non_flooded_destinationsNodes = list(non_flooded_snapped_destinations['NN'].unique())"
   ]
  },
  {
   "cell_type": "markdown",
   "metadata": {},
   "source": [
    "## calculate OD matrix on flooded network"
   ]
  },
  {
   "cell_type": "code",
   "execution_count": 65,
   "metadata": {},
   "outputs": [],
   "source": [
    "flooded_OD_matrix = gn.calculate_OD(G_flood, non_flooded_originNodes, non_flooded_destinationsNodes, fail_value = -1, weight = 'time')"
   ]
  },
  {
   "cell_type": "code",
   "execution_count": 66,
   "metadata": {},
   "outputs": [],
   "source": [
    "# calculate accessibility\n",
    "# For each row, the closest facility is the smallest value in the row\n",
    "\n",
    "flooded_output = non_flooded_snapped_origins.copy()\n",
    "\n",
    "closest_facility_per_origin = flooded_OD_matrix.min(axis=1)\n",
    "\n",
    "results = pd.DataFrame([non_flooded_originNodes, closest_facility_per_origin]).transpose()\n",
    "colName = \"travel_time_to_closest_facility\"\n",
    "results.columns = ['NN', colName]"
   ]
  },
  {
   "cell_type": "code",
   "execution_count": 67,
   "metadata": {},
   "outputs": [],
   "source": [
    "flooded_output = pd.merge(flooded_output, results, on = \"NN\")"
   ]
  },
  {
   "cell_type": "code",
   "execution_count": 68,
   "metadata": {},
   "outputs": [
    {
     "data": {
      "text/plain": [
       "'output_folder'"
      ]
     },
     "execution_count": 68,
     "metadata": {},
     "output_type": "execute_result"
    }
   ],
   "source": [
    "outputFolder"
   ]
  },
  {
   "cell_type": "code",
   "execution_count": 69,
   "metadata": {},
   "outputs": [],
   "source": [
    "flooded_output.to_csv(os.path.join(outputFolder, \"tashkent_accessibility_schools_w_flooding.csv\"))"
   ]
  },
  {
   "cell_type": "markdown",
   "metadata": {},
   "source": [
    "### number of inaccessible schools due to flooding"
   ]
  },
  {
   "cell_type": "code",
   "execution_count": 70,
   "metadata": {},
   "outputs": [
    {
     "data": {
      "text/plain": [
       "41"
      ]
     },
     "execution_count": 70,
     "metadata": {},
     "output_type": "execute_result"
    }
   ],
   "source": [
    "len(destinations) - len(non_flooded_destinations)"
   ]
  },
  {
   "cell_type": "markdown",
   "metadata": {},
   "source": [
    "### number of inaccessible population pixels due to flooding"
   ]
  },
  {
   "cell_type": "code",
   "execution_count": 71,
   "metadata": {},
   "outputs": [
    {
     "data": {
      "text/plain": [
       "282"
      ]
     },
     "execution_count": 71,
     "metadata": {},
     "output_type": "execute_result"
    }
   ],
   "source": [
    "len(origins) - len(non_flooded_origins)"
   ]
  },
  {
   "cell_type": "markdown",
   "metadata": {},
   "source": [
    "### compare median travel times between the flooded and non-flooded scenarios?"
   ]
  },
  {
   "cell_type": "code",
   "execution_count": 72,
   "metadata": {},
   "outputs": [
    {
     "data": {
      "text/html": [
       "<div>\n",
       "<style scoped>\n",
       "    .dataframe tbody tr th:only-of-type {\n",
       "        vertical-align: middle;\n",
       "    }\n",
       "\n",
       "    .dataframe tbody tr th {\n",
       "        vertical-align: top;\n",
       "    }\n",
       "\n",
       "    .dataframe thead th {\n",
       "        text-align: right;\n",
       "    }\n",
       "</style>\n",
       "<table border=\"1\" class=\"dataframe\">\n",
       "  <thead>\n",
       "    <tr style=\"text-align: right;\">\n",
       "      <th></th>\n",
       "      <th>VALUE</th>\n",
       "      <th>geometry</th>\n",
       "      <th>x</th>\n",
       "      <th>y</th>\n",
       "      <th>NN</th>\n",
       "      <th>NN_dist</th>\n",
       "      <th>travel_time_to_closest_facility</th>\n",
       "    </tr>\n",
       "  </thead>\n",
       "  <tbody>\n",
       "    <tr>\n",
       "      <th>0</th>\n",
       "      <td>44.999962</td>\n",
       "      <td>POINT (69.46213 41.41966)</td>\n",
       "      <td>69.462133</td>\n",
       "      <td>41.419658</td>\n",
       "      <td>4202418387</td>\n",
       "      <td>0.000498</td>\n",
       "      <td>343.20726</td>\n",
       "    </tr>\n",
       "    <tr>\n",
       "      <th>1</th>\n",
       "      <td>44.999962</td>\n",
       "      <td>POINT (69.46402 41.41966)</td>\n",
       "      <td>69.464024</td>\n",
       "      <td>41.419658</td>\n",
       "      <td>2080926193</td>\n",
       "      <td>0.000274</td>\n",
       "      <td>289.75608</td>\n",
       "    </tr>\n",
       "    <tr>\n",
       "      <th>2</th>\n",
       "      <td>33.067554</td>\n",
       "      <td>POINT (69.44889 41.41398)</td>\n",
       "      <td>69.448891</td>\n",
       "      <td>41.413983</td>\n",
       "      <td>4709277426</td>\n",
       "      <td>0.008251</td>\n",
       "      <td>604.38702</td>\n",
       "    </tr>\n",
       "    <tr>\n",
       "      <th>3</th>\n",
       "      <td>33.067554</td>\n",
       "      <td>POINT (69.45078 41.41398)</td>\n",
       "      <td>69.450783</td>\n",
       "      <td>41.413983</td>\n",
       "      <td>4202527651</td>\n",
       "      <td>0.009406</td>\n",
       "      <td>158.40228</td>\n",
       "    </tr>\n",
       "  </tbody>\n",
       "</table>\n",
       "</div>"
      ],
      "text/plain": [
       "       VALUE                   geometry          x          y          NN  \\\n",
       "0  44.999962  POINT (69.46213 41.41966)  69.462133  41.419658  4202418387   \n",
       "1  44.999962  POINT (69.46402 41.41966)  69.464024  41.419658  2080926193   \n",
       "2  33.067554  POINT (69.44889 41.41398)  69.448891  41.413983  4709277426   \n",
       "3  33.067554  POINT (69.45078 41.41398)  69.450783  41.413983  4202527651   \n",
       "\n",
       "    NN_dist  travel_time_to_closest_facility  \n",
       "0  0.000498                        343.20726  \n",
       "1  0.000274                        289.75608  \n",
       "2  0.008251                        604.38702  \n",
       "3  0.009406                        158.40228  "
      ]
     },
     "execution_count": 72,
     "metadata": {},
     "output_type": "execute_result"
    }
   ],
   "source": [
    "output[:4]"
   ]
  },
  {
   "cell_type": "code",
   "execution_count": 73,
   "metadata": {},
   "outputs": [
    {
     "data": {
      "text/plain": [
       "9840"
      ]
     },
     "execution_count": 73,
     "metadata": {},
     "output_type": "execute_result"
    }
   ],
   "source": [
    "len(output)"
   ]
  },
  {
   "cell_type": "code",
   "execution_count": 74,
   "metadata": {},
   "outputs": [
    {
     "data": {
      "text/plain": [
       "120.87338565130662"
      ]
     },
     "execution_count": 74,
     "metadata": {},
     "output_type": "execute_result"
    }
   ],
   "source": [
    "output[\"travel_time_to_closest_facility\"].mean()"
   ]
  },
  {
   "cell_type": "code",
   "execution_count": 75,
   "metadata": {},
   "outputs": [
    {
     "data": {
      "text/plain": [
       "86.77851000000001"
      ]
     },
     "execution_count": 75,
     "metadata": {},
     "output_type": "execute_result"
    }
   ],
   "source": [
    "output[\"travel_time_to_closest_facility\"].median()"
   ]
  },
  {
   "cell_type": "code",
   "execution_count": 76,
   "metadata": {},
   "outputs": [
    {
     "data": {
      "text/html": [
       "<div>\n",
       "<style scoped>\n",
       "    .dataframe tbody tr th:only-of-type {\n",
       "        vertical-align: middle;\n",
       "    }\n",
       "\n",
       "    .dataframe tbody tr th {\n",
       "        vertical-align: top;\n",
       "    }\n",
       "\n",
       "    .dataframe thead th {\n",
       "        text-align: right;\n",
       "    }\n",
       "</style>\n",
       "<table border=\"1\" class=\"dataframe\">\n",
       "  <thead>\n",
       "    <tr style=\"text-align: right;\">\n",
       "      <th></th>\n",
       "      <th>VALUE</th>\n",
       "      <th>geometry</th>\n",
       "      <th>raster_value</th>\n",
       "      <th>x</th>\n",
       "      <th>y</th>\n",
       "      <th>NN</th>\n",
       "      <th>NN_dist</th>\n",
       "      <th>travel_time_to_closest_facility</th>\n",
       "    </tr>\n",
       "  </thead>\n",
       "  <tbody>\n",
       "    <tr>\n",
       "      <th>0</th>\n",
       "      <td>44.999962</td>\n",
       "      <td>POINT (69.46213 41.41966)</td>\n",
       "      <td>[0.0]</td>\n",
       "      <td>69.462133</td>\n",
       "      <td>41.419658</td>\n",
       "      <td>4202418387</td>\n",
       "      <td>0.000498</td>\n",
       "      <td>343.20726</td>\n",
       "    </tr>\n",
       "    <tr>\n",
       "      <th>1</th>\n",
       "      <td>44.999962</td>\n",
       "      <td>POINT (69.46402 41.41966)</td>\n",
       "      <td>[0.0]</td>\n",
       "      <td>69.464024</td>\n",
       "      <td>41.419658</td>\n",
       "      <td>2080926193</td>\n",
       "      <td>0.000274</td>\n",
       "      <td>289.75608</td>\n",
       "    </tr>\n",
       "    <tr>\n",
       "      <th>2</th>\n",
       "      <td>33.067554</td>\n",
       "      <td>POINT (69.44889 41.41398)</td>\n",
       "      <td>[0.0]</td>\n",
       "      <td>69.448891</td>\n",
       "      <td>41.413983</td>\n",
       "      <td>4709277426</td>\n",
       "      <td>0.008251</td>\n",
       "      <td>604.38702</td>\n",
       "    </tr>\n",
       "    <tr>\n",
       "      <th>3</th>\n",
       "      <td>33.067554</td>\n",
       "      <td>POINT (69.45078 41.41398)</td>\n",
       "      <td>[0.0]</td>\n",
       "      <td>69.450783</td>\n",
       "      <td>41.413983</td>\n",
       "      <td>4202527651</td>\n",
       "      <td>0.009406</td>\n",
       "      <td>158.40228</td>\n",
       "    </tr>\n",
       "  </tbody>\n",
       "</table>\n",
       "</div>"
      ],
      "text/plain": [
       "       VALUE                   geometry raster_value          x          y  \\\n",
       "0  44.999962  POINT (69.46213 41.41966)        [0.0]  69.462133  41.419658   \n",
       "1  44.999962  POINT (69.46402 41.41966)        [0.0]  69.464024  41.419658   \n",
       "2  33.067554  POINT (69.44889 41.41398)        [0.0]  69.448891  41.413983   \n",
       "3  33.067554  POINT (69.45078 41.41398)        [0.0]  69.450783  41.413983   \n",
       "\n",
       "           NN   NN_dist  travel_time_to_closest_facility  \n",
       "0  4202418387  0.000498                        343.20726  \n",
       "1  2080926193  0.000274                        289.75608  \n",
       "2  4709277426  0.008251                        604.38702  \n",
       "3  4202527651  0.009406                        158.40228  "
      ]
     },
     "execution_count": 76,
     "metadata": {},
     "output_type": "execute_result"
    }
   ],
   "source": [
    "flooded_output[:4]"
   ]
  },
  {
   "cell_type": "code",
   "execution_count": 77,
   "metadata": {},
   "outputs": [
    {
     "data": {
      "text/html": [
       "<div>\n",
       "<style scoped>\n",
       "    .dataframe tbody tr th:only-of-type {\n",
       "        vertical-align: middle;\n",
       "    }\n",
       "\n",
       "    .dataframe tbody tr th {\n",
       "        vertical-align: top;\n",
       "    }\n",
       "\n",
       "    .dataframe thead th {\n",
       "        text-align: right;\n",
       "    }\n",
       "</style>\n",
       "<table border=\"1\" class=\"dataframe\">\n",
       "  <thead>\n",
       "    <tr style=\"text-align: right;\">\n",
       "      <th></th>\n",
       "      <th>VALUE</th>\n",
       "      <th>geometry</th>\n",
       "      <th>raster_value</th>\n",
       "      <th>x</th>\n",
       "      <th>y</th>\n",
       "      <th>NN</th>\n",
       "      <th>NN_dist</th>\n",
       "      <th>travel_time_to_closest_facility</th>\n",
       "    </tr>\n",
       "  </thead>\n",
       "  <tbody>\n",
       "  </tbody>\n",
       "</table>\n",
       "</div>"
      ],
      "text/plain": [
       "Empty GeoDataFrame\n",
       "Columns: [VALUE, geometry, raster_value, x, y, NN, NN_dist, travel_time_to_closest_facility]\n",
       "Index: []"
      ]
     },
     "execution_count": 77,
     "metadata": {},
     "output_type": "execute_result"
    }
   ],
   "source": [
    "# if this returns zero results, than all origin-destination routes appear to be traversible\n",
    "flooded_output[flooded_output.travel_time_to_closest_facility < 0]"
   ]
  },
  {
   "cell_type": "code",
   "execution_count": 78,
   "metadata": {},
   "outputs": [
    {
     "data": {
      "text/plain": [
       "9558"
      ]
     },
     "execution_count": 78,
     "metadata": {},
     "output_type": "execute_result"
    }
   ],
   "source": [
    "len(flooded_output)"
   ]
  },
  {
   "cell_type": "code",
   "execution_count": 79,
   "metadata": {},
   "outputs": [
    {
     "data": {
      "text/plain": [
       "46453232894030.59"
      ]
     },
     "execution_count": 79,
     "metadata": {},
     "output_type": "execute_result"
    }
   ],
   "source": [
    "# the mean is probably high because there are probably some non-flooded origin points that are only connected to the disrupted part of the network\n",
    "flooded_output[\"travel_time_to_closest_facility\"].mean()"
   ]
  },
  {
   "cell_type": "code",
   "execution_count": 80,
   "metadata": {},
   "outputs": [
    {
     "data": {
      "text/plain": [
       "89.07381000000001"
      ]
     },
     "execution_count": 80,
     "metadata": {},
     "output_type": "execute_result"
    }
   ],
   "source": [
    "flooded_output[\"travel_time_to_closest_facility\"].median()"
   ]
  },
  {
   "cell_type": "markdown",
   "metadata": {},
   "source": [
    "### find number of disrupted trips"
   ]
  },
  {
   "cell_type": "code",
   "execution_count": 81,
   "metadata": {},
   "outputs": [
    {
     "data": {
      "text/html": [
       "<div>\n",
       "<style scoped>\n",
       "    .dataframe tbody tr th:only-of-type {\n",
       "        vertical-align: middle;\n",
       "    }\n",
       "\n",
       "    .dataframe tbody tr th {\n",
       "        vertical-align: top;\n",
       "    }\n",
       "\n",
       "    .dataframe thead th {\n",
       "        text-align: right;\n",
       "    }\n",
       "</style>\n",
       "<table border=\"1\" class=\"dataframe\">\n",
       "  <thead>\n",
       "    <tr style=\"text-align: right;\">\n",
       "      <th></th>\n",
       "      <th>VALUE</th>\n",
       "      <th>geometry</th>\n",
       "      <th>raster_value</th>\n",
       "      <th>x</th>\n",
       "      <th>y</th>\n",
       "      <th>NN</th>\n",
       "      <th>NN_dist</th>\n",
       "      <th>travel_time_to_closest_facility</th>\n",
       "    </tr>\n",
       "  </thead>\n",
       "  <tbody>\n",
       "    <tr>\n",
       "      <th>62</th>\n",
       "      <td>143.582840</td>\n",
       "      <td>POINT (69.46024 41.40263)</td>\n",
       "      <td>[0.43286]</td>\n",
       "      <td>69.460241</td>\n",
       "      <td>41.402634</td>\n",
       "      <td>2083126857</td>\n",
       "      <td>0.000628</td>\n",
       "      <td>1.000000e+15</td>\n",
       "    </tr>\n",
       "    <tr>\n",
       "      <th>963</th>\n",
       "      <td>167.303757</td>\n",
       "      <td>POINT (69.23892 41.36480)</td>\n",
       "      <td>[0.0]</td>\n",
       "      <td>69.238923</td>\n",
       "      <td>41.364802</td>\n",
       "      <td>7232076258</td>\n",
       "      <td>0.001146</td>\n",
       "      <td>2.000000e+15</td>\n",
       "    </tr>\n",
       "    <tr>\n",
       "      <th>1238</th>\n",
       "      <td>219.719772</td>\n",
       "      <td>POINT (69.23514 41.35913)</td>\n",
       "      <td>[0.64267683]</td>\n",
       "      <td>69.235140</td>\n",
       "      <td>41.359127</td>\n",
       "      <td>4615656700</td>\n",
       "      <td>0.000131</td>\n",
       "      <td>2.000000e+15</td>\n",
       "    </tr>\n",
       "    <tr>\n",
       "      <th>1239</th>\n",
       "      <td>276.132355</td>\n",
       "      <td>POINT (69.23703 41.35913)</td>\n",
       "      <td>[0.7592444]</td>\n",
       "      <td>69.237032</td>\n",
       "      <td>41.359127</td>\n",
       "      <td>4615656702</td>\n",
       "      <td>0.000440</td>\n",
       "      <td>1.000000e+15</td>\n",
       "    </tr>\n",
       "    <tr>\n",
       "      <th>3617</th>\n",
       "      <td>214.416229</td>\n",
       "      <td>POINT (69.15380 41.31940)</td>\n",
       "      <td>[0.61966425]</td>\n",
       "      <td>69.153801</td>\n",
       "      <td>41.319403</td>\n",
       "      <td>3957665565</td>\n",
       "      <td>0.001891</td>\n",
       "      <td>1.000000e+15</td>\n",
       "    </tr>\n",
       "    <tr>\n",
       "      <th>...</th>\n",
       "      <td>...</td>\n",
       "      <td>...</td>\n",
       "      <td>...</td>\n",
       "      <td>...</td>\n",
       "      <td>...</td>\n",
       "      <td>...</td>\n",
       "      <td>...</td>\n",
       "      <td>...</td>\n",
       "    </tr>\n",
       "    <tr>\n",
       "      <th>9158</th>\n",
       "      <td>3468.014404</td>\n",
       "      <td>POINT (69.27486 41.20591)</td>\n",
       "      <td>[0.0]</td>\n",
       "      <td>69.274864</td>\n",
       "      <td>41.205907</td>\n",
       "      <td>4634088653</td>\n",
       "      <td>0.001056</td>\n",
       "      <td>1.000000e+15</td>\n",
       "    </tr>\n",
       "    <tr>\n",
       "      <th>9159</th>\n",
       "      <td>3468.014404</td>\n",
       "      <td>POINT (69.27676 41.20591)</td>\n",
       "      <td>[0.0]</td>\n",
       "      <td>69.276755</td>\n",
       "      <td>41.205907</td>\n",
       "      <td>4634088653</td>\n",
       "      <td>0.000966</td>\n",
       "      <td>1.000000e+15</td>\n",
       "    </tr>\n",
       "    <tr>\n",
       "      <th>9209</th>\n",
       "      <td>1741.670532</td>\n",
       "      <td>POINT (69.27676 41.20402)</td>\n",
       "      <td>[0.0]</td>\n",
       "      <td>69.276755</td>\n",
       "      <td>41.204015</td>\n",
       "      <td>4634088641</td>\n",
       "      <td>0.001087</td>\n",
       "      <td>2.000000e+15</td>\n",
       "    </tr>\n",
       "    <tr>\n",
       "      <th>9210</th>\n",
       "      <td>1741.670532</td>\n",
       "      <td>POINT (69.27865 41.20402)</td>\n",
       "      <td>[0.0]</td>\n",
       "      <td>69.278647</td>\n",
       "      <td>41.204015</td>\n",
       "      <td>4634088641</td>\n",
       "      <td>0.000814</td>\n",
       "      <td>2.000000e+15</td>\n",
       "    </tr>\n",
       "    <tr>\n",
       "      <th>9211</th>\n",
       "      <td>1636.762695</td>\n",
       "      <td>POINT (69.27676 41.20212)</td>\n",
       "      <td>[0.0]</td>\n",
       "      <td>69.276755</td>\n",
       "      <td>41.202124</td>\n",
       "      <td>4634088641</td>\n",
       "      <td>0.002258</td>\n",
       "      <td>2.000000e+15</td>\n",
       "    </tr>\n",
       "  </tbody>\n",
       "</table>\n",
       "<p>183 rows × 8 columns</p>\n",
       "</div>"
      ],
      "text/plain": [
       "            VALUE                   geometry  raster_value          x  \\\n",
       "62     143.582840  POINT (69.46024 41.40263)     [0.43286]  69.460241   \n",
       "963    167.303757  POINT (69.23892 41.36480)         [0.0]  69.238923   \n",
       "1238   219.719772  POINT (69.23514 41.35913)  [0.64267683]  69.235140   \n",
       "1239   276.132355  POINT (69.23703 41.35913)   [0.7592444]  69.237032   \n",
       "3617   214.416229  POINT (69.15380 41.31940)  [0.61966425]  69.153801   \n",
       "...           ...                        ...           ...        ...   \n",
       "9158  3468.014404  POINT (69.27486 41.20591)         [0.0]  69.274864   \n",
       "9159  3468.014404  POINT (69.27676 41.20591)         [0.0]  69.276755   \n",
       "9209  1741.670532  POINT (69.27676 41.20402)         [0.0]  69.276755   \n",
       "9210  1741.670532  POINT (69.27865 41.20402)         [0.0]  69.278647   \n",
       "9211  1636.762695  POINT (69.27676 41.20212)         [0.0]  69.276755   \n",
       "\n",
       "              y          NN   NN_dist  travel_time_to_closest_facility  \n",
       "62    41.402634  2083126857  0.000628                     1.000000e+15  \n",
       "963   41.364802  7232076258  0.001146                     2.000000e+15  \n",
       "1238  41.359127  4615656700  0.000131                     2.000000e+15  \n",
       "1239  41.359127  4615656702  0.000440                     1.000000e+15  \n",
       "3617  41.319403  3957665565  0.001891                     1.000000e+15  \n",
       "...         ...         ...       ...                              ...  \n",
       "9158  41.205907  4634088653  0.001056                     1.000000e+15  \n",
       "9159  41.205907  4634088653  0.000966                     1.000000e+15  \n",
       "9209  41.204015  4634088641  0.001087                     2.000000e+15  \n",
       "9210  41.204015  4634088641  0.000814                     2.000000e+15  \n",
       "9211  41.202124  4634088641  0.002258                     2.000000e+15  \n",
       "\n",
       "[183 rows x 8 columns]"
      ]
     },
     "execution_count": 81,
     "metadata": {},
     "output_type": "execute_result"
    }
   ],
   "source": [
    "flooded_output[flooded_output.travel_time_to_closest_facility >= fail_value]"
   ]
  },
  {
   "cell_type": "code",
   "execution_count": null,
   "metadata": {},
   "outputs": [],
   "source": []
  }
 ],
 "metadata": {
  "kernelspec": {
   "display_name": "Python 3",
   "language": "python",
   "name": "python3"
  },
  "language_info": {
   "codemirror_mode": {
    "name": "ipython",
    "version": 3
   },
   "file_extension": ".py",
   "mimetype": "text/x-python",
   "name": "python",
   "nbconvert_exporter": "python",
   "pygments_lexer": "ipython3",
   "version": "3.7.7"
  }
 },
 "nbformat": 4,
 "nbformat_minor": 2
}
