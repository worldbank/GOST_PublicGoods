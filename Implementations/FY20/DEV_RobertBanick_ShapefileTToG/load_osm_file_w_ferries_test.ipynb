{
 "cells": [
  {
   "cell_type": "markdown",
   "metadata": {},
   "source": [
    "# Importing Ferries into GOSTnets"
   ]
  },
  {
   "cell_type": "code",
   "execution_count": 1,
   "metadata": {},
   "outputs": [],
   "source": [
    "import os, sys, importlib\n",
    "\n",
    "import pandas as pd\n",
    "import geopandas as gpd\n",
    "import networkx as nx\n",
    "\n",
    "from shapely.wkt import loads\n",
    "from shapely.geometry import Point\n",
    "from random import sample \n",
    "\n",
    "## Your GOSTnets path could be different\n",
    "#sys.path.append(r\"C:\\Work\\Code\\GOSTnets\")\n",
    "sys.path.append(\"../../../GOSTNets\")\n",
    "import GOSTnets as gn"
   ]
  },
  {
   "cell_type": "code",
   "execution_count": 2,
   "metadata": {},
   "outputs": [],
   "source": [
    "from GOSTnets.load_osm import *"
   ]
  },
  {
   "cell_type": "code",
   "execution_count": 3,
   "metadata": {},
   "outputs": [],
   "source": [
    "%load_ext autoreload\n",
    "\n",
    "%autoreload 2"
   ]
  },
  {
   "cell_type": "code",
   "execution_count": 5,
   "metadata": {},
   "outputs": [],
   "source": [
    "gn.calculate_OD?"
   ]
  },
  {
   "cell_type": "code",
   "execution_count": 6,
   "metadata": {},
   "outputs": [
    {
     "name": "stdout",
     "output_type": "stream",
     "text": [
      "../../../GOSTNets/GOSTnets/__init__.py\n"
     ]
    }
   ],
   "source": [
    "print(gn.__file__)"
   ]
  },
  {
   "cell_type": "code",
   "execution_count": 4,
   "metadata": {},
   "outputs": [],
   "source": [
    "from shapely import speedups"
   ]
  },
  {
   "cell_type": "code",
   "execution_count": 5,
   "metadata": {},
   "outputs": [
    {
     "data": {
      "text/plain": [
       "True"
      ]
     },
     "execution_count": 5,
     "metadata": {},
     "output_type": "execute_result"
    }
   ],
   "source": [
    "speedups.available"
   ]
  },
  {
   "cell_type": "code",
   "execution_count": 6,
   "metadata": {},
   "outputs": [],
   "source": [
    "# speedups.enable()"
   ]
  },
  {
   "cell_type": "markdown",
   "metadata": {},
   "source": [
    "## I downloaded an osm pbf from https://protomaps.com/extracts/ of just the area I need!"
   ]
  },
  {
   "cell_type": "code",
   "execution_count": 7,
   "metadata": {},
   "outputs": [
    {
     "name": "stderr",
     "output_type": "stream",
     "text": [
      "/Users/thomasgertin3/anaconda3/envs/gostnets2/lib/python3.7/site-packages/pyproj/crs.py:77: FutureWarning: '+init=<authority>:<code>' syntax is deprecated. '<authority>:<code>' is the preferred initialization method.\n",
      "  return _prepare_from_string(\" \".join(pjargs))\n"
     ]
    }
   ],
   "source": [
    "data_w_ferries = OSM_to_network('./input_data/bangladesh_osm_clip1.osm.pbf', includeFerries = True)"
   ]
  },
  {
   "cell_type": "code",
   "execution_count": 8,
   "metadata": {},
   "outputs": [],
   "source": [
    "#data_w_ferries.roads_raw"
   ]
  },
  {
   "cell_type": "code",
   "execution_count": 9,
   "metadata": {},
   "outputs": [
    {
     "data": {
      "text/html": [
       "<div>\n",
       "<style scoped>\n",
       "    .dataframe tbody tr th:only-of-type {\n",
       "        vertical-align: middle;\n",
       "    }\n",
       "\n",
       "    .dataframe tbody tr th {\n",
       "        vertical-align: top;\n",
       "    }\n",
       "\n",
       "    .dataframe thead th {\n",
       "        text-align: right;\n",
       "    }\n",
       "</style>\n",
       "<table border=\"1\" class=\"dataframe\">\n",
       "  <thead>\n",
       "    <tr style=\"text-align: right;\">\n",
       "      <th></th>\n",
       "      <th>osm_id</th>\n",
       "      <th>infra_type</th>\n",
       "      <th>geometry</th>\n",
       "    </tr>\n",
       "  </thead>\n",
       "  <tbody>\n",
       "    <tr>\n",
       "      <th>14</th>\n",
       "      <td>85651714</td>\n",
       "      <td>ferry</td>\n",
       "      <td>LINESTRING (91.97321 21.47871, 91.97378 21.477...</td>\n",
       "    </tr>\n",
       "    <tr>\n",
       "      <th>17</th>\n",
       "      <td>85651729</td>\n",
       "      <td>ferry</td>\n",
       "      <td>LINESTRING (91.98058 21.52456, 91.98058 21.524...</td>\n",
       "    </tr>\n",
       "    <tr>\n",
       "      <th>2575</th>\n",
       "      <td>682570490</td>\n",
       "      <td>ferry</td>\n",
       "      <td>LINESTRING (91.90819 21.50008, 91.91067 21.497...</td>\n",
       "    </tr>\n",
       "  </tbody>\n",
       "</table>\n",
       "</div>"
      ],
      "text/plain": [
       "         osm_id infra_type                                           geometry\n",
       "14     85651714      ferry  LINESTRING (91.97321 21.47871, 91.97378 21.477...\n",
       "17     85651729      ferry  LINESTRING (91.98058 21.52456, 91.98058 21.524...\n",
       "2575  682570490      ferry  LINESTRING (91.90819 21.50008, 91.91067 21.497..."
      ]
     },
     "execution_count": 9,
     "metadata": {},
     "output_type": "execute_result"
    }
   ],
   "source": [
    "data_w_ferries.roads_raw.loc[data_w_ferries.roads_raw['infra_type'] == 'ferry']"
   ]
  },
  {
   "cell_type": "code",
   "execution_count": 10,
   "metadata": {},
   "outputs": [
    {
     "data": {
      "text/html": [
       "<div>\n",
       "<style scoped>\n",
       "    .dataframe tbody tr th:only-of-type {\n",
       "        vertical-align: middle;\n",
       "    }\n",
       "\n",
       "    .dataframe tbody tr th {\n",
       "        vertical-align: top;\n",
       "    }\n",
       "\n",
       "    .dataframe thead th {\n",
       "        text-align: right;\n",
       "    }\n",
       "</style>\n",
       "<table border=\"1\" class=\"dataframe\">\n",
       "  <thead>\n",
       "    <tr style=\"text-align: right;\">\n",
       "      <th></th>\n",
       "      <th>osm_id</th>\n",
       "      <th>infra_type</th>\n",
       "      <th>geometry</th>\n",
       "    </tr>\n",
       "  </thead>\n",
       "  <tbody>\n",
       "    <tr>\n",
       "      <th>10</th>\n",
       "      <td>43106847</td>\n",
       "      <td>pier</td>\n",
       "      <td>LINESTRING (91.98058 21.52456, 91.97393 21.52665)</td>\n",
       "    </tr>\n",
       "    <tr>\n",
       "      <th>13</th>\n",
       "      <td>43107027</td>\n",
       "      <td>pier</td>\n",
       "      <td>LINESTRING (91.97955 21.51684, 91.97864 21.517...</td>\n",
       "    </tr>\n",
       "    <tr>\n",
       "      <th>234</th>\n",
       "      <td>424594370</td>\n",
       "      <td>pier</td>\n",
       "      <td>LINESTRING (91.89818 21.52057, 91.89777 21.51858)</td>\n",
       "    </tr>\n",
       "    <tr>\n",
       "      <th>324</th>\n",
       "      <td>525378894</td>\n",
       "      <td>pier</td>\n",
       "      <td>LINESTRING (91.96928 21.45075, 91.96941 21.450...</td>\n",
       "    </tr>\n",
       "    <tr>\n",
       "      <th>325</th>\n",
       "      <td>525378895</td>\n",
       "      <td>pier</td>\n",
       "      <td>LINESTRING (91.96937 21.45017, 91.96961 21.450...</td>\n",
       "    </tr>\n",
       "    <tr>\n",
       "      <th>326</th>\n",
       "      <td>525378896</td>\n",
       "      <td>pier</td>\n",
       "      <td>LINESTRING (91.96988 21.45022, 91.96997 21.45039)</td>\n",
       "    </tr>\n",
       "    <tr>\n",
       "      <th>327</th>\n",
       "      <td>525378897</td>\n",
       "      <td>pier</td>\n",
       "      <td>LINESTRING (91.96986 21.44964, 91.97012 21.450...</td>\n",
       "    </tr>\n",
       "    <tr>\n",
       "      <th>328</th>\n",
       "      <td>525378898</td>\n",
       "      <td>pier</td>\n",
       "      <td>LINESTRING (91.97038 21.44999, 91.97059 21.45042)</td>\n",
       "    </tr>\n",
       "    <tr>\n",
       "      <th>329</th>\n",
       "      <td>525378899</td>\n",
       "      <td>pier</td>\n",
       "      <td>LINESTRING (91.97055 21.45044, 91.97059 21.450...</td>\n",
       "    </tr>\n",
       "    <tr>\n",
       "      <th>1266</th>\n",
       "      <td>530541712</td>\n",
       "      <td>pier</td>\n",
       "      <td>LINESTRING (91.96511 21.47622, 91.96553 21.475...</td>\n",
       "    </tr>\n",
       "    <tr>\n",
       "      <th>1514</th>\n",
       "      <td>531104467</td>\n",
       "      <td>pier</td>\n",
       "      <td>LINESTRING (91.96049 21.47357, 91.96236 21.470...</td>\n",
       "    </tr>\n",
       "    <tr>\n",
       "      <th>1515</th>\n",
       "      <td>531104468</td>\n",
       "      <td>pier</td>\n",
       "      <td>LINESTRING (91.95922 21.46665, 91.95906 21.467...</td>\n",
       "    </tr>\n",
       "    <tr>\n",
       "      <th>1516</th>\n",
       "      <td>531104469</td>\n",
       "      <td>pier</td>\n",
       "      <td>LINESTRING (91.95721 21.47239, 91.95829 21.469...</td>\n",
       "    </tr>\n",
       "    <tr>\n",
       "      <th>1517</th>\n",
       "      <td>531104470</td>\n",
       "      <td>pier</td>\n",
       "      <td>LINESTRING (91.95673 21.47228, 91.95804 21.468...</td>\n",
       "    </tr>\n",
       "    <tr>\n",
       "      <th>2441</th>\n",
       "      <td>655532070</td>\n",
       "      <td>pier</td>\n",
       "      <td>LINESTRING (91.95866 21.46919, 91.95872 21.468...</td>\n",
       "    </tr>\n",
       "  </tbody>\n",
       "</table>\n",
       "</div>"
      ],
      "text/plain": [
       "         osm_id infra_type                                           geometry\n",
       "10     43106847       pier  LINESTRING (91.98058 21.52456, 91.97393 21.52665)\n",
       "13     43107027       pier  LINESTRING (91.97955 21.51684, 91.97864 21.517...\n",
       "234   424594370       pier  LINESTRING (91.89818 21.52057, 91.89777 21.51858)\n",
       "324   525378894       pier  LINESTRING (91.96928 21.45075, 91.96941 21.450...\n",
       "325   525378895       pier  LINESTRING (91.96937 21.45017, 91.96961 21.450...\n",
       "326   525378896       pier  LINESTRING (91.96988 21.45022, 91.96997 21.45039)\n",
       "327   525378897       pier  LINESTRING (91.96986 21.44964, 91.97012 21.450...\n",
       "328   525378898       pier  LINESTRING (91.97038 21.44999, 91.97059 21.45042)\n",
       "329   525378899       pier  LINESTRING (91.97055 21.45044, 91.97059 21.450...\n",
       "1266  530541712       pier  LINESTRING (91.96511 21.47622, 91.96553 21.475...\n",
       "1514  531104467       pier  LINESTRING (91.96049 21.47357, 91.96236 21.470...\n",
       "1515  531104468       pier  LINESTRING (91.95922 21.46665, 91.95906 21.467...\n",
       "1516  531104469       pier  LINESTRING (91.95721 21.47239, 91.95829 21.469...\n",
       "1517  531104470       pier  LINESTRING (91.95673 21.47228, 91.95804 21.468...\n",
       "2441  655532070       pier  LINESTRING (91.95866 21.46919, 91.95872 21.468..."
      ]
     },
     "execution_count": 10,
     "metadata": {},
     "output_type": "execute_result"
    }
   ],
   "source": [
    "data_w_ferries.roads_raw.loc[data_w_ferries.roads_raw['infra_type'] == 'pier']"
   ]
  },
  {
   "cell_type": "code",
   "execution_count": null,
   "metadata": {},
   "outputs": [],
   "source": []
  }
 ],
 "metadata": {
  "kernelspec": {
   "display_name": "Python 3",
   "language": "python",
   "name": "python3"
  },
  "language_info": {
   "codemirror_mode": {
    "name": "ipython",
    "version": 3
   },
   "file_extension": ".py",
   "mimetype": "text/x-python",
   "name": "python",
   "nbconvert_exporter": "python",
   "pygments_lexer": "ipython3",
   "version": "3.7.6"
  }
 },
 "nbformat": 4,
 "nbformat_minor": 2
}
