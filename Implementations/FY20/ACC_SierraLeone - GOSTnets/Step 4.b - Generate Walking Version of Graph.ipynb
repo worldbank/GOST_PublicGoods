{
 "cells": [
  {
   "cell_type": "markdown",
   "metadata": {},
   "source": [
    "For the Sierra Leone, we are also interested in the approximate walking time to each class of destinations. Hence, we will take the final_G and final_G_flood graphs, and add an additional parameter for each edge - time_walk. \n",
    "\n",
    "Our base walk speed will be 4.5km/h for each road type. We will add an impedance for flood depth once again for nodes which are flooded. "
   ]
  },
  {
   "cell_type": "code",
   "execution_count": 1,
   "metadata": {},
   "outputs": [
    {
     "name": "stdout",
     "output_type": "stream",
     "text": [
      "networkx version: 2.3 \n",
      "osmnx version: 0.9 \n"
     ]
    }
   ],
   "source": [
    "import os, sys\n",
    "import pandas as pd\n",
    "import geopandas as gpd\n",
    "import networkx as nx\n",
    "from shapely.geometry import Point, MultiPoint\n",
    "from shapely.wkt import loads\n",
    "from scipy import spatial\n",
    "from functools import partial\n",
    "import pyproj\n",
    "from shapely.ops import transform\n",
    "sys.path.append(r'C:\\Users\\charl\\Documents\\GitHub\\GOST_PublicGoods\\GOSTNets\\GOSTNets')\n",
    "import GOSTnet as gn\n",
    "import rasterio\n",
    "import numpy as np"
   ]
  },
  {
   "cell_type": "markdown",
   "metadata": {},
   "source": [
    "This is a simple function for adding a fixed speed walk time to each edge in the graph. It adds a new property to the data dictionary called 'walk_time', which converts the edge lengths to times, measured in seconds. "
   ]
  },
  {
   "cell_type": "code",
   "execution_count": 2,
   "metadata": {},
   "outputs": [],
   "source": [
    "def addWalking(G, walk_speed):\n",
    "    G2 = G.copy()\n",
    "    for u, v, data in G2.edges(data = True):\n",
    "        data['walk_time'] = ((data['length'] / (walk_speed * 1000)) * 3600)\n",
    "    return G2"
   ]
  },
  {
   "cell_type": "markdown",
   "metadata": {},
   "source": [
    "Basic settings. Here, we set our assumed walkspeed"
   ]
  },
  {
   "cell_type": "code",
   "execution_count": 3,
   "metadata": {},
   "outputs": [],
   "source": [
    "basepth = r'C:\\Users\\charl\\Documents\\GOST\\SierraLeone\\RoadNet'\n",
    "\n",
    "walk_speed = 4.5"
   ]
  },
  {
   "cell_type": "markdown",
   "metadata": {},
   "source": [
    "Read in graphs from the previous step"
   ]
  },
  {
   "cell_type": "code",
   "execution_count": 4,
   "metadata": {},
   "outputs": [],
   "source": [
    "final_G = nx.read_gpickle(os.path.join(basepth, 'final_G.pickle'))\n",
    "\n",
    "final_G_flood = nx.read_gpickle(os.path.join(basepth, 'final_G_flood.pickle'))"
   ]
  },
  {
   "cell_type": "markdown",
   "metadata": {},
   "source": [
    "Apply our walking function to both the flooded and non-flooded graph"
   ]
  },
  {
   "cell_type": "code",
   "execution_count": 5,
   "metadata": {},
   "outputs": [],
   "source": [
    "final_G_walking = addWalking(final_G, walk_speed)\n",
    "\n",
    "final_G_flood_walking = addWalking(final_G_flood, walk_speed)"
   ]
  },
  {
   "cell_type": "markdown",
   "metadata": {},
   "source": [
    "Here, we take our network disruption function from the last notebook (Step 4.a) and apply it to walk times instead of drive times."
   ]
  },
  {
   "cell_type": "code",
   "execution_count": 6,
   "metadata": {},
   "outputs": [],
   "source": [
    "def disrupt_network(G, attr, thresh, fail_value = 99999999):\n",
    "    \n",
    "    #### Function for disrupting a graph ####\n",
    "    # REQUIRED: G - a graph containing one or more nodes and one or more edges\n",
    "    #           property - the element in the data dictionary for the edges to test\n",
    "    #           thresh - values of data[property] above this value are disrupted\n",
    "    #           fail_value - the data['time'] property is set to this value to simulate the removal of the edge\n",
    "    # RETURNS:  a modified graph with the edited 'time' attribute\n",
    "    # -------------------------------------------------------------------------#\n",
    "\n",
    "    G_copy = G.copy()     # copy the input graph\n",
    "\n",
    "    broken_nodes, disrupted_nodes = [], []    # generate some empty list objects\n",
    "    \n",
    "    disruption_dict = {}   # generate an empty dictionary\n",
    "\n",
    "    for u, data in G_copy.nodes(data = True):   # Iterate through all nodes, one at a time\n",
    "\n",
    "        if data[attr] > thresh:    # if larger than the threshold...\n",
    "\n",
    "            broken_nodes.append(u)    # record this as a broken node\n",
    "            \n",
    "            disruption_dict[u] = data[attr]  # add node ID and corresponding flood depth to a dictionary\n",
    "            \n",
    "        elif 0 < data[attr] < thresh:    # if flood depth is bigger than 0 - but smaller than thresh:\n",
    "            \n",
    "            disrupted_nodes.append(u)   # record this as a disrupted node\n",
    "            \n",
    "            disruption_dict[u] = data[attr]   # add node ID and corresponding flood depth to a dictionary\n",
    "        \n",
    "        else: # If this node is untouched by the flood....\n",
    "            \n",
    "            disruption_dict[u] = 0    # ....set its dictionary value to 0\n",
    "            \n",
    "    i = 0\n",
    "    \n",
    "    for u, v, data in G_copy.edges(data = True):     # starting a second iteration, this time of edges:\n",
    "\n",
    "        if u in broken_nodes or v in broken_nodes:    # if start or end node is a broken node\n",
    "\n",
    "            data['walk_time'] = fail_value    # prevent travel along this edge - set travel time to high value\n",
    "            i+=1\n",
    "        \n",
    "        elif u in disrupted_nodes or v in disrupted_nodes: # if start or end node is a disrupted node\n",
    "            \n",
    "            depth = max(disruption_dict[u], disruption_dict[v]) # flood depth is max of depth of flood at u and v\n",
    "            \n",
    "            orig_time = data['walk_time'] \n",
    "            \n",
    "            data['walk_time'] = orig_time * (1/ ((thresh - depth) / thresh))  # linearly increase travel times \n",
    "\n",
    "    print('edges disrupted: %s' % i)\n",
    "    \n",
    "    return G_copy"
   ]
  },
  {
   "cell_type": "markdown",
   "metadata": {},
   "source": [
    "Apply the disruption function we developed for flooding against our walking times instead of driving times. This assumes that both driving and walking are equally disrupted in the event of a flood"
   ]
  },
  {
   "cell_type": "code",
   "execution_count": 7,
   "metadata": {},
   "outputs": [
    {
     "name": "stdout",
     "output_type": "stream",
     "text": [
      "edges disrupted: 7208\n"
     ]
    }
   ],
   "source": [
    "final_G_flood_walking = disrupt_network(final_G_flood_walking, 'flood_depth', 0.5)"
   ]
  },
  {
   "cell_type": "markdown",
   "metadata": {},
   "source": [
    "Save files down"
   ]
  },
  {
   "cell_type": "code",
   "execution_count": 9,
   "metadata": {},
   "outputs": [],
   "source": [
    "gn.save(final_G_walking, 'final_G_walking', basepth, nodes = False,  edges = False)\n",
    "\n",
    "gn.save(final_G_flood_walking, 'final_G_flood_walking', basepth, nodes = False,  edges = False)"
   ]
  }
 ],
 "metadata": {
  "kernelspec": {
   "display_name": "Python (Cfox2)",
   "language": "python",
   "name": "cfox2"
  },
  "language_info": {
   "codemirror_mode": {
    "name": "ipython",
    "version": 3
   },
   "file_extension": ".py",
   "mimetype": "text/x-python",
   "name": "python",
   "nbconvert_exporter": "python",
   "pygments_lexer": "ipython3",
   "version": "3.6.8"
  }
 },
 "nbformat": 4,
 "nbformat_minor": 2
}
