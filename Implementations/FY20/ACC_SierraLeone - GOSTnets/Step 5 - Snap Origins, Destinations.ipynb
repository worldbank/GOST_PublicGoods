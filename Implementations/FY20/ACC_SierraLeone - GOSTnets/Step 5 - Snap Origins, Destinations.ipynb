{
 "cells": [
  {
   "cell_type": "markdown",
   "metadata": {},
   "source": [
    "### Snapping\n",
    "\n",
    "In this notebook, we take our origin points (here, derived from a WorldPop raster manually using the 'Raster pixels to Points' tool, and saved as as shapefile. \n",
    "\n",
    "At the end of this notebook, we are ready to generate the OD Matrix"
   ]
  },
  {
   "cell_type": "code",
   "execution_count": 1,
   "metadata": {},
   "outputs": [
    {
     "name": "stdout",
     "output_type": "stream",
     "text": [
      "networkx version: 2.3 \n",
      "osmnx version: 0.9 \n"
     ]
    }
   ],
   "source": [
    "import os, sys\n",
    "import pandas as pd\n",
    "import geopandas as gpd\n",
    "import networkx as nx\n",
    "from shapely.geometry import Point, MultiPoint\n",
    "from shapely.wkt import loads\n",
    "from scipy import spatial\n",
    "from functools import partial\n",
    "import pyproj\n",
    "from shapely.ops import transform\n",
    "sys.path.append(r'C:\\Users\\charl\\Documents\\GitHub\\GOST_PublicGoods\\GOSTNets\\GOSTNets')\n",
    "import GOSTnet as gn"
   ]
  },
  {
   "cell_type": "markdown",
   "metadata": {},
   "source": [
    "Import Graph"
   ]
  },
  {
   "cell_type": "code",
   "execution_count": 2,
   "metadata": {},
   "outputs": [],
   "source": [
    "net_path = r'C:\\Users\\charl\\Documents\\GOST\\SierraLeone\\RoadNet'\n",
    "net_file = r'final_G.pickle'\n",
    "G = nx.read_gpickle(os.path.join(net_path, net_file))"
   ]
  },
  {
   "cell_type": "markdown",
   "metadata": {},
   "source": [
    "Import Origins"
   ]
  },
  {
   "cell_type": "code",
   "execution_count": 3,
   "metadata": {},
   "outputs": [],
   "source": [
    "origin_folder = r'C:\\Users\\charl\\Documents\\GOST\\SierraLeone\\Origins'\n",
    "origin_file = r'origins_100m.shp'\n",
    "origins = gpd.read_file(os.path.join(origin_folder, origin_file))"
   ]
  },
  {
   "cell_type": "markdown",
   "metadata": {},
   "source": [
    "Snap Origins"
   ]
  },
  {
   "cell_type": "code",
   "execution_count": null,
   "metadata": {},
   "outputs": [
    {
     "name": "stderr",
     "output_type": "stream",
     "text": [
      "C:\\Users\\charl\\Documents\\GitHub\\GOST_PublicGoods\\GOSTNets\\GOSTNets\\GOSTnet.py:1645: FutureWarning: Method .as_matrix will be removed in a future version. Use .values instead.\n",
      "  G_tree = spatial.KDTree(node_gdf[['x','y']].as_matrix())\n",
      "C:\\Users\\charl\\Documents\\GitHub\\GOST_PublicGoods\\GOSTNets\\GOSTNets\\GOSTnet.py:1647: FutureWarning: Method .as_matrix will be removed in a future version. Use .values instead.\n",
      "  distances, indices = G_tree.query(in_df[['x','y']].as_matrix())\n"
     ]
    }
   ],
   "source": [
    "origins_snapped = gn.pandana_snap(G, \n",
    "                                  origins, \n",
    "                                  source_crs='epsg:4326',\n",
    "                                  target_crs='epsg:3857', \n",
    "                                  add_dist_to_node_col = True)"
   ]
  },
  {
   "cell_type": "markdown",
   "metadata": {},
   "source": [
    "Save Origins to origin folder"
   ]
  },
  {
   "cell_type": "code",
   "execution_count": null,
   "metadata": {},
   "outputs": [],
   "source": [
    "origins_snapped.to_csv(os.path.join(origin_folder, origin_file.replace('.shp','_snapped.csv')))"
   ]
  },
  {
   "cell_type": "markdown",
   "metadata": {},
   "source": [
    "Import Destinations, convert Long and Lat columns over to shapely point geometries"
   ]
  },
  {
   "cell_type": "code",
   "execution_count": null,
   "metadata": {},
   "outputs": [],
   "source": [
    "dest_path = r'C:\\Users\\charl\\Documents\\GOST\\SierraLeone\\Destinations'\n",
    "school_fil = r'schools.csv'\n",
    "health_fil = r'health_centers.csv'\n",
    "\n",
    "df_schools = pd.read_csv(os.path.join(dest_path, school_fil))\n",
    "df_schools['geometry'] = list(zip(df_schools['LONGITUDE'],df_schools['LATITUDE']))\n",
    "df_schools['geometry'] = df_schools['geometry'].apply(Point)\n",
    "gdf_schools = gpd.GeoDataFrame(df_schools, crs = {'init':'epsg:4326'}, geometry = 'geometry')\n",
    "\n",
    "df_health = pd.read_csv(os.path.join(dest_path, health_fil))\n",
    "df_health['geometry'] = list(zip(df_health['LONGITUDE'].astype(float),df_health['LATITUDE'].astype(float)))\n",
    "df_health['geometry'] = df_health['geometry'].apply(Point)\n",
    "gdf_health = gpd.GeoDataFrame(df_health, crs = {'init':'epsg:4326'}, geometry = 'geometry')"
   ]
  },
  {
   "cell_type": "markdown",
   "metadata": {},
   "source": [
    "Snap Destinations. Pay special attention to the crs - need to project in order to get a useful distnace to nearest node column!"
   ]
  },
  {
   "cell_type": "code",
   "execution_count": null,
   "metadata": {},
   "outputs": [],
   "source": [
    "df_schools_snapped = gn.pandana_snap(G, \n",
    "                                     gdf_schools, \n",
    "                                     source_crs='epsg:4326',\n",
    "                                     target_crs='epsg:3857', \n",
    "                                     add_dist_to_node_col = True)\n",
    "df_health_snapped  = gn.pandana_snap(G, \n",
    "                                     gdf_health, \n",
    "                                     source_crs='epsg:4326',\n",
    "                                     target_crs='epsg:3857', \n",
    "                                     add_dist_to_node_col = True)"
   ]
  },
  {
   "cell_type": "markdown",
   "metadata": {},
   "source": [
    "Save Destinations to destinations folder"
   ]
  },
  {
   "cell_type": "code",
   "execution_count": null,
   "metadata": {},
   "outputs": [],
   "source": [
    "df_schools_snapped.to_csv(os.path.join(dest_path, school_fil.replace('.csv','_snapped.csv')))\n",
    "df_health_snapped.to_csv(os.path.join(dest_path, health_fil.replace('.csv','_snapped.csv')))"
   ]
  },
  {
   "cell_type": "markdown",
   "metadata": {},
   "source": [
    "Send copies to the graphtool folder for processing"
   ]
  },
  {
   "cell_type": "code",
   "execution_count": null,
   "metadata": {},
   "outputs": [],
   "source": [
    "gtool = r'C:\\Users\\charl\\Documents\\GOST\\SierraLeone\\graphtool'\n",
    "\n",
    "origins_snapped.to_csv(os.path.join(gtool, origin_file.replace('.shp','_snapped.csv')))\n",
    "\n",
    "df_schools_snapped.to_csv(os.path.join(gtool, school_fil.replace('.csv','_snapped.csv')))\n",
    "\n",
    "df_health_snapped.to_csv(os.path.join(gtool, health_fil.replace('.csv','_snapped.csv')))"
   ]
  }
 ],
 "metadata": {
  "kernelspec": {
   "display_name": "Python (Cfox2)",
   "language": "python",
   "name": "cfox2"
  },
  "language_info": {
   "codemirror_mode": {
    "name": "ipython",
    "version": 3
   },
   "file_extension": ".py",
   "mimetype": "text/x-python",
   "name": "python",
   "nbconvert_exporter": "python",
   "pygments_lexer": "ipython3",
   "version": "3.6.8"
  }
 },
 "nbformat": 4,
 "nbformat_minor": 2
}
