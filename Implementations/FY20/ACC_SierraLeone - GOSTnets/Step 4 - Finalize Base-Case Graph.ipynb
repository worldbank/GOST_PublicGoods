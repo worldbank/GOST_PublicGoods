{
 "cells": [
  {
   "cell_type": "markdown",
   "metadata": {},
   "source": [
    "### Finalizing the Graph\n",
    "\n",
    "For this step we will do three things:\n",
    "\n",
    "1.) Salt the network\n",
    "\n",
    "2.) Add a time field, based on the length, and the road type\n",
    "\n",
    "3.) Modify this time field base on the IRI"
   ]
  },
  {
   "cell_type": "markdown",
   "metadata": {},
   "source": [
    "Import the usual suspects"
   ]
  },
  {
   "cell_type": "code",
   "execution_count": 1,
   "metadata": {},
   "outputs": [
    {
     "name": "stdout",
     "output_type": "stream",
     "text": [
      "networkx version: 2.3 \n",
      "osmnx version: 0.9 \n"
     ]
    }
   ],
   "source": [
    "import os, sys\n",
    "import pandas as pd\n",
    "import geopandas as gpd\n",
    "import networkx as nx\n",
    "from shapely.geometry import Point, MultiPoint\n",
    "from shapely.wkt import loads\n",
    "from scipy import spatial\n",
    "from functools import partial\n",
    "import pyproj\n",
    "from shapely.ops import transform\n",
    "sys.path.append(r'C:\\Users\\charl\\Documents\\GitHub\\GOST_PublicGoods\\GOSTNets\\GOSTNets')\n",
    "import GOSTnet as gn"
   ]
  },
  {
   "cell_type": "markdown",
   "metadata": {},
   "source": [
    "Import our Graph with IRI information attached. This graph already only has one subgraph."
   ]
  },
  {
   "cell_type": "code",
   "execution_count": 2,
   "metadata": {},
   "outputs": [],
   "source": [
    "pth = r'C:\\Users\\charl\\Documents\\GOST\\SierraLeone\\RoadNet'\n",
    "G = nx.read_gpickle(os.path.join(pth, 'IRI_adj.pickle'))"
   ]
  },
  {
   "cell_type": "markdown",
   "metadata": {},
   "source": [
    "Here we salt the network every 2km"
   ]
  },
  {
   "cell_type": "code",
   "execution_count": 3,
   "metadata": {},
   "outputs": [
    {
     "name": "stdout",
     "output_type": "stream",
     "text": [
      "WARNING: \"factor behavior has changed! now divides rather than multiplies. This change brings gn.salt_long_lines into line with gn.convert_network_to_time\" \n",
      "Identified 4750 unique edge(s) longer than 2000. \n",
      "Beginning new node creation...\n",
      "22942 new edges added and 9500 removed to bring total edges to 153059\n",
      "6721 new nodes added to bring total nodes to 66127\n"
     ]
    }
   ],
   "source": [
    "G_salted = gn.salt_long_lines(G, \n",
    "                              source = 'epsg:4326', \n",
    "                              target = 'epsg:3857',\n",
    "                              thresh = 2000,\n",
    "                              factor = 1000,\n",
    "                              attr_list = ['infra_type','osm_id','Type','iri'])"
   ]
  },
  {
   "cell_type": "markdown",
   "metadata": {},
   "source": [
    "Reset the unique edge id"
   ]
  },
  {
   "cell_type": "code",
   "execution_count": 4,
   "metadata": {},
   "outputs": [],
   "source": [
    "q = 0\n",
    "for u, v, data in G.edges(data = True):\n",
    "    data['unique_id'] = q\n",
    "    q+=1"
   ]
  },
  {
   "cell_type": "markdown",
   "metadata": {},
   "source": [
    "Next, we convert the network to time, supplying a speed in km/h for each road type"
   ]
  },
  {
   "cell_type": "code",
   "execution_count": 5,
   "metadata": {},
   "outputs": [],
   "source": [
    "edge_gdf = gn.edge_gdf_from_graph(G_salted)"
   ]
  },
  {
   "cell_type": "code",
   "execution_count": 6,
   "metadata": {},
   "outputs": [
    {
     "data": {
      "text/plain": [
       "unclassified      50830\n",
       "residential       42680\n",
       "track             32206\n",
       "tertiary           9540\n",
       "secondary          5736\n",
       "primary            5462\n",
       "trunk              3506\n",
       "service            2949\n",
       "primary_link         74\n",
       "secondary_link       32\n",
       "trunk_link           26\n",
       "tertiary_link        18\n",
       "Name: infra_type, dtype: int64"
      ]
     },
     "execution_count": 6,
     "metadata": {},
     "output_type": "execute_result"
    }
   ],
   "source": [
    "edge_gdf.infra_type.value_counts()"
   ]
  },
  {
   "cell_type": "markdown",
   "metadata": {},
   "source": [
    "Define a speed dictionary with a value for every unique road type in the above list"
   ]
  },
  {
   "cell_type": "code",
   "execution_count": 7,
   "metadata": {},
   "outputs": [],
   "source": [
    "speeds = {'residential':20,\n",
    "            'unclassified':15,\n",
    "            'track':15,\n",
    "            'tertiary':30,\n",
    "            'secondary':40,\n",
    "            'primary':50,\n",
    "            'trunk':50,\n",
    "            'service':15,\n",
    "            'road':15,\n",
    "            'primary_link':45,\n",
    "            'tertiary_link':25,\n",
    "            'secondary_link':35,\n",
    "            'trunk_link':45}"
   ]
  },
  {
   "cell_type": "code",
   "execution_count": 8,
   "metadata": {},
   "outputs": [],
   "source": [
    "G_salted_time = gn.convert_network_to_time(G_salted,\n",
    "                                      distance_tag = 'length',\n",
    "                                      graph_type = 'drive',\n",
    "                                      road_col = 'infra_type',\n",
    "                                      speed_dict = speeds,\n",
    "                                      factor = 1000\n",
    "                                     )"
   ]
  },
  {
   "cell_type": "markdown",
   "metadata": {},
   "source": [
    "Next, we modify the time taken to cross the edge based on the IRI. \n",
    "Here, I am setting up an equation whereby - \n",
    "- For iri values of less than 5, the adj value is 100\n",
    "- for iri values of more than 16, the adj value is the minimum\n",
    "- for values in between, the adj value is a straight line interpolation between 100 and the minimum value"
   ]
  },
  {
   "cell_type": "code",
   "execution_count": 9,
   "metadata": {},
   "outputs": [],
   "source": [
    "def AdjustTime(iri, min_iri = 5, max_iri = 16, min_adj = 50):\n",
    "    if iri < min_iri:\n",
    "        adj = 100\n",
    "    elif iri > max_iri:\n",
    "        adj = min_adj\n",
    "    else:\n",
    "        adj = ((-((100 - min_adj) / (max_iri - min_iri)) * iri) + (((100 - min_adj) / (max_iri - min_iri) * max_iri))) + min_adj\n",
    "    return adj / 100"
   ]
  },
  {
   "cell_type": "markdown",
   "metadata": {},
   "source": [
    "We can see this works by throwing in a few values:"
   ]
  },
  {
   "cell_type": "code",
   "execution_count": 10,
   "metadata": {},
   "outputs": [
    {
     "name": "stdout",
     "output_type": "stream",
     "text": [
      "0.5\n",
      "0.5\n",
      "0.8636363636363638\n",
      "1.0\n",
      "1.0\n"
     ]
    }
   ],
   "source": [
    "print(AdjustTime(iri = 20))\n",
    "print(AdjustTime(iri = 16))\n",
    "print(AdjustTime(iri = 8))\n",
    "print(AdjustTime(iri = 5))\n",
    "print(AdjustTime(iri = 3))"
   ]
  },
  {
   "cell_type": "markdown",
   "metadata": {},
   "source": [
    "... and we can graph this as so"
   ]
  },
  {
   "cell_type": "code",
   "execution_count": 11,
   "metadata": {},
   "outputs": [
    {
     "data": {
      "text/plain": [
       "<seaborn.axisgrid.FacetGrid at 0x2577cc79518>"
      ]
     },
     "execution_count": 11,
     "metadata": {},
     "output_type": "execute_result"
    },
    {
     "data": {
      "image/png": "[encoded data removed]",
      "text/plain": [
       "<Figure size 360x360 with 1 Axes>"
      ]
     },
     "metadata": {
      "needs_background": "light"
     },
     "output_type": "display_data"
    }
   ],
   "source": [
    "import numpy as np\n",
    "import seaborn as sns\n",
    "\n",
    "iris = list(np.arange(0, 20, step = 0.1))\n",
    "\n",
    "adj_values = [AdjustTime(x) for x in iris]\n",
    "\n",
    "df = pd.DataFrame({'iris': iris, 'adj_percentage':adj_values})\n",
    "\n",
    "sns.relplot(x=\"iris\", y=\"adj_percentage\", data=df)"
   ]
  },
  {
   "cell_type": "markdown",
   "metadata": {},
   "source": [
    "We apply this to our graph. If we assume we travel 50% slower on an iri = 16 road, our travel time will double (the inverse of the function plotted above). Hence:"
   ]
  },
  {
   "cell_type": "code",
   "execution_count": 12,
   "metadata": {},
   "outputs": [],
   "source": [
    "for u, v, data in G_salted_time.edges(data = True):\n",
    "    data['time_adj_factor'] = 1 / AdjustTime(data['iri'])\n",
    "    data['time_adj'] = data['time'] * data['time_adj_factor']"
   ]
  },
  {
   "cell_type": "markdown",
   "metadata": {},
   "source": [
    "Finally, before saving down, we reset all node IDs to integers to aid the grpahtool step"
   ]
  },
  {
   "cell_type": "code",
   "execution_count": 13,
   "metadata": {},
   "outputs": [],
   "source": [
    "G_salted_time = nx.convert_node_labels_to_integers(G_salted_time)"
   ]
  },
  {
   "cell_type": "markdown",
   "metadata": {},
   "source": [
    "Save down"
   ]
  },
  {
   "cell_type": "code",
   "execution_count": 14,
   "metadata": {},
   "outputs": [],
   "source": [
    "gn.save(G_salted_time, 'final_G', pth, , nodes = False,  edges = False)"
   ]
  }
 ],
 "metadata": {
  "kernelspec": {
   "display_name": "Python (Cfox2)",
   "language": "python",
   "name": "cfox2"
  },
  "language_info": {
   "codemirror_mode": {
    "name": "ipython",
    "version": 3
   },
   "file_extension": ".py",
   "mimetype": "text/x-python",
   "name": "python",
   "nbconvert_exporter": "python",
   "pygments_lexer": "ipython3",
   "version": "3.6.8"
  }
 },
 "nbformat": 4,
 "nbformat_minor": 2
}
