{
 "cells": [
  {
   "cell_type": "markdown",
   "metadata": {},
   "source": [
    "For our Sierra Leone example, we have IRI data for some of the roads, as collected by Road Lab Pro. Here, we match this data on to our much more detailed (and topologically correct) OSM road network"
   ]
  },
  {
   "cell_type": "code",
   "execution_count": 1,
   "metadata": {},
   "outputs": [
    {
     "name": "stdout",
     "output_type": "stream",
     "text": [
      "peartree version: 0.6.1 \n",
      "networkx version: 2.3 \n",
      "matplotlib version: 3.0.3 \n",
      "osmnx version: 0.9 \n"
     ]
    }
   ],
   "source": [
    "import os, sys\n",
    "import pandas as pd\n",
    "import geopandas as gpd\n",
    "import networkx as nx\n",
    "from shapely.geometry import Point, MultiPoint\n",
    "from shapely.wkt import loads\n",
    "from scipy import spatial\n",
    "from functools import partial\n",
    "import pyproj\n",
    "from shapely.ops import transform\n",
    "sys.path.append(r'C:\\Users\\charl\\Documents\\GitHub\\GOST_PublicGoods\\GOSTNets\\GOSTNets')\n",
    "import GOSTnet as gn"
   ]
  },
  {
   "cell_type": "markdown",
   "metadata": {},
   "source": [
    "Set the EPSG code for the projection. This will be the projection where real world distances are measured"
   ]
  },
  {
   "cell_type": "code",
   "execution_count": 2,
   "metadata": {},
   "outputs": [],
   "source": [
    "code = 2161"
   ]
  },
  {
   "cell_type": "markdown",
   "metadata": {},
   "source": [
    "Set paths to your graph object and import"
   ]
  },
  {
   "cell_type": "code",
   "execution_count": 3,
   "metadata": {},
   "outputs": [],
   "source": [
    "net_pth = r'C:\\Users\\charl\\Documents\\GOST\\SierraLeone\\RoadNet'\n",
    "net_name = r'largest_G.pickle'\n",
    "G = nx.read_gpickle(os.path.join(net_pth, net_name))"
   ]
  },
  {
   "cell_type": "markdown",
   "metadata": {},
   "source": [
    "Set paths to your IRI dataset and import. Ensure project is WGS 84"
   ]
  },
  {
   "cell_type": "code",
   "execution_count": 4,
   "metadata": {},
   "outputs": [],
   "source": [
    "iri_pth = r'C:\\Users\\charl\\Documents\\GOST\\SierraLeone\\IRI_data'\n",
    "iri_name = r'road_network_condition_vCombo.shp'\n",
    "iri_df = gpd.read_file(os.path.join(iri_pth, iri_name))\n",
    "iri_df = iri_df.to_crs({'init':'epsg:4326'})"
   ]
  },
  {
   "cell_type": "markdown",
   "metadata": {},
   "source": [
    "Remove any records in the IRI dataframe which are equal to 0 - we only want to match on valid information"
   ]
  },
  {
   "cell_type": "code",
   "execution_count": 5,
   "metadata": {},
   "outputs": [],
   "source": [
    "iri_df = iri_df.loc[iri_df.Avg_iri > 0]"
   ]
  },
  {
   "cell_type": "markdown",
   "metadata": {},
   "source": [
    "Convert the LineString to a list object of the constituent point coordinates. We do this because linestring to linestring intersections are slow, painful and unpredictable. It is easier to conceptualize the intersect as line to point, or polygon to point. We pursue the latter here"
   ]
  },
  {
   "cell_type": "code",
   "execution_count": 6,
   "metadata": {},
   "outputs": [],
   "source": [
    "iri_df['point_bag'] = iri_df.geometry.apply(lambda x: list(x.coords))"
   ]
  },
  {
   "cell_type": "markdown",
   "metadata": {},
   "source": [
    "Create a dictionary object of IRI:list(points) objects"
   ]
  },
  {
   "cell_type": "code",
   "execution_count": 7,
   "metadata": {},
   "outputs": [],
   "source": [
    "bag = {}\n",
    "for index, row in iri_df.iterrows():\n",
    "    bag[row.Avg_iri] = MultiPoint(row['point_bag'])"
   ]
  },
  {
   "cell_type": "markdown",
   "metadata": {},
   "source": [
    "Iterate out the points into their own list, with corresponding IRI list"
   ]
  },
  {
   "cell_type": "code",
   "execution_count": 8,
   "metadata": {},
   "outputs": [],
   "source": [
    "points = []\n",
    "iris = []\n",
    "for b in bag:\n",
    "    for c in bag[b].geoms:\n",
    "        points.append(c)\n",
    "        iris.append(b)"
   ]
  },
  {
   "cell_type": "markdown",
   "metadata": {},
   "source": [
    "Generate a new dataframe composed only of geometry:IRI pairs"
   ]
  },
  {
   "cell_type": "code",
   "execution_count": 9,
   "metadata": {},
   "outputs": [],
   "source": [
    "points_df = pd.DataFrame({'IRIs':iris, 'Points':points})"
   ]
  },
  {
   "cell_type": "markdown",
   "metadata": {},
   "source": [
    "Convert to GeoDataFrame using knonw projection (WGS 84)"
   ]
  },
  {
   "cell_type": "code",
   "execution_count": 10,
   "metadata": {},
   "outputs": [],
   "source": [
    "points_gdf = gpd.GeoDataFrame(points_df, crs = {'init':'epsg:4326'}, geometry = 'Points')"
   ]
  },
  {
   "cell_type": "markdown",
   "metadata": {},
   "source": [
    "Project over to metres to allow for binding on to graph"
   ]
  },
  {
   "cell_type": "code",
   "execution_count": 11,
   "metadata": {},
   "outputs": [],
   "source": [
    "points_gdf_proj = points_gdf.to_crs({'init':'epsg:%s' % code})"
   ]
  },
  {
   "cell_type": "markdown",
   "metadata": {},
   "source": [
    "Save down as required"
   ]
  },
  {
   "cell_type": "code",
   "execution_count": 12,
   "metadata": {},
   "outputs": [],
   "source": [
    "#points_gdf.to_file(os.path.join(net_pth, 'IRIpoints.shp'), driver = 'ESRI Shapefile')"
   ]
  },
  {
   "cell_type": "markdown",
   "metadata": {},
   "source": [
    "Generate a spatial index. This will allow us to do faster intersections later"
   ]
  },
  {
   "cell_type": "code",
   "execution_count": 13,
   "metadata": {},
   "outputs": [],
   "source": [
    "sindex = points_gdf_proj.sindex"
   ]
  },
  {
   "cell_type": "markdown",
   "metadata": {},
   "source": [
    "Define projection method. This will be called many times in the next loop"
   ]
  },
  {
   "cell_type": "code",
   "execution_count": 14,
   "metadata": {},
   "outputs": [],
   "source": [
    "source_crs = 'epsg:4326'\n",
    "target_crs = 'epsg:%s' % code\n",
    "\n",
    "project_WGS_to_UTM = partial(\n",
    "                    pyproj.transform,\n",
    "                    pyproj.Proj(init=source_crs),\n",
    "                    pyproj.Proj(init=target_crs))"
   ]
  },
  {
   "cell_type": "markdown",
   "metadata": {},
   "source": [
    "Iterate over all graph edges, perform fast spatial intersection, add on IRI data"
   ]
  },
  {
   "cell_type": "code",
   "execution_count": 15,
   "metadata": {
    "scrolled": true
   },
   "outputs": [
    {
     "name": "stdout",
     "output_type": "stream",
     "text": [
      "edges completed:  10000\n",
      "edges completed:  20000\n",
      "edges completed:  30000\n",
      "edges completed:  40000\n",
      "edges completed:  50000\n",
      "edges completed:  60000\n",
      "edges completed:  70000\n",
      "edges completed:  80000\n",
      "edges completed:  90000\n",
      "edges completed:  100000\n",
      "edges completed:  110000\n",
      "edges completed:  120000\n",
      "edges completed:  130000\n"
     ]
    }
   ],
   "source": [
    "# define a counter\n",
    "c = 0\n",
    "\n",
    "# iterate over the edges in the graph\n",
    "for u, v, data in G.edges(data = True):\n",
    "    \n",
    "    # convert string object to shapely object\n",
    "    if type(data['Wkt']) == str:\n",
    "        polygon = loads(data['Wkt'])\n",
    "    \n",
    "    # if geometry appears to be a list, unbundle it first. \n",
    "    elif type(data['Wkt']) == list:\n",
    "        data['Wkt'] = gn.unbundle_geometry(data['Wkt'])\n",
    "        polygon = data['Wkt']\n",
    "    \n",
    "    # project shapely object to UTM zone of choice\n",
    "    polygon_proj = transform(project_WGS_to_UTM, polygon)\n",
    "    \n",
    "    # buffer by 25 metres to capture nearby points\n",
    "    polygon_proj = polygon_proj.buffer(10)\n",
    "    \n",
    "    # generate the list of possible matches - the index of the points that intersects the \n",
    "    # boundary of the projected polygon\n",
    "    possible_matches_index = list(sindex.intersection(polygon_proj.bounds))\n",
    "    \n",
    "    # use this to .iloc the actual points GeodataFrame\n",
    "    possible_matches = points_gdf_proj.iloc[possible_matches_index]\n",
    "    \n",
    "    # intersect this smaller dataframe with the actual geometry to get an accurate intersection\n",
    "    precise_matches = possible_matches[possible_matches.intersects(polygon)]\n",
    "    \n",
    "    # match on median IRI as a data dictionary object if more than 10 points detected\n",
    "    if len(possible_matches) > 3:\n",
    "        data['iri'] = possible_matches.IRIs.mean()\n",
    "    else:\n",
    "        data['iri'] = 0\n",
    "    \n",
    "    c+=1\n",
    "    \n",
    "    if c % 10000 == 0:\n",
    "        print('edges completed: ',c)"
   ]
  },
  {
   "cell_type": "markdown",
   "metadata": {},
   "source": [
    "Save down the new graph"
   ]
  },
  {
   "cell_type": "code",
   "execution_count": 16,
   "metadata": {},
   "outputs": [],
   "source": [
    "gn.save(G, 'IRI_adj', net_pth, pickle = True, nodes = False,  edges = False)"
   ]
  }
 ],
 "metadata": {
  "kernelspec": {
   "display_name": "Python (Cfox2)",
   "language": "python",
   "name": "cfox2"
  },
  "language_info": {
   "codemirror_mode": {
    "name": "ipython",
    "version": 3
   },
   "file_extension": ".py",
   "mimetype": "text/x-python",
   "name": "python",
   "nbconvert_exporter": "python",
   "pygments_lexer": "ipython3",
   "version": "3.6.8"
  }
 },
 "nbformat": 4,
 "nbformat_minor": 2
}
