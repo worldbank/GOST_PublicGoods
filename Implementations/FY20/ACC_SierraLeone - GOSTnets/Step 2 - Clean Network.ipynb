{
 "cells": [
  {
   "cell_type": "markdown",
   "metadata": {},
   "source": [
    "### Clean Network\n",
    "In this process developed by Charles Fox, we move from a GOSTnets raw graph object (see Extract from osm.pbf) to a routable network. This process is fairly bespoke, with several parameters and opportunities for significant simplification. "
   ]
  },
  {
   "cell_type": "code",
   "execution_count": 1,
   "metadata": {},
   "outputs": [
    {
     "name": "stdout",
     "output_type": "stream",
     "text": [
      "peartree version: 0.6.1 \n",
      "networkx version: 2.3 \n",
      "matplotlib version: 3.0.3 \n",
      "osmnx version: 0.9 \n"
     ]
    }
   ],
   "source": [
    "import geopandas as gpd\n",
    "import os, sys, time\n",
    "import pandas as pd\n",
    "sys.path.append(r'C:\\Users\\charl\\Documents\\GitHub\\GOST_PublicGoods\\GOSTNets\\GOSTNets')\n",
    "import GOSTnet as gn\n",
    "import importlib\n",
    "import networkx as nx\n",
    "import osmnx as ox\n",
    "from shapely.ops import unary_union\n",
    "from shapely.wkt import loads\n",
    "from shapely.geometry import LineString, MultiLineString, Point"
   ]
  },
  {
   "cell_type": "markdown",
   "metadata": {},
   "source": [
    "This function defines the order of GOSTnet functions we will call on the input network object. The verbose flag causes the process to save down intermediate files - helpful for troublehsooting"
   ]
  },
  {
   "cell_type": "code",
   "execution_count": 2,
   "metadata": {},
   "outputs": [],
   "source": [
    "def CleanNetwork(G, wpath, country, UTM, WGS = {'init': 'epsg:4326'}, junctdist = 50, verbose = False):\n",
    "    \n",
    "    ### Topologically simplifies an input graph object by collapsing junctions and removing interstital nodes\n",
    "    # REQUIRED - G: a graph object containing nodes and edges. edges should have a property \n",
    "    #               called 'Wkt' containing geometry objects describing the roads\n",
    "    #            wpath: the write path - a drive directory for inputs and output\n",
    "    #            country: this parameter allows for the sequential processing of multiple countries\n",
    "    #            UTM: the epsg code of the projection, in metres, to apply the junctdist\n",
    "    # OPTIONAL - junctdist: distance within which to collapse neighboring nodes. simplifies junctions. \n",
    "    #            Set to 0.1 if not simplification desired. 50m good for national (primary / secondary) networks\n",
    "    #            verbose: if True, saves down intermediate stages for dissection\n",
    "    ################################################################################################\n",
    "    \n",
    "    # Squeezes clusters of nodes down to a single node if they are within the snapping tolerance\n",
    "    a = gn.simplify_junctions(G, UTM, WGS, junctdist)\n",
    "\n",
    "    # ensures all streets are two-way\n",
    "    a = gn.add_missing_reflected_edges(a)\n",
    "    \n",
    "    #save progress\n",
    "    if verbose is True: \n",
    "        gn.save(a, 'a', wpath)\n",
    "    \n",
    "    # Finds and deletes interstital nodes based on node degree\n",
    "    b = gn.custom_simplify(a)\n",
    "    \n",
    "    # rectify geometry\n",
    "    for u, v, data in b.edges(data = True):\n",
    "        if type(data['Wkt']) == list:\n",
    "                data['Wkt'] = gn.unbundle_geometry(data['Wkt'])\n",
    "    \n",
    "    # save progress\n",
    "    if verbose is True: \n",
    "        gn.save(b, 'b', wpath)\n",
    "    \n",
    "    # For some reason CustomSimplify doesn't return a MultiDiGraph. Fix that here\n",
    "    c = gn.convert_to_MultiDiGraph(b)\n",
    "\n",
    "    # This is the most controversial function - removes duplicated edges. This takes care of two-lane but separate highways, BUT\n",
    "    # destroys internal loops within roads. Can be run with or without this line\n",
    "    c = gn.remove_duplicate_edges(c)\n",
    "\n",
    "    # Run this again after removing duplicated edges\n",
    "    c = gn.custom_simplify(c)\n",
    "\n",
    "    # Ensure all remaining edges are duplicated (two-way streets)\n",
    "    c = gn.add_missing_reflected_edges(c)\n",
    "    \n",
    "    # save final\n",
    "    gn.save(c, '%s_processed' % country, wpath)\n",
    "    \n",
    "    print('Edge reduction: %s to %s (%d percent)' % (G.number_of_edges(), \n",
    "                                               c.number_of_edges(), \n",
    "                                               ((G.number_of_edges() - c.number_of_edges())/G.number_of_edges()*100)))\n",
    "    return c"
   ]
  },
  {
   "cell_type": "markdown",
   "metadata": {},
   "source": [
    "This is the main process - and is only needed to fire off CleanNetwork. G objects can either be loaded from pickled graph objects, or can be passed in from extraction / other processing\n",
    "\n",
    "WARNING: expect this step to take a while. It will produce a pickled graph object, a dataframe of the edges, and a dataframe of the nodes. The expectation is that this will only ave to be run once"
   ]
  },
  {
   "cell_type": "code",
   "execution_count": 3,
   "metadata": {},
   "outputs": [
    {
     "name": "stdout",
     "output_type": "stream",
     "text": [
      "\n",
      "--- processing for: SLE ---\n",
      "\n",
      "start: Tue Jun  4 15:05:22 2019\n",
      "\n",
      "Outputs can be found at: C:\\Users\\charl\\Documents\\GOST\\SierraLeone\\RoadNet\n",
      "\n",
      "87123\n",
      "173820\n",
      "156986\n",
      "78849\n",
      "156955\n",
      "Edge reduction: 87139 to 156955 (-80 percent)\n",
      "\n",
      "end: Tue Jun  4 15:12:52 2019\n",
      "\n",
      "--- processing complete for: SLE ---\n"
     ]
    }
   ],
   "source": [
    "UTMZs = {'SLE':3857} # Web Mercator\n",
    "\n",
    "WGS = {'init': 'epsg:4326'}\n",
    "\n",
    "countries = ['SLE']\n",
    "\n",
    "wpath = r'C:\\Users\\charl\\Documents\\GOST\\SierraLeone\\RoadNet'\n",
    "\n",
    "for country in countries:\n",
    "    \n",
    "    print('\\n--- processing for: %s ---\\n' % country)\n",
    "    print('start: %s\\n' % time.ctime())\n",
    "\n",
    "    print('Outputs can be found at: %s\\n' % (wpath))\n",
    "        \n",
    "    UTM = {'init': 'epsg:%d' % UTMZs[country]}\n",
    "    \n",
    "    G = nx.read_gpickle(os.path.join(wpath, 'SL_uncleaned.pickle'))\n",
    "    \n",
    "    G = CleanNetwork(G, wpath, country, UTM, WGS, 0.5, verbose = False)\n",
    "    print('\\nend: %s' % time.ctime())\n",
    "    print('\\n--- processing complete for: %s ---' % country)"
   ]
  }
 ],
 "metadata": {
  "kernelspec": {
   "display_name": "Python (Cfox2)",
   "language": "python",
   "name": "cfox2"
  },
  "language_info": {
   "codemirror_mode": {
    "name": "ipython",
    "version": 3
   },
   "file_extension": ".py",
   "mimetype": "text/x-python",
   "name": "python",
   "nbconvert_exporter": "python",
   "pygments_lexer": "ipython3",
   "version": "3.6.8"
  }
 },
 "nbformat": 4,
 "nbformat_minor": 2
}
