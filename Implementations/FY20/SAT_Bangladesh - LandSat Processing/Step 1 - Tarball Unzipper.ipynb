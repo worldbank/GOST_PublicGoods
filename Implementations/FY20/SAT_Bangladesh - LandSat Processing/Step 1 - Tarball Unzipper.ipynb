{
 "cells": [
  {
   "cell_type": "markdown",
   "metadata": {},
   "source": [
    "Very small script for unzippling large collections of tarballs"
   ]
  },
  {
   "cell_type": "code",
   "execution_count": 4,
   "metadata": {},
   "outputs": [],
   "source": [
    "import os, zipfile\n",
    "import tarfile"
   ]
  },
  {
   "cell_type": "code",
   "execution_count": 5,
   "metadata": {},
   "outputs": [],
   "source": [
    "dir_name = r'D:\\Landscan_Padma_bridge\\espa-cfox1@worldbank.org-0101902116690'\n",
    "extension = \".gz\"\n",
    "\n",
    "for root, dirc, files in os.walk(dir_name):\n",
    "    pass"
   ]
  },
  {
   "cell_type": "code",
   "execution_count": 6,
   "metadata": {},
   "outputs": [],
   "source": [
    "for fname in files:\n",
    "    if (fname.endswith(\"tar.gz\")):\n",
    "        base = fname.replace('.tar.gz','')\n",
    "        tar = tarfile.open(os.path.join(root, fname), \"r:gz\")\n",
    "        os.mkdir(os.path.join(root, base))\n",
    "        tar.extractall(os.path.join(root, base))\n",
    "        tar.close()\n",
    "    elif (fname.endswith(\"tar\")):\n",
    "        tar = tarfile.open(os.path.join(root, fname), \"r:\")\n",
    "        os.mkdir(os.path.join(root, base))\n",
    "        tar.extractall(os.path.join(root, base))\n",
    "        tar.close()"
   ]
  }
 ],
 "metadata": {
  "kernelspec": {
   "display_name": "Python (Cfox2)",
   "language": "python",
   "name": "cfox2"
  },
  "language_info": {
   "codemirror_mode": {
    "name": "ipython",
    "version": 3
   },
   "file_extension": ".py",
   "mimetype": "text/x-python",
   "name": "python",
   "nbconvert_exporter": "python",
   "pygments_lexer": "ipython3",
   "version": "3.6.8"
  }
 },
 "nbformat": 4,
 "nbformat_minor": 2
}
