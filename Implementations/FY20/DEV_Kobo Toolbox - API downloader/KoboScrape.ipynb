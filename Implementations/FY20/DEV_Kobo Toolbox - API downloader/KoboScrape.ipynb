{
 "cells": [
  {
   "cell_type": "markdown",
   "metadata": {},
   "source": [
    "This script provides functionality for automatically downloading the contents of a Kobo toolbox account. \n",
    "\n",
    "This technique is applicable for safeguarding and recording GEMS data. \n",
    "\n",
    "CREDITS: Bernhard Metz for setting up the GOST user account. "
   ]
  },
  {
   "cell_type": "markdown",
   "metadata": {},
   "source": [
    "Import some libraries (some may be redundant...I wish you luck figuring out which are!)"
   ]
  },
  {
   "cell_type": "code",
   "execution_count": 1,
   "metadata": {},
   "outputs": [],
   "source": [
    "import urllib3\n",
    "import pandas as pd\n",
    "import os, sys, time\n",
    "import json\n",
    "import re, requests, json, sys, os, io, configparser, logging, time\n",
    "import subprocess\n",
    "import ast"
   ]
  },
  {
   "cell_type": "markdown",
   "metadata": {},
   "source": [
    "Basic settings. Contact @BenStewart or @BernhardMetz for the username, password and token info for the GOST GEMS account if you require it."
   ]
  },
  {
   "cell_type": "code",
   "execution_count": 86,
   "metadata": {},
   "outputs": [],
   "source": [
    "username = ''\n",
    "password = ''\n",
    "token = r''"
   ]
  },
  {
   "cell_type": "markdown",
   "metadata": {},
   "source": [
    "We can test this data immediately by sending a single request to the API with the username and password:"
   ]
  },
  {
   "cell_type": "code",
   "execution_count": 76,
   "metadata": {},
   "outputs": [],
   "source": [
    "target = r'data'\n",
    " \n",
    "url = 'https://kc.kobotoolbox.org/api/v1/data'\n",
    "headers = {\"Authorization\": \"Token %s\" % token, \"Content-Type\": \"application/x-www-form-urlencoded\"}\n",
    "params = {\"grant_type\": \"password\", \"username\": username, \"password\": password }\n",
    "res = requests.get(url, headers=headers, data=params)\n",
    "a = res.json()"
   ]
  },
  {
   "cell_type": "markdown",
   "metadata": {},
   "source": [
    "The returned JSON object, a, describes the projects that this username and password has access to:"
   ]
  },
  {
   "cell_type": "code",
   "execution_count": 65,
   "metadata": {},
   "outputs": [
    {
     "data": {
      "text/plain": [
       "[{'id': 132599,\n",
       "  'id_string': 'a2NWYnE3DStCiTXDEvp7eL',\n",
       "  'title': 'Clone of HRRP-Quantified Supervisory Checklist Final',\n",
       "  'description': 'Clone of HRRP-Quantified Supervisory Checklist Final',\n",
       "  'url': 'https://kc.kobotoolbox.org/api/v1/data/132599'},\n",
       " {'id': 171956,\n",
       "  'id_string': 'abqA3JAHbG8C5fJ2B4HkPY',\n",
       "  'title': 'PAPD v2 - EVALUATION DES BESOINS GEOLOCALISES DANS LES ZONES D’INTERVENTION',\n",
       "  'description': 'PAPD v2 - EVALUATION DES BESOINS GEOLOCALISES DANS LES ZONES D’INTERVENTION',\n",
       "  'url': 'https://kc.kobotoolbox.org/api/v1/data/171956'},\n",
       " {'id': 155719,\n",
       "  'id_string': 'aginZWr8xjkPhDHFEp3DiX',\n",
       "  'title': 'API Test',\n",
       "  'description': 'API Test',\n",
       "  'url': 'https://kc.kobotoolbox.org/api/v1/data/155719'},\n",
       " {'id': 252660,\n",
       "  'id_string': 'aiRBmL3QZeFVJfBMbFNJQs',\n",
       "  'title': 'TEST Experimental Question Types',\n",
       "  'description': 'TEST Experimental Question Types',\n",
       "  'url': 'https://kc.kobotoolbox.org/api/v1/data/252660'},\n",
       " {'id': 155763,\n",
       "  'id_string': 'aYCum2c6QtC98YXRHCHQDN',\n",
       "  'title': 'API Test 2',\n",
       "  'description': 'API Test 2',\n",
       "  'url': 'https://kc.kobotoolbox.org/api/v1/data/155763'},\n",
       " {'id': 223867,\n",
       "  'id_string': 'aydbnePbMdduQTmA9frfUc',\n",
       "  'title': 'Replace Project Test',\n",
       "  'description': 'Replace Project Test',\n",
       "  'url': 'https://kc.kobotoolbox.org/api/v1/data/223867'},\n",
       " {'id': 165828,\n",
       "  'id_string': 'aZcNQpuLqcZytmvJtntoh5',\n",
       "  'title': 'Geography Test',\n",
       "  'description': 'Geography Test',\n",
       "  'url': 'https://kc.kobotoolbox.org/api/v1/data/165828'}]"
      ]
     },
     "execution_count": 65,
     "metadata": {},
     "output_type": "execute_result"
    }
   ],
   "source": [
    "a"
   ]
  },
  {
   "cell_type": "markdown",
   "metadata": {},
   "source": [
    "Each project has its own URL string. This provides a specific link that we can query to get access to the data."
   ]
  },
  {
   "cell_type": "markdown",
   "metadata": {},
   "source": [
    "Here we define a data-pulling function, pull, that, when passed a url, fetches all of the data as a JSON format and returns it to the caller:"
   ]
  },
  {
   "cell_type": "code",
   "execution_count": 15,
   "metadata": {},
   "outputs": [],
   "source": [
    "def pull(url):\n",
    "    headers = {\"Authorization\": \"Token %s\" % token, \"Content-Type\": \"application/x-www-form-urlencoded\"}\n",
    "    params = {\"grant_type\": \"password\", \"username\": username, \"password\": password }\n",
    "    res = requests.get(url, headers=headers, data=params)\n",
    "    q = res.json()\n",
    "    return q"
   ]
  },
  {
   "cell_type": "markdown",
   "metadata": {},
   "source": [
    "We can now use this to pull the data associated with each project:"
   ]
  },
  {
   "cell_type": "code",
   "execution_count": 88,
   "metadata": {},
   "outputs": [],
   "source": [
    "i = 0\n",
    "downloaded_data = pull(a[i]['url'])\n",
    "downloaded_data_df = pd.DataFrame(downloaded_data)"
   ]
  },
  {
   "cell_type": "markdown",
   "metadata": {},
   "source": [
    "We can also print the first 5 rows of the response:"
   ]
  },
  {
   "cell_type": "code",
   "execution_count": 89,
   "metadata": {},
   "outputs": [
    {
     "data": {
      "text/html": [
       "<div>\n",
       "<style scoped>\n",
       "    .dataframe tbody tr th:only-of-type {\n",
       "        vertical-align: middle;\n",
       "    }\n",
       "\n",
       "    .dataframe tbody tr th {\n",
       "        vertical-align: top;\n",
       "    }\n",
       "\n",
       "    .dataframe thead th {\n",
       "        text-align: right;\n",
       "    }\n",
       "</style>\n",
       "<table border=\"1\" class=\"dataframe\">\n",
       "  <thead>\n",
       "    <tr style=\"text-align: right;\">\n",
       "      <th></th>\n",
       "      <th>ANC_1_Last_Quarter</th>\n",
       "      <th>ANC_4_Last_Quarter</th>\n",
       "      <th>Boma_Health_Initiati_e_Citizen_Engagement</th>\n",
       "      <th>Communication</th>\n",
       "      <th>County_If_Akobo</th>\n",
       "      <th>County_If_Boma_</th>\n",
       "      <th>County_If_Central_Upper_Nile</th>\n",
       "      <th>County_If_Fashoda_</th>\n",
       "      <th>County_If_Jonglei_</th>\n",
       "      <th>County_If_Northern_Upper_Nile</th>\n",
       "      <th>...</th>\n",
       "      <th>end</th>\n",
       "      <th>formhub/uuid</th>\n",
       "      <th>meta/deprecatedID</th>\n",
       "      <th>meta/instanceID</th>\n",
       "      <th>phonenumber</th>\n",
       "      <th>simserial</th>\n",
       "      <th>start</th>\n",
       "      <th>subscriberid</th>\n",
       "      <th>today</th>\n",
       "      <th>username</th>\n",
       "    </tr>\n",
       "  </thead>\n",
       "  <tbody>\n",
       "    <tr>\n",
       "      <th>0</th>\n",
       "      <td>0</td>\n",
       "      <td>0</td>\n",
       "      <td>boma_health_te</td>\n",
       "      <td>internet_syste</td>\n",
       "      <td>NaN</td>\n",
       "      <td>NaN</td>\n",
       "      <td>NaN</td>\n",
       "      <td>NaN</td>\n",
       "      <td>duk_payuel</td>\n",
       "      <td>NaN</td>\n",
       "      <td>...</td>\n",
       "      <td>2018-05-02T17:12:16.775+03</td>\n",
       "      <td>e7b18869fb704e08ada5c5659c658a8e</td>\n",
       "      <td>NaN</td>\n",
       "      <td>uuid:e20bd30c-03f6-4ebc-862f-859fa6e9e3fd</td>\n",
       "      <td>916285677</td>\n",
       "      <td>8921101009146798754</td>\n",
       "      <td>2018-05-02T17:01:28.405+03</td>\n",
       "      <td>659060014679875</td>\n",
       "      <td>2018-05-02</td>\n",
       "      <td>hrrp_ssd_collector</td>\n",
       "    </tr>\n",
       "    <tr>\n",
       "      <th>1</th>\n",
       "      <td>20</td>\n",
       "      <td>10</td>\n",
       "      <td>boma_health_te</td>\n",
       "      <td>telephone</td>\n",
       "      <td>NaN</td>\n",
       "      <td>NaN</td>\n",
       "      <td>NaN</td>\n",
       "      <td>NaN</td>\n",
       "      <td>twic_south</td>\n",
       "      <td>NaN</td>\n",
       "      <td>...</td>\n",
       "      <td>2017-11-09T14:28:49.853+08</td>\n",
       "      <td>e7b18869fb704e08ada5c5659c658a8e</td>\n",
       "      <td>NaN</td>\n",
       "      <td>uuid:24d610fd-aa06-4a59-8303-5a33d356bbe8</td>\n",
       "      <td>916258584</td>\n",
       "      <td>8921101009146540487</td>\n",
       "      <td>2017-11-09T13:37:21.980+08</td>\n",
       "      <td>659060014654048</td>\n",
       "      <td>2017-11-09</td>\n",
       "      <td>hrrp_ssd_collector</td>\n",
       "    </tr>\n",
       "    <tr>\n",
       "      <th>2</th>\n",
       "      <td>15</td>\n",
       "      <td>19</td>\n",
       "      <td>boma_health_te</td>\n",
       "      <td>telephone</td>\n",
       "      <td>NaN</td>\n",
       "      <td>NaN</td>\n",
       "      <td>NaN</td>\n",
       "      <td>NaN</td>\n",
       "      <td>twic_central</td>\n",
       "      <td>NaN</td>\n",
       "      <td>...</td>\n",
       "      <td>2017-11-17T11:11:33.208+08</td>\n",
       "      <td>e7b18869fb704e08ada5c5659c658a8e</td>\n",
       "      <td>NaN</td>\n",
       "      <td>uuid:4233353b-707a-4961-a0ab-bc395902ba91</td>\n",
       "      <td>916258584</td>\n",
       "      <td>8921101009146540487</td>\n",
       "      <td>2017-11-17T10:48:34.015+08</td>\n",
       "      <td>659060014654048</td>\n",
       "      <td>2017-11-17</td>\n",
       "      <td>hrrp_ssd_collector</td>\n",
       "    </tr>\n",
       "    <tr>\n",
       "      <th>3</th>\n",
       "      <td>153</td>\n",
       "      <td>6</td>\n",
       "      <td>boma_health_te</td>\n",
       "      <td>internet_syste</td>\n",
       "      <td>NaN</td>\n",
       "      <td>NaN</td>\n",
       "      <td>NaN</td>\n",
       "      <td>NaN</td>\n",
       "      <td>twic_north</td>\n",
       "      <td>NaN</td>\n",
       "      <td>...</td>\n",
       "      <td>2017-11-02T16:34:41.045+08</td>\n",
       "      <td>e7b18869fb704e08ada5c5659c658a8e</td>\n",
       "      <td>NaN</td>\n",
       "      <td>uuid:0c6ea310-d601-403f-9d7d-44232993f56f</td>\n",
       "      <td>NaN</td>\n",
       "      <td>NaN</td>\n",
       "      <td>2017-11-01T19:29:59.013+08</td>\n",
       "      <td>NaN</td>\n",
       "      <td>2017-11-01</td>\n",
       "      <td>hrrp_ssd_collector</td>\n",
       "    </tr>\n",
       "    <tr>\n",
       "      <th>4</th>\n",
       "      <td>0</td>\n",
       "      <td>0</td>\n",
       "      <td>boma_health_te</td>\n",
       "      <td>internet_syste telephone radio</td>\n",
       "      <td>NaN</td>\n",
       "      <td>NaN</td>\n",
       "      <td>NaN</td>\n",
       "      <td>NaN</td>\n",
       "      <td>duk_payuel</td>\n",
       "      <td>NaN</td>\n",
       "      <td>...</td>\n",
       "      <td>2018-05-18T12:23:47.169+03</td>\n",
       "      <td>e7b18869fb704e08ada5c5659c658a8e</td>\n",
       "      <td>NaN</td>\n",
       "      <td>uuid:4862c88f-bfe9-45c4-9d2f-27e2f10521ed</td>\n",
       "      <td>916285677</td>\n",
       "      <td>8921101009146798754</td>\n",
       "      <td>2018-05-18T12:04:10.102+03</td>\n",
       "      <td>659060014679875</td>\n",
       "      <td>2018-05-18</td>\n",
       "      <td>hrrp_ssd_collector</td>\n",
       "    </tr>\n",
       "  </tbody>\n",
       "</table>\n",
       "<p>5 rows × 84 columns</p>\n",
       "</div>"
      ],
      "text/plain": [
       "  ANC_1_Last_Quarter ANC_4_Last_Quarter  \\\n",
       "0                  0                  0   \n",
       "1                 20                 10   \n",
       "2                 15                 19   \n",
       "3                153                  6   \n",
       "4                  0                  0   \n",
       "\n",
       "  Boma_Health_Initiati_e_Citizen_Engagement                   Communication  \\\n",
       "0                            boma_health_te                  internet_syste   \n",
       "1                            boma_health_te                       telephone   \n",
       "2                            boma_health_te                       telephone   \n",
       "3                            boma_health_te                  internet_syste   \n",
       "4                            boma_health_te  internet_syste telephone radio   \n",
       "\n",
       "  County_If_Akobo County_If_Boma_ County_If_Central_Upper_Nile  \\\n",
       "0             NaN             NaN                          NaN   \n",
       "1             NaN             NaN                          NaN   \n",
       "2             NaN             NaN                          NaN   \n",
       "3             NaN             NaN                          NaN   \n",
       "4             NaN             NaN                          NaN   \n",
       "\n",
       "  County_If_Fashoda_ County_If_Jonglei_ County_If_Northern_Upper_Nile  ...  \\\n",
       "0                NaN         duk_payuel                           NaN  ...   \n",
       "1                NaN         twic_south                           NaN  ...   \n",
       "2                NaN       twic_central                           NaN  ...   \n",
       "3                NaN         twic_north                           NaN  ...   \n",
       "4                NaN         duk_payuel                           NaN  ...   \n",
       "\n",
       "                          end                      formhub/uuid  \\\n",
       "0  2018-05-02T17:12:16.775+03  e7b18869fb704e08ada5c5659c658a8e   \n",
       "1  2017-11-09T14:28:49.853+08  e7b18869fb704e08ada5c5659c658a8e   \n",
       "2  2017-11-17T11:11:33.208+08  e7b18869fb704e08ada5c5659c658a8e   \n",
       "3  2017-11-02T16:34:41.045+08  e7b18869fb704e08ada5c5659c658a8e   \n",
       "4  2018-05-18T12:23:47.169+03  e7b18869fb704e08ada5c5659c658a8e   \n",
       "\n",
       "  meta/deprecatedID                            meta/instanceID phonenumber  \\\n",
       "0               NaN  uuid:e20bd30c-03f6-4ebc-862f-859fa6e9e3fd   916285677   \n",
       "1               NaN  uuid:24d610fd-aa06-4a59-8303-5a33d356bbe8   916258584   \n",
       "2               NaN  uuid:4233353b-707a-4961-a0ab-bc395902ba91   916258584   \n",
       "3               NaN  uuid:0c6ea310-d601-403f-9d7d-44232993f56f         NaN   \n",
       "4               NaN  uuid:4862c88f-bfe9-45c4-9d2f-27e2f10521ed   916285677   \n",
       "\n",
       "             simserial                       start     subscriberid  \\\n",
       "0  8921101009146798754  2018-05-02T17:01:28.405+03  659060014679875   \n",
       "1  8921101009146540487  2017-11-09T13:37:21.980+08  659060014654048   \n",
       "2  8921101009146540487  2017-11-17T10:48:34.015+08  659060014654048   \n",
       "3                  NaN  2017-11-01T19:29:59.013+08              NaN   \n",
       "4  8921101009146798754  2018-05-18T12:04:10.102+03  659060014679875   \n",
       "\n",
       "        today            username  \n",
       "0  2018-05-02  hrrp_ssd_collector  \n",
       "1  2017-11-09  hrrp_ssd_collector  \n",
       "2  2017-11-17  hrrp_ssd_collector  \n",
       "3  2017-11-01  hrrp_ssd_collector  \n",
       "4  2018-05-18  hrrp_ssd_collector  \n",
       "\n",
       "[5 rows x 84 columns]"
      ]
     },
     "execution_count": 89,
     "metadata": {},
     "output_type": "execute_result"
    }
   ],
   "source": [
    "downloaded_data_df.head(5)"
   ]
  },
  {
   "cell_type": "markdown",
   "metadata": {},
   "source": [
    "We could save these down automatically using a loop. "
   ]
  },
  {
   "cell_type": "markdown",
   "metadata": {},
   "source": [
    "Importantly, each of these DataFrames contains a column called 'filename', which links to images taken in the field by operatives (each row may or may not have a valid URL). These can also be saved as images in a separate folder.\n",
    "\n",
    "In the below block, we iterate through a DataFrame ('dataframe') and download all associated .jpgs to the outputFolder location."
   ]
  },
  {
   "cell_type": "code",
   "execution_count": 82,
   "metadata": {},
   "outputs": [],
   "source": [
    "# modify this to send the images to a different location\n",
    "outputFolder = r'C:\\Users\\charl\\Documents\\GitHub\\GOST_PublicGoods\\Implementations\\Kobo Toolbox - API downloader\\out'"
   ]
  },
  {
   "cell_type": "code",
   "execution_count": 72,
   "metadata": {},
   "outputs": [
    {
     "ename": "KeyError",
     "evalue": "0",
     "output_type": "error",
     "traceback": [
      "\u001b[1;31m---------------------------------------------------------------------------\u001b[0m",
      "\u001b[1;31mKeyError\u001b[0m                                  Traceback (most recent call last)",
      "\u001b[1;32m<ipython-input-72-69bf165e6e3d>\u001b[0m in \u001b[0;36m<module>\u001b[1;34m\u001b[0m\n\u001b[0;32m      1\u001b[0m \u001b[0mi\u001b[0m \u001b[1;33m=\u001b[0m \u001b[1;36m0\u001b[0m\u001b[1;33m\u001b[0m\u001b[1;33m\u001b[0m\u001b[0m\n\u001b[1;32m----> 2\u001b[1;33m \u001b[0mdata\u001b[0m \u001b[1;33m=\u001b[0m \u001b[0mpull\u001b[0m\u001b[1;33m(\u001b[0m\u001b[0ma\u001b[0m\u001b[1;33m[\u001b[0m\u001b[0mi\u001b[0m\u001b[1;33m]\u001b[0m\u001b[1;33m[\u001b[0m\u001b[1;34m'url'\u001b[0m\u001b[1;33m]\u001b[0m\u001b[1;33m)\u001b[0m\u001b[1;33m\u001b[0m\u001b[1;33m\u001b[0m\u001b[0m\n\u001b[0m\u001b[0;32m      3\u001b[0m \u001b[0mnewPD\u001b[0m \u001b[1;33m=\u001b[0m \u001b[0mpd\u001b[0m\u001b[1;33m.\u001b[0m\u001b[0mDataFrame\u001b[0m\u001b[1;33m(\u001b[0m\u001b[0mdata\u001b[0m\u001b[1;33m)\u001b[0m\u001b[1;33m\u001b[0m\u001b[1;33m\u001b[0m\u001b[0m\n\u001b[0;32m      4\u001b[0m \u001b[1;33m\u001b[0m\u001b[0m\n\u001b[0;32m      5\u001b[0m \u001b[0mlinks\u001b[0m \u001b[1;33m=\u001b[0m \u001b[1;33m{\u001b[0m\u001b[1;33m}\u001b[0m\u001b[1;33m\u001b[0m\u001b[1;33m\u001b[0m\u001b[0m\n",
      "\u001b[1;31mKeyError\u001b[0m: 0"
     ]
    }
   ],
   "source": [
    "# select which project to download from list a\n",
    "i = 0\n",
    "\n",
    "dataset = a[i]\n",
    "data = pull(dataset['url'])\n",
    "dataframe = pd.DataFrame(data)\n",
    "\n",
    "links = {}\n",
    "header = r'https://kc.kobotoolbox.org/attachment/original?media_file='\n",
    "\n",
    "# put all links the in the dataframe into a dictionary\n",
    "if len(dataframe) > 0:\n",
    "    for y in range(0,len(dataframe.index)):\n",
    "        a = dataframe['_attachments'].astype(str).loc[y]\n",
    "        if a == '[]':\n",
    "            pass\n",
    "        else:\n",
    "            try:\n",
    "                a = ast.literal_eval(a)\n",
    "            except:\n",
    "                raise ValueError((a))\n",
    "            if len(a) > 0:\n",
    "                a = a[0]\n",
    "                if type(a) == dict:\n",
    "                    z = header + a['filename']\n",
    "                    links.update({z.split('/')[-1][:-4]: z})\n",
    "\n",
    "# iterate through the extracted dictionary, and download the image to the folder\n",
    "for ID, imgUrl in links.items():\n",
    "    imgData = requests.get(imgUrl, headers=headers)\n",
    "    fileName = os.path.join(outputFolder,'%s_%s.jpeg' % (dataset['id'], ID))\n",
    "    output = open(fileName,'wb')\n",
    "    output.write(imgData.content)\n",
    "    output.close()"
   ]
  }
 ],
 "metadata": {
  "kernelspec": {
   "display_name": "Python (Cfox2)",
   "language": "python",
   "name": "cfox2"
  },
  "language_info": {
   "codemirror_mode": {
    "name": "ipython",
    "version": 3
   },
   "file_extension": ".py",
   "mimetype": "text/x-python",
   "name": "python",
   "nbconvert_exporter": "python",
   "pygments_lexer": "ipython3",
   "version": "3.6.8"
  }
 },
 "nbformat": 4,
 "nbformat_minor": 2
}
