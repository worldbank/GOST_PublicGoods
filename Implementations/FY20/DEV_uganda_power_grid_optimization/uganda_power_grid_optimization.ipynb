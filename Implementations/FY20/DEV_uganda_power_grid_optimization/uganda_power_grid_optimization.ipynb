{
 "cells": [
  {
   "cell_type": "markdown",
   "metadata": {},
   "source": [
    "# Uganda Power Grid Optimization\n",
    "\n",
    "This notebook is a pre-processing script that will read in shapefiles and convert to the input to a powergrid optimization model. We are testing this within Uganda. The inputs to this model:\n",
    "\n",
    "- A shapefile of existing power grid lines. These lines have an 'id' attribute, a 'capacity' attribute, and a 'loss_factr' attribute.\n",
    "- A shapefile of lines representing potential new construction of existing line upgrades. These lines have the following attributes:\n",
    "    - 'id'\n",
    "    - 'ad_cap_a': The potential additional capacity for option A\n",
    "    - 'ad_cap_b': The potential additional capacity for option B\n",
    "    - 'con_cost_a': The potential construction cost for option A\n",
    "    - 'con_cost_b': The potential construction cost for option B\n",
    "- A shapefile of existing and potential power grid nodes. These nodes have an 'id' attribute, and a 'demand' attribute.\n",
    "\n",
    "The outputs to this models are CSVs, that will be used for OR analysis inputs."
   ]
  },
  {
   "cell_type": "markdown",
   "metadata": {},
   "source": [
    "## import libraries"
   ]
  },
  {
   "cell_type": "code",
   "execution_count": 557,
   "metadata": {},
   "outputs": [],
   "source": [
    "import sys, os, inspect, logging, importlib\n",
    "\n",
    "import geopandas as gpd\n",
    "import pandas as pd\n",
    "import numpy as np\n",
    "import osmnx as ox\n",
    "import networkx as nx\n",
    "from shapely.ops import split, unary_union\n",
    "from shapely.geometry import box, Point\n",
    "\n",
    "import matplotlib.pyplot as plt"
   ]
  },
  {
   "cell_type": "code",
   "execution_count": 558,
   "metadata": {},
   "outputs": [],
   "source": [
    "# Get reference to GOSTNets\n",
    "sys.path.append(r'../../GOSTNets/GOSTNets')\n",
    "import GOSTnet as gn"
   ]
  },
  {
   "cell_type": "code",
   "execution_count": 559,
   "metadata": {},
   "outputs": [],
   "source": [
    "# Define input data and create a number of output datasets if they do not yet exist\n",
    "inputFolder = r'./input_folder'\n",
    "\n",
    "input_power_lines_gpd = gpd.read_file(os.path.join(inputFolder, \"power_lines.shp\"))\n",
    "input_new_connection_options_gpd = gpd.read_file(os.path.join(inputFolder, \"new_connection_options.shp\"))\n",
    " \n",
    "input_power_nodes_gpd = gpd.read_file(os.path.join(inputFolder, \"power_nodes.shp\"))"
   ]
  },
  {
   "cell_type": "code",
   "execution_count": 560,
   "metadata": {},
   "outputs": [],
   "source": [
    "outputFolder = r'./output_folder'"
   ]
  },
  {
   "cell_type": "code",
   "execution_count": 561,
   "metadata": {},
   "outputs": [],
   "source": [
    "pd.set_option('precision', 4)"
   ]
  },
  {
   "cell_type": "markdown",
   "metadata": {},
   "source": [
    "## Documentation (possible to skip ahead)\n",
    "\n",
    "We have used the following routine before as found below to import shapefiles into a graph. This routine deconstructs all of the edges and puts them back together, creating the nodes based on the input node dataset. Also with this routine, the intersections must explicitly have nodes on them.\n",
    "\n",
    "The problem with using this routing for this analysis is that when the lines are being unioned extra lines are being created whenever the unioned line self-intersects."
   ]
  },
  {
   "cell_type": "code",
   "execution_count": 562,
   "metadata": {},
   "outputs": [],
   "source": [
    "# deconstructing the power line network into a geodataframe of points\n",
    "bag_of_points,ids = [],[]\n",
    "id_ = 0\n",
    "for r in input_power_lines_gpd.geometry:\n",
    "    for q in r.coords:\n",
    "        bag_of_points.append(q)\n",
    "        ids.append(id_)\n",
    "        id_+=1\n",
    "\n",
    "df_temp = pd.DataFrame(({'ids':ids,'geometry':bag_of_points}))\n",
    "df_temp['geometry'] = df_temp['geometry'].apply(Point)\n",
    "gdf_temp = gpd.GeoDataFrame(df_temp, crs = input_power_lines_gpd.crs, geometry = 'geometry')"
   ]
  },
  {
   "cell_type": "code",
   "execution_count": 563,
   "metadata": {},
   "outputs": [],
   "source": [
    "# the source_crs should be the same proj as both the input graph and input geodataframe of points\n",
    "# the nodes need to be snapped to the lines because later the snapped points will be used to split the lines\n",
    "input_power_nodes_snapped = gn.pandana_snap_points(input_power_nodes_gpd, \n",
    "                                          gdf_temp, \n",
    "                                          source_crs = 'epsg:4326', \n",
    "                                          target_crs = 'epsg:4326',\n",
    "                                          add_dist_to_node_col = True)\n",
    "\n",
    "input_power_nodes_snapped_temp = input_power_nodes_snapped.drop_duplicates('NN')"
   ]
  },
  {
   "cell_type": "code",
   "execution_count": 564,
   "metadata": {},
   "outputs": [],
   "source": [
    "# When the nodes got snapped to the nearest node in the dataframe the original geometry is being retained\n",
    "# but it is adding the NN id and the NN_distance\n",
    "\n",
    "# Therefore join to the node gdf to add the geometries of the nodes snapped to\n",
    "input_power_nodes_snapped_temp = input_power_nodes_snapped_temp.rename(columns={\"geometry\": \"original_geometry\"})\n",
    "input_power_nodes_snapped_temp_joined = input_power_nodes_snapped_temp.set_index('NN').join(gdf_temp.set_index('ids'))\n",
    "input_power_nodes_snapped_temp_joined = input_power_nodes_snapped_temp_joined.reset_index()"
   ]
  },
  {
   "cell_type": "code",
   "execution_count": 565,
   "metadata": {},
   "outputs": [],
   "source": [
    "# note, when both the original_geometry and geometry columns exist there was an error in outputting a shapefile\n",
    "# it must have been confused with two geometry columns, therefore the 'original_geometry' column should be dropped\n",
    "input_power_nodes_snapped_temp_joined_slim = input_power_nodes_snapped_temp_joined.drop(columns=\"original_geometry\")"
   ]
  },
  {
   "cell_type": "code",
   "execution_count": 566,
   "metadata": {},
   "outputs": [],
   "source": [
    "input_power_nodes_snapped_temp_joined_geo = gpd.GeoDataFrame(input_power_nodes_snapped_temp_joined_slim, crs = input_power_lines_gpd.crs, geometry = 'geometry')\n",
    "# preview the snapped nodes\n",
    "# input_power_nodes_snapped_temp_joined_geo.to_file(driver = 'ESRI Shapefile', filename = outputFolder + '/snapped_power_nodes.shp')"
   ]
  },
  {
   "cell_type": "code",
   "execution_count": 567,
   "metadata": {},
   "outputs": [
    {
     "data": {
      "text/plain": [
       "8"
      ]
     },
     "execution_count": 567,
     "metadata": {},
     "output_type": "execute_result"
    }
   ],
   "source": [
    "# number of lines from the imported shapefile\n",
    "len(input_power_lines_gpd)"
   ]
  },
  {
   "cell_type": "code",
   "execution_count": 568,
   "metadata": {},
   "outputs": [],
   "source": [
    "allPowerLines = unary_union(input_power_lines_gpd['geometry'])\n",
    "\n",
    "bag_of_relevant_points = unary_union(input_power_nodes_snapped_temp_joined_geo.geometry)"
   ]
  },
  {
   "cell_type": "code",
   "execution_count": 569,
   "metadata": {},
   "outputs": [
    {
     "data": {
      "image/svg+xml": [
       "<svg xmlns=\"http://www.w3.org/2000/svg\" xmlns:xlink=\"http://www.w3.org/1999/xlink\" width=\"100.0\" height=\"100.0\" viewBox=\"33.19168990976046 3.260363582063943 0.1774322863187976 0.12100342874157066\" preserveAspectRatio=\"xMinYMin meet\"><g transform=\"matrix(1,0,0,-1,0,6.641730592869457)\"><g><polyline fill=\"none\" stroke=\"#66cc99\" stroke-width=\"0.003548645726375952\" points=\"33.32978257461352,3.3747954446455584 33.25167789484355,3.3734511466084047\" opacity=\"0.8\" /><polyline fill=\"none\" stroke=\"#66cc99\" stroke-width=\"0.003548645726375952\" points=\"33.20871566336239,3.2669351482238986 33.19826147592042,3.312955821872942\" opacity=\"0.8\" /><polyline fill=\"none\" stroke=\"#66cc99\" stroke-width=\"0.003548645726375952\" points=\"33.362550629919305,3.2972712424907833 33.33385735159716,3.348764698405603\" opacity=\"0.8\" /><polyline fill=\"none\" stroke=\"#66cc99\" stroke-width=\"0.003548645726375952\" points=\"33.259312033268635,3.300273927870942 33.20871566336239,3.2669351482238986\" opacity=\"0.8\" /><polyline fill=\"none\" stroke=\"#66cc99\" stroke-width=\"0.003548645726375952\" points=\"33.33385735159716,3.348764698405603 33.259312033268635,3.300273927870942\" opacity=\"0.8\" /><polyline fill=\"none\" stroke=\"#66cc99\" stroke-width=\"0.003548645726375952\" points=\"33.259312033268635,3.300273927870942 33.25519625070665,3.339725861284189\" opacity=\"0.8\" /><polyline fill=\"none\" stroke=\"#66cc99\" stroke-width=\"0.003548645726375952\" points=\"33.25519625070665,3.339725861284189 33.19826147592042,3.312955821872942\" opacity=\"0.8\" /><polyline fill=\"none\" stroke=\"#66cc99\" stroke-width=\"0.003548645726375952\" points=\"33.25519625070665,3.339725861284189 33.25167789484355,3.3734511466084047\" opacity=\"0.8\" /><polyline fill=\"none\" stroke=\"#66cc99\" stroke-width=\"0.003548645726375952\" points=\"33.32978257461352,3.3747954446455584 33.25519625070665,3.339725861284189\" opacity=\"0.8\" /><polyline fill=\"none\" stroke=\"#66cc99\" stroke-width=\"0.003548645726375952\" points=\"33.33385735159716,3.348764698405603 33.32978257461352,3.3747954446455584\" opacity=\"0.8\" /></g></g></svg>"
      ],
      "text/plain": [
       "<shapely.geometry.multilinestring.MultiLineString at 0x7f2a0f4a9400>"
      ]
     },
     "execution_count": 569,
     "metadata": {},
     "output_type": "execute_result"
    }
   ],
   "source": [
    "allPowerLines"
   ]
  },
  {
   "cell_type": "code",
   "execution_count": 570,
   "metadata": {},
   "outputs": [
    {
     "data": {
      "text/plain": [
       "10"
      ]
     },
     "execution_count": 570,
     "metadata": {},
     "output_type": "execute_result"
    }
   ],
   "source": [
    "# number of lines after the union is 10 because the unioned line intersects itself\n",
    "len(allPowerLines)"
   ]
  },
  {
   "cell_type": "code",
   "execution_count": 571,
   "metadata": {},
   "outputs": [],
   "source": [
    "# a shapely.ops function\n",
    "split_geoms = split(allPowerLines, bag_of_relevant_points)\n",
    "\n",
    "#print('print count of split geometries')\n",
    "#print(len(split_geoms))\n",
    "\n",
    "geom_bag = []\n",
    "\n",
    "for geom in split_geoms:\n",
    "    g = geom.coords[0]\n",
    "    h = geom.coords[-1]\n",
    "    geom_bag.append(str(g))\n",
    "    geom_bag.append(str(h))"
   ]
  },
  {
   "cell_type": "code",
   "execution_count": 572,
   "metadata": {},
   "outputs": [
    {
     "data": {
      "text/plain": [
       "[0, 0, 0, 0, 0, 0, 0, 0, 0, 0, 0, 0, 0, 0, 0, 0, 0, 0, 0, 0]"
      ]
     },
     "execution_count": 572,
     "metadata": {},
     "output_type": "execute_result"
    }
   ],
   "source": [
    "ref = pd.DataFrame({'node_ids':range(0, len(geom_bag)),'geoms':geom_bag})\n",
    "ref = ref.drop_duplicates('geoms')\n",
    "ref = ref.set_index('geoms')\n",
    "\n",
    "nodes = []\n",
    "edges = []\n",
    "\n",
    "for geom in split_geoms:\n",
    "    u_data,v_data,edge_data = {},{},{}\n",
    "\n",
    "    # start node\n",
    "    # it is getting a reference to that node's coords\n",
    "    u = ref['node_ids'].loc[str(geom.coords[0])]\n",
    "    u_data['x'] = geom.coords[0][0]\n",
    "    u_data['y'] = geom.coords[0][1]\n",
    "    u_data['geom'] = Point(geom.coords[0])\n",
    "    #u_data['string'] = str(geom.coords[0])\n",
    "\n",
    "    # end node\n",
    "    v = ref['node_ids'].loc[str(geom.coords[-1])]\n",
    "    v_data['x'] = geom.coords[-1][0]\n",
    "    v_data['y'] = geom.coords[-1][1]\n",
    "    v_data['geom'] = Point(geom.coords[-1])\n",
    "    #v_data['string'] = str(geom.coords[-1])\n",
    "\n",
    "    # edge\n",
    "    edge_data['geom'] = geom\n",
    "    edge_data['length'] = geom.length\n",
    "    #edge_data['rail_type'] = geom.rail_type\n",
    "\n",
    "    nodes.append((u,u_data))\n",
    "    nodes.append((v,v_data))\n",
    "    edges.append((u,v,edge_data))\n",
    "    edges.append((v,u,edge_data))\n",
    "\n",
    "    id_ += 2\n",
    "\n",
    "G_PowerLines = nx.MultiDiGraph()\n",
    "G_PowerLines.add_nodes_from(nodes)\n",
    "G_PowerLines.add_edges_from(edges)"
   ]
  },
  {
   "cell_type": "code",
   "execution_count": 573,
   "metadata": {},
   "outputs": [
    {
     "data": {
      "image/png": "[encoded data removed]",
      "text/plain": [
       "<Figure size 432x288 with 1 Axes>"
      ]
     },
     "metadata": {},
     "output_type": "display_data"
    }
   ],
   "source": [
    "nx.draw(G_PowerLines, with_labels = True)"
   ]
  },
  {
   "cell_type": "markdown",
   "metadata": {},
   "source": [
    "### Find all edges that intersect the input lines and where they do add the attributes to the edges"
   ]
  },
  {
   "cell_type": "code",
   "execution_count": 574,
   "metadata": {},
   "outputs": [
    {
     "name": "stdout",
     "output_type": "stream",
     "text": [
      "20\n",
      "72\n",
      "88\n"
     ]
    }
   ],
   "source": [
    "# Remember that this is a MultiDiGraph so there are two directed edges between each pair of nodes. \n",
    "graph_edge_count = 0\n",
    "graph_edge_intersects = 0\n",
    "graph_edge_no_intersects = 0\n",
    "\n",
    "# loop through each edge in the graph\n",
    "for edge in G_PowerLines.edges(data=True):\n",
    "    graph_edge_count += 1\n",
    "    # loop through each power line in the input railway geodataframe\n",
    "    for row in input_power_lines_gpd.itertuples(index=False):\n",
    "        # if there is an intersection\n",
    "        if edge[2]['geom'].intersects(row.geometry):\n",
    "            # print(\"an intersection has occurred\")\n",
    "            graph_edge_intersects += 1\n",
    "            # for the edge add all the attributes that are not length or geometry\n",
    "            row_dict = row._asdict()\n",
    "            for name,value in row_dict.items():\n",
    "                if not (name=='geometry' or name=='length'):\n",
    "                    #print(name)\n",
    "                    # This updates the edge and adds a new attribute key and value\n",
    "                    #G_rail[edge[0]][edge[1]][0].update(name=value)\n",
    "                    G_PowerLines[edge[0]][edge[1]][0][name]=value\n",
    "        else:\n",
    "            graph_edge_no_intersects += 1\n",
    "\n",
    "#nx.write_gpickle(G_PowerLines, outPowerLinesGraph)\n",
    "\n",
    "print(graph_edge_count)\n",
    "print(graph_edge_intersects)\n",
    "print(graph_edge_no_intersects)"
   ]
  },
  {
   "cell_type": "markdown",
   "metadata": {},
   "source": [
    "### Find all nodes that intersect the input nodes and where they do add the attributes to the nodes"
   ]
  },
  {
   "cell_type": "code",
   "execution_count": 575,
   "metadata": {},
   "outputs": [],
   "source": [
    "for node in G_PowerLines.nodes(data=True):\n",
    "    #print(node)\n",
    "    # loop through each power node in the input power node geodataframe\n",
    "    for row in input_power_nodes_snapped_temp_joined_geo.itertuples(index=False):\n",
    "        # if there is an intersection\n",
    "        if node[1]['geom'].intersects(row.geometry):\n",
    "            # print('match')\n",
    "            # for the node add all the attributes that are not geometry\n",
    "            row_dict = row._asdict()\n",
    "            for name,value in row_dict.items():\n",
    "                if not (name == 'geometry'):\n",
    "                    #print(name)\n",
    "                    #print(G_PowerLines.node[node])\n",
    "                    # This updates the node and adds a new attribute key and value\n",
    "                    #G_rail[edge[0]][edge[1]][0].update(name=value)\n",
    "                    #G_PowerLines[node[1]][name] = value\n",
    "                    G_PowerLines.nodes[node[0]][name] = value"
   ]
  },
  {
   "cell_type": "markdown",
   "metadata": {},
   "source": [
    "## visualize network"
   ]
  },
  {
   "cell_type": "code",
   "execution_count": 576,
   "metadata": {},
   "outputs": [
    {
     "data": {
      "image/png": "[encoded data removed]",
      "text/plain": [
       "<Figure size 432x288 with 1 Axes>"
      ]
     },
     "metadata": {},
     "output_type": "display_data"
    }
   ],
   "source": [
    "nx.draw(G_PowerLines, with_labels = True)"
   ]
  },
  {
   "cell_type": "markdown",
   "metadata": {},
   "source": [
    "## (Back to analysis) Importing Shapefiles"
   ]
  },
  {
   "cell_type": "code",
   "execution_count": 577,
   "metadata": {},
   "outputs": [],
   "source": [
    "# let's try something different where we will read the shapefiles from NetworkX\n",
    "# Both the lines and the nodes are within the directory\n",
    "G1 = nx.read_shp(os.path.join(inputFolder, \"import_shp_files/\"))"
   ]
  },
  {
   "cell_type": "code",
   "execution_count": 578,
   "metadata": {},
   "outputs": [
    {
     "data": {
      "text/plain": [
       "<networkx.classes.digraph.DiGraph at 0x7f2a0f466198>"
      ]
     },
     "execution_count": 578,
     "metadata": {},
     "output_type": "execute_result"
    }
   ],
   "source": [
    "G1"
   ]
  },
  {
   "cell_type": "code",
   "execution_count": 579,
   "metadata": {},
   "outputs": [
    {
     "data": {
      "image/png": "[encoded data removed]",
      "text/plain": [
       "<Figure size 432x288 with 1 Axes>"
      ]
     },
     "metadata": {},
     "output_type": "display_data"
    }
   ],
   "source": [
    "nx.draw(G1)"
   ]
  },
  {
   "cell_type": "code",
   "execution_count": 580,
   "metadata": {},
   "outputs": [
    {
     "data": {
      "text/plain": [
       "networkx.classes.digraph.DiGraph"
      ]
     },
     "execution_count": 580,
     "metadata": {},
     "output_type": "execute_result"
    }
   ],
   "source": [
    "type(G1)"
   ]
  },
  {
   "cell_type": "code",
   "execution_count": 581,
   "metadata": {},
   "outputs": [],
   "source": [
    "G1_graph = G1.to_undirected()"
   ]
  },
  {
   "cell_type": "code",
   "execution_count": 582,
   "metadata": {},
   "outputs": [
    {
     "data": {
      "image/png": "[encoded data removed]",
      "text/plain": [
       "<Figure size 432x288 with 1 Axes>"
      ]
     },
     "metadata": {},
     "output_type": "display_data"
    }
   ],
   "source": [
    "nx.draw(G1_graph)"
   ]
  },
  {
   "cell_type": "code",
   "execution_count": 583,
   "metadata": {},
   "outputs": [
    {
     "data": {
      "text/plain": [
       "networkx.classes.graph.Graph"
      ]
     },
     "execution_count": 583,
     "metadata": {},
     "output_type": "execute_result"
    }
   ],
   "source": [
    "type(G1_graph)"
   ]
  },
  {
   "cell_type": "code",
   "execution_count": 584,
   "metadata": {},
   "outputs": [],
   "source": [
    "id_set = input_power_nodes_gpd.id"
   ]
  },
  {
   "cell_type": "code",
   "execution_count": 585,
   "metadata": {},
   "outputs": [],
   "source": [
    "power_node_ids = sorted(list(id_set))"
   ]
  },
  {
   "cell_type": "code",
   "execution_count": 586,
   "metadata": {},
   "outputs": [],
   "source": [
    "# create a zeroed out matrix that has the node ids are columns and row labels\n",
    "matrix = pd.DataFrame(0, index=power_node_ids, columns=power_node_ids)"
   ]
  },
  {
   "cell_type": "code",
   "execution_count": 587,
   "metadata": {},
   "outputs": [],
   "source": [
    "#matrix"
   ]
  },
  {
   "cell_type": "code",
   "execution_count": 588,
   "metadata": {},
   "outputs": [],
   "source": [
    "capacity_matrix = matrix.copy()\n",
    "loss_factr_matrix = matrix.copy()"
   ]
  },
  {
   "cell_type": "markdown",
   "metadata": {},
   "source": [
    "### The loss_factr_matrix needs to be a float type because the loss factors are in decimals"
   ]
  },
  {
   "cell_type": "code",
   "execution_count": 589,
   "metadata": {},
   "outputs": [
    {
     "name": "stdout",
     "output_type": "stream",
     "text": [
      "<class 'pandas.core.frame.DataFrame'>\n",
      "Int64Index: 10 entries, 1 to 10\n",
      "Data columns (total 10 columns):\n",
      "1     10 non-null int64\n",
      "2     10 non-null int64\n",
      "3     10 non-null int64\n",
      "4     10 non-null int64\n",
      "5     10 non-null int64\n",
      "6     10 non-null int64\n",
      "7     10 non-null int64\n",
      "8     10 non-null int64\n",
      "9     10 non-null int64\n",
      "10    10 non-null int64\n",
      "dtypes: int64(10)\n",
      "memory usage: 880.0 bytes\n"
     ]
    }
   ],
   "source": [
    "loss_factr_matrix.info()"
   ]
  },
  {
   "cell_type": "code",
   "execution_count": 590,
   "metadata": {},
   "outputs": [],
   "source": [
    "# we need to change the dtypes form ints to floats\n",
    "loss_factr_matrix = loss_factr_matrix.astype('float')"
   ]
  },
  {
   "cell_type": "code",
   "execution_count": 591,
   "metadata": {},
   "outputs": [],
   "source": [
    "# test:\n",
    "#loss_factr_matrix.at[1, 2] = .05\n",
    "#loss_factr_matrix"
   ]
  },
  {
   "cell_type": "code",
   "execution_count": 592,
   "metadata": {},
   "outputs": [
    {
     "data": {
      "text/plain": [
       "pandas.core.frame.DataFrame"
      ]
     },
     "execution_count": 592,
     "metadata": {},
     "output_type": "execute_result"
    }
   ],
   "source": [
    "type(loss_factr_matrix)"
   ]
  },
  {
   "cell_type": "code",
   "execution_count": 593,
   "metadata": {},
   "outputs": [],
   "source": [
    "#G1_graph.get_edge_data((33.362550629919305, 3.2972712424907833),(33.33385735159716, 3.348764698405603))"
   ]
  },
  {
   "cell_type": "code",
   "execution_count": 594,
   "metadata": {},
   "outputs": [],
   "source": [
    "#G1_graph.get_edge_data((33.362550629919305, 3.2972712424907833),(33.33385735159716, 3.348764698405603))['capacity']"
   ]
  },
  {
   "cell_type": "markdown",
   "metadata": {},
   "source": [
    "## The code below parses each node in the graph, finds their neighbors and populates the capacity matrix"
   ]
  },
  {
   "cell_type": "code",
   "execution_count": 595,
   "metadata": {},
   "outputs": [
    {
     "name": "stdout",
     "output_type": "stream",
     "text": [
      "node id:\n",
      "(33.362550629919305, 3.2972712424907833)\n",
      "origin_node:\n",
      "10\n",
      "node neighbors:\n",
      "to_node:\n",
      "(33.33385735159716, 3.348764698405603)\n",
      "print edge\n",
      "1000\n",
      "0.03\n",
      "node id:\n",
      "(33.33385735159716, 3.348764698405603)\n",
      "origin_node:\n",
      "(33.33385735159716, 3.348764698405603)\n",
      "node neighbors:\n",
      "to_node:\n",
      "(33.362550629919305, 3.2972712424907833)\n",
      "print edge\n",
      "1000\n",
      "0.03\n",
      "to_node:\n",
      "(33.32978257461352, 3.3747954446455584)\n",
      "print edge\n",
      "500\n",
      "0.05\n",
      "to_node:\n",
      "(33.259312033268635, 3.300273927870942)\n",
      "print edge\n",
      "500\n",
      "0.05\n",
      "node id:\n",
      "(33.32978257461352, 3.3747954446455584)\n",
      "origin_node:\n",
      "(33.259312033268635, 3.300273927870942)\n",
      "node neighbors:\n",
      "to_node:\n",
      "(33.33385735159716, 3.348764698405603)\n",
      "print edge\n",
      "500\n",
      "0.05\n",
      "to_node:\n",
      "(33.19826147592042, 3.312955821872942)\n",
      "print edge\n",
      "200\n",
      "0.07\n",
      "to_node:\n",
      "(33.25167789484355, 3.3734511466084047)\n",
      "print edge\n",
      "200\n",
      "0.07\n",
      "node id:\n",
      "(33.259312033268635, 3.300273927870942)\n",
      "origin_node:\n",
      "(33.25167789484355, 3.3734511466084047)\n",
      "node neighbors:\n",
      "to_node:\n",
      "(33.33385735159716, 3.348764698405603)\n",
      "print edge\n",
      "500\n",
      "0.05\n",
      "to_node:\n",
      "(33.25167789484355, 3.3734511466084047)\n",
      "print edge\n",
      "500\n",
      "0.05\n",
      "to_node:\n",
      "(33.20871566336239, 3.2669351482238986)\n",
      "print edge\n",
      "500\n",
      "0.05\n",
      "node id:\n",
      "(33.25167789484355, 3.3734511466084047)\n",
      "origin_node:\n",
      "(33.20871566336239, 3.2669351482238986)\n",
      "node neighbors:\n",
      "to_node:\n",
      "(33.32978257461352, 3.3747954446455584)\n",
      "print edge\n",
      "200\n",
      "0.07\n",
      "to_node:\n",
      "(33.259312033268635, 3.300273927870942)\n",
      "print edge\n",
      "500\n",
      "0.05\n",
      "node id:\n",
      "(33.20871566336239, 3.2669351482238986)\n",
      "origin_node:\n",
      "(33.259312033268635, 3.300273927870942)\n",
      "node neighbors:\n",
      "to_node:\n",
      "(33.259312033268635, 3.300273927870942)\n",
      "print edge\n",
      "500\n",
      "0.05\n",
      "to_node:\n",
      "(33.19826147592042, 3.312955821872942)\n",
      "print edge\n",
      "200\n",
      "0.08\n",
      "node id:\n",
      "(33.19826147592042, 3.312955821872942)\n",
      "origin_node:\n",
      "(33.19826147592042, 3.312955821872942)\n",
      "node neighbors:\n",
      "to_node:\n",
      "(33.32978257461352, 3.3747954446455584)\n",
      "print edge\n",
      "200\n",
      "0.07\n",
      "to_node:\n",
      "(33.20871566336239, 3.2669351482238986)\n",
      "print edge\n",
      "200\n",
      "0.08\n",
      "node id:\n",
      "(33.35671522281005, 3.3958558706001303)\n",
      "origin_node:\n",
      "(33.20871566336239, 3.2669351482238986)\n",
      "node neighbors:\n",
      "node id:\n",
      "(33.231029531226206, 3.255145722521551)\n",
      "origin_node:\n",
      "(33.20871566336239, 3.2669351482238986)\n",
      "node neighbors:\n",
      "node id:\n",
      "(33.278610543040095, 3.2484234015116127)\n",
      "origin_node:\n",
      "(33.20871566336239, 3.2669351482238986)\n",
      "node neighbors:\n"
     ]
    }
   ],
   "source": [
    "for n in G1_graph.nodes(data = True):\n",
    "    # from node\n",
    "    print('node id:')\n",
    "    print(n[0])\n",
    "    from_node = n[0]\n",
    "    print('origin_node:')\n",
    "    print(to_node)\n",
    "    #print(G1_graph.nodes[n[0]]['id'])\n",
    "    from_node_id = G1_graph.nodes[n[0]]['id']\n",
    "    #print(list(G1_graph.neighbors(n[0])))\n",
    "    # print entries in the list\n",
    "    print('node neighbors:')\n",
    "    for entry in list(G1_graph.neighbors(n[0])):\n",
    "        #print(entry)\n",
    "        to_node = entry\n",
    "        print('to_node:')\n",
    "        print(to_node)\n",
    "        #print(G1_graph.nodes[entry]['id'])\n",
    "        to_node_id = G1_graph.nodes[entry]['id']\n",
    "        print('print edge')\n",
    "        print(G1_graph.get_edge_data(from_node, to_node)['capacity'])\n",
    "        capacity = G1_graph.get_edge_data(from_node, to_node)['capacity']\n",
    "        loss_factr = G1_graph.get_edge_data(from_node, to_node)['loss_factr']\n",
    "        print(loss_factr)\n",
    "        capacity_matrix.at[from_node_id, to_node_id] = capacity\n",
    "        loss_factr_matrix.at[from_node_id, to_node_id] = loss_factr"
   ]
  },
  {
   "cell_type": "code",
   "execution_count": 596,
   "metadata": {},
   "outputs": [
    {
     "data": {
      "text/html": [
       "<div>\n",
       "<style scoped>\n",
       "    .dataframe tbody tr th:only-of-type {\n",
       "        vertical-align: middle;\n",
       "    }\n",
       "\n",
       "    .dataframe tbody tr th {\n",
       "        vertical-align: top;\n",
       "    }\n",
       "\n",
       "    .dataframe thead th {\n",
       "        text-align: right;\n",
       "    }\n",
       "</style>\n",
       "<table border=\"1\" class=\"dataframe\">\n",
       "  <thead>\n",
       "    <tr style=\"text-align: right;\">\n",
       "      <th></th>\n",
       "      <th>1</th>\n",
       "      <th>2</th>\n",
       "      <th>3</th>\n",
       "      <th>4</th>\n",
       "      <th>5</th>\n",
       "      <th>6</th>\n",
       "      <th>7</th>\n",
       "      <th>8</th>\n",
       "      <th>9</th>\n",
       "      <th>10</th>\n",
       "    </tr>\n",
       "  </thead>\n",
       "  <tbody>\n",
       "    <tr>\n",
       "      <th>1</th>\n",
       "      <td>0</td>\n",
       "      <td>1000</td>\n",
       "      <td>0</td>\n",
       "      <td>0</td>\n",
       "      <td>0</td>\n",
       "      <td>0</td>\n",
       "      <td>0</td>\n",
       "      <td>0</td>\n",
       "      <td>0</td>\n",
       "      <td>0</td>\n",
       "    </tr>\n",
       "    <tr>\n",
       "      <th>2</th>\n",
       "      <td>1000</td>\n",
       "      <td>0</td>\n",
       "      <td>500</td>\n",
       "      <td>500</td>\n",
       "      <td>0</td>\n",
       "      <td>0</td>\n",
       "      <td>0</td>\n",
       "      <td>0</td>\n",
       "      <td>0</td>\n",
       "      <td>0</td>\n",
       "    </tr>\n",
       "    <tr>\n",
       "      <th>3</th>\n",
       "      <td>0</td>\n",
       "      <td>500</td>\n",
       "      <td>0</td>\n",
       "      <td>0</td>\n",
       "      <td>500</td>\n",
       "      <td>500</td>\n",
       "      <td>0</td>\n",
       "      <td>0</td>\n",
       "      <td>0</td>\n",
       "      <td>0</td>\n",
       "    </tr>\n",
       "    <tr>\n",
       "      <th>4</th>\n",
       "      <td>0</td>\n",
       "      <td>500</td>\n",
       "      <td>0</td>\n",
       "      <td>0</td>\n",
       "      <td>0</td>\n",
       "      <td>200</td>\n",
       "      <td>200</td>\n",
       "      <td>0</td>\n",
       "      <td>0</td>\n",
       "      <td>0</td>\n",
       "    </tr>\n",
       "    <tr>\n",
       "      <th>5</th>\n",
       "      <td>0</td>\n",
       "      <td>0</td>\n",
       "      <td>500</td>\n",
       "      <td>0</td>\n",
       "      <td>0</td>\n",
       "      <td>0</td>\n",
       "      <td>200</td>\n",
       "      <td>0</td>\n",
       "      <td>0</td>\n",
       "      <td>0</td>\n",
       "    </tr>\n",
       "    <tr>\n",
       "      <th>6</th>\n",
       "      <td>0</td>\n",
       "      <td>0</td>\n",
       "      <td>500</td>\n",
       "      <td>200</td>\n",
       "      <td>0</td>\n",
       "      <td>0</td>\n",
       "      <td>0</td>\n",
       "      <td>0</td>\n",
       "      <td>0</td>\n",
       "      <td>0</td>\n",
       "    </tr>\n",
       "    <tr>\n",
       "      <th>7</th>\n",
       "      <td>0</td>\n",
       "      <td>0</td>\n",
       "      <td>0</td>\n",
       "      <td>200</td>\n",
       "      <td>200</td>\n",
       "      <td>0</td>\n",
       "      <td>0</td>\n",
       "      <td>0</td>\n",
       "      <td>0</td>\n",
       "      <td>0</td>\n",
       "    </tr>\n",
       "    <tr>\n",
       "      <th>8</th>\n",
       "      <td>0</td>\n",
       "      <td>0</td>\n",
       "      <td>0</td>\n",
       "      <td>0</td>\n",
       "      <td>0</td>\n",
       "      <td>0</td>\n",
       "      <td>0</td>\n",
       "      <td>0</td>\n",
       "      <td>0</td>\n",
       "      <td>0</td>\n",
       "    </tr>\n",
       "    <tr>\n",
       "      <th>9</th>\n",
       "      <td>0</td>\n",
       "      <td>0</td>\n",
       "      <td>0</td>\n",
       "      <td>0</td>\n",
       "      <td>0</td>\n",
       "      <td>0</td>\n",
       "      <td>0</td>\n",
       "      <td>0</td>\n",
       "      <td>0</td>\n",
       "      <td>0</td>\n",
       "    </tr>\n",
       "    <tr>\n",
       "      <th>10</th>\n",
       "      <td>0</td>\n",
       "      <td>0</td>\n",
       "      <td>0</td>\n",
       "      <td>0</td>\n",
       "      <td>0</td>\n",
       "      <td>0</td>\n",
       "      <td>0</td>\n",
       "      <td>0</td>\n",
       "      <td>0</td>\n",
       "      <td>0</td>\n",
       "    </tr>\n",
       "  </tbody>\n",
       "</table>\n",
       "</div>"
      ],
      "text/plain": [
       "      1     2    3    4    5    6    7   8   9   10\n",
       "1      0  1000    0    0    0    0    0   0   0   0\n",
       "2   1000     0  500  500    0    0    0   0   0   0\n",
       "3      0   500    0    0  500  500    0   0   0   0\n",
       "4      0   500    0    0    0  200  200   0   0   0\n",
       "5      0     0  500    0    0    0  200   0   0   0\n",
       "6      0     0  500  200    0    0    0   0   0   0\n",
       "7      0     0    0  200  200    0    0   0   0   0\n",
       "8      0     0    0    0    0    0    0   0   0   0\n",
       "9      0     0    0    0    0    0    0   0   0   0\n",
       "10     0     0    0    0    0    0    0   0   0   0"
      ]
     },
     "execution_count": 596,
     "metadata": {},
     "output_type": "execute_result"
    }
   ],
   "source": [
    "capacity_matrix"
   ]
  },
  {
   "cell_type": "code",
   "execution_count": 607,
   "metadata": {},
   "outputs": [],
   "source": [
    "capacity_matrix.to_csv(os.path.join(outputFolder, \"capacity_matrix.csv\"))"
   ]
  },
  {
   "cell_type": "code",
   "execution_count": 597,
   "metadata": {},
   "outputs": [
    {
     "data": {
      "text/html": [
       "<div>\n",
       "<style scoped>\n",
       "    .dataframe tbody tr th:only-of-type {\n",
       "        vertical-align: middle;\n",
       "    }\n",
       "\n",
       "    .dataframe tbody tr th {\n",
       "        vertical-align: top;\n",
       "    }\n",
       "\n",
       "    .dataframe thead th {\n",
       "        text-align: right;\n",
       "    }\n",
       "</style>\n",
       "<table border=\"1\" class=\"dataframe\">\n",
       "  <thead>\n",
       "    <tr style=\"text-align: right;\">\n",
       "      <th></th>\n",
       "      <th>1</th>\n",
       "      <th>2</th>\n",
       "      <th>3</th>\n",
       "      <th>4</th>\n",
       "      <th>5</th>\n",
       "      <th>6</th>\n",
       "      <th>7</th>\n",
       "      <th>8</th>\n",
       "      <th>9</th>\n",
       "      <th>10</th>\n",
       "    </tr>\n",
       "  </thead>\n",
       "  <tbody>\n",
       "    <tr>\n",
       "      <th>1</th>\n",
       "      <td>0.00</td>\n",
       "      <td>0.03</td>\n",
       "      <td>0.00</td>\n",
       "      <td>0.00</td>\n",
       "      <td>0.00</td>\n",
       "      <td>0.00</td>\n",
       "      <td>0.00</td>\n",
       "      <td>0.0</td>\n",
       "      <td>0.0</td>\n",
       "      <td>0.0</td>\n",
       "    </tr>\n",
       "    <tr>\n",
       "      <th>2</th>\n",
       "      <td>0.03</td>\n",
       "      <td>0.00</td>\n",
       "      <td>0.05</td>\n",
       "      <td>0.05</td>\n",
       "      <td>0.00</td>\n",
       "      <td>0.00</td>\n",
       "      <td>0.00</td>\n",
       "      <td>0.0</td>\n",
       "      <td>0.0</td>\n",
       "      <td>0.0</td>\n",
       "    </tr>\n",
       "    <tr>\n",
       "      <th>3</th>\n",
       "      <td>0.00</td>\n",
       "      <td>0.05</td>\n",
       "      <td>0.00</td>\n",
       "      <td>0.00</td>\n",
       "      <td>0.05</td>\n",
       "      <td>0.05</td>\n",
       "      <td>0.00</td>\n",
       "      <td>0.0</td>\n",
       "      <td>0.0</td>\n",
       "      <td>0.0</td>\n",
       "    </tr>\n",
       "    <tr>\n",
       "      <th>4</th>\n",
       "      <td>0.00</td>\n",
       "      <td>0.05</td>\n",
       "      <td>0.00</td>\n",
       "      <td>0.00</td>\n",
       "      <td>0.00</td>\n",
       "      <td>0.07</td>\n",
       "      <td>0.07</td>\n",
       "      <td>0.0</td>\n",
       "      <td>0.0</td>\n",
       "      <td>0.0</td>\n",
       "    </tr>\n",
       "    <tr>\n",
       "      <th>5</th>\n",
       "      <td>0.00</td>\n",
       "      <td>0.00</td>\n",
       "      <td>0.05</td>\n",
       "      <td>0.00</td>\n",
       "      <td>0.00</td>\n",
       "      <td>0.00</td>\n",
       "      <td>0.08</td>\n",
       "      <td>0.0</td>\n",
       "      <td>0.0</td>\n",
       "      <td>0.0</td>\n",
       "    </tr>\n",
       "    <tr>\n",
       "      <th>6</th>\n",
       "      <td>0.00</td>\n",
       "      <td>0.00</td>\n",
       "      <td>0.05</td>\n",
       "      <td>0.07</td>\n",
       "      <td>0.00</td>\n",
       "      <td>0.00</td>\n",
       "      <td>0.00</td>\n",
       "      <td>0.0</td>\n",
       "      <td>0.0</td>\n",
       "      <td>0.0</td>\n",
       "    </tr>\n",
       "    <tr>\n",
       "      <th>7</th>\n",
       "      <td>0.00</td>\n",
       "      <td>0.00</td>\n",
       "      <td>0.00</td>\n",
       "      <td>0.07</td>\n",
       "      <td>0.08</td>\n",
       "      <td>0.00</td>\n",
       "      <td>0.00</td>\n",
       "      <td>0.0</td>\n",
       "      <td>0.0</td>\n",
       "      <td>0.0</td>\n",
       "    </tr>\n",
       "    <tr>\n",
       "      <th>8</th>\n",
       "      <td>0.00</td>\n",
       "      <td>0.00</td>\n",
       "      <td>0.00</td>\n",
       "      <td>0.00</td>\n",
       "      <td>0.00</td>\n",
       "      <td>0.00</td>\n",
       "      <td>0.00</td>\n",
       "      <td>0.0</td>\n",
       "      <td>0.0</td>\n",
       "      <td>0.0</td>\n",
       "    </tr>\n",
       "    <tr>\n",
       "      <th>9</th>\n",
       "      <td>0.00</td>\n",
       "      <td>0.00</td>\n",
       "      <td>0.00</td>\n",
       "      <td>0.00</td>\n",
       "      <td>0.00</td>\n",
       "      <td>0.00</td>\n",
       "      <td>0.00</td>\n",
       "      <td>0.0</td>\n",
       "      <td>0.0</td>\n",
       "      <td>0.0</td>\n",
       "    </tr>\n",
       "    <tr>\n",
       "      <th>10</th>\n",
       "      <td>0.00</td>\n",
       "      <td>0.00</td>\n",
       "      <td>0.00</td>\n",
       "      <td>0.00</td>\n",
       "      <td>0.00</td>\n",
       "      <td>0.00</td>\n",
       "      <td>0.00</td>\n",
       "      <td>0.0</td>\n",
       "      <td>0.0</td>\n",
       "      <td>0.0</td>\n",
       "    </tr>\n",
       "  </tbody>\n",
       "</table>\n",
       "</div>"
      ],
      "text/plain": [
       "      1     2     3     4     5     6     7    8    9    10\n",
       "1   0.00  0.03  0.00  0.00  0.00  0.00  0.00  0.0  0.0  0.0\n",
       "2   0.03  0.00  0.05  0.05  0.00  0.00  0.00  0.0  0.0  0.0\n",
       "3   0.00  0.05  0.00  0.00  0.05  0.05  0.00  0.0  0.0  0.0\n",
       "4   0.00  0.05  0.00  0.00  0.00  0.07  0.07  0.0  0.0  0.0\n",
       "5   0.00  0.00  0.05  0.00  0.00  0.00  0.08  0.0  0.0  0.0\n",
       "6   0.00  0.00  0.05  0.07  0.00  0.00  0.00  0.0  0.0  0.0\n",
       "7   0.00  0.00  0.00  0.07  0.08  0.00  0.00  0.0  0.0  0.0\n",
       "8   0.00  0.00  0.00  0.00  0.00  0.00  0.00  0.0  0.0  0.0\n",
       "9   0.00  0.00  0.00  0.00  0.00  0.00  0.00  0.0  0.0  0.0\n",
       "10  0.00  0.00  0.00  0.00  0.00  0.00  0.00  0.0  0.0  0.0"
      ]
     },
     "execution_count": 597,
     "metadata": {},
     "output_type": "execute_result"
    }
   ],
   "source": [
    "loss_factr_matrix"
   ]
  },
  {
   "cell_type": "code",
   "execution_count": 608,
   "metadata": {},
   "outputs": [],
   "source": [
    "loss_factr_matrix.to_csv(os.path.join(outputFolder, \"loss_factr_matrix.csv\"))"
   ]
  },
  {
   "cell_type": "markdown",
   "metadata": {},
   "source": [
    "## Generate 2nd set of CSVs from the new connection options graph\n",
    "### There is another shapefile that represents possible new connection lines and line upgrades to existing lines.\n",
    "#### These lines have columns that represent up to two different new capacity upgrades and two columns that represent the associated costs"
   ]
  },
  {
   "cell_type": "code",
   "execution_count": 598,
   "metadata": {},
   "outputs": [],
   "source": [
    "G_new_conn = nx.read_shp(os.path.join(inputFolder, \"import_shp_files_new_connections/\"))"
   ]
  },
  {
   "cell_type": "code",
   "execution_count": 599,
   "metadata": {},
   "outputs": [
    {
     "data": {
      "text/plain": [
       "<networkx.classes.digraph.DiGraph at 0x7f2a0f3b0cc0>"
      ]
     },
     "execution_count": 599,
     "metadata": {},
     "output_type": "execute_result"
    }
   ],
   "source": [
    "G_new_conn"
   ]
  },
  {
   "cell_type": "code",
   "execution_count": 600,
   "metadata": {},
   "outputs": [
    {
     "data": {
      "image/png": "[encoded data removed]",
      "text/plain": [
       "<Figure size 432x288 with 1 Axes>"
      ]
     },
     "metadata": {},
     "output_type": "display_data"
    }
   ],
   "source": [
    "G_new_conn = G_new_conn.to_undirected()\n",
    "nx.draw(G_new_conn)"
   ]
  },
  {
   "cell_type": "code",
   "execution_count": 601,
   "metadata": {},
   "outputs": [],
   "source": [
    "# create new pandas dataframes for the outputs\n",
    "df_new_conn_capacity = pd.DataFrame(columns=['label', 'value'])\n",
    "df_new_conn_cost = pd.DataFrame(columns=['label', 'value'])"
   ]
  },
  {
   "cell_type": "markdown",
   "metadata": {},
   "source": [
    "## The code below parses each edge in the graph, finds the to and from nodes, and populates the appropriate pandas dataframe with the connection capacity and costs"
   ]
  },
  {
   "cell_type": "code",
   "execution_count": 602,
   "metadata": {},
   "outputs": [
    {
     "name": "stdout",
     "output_type": "stream",
     "text": [
      "((33.33385735159716, 3.348764698405603), (33.32978257461352, 3.3747954446455584), {'id': 7, 'ad_cap_a': 1000, 'ad_cap_b': 500, 'con_cost_a': 20, 'con_cost_b': 10, 'ShpName': 'new_connection_options', 'Wkb': b'\\x00\\x00\\x00\\x00\\x02\\x00\\x00\\x00\\x02@@\\xaa\\xbb\\xd6sQ\\xca@\\n\\xcaE%m6\\x01@@\\xaa6P\\xbe`\\xbc@\\n\\xff\\x94\\xc1\\x0b\\x8a$', 'Wkt': 'LINESTRING (33.3338573515972 3.3487646984056,33.3297825746135 3.37479544464556)', 'Json': '{ \"type\": \"LineString\", \"coordinates\": [ [ 33.33385735159716, 3.348764698405603 ], [ 33.329782574613517, 3.374795444645558 ] ] }'})\n",
      "1000\n",
      "2.4.A\n",
      "500\n",
      "20\n",
      "10\n",
      "((33.19826147592042, 3.312955821872942), (33.278610543040095, 3.2484234015116127), {'id': 6, 'ad_cap_a': 0, 'ad_cap_b': 200, 'con_cost_a': 0, 'con_cost_b': 31, 'ShpName': 'new_connection_options', 'Wkb': b'\\x00\\x00\\x00\\x00\\x02\\x00\\x00\\x00\\x02@@\\x99`\\xa1\\xcd\\x91D@\\n\\x80\\xee\\xfb`K\\xf4@@\\xa3\\xa9\\x82\\xa1V\\xc9@\\t\\xfc\\xc5h\\x88my', 'Wkt': 'LINESTRING (33.1982614759204 3.31295582187294,33.2786105430401 3.24842340151161)', 'Json': '{ \"type\": \"LineString\", \"coordinates\": [ [ 33.198261475920418, 3.312955821872942 ], [ 33.278610543040095, 3.248423401511613 ] ] }'})\n",
      "0\n",
      "7.10.A\n",
      "200\n",
      "0\n",
      "31\n",
      "((33.19826147592042, 3.312955821872942), (33.231029531226206, 3.255145722521551), {'id': 3, 'ad_cap_a': 300, 'ad_cap_b': 0, 'con_cost_a': 30, 'con_cost_b': 0, 'ShpName': 'new_connection_options', 'Wkb': b'\\x00\\x00\\x00\\x00\\x02\\x00\\x00\\x00\\x02@@\\x9d\\x92`,\\x83m@\\n\\n\\x89\\xd7/\\x8e\\t@@\\x99`\\xa1\\xcd\\x91D@\\n\\x80\\xee\\xfb`K\\xf4', 'Wkt': 'LINESTRING (33.2310295312262 3.25514572252155,33.1982614759204 3.31295582187294)', 'Json': '{ \"type\": \"LineString\", \"coordinates\": [ [ 33.231029531226206, 3.255145722521551 ], [ 33.198261475920418, 3.312955821872942 ] ] }'})\n",
      "300\n",
      "7.9.A\n",
      "0\n",
      "30\n",
      "0\n",
      "((33.25167789484355, 3.3734511466084047), (33.35671522281005, 3.3958558706001303), {'id': 5, 'ad_cap_a': 300, 'ad_cap_b': 200, 'con_cost_a': 25, 'con_cost_b': 30, 'ShpName': 'new_connection_options', 'Wkb': b'\\x00\\x00\\x00\\x00\\x02\\x00\\x00\\x00\\x02@@\\xad\\xa8\\xd8+\\xfa.@\\x0b*\\xb6{\\x91A\\xe1@@\\xa06\\xfb3\\xbdV@\\n\\xfc\\xd3\\xf4j\\xb1\\xc4', 'Wkt': 'LINESTRING (33.3567152228101 3.39585587060013,33.2516778948436 3.3734511466084)', 'Json': '{ \"type\": \"LineString\", \"coordinates\": [ [ 33.356715222810053, 3.39585587060013 ], [ 33.251677894843553, 3.373451146608405 ] ] }'})\n",
      "300\n",
      "6.8.A\n",
      "200\n",
      "25\n",
      "30\n",
      "((33.35671522281005, 3.3958558706001303), (33.278610543040095, 3.2484234015116127), {'id': 4, 'ad_cap_a': 300, 'ad_cap_b': 200, 'con_cost_a': 28, 'con_cost_b': 32, 'ShpName': 'new_connection_options', 'Wkb': b'\\x00\\x00\\x00\\x00\\x02\\x00\\x00\\x00\\x02@@\\xa3\\xa9\\x82\\xa1V\\xc9@\\t\\xfc\\xc5h\\x88my@@\\xad\\xa8\\xd8+\\xfa.@\\x0b*\\xb6{\\x91A\\xe1', 'Wkt': 'LINESTRING (33.2786105430401 3.24842340151161,33.3567152228101 3.39585587060013)', 'Json': '{ \"type\": \"LineString\", \"coordinates\": [ [ 33.278610543040095, 3.248423401511613 ], [ 33.356715222810053, 3.39585587060013 ] ] }'})\n",
      "300\n",
      "8.10.A\n",
      "200\n",
      "28\n",
      "32\n",
      "((33.231029531226206, 3.255145722521551), (33.278610543040095, 3.2484234015116127), {'id': 2, 'ad_cap_a': 0, 'ad_cap_b': 200, 'con_cost_a': 0, 'con_cost_b': 28, 'ShpName': 'new_connection_options', 'Wkb': b'\\x00\\x00\\x00\\x00\\x02\\x00\\x00\\x00\\x02@@\\xa3\\xa9\\x82\\xa1V\\xc9@\\t\\xfc\\xc5h\\x88my@@\\x9d\\x92`,\\x83m@\\n\\n\\x89\\xd7/\\x8e\\t', 'Wkt': 'LINESTRING (33.2786105430401 3.24842340151161,33.2310295312262 3.25514572252155)', 'Json': '{ \"type\": \"LineString\", \"coordinates\": [ [ 33.278610543040095, 3.248423401511613 ], [ 33.231029531226206, 3.255145722521551 ] ] }'})\n",
      "0\n",
      "9.10.A\n",
      "200\n",
      "0\n",
      "28\n"
     ]
    }
   ],
   "source": [
    "# Import lines\n",
    "# For each edge\n",
    "for e in G_new_conn.edges(data = True):\n",
    "    # For each edge's attribute\n",
    "    print(e)\n",
    "    #print(e[1])\n",
    "    # print edge from node\n",
    "    #print(G_new_conn.nodes[e[0]]['id'])\n",
    "    from_node = G_new_conn.nodes[e[0]]['id']\n",
    "    # print edge to node\n",
    "    #print(G_new_conn.nodes[e[1]]['id'])\n",
    "    to_node = G_new_conn.nodes[e[1]]['id']\n",
    "    # print additional network capacity\n",
    "    print(e[2]['ad_cap_a'])\n",
    "    ad_cap_a = e[2]['ad_cap_a']\n",
    "    \n",
    "    label = str(from_node) + '.' + str(to_node) + '.A'\n",
    "    print(label)\n",
    "    \n",
    "    df2 = pd.DataFrame([[label, ad_cap_a]], columns=['label', 'value'])\n",
    "    #print('print df2')\n",
    "    #print(df2)\n",
    "    df_new_conn_capacity = df_new_conn_capacity.append(df2)\n",
    "    #G_new_conn.edges\n",
    "    # print new connection cost\n",
    "    print(e[2]['ad_cap_b'])\n",
    "    label = str(from_node) + '.' + str(to_node) + '.B'\n",
    "    ad_cap_b = e[2]['ad_cap_b']\n",
    "    \n",
    "    df2 = pd.DataFrame([[label, ad_cap_b]], columns=['label', 'value'])\n",
    "    df_new_conn_capacity = df_new_conn_capacity.append(df2)\n",
    "    \n",
    "    print(e[2]['con_cost_a'])\n",
    "    \n",
    "    label = str(from_node) + '.' + str(to_node) + '.A'\n",
    "    con_cost_a = e[2]['con_cost_a']\n",
    "    \n",
    "    df2 = pd.DataFrame([[label, con_cost_a]], columns=['label', 'value'])\n",
    "    df_new_conn_cost = df_new_conn_cost.append(df2)\n",
    "    \n",
    "    print(e[2]['con_cost_b'])\n",
    "    \n",
    "    label = str(from_node) + '.' + str(to_node) + '.B'\n",
    "    con_cost_b = e[2]['con_cost_b']\n",
    "    \n",
    "    df2 = pd.DataFrame([[label, con_cost_b]], columns=['label', 'value'])\n",
    "    df_new_conn_cost = df_new_conn_cost.append(df2)"
   ]
  },
  {
   "cell_type": "code",
   "execution_count": 603,
   "metadata": {},
   "outputs": [
    {
     "data": {
      "text/html": [
       "<div>\n",
       "<style scoped>\n",
       "    .dataframe tbody tr th:only-of-type {\n",
       "        vertical-align: middle;\n",
       "    }\n",
       "\n",
       "    .dataframe tbody tr th {\n",
       "        vertical-align: top;\n",
       "    }\n",
       "\n",
       "    .dataframe thead th {\n",
       "        text-align: right;\n",
       "    }\n",
       "</style>\n",
       "<table border=\"1\" class=\"dataframe\">\n",
       "  <thead>\n",
       "    <tr style=\"text-align: right;\">\n",
       "      <th></th>\n",
       "      <th>label</th>\n",
       "      <th>value</th>\n",
       "    </tr>\n",
       "  </thead>\n",
       "  <tbody>\n",
       "    <tr>\n",
       "      <th>0</th>\n",
       "      <td>2.4.A</td>\n",
       "      <td>1000</td>\n",
       "    </tr>\n",
       "    <tr>\n",
       "      <th>0</th>\n",
       "      <td>2.4.B</td>\n",
       "      <td>500</td>\n",
       "    </tr>\n",
       "    <tr>\n",
       "      <th>0</th>\n",
       "      <td>7.10.A</td>\n",
       "      <td>0</td>\n",
       "    </tr>\n",
       "    <tr>\n",
       "      <th>0</th>\n",
       "      <td>7.10.B</td>\n",
       "      <td>200</td>\n",
       "    </tr>\n",
       "    <tr>\n",
       "      <th>0</th>\n",
       "      <td>7.9.A</td>\n",
       "      <td>300</td>\n",
       "    </tr>\n",
       "    <tr>\n",
       "      <th>0</th>\n",
       "      <td>7.9.B</td>\n",
       "      <td>0</td>\n",
       "    </tr>\n",
       "    <tr>\n",
       "      <th>0</th>\n",
       "      <td>6.8.A</td>\n",
       "      <td>300</td>\n",
       "    </tr>\n",
       "    <tr>\n",
       "      <th>0</th>\n",
       "      <td>6.8.B</td>\n",
       "      <td>200</td>\n",
       "    </tr>\n",
       "    <tr>\n",
       "      <th>0</th>\n",
       "      <td>8.10.A</td>\n",
       "      <td>300</td>\n",
       "    </tr>\n",
       "    <tr>\n",
       "      <th>0</th>\n",
       "      <td>8.10.B</td>\n",
       "      <td>200</td>\n",
       "    </tr>\n",
       "    <tr>\n",
       "      <th>0</th>\n",
       "      <td>9.10.A</td>\n",
       "      <td>0</td>\n",
       "    </tr>\n",
       "    <tr>\n",
       "      <th>0</th>\n",
       "      <td>9.10.B</td>\n",
       "      <td>200</td>\n",
       "    </tr>\n",
       "  </tbody>\n",
       "</table>\n",
       "</div>"
      ],
      "text/plain": [
       "    label value\n",
       "0   2.4.A  1000\n",
       "0   2.4.B   500\n",
       "0  7.10.A     0\n",
       "0  7.10.B   200\n",
       "0   7.9.A   300\n",
       "0   7.9.B     0\n",
       "0   6.8.A   300\n",
       "0   6.8.B   200\n",
       "0  8.10.A   300\n",
       "0  8.10.B   200\n",
       "0  9.10.A     0\n",
       "0  9.10.B   200"
      ]
     },
     "execution_count": 603,
     "metadata": {},
     "output_type": "execute_result"
    }
   ],
   "source": [
    "df_new_conn_capacity"
   ]
  },
  {
   "cell_type": "code",
   "execution_count": 612,
   "metadata": {},
   "outputs": [],
   "source": [
    "df_new_conn_capacity.to_csv(os.path.join(outputFolder, \"new_conn_capacity.csv\"), index=False)"
   ]
  },
  {
   "cell_type": "code",
   "execution_count": 610,
   "metadata": {},
   "outputs": [
    {
     "data": {
      "text/html": [
       "<div>\n",
       "<style scoped>\n",
       "    .dataframe tbody tr th:only-of-type {\n",
       "        vertical-align: middle;\n",
       "    }\n",
       "\n",
       "    .dataframe tbody tr th {\n",
       "        vertical-align: top;\n",
       "    }\n",
       "\n",
       "    .dataframe thead th {\n",
       "        text-align: right;\n",
       "    }\n",
       "</style>\n",
       "<table border=\"1\" class=\"dataframe\">\n",
       "  <thead>\n",
       "    <tr style=\"text-align: right;\">\n",
       "      <th></th>\n",
       "      <th>label</th>\n",
       "      <th>value</th>\n",
       "    </tr>\n",
       "  </thead>\n",
       "  <tbody>\n",
       "    <tr>\n",
       "      <th>0</th>\n",
       "      <td>2.4.A</td>\n",
       "      <td>20</td>\n",
       "    </tr>\n",
       "    <tr>\n",
       "      <th>0</th>\n",
       "      <td>2.4.B</td>\n",
       "      <td>10</td>\n",
       "    </tr>\n",
       "    <tr>\n",
       "      <th>0</th>\n",
       "      <td>7.10.A</td>\n",
       "      <td>0</td>\n",
       "    </tr>\n",
       "    <tr>\n",
       "      <th>0</th>\n",
       "      <td>7.10.B</td>\n",
       "      <td>31</td>\n",
       "    </tr>\n",
       "    <tr>\n",
       "      <th>0</th>\n",
       "      <td>7.9.A</td>\n",
       "      <td>30</td>\n",
       "    </tr>\n",
       "    <tr>\n",
       "      <th>0</th>\n",
       "      <td>7.9.B</td>\n",
       "      <td>0</td>\n",
       "    </tr>\n",
       "    <tr>\n",
       "      <th>0</th>\n",
       "      <td>6.8.A</td>\n",
       "      <td>25</td>\n",
       "    </tr>\n",
       "    <tr>\n",
       "      <th>0</th>\n",
       "      <td>6.8.B</td>\n",
       "      <td>30</td>\n",
       "    </tr>\n",
       "    <tr>\n",
       "      <th>0</th>\n",
       "      <td>8.10.A</td>\n",
       "      <td>28</td>\n",
       "    </tr>\n",
       "    <tr>\n",
       "      <th>0</th>\n",
       "      <td>8.10.B</td>\n",
       "      <td>32</td>\n",
       "    </tr>\n",
       "    <tr>\n",
       "      <th>0</th>\n",
       "      <td>9.10.A</td>\n",
       "      <td>0</td>\n",
       "    </tr>\n",
       "    <tr>\n",
       "      <th>0</th>\n",
       "      <td>9.10.B</td>\n",
       "      <td>28</td>\n",
       "    </tr>\n",
       "  </tbody>\n",
       "</table>\n",
       "</div>"
      ],
      "text/plain": [
       "    label value\n",
       "0   2.4.A    20\n",
       "0   2.4.B    10\n",
       "0  7.10.A     0\n",
       "0  7.10.B    31\n",
       "0   7.9.A    30\n",
       "0   7.9.B     0\n",
       "0   6.8.A    25\n",
       "0   6.8.B    30\n",
       "0  8.10.A    28\n",
       "0  8.10.B    32\n",
       "0  9.10.A     0\n",
       "0  9.10.B    28"
      ]
     },
     "execution_count": 610,
     "metadata": {},
     "output_type": "execute_result"
    }
   ],
   "source": [
    "df_new_conn_cost"
   ]
  },
  {
   "cell_type": "code",
   "execution_count": 613,
   "metadata": {},
   "outputs": [],
   "source": [
    "df_new_conn_cost.to_csv(os.path.join(outputFolder, \"new_conn_cost.csv\"), index=False)"
   ]
  }
 ],
 "metadata": {
  "kernelspec": {
   "display_name": "Python 3",
   "language": "python",
   "name": "python3"
  },
  "language_info": {
   "codemirror_mode": {
    "name": "ipython",
    "version": 3
   },
   "file_extension": ".py",
   "mimetype": "text/x-python",
   "name": "python",
   "nbconvert_exporter": "python",
   "pygments_lexer": "ipython3",
   "version": "3.6.7"
  }
 },
 "nbformat": 4,
 "nbformat_minor": 2
}
