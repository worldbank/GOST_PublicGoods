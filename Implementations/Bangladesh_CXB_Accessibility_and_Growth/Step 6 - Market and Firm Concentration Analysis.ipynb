{
 "cells": [
  {
   "cell_type": "markdown",
   "metadata": {},
   "source": [
    "# 6 - Markets, Firms, and Economic Activity in CXB\n",
    "\n",
    "Originally modified from the snapping notebook, some holdover code is likely"
   ]
  },
  {
   "cell_type": "markdown",
   "metadata": {},
   "source": [
    "This notebook prepares data for modeling potential accessibility to destinations in CXB via gravity models"
   ]
  },
  {
   "cell_type": "code",
   "execution_count": 1,
   "metadata": {},
   "outputs": [],
   "source": [
    "import os, sys\n",
    "import time\n",
    "import pandas as pd\n",
    "import geopandas as gpd\n",
    "import numpy as np\n",
    "\n",
    "import networkx as nx\n",
    "from scipy import spatial\n",
    "from functools import partial\n",
    "import pyproj\n",
    "\n",
    "from shapely.ops import transform\n",
    "from shapely import wkt\n",
    "from shapely.geometry import Point, MultiPoint\n",
    "from shapely.wkt import loads\n",
    "\n",
    "import ipyparallel as ipp\n",
    "\n",
    "import GOSTnets as gn\n",
    "import geopy"
   ]
  },
  {
   "cell_type": "code",
   "execution_count": 2,
   "metadata": {},
   "outputs": [
    {
     "data": {
      "text/plain": [
       "{'total': 34342551552,\n",
       " 'available': 26375348224,\n",
       " 'percent': 23.2,\n",
       " 'used': 7967203328,\n",
       " 'free': 26375348224}"
      ]
     },
     "execution_count": 2,
     "metadata": {},
     "output_type": "execute_result"
    }
   ],
   "source": [
    "#!/usr/bin/env python\n",
    "import psutil\n",
    "# gives a single float value\n",
    "psutil.cpu_percent()\n",
    "# gives an object with many fields\n",
    "psutil.virtual_memory()\n",
    "# you can convert that object to a dictionary \n",
    "dict(psutil.virtual_memory()._asdict())"
   ]
  },
  {
   "cell_type": "markdown",
   "metadata": {},
   "source": [
    "Optional enable all columns -- this will negatively affect performance"
   ]
  },
  {
   "cell_type": "code",
   "execution_count": 3,
   "metadata": {},
   "outputs": [],
   "source": [
    "# pd.set_option('display.max_columns', None)"
   ]
  },
  {
   "cell_type": "markdown",
   "metadata": {},
   "source": [
    "Set path names and file names"
   ]
  },
  {
   "cell_type": "code",
   "execution_count": 4,
   "metadata": {},
   "outputs": [],
   "source": [
    "input_pth = r'inputs\\\\dests'\n",
    "interm_pth = r'intermediate\\\\'\n",
    "dest_pth = r'final'\n",
    "res_pth = r'results'\n",
    "res_date = '200521'\n",
    "\n",
    "tab_pth = r'../../../Tabular'\n",
    "geo_pth = r'../../../GEO'\n",
    "origin_folder = r'..\\..\\..\\GEO\\Population\\CXB'"
   ]
  },
  {
   "cell_type": "markdown",
   "metadata": {},
   "source": [
    "administrative boundaries"
   ]
  },
  {
   "cell_type": "code",
   "execution_count": 6,
   "metadata": {},
   "outputs": [],
   "source": [
    "# load admin spatial data\n",
    "\n",
    "adm2 = gpd.read_file(os.path.join(geo_pth,'Boundaries/adm2/bgd_admbnda_adm2_bbs_20180410.shp'))\n",
    "adm2.crs = 'epsg:4326'\n",
    "\n",
    "# adm3 = gpd.read_file(os.path.join(geo_pth,'Boundaries/bangladesh_upazila_boundary/bangladesh_upazila_boundary.shp')) # 8 in CXB\n",
    "\n",
    "adm3 = gpd.read_file(os.path.join(geo_pth,'Boundaries/adm3/bgd_admbnda_adm3_bbs_20180410.shp'))\n",
    "adm3.crs = 'epsg:4326'\n",
    "\n",
    "adm4 = gpd.read_file(os.path.join(geo_pth,'Boundaries/adm4/bgd_admbnda_adm4_bbs_20180410.shp')) # 75 in CXB\n",
    "adm4.crs = 'epsg:4326'"
   ]
  },
  {
   "cell_type": "code",
   "execution_count": 7,
   "metadata": {},
   "outputs": [],
   "source": [
    "# Fix types for later joining\n",
    "adm3['ADM3_PCODE'] = adm3['ADM3_PCODE'].astype(str)\n",
    "adm4['ADM4_PCODE'] = adm4['ADM4_PCODE'].astype(str)"
   ]
  },
  {
   "cell_type": "code",
   "execution_count": 8,
   "metadata": {},
   "outputs": [],
   "source": [
    "adm3['ADM3_EN'] = adm3['ADM3_EN'].str.title()"
   ]
  },
  {
   "cell_type": "markdown",
   "metadata": {},
   "source": [
    "population / origins"
   ]
  },
  {
   "cell_type": "code",
   "execution_count": 9,
   "metadata": {},
   "outputs": [],
   "source": [
    "origin_file = r'hrsl_2018_cxb_pts.shp'"
   ]
  },
  {
   "cell_type": "markdown",
   "metadata": {},
   "source": [
    "destinations"
   ]
  },
  {
   "cell_type": "code",
   "execution_count": 10,
   "metadata": {},
   "outputs": [],
   "source": [
    "cxb_fil = r'cxb_ctr.shp'\n",
    "chitt_fil = r'chittagong.shp'\n",
    "health_fil = r'hc_merge_200324_4326.shp'\n",
    "primary_fil = r'school_category_primary.gpkg'\n",
    "secondary_fil = r'school_category_secondary.gpkg'\n",
    "tertiary_fil = r'school_category_tertiary.gpkg'\n",
    "matar_fil = r'martarbari.shp'\n",
    "mkts_fil = r'mkts_merge_4326.shp'\n",
    "gc_fil = r'cxb_lged_gc_moved_4326.shp'"
   ]
  },
  {
   "cell_type": "markdown",
   "metadata": {},
   "source": [
    "markets and growth centers (major markets) are our main destinations of interest in this notebook"
   ]
  },
  {
   "cell_type": "code",
   "execution_count": 11,
   "metadata": {},
   "outputs": [],
   "source": [
    "allm = gpd.read_file(os.path.join(input_pth,mkts_fil))\n",
    "gcs = gpd.read_file(os.path.join(input_pth,gc_fil))"
   ]
  },
  {
   "cell_type": "markdown",
   "metadata": {},
   "source": [
    "### Load in markets, join in EC data"
   ]
  },
  {
   "cell_type": "code",
   "execution_count": 12,
   "metadata": {},
   "outputs": [],
   "source": [
    "firms = pd.read_stata(os.path.join(tab_pth,'EconCensus/EC_2013_union_level_v3_cxb.dta')).rename(columns={'adm4_pcode' : 'ADM4_PCODE','adm3_pcode' : 'ADM3_PCODE'})\n",
    "\n",
    "firms.drop(columns=['shape_leng','shape_area','adm4_en','adm4_ref','adm4alt1en','adm4alt2en','adm3_en','ADM3_PCODE','adm2_en','adm2_pcode','adm1_en','adm1_pcode','adm0_en','adm0_pcode','date'],axis=1,inplace=True)"
   ]
  },
  {
   "cell_type": "code",
   "execution_count": 13,
   "metadata": {},
   "outputs": [],
   "source": [
    "jobs = pd.read_stata(os.path.join(tab_pth,'EconCensus/EC_2013_union_level_v4_cxb.dta')).rename(columns={'adm4_pcode' : 'ADM4_PCODE','adm3_pcode' : 'ADM3_PCODE'})\n",
    "\n",
    "jobs.drop(columns=['shape_leng','shape_area','adm4_en','adm4_ref','adm4alt1en','adm4alt2en','adm3_en','ADM3_PCODE','adm2_en','adm2_pcode','adm1_en','adm1_pcode','adm0_en','adm0_pcode','date'],axis=1,inplace=True)\n",
    "\n",
    "jobs = jobs[['ADM4_PCODE','good_jobs_tot_ser','bad_jobs_tot_ser','good_jobs_tot_','bad_jobs_tot_','good_jobs_tot_ind','bad_jobs_tot_ind','good_jobs_fsize_4','bad_jobs_fsize_4','good_jobs_fsize_5','bad_jobs_fsize_5']]"
   ]
  },
  {
   "cell_type": "code",
   "execution_count": 14,
   "metadata": {},
   "outputs": [
    {
     "data": {
      "text/plain": [
       "['ADM4_PCODE',\n",
       " 'good_jobs_tot_ser',\n",
       " 'bad_jobs_tot_ser',\n",
       " 'good_jobs_tot_',\n",
       " 'bad_jobs_tot_',\n",
       " 'good_jobs_tot_ind',\n",
       " 'bad_jobs_tot_ind',\n",
       " 'good_jobs_fsize_4',\n",
       " 'bad_jobs_fsize_4',\n",
       " 'good_jobs_fsize_5',\n",
       " 'bad_jobs_fsize_5']"
      ]
     },
     "execution_count": 14,
     "metadata": {},
     "output_type": "execute_result"
    }
   ],
   "source": [
    "list(jobs)"
   ]
  },
  {
   "cell_type": "code",
   "execution_count": 15,
   "metadata": {},
   "outputs": [],
   "source": [
    "firms['ADM4_PCODE'] = firms['ADM4_PCODE'].astype(str)\n",
    "jobs['ADM4_PCODE'] = jobs['ADM4_PCODE'].astype(str)"
   ]
  },
  {
   "cell_type": "code",
   "execution_count": 16,
   "metadata": {},
   "outputs": [
    {
     "data": {
      "text/html": [
       "<div>\n",
       "<style scoped>\n",
       "    .dataframe tbody tr th:only-of-type {\n",
       "        vertical-align: middle;\n",
       "    }\n",
       "\n",
       "    .dataframe tbody tr th {\n",
       "        vertical-align: top;\n",
       "    }\n",
       "\n",
       "    .dataframe thead th {\n",
       "        text-align: right;\n",
       "    }\n",
       "</style>\n",
       "<table border=\"1\" class=\"dataframe\">\n",
       "  <thead>\n",
       "    <tr style=\"text-align: right;\">\n",
       "      <th></th>\n",
       "      <th>ADM4_PCODE</th>\n",
       "      <th>female_tot_workers_tot_</th>\n",
       "      <th>male_tot_workers_tot_</th>\n",
       "      <th>total_workers_tot_</th>\n",
       "      <th>number_firms_tot_</th>\n",
       "      <th>female_tot_workers_tot_ind</th>\n",
       "      <th>male_tot_workers_tot_ind</th>\n",
       "      <th>total_workers_tot_ind</th>\n",
       "      <th>number_firms_tot_ind</th>\n",
       "      <th>female_tot_workers_tot_ser</th>\n",
       "      <th>...</th>\n",
       "      <th>total_workers_5_oser</th>\n",
       "      <th>number_firms_5_oser</th>\n",
       "      <th>female_tot_workers_5_tran</th>\n",
       "      <th>male_tot_workers_5_tran</th>\n",
       "      <th>total_workers_5_tran</th>\n",
       "      <th>number_firms_5_tran</th>\n",
       "      <th>female_tot_workers_5_whol</th>\n",
       "      <th>male_tot_workers_5_whol</th>\n",
       "      <th>total_workers_5_whol</th>\n",
       "      <th>number_firms_5_whol</th>\n",
       "    </tr>\n",
       "  </thead>\n",
       "  <tbody>\n",
       "    <tr>\n",
       "      <th>0</th>\n",
       "      <td>20221610</td>\n",
       "      <td>138.0</td>\n",
       "      <td>4873.0</td>\n",
       "      <td>5011.0</td>\n",
       "      <td>1100</td>\n",
       "      <td>62.0</td>\n",
       "      <td>4281.0</td>\n",
       "      <td>4343.0</td>\n",
       "      <td>739</td>\n",
       "      <td>76.0</td>\n",
       "      <td>...</td>\n",
       "      <td>52.0</td>\n",
       "      <td>4</td>\n",
       "      <td>0.0</td>\n",
       "      <td>0.0</td>\n",
       "      <td>0.0</td>\n",
       "      <td>0</td>\n",
       "      <td>0.0</td>\n",
       "      <td>11.0</td>\n",
       "      <td>11.0</td>\n",
       "      <td>1</td>\n",
       "    </tr>\n",
       "    <tr>\n",
       "      <th>1</th>\n",
       "      <td>20221612</td>\n",
       "      <td>33.0</td>\n",
       "      <td>395.0</td>\n",
       "      <td>428.0</td>\n",
       "      <td>236</td>\n",
       "      <td>18.0</td>\n",
       "      <td>269.0</td>\n",
       "      <td>287.0</td>\n",
       "      <td>125</td>\n",
       "      <td>15.0</td>\n",
       "      <td>...</td>\n",
       "      <td>0.0</td>\n",
       "      <td>0</td>\n",
       "      <td>0.0</td>\n",
       "      <td>0.0</td>\n",
       "      <td>0.0</td>\n",
       "      <td>0</td>\n",
       "      <td>0.0</td>\n",
       "      <td>0.0</td>\n",
       "      <td>0.0</td>\n",
       "      <td>0</td>\n",
       "    </tr>\n",
       "  </tbody>\n",
       "</table>\n",
       "<p>2 rows × 289 columns</p>\n",
       "</div>"
      ],
      "text/plain": [
       "  ADM4_PCODE  female_tot_workers_tot_  male_tot_workers_tot_  \\\n",
       "0   20221610                    138.0                 4873.0   \n",
       "1   20221612                     33.0                  395.0   \n",
       "\n",
       "   total_workers_tot_  number_firms_tot_  female_tot_workers_tot_ind  \\\n",
       "0              5011.0               1100                        62.0   \n",
       "1               428.0                236                        18.0   \n",
       "\n",
       "   male_tot_workers_tot_ind  total_workers_tot_ind  number_firms_tot_ind  \\\n",
       "0                    4281.0                 4343.0                   739   \n",
       "1                     269.0                  287.0                   125   \n",
       "\n",
       "   female_tot_workers_tot_ser  ...  total_workers_5_oser  number_firms_5_oser  \\\n",
       "0                        76.0  ...                  52.0                    4   \n",
       "1                        15.0  ...                   0.0                    0   \n",
       "\n",
       "   female_tot_workers_5_tran  male_tot_workers_5_tran  total_workers_5_tran  \\\n",
       "0                        0.0                      0.0                   0.0   \n",
       "1                        0.0                      0.0                   0.0   \n",
       "\n",
       "   number_firms_5_tran  female_tot_workers_5_whol  male_tot_workers_5_whol  \\\n",
       "0                    0                        0.0                     11.0   \n",
       "1                    0                        0.0                      0.0   \n",
       "\n",
       "   total_workers_5_whol  number_firms_5_whol  \n",
       "0                  11.0                    1  \n",
       "1                   0.0                    0  \n",
       "\n",
       "[2 rows x 289 columns]"
      ]
     },
     "execution_count": 16,
     "metadata": {},
     "output_type": "execute_result"
    }
   ],
   "source": [
    "firms.head(2)"
   ]
  },
  {
   "cell_type": "code",
   "execution_count": 17,
   "metadata": {},
   "outputs": [
    {
     "data": {
      "text/html": [
       "<div>\n",
       "<style scoped>\n",
       "    .dataframe tbody tr th:only-of-type {\n",
       "        vertical-align: middle;\n",
       "    }\n",
       "\n",
       "    .dataframe tbody tr th {\n",
       "        vertical-align: top;\n",
       "    }\n",
       "\n",
       "    .dataframe thead th {\n",
       "        text-align: right;\n",
       "    }\n",
       "</style>\n",
       "<table border=\"1\" class=\"dataframe\">\n",
       "  <thead>\n",
       "    <tr style=\"text-align: right;\">\n",
       "      <th></th>\n",
       "      <th>ADM4_PCODE</th>\n",
       "      <th>good_jobs_tot_ser</th>\n",
       "      <th>bad_jobs_tot_ser</th>\n",
       "      <th>good_jobs_tot_</th>\n",
       "      <th>bad_jobs_tot_</th>\n",
       "      <th>good_jobs_tot_ind</th>\n",
       "      <th>bad_jobs_tot_ind</th>\n",
       "      <th>good_jobs_fsize_4</th>\n",
       "      <th>bad_jobs_fsize_4</th>\n",
       "      <th>good_jobs_fsize_5</th>\n",
       "      <th>bad_jobs_fsize_5</th>\n",
       "    </tr>\n",
       "  </thead>\n",
       "  <tbody>\n",
       "    <tr>\n",
       "      <th>0</th>\n",
       "      <td>20221610</td>\n",
       "      <td>652.0</td>\n",
       "      <td>16.0</td>\n",
       "      <td>4925.0</td>\n",
       "      <td>86.0</td>\n",
       "      <td>4273.0</td>\n",
       "      <td>70.0</td>\n",
       "      <td>3560.0</td>\n",
       "      <td>42.0</td>\n",
       "      <td>238.0</td>\n",
       "      <td>20.0</td>\n",
       "    </tr>\n",
       "    <tr>\n",
       "      <th>1</th>\n",
       "      <td>20221612</td>\n",
       "      <td>141.0</td>\n",
       "      <td>0.0</td>\n",
       "      <td>427.0</td>\n",
       "      <td>1.0</td>\n",
       "      <td>286.0</td>\n",
       "      <td>1.0</td>\n",
       "      <td>11.0</td>\n",
       "      <td>0.0</td>\n",
       "      <td>38.0</td>\n",
       "      <td>0.0</td>\n",
       "    </tr>\n",
       "  </tbody>\n",
       "</table>\n",
       "</div>"
      ],
      "text/plain": [
       "  ADM4_PCODE  good_jobs_tot_ser  bad_jobs_tot_ser  good_jobs_tot_  \\\n",
       "0   20221610              652.0              16.0          4925.0   \n",
       "1   20221612              141.0               0.0           427.0   \n",
       "\n",
       "   bad_jobs_tot_  good_jobs_tot_ind  bad_jobs_tot_ind  good_jobs_fsize_4  \\\n",
       "0           86.0             4273.0              70.0             3560.0   \n",
       "1            1.0              286.0               1.0               11.0   \n",
       "\n",
       "   bad_jobs_fsize_4  good_jobs_fsize_5  bad_jobs_fsize_5  \n",
       "0              42.0              238.0              20.0  \n",
       "1               0.0               38.0               0.0  "
      ]
     },
     "execution_count": 17,
     "metadata": {},
     "output_type": "execute_result"
    }
   ],
   "source": [
    "jobs.head(2)"
   ]
  },
  {
   "cell_type": "code",
   "execution_count": 18,
   "metadata": {},
   "outputs": [
    {
     "data": {
      "text/html": [
       "<div>\n",
       "<style scoped>\n",
       "    .dataframe tbody tr th:only-of-type {\n",
       "        vertical-align: middle;\n",
       "    }\n",
       "\n",
       "    .dataframe tbody tr th {\n",
       "        vertical-align: top;\n",
       "    }\n",
       "\n",
       "    .dataframe thead th {\n",
       "        text-align: right;\n",
       "    }\n",
       "</style>\n",
       "<table border=\"1\" class=\"dataframe\">\n",
       "  <thead>\n",
       "    <tr style=\"text-align: right;\">\n",
       "      <th></th>\n",
       "      <th>Shape_Leng</th>\n",
       "      <th>Shape_Area</th>\n",
       "      <th>ADM4_EN</th>\n",
       "      <th>ADM4_PCODE</th>\n",
       "      <th>ADM4_REF</th>\n",
       "      <th>ADM4ALT1EN</th>\n",
       "      <th>ADM4ALT2EN</th>\n",
       "      <th>ADM3_EN</th>\n",
       "      <th>ADM3_PCODE</th>\n",
       "      <th>ADM2_EN</th>\n",
       "      <th>...</th>\n",
       "      <th>ADM1_EN</th>\n",
       "      <th>ADM1_PCODE</th>\n",
       "      <th>ADM0_EN</th>\n",
       "      <th>ADM0_PCODE</th>\n",
       "      <th>date</th>\n",
       "      <th>validOn</th>\n",
       "      <th>validTo</th>\n",
       "      <th>hrsl18sum</th>\n",
       "      <th>wp20sum</th>\n",
       "      <th>geometry</th>\n",
       "    </tr>\n",
       "  </thead>\n",
       "  <tbody>\n",
       "    <tr>\n",
       "      <th>0</th>\n",
       "      <td>0.286382</td>\n",
       "      <td>0.001944</td>\n",
       "      <td>Abaipur</td>\n",
       "      <td>40448010</td>\n",
       "      <td>None</td>\n",
       "      <td>None</td>\n",
       "      <td>None</td>\n",
       "      <td>Shailkupa</td>\n",
       "      <td>404480</td>\n",
       "      <td>Jhenaidah</td>\n",
       "      <td>...</td>\n",
       "      <td>Khulna</td>\n",
       "      <td>40</td>\n",
       "      <td>Bangladesh</td>\n",
       "      <td>BD</td>\n",
       "      <td>2015-01-01</td>\n",
       "      <td>2018-04-10</td>\n",
       "      <td>None</td>\n",
       "      <td>34843.005475</td>\n",
       "      <td>19666.171850</td>\n",
       "      <td>POLYGON ((89.29995 23.62161, 89.30005 23.62142...</td>\n",
       "    </tr>\n",
       "    <tr>\n",
       "      <th>1</th>\n",
       "      <td>0.098597</td>\n",
       "      <td>0.000317</td>\n",
       "      <td>Abdullahpur</td>\n",
       "      <td>30599411</td>\n",
       "      <td>None</td>\n",
       "      <td>None</td>\n",
       "      <td>None</td>\n",
       "      <td>Tongibari</td>\n",
       "      <td>305994</td>\n",
       "      <td>Munshiganj</td>\n",
       "      <td>...</td>\n",
       "      <td>Dhaka</td>\n",
       "      <td>30</td>\n",
       "      <td>Bangladesh</td>\n",
       "      <td>BD</td>\n",
       "      <td>2015-01-01</td>\n",
       "      <td>2018-04-10</td>\n",
       "      <td>None</td>\n",
       "      <td>14234.900010</td>\n",
       "      <td>20241.963911</td>\n",
       "      <td>POLYGON ((90.48251 23.55370, 90.48244 23.55351...</td>\n",
       "    </tr>\n",
       "  </tbody>\n",
       "</table>\n",
       "<p>2 rows × 21 columns</p>\n",
       "</div>"
      ],
      "text/plain": [
       "   Shape_Leng  Shape_Area      ADM4_EN ADM4_PCODE ADM4_REF ADM4ALT1EN  \\\n",
       "0    0.286382    0.001944      Abaipur   40448010     None       None   \n",
       "1    0.098597    0.000317  Abdullahpur   30599411     None       None   \n",
       "\n",
       "  ADM4ALT2EN    ADM3_EN ADM3_PCODE     ADM2_EN  ... ADM1_EN ADM1_PCODE  \\\n",
       "0       None  Shailkupa     404480   Jhenaidah  ...  Khulna         40   \n",
       "1       None  Tongibari     305994  Munshiganj  ...   Dhaka         30   \n",
       "\n",
       "      ADM0_EN ADM0_PCODE        date     validOn validTo     hrsl18sum  \\\n",
       "0  Bangladesh         BD  2015-01-01  2018-04-10    None  34843.005475   \n",
       "1  Bangladesh         BD  2015-01-01  2018-04-10    None  14234.900010   \n",
       "\n",
       "        wp20sum                                           geometry  \n",
       "0  19666.171850  POLYGON ((89.29995 23.62161, 89.30005 23.62142...  \n",
       "1  20241.963911  POLYGON ((90.48251 23.55370, 90.48244 23.55351...  \n",
       "\n",
       "[2 rows x 21 columns]"
      ]
     },
     "execution_count": 18,
     "metadata": {},
     "output_type": "execute_result"
    }
   ],
   "source": [
    "adm4.head(2)"
   ]
  },
  {
   "cell_type": "markdown",
   "metadata": {},
   "source": [
    "Merge admin data with firm and jobs data"
   ]
  },
  {
   "cell_type": "code",
   "execution_count": 19,
   "metadata": {},
   "outputs": [],
   "source": [
    "adm4 = pd.merge(adm4,firms,how='left',on='ADM4_PCODE')\n",
    "adm4 = pd.merge(adm4,jobs,how='left',on='ADM4_PCODE')"
   ]
  },
  {
   "cell_type": "code",
   "execution_count": 20,
   "metadata": {},
   "outputs": [
    {
     "data": {
      "text/plain": [
       "75"
      ]
     },
     "execution_count": 20,
     "metadata": {},
     "output_type": "execute_result"
    }
   ],
   "source": [
    "adm4 = adm4[adm4['male_tot_workers_5_whol'].isna() == False]\n",
    "len(adm4) # should be 75"
   ]
  },
  {
   "cell_type": "code",
   "execution_count": 21,
   "metadata": {},
   "outputs": [
    {
     "data": {
      "text/html": [
       "<div>\n",
       "<style scoped>\n",
       "    .dataframe tbody tr th:only-of-type {\n",
       "        vertical-align: middle;\n",
       "    }\n",
       "\n",
       "    .dataframe tbody tr th {\n",
       "        vertical-align: top;\n",
       "    }\n",
       "\n",
       "    .dataframe thead th {\n",
       "        text-align: right;\n",
       "    }\n",
       "</style>\n",
       "<table border=\"1\" class=\"dataframe\">\n",
       "  <thead>\n",
       "    <tr style=\"text-align: right;\">\n",
       "      <th></th>\n",
       "      <th>Shape_Leng</th>\n",
       "      <th>Shape_Area</th>\n",
       "      <th>ADM4_EN</th>\n",
       "      <th>ADM4_PCODE</th>\n",
       "      <th>ADM4_REF</th>\n",
       "      <th>ADM4ALT1EN</th>\n",
       "      <th>ADM4ALT2EN</th>\n",
       "      <th>ADM3_EN</th>\n",
       "      <th>ADM3_PCODE</th>\n",
       "      <th>ADM2_EN</th>\n",
       "      <th>...</th>\n",
       "      <th>good_jobs_tot_ser</th>\n",
       "      <th>bad_jobs_tot_ser</th>\n",
       "      <th>good_jobs_tot_</th>\n",
       "      <th>bad_jobs_tot_</th>\n",
       "      <th>good_jobs_tot_ind</th>\n",
       "      <th>bad_jobs_tot_ind</th>\n",
       "      <th>good_jobs_fsize_4</th>\n",
       "      <th>bad_jobs_fsize_4</th>\n",
       "      <th>good_jobs_fsize_5</th>\n",
       "      <th>bad_jobs_fsize_5</th>\n",
       "    </tr>\n",
       "  </thead>\n",
       "  <tbody>\n",
       "    <tr>\n",
       "      <th>73</th>\n",
       "      <td>0.216665</td>\n",
       "      <td>0.001496</td>\n",
       "      <td>Ali Akbar Deil</td>\n",
       "      <td>20224513</td>\n",
       "      <td>None</td>\n",
       "      <td>None</td>\n",
       "      <td>None</td>\n",
       "      <td>Kutubdia</td>\n",
       "      <td>202245</td>\n",
       "      <td>Cox's Bazar</td>\n",
       "      <td>...</td>\n",
       "      <td>135.0</td>\n",
       "      <td>4.0</td>\n",
       "      <td>1499.0</td>\n",
       "      <td>7.0</td>\n",
       "      <td>1364.0</td>\n",
       "      <td>3.0</td>\n",
       "      <td>789.0</td>\n",
       "      <td>4.0</td>\n",
       "      <td>14.0</td>\n",
       "      <td>0.0</td>\n",
       "    </tr>\n",
       "    <tr>\n",
       "      <th>255</th>\n",
       "      <td>0.257282</td>\n",
       "      <td>0.001881</td>\n",
       "      <td>Badarkhali</td>\n",
       "      <td>20221610</td>\n",
       "      <td>None</td>\n",
       "      <td>None</td>\n",
       "      <td>None</td>\n",
       "      <td>Chakaria</td>\n",
       "      <td>202216</td>\n",
       "      <td>Cox's Bazar</td>\n",
       "      <td>...</td>\n",
       "      <td>652.0</td>\n",
       "      <td>16.0</td>\n",
       "      <td>4925.0</td>\n",
       "      <td>86.0</td>\n",
       "      <td>4273.0</td>\n",
       "      <td>70.0</td>\n",
       "      <td>3560.0</td>\n",
       "      <td>42.0</td>\n",
       "      <td>238.0</td>\n",
       "      <td>20.0</td>\n",
       "    </tr>\n",
       "  </tbody>\n",
       "</table>\n",
       "<p>2 rows × 319 columns</p>\n",
       "</div>"
      ],
      "text/plain": [
       "     Shape_Leng  Shape_Area         ADM4_EN ADM4_PCODE ADM4_REF ADM4ALT1EN  \\\n",
       "73     0.216665    0.001496  Ali Akbar Deil   20224513     None       None   \n",
       "255    0.257282    0.001881      Badarkhali   20221610     None       None   \n",
       "\n",
       "    ADM4ALT2EN   ADM3_EN ADM3_PCODE      ADM2_EN  ... good_jobs_tot_ser  \\\n",
       "73        None  Kutubdia     202245  Cox's Bazar  ...             135.0   \n",
       "255       None  Chakaria     202216  Cox's Bazar  ...             652.0   \n",
       "\n",
       "    bad_jobs_tot_ser good_jobs_tot_ bad_jobs_tot_ good_jobs_tot_ind  \\\n",
       "73               4.0         1499.0           7.0            1364.0   \n",
       "255             16.0         4925.0          86.0            4273.0   \n",
       "\n",
       "    bad_jobs_tot_ind good_jobs_fsize_4 bad_jobs_fsize_4  good_jobs_fsize_5  \\\n",
       "73               3.0             789.0              4.0               14.0   \n",
       "255             70.0            3560.0             42.0              238.0   \n",
       "\n",
       "     bad_jobs_fsize_5  \n",
       "73                0.0  \n",
       "255              20.0  \n",
       "\n",
       "[2 rows x 319 columns]"
      ]
     },
     "execution_count": 21,
     "metadata": {},
     "output_type": "execute_result"
    }
   ],
   "source": [
    "adm4.head(2)"
   ]
  },
  {
   "cell_type": "markdown",
   "metadata": {},
   "source": [
    "join in the admin data to the points"
   ]
  },
  {
   "cell_type": "code",
   "execution_count": 22,
   "metadata": {},
   "outputs": [],
   "source": [
    "allm = gpd.sjoin(allm,adm4.reset_index(),how='left',op='within')\n",
    "gcs = gpd.sjoin(gcs,adm4.reset_index(),how='left',op='within')"
   ]
  },
  {
   "cell_type": "code",
   "execution_count": 23,
   "metadata": {},
   "outputs": [
    {
     "data": {
      "text/html": [
       "<div>\n",
       "<style scoped>\n",
       "    .dataframe tbody tr th:only-of-type {\n",
       "        vertical-align: middle;\n",
       "    }\n",
       "\n",
       "    .dataframe tbody tr th {\n",
       "        vertical-align: top;\n",
       "    }\n",
       "\n",
       "    .dataframe thead th {\n",
       "        text-align: right;\n",
       "    }\n",
       "</style>\n",
       "<table border=\"1\" class=\"dataframe\">\n",
       "  <thead>\n",
       "    <tr style=\"text-align: right;\">\n",
       "      <th></th>\n",
       "      <th>FID_</th>\n",
       "      <th>AREA</th>\n",
       "      <th>PERIMETER</th>\n",
       "      <th>TYPE</th>\n",
       "      <th>NAME_WS</th>\n",
       "      <th>ID_WS</th>\n",
       "      <th>Upa_name</th>\n",
       "      <th>geometry</th>\n",
       "      <th>index_right</th>\n",
       "      <th>index</th>\n",
       "      <th>...</th>\n",
       "      <th>good_jobs_tot_ser</th>\n",
       "      <th>bad_jobs_tot_ser</th>\n",
       "      <th>good_jobs_tot_</th>\n",
       "      <th>bad_jobs_tot_</th>\n",
       "      <th>good_jobs_tot_ind</th>\n",
       "      <th>bad_jobs_tot_ind</th>\n",
       "      <th>good_jobs_fsize_4</th>\n",
       "      <th>bad_jobs_fsize_4</th>\n",
       "      <th>good_jobs_fsize_5</th>\n",
       "      <th>bad_jobs_fsize_5</th>\n",
       "    </tr>\n",
       "  </thead>\n",
       "  <tbody>\n",
       "    <tr>\n",
       "      <th>0</th>\n",
       "      <td>0.0</td>\n",
       "      <td>0.0</td>\n",
       "      <td>0.0</td>\n",
       "      <td>70.0</td>\n",
       "      <td>Khutakhali Bazar</td>\n",
       "      <td>42216047</td>\n",
       "      <td>Chakoria</td>\n",
       "      <td>POINT (92.06685 21.61506)</td>\n",
       "      <td>42</td>\n",
       "      <td>2756</td>\n",
       "      <td>...</td>\n",
       "      <td>1267.0</td>\n",
       "      <td>24.0</td>\n",
       "      <td>4272.0</td>\n",
       "      <td>56.0</td>\n",
       "      <td>3005.0</td>\n",
       "      <td>32.0</td>\n",
       "      <td>1410.0</td>\n",
       "      <td>16.0</td>\n",
       "      <td>100.0</td>\n",
       "      <td>16.0</td>\n",
       "    </tr>\n",
       "    <tr>\n",
       "      <th>1</th>\n",
       "      <td>0.0</td>\n",
       "      <td>0.0</td>\n",
       "      <td>0.0</td>\n",
       "      <td>70.0</td>\n",
       "      <td>Manikpur Bazar</td>\n",
       "      <td>42216049</td>\n",
       "      <td>Chakoria</td>\n",
       "      <td>POINT (92.14787 21.75228)</td>\n",
       "      <td>68</td>\n",
       "      <td>4614</td>\n",
       "      <td>...</td>\n",
       "      <td>332.0</td>\n",
       "      <td>2.0</td>\n",
       "      <td>1206.0</td>\n",
       "      <td>11.0</td>\n",
       "      <td>874.0</td>\n",
       "      <td>9.0</td>\n",
       "      <td>78.0</td>\n",
       "      <td>10.0</td>\n",
       "      <td>36.0</td>\n",
       "      <td>0.0</td>\n",
       "    </tr>\n",
       "  </tbody>\n",
       "</table>\n",
       "<p>2 rows × 328 columns</p>\n",
       "</div>"
      ],
      "text/plain": [
       "   FID_  AREA  PERIMETER  TYPE           NAME_WS     ID_WS  Upa_name  \\\n",
       "0   0.0   0.0        0.0  70.0  Khutakhali Bazar  42216047  Chakoria   \n",
       "1   0.0   0.0        0.0  70.0    Manikpur Bazar  42216049  Chakoria   \n",
       "\n",
       "                    geometry  index_right  index  ...  good_jobs_tot_ser  \\\n",
       "0  POINT (92.06685 21.61506)           42   2756  ...             1267.0   \n",
       "1  POINT (92.14787 21.75228)           68   4614  ...              332.0   \n",
       "\n",
       "   bad_jobs_tot_ser good_jobs_tot_ bad_jobs_tot_ good_jobs_tot_ind  \\\n",
       "0              24.0         4272.0          56.0            3005.0   \n",
       "1               2.0         1206.0          11.0             874.0   \n",
       "\n",
       "  bad_jobs_tot_ind good_jobs_fsize_4 bad_jobs_fsize_4 good_jobs_fsize_5  \\\n",
       "0             32.0            1410.0             16.0             100.0   \n",
       "1              9.0              78.0             10.0              36.0   \n",
       "\n",
       "  bad_jobs_fsize_5  \n",
       "0             16.0  \n",
       "1              0.0  \n",
       "\n",
       "[2 rows x 328 columns]"
      ]
     },
     "execution_count": 23,
     "metadata": {},
     "output_type": "execute_result"
    }
   ],
   "source": [
    "gcs.head(2)"
   ]
  },
  {
   "cell_type": "code",
   "execution_count": 24,
   "metadata": {},
   "outputs": [],
   "source": [
    "allm_adms = pd.DataFrame(allm.groupby('ADM4_PCODE')['NAME_WS'].apply(list)).rename(columns={'NAME_WS': 'All_mkts_names'})\n",
    "gc_adms = pd.DataFrame(gcs.groupby('ADM4_PCODE')['NAME_WS'].apply(list)).rename(columns={'NAME_WS': 'Growth_centers_names'})"
   ]
  },
  {
   "cell_type": "code",
   "execution_count": 25,
   "metadata": {},
   "outputs": [],
   "source": [
    "allm_adms['All_mkts_names'] = allm_adms['All_mkts_names'].astype(str).str.strip('[]')\n",
    "gc_adms['Growth_centers_names'] = gc_adms['Growth_centers_names'].astype(str).str.strip('[]')"
   ]
  },
  {
   "cell_type": "code",
   "execution_count": 26,
   "metadata": {},
   "outputs": [],
   "source": [
    "adm4 = pd.merge(adm4,allm_adms,how='left',on='ADM4_PCODE')\n",
    "adm4 = pd.merge(adm4,gc_adms,how='left',on='ADM4_PCODE')"
   ]
  },
  {
   "cell_type": "markdown",
   "metadata": {},
   "source": [
    "Export"
   ]
  },
  {
   "cell_type": "code",
   "execution_count": 27,
   "metadata": {},
   "outputs": [],
   "source": [
    "adm4.to_file(\"results/spatial/adm4_firms.geojson\",driver='GeoJSON')\n",
    "adm4.to_file(\"results/spatial/adm4_firms.shp\")\n",
    "adm4.to_csv(\"results/tables/adm4_firms.csv\")"
   ]
  },
  {
   "cell_type": "markdown",
   "metadata": {},
   "source": [
    "## Load in OD Matrics, assign NN accessibility scores to individual markets"
   ]
  },
  {
   "cell_type": "markdown",
   "metadata": {},
   "source": [
    "find the market for each origin node"
   ]
  },
  {
   "cell_type": "code",
   "execution_count": 28,
   "metadata": {},
   "outputs": [],
   "source": [
    "current_allm_odm = pd.read_csv(os.path.join(res_pth,res_date,'OD_matrix_current_NN_All_markets.csv'))\n",
    "current_gc_odm = pd.read_csv(os.path.join(res_pth,res_date,'OD_matrix_current_NN_Growth_centers.csv'))"
   ]
  },
  {
   "cell_type": "code",
   "execution_count": 29,
   "metadata": {},
   "outputs": [],
   "source": [
    "current_allm_odm['mkt_node'] = current_allm_odm.iloc[:,1:].idxmin(axis=1)\n",
    "current_gc_odm['mkt_node'] = current_gc_odm.iloc[:,1:].idxmin(axis=1)"
   ]
  },
  {
   "cell_type": "code",
   "execution_count": 30,
   "metadata": {},
   "outputs": [],
   "source": [
    "current_allm_odm = current_allm_odm[['Unnamed: 0','mkt_node']].rename(columns={'Unnamed: 0' : 'O_ID'})\n",
    "current_gc_odm = current_gc_odm[['Unnamed: 0','mkt_node']].rename(columns={'Unnamed: 0' : 'O_ID'})"
   ]
  },
  {
   "cell_type": "code",
   "execution_count": 31,
   "metadata": {},
   "outputs": [
    {
     "data": {
      "text/plain": [
       "Index(['O_ID', 'mkt_node'], dtype='object')"
      ]
     },
     "execution_count": 31,
     "metadata": {},
     "output_type": "execute_result"
    }
   ],
   "source": [
    "current_gc_odm.columns"
   ]
  },
  {
   "cell_type": "code",
   "execution_count": 32,
   "metadata": {},
   "outputs": [
    {
     "data": {
      "text/html": [
       "<div>\n",
       "<style scoped>\n",
       "    .dataframe tbody tr th:only-of-type {\n",
       "        vertical-align: middle;\n",
       "    }\n",
       "\n",
       "    .dataframe tbody tr th {\n",
       "        vertical-align: top;\n",
       "    }\n",
       "\n",
       "    .dataframe thead th {\n",
       "        text-align: right;\n",
       "    }\n",
       "</style>\n",
       "<table border=\"1\" class=\"dataframe\">\n",
       "  <thead>\n",
       "    <tr style=\"text-align: right;\">\n",
       "      <th></th>\n",
       "      <th>O_ID</th>\n",
       "      <th>mkt_node</th>\n",
       "    </tr>\n",
       "  </thead>\n",
       "  <tbody>\n",
       "    <tr>\n",
       "      <th>0</th>\n",
       "      <td>8192</td>\n",
       "      <td>9677</td>\n",
       "    </tr>\n",
       "    <tr>\n",
       "      <th>1</th>\n",
       "      <td>1</td>\n",
       "      <td>10053</td>\n",
       "    </tr>\n",
       "  </tbody>\n",
       "</table>\n",
       "</div>"
      ],
      "text/plain": [
       "   O_ID mkt_node\n",
       "0  8192     9677\n",
       "1     1    10053"
      ]
     },
     "execution_count": 32,
     "metadata": {},
     "output_type": "execute_result"
    }
   ],
   "source": [
    "current_gc_odm.head(2)"
   ]
  },
  {
   "cell_type": "markdown",
   "metadata": {},
   "source": [
    "load in origin nodes"
   ]
  },
  {
   "cell_type": "code",
   "execution_count": 34,
   "metadata": {},
   "outputs": [],
   "source": [
    "current_allmkts = r'final_cxb_current_od_grid_All_markets.csv'\n",
    "current_growthcenters = r'final_cxb_current_od_grid_Growth_centers.csv'"
   ]
  },
  {
   "cell_type": "code",
   "execution_count": 35,
   "metadata": {},
   "outputs": [],
   "source": [
    "allm_od = pd.read_csv(os.path.join(res_pth,res_date,current_allmkts))\n",
    "gc_od = pd.read_csv(os.path.join(res_pth,res_date,current_growthcenters))"
   ]
  },
  {
   "cell_type": "code",
   "execution_count": 36,
   "metadata": {},
   "outputs": [
    {
     "data": {
      "text/html": [
       "<div>\n",
       "<style scoped>\n",
       "    .dataframe tbody tr th:only-of-type {\n",
       "        vertical-align: middle;\n",
       "    }\n",
       "\n",
       "    .dataframe tbody tr th {\n",
       "        vertical-align: top;\n",
       "    }\n",
       "\n",
       "    .dataframe thead th {\n",
       "        text-align: right;\n",
       "    }\n",
       "</style>\n",
       "<table border=\"1\" class=\"dataframe\">\n",
       "  <thead>\n",
       "    <tr style=\"text-align: right;\">\n",
       "      <th></th>\n",
       "      <th>O_ID</th>\n",
       "      <th>Unnamed: 0</th>\n",
       "      <th>VALUE</th>\n",
       "      <th>geometry</th>\n",
       "      <th>O_ID.1</th>\n",
       "      <th>walk_to_road_net</th>\n",
       "      <th>on_network_time</th>\n",
       "      <th>total_time_net</th>\n",
       "      <th>walk_time_direct</th>\n",
       "      <th>PLOT_TIME_SECS</th>\n",
       "      <th>PLOT_TIME_MINS</th>\n",
       "      <th>choice</th>\n",
       "    </tr>\n",
       "  </thead>\n",
       "  <tbody>\n",
       "    <tr>\n",
       "      <th>0</th>\n",
       "      <td>1916</td>\n",
       "      <td>0</td>\n",
       "      <td>20.187097</td>\n",
       "      <td>POINT (91.8750000000112 21.91583333332886)</td>\n",
       "      <td>1916</td>\n",
       "      <td>369.883438</td>\n",
       "      <td>679.087746</td>\n",
       "      <td>1048.971183</td>\n",
       "      <td>3514.279368</td>\n",
       "      <td>1048.971183</td>\n",
       "      <td>17.482853</td>\n",
       "      <td>net</td>\n",
       "    </tr>\n",
       "    <tr>\n",
       "      <th>1</th>\n",
       "      <td>2149</td>\n",
       "      <td>1</td>\n",
       "      <td>20.187097</td>\n",
       "      <td>POINT (91.86333333334434 21.91555555555108)</td>\n",
       "      <td>2149</td>\n",
       "      <td>25.753736</td>\n",
       "      <td>601.330535</td>\n",
       "      <td>627.084271</td>\n",
       "      <td>3231.074261</td>\n",
       "      <td>627.084271</td>\n",
       "      <td>10.451405</td>\n",
       "      <td>net</td>\n",
       "    </tr>\n",
       "  </tbody>\n",
       "</table>\n",
       "</div>"
      ],
      "text/plain": [
       "   O_ID  Unnamed: 0      VALUE                                     geometry  \\\n",
       "0  1916           0  20.187097   POINT (91.8750000000112 21.91583333332886)   \n",
       "1  2149           1  20.187097  POINT (91.86333333334434 21.91555555555108)   \n",
       "\n",
       "   O_ID.1  walk_to_road_net  on_network_time  total_time_net  \\\n",
       "0    1916        369.883438       679.087746     1048.971183   \n",
       "1    2149         25.753736       601.330535      627.084271   \n",
       "\n",
       "   walk_time_direct  PLOT_TIME_SECS  PLOT_TIME_MINS choice  \n",
       "0       3514.279368     1048.971183       17.482853    net  \n",
       "1       3231.074261      627.084271       10.451405    net  "
      ]
     },
     "execution_count": 36,
     "metadata": {},
     "output_type": "execute_result"
    }
   ],
   "source": [
    "gc_od.head(2)"
   ]
  },
  {
   "cell_type": "code",
   "execution_count": 37,
   "metadata": {},
   "outputs": [
    {
     "data": {
      "text/plain": [
       "106074"
      ]
     },
     "execution_count": 37,
     "metadata": {},
     "output_type": "execute_result"
    }
   ],
   "source": [
    "len(allm_od)"
   ]
  },
  {
   "cell_type": "code",
   "execution_count": 38,
   "metadata": {},
   "outputs": [],
   "source": [
    "allm_od = pd.merge(allm_od,current_allm_odm,how='left',on='O_ID')\n",
    "gc_od = pd.merge(gc_od,current_gc_odm,how='left',on='O_ID')"
   ]
  },
  {
   "cell_type": "code",
   "execution_count": 39,
   "metadata": {},
   "outputs": [
    {
     "data": {
      "text/plain": [
       "106074"
      ]
     },
     "execution_count": 39,
     "metadata": {},
     "output_type": "execute_result"
    }
   ],
   "source": [
    "len(gc_od)"
   ]
  },
  {
   "cell_type": "code",
   "execution_count": 40,
   "metadata": {},
   "outputs": [
    {
     "data": {
      "text/plain": [
       "150"
      ]
     },
     "execution_count": 40,
     "metadata": {},
     "output_type": "execute_result"
    }
   ],
   "source": [
    "len(list(set(allm_od['mkt_node'])))"
   ]
  },
  {
   "cell_type": "code",
   "execution_count": 41,
   "metadata": {},
   "outputs": [],
   "source": [
    "import numpy as np\n",
    "\n",
    "allm_od['mkt_pop'] = allm_od.groupby('mkt_node')['PLOT_TIME_MINS'].transform(np.sum) # mkt_pop not aggregating correctly\n",
    "gc_od['mkt_pop'] = gc_od.groupby('mkt_node')['PLOT_TIME_MINS'].transform(np.sum)\n",
    "\n",
    "allm_od['access_time_wtd_allm'] = (allm_od['PLOT_TIME_MINS'] * (allm_od['VALUE'] / allm_od['mkt_pop']))\n",
    "gc_od['access_time_wtd_gcs'] = (gc_od['PLOT_TIME_MINS'] * (gc_od['VALUE'] / gc_od['mkt_pop']))"
   ]
  },
  {
   "cell_type": "code",
   "execution_count": 42,
   "metadata": {},
   "outputs": [
    {
     "data": {
      "text/plain": [
       "38.08367437"
      ]
     },
     "execution_count": 42,
     "metadata": {},
     "output_type": "execute_result"
    }
   ],
   "source": [
    "np.sum(allm_od[allm_od['mkt_node'] == '7777']['access_time_wtd_allm'])"
   ]
  },
  {
   "cell_type": "code",
   "execution_count": 43,
   "metadata": {},
   "outputs": [],
   "source": [
    "allm_access = allm_od.groupby('mkt_node').agg(access_time_allm = ('access_time_wtd_allm',np.sum))\n",
    "gc_access = gc_od.groupby('mkt_node').agg(access_time_gc = ('access_time_wtd_gcs',np.sum),    ) "
   ]
  },
  {
   "cell_type": "markdown",
   "metadata": {},
   "source": [
    "### Loading in NN for each market"
   ]
  },
  {
   "cell_type": "code",
   "execution_count": 44,
   "metadata": {},
   "outputs": [],
   "source": [
    "allm_snap = pd.read_csv(os.path.join(res_pth,res_date,'All_markets_current_snapped.csv'))\n",
    "gc_snap = pd.read_csv(os.path.join(res_pth,res_date,'Growth_centers_current_snapped.csv'))"
   ]
  },
  {
   "cell_type": "code",
   "execution_count": 45,
   "metadata": {},
   "outputs": [],
   "source": [
    "allm_snap['NN'] = allm_snap['NN'].astype(str)\n",
    "gc_snap['NN'] = gc_snap['NN'].astype(str)"
   ]
  },
  {
   "cell_type": "code",
   "execution_count": 48,
   "metadata": {},
   "outputs": [
    {
     "data": {
      "text/html": [
       "<div>\n",
       "<style scoped>\n",
       "    .dataframe tbody tr th:only-of-type {\n",
       "        vertical-align: middle;\n",
       "    }\n",
       "\n",
       "    .dataframe tbody tr th {\n",
       "        vertical-align: top;\n",
       "    }\n",
       "\n",
       "    .dataframe thead th {\n",
       "        text-align: right;\n",
       "    }\n",
       "</style>\n",
       "<table border=\"1\" class=\"dataframe\">\n",
       "  <thead>\n",
       "    <tr style=\"text-align: right;\">\n",
       "      <th></th>\n",
       "      <th>Unnamed: 0</th>\n",
       "      <th>FID_</th>\n",
       "      <th>AREA</th>\n",
       "      <th>PERIMETER</th>\n",
       "      <th>TYPE</th>\n",
       "      <th>NAME_WS</th>\n",
       "      <th>ID_WS</th>\n",
       "      <th>Upa_name</th>\n",
       "      <th>SB_CODE</th>\n",
       "      <th>layer</th>\n",
       "      <th>path</th>\n",
       "      <th>geometry</th>\n",
       "      <th>NN</th>\n",
       "      <th>NN_dist</th>\n",
       "    </tr>\n",
       "  </thead>\n",
       "  <tbody>\n",
       "    <tr>\n",
       "      <th>0</th>\n",
       "      <td>0</td>\n",
       "      <td>0.0</td>\n",
       "      <td>0.0</td>\n",
       "      <td>0.0</td>\n",
       "      <td>70.0</td>\n",
       "      <td>Khutakhali Bazar</td>\n",
       "      <td>42216047</td>\n",
       "      <td>Chakoria</td>\n",
       "      <td>NaN</td>\n",
       "      <td>cxb_lged_gc_moved_4326</td>\n",
       "      <td>C:/Users/wb467985/Documents/Data/Bangladesh/CX...</td>\n",
       "      <td>POINT (92.0668513 21.6150622)</td>\n",
       "      <td>2733</td>\n",
       "      <td>0.000000</td>\n",
       "    </tr>\n",
       "    <tr>\n",
       "      <th>1</th>\n",
       "      <td>1</td>\n",
       "      <td>0.0</td>\n",
       "      <td>0.0</td>\n",
       "      <td>0.0</td>\n",
       "      <td>70.0</td>\n",
       "      <td>Manikpur Bazar</td>\n",
       "      <td>42216049</td>\n",
       "      <td>Chakoria</td>\n",
       "      <td>NaN</td>\n",
       "      <td>cxb_lged_gc_moved_4326</td>\n",
       "      <td>C:/Users/wb467985/Documents/Data/Bangladesh/CX...</td>\n",
       "      <td>POINT (92.14787184505889 21.75228261453107)</td>\n",
       "      <td>10444</td>\n",
       "      <td>65.287869</td>\n",
       "    </tr>\n",
       "  </tbody>\n",
       "</table>\n",
       "</div>"
      ],
      "text/plain": [
       "   Unnamed: 0  FID_  AREA  PERIMETER  TYPE           NAME_WS     ID_WS  \\\n",
       "0           0   0.0   0.0        0.0  70.0  Khutakhali Bazar  42216047   \n",
       "1           1   0.0   0.0        0.0  70.0    Manikpur Bazar  42216049   \n",
       "\n",
       "   Upa_name  SB_CODE                   layer  \\\n",
       "0  Chakoria      NaN  cxb_lged_gc_moved_4326   \n",
       "1  Chakoria      NaN  cxb_lged_gc_moved_4326   \n",
       "\n",
       "                                                path  \\\n",
       "0  C:/Users/wb467985/Documents/Data/Bangladesh/CX...   \n",
       "1  C:/Users/wb467985/Documents/Data/Bangladesh/CX...   \n",
       "\n",
       "                                      geometry     NN    NN_dist  \n",
       "0                POINT (92.0668513 21.6150622)   2733   0.000000  \n",
       "1  POINT (92.14787184505889 21.75228261453107)  10444  65.287869  "
      ]
     },
     "execution_count": 48,
     "metadata": {},
     "output_type": "execute_result"
    }
   ],
   "source": [
    "allm_snap.head(2)"
   ]
  },
  {
   "cell_type": "code",
   "execution_count": 49,
   "metadata": {},
   "outputs": [
    {
     "data": {
      "text/html": [
       "<div>\n",
       "<style scoped>\n",
       "    .dataframe tbody tr th:only-of-type {\n",
       "        vertical-align: middle;\n",
       "    }\n",
       "\n",
       "    .dataframe tbody tr th {\n",
       "        vertical-align: top;\n",
       "    }\n",
       "\n",
       "    .dataframe thead th {\n",
       "        text-align: right;\n",
       "    }\n",
       "</style>\n",
       "<table border=\"1\" class=\"dataframe\">\n",
       "  <thead>\n",
       "    <tr style=\"text-align: right;\">\n",
       "      <th></th>\n",
       "      <th>access_time_allm</th>\n",
       "    </tr>\n",
       "    <tr>\n",
       "      <th>mkt_node</th>\n",
       "      <th></th>\n",
       "    </tr>\n",
       "  </thead>\n",
       "  <tbody>\n",
       "    <tr>\n",
       "      <th>10020</th>\n",
       "      <td>30.783904</td>\n",
       "    </tr>\n",
       "    <tr>\n",
       "      <th>10023</th>\n",
       "      <td>35.005145</td>\n",
       "    </tr>\n",
       "  </tbody>\n",
       "</table>\n",
       "</div>"
      ],
      "text/plain": [
       "          access_time_allm\n",
       "mkt_node                  \n",
       "10020            30.783904\n",
       "10023            35.005145"
      ]
     },
     "execution_count": 49,
     "metadata": {},
     "output_type": "execute_result"
    }
   ],
   "source": [
    "allm_access.head(2)"
   ]
  },
  {
   "cell_type": "code",
   "execution_count": 50,
   "metadata": {},
   "outputs": [],
   "source": [
    "allm_snap = pd.merge(allm_snap,allm_access,how='left',left_on='NN',right_on='mkt_node')\n",
    "gc_snap = pd.merge(gc_snap,gc_access,how='left',left_on='NN',right_on='mkt_node')"
   ]
  },
  {
   "cell_type": "code",
   "execution_count": 51,
   "metadata": {},
   "outputs": [],
   "source": [
    "allm_snap['ID_WS'] = allm_snap['ID_WS'].astype(int).astype(str)\n",
    "gc_snap['ID_WS'] = gc_snap['ID_WS'].astype(int).astype(str)\n",
    "allm['ID_WS'] = allm['ID_WS'].astype(int).astype(str)\n",
    "gcs['ID_WS'] = gcs['ID_WS'].astype(int).astype(str)"
   ]
  },
  {
   "cell_type": "code",
   "execution_count": 52,
   "metadata": {},
   "outputs": [],
   "source": [
    "allm_snap = allm_snap.drop_duplicates(subset='ID_WS',keep='first')\n",
    "gc_snap = gc_snap.drop_duplicates(subset='ID_WS',keep='first')"
   ]
  },
  {
   "cell_type": "markdown",
   "metadata": {},
   "source": [
    "join the files"
   ]
  },
  {
   "cell_type": "code",
   "execution_count": 58,
   "metadata": {},
   "outputs": [],
   "source": [
    "allm = pd.merge(allm,allm_snap[['NAME_WS','ID_WS','NN','access_time_allm']],how='left',on=['NAME_WS','ID_WS'])\n",
    "gcs = pd.merge(gcs,gc_snap[['NAME_WS','ID_WS','NN','access_time_gc']],how='left',on=['NAME_WS','ID_WS'])"
   ]
  },
  {
   "cell_type": "code",
   "execution_count": 59,
   "metadata": {},
   "outputs": [],
   "source": [
    "allm = allm.drop_duplicates(subset='ID_WS',keep='first')\n",
    "gcs = gcs.drop_duplicates(subset='ID_WS',keep='first')"
   ]
  },
  {
   "cell_type": "markdown",
   "metadata": {},
   "source": [
    "Export"
   ]
  },
  {
   "cell_type": "code",
   "execution_count": 61,
   "metadata": {},
   "outputs": [],
   "source": [
    "# tabular\n",
    "\n",
    "# allm.to_csv('results/tables/all_markets_access.csv')\n",
    "# gcs.to_csv('results/tables/growth_centers_access.csv')"
   ]
  },
  {
   "cell_type": "code",
   "execution_count": 62,
   "metadata": {},
   "outputs": [],
   "source": [
    "# spatial\n",
    "\n",
    "allm.to_file('results/spatial/all_markets_complete.geojson',driver=\"GeoJSON\")\n",
    "gcs.to_file('results/spatial/growth_centers_complete.geojson',driver=\"GeoJSON\")\n",
    "\n",
    "# allm.to_file('results/spatial/markets_and_firms.gpkg',layer='all_markets',driver=\"GPKG\")\n",
    "# gcs.to_file('results/spatial/markets_and_firms.gpkg',layer='growth_centers',driver=\"GPKG\")"
   ]
  },
  {
   "cell_type": "markdown",
   "metadata": {},
   "source": [
    "## Gravity modeling"
   ]
  },
  {
   "cell_type": "markdown",
   "metadata": {},
   "source": [
    "#### Scale markets by population"
   ]
  },
  {
   "cell_type": "markdown",
   "metadata": {},
   "source": [
    "Load in and join data. We ended up only using growth centers but this could easily be adapted to \"all markets\""
   ]
  },
  {
   "cell_type": "markdown",
   "metadata": {},
   "source": [
    "The \"current\" and \"ua\" labels denote data according to \"current\" and \"upgrade all\" transportation investment scenarios"
   ]
  },
  {
   "cell_type": "code",
   "execution_count": 108,
   "metadata": {},
   "outputs": [],
   "source": [
    "# allm = gpd.read_file('results/spatial/all_markets_complete.geojson')\n",
    "gcs = gpd.read_file('results/spatial/growth_centers_complete.geojson')\n",
    "adm4 = gpd.read_file(\"results/spatial/adm4_firms.shp\")"
   ]
  },
  {
   "cell_type": "code",
   "execution_count": 109,
   "metadata": {},
   "outputs": [],
   "source": [
    "# am_pop = gpd.read_file(os.path.join(geo_pth,'Economic/CXB_Markets.gpkg'),layer='all_cxb_markets_32646')\n",
    "gc_pop = gpd.read_file(os.path.join(geo_pth,'Economic/CXB_Markets.gpkg'),layer='all_cxb_GCs_32646')"
   ]
  },
  {
   "cell_type": "code",
   "execution_count": 110,
   "metadata": {},
   "outputs": [],
   "source": [
    "# am_pop.ID_WS = am_pop.ID_WS.astype(int).astype(str)\n",
    "gc_pop.ID_WS = gc_pop.ID_WS.astype(int).astype(str)"
   ]
  },
  {
   "cell_type": "code",
   "execution_count": 111,
   "metadata": {},
   "outputs": [],
   "source": [
    "# allm = pd.merge(allm,am_pop[['ID_WS','1km_pop','500m_pop']],how='left',on='ID_WS')\n",
    "gcs = pd.merge(gcs,gc_pop[['ID_WS','1km_pop','500m_pop']],how='left',on='ID_WS')"
   ]
  },
  {
   "cell_type": "markdown",
   "metadata": {},
   "source": [
    "Check IDs for use in gravity modeling"
   ]
  },
  {
   "cell_type": "code",
   "execution_count": 112,
   "metadata": {},
   "outputs": [],
   "source": [
    "# pd.set_option('max_columns',None)"
   ]
  },
  {
   "cell_type": "code",
   "execution_count": 113,
   "metadata": {},
   "outputs": [
    {
     "data": {
      "text/html": [
       "<div>\n",
       "<style scoped>\n",
       "    .dataframe tbody tr th:only-of-type {\n",
       "        vertical-align: middle;\n",
       "    }\n",
       "\n",
       "    .dataframe tbody tr th {\n",
       "        vertical-align: top;\n",
       "    }\n",
       "\n",
       "    .dataframe thead th {\n",
       "        text-align: right;\n",
       "    }\n",
       "</style>\n",
       "<table border=\"1\" class=\"dataframe\">\n",
       "  <thead>\n",
       "    <tr style=\"text-align: right;\">\n",
       "      <th></th>\n",
       "      <th>FID_</th>\n",
       "      <th>AREA</th>\n",
       "      <th>PERIMETER</th>\n",
       "      <th>TYPE</th>\n",
       "      <th>NAME_WS</th>\n",
       "      <th>ID_WS</th>\n",
       "      <th>Upa_name</th>\n",
       "      <th>index_right</th>\n",
       "      <th>index</th>\n",
       "      <th>Shape_Leng</th>\n",
       "      <th>...</th>\n",
       "      <th>bad_jobs_tot_ind</th>\n",
       "      <th>good_jobs_fsize_4</th>\n",
       "      <th>bad_jobs_fsize_4</th>\n",
       "      <th>good_jobs_fsize_5</th>\n",
       "      <th>bad_jobs_fsize_5</th>\n",
       "      <th>NN</th>\n",
       "      <th>access_time_gc</th>\n",
       "      <th>geometry</th>\n",
       "      <th>1km_pop</th>\n",
       "      <th>500m_pop</th>\n",
       "    </tr>\n",
       "  </thead>\n",
       "  <tbody>\n",
       "    <tr>\n",
       "      <th>0</th>\n",
       "      <td>0.0</td>\n",
       "      <td>0.0</td>\n",
       "      <td>0.0</td>\n",
       "      <td>70.0</td>\n",
       "      <td>Khutakhali Bazar</td>\n",
       "      <td>42216047</td>\n",
       "      <td>Chakoria</td>\n",
       "      <td>42</td>\n",
       "      <td>2756</td>\n",
       "      <td>0.586368</td>\n",
       "      <td>...</td>\n",
       "      <td>32.0</td>\n",
       "      <td>1410.0</td>\n",
       "      <td>16.0</td>\n",
       "      <td>100.0</td>\n",
       "      <td>16.0</td>\n",
       "      <td>2733</td>\n",
       "      <td>28.429473</td>\n",
       "      <td>POINT (92.06685 21.61506)</td>\n",
       "      <td>8632</td>\n",
       "      <td>3988</td>\n",
       "    </tr>\n",
       "    <tr>\n",
       "      <th>1</th>\n",
       "      <td>0.0</td>\n",
       "      <td>0.0</td>\n",
       "      <td>0.0</td>\n",
       "      <td>70.0</td>\n",
       "      <td>Manikpur Bazar</td>\n",
       "      <td>42216049</td>\n",
       "      <td>Chakoria</td>\n",
       "      <td>68</td>\n",
       "      <td>4614</td>\n",
       "      <td>0.291419</td>\n",
       "      <td>...</td>\n",
       "      <td>9.0</td>\n",
       "      <td>78.0</td>\n",
       "      <td>10.0</td>\n",
       "      <td>36.0</td>\n",
       "      <td>0.0</td>\n",
       "      <td>10444</td>\n",
       "      <td>24.981090</td>\n",
       "      <td>POINT (92.14787 21.75228)</td>\n",
       "      <td>2928</td>\n",
       "      <td>1716</td>\n",
       "    </tr>\n",
       "  </tbody>\n",
       "</table>\n",
       "<p>2 rows × 332 columns</p>\n",
       "</div>"
      ],
      "text/plain": [
       "   FID_  AREA  PERIMETER  TYPE           NAME_WS     ID_WS  Upa_name  \\\n",
       "0   0.0   0.0        0.0  70.0  Khutakhali Bazar  42216047  Chakoria   \n",
       "1   0.0   0.0        0.0  70.0    Manikpur Bazar  42216049  Chakoria   \n",
       "\n",
       "   index_right  index  Shape_Leng  ...  bad_jobs_tot_ind good_jobs_fsize_4  \\\n",
       "0           42   2756    0.586368  ...              32.0            1410.0   \n",
       "1           68   4614    0.291419  ...               9.0              78.0   \n",
       "\n",
       "  bad_jobs_fsize_4 good_jobs_fsize_5 bad_jobs_fsize_5     NN access_time_gc  \\\n",
       "0             16.0             100.0             16.0   2733      28.429473   \n",
       "1             10.0              36.0              0.0  10444      24.981090   \n",
       "\n",
       "                    geometry 1km_pop 500m_pop  \n",
       "0  POINT (92.06685 21.61506)    8632     3988  \n",
       "1  POINT (92.14787 21.75228)    2928     1716  \n",
       "\n",
       "[2 rows x 332 columns]"
      ]
     },
     "execution_count": 113,
     "metadata": {},
     "output_type": "execute_result"
    }
   ],
   "source": [
    "gcs.head(2)"
   ]
  },
  {
   "cell_type": "markdown",
   "metadata": {},
   "source": [
    "##### Prepare OD files"
   ]
  },
  {
   "cell_type": "code",
   "execution_count": 114,
   "metadata": {},
   "outputs": [],
   "source": [
    "current_gc_odm = pd.read_csv(os.path.join(res_pth,res_date,'OD_matrix_current_NN_Growth_centers.csv'))\n",
    "ua_gc_odm = pd.read_csv(os.path.join(res_pth,res_date,'OD_matrix_upgrade_all_NN_Growth_centers.csv'))"
   ]
  },
  {
   "cell_type": "code",
   "execution_count": 115,
   "metadata": {},
   "outputs": [],
   "source": [
    "current_orig_gc = pd.read_csv(os.path.join(res_pth,res_date,'final_cxb_current_od_grid_Growth_centers.csv'))\n",
    "ua_orig_gc = pd.read_csv(os.path.join(res_pth,res_date,'final_cxb_upgrade_all_od_grid_Growth_centers.csv'))"
   ]
  },
  {
   "cell_type": "markdown",
   "metadata": {},
   "source": [
    "Load in origin files, group population figures by origin node for weighting"
   ]
  },
  {
   "cell_type": "code",
   "execution_count": 116,
   "metadata": {},
   "outputs": [],
   "source": [
    "# current_orig_gc.O_ID.value_counts()"
   ]
  },
  {
   "cell_type": "code",
   "execution_count": 117,
   "metadata": {},
   "outputs": [
    {
     "data": {
      "text/html": [
       "<div>\n",
       "<style scoped>\n",
       "    .dataframe tbody tr th:only-of-type {\n",
       "        vertical-align: middle;\n",
       "    }\n",
       "\n",
       "    .dataframe tbody tr th {\n",
       "        vertical-align: top;\n",
       "    }\n",
       "\n",
       "    .dataframe thead th {\n",
       "        text-align: right;\n",
       "    }\n",
       "</style>\n",
       "<table border=\"1\" class=\"dataframe\">\n",
       "  <thead>\n",
       "    <tr style=\"text-align: right;\">\n",
       "      <th></th>\n",
       "      <th>O_ID</th>\n",
       "      <th>Unnamed: 0</th>\n",
       "      <th>VALUE</th>\n",
       "      <th>geometry</th>\n",
       "      <th>O_ID.1</th>\n",
       "      <th>walk_to_road_net</th>\n",
       "      <th>on_network_time</th>\n",
       "      <th>total_time_net</th>\n",
       "      <th>walk_time_direct</th>\n",
       "      <th>PLOT_TIME_SECS</th>\n",
       "      <th>PLOT_TIME_MINS</th>\n",
       "      <th>choice</th>\n",
       "    </tr>\n",
       "  </thead>\n",
       "  <tbody>\n",
       "    <tr>\n",
       "      <th>0</th>\n",
       "      <td>1916</td>\n",
       "      <td>0</td>\n",
       "      <td>20.187097</td>\n",
       "      <td>POINT (91.8750000000112 21.91583333332886)</td>\n",
       "      <td>1916</td>\n",
       "      <td>369.883438</td>\n",
       "      <td>679.087746</td>\n",
       "      <td>1048.971183</td>\n",
       "      <td>3514.279368</td>\n",
       "      <td>1048.971183</td>\n",
       "      <td>17.482853</td>\n",
       "      <td>net</td>\n",
       "    </tr>\n",
       "    <tr>\n",
       "      <th>1</th>\n",
       "      <td>2149</td>\n",
       "      <td>1</td>\n",
       "      <td>20.187097</td>\n",
       "      <td>POINT (91.86333333334434 21.91555555555108)</td>\n",
       "      <td>2149</td>\n",
       "      <td>25.753736</td>\n",
       "      <td>601.330535</td>\n",
       "      <td>627.084271</td>\n",
       "      <td>3231.074261</td>\n",
       "      <td>627.084271</td>\n",
       "      <td>10.451405</td>\n",
       "      <td>net</td>\n",
       "    </tr>\n",
       "  </tbody>\n",
       "</table>\n",
       "</div>"
      ],
      "text/plain": [
       "   O_ID  Unnamed: 0      VALUE                                     geometry  \\\n",
       "0  1916           0  20.187097   POINT (91.8750000000112 21.91583333332886)   \n",
       "1  2149           1  20.187097  POINT (91.86333333334434 21.91555555555108)   \n",
       "\n",
       "   O_ID.1  walk_to_road_net  on_network_time  total_time_net  \\\n",
       "0    1916        369.883438       679.087746     1048.971183   \n",
       "1    2149         25.753736       601.330535      627.084271   \n",
       "\n",
       "   walk_time_direct  PLOT_TIME_SECS  PLOT_TIME_MINS choice  \n",
       "0       3514.279368     1048.971183       17.482853    net  \n",
       "1       3231.074261      627.084271       10.451405    net  "
      ]
     },
     "execution_count": 117,
     "metadata": {},
     "output_type": "execute_result"
    }
   ],
   "source": [
    "current_orig_gc.head(2)"
   ]
  },
  {
   "cell_type": "markdown",
   "metadata": {},
   "source": [
    "Summarize origin populations by origin node, to enable appropriate population weighting"
   ]
  },
  {
   "cell_type": "code",
   "execution_count": 118,
   "metadata": {},
   "outputs": [],
   "source": [
    "cur_orig_grp = pd.pivot_table(current_orig_gc,values='VALUE',index='O_ID',aggfunc='sum').rename(columns={'VALUE' : 'Pop'}).reset_index()\n",
    "ua_orig_grp = pd.pivot_table(ua_orig_gc,values='VALUE',index='O_ID',aggfunc='sum').rename(columns={'VALUE' : 'Pop'}).reset_index()"
   ]
  },
  {
   "cell_type": "code",
   "execution_count": 119,
   "metadata": {},
   "outputs": [
    {
     "data": {
      "text/html": [
       "<div>\n",
       "<style scoped>\n",
       "    .dataframe tbody tr th:only-of-type {\n",
       "        vertical-align: middle;\n",
       "    }\n",
       "\n",
       "    .dataframe tbody tr th {\n",
       "        vertical-align: top;\n",
       "    }\n",
       "\n",
       "    .dataframe thead th {\n",
       "        text-align: right;\n",
       "    }\n",
       "</style>\n",
       "<table border=\"1\" class=\"dataframe\">\n",
       "  <thead>\n",
       "    <tr style=\"text-align: right;\">\n",
       "      <th></th>\n",
       "      <th>O_ID</th>\n",
       "      <th>Pop</th>\n",
       "    </tr>\n",
       "  </thead>\n",
       "  <tbody>\n",
       "    <tr>\n",
       "      <th>0</th>\n",
       "      <td>1</td>\n",
       "      <td>31.045279</td>\n",
       "    </tr>\n",
       "    <tr>\n",
       "      <th>1</th>\n",
       "      <td>4</td>\n",
       "      <td>114.251023</td>\n",
       "    </tr>\n",
       "    <tr>\n",
       "      <th>2</th>\n",
       "      <td>5</td>\n",
       "      <td>217.316955</td>\n",
       "    </tr>\n",
       "    <tr>\n",
       "      <th>3</th>\n",
       "      <td>7</td>\n",
       "      <td>132.310104</td>\n",
       "    </tr>\n",
       "    <tr>\n",
       "      <th>4</th>\n",
       "      <td>8</td>\n",
       "      <td>211.696166</td>\n",
       "    </tr>\n",
       "    <tr>\n",
       "      <th>...</th>\n",
       "      <td>...</td>\n",
       "      <td>...</td>\n",
       "    </tr>\n",
       "    <tr>\n",
       "      <th>4854</th>\n",
       "      <td>10564</td>\n",
       "      <td>246.591100</td>\n",
       "    </tr>\n",
       "    <tr>\n",
       "      <th>4855</th>\n",
       "      <td>10565</td>\n",
       "      <td>343.466175</td>\n",
       "    </tr>\n",
       "    <tr>\n",
       "      <th>4856</th>\n",
       "      <td>10566</td>\n",
       "      <td>141.309677</td>\n",
       "    </tr>\n",
       "    <tr>\n",
       "      <th>4857</th>\n",
       "      <td>10571</td>\n",
       "      <td>201.919993</td>\n",
       "    </tr>\n",
       "    <tr>\n",
       "      <th>4858</th>\n",
       "      <td>11151</td>\n",
       "      <td>933.879968</td>\n",
       "    </tr>\n",
       "  </tbody>\n",
       "</table>\n",
       "<p>4859 rows × 2 columns</p>\n",
       "</div>"
      ],
      "text/plain": [
       "       O_ID         Pop\n",
       "0         1   31.045279\n",
       "1         4  114.251023\n",
       "2         5  217.316955\n",
       "3         7  132.310104\n",
       "4         8  211.696166\n",
       "...     ...         ...\n",
       "4854  10564  246.591100\n",
       "4855  10565  343.466175\n",
       "4856  10566  141.309677\n",
       "4857  10571  201.919993\n",
       "4858  11151  933.879968\n",
       "\n",
       "[4859 rows x 2 columns]"
      ]
     },
     "execution_count": 119,
     "metadata": {},
     "output_type": "execute_result"
    }
   ],
   "source": [
    "cur_orig_grp"
   ]
  },
  {
   "cell_type": "markdown",
   "metadata": {},
   "source": [
    "##### Put the origins and destinations in alphanumeric order by node so that they line up and process correctly within the gravity model"
   ]
  },
  {
   "cell_type": "code",
   "execution_count": 120,
   "metadata": {},
   "outputs": [],
   "source": [
    "# function for sorting alphanumerically\n",
    "\n",
    "import re\n",
    "\n",
    "def sorted_nicely( l ): \n",
    "    \"\"\" Sort the given iterable in the way that humans expect.\"\"\" \n",
    "    convert = lambda text: int(text) if text.isdigit() else text \n",
    "    alphanum_key = lambda key: [ convert(c) for c in re.split('([0-9]+)', key) ] \n",
    "    return sorted(l, key = alphanum_key)"
   ]
  },
  {
   "cell_type": "code",
   "execution_count": 121,
   "metadata": {},
   "outputs": [],
   "source": [
    "# sort by O_IDs, then dest node IDs\n",
    "\n",
    "current_gc_odm = current_gc_odm.sort_values('Unnamed: 0').reindex(sorted_nicely(current_gc_odm.columns), axis=1)\n",
    "ua_gc_odm = ua_gc_odm.sort_values('Unnamed: 0').reindex(sorted_nicely(ua_gc_odm.columns), axis=1)\n",
    "\n",
    "# reset O_ID column to the front\n",
    "current_gc_odm = current_gc_odm[ ['Unnamed: 0'] + [ col for col in current_gc_odm.columns if col != 'Unnamed: 0' ] ]\n",
    "ua_gc_odm = ua_gc_odm[ ['Unnamed: 0'] + [ col for col in ua_gc_odm.columns if col != 'Unnamed: 0' ] ]\n",
    "\n",
    "# set the Dest_ID column back to index so the shape is the same as the dWeight shape\n",
    "current_gc_odm.set_index('Unnamed: 0',inplace=True)\n",
    "ua_gc_odm.set_index('Unnamed: 0',inplace=True)"
   ]
  },
  {
   "cell_type": "code",
   "execution_count": 122,
   "metadata": {},
   "outputs": [
    {
     "data": {
      "text/html": [
       "<div>\n",
       "<style scoped>\n",
       "    .dataframe tbody tr th:only-of-type {\n",
       "        vertical-align: middle;\n",
       "    }\n",
       "\n",
       "    .dataframe tbody tr th {\n",
       "        vertical-align: top;\n",
       "    }\n",
       "\n",
       "    .dataframe thead th {\n",
       "        text-align: right;\n",
       "    }\n",
       "</style>\n",
       "<table border=\"1\" class=\"dataframe\">\n",
       "  <thead>\n",
       "    <tr style=\"text-align: right;\">\n",
       "      <th></th>\n",
       "      <th>2733</th>\n",
       "      <th>3280</th>\n",
       "      <th>3308</th>\n",
       "      <th>3883</th>\n",
       "      <th>5181</th>\n",
       "      <th>5280</th>\n",
       "      <th>5911</th>\n",
       "      <th>6315</th>\n",
       "      <th>6462</th>\n",
       "      <th>7000</th>\n",
       "      <th>...</th>\n",
       "      <th>10135</th>\n",
       "      <th>10200</th>\n",
       "      <th>10224</th>\n",
       "      <th>10241</th>\n",
       "      <th>10256</th>\n",
       "      <th>10328</th>\n",
       "      <th>10444</th>\n",
       "      <th>10453</th>\n",
       "      <th>10560</th>\n",
       "      <th>10565</th>\n",
       "    </tr>\n",
       "    <tr>\n",
       "      <th>Unnamed: 0</th>\n",
       "      <th></th>\n",
       "      <th></th>\n",
       "      <th></th>\n",
       "      <th></th>\n",
       "      <th></th>\n",
       "      <th></th>\n",
       "      <th></th>\n",
       "      <th></th>\n",
       "      <th></th>\n",
       "      <th></th>\n",
       "      <th></th>\n",
       "      <th></th>\n",
       "      <th></th>\n",
       "      <th></th>\n",
       "      <th></th>\n",
       "      <th></th>\n",
       "      <th></th>\n",
       "      <th></th>\n",
       "      <th></th>\n",
       "      <th></th>\n",
       "      <th></th>\n",
       "    </tr>\n",
       "  </thead>\n",
       "  <tbody>\n",
       "    <tr>\n",
       "      <th>1</th>\n",
       "      <td>2272.300389</td>\n",
       "      <td>2186.708575</td>\n",
       "      <td>5827.317668</td>\n",
       "      <td>6249.088465</td>\n",
       "      <td>9294.650641</td>\n",
       "      <td>1117.720698</td>\n",
       "      <td>1792.546491</td>\n",
       "      <td>654.146921</td>\n",
       "      <td>6144.428620</td>\n",
       "      <td>5462.178512</td>\n",
       "      <td>...</td>\n",
       "      <td>852.318141</td>\n",
       "      <td>1604.182003</td>\n",
       "      <td>3223.906975</td>\n",
       "      <td>3610.553109</td>\n",
       "      <td>3886.534188</td>\n",
       "      <td>2618.145058</td>\n",
       "      <td>5763.307033</td>\n",
       "      <td>3358.367410</td>\n",
       "      <td>8511.363741</td>\n",
       "      <td>6218.706146</td>\n",
       "    </tr>\n",
       "    <tr>\n",
       "      <th>4</th>\n",
       "      <td>6021.506079</td>\n",
       "      <td>3094.212779</td>\n",
       "      <td>8489.007040</td>\n",
       "      <td>9649.593283</td>\n",
       "      <td>13043.856331</td>\n",
       "      <td>4866.926388</td>\n",
       "      <td>5541.752181</td>\n",
       "      <td>4567.196816</td>\n",
       "      <td>9893.634310</td>\n",
       "      <td>9211.384202</td>\n",
       "      <td>...</td>\n",
       "      <td>4765.368035</td>\n",
       "      <td>5517.231898</td>\n",
       "      <td>7136.956870</td>\n",
       "      <td>7523.603003</td>\n",
       "      <td>7799.584082</td>\n",
       "      <td>6367.350748</td>\n",
       "      <td>9512.512723</td>\n",
       "      <td>7107.573100</td>\n",
       "      <td>12260.569431</td>\n",
       "      <td>9967.911836</td>\n",
       "    </tr>\n",
       "    <tr>\n",
       "      <th>5</th>\n",
       "      <td>1763.970750</td>\n",
       "      <td>2947.451699</td>\n",
       "      <td>5564.426244</td>\n",
       "      <td>5740.758826</td>\n",
       "      <td>8786.321002</td>\n",
       "      <td>609.391059</td>\n",
       "      <td>1284.216853</td>\n",
       "      <td>1261.782415</td>\n",
       "      <td>5636.098981</td>\n",
       "      <td>4953.848873</td>\n",
       "      <td>...</td>\n",
       "      <td>1606.538956</td>\n",
       "      <td>2195.556781</td>\n",
       "      <td>3978.127790</td>\n",
       "      <td>4364.773924</td>\n",
       "      <td>4640.755003</td>\n",
       "      <td>2109.815420</td>\n",
       "      <td>5254.977395</td>\n",
       "      <td>2850.037771</td>\n",
       "      <td>8003.034102</td>\n",
       "      <td>5710.376507</td>\n",
       "    </tr>\n",
       "    <tr>\n",
       "      <th>7</th>\n",
       "      <td>4175.820728</td>\n",
       "      <td>1248.527429</td>\n",
       "      <td>6387.503549</td>\n",
       "      <td>7548.089791</td>\n",
       "      <td>11198.170980</td>\n",
       "      <td>3021.241037</td>\n",
       "      <td>3696.066831</td>\n",
       "      <td>2721.511465</td>\n",
       "      <td>8047.948959</td>\n",
       "      <td>7365.698851</td>\n",
       "      <td>...</td>\n",
       "      <td>2919.682684</td>\n",
       "      <td>3671.546547</td>\n",
       "      <td>5291.271519</td>\n",
       "      <td>5677.917653</td>\n",
       "      <td>5953.898731</td>\n",
       "      <td>4521.665398</td>\n",
       "      <td>7666.827373</td>\n",
       "      <td>5261.887749</td>\n",
       "      <td>10414.884080</td>\n",
       "      <td>8122.226485</td>\n",
       "    </tr>\n",
       "    <tr>\n",
       "      <th>8</th>\n",
       "      <td>3759.240518</td>\n",
       "      <td>1499.447769</td>\n",
       "      <td>5914.788022</td>\n",
       "      <td>7075.374265</td>\n",
       "      <td>10781.590771</td>\n",
       "      <td>2604.660828</td>\n",
       "      <td>3279.486621</td>\n",
       "      <td>2304.931256</td>\n",
       "      <td>7631.368750</td>\n",
       "      <td>6949.118642</td>\n",
       "      <td>...</td>\n",
       "      <td>2503.102475</td>\n",
       "      <td>3254.966338</td>\n",
       "      <td>4874.691310</td>\n",
       "      <td>5261.337443</td>\n",
       "      <td>5537.318522</td>\n",
       "      <td>4105.085188</td>\n",
       "      <td>7250.247163</td>\n",
       "      <td>4845.307539</td>\n",
       "      <td>9998.303871</td>\n",
       "      <td>7705.646275</td>\n",
       "    </tr>\n",
       "    <tr>\n",
       "      <th>...</th>\n",
       "      <td>...</td>\n",
       "      <td>...</td>\n",
       "      <td>...</td>\n",
       "      <td>...</td>\n",
       "      <td>...</td>\n",
       "      <td>...</td>\n",
       "      <td>...</td>\n",
       "      <td>...</td>\n",
       "      <td>...</td>\n",
       "      <td>...</td>\n",
       "      <td>...</td>\n",
       "      <td>...</td>\n",
       "      <td>...</td>\n",
       "      <td>...</td>\n",
       "      <td>...</td>\n",
       "      <td>...</td>\n",
       "      <td>...</td>\n",
       "      <td>...</td>\n",
       "      <td>...</td>\n",
       "      <td>...</td>\n",
       "      <td>...</td>\n",
       "    </tr>\n",
       "    <tr>\n",
       "      <th>10564</th>\n",
       "      <td>3334.002642</td>\n",
       "      <td>7230.287790</td>\n",
       "      <td>8686.490052</td>\n",
       "      <td>6540.649534</td>\n",
       "      <td>3688.347610</td>\n",
       "      <td>4488.582333</td>\n",
       "      <td>3813.756539</td>\n",
       "      <td>5544.618506</td>\n",
       "      <td>3654.585239</td>\n",
       "      <td>910.624762</td>\n",
       "      <td>...</td>\n",
       "      <td>5460.115292</td>\n",
       "      <td>4708.251429</td>\n",
       "      <td>5561.168233</td>\n",
       "      <td>5174.522099</td>\n",
       "      <td>4898.541020</td>\n",
       "      <td>2988.157972</td>\n",
       "      <td>4692.508499</td>\n",
       "      <td>2287.568875</td>\n",
       "      <td>2905.060710</td>\n",
       "      <td>612.403115</td>\n",
       "    </tr>\n",
       "    <tr>\n",
       "      <th>10565</th>\n",
       "      <td>3946.405757</td>\n",
       "      <td>7842.690905</td>\n",
       "      <td>9298.893167</td>\n",
       "      <td>7153.052649</td>\n",
       "      <td>3075.944495</td>\n",
       "      <td>5100.985448</td>\n",
       "      <td>4426.159654</td>\n",
       "      <td>6157.021621</td>\n",
       "      <td>4266.988354</td>\n",
       "      <td>1523.027877</td>\n",
       "      <td>...</td>\n",
       "      <td>6072.518407</td>\n",
       "      <td>5320.654545</td>\n",
       "      <td>6173.571348</td>\n",
       "      <td>5786.925214</td>\n",
       "      <td>5510.944135</td>\n",
       "      <td>3600.561087</td>\n",
       "      <td>5304.911614</td>\n",
       "      <td>2899.971990</td>\n",
       "      <td>2292.657595</td>\n",
       "      <td>0.000000</td>\n",
       "    </tr>\n",
       "    <tr>\n",
       "      <th>10566</th>\n",
       "      <td>6829.639736</td>\n",
       "      <td>10725.924883</td>\n",
       "      <td>12182.127146</td>\n",
       "      <td>10036.286627</td>\n",
       "      <td>1373.863283</td>\n",
       "      <td>7984.219426</td>\n",
       "      <td>7309.393633</td>\n",
       "      <td>9040.255599</td>\n",
       "      <td>7150.222332</td>\n",
       "      <td>4406.261855</td>\n",
       "      <td>...</td>\n",
       "      <td>8955.752386</td>\n",
       "      <td>8203.888523</td>\n",
       "      <td>9056.805326</td>\n",
       "      <td>8670.159193</td>\n",
       "      <td>8394.178114</td>\n",
       "      <td>6483.795066</td>\n",
       "      <td>8188.145592</td>\n",
       "      <td>5783.205969</td>\n",
       "      <td>590.576383</td>\n",
       "      <td>2883.233979</td>\n",
       "    </tr>\n",
       "    <tr>\n",
       "      <th>10571</th>\n",
       "      <td>2309.832147</td>\n",
       "      <td>6206.117295</td>\n",
       "      <td>7662.319557</td>\n",
       "      <td>5516.479039</td>\n",
       "      <td>6878.122865</td>\n",
       "      <td>3464.411838</td>\n",
       "      <td>2789.586045</td>\n",
       "      <td>4520.448011</td>\n",
       "      <td>4049.459591</td>\n",
       "      <td>3045.650736</td>\n",
       "      <td>...</td>\n",
       "      <td>4435.944798</td>\n",
       "      <td>3684.080935</td>\n",
       "      <td>5956.042585</td>\n",
       "      <td>5569.396451</td>\n",
       "      <td>5293.415372</td>\n",
       "      <td>1963.987478</td>\n",
       "      <td>3446.884453</td>\n",
       "      <td>1223.765126</td>\n",
       "      <td>6094.835965</td>\n",
       "      <td>3802.178369</td>\n",
       "    </tr>\n",
       "    <tr>\n",
       "      <th>11151</th>\n",
       "      <td>1654.225572</td>\n",
       "      <td>5550.510719</td>\n",
       "      <td>7006.712982</td>\n",
       "      <td>4860.872463</td>\n",
       "      <td>6222.516289</td>\n",
       "      <td>2808.805262</td>\n",
       "      <td>2133.979469</td>\n",
       "      <td>3864.841435</td>\n",
       "      <td>3393.853015</td>\n",
       "      <td>2390.044160</td>\n",
       "      <td>...</td>\n",
       "      <td>3780.338222</td>\n",
       "      <td>3028.474359</td>\n",
       "      <td>5300.436009</td>\n",
       "      <td>4913.789875</td>\n",
       "      <td>4637.808796</td>\n",
       "      <td>1308.380902</td>\n",
       "      <td>2791.277877</td>\n",
       "      <td>568.158551</td>\n",
       "      <td>5439.229389</td>\n",
       "      <td>3146.571794</td>\n",
       "    </tr>\n",
       "  </tbody>\n",
       "</table>\n",
       "<p>4859 rows × 34 columns</p>\n",
       "</div>"
      ],
      "text/plain": [
       "                   2733          3280          3308          3883  \\\n",
       "Unnamed: 0                                                          \n",
       "1           2272.300389   2186.708575   5827.317668   6249.088465   \n",
       "4           6021.506079   3094.212779   8489.007040   9649.593283   \n",
       "5           1763.970750   2947.451699   5564.426244   5740.758826   \n",
       "7           4175.820728   1248.527429   6387.503549   7548.089791   \n",
       "8           3759.240518   1499.447769   5914.788022   7075.374265   \n",
       "...                 ...           ...           ...           ...   \n",
       "10564       3334.002642   7230.287790   8686.490052   6540.649534   \n",
       "10565       3946.405757   7842.690905   9298.893167   7153.052649   \n",
       "10566       6829.639736  10725.924883  12182.127146  10036.286627   \n",
       "10571       2309.832147   6206.117295   7662.319557   5516.479039   \n",
       "11151       1654.225572   5550.510719   7006.712982   4860.872463   \n",
       "\n",
       "                    5181         5280         5911         6315         6462  \\\n",
       "Unnamed: 0                                                                     \n",
       "1            9294.650641  1117.720698  1792.546491   654.146921  6144.428620   \n",
       "4           13043.856331  4866.926388  5541.752181  4567.196816  9893.634310   \n",
       "5            8786.321002   609.391059  1284.216853  1261.782415  5636.098981   \n",
       "7           11198.170980  3021.241037  3696.066831  2721.511465  8047.948959   \n",
       "8           10781.590771  2604.660828  3279.486621  2304.931256  7631.368750   \n",
       "...                  ...          ...          ...          ...          ...   \n",
       "10564        3688.347610  4488.582333  3813.756539  5544.618506  3654.585239   \n",
       "10565        3075.944495  5100.985448  4426.159654  6157.021621  4266.988354   \n",
       "10566        1373.863283  7984.219426  7309.393633  9040.255599  7150.222332   \n",
       "10571        6878.122865  3464.411838  2789.586045  4520.448011  4049.459591   \n",
       "11151        6222.516289  2808.805262  2133.979469  3864.841435  3393.853015   \n",
       "\n",
       "                   7000  ...        10135        10200        10224  \\\n",
       "Unnamed: 0               ...                                          \n",
       "1           5462.178512  ...   852.318141  1604.182003  3223.906975   \n",
       "4           9211.384202  ...  4765.368035  5517.231898  7136.956870   \n",
       "5           4953.848873  ...  1606.538956  2195.556781  3978.127790   \n",
       "7           7365.698851  ...  2919.682684  3671.546547  5291.271519   \n",
       "8           6949.118642  ...  2503.102475  3254.966338  4874.691310   \n",
       "...                 ...  ...          ...          ...          ...   \n",
       "10564        910.624762  ...  5460.115292  4708.251429  5561.168233   \n",
       "10565       1523.027877  ...  6072.518407  5320.654545  6173.571348   \n",
       "10566       4406.261855  ...  8955.752386  8203.888523  9056.805326   \n",
       "10571       3045.650736  ...  4435.944798  3684.080935  5956.042585   \n",
       "11151       2390.044160  ...  3780.338222  3028.474359  5300.436009   \n",
       "\n",
       "                  10241        10256        10328        10444        10453  \\\n",
       "Unnamed: 0                                                                    \n",
       "1           3610.553109  3886.534188  2618.145058  5763.307033  3358.367410   \n",
       "4           7523.603003  7799.584082  6367.350748  9512.512723  7107.573100   \n",
       "5           4364.773924  4640.755003  2109.815420  5254.977395  2850.037771   \n",
       "7           5677.917653  5953.898731  4521.665398  7666.827373  5261.887749   \n",
       "8           5261.337443  5537.318522  4105.085188  7250.247163  4845.307539   \n",
       "...                 ...          ...          ...          ...          ...   \n",
       "10564       5174.522099  4898.541020  2988.157972  4692.508499  2287.568875   \n",
       "10565       5786.925214  5510.944135  3600.561087  5304.911614  2899.971990   \n",
       "10566       8670.159193  8394.178114  6483.795066  8188.145592  5783.205969   \n",
       "10571       5569.396451  5293.415372  1963.987478  3446.884453  1223.765126   \n",
       "11151       4913.789875  4637.808796  1308.380902  2791.277877   568.158551   \n",
       "\n",
       "                   10560        10565  \n",
       "Unnamed: 0                             \n",
       "1            8511.363741  6218.706146  \n",
       "4           12260.569431  9967.911836  \n",
       "5            8003.034102  5710.376507  \n",
       "7           10414.884080  8122.226485  \n",
       "8            9998.303871  7705.646275  \n",
       "...                  ...          ...  \n",
       "10564        2905.060710   612.403115  \n",
       "10565        2292.657595     0.000000  \n",
       "10566         590.576383  2883.233979  \n",
       "10571        6094.835965  3802.178369  \n",
       "11151        5439.229389  3146.571794  \n",
       "\n",
       "[4859 rows x 34 columns]"
      ]
     },
     "execution_count": 122,
     "metadata": {},
     "output_type": "execute_result"
    }
   ],
   "source": [
    "current_gc_odm"
   ]
  },
  {
   "cell_type": "code",
   "execution_count": 123,
   "metadata": {},
   "outputs": [
    {
     "data": {
      "text/html": [
       "<div>\n",
       "<style scoped>\n",
       "    .dataframe tbody tr th:only-of-type {\n",
       "        vertical-align: middle;\n",
       "    }\n",
       "\n",
       "    .dataframe tbody tr th {\n",
       "        vertical-align: top;\n",
       "    }\n",
       "\n",
       "    .dataframe thead th {\n",
       "        text-align: right;\n",
       "    }\n",
       "</style>\n",
       "<table border=\"1\" class=\"dataframe\">\n",
       "  <thead>\n",
       "    <tr style=\"text-align: right;\">\n",
       "      <th></th>\n",
       "      <th>2733</th>\n",
       "      <th>3280</th>\n",
       "      <th>3308</th>\n",
       "      <th>3883</th>\n",
       "      <th>5181</th>\n",
       "      <th>5280</th>\n",
       "      <th>5911</th>\n",
       "      <th>6315</th>\n",
       "      <th>6462</th>\n",
       "      <th>7000</th>\n",
       "      <th>...</th>\n",
       "      <th>10135</th>\n",
       "      <th>10200</th>\n",
       "      <th>10224</th>\n",
       "      <th>10241</th>\n",
       "      <th>10256</th>\n",
       "      <th>10328</th>\n",
       "      <th>10444</th>\n",
       "      <th>10453</th>\n",
       "      <th>10560</th>\n",
       "      <th>10565</th>\n",
       "    </tr>\n",
       "    <tr>\n",
       "      <th>Unnamed: 0</th>\n",
       "      <th></th>\n",
       "      <th></th>\n",
       "      <th></th>\n",
       "      <th></th>\n",
       "      <th></th>\n",
       "      <th></th>\n",
       "      <th></th>\n",
       "      <th></th>\n",
       "      <th></th>\n",
       "      <th></th>\n",
       "      <th></th>\n",
       "      <th></th>\n",
       "      <th></th>\n",
       "      <th></th>\n",
       "      <th></th>\n",
       "      <th></th>\n",
       "      <th></th>\n",
       "      <th></th>\n",
       "      <th></th>\n",
       "      <th></th>\n",
       "      <th></th>\n",
       "    </tr>\n",
       "  </thead>\n",
       "  <tbody>\n",
       "    <tr>\n",
       "      <th>1</th>\n",
       "      <td>2272.300389</td>\n",
       "      <td>1733.054532</td>\n",
       "      <td>5827.317668</td>\n",
       "      <td>6249.088465</td>\n",
       "      <td>9087.891376</td>\n",
       "      <td>1117.720698</td>\n",
       "      <td>1792.546491</td>\n",
       "      <td>654.146921</td>\n",
       "      <td>4835.894443</td>\n",
       "      <td>5255.419247</td>\n",
       "      <td>...</td>\n",
       "      <td>852.318141</td>\n",
       "      <td>1604.182003</td>\n",
       "      <td>1475.710189</td>\n",
       "      <td>1758.574475</td>\n",
       "      <td>1971.898411</td>\n",
       "      <td>2618.145058</td>\n",
       "      <td>5763.307033</td>\n",
       "      <td>3358.367410</td>\n",
       "      <td>8304.604476</td>\n",
       "      <td>6011.946881</td>\n",
       "    </tr>\n",
       "    <tr>\n",
       "      <th>4</th>\n",
       "      <td>5355.741805</td>\n",
       "      <td>2203.946211</td>\n",
       "      <td>7823.242767</td>\n",
       "      <td>8983.829009</td>\n",
       "      <td>12171.332792</td>\n",
       "      <td>4201.162114</td>\n",
       "      <td>4875.987908</td>\n",
       "      <td>3901.432542</td>\n",
       "      <td>7843.054291</td>\n",
       "      <td>8338.860663</td>\n",
       "      <td>...</td>\n",
       "      <td>4001.921375</td>\n",
       "      <td>4753.785238</td>\n",
       "      <td>4482.870037</td>\n",
       "      <td>4765.734324</td>\n",
       "      <td>4979.058260</td>\n",
       "      <td>5701.586475</td>\n",
       "      <td>8846.748450</td>\n",
       "      <td>6441.808826</td>\n",
       "      <td>11388.045892</td>\n",
       "      <td>9095.388297</td>\n",
       "    </tr>\n",
       "    <tr>\n",
       "      <th>5</th>\n",
       "      <td>1763.970750</td>\n",
       "      <td>2487.275347</td>\n",
       "      <td>5564.426244</td>\n",
       "      <td>5740.758826</td>\n",
       "      <td>8579.561737</td>\n",
       "      <td>609.391059</td>\n",
       "      <td>1284.216853</td>\n",
       "      <td>1261.782415</td>\n",
       "      <td>5150.066032</td>\n",
       "      <td>4747.089608</td>\n",
       "      <td>...</td>\n",
       "      <td>1606.538956</td>\n",
       "      <td>2195.556781</td>\n",
       "      <td>2229.931004</td>\n",
       "      <td>2512.795290</td>\n",
       "      <td>2726.119226</td>\n",
       "      <td>2109.815420</td>\n",
       "      <td>5254.977395</td>\n",
       "      <td>2850.037771</td>\n",
       "      <td>7796.274837</td>\n",
       "      <td>5503.617242</td>\n",
       "    </tr>\n",
       "    <tr>\n",
       "      <th>7</th>\n",
       "      <td>4046.910632</td>\n",
       "      <td>895.115037</td>\n",
       "      <td>6387.503549</td>\n",
       "      <td>7548.089791</td>\n",
       "      <td>10862.501619</td>\n",
       "      <td>2892.330941</td>\n",
       "      <td>3567.156735</td>\n",
       "      <td>2592.601369</td>\n",
       "      <td>6534.223118</td>\n",
       "      <td>7030.029490</td>\n",
       "      <td>...</td>\n",
       "      <td>2693.090202</td>\n",
       "      <td>3444.954065</td>\n",
       "      <td>3174.038864</td>\n",
       "      <td>3456.903150</td>\n",
       "      <td>3670.227086</td>\n",
       "      <td>4392.755301</td>\n",
       "      <td>7537.917276</td>\n",
       "      <td>5132.977653</td>\n",
       "      <td>10079.214719</td>\n",
       "      <td>7786.557124</td>\n",
       "    </tr>\n",
       "    <tr>\n",
       "      <th>8</th>\n",
       "      <td>3759.240518</td>\n",
       "      <td>1234.828634</td>\n",
       "      <td>5914.788022</td>\n",
       "      <td>7075.374265</td>\n",
       "      <td>10574.831506</td>\n",
       "      <td>2604.660828</td>\n",
       "      <td>3279.486621</td>\n",
       "      <td>2304.931256</td>\n",
       "      <td>6486.678777</td>\n",
       "      <td>6742.359377</td>\n",
       "      <td>...</td>\n",
       "      <td>2503.102475</td>\n",
       "      <td>3254.966338</td>\n",
       "      <td>3126.494523</td>\n",
       "      <td>3409.358809</td>\n",
       "      <td>3622.682746</td>\n",
       "      <td>4105.085188</td>\n",
       "      <td>7250.247163</td>\n",
       "      <td>4845.307539</td>\n",
       "      <td>9791.544606</td>\n",
       "      <td>7498.887010</td>\n",
       "    </tr>\n",
       "    <tr>\n",
       "      <th>...</th>\n",
       "      <td>...</td>\n",
       "      <td>...</td>\n",
       "      <td>...</td>\n",
       "      <td>...</td>\n",
       "      <td>...</td>\n",
       "      <td>...</td>\n",
       "      <td>...</td>\n",
       "      <td>...</td>\n",
       "      <td>...</td>\n",
       "      <td>...</td>\n",
       "      <td>...</td>\n",
       "      <td>...</td>\n",
       "      <td>...</td>\n",
       "      <td>...</td>\n",
       "      <td>...</td>\n",
       "      <td>...</td>\n",
       "      <td>...</td>\n",
       "      <td>...</td>\n",
       "      <td>...</td>\n",
       "      <td>...</td>\n",
       "      <td>...</td>\n",
       "    </tr>\n",
       "    <tr>\n",
       "      <th>10564</th>\n",
       "      <td>3127.243377</td>\n",
       "      <td>6563.352172</td>\n",
       "      <td>8479.730787</td>\n",
       "      <td>6333.890269</td>\n",
       "      <td>3688.347610</td>\n",
       "      <td>4281.823068</td>\n",
       "      <td>3606.997274</td>\n",
       "      <td>5337.859241</td>\n",
       "      <td>3375.311554</td>\n",
       "      <td>910.624762</td>\n",
       "      <td>...</td>\n",
       "      <td>5253.356027</td>\n",
       "      <td>4501.492164</td>\n",
       "      <td>4528.605300</td>\n",
       "      <td>4245.741013</td>\n",
       "      <td>4032.417077</td>\n",
       "      <td>2781.398707</td>\n",
       "      <td>4499.002383</td>\n",
       "      <td>2094.062759</td>\n",
       "      <td>2905.060710</td>\n",
       "      <td>612.403115</td>\n",
       "    </tr>\n",
       "    <tr>\n",
       "      <th>10565</th>\n",
       "      <td>3739.646492</td>\n",
       "      <td>7175.755287</td>\n",
       "      <td>9092.133902</td>\n",
       "      <td>6946.293384</td>\n",
       "      <td>3075.944495</td>\n",
       "      <td>4894.226183</td>\n",
       "      <td>4219.400389</td>\n",
       "      <td>5950.262356</td>\n",
       "      <td>3987.714669</td>\n",
       "      <td>1523.027877</td>\n",
       "      <td>...</td>\n",
       "      <td>5865.759142</td>\n",
       "      <td>5113.895279</td>\n",
       "      <td>5141.008415</td>\n",
       "      <td>4858.144128</td>\n",
       "      <td>4644.820192</td>\n",
       "      <td>3393.801822</td>\n",
       "      <td>5111.405498</td>\n",
       "      <td>2706.465874</td>\n",
       "      <td>2292.657595</td>\n",
       "      <td>0.000000</td>\n",
       "    </tr>\n",
       "    <tr>\n",
       "      <th>10566</th>\n",
       "      <td>6622.880471</td>\n",
       "      <td>10058.989266</td>\n",
       "      <td>11975.367881</td>\n",
       "      <td>9829.527362</td>\n",
       "      <td>1373.863283</td>\n",
       "      <td>7777.460161</td>\n",
       "      <td>7102.634368</td>\n",
       "      <td>8833.496334</td>\n",
       "      <td>6870.948648</td>\n",
       "      <td>4406.261855</td>\n",
       "      <td>...</td>\n",
       "      <td>8748.993121</td>\n",
       "      <td>7997.129258</td>\n",
       "      <td>8024.242393</td>\n",
       "      <td>7741.378107</td>\n",
       "      <td>7528.054171</td>\n",
       "      <td>6277.035801</td>\n",
       "      <td>7994.639477</td>\n",
       "      <td>5589.699853</td>\n",
       "      <td>590.576383</td>\n",
       "      <td>2883.233979</td>\n",
       "    </tr>\n",
       "    <tr>\n",
       "      <th>10571</th>\n",
       "      <td>2309.832147</td>\n",
       "      <td>5745.940943</td>\n",
       "      <td>7662.319557</td>\n",
       "      <td>5516.479039</td>\n",
       "      <td>6878.122865</td>\n",
       "      <td>3464.411838</td>\n",
       "      <td>2789.586045</td>\n",
       "      <td>4520.448011</td>\n",
       "      <td>3576.679791</td>\n",
       "      <td>3045.650736</td>\n",
       "      <td>...</td>\n",
       "      <td>4435.944798</td>\n",
       "      <td>3684.080935</td>\n",
       "      <td>4729.973536</td>\n",
       "      <td>4447.109250</td>\n",
       "      <td>4233.785314</td>\n",
       "      <td>1963.987478</td>\n",
       "      <td>3446.884453</td>\n",
       "      <td>1223.765126</td>\n",
       "      <td>6094.835965</td>\n",
       "      <td>3802.178369</td>\n",
       "    </tr>\n",
       "    <tr>\n",
       "      <th>11151</th>\n",
       "      <td>1654.225572</td>\n",
       "      <td>5090.334367</td>\n",
       "      <td>7006.712982</td>\n",
       "      <td>4860.872463</td>\n",
       "      <td>6222.516289</td>\n",
       "      <td>2808.805262</td>\n",
       "      <td>2133.979469</td>\n",
       "      <td>3864.841435</td>\n",
       "      <td>2921.073215</td>\n",
       "      <td>2390.044160</td>\n",
       "      <td>...</td>\n",
       "      <td>3780.338222</td>\n",
       "      <td>3028.474359</td>\n",
       "      <td>4074.366960</td>\n",
       "      <td>3791.502674</td>\n",
       "      <td>3578.178738</td>\n",
       "      <td>1308.380902</td>\n",
       "      <td>2791.277877</td>\n",
       "      <td>568.158551</td>\n",
       "      <td>5439.229389</td>\n",
       "      <td>3146.571794</td>\n",
       "    </tr>\n",
       "  </tbody>\n",
       "</table>\n",
       "<p>4859 rows × 34 columns</p>\n",
       "</div>"
      ],
      "text/plain": [
       "                   2733          3280          3308         3883  \\\n",
       "Unnamed: 0                                                         \n",
       "1           2272.300389   1733.054532   5827.317668  6249.088465   \n",
       "4           5355.741805   2203.946211   7823.242767  8983.829009   \n",
       "5           1763.970750   2487.275347   5564.426244  5740.758826   \n",
       "7           4046.910632    895.115037   6387.503549  7548.089791   \n",
       "8           3759.240518   1234.828634   5914.788022  7075.374265   \n",
       "...                 ...           ...           ...          ...   \n",
       "10564       3127.243377   6563.352172   8479.730787  6333.890269   \n",
       "10565       3739.646492   7175.755287   9092.133902  6946.293384   \n",
       "10566       6622.880471  10058.989266  11975.367881  9829.527362   \n",
       "10571       2309.832147   5745.940943   7662.319557  5516.479039   \n",
       "11151       1654.225572   5090.334367   7006.712982  4860.872463   \n",
       "\n",
       "                    5181         5280         5911         6315         6462  \\\n",
       "Unnamed: 0                                                                     \n",
       "1            9087.891376  1117.720698  1792.546491   654.146921  4835.894443   \n",
       "4           12171.332792  4201.162114  4875.987908  3901.432542  7843.054291   \n",
       "5            8579.561737   609.391059  1284.216853  1261.782415  5150.066032   \n",
       "7           10862.501619  2892.330941  3567.156735  2592.601369  6534.223118   \n",
       "8           10574.831506  2604.660828  3279.486621  2304.931256  6486.678777   \n",
       "...                  ...          ...          ...          ...          ...   \n",
       "10564        3688.347610  4281.823068  3606.997274  5337.859241  3375.311554   \n",
       "10565        3075.944495  4894.226183  4219.400389  5950.262356  3987.714669   \n",
       "10566        1373.863283  7777.460161  7102.634368  8833.496334  6870.948648   \n",
       "10571        6878.122865  3464.411838  2789.586045  4520.448011  3576.679791   \n",
       "11151        6222.516289  2808.805262  2133.979469  3864.841435  2921.073215   \n",
       "\n",
       "                   7000  ...        10135        10200        10224  \\\n",
       "Unnamed: 0               ...                                          \n",
       "1           5255.419247  ...   852.318141  1604.182003  1475.710189   \n",
       "4           8338.860663  ...  4001.921375  4753.785238  4482.870037   \n",
       "5           4747.089608  ...  1606.538956  2195.556781  2229.931004   \n",
       "7           7030.029490  ...  2693.090202  3444.954065  3174.038864   \n",
       "8           6742.359377  ...  2503.102475  3254.966338  3126.494523   \n",
       "...                 ...  ...          ...          ...          ...   \n",
       "10564        910.624762  ...  5253.356027  4501.492164  4528.605300   \n",
       "10565       1523.027877  ...  5865.759142  5113.895279  5141.008415   \n",
       "10566       4406.261855  ...  8748.993121  7997.129258  8024.242393   \n",
       "10571       3045.650736  ...  4435.944798  3684.080935  4729.973536   \n",
       "11151       2390.044160  ...  3780.338222  3028.474359  4074.366960   \n",
       "\n",
       "                  10241        10256        10328        10444        10453  \\\n",
       "Unnamed: 0                                                                    \n",
       "1           1758.574475  1971.898411  2618.145058  5763.307033  3358.367410   \n",
       "4           4765.734324  4979.058260  5701.586475  8846.748450  6441.808826   \n",
       "5           2512.795290  2726.119226  2109.815420  5254.977395  2850.037771   \n",
       "7           3456.903150  3670.227086  4392.755301  7537.917276  5132.977653   \n",
       "8           3409.358809  3622.682746  4105.085188  7250.247163  4845.307539   \n",
       "...                 ...          ...          ...          ...          ...   \n",
       "10564       4245.741013  4032.417077  2781.398707  4499.002383  2094.062759   \n",
       "10565       4858.144128  4644.820192  3393.801822  5111.405498  2706.465874   \n",
       "10566       7741.378107  7528.054171  6277.035801  7994.639477  5589.699853   \n",
       "10571       4447.109250  4233.785314  1963.987478  3446.884453  1223.765126   \n",
       "11151       3791.502674  3578.178738  1308.380902  2791.277877   568.158551   \n",
       "\n",
       "                   10560        10565  \n",
       "Unnamed: 0                             \n",
       "1            8304.604476  6011.946881  \n",
       "4           11388.045892  9095.388297  \n",
       "5            7796.274837  5503.617242  \n",
       "7           10079.214719  7786.557124  \n",
       "8            9791.544606  7498.887010  \n",
       "...                  ...          ...  \n",
       "10564        2905.060710   612.403115  \n",
       "10565        2292.657595     0.000000  \n",
       "10566         590.576383  2883.233979  \n",
       "10571        6094.835965  3802.178369  \n",
       "11151        5439.229389  3146.571794  \n",
       "\n",
       "[4859 rows x 34 columns]"
      ]
     },
     "execution_count": 123,
     "metadata": {},
     "output_type": "execute_result"
    }
   ],
   "source": [
    "ua_gc_odm"
   ]
  },
  {
   "cell_type": "markdown",
   "metadata": {},
   "source": [
    "Set an index on the NN, reindex by an alphanumerically sorted list of IDs, then reset_index to return the NNs to the data frame"
   ]
  },
  {
   "cell_type": "code",
   "execution_count": 124,
   "metadata": {},
   "outputs": [],
   "source": [
    "# allm = allm.set_index('NN').reindex(sorted_nicely(allm['NN'])).reset_index() # index, nodes are a bit messed up for the allm dataset\n",
    "gcs = gcs.set_index('NN').reindex(sorted_nicely(gcs['NN'])).reset_index()"
   ]
  },
  {
   "cell_type": "markdown",
   "metadata": {},
   "source": [
    "##### Georeference the origins files and spatial join admin files so they can be used for manipulation of gravity model data"
   ]
  },
  {
   "cell_type": "code",
   "execution_count": 125,
   "metadata": {},
   "outputs": [
    {
     "name": "stderr",
     "output_type": "stream",
     "text": [
      "C:\\Users\\wb467985\\.conda\\envs\\geo\\lib\\site-packages\\geopandas\\tools\\sjoin.py:61: UserWarning: CRS of frames being joined does not match!(None != epsg:4326)\n",
      "  \"(%s != %s)\" % (left_df.crs, right_df.crs)\n"
     ]
    }
   ],
   "source": [
    "current_orig_gc['geometry'] = current_orig_gc['geometry'].apply(wkt.loads)\n",
    "current_orig_gc = gpd.GeoDataFrame(current_orig_gc,geometry='geometry')\n",
    "current_orig_gc = gpd.sjoin(current_orig_gc,adm4[['geometry','ADM3_EN','ADM4_EN','ADM3_PCODE','ADM4_PCODE']],how='left',op='within')"
   ]
  },
  {
   "cell_type": "code",
   "execution_count": 126,
   "metadata": {},
   "outputs": [
    {
     "name": "stderr",
     "output_type": "stream",
     "text": [
      "C:\\Users\\wb467985\\.conda\\envs\\geo\\lib\\site-packages\\geopandas\\tools\\sjoin.py:61: UserWarning: CRS of frames being joined does not match!(None != epsg:4326)\n",
      "  \"(%s != %s)\" % (left_df.crs, right_df.crs)\n"
     ]
    }
   ],
   "source": [
    "ua_orig_gc['geometry'] = ua_orig_gc['geometry'].apply(wkt.loads)\n",
    "ua_orig_gc = gpd.GeoDataFrame(ua_orig_gc,geometry='geometry')\n",
    "ua_orig_gc = gpd.sjoin(ua_orig_gc,adm4[['geometry','ADM3_EN','ADM4_EN','ADM3_PCODE','ADM4_PCODE']],how='left',op='within')"
   ]
  },
  {
   "cell_type": "markdown",
   "metadata": {},
   "source": [
    "### Gravity models"
   ]
  },
  {
   "cell_type": "markdown",
   "metadata": {},
   "source": [
    "We implement gravity models for various scenarios and data points of interest. As per the charts, this is implemented in a for loop to allow quick production of bundles of data\n",
    "\n",
    "The data points are from the economic census and were manually joined to the growth centers in QGIS."
   ]
  },
  {
   "cell_type": "code",
   "execution_count": 127,
   "metadata": {},
   "outputs": [],
   "source": [
    "import GOSTnets.calculate_od_raw as calcOD"
   ]
  },
  {
   "cell_type": "markdown",
   "metadata": {},
   "source": [
    "Check out weighting options"
   ]
  },
  {
   "cell_type": "code",
   "execution_count": 128,
   "metadata": {},
   "outputs": [],
   "source": [
    "# calcOD.calculate_gravity?? # for looking at options"
   ]
  },
  {
   "cell_type": "markdown",
   "metadata": {},
   "source": [
    "#### Origins"
   ]
  },
  {
   "cell_type": "markdown",
   "metadata": {},
   "source": [
    "Select the weights to use"
   ]
  },
  {
   "cell_type": "code",
   "execution_count": 130,
   "metadata": {},
   "outputs": [],
   "source": [
    "gcs['good_jobs_4and5'] = gcs['good_jobs_fsize_4'] + gcs['good_jobs_fsize_5']\n",
    "gcs['bad_jobs_4and5'] = gcs['bad_jobs_fsize_4'] + gcs['bad_jobs_fsize_5']\n",
    "gcs['n_firms_4and5'] = gcs['number_firms_fsize_4'] + gcs['number_firms_fsize_5']\n",
    "gcs['tw_ser_4and5'] = gcs['total_workers_ser_4'] + gcs['total_workers_ser_5']\n",
    "gcs['tw_ind_4and5'] = gcs['total_workers_ind_4'] + gcs['total_workers_ind_5']\n",
    "gcs['tw_tot'] = gcs['total_workers_tot_']\n",
    "gcs['tw_tot_4and5'] = gcs['total_workers_fsize_4'] + gcs['total_workers_fsize_5']\n",
    "gcs['n_firms_tot'] = gcs['number_firms_tot_']\n",
    "gcs['no_weight'] = 1"
   ]
  },
  {
   "cell_type": "code",
   "execution_count": 131,
   "metadata": {},
   "outputs": [],
   "source": [
    "gm_weights = ['good_jobs_tot_','bad_jobs_tot_','good_jobs_4and5','bad_jobs_4and5','n_firms_4and5','n_firms_tot','tw_tot','tw_tot_4and5','tw_ser_4and5','tw_ind_4and5','no_weight']"
   ]
  },
  {
   "cell_type": "code",
   "execution_count": 132,
   "metadata": {},
   "outputs": [],
   "source": [
    "grav_models_dict = dict.fromkeys(gm_weights)"
   ]
  },
  {
   "cell_type": "markdown",
   "metadata": {},
   "source": [
    "##### Current"
   ]
  },
  {
   "cell_type": "markdown",
   "metadata": {},
   "source": [
    "Create a function to generate the gravity models and append them to a dictionary"
   ]
  },
  {
   "cell_type": "code",
   "execution_count": 135,
   "metadata": {},
   "outputs": [],
   "source": [
    "def grav_loop(orig_file,od_matrix,oW_df,dW):\n",
    "    orig_gravity = calcOD.calculate_gravity(np.array(od_matrix), oWeight=oW_df['Pop'], dWeight = dW)\n",
    "    orig_gravity['NN'] = oW_df['O_ID']\n",
    "    orig_gravity_gdf = pd.merge(orig_file, orig_gravity, how='left',left_on='O_ID',right_on='NN')\n",
    "\n",
    "    return orig_gravity_gdf"
   ]
  },
  {
   "cell_type": "markdown",
   "metadata": {},
   "source": [
    "Use the function to create gravity models for all the desired weights"
   ]
  },
  {
   "cell_type": "code",
   "execution_count": 136,
   "metadata": {},
   "outputs": [
    {
     "name": "stdout",
     "output_type": "stream",
     "text": [
      "good_jobs_tot_\n"
     ]
    },
    {
     "ename": "CPLE_AppDefinedError",
     "evalue": "b'sqlite3_exec(CREATE VIRTUAL TABLE \"rtree_gc_cur_good_jobs_tot__geom\" USING rtree(id, minx, maxx, miny, maxy)) failed: no such module: rtree'",
     "output_type": "error",
     "traceback": [
      "\u001b[1;31m---------------------------------------------------------------------------\u001b[0m",
      "\u001b[1;31mCPLE_AppDefinedError\u001b[0m                      Traceback (most recent call last)",
      "\u001b[1;32mfiona/_err.pyx\u001b[0m in \u001b[0;36mfiona._err.GDALErrCtxManager.__exit__\u001b[1;34m()\u001b[0m\n",
      "\u001b[1;31mCPLE_AppDefinedError\u001b[0m: b'sqlite3_exec(CREATE VIRTUAL TABLE \"rtree_gc_cur_good_jobs_tot__geom\" USING rtree(id, minx, maxx, miny, maxy)) failed: no such module: rtree'"
     ]
    },
    {
     "name": "stderr",
     "output_type": "stream",
     "text": [
      "Exception ignored in: 'fiona._shim.gdal_flush_cache'\n",
      "Traceback (most recent call last):\n",
      "  File \"fiona/_err.pyx\", line 201, in fiona._err.GDALErrCtxManager.__exit__\n",
      "fiona._err.CPLE_AppDefinedError: b'sqlite3_exec(CREATE VIRTUAL TABLE \"rtree_gc_cur_good_jobs_tot__geom\" USING rtree(id, minx, maxx, miny, maxy)) failed: no such module: rtree'\n"
     ]
    },
    {
     "name": "stdout",
     "output_type": "stream",
     "text": [
      "bad_jobs_tot_\n"
     ]
    },
    {
     "ename": "CPLE_AppDefinedError",
     "evalue": "b'sqlite3_exec(CREATE VIRTUAL TABLE \"rtree_gc_cur_bad_jobs_tot__geom\" USING rtree(id, minx, maxx, miny, maxy)) failed: no such module: rtree'",
     "output_type": "error",
     "traceback": [
      "\u001b[1;31m---------------------------------------------------------------------------\u001b[0m",
      "\u001b[1;31mCPLE_AppDefinedError\u001b[0m                      Traceback (most recent call last)",
      "\u001b[1;32mfiona/_err.pyx\u001b[0m in \u001b[0;36mfiona._err.GDALErrCtxManager.__exit__\u001b[1;34m()\u001b[0m\n",
      "\u001b[1;31mCPLE_AppDefinedError\u001b[0m: b'sqlite3_exec(CREATE VIRTUAL TABLE \"rtree_gc_cur_bad_jobs_tot__geom\" USING rtree(id, minx, maxx, miny, maxy)) failed: no such module: rtree'"
     ]
    },
    {
     "name": "stderr",
     "output_type": "stream",
     "text": [
      "Exception ignored in: 'fiona._shim.gdal_flush_cache'\n",
      "Traceback (most recent call last):\n",
      "  File \"fiona/_err.pyx\", line 201, in fiona._err.GDALErrCtxManager.__exit__\n",
      "fiona._err.CPLE_AppDefinedError: b'sqlite3_exec(CREATE VIRTUAL TABLE \"rtree_gc_cur_bad_jobs_tot__geom\" USING rtree(id, minx, maxx, miny, maxy)) failed: no such module: rtree'\n"
     ]
    },
    {
     "name": "stdout",
     "output_type": "stream",
     "text": [
      "good_jobs_4and5\n"
     ]
    },
    {
     "ename": "CPLE_AppDefinedError",
     "evalue": "b'sqlite3_exec(CREATE VIRTUAL TABLE \"rtree_gc_cur_good_jobs_4and5_geom\" USING rtree(id, minx, maxx, miny, maxy)) failed: no such module: rtree'",
     "output_type": "error",
     "traceback": [
      "\u001b[1;31m---------------------------------------------------------------------------\u001b[0m",
      "\u001b[1;31mCPLE_AppDefinedError\u001b[0m                      Traceback (most recent call last)",
      "\u001b[1;32mfiona/_err.pyx\u001b[0m in \u001b[0;36mfiona._err.GDALErrCtxManager.__exit__\u001b[1;34m()\u001b[0m\n",
      "\u001b[1;31mCPLE_AppDefinedError\u001b[0m: b'sqlite3_exec(CREATE VIRTUAL TABLE \"rtree_gc_cur_good_jobs_4and5_geom\" USING rtree(id, minx, maxx, miny, maxy)) failed: no such module: rtree'"
     ]
    },
    {
     "name": "stderr",
     "output_type": "stream",
     "text": [
      "Exception ignored in: 'fiona._shim.gdal_flush_cache'\n",
      "Traceback (most recent call last):\n",
      "  File \"fiona/_err.pyx\", line 201, in fiona._err.GDALErrCtxManager.__exit__\n",
      "fiona._err.CPLE_AppDefinedError: b'sqlite3_exec(CREATE VIRTUAL TABLE \"rtree_gc_cur_good_jobs_4and5_geom\" USING rtree(id, minx, maxx, miny, maxy)) failed: no such module: rtree'\n"
     ]
    },
    {
     "name": "stdout",
     "output_type": "stream",
     "text": [
      "bad_jobs_4and5\n"
     ]
    },
    {
     "ename": "CPLE_AppDefinedError",
     "evalue": "b'sqlite3_exec(CREATE VIRTUAL TABLE \"rtree_gc_cur_bad_jobs_4and5_geom\" USING rtree(id, minx, maxx, miny, maxy)) failed: no such module: rtree'",
     "output_type": "error",
     "traceback": [
      "\u001b[1;31m---------------------------------------------------------------------------\u001b[0m",
      "\u001b[1;31mCPLE_AppDefinedError\u001b[0m                      Traceback (most recent call last)",
      "\u001b[1;32mfiona/_err.pyx\u001b[0m in \u001b[0;36mfiona._err.GDALErrCtxManager.__exit__\u001b[1;34m()\u001b[0m\n",
      "\u001b[1;31mCPLE_AppDefinedError\u001b[0m: b'sqlite3_exec(CREATE VIRTUAL TABLE \"rtree_gc_cur_bad_jobs_4and5_geom\" USING rtree(id, minx, maxx, miny, maxy)) failed: no such module: rtree'"
     ]
    },
    {
     "name": "stderr",
     "output_type": "stream",
     "text": [
      "Exception ignored in: 'fiona._shim.gdal_flush_cache'\n",
      "Traceback (most recent call last):\n",
      "  File \"fiona/_err.pyx\", line 201, in fiona._err.GDALErrCtxManager.__exit__\n",
      "fiona._err.CPLE_AppDefinedError: b'sqlite3_exec(CREATE VIRTUAL TABLE \"rtree_gc_cur_bad_jobs_4and5_geom\" USING rtree(id, minx, maxx, miny, maxy)) failed: no such module: rtree'\n"
     ]
    },
    {
     "name": "stdout",
     "output_type": "stream",
     "text": [
      "n_firms_4and5\n"
     ]
    },
    {
     "ename": "CPLE_AppDefinedError",
     "evalue": "b'sqlite3_exec(CREATE VIRTUAL TABLE \"rtree_gc_cur_n_firms_4and5_geom\" USING rtree(id, minx, maxx, miny, maxy)) failed: no such module: rtree'",
     "output_type": "error",
     "traceback": [
      "\u001b[1;31m---------------------------------------------------------------------------\u001b[0m",
      "\u001b[1;31mCPLE_AppDefinedError\u001b[0m                      Traceback (most recent call last)",
      "\u001b[1;32mfiona/_err.pyx\u001b[0m in \u001b[0;36mfiona._err.GDALErrCtxManager.__exit__\u001b[1;34m()\u001b[0m\n",
      "\u001b[1;31mCPLE_AppDefinedError\u001b[0m: b'sqlite3_exec(CREATE VIRTUAL TABLE \"rtree_gc_cur_n_firms_4and5_geom\" USING rtree(id, minx, maxx, miny, maxy)) failed: no such module: rtree'"
     ]
    },
    {
     "name": "stderr",
     "output_type": "stream",
     "text": [
      "Exception ignored in: 'fiona._shim.gdal_flush_cache'\n",
      "Traceback (most recent call last):\n",
      "  File \"fiona/_err.pyx\", line 201, in fiona._err.GDALErrCtxManager.__exit__\n",
      "fiona._err.CPLE_AppDefinedError: b'sqlite3_exec(CREATE VIRTUAL TABLE \"rtree_gc_cur_n_firms_4and5_geom\" USING rtree(id, minx, maxx, miny, maxy)) failed: no such module: rtree'\n"
     ]
    },
    {
     "name": "stdout",
     "output_type": "stream",
     "text": [
      "n_firms_tot\n"
     ]
    },
    {
     "ename": "CPLE_AppDefinedError",
     "evalue": "b'sqlite3_exec(CREATE VIRTUAL TABLE \"rtree_gc_cur_n_firms_tot_geom\" USING rtree(id, minx, maxx, miny, maxy)) failed: no such module: rtree'",
     "output_type": "error",
     "traceback": [
      "\u001b[1;31m---------------------------------------------------------------------------\u001b[0m",
      "\u001b[1;31mCPLE_AppDefinedError\u001b[0m                      Traceback (most recent call last)",
      "\u001b[1;32mfiona/_err.pyx\u001b[0m in \u001b[0;36mfiona._err.GDALErrCtxManager.__exit__\u001b[1;34m()\u001b[0m\n",
      "\u001b[1;31mCPLE_AppDefinedError\u001b[0m: b'sqlite3_exec(CREATE VIRTUAL TABLE \"rtree_gc_cur_n_firms_tot_geom\" USING rtree(id, minx, maxx, miny, maxy)) failed: no such module: rtree'"
     ]
    },
    {
     "name": "stderr",
     "output_type": "stream",
     "text": [
      "Exception ignored in: 'fiona._shim.gdal_flush_cache'\n",
      "Traceback (most recent call last):\n",
      "  File \"fiona/_err.pyx\", line 201, in fiona._err.GDALErrCtxManager.__exit__\n",
      "fiona._err.CPLE_AppDefinedError: b'sqlite3_exec(CREATE VIRTUAL TABLE \"rtree_gc_cur_n_firms_tot_geom\" USING rtree(id, minx, maxx, miny, maxy)) failed: no such module: rtree'\n"
     ]
    },
    {
     "name": "stdout",
     "output_type": "stream",
     "text": [
      "tw_tot\n"
     ]
    },
    {
     "ename": "CPLE_AppDefinedError",
     "evalue": "b'sqlite3_exec(CREATE VIRTUAL TABLE \"rtree_gc_cur_tw_tot_geom\" USING rtree(id, minx, maxx, miny, maxy)) failed: no such module: rtree'",
     "output_type": "error",
     "traceback": [
      "\u001b[1;31m---------------------------------------------------------------------------\u001b[0m",
      "\u001b[1;31mCPLE_AppDefinedError\u001b[0m                      Traceback (most recent call last)",
      "\u001b[1;32mfiona/_err.pyx\u001b[0m in \u001b[0;36mfiona._err.GDALErrCtxManager.__exit__\u001b[1;34m()\u001b[0m\n",
      "\u001b[1;31mCPLE_AppDefinedError\u001b[0m: b'sqlite3_exec(CREATE VIRTUAL TABLE \"rtree_gc_cur_tw_tot_geom\" USING rtree(id, minx, maxx, miny, maxy)) failed: no such module: rtree'"
     ]
    },
    {
     "name": "stderr",
     "output_type": "stream",
     "text": [
      "Exception ignored in: 'fiona._shim.gdal_flush_cache'\n",
      "Traceback (most recent call last):\n",
      "  File \"fiona/_err.pyx\", line 201, in fiona._err.GDALErrCtxManager.__exit__\n",
      "fiona._err.CPLE_AppDefinedError: b'sqlite3_exec(CREATE VIRTUAL TABLE \"rtree_gc_cur_tw_tot_geom\" USING rtree(id, minx, maxx, miny, maxy)) failed: no such module: rtree'\n"
     ]
    },
    {
     "name": "stdout",
     "output_type": "stream",
     "text": [
      "tw_tot_4and5\n"
     ]
    },
    {
     "ename": "CPLE_AppDefinedError",
     "evalue": "b'sqlite3_exec(CREATE VIRTUAL TABLE \"rtree_gc_cur_tw_tot_4and5_geom\" USING rtree(id, minx, maxx, miny, maxy)) failed: no such module: rtree'",
     "output_type": "error",
     "traceback": [
      "\u001b[1;31m---------------------------------------------------------------------------\u001b[0m",
      "\u001b[1;31mCPLE_AppDefinedError\u001b[0m                      Traceback (most recent call last)",
      "\u001b[1;32mfiona/_err.pyx\u001b[0m in \u001b[0;36mfiona._err.GDALErrCtxManager.__exit__\u001b[1;34m()\u001b[0m\n",
      "\u001b[1;31mCPLE_AppDefinedError\u001b[0m: b'sqlite3_exec(CREATE VIRTUAL TABLE \"rtree_gc_cur_tw_tot_4and5_geom\" USING rtree(id, minx, maxx, miny, maxy)) failed: no such module: rtree'"
     ]
    },
    {
     "name": "stderr",
     "output_type": "stream",
     "text": [
      "Exception ignored in: 'fiona._shim.gdal_flush_cache'\n",
      "Traceback (most recent call last):\n",
      "  File \"fiona/_err.pyx\", line 201, in fiona._err.GDALErrCtxManager.__exit__\n",
      "fiona._err.CPLE_AppDefinedError: b'sqlite3_exec(CREATE VIRTUAL TABLE \"rtree_gc_cur_tw_tot_4and5_geom\" USING rtree(id, minx, maxx, miny, maxy)) failed: no such module: rtree'\n"
     ]
    },
    {
     "name": "stdout",
     "output_type": "stream",
     "text": [
      "tw_ser_4and5\n"
     ]
    },
    {
     "ename": "CPLE_AppDefinedError",
     "evalue": "b'sqlite3_exec(CREATE VIRTUAL TABLE \"rtree_gc_cur_tw_ser_4and5_geom\" USING rtree(id, minx, maxx, miny, maxy)) failed: no such module: rtree'",
     "output_type": "error",
     "traceback": [
      "\u001b[1;31m---------------------------------------------------------------------------\u001b[0m",
      "\u001b[1;31mCPLE_AppDefinedError\u001b[0m                      Traceback (most recent call last)",
      "\u001b[1;32mfiona/_err.pyx\u001b[0m in \u001b[0;36mfiona._err.GDALErrCtxManager.__exit__\u001b[1;34m()\u001b[0m\n",
      "\u001b[1;31mCPLE_AppDefinedError\u001b[0m: b'sqlite3_exec(CREATE VIRTUAL TABLE \"rtree_gc_cur_tw_ser_4and5_geom\" USING rtree(id, minx, maxx, miny, maxy)) failed: no such module: rtree'"
     ]
    },
    {
     "name": "stderr",
     "output_type": "stream",
     "text": [
      "Exception ignored in: 'fiona._shim.gdal_flush_cache'\n",
      "Traceback (most recent call last):\n",
      "  File \"fiona/_err.pyx\", line 201, in fiona._err.GDALErrCtxManager.__exit__\n",
      "fiona._err.CPLE_AppDefinedError: b'sqlite3_exec(CREATE VIRTUAL TABLE \"rtree_gc_cur_tw_ser_4and5_geom\" USING rtree(id, minx, maxx, miny, maxy)) failed: no such module: rtree'\n"
     ]
    },
    {
     "name": "stdout",
     "output_type": "stream",
     "text": [
      "tw_ind_4and5\n"
     ]
    },
    {
     "ename": "CPLE_AppDefinedError",
     "evalue": "b'sqlite3_exec(CREATE VIRTUAL TABLE \"rtree_gc_cur_tw_ind_4and5_geom\" USING rtree(id, minx, maxx, miny, maxy)) failed: no such module: rtree'",
     "output_type": "error",
     "traceback": [
      "\u001b[1;31m---------------------------------------------------------------------------\u001b[0m",
      "\u001b[1;31mCPLE_AppDefinedError\u001b[0m                      Traceback (most recent call last)",
      "\u001b[1;32mfiona/_err.pyx\u001b[0m in \u001b[0;36mfiona._err.GDALErrCtxManager.__exit__\u001b[1;34m()\u001b[0m\n",
      "\u001b[1;31mCPLE_AppDefinedError\u001b[0m: b'sqlite3_exec(CREATE VIRTUAL TABLE \"rtree_gc_cur_tw_ind_4and5_geom\" USING rtree(id, minx, maxx, miny, maxy)) failed: no such module: rtree'"
     ]
    },
    {
     "name": "stderr",
     "output_type": "stream",
     "text": [
      "Exception ignored in: 'fiona._shim.gdal_flush_cache'\n",
      "Traceback (most recent call last):\n",
      "  File \"fiona/_err.pyx\", line 201, in fiona._err.GDALErrCtxManager.__exit__\n",
      "fiona._err.CPLE_AppDefinedError: b'sqlite3_exec(CREATE VIRTUAL TABLE \"rtree_gc_cur_tw_ind_4and5_geom\" USING rtree(id, minx, maxx, miny, maxy)) failed: no such module: rtree'\n"
     ]
    },
    {
     "name": "stdout",
     "output_type": "stream",
     "text": [
      "no_weight\n"
     ]
    },
    {
     "ename": "CPLE_AppDefinedError",
     "evalue": "b'sqlite3_exec(CREATE VIRTUAL TABLE \"rtree_gc_cur_no_weight_geom\" USING rtree(id, minx, maxx, miny, maxy)) failed: no such module: rtree'",
     "output_type": "error",
     "traceback": [
      "\u001b[1;31m---------------------------------------------------------------------------\u001b[0m",
      "\u001b[1;31mCPLE_AppDefinedError\u001b[0m                      Traceback (most recent call last)",
      "\u001b[1;32mfiona/_err.pyx\u001b[0m in \u001b[0;36mfiona._err.GDALErrCtxManager.__exit__\u001b[1;34m()\u001b[0m\n",
      "\u001b[1;31mCPLE_AppDefinedError\u001b[0m: b'sqlite3_exec(CREATE VIRTUAL TABLE \"rtree_gc_cur_no_weight_geom\" USING rtree(id, minx, maxx, miny, maxy)) failed: no such module: rtree'"
     ]
    },
    {
     "name": "stderr",
     "output_type": "stream",
     "text": [
      "Exception ignored in: 'fiona._shim.gdal_flush_cache'\n",
      "Traceback (most recent call last):\n",
      "  File \"fiona/_err.pyx\", line 201, in fiona._err.GDALErrCtxManager.__exit__\n",
      "fiona._err.CPLE_AppDefinedError: b'sqlite3_exec(CREATE VIRTUAL TABLE \"rtree_gc_cur_no_weight_geom\" USING rtree(id, minx, maxx, miny, maxy)) failed: no such module: rtree'\n"
     ]
    }
   ],
   "source": [
    "for key, v in grav_models_dict.items():\n",
    "    \n",
    "    print(key)\n",
    "    \n",
    "    df = grav_loop(current_orig_gc,current_gc_odm,cur_orig_grp,gcs[key])\n",
    "    \n",
    "    gpkg_layername = 'gc_cur_' + key\n",
    "    df.to_file(os.path.join('results\\\\spatial\\\\gravity_models.gpkg'),layer=gpkg_layername,driver=\"GPKG\", ignore_errors=True)\n",
    "    \n",
    "    grav_models_dict[key] = df"
   ]
  },
  {
   "cell_type": "markdown",
   "metadata": {},
   "source": [
    "Aggregate the gravity models at the adm4 level, weighting by origin population"
   ]
  },
  {
   "cell_type": "code",
   "execution_count": 137,
   "metadata": {},
   "outputs": [
    {
     "name": "stdout",
     "output_type": "stream",
     "text": [
      "good_jobs_tot_\n",
      "bad_jobs_tot_\n",
      "good_jobs_4and5\n",
      "bad_jobs_4and5\n",
      "n_firms_4and5\n",
      "n_firms_tot\n",
      "tw_tot\n",
      "tw_tot_4and5\n",
      "tw_ser_4and5\n",
      "tw_ind_4and5\n",
      "no_weight\n"
     ]
    }
   ],
   "source": [
    "# iterate through the dict\n",
    "\n",
    "adm4_grav = adm4\n",
    "\n",
    "for key, layer in grav_models_dict.items():\n",
    "    \n",
    "    print(key)\n",
    "    \n",
    "    # weight index by population\n",
    "    \n",
    "    layer['adm4_pop'] = layer.groupby('ADM4_PCODE')['VALUE'].transform(np.sum)\n",
    "    \n",
    "    for col in layer.loc[:,'d_0.01':'d_1e-05']:\n",
    "        layer[col] = (layer[col] * (layer['VALUE'] / layer['adm4_pop']))\n",
    "    \n",
    "#     [ col * (layer['VALUE'].astype(float) / layer['adm4_pop'].astype(float)) for col in layer.loc[:,'d_0.01':'d_1e-05']] # failed atempt at list comprehension\n",
    "    \n",
    "    # aggregate weighted indices by union\n",
    "    \n",
    "    union = layer.loc[:,'ADM4_PCODE':'d_1e-05'].groupby('ADM4_PCODE').apply(lambda x: x.sum())\n",
    "    union.drop(columns='ADM4_PCODE',inplace=True)\n",
    "    union = union.add_prefix(key + '_cur_')\n",
    "    union.reset_index(inplace=True)\n",
    "    union['ADM4_PCODE'] = union['ADM4_PCODE'].astype(str)\n",
    "\n",
    "    # join to adm4 file\n",
    "\n",
    "    adm4_grav = pd.merge(adm4_grav,union,how='left',on=['ADM4_PCODE'])  "
   ]
  },
  {
   "cell_type": "markdown",
   "metadata": {},
   "source": [
    "##### All upgrades"
   ]
  },
  {
   "cell_type": "markdown",
   "metadata": {},
   "source": [
    "Now repeat the process for the all upgraded roads data"
   ]
  },
  {
   "cell_type": "code",
   "execution_count": 138,
   "metadata": {},
   "outputs": [
    {
     "name": "stdout",
     "output_type": "stream",
     "text": [
      "good_jobs_tot_\n"
     ]
    },
    {
     "ename": "CPLE_AppDefinedError",
     "evalue": "b'sqlite3_exec(CREATE VIRTUAL TABLE \"rtree_gc_ua_good_jobs_tot__geom\" USING rtree(id, minx, maxx, miny, maxy)) failed: no such module: rtree'",
     "output_type": "error",
     "traceback": [
      "\u001b[1;31m---------------------------------------------------------------------------\u001b[0m",
      "\u001b[1;31mCPLE_AppDefinedError\u001b[0m                      Traceback (most recent call last)",
      "\u001b[1;32mfiona/_err.pyx\u001b[0m in \u001b[0;36mfiona._err.GDALErrCtxManager.__exit__\u001b[1;34m()\u001b[0m\n",
      "\u001b[1;31mCPLE_AppDefinedError\u001b[0m: b'sqlite3_exec(CREATE VIRTUAL TABLE \"rtree_gc_ua_good_jobs_tot__geom\" USING rtree(id, minx, maxx, miny, maxy)) failed: no such module: rtree'"
     ]
    },
    {
     "name": "stderr",
     "output_type": "stream",
     "text": [
      "Exception ignored in: 'fiona._shim.gdal_flush_cache'\n",
      "Traceback (most recent call last):\n",
      "  File \"fiona/_err.pyx\", line 201, in fiona._err.GDALErrCtxManager.__exit__\n",
      "fiona._err.CPLE_AppDefinedError: b'sqlite3_exec(CREATE VIRTUAL TABLE \"rtree_gc_ua_good_jobs_tot__geom\" USING rtree(id, minx, maxx, miny, maxy)) failed: no such module: rtree'\n"
     ]
    },
    {
     "name": "stdout",
     "output_type": "stream",
     "text": [
      "bad_jobs_tot_\n"
     ]
    },
    {
     "ename": "CPLE_AppDefinedError",
     "evalue": "b'sqlite3_exec(CREATE VIRTUAL TABLE \"rtree_gc_ua_bad_jobs_tot__geom\" USING rtree(id, minx, maxx, miny, maxy)) failed: no such module: rtree'",
     "output_type": "error",
     "traceback": [
      "\u001b[1;31m---------------------------------------------------------------------------\u001b[0m",
      "\u001b[1;31mCPLE_AppDefinedError\u001b[0m                      Traceback (most recent call last)",
      "\u001b[1;32mfiona/_err.pyx\u001b[0m in \u001b[0;36mfiona._err.GDALErrCtxManager.__exit__\u001b[1;34m()\u001b[0m\n",
      "\u001b[1;31mCPLE_AppDefinedError\u001b[0m: b'sqlite3_exec(CREATE VIRTUAL TABLE \"rtree_gc_ua_bad_jobs_tot__geom\" USING rtree(id, minx, maxx, miny, maxy)) failed: no such module: rtree'"
     ]
    },
    {
     "name": "stderr",
     "output_type": "stream",
     "text": [
      "Exception ignored in: 'fiona._shim.gdal_flush_cache'\n",
      "Traceback (most recent call last):\n",
      "  File \"fiona/_err.pyx\", line 201, in fiona._err.GDALErrCtxManager.__exit__\n",
      "fiona._err.CPLE_AppDefinedError: b'sqlite3_exec(CREATE VIRTUAL TABLE \"rtree_gc_ua_bad_jobs_tot__geom\" USING rtree(id, minx, maxx, miny, maxy)) failed: no such module: rtree'\n"
     ]
    },
    {
     "name": "stdout",
     "output_type": "stream",
     "text": [
      "good_jobs_4and5\n"
     ]
    },
    {
     "ename": "CPLE_AppDefinedError",
     "evalue": "b'sqlite3_exec(CREATE VIRTUAL TABLE \"rtree_gc_ua_good_jobs_4and5_geom\" USING rtree(id, minx, maxx, miny, maxy)) failed: no such module: rtree'",
     "output_type": "error",
     "traceback": [
      "\u001b[1;31m---------------------------------------------------------------------------\u001b[0m",
      "\u001b[1;31mCPLE_AppDefinedError\u001b[0m                      Traceback (most recent call last)",
      "\u001b[1;32mfiona/_err.pyx\u001b[0m in \u001b[0;36mfiona._err.GDALErrCtxManager.__exit__\u001b[1;34m()\u001b[0m\n",
      "\u001b[1;31mCPLE_AppDefinedError\u001b[0m: b'sqlite3_exec(CREATE VIRTUAL TABLE \"rtree_gc_ua_good_jobs_4and5_geom\" USING rtree(id, minx, maxx, miny, maxy)) failed: no such module: rtree'"
     ]
    },
    {
     "name": "stderr",
     "output_type": "stream",
     "text": [
      "Exception ignored in: 'fiona._shim.gdal_flush_cache'\n",
      "Traceback (most recent call last):\n",
      "  File \"fiona/_err.pyx\", line 201, in fiona._err.GDALErrCtxManager.__exit__\n",
      "fiona._err.CPLE_AppDefinedError: b'sqlite3_exec(CREATE VIRTUAL TABLE \"rtree_gc_ua_good_jobs_4and5_geom\" USING rtree(id, minx, maxx, miny, maxy)) failed: no such module: rtree'\n"
     ]
    },
    {
     "name": "stdout",
     "output_type": "stream",
     "text": [
      "bad_jobs_4and5\n"
     ]
    },
    {
     "ename": "CPLE_AppDefinedError",
     "evalue": "b'sqlite3_exec(CREATE VIRTUAL TABLE \"rtree_gc_ua_bad_jobs_4and5_geom\" USING rtree(id, minx, maxx, miny, maxy)) failed: no such module: rtree'",
     "output_type": "error",
     "traceback": [
      "\u001b[1;31m---------------------------------------------------------------------------\u001b[0m",
      "\u001b[1;31mCPLE_AppDefinedError\u001b[0m                      Traceback (most recent call last)",
      "\u001b[1;32mfiona/_err.pyx\u001b[0m in \u001b[0;36mfiona._err.GDALErrCtxManager.__exit__\u001b[1;34m()\u001b[0m\n",
      "\u001b[1;31mCPLE_AppDefinedError\u001b[0m: b'sqlite3_exec(CREATE VIRTUAL TABLE \"rtree_gc_ua_bad_jobs_4and5_geom\" USING rtree(id, minx, maxx, miny, maxy)) failed: no such module: rtree'"
     ]
    },
    {
     "name": "stderr",
     "output_type": "stream",
     "text": [
      "Exception ignored in: 'fiona._shim.gdal_flush_cache'\n",
      "Traceback (most recent call last):\n",
      "  File \"fiona/_err.pyx\", line 201, in fiona._err.GDALErrCtxManager.__exit__\n",
      "fiona._err.CPLE_AppDefinedError: b'sqlite3_exec(CREATE VIRTUAL TABLE \"rtree_gc_ua_bad_jobs_4and5_geom\" USING rtree(id, minx, maxx, miny, maxy)) failed: no such module: rtree'\n"
     ]
    },
    {
     "name": "stdout",
     "output_type": "stream",
     "text": [
      "n_firms_4and5\n"
     ]
    },
    {
     "ename": "CPLE_AppDefinedError",
     "evalue": "b'sqlite3_exec(CREATE VIRTUAL TABLE \"rtree_gc_ua_n_firms_4and5_geom\" USING rtree(id, minx, maxx, miny, maxy)) failed: no such module: rtree'",
     "output_type": "error",
     "traceback": [
      "\u001b[1;31m---------------------------------------------------------------------------\u001b[0m",
      "\u001b[1;31mCPLE_AppDefinedError\u001b[0m                      Traceback (most recent call last)",
      "\u001b[1;32mfiona/_err.pyx\u001b[0m in \u001b[0;36mfiona._err.GDALErrCtxManager.__exit__\u001b[1;34m()\u001b[0m\n",
      "\u001b[1;31mCPLE_AppDefinedError\u001b[0m: b'sqlite3_exec(CREATE VIRTUAL TABLE \"rtree_gc_ua_n_firms_4and5_geom\" USING rtree(id, minx, maxx, miny, maxy)) failed: no such module: rtree'"
     ]
    },
    {
     "name": "stderr",
     "output_type": "stream",
     "text": [
      "Exception ignored in: 'fiona._shim.gdal_flush_cache'\n",
      "Traceback (most recent call last):\n",
      "  File \"fiona/_err.pyx\", line 201, in fiona._err.GDALErrCtxManager.__exit__\n",
      "fiona._err.CPLE_AppDefinedError: b'sqlite3_exec(CREATE VIRTUAL TABLE \"rtree_gc_ua_n_firms_4and5_geom\" USING rtree(id, minx, maxx, miny, maxy)) failed: no such module: rtree'\n"
     ]
    },
    {
     "name": "stdout",
     "output_type": "stream",
     "text": [
      "n_firms_tot\n"
     ]
    },
    {
     "ename": "CPLE_AppDefinedError",
     "evalue": "b'sqlite3_exec(CREATE VIRTUAL TABLE \"rtree_gc_ua_n_firms_tot_geom\" USING rtree(id, minx, maxx, miny, maxy)) failed: no such module: rtree'",
     "output_type": "error",
     "traceback": [
      "\u001b[1;31m---------------------------------------------------------------------------\u001b[0m",
      "\u001b[1;31mCPLE_AppDefinedError\u001b[0m                      Traceback (most recent call last)",
      "\u001b[1;32mfiona/_err.pyx\u001b[0m in \u001b[0;36mfiona._err.GDALErrCtxManager.__exit__\u001b[1;34m()\u001b[0m\n",
      "\u001b[1;31mCPLE_AppDefinedError\u001b[0m: b'sqlite3_exec(CREATE VIRTUAL TABLE \"rtree_gc_ua_n_firms_tot_geom\" USING rtree(id, minx, maxx, miny, maxy)) failed: no such module: rtree'"
     ]
    },
    {
     "name": "stderr",
     "output_type": "stream",
     "text": [
      "Exception ignored in: 'fiona._shim.gdal_flush_cache'\n",
      "Traceback (most recent call last):\n",
      "  File \"fiona/_err.pyx\", line 201, in fiona._err.GDALErrCtxManager.__exit__\n",
      "fiona._err.CPLE_AppDefinedError: b'sqlite3_exec(CREATE VIRTUAL TABLE \"rtree_gc_ua_n_firms_tot_geom\" USING rtree(id, minx, maxx, miny, maxy)) failed: no such module: rtree'\n"
     ]
    },
    {
     "name": "stdout",
     "output_type": "stream",
     "text": [
      "tw_tot\n"
     ]
    },
    {
     "ename": "CPLE_AppDefinedError",
     "evalue": "b'sqlite3_exec(CREATE VIRTUAL TABLE \"rtree_gc_ua_tw_tot_geom\" USING rtree(id, minx, maxx, miny, maxy)) failed: no such module: rtree'",
     "output_type": "error",
     "traceback": [
      "\u001b[1;31m---------------------------------------------------------------------------\u001b[0m",
      "\u001b[1;31mCPLE_AppDefinedError\u001b[0m                      Traceback (most recent call last)",
      "\u001b[1;32mfiona/_err.pyx\u001b[0m in \u001b[0;36mfiona._err.GDALErrCtxManager.__exit__\u001b[1;34m()\u001b[0m\n",
      "\u001b[1;31mCPLE_AppDefinedError\u001b[0m: b'sqlite3_exec(CREATE VIRTUAL TABLE \"rtree_gc_ua_tw_tot_geom\" USING rtree(id, minx, maxx, miny, maxy)) failed: no such module: rtree'"
     ]
    },
    {
     "name": "stderr",
     "output_type": "stream",
     "text": [
      "Exception ignored in: 'fiona._shim.gdal_flush_cache'\n",
      "Traceback (most recent call last):\n",
      "  File \"fiona/_err.pyx\", line 201, in fiona._err.GDALErrCtxManager.__exit__\n",
      "fiona._err.CPLE_AppDefinedError: b'sqlite3_exec(CREATE VIRTUAL TABLE \"rtree_gc_ua_tw_tot_geom\" USING rtree(id, minx, maxx, miny, maxy)) failed: no such module: rtree'\n"
     ]
    },
    {
     "name": "stdout",
     "output_type": "stream",
     "text": [
      "tw_tot_4and5\n"
     ]
    },
    {
     "ename": "CPLE_AppDefinedError",
     "evalue": "b'sqlite3_exec(CREATE VIRTUAL TABLE \"rtree_gc_ua_tw_tot_4and5_geom\" USING rtree(id, minx, maxx, miny, maxy)) failed: no such module: rtree'",
     "output_type": "error",
     "traceback": [
      "\u001b[1;31m---------------------------------------------------------------------------\u001b[0m",
      "\u001b[1;31mCPLE_AppDefinedError\u001b[0m                      Traceback (most recent call last)",
      "\u001b[1;32mfiona/_err.pyx\u001b[0m in \u001b[0;36mfiona._err.GDALErrCtxManager.__exit__\u001b[1;34m()\u001b[0m\n",
      "\u001b[1;31mCPLE_AppDefinedError\u001b[0m: b'sqlite3_exec(CREATE VIRTUAL TABLE \"rtree_gc_ua_tw_tot_4and5_geom\" USING rtree(id, minx, maxx, miny, maxy)) failed: no such module: rtree'"
     ]
    },
    {
     "name": "stderr",
     "output_type": "stream",
     "text": [
      "Exception ignored in: 'fiona._shim.gdal_flush_cache'\n",
      "Traceback (most recent call last):\n",
      "  File \"fiona/_err.pyx\", line 201, in fiona._err.GDALErrCtxManager.__exit__\n",
      "fiona._err.CPLE_AppDefinedError: b'sqlite3_exec(CREATE VIRTUAL TABLE \"rtree_gc_ua_tw_tot_4and5_geom\" USING rtree(id, minx, maxx, miny, maxy)) failed: no such module: rtree'\n"
     ]
    },
    {
     "name": "stdout",
     "output_type": "stream",
     "text": [
      "tw_ser_4and5\n"
     ]
    },
    {
     "ename": "CPLE_AppDefinedError",
     "evalue": "b'sqlite3_exec(CREATE VIRTUAL TABLE \"rtree_gc_ua_tw_ser_4and5_geom\" USING rtree(id, minx, maxx, miny, maxy)) failed: no such module: rtree'",
     "output_type": "error",
     "traceback": [
      "\u001b[1;31m---------------------------------------------------------------------------\u001b[0m",
      "\u001b[1;31mCPLE_AppDefinedError\u001b[0m                      Traceback (most recent call last)",
      "\u001b[1;32mfiona/_err.pyx\u001b[0m in \u001b[0;36mfiona._err.GDALErrCtxManager.__exit__\u001b[1;34m()\u001b[0m\n",
      "\u001b[1;31mCPLE_AppDefinedError\u001b[0m: b'sqlite3_exec(CREATE VIRTUAL TABLE \"rtree_gc_ua_tw_ser_4and5_geom\" USING rtree(id, minx, maxx, miny, maxy)) failed: no such module: rtree'"
     ]
    },
    {
     "name": "stderr",
     "output_type": "stream",
     "text": [
      "Exception ignored in: 'fiona._shim.gdal_flush_cache'\n",
      "Traceback (most recent call last):\n",
      "  File \"fiona/_err.pyx\", line 201, in fiona._err.GDALErrCtxManager.__exit__\n",
      "fiona._err.CPLE_AppDefinedError: b'sqlite3_exec(CREATE VIRTUAL TABLE \"rtree_gc_ua_tw_ser_4and5_geom\" USING rtree(id, minx, maxx, miny, maxy)) failed: no such module: rtree'\n"
     ]
    },
    {
     "name": "stdout",
     "output_type": "stream",
     "text": [
      "tw_ind_4and5\n"
     ]
    },
    {
     "ename": "CPLE_AppDefinedError",
     "evalue": "b'sqlite3_exec(CREATE VIRTUAL TABLE \"rtree_gc_ua_tw_ind_4and5_geom\" USING rtree(id, minx, maxx, miny, maxy)) failed: no such module: rtree'",
     "output_type": "error",
     "traceback": [
      "\u001b[1;31m---------------------------------------------------------------------------\u001b[0m",
      "\u001b[1;31mCPLE_AppDefinedError\u001b[0m                      Traceback (most recent call last)",
      "\u001b[1;32mfiona/_err.pyx\u001b[0m in \u001b[0;36mfiona._err.GDALErrCtxManager.__exit__\u001b[1;34m()\u001b[0m\n",
      "\u001b[1;31mCPLE_AppDefinedError\u001b[0m: b'sqlite3_exec(CREATE VIRTUAL TABLE \"rtree_gc_ua_tw_ind_4and5_geom\" USING rtree(id, minx, maxx, miny, maxy)) failed: no such module: rtree'"
     ]
    },
    {
     "name": "stderr",
     "output_type": "stream",
     "text": [
      "Exception ignored in: 'fiona._shim.gdal_flush_cache'\n",
      "Traceback (most recent call last):\n",
      "  File \"fiona/_err.pyx\", line 201, in fiona._err.GDALErrCtxManager.__exit__\n",
      "fiona._err.CPLE_AppDefinedError: b'sqlite3_exec(CREATE VIRTUAL TABLE \"rtree_gc_ua_tw_ind_4and5_geom\" USING rtree(id, minx, maxx, miny, maxy)) failed: no such module: rtree'\n"
     ]
    },
    {
     "name": "stdout",
     "output_type": "stream",
     "text": [
      "no_weight\n"
     ]
    },
    {
     "ename": "CPLE_AppDefinedError",
     "evalue": "b'sqlite3_exec(CREATE VIRTUAL TABLE \"rtree_gc_ua_no_weight_geom\" USING rtree(id, minx, maxx, miny, maxy)) failed: no such module: rtree'",
     "output_type": "error",
     "traceback": [
      "\u001b[1;31m---------------------------------------------------------------------------\u001b[0m",
      "\u001b[1;31mCPLE_AppDefinedError\u001b[0m                      Traceback (most recent call last)",
      "\u001b[1;32mfiona/_err.pyx\u001b[0m in \u001b[0;36mfiona._err.GDALErrCtxManager.__exit__\u001b[1;34m()\u001b[0m\n",
      "\u001b[1;31mCPLE_AppDefinedError\u001b[0m: b'sqlite3_exec(CREATE VIRTUAL TABLE \"rtree_gc_ua_no_weight_geom\" USING rtree(id, minx, maxx, miny, maxy)) failed: no such module: rtree'"
     ]
    },
    {
     "name": "stderr",
     "output_type": "stream",
     "text": [
      "Exception ignored in: 'fiona._shim.gdal_flush_cache'\n",
      "Traceback (most recent call last):\n",
      "  File \"fiona/_err.pyx\", line 201, in fiona._err.GDALErrCtxManager.__exit__\n",
      "fiona._err.CPLE_AppDefinedError: b'sqlite3_exec(CREATE VIRTUAL TABLE \"rtree_gc_ua_no_weight_geom\" USING rtree(id, minx, maxx, miny, maxy)) failed: no such module: rtree'\n"
     ]
    }
   ],
   "source": [
    "for key, v in grav_models_dict.items():\n",
    "    \n",
    "    print(key)\n",
    "    \n",
    "    df = grav_loop(ua_orig_gc,ua_gc_odm,ua_orig_grp,gcs[key])\n",
    "    \n",
    "    gpkg_layername = 'gc_ua_' + key\n",
    "    df.to_file(os.path.join('results\\\\spatial\\\\gravity_models.gpkg'),layer=gpkg_layername,driver=\"GPKG\", ignore_errors=True)\n",
    "    \n",
    "    grav_models_dict[key] = df"
   ]
  },
  {
   "cell_type": "code",
   "execution_count": 139,
   "metadata": {},
   "outputs": [
    {
     "name": "stdout",
     "output_type": "stream",
     "text": [
      "good_jobs_tot_\n",
      "bad_jobs_tot_\n",
      "good_jobs_4and5\n",
      "bad_jobs_4and5\n",
      "n_firms_4and5\n",
      "n_firms_tot\n",
      "tw_tot\n",
      "tw_tot_4and5\n",
      "tw_ser_4and5\n",
      "tw_ind_4and5\n",
      "no_weight\n"
     ]
    }
   ],
   "source": [
    "# iterate through the dict\n",
    "\n",
    "# adm4_grav = adm4_grav\n",
    "\n",
    "for key, layer in grav_models_dict.items():\n",
    "    \n",
    "    print(key)\n",
    "    \n",
    "    # weight index by population\n",
    "    \n",
    "    layer['adm4_pop'] = layer.groupby('ADM4_PCODE')['VALUE'].transform(np.sum)\n",
    "    \n",
    "    for col in layer.loc[:,'d_0.01':'d_1e-05']:\n",
    "        layer[col] = (layer[col] * (layer['VALUE'] / layer['adm4_pop']))\n",
    "    \n",
    "#     [ col * (layer['VALUE'].astype(float) / layer['adm4_pop'].astype(float)) for col in layer.loc[:,'d_0.01':'d_1e-05']] # failed atempt at list comprehension\n",
    "    \n",
    "    # aggregate weighted indices by union\n",
    "    \n",
    "    union = layer.loc[:,'ADM4_PCODE':'d_1e-05'].groupby('ADM4_PCODE').apply(lambda x: x.sum())\n",
    "    union.drop(columns='ADM4_PCODE',inplace=True)\n",
    "    union = union.add_prefix(key + '_ua_')\n",
    "    union.reset_index(inplace=True)\n",
    "    union['ADM4_PCODE'] = union['ADM4_PCODE'].astype(str)\n",
    "\n",
    "    # join to adm4 file\n",
    "\n",
    "    adm4_grav = pd.merge(adm4_grav,union,how='left',on=['ADM4_PCODE'])  "
   ]
  },
  {
   "cell_type": "markdown",
   "metadata": {},
   "source": [
    "Calculate changes in gravity resulting from UA scenario"
   ]
  },
  {
   "cell_type": "code",
   "execution_count": 140,
   "metadata": {},
   "outputs": [],
   "source": [
    "adm4_grav['delta60_gj_tot'] = adm4_grav['good_jobs_tot__ua_d_0.0001925409'] - adm4_grav['good_jobs_tot__cur_d_0.0001925409']\n",
    "adm4_grav['delta60_bj_tot'] = adm4_grav['bad_jobs_tot__ua_d_0.0001925409'] - adm4_grav['bad_jobs_tot__cur_d_0.0001925409']\n",
    "adm4_grav['delta30_bj_tot'] = adm4_grav['bad_jobs_tot__ua_d_0.0003850818'] - adm4_grav['bad_jobs_tot__cur_d_0.0003850818']\n",
    "\n",
    "adm4_grav['delta60_gj_4and5'] = adm4_grav['good_jobs_4and5_ua_d_0.0001925409'] - adm4_grav['good_jobs_4and5_cur_d_0.0001925409']\n",
    "adm4_grav['delta60_bj_4and5'] = adm4_grav['bad_jobs_4and5_ua_d_0.0001925409'] - adm4_grav['bad_jobs_4and5_cur_d_0.0001925409']\n",
    "\n",
    "adm4_grav['delta60_tw_tot'] = adm4_grav['tw_tot_ua_d_0.0001925409'] - adm4_grav['tw_tot_cur_d_0.0001925409']\n",
    "adm4_grav['delta60_nf_tot'] = adm4_grav['n_firms_tot_ua_d_0.0001925409'] - adm4_grav['n_firms_tot_cur_d_0.0001925409']\n",
    "\n",
    "adm4_grav['delta60_tw_4and5'] = adm4_grav['tw_tot_4and5_ua_d_0.0001925409'] - adm4_grav['tw_tot_4and5_cur_d_0.0001925409']\n",
    "adm4_grav['delta60_nf_4and5'] = adm4_grav['n_firms_4and5_ua_d_0.0001925409'] - adm4_grav['n_firms_4and5_cur_d_0.0001925409']\n",
    "\n",
    "adm4_grav['delta60_tw_ser4and5'] = adm4_grav['tw_ser_4and5_ua_d_0.0001925409'] - adm4_grav['tw_ser_4and5_cur_d_0.0001925409']\n",
    "adm4_grav['delta60_tw_ind4and5'] = adm4_grav['tw_ind_4and5_ua_d_0.0001925409'] - adm4_grav['tw_ind_4and5_cur_d_0.0001925409']\n",
    "\n",
    "adm4_grav['delta60_now'] = adm4_grav['no_weight_ua_d_0.0001925409'] - adm4_grav['no_weight_cur_d_0.0001925409']\n",
    "adm4_grav['delta30_now'] = adm4_grav['no_weight_ua_d_0.0003850818'] - adm4_grav['no_weight_cur_d_0.0003850818']"
   ]
  },
  {
   "cell_type": "code",
   "execution_count": 142,
   "metadata": {},
   "outputs": [],
   "source": [
    "import warnings\n",
    "\n",
    "def fxn():\n",
    "    warnings.warn(\"deprecated\", DeprecationWarning)\n",
    "\n",
    "with warnings.catch_warnings():\n",
    "    warnings.simplefilter(\"ignore\")\n",
    "    fxn()"
   ]
  },
  {
   "cell_type": "markdown",
   "metadata": {},
   "source": [
    "Export the finished adm4 layer for data analysis and visualization"
   ]
  },
  {
   "cell_type": "code",
   "execution_count": 143,
   "metadata": {},
   "outputs": [],
   "source": [
    "adm4_grav.to_file(os.path.join(res_pth,'spatial\\\\adm4_gravity_models.geojson'),driver=\"GeoJSON\")"
   ]
  },
  {
   "cell_type": "code",
   "execution_count": 144,
   "metadata": {},
   "outputs": [
    {
     "ename": "CPLE_AppDefinedError",
     "evalue": "b'sqlite3_exec(CREATE VIRTUAL TABLE \"rtree_adm4_gravity_models_geom\" USING rtree(id, minx, maxx, miny, maxy)) failed: no such module: rtree'",
     "output_type": "error",
     "traceback": [
      "\u001b[1;31m---------------------------------------------------------------------------\u001b[0m",
      "\u001b[1;31mCPLE_AppDefinedError\u001b[0m                      Traceback (most recent call last)",
      "\u001b[1;32mfiona/_err.pyx\u001b[0m in \u001b[0;36mfiona._err.GDALErrCtxManager.__exit__\u001b[1;34m()\u001b[0m\n",
      "\u001b[1;31mCPLE_AppDefinedError\u001b[0m: b'sqlite3_exec(CREATE VIRTUAL TABLE \"rtree_adm4_gravity_models_geom\" USING rtree(id, minx, maxx, miny, maxy)) failed: no such module: rtree'"
     ]
    },
    {
     "name": "stderr",
     "output_type": "stream",
     "text": [
      "Exception ignored in: 'fiona._shim.gdal_flush_cache'\n",
      "Traceback (most recent call last):\n",
      "  File \"fiona/_err.pyx\", line 201, in fiona._err.GDALErrCtxManager.__exit__\n",
      "fiona._err.CPLE_AppDefinedError: b'sqlite3_exec(CREATE VIRTUAL TABLE \"rtree_adm4_gravity_models_geom\" USING rtree(id, minx, maxx, miny, maxy)) failed: no such module: rtree'\n"
     ]
    }
   ],
   "source": [
    "adm4_grav.to_file(os.path.join(res_pth,'spatial\\\\adm4_gravity_models.gpkg'),driver=\"GPKG\", ignore_errors=True)"
   ]
  },
  {
   "cell_type": "markdown",
   "metadata": {},
   "source": [
    "#### Destinations"
   ]
  },
  {
   "cell_type": "markdown",
   "metadata": {},
   "source": [
    "We invert the process here to show the relative gravity of each growth center (rather than the accessibility per adm4).\n",
    "\n",
    "This allows us to display the importance of different GCs on maps of the accessibility outputs."
   ]
  },
  {
   "cell_type": "code",
   "execution_count": 145,
   "metadata": {},
   "outputs": [],
   "source": [
    "gm_weights = ['good_jobs_tot_','bad_jobs_tot_','good_jobs_4and5','bad_jobs_4and5','n_firms_4and5','n_firms_tot','tw_tot','tw_tot_4and5','tw_ser_4and5','tw_ind_4and5','no_weight']"
   ]
  },
  {
   "cell_type": "code",
   "execution_count": 146,
   "metadata": {},
   "outputs": [],
   "source": [
    "grav_models_dict = dict.fromkeys(gm_weights)"
   ]
  },
  {
   "cell_type": "markdown",
   "metadata": {},
   "source": [
    "Create a function to generate the gravity models and append them to a dictionary"
   ]
  },
  {
   "cell_type": "code",
   "execution_count": 147,
   "metadata": {},
   "outputs": [],
   "source": [
    "def dest_grav_loop(orig_file,od_matrix,grav_param,oW_df,dW):\n",
    "    dest_gravity = calcOD.calculate_gravity(np.array(od_matrix), oWeight=oW_df[grav_param], dWeight = dW['Pop'])\n",
    "    dest_gravity['NN'] = oW_df['NN']\n",
    "    dest_gravity_gdf = pd.merge(gcs, dest_gravity, how='left',on='NN')\n",
    "\n",
    "    return dest_gravity_gdf"
   ]
  },
  {
   "cell_type": "markdown",
   "metadata": {},
   "source": [
    "Run the function and export the results to a growth center gravity model geopackage, for later visualization in QGIS"
   ]
  },
  {
   "cell_type": "code",
   "execution_count": 148,
   "metadata": {},
   "outputs": [
    {
     "name": "stdout",
     "output_type": "stream",
     "text": [
      "good_jobs_tot_\n"
     ]
    },
    {
     "ename": "CPLE_AppDefinedError",
     "evalue": "b'sqlite3_exec(CREATE VIRTUAL TABLE \"rtree_gc_cur_good_jobs_tot__geom\" USING rtree(id, minx, maxx, miny, maxy)) failed: no such module: rtree'",
     "output_type": "error",
     "traceback": [
      "\u001b[1;31m---------------------------------------------------------------------------\u001b[0m",
      "\u001b[1;31mCPLE_AppDefinedError\u001b[0m                      Traceback (most recent call last)",
      "\u001b[1;32mfiona/_err.pyx\u001b[0m in \u001b[0;36mfiona._err.GDALErrCtxManager.__exit__\u001b[1;34m()\u001b[0m\n",
      "\u001b[1;31mCPLE_AppDefinedError\u001b[0m: b'sqlite3_exec(CREATE VIRTUAL TABLE \"rtree_gc_cur_good_jobs_tot__geom\" USING rtree(id, minx, maxx, miny, maxy)) failed: no such module: rtree'"
     ]
    },
    {
     "name": "stderr",
     "output_type": "stream",
     "text": [
      "Exception ignored in: 'fiona._shim.gdal_flush_cache'\n",
      "Traceback (most recent call last):\n",
      "  File \"fiona/_err.pyx\", line 201, in fiona._err.GDALErrCtxManager.__exit__\n",
      "fiona._err.CPLE_AppDefinedError: b'sqlite3_exec(CREATE VIRTUAL TABLE \"rtree_gc_cur_good_jobs_tot__geom\" USING rtree(id, minx, maxx, miny, maxy)) failed: no such module: rtree'\n"
     ]
    },
    {
     "name": "stdout",
     "output_type": "stream",
     "text": [
      "bad_jobs_tot_\n"
     ]
    },
    {
     "ename": "CPLE_AppDefinedError",
     "evalue": "b'sqlite3_exec(CREATE VIRTUAL TABLE \"rtree_gc_cur_bad_jobs_tot__geom\" USING rtree(id, minx, maxx, miny, maxy)) failed: no such module: rtree'",
     "output_type": "error",
     "traceback": [
      "\u001b[1;31m---------------------------------------------------------------------------\u001b[0m",
      "\u001b[1;31mCPLE_AppDefinedError\u001b[0m                      Traceback (most recent call last)",
      "\u001b[1;32mfiona/_err.pyx\u001b[0m in \u001b[0;36mfiona._err.GDALErrCtxManager.__exit__\u001b[1;34m()\u001b[0m\n",
      "\u001b[1;31mCPLE_AppDefinedError\u001b[0m: b'sqlite3_exec(CREATE VIRTUAL TABLE \"rtree_gc_cur_bad_jobs_tot__geom\" USING rtree(id, minx, maxx, miny, maxy)) failed: no such module: rtree'"
     ]
    },
    {
     "name": "stderr",
     "output_type": "stream",
     "text": [
      "Exception ignored in: 'fiona._shim.gdal_flush_cache'\n",
      "Traceback (most recent call last):\n",
      "  File \"fiona/_err.pyx\", line 201, in fiona._err.GDALErrCtxManager.__exit__\n",
      "fiona._err.CPLE_AppDefinedError: b'sqlite3_exec(CREATE VIRTUAL TABLE \"rtree_gc_cur_bad_jobs_tot__geom\" USING rtree(id, minx, maxx, miny, maxy)) failed: no such module: rtree'\n"
     ]
    },
    {
     "name": "stdout",
     "output_type": "stream",
     "text": [
      "good_jobs_4and5\n"
     ]
    },
    {
     "ename": "CPLE_AppDefinedError",
     "evalue": "b'sqlite3_exec(CREATE VIRTUAL TABLE \"rtree_gc_cur_good_jobs_4and5_geom\" USING rtree(id, minx, maxx, miny, maxy)) failed: no such module: rtree'",
     "output_type": "error",
     "traceback": [
      "\u001b[1;31m---------------------------------------------------------------------------\u001b[0m",
      "\u001b[1;31mCPLE_AppDefinedError\u001b[0m                      Traceback (most recent call last)",
      "\u001b[1;32mfiona/_err.pyx\u001b[0m in \u001b[0;36mfiona._err.GDALErrCtxManager.__exit__\u001b[1;34m()\u001b[0m\n",
      "\u001b[1;31mCPLE_AppDefinedError\u001b[0m: b'sqlite3_exec(CREATE VIRTUAL TABLE \"rtree_gc_cur_good_jobs_4and5_geom\" USING rtree(id, minx, maxx, miny, maxy)) failed: no such module: rtree'"
     ]
    },
    {
     "name": "stderr",
     "output_type": "stream",
     "text": [
      "Exception ignored in: 'fiona._shim.gdal_flush_cache'\n",
      "Traceback (most recent call last):\n",
      "  File \"fiona/_err.pyx\", line 201, in fiona._err.GDALErrCtxManager.__exit__\n",
      "fiona._err.CPLE_AppDefinedError: b'sqlite3_exec(CREATE VIRTUAL TABLE \"rtree_gc_cur_good_jobs_4and5_geom\" USING rtree(id, minx, maxx, miny, maxy)) failed: no such module: rtree'\n"
     ]
    },
    {
     "name": "stdout",
     "output_type": "stream",
     "text": [
      "bad_jobs_4and5\n"
     ]
    },
    {
     "ename": "CPLE_AppDefinedError",
     "evalue": "b'sqlite3_exec(CREATE VIRTUAL TABLE \"rtree_gc_cur_bad_jobs_4and5_geom\" USING rtree(id, minx, maxx, miny, maxy)) failed: no such module: rtree'",
     "output_type": "error",
     "traceback": [
      "\u001b[1;31m---------------------------------------------------------------------------\u001b[0m",
      "\u001b[1;31mCPLE_AppDefinedError\u001b[0m                      Traceback (most recent call last)",
      "\u001b[1;32mfiona/_err.pyx\u001b[0m in \u001b[0;36mfiona._err.GDALErrCtxManager.__exit__\u001b[1;34m()\u001b[0m\n",
      "\u001b[1;31mCPLE_AppDefinedError\u001b[0m: b'sqlite3_exec(CREATE VIRTUAL TABLE \"rtree_gc_cur_bad_jobs_4and5_geom\" USING rtree(id, minx, maxx, miny, maxy)) failed: no such module: rtree'"
     ]
    },
    {
     "name": "stderr",
     "output_type": "stream",
     "text": [
      "Exception ignored in: 'fiona._shim.gdal_flush_cache'\n",
      "Traceback (most recent call last):\n",
      "  File \"fiona/_err.pyx\", line 201, in fiona._err.GDALErrCtxManager.__exit__\n",
      "fiona._err.CPLE_AppDefinedError: b'sqlite3_exec(CREATE VIRTUAL TABLE \"rtree_gc_cur_bad_jobs_4and5_geom\" USING rtree(id, minx, maxx, miny, maxy)) failed: no such module: rtree'\n"
     ]
    },
    {
     "name": "stdout",
     "output_type": "stream",
     "text": [
      "n_firms_4and5\n"
     ]
    },
    {
     "ename": "CPLE_AppDefinedError",
     "evalue": "b'sqlite3_exec(CREATE VIRTUAL TABLE \"rtree_gc_cur_n_firms_4and5_geom\" USING rtree(id, minx, maxx, miny, maxy)) failed: no such module: rtree'",
     "output_type": "error",
     "traceback": [
      "\u001b[1;31m---------------------------------------------------------------------------\u001b[0m",
      "\u001b[1;31mCPLE_AppDefinedError\u001b[0m                      Traceback (most recent call last)",
      "\u001b[1;32mfiona/_err.pyx\u001b[0m in \u001b[0;36mfiona._err.GDALErrCtxManager.__exit__\u001b[1;34m()\u001b[0m\n",
      "\u001b[1;31mCPLE_AppDefinedError\u001b[0m: b'sqlite3_exec(CREATE VIRTUAL TABLE \"rtree_gc_cur_n_firms_4and5_geom\" USING rtree(id, minx, maxx, miny, maxy)) failed: no such module: rtree'"
     ]
    },
    {
     "name": "stderr",
     "output_type": "stream",
     "text": [
      "Exception ignored in: 'fiona._shim.gdal_flush_cache'\n",
      "Traceback (most recent call last):\n",
      "  File \"fiona/_err.pyx\", line 201, in fiona._err.GDALErrCtxManager.__exit__\n",
      "fiona._err.CPLE_AppDefinedError: b'sqlite3_exec(CREATE VIRTUAL TABLE \"rtree_gc_cur_n_firms_4and5_geom\" USING rtree(id, minx, maxx, miny, maxy)) failed: no such module: rtree'\n"
     ]
    },
    {
     "name": "stdout",
     "output_type": "stream",
     "text": [
      "n_firms_tot\n"
     ]
    },
    {
     "ename": "CPLE_AppDefinedError",
     "evalue": "b'sqlite3_exec(CREATE VIRTUAL TABLE \"rtree_gc_cur_n_firms_tot_geom\" USING rtree(id, minx, maxx, miny, maxy)) failed: no such module: rtree'",
     "output_type": "error",
     "traceback": [
      "\u001b[1;31m---------------------------------------------------------------------------\u001b[0m",
      "\u001b[1;31mCPLE_AppDefinedError\u001b[0m                      Traceback (most recent call last)",
      "\u001b[1;32mfiona/_err.pyx\u001b[0m in \u001b[0;36mfiona._err.GDALErrCtxManager.__exit__\u001b[1;34m()\u001b[0m\n",
      "\u001b[1;31mCPLE_AppDefinedError\u001b[0m: b'sqlite3_exec(CREATE VIRTUAL TABLE \"rtree_gc_cur_n_firms_tot_geom\" USING rtree(id, minx, maxx, miny, maxy)) failed: no such module: rtree'"
     ]
    },
    {
     "name": "stderr",
     "output_type": "stream",
     "text": [
      "Exception ignored in: 'fiona._shim.gdal_flush_cache'\n",
      "Traceback (most recent call last):\n",
      "  File \"fiona/_err.pyx\", line 201, in fiona._err.GDALErrCtxManager.__exit__\n",
      "fiona._err.CPLE_AppDefinedError: b'sqlite3_exec(CREATE VIRTUAL TABLE \"rtree_gc_cur_n_firms_tot_geom\" USING rtree(id, minx, maxx, miny, maxy)) failed: no such module: rtree'\n"
     ]
    },
    {
     "name": "stdout",
     "output_type": "stream",
     "text": [
      "tw_tot\n"
     ]
    },
    {
     "ename": "CPLE_AppDefinedError",
     "evalue": "b'sqlite3_exec(CREATE VIRTUAL TABLE \"rtree_gc_cur_tw_tot_geom\" USING rtree(id, minx, maxx, miny, maxy)) failed: no such module: rtree'",
     "output_type": "error",
     "traceback": [
      "\u001b[1;31m---------------------------------------------------------------------------\u001b[0m",
      "\u001b[1;31mCPLE_AppDefinedError\u001b[0m                      Traceback (most recent call last)",
      "\u001b[1;32mfiona/_err.pyx\u001b[0m in \u001b[0;36mfiona._err.GDALErrCtxManager.__exit__\u001b[1;34m()\u001b[0m\n",
      "\u001b[1;31mCPLE_AppDefinedError\u001b[0m: b'sqlite3_exec(CREATE VIRTUAL TABLE \"rtree_gc_cur_tw_tot_geom\" USING rtree(id, minx, maxx, miny, maxy)) failed: no such module: rtree'"
     ]
    },
    {
     "name": "stderr",
     "output_type": "stream",
     "text": [
      "Exception ignored in: 'fiona._shim.gdal_flush_cache'\n",
      "Traceback (most recent call last):\n",
      "  File \"fiona/_err.pyx\", line 201, in fiona._err.GDALErrCtxManager.__exit__\n",
      "fiona._err.CPLE_AppDefinedError: b'sqlite3_exec(CREATE VIRTUAL TABLE \"rtree_gc_cur_tw_tot_geom\" USING rtree(id, minx, maxx, miny, maxy)) failed: no such module: rtree'\n"
     ]
    },
    {
     "name": "stdout",
     "output_type": "stream",
     "text": [
      "tw_tot_4and5\n"
     ]
    },
    {
     "ename": "CPLE_AppDefinedError",
     "evalue": "b'sqlite3_exec(CREATE VIRTUAL TABLE \"rtree_gc_cur_tw_tot_4and5_geom\" USING rtree(id, minx, maxx, miny, maxy)) failed: no such module: rtree'",
     "output_type": "error",
     "traceback": [
      "\u001b[1;31m---------------------------------------------------------------------------\u001b[0m",
      "\u001b[1;31mCPLE_AppDefinedError\u001b[0m                      Traceback (most recent call last)",
      "\u001b[1;32mfiona/_err.pyx\u001b[0m in \u001b[0;36mfiona._err.GDALErrCtxManager.__exit__\u001b[1;34m()\u001b[0m\n",
      "\u001b[1;31mCPLE_AppDefinedError\u001b[0m: b'sqlite3_exec(CREATE VIRTUAL TABLE \"rtree_gc_cur_tw_tot_4and5_geom\" USING rtree(id, minx, maxx, miny, maxy)) failed: no such module: rtree'"
     ]
    },
    {
     "name": "stderr",
     "output_type": "stream",
     "text": [
      "Exception ignored in: 'fiona._shim.gdal_flush_cache'\n",
      "Traceback (most recent call last):\n",
      "  File \"fiona/_err.pyx\", line 201, in fiona._err.GDALErrCtxManager.__exit__\n",
      "fiona._err.CPLE_AppDefinedError: b'sqlite3_exec(CREATE VIRTUAL TABLE \"rtree_gc_cur_tw_tot_4and5_geom\" USING rtree(id, minx, maxx, miny, maxy)) failed: no such module: rtree'\n"
     ]
    },
    {
     "name": "stdout",
     "output_type": "stream",
     "text": [
      "tw_ser_4and5\n"
     ]
    },
    {
     "ename": "CPLE_AppDefinedError",
     "evalue": "b'sqlite3_exec(CREATE VIRTUAL TABLE \"rtree_gc_cur_tw_ser_4and5_geom\" USING rtree(id, minx, maxx, miny, maxy)) failed: no such module: rtree'",
     "output_type": "error",
     "traceback": [
      "\u001b[1;31m---------------------------------------------------------------------------\u001b[0m",
      "\u001b[1;31mCPLE_AppDefinedError\u001b[0m                      Traceback (most recent call last)",
      "\u001b[1;32mfiona/_err.pyx\u001b[0m in \u001b[0;36mfiona._err.GDALErrCtxManager.__exit__\u001b[1;34m()\u001b[0m\n",
      "\u001b[1;31mCPLE_AppDefinedError\u001b[0m: b'sqlite3_exec(CREATE VIRTUAL TABLE \"rtree_gc_cur_tw_ser_4and5_geom\" USING rtree(id, minx, maxx, miny, maxy)) failed: no such module: rtree'"
     ]
    },
    {
     "name": "stderr",
     "output_type": "stream",
     "text": [
      "Exception ignored in: 'fiona._shim.gdal_flush_cache'\n",
      "Traceback (most recent call last):\n",
      "  File \"fiona/_err.pyx\", line 201, in fiona._err.GDALErrCtxManager.__exit__\n",
      "fiona._err.CPLE_AppDefinedError: b'sqlite3_exec(CREATE VIRTUAL TABLE \"rtree_gc_cur_tw_ser_4and5_geom\" USING rtree(id, minx, maxx, miny, maxy)) failed: no such module: rtree'\n"
     ]
    },
    {
     "name": "stdout",
     "output_type": "stream",
     "text": [
      "tw_ind_4and5\n"
     ]
    },
    {
     "ename": "CPLE_AppDefinedError",
     "evalue": "b'sqlite3_exec(CREATE VIRTUAL TABLE \"rtree_gc_cur_tw_ind_4and5_geom\" USING rtree(id, minx, maxx, miny, maxy)) failed: no such module: rtree'",
     "output_type": "error",
     "traceback": [
      "\u001b[1;31m---------------------------------------------------------------------------\u001b[0m",
      "\u001b[1;31mCPLE_AppDefinedError\u001b[0m                      Traceback (most recent call last)",
      "\u001b[1;32mfiona/_err.pyx\u001b[0m in \u001b[0;36mfiona._err.GDALErrCtxManager.__exit__\u001b[1;34m()\u001b[0m\n",
      "\u001b[1;31mCPLE_AppDefinedError\u001b[0m: b'sqlite3_exec(CREATE VIRTUAL TABLE \"rtree_gc_cur_tw_ind_4and5_geom\" USING rtree(id, minx, maxx, miny, maxy)) failed: no such module: rtree'"
     ]
    },
    {
     "name": "stderr",
     "output_type": "stream",
     "text": [
      "Exception ignored in: 'fiona._shim.gdal_flush_cache'\n",
      "Traceback (most recent call last):\n",
      "  File \"fiona/_err.pyx\", line 201, in fiona._err.GDALErrCtxManager.__exit__\n",
      "fiona._err.CPLE_AppDefinedError: b'sqlite3_exec(CREATE VIRTUAL TABLE \"rtree_gc_cur_tw_ind_4and5_geom\" USING rtree(id, minx, maxx, miny, maxy)) failed: no such module: rtree'\n"
     ]
    },
    {
     "name": "stdout",
     "output_type": "stream",
     "text": [
      "no_weight\n"
     ]
    },
    {
     "ename": "CPLE_AppDefinedError",
     "evalue": "b'sqlite3_exec(CREATE VIRTUAL TABLE \"rtree_gc_cur_no_weight_geom\" USING rtree(id, minx, maxx, miny, maxy)) failed: no such module: rtree'",
     "output_type": "error",
     "traceback": [
      "\u001b[1;31m---------------------------------------------------------------------------\u001b[0m",
      "\u001b[1;31mCPLE_AppDefinedError\u001b[0m                      Traceback (most recent call last)",
      "\u001b[1;32mfiona/_err.pyx\u001b[0m in \u001b[0;36mfiona._err.GDALErrCtxManager.__exit__\u001b[1;34m()\u001b[0m\n",
      "\u001b[1;31mCPLE_AppDefinedError\u001b[0m: b'sqlite3_exec(CREATE VIRTUAL TABLE \"rtree_gc_cur_no_weight_geom\" USING rtree(id, minx, maxx, miny, maxy)) failed: no such module: rtree'"
     ]
    },
    {
     "name": "stderr",
     "output_type": "stream",
     "text": [
      "Exception ignored in: 'fiona._shim.gdal_flush_cache'\n",
      "Traceback (most recent call last):\n",
      "  File \"fiona/_err.pyx\", line 201, in fiona._err.GDALErrCtxManager.__exit__\n",
      "fiona._err.CPLE_AppDefinedError: b'sqlite3_exec(CREATE VIRTUAL TABLE \"rtree_gc_cur_no_weight_geom\" USING rtree(id, minx, maxx, miny, maxy)) failed: no such module: rtree'\n"
     ]
    }
   ],
   "source": [
    "for key, v in grav_models_dict.items():\n",
    "    \n",
    "    print(key)\n",
    "    \n",
    "    df = dest_grav_loop(current_orig_gc,current_gc_odm.transpose(),key,gcs,cur_orig_grp)\n",
    "    \n",
    "    gpkg_layername = 'gc_cur_' + key\n",
    "    df.to_file(os.path.join('results\\\\spatial\\\\gravity_models_gcs.gpkg'),layer=gpkg_layername,driver=\"GPKG\", ignore_errors=True)\n",
    "    \n",
    "    grav_models_dict[key] = df"
   ]
  },
  {
   "cell_type": "markdown",
   "metadata": {},
   "source": [
    "Repeat for upgraded all"
   ]
  },
  {
   "cell_type": "code",
   "execution_count": 149,
   "metadata": {},
   "outputs": [
    {
     "name": "stdout",
     "output_type": "stream",
     "text": [
      "good_jobs_tot_\n"
     ]
    },
    {
     "ename": "CPLE_AppDefinedError",
     "evalue": "b'sqlite3_exec(CREATE VIRTUAL TABLE \"rtree_gc_ua_good_jobs_tot__geom\" USING rtree(id, minx, maxx, miny, maxy)) failed: no such module: rtree'",
     "output_type": "error",
     "traceback": [
      "\u001b[1;31m---------------------------------------------------------------------------\u001b[0m",
      "\u001b[1;31mCPLE_AppDefinedError\u001b[0m                      Traceback (most recent call last)",
      "\u001b[1;32mfiona/_err.pyx\u001b[0m in \u001b[0;36mfiona._err.GDALErrCtxManager.__exit__\u001b[1;34m()\u001b[0m\n",
      "\u001b[1;31mCPLE_AppDefinedError\u001b[0m: b'sqlite3_exec(CREATE VIRTUAL TABLE \"rtree_gc_ua_good_jobs_tot__geom\" USING rtree(id, minx, maxx, miny, maxy)) failed: no such module: rtree'"
     ]
    },
    {
     "name": "stderr",
     "output_type": "stream",
     "text": [
      "Exception ignored in: 'fiona._shim.gdal_flush_cache'\n",
      "Traceback (most recent call last):\n",
      "  File \"fiona/_err.pyx\", line 201, in fiona._err.GDALErrCtxManager.__exit__\n",
      "fiona._err.CPLE_AppDefinedError: b'sqlite3_exec(CREATE VIRTUAL TABLE \"rtree_gc_ua_good_jobs_tot__geom\" USING rtree(id, minx, maxx, miny, maxy)) failed: no such module: rtree'\n"
     ]
    },
    {
     "name": "stdout",
     "output_type": "stream",
     "text": [
      "bad_jobs_tot_\n"
     ]
    },
    {
     "ename": "CPLE_AppDefinedError",
     "evalue": "b'sqlite3_exec(CREATE VIRTUAL TABLE \"rtree_gc_ua_bad_jobs_tot__geom\" USING rtree(id, minx, maxx, miny, maxy)) failed: no such module: rtree'",
     "output_type": "error",
     "traceback": [
      "\u001b[1;31m---------------------------------------------------------------------------\u001b[0m",
      "\u001b[1;31mCPLE_AppDefinedError\u001b[0m                      Traceback (most recent call last)",
      "\u001b[1;32mfiona/_err.pyx\u001b[0m in \u001b[0;36mfiona._err.GDALErrCtxManager.__exit__\u001b[1;34m()\u001b[0m\n",
      "\u001b[1;31mCPLE_AppDefinedError\u001b[0m: b'sqlite3_exec(CREATE VIRTUAL TABLE \"rtree_gc_ua_bad_jobs_tot__geom\" USING rtree(id, minx, maxx, miny, maxy)) failed: no such module: rtree'"
     ]
    },
    {
     "name": "stderr",
     "output_type": "stream",
     "text": [
      "Exception ignored in: 'fiona._shim.gdal_flush_cache'\n",
      "Traceback (most recent call last):\n",
      "  File \"fiona/_err.pyx\", line 201, in fiona._err.GDALErrCtxManager.__exit__\n",
      "fiona._err.CPLE_AppDefinedError: b'sqlite3_exec(CREATE VIRTUAL TABLE \"rtree_gc_ua_bad_jobs_tot__geom\" USING rtree(id, minx, maxx, miny, maxy)) failed: no such module: rtree'\n"
     ]
    },
    {
     "name": "stdout",
     "output_type": "stream",
     "text": [
      "good_jobs_4and5\n"
     ]
    },
    {
     "ename": "CPLE_AppDefinedError",
     "evalue": "b'sqlite3_exec(CREATE VIRTUAL TABLE \"rtree_gc_ua_good_jobs_4and5_geom\" USING rtree(id, minx, maxx, miny, maxy)) failed: no such module: rtree'",
     "output_type": "error",
     "traceback": [
      "\u001b[1;31m---------------------------------------------------------------------------\u001b[0m",
      "\u001b[1;31mCPLE_AppDefinedError\u001b[0m                      Traceback (most recent call last)",
      "\u001b[1;32mfiona/_err.pyx\u001b[0m in \u001b[0;36mfiona._err.GDALErrCtxManager.__exit__\u001b[1;34m()\u001b[0m\n",
      "\u001b[1;31mCPLE_AppDefinedError\u001b[0m: b'sqlite3_exec(CREATE VIRTUAL TABLE \"rtree_gc_ua_good_jobs_4and5_geom\" USING rtree(id, minx, maxx, miny, maxy)) failed: no such module: rtree'"
     ]
    },
    {
     "name": "stderr",
     "output_type": "stream",
     "text": [
      "Exception ignored in: 'fiona._shim.gdal_flush_cache'\n",
      "Traceback (most recent call last):\n",
      "  File \"fiona/_err.pyx\", line 201, in fiona._err.GDALErrCtxManager.__exit__\n",
      "fiona._err.CPLE_AppDefinedError: b'sqlite3_exec(CREATE VIRTUAL TABLE \"rtree_gc_ua_good_jobs_4and5_geom\" USING rtree(id, minx, maxx, miny, maxy)) failed: no such module: rtree'\n"
     ]
    },
    {
     "name": "stdout",
     "output_type": "stream",
     "text": [
      "bad_jobs_4and5\n"
     ]
    },
    {
     "ename": "CPLE_AppDefinedError",
     "evalue": "b'sqlite3_exec(CREATE VIRTUAL TABLE \"rtree_gc_ua_bad_jobs_4and5_geom\" USING rtree(id, minx, maxx, miny, maxy)) failed: no such module: rtree'",
     "output_type": "error",
     "traceback": [
      "\u001b[1;31m---------------------------------------------------------------------------\u001b[0m",
      "\u001b[1;31mCPLE_AppDefinedError\u001b[0m                      Traceback (most recent call last)",
      "\u001b[1;32mfiona/_err.pyx\u001b[0m in \u001b[0;36mfiona._err.GDALErrCtxManager.__exit__\u001b[1;34m()\u001b[0m\n",
      "\u001b[1;31mCPLE_AppDefinedError\u001b[0m: b'sqlite3_exec(CREATE VIRTUAL TABLE \"rtree_gc_ua_bad_jobs_4and5_geom\" USING rtree(id, minx, maxx, miny, maxy)) failed: no such module: rtree'"
     ]
    },
    {
     "name": "stderr",
     "output_type": "stream",
     "text": [
      "Exception ignored in: 'fiona._shim.gdal_flush_cache'\n",
      "Traceback (most recent call last):\n",
      "  File \"fiona/_err.pyx\", line 201, in fiona._err.GDALErrCtxManager.__exit__\n",
      "fiona._err.CPLE_AppDefinedError: b'sqlite3_exec(CREATE VIRTUAL TABLE \"rtree_gc_ua_bad_jobs_4and5_geom\" USING rtree(id, minx, maxx, miny, maxy)) failed: no such module: rtree'\n"
     ]
    },
    {
     "name": "stdout",
     "output_type": "stream",
     "text": [
      "n_firms_4and5\n"
     ]
    },
    {
     "ename": "CPLE_AppDefinedError",
     "evalue": "b'sqlite3_exec(CREATE VIRTUAL TABLE \"rtree_gc_ua_n_firms_4and5_geom\" USING rtree(id, minx, maxx, miny, maxy)) failed: no such module: rtree'",
     "output_type": "error",
     "traceback": [
      "\u001b[1;31m---------------------------------------------------------------------------\u001b[0m",
      "\u001b[1;31mCPLE_AppDefinedError\u001b[0m                      Traceback (most recent call last)",
      "\u001b[1;32mfiona/_err.pyx\u001b[0m in \u001b[0;36mfiona._err.GDALErrCtxManager.__exit__\u001b[1;34m()\u001b[0m\n",
      "\u001b[1;31mCPLE_AppDefinedError\u001b[0m: b'sqlite3_exec(CREATE VIRTUAL TABLE \"rtree_gc_ua_n_firms_4and5_geom\" USING rtree(id, minx, maxx, miny, maxy)) failed: no such module: rtree'"
     ]
    },
    {
     "name": "stderr",
     "output_type": "stream",
     "text": [
      "Exception ignored in: 'fiona._shim.gdal_flush_cache'\n",
      "Traceback (most recent call last):\n",
      "  File \"fiona/_err.pyx\", line 201, in fiona._err.GDALErrCtxManager.__exit__\n",
      "fiona._err.CPLE_AppDefinedError: b'sqlite3_exec(CREATE VIRTUAL TABLE \"rtree_gc_ua_n_firms_4and5_geom\" USING rtree(id, minx, maxx, miny, maxy)) failed: no such module: rtree'\n"
     ]
    },
    {
     "name": "stdout",
     "output_type": "stream",
     "text": [
      "n_firms_tot\n"
     ]
    },
    {
     "ename": "CPLE_AppDefinedError",
     "evalue": "b'sqlite3_exec(CREATE VIRTUAL TABLE \"rtree_gc_ua_n_firms_tot_geom\" USING rtree(id, minx, maxx, miny, maxy)) failed: no such module: rtree'",
     "output_type": "error",
     "traceback": [
      "\u001b[1;31m---------------------------------------------------------------------------\u001b[0m",
      "\u001b[1;31mCPLE_AppDefinedError\u001b[0m                      Traceback (most recent call last)",
      "\u001b[1;32mfiona/_err.pyx\u001b[0m in \u001b[0;36mfiona._err.GDALErrCtxManager.__exit__\u001b[1;34m()\u001b[0m\n",
      "\u001b[1;31mCPLE_AppDefinedError\u001b[0m: b'sqlite3_exec(CREATE VIRTUAL TABLE \"rtree_gc_ua_n_firms_tot_geom\" USING rtree(id, minx, maxx, miny, maxy)) failed: no such module: rtree'"
     ]
    },
    {
     "name": "stderr",
     "output_type": "stream",
     "text": [
      "Exception ignored in: 'fiona._shim.gdal_flush_cache'\n",
      "Traceback (most recent call last):\n",
      "  File \"fiona/_err.pyx\", line 201, in fiona._err.GDALErrCtxManager.__exit__\n",
      "fiona._err.CPLE_AppDefinedError: b'sqlite3_exec(CREATE VIRTUAL TABLE \"rtree_gc_ua_n_firms_tot_geom\" USING rtree(id, minx, maxx, miny, maxy)) failed: no such module: rtree'\n"
     ]
    },
    {
     "name": "stdout",
     "output_type": "stream",
     "text": [
      "tw_tot\n"
     ]
    },
    {
     "ename": "CPLE_AppDefinedError",
     "evalue": "b'sqlite3_exec(CREATE VIRTUAL TABLE \"rtree_gc_ua_tw_tot_geom\" USING rtree(id, minx, maxx, miny, maxy)) failed: no such module: rtree'",
     "output_type": "error",
     "traceback": [
      "\u001b[1;31m---------------------------------------------------------------------------\u001b[0m",
      "\u001b[1;31mCPLE_AppDefinedError\u001b[0m                      Traceback (most recent call last)",
      "\u001b[1;32mfiona/_err.pyx\u001b[0m in \u001b[0;36mfiona._err.GDALErrCtxManager.__exit__\u001b[1;34m()\u001b[0m\n",
      "\u001b[1;31mCPLE_AppDefinedError\u001b[0m: b'sqlite3_exec(CREATE VIRTUAL TABLE \"rtree_gc_ua_tw_tot_geom\" USING rtree(id, minx, maxx, miny, maxy)) failed: no such module: rtree'"
     ]
    },
    {
     "name": "stderr",
     "output_type": "stream",
     "text": [
      "Exception ignored in: 'fiona._shim.gdal_flush_cache'\n",
      "Traceback (most recent call last):\n",
      "  File \"fiona/_err.pyx\", line 201, in fiona._err.GDALErrCtxManager.__exit__\n",
      "fiona._err.CPLE_AppDefinedError: b'sqlite3_exec(CREATE VIRTUAL TABLE \"rtree_gc_ua_tw_tot_geom\" USING rtree(id, minx, maxx, miny, maxy)) failed: no such module: rtree'\n"
     ]
    },
    {
     "name": "stdout",
     "output_type": "stream",
     "text": [
      "tw_tot_4and5\n"
     ]
    },
    {
     "ename": "CPLE_AppDefinedError",
     "evalue": "b'sqlite3_exec(CREATE VIRTUAL TABLE \"rtree_gc_ua_tw_tot_4and5_geom\" USING rtree(id, minx, maxx, miny, maxy)) failed: no such module: rtree'",
     "output_type": "error",
     "traceback": [
      "\u001b[1;31m---------------------------------------------------------------------------\u001b[0m",
      "\u001b[1;31mCPLE_AppDefinedError\u001b[0m                      Traceback (most recent call last)",
      "\u001b[1;32mfiona/_err.pyx\u001b[0m in \u001b[0;36mfiona._err.GDALErrCtxManager.__exit__\u001b[1;34m()\u001b[0m\n",
      "\u001b[1;31mCPLE_AppDefinedError\u001b[0m: b'sqlite3_exec(CREATE VIRTUAL TABLE \"rtree_gc_ua_tw_tot_4and5_geom\" USING rtree(id, minx, maxx, miny, maxy)) failed: no such module: rtree'"
     ]
    },
    {
     "name": "stderr",
     "output_type": "stream",
     "text": [
      "Exception ignored in: 'fiona._shim.gdal_flush_cache'\n",
      "Traceback (most recent call last):\n",
      "  File \"fiona/_err.pyx\", line 201, in fiona._err.GDALErrCtxManager.__exit__\n",
      "fiona._err.CPLE_AppDefinedError: b'sqlite3_exec(CREATE VIRTUAL TABLE \"rtree_gc_ua_tw_tot_4and5_geom\" USING rtree(id, minx, maxx, miny, maxy)) failed: no such module: rtree'\n"
     ]
    },
    {
     "name": "stdout",
     "output_type": "stream",
     "text": [
      "tw_ser_4and5\n"
     ]
    },
    {
     "ename": "CPLE_AppDefinedError",
     "evalue": "b'sqlite3_exec(CREATE VIRTUAL TABLE \"rtree_gc_ua_tw_ser_4and5_geom\" USING rtree(id, minx, maxx, miny, maxy)) failed: no such module: rtree'",
     "output_type": "error",
     "traceback": [
      "\u001b[1;31m---------------------------------------------------------------------------\u001b[0m",
      "\u001b[1;31mCPLE_AppDefinedError\u001b[0m                      Traceback (most recent call last)",
      "\u001b[1;32mfiona/_err.pyx\u001b[0m in \u001b[0;36mfiona._err.GDALErrCtxManager.__exit__\u001b[1;34m()\u001b[0m\n",
      "\u001b[1;31mCPLE_AppDefinedError\u001b[0m: b'sqlite3_exec(CREATE VIRTUAL TABLE \"rtree_gc_ua_tw_ser_4and5_geom\" USING rtree(id, minx, maxx, miny, maxy)) failed: no such module: rtree'"
     ]
    },
    {
     "name": "stderr",
     "output_type": "stream",
     "text": [
      "Exception ignored in: 'fiona._shim.gdal_flush_cache'\n",
      "Traceback (most recent call last):\n",
      "  File \"fiona/_err.pyx\", line 201, in fiona._err.GDALErrCtxManager.__exit__\n",
      "fiona._err.CPLE_AppDefinedError: b'sqlite3_exec(CREATE VIRTUAL TABLE \"rtree_gc_ua_tw_ser_4and5_geom\" USING rtree(id, minx, maxx, miny, maxy)) failed: no such module: rtree'\n"
     ]
    },
    {
     "name": "stdout",
     "output_type": "stream",
     "text": [
      "tw_ind_4and5\n"
     ]
    },
    {
     "ename": "CPLE_AppDefinedError",
     "evalue": "b'sqlite3_exec(CREATE VIRTUAL TABLE \"rtree_gc_ua_tw_ind_4and5_geom\" USING rtree(id, minx, maxx, miny, maxy)) failed: no such module: rtree'",
     "output_type": "error",
     "traceback": [
      "\u001b[1;31m---------------------------------------------------------------------------\u001b[0m",
      "\u001b[1;31mCPLE_AppDefinedError\u001b[0m                      Traceback (most recent call last)",
      "\u001b[1;32mfiona/_err.pyx\u001b[0m in \u001b[0;36mfiona._err.GDALErrCtxManager.__exit__\u001b[1;34m()\u001b[0m\n",
      "\u001b[1;31mCPLE_AppDefinedError\u001b[0m: b'sqlite3_exec(CREATE VIRTUAL TABLE \"rtree_gc_ua_tw_ind_4and5_geom\" USING rtree(id, minx, maxx, miny, maxy)) failed: no such module: rtree'"
     ]
    },
    {
     "name": "stderr",
     "output_type": "stream",
     "text": [
      "Exception ignored in: 'fiona._shim.gdal_flush_cache'\n",
      "Traceback (most recent call last):\n",
      "  File \"fiona/_err.pyx\", line 201, in fiona._err.GDALErrCtxManager.__exit__\n",
      "fiona._err.CPLE_AppDefinedError: b'sqlite3_exec(CREATE VIRTUAL TABLE \"rtree_gc_ua_tw_ind_4and5_geom\" USING rtree(id, minx, maxx, miny, maxy)) failed: no such module: rtree'\n"
     ]
    },
    {
     "name": "stdout",
     "output_type": "stream",
     "text": [
      "no_weight\n"
     ]
    },
    {
     "ename": "CPLE_AppDefinedError",
     "evalue": "b'sqlite3_exec(CREATE VIRTUAL TABLE \"rtree_gc_ua_no_weight_geom\" USING rtree(id, minx, maxx, miny, maxy)) failed: no such module: rtree'",
     "output_type": "error",
     "traceback": [
      "\u001b[1;31m---------------------------------------------------------------------------\u001b[0m",
      "\u001b[1;31mCPLE_AppDefinedError\u001b[0m                      Traceback (most recent call last)",
      "\u001b[1;32mfiona/_err.pyx\u001b[0m in \u001b[0;36mfiona._err.GDALErrCtxManager.__exit__\u001b[1;34m()\u001b[0m\n",
      "\u001b[1;31mCPLE_AppDefinedError\u001b[0m: b'sqlite3_exec(CREATE VIRTUAL TABLE \"rtree_gc_ua_no_weight_geom\" USING rtree(id, minx, maxx, miny, maxy)) failed: no such module: rtree'"
     ]
    },
    {
     "name": "stderr",
     "output_type": "stream",
     "text": [
      "Exception ignored in: 'fiona._shim.gdal_flush_cache'\n",
      "Traceback (most recent call last):\n",
      "  File \"fiona/_err.pyx\", line 201, in fiona._err.GDALErrCtxManager.__exit__\n",
      "fiona._err.CPLE_AppDefinedError: b'sqlite3_exec(CREATE VIRTUAL TABLE \"rtree_gc_ua_no_weight_geom\" USING rtree(id, minx, maxx, miny, maxy)) failed: no such module: rtree'\n"
     ]
    }
   ],
   "source": [
    "for key, v in grav_models_dict.items():\n",
    "    \n",
    "    print(key)\n",
    "    \n",
    "    df = dest_grav_loop(ua_orig_gc,ua_gc_odm.transpose(),key,gcs,ua_orig_grp)\n",
    "    \n",
    "    gpkg_layername = 'gc_ua_' + key\n",
    "    df.to_file(os.path.join('results\\\\spatial\\\\gravity_models_gcs.gpkg'),layer=gpkg_layername,driver=\"GPKG\", ignore_errors=True)\n",
    "    \n",
    "    grav_models_dict[key] = df"
   ]
  },
  {
   "cell_type": "code",
   "execution_count": null,
   "metadata": {},
   "outputs": [],
   "source": []
  }
 ],
 "metadata": {
  "kernelspec": {
   "display_name": "Python 3",
   "language": "python",
   "name": "python3"
  },
  "language_info": {
   "codemirror_mode": {
    "name": "ipython",
    "version": 3
   },
   "file_extension": ".py",
   "mimetype": "text/x-python",
   "name": "python",
   "nbconvert_exporter": "python",
   "pygments_lexer": "ipython3",
   "version": "3.7.6"
  }
 },
 "nbformat": 4,
 "nbformat_minor": 4
}
