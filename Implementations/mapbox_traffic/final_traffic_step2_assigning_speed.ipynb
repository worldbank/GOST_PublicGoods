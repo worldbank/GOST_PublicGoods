{
 "cells": [
  {
   "cell_type": "markdown",
   "metadata": {},
   "source": [
    "# Step 2: Assigning Speed to Traffic Data"
   ]
  },
  {
   "cell_type": "code",
   "execution_count": 33,
   "metadata": {},
   "outputs": [],
   "source": [
    "import os, sys, time, importlib\n",
    "import osmnx\n",
    "\n",
    "import geopandas as gpd\n",
    "import pandas as pd\n",
    "import networkx as nx\n",
    "import numpy as np\n",
    "sys.path.append(\"../../../GOSTnets\")\n",
    "import GOSTnets as gn\n",
    "\n",
    "# pip install osmium\n",
    "# import osmium, logging\n",
    "# import shapely.wkb as wkblib\n",
    "\n",
    "from shapely.geometry import LineString, Point"
   ]
  },
  {
   "cell_type": "code",
   "execution_count": 34,
   "metadata": {},
   "outputs": [
    {
     "name": "stdout",
     "output_type": "stream",
     "text": [
      "The autoreload extension is already loaded. To reload it, use:\n",
      "  %reload_ext autoreload\n"
     ]
    }
   ],
   "source": [
    "# This is a Jupyter Notebook extension which reloads all of the modules whenever you run the code\n",
    "# This is optional but good if you are modifying and testing source code\n",
    "%load_ext autoreload\n",
    "%autoreload 2"
   ]
  },
  {
   "cell_type": "code",
   "execution_count": 35,
   "metadata": {},
   "outputs": [],
   "source": [
    "from GOSTnets.load_traffic2 import *"
   ]
  },
  {
   "cell_type": "code",
   "execution_count": 36,
   "metadata": {},
   "outputs": [],
   "source": [
    "#read_nodes = pd.read_csv('./vavuniya_unclean_nodes.csv')"
   ]
  },
  {
   "cell_type": "code",
   "execution_count": 37,
   "metadata": {},
   "outputs": [],
   "source": [
    "#read_nodes[:5]"
   ]
  },
  {
   "cell_type": "code",
   "execution_count": 38,
   "metadata": {},
   "outputs": [],
   "source": [
    "# read graph\n",
    "G = nx.read_gpickle('./sri_lanka_unclean2.pickle')"
   ]
  },
  {
   "cell_type": "code",
   "execution_count": 39,
   "metadata": {},
   "outputs": [
    {
     "data": {
      "text/plain": [
       "1930664"
      ]
     },
     "execution_count": 39,
     "metadata": {},
     "output_type": "execute_result"
    }
   ],
   "source": [
    "len(G.edges)"
   ]
  },
  {
   "cell_type": "code",
   "execution_count": 40,
   "metadata": {},
   "outputs": [
    {
     "data": {
      "text/plain": [
       "AtlasView({0: {'osm_id': 4860427, 'geometry': <shapely.geometry.linestring.LineString object at 0x7fcd85de0d90>, 'infra_type': 'trunk', 'min_speed': 23.0, 'max_speed': 37.0, 'mean_speed': 26.793650793650794, 'length': 0.009757789924575978}})"
      ]
     },
     "execution_count": 40,
     "metadata": {},
     "output_type": "execute_result"
    }
   ],
   "source": [
    "G[1650104033][6236632580]"
   ]
  },
  {
   "cell_type": "code",
   "execution_count": 41,
   "metadata": {},
   "outputs": [
    {
     "name": "stdout",
     "output_type": "stream",
     "text": [
      "(1650104033, 6236632580, {'osm_id': 4860427, 'geometry': <shapely.geometry.linestring.LineString object at 0x7fcd85de0d90>, 'infra_type': 'trunk', 'min_speed': 23.0, 'max_speed': 37.0, 'mean_speed': 26.793650793650794, 'length': 0.009757789924575978})\n",
      "(1650104033, 970058024, {'osm_id': 152177791, 'geometry': <shapely.geometry.linestring.LineString object at 0x7fcd85de0f50>, 'infra_type': 'trunk', 'min_speed': 23.0, 'max_speed': 37.0, 'mean_speed': 26.793650793650794, 'length': 0.0160020254611234})\n",
      "(6236632580, 6236632579, {'osm_id': 4860427, 'geometry': <shapely.geometry.linestring.LineString object at 0x7fcd85de0fd0>, 'infra_type': 'trunk', 'min_speed': 23.0, 'max_speed': 37.0, 'mean_speed': 26.793650793650794, 'length': 0.005235256075996137})\n",
      "(6236632580, 1650104033, {'osm_id': 4860427, 'geometry': <shapely.geometry.linestring.LineString object at 0x7fcd85de0d90>, 'infra_type': 'trunk', 'min_speed': 23.0, 'max_speed': 37.0, 'mean_speed': 26.793650793650794, 'length': 0.009757789924575978})\n",
      "(6236632579, 6236632578, {'osm_id': 4860427, 'geometry': <shapely.geometry.linestring.LineString object at 0x7fcd85de4090>, 'infra_type': 'trunk', 'min_speed': 23.0, 'max_speed': 37.0, 'mean_speed': 26.793650793650794, 'length': 0.006290344303147445})\n"
     ]
    }
   ],
   "source": [
    "gn.example_edge(G, 5)"
   ]
  },
  {
   "cell_type": "markdown",
   "metadata": {},
   "source": [
    "## Find out average speeds for highway classes with Mapbox data"
   ]
  },
  {
   "cell_type": "code",
   "execution_count": 42,
   "metadata": {},
   "outputs": [],
   "source": [
    "def find_traffic_hwy_avg_speeds_by_class(G, speed_tag='mean_speed'):\n",
    "    \"\"\"\n",
    "    Function for finding out the different highway classes in the graph and their respective lengths\n",
    "\n",
    "    :param G: a graph object\n",
    "    :param speed_tag: specifies which edge attribute represents traffic speed\n",
    "    :returns: a dictionary that has each class and the total distance per class\n",
    "    \"\"\"\n",
    "\n",
    "    if type(G) == nx.classes.multidigraph.MultiDiGraph or type(G) == nx.classes.digraph.DiGraph:\n",
    "        pass\n",
    "    else:\n",
    "        raise ValueError('Expecting a graph or geodataframe for G!')\n",
    "\n",
    "    G_adj = G.copy()\n",
    "\n",
    "    traffic_class_list = []\n",
    "\n",
    "    for u, v, data in G_adj.edges(data=True):\n",
    "        #print(data['infra_type'])\n",
    "        if 'mean_speed' in data:\n",
    "            if type(data['infra_type']) == list:\n",
    "                    if data['infra_type'][0] not in traffic_class_list:\n",
    "                        traffic_class_list.append(data['infra_type'][0])\n",
    "            else:\n",
    "                if data['infra_type'] not in traffic_class_list:\n",
    "                    traffic_class_list.append(data['infra_type'])\n",
    "    \n",
    "    class_dict = { i : [] for i in traffic_class_list }\n",
    "    \n",
    "    print(f'print traffic_class_list: {traffic_class_list}')\n",
    "\n",
    "    for i in traffic_class_list:\n",
    "        for u, v, data in G_adj.edges(data=True):\n",
    "            if 'mean_speed' in data:\n",
    "                if data['mean_speed'] > 0:\n",
    "                    if type(data['infra_type']) == list:\n",
    "                        if data['infra_type'][0] == i:\n",
    "                            class_dict[i].append(data[speed_tag])\n",
    "                    else:\n",
    "                        if data['infra_type'] == i:\n",
    "                            class_dict[i].append(data[speed_tag])\n",
    "                        \n",
    "    print(f'print class_dict: {class_dict}')\n",
    "    \n",
    "    def Average(lst): \n",
    "        if len(lst) > 0:\n",
    "            return sum(lst) / len(lst)\n",
    "        else:\n",
    "            return 0\n",
    "    \n",
    "    class_dict_copy = class_dict.copy()\n",
    "    \n",
    "    for key in class_dict_copy:\n",
    "        class_dict_copy[key] = Average(class_dict_copy[key])\n",
    "\n",
    "    return class_dict_copy"
   ]
  },
  {
   "cell_type": "code",
   "execution_count": 43,
   "metadata": {},
   "outputs": [],
   "source": [
    "#average_speeds_per_class_dict = find_traffic_hwy_avg_speeds_by_class(G, speed_tag='mean_speed')"
   ]
  },
  {
   "cell_type": "code",
   "execution_count": 44,
   "metadata": {},
   "outputs": [],
   "source": [
    "#average_speeds_per_class_dict"
   ]
  },
  {
   "cell_type": "code",
   "execution_count": 45,
   "metadata": {},
   "outputs": [],
   "source": [
    "# speed dict based on existing speed limit tags\n",
    "speed_dict_sri_lanka_max_speeds = {\n",
    "'motorway':100 ,\n",
    "'motorway_link':35 ,\n",
    "'trunk': 60,\n",
    "'trunk_link': 50,\n",
    "'primary': 60,\n",
    "'primary_link': 50,\n",
    "'secondary': 50,\n",
    "'secondary_link': 45,\n",
    "'tertiary':40,\n",
    "'tertiary_link': 40,\n",
    "'residential': 30,\n",
    "'unclassified': 25,\n",
    "'track': 25,\n",
    "'service': 20\n",
    "}"
   ]
  },
  {
   "cell_type": "code",
   "execution_count": 46,
   "metadata": {},
   "outputs": [],
   "source": [
    "# speed dict based on mean of mapbox real-world speeds per class\n",
    "speed_dict_sri_lanka_mapbox_mean_speeds = {\n",
    "'motorway':85 ,\n",
    "'motorway_link':30 ,\n",
    "'trunk': 40,\n",
    "'trunk_link': 23,\n",
    "'primary': 35,\n",
    "'primary_link': 14,\n",
    "'secondary': 34,\n",
    "'secondary_link': 9,\n",
    "'tertiary':25,\n",
    "'tertiary_link': 13,\n",
    "'residential': 20,\n",
    "'unclassified': 20,\n",
    "'track': 20,\n",
    "'service': 10\n",
    "}"
   ]
  },
  {
   "cell_type": "code",
   "execution_count": 47,
   "metadata": {},
   "outputs": [],
   "source": [
    "# modified the function below to calculate the correct time based on whether it has a Mapbox speed or not\n",
    "# also it creates a new 'speed' attribute that is either based on the mapbox traffic speed, or the speed provided\n",
    "# by the input dictionary if the mapbox traffic speed does not exist"
   ]
  },
  {
   "cell_type": "code",
   "execution_count": 48,
   "metadata": {},
   "outputs": [],
   "source": [
    "def convert_network_to_time_w_traffic(G, distance_tag, graph_type = 'drive', road_col = 'highway', traffic_col = 'mean_speed', speed_dict = speed_dict_sri_lanka_max_speeds, walk_speed = 4.5, factor = 1, default = None, improvement_cost_per_km = None):\n",
    "    \"\"\"\n",
    "    Function for adding a time value to edge dictionaries. Ensure any GeoDataFrames / graphs are in the same projection before using function, or pass a crs.\n",
    "\n",
    "    DEFAULT SPEEDS:\n",
    "\n",
    "               speed_dict = {\n",
    "               'residential': 20,  # kmph\n",
    "               'primary': 40, # kmph\n",
    "               'primary_link':35,\n",
    "               'motorway':50,\n",
    "               'motorway_link': 45,\n",
    "               'trunk': 40,\n",
    "               'trunk_link':35,\n",
    "               'secondary': 30,\n",
    "               'secondary_link':25,\n",
    "               'tertiary':30,\n",
    "               'tertiary_link': 25,\n",
    "               'unclassified':20\n",
    "               }\n",
    "\n",
    "    :param G: a graph containing one or more nodes\n",
    "    :param distance_tag: the key in the dictionary for the field currently\n",
    "               containing a distance in meters\n",
    "    :param road_col: key for the road type in the edge data dictionary\n",
    "    :param graph_type: set to either 'drive' or 'walk'. IF walk - will set time = walking time across all segment, using the supplied walk_speed. IF drive - will use a speed dictionary for each road type, or defaults as per the note below.\n",
    "    :param speed_dict: speed dictionary to use. If not supplied, reverts to\n",
    "               defaults\n",
    "    :param walk_speed: specify a walkspeed in km/h\n",
    "    :param factor: allows you to scale up / down distances if saved in a unit other than meters. Set to 1000 if length in km.\n",
    "    :param default: if highway type not in the speed_dict, use this road class as an in-fill value for time.\n",
    "    :returns: The original graph with a new data property for the edges called 'time'\n",
    "    \"\"\"\n",
    "\n",
    "    if type(G) == nx.classes.multidigraph.MultiDiGraph or type(G) == nx.classes.digraph.DiGraph:\n",
    "        pass\n",
    "    else:\n",
    "        raise ValueError('Expecting a graph or geodataframe for G!')\n",
    "\n",
    "    import warnings\n",
    "\n",
    "    try:\n",
    "        # checks the first edge to see if the 'time' attribute already exists\n",
    "        if list(G.edges(data = True))[0][2]['time']:\n",
    "          warnings.warn('Aree you sure you want to convert length to time? This graph already has a time attribute')\n",
    "    except:\n",
    "        pass\n",
    "\n",
    "    G_adj = G.copy()\n",
    "\n",
    "    for u, v, data in G_adj.edges(data=True):\n",
    "\n",
    "        # the default lenth in the graph should be in km\n",
    "        orig_len = data[distance_tag]\n",
    "\n",
    "        # Note that this is a MultiDiGraph so there could\n",
    "        # be multiple indices here, I naively assume this is not\n",
    "        # the case\n",
    "        data['length'] = orig_len * factor\n",
    "        \n",
    "\n",
    "        # get appropriate speed limit\n",
    "        if graph_type == 'walk':\n",
    "            speed = walk_speed\n",
    "\n",
    "        elif graph_type == 'drive':\n",
    "\n",
    "            if speed_dict == None:\n",
    "                speed_dict = {\n",
    "                'residential': 20,  # kmph\n",
    "                'primary': 40, # kmph\n",
    "                'primary_link':35,\n",
    "                'motorway':50,\n",
    "                'motorway_link': 45,\n",
    "                'trunk': 40,\n",
    "                'trunk_link':35,\n",
    "                'secondary': 30,\n",
    "                'secondary_link':25,\n",
    "                'tertiary':30,\n",
    "                'tertiary_link': 25,\n",
    "                'unclassified':20\n",
    "                }\n",
    "\n",
    "            highwayclass = data[road_col]\n",
    "            \n",
    "            trafficclass = data[traffic_col]\n",
    "\n",
    "            if trafficclass > 0:\n",
    "                speed = data[traffic_col]\n",
    "                data['speed'] = speed\n",
    "            else:\n",
    "                if type(highwayclass) == list:\n",
    "                    highwayclass = highwayclass[0]\n",
    "\n",
    "                if highwayclass in speed_dict.keys():\n",
    "                    speed = speed_dict[highwayclass]\n",
    "                else:\n",
    "                    if default == None:\n",
    "                        speed = 20\n",
    "                    else:\n",
    "                        speed = speed_dict[default]\n",
    "                data['speed'] = speed\n",
    "            \n",
    "            #calculate road improvement costs for secondary or lower highways\n",
    "            if highwayclass in ['secondary', 'secondary_link', 'tertiary', 'tertiary_link', 'unclassified', 'residential']:\n",
    "                data['imp_cost'] = orig_len * improvement_cost_per_km\n",
    "\n",
    "        else:\n",
    "            raise ValueError('Expecting either a graph_type of \"walk\" or \"drive\"!')\n",
    "\n",
    "        # perform conversion\n",
    "        hours = orig_len / speed\n",
    "        in_seconds = hours * 60 * 60\n",
    "        data['time'] = in_seconds\n",
    "\n",
    "        # And state the mode, too\n",
    "        data['mode'] = graph_type\n",
    "\n",
    "    return G_adj"
   ]
  },
  {
   "cell_type": "code",
   "execution_count": 49,
   "metadata": {},
   "outputs": [],
   "source": [
    "G_time = convert_network_to_time_w_traffic(G, distance_tag = 'length', road_col = 'infra_type', speed_dict = speed_dict_sri_lanka_mapbox_mean_speeds, factor = 1, improvement_cost_per_km = 186800)"
   ]
  },
  {
   "cell_type": "code",
   "execution_count": 50,
   "metadata": {},
   "outputs": [
    {
     "name": "stdout",
     "output_type": "stream",
     "text": [
      "(1650104033, 6236632580, {'osm_id': 4860427, 'geometry': <shapely.geometry.linestring.LineString object at 0x7fcd85de0d90>, 'infra_type': 'trunk', 'min_speed': 23.0, 'max_speed': 37.0, 'mean_speed': 26.793650793650794, 'length': 0.009757789924575978, 'speed': 26.793650793650794, 'time': 1.3110585040840237, 'mode': 'drive'})\n",
      "(1650104033, 970058024, {'osm_id': 152177791, 'geometry': <shapely.geometry.linestring.LineString object at 0x7fcd85de0f50>, 'infra_type': 'trunk', 'min_speed': 23.0, 'max_speed': 37.0, 'mean_speed': 26.793650793650794, 'length': 0.0160020254611234, 'speed': 26.793650793650794, 'time': 2.150035174515869, 'mode': 'drive'})\n",
      "(6236632580, 6236632579, {'osm_id': 4860427, 'geometry': <shapely.geometry.linestring.LineString object at 0x7fcd85de0fd0>, 'infra_type': 'trunk', 'min_speed': 23.0, 'max_speed': 37.0, 'mean_speed': 26.793650793650794, 'length': 0.005235256075996137, 'speed': 26.793650793650794, 'time': 0.7034099988364477, 'mode': 'drive'})\n",
      "(6236632580, 1650104033, {'osm_id': 4860427, 'geometry': <shapely.geometry.linestring.LineString object at 0x7fcd85de0d90>, 'infra_type': 'trunk', 'min_speed': 23.0, 'max_speed': 37.0, 'mean_speed': 26.793650793650794, 'length': 0.009757789924575978, 'speed': 26.793650793650794, 'time': 1.3110585040840237, 'mode': 'drive'})\n",
      "(6236632579, 6236632578, {'osm_id': 4860427, 'geometry': <shapely.geometry.linestring.LineString object at 0x7fcd85de4090>, 'infra_type': 'trunk', 'min_speed': 23.0, 'max_speed': 37.0, 'mean_speed': 26.793650793650794, 'length': 0.006290344303147445, 'speed': 26.793650793650794, 'time': 0.8451718530532231, 'mode': 'drive'})\n",
      "(6236632579, 6236632580, {'osm_id': 4860427, 'geometry': <shapely.geometry.linestring.LineString object at 0x7fcd85de0fd0>, 'infra_type': 'trunk', 'min_speed': 23.0, 'max_speed': 37.0, 'mean_speed': 26.793650793650794, 'length': 0.005235256075996137, 'speed': 26.793650793650794, 'time': 0.7034099988364477, 'mode': 'drive'})\n",
      "(6236632578, 6236632577, {'osm_id': 4860427, 'geometry': <shapely.geometry.linestring.LineString object at 0x7fcd85de4050>, 'infra_type': 'trunk', 'min_speed': nan, 'max_speed': nan, 'mean_speed': nan, 'length': 0.002961892694164434, 'speed': 40, 'time': 0.26657034247479905, 'mode': 'drive'})\n",
      "(6236632578, 6236632579, {'osm_id': 4860427, 'geometry': <shapely.geometry.linestring.LineString object at 0x7fcd85de4090>, 'infra_type': 'trunk', 'min_speed': 23.0, 'max_speed': 37.0, 'mean_speed': 26.793650793650794, 'length': 0.006290344303147445, 'speed': 26.793650793650794, 'time': 0.8451718530532231, 'mode': 'drive'})\n",
      "(6236632578, 6236632550, {'osm_id': 666146377, 'geometry': <shapely.geometry.linestring.LineString object at 0x7fcd85de40d0>, 'infra_type': 'tertiary', 'min_speed': nan, 'max_speed': nan, 'mean_speed': nan, 'length': 0.003941187806930369, 'speed': 25, 'imp_cost': 736.213882334593, 'time': 0.5675310441979732, 'mode': 'drive'})\n",
      "(6236632577, 6236632576, {'osm_id': 4860427, 'geometry': <shapely.geometry.linestring.LineString object at 0x7fcd85de4190>, 'infra_type': 'trunk', 'min_speed': nan, 'max_speed': nan, 'mean_speed': nan, 'length': 0.004925242625040352, 'speed': 40, 'time': 0.44327183625363165, 'mode': 'drive'})\n",
      "(6236632577, 6236632578, {'osm_id': 4860427, 'geometry': <shapely.geometry.linestring.LineString object at 0x7fcd85de4050>, 'infra_type': 'trunk', 'min_speed': nan, 'max_speed': nan, 'mean_speed': nan, 'length': 0.002961892694164434, 'speed': 40, 'time': 0.26657034247479905, 'mode': 'drive'})\n",
      "(6236632576, 6236632575, {'osm_id': 4860427, 'geometry': <shapely.geometry.linestring.LineString object at 0x7fcd85de41d0>, 'infra_type': 'trunk', 'min_speed': nan, 'max_speed': nan, 'mean_speed': nan, 'length': 0.004658669774348088, 'speed': 40, 'time': 0.4192802796913279, 'mode': 'drive'})\n",
      "(6236632576, 6236632577, {'osm_id': 4860427, 'geometry': <shapely.geometry.linestring.LineString object at 0x7fcd85de4190>, 'infra_type': 'trunk', 'min_speed': nan, 'max_speed': nan, 'mean_speed': nan, 'length': 0.004925242625040352, 'speed': 40, 'time': 0.44327183625363165, 'mode': 'drive'})\n",
      "(6236632575, 6236632574, {'osm_id': 4860427, 'geometry': <shapely.geometry.linestring.LineString object at 0x7fcd85de4150>, 'infra_type': 'trunk', 'min_speed': 6.0, 'max_speed': 35.0, 'mean_speed': 21.702380952380953, 'length': 0.005545374726508299, 'speed': 21.702380952380953, 'time': 0.9198690714734558, 'mode': 'drive'})\n",
      "(6236632575, 6236632549, {'osm_id': 666146378, 'geometry': <shapely.geometry.linestring.LineString object at 0x7fcd85de4210>, 'infra_type': 'tertiary', 'min_speed': nan, 'max_speed': nan, 'mean_speed': nan, 'length': 0.006010454113264377, 'speed': 25, 'imp_cost': 1122.7528283577856, 'time': 0.8655053923100704, 'mode': 'drive'})\n"
     ]
    }
   ],
   "source": [
    "gn.example_edge(G_time, 15)"
   ]
  },
  {
   "cell_type": "code",
   "execution_count": 51,
   "metadata": {},
   "outputs": [],
   "source": [
    "#save graph again\n",
    "#gn.save(G_time,'sri_lanka_unclean2_w_time','./', pickle = True, edges = True, nodes = True)"
   ]
  },
  {
   "cell_type": "markdown",
   "metadata": {},
   "source": [
    "## Export edges as shapefile to visualize"
   ]
  },
  {
   "cell_type": "code",
   "execution_count": 52,
   "metadata": {},
   "outputs": [],
   "source": [
    "edge_gdf_w_traffic = gn.edge_gdf_from_graph(G_time)"
   ]
  },
  {
   "cell_type": "code",
   "execution_count": 53,
   "metadata": {},
   "outputs": [
    {
     "data": {
      "text/html": [
       "<div>\n",
       "<style scoped>\n",
       "    .dataframe tbody tr th:only-of-type {\n",
       "        vertical-align: middle;\n",
       "    }\n",
       "\n",
       "    .dataframe tbody tr th {\n",
       "        vertical-align: top;\n",
       "    }\n",
       "\n",
       "    .dataframe thead th {\n",
       "        text-align: right;\n",
       "    }\n",
       "</style>\n",
       "<table border=\"1\" class=\"dataframe\">\n",
       "  <thead>\n",
       "    <tr style=\"text-align: right;\">\n",
       "      <th></th>\n",
       "      <th>stnode</th>\n",
       "      <th>endnode</th>\n",
       "      <th>infra_type</th>\n",
       "      <th>osm_id</th>\n",
       "      <th>max_speed</th>\n",
       "      <th>speed</th>\n",
       "      <th>mean_speed</th>\n",
       "      <th>mode</th>\n",
       "      <th>imp_cost</th>\n",
       "      <th>length</th>\n",
       "      <th>min_speed</th>\n",
       "      <th>time</th>\n",
       "      <th>geometry</th>\n",
       "    </tr>\n",
       "  </thead>\n",
       "  <tbody>\n",
       "    <tr>\n",
       "      <th>1111201</th>\n",
       "      <td>6524681180</td>\n",
       "      <td>3993490674</td>\n",
       "      <td>tertiary</td>\n",
       "      <td>396537099</td>\n",
       "      <td>1.0</td>\n",
       "      <td>1.0</td>\n",
       "      <td>1.0</td>\n",
       "      <td>drive</td>\n",
       "      <td>5796.270951</td>\n",
       "      <td>0.031029</td>\n",
       "      <td>1.0</td>\n",
       "      <td>111.705436</td>\n",
       "      <td>LINESTRING (79.85570 6.91071, 79.85598 6.91075)</td>\n",
       "    </tr>\n",
       "    <tr>\n",
       "      <th>1576860</th>\n",
       "      <td>5289709063</td>\n",
       "      <td>5289709062</td>\n",
       "      <td>unclassified</td>\n",
       "      <td>547442169</td>\n",
       "      <td>1.0</td>\n",
       "      <td>1.0</td>\n",
       "      <td>1.0</td>\n",
       "      <td>drive</td>\n",
       "      <td>999.132426</td>\n",
       "      <td>0.005349</td>\n",
       "      <td>1.0</td>\n",
       "      <td>19.255229</td>\n",
       "      <td>LINESTRING (81.01944 6.77668, 81.01947 6.77664)</td>\n",
       "    </tr>\n",
       "    <tr>\n",
       "      <th>1576859</th>\n",
       "      <td>5289709063</td>\n",
       "      <td>5289709064</td>\n",
       "      <td>unclassified</td>\n",
       "      <td>547442169</td>\n",
       "      <td>1.0</td>\n",
       "      <td>1.0</td>\n",
       "      <td>1.0</td>\n",
       "      <td>drive</td>\n",
       "      <td>663.055052</td>\n",
       "      <td>0.003550</td>\n",
       "      <td>1.0</td>\n",
       "      <td>12.778363</td>\n",
       "      <td>LINESTRING (81.01947 6.77664, 81.01949 6.77662)</td>\n",
       "    </tr>\n",
       "    <tr>\n",
       "      <th>1137421</th>\n",
       "      <td>3290651566</td>\n",
       "      <td>5564028576</td>\n",
       "      <td>residential</td>\n",
       "      <td>401386826</td>\n",
       "      <td>1.0</td>\n",
       "      <td>1.0</td>\n",
       "      <td>1.0</td>\n",
       "      <td>drive</td>\n",
       "      <td>947.782809</td>\n",
       "      <td>0.005074</td>\n",
       "      <td>1.0</td>\n",
       "      <td>18.265622</td>\n",
       "      <td>LINESTRING (80.60600 7.26626, 80.60597 7.26630)</td>\n",
       "    </tr>\n",
       "    <tr>\n",
       "      <th>1576858</th>\n",
       "      <td>5289709062</td>\n",
       "      <td>5289709061</td>\n",
       "      <td>unclassified</td>\n",
       "      <td>547442169</td>\n",
       "      <td>1.0</td>\n",
       "      <td>1.0</td>\n",
       "      <td>1.0</td>\n",
       "      <td>drive</td>\n",
       "      <td>2212.282617</td>\n",
       "      <td>0.011843</td>\n",
       "      <td>1.0</td>\n",
       "      <td>42.634997</td>\n",
       "      <td>LINESTRING (81.01938 6.77677, 81.01944 6.77668)</td>\n",
       "    </tr>\n",
       "    <tr>\n",
       "      <th>...</th>\n",
       "      <td>...</td>\n",
       "      <td>...</td>\n",
       "      <td>...</td>\n",
       "      <td>...</td>\n",
       "      <td>...</td>\n",
       "      <td>...</td>\n",
       "      <td>...</td>\n",
       "      <td>...</td>\n",
       "      <td>...</td>\n",
       "      <td>...</td>\n",
       "      <td>...</td>\n",
       "      <td>...</td>\n",
       "      <td>...</td>\n",
       "    </tr>\n",
       "    <tr>\n",
       "      <th>1468672</th>\n",
       "      <td>5029174238</td>\n",
       "      <td>5029174237</td>\n",
       "      <td>residential</td>\n",
       "      <td>514866679</td>\n",
       "      <td>101.0</td>\n",
       "      <td>101.0</td>\n",
       "      <td>101.0</td>\n",
       "      <td>drive</td>\n",
       "      <td>3733.043235</td>\n",
       "      <td>0.019984</td>\n",
       "      <td>101.0</td>\n",
       "      <td>0.712307</td>\n",
       "      <td>LINESTRING (80.20443 6.14638, 80.20432 6.14652)</td>\n",
       "    </tr>\n",
       "    <tr>\n",
       "      <th>1468673</th>\n",
       "      <td>5029174239</td>\n",
       "      <td>5029174240</td>\n",
       "      <td>residential</td>\n",
       "      <td>514866679</td>\n",
       "      <td>101.0</td>\n",
       "      <td>101.0</td>\n",
       "      <td>101.0</td>\n",
       "      <td>drive</td>\n",
       "      <td>6529.925700</td>\n",
       "      <td>0.034957</td>\n",
       "      <td>101.0</td>\n",
       "      <td>1.245984</td>\n",
       "      <td>LINESTRING (80.20414 6.14679, 80.20396 6.14705)</td>\n",
       "    </tr>\n",
       "    <tr>\n",
       "      <th>1468674</th>\n",
       "      <td>5029174239</td>\n",
       "      <td>5029174238</td>\n",
       "      <td>residential</td>\n",
       "      <td>514866679</td>\n",
       "      <td>101.0</td>\n",
       "      <td>101.0</td>\n",
       "      <td>101.0</td>\n",
       "      <td>drive</td>\n",
       "      <td>6717.207052</td>\n",
       "      <td>0.035959</td>\n",
       "      <td>101.0</td>\n",
       "      <td>1.281719</td>\n",
       "      <td>LINESTRING (80.20432 6.14652, 80.20414 6.14679)</td>\n",
       "    </tr>\n",
       "    <tr>\n",
       "      <th>1468661</th>\n",
       "      <td>5029174233</td>\n",
       "      <td>5029174234</td>\n",
       "      <td>residential</td>\n",
       "      <td>514866679</td>\n",
       "      <td>101.0</td>\n",
       "      <td>101.0</td>\n",
       "      <td>101.0</td>\n",
       "      <td>drive</td>\n",
       "      <td>6478.568752</td>\n",
       "      <td>0.034682</td>\n",
       "      <td>101.0</td>\n",
       "      <td>1.236185</td>\n",
       "      <td>LINESTRING (80.20513 6.14578, 80.20488 6.14597)</td>\n",
       "    </tr>\n",
       "    <tr>\n",
       "      <th>1468648</th>\n",
       "      <td>5029174226</td>\n",
       "      <td>5029174225</td>\n",
       "      <td>residential</td>\n",
       "      <td>514866679</td>\n",
       "      <td>101.0</td>\n",
       "      <td>101.0</td>\n",
       "      <td>101.0</td>\n",
       "      <td>drive</td>\n",
       "      <td>1649.805884</td>\n",
       "      <td>0.008832</td>\n",
       "      <td>101.0</td>\n",
       "      <td>0.314802</td>\n",
       "      <td>LINESTRING (80.20574 6.14537, 80.20567 6.14541)</td>\n",
       "    </tr>\n",
       "  </tbody>\n",
       "</table>\n",
       "<p>1930664 rows × 13 columns</p>\n",
       "</div>"
      ],
      "text/plain": [
       "             stnode     endnode    infra_type     osm_id  max_speed  speed  \\\n",
       "1111201  6524681180  3993490674      tertiary  396537099        1.0    1.0   \n",
       "1576860  5289709063  5289709062  unclassified  547442169        1.0    1.0   \n",
       "1576859  5289709063  5289709064  unclassified  547442169        1.0    1.0   \n",
       "1137421  3290651566  5564028576   residential  401386826        1.0    1.0   \n",
       "1576858  5289709062  5289709061  unclassified  547442169        1.0    1.0   \n",
       "...             ...         ...           ...        ...        ...    ...   \n",
       "1468672  5029174238  5029174237   residential  514866679      101.0  101.0   \n",
       "1468673  5029174239  5029174240   residential  514866679      101.0  101.0   \n",
       "1468674  5029174239  5029174238   residential  514866679      101.0  101.0   \n",
       "1468661  5029174233  5029174234   residential  514866679      101.0  101.0   \n",
       "1468648  5029174226  5029174225   residential  514866679      101.0  101.0   \n",
       "\n",
       "         mean_speed   mode     imp_cost    length  min_speed        time  \\\n",
       "1111201         1.0  drive  5796.270951  0.031029        1.0  111.705436   \n",
       "1576860         1.0  drive   999.132426  0.005349        1.0   19.255229   \n",
       "1576859         1.0  drive   663.055052  0.003550        1.0   12.778363   \n",
       "1137421         1.0  drive   947.782809  0.005074        1.0   18.265622   \n",
       "1576858         1.0  drive  2212.282617  0.011843        1.0   42.634997   \n",
       "...             ...    ...          ...       ...        ...         ...   \n",
       "1468672       101.0  drive  3733.043235  0.019984      101.0    0.712307   \n",
       "1468673       101.0  drive  6529.925700  0.034957      101.0    1.245984   \n",
       "1468674       101.0  drive  6717.207052  0.035959      101.0    1.281719   \n",
       "1468661       101.0  drive  6478.568752  0.034682      101.0    1.236185   \n",
       "1468648       101.0  drive  1649.805884  0.008832      101.0    0.314802   \n",
       "\n",
       "                                                geometry  \n",
       "1111201  LINESTRING (79.85570 6.91071, 79.85598 6.91075)  \n",
       "1576860  LINESTRING (81.01944 6.77668, 81.01947 6.77664)  \n",
       "1576859  LINESTRING (81.01947 6.77664, 81.01949 6.77662)  \n",
       "1137421  LINESTRING (80.60600 7.26626, 80.60597 7.26630)  \n",
       "1576858  LINESTRING (81.01938 6.77677, 81.01944 6.77668)  \n",
       "...                                                  ...  \n",
       "1468672  LINESTRING (80.20443 6.14638, 80.20432 6.14652)  \n",
       "1468673  LINESTRING (80.20414 6.14679, 80.20396 6.14705)  \n",
       "1468674  LINESTRING (80.20432 6.14652, 80.20414 6.14679)  \n",
       "1468661  LINESTRING (80.20513 6.14578, 80.20488 6.14597)  \n",
       "1468648  LINESTRING (80.20574 6.14537, 80.20567 6.14541)  \n",
       "\n",
       "[1930664 rows x 13 columns]"
      ]
     },
     "execution_count": 53,
     "metadata": {},
     "output_type": "execute_result"
    }
   ],
   "source": [
    "edge_gdf_w_traffic.sort_values(by=['speed'])"
   ]
  },
  {
   "cell_type": "code",
   "execution_count": 54,
   "metadata": {},
   "outputs": [],
   "source": [
    "#edge_gdf_w_traffic.to_file(driver = 'ESRI Shapefile', filename = './sri_lanka_hwy_w_traffic_and_time2.shp')"
   ]
  },
  {
   "cell_type": "markdown",
   "metadata": {},
   "source": [
    "### now take the biggest sub-graph and compare"
   ]
  },
  {
   "cell_type": "code",
   "execution_count": 55,
   "metadata": {},
   "outputs": [
    {
     "name": "stdout",
     "output_type": "stream",
     "text": [
      "Name: \n",
      "Type: MultiDiGraph\n",
      "Number of nodes: 1052094\n",
      "Number of edges: 1930664\n",
      "Average in degree:   1.8351\n",
      "Average out degree:   1.8351\n"
     ]
    }
   ],
   "source": [
    "# before\n",
    "# let's print info on our clean version\n",
    "print(nx.info(G_time))"
   ]
  },
  {
   "cell_type": "code",
   "execution_count": 56,
   "metadata": {},
   "outputs": [],
   "source": [
    "# Identify only the largest graph\n",
    "\n",
    "# compatible with NetworkX 2.4\n",
    "list_of_subgraphs = list(G_time.subgraph(c).copy() for c in nx.strongly_connected_components(G_time))\n",
    "max_graph = None\n",
    "max_edges = 0\n",
    "for i in list_of_subgraphs:\n",
    "    if i.number_of_edges() > max_edges:\n",
    "        max_edges = i.number_of_edges()\n",
    "        max_graph = i\n",
    "\n",
    "# set your graph equal to the largest sub-graph\n",
    "G_largest = max_graph"
   ]
  },
  {
   "cell_type": "code",
   "execution_count": 57,
   "metadata": {},
   "outputs": [
    {
     "name": "stdout",
     "output_type": "stream",
     "text": [
      "Name: \n",
      "Type: MultiDiGraph\n",
      "Number of nodes: 820346\n",
      "Number of edges: 1675316\n",
      "Average in degree:   2.0422\n",
      "Average out degree:   2.0422\n"
     ]
    }
   ],
   "source": [
    "# print info about the largest sub-graph\n",
    "print(nx.info(G_largest))"
   ]
  },
  {
   "cell_type": "code",
   "execution_count": 58,
   "metadata": {},
   "outputs": [],
   "source": [
    "# re-save\n",
    "#edge_gdf_w_traffic_largest = gn.edge_gdf_from_graph(G_largest)"
   ]
  },
  {
   "cell_type": "code",
   "execution_count": 59,
   "metadata": {},
   "outputs": [],
   "source": [
    "#edge_gdf_w_traffic_largest.to_file(driver = 'ESRI Shapefile', filename = './sri_lanka_hwy_w_traffic_and_time2_largest.shp')"
   ]
  },
  {
   "cell_type": "code",
   "execution_count": 60,
   "metadata": {},
   "outputs": [],
   "source": [
    "#save graph again\n",
    "gn.save(G_largest,'sri_lanka_unclean2_w_time_largest_20200616_traffic_mean_speeds','./', pickle = True, edges = False, nodes = False)"
   ]
  },
  {
   "cell_type": "code",
   "execution_count": null,
   "metadata": {},
   "outputs": [],
   "source": []
  }
 ],
 "metadata": {
  "kernelspec": {
   "display_name": "Python 3",
   "language": "python",
   "name": "python3"
  },
  "language_info": {
   "codemirror_mode": {
    "name": "ipython",
    "version": 3
   },
   "file_extension": ".py",
   "mimetype": "text/x-python",
   "name": "python",
   "nbconvert_exporter": "python",
   "pygments_lexer": "ipython3",
   "version": "3.7.7"
  }
 },
 "nbformat": 4,
 "nbformat_minor": 2
}
