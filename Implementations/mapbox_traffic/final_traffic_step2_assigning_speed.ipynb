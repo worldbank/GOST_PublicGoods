{
 "cells": [
  {
   "cell_type": "markdown",
   "metadata": {},
   "source": [
    "# Step 2: Assigning Speed to Traffic Data"
   ]
  },
  {
   "cell_type": "code",
   "execution_count": 81,
   "metadata": {},
   "outputs": [],
   "source": [
    "import os, sys, time, importlib\n",
    "import osmnx\n",
    "\n",
    "import geopandas as gpd\n",
    "import pandas as pd\n",
    "import networkx as nx\n",
    "import numpy as np\n",
    "sys.path.append(\"../../../GOSTnets\")\n",
    "import GOSTnets as gn\n",
    "\n",
    "# pip install osmium\n",
    "# import osmium, logging\n",
    "# import shapely.wkb as wkblib\n",
    "\n",
    "from shapely.geometry import LineString, Point"
   ]
  },
  {
   "cell_type": "code",
   "execution_count": 82,
   "metadata": {},
   "outputs": [
    {
     "name": "stdout",
     "output_type": "stream",
     "text": [
      "The autoreload extension is already loaded. To reload it, use:\n",
      "  %reload_ext autoreload\n"
     ]
    }
   ],
   "source": [
    "# This is a Jupyter Notebook extension which reloads all of the modules whenever you run the code\n",
    "# This is optional but good if you are modifying and testing source code\n",
    "%load_ext autoreload\n",
    "%autoreload 2"
   ]
  },
  {
   "cell_type": "code",
   "execution_count": 83,
   "metadata": {},
   "outputs": [],
   "source": [
    "from GOSTnets.load_traffic2 import *"
   ]
  },
  {
   "cell_type": "code",
   "execution_count": 84,
   "metadata": {},
   "outputs": [],
   "source": [
    "#read_nodes = pd.read_csv('./vavuniya_unclean_nodes.csv')"
   ]
  },
  {
   "cell_type": "code",
   "execution_count": 85,
   "metadata": {},
   "outputs": [],
   "source": [
    "#read_nodes[:5]"
   ]
  },
  {
   "cell_type": "code",
   "execution_count": 86,
   "metadata": {},
   "outputs": [],
   "source": [
    "# read graph\n",
    "G = nx.read_gpickle('./sri_lanka_unclean2.pickle')"
   ]
  },
  {
   "cell_type": "code",
   "execution_count": 87,
   "metadata": {},
   "outputs": [
    {
     "data": {
      "text/plain": [
       "1930664"
      ]
     },
     "execution_count": 87,
     "metadata": {},
     "output_type": "execute_result"
    }
   ],
   "source": [
    "len(G.edges)"
   ]
  },
  {
   "cell_type": "code",
   "execution_count": 88,
   "metadata": {},
   "outputs": [
    {
     "data": {
      "text/plain": [
       "AtlasView({0: {'osm_id': 4860427, 'geometry': <shapely.geometry.linestring.LineString object at 0x7f6a4c695b50>, 'infra_type': 'trunk', 'min_speed': 23.0, 'max_speed': 37.0, 'mean_speed': 26.793650793650794, 'length': 0.009757789924575978}})"
      ]
     },
     "execution_count": 88,
     "metadata": {},
     "output_type": "execute_result"
    }
   ],
   "source": [
    "G[1650104033][6236632580]"
   ]
  },
  {
   "cell_type": "code",
   "execution_count": 89,
   "metadata": {},
   "outputs": [
    {
     "name": "stdout",
     "output_type": "stream",
     "text": [
      "(1650104033, 6236632580, {'osm_id': 4860427, 'geometry': <shapely.geometry.linestring.LineString object at 0x7f6a4c695b50>, 'infra_type': 'trunk', 'min_speed': 23.0, 'max_speed': 37.0, 'mean_speed': 26.793650793650794, 'length': 0.009757789924575978})\n",
      "(1650104033, 970058024, {'osm_id': 152177791, 'geometry': <shapely.geometry.linestring.LineString object at 0x7f6a4c695d10>, 'infra_type': 'trunk', 'min_speed': 23.0, 'max_speed': 37.0, 'mean_speed': 26.793650793650794, 'length': 0.0160020254611234})\n",
      "(6236632580, 6236632579, {'osm_id': 4860427, 'geometry': <shapely.geometry.linestring.LineString object at 0x7f6a4c695dd0>, 'infra_type': 'trunk', 'min_speed': 23.0, 'max_speed': 37.0, 'mean_speed': 26.793650793650794, 'length': 0.005235256075996137})\n",
      "(6236632580, 1650104033, {'osm_id': 4860427, 'geometry': <shapely.geometry.linestring.LineString object at 0x7f6a4c695b50>, 'infra_type': 'trunk', 'min_speed': 23.0, 'max_speed': 37.0, 'mean_speed': 26.793650793650794, 'length': 0.009757789924575978})\n",
      "(6236632579, 6236632578, {'osm_id': 4860427, 'geometry': <shapely.geometry.linestring.LineString object at 0x7f6a4c695e10>, 'infra_type': 'trunk', 'min_speed': 23.0, 'max_speed': 37.0, 'mean_speed': 26.793650793650794, 'length': 0.006290344303147445})\n"
     ]
    }
   ],
   "source": [
    "gn.example_edge(G, 5)"
   ]
  },
  {
   "cell_type": "code",
   "execution_count": 90,
   "metadata": {},
   "outputs": [],
   "source": [
    "# speed dict based on existing speed limit tags\n",
    "speed_dict_sri_lanka_mod1 = {\n",
    "'primary': 60,\n",
    "'primary_link': 50,\n",
    "'motorway':100 ,\n",
    "'motorway_link':35 ,\n",
    "'secondary': 50,\n",
    "'secondary_link': 45,\n",
    "'tertiary':40,\n",
    "'tertiary_link': 40,\n",
    "'residential': 30,\n",
    "'trunk': 60,\n",
    "'trunk_link': 50,\n",
    "'unclassified': 25,\n",
    "'track': 25,\n",
    "'service': 20\n",
    "}"
   ]
  },
  {
   "cell_type": "code",
   "execution_count": 91,
   "metadata": {},
   "outputs": [],
   "source": [
    "# modified the function below to calculate the correct time based on whether it has a Mapbox speed or not\n",
    "# also it creates a new 'speed' attribute that is either based on the mapbox traffic speed, or the speed provided\n",
    "# by the input dictionary if the mapbox traffic speed does not exist"
   ]
  },
  {
   "cell_type": "code",
   "execution_count": 92,
   "metadata": {},
   "outputs": [],
   "source": [
    "def convert_network_to_time_w_traffic(G, distance_tag, graph_type = 'drive', road_col = 'highway', traffic_col = 'mean_speed', speed_dict = speed_dict_sri_lanka_mod1, walk_speed = 4.5, factor = 1, default = None, improvement_cost_per_km = None):\n",
    "    \"\"\"\n",
    "    Function for adding a time value to edge dictionaries. Ensure any GeoDataFrames / graphs are in the same projection before using function, or pass a crs.\n",
    "\n",
    "    DEFAULT SPEEDS:\n",
    "\n",
    "               speed_dict = {\n",
    "               'residential': 20,  # kmph\n",
    "               'primary': 40, # kmph\n",
    "               'primary_link':35,\n",
    "               'motorway':50,\n",
    "               'motorway_link': 45,\n",
    "               'trunk': 40,\n",
    "               'trunk_link':35,\n",
    "               'secondary': 30,\n",
    "               'secondary_link':25,\n",
    "               'tertiary':30,\n",
    "               'tertiary_link': 25,\n",
    "               'unclassified':20\n",
    "               }\n",
    "\n",
    "    :param G: a graph containing one or more nodes\n",
    "    :param distance_tag: the key in the dictionary for the field currently\n",
    "               containing a distance in meters\n",
    "    :param road_col: key for the road type in the edge data dictionary\n",
    "    :param graph_type: set to either 'drive' or 'walk'. IF walk - will set time = walking time across all segment, using the supplied walk_speed. IF drive - will use a speed dictionary for each road type, or defaults as per the note below.\n",
    "    :param speed_dict: speed dictionary to use. If not supplied, reverts to\n",
    "               defaults\n",
    "    :param walk_speed: specify a walkspeed in km/h\n",
    "    :param factor: allows you to scale up / down distances if saved in a unit other than meters. Set to 1000 if length in km.\n",
    "    :param default: if highway type not in the speed_dict, use this road class as an in-fill value for time.\n",
    "    :returns: The original graph with a new data property for the edges called 'time'\n",
    "    \"\"\"\n",
    "\n",
    "    if type(G) == nx.classes.multidigraph.MultiDiGraph or type(G) == nx.classes.digraph.DiGraph:\n",
    "        pass\n",
    "    else:\n",
    "        raise ValueError('Expecting a graph or geodataframe for G!')\n",
    "\n",
    "    import warnings\n",
    "\n",
    "    try:\n",
    "        # checks the first edge to see if the 'time' attribute already exists\n",
    "        if list(G.edges(data = True))[0][2]['time']:\n",
    "          warnings.warn('Aree you sure you want to convert length to time? This graph already has a time attribute')\n",
    "    except:\n",
    "        pass\n",
    "\n",
    "    G_adj = G.copy()\n",
    "\n",
    "    for u, v, data in G_adj.edges(data=True):\n",
    "\n",
    "        # the default lenth in the graph should be in km\n",
    "        orig_len = data[distance_tag]\n",
    "\n",
    "        # Note that this is a MultiDiGraph so there could\n",
    "        # be multiple indices here, I naively assume this is not\n",
    "        # the case\n",
    "        data['length'] = orig_len * factor\n",
    "        \n",
    "\n",
    "        # get appropriate speed limit\n",
    "        if graph_type == 'walk':\n",
    "            speed = walk_speed\n",
    "\n",
    "        elif graph_type == 'drive':\n",
    "\n",
    "            if speed_dict == None:\n",
    "                speed_dict = {\n",
    "                'residential': 20,  # kmph\n",
    "                'primary': 40, # kmph\n",
    "                'primary_link':35,\n",
    "                'motorway':50,\n",
    "                'motorway_link': 45,\n",
    "                'trunk': 40,\n",
    "                'trunk_link':35,\n",
    "                'secondary': 30,\n",
    "                'secondary_link':25,\n",
    "                'tertiary':30,\n",
    "                'tertiary_link': 25,\n",
    "                'unclassified':20\n",
    "                }\n",
    "\n",
    "            highwayclass = data[road_col]\n",
    "            \n",
    "            trafficclass = data[traffic_col]\n",
    "\n",
    "            if trafficclass > 0:\n",
    "                speed = data[traffic_col]\n",
    "                data['speed'] = speed\n",
    "            else:\n",
    "                if type(highwayclass) == list:\n",
    "                    highwayclass = highwayclass[0]\n",
    "\n",
    "                if highwayclass in speed_dict.keys():\n",
    "                    speed = speed_dict[highwayclass]\n",
    "                else:\n",
    "                    if default == None:\n",
    "                        speed = 20\n",
    "                    else:\n",
    "                        speed = speed_dict[default]\n",
    "                data['speed'] = speed\n",
    "            \n",
    "            #calculate road improvement costs for secondary or lower highways\n",
    "            if highwayclass in ['seconday', 'secondary_link', 'tertiary', 'tertiary_link', 'unclassified', 'residential']:\n",
    "                data['imp_cost'] = orig_len * improvement_cost_per_km\n",
    "\n",
    "        else:\n",
    "            raise ValueError('Expecting either a graph_type of \"walk\" or \"drive\"!')\n",
    "\n",
    "        # perform conversion\n",
    "        hours = orig_len / speed\n",
    "        in_seconds = hours * 60 * 60\n",
    "        data['time'] = in_seconds\n",
    "\n",
    "        # And state the mode, too\n",
    "        data['mode'] = graph_type\n",
    "\n",
    "    return G_adj"
   ]
  },
  {
   "cell_type": "code",
   "execution_count": 93,
   "metadata": {},
   "outputs": [],
   "source": [
    "G_time = convert_network_to_time_w_traffic(G, distance_tag = 'length', road_col = 'infra_type', factor = 1, improvement_cost_per_km = 186800)"
   ]
  },
  {
   "cell_type": "code",
   "execution_count": 94,
   "metadata": {},
   "outputs": [
    {
     "name": "stdout",
     "output_type": "stream",
     "text": [
      "(1650104033, 6236632580, {'osm_id': 4860427, 'geometry': <shapely.geometry.linestring.LineString object at 0x7f6a4c695b50>, 'infra_type': 'trunk', 'min_speed': 23.0, 'max_speed': 37.0, 'mean_speed': 26.793650793650794, 'length': 0.009757789924575978, 'speed': 26.793650793650794, 'time': 1.3110585040840237, 'mode': 'drive'})\n",
      "(1650104033, 970058024, {'osm_id': 152177791, 'geometry': <shapely.geometry.linestring.LineString object at 0x7f6a4c695d10>, 'infra_type': 'trunk', 'min_speed': 23.0, 'max_speed': 37.0, 'mean_speed': 26.793650793650794, 'length': 0.0160020254611234, 'speed': 26.793650793650794, 'time': 2.150035174515869, 'mode': 'drive'})\n",
      "(6236632580, 6236632579, {'osm_id': 4860427, 'geometry': <shapely.geometry.linestring.LineString object at 0x7f6a4c695dd0>, 'infra_type': 'trunk', 'min_speed': 23.0, 'max_speed': 37.0, 'mean_speed': 26.793650793650794, 'length': 0.005235256075996137, 'speed': 26.793650793650794, 'time': 0.7034099988364477, 'mode': 'drive'})\n",
      "(6236632580, 1650104033, {'osm_id': 4860427, 'geometry': <shapely.geometry.linestring.LineString object at 0x7f6a4c695b50>, 'infra_type': 'trunk', 'min_speed': 23.0, 'max_speed': 37.0, 'mean_speed': 26.793650793650794, 'length': 0.009757789924575978, 'speed': 26.793650793650794, 'time': 1.3110585040840237, 'mode': 'drive'})\n",
      "(6236632579, 6236632578, {'osm_id': 4860427, 'geometry': <shapely.geometry.linestring.LineString object at 0x7f6a4c695e10>, 'infra_type': 'trunk', 'min_speed': 23.0, 'max_speed': 37.0, 'mean_speed': 26.793650793650794, 'length': 0.006290344303147445, 'speed': 26.793650793650794, 'time': 0.8451718530532231, 'mode': 'drive'})\n",
      "(6236632579, 6236632580, {'osm_id': 4860427, 'geometry': <shapely.geometry.linestring.LineString object at 0x7f6a4c695dd0>, 'infra_type': 'trunk', 'min_speed': 23.0, 'max_speed': 37.0, 'mean_speed': 26.793650793650794, 'length': 0.005235256075996137, 'speed': 26.793650793650794, 'time': 0.7034099988364477, 'mode': 'drive'})\n",
      "(6236632578, 6236632577, {'osm_id': 4860427, 'geometry': <shapely.geometry.linestring.LineString object at 0x7f6a4c695d50>, 'infra_type': 'trunk', 'min_speed': nan, 'max_speed': nan, 'mean_speed': nan, 'length': 0.002961892694164434, 'speed': 60, 'time': 0.17771356164986604, 'mode': 'drive'})\n",
      "(6236632578, 6236632579, {'osm_id': 4860427, 'geometry': <shapely.geometry.linestring.LineString object at 0x7f6a4c695e10>, 'infra_type': 'trunk', 'min_speed': 23.0, 'max_speed': 37.0, 'mean_speed': 26.793650793650794, 'length': 0.006290344303147445, 'speed': 26.793650793650794, 'time': 0.8451718530532231, 'mode': 'drive'})\n",
      "(6236632578, 6236632550, {'osm_id': 666146377, 'geometry': <shapely.geometry.linestring.LineString object at 0x7f6a4c695e50>, 'infra_type': 'tertiary', 'min_speed': nan, 'max_speed': nan, 'mean_speed': nan, 'length': 0.003941187806930369, 'speed': 40, 'imp_cost': 736.213882334593, 'time': 0.3547069026237333, 'mode': 'drive'})\n",
      "(6236632577, 6236632576, {'osm_id': 4860427, 'geometry': <shapely.geometry.linestring.LineString object at 0x7f6a4c695f10>, 'infra_type': 'trunk', 'min_speed': nan, 'max_speed': nan, 'mean_speed': nan, 'length': 0.004925242625040352, 'speed': 60, 'time': 0.2955145575024211, 'mode': 'drive'})\n",
      "(6236632577, 6236632578, {'osm_id': 4860427, 'geometry': <shapely.geometry.linestring.LineString object at 0x7f6a4c695d50>, 'infra_type': 'trunk', 'min_speed': nan, 'max_speed': nan, 'mean_speed': nan, 'length': 0.002961892694164434, 'speed': 60, 'time': 0.17771356164986604, 'mode': 'drive'})\n",
      "(6236632576, 6236632575, {'osm_id': 4860427, 'geometry': <shapely.geometry.linestring.LineString object at 0x7f6a4c695f50>, 'infra_type': 'trunk', 'min_speed': nan, 'max_speed': nan, 'mean_speed': nan, 'length': 0.004658669774348088, 'speed': 60, 'time': 0.2795201864608853, 'mode': 'drive'})\n",
      "(6236632576, 6236632577, {'osm_id': 4860427, 'geometry': <shapely.geometry.linestring.LineString object at 0x7f6a4c695f10>, 'infra_type': 'trunk', 'min_speed': nan, 'max_speed': nan, 'mean_speed': nan, 'length': 0.004925242625040352, 'speed': 60, 'time': 0.2955145575024211, 'mode': 'drive'})\n",
      "(6236632575, 6236632574, {'osm_id': 4860427, 'geometry': <shapely.geometry.linestring.LineString object at 0x7f6a4c695ed0>, 'infra_type': 'trunk', 'min_speed': 6.0, 'max_speed': 35.0, 'mean_speed': 21.702380952380953, 'length': 0.005545374726508299, 'speed': 21.702380952380953, 'time': 0.9198690714734558, 'mode': 'drive'})\n",
      "(6236632575, 6236632549, {'osm_id': 666146378, 'geometry': <shapely.geometry.linestring.LineString object at 0x7f6a4c695fd0>, 'infra_type': 'tertiary', 'min_speed': nan, 'max_speed': nan, 'mean_speed': nan, 'length': 0.006010454113264377, 'speed': 40, 'imp_cost': 1122.7528283577856, 'time': 0.5409408701937939, 'mode': 'drive'})\n"
     ]
    }
   ],
   "source": [
    "gn.example_edge(G_time, 15)"
   ]
  },
  {
   "cell_type": "code",
   "execution_count": 95,
   "metadata": {},
   "outputs": [],
   "source": [
    "#save graph again\n",
    "#gn.save(G_time,'sri_lanka_unclean2_w_time','./', pickle = True, edges = True, nodes = True)"
   ]
  },
  {
   "cell_type": "markdown",
   "metadata": {},
   "source": [
    "## Export edges as shapefile to visualize"
   ]
  },
  {
   "cell_type": "code",
   "execution_count": 96,
   "metadata": {},
   "outputs": [],
   "source": [
    "#edge_gdf_w_traffic = gn.edge_gdf_from_graph(G_time)"
   ]
  },
  {
   "cell_type": "code",
   "execution_count": 97,
   "metadata": {},
   "outputs": [],
   "source": [
    "#edge_gdf_w_traffic"
   ]
  },
  {
   "cell_type": "code",
   "execution_count": 98,
   "metadata": {},
   "outputs": [],
   "source": [
    "#edge_gdf_w_traffic.to_file(driver = 'ESRI Shapefile', filename = './sri_lanka_hwy_w_traffic_and_time2.shp')"
   ]
  },
  {
   "cell_type": "markdown",
   "metadata": {},
   "source": [
    "### now take the biggest sub-graph and compare"
   ]
  },
  {
   "cell_type": "code",
   "execution_count": 99,
   "metadata": {},
   "outputs": [
    {
     "name": "stdout",
     "output_type": "stream",
     "text": [
      "Name: \n",
      "Type: MultiDiGraph\n",
      "Number of nodes: 1052094\n",
      "Number of edges: 1930664\n",
      "Average in degree:   1.8351\n",
      "Average out degree:   1.8351\n"
     ]
    }
   ],
   "source": [
    "# before\n",
    "# let's print info on our clean version\n",
    "print(nx.info(G_time))"
   ]
  },
  {
   "cell_type": "code",
   "execution_count": 100,
   "metadata": {},
   "outputs": [],
   "source": [
    "# Identify only the largest graph\n",
    "\n",
    "# compatible with NetworkX 2.4\n",
    "list_of_subgraphs = list(G_time.subgraph(c).copy() for c in nx.strongly_connected_components(G_time))\n",
    "max_graph = None\n",
    "max_edges = 0\n",
    "for i in list_of_subgraphs:\n",
    "    if i.number_of_edges() > max_edges:\n",
    "        max_edges = i.number_of_edges()\n",
    "        max_graph = i\n",
    "\n",
    "# set your graph equal to the largest sub-graph\n",
    "G_largest = max_graph"
   ]
  },
  {
   "cell_type": "code",
   "execution_count": 101,
   "metadata": {},
   "outputs": [
    {
     "name": "stdout",
     "output_type": "stream",
     "text": [
      "Name: \n",
      "Type: MultiDiGraph\n",
      "Number of nodes: 820346\n",
      "Number of edges: 1675316\n",
      "Average in degree:   2.0422\n",
      "Average out degree:   2.0422\n"
     ]
    }
   ],
   "source": [
    "# print info about the largest sub-graph\n",
    "print(nx.info(G_largest))"
   ]
  },
  {
   "cell_type": "code",
   "execution_count": 102,
   "metadata": {},
   "outputs": [],
   "source": [
    "# re-save\n",
    "#edge_gdf_w_traffic_largest = gn.edge_gdf_from_graph(G_largest)"
   ]
  },
  {
   "cell_type": "code",
   "execution_count": 103,
   "metadata": {},
   "outputs": [],
   "source": [
    "#edge_gdf_w_traffic_largest.to_file(driver = 'ESRI Shapefile', filename = './sri_lanka_hwy_w_traffic_and_time2_largest.shp')"
   ]
  },
  {
   "cell_type": "code",
   "execution_count": 104,
   "metadata": {},
   "outputs": [],
   "source": [
    "#save graph again\n",
    "gn.save(G_largest,'sri_lanka_unclean2_w_time_largest_20200616','./', pickle = True, edges = True, nodes = True)"
   ]
  },
  {
   "cell_type": "code",
   "execution_count": null,
   "metadata": {},
   "outputs": [],
   "source": []
  }
 ],
 "metadata": {
  "kernelspec": {
   "display_name": "Python 3",
   "language": "python",
   "name": "python3"
  },
  "language_info": {
   "codemirror_mode": {
    "name": "ipython",
    "version": 3
   },
   "file_extension": ".py",
   "mimetype": "text/x-python",
   "name": "python",
   "nbconvert_exporter": "python",
   "pygments_lexer": "ipython3",
   "version": "3.7.7"
  }
 },
 "nbformat": 4,
 "nbformat_minor": 2
}
