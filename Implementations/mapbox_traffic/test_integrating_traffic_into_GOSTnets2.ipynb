{
 "cells": [
  {
   "cell_type": "markdown",
   "metadata": {},
   "source": [
    "# Testing extracting OSM data using Osmium"
   ]
  },
  {
   "cell_type": "code",
   "execution_count": 2,
   "metadata": {},
   "outputs": [],
   "source": [
    "import os, sys, time, importlib\n",
    "import osmnx\n",
    "\n",
    "import geopandas as gpd\n",
    "import pandas as pd\n",
    "import networkx as nx\n",
    "import numpy as np\n",
    "sys.path.append(\"../../../GOSTNets\")\n",
    "import GOSTnets as gn\n",
    "\n",
    "# pip install osmium\n",
    "# import osmium, logging\n",
    "# import shapely.wkb as wkblib\n",
    "\n",
    "from shapely.geometry import LineString, Point\n",
    "\n",
    "import time"
   ]
  },
  {
   "cell_type": "code",
   "execution_count": 3,
   "metadata": {},
   "outputs": [],
   "source": [
    "# This is a Jupyter Notebook extension which reloads all of the modules whenever you run the code\n",
    "# This is optional but good if you are modifying and testing source code\n",
    "%load_ext autoreload\n",
    "%autoreload 2"
   ]
  },
  {
   "cell_type": "code",
   "execution_count": 4,
   "metadata": {},
   "outputs": [],
   "source": [
    "from GOSTnets.load_traffic import *"
   ]
  },
  {
   "cell_type": "markdown",
   "metadata": {},
   "source": [
    "vavuniya is a city in northern Sri Lanka, and this will be a small area for testing"
   ]
  },
  {
   "cell_type": "code",
   "execution_count": 5,
   "metadata": {},
   "outputs": [],
   "source": [
    "# set file\n",
    "some_file = './colombo.osm.pbf'"
   ]
  },
  {
   "cell_type": "code",
   "execution_count": 23,
   "metadata": {},
   "outputs": [
    {
     "name": "stderr",
     "output_type": "stream",
     "text": [
      "WARNING:root:Error adding edge between nodes 60796641 and 2419600689\n"
     ]
    },
    {
     "name": "stdout",
     "output_type": "stream",
     "text": [
      "finished with Osmium data extraction\n",
      "54063\n",
      "0\n",
      "found stnode 4082624672\n",
      "4082624672\n",
      "3862116632\n",
      "377162356\n",
      "found stnode 4082624672\n",
      "4082624672\n",
      "4082624668\n",
      "406158597\n",
      "finished building node edge lists\n",
      "all_edges length\n",
      "477186\n",
      "finished building node and edge GeoDataFrames\n",
      "all_edges_gdf length\n",
      "477186\n"
     ]
    }
   ],
   "source": [
    "vavuniya = OSM_to_network(some_file)"
   ]
  },
  {
   "cell_type": "code",
   "execution_count": 24,
   "metadata": {},
   "outputs": [
    {
     "data": {
      "text/html": [
       "<div>\n",
       "<style scoped>\n",
       "    .dataframe tbody tr th:only-of-type {\n",
       "        vertical-align: middle;\n",
       "    }\n",
       "\n",
       "    .dataframe tbody tr th {\n",
       "        vertical-align: top;\n",
       "    }\n",
       "\n",
       "    .dataframe thead th {\n",
       "        text-align: right;\n",
       "    }\n",
       "</style>\n",
       "<table border=\"1\" class=\"dataframe\">\n",
       "  <thead>\n",
       "    <tr style=\"text-align: right;\">\n",
       "      <th></th>\n",
       "      <th>stnode</th>\n",
       "      <th>endnode</th>\n",
       "      <th>osm_id</th>\n",
       "      <th>infra_type</th>\n",
       "      <th>geometry</th>\n",
       "    </tr>\n",
       "  </thead>\n",
       "  <tbody>\n",
       "    <tr>\n",
       "      <th>0</th>\n",
       "      <td>2419600689</td>\n",
       "      <td>3830183348</td>\n",
       "      <td>8111662</td>\n",
       "      <td>tertiary</td>\n",
       "      <td>LINESTRING (79.86659 6.90955, 79.86688 6.90955)</td>\n",
       "    </tr>\n",
       "    <tr>\n",
       "      <th>1</th>\n",
       "      <td>91030247</td>\n",
       "      <td>3825202158</td>\n",
       "      <td>8111663</td>\n",
       "      <td>trunk</td>\n",
       "      <td>LINESTRING (79.84231 6.93132, 79.86688 6.90955)</td>\n",
       "    </tr>\n",
       "    <tr>\n",
       "      <th>2</th>\n",
       "      <td>3825202158</td>\n",
       "      <td>3825202157</td>\n",
       "      <td>8111663</td>\n",
       "      <td>trunk</td>\n",
       "      <td>LINESTRING (79.84231 6.93126, 79.86688 6.90955)</td>\n",
       "    </tr>\n",
       "    <tr>\n",
       "      <th>3</th>\n",
       "      <td>3825202157</td>\n",
       "      <td>6537163557</td>\n",
       "      <td>8111663</td>\n",
       "      <td>trunk</td>\n",
       "      <td>LINESTRING (79.84230 6.93121, 79.86688 6.90955)</td>\n",
       "    </tr>\n",
       "    <tr>\n",
       "      <th>4</th>\n",
       "      <td>6537163557</td>\n",
       "      <td>6537163559</td>\n",
       "      <td>8111663</td>\n",
       "      <td>trunk</td>\n",
       "      <td>LINESTRING (79.84230 6.93117, 79.86688 6.90955)</td>\n",
       "    </tr>\n",
       "    <tr>\n",
       "      <th>...</th>\n",
       "      <td>...</td>\n",
       "      <td>...</td>\n",
       "      <td>...</td>\n",
       "      <td>...</td>\n",
       "      <td>...</td>\n",
       "    </tr>\n",
       "    <tr>\n",
       "      <th>477181</th>\n",
       "      <td>7369784272</td>\n",
       "      <td>7369784271</td>\n",
       "      <td>788258758</td>\n",
       "      <td>service</td>\n",
       "      <td>LINESTRING (79.92226 7.02422, 79.92730 7.02577)</td>\n",
       "    </tr>\n",
       "    <tr>\n",
       "      <th>477182</th>\n",
       "      <td>7369784271</td>\n",
       "      <td>7369784270</td>\n",
       "      <td>788258758</td>\n",
       "      <td>service</td>\n",
       "      <td>LINESTRING (79.92229 7.02421, 79.92730 7.02577)</td>\n",
       "    </tr>\n",
       "    <tr>\n",
       "      <th>477183</th>\n",
       "      <td>7369784270</td>\n",
       "      <td>7369784269</td>\n",
       "      <td>788258758</td>\n",
       "      <td>service</td>\n",
       "      <td>LINESTRING (79.92278 7.02399, 79.92730 7.02577)</td>\n",
       "    </tr>\n",
       "    <tr>\n",
       "      <th>477184</th>\n",
       "      <td>7369784269</td>\n",
       "      <td>7369784268</td>\n",
       "      <td>788258758</td>\n",
       "      <td>service</td>\n",
       "      <td>LINESTRING (79.92279 7.02397, 79.92279 7.02389)</td>\n",
       "    </tr>\n",
       "    <tr>\n",
       "      <th>477185</th>\n",
       "      <td>7369784287</td>\n",
       "      <td>7369784286</td>\n",
       "      <td>788258759</td>\n",
       "      <td>residential</td>\n",
       "      <td>LINESTRING (79.92214 7.02739, 79.92182 7.02736)</td>\n",
       "    </tr>\n",
       "  </tbody>\n",
       "</table>\n",
       "<p>477186 rows × 5 columns</p>\n",
       "</div>"
      ],
      "text/plain": [
       "            stnode     endnode     osm_id   infra_type  \\\n",
       "0       2419600689  3830183348    8111662     tertiary   \n",
       "1         91030247  3825202158    8111663        trunk   \n",
       "2       3825202158  3825202157    8111663        trunk   \n",
       "3       3825202157  6537163557    8111663        trunk   \n",
       "4       6537163557  6537163559    8111663        trunk   \n",
       "...            ...         ...        ...          ...   \n",
       "477181  7369784272  7369784271  788258758      service   \n",
       "477182  7369784271  7369784270  788258758      service   \n",
       "477183  7369784270  7369784269  788258758      service   \n",
       "477184  7369784269  7369784268  788258758      service   \n",
       "477185  7369784287  7369784286  788258759  residential   \n",
       "\n",
       "                                               geometry  \n",
       "0       LINESTRING (79.86659 6.90955, 79.86688 6.90955)  \n",
       "1       LINESTRING (79.84231 6.93132, 79.86688 6.90955)  \n",
       "2       LINESTRING (79.84231 6.93126, 79.86688 6.90955)  \n",
       "3       LINESTRING (79.84230 6.93121, 79.86688 6.90955)  \n",
       "4       LINESTRING (79.84230 6.93117, 79.86688 6.90955)  \n",
       "...                                                 ...  \n",
       "477181  LINESTRING (79.92226 7.02422, 79.92730 7.02577)  \n",
       "477182  LINESTRING (79.92229 7.02421, 79.92730 7.02577)  \n",
       "477183  LINESTRING (79.92278 7.02399, 79.92730 7.02577)  \n",
       "477184  LINESTRING (79.92279 7.02397, 79.92279 7.02389)  \n",
       "477185  LINESTRING (79.92214 7.02739, 79.92182 7.02736)  \n",
       "\n",
       "[477186 rows x 5 columns]"
      ]
     },
     "execution_count": 24,
     "metadata": {},
     "output_type": "execute_result"
    }
   ],
   "source": [
    "vavuniya.roads_raw"
   ]
  },
  {
   "cell_type": "code",
   "execution_count": 25,
   "metadata": {},
   "outputs": [
    {
     "data": {
      "text/html": [
       "<div>\n",
       "<style scoped>\n",
       "    .dataframe tbody tr th:only-of-type {\n",
       "        vertical-align: middle;\n",
       "    }\n",
       "\n",
       "    .dataframe tbody tr th {\n",
       "        vertical-align: top;\n",
       "    }\n",
       "\n",
       "    .dataframe thead th {\n",
       "        text-align: right;\n",
       "    }\n",
       "</style>\n",
       "<table border=\"1\" class=\"dataframe\">\n",
       "  <thead>\n",
       "    <tr style=\"text-align: right;\">\n",
       "      <th></th>\n",
       "      <th>osm_id</th>\n",
       "      <th>geometry</th>\n",
       "    </tr>\n",
       "  </thead>\n",
       "  <tbody>\n",
       "    <tr>\n",
       "      <th>0</th>\n",
       "      <td>60796641</td>\n",
       "      <td>POINT (79.86617 6.90957)</td>\n",
       "    </tr>\n",
       "    <tr>\n",
       "      <th>1</th>\n",
       "      <td>2419600689</td>\n",
       "      <td>POINT (79.86659 6.90955)</td>\n",
       "    </tr>\n",
       "    <tr>\n",
       "      <th>2</th>\n",
       "      <td>3830183348</td>\n",
       "      <td>POINT (79.86688 6.90955)</td>\n",
       "    </tr>\n",
       "    <tr>\n",
       "      <th>3</th>\n",
       "      <td>91030247</td>\n",
       "      <td>POINT (79.84231 6.93132)</td>\n",
       "    </tr>\n",
       "    <tr>\n",
       "      <th>4</th>\n",
       "      <td>3825202158</td>\n",
       "      <td>POINT (79.84231 6.93126)</td>\n",
       "    </tr>\n",
       "    <tr>\n",
       "      <th>...</th>\n",
       "      <td>...</td>\n",
       "      <td>...</td>\n",
       "    </tr>\n",
       "    <tr>\n",
       "      <th>531242</th>\n",
       "      <td>7369784273</td>\n",
       "      <td>POINT (79.92224 7.02426)</td>\n",
       "    </tr>\n",
       "    <tr>\n",
       "      <th>531243</th>\n",
       "      <td>7369784272</td>\n",
       "      <td>POINT (79.92226 7.02422)</td>\n",
       "    </tr>\n",
       "    <tr>\n",
       "      <th>531244</th>\n",
       "      <td>7369784271</td>\n",
       "      <td>POINT (79.92229 7.02421)</td>\n",
       "    </tr>\n",
       "    <tr>\n",
       "      <th>531245</th>\n",
       "      <td>7369784270</td>\n",
       "      <td>POINT (79.92278 7.02399)</td>\n",
       "    </tr>\n",
       "    <tr>\n",
       "      <th>531246</th>\n",
       "      <td>7369784269</td>\n",
       "      <td>POINT (79.92279 7.02397)</td>\n",
       "    </tr>\n",
       "  </tbody>\n",
       "</table>\n",
       "<p>463735 rows × 2 columns</p>\n",
       "</div>"
      ],
      "text/plain": [
       "            osm_id                  geometry\n",
       "0         60796641  POINT (79.86617 6.90957)\n",
       "1       2419600689  POINT (79.86659 6.90955)\n",
       "2       3830183348  POINT (79.86688 6.90955)\n",
       "3         91030247  POINT (79.84231 6.93132)\n",
       "4       3825202158  POINT (79.84231 6.93126)\n",
       "...            ...                       ...\n",
       "531242  7369784273  POINT (79.92224 7.02426)\n",
       "531243  7369784272  POINT (79.92226 7.02422)\n",
       "531244  7369784271  POINT (79.92229 7.02421)\n",
       "531245  7369784270  POINT (79.92278 7.02399)\n",
       "531246  7369784269  POINT (79.92279 7.02397)\n",
       "\n",
       "[463735 rows x 2 columns]"
      ]
     },
     "execution_count": 25,
     "metadata": {},
     "output_type": "execute_result"
    }
   ],
   "source": [
    "vavuniya.nodes_raw"
   ]
  },
  {
   "cell_type": "code",
   "execution_count": 26,
   "metadata": {},
   "outputs": [
    {
     "data": {
      "text/html": [
       "<div>\n",
       "<style scoped>\n",
       "    .dataframe tbody tr th:only-of-type {\n",
       "        vertical-align: middle;\n",
       "    }\n",
       "\n",
       "    .dataframe tbody tr th {\n",
       "        vertical-align: top;\n",
       "    }\n",
       "\n",
       "    .dataframe thead th {\n",
       "        text-align: right;\n",
       "    }\n",
       "</style>\n",
       "<table border=\"1\" class=\"dataframe\">\n",
       "  <thead>\n",
       "    <tr style=\"text-align: right;\">\n",
       "      <th></th>\n",
       "      <th>osm_id</th>\n",
       "      <th>geometry</th>\n",
       "    </tr>\n",
       "  </thead>\n",
       "  <tbody>\n",
       "    <tr>\n",
       "      <th>206342</th>\n",
       "      <td>4082624672</td>\n",
       "      <td>POINT (79.88740 7.07531)</td>\n",
       "    </tr>\n",
       "  </tbody>\n",
       "</table>\n",
       "</div>"
      ],
      "text/plain": [
       "            osm_id                  geometry\n",
       "206342  4082624672  POINT (79.88740 7.07531)"
      ]
     },
     "execution_count": 26,
     "metadata": {},
     "output_type": "execute_result"
    }
   ],
   "source": [
    "vavuniya.nodes_raw.loc[vavuniya.nodes_raw.osm_id == 4082624672]"
   ]
  },
  {
   "cell_type": "code",
   "execution_count": 27,
   "metadata": {},
   "outputs": [
    {
     "data": {
      "text/html": [
       "<div>\n",
       "<style scoped>\n",
       "    .dataframe tbody tr th:only-of-type {\n",
       "        vertical-align: middle;\n",
       "    }\n",
       "\n",
       "    .dataframe tbody tr th {\n",
       "        vertical-align: top;\n",
       "    }\n",
       "\n",
       "    .dataframe thead th {\n",
       "        text-align: right;\n",
       "    }\n",
       "</style>\n",
       "<table border=\"1\" class=\"dataframe\">\n",
       "  <thead>\n",
       "    <tr style=\"text-align: right;\">\n",
       "      <th></th>\n",
       "      <th>osm_id</th>\n",
       "      <th>geometry</th>\n",
       "    </tr>\n",
       "  </thead>\n",
       "  <tbody>\n",
       "    <tr>\n",
       "      <th>531243</th>\n",
       "      <td>7369784272</td>\n",
       "      <td>POINT (79.92226 7.02422)</td>\n",
       "    </tr>\n",
       "  </tbody>\n",
       "</table>\n",
       "</div>"
      ],
      "text/plain": [
       "            osm_id                  geometry\n",
       "531243  7369784272  POINT (79.92226 7.02422)"
      ]
     },
     "execution_count": 27,
     "metadata": {},
     "output_type": "execute_result"
    }
   ],
   "source": [
    "vavuniya.nodes_raw.loc[vavuniya.nodes_raw.osm_id == 7369784272]"
   ]
  },
  {
   "cell_type": "code",
   "execution_count": 18,
   "metadata": {},
   "outputs": [],
   "source": [
    "# vavuniya.nodes_raw.drop_duplicates(subset =\"osm_id\", \n",
    "#                       keep = False, inplace = True) "
   ]
  },
  {
   "cell_type": "code",
   "execution_count": 19,
   "metadata": {},
   "outputs": [
    {
     "data": {
      "text/plain": [
       "(array([], dtype=int64), array([], dtype=int64))"
      ]
     },
     "execution_count": 19,
     "metadata": {},
     "output_type": "execute_result"
    }
   ],
   "source": [
    "#vavuniya.nodes_raw.isnull()\n",
    "np.where(pd.isnull(vavuniya.nodes_raw))"
   ]
  },
  {
   "cell_type": "code",
   "execution_count": 20,
   "metadata": {},
   "outputs": [
    {
     "data": {
      "text/html": [
       "<div>\n",
       "<style scoped>\n",
       "    .dataframe tbody tr th:only-of-type {\n",
       "        vertical-align: middle;\n",
       "    }\n",
       "\n",
       "    .dataframe tbody tr th {\n",
       "        vertical-align: top;\n",
       "    }\n",
       "\n",
       "    .dataframe thead th {\n",
       "        text-align: right;\n",
       "    }\n",
       "</style>\n",
       "<table border=\"1\" class=\"dataframe\">\n",
       "  <thead>\n",
       "    <tr style=\"text-align: right;\">\n",
       "      <th></th>\n",
       "      <th>stnode</th>\n",
       "      <th>endnode</th>\n",
       "      <th>osm_id</th>\n",
       "      <th>infra_type</th>\n",
       "      <th>geometry</th>\n",
       "    </tr>\n",
       "  </thead>\n",
       "  <tbody>\n",
       "    <tr>\n",
       "      <th>189684</th>\n",
       "      <td>4082624672</td>\n",
       "      <td>3862116632</td>\n",
       "      <td>377162356</td>\n",
       "      <td>residential</td>\n",
       "      <td>LINESTRING (79.88740 7.07531, 79.86880 7.08326)</td>\n",
       "    </tr>\n",
       "    <tr>\n",
       "      <th>268118</th>\n",
       "      <td>4082624672</td>\n",
       "      <td>4082624668</td>\n",
       "      <td>406158597</td>\n",
       "      <td>residential</td>\n",
       "      <td>LINESTRING (79.88740 7.07531, 79.88333 7.07427)</td>\n",
       "    </tr>\n",
       "  </tbody>\n",
       "</table>\n",
       "</div>"
      ],
      "text/plain": [
       "            stnode     endnode     osm_id   infra_type  \\\n",
       "189684  4082624672  3862116632  377162356  residential   \n",
       "268118  4082624672  4082624668  406158597  residential   \n",
       "\n",
       "                                               geometry  \n",
       "189684  LINESTRING (79.88740 7.07531, 79.86880 7.08326)  \n",
       "268118  LINESTRING (79.88740 7.07531, 79.88333 7.07427)  "
      ]
     },
     "execution_count": 20,
     "metadata": {},
     "output_type": "execute_result"
    }
   ],
   "source": [
    "vavuniya.roads_raw.loc[vavuniya.roads_raw.stnode == 4082624672]"
   ]
  },
  {
   "cell_type": "code",
   "execution_count": 13,
   "metadata": {},
   "outputs": [
    {
     "data": {
      "text/html": [
       "<div>\n",
       "<style scoped>\n",
       "    .dataframe tbody tr th:only-of-type {\n",
       "        vertical-align: middle;\n",
       "    }\n",
       "\n",
       "    .dataframe tbody tr th {\n",
       "        vertical-align: top;\n",
       "    }\n",
       "\n",
       "    .dataframe thead th {\n",
       "        text-align: right;\n",
       "    }\n",
       "</style>\n",
       "<table border=\"1\" class=\"dataframe\">\n",
       "  <thead>\n",
       "    <tr style=\"text-align: right;\">\n",
       "      <th></th>\n",
       "      <th>stnode</th>\n",
       "      <th>endnode</th>\n",
       "      <th>osm_id</th>\n",
       "      <th>infra_type</th>\n",
       "      <th>geometry</th>\n",
       "    </tr>\n",
       "  </thead>\n",
       "  <tbody>\n",
       "    <tr>\n",
       "      <th>0</th>\n",
       "      <td>2419600689</td>\n",
       "      <td>3830183348</td>\n",
       "      <td>8111662</td>\n",
       "      <td>tertiary</td>\n",
       "      <td>LINESTRING (79.86659 6.90955, 79.86688 6.90955)</td>\n",
       "    </tr>\n",
       "    <tr>\n",
       "      <th>1</th>\n",
       "      <td>91030247</td>\n",
       "      <td>3825202158</td>\n",
       "      <td>8111663</td>\n",
       "      <td>trunk</td>\n",
       "      <td>LINESTRING (79.84231 6.93132, 79.86688 6.90955)</td>\n",
       "    </tr>\n",
       "    <tr>\n",
       "      <th>2</th>\n",
       "      <td>3825202158</td>\n",
       "      <td>3825202157</td>\n",
       "      <td>8111663</td>\n",
       "      <td>trunk</td>\n",
       "      <td>LINESTRING (79.84231 6.93126, 79.86688 6.90955)</td>\n",
       "    </tr>\n",
       "    <tr>\n",
       "      <th>3</th>\n",
       "      <td>3825202157</td>\n",
       "      <td>6537163557</td>\n",
       "      <td>8111663</td>\n",
       "      <td>trunk</td>\n",
       "      <td>LINESTRING (79.84230 6.93121, 79.86688 6.90955)</td>\n",
       "    </tr>\n",
       "    <tr>\n",
       "      <th>4</th>\n",
       "      <td>6537163557</td>\n",
       "      <td>6537163559</td>\n",
       "      <td>8111663</td>\n",
       "      <td>trunk</td>\n",
       "      <td>LINESTRING (79.84230 6.93117, 79.86688 6.90955)</td>\n",
       "    </tr>\n",
       "    <tr>\n",
       "      <th>...</th>\n",
       "      <td>...</td>\n",
       "      <td>...</td>\n",
       "      <td>...</td>\n",
       "      <td>...</td>\n",
       "      <td>...</td>\n",
       "    </tr>\n",
       "    <tr>\n",
       "      <th>477181</th>\n",
       "      <td>7369784272</td>\n",
       "      <td>7369784271</td>\n",
       "      <td>788258758</td>\n",
       "      <td>service</td>\n",
       "      <td>LINESTRING (79.92226 7.02422, 79.92730 7.02577)</td>\n",
       "    </tr>\n",
       "    <tr>\n",
       "      <th>477182</th>\n",
       "      <td>7369784271</td>\n",
       "      <td>7369784270</td>\n",
       "      <td>788258758</td>\n",
       "      <td>service</td>\n",
       "      <td>LINESTRING (79.92229 7.02421, 79.92730 7.02577)</td>\n",
       "    </tr>\n",
       "    <tr>\n",
       "      <th>477183</th>\n",
       "      <td>7369784270</td>\n",
       "      <td>7369784269</td>\n",
       "      <td>788258758</td>\n",
       "      <td>service</td>\n",
       "      <td>LINESTRING (79.92278 7.02399, 79.92730 7.02577)</td>\n",
       "    </tr>\n",
       "    <tr>\n",
       "      <th>477184</th>\n",
       "      <td>7369784269</td>\n",
       "      <td>7369784268</td>\n",
       "      <td>788258758</td>\n",
       "      <td>service</td>\n",
       "      <td>LINESTRING (79.92279 7.02397, 79.92279 7.02389)</td>\n",
       "    </tr>\n",
       "    <tr>\n",
       "      <th>477185</th>\n",
       "      <td>7369784287</td>\n",
       "      <td>7369784286</td>\n",
       "      <td>788258759</td>\n",
       "      <td>residential</td>\n",
       "      <td>LINESTRING (79.92214 7.02739, 79.92182 7.02736)</td>\n",
       "    </tr>\n",
       "  </tbody>\n",
       "</table>\n",
       "<p>477186 rows × 5 columns</p>\n",
       "</div>"
      ],
      "text/plain": [
       "            stnode     endnode     osm_id   infra_type  \\\n",
       "0       2419600689  3830183348    8111662     tertiary   \n",
       "1         91030247  3825202158    8111663        trunk   \n",
       "2       3825202158  3825202157    8111663        trunk   \n",
       "3       3825202157  6537163557    8111663        trunk   \n",
       "4       6537163557  6537163559    8111663        trunk   \n",
       "...            ...         ...        ...          ...   \n",
       "477181  7369784272  7369784271  788258758      service   \n",
       "477182  7369784271  7369784270  788258758      service   \n",
       "477183  7369784270  7369784269  788258758      service   \n",
       "477184  7369784269  7369784268  788258758      service   \n",
       "477185  7369784287  7369784286  788258759  residential   \n",
       "\n",
       "                                               geometry  \n",
       "0       LINESTRING (79.86659 6.90955, 79.86688 6.90955)  \n",
       "1       LINESTRING (79.84231 6.93132, 79.86688 6.90955)  \n",
       "2       LINESTRING (79.84231 6.93126, 79.86688 6.90955)  \n",
       "3       LINESTRING (79.84230 6.93121, 79.86688 6.90955)  \n",
       "4       LINESTRING (79.84230 6.93117, 79.86688 6.90955)  \n",
       "...                                                 ...  \n",
       "477181  LINESTRING (79.92226 7.02422, 79.92730 7.02577)  \n",
       "477182  LINESTRING (79.92229 7.02421, 79.92730 7.02577)  \n",
       "477183  LINESTRING (79.92278 7.02399, 79.92730 7.02577)  \n",
       "477184  LINESTRING (79.92279 7.02397, 79.92279 7.02389)  \n",
       "477185  LINESTRING (79.92214 7.02739, 79.92182 7.02736)  \n",
       "\n",
       "[477186 rows x 5 columns]"
      ]
     },
     "execution_count": 13,
     "metadata": {},
     "output_type": "execute_result"
    }
   ],
   "source": [
    "vavuniya.roads_raw"
   ]
  },
  {
   "cell_type": "code",
   "execution_count": 28,
   "metadata": {},
   "outputs": [
    {
     "data": {
      "text/plain": [
       "Int64Index([], dtype='int64')"
      ]
     },
     "execution_count": 28,
     "metadata": {},
     "output_type": "execute_result"
    }
   ],
   "source": [
    "vavuniya.nodes_raw[vavuniya.nodes_raw['geometry'] == ''].index"
   ]
  },
  {
   "cell_type": "code",
   "execution_count": 29,
   "metadata": {},
   "outputs": [
    {
     "data": {
      "text/html": [
       "<div>\n",
       "<style scoped>\n",
       "    .dataframe tbody tr th:only-of-type {\n",
       "        vertical-align: middle;\n",
       "    }\n",
       "\n",
       "    .dataframe tbody tr th {\n",
       "        vertical-align: top;\n",
       "    }\n",
       "\n",
       "    .dataframe thead th {\n",
       "        text-align: right;\n",
       "    }\n",
       "</style>\n",
       "<table border=\"1\" class=\"dataframe\">\n",
       "  <thead>\n",
       "    <tr style=\"text-align: right;\">\n",
       "      <th></th>\n",
       "      <th>osm_id</th>\n",
       "      <th>geometry</th>\n",
       "    </tr>\n",
       "  </thead>\n",
       "  <tbody>\n",
       "    <tr>\n",
       "      <th>0</th>\n",
       "      <td>60796641</td>\n",
       "      <td>POINT (79.86617 6.90957)</td>\n",
       "    </tr>\n",
       "    <tr>\n",
       "      <th>1</th>\n",
       "      <td>2419600689</td>\n",
       "      <td>POINT (79.86659 6.90955)</td>\n",
       "    </tr>\n",
       "    <tr>\n",
       "      <th>2</th>\n",
       "      <td>3830183348</td>\n",
       "      <td>POINT (79.86688 6.90955)</td>\n",
       "    </tr>\n",
       "    <tr>\n",
       "      <th>3</th>\n",
       "      <td>91030247</td>\n",
       "      <td>POINT (79.84231 6.93132)</td>\n",
       "    </tr>\n",
       "    <tr>\n",
       "      <th>4</th>\n",
       "      <td>3825202158</td>\n",
       "      <td>POINT (79.84231 6.93126)</td>\n",
       "    </tr>\n",
       "  </tbody>\n",
       "</table>\n",
       "</div>"
      ],
      "text/plain": [
       "       osm_id                  geometry\n",
       "0    60796641  POINT (79.86617 6.90957)\n",
       "1  2419600689  POINT (79.86659 6.90955)\n",
       "2  3830183348  POINT (79.86688 6.90955)\n",
       "3    91030247  POINT (79.84231 6.93132)\n",
       "4  3825202158  POINT (79.84231 6.93126)"
      ]
     },
     "execution_count": 29,
     "metadata": {},
     "output_type": "execute_result"
    }
   ],
   "source": [
    "vavuniya.nodes_raw.head()"
   ]
  },
  {
   "cell_type": "code",
   "execution_count": 30,
   "metadata": {
    "scrolled": false
   },
   "outputs": [
    {
     "name": "stdout",
     "output_type": "stream",
     "text": [
      "2\n",
      "./osm/1233300-Asia-Colombo.csv\n",
      "finished reading ./osm/1233300-Asia-Colombo.csv into dataframe\n",
      "FILE ./osm/1233302-Asia-Colombo.csv\n",
      "1233302-Asia-Colombo_df\n",
      "finished merging 1233302-Asia-Colombo_df into combined dataframe\n",
      "calculating min, max, and mean values.\n",
      "finished calculating min, max, and mean values. Printing traffic_simplified head\n",
      "    FROM_NODE     TO_NODE  min_speed  max_speed  mean_speed\n",
      "0  1148494884  4177608798       31.0       38.0   36.866071\n",
      "1  1148495298  4137314867       57.0       57.0   57.000000\n",
      "2  1242700523  6537570627       60.0       60.0   60.000000\n",
      "3  1242730766  3377418986       46.0       46.0   46.000000\n",
      "4  1243299175  3805435746       40.0       40.0   40.000000\n",
      "adding the traffic speeds to the edges\n",
      "12.8% of roads have a traffic speed\n"
     ]
    }
   ],
   "source": [
    "vavuniya.apply_traffic_speeds_to_roads_raw(\"./osm/1233300-Asia-Colombo.csv\", \"./osm/1233302-Asia-Colombo.csv\" )"
   ]
  },
  {
   "cell_type": "code",
   "execution_count": 31,
   "metadata": {},
   "outputs": [
    {
     "name": "stdout",
     "output_type": "stream",
     "text": [
      "length of in_df_roads_raw\n",
      "477186\n",
      "Processing 0 of 477186\n"
     ]
    },
    {
     "ename": "KeyboardInterrupt",
     "evalue": "",
     "output_type": "error",
     "traceback": [
      "\u001b[0;31m---------------------------------------------------------------------------\u001b[0m",
      "\u001b[0;31mKeyboardInterrupt\u001b[0m                         Traceback (most recent call last)",
      "\u001b[0;32m<ipython-input-31-919a4ec6dd64>\u001b[0m in \u001b[0;36m<module>\u001b[0;34m\u001b[0m\n\u001b[0;32m----> 1\u001b[0;31m \u001b[0mvavuniya\u001b[0m\u001b[0;34m.\u001b[0m\u001b[0mgenerateRoadsGDF\u001b[0m\u001b[0;34m(\u001b[0m\u001b[0mverbose\u001b[0m \u001b[0;34m=\u001b[0m \u001b[0;32mTrue\u001b[0m\u001b[0;34m)\u001b[0m\u001b[0;34m\u001b[0m\u001b[0;34m\u001b[0m\u001b[0m\n\u001b[0m",
      "\u001b[0;32m~/repos/GOSTNets/GOSTnets/load_traffic.py\u001b[0m in \u001b[0;36mgenerateRoadsGDF\u001b[0;34m(self, in_df, outFile, verbose)\u001b[0m\n\u001b[1;32m    136\u001b[0m         \u001b[0;31m# get all intersections,\u001b[0m\u001b[0;34m\u001b[0m\u001b[0;34m\u001b[0m\u001b[0;34m\u001b[0m\u001b[0m\n\u001b[1;32m    137\u001b[0m \u001b[0;34m\u001b[0m\u001b[0m\n\u001b[0;32m--> 138\u001b[0;31m         \u001b[0mget_all_intersections_and_create_nodes_list\u001b[0m \u001b[0;34m=\u001b[0m \u001b[0mself\u001b[0m\u001b[0;34m.\u001b[0m\u001b[0mget_all_intersections_and_create_nodes\u001b[0m\u001b[0;34m(\u001b[0m\u001b[0min_df_roads_raw\u001b[0m\u001b[0;34m,\u001b[0m \u001b[0min_df_nodes_raw\u001b[0m\u001b[0;34m,\u001b[0m \u001b[0munique_id\u001b[0m \u001b[0;34m=\u001b[0m \u001b[0;34m'osm_id'\u001b[0m\u001b[0;34m,\u001b[0m \u001b[0mverboseness\u001b[0m \u001b[0;34m=\u001b[0m \u001b[0mverbose\u001b[0m\u001b[0;34m)\u001b[0m\u001b[0;34m\u001b[0m\u001b[0;34m\u001b[0m\u001b[0m\n\u001b[0m\u001b[1;32m    139\u001b[0m         \u001b[0mroads\u001b[0m \u001b[0;34m=\u001b[0m \u001b[0mget_all_intersections_and_create_nodes_list\u001b[0m\u001b[0;34m[\u001b[0m\u001b[0;36m0\u001b[0m\u001b[0;34m]\u001b[0m\u001b[0;34m\u001b[0m\u001b[0;34m\u001b[0m\u001b[0m\n\u001b[1;32m    140\u001b[0m         \u001b[0mnodes\u001b[0m \u001b[0;34m=\u001b[0m \u001b[0mget_all_intersections_and_create_nodes_list\u001b[0m\u001b[0;34m[\u001b[0m\u001b[0;36m1\u001b[0m\u001b[0;34m]\u001b[0m\u001b[0;34m\u001b[0m\u001b[0;34m\u001b[0m\u001b[0m\n",
      "\u001b[0;32m~/repos/GOSTNets/GOSTnets/load_traffic.py\u001b[0m in \u001b[0;36mget_all_intersections_and_create_nodes\u001b[0;34m(self, in_df_roads_raw, in_df_nodes_raw, idx_osm, unique_id, verboseness)\u001b[0m\n\u001b[1;32m    475\u001b[0m \u001b[0;34m\u001b[0m\u001b[0m\n\u001b[1;32m    476\u001b[0m             \u001b[0;31m#  rtree.index.Index.intersection() will return you index entries that cross or are contained within the given query window\u001b[0m\u001b[0;34m\u001b[0m\u001b[0;34m\u001b[0m\u001b[0;34m\u001b[0m\u001b[0m\n\u001b[0;32m--> 477\u001b[0;31m             \u001b[0mhits\u001b[0m \u001b[0;34m=\u001b[0m \u001b[0;34m[\u001b[0m\u001b[0mn\u001b[0m\u001b[0;34m.\u001b[0m\u001b[0mobject\u001b[0m \u001b[0;32mfor\u001b[0m \u001b[0mn\u001b[0m \u001b[0;32min\u001b[0m \u001b[0midx_inters\u001b[0m\u001b[0;34m.\u001b[0m\u001b[0mintersection\u001b[0m\u001b[0;34m(\u001b[0m\u001b[0mline\u001b[0m\u001b[0;34m.\u001b[0m\u001b[0mbounds\u001b[0m\u001b[0;34m,\u001b[0m \u001b[0mobjects\u001b[0m \u001b[0;34m=\u001b[0m \u001b[0;32mTrue\u001b[0m\u001b[0;34m)\u001b[0m\u001b[0;34m]\u001b[0m\u001b[0;34m\u001b[0m\u001b[0;34m\u001b[0m\u001b[0m\n\u001b[0m\u001b[1;32m    478\u001b[0m \u001b[0;34m\u001b[0m\u001b[0m\n\u001b[1;32m    479\u001b[0m             \u001b[0;31m# print('hits length')\u001b[0m\u001b[0;34m\u001b[0m\u001b[0;34m\u001b[0m\u001b[0;34m\u001b[0m\u001b[0m\n",
      "\u001b[0;32m~/anaconda3/envs/gostnets2/lib/python3.7/site-packages/rtree/index.py\u001b[0m in \u001b[0;36mintersection\u001b[0;34m(self, coordinates, objects)\u001b[0m\n\u001b[1;32m    681\u001b[0m             \u001b[0;32mreturn\u001b[0m \u001b[0mself\u001b[0m\u001b[0;34m.\u001b[0m\u001b[0m_intersectionTP\u001b[0m\u001b[0;34m(\u001b[0m\u001b[0;34m*\u001b[0m\u001b[0mcoordinates\u001b[0m\u001b[0;34m,\u001b[0m \u001b[0mobjects\u001b[0m\u001b[0;34m=\u001b[0m\u001b[0mobjects\u001b[0m\u001b[0;34m)\u001b[0m\u001b[0;34m\u001b[0m\u001b[0;34m\u001b[0m\u001b[0m\n\u001b[1;32m    682\u001b[0m         \u001b[0;32mif\u001b[0m \u001b[0mobjects\u001b[0m\u001b[0;34m:\u001b[0m\u001b[0;34m\u001b[0m\u001b[0;34m\u001b[0m\u001b[0m\n\u001b[0;32m--> 683\u001b[0;31m             \u001b[0;32mreturn\u001b[0m \u001b[0mself\u001b[0m\u001b[0;34m.\u001b[0m\u001b[0m_intersection_obj\u001b[0m\u001b[0;34m(\u001b[0m\u001b[0mcoordinates\u001b[0m\u001b[0;34m,\u001b[0m \u001b[0mobjects\u001b[0m\u001b[0;34m)\u001b[0m\u001b[0;34m\u001b[0m\u001b[0;34m\u001b[0m\u001b[0m\n\u001b[0m\u001b[1;32m    684\u001b[0m \u001b[0;34m\u001b[0m\u001b[0m\n\u001b[1;32m    685\u001b[0m         \u001b[0mp_mins\u001b[0m\u001b[0;34m,\u001b[0m \u001b[0mp_maxs\u001b[0m \u001b[0;34m=\u001b[0m \u001b[0mself\u001b[0m\u001b[0;34m.\u001b[0m\u001b[0mget_coordinate_pointers\u001b[0m\u001b[0;34m(\u001b[0m\u001b[0mcoordinates\u001b[0m\u001b[0;34m)\u001b[0m\u001b[0;34m\u001b[0m\u001b[0;34m\u001b[0m\u001b[0m\n",
      "\u001b[0;32m~/anaconda3/envs/gostnets2/lib/python3.7/site-packages/rtree/index.py\u001b[0m in \u001b[0;36m_intersection_obj\u001b[0;34m(self, coordinates, objects)\u001b[0m\n\u001b[1;32m    734\u001b[0m                                      \u001b[0mself\u001b[0m\u001b[0;34m.\u001b[0m\u001b[0mproperties\u001b[0m\u001b[0;34m.\u001b[0m\u001b[0mdimension\u001b[0m\u001b[0;34m,\u001b[0m\u001b[0;34m\u001b[0m\u001b[0;34m\u001b[0m\u001b[0m\n\u001b[1;32m    735\u001b[0m                                      \u001b[0mctypes\u001b[0m\u001b[0;34m.\u001b[0m\u001b[0mbyref\u001b[0m\u001b[0;34m(\u001b[0m\u001b[0mit\u001b[0m\u001b[0;34m)\u001b[0m\u001b[0;34m,\u001b[0m\u001b[0;34m\u001b[0m\u001b[0;34m\u001b[0m\u001b[0m\n\u001b[0;32m--> 736\u001b[0;31m                                      ctypes.byref(p_num_results))\n\u001b[0m\u001b[1;32m    737\u001b[0m         \u001b[0;32mreturn\u001b[0m \u001b[0mself\u001b[0m\u001b[0;34m.\u001b[0m\u001b[0m_get_objects\u001b[0m\u001b[0;34m(\u001b[0m\u001b[0mit\u001b[0m\u001b[0;34m,\u001b[0m \u001b[0mp_num_results\u001b[0m\u001b[0;34m.\u001b[0m\u001b[0mvalue\u001b[0m\u001b[0;34m,\u001b[0m \u001b[0mobjects\u001b[0m\u001b[0;34m)\u001b[0m\u001b[0;34m\u001b[0m\u001b[0;34m\u001b[0m\u001b[0m\n\u001b[1;32m    738\u001b[0m \u001b[0;34m\u001b[0m\u001b[0m\n",
      "\u001b[0;32m~/anaconda3/envs/gostnets2/lib/python3.7/site-packages/rtree/core.py\u001b[0m in \u001b[0;36mcheck_return\u001b[0;34m(result, func, cargs)\u001b[0m\n\u001b[1;32m     11\u001b[0m \u001b[0;34m\u001b[0m\u001b[0m\n\u001b[1;32m     12\u001b[0m \u001b[0;34m\u001b[0m\u001b[0m\n\u001b[0;32m---> 13\u001b[0;31m \u001b[0;32mdef\u001b[0m \u001b[0mcheck_return\u001b[0m\u001b[0;34m(\u001b[0m\u001b[0mresult\u001b[0m\u001b[0;34m,\u001b[0m \u001b[0mfunc\u001b[0m\u001b[0;34m,\u001b[0m \u001b[0mcargs\u001b[0m\u001b[0;34m)\u001b[0m\u001b[0;34m:\u001b[0m\u001b[0;34m\u001b[0m\u001b[0;34m\u001b[0m\u001b[0m\n\u001b[0m\u001b[1;32m     14\u001b[0m     \u001b[0;34m\"Error checking for Error calls\"\u001b[0m\u001b[0;34m\u001b[0m\u001b[0;34m\u001b[0m\u001b[0m\n\u001b[1;32m     15\u001b[0m     \u001b[0;32mif\u001b[0m \u001b[0mresult\u001b[0m \u001b[0;34m!=\u001b[0m \u001b[0;36m0\u001b[0m\u001b[0;34m:\u001b[0m\u001b[0;34m\u001b[0m\u001b[0;34m\u001b[0m\u001b[0m\n",
      "\u001b[0;31mKeyboardInterrupt\u001b[0m: "
     ]
    }
   ],
   "source": [
    "vavuniya.generateRoadsGDF(verbose = True)"
   ]
  },
  {
   "cell_type": "code",
   "execution_count": null,
   "metadata": {},
   "outputs": [],
   "source": [
    "len(vavuniya.roads_raw)"
   ]
  },
  {
   "cell_type": "code",
   "execution_count": null,
   "metadata": {},
   "outputs": [],
   "source": [
    "len(vavuniya.roadsGDF)"
   ]
  },
  {
   "cell_type": "code",
   "execution_count": null,
   "metadata": {
    "scrolled": true
   },
   "outputs": [],
   "source": [
    "vavuniya.nodesGDF.loc[vavuniya.nodesGDF.osm_id == 60796641]"
   ]
  },
  {
   "cell_type": "code",
   "execution_count": null,
   "metadata": {},
   "outputs": [],
   "source": [
    "len(vavuniya.nodesGDF)"
   ]
  },
  {
   "cell_type": "code",
   "execution_count": null,
   "metadata": {},
   "outputs": [],
   "source": [
    "vavuniya.nodesGDF[125693:125703]"
   ]
  },
  {
   "cell_type": "code",
   "execution_count": null,
   "metadata": {},
   "outputs": [],
   "source": [
    "vavuniya.nodesGDF.loc[vavuniya.nodesGDF.osm_id == 3727426631]"
   ]
  },
  {
   "cell_type": "code",
   "execution_count": null,
   "metadata": {},
   "outputs": [],
   "source": [
    "gdfnodes.loc[gdfnodes.node_ID == 3727426631]"
   ]
  },
  {
   "cell_type": "code",
   "execution_count": null,
   "metadata": {},
   "outputs": [],
   "source": [
    "vavuniya.initialReadIn()"
   ]
  },
  {
   "cell_type": "markdown",
   "metadata": {},
   "source": [
    "### Now still need to clean graph (which includes simplifying the edges). By the way during the clean graph function it sums of the lengths if it removes uneeded nodes. Then travel times still need to be applied. "
   ]
  },
  {
   "cell_type": "code",
   "execution_count": null,
   "metadata": {},
   "outputs": [],
   "source": [
    "vavuniya"
   ]
  },
  {
   "cell_type": "code",
   "execution_count": null,
   "metadata": {},
   "outputs": [],
   "source": [
    "vavuniya.network"
   ]
  },
  {
   "cell_type": "code",
   "execution_count": null,
   "metadata": {},
   "outputs": [],
   "source": [
    "len(vavuniya.network.nodes)"
   ]
  },
  {
   "cell_type": "code",
   "execution_count": null,
   "metadata": {},
   "outputs": [],
   "source": [
    "vavuniya.network.nodes[3727426633]"
   ]
  },
  {
   "cell_type": "code",
   "execution_count": null,
   "metadata": {},
   "outputs": [],
   "source": [
    "vavuniya.network.nodes[3727426631]"
   ]
  },
  {
   "cell_type": "code",
   "execution_count": null,
   "metadata": {},
   "outputs": [],
   "source": [
    "gn.example_edge(vavuniya.network, 8)"
   ]
  },
  {
   "cell_type": "code",
   "execution_count": null,
   "metadata": {},
   "outputs": [],
   "source": [
    "gn.example_node(vavuniya.network, 8)"
   ]
  },
  {
   "cell_type": "code",
   "execution_count": null,
   "metadata": {},
   "outputs": [],
   "source": [
    "# create a node gdf from graph\n",
    "gdfnodes = gn.node_gdf_from_graph(vavuniya.network)"
   ]
  },
  {
   "cell_type": "code",
   "execution_count": null,
   "metadata": {},
   "outputs": [],
   "source": [
    "vavuniya.network.nodes[127658543]"
   ]
  },
  {
   "cell_type": "code",
   "execution_count": null,
   "metadata": {},
   "outputs": [],
   "source": [
    "gdfnodes"
   ]
  },
  {
   "cell_type": "code",
   "execution_count": null,
   "metadata": {},
   "outputs": [],
   "source": [
    "gdfnodes.loc[gdfnodes.node_ID == 127658543]"
   ]
  },
  {
   "cell_type": "code",
   "execution_count": null,
   "metadata": {},
   "outputs": [],
   "source": [
    "gn.save(vavuniya.network,'vavuniya_unclean','./', pickle = True, edges = True, nodes = True)"
   ]
  },
  {
   "cell_type": "code",
   "execution_count": null,
   "metadata": {},
   "outputs": [],
   "source": []
  }
 ],
 "metadata": {
  "kernelspec": {
   "display_name": "Python 3",
   "language": "python",
   "name": "python3"
  },
  "language_info": {
   "codemirror_mode": {
    "name": "ipython",
    "version": 3
   },
   "file_extension": ".py",
   "mimetype": "text/x-python",
   "name": "python",
   "nbconvert_exporter": "python",
   "pygments_lexer": "ipython3",
   "version": "3.7.6"
  }
 },
 "nbformat": 4,
 "nbformat_minor": 2
}
