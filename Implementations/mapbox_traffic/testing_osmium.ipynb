{
 "cells": [
  {
   "cell_type": "markdown",
   "metadata": {},
   "source": [
    "# Testing extracting OSM data using Osmium"
   ]
  },
  {
   "cell_type": "code",
   "execution_count": 3,
   "metadata": {},
   "outputs": [],
   "source": [
    "import os, sys, time, importlib\n",
    "import osmnx\n",
    "\n",
    "import geopandas as gpd\n",
    "import pandas as pd\n",
    "import networkx as nx\n",
    "import numpy as np\n",
    "sys.path.append(\"../../../GOSTNets\")\n",
    "import GOSTnets as gn\n",
    "\n",
    "# pip install osmium\n",
    "import osmium, logging\n",
    "import shapely.wkb as wkblib\n",
    "\n",
    "from shapely.geometry import LineString, Point\n",
    "\n",
    "import time"
   ]
  },
  {
   "cell_type": "code",
   "execution_count": 4,
   "metadata": {},
   "outputs": [],
   "source": [
    "# set file\n",
    "some_file = './colombo.osm.pbf'"
   ]
  },
  {
   "cell_type": "markdown",
   "metadata": {},
   "source": [
    "## simplest example of using Osmium"
   ]
  },
  {
   "cell_type": "code",
   "execution_count": 2,
   "metadata": {},
   "outputs": [
    {
     "name": "stdout",
     "output_type": "stream",
     "text": [
      "['Allahar Dan Hotel', 'BRAC INN', 'Bengal Inn', 'BestWestern LaVinci', 'Bismillah hotel', 'Blossom Hotel', 'Chittagong Hotel', 'Contemporary Heights Hotel', 'Element By Westin', 'Grand Dhaka Hotel', 'Grand Prince Hotel', 'Hotel Abakash', 'Hotel Al Razzak International', 'Hotel Ambala Inn', 'Hotel Arif', 'Hotel De Crystal Crown', 'Hotel Delux', 'Hotel Givenci', 'Hotel Givenci', 'Hotel Indropuri International', 'Hotel Khan', 'Hotel Lake Breeze', 'Hotel Milina', 'Hotel Mohammadia', 'Hotel New Savar হোটেল নিউ সাভার', 'Hotel Nidra', 'Hotel Razmoni Isha Kha', 'Hotel Sweet Dreams Dhaka', 'Hotel Washington', 'Innotel Luxury Business Hotel', 'La Villa', 'Le Meridien Dhaka', 'Manhattan Hotel', 'Nordic Hotels', 'Olyampia Palace', 'Platinum Grande', 'Platinum Suites', 'Quality Inn', 'Rawnak Palace', 'Richmont hotel', 'Robin ar Hotel রবিনের হোটেল', 'Royal Park Hotel', 'Sarina Hotel', 'Savar Internation', 'The Waterfront Hotel', 'Tripti Niloy', 'hotel Golden Deer', 'khaja Ajmiri Hotel', 'victory', 'ঢাকা হোটেল', 'নিউ ঢাকা হোটেল', 'বিসমিল্লাহ হোটেল', 'লরেল হোটেল', 'হোটেল আশরাফি', 'হোটেল গোল্ডেন', 'হোটেল ঢাকা টুডে', 'হোটেল মেলোডি', 'হোটেল লেক ক্যাসেল']\n"
     ]
    }
   ],
   "source": [
    "class HotelHandler(osmium.SimpleHandler):\n",
    "    def __init__(self):\n",
    "        super(HotelHandler, self).__init__()\n",
    "        self.hotels = []\n",
    "\n",
    "    def node(self, o):\n",
    "        if o.tags.get('tourism') == 'hotel' and 'name' in o.tags:\n",
    "            self.hotels.append(o.tags['name'])\n",
    "\n",
    "\n",
    "h = HotelHandler()\n",
    "h.apply_file(some_file)\n",
    "\n",
    "print(sorted(h.hotels))"
   ]
  },
  {
   "cell_type": "markdown",
   "metadata": {},
   "source": [
    "## Extracting highways and nodes using Osmium"
   ]
  },
  {
   "cell_type": "code",
   "execution_count": 5,
   "metadata": {},
   "outputs": [
    {
     "name": "stdout",
     "output_type": "stream",
     "text": [
      "54063\n",
      "0\n",
      "184.9615442752838\n"
     ]
    }
   ],
   "source": [
    "start_time = time.time()\n",
    "\n",
    "wkbfab = osmium.geom.WKBFactory()\n",
    "\n",
    "# extract highways\n",
    "class HighwayExtractor(osmium.SimpleHandler):\n",
    "    def __init__(self):\n",
    "        osmium.SimpleHandler.__init__(self) \n",
    "        self.nodes = []\n",
    "        #self.raw_h = []\n",
    "        self.highways = []\n",
    "        self.broken_highways = []\n",
    "        self.total = 0\n",
    "        self.num_nodes = 0\n",
    "        \n",
    "    def node(self, n):\n",
    "        wkb = wkbfab.create_point(n)\n",
    "        shp = wkblib.loads(wkb, hex = True)\n",
    "        self.nodes.append([n.id, shp, shp.x, shp.y])\n",
    "        #self.num_nodes += 1\n",
    "        #self.nodes.append(shp)\n",
    "    \n",
    "    def way(self, w):\n",
    "        #self.raw_h.append(w)\n",
    "        try:\n",
    "            nodes = [x.ref for x in w.nodes]\n",
    "            wkb = wkbfab.create_linestring(w)\n",
    "            shp = wkblib.loads(wkb, hex=True)\n",
    "            if 'highway' in w.tags:\n",
    "                info = [w.id, nodes, shp, w.tags['highway']]\n",
    "                self.highways.append(info)\n",
    "#                 self.highways.append(w.tags['highway'])\n",
    "#                 self.total += shp.length\n",
    "        except:\n",
    "            print('hit exception')\n",
    "            nodes = [x for x in w.nodes if x.location.valid()]\n",
    "            if len(nodes) > 1:\n",
    "                shp = LineString([Point(x.location.x, x.location.y) for x in nodes])\n",
    "                info = [w.id, nodes, shp, w.tags['highway']]\n",
    "                self.highways.append(info)\n",
    "            else:\n",
    "                self.broken_highways.append(w)\n",
    "            logging.warning(\"Error Processing OSM Way %s\" % w.id)\n",
    "            \n",
    "        \n",
    "h = HighwayExtractor()\n",
    "h.apply_file(some_file, locations=True)\n",
    "#print(len(h.nodes))\n",
    "print(len(h.highways))\n",
    "print(len(h.broken_highways))\n",
    "\n",
    "end_time = time.time()\n",
    "print(end_time - start_time)"
   ]
  },
  {
   "cell_type": "markdown",
   "metadata": {},
   "source": [
    "## Even though we cannot get the nodes of ways using the ogr osm driver, still time it"
   ]
  },
  {
   "cell_type": "code",
   "execution_count": 6,
   "metadata": {},
   "outputs": [
    {
     "name": "stdout",
     "output_type": "stream",
     "text": [
      "6.457503080368042\n"
     ]
    }
   ],
   "source": [
    "start_time = time.time()\n",
    "\n",
    "from osgeo import ogr\n",
    "from shapely.wkt import loads\n",
    "\n",
    "driver = ogr.GetDriverByName(\"OSM\")\n",
    "\n",
    "data = driver.Open(some_file)\n",
    "sql_lyr = data.ExecuteSQL(\"SELECT * FROM lines WHERE highway IS NOT NULL\")\n",
    "roads = []\n",
    "\n",
    "for feature in sql_lyr:\n",
    "    if feature.GetField(\"highway\") is not None:\n",
    "        osm_id = feature.GetField(\"osm_id\")\n",
    "        shapely_geo = loads(feature.geometry().ExportToWkt())\n",
    "        if shapely_geo is None:\n",
    "            continue\n",
    "        highway = feature.GetField(\"highway\")\n",
    "        roads.append([osm_id,highway,shapely_geo])\n",
    "\n",
    "data = driver.Open(some_file)\n",
    "sql_lyr = data.ExecuteSQL(\"SELECT * FROM points\")\n",
    "curRes = {}\n",
    "\n",
    "for nodes in sql_lyr:\n",
    "    nodes_vals = nodes.items()\n",
    "    nodes_vals['geometry'] = loads(feature.geometry().ExportToWkt())\n",
    "    curRes[nodes_vals['osm_id']] = nodes_vals\n",
    "\n",
    "end_time = time.time()\n",
    "print(end_time - start_time)"
   ]
  },
  {
   "cell_type": "markdown",
   "metadata": {},
   "source": [
    "### results: \n",
    "Extracting highways and nodes independently using the OGR OSM driver took about 6.5 seconds. While using Osmium to extract just the highways with their nodes took about 44 seconds for Colombo. Using Osmium to extract the highway nodes and highways seperately took about 185 seconds."
   ]
  },
  {
   "cell_type": "code",
   "execution_count": 8,
   "metadata": {},
   "outputs": [],
   "source": [
    "nodes_df = pd.DataFrame(h.nodes, columns = [\"osm_id\", \"geometry\", \"x\", \"y\"])"
   ]
  },
  {
   "cell_type": "markdown",
   "metadata": {},
   "source": [
    "## Split up the highways into seperate edges between each node. This involves doing a lookup based on osm_id from the nodes_df for each segment"
   ]
  },
  {
   "cell_type": "code",
   "execution_count": 9,
   "metadata": {},
   "outputs": [
    {
     "name": "stdout",
     "output_type": "stream",
     "text": [
      "2404.4707980155945\n"
     ]
    }
   ],
   "source": [
    "start_time = time.time()\n",
    "\n",
    "all_h = []\n",
    "\n",
    "for x in h.highways:\n",
    "    for n_idx in range(0, (len(x[1]) - 1)):\n",
    "        try:\n",
    "            osm_id_from = x[1][n_idx].ref\n",
    "        except:\n",
    "            osm_id_from = x[1][n_idx]\n",
    "        try:\n",
    "            osm_id_to   = x[1][n_idx+1].ref\n",
    "        except:\n",
    "            osm_id_to   = x[1][n_idx+1]\n",
    "        try:\n",
    "            from_pt = nodes_df.loc[nodes_df['osm_id'] == osm_id_from,'geometry'].iloc[0]\n",
    "            to_pt   = nodes_df.loc[nodes_df['osm_id'] == osm_id_to  ,'geometry'].iloc[0]\n",
    "            edge = LineString([from_pt, to_pt])\n",
    "            attr = {'osm_id':x[0], 'Wkt':edge, 'length':edge.length, 'infra_type':x[3]}\n",
    "            #Create an edge from the list of nodes in both directions\n",
    "            all_h.append([osm_id_from, osm_id_to, attr])\n",
    "            all_h.append([osm_id_to, osm_id_from, attr])\n",
    "        except:\n",
    "            logging.warning(f\"Error adding edge between nodes {osm_id_from} and {osm_id_to}\")\n",
    "\n",
    "end_time = time.time()\n",
    "print(end_time - start_time)"
   ]
  },
  {
   "cell_type": "markdown",
   "metadata": {},
   "source": [
    "### results: \n",
    "Took about 2404 seconds to run"
   ]
  },
  {
   "cell_type": "code",
   "execution_count": 12,
   "metadata": {},
   "outputs": [
    {
     "data": {
      "text/plain": [
       "[[60796641,\n",
       "  2419600689,\n",
       "  {'osm_id': 8111662,\n",
       "   'Wkt': <shapely.geometry.linestring.LineString at 0x11dd5eed0>,\n",
       "   'length': 0.00042626476514233825,\n",
       "   'infra_type': 'tertiary'}],\n",
       " [2419600689,\n",
       "  60796641,\n",
       "  {'osm_id': 8111662,\n",
       "   'Wkt': <shapely.geometry.linestring.LineString at 0x11dd5eed0>,\n",
       "   'length': 0.00042626476514233825,\n",
       "   'infra_type': 'tertiary'}],\n",
       " [2419600689,\n",
       "  3830183348,\n",
       "  {'osm_id': 8111662,\n",
       "   'Wkt': <shapely.geometry.linestring.LineString at 0x11dd7edd0>,\n",
       "   'length': 0.00028653378509489497,\n",
       "   'infra_type': 'tertiary'}],\n",
       " [3830183348,\n",
       "  2419600689,\n",
       "  {'osm_id': 8111662,\n",
       "   'Wkt': <shapely.geometry.linestring.LineString at 0x11dd7edd0>,\n",
       "   'length': 0.00028653378509489497,\n",
       "   'infra_type': 'tertiary'}],\n",
       " [91030247,\n",
       "  3825202158,\n",
       "  {'osm_id': 8111663,\n",
       "   'Wkt': <shapely.geometry.linestring.LineString at 0x11d458b10>,\n",
       "   'length': 6.193197881564978e-05,\n",
       "   'infra_type': 'trunk'}]]"
      ]
     },
     "execution_count": 12,
     "metadata": {},
     "output_type": "execute_result"
    }
   ],
   "source": [
    "all_h[:5]"
   ]
  },
  {
   "cell_type": "code",
   "execution_count": 13,
   "metadata": {},
   "outputs": [
    {
     "name": "stdout",
     "output_type": "stream",
     "text": [
      "26.02744698524475\n"
     ]
    }
   ],
   "source": [
    "start_time = time.time()\n",
    "\n",
    "G = nx.MultiDiGraph()\n",
    "G.add_nodes_from([[osm_id, {'shape':shp, 'x':x, 'y':y}] for osm_id, shp, x, y in h.nodes])\n",
    "G.add_edges_from(all_h)\n",
    "\n",
    "end_time = time.time()\n",
    "print(end_time - start_time)"
   ]
  },
  {
   "cell_type": "markdown",
   "metadata": {},
   "source": [
    "### results: \n",
    "Took about 26 seconds to run"
   ]
  },
  {
   "cell_type": "code",
   "execution_count": 16,
   "metadata": {},
   "outputs": [
    {
     "data": {
      "text/plain": [
       "954374"
      ]
     },
     "execution_count": 16,
     "metadata": {},
     "output_type": "execute_result"
    }
   ],
   "source": [
    "len(G.edges)"
   ]
  },
  {
   "cell_type": "code",
   "execution_count": 17,
   "metadata": {},
   "outputs": [],
   "source": [
    "gn.save(G, \"osmium_graph\", \"./\")"
   ]
  },
  {
   "cell_type": "code",
   "execution_count": null,
   "metadata": {},
   "outputs": [],
   "source": []
  }
 ],
 "metadata": {
  "kernelspec": {
   "display_name": "Python 3",
   "language": "python",
   "name": "python3"
  },
  "language_info": {
   "codemirror_mode": {
    "name": "ipython",
    "version": 3
   },
   "file_extension": ".py",
   "mimetype": "text/x-python",
   "name": "python",
   "nbconvert_exporter": "python",
   "pygments_lexer": "ipython3",
   "version": "3.7.6"
  }
 },
 "nbformat": 4,
 "nbformat_minor": 2
}
