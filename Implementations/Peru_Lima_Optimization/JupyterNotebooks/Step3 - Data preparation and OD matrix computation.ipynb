{
 "cells": [
  {
   "cell_type": "markdown",
   "metadata": {},
   "source": [
    "### Prepare road network, snap origins and destination points to road network nodes, and compute OD\n",
    "general steps:\n",
    "1. add time to edges\n",
    "2. take only biggest subgraph\n",
    "3. snap origins and destinations to the road network\n",
    "4. calculate the OD (origin-destination matrix)"
   ]
  },
  {
   "cell_type": "code",
   "execution_count": 88,
   "metadata": {},
   "outputs": [],
   "source": [
    "import geopandas as gpd\n",
    "import os, sys, time\n",
    "import pandas as pd\n",
    "sys.path.append(r'../../../GOSTNets/GOSTNets')\n",
    "import GOSTnet as gn\n",
    "import importlib\n",
    "import networkx as nx\n",
    "import osmnx as ox\n",
    "from shapely.ops import unary_union\n",
    "from shapely.wkt import loads\n",
    "from shapely.geometry import LineString, MultiLineString, Point"
   ]
  },
  {
   "cell_type": "markdown",
   "metadata": {},
   "source": [
    "Prepare data for the OD matrix:\n",
    "    1. Create your origins (point) .csv file - be sure to name the column of the unique identifier with \"O_ID\" and save the coordinates into columns \"Lat\" / \"Lon\" \n",
    "    2. Create your destinations (point) .csv file - be sure to save the coordinates in columns named \"Lat\" / \"Lon\" "
   ]
  },
  {
   "cell_type": "code",
   "execution_count": 89,
   "metadata": {},
   "outputs": [],
   "source": [
    "pth = r'../../Peru_Lima_Optimization/test_data'\n",
    "OD_path = r'../../../../lima_optimization_output'\n",
    "graph_path = r'../../../../lima_optimization_output'\n",
    "graph_file = r'Lima_processed.pickle'\n",
    "origins_file = r'origins_VES_CentroidUrbanBlocks.csv' #change with your .csv file name\n",
    "destinations_file = r'destinations_VES_HealthFacilities.csv'  #change with your .csv file name"
   ]
  },
  {
   "cell_type": "markdown",
   "metadata": {},
   "source": [
    "#### 1. Read in road network"
   ]
  },
  {
   "cell_type": "code",
   "execution_count": 90,
   "metadata": {},
   "outputs": [],
   "source": [
    "G = nx.read_gpickle(os.path.join(graph_path, graph_file))"
   ]
  },
  {
   "cell_type": "code",
   "execution_count": 91,
   "metadata": {},
   "outputs": [
    {
     "data": {
      "text/plain": [
       "21362"
      ]
     },
     "execution_count": 91,
     "metadata": {},
     "output_type": "execute_result"
    }
   ],
   "source": [
    "G.number_of_edges()"
   ]
  },
  {
   "cell_type": "code",
   "execution_count": 92,
   "metadata": {
    "scrolled": true
   },
   "outputs": [
    {
     "data": {
      "text/plain": [
       "6758"
      ]
     },
     "execution_count": 92,
     "metadata": {},
     "output_type": "execute_result"
    }
   ],
   "source": [
    "G.number_of_nodes()"
   ]
  },
  {
   "cell_type": "markdown",
   "metadata": {},
   "source": [
    "The first cell contains the standard speed limits for each road type from OSM. However, it is recommended to adjust these values if the AOI has specific travel conditions (see below for Lima, Peru)."
   ]
  },
  {
   "cell_type": "code",
   "execution_count": 93,
   "metadata": {},
   "outputs": [],
   "source": [
    "# default speed limits from OSM\n",
    "\n",
    "#sd = {          'residential': 20,  # kmph\n",
    "#                'primary': 40, # kmph\n",
    " #               'primary_link':35,\n",
    "  #              'motorway':35,\n",
    "   #             'motorway_link': 25,\n",
    "    #            'trunk': 20,\n",
    "     #           'trunk_link':15,\n",
    "      #          'secondary': 10, # kmph\n",
    "       #         'secondary_link':5,\n",
    "        #        'tertiary':5,\n",
    "         #       'tertiary_link': 5,\n",
    "          #      'unclassified':5\n",
    "           #     }"
   ]
  },
  {
   "cell_type": "code",
   "execution_count": 94,
   "metadata": {},
   "outputs": [],
   "source": [
    "#speed limits for Lima\n",
    "sd = {          'residential': 10,  # kmph\n",
    "                'primary': 25, # kmph\n",
    "                'primary_link':20,\n",
    "                'motorway':35,\n",
    "                'motorway_link': 25,\n",
    "                'trunk': 20,\n",
    "                'trunk_link':15,\n",
    "                'secondary': 10, # kmph\n",
    "                'secondary_link':5,\n",
    "                'tertiary':5,\n",
    "                'tertiary_link': 5,\n",
    "                'unclassified':5\n",
    "                }"
   ]
  },
  {
   "cell_type": "code",
   "execution_count": 95,
   "metadata": {},
   "outputs": [
    {
     "name": "stdout",
     "output_type": "stream",
     "text": [
      "(0, 765, {'Wkt': 'LINESTRING (-76.9368475 -12.2335545, -76.9371123 -12.2339199)', 'id': 7537, 'infra_type': 'residential', 'osm_id': '372661129', 'key': 'edge_7537', 'length': 0.04963964227802029, 'Type': 'legitimate'})\n"
     ]
    }
   ],
   "source": [
    "gn.example_edge(G)"
   ]
  },
  {
   "cell_type": "markdown",
   "metadata": {},
   "source": [
    "### 1.) add time to edges\n",
    "Here you can change the graph_type from \"drive\" to \"walk\" if needed. Instead of driving time this will compute walking time using the standard walk_speed = 4.5 km/h (this can be modified in the GOSTnets.py file) "
   ]
  },
  {
   "cell_type": "code",
   "execution_count": 96,
   "metadata": {},
   "outputs": [],
   "source": [
    "G_time = gn.convert_network_to_time(G, \n",
    "                                   distance_tag = 'length',\n",
    "                                   graph_type = 'drive', \n",
    "                                   road_col = 'infra_type',\n",
    "                                   speed_dict = sd, \n",
    "                                   factor = 1000)"
   ]
  },
  {
   "cell_type": "code",
   "execution_count": 97,
   "metadata": {},
   "outputs": [
    {
     "name": "stdout",
     "output_type": "stream",
     "text": [
      "(0, 765, {'Wkt': 'LINESTRING (-76.9368475 -12.2335545, -76.9371123 -12.2339199)', 'id': 7537, 'infra_type': 'residential', 'osm_id': '372661129', 'key': 'edge_7537', 'length': 49.63964227802029, 'Type': 'legitimate', 'time': 17.870271220087307, 'mode': 'drive'})\n"
     ]
    }
   ],
   "source": [
    "gn.example_edge(G_time)"
   ]
  },
  {
   "cell_type": "markdown",
   "metadata": {},
   "source": [
    "### 2.) take only biggest routable subgraph from the road network\n",
    "This is done because disconnected networks are not routable"
   ]
  },
  {
   "cell_type": "code",
   "execution_count": 98,
   "metadata": {},
   "outputs": [],
   "source": [
    "D = list(nx.strongly_connected_component_subgraphs(G_time))"
   ]
  },
  {
   "cell_type": "code",
   "execution_count": 99,
   "metadata": {},
   "outputs": [],
   "source": [
    "G = D[0]"
   ]
  },
  {
   "cell_type": "code",
   "execution_count": 100,
   "metadata": {},
   "outputs": [],
   "source": [
    "G = nx.convert_node_labels_to_integers(G)"
   ]
  },
  {
   "cell_type": "code",
   "execution_count": 101,
   "metadata": {},
   "outputs": [],
   "source": [
    "gn.save(G, 'biggest_subg', G_path)"
   ]
  },
  {
   "cell_type": "markdown",
   "metadata": {},
   "source": [
    "### 3.) snap origins and destinations to the road network\n",
    "origins and destination nodes need to be snapped directly to the road network nodes in order to do routing"
   ]
  },
  {
   "cell_type": "code",
   "execution_count": 125,
   "metadata": {},
   "outputs": [],
   "source": [
    "O = pd.read_csv(os.path.join(pth, origins_file), sep=',', encoding = \"ISO-8859-1\")\n",
    "D = pd.read_csv(os.path.join(pth, destinations_file), sep=',', encoding = \"ISO-8859-1\")"
   ]
  },
  {
   "cell_type": "code",
   "execution_count": 126,
   "metadata": {},
   "outputs": [
    {
     "data": {
      "text/html": [
       "<div>\n",
       "<style scoped>\n",
       "    .dataframe tbody tr th:only-of-type {\n",
       "        vertical-align: middle;\n",
       "    }\n",
       "\n",
       "    .dataframe tbody tr th {\n",
       "        vertical-align: top;\n",
       "    }\n",
       "\n",
       "    .dataframe thead th {\n",
       "        text-align: right;\n",
       "    }\n",
       "</style>\n",
       "<table border=\"1\" class=\"dataframe\">\n",
       "  <thead>\n",
       "    <tr style=\"text-align: right;\">\n",
       "      <th></th>\n",
       "      <th>O_ID</th>\n",
       "      <th>NC_CLASS</th>\n",
       "      <th>Shape_Leng</th>\n",
       "      <th>Shape_Area</th>\n",
       "      <th>ORIG_FID</th>\n",
       "      <th>Population</th>\n",
       "      <th>Lat</th>\n",
       "      <th>Lon</th>\n",
       "    </tr>\n",
       "  </thead>\n",
       "  <tbody>\n",
       "    <tr>\n",
       "      <th>0</th>\n",
       "      <td>1</td>\n",
       "      <td>3.0</td>\n",
       "      <td>0.003205</td>\n",
       "      <td>2.860800e-07</td>\n",
       "      <td>0</td>\n",
       "      <td>1078.0</td>\n",
       "      <td>-12.24839</td>\n",
       "      <td>-76.91749</td>\n",
       "    </tr>\n",
       "    <tr>\n",
       "      <th>1</th>\n",
       "      <td>2</td>\n",
       "      <td>3.0</td>\n",
       "      <td>0.008010</td>\n",
       "      <td>2.565700e-06</td>\n",
       "      <td>1</td>\n",
       "      <td>2374.0</td>\n",
       "      <td>-12.24319</td>\n",
       "      <td>-76.92767</td>\n",
       "    </tr>\n",
       "    <tr>\n",
       "      <th>2</th>\n",
       "      <td>3</td>\n",
       "      <td>3.0</td>\n",
       "      <td>0.010808</td>\n",
       "      <td>2.141710e-06</td>\n",
       "      <td>2</td>\n",
       "      <td>367.0</td>\n",
       "      <td>-12.24444</td>\n",
       "      <td>-76.91685</td>\n",
       "    </tr>\n",
       "  </tbody>\n",
       "</table>\n",
       "</div>"
      ],
      "text/plain": [
       "   O_ID  NC_CLASS  Shape_Leng    Shape_Area  ORIG_FID  Population       Lat  \\\n",
       "0     1       3.0    0.003205  2.860800e-07         0      1078.0 -12.24839   \n",
       "1     2       3.0    0.008010  2.565700e-06         1      2374.0 -12.24319   \n",
       "2     3       3.0    0.010808  2.141710e-06         2       367.0 -12.24444   \n",
       "\n",
       "        Lon  \n",
       "0 -76.91749  \n",
       "1 -76.92767  \n",
       "2 -76.91685  "
      ]
     },
     "execution_count": 126,
     "metadata": {},
     "output_type": "execute_result"
    }
   ],
   "source": [
    "O[:3]"
   ]
  },
  {
   "cell_type": "code",
   "execution_count": 127,
   "metadata": {},
   "outputs": [
    {
     "data": {
      "text/html": [
       "<div>\n",
       "<style scoped>\n",
       "    .dataframe tbody tr th:only-of-type {\n",
       "        vertical-align: middle;\n",
       "    }\n",
       "\n",
       "    .dataframe tbody tr th {\n",
       "        vertical-align: top;\n",
       "    }\n",
       "\n",
       "    .dataframe thead th {\n",
       "        text-align: right;\n",
       "    }\n",
       "</style>\n",
       "<table border=\"1\" class=\"dataframe\">\n",
       "  <thead>\n",
       "    <tr style=\"text-align: right;\">\n",
       "      <th></th>\n",
       "      <th>Field1</th>\n",
       "      <th>departamen</th>\n",
       "      <th>provincia</th>\n",
       "      <th>distrito</th>\n",
       "      <th>categoria</th>\n",
       "      <th>Lat</th>\n",
       "      <th>Lon</th>\n",
       "      <th>O_ID</th>\n",
       "      <th>geometry</th>\n",
       "      <th>NN</th>\n",
       "    </tr>\n",
       "  </thead>\n",
       "  <tbody>\n",
       "    <tr>\n",
       "      <th>0</th>\n",
       "      <td>337</td>\n",
       "      <td>LIMA</td>\n",
       "      <td>LIMA</td>\n",
       "      <td>VILLA EL SALVADOR</td>\n",
       "      <td>12</td>\n",
       "      <td>-12.248749</td>\n",
       "      <td>-76.930702</td>\n",
       "      <td>337</td>\n",
       "      <td>POINT (-76.93070221000001 -12.24874878)</td>\n",
       "      <td>26684</td>\n",
       "    </tr>\n",
       "    <tr>\n",
       "      <th>1</th>\n",
       "      <td>338</td>\n",
       "      <td>LIMA</td>\n",
       "      <td>LIMA</td>\n",
       "      <td>VILLA EL SALVADOR</td>\n",
       "      <td>12</td>\n",
       "      <td>-12.208811</td>\n",
       "      <td>-76.955727</td>\n",
       "      <td>338</td>\n",
       "      <td>POINT (-76.95572661999999 -12.20881081)</td>\n",
       "      <td>102330</td>\n",
       "    </tr>\n",
       "    <tr>\n",
       "      <th>2</th>\n",
       "      <td>339</td>\n",
       "      <td>LIMA</td>\n",
       "      <td>LIMA</td>\n",
       "      <td>VILLA EL SALVADOR</td>\n",
       "      <td>14</td>\n",
       "      <td>-12.230375</td>\n",
       "      <td>-76.923637</td>\n",
       "      <td>339</td>\n",
       "      <td>POINT (-76.92363739 -12.23037529)</td>\n",
       "      <td>66722</td>\n",
       "    </tr>\n",
       "  </tbody>\n",
       "</table>\n",
       "</div>"
      ],
      "text/plain": [
       "   Field1 departamen provincia           distrito  categoria        Lat  \\\n",
       "0     337       LIMA      LIMA  VILLA EL SALVADOR         12 -12.248749   \n",
       "1     338       LIMA      LIMA  VILLA EL SALVADOR         12 -12.208811   \n",
       "2     339       LIMA      LIMA  VILLA EL SALVADOR         14 -12.230375   \n",
       "\n",
       "         Lon  O_ID                                 geometry      NN  \n",
       "0 -76.930702   337  POINT (-76.93070221000001 -12.24874878)   26684  \n",
       "1 -76.955727   338  POINT (-76.95572661999999 -12.20881081)  102330  \n",
       "2 -76.923637   339        POINT (-76.92363739 -12.23037529)   66722  "
      ]
     },
     "execution_count": 127,
     "metadata": {},
     "output_type": "execute_result"
    }
   ],
   "source": [
    "D[:3]"
   ]
  },
  {
   "cell_type": "markdown",
   "metadata": {},
   "source": [
    "#### The function pandana_snap maps each origin and destination point to the nearest node on the road graph. It will create a GeoPandasDataFrame and it will add a column titled 'NN' that has the nearest road network node ID for each snapped point. If 'add_dist_to_node_col = True' then another column titled 'NN_dist' will be added that will have the distance from each snapped point to its nearest road network node."
   ]
  },
  {
   "cell_type": "code",
   "execution_count": 128,
   "metadata": {
    "scrolled": true
   },
   "outputs": [],
   "source": [
    "O['geometry'] = list(zip(O['Lon'],O['Lat']))\n",
    "O['geometry'] = O['geometry'].apply(Point)\n",
    "O_gdf = gpd.GeoDataFrame(O, crs = {'init':'epsg:4326'}, geometry = 'geometry')"
   ]
  },
  {
   "cell_type": "code",
   "execution_count": 136,
   "metadata": {},
   "outputs": [
    {
     "data": {
      "text/html": [
       "<div>\n",
       "<style scoped>\n",
       "    .dataframe tbody tr th:only-of-type {\n",
       "        vertical-align: middle;\n",
       "    }\n",
       "\n",
       "    .dataframe tbody tr th {\n",
       "        vertical-align: top;\n",
       "    }\n",
       "\n",
       "    .dataframe thead th {\n",
       "        text-align: right;\n",
       "    }\n",
       "</style>\n",
       "<table border=\"1\" class=\"dataframe\">\n",
       "  <thead>\n",
       "    <tr style=\"text-align: right;\">\n",
       "      <th></th>\n",
       "      <th>O_ID</th>\n",
       "      <th>NC_CLASS</th>\n",
       "      <th>Shape_Leng</th>\n",
       "      <th>Shape_Area</th>\n",
       "      <th>ORIG_FID</th>\n",
       "      <th>Population</th>\n",
       "      <th>Lat</th>\n",
       "      <th>Lon</th>\n",
       "      <th>geometry</th>\n",
       "      <th>NN</th>\n",
       "      <th>NN_dist</th>\n",
       "    </tr>\n",
       "  </thead>\n",
       "  <tbody>\n",
       "    <tr>\n",
       "      <th>0</th>\n",
       "      <td>1</td>\n",
       "      <td>3.0</td>\n",
       "      <td>0.003205</td>\n",
       "      <td>2.860800e-07</td>\n",
       "      <td>0</td>\n",
       "      <td>1078.0</td>\n",
       "      <td>-12.24839</td>\n",
       "      <td>-76.91749</td>\n",
       "      <td>POINT (-76.91749 -12.24839)</td>\n",
       "      <td>6528</td>\n",
       "      <td>21.347245</td>\n",
       "    </tr>\n",
       "    <tr>\n",
       "      <th>1</th>\n",
       "      <td>2</td>\n",
       "      <td>3.0</td>\n",
       "      <td>0.008010</td>\n",
       "      <td>2.565700e-06</td>\n",
       "      <td>1</td>\n",
       "      <td>2374.0</td>\n",
       "      <td>-12.24319</td>\n",
       "      <td>-76.92767</td>\n",
       "      <td>POINT (-76.92766999999999 -12.24319)</td>\n",
       "      <td>5270</td>\n",
       "      <td>37.506920</td>\n",
       "    </tr>\n",
       "    <tr>\n",
       "      <th>2</th>\n",
       "      <td>3</td>\n",
       "      <td>3.0</td>\n",
       "      <td>0.010808</td>\n",
       "      <td>2.141710e-06</td>\n",
       "      <td>2</td>\n",
       "      <td>367.0</td>\n",
       "      <td>-12.24444</td>\n",
       "      <td>-76.91685</td>\n",
       "      <td>POINT (-76.91685 -12.24444)</td>\n",
       "      <td>1921</td>\n",
       "      <td>6.260416</td>\n",
       "    </tr>\n",
       "    <tr>\n",
       "      <th>3</th>\n",
       "      <td>4</td>\n",
       "      <td>3.0</td>\n",
       "      <td>0.004083</td>\n",
       "      <td>7.910200e-07</td>\n",
       "      <td>3</td>\n",
       "      <td>1230.0</td>\n",
       "      <td>-12.24269</td>\n",
       "      <td>-76.93012</td>\n",
       "      <td>POINT (-76.93012 -12.24269)</td>\n",
       "      <td>3047</td>\n",
       "      <td>34.625022</td>\n",
       "    </tr>\n",
       "    <tr>\n",
       "      <th>4</th>\n",
       "      <td>5</td>\n",
       "      <td>3.0</td>\n",
       "      <td>0.006058</td>\n",
       "      <td>1.065810e-06</td>\n",
       "      <td>4</td>\n",
       "      <td>169.0</td>\n",
       "      <td>-12.24249</td>\n",
       "      <td>-76.92808</td>\n",
       "      <td>POINT (-76.92808000000001 -12.24249)</td>\n",
       "      <td>4378</td>\n",
       "      <td>27.773978</td>\n",
       "    </tr>\n",
       "  </tbody>\n",
       "</table>\n",
       "</div>"
      ],
      "text/plain": [
       "   O_ID  NC_CLASS  Shape_Leng    Shape_Area  ORIG_FID  Population       Lat  \\\n",
       "0     1       3.0    0.003205  2.860800e-07         0      1078.0 -12.24839   \n",
       "1     2       3.0    0.008010  2.565700e-06         1      2374.0 -12.24319   \n",
       "2     3       3.0    0.010808  2.141710e-06         2       367.0 -12.24444   \n",
       "3     4       3.0    0.004083  7.910200e-07         3      1230.0 -12.24269   \n",
       "4     5       3.0    0.006058  1.065810e-06         4       169.0 -12.24249   \n",
       "\n",
       "        Lon                              geometry    NN    NN_dist  \n",
       "0 -76.91749           POINT (-76.91749 -12.24839)  6528  21.347245  \n",
       "1 -76.92767  POINT (-76.92766999999999 -12.24319)  5270  37.506920  \n",
       "2 -76.91685           POINT (-76.91685 -12.24444)  1921   6.260416  \n",
       "3 -76.93012           POINT (-76.93012 -12.24269)  3047  34.625022  \n",
       "4 -76.92808  POINT (-76.92808000000001 -12.24249)  4378  27.773978  "
      ]
     },
     "execution_count": 136,
     "metadata": {},
     "output_type": "execute_result"
    }
   ],
   "source": [
    "O_gdf[:5]"
   ]
  },
  {
   "cell_type": "code",
   "execution_count": 133,
   "metadata": {},
   "outputs": [],
   "source": [
    "# Be sure to input the correct local utm zone for the target_crs in order to have the correct distance computed (in meters)\n",
    "O_gdf = gn.pandana_snap(G, O_gdf, target_crs = 'epsg:32718', add_dist_to_node_col = True)\n",
    "origins = list(O_gdf.NN)\n",
    "origins = list(set(origins))"
   ]
  },
  {
   "cell_type": "code",
   "execution_count": 134,
   "metadata": {},
   "outputs": [
    {
     "data": {
      "text/html": [
       "<div>\n",
       "<style scoped>\n",
       "    .dataframe tbody tr th:only-of-type {\n",
       "        vertical-align: middle;\n",
       "    }\n",
       "\n",
       "    .dataframe tbody tr th {\n",
       "        vertical-align: top;\n",
       "    }\n",
       "\n",
       "    .dataframe thead th {\n",
       "        text-align: right;\n",
       "    }\n",
       "</style>\n",
       "<table border=\"1\" class=\"dataframe\">\n",
       "  <thead>\n",
       "    <tr style=\"text-align: right;\">\n",
       "      <th></th>\n",
       "      <th>O_ID</th>\n",
       "      <th>NC_CLASS</th>\n",
       "      <th>Shape_Leng</th>\n",
       "      <th>Shape_Area</th>\n",
       "      <th>ORIG_FID</th>\n",
       "      <th>Population</th>\n",
       "      <th>Lat</th>\n",
       "      <th>Lon</th>\n",
       "      <th>geometry</th>\n",
       "      <th>NN</th>\n",
       "      <th>NN_dist</th>\n",
       "    </tr>\n",
       "  </thead>\n",
       "  <tbody>\n",
       "    <tr>\n",
       "      <th>0</th>\n",
       "      <td>1</td>\n",
       "      <td>3.0</td>\n",
       "      <td>0.003205</td>\n",
       "      <td>2.860800e-07</td>\n",
       "      <td>0</td>\n",
       "      <td>1078.0</td>\n",
       "      <td>-12.24839</td>\n",
       "      <td>-76.91749</td>\n",
       "      <td>POINT (-76.91749 -12.24839)</td>\n",
       "      <td>6528</td>\n",
       "      <td>21.347245</td>\n",
       "    </tr>\n",
       "    <tr>\n",
       "      <th>1</th>\n",
       "      <td>2</td>\n",
       "      <td>3.0</td>\n",
       "      <td>0.008010</td>\n",
       "      <td>2.565700e-06</td>\n",
       "      <td>1</td>\n",
       "      <td>2374.0</td>\n",
       "      <td>-12.24319</td>\n",
       "      <td>-76.92767</td>\n",
       "      <td>POINT (-76.92766999999999 -12.24319)</td>\n",
       "      <td>5270</td>\n",
       "      <td>37.506920</td>\n",
       "    </tr>\n",
       "    <tr>\n",
       "      <th>2</th>\n",
       "      <td>3</td>\n",
       "      <td>3.0</td>\n",
       "      <td>0.010808</td>\n",
       "      <td>2.141710e-06</td>\n",
       "      <td>2</td>\n",
       "      <td>367.0</td>\n",
       "      <td>-12.24444</td>\n",
       "      <td>-76.91685</td>\n",
       "      <td>POINT (-76.91685 -12.24444)</td>\n",
       "      <td>1921</td>\n",
       "      <td>6.260416</td>\n",
       "    </tr>\n",
       "  </tbody>\n",
       "</table>\n",
       "</div>"
      ],
      "text/plain": [
       "   O_ID  NC_CLASS  Shape_Leng    Shape_Area  ORIG_FID  Population       Lat  \\\n",
       "0     1       3.0    0.003205  2.860800e-07         0      1078.0 -12.24839   \n",
       "1     2       3.0    0.008010  2.565700e-06         1      2374.0 -12.24319   \n",
       "2     3       3.0    0.010808  2.141710e-06         2       367.0 -12.24444   \n",
       "\n",
       "        Lon                              geometry    NN    NN_dist  \n",
       "0 -76.91749           POINT (-76.91749 -12.24839)  6528  21.347245  \n",
       "1 -76.92767  POINT (-76.92766999999999 -12.24319)  5270  37.506920  \n",
       "2 -76.91685           POINT (-76.91685 -12.24444)  1921   6.260416  "
      ]
     },
     "execution_count": 134,
     "metadata": {},
     "output_type": "execute_result"
    }
   ],
   "source": [
    "O_gdf[:3]"
   ]
  },
  {
   "cell_type": "code",
   "execution_count": 111,
   "metadata": {},
   "outputs": [],
   "source": [
    "D['geometry'] = list(zip(D['Lon'],D['Lat']))\n",
    "D['geometry'] = D['geometry'].apply(Point)\n",
    "D_gdf = gpd.GeoDataFrame(D, crs = {'init':'epsg:4326'}, geometry = 'geometry')\n",
    "D_gdf = gn.pandana_snap(G, D_gdf, target_crs = 'epsg:32718', add_dist_to_node_col = True)\n",
    "destinations = list(D_gdf.NN)\n",
    "destinations = list(set(destination))"
   ]
  },
  {
   "cell_type": "code",
   "execution_count": 112,
   "metadata": {},
   "outputs": [
    {
     "name": "stdout",
     "output_type": "stream",
     "text": [
      "length of origins is 678\n"
     ]
    }
   ],
   "source": [
    "print(\"length of origins is %s\" % len(origins))"
   ]
  },
  {
   "cell_type": "code",
   "execution_count": 113,
   "metadata": {},
   "outputs": [
    {
     "name": "stdout",
     "output_type": "stream",
     "text": [
      "length of destinations is 17\n"
     ]
    }
   ],
   "source": [
    "print(\"length of destinations is %s\" % len(destinations))"
   ]
  },
  {
   "cell_type": "markdown",
   "metadata": {},
   "source": [
    "Write the origins_snapped and destinations_snapped files."
   ]
  },
  {
   "cell_type": "code",
   "execution_count": 114,
   "metadata": {},
   "outputs": [],
   "source": [
    "O_gdf.to_csv(os.path.join(OD_path, 'origins_snapped.csv'))\n",
    "D_gdf.to_csv(os.path.join(OD_path, 'destinations_snapped.csv'))"
   ]
  },
  {
   "cell_type": "markdown",
   "metadata": {},
   "source": [
    "### 4.) calculate the OD (origin-destination matrix)"
   ]
  },
  {
   "cell_type": "markdown",
   "metadata": {},
   "source": [
    "run a simulation of OD generation below, with a subset of 50 origins and 50 destinations - a good way to estimate the time it will take to run the entire OD"
   ]
  },
  {
   "cell_type": "code",
   "execution_count": 115,
   "metadata": {},
   "outputs": [
    {
     "name": "stdout",
     "output_type": "stream",
     "text": [
      "[6147, 2052, 3, 6154, 6162, 4115, 6165, 21, 4125, 32]\n"
     ]
    }
   ],
   "source": [
    "o_test = origins[:10]\n",
    "print(o_test)"
   ]
  },
  {
   "cell_type": "code",
   "execution_count": 116,
   "metadata": {},
   "outputs": [
    {
     "name": "stdout",
     "output_type": "stream",
     "text": [
      "[6048, 2048, 6691, 4154, 4198, 4647, 4233, 3914, 2959, 175]\n"
     ]
    }
   ],
   "source": [
    "d_test = destinations[:10]\n",
    "print(d_test)"
   ]
  },
  {
   "cell_type": "markdown",
   "metadata": {},
   "source": [
    "***The gn.calculate_OD function enables the users to choose a computation between \"time\" and \"distance\" between each origin and destination point. ***"
   ]
  },
  {
   "cell_type": "code",
   "execution_count": 117,
   "metadata": {},
   "outputs": [
    {
     "name": "stdout",
     "output_type": "stream",
     "text": [
      "CPU times: user 1.19 s, sys: 0 ns, total: 1.19 s\n",
      "Wall time: 1.36 s\n"
     ]
    }
   ],
   "source": [
    "%time OD_test = gn.calculate_OD(G, o_test, d_test, fail_value = 9999999999999, weight = 'time')"
   ]
  },
  {
   "cell_type": "markdown",
   "metadata": {},
   "source": [
    "This is the matix dimension of your whole dataset"
   ]
  },
  {
   "cell_type": "code",
   "execution_count": 119,
   "metadata": {},
   "outputs": [
    {
     "data": {
      "text/plain": [
       "(678, 17)"
      ]
     },
     "execution_count": 119,
     "metadata": {},
     "output_type": "execute_result"
    }
   ],
   "source": [
    "len(origins),len(destinations)"
   ]
  },
  {
   "cell_type": "code",
   "execution_count": 120,
   "metadata": {},
   "outputs": [
    {
     "data": {
      "text/plain": [
       "11526"
      ]
     },
     "execution_count": 120,
     "metadata": {},
     "output_type": "execute_result"
    }
   ],
   "source": [
    "# count how large your OD matrix is\n",
    "len(origins) * len(destinations)"
   ]
  },
  {
   "cell_type": "code",
   "execution_count": 121,
   "metadata": {},
   "outputs": [
    {
     "name": "stdout",
     "output_type": "stream",
     "text": [
      "CPU times: user 1.59 s, sys: 0 ns, total: 1.59 s\n",
      "Wall time: 1.89 s\n"
     ]
    }
   ],
   "source": [
    "# do real OD calculation\n",
    "%time OD = gn.calculate_OD(G, origins, destinations, fail_value = 9999999999999, weight = 'time')"
   ]
  },
  {
   "cell_type": "code",
   "execution_count": 122,
   "metadata": {},
   "outputs": [],
   "source": [
    "OD_df = pd.DataFrame(OD, columns = destinations , index = origins)"
   ]
  },
  {
   "cell_type": "code",
   "execution_count": 123,
   "metadata": {},
   "outputs": [
    {
     "data": {
      "text/html": [
       "<div>\n",
       "<style scoped>\n",
       "    .dataframe tbody tr th:only-of-type {\n",
       "        vertical-align: middle;\n",
       "    }\n",
       "\n",
       "    .dataframe tbody tr th {\n",
       "        vertical-align: top;\n",
       "    }\n",
       "\n",
       "    .dataframe thead th {\n",
       "        text-align: right;\n",
       "    }\n",
       "</style>\n",
       "<table border=\"1\" class=\"dataframe\">\n",
       "  <thead>\n",
       "    <tr style=\"text-align: right;\">\n",
       "      <th></th>\n",
       "      <th>6048</th>\n",
       "      <th>2048</th>\n",
       "      <th>6691</th>\n",
       "      <th>4154</th>\n",
       "      <th>4198</th>\n",
       "      <th>4647</th>\n",
       "      <th>4233</th>\n",
       "      <th>3914</th>\n",
       "      <th>2959</th>\n",
       "      <th>175</th>\n",
       "      <th>3409</th>\n",
       "      <th>367</th>\n",
       "      <th>1556</th>\n",
       "      <th>917</th>\n",
       "      <th>4919</th>\n",
       "      <th>474</th>\n",
       "      <th>6107</th>\n",
       "    </tr>\n",
       "  </thead>\n",
       "  <tbody>\n",
       "    <tr>\n",
       "      <th>6147</th>\n",
       "      <td>1968.655016</td>\n",
       "      <td>1020.721567</td>\n",
       "      <td>363.676689</td>\n",
       "      <td>819.749517</td>\n",
       "      <td>1322.002788</td>\n",
       "      <td>1578.076932</td>\n",
       "      <td>1803.247252</td>\n",
       "      <td>806.455001</td>\n",
       "      <td>2049.990821</td>\n",
       "      <td>1517.705535</td>\n",
       "      <td>1879.396717</td>\n",
       "      <td>803.156991</td>\n",
       "      <td>1542.402922</td>\n",
       "      <td>1657.102815</td>\n",
       "      <td>583.090841</td>\n",
       "      <td>1736.154601</td>\n",
       "      <td>1584.512721</td>\n",
       "    </tr>\n",
       "    <tr>\n",
       "      <th>2052</th>\n",
       "      <td>525.817013</td>\n",
       "      <td>558.842693</td>\n",
       "      <td>1633.650766</td>\n",
       "      <td>1591.881656</td>\n",
       "      <td>274.594031</td>\n",
       "      <td>839.743363</td>\n",
       "      <td>1166.553316</td>\n",
       "      <td>1578.626774</td>\n",
       "      <td>872.524426</td>\n",
       "      <td>1600.311304</td>\n",
       "      <td>1019.720100</td>\n",
       "      <td>1744.228690</td>\n",
       "      <td>875.417373</td>\n",
       "      <td>694.618499</td>\n",
       "      <td>1785.150976</td>\n",
       "      <td>666.975509</td>\n",
       "      <td>544.361984</td>\n",
       "    </tr>\n",
       "    <tr>\n",
       "      <th>3</th>\n",
       "      <td>1330.771618</td>\n",
       "      <td>448.775456</td>\n",
       "      <td>1230.200991</td>\n",
       "      <td>1380.165021</td>\n",
       "      <td>873.074022</td>\n",
       "      <td>1498.688595</td>\n",
       "      <td>1962.518259</td>\n",
       "      <td>1307.025267</td>\n",
       "      <td>1668.335516</td>\n",
       "      <td>2097.397326</td>\n",
       "      <td>1815.601711</td>\n",
       "      <td>1546.804731</td>\n",
       "      <td>1534.362605</td>\n",
       "      <td>1386.775967</td>\n",
       "      <td>1520.879916</td>\n",
       "      <td>1471.197652</td>\n",
       "      <td>1236.519452</td>\n",
       "    </tr>\n",
       "    <tr>\n",
       "      <th>6154</th>\n",
       "      <td>153.550210</td>\n",
       "      <td>1138.247790</td>\n",
       "      <td>1658.305553</td>\n",
       "      <td>1700.636369</td>\n",
       "      <td>853.999129</td>\n",
       "      <td>1304.180223</td>\n",
       "      <td>723.313264</td>\n",
       "      <td>1988.980369</td>\n",
       "      <td>429.130522</td>\n",
       "      <td>1197.635321</td>\n",
       "      <td>576.396716</td>\n",
       "      <td>1787.841266</td>\n",
       "      <td>1304.052071</td>\n",
       "      <td>1079.897504</td>\n",
       "      <td>1828.763553</td>\n",
       "      <td>817.834594</td>\n",
       "      <td>822.268208</td>\n",
       "    </tr>\n",
       "    <tr>\n",
       "      <th>6162</th>\n",
       "      <td>202.318076</td>\n",
       "      <td>907.367997</td>\n",
       "      <td>1799.378687</td>\n",
       "      <td>1663.935343</td>\n",
       "      <td>623.119336</td>\n",
       "      <td>1074.262074</td>\n",
       "      <td>845.305328</td>\n",
       "      <td>1927.152078</td>\n",
       "      <td>551.122585</td>\n",
       "      <td>1319.627384</td>\n",
       "      <td>698.388780</td>\n",
       "      <td>1751.140240</td>\n",
       "      <td>1074.133922</td>\n",
       "      <td>849.979356</td>\n",
       "      <td>1792.062527</td>\n",
       "      <td>653.254488</td>\n",
       "      <td>592.350060</td>\n",
       "    </tr>\n",
       "  </tbody>\n",
       "</table>\n",
       "</div>"
      ],
      "text/plain": [
       "             6048         2048         6691         4154         4198  \\\n",
       "6147  1968.655016  1020.721567   363.676689   819.749517  1322.002788   \n",
       "2052   525.817013   558.842693  1633.650766  1591.881656   274.594031   \n",
       "3     1330.771618   448.775456  1230.200991  1380.165021   873.074022   \n",
       "6154   153.550210  1138.247790  1658.305553  1700.636369   853.999129   \n",
       "6162   202.318076   907.367997  1799.378687  1663.935343   623.119336   \n",
       "\n",
       "             4647         4233         3914         2959         175   \\\n",
       "6147  1578.076932  1803.247252   806.455001  2049.990821  1517.705535   \n",
       "2052   839.743363  1166.553316  1578.626774   872.524426  1600.311304   \n",
       "3     1498.688595  1962.518259  1307.025267  1668.335516  2097.397326   \n",
       "6154  1304.180223   723.313264  1988.980369   429.130522  1197.635321   \n",
       "6162  1074.262074   845.305328  1927.152078   551.122585  1319.627384   \n",
       "\n",
       "             3409         367          1556         917          4919  \\\n",
       "6147  1879.396717   803.156991  1542.402922  1657.102815   583.090841   \n",
       "2052  1019.720100  1744.228690   875.417373   694.618499  1785.150976   \n",
       "3     1815.601711  1546.804731  1534.362605  1386.775967  1520.879916   \n",
       "6154   576.396716  1787.841266  1304.052071  1079.897504  1828.763553   \n",
       "6162   698.388780  1751.140240  1074.133922   849.979356  1792.062527   \n",
       "\n",
       "             474          6107  \n",
       "6147  1736.154601  1584.512721  \n",
       "2052   666.975509   544.361984  \n",
       "3     1471.197652  1236.519452  \n",
       "6154   817.834594   822.268208  \n",
       "6162   653.254488   592.350060  "
      ]
     },
     "execution_count": 123,
     "metadata": {},
     "output_type": "execute_result"
    }
   ],
   "source": [
    "OD_df[:5]"
   ]
  },
  {
   "cell_type": "code",
   "execution_count": 124,
   "metadata": {},
   "outputs": [],
   "source": [
    "#Write OD to file\n",
    "OD_df.to_csv(os.path.join(OD_path,'saved_OD.csv'))"
   ]
  },
  {
   "cell_type": "markdown",
   "metadata": {},
   "source": [
    "***** Depending on the size of the problem you are trying to solve, you might consider running the OD computation using the graph-tool python module in a virtual environment*****"
   ]
  }
 ],
 "metadata": {
  "kernelspec": {
   "display_name": "Python 3",
   "language": "python",
   "name": "python3"
  },
  "language_info": {
   "codemirror_mode": {
    "name": "ipython",
    "version": 3
   },
   "file_extension": ".py",
   "mimetype": "text/x-python",
   "name": "python",
   "nbconvert_exporter": "python",
   "pygments_lexer": "ipython3",
   "version": "3.7.7"
  }
 },
 "nbformat": 4,
 "nbformat_minor": 2
}
