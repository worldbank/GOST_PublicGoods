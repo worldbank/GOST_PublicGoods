{
 "cells": [
  {
   "cell_type": "markdown",
   "metadata": {},
   "source": [
    "## Access Maps for Uruguay"
   ]
  },
  {
   "cell_type": "markdown",
   "metadata": {},
   "source": [
    "- Origins: Population grid (Worldpop downsampled to 500 meters)\n",
    "- Destinations: Cities, airports, border crossings, and ports\n",
    "\n",
    "Typical access analysis with two adjustments:\n",
    "    1. Extract different sets of destinations from OD\n",
    "    2. Join travel time to origin grid based on \"NN with the fastest route\" (not necessarily closest NN)"
   ]
  },
  {
   "cell_type": "markdown",
   "metadata": {},
   "source": [
    "### Load origins and graph"
   ]
  },
  {
   "cell_type": "code",
   "execution_count": 1,
   "metadata": {},
   "outputs": [],
   "source": [
    "import os, sys, time, importlib\n",
    "\n",
    "import geopandas as gpd\n",
    "import pandas as pd\n",
    "import networkx as nx\n",
    "sys.path.append('/home/wb514197/GOSTnets')\n",
    "\n",
    "import GOSTnets as gn\n",
    "import rasterio as rio\n",
    "from osgeo import gdal\n",
    "import GOSTnets.calculate_od_raw as calcOD\n",
    "import numpy as np"
   ]
  },
  {
   "cell_type": "code",
   "execution_count": 2,
   "metadata": {},
   "outputs": [],
   "source": [
    "# This is a Jupyter Notebook extension which reloads all of the modules whenever you run the code\n",
    "# This is optional but good if you are modifying and testing source code\n",
    "%load_ext autoreload\n",
    "%autoreload 2"
   ]
  },
  {
   "cell_type": "code",
   "execution_count": 4,
   "metadata": {},
   "outputs": [],
   "source": [
    "# paths to data\n",
    "pop_file = '/home/public/Data/PROJECTS/infraSAP_URY/origins/ury_ppp_2020_500mts_wgs.shp'\n",
    "G_path = '/home/public/Data/PROJECTS/LAC_GOSTNets/graphs/URY/G_URY.pickle'\n",
    "global_admin = '/home/public/Data/GLOBAL/ADMIN/g2015_0_simplified.shp'\n",
    "# global_cities = '/home/public/Data/PROJECTS/LAC_GOSTNets/Destinations/Cities_centroids_FINAL_pop.shp'\n",
    "global_cities = '/home/public/Data/GLOBAL/Population/Major_Cities.shp'\n",
    "manual_edges_pth = os.path.join(os.path.expanduser(\"~\"),'data/uruguay/edges/edges_manual.csv')"
   ]
  },
  {
   "cell_type": "code",
   "execution_count": 5,
   "metadata": {},
   "outputs": [
    {
     "name": "stdout",
     "output_type": "stream",
     "text": [
      "CPU times: user 12.8 s, sys: 488 ms, total: 13.3 s\n",
      "Wall time: 13.3 s\n"
     ]
    }
   ],
   "source": [
    "%%time\n",
    "origins = gpd.read_file(pop_file)"
   ]
  },
  {
   "cell_type": "code",
   "execution_count": 6,
   "metadata": {},
   "outputs": [
    {
     "data": {
      "text/html": [
       "<div>\n",
       "<style scoped>\n",
       "    .dataframe tbody tr th:only-of-type {\n",
       "        vertical-align: middle;\n",
       "    }\n",
       "\n",
       "    .dataframe tbody tr th {\n",
       "        vertical-align: top;\n",
       "    }\n",
       "\n",
       "    .dataframe thead th {\n",
       "        text-align: right;\n",
       "    }\n",
       "</style>\n",
       "<table border=\"1\" class=\"dataframe\">\n",
       "  <thead>\n",
       "    <tr style=\"text-align: right;\">\n",
       "      <th></th>\n",
       "      <th>pointid</th>\n",
       "      <th>grid_code</th>\n",
       "      <th>geometry</th>\n",
       "    </tr>\n",
       "  </thead>\n",
       "  <tbody>\n",
       "    <tr>\n",
       "      <th>0</th>\n",
       "      <td>1</td>\n",
       "      <td>0.003990</td>\n",
       "      <td>POINT (-57.00451 -30.08037)</td>\n",
       "    </tr>\n",
       "    <tr>\n",
       "      <th>1</th>\n",
       "      <td>2</td>\n",
       "      <td>0.174111</td>\n",
       "      <td>POINT (-56.99912 -30.08037)</td>\n",
       "    </tr>\n",
       "    <tr>\n",
       "      <th>2</th>\n",
       "      <td>3</td>\n",
       "      <td>0.402564</td>\n",
       "      <td>POINT (-56.99372 -30.08037)</td>\n",
       "    </tr>\n",
       "    <tr>\n",
       "      <th>3</th>\n",
       "      <td>4</td>\n",
       "      <td>0.108120</td>\n",
       "      <td>POINT (-56.98832 -30.08036)</td>\n",
       "    </tr>\n",
       "    <tr>\n",
       "      <th>4</th>\n",
       "      <td>5</td>\n",
       "      <td>0.010809</td>\n",
       "      <td>POINT (-57.01531 -30.08506)</td>\n",
       "    </tr>\n",
       "  </tbody>\n",
       "</table>\n",
       "</div>"
      ],
      "text/plain": [
       "   pointid  grid_code                     geometry\n",
       "0        1   0.003990  POINT (-57.00451 -30.08037)\n",
       "1        2   0.174111  POINT (-56.99912 -30.08037)\n",
       "2        3   0.402564  POINT (-56.99372 -30.08037)\n",
       "3        4   0.108120  POINT (-56.98832 -30.08036)\n",
       "4        5   0.010809  POINT (-57.01531 -30.08506)"
      ]
     },
     "execution_count": 6,
     "metadata": {},
     "output_type": "execute_result"
    }
   ],
   "source": [
    "origins.head()"
   ]
  },
  {
   "cell_type": "code",
   "execution_count": 93,
   "metadata": {},
   "outputs": [],
   "source": [
    "G = nx.read_gpickle(G_path)"
   ]
  },
  {
   "cell_type": "markdown",
   "metadata": {},
   "source": [
    "#### Add critical edges connecting ports"
   ]
  },
  {
   "cell_type": "code",
   "execution_count": 95,
   "metadata": {},
   "outputs": [],
   "source": [
    "manual_edges = pd.read_csv(manual_edges_pth).assign(length=manual_edges.length/1000).rename(columns={'WKT':'Wkt'})"
   ]
  },
  {
   "cell_type": "code",
   "execution_count": 96,
   "metadata": {},
   "outputs": [
    {
     "data": {
      "text/html": [
       "<div>\n",
       "<style scoped>\n",
       "    .dataframe tbody tr th:only-of-type {\n",
       "        vertical-align: middle;\n",
       "    }\n",
       "\n",
       "    .dataframe tbody tr th {\n",
       "        vertical-align: top;\n",
       "    }\n",
       "\n",
       "    .dataframe thead th {\n",
       "        text-align: right;\n",
       "    }\n",
       "</style>\n",
       "<table border=\"1\" class=\"dataframe\">\n",
       "  <thead>\n",
       "    <tr style=\"text-align: right;\">\n",
       "      <th></th>\n",
       "      <th>Wkt</th>\n",
       "      <th>stnode</th>\n",
       "      <th>endnode</th>\n",
       "      <th>infra_type</th>\n",
       "      <th>length</th>\n",
       "      <th>id</th>\n",
       "      <th>key</th>\n",
       "      <th>osm_id</th>\n",
       "      <th>Type</th>\n",
       "    </tr>\n",
       "  </thead>\n",
       "  <tbody>\n",
       "    <tr>\n",
       "      <th>0</th>\n",
       "      <td>MULTILINESTRING ((-56.2140899054279 -34.902625...</td>\n",
       "      <td>new_obj_774</td>\n",
       "      <td>32193</td>\n",
       "      <td>tertiary</td>\n",
       "      <td>9.927328e-22</td>\n",
       "      <td>NaN</td>\n",
       "      <td>NaN</td>\n",
       "      <td>NaN</td>\n",
       "      <td>manual</td>\n",
       "    </tr>\n",
       "    <tr>\n",
       "      <th>1</th>\n",
       "      <td>MULTILINESTRING ((-56.2141123056184 -34.902602...</td>\n",
       "      <td>53223</td>\n",
       "      <td>32193</td>\n",
       "      <td>tertiary</td>\n",
       "      <td>1.164877e-21</td>\n",
       "      <td>NaN</td>\n",
       "      <td>NaN</td>\n",
       "      <td>NaN</td>\n",
       "      <td>manual</td>\n",
       "    </tr>\n",
       "    <tr>\n",
       "      <th>2</th>\n",
       "      <td>MULTILINESTRING ((-56.2141347058089 -34.902580...</td>\n",
       "      <td>new_obj_978</td>\n",
       "      <td>32193</td>\n",
       "      <td>tertiary</td>\n",
       "      <td>1.718098e-21</td>\n",
       "      <td>NaN</td>\n",
       "      <td>NaN</td>\n",
       "      <td>NaN</td>\n",
       "      <td>manual</td>\n",
       "    </tr>\n",
       "    <tr>\n",
       "      <th>3</th>\n",
       "      <td>MULTILINESTRING ((-57.8444597686854 -34.474910...</td>\n",
       "      <td>new_obj_5627</td>\n",
       "      <td>10453</td>\n",
       "      <td>tertiary</td>\n",
       "      <td>2.161150e-22</td>\n",
       "      <td>NaN</td>\n",
       "      <td>NaN</td>\n",
       "      <td>NaN</td>\n",
       "      <td>manual</td>\n",
       "    </tr>\n",
       "  </tbody>\n",
       "</table>\n",
       "</div>"
      ],
      "text/plain": [
       "                                                 Wkt        stnode  endnode  \\\n",
       "0  MULTILINESTRING ((-56.2140899054279 -34.902625...   new_obj_774    32193   \n",
       "1  MULTILINESTRING ((-56.2141123056184 -34.902602...         53223    32193   \n",
       "2  MULTILINESTRING ((-56.2141347058089 -34.902580...   new_obj_978    32193   \n",
       "3  MULTILINESTRING ((-57.8444597686854 -34.474910...  new_obj_5627    10453   \n",
       "\n",
       "  infra_type        length  id  key  osm_id    Type  \n",
       "0   tertiary  9.927328e-22 NaN  NaN     NaN  manual  \n",
       "1   tertiary  1.164877e-21 NaN  NaN     NaN  manual  \n",
       "2   tertiary  1.718098e-21 NaN  NaN     NaN  manual  \n",
       "3   tertiary  2.161150e-22 NaN  NaN     NaN  manual  "
      ]
     },
     "execution_count": 96,
     "metadata": {},
     "output_type": "execute_result"
    }
   ],
   "source": [
    "manual_edges"
   ]
  },
  {
   "cell_type": "code",
   "execution_count": 98,
   "metadata": {},
   "outputs": [],
   "source": [
    "def convert(x, attr_list):\n",
    "    u = x['stnode']\n",
    "    v = x['endnode']\n",
    "    if u not in G:\n",
    "        u = int(u)\n",
    "#     data = {'Wkt':loads(x['Wkt'])}\n",
    "    data = {'Wkt':x['Wkt']}\n",
    "    for i in attr_list:\n",
    "        data[i] = x[i]\n",
    "    return (u, v, data)\n",
    "\n",
    "def convert_vu(x, attr_list):\n",
    "    u = x['stnode']\n",
    "    v = x['endnode']\n",
    "    if u not in G:\n",
    "        u = int(u)\n",
    "#     data = {'Wkt':loads(x['Wkt'])}\n",
    "    data = {'Wkt':x['Wkt']}\n",
    "    for i in attr_list:\n",
    "        data[i] = x[i]\n",
    "    return (v, u, data)"
   ]
  },
  {
   "cell_type": "code",
   "execution_count": 100,
   "metadata": {},
   "outputs": [],
   "source": [
    "attr_list = list(manual_edges.columns[3:])\n",
    "edge_bunch = manual_edges.apply(lambda x: convert(x, attr_list), axis = 1).tolist()\n",
    "edge_bunch_vu = manual_edges.apply(lambda x: convert_vu(x, attr_list), axis = 1).tolist()"
   ]
  },
  {
   "cell_type": "code",
   "execution_count": 101,
   "metadata": {},
   "outputs": [
    {
     "data": {
      "text/plain": [
       "[0, 0, 0, 0]"
      ]
     },
     "execution_count": 101,
     "metadata": {},
     "output_type": "execute_result"
    }
   ],
   "source": [
    "G.add_edges_from(edge_bunch)\n",
    "G.add_edges_from(edge_bunch_vu)"
   ]
  },
  {
   "cell_type": "code",
   "execution_count": 102,
   "metadata": {},
   "outputs": [],
   "source": [
    "list_of_subgraphs = [G.subgraph(c).copy() for c in sorted(nx.strongly_connected_components(G), key=len, reverse=True)]"
   ]
  },
  {
   "cell_type": "code",
   "execution_count": 104,
   "metadata": {},
   "outputs": [
    {
     "name": "stdout",
     "output_type": "stream",
     "text": [
      "Name: \n",
      "Type: MultiDiGraph\n",
      "Number of nodes: 10363\n",
      "Number of edges: 35357\n",
      "Average in degree:   3.4118\n",
      "Average out degree:   3.4118\n"
     ]
    }
   ],
   "source": [
    "print(nx.info(G))"
   ]
  },
  {
   "cell_type": "code",
   "execution_count": 105,
   "metadata": {},
   "outputs": [],
   "source": [
    "G_largest = list_of_subgraphs[0]"
   ]
  },
  {
   "cell_type": "code",
   "execution_count": 106,
   "metadata": {},
   "outputs": [
    {
     "name": "stdout",
     "output_type": "stream",
     "text": [
      "Name: \n",
      "Type: MultiDiGraph\n",
      "Number of nodes: 10232\n",
      "Number of edges: 35227\n",
      "Average in degree:   3.4428\n",
      "Average out degree:   3.4428\n"
     ]
    }
   ],
   "source": [
    "print(nx.info(G_largest))"
   ]
  },
  {
   "cell_type": "markdown",
   "metadata": {},
   "source": [
    "#### Clip network \n",
    "(original graph included a buffer of roads from neighboring countries)"
   ]
  },
  {
   "cell_type": "code",
   "execution_count": 108,
   "metadata": {},
   "outputs": [],
   "source": [
    "for u, v, data in G_largest.edges(data = True):\n",
    "    if type(data['Wkt']) == list:\n",
    "        data['Wkt'] = gn.unbundle_geometry(data['Wkt'])"
   ]
  },
  {
   "cell_type": "code",
   "execution_count": 129,
   "metadata": {},
   "outputs": [],
   "source": [
    "from shapely.wkt import loads\n",
    "for u, v, data in G_largest.edges(data = True):\n",
    "    data['Wkt'] = loads(str(data['Wkt']))"
   ]
  },
  {
   "cell_type": "code",
   "execution_count": 113,
   "metadata": {},
   "outputs": [],
   "source": [
    "inAdmin = gpd.read_file(global_admin)\n",
    "inA = inAdmin[inAdmin['ISO3166_1_'] == \"URY\"].to_crs('epsg:32721')\n",
    "inA_buff = inA.buffer(200).to_crs(inAdmin.crs)"
   ]
  },
  {
   "cell_type": "code",
   "execution_count": 132,
   "metadata": {},
   "outputs": [
    {
     "name": "stderr",
     "output_type": "stream",
     "text": [
      "/home/wb514197/.conda/envs/geo/lib/python3.7/site-packages/pyproj/crs/crs.py:55: FutureWarning: '+init=<authority>:<code>' syntax is deprecated. '<authority>:<code>' is the preferred initialization method. When making the change, be mindful of axis order changes: https://pyproj4.github.io/pyproj/stable/gotchas.html#axis-order-changes-in-proj-6\n",
      "  return _prepare_from_string(\" \".join(pjargs))\n",
      "/home/wb514197/.conda/envs/geo/lib/python3.7/site-packages/pyproj/crs/crs.py:55: FutureWarning: '+init=<authority>:<code>' syntax is deprecated. '<authority>:<code>' is the preferred initialization method. When making the change, be mindful of axis order changes: https://pyproj4.github.io/pyproj/stable/gotchas.html#axis-order-changes-in-proj-6\n",
      "  return _prepare_from_string(\" \".join(pjargs))\n"
     ]
    },
    {
     "name": "stdout",
     "output_type": "stream",
     "text": [
      "pre_clip | nodes: 10232 | edges: 35227\n",
      "post_clip | nodes: 2149 | edges: 6973\n"
     ]
    }
   ],
   "source": [
    "G_clip = gn.clip(G_largest, inA_buff.iloc[0], geom_col = 'Wkt', largest_G = False)"
   ]
  },
  {
   "cell_type": "code",
   "execution_count": 159,
   "metadata": {},
   "outputs": [
    {
     "name": "stdout",
     "output_type": "stream",
     "text": [
      "(0, 1534, {'Wkt': <shapely.geometry.linestring.LineString object at 0x7fcfacb2d2d0>, 'id': 25415, 'infra_type': 'trunk_link', 'osm_id': '198703457', 'key': 'edge_25415', 'length': 0.10084182980054994, 'Type': 'destination_destruction'})\n"
     ]
    }
   ],
   "source": [
    "gn.example_edge(G_clip)"
   ]
  },
  {
   "cell_type": "code",
   "execution_count": 176,
   "metadata": {},
   "outputs": [],
   "source": [
    "attr_list = list(G_clip[0][1534][0].keys())"
   ]
  },
  {
   "cell_type": "markdown",
   "metadata": {},
   "source": [
    "#### Salt network"
   ]
  },
  {
   "cell_type": "code",
   "execution_count": 177,
   "metadata": {},
   "outputs": [
    {
     "name": "stdout",
     "output_type": "stream",
     "text": [
      "WARNING: \"factor behavior has changed! now divides rather than multiplies. This change brings gn.salt_long_lines into line with gn.convert_network_to_time\" \n"
     ]
    },
    {
     "name": "stderr",
     "output_type": "stream",
     "text": [
      "/home/wb514197/.conda/envs/geo/lib/python3.7/site-packages/pyproj/crs/crs.py:55: FutureWarning: '+init=<authority>:<code>' syntax is deprecated. '<authority>:<code>' is the preferred initialization method. When making the change, be mindful of axis order changes: https://pyproj4.github.io/pyproj/stable/gotchas.html#axis-order-changes-in-proj-6\n",
      "  return _prepare_from_string(\" \".join(pjargs))\n",
      "/home/wb514197/.conda/envs/geo/lib/python3.7/site-packages/pyproj/crs/crs.py:55: FutureWarning: '+init=<authority>:<code>' syntax is deprecated. '<authority>:<code>' is the preferred initialization method. When making the change, be mindful of axis order changes: https://pyproj4.github.io/pyproj/stable/gotchas.html#axis-order-changes-in-proj-6\n",
      "  return _prepare_from_string(\" \".join(pjargs))\n",
      "/home/wb514197/.conda/envs/geo/lib/python3.7/site-packages/pyproj/crs/crs.py:55: FutureWarning: '+init=<authority>:<code>' syntax is deprecated. '<authority>:<code>' is the preferred initialization method. When making the change, be mindful of axis order changes: https://pyproj4.github.io/pyproj/stable/gotchas.html#axis-order-changes-in-proj-6\n",
      "  return _prepare_from_string(\" \".join(pjargs))\n",
      "/home/wb514197/.conda/envs/geo/lib/python3.7/site-packages/pyproj/crs/crs.py:55: FutureWarning: '+init=<authority>:<code>' syntax is deprecated. '<authority>:<code>' is the preferred initialization method. When making the change, be mindful of axis order changes: https://pyproj4.github.io/pyproj/stable/gotchas.html#axis-order-changes-in-proj-6\n",
      "  return _prepare_from_string(\" \".join(pjargs))\n"
     ]
    },
    {
     "name": "stdout",
     "output_type": "stream",
     "text": [
      "Identified 425 unique edge(s) longer than 5000. \n",
      "Beginning new node creation...\n",
      "4098 new edges added and 851 removed to bring total edges to 10220\n",
      "1624 new nodes added to bring total nodes to 3773\n",
      "CPU times: user 1min 28s, sys: 4.01 s, total: 1min 32s\n",
      "Wall time: 1min 32s\n"
     ]
    }
   ],
   "source": [
    "%%time\n",
    "G_salt = gn.salt_long_lines(G_clip, source='epsg:4326', target='epsg:32721', thresh=5000, factor=1000, attr_list=attr_list)"
   ]
  },
  {
   "cell_type": "code",
   "execution_count": 178,
   "metadata": {},
   "outputs": [],
   "source": [
    "G_time = gn.convert_network_to_time(G_salt, distance_tag = 'length', road_col = 'infra_type', factor = 1000)"
   ]
  },
  {
   "cell_type": "code",
   "execution_count": 181,
   "metadata": {},
   "outputs": [],
   "source": [
    "gn.save(G_time, \"G_URY_Processed\", os.path.join(os.path.expanduser(\"~\"),'data/uruguay/graph'))"
   ]
  },
  {
   "cell_type": "code",
   "execution_count": 44,
   "metadata": {},
   "outputs": [],
   "source": [
    "# G_time = nx.read_gpickle(os.path.join(os.path.expanduser(\"~\"),'data/uruguay/graph/G_URY_Processed.pickle'))"
   ]
  },
  {
   "cell_type": "markdown",
   "metadata": {},
   "source": [
    "#### Select largest graph (again)"
   ]
  },
  {
   "cell_type": "code",
   "execution_count": 45,
   "metadata": {},
   "outputs": [],
   "source": [
    "list_of_subgraphs = [G_time.subgraph(c).copy() for c in sorted(nx.strongly_connected_components(G_time), key=len, reverse=True)]"
   ]
  },
  {
   "cell_type": "code",
   "execution_count": 46,
   "metadata": {},
   "outputs": [
    {
     "name": "stdout",
     "output_type": "stream",
     "text": [
      "Name: \n",
      "Type: MultiDiGraph\n",
      "Number of nodes: 3773\n",
      "Number of edges: 10220\n",
      "Average in degree:   2.7087\n",
      "Average out degree:   2.7087\n"
     ]
    }
   ],
   "source": [
    "print(nx.info(G_time))"
   ]
  },
  {
   "cell_type": "code",
   "execution_count": 48,
   "metadata": {},
   "outputs": [],
   "source": [
    "G_largest = list_of_subgraphs[0]"
   ]
  },
  {
   "cell_type": "code",
   "execution_count": 49,
   "metadata": {},
   "outputs": [
    {
     "name": "stdout",
     "output_type": "stream",
     "text": [
      "Name: \n",
      "Type: MultiDiGraph\n",
      "Number of nodes: 3748\n",
      "Number of edges: 10184\n",
      "Average in degree:   2.7172\n",
      "Average out degree:   2.7172\n"
     ]
    }
   ],
   "source": [
    "print(nx.info(G_largest))"
   ]
  },
  {
   "cell_type": "markdown",
   "metadata": {},
   "source": [
    "### Prepare destinations"
   ]
  },
  {
   "cell_type": "code",
   "execution_count": 9,
   "metadata": {},
   "outputs": [],
   "source": [
    "# inAdmin = gpd.read_file(global_admin)\n",
    "# iso3 = 'URY'\n",
    "# inA = inAdmin[inAdmin['ISO3166_1_'] == iso3]\n",
    "# focalCities = inCities[inCities.intersects(inA.unary_union)]\n",
    "inCities = gpd.read_file(global_cities)\n",
    "dest_cities = inCities[inCities['CNTRY_NAME']=='Uruguay'].assign(dest_type = 'city')"
   ]
  },
  {
   "cell_type": "code",
   "execution_count": 10,
   "metadata": {},
   "outputs": [
    {
     "data": {
      "text/plain": [
       "19"
      ]
     },
     "execution_count": 10,
     "metadata": {},
     "output_type": "execute_result"
    }
   ],
   "source": [
    "len(dest_cities)"
   ]
  },
  {
   "cell_type": "code",
   "execution_count": 12,
   "metadata": {},
   "outputs": [],
   "source": [
    "dests_path = '/home/public/Data/PROJECTS/infraSAP_URY/destinations'\n",
    "dest_ports = gpd.read_file(os.path.join(dests_path, 'ports.geojson')).assign(dest_type = 'port')\n",
    "dest_airports = gpd.read_file(os.path.join(dests_path, 'airports.geojson')).assign(dest_type = 'airport')\n",
    "dest_borders = gpd.read_file(os.path.join(dests_path, 'border_control.geojson')).assign(dest_type = 'border')"
   ]
  },
  {
   "cell_type": "code",
   "execution_count": 13,
   "metadata": {},
   "outputs": [
    {
     "data": {
      "text/plain": [
       "7"
      ]
     },
     "execution_count": 13,
     "metadata": {},
     "output_type": "execute_result"
    }
   ],
   "source": [
    "dest_airports = dest_airports[dest_airports['aerodrome:type']=='international']\n",
    "len(dest_airports)"
   ]
  },
  {
   "cell_type": "code",
   "execution_count": 14,
   "metadata": {
    "scrolled": true
   },
   "outputs": [],
   "source": [
    "dest_all = pd.concat([dest_cities, dest_ports, dest_airports, dest_borders], ignore_index=True)"
   ]
  },
  {
   "cell_type": "code",
   "execution_count": 15,
   "metadata": {},
   "outputs": [
    {
     "data": {
      "text/plain": [
       "city       19\n",
       "border      8\n",
       "airport     7\n",
       "port        3\n",
       "Name: dest_type, dtype: int64"
      ]
     },
     "execution_count": 15,
     "metadata": {},
     "output_type": "execute_result"
    }
   ],
   "source": [
    "dest_all.dest_type.value_counts()"
   ]
  },
  {
   "cell_type": "code",
   "execution_count": 16,
   "metadata": {},
   "outputs": [
    {
     "data": {
      "text/plain": [
       "Index(['ObjectID', 'CITY_NAME', 'GMI_ADMIN', 'ADMIN_NAME', 'FIPS_CNTRY',\n",
       "       'CNTRY_NAME', 'STATUS', 'POP', 'POP_RANK', 'POP_CLASS', 'PORT_ID',\n",
       "       'LABEL_FLAG', 'geometry', 'dest_type', 'id', '@id', 'amenity', 'name',\n",
       "       'ferry', 'public_transport', 'aerodrome:type', 'aeroway', 'iata',\n",
       "       'icao', 'name:en', 'operator:type', 'wikidata', 'wikipedia', 'source',\n",
       "       'ele', 'operator', 'website', 'access', 'barrier', 'bicycle', 'foot',\n",
       "       'horse', 'motorcar', 'motorcycle', 'vehicle'],\n",
       "      dtype='object')"
      ]
     },
     "execution_count": 16,
     "metadata": {},
     "output_type": "execute_result"
    }
   ],
   "source": [
    "dest_all.columns"
   ]
  },
  {
   "cell_type": "code",
   "execution_count": 17,
   "metadata": {},
   "outputs": [],
   "source": [
    "dest_all = dest_all[['ObjectID', 'CITY_NAME', 'POP', 'geometry', 'id', 'amenity', 'name', 'dest_type']]"
   ]
  },
  {
   "cell_type": "code",
   "execution_count": 58,
   "metadata": {},
   "outputs": [],
   "source": [
    "dest_all.to_csv(os.path.join(output_path, 'destination_all.csv'))"
   ]
  },
  {
   "cell_type": "code",
   "execution_count": 18,
   "metadata": {},
   "outputs": [
    {
     "data": {
      "text/plain": [
       "(653718, 37)"
      ]
     },
     "execution_count": 18,
     "metadata": {},
     "output_type": "execute_result"
    }
   ],
   "source": [
    "len(origins), len(dest_all)"
   ]
  },
  {
   "cell_type": "markdown",
   "metadata": {},
   "source": [
    "### Snap origins and destinations"
   ]
  },
  {
   "cell_type": "markdown",
   "metadata": {},
   "source": [
    "#### Snap to origins to 5 nearest nodes"
   ]
  },
  {
   "cell_type": "code",
   "execution_count": 61,
   "metadata": {},
   "outputs": [
    {
     "name": "stdout",
     "output_type": "stream",
     "text": [
      "CPU times: user 1min 40s, sys: 868 ms, total: 1min 41s\n",
      "Wall time: 1min 41s\n"
     ]
    }
   ],
   "source": [
    "%%time\n",
    "# this function returns a dictionary of origin IDs, with a list of 5 NNs, and a corresponding list of distances\n",
    "origins_snapped_dict = gn.pandana_snap_to_many(G_largest, origins, source_crs='epsg:4326', target_crs='epsg:32721', add_dist_to_node_col = True,\n",
    "                                         k_nearest=5, origin_id='pointid')"
   ]
  },
  {
   "cell_type": "code",
   "execution_count": 275,
   "metadata": {},
   "outputs": [
    {
     "data": {
      "text/plain": [
       "{1: {'NN': ['519_192_939',\n",
       "   '519_193_940',\n",
       "   '519_191_938',\n",
       "   '519_194_941',\n",
       "   '519_195_942'],\n",
       "  'NN_dist': [0.3508028872085103,\n",
       "   0.3566449384170196,\n",
       "   0.3737623408185705,\n",
       "   0.380748703092603,\n",
       "   0.4022035029778242]},\n",
       " 2: {'NN': ['519_192_939',\n",
       "   '519_193_940',\n",
       "   '519_191_938',\n",
       "   '519_194_941',\n",
       "   '519_195_942'],\n",
       "  'NN_dist': [0.3517235883193196,\n",
       "   0.3567938957146764,\n",
       "   0.37529099267949295,\n",
       "   0.380246962535903,\n",
       "   0.4011129799007898]},\n",
       " 3: {'NN': ['519_192_939',\n",
       "   '519_193_940',\n",
       "   '519_191_938',\n",
       "   '519_194_941',\n",
       "   '519_195_942'],\n",
       "  'NN_dist': [0.35272471359048874,\n",
       "   0.3570246275439226,\n",
       "   0.3768909667878996,\n",
       "   0.3798214958825675,\n",
       "   0.400092529958291]},\n",
       " 4: {'NN': ['519_192_939',\n",
       "   '519_193_940',\n",
       "   '519_191_938',\n",
       "   '519_194_941',\n",
       "   '519_195_942'],\n",
       "  'NN_dist': [0.3538055803074507,\n",
       "   0.35733697549568827,\n",
       "   0.3785613588040206,\n",
       "   0.3794725596920932,\n",
       "   0.39914269060855595]},\n",
       " 5: {'NN': ['519_192_939',\n",
       "   '519_193_940',\n",
       "   '519_191_938',\n",
       "   '519_194_941',\n",
       "   '519_195_942'],\n",
       "  'NN_dist': [0.344553048946872,\n",
       "   0.35189861991729315,\n",
       "   0.3663784098099465,\n",
       "   0.3773245507146534,\n",
       "   0.40003003372802043]}}"
      ]
     },
     "execution_count": 275,
     "metadata": {},
     "output_type": "execute_result"
    }
   ],
   "source": [
    "# this is an example of the output\n",
    "nn_map"
   ]
  },
  {
   "cell_type": "code",
   "execution_count": 53,
   "metadata": {},
   "outputs": [
    {
     "name": "stdout",
     "output_type": "stream",
     "text": [
      "CPU times: user 35.2 s, sys: 140 ms, total: 35.3 s\n",
      "Wall time: 35.3 s\n"
     ]
    }
   ],
   "source": [
    "%%time\n",
    "# we could use this later to check whether it played an effect\n",
    "# origins_snapped = gn.pandana_snap_c(G_largest, origins, source_crs='epsg:4326', target_crs='epsg:32721',add_dist_to_node_col = True)"
   ]
  },
  {
   "cell_type": "code",
   "execution_count": 54,
   "metadata": {},
   "outputs": [],
   "source": [
    "dest_snapped = gn.pandana_snap_c(G_largest, dest_all, source_crs='epsg:4326', target_crs='epsg:32721',add_dist_to_node_col = False)"
   ]
  },
  {
   "cell_type": "code",
   "execution_count": 55,
   "metadata": {},
   "outputs": [],
   "source": [
    "# origins_unique_nn = list(set(origins_snapped['NN']))\n",
    "dest_nn = list(dest_snapped['NN'])"
   ]
  },
  {
   "cell_type": "code",
   "execution_count": 75,
   "metadata": {},
   "outputs": [],
   "source": [
    "list_origins_NN = []\n",
    "for each in origins_snapped_dict.values():\n",
    "    list_origins_NN += each['NN']"
   ]
  },
  {
   "cell_type": "code",
   "execution_count": 80,
   "metadata": {},
   "outputs": [],
   "source": [
    "origins_unique_nn = list(set(list_origins_NN))"
   ]
  },
  {
   "cell_type": "code",
   "execution_count": 81,
   "metadata": {},
   "outputs": [
    {
     "data": {
      "text/plain": [
       "3745"
      ]
     },
     "execution_count": 81,
     "metadata": {},
     "output_type": "execute_result"
    }
   ],
   "source": [
    "len(set(origins_unique_nn))"
   ]
  },
  {
   "cell_type": "code",
   "execution_count": 267,
   "metadata": {},
   "outputs": [
    {
     "name": "stdout",
     "output_type": "stream",
     "text": [
      "CPU times: user 492 ms, sys: 1.92 ms, total: 494 ms\n",
      "Wall time: 493 ms\n"
     ]
    }
   ],
   "source": [
    "%%time\n",
    "curOD = gn.calculate_OD(G_largest, origins_unique_nn, dest_nn, fail_value = 999999999)"
   ]
  },
  {
   "cell_type": "code",
   "execution_count": 268,
   "metadata": {},
   "outputs": [
    {
     "data": {
      "text/plain": [
       "array([], dtype=float64)"
      ]
     },
     "execution_count": 268,
     "metadata": {},
     "output_type": "execute_result"
    }
   ],
   "source": [
    "curOD[curOD==999999999]"
   ]
  },
  {
   "cell_type": "code",
   "execution_count": 269,
   "metadata": {},
   "outputs": [
    {
     "data": {
      "text/plain": [
       "(3745, 37)"
      ]
     },
     "execution_count": 269,
     "metadata": {},
     "output_type": "execute_result"
    }
   ],
   "source": [
    "curOD.shape"
   ]
  },
  {
   "cell_type": "code",
   "execution_count": 270,
   "metadata": {},
   "outputs": [],
   "source": [
    "od_df = pd.DataFrame(curOD, index=origins_unique_nn, columns=dest_nn)"
   ]
  },
  {
   "cell_type": "code",
   "execution_count": 271,
   "metadata": {},
   "outputs": [
    {
     "data": {
      "text/html": [
       "<div>\n",
       "<style scoped>\n",
       "    .dataframe tbody tr th:only-of-type {\n",
       "        vertical-align: middle;\n",
       "    }\n",
       "\n",
       "    .dataframe tbody tr th {\n",
       "        vertical-align: top;\n",
       "    }\n",
       "\n",
       "    .dataframe thead th {\n",
       "        text-align: right;\n",
       "    }\n",
       "</style>\n",
       "<table border=\"1\" class=\"dataframe\">\n",
       "  <thead>\n",
       "    <tr style=\"text-align: right;\">\n",
       "      <th></th>\n",
       "      <th>2067</th>\n",
       "      <th>798</th>\n",
       "      <th>154</th>\n",
       "      <th>845</th>\n",
       "      <th>2020</th>\n",
       "      <th>1970</th>\n",
       "      <th>377</th>\n",
       "      <th>1900</th>\n",
       "      <th>96_34_215</th>\n",
       "      <th>877</th>\n",
       "      <th>...</th>\n",
       "      <th>1964</th>\n",
       "      <th>1307</th>\n",
       "      <th>1984</th>\n",
       "      <th>1870_386_1838</th>\n",
       "      <th>2148</th>\n",
       "      <th>2087</th>\n",
       "      <th>2077</th>\n",
       "      <th>488</th>\n",
       "      <th>1853</th>\n",
       "      <th>2142</th>\n",
       "    </tr>\n",
       "  </thead>\n",
       "  <tbody>\n",
       "    <tr>\n",
       "      <th>0</th>\n",
       "      <td>495866.917044</td>\n",
       "      <td>15825.405942</td>\n",
       "      <td>23810.093988</td>\n",
       "      <td>6523.586534</td>\n",
       "      <td>176081.602275</td>\n",
       "      <td>121965.834805</td>\n",
       "      <td>87318.767461</td>\n",
       "      <td>81452.643699</td>\n",
       "      <td>51149.596616</td>\n",
       "      <td>65947.625406</td>\n",
       "      <td>...</td>\n",
       "      <td>121675.567298</td>\n",
       "      <td>1859.317539</td>\n",
       "      <td>122854.079990</td>\n",
       "      <td>115186.475945</td>\n",
       "      <td>253493.722789</td>\n",
       "      <td>86440.425953</td>\n",
       "      <td>495702.687514</td>\n",
       "      <td>177798.994014</td>\n",
       "      <td>46706.864955</td>\n",
       "      <td>256885.992649</td>\n",
       "    </tr>\n",
       "    <tr>\n",
       "      <th>1</th>\n",
       "      <td>604511.090780</td>\n",
       "      <td>124469.579677</td>\n",
       "      <td>132592.072647</td>\n",
       "      <td>115167.760270</td>\n",
       "      <td>284863.580934</td>\n",
       "      <td>230747.813463</td>\n",
       "      <td>196100.746120</td>\n",
       "      <td>190234.622358</td>\n",
       "      <td>159793.770352</td>\n",
       "      <td>174591.799142</td>\n",
       "      <td>...</td>\n",
       "      <td>230457.545957</td>\n",
       "      <td>111232.585927</td>\n",
       "      <td>231636.058648</td>\n",
       "      <td>134147.573515</td>\n",
       "      <td>362275.701448</td>\n",
       "      <td>195222.404611</td>\n",
       "      <td>604346.861250</td>\n",
       "      <td>68141.424122</td>\n",
       "      <td>155488.843614</td>\n",
       "      <td>365530.166385</td>\n",
       "    </tr>\n",
       "    <tr>\n",
       "      <th>2</th>\n",
       "      <td>504765.938255</td>\n",
       "      <td>24724.427152</td>\n",
       "      <td>32709.115198</td>\n",
       "      <td>15422.607744</td>\n",
       "      <td>184980.623485</td>\n",
       "      <td>130864.856015</td>\n",
       "      <td>96217.788671</td>\n",
       "      <td>90351.664910</td>\n",
       "      <td>60048.617827</td>\n",
       "      <td>74846.646617</td>\n",
       "      <td>...</td>\n",
       "      <td>130574.588508</td>\n",
       "      <td>10758.338749</td>\n",
       "      <td>131753.101200</td>\n",
       "      <td>106777.227738</td>\n",
       "      <td>262392.744000</td>\n",
       "      <td>95339.447163</td>\n",
       "      <td>504601.708724</td>\n",
       "      <td>185046.010934</td>\n",
       "      <td>55605.886166</td>\n",
       "      <td>265785.013859</td>\n",
       "    </tr>\n",
       "    <tr>\n",
       "      <th>3</th>\n",
       "      <td>444379.230545</td>\n",
       "      <td>75868.580204</td>\n",
       "      <td>57638.792864</td>\n",
       "      <td>79725.395958</td>\n",
       "      <td>94932.216010</td>\n",
       "      <td>40816.448540</td>\n",
       "      <td>6169.381196</td>\n",
       "      <td>303.257435</td>\n",
       "      <td>121365.797358</td>\n",
       "      <td>106785.963677</td>\n",
       "      <td>...</td>\n",
       "      <td>40526.181033</td>\n",
       "      <td>79402.092650</td>\n",
       "      <td>41704.693725</td>\n",
       "      <td>196328.656752</td>\n",
       "      <td>172344.336525</td>\n",
       "      <td>5291.039688</td>\n",
       "      <td>444555.096392</td>\n",
       "      <td>258051.585395</td>\n",
       "      <td>34442.521309</td>\n",
       "      <td>321702.800308</td>\n",
       "    </tr>\n",
       "    <tr>\n",
       "      <th>4</th>\n",
       "      <td>477584.156488</td>\n",
       "      <td>17577.790916</td>\n",
       "      <td>34145.277703</td>\n",
       "      <td>11895.787849</td>\n",
       "      <td>186416.785990</td>\n",
       "      <td>132301.018520</td>\n",
       "      <td>97653.951176</td>\n",
       "      <td>91787.827415</td>\n",
       "      <td>32866.836060</td>\n",
       "      <td>47664.864851</td>\n",
       "      <td>...</td>\n",
       "      <td>132010.751013</td>\n",
       "      <td>16459.312253</td>\n",
       "      <td>133189.263705</td>\n",
       "      <td>133469.236501</td>\n",
       "      <td>263828.906505</td>\n",
       "      <td>96775.609668</td>\n",
       "      <td>477419.926958</td>\n",
       "      <td>195047.154763</td>\n",
       "      <td>57042.048671</td>\n",
       "      <td>238603.232093</td>\n",
       "    </tr>\n",
       "  </tbody>\n",
       "</table>\n",
       "<p>5 rows × 37 columns</p>\n",
       "</div>"
      ],
      "text/plain": [
       "            2067            798            154            845           2020  \\\n",
       "0  495866.917044   15825.405942   23810.093988    6523.586534  176081.602275   \n",
       "1  604511.090780  124469.579677  132592.072647  115167.760270  284863.580934   \n",
       "2  504765.938255   24724.427152   32709.115198   15422.607744  184980.623485   \n",
       "3  444379.230545   75868.580204   57638.792864   79725.395958   94932.216010   \n",
       "4  477584.156488   17577.790916   34145.277703   11895.787849  186416.785990   \n",
       "\n",
       "            1970            377           1900      96_34_215            877  \\\n",
       "0  121965.834805   87318.767461   81452.643699   51149.596616   65947.625406   \n",
       "1  230747.813463  196100.746120  190234.622358  159793.770352  174591.799142   \n",
       "2  130864.856015   96217.788671   90351.664910   60048.617827   74846.646617   \n",
       "3   40816.448540    6169.381196     303.257435  121365.797358  106785.963677   \n",
       "4  132301.018520   97653.951176   91787.827415   32866.836060   47664.864851   \n",
       "\n",
       "   ...           1964           1307           1984  1870_386_1838  \\\n",
       "0  ...  121675.567298    1859.317539  122854.079990  115186.475945   \n",
       "1  ...  230457.545957  111232.585927  231636.058648  134147.573515   \n",
       "2  ...  130574.588508   10758.338749  131753.101200  106777.227738   \n",
       "3  ...   40526.181033   79402.092650   41704.693725  196328.656752   \n",
       "4  ...  132010.751013   16459.312253  133189.263705  133469.236501   \n",
       "\n",
       "            2148           2087           2077            488           1853  \\\n",
       "0  253493.722789   86440.425953  495702.687514  177798.994014   46706.864955   \n",
       "1  362275.701448  195222.404611  604346.861250   68141.424122  155488.843614   \n",
       "2  262392.744000   95339.447163  504601.708724  185046.010934   55605.886166   \n",
       "3  172344.336525    5291.039688  444555.096392  258051.585395   34442.521309   \n",
       "4  263828.906505   96775.609668  477419.926958  195047.154763   57042.048671   \n",
       "\n",
       "            2142  \n",
       "0  256885.992649  \n",
       "1  365530.166385  \n",
       "2  265785.013859  \n",
       "3  321702.800308  \n",
       "4  238603.232093  \n",
       "\n",
       "[5 rows x 37 columns]"
      ]
     },
     "execution_count": 271,
     "metadata": {},
     "output_type": "execute_result"
    }
   ],
   "source": [
    "od_df.head()"
   ]
  },
  {
   "cell_type": "markdown",
   "metadata": {},
   "source": [
    "For each origin set of 5 (k) possible NN:\n",
    "    - Add snapping dist (in time) + time to a destination\n",
    "    - Which destination? min time from all of them won't necessarily work, so we need to find the closest destination for each origin, and select the NN which yields the fastest travel time to that dest\n",
    "    - closest_dest.idx should match the OD column order."
   ]
  },
  {
   "cell_type": "code",
   "execution_count": 272,
   "metadata": {},
   "outputs": [
    {
     "name": "stdout",
     "output_type": "stream",
     "text": [
      "CPU times: user 33.7 s, sys: 751 ms, total: 34.5 s\n",
      "Wall time: 34.5 s\n"
     ]
    }
   ],
   "source": [
    "%%time\n",
    "closest_dest = gn.pandana_snap_points(origins, dest_all, source_crs='epsg:4326', target_crs='epsg:32721', add_dist_to_node_col=True)"
   ]
  },
  {
   "cell_type": "code",
   "execution_count": 273,
   "metadata": {},
   "outputs": [],
   "source": [
    "closest_dest = closest_dest.set_index('pointid')"
   ]
  },
  {
   "cell_type": "code",
   "execution_count": 274,
   "metadata": {},
   "outputs": [
    {
     "data": {
      "text/html": [
       "<div>\n",
       "<style scoped>\n",
       "    .dataframe tbody tr th:only-of-type {\n",
       "        vertical-align: middle;\n",
       "    }\n",
       "\n",
       "    .dataframe tbody tr th {\n",
       "        vertical-align: top;\n",
       "    }\n",
       "\n",
       "    .dataframe thead th {\n",
       "        text-align: right;\n",
       "    }\n",
       "</style>\n",
       "<table border=\"1\" class=\"dataframe\">\n",
       "  <thead>\n",
       "    <tr style=\"text-align: right;\">\n",
       "      <th></th>\n",
       "      <th>grid_code</th>\n",
       "      <th>geometry</th>\n",
       "      <th>idx</th>\n",
       "      <th>idx_dist</th>\n",
       "    </tr>\n",
       "    <tr>\n",
       "      <th>pointid</th>\n",
       "      <th></th>\n",
       "      <th></th>\n",
       "      <th></th>\n",
       "      <th></th>\n",
       "    </tr>\n",
       "  </thead>\n",
       "  <tbody>\n",
       "    <tr>\n",
       "      <th>1</th>\n",
       "      <td>0.003990</td>\n",
       "      <td>POINT (499565.068 6672309.455)</td>\n",
       "      <td>31</td>\n",
       "      <td>55951.010947</td>\n",
       "    </tr>\n",
       "    <tr>\n",
       "      <th>2</th>\n",
       "      <td>0.174111</td>\n",
       "      <td>POINT (500085.246 6672309.455)</td>\n",
       "      <td>31</td>\n",
       "      <td>56451.891386</td>\n",
       "    </tr>\n",
       "    <tr>\n",
       "      <th>3</th>\n",
       "      <td>0.402564</td>\n",
       "      <td>POINT (500605.423 6672309.455)</td>\n",
       "      <td>31</td>\n",
       "      <td>56953.117778</td>\n",
       "    </tr>\n",
       "    <tr>\n",
       "      <th>4</th>\n",
       "      <td>0.108120</td>\n",
       "      <td>POINT (501125.600 6672309.455)</td>\n",
       "      <td>31</td>\n",
       "      <td>57454.681070</td>\n",
       "    </tr>\n",
       "    <tr>\n",
       "      <th>5</th>\n",
       "      <td>0.010809</td>\n",
       "      <td>POINT (498524.714 6671789.278)</td>\n",
       "      <td>31</td>\n",
       "      <td>54809.044237</td>\n",
       "    </tr>\n",
       "  </tbody>\n",
       "</table>\n",
       "</div>"
      ],
      "text/plain": [
       "         grid_code                        geometry  idx      idx_dist\n",
       "pointid                                                              \n",
       "1         0.003990  POINT (499565.068 6672309.455)   31  55951.010947\n",
       "2         0.174111  POINT (500085.246 6672309.455)   31  56451.891386\n",
       "3         0.402564  POINT (500605.423 6672309.455)   31  56953.117778\n",
       "4         0.108120  POINT (501125.600 6672309.455)   31  57454.681070\n",
       "5         0.010809  POINT (498524.714 6671789.278)   31  54809.044237"
      ]
     },
     "execution_count": 274,
     "metadata": {},
     "output_type": "execute_result"
    }
   ],
   "source": [
    "closest_dest.head()"
   ]
  },
  {
   "cell_type": "code",
   "execution_count": 275,
   "metadata": {},
   "outputs": [],
   "source": [
    "custom_speed = 20 # km/h"
   ]
  },
  {
   "cell_type": "code",
   "execution_count": 276,
   "metadata": {},
   "outputs": [
    {
     "name": "stdout",
     "output_type": "stream",
     "text": [
      "id: 519_192_939, snapping dist (km): 38.75, time to dest (min): 37.98\n",
      "id: 519_193_940, snapping dist (km): 39.52, time to dest (min): 41.48\n",
      "id: 519_191_938, snapping dist (km): 41.03, time to dest (min): 34.62\n",
      "id: 519_194_941, snapping dist (km): 42.14, time to dest (min): 45.08\n",
      "id: 519_196_943, snapping dist (km): 44.33, time to dest (min): 52.12\n"
     ]
    }
   ],
   "source": [
    "for pointid, items in list(origins_snapped_dict.items())[0:1]:\n",
    "    dest_index = closest_dest.loc[pointid].idx\n",
    "    nn_list = items['NN']\n",
    "    dist_list = items['NN_dist']\n",
    "    total_time_list = []\n",
    "    for i in range(0, len(nn_list)):\n",
    "        time_snapping = ((dist_list[i] / 1000) / custom_speed) * 60 * 60\n",
    "        #time_to_dest = od_df.loc[nn_list[i]].min()\n",
    "        time_to_dest = od_df.loc[nn_list[i]].iloc[dest_index]\n",
    "        total_time = time_snapping+time_to_dest\n",
    "        total_time_list.append(total_time)\n",
    "        print(f\"id: {nn_list[i]}, snapping dist (km): {dist_list[i]/1000:.2f}, time to dest (min): {(total_time/60)/60:.2f}\")"
   ]
  },
  {
   "cell_type": "code",
   "execution_count": 277,
   "metadata": {},
   "outputs": [
    {
     "name": "stdout",
     "output_type": "stream",
     "text": [
      "CPU times: user 7min 44s, sys: 1.12 s, total: 7min 45s\n",
      "Wall time: 7min 45s\n"
     ]
    }
   ],
   "source": [
    "%%time\n",
    "fastest_nn = []\n",
    "fastest_dist = []\n",
    "\n",
    "for pointid, items in origins_snapped_dict.items():\n",
    "    dest_index = closest_dest.loc[pointid].idx\n",
    "    nn_list = items['NN']\n",
    "    dist_list = items['NN_dist']\n",
    "    total_time_list = []\n",
    "    for i in range(0, len(nn_list)):\n",
    "        time_snapping = ((dist_list[i] / 1000) / custom_speed) * 60 * 60\n",
    "        #time_to_dest = od_df.loc[nn_list[i]].min()\n",
    "        time_to_dest = od_df.loc[nn_list[i]].iloc[dest_index]\n",
    "        total_time = time_snapping+time_to_dest\n",
    "        total_time_list.append(total_time)\n",
    "#         print(f\"id: {nn_list[i]}, snapping dist (km): {dist_list[i]/1000:.2f}, time to dest (min): {(total_time/60)/60:.2f}\")\n",
    "    min_pos = total_time_list.index(min(total_time_list))\n",
    "    fastest_nn.append(nn_list[min_pos])\n",
    "    fastest_dist.append(dist_list[min_pos])\n",
    "#     origins_snapped_smart.loc[pointid, \"NN\"] = nn_list[min_pos]\n",
    "#     origins_snapped_smart.loc[pointid, \"NN_dist\"] = dist_list[min_pos]"
   ]
  },
  {
   "cell_type": "code",
   "execution_count": 278,
   "metadata": {},
   "outputs": [],
   "source": [
    "origins_snapped_smart = origins.copy().set_index('pointid')"
   ]
  },
  {
   "cell_type": "code",
   "execution_count": 279,
   "metadata": {},
   "outputs": [],
   "source": [
    "origins_snapped_smart['NN'] = pd.Series(fastest_nn, index = origins_snapped_smart.index)\n",
    "origins_snapped_smart['NN_dist'] = pd.Series(fastest_dist, index = origins_snapped_smart.index)"
   ]
  },
  {
   "cell_type": "code",
   "execution_count": 280,
   "metadata": {},
   "outputs": [
    {
     "data": {
      "text/html": [
       "<div>\n",
       "<style scoped>\n",
       "    .dataframe tbody tr th:only-of-type {\n",
       "        vertical-align: middle;\n",
       "    }\n",
       "\n",
       "    .dataframe tbody tr th {\n",
       "        vertical-align: top;\n",
       "    }\n",
       "\n",
       "    .dataframe thead th {\n",
       "        text-align: right;\n",
       "    }\n",
       "</style>\n",
       "<table border=\"1\" class=\"dataframe\">\n",
       "  <thead>\n",
       "    <tr style=\"text-align: right;\">\n",
       "      <th></th>\n",
       "      <th>grid_code</th>\n",
       "      <th>geometry</th>\n",
       "      <th>NN</th>\n",
       "      <th>NN_dist</th>\n",
       "    </tr>\n",
       "    <tr>\n",
       "      <th>pointid</th>\n",
       "      <th></th>\n",
       "      <th></th>\n",
       "      <th></th>\n",
       "      <th></th>\n",
       "    </tr>\n",
       "  </thead>\n",
       "  <tbody>\n",
       "    <tr>\n",
       "      <th>1</th>\n",
       "      <td>0.003990</td>\n",
       "      <td>POINT (-57.00451 -30.08037)</td>\n",
       "      <td>519_191_938</td>\n",
       "      <td>41025.341954</td>\n",
       "    </tr>\n",
       "    <tr>\n",
       "      <th>2</th>\n",
       "      <td>0.174111</td>\n",
       "      <td>POINT (-56.99912 -30.08037)</td>\n",
       "      <td>519_191_938</td>\n",
       "      <td>41154.271592</td>\n",
       "    </tr>\n",
       "    <tr>\n",
       "      <th>3</th>\n",
       "      <td>0.402564</td>\n",
       "      <td>POINT (-56.99372 -30.08037)</td>\n",
       "      <td>519_191_938</td>\n",
       "      <td>41289.352461</td>\n",
       "    </tr>\n",
       "    <tr>\n",
       "      <th>4</th>\n",
       "      <td>0.108120</td>\n",
       "      <td>POINT (-56.98832 -30.08036)</td>\n",
       "      <td>519_191_938</td>\n",
       "      <td>41430.524395</td>\n",
       "    </tr>\n",
       "    <tr>\n",
       "      <th>5</th>\n",
       "      <td>0.010809</td>\n",
       "      <td>POINT (-57.01531 -30.08506)</td>\n",
       "      <td>519_191_938</td>\n",
       "      <td>40278.638890</td>\n",
       "    </tr>\n",
       "  </tbody>\n",
       "</table>\n",
       "</div>"
      ],
      "text/plain": [
       "         grid_code                     geometry           NN       NN_dist\n",
       "pointid                                                                   \n",
       "1         0.003990  POINT (-57.00451 -30.08037)  519_191_938  41025.341954\n",
       "2         0.174111  POINT (-56.99912 -30.08037)  519_191_938  41154.271592\n",
       "3         0.402564  POINT (-56.99372 -30.08037)  519_191_938  41289.352461\n",
       "4         0.108120  POINT (-56.98832 -30.08036)  519_191_938  41430.524395\n",
       "5         0.010809  POINT (-57.01531 -30.08506)  519_191_938  40278.638890"
      ]
     },
     "execution_count": 280,
     "metadata": {},
     "output_type": "execute_result"
    }
   ],
   "source": [
    "origins_snapped_smart.head()"
   ]
  },
  {
   "cell_type": "code",
   "execution_count": 281,
   "metadata": {},
   "outputs": [],
   "source": [
    "origins_snapped_smart['pointid'] = origins_snapped_smart.index"
   ]
  },
  {
   "cell_type": "code",
   "execution_count": 282,
   "metadata": {},
   "outputs": [],
   "source": [
    "output_path = os.path.join(os.path.expanduser(\"~\"),'data/uruguay')\n",
    "origins_snapped_smart.to_csv(os.path.join(output_path,\"origins_snapped_smart.csv\"))"
   ]
  },
  {
   "cell_type": "code",
   "execution_count": 224,
   "metadata": {},
   "outputs": [],
   "source": [
    "# origins_snapped.to_csv(os.path.join(output_path,\"origins_snapped.csv\"))"
   ]
  },
  {
   "cell_type": "code",
   "execution_count": 283,
   "metadata": {},
   "outputs": [],
   "source": [
    "origins_snapped = origins_snapped_smart.copy()"
   ]
  },
  {
   "cell_type": "code",
   "execution_count": 284,
   "metadata": {},
   "outputs": [],
   "source": [
    "custom_speed = 20 # km/h\n",
    "origins_snapped['NN_dist_seconds'] = ((origins_snapped.NN_dist / 1000) / custom_speed) * 60 * 60\n",
    "origins_snapped['NN_dist_hours'] = ((origins_snapped.NN_dist / 1000) / custom_speed)"
   ]
  },
  {
   "cell_type": "code",
   "execution_count": 285,
   "metadata": {},
   "outputs": [
    {
     "data": {
      "text/plain": [
       "<matplotlib.axes._subplots.AxesSubplot at 0x7f069340b0d0>"
      ]
     },
     "execution_count": 285,
     "metadata": {},
     "output_type": "execute_result"
    },
    {
     "data": {
      "image/png": "[encoded data removed]",
      "text/plain": [
       "<Figure size 432x288 with 1 Axes>"
      ]
     },
     "metadata": {
      "needs_background": "light"
     },
     "output_type": "display_data"
    }
   ],
   "source": [
    "origins_snapped.NN_dist_hours.hist()"
   ]
  },
  {
   "cell_type": "code",
   "execution_count": 286,
   "metadata": {},
   "outputs": [],
   "source": [
    "origins_join = origins_snapped.join(od_df, on='NN')"
   ]
  },
  {
   "cell_type": "code",
   "execution_count": 287,
   "metadata": {
    "scrolled": true
   },
   "outputs": [
    {
     "data": {
      "text/html": [
       "<div>\n",
       "<style scoped>\n",
       "    .dataframe tbody tr th:only-of-type {\n",
       "        vertical-align: middle;\n",
       "    }\n",
       "\n",
       "    .dataframe tbody tr th {\n",
       "        vertical-align: top;\n",
       "    }\n",
       "\n",
       "    .dataframe thead th {\n",
       "        text-align: right;\n",
       "    }\n",
       "</style>\n",
       "<table border=\"1\" class=\"dataframe\">\n",
       "  <thead>\n",
       "    <tr style=\"text-align: right;\">\n",
       "      <th></th>\n",
       "      <th>grid_code</th>\n",
       "      <th>geometry</th>\n",
       "      <th>NN</th>\n",
       "      <th>NN_dist</th>\n",
       "      <th>pointid</th>\n",
       "      <th>NN_dist_seconds</th>\n",
       "      <th>NN_dist_hours</th>\n",
       "      <th>2067</th>\n",
       "      <th>798</th>\n",
       "      <th>154</th>\n",
       "      <th>...</th>\n",
       "      <th>1964</th>\n",
       "      <th>1307</th>\n",
       "      <th>1984</th>\n",
       "      <th>1870_386_1838</th>\n",
       "      <th>2148</th>\n",
       "      <th>2087</th>\n",
       "      <th>2077</th>\n",
       "      <th>488</th>\n",
       "      <th>1853</th>\n",
       "      <th>2142</th>\n",
       "    </tr>\n",
       "    <tr>\n",
       "      <th>pointid</th>\n",
       "      <th></th>\n",
       "      <th></th>\n",
       "      <th></th>\n",
       "      <th></th>\n",
       "      <th></th>\n",
       "      <th></th>\n",
       "      <th></th>\n",
       "      <th></th>\n",
       "      <th></th>\n",
       "      <th></th>\n",
       "      <th></th>\n",
       "      <th></th>\n",
       "      <th></th>\n",
       "      <th></th>\n",
       "      <th></th>\n",
       "      <th></th>\n",
       "      <th></th>\n",
       "      <th></th>\n",
       "      <th></th>\n",
       "      <th></th>\n",
       "      <th></th>\n",
       "    </tr>\n",
       "  </thead>\n",
       "  <tbody>\n",
       "    <tr>\n",
       "      <th>1</th>\n",
       "      <td>0.003990</td>\n",
       "      <td>POINT (-57.00451 -30.08037)</td>\n",
       "      <td>519_191_938</td>\n",
       "      <td>41025.341954</td>\n",
       "      <td>1</td>\n",
       "      <td>7384.561552</td>\n",
       "      <td>2.051267</td>\n",
       "      <td>162610.566995</td>\n",
       "      <td>357637.243754</td>\n",
       "      <td>339407.456413</td>\n",
       "      <td>...</td>\n",
       "      <td>241242.482516</td>\n",
       "      <td>361170.7562</td>\n",
       "      <td>241048.374743</td>\n",
       "      <td>478097.320302</td>\n",
       "      <td>117254.175191</td>\n",
       "      <td>280262.843474</td>\n",
       "      <td>162786.432843</td>\n",
       "      <td>539820.248944</td>\n",
       "      <td>316211.184859</td>\n",
       "      <td>430752.569972</td>\n",
       "    </tr>\n",
       "    <tr>\n",
       "      <th>2</th>\n",
       "      <td>0.174111</td>\n",
       "      <td>POINT (-56.99912 -30.08037)</td>\n",
       "      <td>519_191_938</td>\n",
       "      <td>41154.271592</td>\n",
       "      <td>2</td>\n",
       "      <td>7407.768887</td>\n",
       "      <td>2.057714</td>\n",
       "      <td>162610.566995</td>\n",
       "      <td>357637.243754</td>\n",
       "      <td>339407.456413</td>\n",
       "      <td>...</td>\n",
       "      <td>241242.482516</td>\n",
       "      <td>361170.7562</td>\n",
       "      <td>241048.374743</td>\n",
       "      <td>478097.320302</td>\n",
       "      <td>117254.175191</td>\n",
       "      <td>280262.843474</td>\n",
       "      <td>162786.432843</td>\n",
       "      <td>539820.248944</td>\n",
       "      <td>316211.184859</td>\n",
       "      <td>430752.569972</td>\n",
       "    </tr>\n",
       "    <tr>\n",
       "      <th>3</th>\n",
       "      <td>0.402564</td>\n",
       "      <td>POINT (-56.99372 -30.08037)</td>\n",
       "      <td>519_191_938</td>\n",
       "      <td>41289.352461</td>\n",
       "      <td>3</td>\n",
       "      <td>7432.083443</td>\n",
       "      <td>2.064468</td>\n",
       "      <td>162610.566995</td>\n",
       "      <td>357637.243754</td>\n",
       "      <td>339407.456413</td>\n",
       "      <td>...</td>\n",
       "      <td>241242.482516</td>\n",
       "      <td>361170.7562</td>\n",
       "      <td>241048.374743</td>\n",
       "      <td>478097.320302</td>\n",
       "      <td>117254.175191</td>\n",
       "      <td>280262.843474</td>\n",
       "      <td>162786.432843</td>\n",
       "      <td>539820.248944</td>\n",
       "      <td>316211.184859</td>\n",
       "      <td>430752.569972</td>\n",
       "    </tr>\n",
       "    <tr>\n",
       "      <th>4</th>\n",
       "      <td>0.108120</td>\n",
       "      <td>POINT (-56.98832 -30.08036)</td>\n",
       "      <td>519_191_938</td>\n",
       "      <td>41430.524395</td>\n",
       "      <td>4</td>\n",
       "      <td>7457.494391</td>\n",
       "      <td>2.071526</td>\n",
       "      <td>162610.566995</td>\n",
       "      <td>357637.243754</td>\n",
       "      <td>339407.456413</td>\n",
       "      <td>...</td>\n",
       "      <td>241242.482516</td>\n",
       "      <td>361170.7562</td>\n",
       "      <td>241048.374743</td>\n",
       "      <td>478097.320302</td>\n",
       "      <td>117254.175191</td>\n",
       "      <td>280262.843474</td>\n",
       "      <td>162786.432843</td>\n",
       "      <td>539820.248944</td>\n",
       "      <td>316211.184859</td>\n",
       "      <td>430752.569972</td>\n",
       "    </tr>\n",
       "    <tr>\n",
       "      <th>5</th>\n",
       "      <td>0.010809</td>\n",
       "      <td>POINT (-57.01531 -30.08506)</td>\n",
       "      <td>519_191_938</td>\n",
       "      <td>40278.638890</td>\n",
       "      <td>5</td>\n",
       "      <td>7250.155000</td>\n",
       "      <td>2.013932</td>\n",
       "      <td>162610.566995</td>\n",
       "      <td>357637.243754</td>\n",
       "      <td>339407.456413</td>\n",
       "      <td>...</td>\n",
       "      <td>241242.482516</td>\n",
       "      <td>361170.7562</td>\n",
       "      <td>241048.374743</td>\n",
       "      <td>478097.320302</td>\n",
       "      <td>117254.175191</td>\n",
       "      <td>280262.843474</td>\n",
       "      <td>162786.432843</td>\n",
       "      <td>539820.248944</td>\n",
       "      <td>316211.184859</td>\n",
       "      <td>430752.569972</td>\n",
       "    </tr>\n",
       "  </tbody>\n",
       "</table>\n",
       "<p>5 rows × 44 columns</p>\n",
       "</div>"
      ],
      "text/plain": [
       "         grid_code                     geometry           NN       NN_dist  \\\n",
       "pointid                                                                      \n",
       "1         0.003990  POINT (-57.00451 -30.08037)  519_191_938  41025.341954   \n",
       "2         0.174111  POINT (-56.99912 -30.08037)  519_191_938  41154.271592   \n",
       "3         0.402564  POINT (-56.99372 -30.08037)  519_191_938  41289.352461   \n",
       "4         0.108120  POINT (-56.98832 -30.08036)  519_191_938  41430.524395   \n",
       "5         0.010809  POINT (-57.01531 -30.08506)  519_191_938  40278.638890   \n",
       "\n",
       "         pointid  NN_dist_seconds  NN_dist_hours           2067  \\\n",
       "pointid                                                           \n",
       "1              1      7384.561552       2.051267  162610.566995   \n",
       "2              2      7407.768887       2.057714  162610.566995   \n",
       "3              3      7432.083443       2.064468  162610.566995   \n",
       "4              4      7457.494391       2.071526  162610.566995   \n",
       "5              5      7250.155000       2.013932  162610.566995   \n",
       "\n",
       "                   798            154  ...           1964         1307  \\\n",
       "pointid                                ...                               \n",
       "1        357637.243754  339407.456413  ...  241242.482516  361170.7562   \n",
       "2        357637.243754  339407.456413  ...  241242.482516  361170.7562   \n",
       "3        357637.243754  339407.456413  ...  241242.482516  361170.7562   \n",
       "4        357637.243754  339407.456413  ...  241242.482516  361170.7562   \n",
       "5        357637.243754  339407.456413  ...  241242.482516  361170.7562   \n",
       "\n",
       "                  1984  1870_386_1838           2148           2087  \\\n",
       "pointid                                                               \n",
       "1        241048.374743  478097.320302  117254.175191  280262.843474   \n",
       "2        241048.374743  478097.320302  117254.175191  280262.843474   \n",
       "3        241048.374743  478097.320302  117254.175191  280262.843474   \n",
       "4        241048.374743  478097.320302  117254.175191  280262.843474   \n",
       "5        241048.374743  478097.320302  117254.175191  280262.843474   \n",
       "\n",
       "                  2077            488           1853           2142  \n",
       "pointid                                                              \n",
       "1        162786.432843  539820.248944  316211.184859  430752.569972  \n",
       "2        162786.432843  539820.248944  316211.184859  430752.569972  \n",
       "3        162786.432843  539820.248944  316211.184859  430752.569972  \n",
       "4        162786.432843  539820.248944  316211.184859  430752.569972  \n",
       "5        162786.432843  539820.248944  316211.184859  430752.569972  \n",
       "\n",
       "[5 rows x 44 columns]"
      ]
     },
     "execution_count": 287,
     "metadata": {},
     "output_type": "execute_result"
    }
   ],
   "source": [
    "origins_join.head()"
   ]
  },
  {
   "cell_type": "code",
   "execution_count": 288,
   "metadata": {},
   "outputs": [],
   "source": [
    "origins_join.to_csv(os.path.join(output_path, 'ODs', 'origins_join.csv'))"
   ]
  },
  {
   "cell_type": "code",
   "execution_count": 289,
   "metadata": {},
   "outputs": [
    {
     "data": {
      "text/plain": [
       "True"
      ]
     },
     "execution_count": 289,
     "metadata": {},
     "output_type": "execute_result"
    }
   ],
   "source": [
    "all(origins_join.columns[7:] == dest_snapped.NN)"
   ]
  },
  {
   "cell_type": "code",
   "execution_count": 290,
   "metadata": {},
   "outputs": [],
   "source": [
    "origins_join_rename = origins_join.copy()"
   ]
  },
  {
   "cell_type": "code",
   "execution_count": 291,
   "metadata": {},
   "outputs": [],
   "source": [
    "origins_join_rename.columns = pd.MultiIndex.from_arrays([['origin' for each in origins_snapped.columns]+list(dest_snapped.dest_type), origins_snapped.columns.append(dest_snapped.index)])"
   ]
  },
  {
   "cell_type": "code",
   "execution_count": 292,
   "metadata": {
    "scrolled": true
   },
   "outputs": [
    {
     "data": {
      "text/html": [
       "<div>\n",
       "<style scoped>\n",
       "    .dataframe tbody tr th:only-of-type {\n",
       "        vertical-align: middle;\n",
       "    }\n",
       "\n",
       "    .dataframe tbody tr th {\n",
       "        vertical-align: top;\n",
       "    }\n",
       "\n",
       "    .dataframe thead tr th {\n",
       "        text-align: left;\n",
       "    }\n",
       "\n",
       "    .dataframe thead tr:last-of-type th {\n",
       "        text-align: right;\n",
       "    }\n",
       "</style>\n",
       "<table border=\"1\" class=\"dataframe\">\n",
       "  <thead>\n",
       "    <tr>\n",
       "      <th></th>\n",
       "      <th colspan=\"7\" halign=\"left\">origin</th>\n",
       "      <th colspan=\"3\" halign=\"left\">city</th>\n",
       "      <th>...</th>\n",
       "      <th colspan=\"2\" halign=\"left\">airport</th>\n",
       "      <th colspan=\"8\" halign=\"left\">border</th>\n",
       "    </tr>\n",
       "    <tr>\n",
       "      <th></th>\n",
       "      <th>grid_code</th>\n",
       "      <th>geometry</th>\n",
       "      <th>NN</th>\n",
       "      <th>NN_dist</th>\n",
       "      <th>pointid</th>\n",
       "      <th>NN_dist_seconds</th>\n",
       "      <th>NN_dist_hours</th>\n",
       "      <th>0</th>\n",
       "      <th>1</th>\n",
       "      <th>2</th>\n",
       "      <th>...</th>\n",
       "      <th>27</th>\n",
       "      <th>28</th>\n",
       "      <th>29</th>\n",
       "      <th>30</th>\n",
       "      <th>31</th>\n",
       "      <th>32</th>\n",
       "      <th>33</th>\n",
       "      <th>34</th>\n",
       "      <th>35</th>\n",
       "      <th>36</th>\n",
       "    </tr>\n",
       "    <tr>\n",
       "      <th>pointid</th>\n",
       "      <th></th>\n",
       "      <th></th>\n",
       "      <th></th>\n",
       "      <th></th>\n",
       "      <th></th>\n",
       "      <th></th>\n",
       "      <th></th>\n",
       "      <th></th>\n",
       "      <th></th>\n",
       "      <th></th>\n",
       "      <th></th>\n",
       "      <th></th>\n",
       "      <th></th>\n",
       "      <th></th>\n",
       "      <th></th>\n",
       "      <th></th>\n",
       "      <th></th>\n",
       "      <th></th>\n",
       "      <th></th>\n",
       "      <th></th>\n",
       "      <th></th>\n",
       "    </tr>\n",
       "  </thead>\n",
       "  <tbody>\n",
       "    <tr>\n",
       "      <th>1</th>\n",
       "      <td>0.003990</td>\n",
       "      <td>POINT (-57.00451 -30.08037)</td>\n",
       "      <td>519_191_938</td>\n",
       "      <td>41025.341954</td>\n",
       "      <td>1</td>\n",
       "      <td>7384.561552</td>\n",
       "      <td>2.051267</td>\n",
       "      <td>162610.566995</td>\n",
       "      <td>357637.243754</td>\n",
       "      <td>339407.456413</td>\n",
       "      <td>...</td>\n",
       "      <td>241242.482516</td>\n",
       "      <td>361170.7562</td>\n",
       "      <td>241048.374743</td>\n",
       "      <td>478097.320302</td>\n",
       "      <td>117254.175191</td>\n",
       "      <td>280262.843474</td>\n",
       "      <td>162786.432843</td>\n",
       "      <td>539820.248944</td>\n",
       "      <td>316211.184859</td>\n",
       "      <td>430752.569972</td>\n",
       "    </tr>\n",
       "    <tr>\n",
       "      <th>2</th>\n",
       "      <td>0.174111</td>\n",
       "      <td>POINT (-56.99912 -30.08037)</td>\n",
       "      <td>519_191_938</td>\n",
       "      <td>41154.271592</td>\n",
       "      <td>2</td>\n",
       "      <td>7407.768887</td>\n",
       "      <td>2.057714</td>\n",
       "      <td>162610.566995</td>\n",
       "      <td>357637.243754</td>\n",
       "      <td>339407.456413</td>\n",
       "      <td>...</td>\n",
       "      <td>241242.482516</td>\n",
       "      <td>361170.7562</td>\n",
       "      <td>241048.374743</td>\n",
       "      <td>478097.320302</td>\n",
       "      <td>117254.175191</td>\n",
       "      <td>280262.843474</td>\n",
       "      <td>162786.432843</td>\n",
       "      <td>539820.248944</td>\n",
       "      <td>316211.184859</td>\n",
       "      <td>430752.569972</td>\n",
       "    </tr>\n",
       "    <tr>\n",
       "      <th>3</th>\n",
       "      <td>0.402564</td>\n",
       "      <td>POINT (-56.99372 -30.08037)</td>\n",
       "      <td>519_191_938</td>\n",
       "      <td>41289.352461</td>\n",
       "      <td>3</td>\n",
       "      <td>7432.083443</td>\n",
       "      <td>2.064468</td>\n",
       "      <td>162610.566995</td>\n",
       "      <td>357637.243754</td>\n",
       "      <td>339407.456413</td>\n",
       "      <td>...</td>\n",
       "      <td>241242.482516</td>\n",
       "      <td>361170.7562</td>\n",
       "      <td>241048.374743</td>\n",
       "      <td>478097.320302</td>\n",
       "      <td>117254.175191</td>\n",
       "      <td>280262.843474</td>\n",
       "      <td>162786.432843</td>\n",
       "      <td>539820.248944</td>\n",
       "      <td>316211.184859</td>\n",
       "      <td>430752.569972</td>\n",
       "    </tr>\n",
       "    <tr>\n",
       "      <th>4</th>\n",
       "      <td>0.108120</td>\n",
       "      <td>POINT (-56.98832 -30.08036)</td>\n",
       "      <td>519_191_938</td>\n",
       "      <td>41430.524395</td>\n",
       "      <td>4</td>\n",
       "      <td>7457.494391</td>\n",
       "      <td>2.071526</td>\n",
       "      <td>162610.566995</td>\n",
       "      <td>357637.243754</td>\n",
       "      <td>339407.456413</td>\n",
       "      <td>...</td>\n",
       "      <td>241242.482516</td>\n",
       "      <td>361170.7562</td>\n",
       "      <td>241048.374743</td>\n",
       "      <td>478097.320302</td>\n",
       "      <td>117254.175191</td>\n",
       "      <td>280262.843474</td>\n",
       "      <td>162786.432843</td>\n",
       "      <td>539820.248944</td>\n",
       "      <td>316211.184859</td>\n",
       "      <td>430752.569972</td>\n",
       "    </tr>\n",
       "    <tr>\n",
       "      <th>5</th>\n",
       "      <td>0.010809</td>\n",
       "      <td>POINT (-57.01531 -30.08506)</td>\n",
       "      <td>519_191_938</td>\n",
       "      <td>40278.638890</td>\n",
       "      <td>5</td>\n",
       "      <td>7250.155000</td>\n",
       "      <td>2.013932</td>\n",
       "      <td>162610.566995</td>\n",
       "      <td>357637.243754</td>\n",
       "      <td>339407.456413</td>\n",
       "      <td>...</td>\n",
       "      <td>241242.482516</td>\n",
       "      <td>361170.7562</td>\n",
       "      <td>241048.374743</td>\n",
       "      <td>478097.320302</td>\n",
       "      <td>117254.175191</td>\n",
       "      <td>280262.843474</td>\n",
       "      <td>162786.432843</td>\n",
       "      <td>539820.248944</td>\n",
       "      <td>316211.184859</td>\n",
       "      <td>430752.569972</td>\n",
       "    </tr>\n",
       "  </tbody>\n",
       "</table>\n",
       "<p>5 rows × 44 columns</p>\n",
       "</div>"
      ],
      "text/plain": [
       "           origin                                                          \\\n",
       "        grid_code                     geometry           NN       NN_dist   \n",
       "pointid                                                                     \n",
       "1        0.003990  POINT (-57.00451 -30.08037)  519_191_938  41025.341954   \n",
       "2        0.174111  POINT (-56.99912 -30.08037)  519_191_938  41154.271592   \n",
       "3        0.402564  POINT (-56.99372 -30.08037)  519_191_938  41289.352461   \n",
       "4        0.108120  POINT (-56.98832 -30.08036)  519_191_938  41430.524395   \n",
       "5        0.010809  POINT (-57.01531 -30.08506)  519_191_938  40278.638890   \n",
       "\n",
       "                                                        city                 \\\n",
       "        pointid NN_dist_seconds NN_dist_hours              0              1   \n",
       "pointid                                                                       \n",
       "1             1     7384.561552      2.051267  162610.566995  357637.243754   \n",
       "2             2     7407.768887      2.057714  162610.566995  357637.243754   \n",
       "3             3     7432.083443      2.064468  162610.566995  357637.243754   \n",
       "4             4     7457.494391      2.071526  162610.566995  357637.243754   \n",
       "5             5     7250.155000      2.013932  162610.566995  357637.243754   \n",
       "\n",
       "                        ...        airport                      border  \\\n",
       "                     2  ...             27           28             29   \n",
       "pointid                 ...                                              \n",
       "1        339407.456413  ...  241242.482516  361170.7562  241048.374743   \n",
       "2        339407.456413  ...  241242.482516  361170.7562  241048.374743   \n",
       "3        339407.456413  ...  241242.482516  361170.7562  241048.374743   \n",
       "4        339407.456413  ...  241242.482516  361170.7562  241048.374743   \n",
       "5        339407.456413  ...  241242.482516  361170.7562  241048.374743   \n",
       "\n",
       "                                                                     \\\n",
       "                    30             31             32             33   \n",
       "pointid                                                               \n",
       "1        478097.320302  117254.175191  280262.843474  162786.432843   \n",
       "2        478097.320302  117254.175191  280262.843474  162786.432843   \n",
       "3        478097.320302  117254.175191  280262.843474  162786.432843   \n",
       "4        478097.320302  117254.175191  280262.843474  162786.432843   \n",
       "5        478097.320302  117254.175191  280262.843474  162786.432843   \n",
       "\n",
       "                                                      \n",
       "                    34             35             36  \n",
       "pointid                                               \n",
       "1        539820.248944  316211.184859  430752.569972  \n",
       "2        539820.248944  316211.184859  430752.569972  \n",
       "3        539820.248944  316211.184859  430752.569972  \n",
       "4        539820.248944  316211.184859  430752.569972  \n",
       "5        539820.248944  316211.184859  430752.569972  \n",
       "\n",
       "[5 rows x 44 columns]"
      ]
     },
     "execution_count": 292,
     "metadata": {},
     "output_type": "execute_result"
    }
   ],
   "source": [
    "origins_join_rename.head()"
   ]
  },
  {
   "cell_type": "markdown",
   "metadata": {},
   "source": [
    "Add snapping time to each column (speed of 20 km/h)"
   ]
  },
  {
   "cell_type": "code",
   "execution_count": 293,
   "metadata": {},
   "outputs": [],
   "source": [
    "# origins_join2 = origins_join_rename.copy()\n",
    "origins_join2 = origins_join_rename.apply(lambda x: x + origins_join_rename.origin.NN_dist_seconds if x.name[1] in dest_snapped.index else x)"
   ]
  },
  {
   "cell_type": "code",
   "execution_count": 294,
   "metadata": {},
   "outputs": [
    {
     "data": {
      "text/html": [
       "<div>\n",
       "<style scoped>\n",
       "    .dataframe tbody tr th:only-of-type {\n",
       "        vertical-align: middle;\n",
       "    }\n",
       "\n",
       "    .dataframe tbody tr th {\n",
       "        vertical-align: top;\n",
       "    }\n",
       "\n",
       "    .dataframe thead tr th {\n",
       "        text-align: left;\n",
       "    }\n",
       "\n",
       "    .dataframe thead tr:last-of-type th {\n",
       "        text-align: right;\n",
       "    }\n",
       "</style>\n",
       "<table border=\"1\" class=\"dataframe\">\n",
       "  <thead>\n",
       "    <tr>\n",
       "      <th></th>\n",
       "      <th colspan=\"7\" halign=\"left\">origin</th>\n",
       "      <th colspan=\"3\" halign=\"left\">city</th>\n",
       "      <th>...</th>\n",
       "      <th colspan=\"2\" halign=\"left\">airport</th>\n",
       "      <th colspan=\"8\" halign=\"left\">border</th>\n",
       "    </tr>\n",
       "    <tr>\n",
       "      <th></th>\n",
       "      <th>grid_code</th>\n",
       "      <th>geometry</th>\n",
       "      <th>NN</th>\n",
       "      <th>NN_dist</th>\n",
       "      <th>pointid</th>\n",
       "      <th>NN_dist_seconds</th>\n",
       "      <th>NN_dist_hours</th>\n",
       "      <th>0</th>\n",
       "      <th>1</th>\n",
       "      <th>2</th>\n",
       "      <th>...</th>\n",
       "      <th>27</th>\n",
       "      <th>28</th>\n",
       "      <th>29</th>\n",
       "      <th>30</th>\n",
       "      <th>31</th>\n",
       "      <th>32</th>\n",
       "      <th>33</th>\n",
       "      <th>34</th>\n",
       "      <th>35</th>\n",
       "      <th>36</th>\n",
       "    </tr>\n",
       "    <tr>\n",
       "      <th>pointid</th>\n",
       "      <th></th>\n",
       "      <th></th>\n",
       "      <th></th>\n",
       "      <th></th>\n",
       "      <th></th>\n",
       "      <th></th>\n",
       "      <th></th>\n",
       "      <th></th>\n",
       "      <th></th>\n",
       "      <th></th>\n",
       "      <th></th>\n",
       "      <th></th>\n",
       "      <th></th>\n",
       "      <th></th>\n",
       "      <th></th>\n",
       "      <th></th>\n",
       "      <th></th>\n",
       "      <th></th>\n",
       "      <th></th>\n",
       "      <th></th>\n",
       "      <th></th>\n",
       "    </tr>\n",
       "  </thead>\n",
       "  <tbody>\n",
       "    <tr>\n",
       "      <th>1</th>\n",
       "      <td>0.003990</td>\n",
       "      <td>POINT (-57.00451 -30.08037)</td>\n",
       "      <td>519_191_938</td>\n",
       "      <td>41025.341954</td>\n",
       "      <td>1</td>\n",
       "      <td>7384.561552</td>\n",
       "      <td>2.051267</td>\n",
       "      <td>169995.128547</td>\n",
       "      <td>365021.805306</td>\n",
       "      <td>346792.017965</td>\n",
       "      <td>...</td>\n",
       "      <td>248627.044068</td>\n",
       "      <td>368555.317752</td>\n",
       "      <td>248432.936295</td>\n",
       "      <td>485481.881853</td>\n",
       "      <td>124638.736743</td>\n",
       "      <td>287647.405026</td>\n",
       "      <td>170170.994394</td>\n",
       "      <td>547204.810496</td>\n",
       "      <td>323595.746411</td>\n",
       "      <td>438137.131523</td>\n",
       "    </tr>\n",
       "    <tr>\n",
       "      <th>2</th>\n",
       "      <td>0.174111</td>\n",
       "      <td>POINT (-56.99912 -30.08037)</td>\n",
       "      <td>519_191_938</td>\n",
       "      <td>41154.271592</td>\n",
       "      <td>2</td>\n",
       "      <td>7407.768887</td>\n",
       "      <td>2.057714</td>\n",
       "      <td>170018.335882</td>\n",
       "      <td>365045.012640</td>\n",
       "      <td>346815.225300</td>\n",
       "      <td>...</td>\n",
       "      <td>248650.251403</td>\n",
       "      <td>368578.525087</td>\n",
       "      <td>248456.143630</td>\n",
       "      <td>485505.089188</td>\n",
       "      <td>124661.944078</td>\n",
       "      <td>287670.612361</td>\n",
       "      <td>170194.201729</td>\n",
       "      <td>547228.017831</td>\n",
       "      <td>323618.953746</td>\n",
       "      <td>438160.338858</td>\n",
       "    </tr>\n",
       "    <tr>\n",
       "      <th>3</th>\n",
       "      <td>0.402564</td>\n",
       "      <td>POINT (-56.99372 -30.08037)</td>\n",
       "      <td>519_191_938</td>\n",
       "      <td>41289.352461</td>\n",
       "      <td>3</td>\n",
       "      <td>7432.083443</td>\n",
       "      <td>2.064468</td>\n",
       "      <td>170042.650438</td>\n",
       "      <td>365069.327197</td>\n",
       "      <td>346839.539857</td>\n",
       "      <td>...</td>\n",
       "      <td>248674.565960</td>\n",
       "      <td>368602.839643</td>\n",
       "      <td>248480.458187</td>\n",
       "      <td>485529.403745</td>\n",
       "      <td>124686.258634</td>\n",
       "      <td>287694.926917</td>\n",
       "      <td>170218.516286</td>\n",
       "      <td>547252.332387</td>\n",
       "      <td>323643.268302</td>\n",
       "      <td>438184.653415</td>\n",
       "    </tr>\n",
       "    <tr>\n",
       "      <th>4</th>\n",
       "      <td>0.108120</td>\n",
       "      <td>POINT (-56.98832 -30.08036)</td>\n",
       "      <td>519_191_938</td>\n",
       "      <td>41430.524395</td>\n",
       "      <td>4</td>\n",
       "      <td>7457.494391</td>\n",
       "      <td>2.071526</td>\n",
       "      <td>170068.061386</td>\n",
       "      <td>365094.738145</td>\n",
       "      <td>346864.950805</td>\n",
       "      <td>...</td>\n",
       "      <td>248699.976908</td>\n",
       "      <td>368628.250591</td>\n",
       "      <td>248505.869135</td>\n",
       "      <td>485554.814693</td>\n",
       "      <td>124711.669583</td>\n",
       "      <td>287720.337865</td>\n",
       "      <td>170243.927234</td>\n",
       "      <td>547277.743335</td>\n",
       "      <td>323668.679250</td>\n",
       "      <td>438210.064363</td>\n",
       "    </tr>\n",
       "    <tr>\n",
       "      <th>5</th>\n",
       "      <td>0.010809</td>\n",
       "      <td>POINT (-57.01531 -30.08506)</td>\n",
       "      <td>519_191_938</td>\n",
       "      <td>40278.638890</td>\n",
       "      <td>5</td>\n",
       "      <td>7250.155000</td>\n",
       "      <td>2.013932</td>\n",
       "      <td>169860.721996</td>\n",
       "      <td>364887.398754</td>\n",
       "      <td>346657.611414</td>\n",
       "      <td>...</td>\n",
       "      <td>248492.637517</td>\n",
       "      <td>368420.911200</td>\n",
       "      <td>248298.529744</td>\n",
       "      <td>485347.475302</td>\n",
       "      <td>124504.330192</td>\n",
       "      <td>287512.998474</td>\n",
       "      <td>170036.587843</td>\n",
       "      <td>547070.403945</td>\n",
       "      <td>323461.339859</td>\n",
       "      <td>438002.724972</td>\n",
       "    </tr>\n",
       "  </tbody>\n",
       "</table>\n",
       "<p>5 rows × 44 columns</p>\n",
       "</div>"
      ],
      "text/plain": [
       "           origin                                                          \\\n",
       "        grid_code                     geometry           NN       NN_dist   \n",
       "pointid                                                                     \n",
       "1        0.003990  POINT (-57.00451 -30.08037)  519_191_938  41025.341954   \n",
       "2        0.174111  POINT (-56.99912 -30.08037)  519_191_938  41154.271592   \n",
       "3        0.402564  POINT (-56.99372 -30.08037)  519_191_938  41289.352461   \n",
       "4        0.108120  POINT (-56.98832 -30.08036)  519_191_938  41430.524395   \n",
       "5        0.010809  POINT (-57.01531 -30.08506)  519_191_938  40278.638890   \n",
       "\n",
       "                                                        city                 \\\n",
       "        pointid NN_dist_seconds NN_dist_hours              0              1   \n",
       "pointid                                                                       \n",
       "1             1     7384.561552      2.051267  169995.128547  365021.805306   \n",
       "2             2     7407.768887      2.057714  170018.335882  365045.012640   \n",
       "3             3     7432.083443      2.064468  170042.650438  365069.327197   \n",
       "4             4     7457.494391      2.071526  170068.061386  365094.738145   \n",
       "5             5     7250.155000      2.013932  169860.721996  364887.398754   \n",
       "\n",
       "                        ...        airport                        border  \\\n",
       "                     2  ...             27             28             29   \n",
       "pointid                 ...                                                \n",
       "1        346792.017965  ...  248627.044068  368555.317752  248432.936295   \n",
       "2        346815.225300  ...  248650.251403  368578.525087  248456.143630   \n",
       "3        346839.539857  ...  248674.565960  368602.839643  248480.458187   \n",
       "4        346864.950805  ...  248699.976908  368628.250591  248505.869135   \n",
       "5        346657.611414  ...  248492.637517  368420.911200  248298.529744   \n",
       "\n",
       "                                                                     \\\n",
       "                    30             31             32             33   \n",
       "pointid                                                               \n",
       "1        485481.881853  124638.736743  287647.405026  170170.994394   \n",
       "2        485505.089188  124661.944078  287670.612361  170194.201729   \n",
       "3        485529.403745  124686.258634  287694.926917  170218.516286   \n",
       "4        485554.814693  124711.669583  287720.337865  170243.927234   \n",
       "5        485347.475302  124504.330192  287512.998474  170036.587843   \n",
       "\n",
       "                                                      \n",
       "                    34             35             36  \n",
       "pointid                                               \n",
       "1        547204.810496  323595.746411  438137.131523  \n",
       "2        547228.017831  323618.953746  438160.338858  \n",
       "3        547252.332387  323643.268302  438184.653415  \n",
       "4        547277.743335  323668.679250  438210.064363  \n",
       "5        547070.403945  323461.339859  438002.724972  \n",
       "\n",
       "[5 rows x 44 columns]"
      ]
     },
     "execution_count": 294,
     "metadata": {},
     "output_type": "execute_result"
    }
   ],
   "source": [
    "origins_join2.head()"
   ]
  },
  {
   "cell_type": "code",
   "execution_count": 295,
   "metadata": {},
   "outputs": [],
   "source": [
    "origins_join2.to_csv(os.path.join(output_path, 'ODs', 'origins_join2.csv'))"
   ]
  },
  {
   "cell_type": "code",
   "execution_count": 296,
   "metadata": {},
   "outputs": [],
   "source": [
    "od_cities = np.array(origins_join2['city'])\n",
    "od_ports = np.array(origins_join2['port'])\n",
    "od_airports = np.array(origins_join2['airport'])\n",
    "od_borders = np.array(origins_join2['border'])"
   ]
  },
  {
   "cell_type": "code",
   "execution_count": 297,
   "metadata": {},
   "outputs": [],
   "source": [
    "np.save(os.path.join(output_path, \"ODs\", \"OD_URY.npy\"), curOD)"
   ]
  },
  {
   "cell_type": "markdown",
   "metadata": {},
   "source": [
    "### Calculate gravity"
   ]
  },
  {
   "cell_type": "code",
   "execution_count": 298,
   "metadata": {
    "scrolled": true
   },
   "outputs": [
    {
     "name": "stdout",
     "output_type": "stream",
     "text": [
      "CPU times: user 13min 1s, sys: 3.83 s, total: 13min 5s\n",
      "Wall time: 13min 5s\n"
     ]
    }
   ],
   "source": [
    "%%time\n",
    "access_cities = calcOD.calculate_gravity(od_cities, dWeight = dest_all.POP[origins_join2['city'].columns])"
   ]
  },
  {
   "cell_type": "code",
   "execution_count": 299,
   "metadata": {},
   "outputs": [],
   "source": [
    "access_ports = calcOD.calculate_gravity(od_ports)\n",
    "access_airports = calcOD.calculate_gravity(od_airports)\n",
    "access_borders = calcOD.calculate_gravity(od_borders)"
   ]
  },
  {
   "cell_type": "code",
   "execution_count": 300,
   "metadata": {},
   "outputs": [],
   "source": [
    "access_cities_results = origins_snapped.join(access_cities).rename(columns = {\n",
    "        'd_0.01': 'd_1',\n",
    "        'd_0.005': 'd_2',\n",
    "        'd_0.001' : 'd_3',\n",
    "        'd_0.0007701635' : 'd_4',   # Market access halves every 15 mins\n",
    "        'd_0.0003850818' : 'd_5',   # Market access halves every 30 mins\n",
    "        'd_0.0001925409' : 'd_6',   # Market access halves every 60 mins\n",
    "        'd_9.62704e-05' : 'd_7',   # Market access halves every 120 mins\n",
    "        'd_3.85082e-05' : 'd_8',   # Market access halves every 300 mins\n",
    "        'd_1e-05' : 'd_9'\n",
    "    })\n",
    "access_ports_results = origins_snapped.join(access_ports).rename(columns = {\n",
    "        'd_0.01': 'd_1',\n",
    "        'd_0.005': 'd_2',\n",
    "        'd_0.001' : 'd_3',\n",
    "        'd_0.0007701635' : 'd_4',   # Market access halves every 15 mins\n",
    "        'd_0.0003850818' : 'd_5',   # Market access halves every 30 mins\n",
    "        'd_0.0001925409' : 'd_6',   # Market access halves every 60 mins\n",
    "        'd_9.62704e-05' : 'd_7',   # Market access halves every 120 mins\n",
    "        'd_3.85082e-05' : 'd_8',   # Market access halves every 300 mins\n",
    "        'd_1e-05' : 'd_9'\n",
    "    })\n",
    "access_airports_results = origins_snapped.join(access_airports).rename(columns = {\n",
    "        'd_0.01': 'd_1',\n",
    "        'd_0.005': 'd_2',\n",
    "        'd_0.001' : 'd_3',\n",
    "        'd_0.0007701635' : 'd_4',   # Market access halves every 15 mins\n",
    "        'd_0.0003850818' : 'd_5',   # Market access halves every 30 mins\n",
    "        'd_0.0001925409' : 'd_6',   # Market access halves every 60 mins\n",
    "        'd_9.62704e-05' : 'd_7',   # Market access halves every 120 mins\n",
    "        'd_3.85082e-05' : 'd_8',   # Market access halves every 300 mins\n",
    "        'd_1e-05' : 'd_9'\n",
    "    })\n",
    "access_borders_results = origins_snapped.join(access_borders).rename(columns = {\n",
    "        'd_0.01': 'd_1',\n",
    "        'd_0.005': 'd_2',\n",
    "        'd_0.001' : 'd_3',\n",
    "        'd_0.0007701635' : 'd_4',   # Market access halves every 15 mins\n",
    "        'd_0.0003850818' : 'd_5',   # Market access halves every 30 mins\n",
    "        'd_0.0001925409' : 'd_6',   # Market access halves every 60 mins\n",
    "        'd_9.62704e-05' : 'd_7',   # Market access halves every 120 mins\n",
    "        'd_3.85082e-05' : 'd_8',   # Market access halves every 300 mins\n",
    "        'd_1e-05' : 'd_9'\n",
    "    })"
   ]
  },
  {
   "cell_type": "code",
   "execution_count": 301,
   "metadata": {},
   "outputs": [],
   "source": [
    "output_path = os.path.join(os.path.expanduser(\"~\"),'data/uruguay/access')\n",
    "\n",
    "access_cities_results.to_csv(os.path.join(output_path,\"access_cities.csv\"))\n",
    "access_ports_results.to_csv(os.path.join(output_path,\"access_ports.csv\"))\n",
    "access_airports_results.to_csv(os.path.join(output_path,\"access_airports.csv\"))\n",
    "access_borders_results.to_csv(os.path.join(output_path,\"access_borders.csv\"))"
   ]
  },
  {
   "cell_type": "markdown",
   "metadata": {},
   "source": [
    "#### Reload"
   ]
  },
  {
   "cell_type": "code",
   "execution_count": 3,
   "metadata": {},
   "outputs": [],
   "source": [
    "# def load_csv(csv_path, geometry = 'geometry', crs = 'epsg:4326'):\n",
    "#     df = pd.read_csv(csv_path)\n",
    "#     df[geometry] = df[geometry].apply(loads)\n",
    "#     gdf = gpd.GeoDataFrame(df, crs = crs)\n",
    "#     return(gdf)"
   ]
  },
  {
   "cell_type": "code",
   "execution_count": 4,
   "metadata": {},
   "outputs": [],
   "source": [
    "# from shapely.wkt import loads\n",
    "# output_path = os.path.join(os.path.expanduser(\"~\"),'data/uruguay/access')\n",
    "\n",
    "# access_cities_results = load_csv(os.path.join(output_path,\"access_cities.csv\"))\n",
    "# access_ports_results = load_csv(os.path.join(output_path,\"access_ports.csv\"))\n",
    "# access_airports_results = load_csv(os.path.join(output_path,\"access_airports.csv\"))\n",
    "# access_borders_results = load_csv(os.path.join(output_path,\"access_borders.csv\"))"
   ]
  },
  {
   "cell_type": "markdown",
   "metadata": {},
   "source": [
    "#### Convert to raster and save results"
   ]
  },
  {
   "cell_type": "code",
   "execution_count": 302,
   "metadata": {},
   "outputs": [],
   "source": [
    "from GOSTnets.conversion_utils import rasterize_od_results"
   ]
  },
  {
   "cell_type": "code",
   "execution_count": 303,
   "metadata": {},
   "outputs": [],
   "source": [
    "access_cities_results_utm = access_cities_results.to_crs('epsg:32721')\n",
    "access_ports_results_utm = access_ports_results.to_crs('epsg:32721')\n",
    "access_airports_results_utm = access_airports_results.to_crs('epsg:32721')\n",
    "access_borders_results_utm = access_borders_results.to_crs('epsg:32721')"
   ]
  },
  {
   "cell_type": "code",
   "execution_count": 304,
   "metadata": {},
   "outputs": [],
   "source": [
    "data_path = '/home/public/Data/PROJECTS/infraSAP_URY'\n",
    "raster_path = os.path.join(data_path, 'origins', 'ury_ppp_2020_UNadj_agg6.tif')\n",
    "output_path = os.path.join(os.path.expanduser(\"~\"),'data/uruguay/access')"
   ]
  },
  {
   "cell_type": "code",
   "execution_count": 258,
   "metadata": {},
   "outputs": [
    {
     "data": {
      "text/plain": [
       "<matplotlib.axes._subplots.AxesSubplot at 0x7f05f2836cd0>"
      ]
     },
     "execution_count": 258,
     "metadata": {},
     "output_type": "execute_result"
    },
    {
     "data": {
      "image/png": "[encoded data removed]",
      "text/plain": [
       "<Figure size 504x504 with 1 Axes>"
      ]
     },
     "metadata": {
      "needs_background": "light"
     },
     "output_type": "display_data"
    }
   ],
   "source": [
    "access_cities_results_utm.plot(column='d_8', figsize=(7,7), markersize=1)"
   ]
  },
  {
   "cell_type": "code",
   "execution_count": 260,
   "metadata": {},
   "outputs": [
    {
     "data": {
      "text/plain": [
       "<matplotlib.axes._subplots.AxesSubplot at 0x7f05f1461f90>"
      ]
     },
     "execution_count": 260,
     "metadata": {},
     "output_type": "execute_result"
    },
    {
     "data": {
      "image/png": "[encoded data removed]",
      "text/plain": [
       "<Figure size 504x504 with 1 Axes>"
      ]
     },
     "metadata": {
      "needs_background": "light"
     },
     "output_type": "display_data"
    }
   ],
   "source": [
    "access_ports_results_utm.plot(column='d_8', figsize=(7,7), markersize=1)"
   ]
  },
  {
   "cell_type": "code",
   "execution_count": 305,
   "metadata": {},
   "outputs": [
    {
     "name": "stdout",
     "output_type": "stream",
     "text": [
      "writing 5\n",
      "writing 6\n",
      "writing 7\n",
      "writing 8\n",
      "writing 9\n"
     ]
    }
   ],
   "source": [
    "for d in range(5,10):\n",
    "    print(f'writing {d}')\n",
    "    rasterize_od_results(access_cities_results_utm, os.path.join(output_path,f\"access_cities_d{d}.tif\"),f'd_{d}', template=raster_path)\n",
    "    rasterize_od_results(access_ports_results_utm, os.path.join(output_path,f\"access_ports_d{d}.tif\"),f'd_{d}', template=raster_path)\n",
    "    rasterize_od_results(access_airports_results_utm, os.path.join(output_path,f\"access_airports_d{d}.tif\"),f'd_{d}', template=raster_path)\n",
    "    rasterize_od_results(access_borders_results_utm, os.path.join(output_path,f\"access_borders_d{d}.tif\"),f'd_{d}', template=raster_path)"
   ]
  }
 ],
 "metadata": {
  "kernelspec": {
   "display_name": "GEO",
   "language": "python",
   "name": "geo"
  },
  "language_info": {
   "codemirror_mode": {
    "name": "ipython",
    "version": 3
   },
   "file_extension": ".py",
   "mimetype": "text/x-python",
   "name": "python",
   "nbconvert_exporter": "python",
   "pygments_lexer": "ipython3",
   "version": "3.7.6"
  }
 },
 "nbformat": 4,
 "nbformat_minor": 2
}
