{
 "cells": [
  {
   "cell_type": "code",
   "execution_count": 10,
   "metadata": {},
   "outputs": [],
   "source": [
    "import sys, os\n",
    "import rasterio\n",
    "\n",
    "import pandas as pd\n",
    "import geopandas as gpd\n",
    "\n",
    "from shapely.geometry import Point"
   ]
  },
  {
   "cell_type": "code",
   "execution_count": 2,
   "metadata": {},
   "outputs": [],
   "source": [
    "gps_folder = \"/home/wb411133/data/Projects/GSMA_mapping\"\n",
    "lac_file = os.path.join(gps_folder, \"gps_lac.csv\")\n",
    "asia_file = os.path.join(gps_folder, \"gps_asia.csv\")"
   ]
  },
  {
   "cell_type": "code",
   "execution_count": 19,
   "metadata": {},
   "outputs": [],
   "source": [
    "def read_hh_files(x):\n",
    "    inD = pd.read_csv(x)\n",
    "    inD = inD.loc[:,['hh_ID','latitud','longitud','country']]\n",
    "    inD = inD.loc[inD['latitud'] != 99]        \n",
    "    inD = inD.loc[inD['latitud'] != 999]\n",
    "    inD = inD.loc[inD['longitud'] != 99]\n",
    "    inD = inD.loc[inD['longitud'] != 999]\n",
    "    in_geoms = [Point(x) for x in zip(inD['longitud'], inD['latitud'])]\n",
    "    inD = gpd.GeoDataFrame(inD, geometry=in_geoms, crs=4326)\n",
    "    return(inD)\n",
    "\n",
    "in_lac = read_hh_files(lac_file)\n",
    "in_asia = read_hh_files(asia_file)"
   ]
  },
  {
   "cell_type": "code",
   "execution_count": 20,
   "metadata": {},
   "outputs": [
    {
     "data": {
      "text/html": [
       "<div>\n",
       "<style scoped>\n",
       "    .dataframe tbody tr th:only-of-type {\n",
       "        vertical-align: middle;\n",
       "    }\n",
       "\n",
       "    .dataframe tbody tr th {\n",
       "        vertical-align: top;\n",
       "    }\n",
       "\n",
       "    .dataframe thead th {\n",
       "        text-align: right;\n",
       "    }\n",
       "</style>\n",
       "<table border=\"1\" class=\"dataframe\">\n",
       "  <thead>\n",
       "    <tr style=\"text-align: right;\">\n",
       "      <th></th>\n",
       "      <th>hh_ID</th>\n",
       "      <th>latitud</th>\n",
       "      <th>longitud</th>\n",
       "      <th>country</th>\n",
       "      <th>geometry</th>\n",
       "    </tr>\n",
       "  </thead>\n",
       "  <tbody>\n",
       "    <tr>\n",
       "      <th>0</th>\n",
       "      <td>1</td>\n",
       "      <td>-34.72322</td>\n",
       "      <td>-58.57189</td>\n",
       "      <td>ARG</td>\n",
       "      <td>POINT (-58.57189 -34.72322)</td>\n",
       "    </tr>\n",
       "    <tr>\n",
       "      <th>1</th>\n",
       "      <td>2</td>\n",
       "      <td>-34.72317</td>\n",
       "      <td>-58.57187</td>\n",
       "      <td>ARG</td>\n",
       "      <td>POINT (-58.57187 -34.72317)</td>\n",
       "    </tr>\n",
       "    <tr>\n",
       "      <th>4</th>\n",
       "      <td>5</td>\n",
       "      <td>-34.72302</td>\n",
       "      <td>-58.57054</td>\n",
       "      <td>ARG</td>\n",
       "      <td>POINT (-58.57054 -34.72302)</td>\n",
       "    </tr>\n",
       "    <tr>\n",
       "      <th>9</th>\n",
       "      <td>10</td>\n",
       "      <td>-34.75600</td>\n",
       "      <td>-58.58844</td>\n",
       "      <td>ARG</td>\n",
       "      <td>POINT (-58.58844 -34.75600)</td>\n",
       "    </tr>\n",
       "    <tr>\n",
       "      <th>11</th>\n",
       "      <td>12</td>\n",
       "      <td>-34.75522</td>\n",
       "      <td>-58.58806</td>\n",
       "      <td>ARG</td>\n",
       "      <td>POINT (-58.58806 -34.75522)</td>\n",
       "    </tr>\n",
       "  </tbody>\n",
       "</table>\n",
       "</div>"
      ],
      "text/plain": [
       "    hh_ID   latitud  longitud country                     geometry\n",
       "0       1 -34.72322 -58.57189     ARG  POINT (-58.57189 -34.72322)\n",
       "1       2 -34.72317 -58.57187     ARG  POINT (-58.57187 -34.72317)\n",
       "4       5 -34.72302 -58.57054     ARG  POINT (-58.57054 -34.72302)\n",
       "9      10 -34.75600 -58.58844     ARG  POINT (-58.58844 -34.75600)\n",
       "11     12 -34.75522 -58.58806     ARG  POINT (-58.58806 -34.75522)"
      ]
     },
     "execution_count": 20,
     "metadata": {},
     "output_type": "execute_result"
    }
   ],
   "source": [
    "in_lac.head()"
   ]
  },
  {
   "cell_type": "code",
   "execution_count": 21,
   "metadata": {},
   "outputs": [
    {
     "data": {
      "text/html": [
       "<div>\n",
       "<style scoped>\n",
       "    .dataframe tbody tr th:only-of-type {\n",
       "        vertical-align: middle;\n",
       "    }\n",
       "\n",
       "    .dataframe tbody tr th {\n",
       "        vertical-align: top;\n",
       "    }\n",
       "\n",
       "    .dataframe thead th {\n",
       "        text-align: right;\n",
       "    }\n",
       "</style>\n",
       "<table border=\"1\" class=\"dataframe\">\n",
       "  <thead>\n",
       "    <tr style=\"text-align: right;\">\n",
       "      <th></th>\n",
       "      <th>hh_ID</th>\n",
       "      <th>latitud</th>\n",
       "      <th>longitud</th>\n",
       "      <th>country</th>\n",
       "      <th>geometry</th>\n",
       "    </tr>\n",
       "  </thead>\n",
       "  <tbody>\n",
       "    <tr>\n",
       "      <th>0</th>\n",
       "      <td>6197.0</td>\n",
       "      <td>6.894086</td>\n",
       "      <td>80.024168</td>\n",
       "      <td>Sri Lanka</td>\n",
       "      <td>POINT (80.02417 6.89409)</td>\n",
       "    </tr>\n",
       "    <tr>\n",
       "      <th>1</th>\n",
       "      <td>6199.0</td>\n",
       "      <td>6.894086</td>\n",
       "      <td>80.024168</td>\n",
       "      <td>Sri Lanka</td>\n",
       "      <td>POINT (80.02417 6.89409)</td>\n",
       "    </tr>\n",
       "    <tr>\n",
       "      <th>2</th>\n",
       "      <td>6201.0</td>\n",
       "      <td>5.992913</td>\n",
       "      <td>80.439780</td>\n",
       "      <td>Sri Lanka</td>\n",
       "      <td>POINT (80.43978 5.99291)</td>\n",
       "    </tr>\n",
       "    <tr>\n",
       "      <th>3</th>\n",
       "      <td>6203.0</td>\n",
       "      <td>6.555662</td>\n",
       "      <td>80.016932</td>\n",
       "      <td>Sri Lanka</td>\n",
       "      <td>POINT (80.01693 6.55566)</td>\n",
       "    </tr>\n",
       "    <tr>\n",
       "      <th>4</th>\n",
       "      <td>6208.0</td>\n",
       "      <td>6.716831</td>\n",
       "      <td>79.917696</td>\n",
       "      <td>Sri Lanka</td>\n",
       "      <td>POINT (79.91770 6.71683)</td>\n",
       "    </tr>\n",
       "  </tbody>\n",
       "</table>\n",
       "</div>"
      ],
      "text/plain": [
       "    hh_ID   latitud   longitud    country                  geometry\n",
       "0  6197.0  6.894086  80.024168  Sri Lanka  POINT (80.02417 6.89409)\n",
       "1  6199.0  6.894086  80.024168  Sri Lanka  POINT (80.02417 6.89409)\n",
       "2  6201.0  5.992913  80.439780  Sri Lanka  POINT (80.43978 5.99291)\n",
       "3  6203.0  6.555662  80.016932  Sri Lanka  POINT (80.01693 6.55566)\n",
       "4  6208.0  6.716831  79.917696  Sri Lanka  POINT (79.91770 6.71683)"
      ]
     },
     "execution_count": 21,
     "metadata": {},
     "output_type": "execute_result"
    }
   ],
   "source": [
    "in_asia.head()"
   ]
  },
  {
   "cell_type": "markdown",
   "metadata": {},
   "source": [
    "# Extract GSM by location"
   ]
  },
  {
   "cell_type": "code",
   "execution_count": null,
   "metadata": {},
   "outputs": [],
   "source": [
    "gsm_folder = "
   ]
  }
 ],
 "metadata": {
  "kernelspec": {
   "display_name": "Earth Engine",
   "language": "python",
   "name": "ee"
  },
  "language_info": {
   "codemirror_mode": {
    "name": "ipython",
    "version": 3
   },
   "file_extension": ".py",
   "mimetype": "text/x-python",
   "name": "python",
   "nbconvert_exporter": "python",
   "pygments_lexer": "ipython3",
   "version": "3.9.4"
  }
 },
 "nbformat": 4,
 "nbformat_minor": 2
}
