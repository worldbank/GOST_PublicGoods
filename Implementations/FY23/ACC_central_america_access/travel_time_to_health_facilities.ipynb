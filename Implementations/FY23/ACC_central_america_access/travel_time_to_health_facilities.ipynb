{
 "cells": [
  {
   "cell_type": "markdown",
   "id": "d40f6333",
   "metadata": {},
   "source": [
    "## Travel Time for Central America using GOSTnets Raster\n",
    "Generates rasters for shortest travel time to health facilities\n",
    "\n",
    "### Cities include: Costa Rica, Dominican Republic, Nicaragua, Guatemala, Panama, El Salvador\n",
    "\n",
    "### Inputs:\n",
    "    - origins: population grid\n",
    "    - destinations: health facilities\n",
    "    \n",
    "Friction layer is the 2020 driving raster Global Friction Surface from the Malaria Access Project (https://malariaatlas.org/project-resources/accessibility-to-healthcare/)\n",
    "\n",
    "## As of May 2023, use a python 3.8 environment, so that pandana can be installed"
   ]
  },
  {
   "cell_type": "code",
   "execution_count": 355,
   "id": "13d95107",
   "metadata": {},
   "outputs": [],
   "source": [
    "import sys, os, importlib\n",
    "import rasterio\n",
    "\n",
    "import numpy as np\n",
    "import pandas as pd\n",
    "import geopandas as gpd\n",
    "import osmnx as ox\n",
    "\n",
    "import skimage.graph as graph\n",
    "\n",
    "from rasterio.mask import mask\n",
    "from rasterio import features\n",
    "\n",
    "from shapely.geometry import box, Point, Polygon\n",
    "from scipy.ndimage import generic_filter\n",
    "#from pandana.loaders import osm\n",
    "\n",
    "sys.path.append(\"../\")"
   ]
  },
  {
   "cell_type": "code",
   "execution_count": 356,
   "id": "97dd7bed",
   "metadata": {},
   "outputs": [],
   "source": [
    "sys.path.append(r\"/Users/tomgertin/repos/GOSTnets\")\n",
    "import GOSTnets as gn"
   ]
  },
  {
   "cell_type": "code",
   "execution_count": 357,
   "id": "3792a161",
   "metadata": {},
   "outputs": [
    {
     "data": {
      "text/plain": [
       "<module 'GOSTRocks.rasterMisc' from '/Users/tomgertin/repos/gostrocks/src/GOSTRocks/rasterMisc.py'>"
      ]
     },
     "execution_count": 357,
     "metadata": {},
     "output_type": "execute_result"
    }
   ],
   "source": [
    "sys.path.append(r\"/Users/tomgertin/repos/gostrocks/src\")\n",
    "import GOSTRocks.rasterMisc as rMisc\n",
    "importlib.reload(rMisc)"
   ]
  },
  {
   "cell_type": "code",
   "execution_count": 358,
   "id": "eaa7c844",
   "metadata": {},
   "outputs": [
    {
     "data": {
      "text/plain": [
       "<module 'GOSTNetsRaster.market_access' from '/Users/tomgertin/repos/GOSTNets_Raster/src/GOSTNetsRaster/market_access.py'>"
      ]
     },
     "execution_count": 358,
     "metadata": {},
     "output_type": "execute_result"
    }
   ],
   "source": [
    "sys.path.append(r\"/Users/tomgertin/repos/GOSTNets_Raster/src\")\n",
    "import GOSTNetsRaster.market_access as ma\n",
    "importlib.reload(ma)"
   ]
  },
  {
   "cell_type": "code",
   "execution_count": 359,
   "id": "84106a3d",
   "metadata": {},
   "outputs": [],
   "source": [
    "global_friction = r\"/Users/tomgertin/data/2020_motorized_friction_surface.geotiff\"\n",
    "friction_file = os.path.join(out_folder, global_friction)"
   ]
  },
  {
   "cell_type": "code",
   "execution_count": 360,
   "id": "conscious-output",
   "metadata": {},
   "outputs": [],
   "source": [
    "#origins_file = r\"inputs\\bgd_pd_2020_1km.tif\""
   ]
  },
  {
   "cell_type": "code",
   "execution_count": 361,
   "id": "78f00a15",
   "metadata": {},
   "outputs": [],
   "source": [
    "health_facilities = r\"inputs/central_america_health_pts.shp\"\n",
    "#health_facilities = r\"inputs/subset_test_health_pts.shp\"\n",
    "health_facilities = gpd.read_file(health_facilities)"
   ]
  },
  {
   "cell_type": "code",
   "execution_count": 364,
   "id": "a6cce90e",
   "metadata": {},
   "outputs": [],
   "source": [
    "out_folder = r\"output\"\n",
    "if not os.path.exists(out_folder):\n",
    "    os.makedirs(out_folder)"
   ]
  },
  {
   "cell_type": "code",
   "execution_count": 365,
   "id": "fe57ad15",
   "metadata": {},
   "outputs": [],
   "source": [
    "#global_friction_clipped = r\"/Users/tomgertin/data/2020_motorized_friction_cen_america.geotiff\"\n",
    "global_friction_clipped = r\"/Users/tomgertin/data/central_america_min_bounding_box_clipped2.geotiff\""
   ]
  },
  {
   "cell_type": "code",
   "execution_count": 367,
   "id": "30e2b981",
   "metadata": {},
   "outputs": [],
   "source": [
    "#clip global friction surface to admin area\n",
    "if not os.path.exists(global_friction_clipped):\n",
    "    rMisc.clipRaster(rasterio.open(global_friction), gpd.read_file(admin), global_friction_clipped)"
   ]
  },
  {
   "cell_type": "markdown",
   "id": "ab376e87",
   "metadata": {},
   "source": [
    "## Standardize or Co-register population file to match the friction surface raster"
   ]
  },
  {
   "cell_type": "code",
   "execution_count": 368,
   "id": "6ea8de02",
   "metadata": {},
   "outputs": [],
   "source": [
    "# create friction surface\n",
    "inR = rasterio.open(global_friction_clipped)"
   ]
  },
  {
   "cell_type": "markdown",
   "id": "fced2018",
   "metadata": {},
   "source": [
    "## create friction surface"
   ]
  },
  {
   "cell_type": "markdown",
   "id": "employed-lexington",
   "metadata": {},
   "source": [
    "The actual units within the friction surface raster are minutes required to travel one meter. Therefore multiple by 1000 to get an approximate time in minutes it takes to cross a pixel, because 30-arcsec resolution pixel is approx. 1km by 1km at the equator.\n",
    "\n",
    "At the equator, an arc-second of longitude approximately equals 30.87 meters. Arc-seconds of longitude decrease in a trigonometric cosine-based fashion as one moves toward the earth's poles (https://www.esri.com/news/arcuser/0400/wdside.html)."
   ]
  },
  {
   "cell_type": "code",
   "execution_count": 370,
   "id": "boring-direction",
   "metadata": {},
   "outputs": [],
   "source": [
    "# import math\n",
    "\n",
    "# # COS of 23.5 degrees * length of arc-sec at equator * 30-arcsec\n",
    "# math.cos(math.radians(23.5)) * 30.87 * 30\n",
    "\n",
    "#frictionD = inR.read()[0,:,:] * 849\n",
    "frictionD = inR.read()[0,:,:]\n",
    "# convert friction surface to traversal time (lazily). Original data are\n",
    "#    the original data are minutes to travel 1 m, so we will convert to \n",
    "#    minutes to cross the cell\n",
    "frictionD = frictionD * 1000\n",
    "\n",
    "# Correct no data values\n",
    "frictionD[frictionD < 0] = 99999999\n",
    "\n",
    "mcp = graph.MCP_Geometric(frictionD)\n",
    "\n",
    "# type(frictionD)\n",
    "\n",
    "# inR.crs"
   ]
  },
  {
   "cell_type": "markdown",
   "id": "baddbf42",
   "metadata": {},
   "source": [
    "## Calculate Travel Time"
   ]
  },
  {
   "cell_type": "code",
   "execution_count": null,
   "id": "23a2b271",
   "metadata": {},
   "outputs": [],
   "source": []
  },
  {
   "cell_type": "code",
   "execution_count": 371,
   "id": "cd9cfe65",
   "metadata": {},
   "outputs": [],
   "source": [
    "import skimage.graph as graph"
   ]
  },
  {
   "cell_type": "code",
   "execution_count": 372,
   "id": "6ffb467a",
   "metadata": {},
   "outputs": [],
   "source": [
    "from skimage.graph import _mcp"
   ]
  },
  {
   "cell_type": "code",
   "execution_count": null,
   "id": "d47cd8a7",
   "metadata": {},
   "outputs": [],
   "source": []
  },
  {
   "cell_type": "code",
   "execution_count": 375,
   "id": "8c513b9e",
   "metadata": {},
   "outputs": [],
   "source": [
    "#ma.calculate_travel_time?"
   ]
  },
  {
   "cell_type": "code",
   "execution_count": 376,
   "id": "8da63f89",
   "metadata": {
    "scrolled": true
   },
   "outputs": [],
   "source": [
    "travel_costs, traceback = ma.calculate_travel_time(inR, mcp, health_facilities, out_raster = os.path.join(out_folder, \"cen_america_tt_health.tif\"))\n",
    "                                                   "
   ]
  }
 ],
 "metadata": {
  "kernelspec": {
   "display_name": "Python 3 (ipykernel)",
   "language": "python",
   "name": "python3"
  },
  "language_info": {
   "codemirror_mode": {
    "name": "ipython",
    "version": 3
   },
   "file_extension": ".py",
   "mimetype": "text/x-python",
   "name": "python",
   "nbconvert_exporter": "python",
   "pygments_lexer": "ipython3",
   "version": "3.8.16"
  }
 },
 "nbformat": 4,
 "nbformat_minor": 5
}
