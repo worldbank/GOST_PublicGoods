{
 "cells": [
  {
   "cell_type": "markdown",
   "id": "d40f6333",
   "metadata": {},
   "source": [
    "## Accessibility Analysis for Bangladesh using GOSTnets Raster\n",
    "Generates population weighted shorterst travel time to ports\n",
    "### Inputs:\n",
    "    - origins: population grid\n",
    "    - destinations: Ports\n",
    "    \n",
    "Friction layer is the Global Friction Surface 2019 from the Malaria Access Project (https://malariaatlas.org/research-project/accessibility-to-healthcare/)"
   ]
  },
  {
   "cell_type": "code",
   "execution_count": 1,
   "id": "13d95107",
   "metadata": {},
   "outputs": [
    {
     "name": "stderr",
     "output_type": "stream",
     "text": [
      "C:\\Users\\war-machine\\anaconda3\\envs\\gostnets3_8\\lib\\site-packages\\geopandas\\_compat.py:106: UserWarning: The Shapely GEOS version (3.9.1dev-CAPI-1.14.1) is incompatible with the GEOS version PyGEOS was compiled with (3.9.1-CAPI-1.14.2). Conversions between both will be slow.\n",
      "  warnings.warn(\n"
     ]
    }
   ],
   "source": [
    "import sys, os, importlib\n",
    "import rasterio\n",
    "\n",
    "import numpy as np\n",
    "import pandas as pd\n",
    "import geopandas as gpd\n",
    "import osmnx as ox\n",
    "sys.path.append(r\"C:\\repos\\GOSTnets\")\n",
    "import GOSTnets as gn\n",
    "import skimage.graph as graph\n",
    "\n",
    "from rasterio.mask import mask\n",
    "from rasterio import features\n",
    "\n",
    "from shapely.geometry import box, Point, Polygon\n",
    "from scipy.ndimage import generic_filter\n",
    "from pandana.loaders import osm\n",
    "\n",
    "sys.path.append(\"../\")\n",
    "\n",
    "# sys.path.append(r\"C:\\repos\\INFRA_SAP\")\n",
    "# import infrasap.market_access as ma\n",
    "# importlib.reload(ma)"
   ]
  },
  {
   "cell_type": "code",
   "execution_count": 2,
   "id": "3792a161",
   "metadata": {},
   "outputs": [
    {
     "data": {
      "text/plain": [
       "<module 'GOSTRocks.rasterMisc' from 'C:\\\\repos\\\\gostrocks\\\\src\\\\GOSTRocks\\\\rasterMisc.py'>"
      ]
     },
     "execution_count": 2,
     "metadata": {},
     "output_type": "execute_result"
    }
   ],
   "source": [
    "sys.path.append(r\"C:\\repos\\gostrocks\\src\")\n",
    "import GOSTRocks.rasterMisc as rMisc\n",
    "importlib.reload(rMisc)"
   ]
  },
  {
   "cell_type": "code",
   "execution_count": 3,
   "id": "eaa7c844",
   "metadata": {},
   "outputs": [
    {
     "data": {
      "text/plain": [
       "<module 'GOSTNetsRaster.market_access' from 'C:\\\\repos\\\\GOSTNets_Raster\\\\src\\\\GOSTNetsRaster\\\\market_access.py'>"
      ]
     },
     "execution_count": 3,
     "metadata": {},
     "output_type": "execute_result"
    }
   ],
   "source": [
    "sys.path.append(r\"C:\\repos\\GOSTNets_Raster\\src\")\n",
    "import GOSTNetsRaster.market_access as ma\n",
    "importlib.reload(ma)"
   ]
  },
  {
   "cell_type": "code",
   "execution_count": 4,
   "id": "84106a3d",
   "metadata": {},
   "outputs": [],
   "source": [
    "global_friction = r\"D:\\data\\global_friction_surface\\2020_motorized_friction_surface.geotiff\""
   ]
  },
  {
   "cell_type": "code",
   "execution_count": 5,
   "id": "conscious-output",
   "metadata": {},
   "outputs": [],
   "source": [
    "origins_file = r\"inputs\\bgd_pd_2020_1km.tif\""
   ]
  },
  {
   "cell_type": "code",
   "execution_count": 6,
   "id": "78f00a15",
   "metadata": {},
   "outputs": [],
   "source": [
    "port_facilities = r\"inputs\\BGD_ports_Chittagong.shp\"\n",
    "port_facilities = gpd.read_file(port_facilities)"
   ]
  },
  {
   "cell_type": "code",
   "execution_count": 7,
   "id": "a33e40c8",
   "metadata": {},
   "outputs": [],
   "source": [
    "# You need the bounding box to be a min bounding box, not the actual shape or else the results are weird \n",
    "admin = r\"inputs\\BGD_corridor1_min_bound.shp\""
   ]
  },
  {
   "cell_type": "code",
   "execution_count": 8,
   "id": "a6cce90e",
   "metadata": {},
   "outputs": [],
   "source": [
    "out_folder = r\"outputs\"\n",
    "if not os.path.exists(out_folder):\n",
    "    os.makedirs(out_folder)"
   ]
  },
  {
   "cell_type": "code",
   "execution_count": 9,
   "id": "fe57ad15",
   "metadata": {},
   "outputs": [],
   "source": [
    "friction_file = os.path.join(out_folder, \"friction_surface.tif\")"
   ]
  },
  {
   "cell_type": "code",
   "execution_count": 10,
   "id": "30e2b981",
   "metadata": {},
   "outputs": [],
   "source": [
    "#clip global friction surface to admin area\n",
    "if not os.path.exists(friction_file):\n",
    "    rMisc.clipRaster(rasterio.open(global_friction), gpd.read_file(admin), friction_file)"
   ]
  },
  {
   "cell_type": "markdown",
   "id": "ab376e87",
   "metadata": {},
   "source": [
    "## Standardize or Co-register population file to match the friction surface raster"
   ]
  },
  {
   "cell_type": "code",
   "execution_count": 11,
   "id": "6ea8de02",
   "metadata": {},
   "outputs": [],
   "source": [
    "# create friction surface\n",
    "inR = rasterio.open(friction_file)"
   ]
  },
  {
   "cell_type": "code",
   "execution_count": 12,
   "id": "f9d62b60",
   "metadata": {},
   "outputs": [],
   "source": [
    "inPop = rasterio.open(origins_file)\n",
    "# Make sure that both rasters have the exact same resolution, crs, and number of pixels\n",
    "out_pop_surface_std = os.path.join(out_folder, \"BGD_pd_2020_1km_STD.tif\")\n",
    "if not os.path.exists(out_pop_surface_std):\n",
    "    rMisc.standardizeInputRasters(inPop, inR, out_pop_surface_std, data_type=\"C\")"
   ]
  },
  {
   "cell_type": "markdown",
   "id": "fced2018",
   "metadata": {},
   "source": [
    "## create friction surface"
   ]
  },
  {
   "cell_type": "markdown",
   "id": "employed-lexington",
   "metadata": {},
   "source": [
    "The actual units within the friction surface raster are minutes required to travel one meter. Therefore multiple by 1000 to get an approximate time in minutes it takes to cross a pixel, because 30-arcsec resolution pixel is approx. 1km by 1km at the equator. However, Bangladesh is about 23.5 degrees north of the equator.\n",
    "\n",
    "At the equator, an arc-second of longitude approximately equals 30.87 meters. Arc-seconds of longitude decrease in a trigonometric cosine-based fashion as one moves toward the earth's poles (https://www.esri.com/news/arcuser/0400/wdside.html)."
   ]
  },
  {
   "cell_type": "code",
   "execution_count": 1,
   "id": "boring-direction",
   "metadata": {},
   "outputs": [],
   "source": [
    "import math"
   ]
  },
  {
   "cell_type": "code",
   "execution_count": 2,
   "id": "north-silver",
   "metadata": {},
   "outputs": [
    {
     "data": {
      "text/plain": [
       "849.2893348880634"
      ]
     },
     "execution_count": 2,
     "metadata": {},
     "output_type": "execute_result"
    }
   ],
   "source": [
    "# COS of 23.5 degrees * length of arc-sec at equator * 30-arcsec\n",
    "math.cos(math.radians(23.5)) * 30.87 * 30"
   ]
  },
  {
   "cell_type": "code",
   "execution_count": 13,
   "id": "14978973",
   "metadata": {},
   "outputs": [],
   "source": [
    "frictionD = inR.read()[0,:,:] * 849\n",
    "mcp = graph.MCP_Geometric(frictionD)"
   ]
  },
  {
   "cell_type": "code",
   "execution_count": 14,
   "id": "6de83746",
   "metadata": {},
   "outputs": [
    {
     "data": {
      "text/plain": [
       "numpy.ndarray"
      ]
     },
     "execution_count": 14,
     "metadata": {},
     "output_type": "execute_result"
    }
   ],
   "source": [
    "type(frictionD)"
   ]
  },
  {
   "cell_type": "code",
   "execution_count": 15,
   "id": "092e3c5c",
   "metadata": {},
   "outputs": [
    {
     "data": {
      "text/plain": [
       "CRS.from_epsg(4326)"
      ]
     },
     "execution_count": 15,
     "metadata": {},
     "output_type": "execute_result"
    }
   ],
   "source": [
    "inR.crs"
   ]
  },
  {
   "cell_type": "markdown",
   "id": "baddbf42",
   "metadata": {},
   "source": [
    "## Calculate Travel Time"
   ]
  },
  {
   "cell_type": "code",
   "execution_count": 16,
   "id": "8da63f89",
   "metadata": {
    "scrolled": true
   },
   "outputs": [],
   "source": [
    "travel_costs, traceback = ma.calculate_travel_time(inR, mcp, port_facilities, out_raster=os.path.join(out_folder, \"BGD_least_cost_travel_time_ports.tif\"))"
   ]
  },
  {
   "cell_type": "markdown",
   "id": "2b6d39b6",
   "metadata": {},
   "source": [
    "### Clip results to corridor admin"
   ]
  },
  {
   "cell_type": "code",
   "execution_count": 17,
   "id": "7ee1a8fe",
   "metadata": {},
   "outputs": [],
   "source": [
    "corridor_admin = r\"inputs\\BGD_corridor1_dissolved.shp\""
   ]
  },
  {
   "cell_type": "code",
   "execution_count": 18,
   "id": "5fe7b420",
   "metadata": {},
   "outputs": [],
   "source": [
    "clipped_file_ports = os.path.join(out_folder, \"BGD_least_cost_travel_time_ports_clipped.tif\")\n",
    "if not os.path.exists(clipped_file_ports):\n",
    "    rMisc.clipRaster(rasterio.open(os.path.join(out_folder, \"BGD_least_cost_travel_time_ports.tif\")), gpd.read_file(corridor_admin), clipped_file_ports)"
   ]
  },
  {
   "cell_type": "markdown",
   "id": "18757dd1",
   "metadata": {},
   "source": [
    "## Do Zonal Stats: Population weighted average"
   ]
  },
  {
   "cell_type": "code",
   "execution_count": 19,
   "id": "c4fa813c",
   "metadata": {},
   "outputs": [],
   "source": [
    "# do zonal stats (pop weighted average) as found here: https://github.com/worldbank/GOST_PublicGoods/blob/master/Implementations/FY21/URB_TurkeyUrbanizationReview/URB_TurkeyUrbanizationReview.ipynb"
   ]
  },
  {
   "cell_type": "code",
   "execution_count": 20,
   "id": "adfe6e0d",
   "metadata": {},
   "outputs": [],
   "source": [
    "ttR_ports = rasterio.open(os.path.join(out_folder, \"BGD_least_cost_travel_time_ports.tif\"))\n",
    "ttD_ports = ttR_ports.read()\n",
    "\n",
    "popR = rasterio.open(os.path.join(out_folder, \"BGD_pd_2020_1km_STD.tif\"))\n",
    "popD = popR.read()"
   ]
  },
  {
   "cell_type": "code",
   "execution_count": 21,
   "id": "3340ecc5",
   "metadata": {},
   "outputs": [
    {
     "data": {
      "text/plain": [
       "(1, 424, 282)"
      ]
     },
     "execution_count": 21,
     "metadata": {},
     "output_type": "execute_result"
    }
   ],
   "source": [
    "ttD_ports.shape"
   ]
  },
  {
   "cell_type": "code",
   "execution_count": 22,
   "id": "ba004d2d",
   "metadata": {},
   "outputs": [
    {
     "data": {
      "text/plain": [
       "(1, 424, 282)"
      ]
     },
     "execution_count": 22,
     "metadata": {},
     "output_type": "execute_result"
    }
   ],
   "source": [
    "popD.shape"
   ]
  },
  {
   "cell_type": "code",
   "execution_count": 23,
   "id": "c261226e",
   "metadata": {},
   "outputs": [
    {
     "data": {
      "text/plain": [
       "array([[[         inf,          inf,          inf, ...,          inf,\n",
       "                  inf,          inf],\n",
       "        [         inf, 368.35214739, 368.89580269, ..., 393.46276917,\n",
       "         416.32432999, 403.88265542],\n",
       "        [         inf, 365.72714739, 366.27080269, ..., 392.74630617,\n",
       "         396.26702375, 392.77613048],\n",
       "        ...,\n",
       "        [         inf, 780.5300421 , 779.38474155, ..., 262.66336934,\n",
       "         262.1032396 , 263.38108271],\n",
       "        [         inf, 783.2950422 , 782.14974166, ..., 264.41336946,\n",
       "         264.29073966, 265.29582688],\n",
       "        [         inf,          inf,          inf, ...,          inf,\n",
       "                  inf,          inf]]])"
      ]
     },
     "execution_count": 23,
     "metadata": {},
     "output_type": "execute_result"
    }
   ],
   "source": [
    "ttD_ports"
   ]
  },
  {
   "cell_type": "code",
   "execution_count": 24,
   "id": "018f72a2",
   "metadata": {},
   "outputs": [
    {
     "data": {
      "text/plain": [
       "array([[[  1056.4373 ,   1068.2314 ,    902.06525, ..., -99999.     ,\n",
       "         -99999.     , -99999.     ],\n",
       "        [  1098.9989 ,   1035.6807 ,    833.0178 , ..., -99999.     ,\n",
       "         -99999.     , -99999.     ],\n",
       "        [  1171.2362 ,    942.9522 ,    862.8866 , ..., -99999.     ,\n",
       "         -99999.     , -99999.     ],\n",
       "        ...,\n",
       "        [-99999.     , -99999.     , -99999.     , ...,   3087.4536 ,\n",
       "           1950.1735 ,    773.5452 ],\n",
       "        [-99999.     , -99999.     , -99999.     , ...,   1131.2036 ,\n",
       "           1072.3378 ,    655.13727],\n",
       "        [-99999.     , -99999.     , -99999.     , ...,    383.39288,\n",
       "            398.62497,    446.42493]]], dtype=float32)"
      ]
     },
     "execution_count": 24,
     "metadata": {},
     "output_type": "execute_result"
    }
   ],
   "source": [
    "popD"
   ]
  },
  {
   "cell_type": "code",
   "execution_count": 25,
   "id": "9886d0b9",
   "metadata": {},
   "outputs": [],
   "source": [
    "# code to replace all negative value with 0\n",
    "popD[popD<0] = 0"
   ]
  },
  {
   "cell_type": "code",
   "execution_count": 26,
   "id": "0ee08e90",
   "metadata": {},
   "outputs": [
    {
     "data": {
      "text/plain": [
       "array([[[1056.4373 , 1068.2314 ,  902.06525, ...,    0.     ,\n",
       "            0.     ,    0.     ],\n",
       "        [1098.9989 , 1035.6807 ,  833.0178 , ...,    0.     ,\n",
       "            0.     ,    0.     ],\n",
       "        [1171.2362 ,  942.9522 ,  862.8866 , ...,    0.     ,\n",
       "            0.     ,    0.     ],\n",
       "        ...,\n",
       "        [   0.     ,    0.     ,    0.     , ..., 3087.4536 ,\n",
       "         1950.1735 ,  773.5452 ],\n",
       "        [   0.     ,    0.     ,    0.     , ..., 1131.2036 ,\n",
       "         1072.3378 ,  655.13727],\n",
       "        [   0.     ,    0.     ,    0.     , ...,  383.39288,\n",
       "          398.62497,  446.42493]]], dtype=float32)"
      ]
     },
     "execution_count": 26,
     "metadata": {},
     "output_type": "execute_result"
    }
   ],
   "source": [
    "popD"
   ]
  },
  {
   "cell_type": "code",
   "execution_count": 27,
   "id": "81e5810d",
   "metadata": {},
   "outputs": [
    {
     "name": "stderr",
     "output_type": "stream",
     "text": [
      "<ipython-input-27-ca5e440e7b48>:1: RuntimeWarning: invalid value encountered in multiply\n",
      "  ttPop_ports = popD * ttD_ports\n"
     ]
    }
   ],
   "source": [
    "ttPop_ports = popD * ttD_ports"
   ]
  },
  {
   "cell_type": "code",
   "execution_count": 28,
   "id": "8d8e1bf7",
   "metadata": {},
   "outputs": [
    {
     "data": {
      "text/plain": [
       "array([[[            inf,             inf,             inf, ...,\n",
       "                     nan,             nan,             nan],\n",
       "        [            inf, 381495.19661262, 307296.77819616, ...,\n",
       "              0.        ,      0.        ,      0.        ],\n",
       "        [            inf, 344863.22169089, 316050.16639259, ...,\n",
       "              0.        ,      0.        ,      0.        ],\n",
       "        ...,\n",
       "        [            nan,      0.        ,      0.        , ...,\n",
       "         810960.96873656, 511146.78214924, 203737.17942573],\n",
       "        [            nan,      0.        ,      0.        , ...,\n",
       "         299105.35892889, 283408.94201604, 173805.18324852],\n",
       "        [            nan,             nan,             nan, ...,\n",
       "                     inf,             inf,             inf]]])"
      ]
     },
     "execution_count": 28,
     "metadata": {},
     "output_type": "execute_result"
    }
   ],
   "source": [
    "ttPop_ports"
   ]
  },
  {
   "cell_type": "code",
   "execution_count": 29,
   "id": "69b2fbfe",
   "metadata": {},
   "outputs": [],
   "source": [
    "out_meta = ttR_ports.meta.copy()\n",
    "with rasterio.open(os.path.join(out_folder, \"ttPop_ports_raster.tif\"), \"w\", **out_meta) as dest:\n",
    "    dest.write(ttPop_ports.astype(out_meta['dtype']))"
   ]
  },
  {
   "cell_type": "code",
   "execution_count": 30,
   "id": "d44106f6",
   "metadata": {},
   "outputs": [],
   "source": [
    "# save pop raster too for later\n",
    "out_meta = ttR_ports.meta.copy()\n",
    "with rasterio.open(os.path.join(out_folder, \"Pop_raster.tif\"), \"w\", **out_meta) as dest:\n",
    "    dest.write(popD.astype(out_meta['dtype']))"
   ]
  },
  {
   "cell_type": "code",
   "execution_count": 31,
   "id": "19b9ebf2",
   "metadata": {},
   "outputs": [],
   "source": [
    "#rasterStats, ignore negative values\n",
    "from rasterstats import zonal_stats"
   ]
  },
  {
   "cell_type": "code",
   "execution_count": 32,
   "id": "ec5754c5",
   "metadata": {},
   "outputs": [],
   "source": [
    "admin1 = r\"inputs\\BGD_corridor1_dissolved.shp\""
   ]
  },
  {
   "cell_type": "code",
   "execution_count": 33,
   "id": "c182e21f",
   "metadata": {},
   "outputs": [],
   "source": [
    "ttPop_ports_raster = r\"outputs\\ttPop_ports_raster.tif\""
   ]
  },
  {
   "cell_type": "code",
   "execution_count": 34,
   "id": "5d895824",
   "metadata": {},
   "outputs": [],
   "source": [
    "#stats = zonal_stats(admin1, ttPop_raster, geojson_out=True)"
   ]
  },
  {
   "cell_type": "markdown",
   "id": "elementary-checklist",
   "metadata": {},
   "source": [
    "### consider using an admin or an urban exent file here for better summaries"
   ]
  },
  {
   "cell_type": "code",
   "execution_count": 35,
   "id": "2a27df26",
   "metadata": {},
   "outputs": [],
   "source": [
    "BGD_adm1_df = gpd.GeoDataFrame.from_file(r\"inputs\\BGD_corridor1_dissolved.shp\")"
   ]
  },
  {
   "cell_type": "code",
   "execution_count": 36,
   "id": "95c68590",
   "metadata": {},
   "outputs": [],
   "source": [
    "ttPop_ports_sum_stats = zonal_stats(admin1, ttPop_ports_raster, stats='sum')"
   ]
  },
  {
   "cell_type": "code",
   "execution_count": 37,
   "id": "03e378a5",
   "metadata": {},
   "outputs": [],
   "source": [
    "#pd.DataFrame(ttPop_HF_sum_stats)"
   ]
  },
  {
   "cell_type": "code",
   "execution_count": 38,
   "id": "c622aa2b",
   "metadata": {},
   "outputs": [],
   "source": [
    "ttPop_ports_sum_stats_joined = BGD_adm1_df.join(pd.DataFrame(ttPop_ports_sum_stats))"
   ]
  },
  {
   "cell_type": "code",
   "execution_count": 39,
   "id": "98e18187",
   "metadata": {},
   "outputs": [],
   "source": [
    "#ttPop_HF_sum_stats_joined"
   ]
  },
  {
   "cell_type": "code",
   "execution_count": 40,
   "id": "e54fa586",
   "metadata": {},
   "outputs": [],
   "source": [
    "# Now need to do rasterstats for just pop, then divide the sum of each of the ttPop zones with the sum pop for each zone"
   ]
  },
  {
   "cell_type": "code",
   "execution_count": 41,
   "id": "b3fa7aa8",
   "metadata": {},
   "outputs": [],
   "source": [
    "Pop_raster = r\"outputs\\Pop_raster.tif\""
   ]
  },
  {
   "cell_type": "code",
   "execution_count": 42,
   "id": "484c3923",
   "metadata": {},
   "outputs": [],
   "source": [
    "statsPop = zonal_stats(admin1, Pop_raster, stats=['sum'])"
   ]
  },
  {
   "cell_type": "code",
   "execution_count": 43,
   "id": "7a37ad22",
   "metadata": {},
   "outputs": [],
   "source": [
    "statsPop_df = pd.DataFrame(statsPop)"
   ]
  },
  {
   "cell_type": "code",
   "execution_count": 44,
   "id": "118230fc",
   "metadata": {},
   "outputs": [],
   "source": [
    "statsPop_df.rename(columns={'sum':'popsum'}, inplace=True)"
   ]
  },
  {
   "cell_type": "code",
   "execution_count": 45,
   "id": "ea3834c7",
   "metadata": {},
   "outputs": [
    {
     "data": {
      "text/html": [
       "<div>\n",
       "<style scoped>\n",
       "    .dataframe tbody tr th:only-of-type {\n",
       "        vertical-align: middle;\n",
       "    }\n",
       "\n",
       "    .dataframe tbody tr th {\n",
       "        vertical-align: top;\n",
       "    }\n",
       "\n",
       "    .dataframe thead th {\n",
       "        text-align: right;\n",
       "    }\n",
       "</style>\n",
       "<table border=\"1\" class=\"dataframe\">\n",
       "  <thead>\n",
       "    <tr style=\"text-align: right;\">\n",
       "      <th></th>\n",
       "      <th>popsum</th>\n",
       "    </tr>\n",
       "  </thead>\n",
       "  <tbody>\n",
       "    <tr>\n",
       "      <th>0</th>\n",
       "      <td>5.307779e+07</td>\n",
       "    </tr>\n",
       "  </tbody>\n",
       "</table>\n",
       "</div>"
      ],
      "text/plain": [
       "         popsum\n",
       "0  5.307779e+07"
      ]
     },
     "execution_count": 45,
     "metadata": {},
     "output_type": "execute_result"
    }
   ],
   "source": [
    "statsPop_df"
   ]
  },
  {
   "cell_type": "code",
   "execution_count": 46,
   "id": "d92e893a",
   "metadata": {},
   "outputs": [],
   "source": [
    "ttPop_ports_sum_stats_joined2 = ttPop_ports_sum_stats_joined.join(pd.DataFrame(statsPop_df))"
   ]
  },
  {
   "cell_type": "code",
   "execution_count": 47,
   "id": "440dff47",
   "metadata": {},
   "outputs": [
    {
     "data": {
      "text/html": [
       "<div>\n",
       "<style scoped>\n",
       "    .dataframe tbody tr th:only-of-type {\n",
       "        vertical-align: middle;\n",
       "    }\n",
       "\n",
       "    .dataframe tbody tr th {\n",
       "        vertical-align: top;\n",
       "    }\n",
       "\n",
       "    .dataframe thead th {\n",
       "        text-align: right;\n",
       "    }\n",
       "</style>\n",
       "<table border=\"1\" class=\"dataframe\">\n",
       "  <thead>\n",
       "    <tr style=\"text-align: right;\">\n",
       "      <th></th>\n",
       "      <th>F_Opacity</th>\n",
       "      <th>F_Componen</th>\n",
       "      <th>F_LayerNam</th>\n",
       "      <th>F_Id</th>\n",
       "      <th>F_Name</th>\n",
       "      <th>F_AreaDire</th>\n",
       "      <th>F_VertexCo</th>\n",
       "      <th>F_Style</th>\n",
       "      <th>F_StrokeWe</th>\n",
       "      <th>F_Perimete</th>\n",
       "      <th>...</th>\n",
       "      <th>ISO</th>\n",
       "      <th>NAME_0</th>\n",
       "      <th>ID_1</th>\n",
       "      <th>NAME_1</th>\n",
       "      <th>Shape_Leng</th>\n",
       "      <th>Shape_Area</th>\n",
       "      <th>NAME_2</th>\n",
       "      <th>geometry</th>\n",
       "      <th>sum</th>\n",
       "      <th>popsum</th>\n",
       "    </tr>\n",
       "  </thead>\n",
       "  <tbody>\n",
       "    <tr>\n",
       "      <th>0</th>\n",
       "      <td>0</td>\n",
       "      <td>0</td>\n",
       "      <td>None</td>\n",
       "      <td>0</td>\n",
       "      <td>None</td>\n",
       "      <td>0</td>\n",
       "      <td>0</td>\n",
       "      <td>None</td>\n",
       "      <td>0.0</td>\n",
       "      <td>0.0</td>\n",
       "      <td>...</td>\n",
       "      <td>BGD</td>\n",
       "      <td>Bangladesh</td>\n",
       "      <td>0</td>\n",
       "      <td>Chittagong</td>\n",
       "      <td>0.628114</td>\n",
       "      <td>0.007252</td>\n",
       "      <td>Brahmanbaria</td>\n",
       "      <td>MULTIPOLYGON (((92.33435 20.75475, 92.33490 20...</td>\n",
       "      <td>1.058177e+10</td>\n",
       "      <td>5.307779e+07</td>\n",
       "    </tr>\n",
       "  </tbody>\n",
       "</table>\n",
       "<p>1 rows × 24 columns</p>\n",
       "</div>"
      ],
      "text/plain": [
       "   F_Opacity  F_Componen F_LayerNam  F_Id F_Name  F_AreaDire  F_VertexCo  \\\n",
       "0          0           0       None     0   None           0           0   \n",
       "\n",
       "  F_Style  F_StrokeWe  F_Perimete  ...  ISO      NAME_0  ID_1      NAME_1  \\\n",
       "0    None         0.0         0.0  ...  BGD  Bangladesh     0  Chittagong   \n",
       "\n",
       "  Shape_Leng Shape_Area        NAME_2  \\\n",
       "0   0.628114   0.007252  Brahmanbaria   \n",
       "\n",
       "                                            geometry           sum  \\\n",
       "0  MULTIPOLYGON (((92.33435 20.75475, 92.33490 20...  1.058177e+10   \n",
       "\n",
       "         popsum  \n",
       "0  5.307779e+07  \n",
       "\n",
       "[1 rows x 24 columns]"
      ]
     },
     "execution_count": 47,
     "metadata": {},
     "output_type": "execute_result"
    }
   ],
   "source": [
    "ttPop_ports_sum_stats_joined2"
   ]
  },
  {
   "cell_type": "code",
   "execution_count": 48,
   "id": "098bab6d",
   "metadata": {},
   "outputs": [],
   "source": [
    "ttPop_ports_sum_stats_joined2['avg_tt'] = ttPop_ports_sum_stats_joined2['sum'] / ttPop_ports_sum_stats_joined2['popsum']"
   ]
  },
  {
   "cell_type": "code",
   "execution_count": 49,
   "id": "c137b774",
   "metadata": {},
   "outputs": [
    {
     "data": {
      "text/html": [
       "<div>\n",
       "<style scoped>\n",
       "    .dataframe tbody tr th:only-of-type {\n",
       "        vertical-align: middle;\n",
       "    }\n",
       "\n",
       "    .dataframe tbody tr th {\n",
       "        vertical-align: top;\n",
       "    }\n",
       "\n",
       "    .dataframe thead th {\n",
       "        text-align: right;\n",
       "    }\n",
       "</style>\n",
       "<table border=\"1\" class=\"dataframe\">\n",
       "  <thead>\n",
       "    <tr style=\"text-align: right;\">\n",
       "      <th></th>\n",
       "      <th>F_Opacity</th>\n",
       "      <th>F_Componen</th>\n",
       "      <th>F_LayerNam</th>\n",
       "      <th>F_Id</th>\n",
       "      <th>F_Name</th>\n",
       "      <th>F_AreaDire</th>\n",
       "      <th>F_VertexCo</th>\n",
       "      <th>F_Style</th>\n",
       "      <th>F_StrokeWe</th>\n",
       "      <th>F_Perimete</th>\n",
       "      <th>...</th>\n",
       "      <th>NAME_0</th>\n",
       "      <th>ID_1</th>\n",
       "      <th>NAME_1</th>\n",
       "      <th>Shape_Leng</th>\n",
       "      <th>Shape_Area</th>\n",
       "      <th>NAME_2</th>\n",
       "      <th>geometry</th>\n",
       "      <th>sum</th>\n",
       "      <th>popsum</th>\n",
       "      <th>avg_tt</th>\n",
       "    </tr>\n",
       "  </thead>\n",
       "  <tbody>\n",
       "    <tr>\n",
       "      <th>0</th>\n",
       "      <td>0</td>\n",
       "      <td>0</td>\n",
       "      <td>None</td>\n",
       "      <td>0</td>\n",
       "      <td>None</td>\n",
       "      <td>0</td>\n",
       "      <td>0</td>\n",
       "      <td>None</td>\n",
       "      <td>0.0</td>\n",
       "      <td>0.0</td>\n",
       "      <td>...</td>\n",
       "      <td>Bangladesh</td>\n",
       "      <td>0</td>\n",
       "      <td>Chittagong</td>\n",
       "      <td>0.628114</td>\n",
       "      <td>0.007252</td>\n",
       "      <td>Brahmanbaria</td>\n",
       "      <td>MULTIPOLYGON (((92.33435 20.75475, 92.33490 20...</td>\n",
       "      <td>1.058177e+10</td>\n",
       "      <td>5.307779e+07</td>\n",
       "      <td>199.363417</td>\n",
       "    </tr>\n",
       "  </tbody>\n",
       "</table>\n",
       "<p>1 rows × 25 columns</p>\n",
       "</div>"
      ],
      "text/plain": [
       "   F_Opacity  F_Componen F_LayerNam  F_Id F_Name  F_AreaDire  F_VertexCo  \\\n",
       "0          0           0       None     0   None           0           0   \n",
       "\n",
       "  F_Style  F_StrokeWe  F_Perimete  ...      NAME_0  ID_1      NAME_1  \\\n",
       "0    None         0.0         0.0  ...  Bangladesh     0  Chittagong   \n",
       "\n",
       "   Shape_Leng Shape_Area        NAME_2  \\\n",
       "0    0.628114   0.007252  Brahmanbaria   \n",
       "\n",
       "                                            geometry           sum  \\\n",
       "0  MULTIPOLYGON (((92.33435 20.75475, 92.33490 20...  1.058177e+10   \n",
       "\n",
       "         popsum      avg_tt  \n",
       "0  5.307779e+07  199.363417  \n",
       "\n",
       "[1 rows x 25 columns]"
      ]
     },
     "execution_count": 49,
     "metadata": {},
     "output_type": "execute_result"
    }
   ],
   "source": [
    "ttPop_ports_sum_stats_joined2"
   ]
  },
  {
   "cell_type": "code",
   "execution_count": 50,
   "id": "82e635cf",
   "metadata": {},
   "outputs": [],
   "source": [
    "ttPop_ports_sum_stats_joined2.to_file(\"ttPop_ports_sum_stats_joined2.shp\")"
   ]
  },
  {
   "cell_type": "code",
   "execution_count": 51,
   "id": "0d0366ce",
   "metadata": {},
   "outputs": [],
   "source": [
    "# Calculate Market Access\n",
    "#https://github.com/worldbank/GOST_PublicGoods/blob/master/Implementations/FY21/ACC_Raster_MarketAccess_Template/ACC_Benin_RasterMarketAccess.ipynb"
   ]
  },
  {
   "cell_type": "code",
   "execution_count": null,
   "id": "2c565ff7",
   "metadata": {},
   "outputs": [],
   "source": []
  }
 ],
 "metadata": {
  "kernelspec": {
   "display_name": "Python 3",
   "language": "python",
   "name": "python3"
  },
  "language_info": {
   "codemirror_mode": {
    "name": "ipython",
    "version": 3
   },
   "file_extension": ".py",
   "mimetype": "text/x-python",
   "name": "python",
   "nbconvert_exporter": "python",
   "pygments_lexer": "ipython3",
   "version": "3.8.8"
  }
 },
 "nbformat": 4,
 "nbformat_minor": 5
}
