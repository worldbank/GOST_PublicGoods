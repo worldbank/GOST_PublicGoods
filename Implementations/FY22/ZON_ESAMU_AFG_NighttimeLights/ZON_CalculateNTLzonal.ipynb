{
 "cells": [
  {
   "cell_type": "code",
   "execution_count": 55,
   "metadata": {},
   "outputs": [],
   "source": [
    "import sys, os, importlib, requests\n",
    "import rasterio, geojson\n",
    "\n",
    "import pandas as pd\n",
    "import geopandas as gpd\n",
    "\n",
    "import ee\n",
    "ee.Initialize()\n",
    "\n",
    "sys.path.append(\"/home/wb411133/Code/GEE_Zonal/src\")\n",
    "import gee_tools\n",
    "import gee_helpers\n",
    "\n",
    "sys.path.append(\"/home/wb411133/Code/gostrocks/src\")\n",
    "\n",
    "import GOSTRocks.rasterMisc as rMisc\n",
    "from GOSTRocks.misc import tPrint"
   ]
  },
  {
   "cell_type": "code",
   "execution_count": 2,
   "metadata": {},
   "outputs": [],
   "source": [
    "base_folder = \"/home/wb411133/data/Country/AFG/\""
   ]
  },
  {
   "cell_type": "code",
   "execution_count": 33,
   "metadata": {},
   "outputs": [],
   "source": [
    "admin_zones = '/home/wb411133/data/Country/AFG/ADMIN/GeoBoundaries/geoBoundaries-AFG-ADM1.shp'\n",
    "military_bases = '/home/wb411133/data/Country/AFG/MilitaryBases/fake_bases.shp'\n",
    "\n",
    "inD = gpd.read_file(admin_zones)\n",
    "inB = gpd.read_file(military_bases)\n",
    "\n",
    "ee_features = gee_helpers.gpd_to_gee(inD, 'PROV_34_NA')"
   ]
  },
  {
   "cell_type": "code",
   "execution_count": 13,
   "metadata": {},
   "outputs": [],
   "source": [
    "# run zonal stats against \n",
    "gee_cat = gee_tools.Catalog()"
   ]
  },
  {
   "cell_type": "code",
   "execution_count": 20,
   "metadata": {},
   "outputs": [
    {
     "data": {
      "text/html": [
       "<div>\n",
       "<style scoped>\n",
       "    .dataframe tbody tr th:only-of-type {\n",
       "        vertical-align: middle;\n",
       "    }\n",
       "\n",
       "    .dataframe tbody tr th {\n",
       "        vertical-align: top;\n",
       "    }\n",
       "\n",
       "    .dataframe thead th {\n",
       "        text-align: right;\n",
       "    }\n",
       "</style>\n",
       "<table border=\"1\" class=\"dataframe\">\n",
       "  <thead>\n",
       "    <tr style=\"text-align: right;\">\n",
       "      <th></th>\n",
       "      <th>id</th>\n",
       "      <th>provider</th>\n",
       "      <th>title</th>\n",
       "      <th>start_date</th>\n",
       "      <th>end_date</th>\n",
       "      <th>startyear</th>\n",
       "      <th>endyear</th>\n",
       "      <th>type</th>\n",
       "      <th>tags</th>\n",
       "      <th>asset_url</th>\n",
       "      <th>thumbnail_url</th>\n",
       "    </tr>\n",
       "  </thead>\n",
       "  <tbody>\n",
       "    <tr>\n",
       "      <th>403</th>\n",
       "      <td>NOAA/DMSP-OLS/CALIBRATED_LIGHTS_V4</td>\n",
       "      <td>Earth Observation Group, Payne Institute for Public Policy, Colorado School of Mines</td>\n",
       "      <td>DMSP OLS: Global Radiance-Calibrated Nighttime Lights Version 4, Defense Meteorological Program Operational Linescan System</td>\n",
       "      <td>1996-03-16</td>\n",
       "      <td>2011-07-31</td>\n",
       "      <td>1996</td>\n",
       "      <td>2011</td>\n",
       "      <td>image_collection</td>\n",
       "      <td>[calibrated, dmsp, eog, imagery, lights, nighttime, ols, radiance, visible, yearly]</td>\n",
       "      <td>https://developers.google.com/earth-engine/datasets/catalog/NOAA_DMSP-OLS_CALIBRATED_LIGHTS_V4</td>\n",
       "      <td>https://mw1.google.com/ges/dd/images/NIGHTTIME_sample.png</td>\n",
       "    </tr>\n",
       "    <tr>\n",
       "      <th>404</th>\n",
       "      <td>NOAA/DMSP-OLS/NIGHTTIME_LIGHTS</td>\n",
       "      <td>Earth Observation Group, Payne Institute for Public Policy, Colorado School of Mines</td>\n",
       "      <td>DMSP OLS: Nighttime Lights Time Series Version 4, Defense Meteorological Program Operational Linescan System</td>\n",
       "      <td>1992-01-01</td>\n",
       "      <td>2014-01-01</td>\n",
       "      <td>1992</td>\n",
       "      <td>2014</td>\n",
       "      <td>image_collection</td>\n",
       "      <td>[dmsp, eog, imagery, lights, nighttime, ols, visible, yearly]</td>\n",
       "      <td>https://developers.google.com/earth-engine/datasets/catalog/NOAA_DMSP-OLS_NIGHTTIME_LIGHTS</td>\n",
       "      <td>https://mw1.google.com/ges/dd/images/NIGHTTIME_sample.png</td>\n",
       "    </tr>\n",
       "  </tbody>\n",
       "</table>\n",
       "</div>"
      ],
      "text/plain": [
       "                                     id  \\\n",
       "403  NOAA/DMSP-OLS/CALIBRATED_LIGHTS_V4   \n",
       "404      NOAA/DMSP-OLS/NIGHTTIME_LIGHTS   \n",
       "\n",
       "                                                                                 provider  \\\n",
       "403  Earth Observation Group, Payne Institute for Public Policy, Colorado School of Mines   \n",
       "404  Earth Observation Group, Payne Institute for Public Policy, Colorado School of Mines   \n",
       "\n",
       "                                                                                                                           title  \\\n",
       "403  DMSP OLS: Global Radiance-Calibrated Nighttime Lights Version 4, Defense Meteorological Program Operational Linescan System   \n",
       "404                 DMSP OLS: Nighttime Lights Time Series Version 4, Defense Meteorological Program Operational Linescan System   \n",
       "\n",
       "    start_date   end_date  startyear  endyear              type  \\\n",
       "403 1996-03-16 2011-07-31       1996     2011  image_collection   \n",
       "404 1992-01-01 2014-01-01       1992     2014  image_collection   \n",
       "\n",
       "                                                                                    tags  \\\n",
       "403  [calibrated, dmsp, eog, imagery, lights, nighttime, ols, radiance, visible, yearly]   \n",
       "404                        [dmsp, eog, imagery, lights, nighttime, ols, visible, yearly]   \n",
       "\n",
       "                                                                                          asset_url  \\\n",
       "403  https://developers.google.com/earth-engine/datasets/catalog/NOAA_DMSP-OLS_CALIBRATED_LIGHTS_V4   \n",
       "404      https://developers.google.com/earth-engine/datasets/catalog/NOAA_DMSP-OLS_NIGHTTIME_LIGHTS   \n",
       "\n",
       "                                                 thumbnail_url  \n",
       "403  https://mw1.google.com/ges/dd/images/NIGHTTIME_sample.png  \n",
       "404  https://mw1.google.com/ges/dd/images/NIGHTTIME_sample.png  "
      ]
     },
     "execution_count": 20,
     "metadata": {},
     "output_type": "execute_result"
    }
   ],
   "source": [
    "results = gee_cat.search_tags(\"dmsp\")\n",
    "results.datasets"
   ]
  },
  {
   "cell_type": "code",
   "execution_count": 47,
   "metadata": {},
   "outputs": [],
   "source": [
    "zs = gee_tools.ZonalStats(\n",
    "    collection_id = 'NOAA/DMSP-OLS/NIGHTTIME_LIGHTS',\n",
    "    target_features = ee_features,\n",
    "    statistic_type = 'sum',\n",
    "    frequency = 'original',    \n",
    ")"
   ]
  },
  {
   "cell_type": "code",
   "execution_count": 48,
   "metadata": {},
   "outputs": [
    {
     "data": {
      "text/plain": [
       "<ee.featurecollection.FeatureCollection at 0x7f0308095580>"
      ]
     },
     "execution_count": 48,
     "metadata": {},
     "output_type": "execute_result"
    }
   ],
   "source": [
    "zs.runZonalStats()"
   ]
  },
  {
   "cell_type": "code",
   "execution_count": 49,
   "metadata": {},
   "outputs": [
    {
     "ename": "AttributeError",
     "evalue": "'NoneType' object has no attribute 'status'",
     "output_type": "error",
     "traceback": [
      "\u001b[0;31m---------------------------------------------------------------------------\u001b[0m",
      "\u001b[0;31mAttributeError\u001b[0m                            Traceback (most recent call last)",
      "\u001b[0;32m<ipython-input-49-2bbc9709ceb5>\u001b[0m in \u001b[0;36m<module>\u001b[0;34m\u001b[0m\n\u001b[0;32m----> 1\u001b[0;31m \u001b[0mzs\u001b[0m\u001b[0;34m.\u001b[0m\u001b[0mtask\u001b[0m\u001b[0;34m.\u001b[0m\u001b[0mstatus\u001b[0m\u001b[0;34m(\u001b[0m\u001b[0;34m)\u001b[0m\u001b[0;34m\u001b[0m\u001b[0;34m\u001b[0m\u001b[0m\n\u001b[0m",
      "\u001b[0;31mAttributeError\u001b[0m: 'NoneType' object has no attribute 'status'"
     ]
    }
   ],
   "source": [
    "zs.task.status()"
   ]
  },
  {
   "cell_type": "code",
   "execution_count": 51,
   "metadata": {},
   "outputs": [
    {
     "data": {
      "text/plain": [
       "['s3://wbgdecinternal-ntl/NTL/VIIRS_UNZIP/viirs_201204/TILE3/SVDNB_npp_20120401-20120430_75N060E_vcmcfg_v10_c201605121456.avg_rade9h.tif',\n",
       " 's3://wbgdecinternal-ntl/NTL/VIIRS_UNZIP/viirs_201205/TILE3/SVDNB_npp_20120501-20120531_75N060E_vcmcfg_v10_c201605121458.avg_rade9h.tif',\n",
       " 's3://wbgdecinternal-ntl/NTL/VIIRS_UNZIP/viirs_201206/TILE3/SVDNB_npp_20120601-20120630_75N060E_vcmcfg_v10_c201605121459.avg_rade9h.tif',\n",
       " 's3://wbgdecinternal-ntl/NTL/VIIRS_UNZIP/viirs_201207/TILE3/SVDNB_npp_20120701-20120731_75N060E_vcmcfg_v10_c201605121509.avg_rade9.tif',\n",
       " 's3://wbgdecinternal-ntl/NTL/VIIRS_UNZIP/viirs_201208/TILE3/SVDNB_npp_20120801-20120831_75N060E_vcmcfg_v10_c201602121348.avg_rade9.tif']"
      ]
     },
     "execution_count": 51,
     "metadata": {},
     "output_type": "execute_result"
    }
   ],
   "source": [
    "s3_base = 's3://wbgdecinternal-ntl/'\n",
    "ntl_file_list = \"/home/wb411133/temp/YEM/AWS_NTL_S3.txt\"\n",
    "focal_tile = \"TILE3\"\n",
    "temp_folder = \"/home/wb411133/temp\"\n",
    "\n",
    "all_files = []\n",
    "with open(ntl_file_list, 'r') as in_aws:\n",
    "    for line in in_aws:\n",
    "        if focal_tile in line and 'avg_rade9' in line:\n",
    "            all_files.append(os.path.join(s3_base, line.split(\" \")[-1][:-1]))\n",
    "            \n",
    "all_files[:5]"
   ]
  },
  {
   "cell_type": "code",
   "execution_count": 56,
   "metadata": {
    "scrolled": true
   },
   "outputs": [
    {
     "name": "stdout",
     "output_type": "stream",
     "text": [
      "13:53:20\ts3://wbgdecinternal-ntl/NTL/VIIRS_UNZIP/viirs_201204/TILE3/SVDNB_npp_20120401-20120430_75N060E_vcmcfg_v10_c201605121456.avg_rade9h.tif\n",
      "13:53:34\ts3://wbgdecinternal-ntl/NTL/VIIRS_UNZIP/viirs_201205/TILE3/SVDNB_npp_20120501-20120531_75N060E_vcmcfg_v10_c201605121458.avg_rade9h.tif\n",
      "13:53:47\ts3://wbgdecinternal-ntl/NTL/VIIRS_UNZIP/viirs_201206/TILE3/SVDNB_npp_20120601-20120630_75N060E_vcmcfg_v10_c201605121459.avg_rade9h.tif\n",
      "13:54:02\ts3://wbgdecinternal-ntl/NTL/VIIRS_UNZIP/viirs_201207/TILE3/SVDNB_npp_20120701-20120731_75N060E_vcmcfg_v10_c201605121509.avg_rade9.tif\n",
      "13:54:16\ts3://wbgdecinternal-ntl/NTL/VIIRS_UNZIP/viirs_201208/TILE3/SVDNB_npp_20120801-20120831_75N060E_vcmcfg_v10_c201602121348.avg_rade9.tif\n",
      "13:54:29\ts3://wbgdecinternal-ntl/NTL/VIIRS_UNZIP/viirs_201210/TILE3/SVDNB_npp_20121001-20121031_75N060E_vcmcfg_v10_c201602051401.avg_rade9.tif\n",
      "13:54:42\ts3://wbgdecinternal-ntl/NTL/VIIRS_UNZIP/viirs_201211/TILE3/SVDNB_npp_20121101-20121130_75N060E_vcmcfg_v10_c201601270845.avg_rade9.tif\n",
      "13:54:56\ts3://wbgdecinternal-ntl/NTL/VIIRS_UNZIP/viirs_201212/TILE3/SVDNB_npp_20121201-20121231_75N060E_vcmcfg_v10_c201601041440.avg_rade9.tif\n",
      "13:55:09\ts3://wbgdecinternal-ntl/NTL/VIIRS_UNZIP/viirs_201301/TILE3/SVDNB_npp_20130101-20130131_75N060E_vcmcfg_v10_c201605121529.avg_rade9.tif\n",
      "13:55:23\ts3://wbgdecinternal-ntl/NTL/VIIRS_UNZIP/viirs_201302/TILE3/SVDNB_npp_20130201-20130228_75N060E_vcmcfg_v10_c201605131247.avg_rade9.tif\n",
      "13:55:37\ts3://wbgdecinternal-ntl/NTL/VIIRS_UNZIP/viirs_201303/TILE3/SVDNB_npp_20130301-20130331_75N060E_vcmcfg_v10_c201605131250.avg_rade9.tif\n",
      "13:55:49\ts3://wbgdecinternal-ntl/NTL/VIIRS_UNZIP/viirs_201304/TILE3/SVDNB_npp_20130401-20130430_75N060E_vcmcfg_v10_c201605131251.avg_rade9.tif\n",
      "13:56:03\ts3://wbgdecinternal-ntl/NTL/VIIRS_UNZIP/viirs_201305/TILE3/SVDNB_npp_20130501-20130531_75N060E_vcmcfg_v10_c201605131256.avg_rade9.tif\n",
      "13:56:17\ts3://wbgdecinternal-ntl/NTL/VIIRS_UNZIP/viirs_201306/TILE3/SVDNB_npp_20130601-20130630_75N060E_vcmcfg_v10_c201605131304.avg_rade9.tif\n",
      "13:56:32\ts3://wbgdecinternal-ntl/NTL/VIIRS_UNZIP/viirs_201307/TILE3/SVDNB_npp_20130701-20130731_75N060E_vcmcfg_v10_c201605131305.avg_rade9.tif\n",
      "13:56:44\ts3://wbgdecinternal-ntl/NTL/VIIRS_UNZIP/viirs_201308/TILE3/SVDNB_npp_20130801-20130831_75N060E_vcmcfg_v10_c201605131312.avg_rade9.tif\n",
      "13:56:58\ts3://wbgdecinternal-ntl/NTL/VIIRS_UNZIP/viirs_201309/TILE3/SVDNB_npp_20130901-20130930_75N060E_vcmcfg_v10_c201605131325.avg_rade9.tif\n",
      "13:57:11\ts3://wbgdecinternal-ntl/NTL/VIIRS_UNZIP/viirs_201310/TILE3/SVDNB_npp_20131001-20131031_75N060E_vcmcfg_v10_c201605131331.avg_rade9.tif\n",
      "13:57:24\ts3://wbgdecinternal-ntl/NTL/VIIRS_UNZIP/viirs_201311/TILE3/SVDNB_npp_20131101-20131130_75N060E_vcmcfg_v10_c201605131332.avg_rade9.tif\n",
      "13:57:38\ts3://wbgdecinternal-ntl/NTL/VIIRS_UNZIP/viirs_201312/TILE3/SVDNB_npp_20131201-20131231_75N060E_vcmcfg_v10_c201605131341.avg_rade9.tif\n",
      "13:57:51\ts3://wbgdecinternal-ntl/NTL/VIIRS_UNZIP/viirs_201402/TILE3/SVDNB_npp_20140201-20140228_75N060E_vcmcfg_v10_c201507201052.avg_rade9.tif\n",
      "13:58:05\ts3://wbgdecinternal-ntl/NTL/VIIRS_UNZIP/viirs_201403/TILE3/SVDNB_npp_20140301-20140331_75N060E_vcmcfg_v10_c201506121552.avg_rade9.tif\n",
      "13:58:19\ts3://wbgdecinternal-ntl/NTL/VIIRS_UNZIP/viirs_201404/TILE3/SVDNB_npp_20140401-20140430_75N060E_vcmcfg_v10_c201507201613.avg_rade9.tif\n",
      "13:58:33\ts3://wbgdecinternal-ntl/NTL/VIIRS_UNZIP/viirs_201405/TILE3/SVDNB_npp_20140501-20140531_75N060E_vcmcfg_v10_c201502061154.avg_rade9.tif\n",
      "13:58:47\ts3://wbgdecinternal-ntl/NTL/VIIRS_UNZIP/viirs_201406/TILE3/SVDNB_npp_20140601-20140630_75N060E_vcmcfg_v10_c201502121156.avg_rade9.tif\n",
      "13:58:59\ts3://wbgdecinternal-ntl/NTL/VIIRS_UNZIP/viirs_201407/TILE3/SVDNB_npp_20140701-20140731_75N060E_vcmcfg_v10_c201506231100.avg_rade9.tif\n",
      "13:59:12\ts3://wbgdecinternal-ntl/NTL/VIIRS_UNZIP/viirs_201408/TILE3/SVDNB_npp_20140801-20140831_75N060E_vcmcfg_v10_c201508131459.avg_rade9.tif\n",
      "13:59:25\ts3://wbgdecinternal-ntl/NTL/VIIRS_UNZIP/viirs_201409/TILE3/SVDNB_npp_20140901-20140930_75N060E_vcmcfg_v10_c201502251400.avg_rade9.tif\n",
      "13:59:41\ts3://wbgdecinternal-ntl/NTL/VIIRS_UNZIP/viirs_201410/TILE3/SVDNB_npp_20141001-20141031_75N060E_vcmcfg_v10_c201502231115.avg_rade9.tif\n",
      "13:59:56\ts3://wbgdecinternal-ntl/NTL/VIIRS_UNZIP/viirs_201411/TILE3/SVDNB_npp_20141101-20141130_75N060E_vcmcfg_v10_c201502231455.avg_rade9.tif\n",
      "14:00:10\ts3://wbgdecinternal-ntl/NTL/VIIRS_UNZIP/viirs_201412/TILE3/SVDNB_npp_20141201-20141231_75N060E_vcmcfg_v10_c201502231125.avg_rade9.tif\n",
      "14:00:25\ts3://wbgdecinternal-ntl/NTL/VIIRS_UNZIP/viirs_201501/TILE3/SVDNB_npp_20150101-20150131_75N060E_vcmcfg_v10_c201505111709.avg_rade9.tif\n",
      "14:00:40\ts3://wbgdecinternal-ntl/NTL/VIIRS_UNZIP/viirs_201502/TILE3/SVDNB_npp_20150201-20150228_75N060E_vcmcfg_v10_c201504281504.avg_rade9.tif\n",
      "14:00:56\ts3://wbgdecinternal-ntl/NTL/VIIRS_UNZIP/viirs_201503/TILE3/SVDNB_npp_20150301-20150331_75N060E_vcmcfg_v10_c201505191916.avg_rade9.tif\n",
      "14:01:11\ts3://wbgdecinternal-ntl/NTL/VIIRS_UNZIP/viirs_201504/TILE3/SVDNB_npp_20150401-20150430_75N060E_vcmcfg_v10_c201506011707.avg_rade9.tif\n",
      "14:01:26\ts3://wbgdecinternal-ntl/NTL/VIIRS_UNZIP/viirs_201505/TILE3/SVDNB_npp_20150501-20150531_75N060E_vcmcfg_v10_c201506161325.avg_rade9.tif\n",
      "14:01:40\ts3://wbgdecinternal-ntl/NTL/VIIRS_UNZIP/viirs_201506/TILE3/SVDNB_npp_20150601-20150630_75N060E_vcmcfg_v10_c201508141522.avg_rade9.tif\n",
      "14:01:54\ts3://wbgdecinternal-ntl/NTL/VIIRS_UNZIP/viirs_201507/TILE3/SVDNB_npp_20150701-20150731_75N060E_vcmcfg_v10_c201509151839.avg_rade9.tif\n",
      "14:02:09\ts3://wbgdecinternal-ntl/NTL/VIIRS_UNZIP/viirs_201508/TILE3/SVDNB_npp_20150801-20150831_75N060E_vcmcfg_v10_c201509301759.avg_rade9.tif\n",
      "14:02:23\ts3://wbgdecinternal-ntl/NTL/VIIRS_UNZIP/viirs_201509/TILE3/SVDNB_npp_20150901-20150930_75N060E_vcmcfg_v10_c201511121210.avg_rade9.tif\n",
      "14:02:39\ts3://wbgdecinternal-ntl/NTL/VIIRS_UNZIP/viirs_201510/TILE3/SVDNB_npp_20151001-20151031_75N060E_vcmcfg_v10_c201511181404.avg_rade9.tif\n",
      "14:02:54\ts3://wbgdecinternal-ntl/NTL/VIIRS_UNZIP/viirs_201511/TILE3/SVDNB_npp_20151101-20151130_75N060E_vcmcfg_v10_c201512121648.avg_rade9.tif\n",
      "14:03:09\ts3://wbgdecinternal-ntl/NTL/VIIRS_UNZIP/viirs_201512/TILE3/SVDNB_npp_20151201-20151231_75N060E_vcmcfg_v10_c201601251413.avg_rade9.tif\n",
      "14:03:23\ts3://wbgdecinternal-ntl/NTL/VIIRS_UNZIP/viirs_201601/TILE3/SVDNB_npp_20160101-20160131_75N060E_vcmcfg_v10_c201603132032.avg_rade9.tif\n",
      "14:03:36\ts3://wbgdecinternal-ntl/NTL/VIIRS_UNZIP/viirs_201602/TILE3/SVDNB_npp_20160201-20160229_75N060E_vcmcfg_v10_c201603152010.avg_rade9.tif\n",
      "14:03:51\ts3://wbgdecinternal-ntl/NTL/VIIRS_UNZIP/viirs_201603/TILE3/SVDNB_npp_20160301-20160331_75N060E_vcmcfg_v10_c201604191144.avg_rade9.tif\n",
      "14:04:06\ts3://wbgdecinternal-ntl/NTL/VIIRS_UNZIP/viirs_201604/TILE3/SVDNB_npp_20160401-20160430_75N060E_vcmcfg_v10_c201606140957.avg_rade9.tif\n",
      "14:04:19\ts3://wbgdecinternal-ntl/NTL/VIIRS_UNZIP/viirs_201605/TILE3/SVDNB_npp_20160501-20160531_75N060E_vcmcfg_v10_c201606281430.avg_rade9.tif\n",
      "14:04:35\ts3://wbgdecinternal-ntl/NTL/VIIRS_UNZIP/viirs_201606/TILE3/SVDNB_npp_20160601-20160630_75N060E_vcmcfg_v10_c201608101832.avg_rade9.tif\n",
      "14:04:50\ts3://wbgdecinternal-ntl/NTL/VIIRS_UNZIP/viirs_201607/TILE3/SVDNB_npp_20160701-20160731_75N060E_vcmcfg_v10_c201609121310.avg_rade9.tif\n",
      "14:05:03\ts3://wbgdecinternal-ntl/NTL/VIIRS_UNZIP/viirs_201608/TILE3/SVDNB_npp_20160801-20160831_75N060E_vcmcfg_v10_c201610041107.avg_rade9.tif\n",
      "14:05:18\ts3://wbgdecinternal-ntl/NTL/VIIRS_UNZIP/viirs_201609/TILE3/SVDNB_npp_20160901-20160930_75N060E_vcmcfg_v10_c201610280941.avg_rade9.tif\n",
      "14:05:32\ts3://wbgdecinternal-ntl/NTL/VIIRS_UNZIP/viirs_201610/TILE3/SVDNB_npp_20161001-20161031_75N060E_vcmcfg_v10_c201612011122.avg_rade9.tif\n",
      "14:05:45\ts3://wbgdecinternal-ntl/NTL/VIIRS_UNZIP/viirs_201611/TILE3/SVDNB_npp_20161101-20161130_75N060E_vcmcfg_v10_c201612191231.avg_rade9.tif\n",
      "14:05:58\ts3://wbgdecinternal-ntl/NTL/VIIRS_UNZIP/viirs_201612/TILE3/SVDNB_npp_20161201-20161231_75N060E_vcmcfg_v10_c201701271136.avg_rade9.tif\n",
      "14:06:12\ts3://wbgdecinternal-ntl/NTL/VIIRS_UNZIP/viirs_201701/TILE3/SVDNB_npp_20170101-20170131_75N060E_vcmcfg_v10_c201702241223.avg_rade9.tif\n",
      "14:06:25\ts3://wbgdecinternal-ntl/NTL/VIIRS_UNZIP/viirs_201702/TILE3/SVDNB_npp_20170201-20170228_75N060E_vcmcfg_v10_c201703012030.avg_rade9.tif\n",
      "14:06:40\ts3://wbgdecinternal-ntl/NTL/VIIRS_UNZIP/viirs_201703/TILE3/SVDNB_npp_20170301-20170331_75N060E_vcmcfg_v10_c201705020851.avg_rade9.tif\n"
     ]
    },
    {
     "name": "stdout",
     "output_type": "stream",
     "text": [
      "14:06:53\ts3://wbgdecinternal-ntl/NTL/VIIRS_UNZIP/viirs_201704/TILE3/SVDNB_npp_20170401-20170430_75N060E_vcmcfg_v10_c201705011300.avg_rade9.tif\n",
      "14:07:07\ts3://wbgdecinternal-ntl/NTL/VIIRS_UNZIP/viirs_201705/TILE3/SVDNB_npp_20170501-20170531_75N060E_vcmcfg_v10_c201706021500.avg_rade9.tif\n",
      "14:07:22\ts3://wbgdecinternal-ntl/NTL/VIIRS_UNZIP/viirs_201706/TILE3/SVDNB_npp_20170601-20170630_75N060E_vcmcfg_v10_c201707021700.avg_rade9h.tif\n",
      "14:07:36\ts3://wbgdecinternal-ntl/NTL/VIIRS_UNZIP/viirs_201707/TILE3/SVDNB_npp_20170701-20170731_75N060E_vcmcfg_v10_c201708061230.avg_rade9h.tif\n",
      "14:07:49\ts3://wbgdecinternal-ntl/NTL/VIIRS_UNZIP/viirs_201708/TILE3/SVDNB_npp_20170801-20170831_75N060E_vcmcfg_v10_c201709051000.avg_rade9h.tif\n",
      "14:08:03\ts3://wbgdecinternal-ntl/NTL/VIIRS_UNZIP/viirs_201709/TILE3/SVDNB_npp_20170901-20170930_75N060E_vcmcfg_v10_c201710041620.avg_rade9h.tif\n",
      "14:08:17\ts3://wbgdecinternal-ntl/NTL/VIIRS_UNZIP/viirs_201710/TILE3/SVDNB_npp_20171001-20171031_75N060E_vcmcfg_v10_c201711021230.avg_rade9h.tif\n",
      "14:08:32\ts3://wbgdecinternal-ntl/NTL/VIIRS_UNZIP/viirs_201711/TILE3/SVDNB_npp_20171101-20171130_75N060E_vcmcfg_v10_c201712040930.avg_rade9h.tif\n",
      "14:08:45\ts3://wbgdecinternal-ntl/NTL/VIIRS_UNZIP/viirs_201712/TILE3/SVDNB_npp_20171201-20171231_75N060E_vcmcfg_v10_c201801021747.avg_rade9h.tif\n",
      "14:08:59\ts3://wbgdecinternal-ntl/NTL/VIIRS_UNZIP/viirs_201801/TILE3/SVDNB_npp_20180101-20180131_75N060E_vcmcfg_v10_c201805221252.avg_rade9h.tif\n",
      "14:09:13\ts3://wbgdecinternal-ntl/NTL/VIIRS_UNZIP/viirs_201802/TILE3/SVDNB_npp_20180201-20180228_75N060E_vcmcfg_v10_c201803012000.avg_rade9h.tif\n",
      "14:09:28\ts3://wbgdecinternal-ntl/NTL/VIIRS_UNZIP/viirs_201803/TILE3/SVDNB_npp_20180301-20180331_75N060E_vcmcfg_v10_c201804022005.avg_rade9h.tif\n",
      "14:09:43\ts3://wbgdecinternal-ntl/NTL/VIIRS_UNZIP/viirs_201804/TILE3/SVDNB_npp_20180401-20180430_75N060E_vcmcfg_v10_c201805021400.avg_rade9h.tif\n",
      "14:09:59\ts3://wbgdecinternal-ntl/NTL/VIIRS_UNZIP/viirs_201805/TILE3/SVDNB_npp_20180501-20180531_75N060E_vcmcfg_v10_c201806061100.avg_rade9h.tif\n",
      "14:10:13\ts3://wbgdecinternal-ntl/NTL/VIIRS_UNZIP/viirs_201807/TILE3/SVDNB_npp_20180701-20180731_75N060E_vcmcfg_v10_c201812111300.avg_rade9h.tif\n",
      "14:10:29\ts3://wbgdecinternal-ntl/NTL/VIIRS_UNZIP/viirs_201808/TILE3/SVDNB_npp_20180801-20180831_75N060E_vcmcfg_v10_c201809070900.avg_rade9h.tif\n",
      "14:10:43\ts3://wbgdecinternal-ntl/NTL/VIIRS_UNZIP/viirs_201809/TILE3/SVDNB_npp_20180901-20180930_75N060E_vcmcfg_v10_c201810250900.avg_rade9h.tif\n",
      "14:10:58\ts3://wbgdecinternal-ntl/NTL/VIIRS_UNZIP/viirs_201810/TILE3/SVDNB_npp_20181001-20181031_75N060E_vcmcfg_v10_c201811131000.avg_rade9h.tif\n",
      "14:11:13\ts3://wbgdecinternal-ntl/NTL/VIIRS_UNZIP/viirs_201811/TILE3/SVDNB_npp_20181101-20181130_75N060E_vcmcfg_v10_c201812081230.avg_rade9h.tif\n",
      "14:11:29\ts3://wbgdecinternal-ntl/NTL/VIIRS_UNZIP/viirs_201812/TILE3/SVDNB_npp_20181201-20181231_75N060E_vcmcfg_v10_c201902122100.avg_rade9h.tif\n",
      "14:11:43\ts3://wbgdecinternal-ntl/NTL/VIIRS_UNZIP/viirs_201901/TILE3/SVDNB_npp_20190101-20190131_75N060E_vcmcfg_v10_c201905201300.avg_rade9h.tif\n",
      "14:11:56\ts3://wbgdecinternal-ntl/NTL/VIIRS_UNZIP/viirs_201902/TILE3/SVDNB_npp_20190201-20190228_75N060E_vcmcfg_v10_c201903110900.avg_rade9h.tif\n",
      "14:12:09\ts3://wbgdecinternal-ntl/NTL/VIIRS_UNZIP/viirs_201903/TILE3/SVDNB_npp_20190301-20190331_75N060E_vcmcfg_v10_c201904071900.avg_rade9h.tif\n",
      "14:12:23\ts3://wbgdecinternal-ntl/NTL/VIIRS_UNZIP/viirs_201904/TILE3/SVDNB_npp_20190401-20190430_75N060E_vcmcfg_v10_c201905191000.avg_rade9h.tif\n",
      "14:12:36\ts3://wbgdecinternal-ntl/NTL/VIIRS_UNZIP/viirs_201905/TILE3/SVDNB_npp_20190501-20190531_75N060E_vcmcfg_v10_c201906130930.avg_rade9h.tif\n",
      "14:12:50\ts3://wbgdecinternal-ntl/NTL/VIIRS_UNZIP/viirs_201906/TILE3/SVDNB_npp_20190601-20190630_75N060E_vcmcfg_v10_c201907091100.avg_rade9h.tif\n",
      "14:13:02\ts3://wbgdecinternal-ntl/NTL/VIIRS_UNZIP/viirs_201907/TILE3/SVDNB_npp_20190701-20190731_75N060E_vcmcfg_v10_c201908090900.avg_rade9h.tif\n",
      "14:13:17\ts3://wbgdecinternal-ntl/NTL/VIIRS_UNZIP/viirs_201908/TILE3/SVDNB_npp_20190801-20190831_75N060E_vcmcfg_v10_c201909051300.avg_rade9h.tif\n",
      "14:13:30\ts3://wbgdecinternal-ntl/NTL/VIIRS_UNZIP/viirs_201911/TILE3/SVDNB_npp_20191101-20191130_75N060E_vcmcfg_v10_c201912131600.avg_rade9h.tif\n",
      "14:13:43\ts3://wbgdecinternal-ntl/NTL/VIIRS_UNZIP/viirs_201912/TILE3/SVDNB_npp_20191201-20191231_75N060E_vcmcfg_v10_c202001140900.avg_rade9h.tif\n"
     ]
    },
    {
     "ename": "NameError",
     "evalue": "name 'in_zones' is not defined",
     "output_type": "error",
     "traceback": [
      "\u001b[0;31m---------------------------------------------------------------------------\u001b[0m",
      "\u001b[0;31mNameError\u001b[0m                                 Traceback (most recent call last)",
      "\u001b[0;32m<ipython-input-56-c5bfc99ee394>\u001b[0m in \u001b[0;36m<module>\u001b[0;34m\u001b[0m\n\u001b[1;32m      5\u001b[0m     \u001b[0mtPrint\u001b[0m\u001b[0;34m(\u001b[0m\u001b[0mcur_tif\u001b[0m\u001b[0;34m)\u001b[0m\u001b[0;34m\u001b[0m\u001b[0;34m\u001b[0m\u001b[0m\n\u001b[1;32m      6\u001b[0m \u001b[0;34m\u001b[0m\u001b[0m\n\u001b[0;32m----> 7\u001b[0;31m \u001b[0mpd\u001b[0m\u001b[0;34m.\u001b[0m\u001b[0mDataFrame\u001b[0m\u001b[0;34m(\u001b[0m\u001b[0minD\u001b[0m\u001b[0;34m.\u001b[0m\u001b[0mdrop\u001b[0m\u001b[0;34m(\u001b[0m\u001b[0;34m[\u001b[0m\u001b[0;34m'geometry'\u001b[0m\u001b[0;34m]\u001b[0m\u001b[0;34m,\u001b[0m \u001b[0maxis\u001b[0m\u001b[0;34m=\u001b[0m\u001b[0;36m1\u001b[0m\u001b[0;34m)\u001b[0m\u001b[0;34m)\u001b[0m\u001b[0;34m.\u001b[0m\u001b[0mto_csv\u001b[0m\u001b[0;34m(\u001b[0m\u001b[0;34mf\"{in_zones[:-4]}_NTL.csv\"\u001b[0m\u001b[0;34m)\u001b[0m\u001b[0;34m\u001b[0m\u001b[0;34m\u001b[0m\u001b[0m\n\u001b[0m",
      "\u001b[0;31mNameError\u001b[0m: name 'in_zones' is not defined"
     ]
    }
   ],
   "source": [
    "for cur_tif in all_files:\n",
    "    res = rMisc.zonalStats(inD, cur_tif, minVal=0.05)\n",
    "    res = pd.DataFrame(res,columns=['SUM','MIN','MAX','MEAN'])\n",
    "    inD[cur_tif.split(\"/\")[5]] = res['SUM']\n",
    "    tPrint(cur_tif)"
   ]
  },
  {
   "cell_type": "code",
   "execution_count": 58,
   "metadata": {},
   "outputs": [],
   "source": [
    "pd.DataFrame(inD.drop(['geometry'], axis=1)).to_csv(f\"{admin_zones[:-4]}_NTL.csv\")"
   ]
  }
 ],
 "metadata": {
  "kernelspec": {
   "display_name": "Earth Engine",
   "language": "python",
   "name": "ee"
  },
  "language_info": {
   "codemirror_mode": {
    "name": "ipython",
    "version": 3
   },
   "file_extension": ".py",
   "mimetype": "text/x-python",
   "name": "python",
   "nbconvert_exporter": "python",
   "pygments_lexer": "ipython3",
   "version": "3.9.4"
  }
 },
 "nbformat": 4,
 "nbformat_minor": 2
}
