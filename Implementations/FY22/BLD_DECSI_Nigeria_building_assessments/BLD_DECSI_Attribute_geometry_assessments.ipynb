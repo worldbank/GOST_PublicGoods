{
 "cells": [
  {
   "cell_type": "markdown",
   "metadata": {},
   "source": [
    "# Evaluate building completeness\n",
    "\n",
    "In support of an ongoing project in Nigeria, we are investigating and evaluating the results of a building digitization effort. The following analyses will be performed to assess the completeness of the digitization effort.\n",
    "\n",
    "1. Attribute evaluation  \n",
    "   a. ensure variables in verification protocol are present  \n",
    "   b. ensure relationship between parcel owner and building occupants  \n",
    "2. Coverage evaluation  \n",
    "   a. Calculate across the area in a consistently sized grid (250m)  \n",
    "   b. Compare building density to Google Buildings  "
   ]
  },
  {
   "cell_type": "code",
   "execution_count": null,
   "metadata": {},
   "outputs": [],
   "source": [
    "import sys, os, importlib\n",
    "import folium\n",
    "\n",
    "import pandas as pd\n",
    "import geopandas as gpd\n",
    "import GOSTRocks.rasterMisc as rMisc\n",
    "import GOSTRocks.misc as misc\n",
    "\n",
    "from shapely.geometry import Point, box\n",
    "from shapely.wkt import loads\n",
    "\n",
    "from math import ceil\n",
    "import numpy as np\n",
    "from shapely.geometry import Polygon"
   ]
  },
  {
   "cell_type": "code",
   "execution_count": null,
   "metadata": {},
   "outputs": [],
   "source": [
    "in_folder = \"/home/public/Data/COUNTRY/NGA\"\n",
    "out_folder = \"/home/wb411133/projects/NGA_buildings\"\n",
    "if not os.path.exists(out_folder):\n",
    "    os.makedirs(out_folder)\n",
    "in_buildings_file = os.path.join(in_folder, \"Building.shp\")\n",
    "in_parcels_file = os.path.join(in_folder, \"Parcel.shp\")\n",
    "\n",
    "# Define outputs\n",
    "summary_grid = os.path.join(out_folder, f\"NGA_summary_grid_{res}.shp\")\n",
    "\n",
    "# Define paramters\n",
    "crs = 3857\n",
    "m_crs = f'epsg:{crs}' # projection used to calculate metre measurements\n",
    "res = 250 # resolution of \n"
   ]
  },
  {
   "cell_type": "code",
   "execution_count": null,
   "metadata": {},
   "outputs": [],
   "source": [
    "inB = gpd.read_file(in_buildings_file)\n",
    "inP = gpd.read_file(in_parcels_file)\n",
    "\n",
    "b_idx = inB.sindex\n",
    "p_idx = inP.sindex"
   ]
  },
  {
   "cell_type": "markdown",
   "metadata": {},
   "source": [
    "# Calculate general statistics"
   ]
  },
  {
   "cell_type": "code",
   "execution_count": null,
   "metadata": {},
   "outputs": [],
   "source": [
    "print(f'Total number of buildings: {inB.shape[0]}')\n",
    "print(f'Total area of buildings: {inB[\"BLD_SIZE_M\"].sum()}')\n",
    "      \n",
    "print(f'Total number of parcels: {inP.shape[0]}')\n",
    "print(f'Total area of parcels: {inP[\"PARCEL_SIZ\"].sum()}')"
   ]
  },
  {
   "cell_type": "markdown",
   "metadata": {},
   "source": [
    "# Find, downlaod, and process Google Buildings"
   ]
  },
  {
   "cell_type": "code",
   "execution_count": null,
   "metadata": {},
   "outputs": [],
   "source": [
    "# read in the google buildings extents file to determine file to download\n",
    "google_extents = gpd.read_file('/home/public/Data/GLOBAL/Buildings/google_tiles.geojson')\n",
    "sel_extents = google_extents.loc[google_extents.intersects(inB.unary_union)]\n",
    "sel_extents"
   ]
  },
  {
   "cell_type": "code",
   "execution_count": null,
   "metadata": {},
   "outputs": [],
   "source": [
    "# may need to download buildings\n",
    "google_buildings = '/home/public/Data/GLOBAL/Buildings/105_buildings.csv'\n",
    "inG = pd.read_csv(google_buildings)\n",
    "inG.head()"
   ]
  },
  {
   "cell_type": "code",
   "execution_count": null,
   "metadata": {},
   "outputs": [],
   "source": [
    "b = inB.total_bounds\n",
    "selG = inG.loc[(inG['longitude'] > b[0]) & (inG['longitude'] < b[2]) & (inG['latitude'] > b[1]) & (inG['latitude'] < b[3])]"
   ]
  },
  {
   "cell_type": "code",
   "execution_count": null,
   "metadata": {},
   "outputs": [],
   "source": [
    "selG.to_csv(os.path.join(out_folder, \"google_buildings.csv\"))"
   ]
  },
  {
   "cell_type": "code",
   "execution_count": null,
   "metadata": {},
   "outputs": [],
   "source": [
    "g_idx = inG.sindex"
   ]
  },
  {
   "attachments": {},
   "cell_type": "markdown",
   "metadata": {},
   "source": [
    "# Assess attribute completeness\n",
    "1. Size of the parcel (based on polygon)\n",
    "2. **Number of structures in parcel, number of occupancy units**  \n",
    "   a. This is not found in the parcel datasets, but can be calculated.\n",
    "3. The use of each structure and unit\n",
    "4. The name, ID, and contact details for the owner of the parcel, and the owner or occupier of the structure, or unit\n"
   ]
  },
  {
   "cell_type": "code",
   "execution_count": null,
   "metadata": {},
   "outputs": [],
   "source": [
    "inB.head()"
   ]
  },
  {
   "cell_type": "code",
   "execution_count": null,
   "metadata": {},
   "outputs": [],
   "source": [
    "inP.head()"
   ]
  },
  {
   "cell_type": "code",
   "execution_count": null,
   "metadata": {},
   "outputs": [],
   "source": [
    "# Calculate null values in buildings dataset\n",
    "for col in inB.columns:\n",
    "    cur_col = inB.loc[:,col]\n",
    "    print(f'{col}: {cur_col.isna().sum()}')"
   ]
  },
  {
   "cell_type": "code",
   "execution_count": null,
   "metadata": {},
   "outputs": [],
   "source": [
    "# Get count of null valus in STR_NAME grouped by BLD_USE\n",
    "inB.loc[inB['STR_NAME'].isna()]['BLD_USE'].value_counts()"
   ]
  },
  {
   "cell_type": "markdown",
   "metadata": {},
   "source": [
    "# Summarize buildings within a grid\n",
    "\n",
    "Create a 250m grid across the study arera and summarize bulidngs and parcels within"
   ]
  },
  {
   "cell_type": "code",
   "execution_count": null,
   "metadata": {},
   "outputs": [],
   "source": [
    "tempP = inP.to_crs(m_crs)\n",
    "allP = tempP.unary_union"
   ]
  },
  {
   "cell_type": "code",
   "execution_count": null,
   "metadata": {
    "scrolled": true
   },
   "outputs": [],
   "source": [
    "# Generate the grid\n",
    "if not os.path.exists(summary_grid):\n",
    "    cols = list(np.arange(xmin, xmax + gridWidth, gridWidth))\n",
    "    rows = list(np.arange(ymin, ymax + gridHeight, gridHeight))\n",
    "    all_res = []\n",
    "    for x in cols:\n",
    "        for y in rows:\n",
    "            poly = Polygon([(x,y), (x+gridWidth, y), (x+gridWidth, y+gridHeight), (x, y+gridHeight)])\n",
    "            if poly.intersects(allP):\n",
    "                all_res.append([x,y,poly])        \n",
    "    grid = gpd.GeoDataFrame(pd.DataFrame(all_res, columns=['rowIdx', 'colIdx', 'geometry']), geometry='geometry', crs=f'epsg:{crsNum}')\n",
    "    grid.to_file(summary_grid)\n",
    "else:\n",
    "    grid = gpd.read_file(summary_grid)"
   ]
  },
  {
   "cell_type": "code",
   "execution_count": null,
   "metadata": {},
   "outputs": [],
   "source": [
    "if grid.crs != inB.crs:\n",
    "    grid = grid.to_crs(inB.crs)"
   ]
  },
  {
   "cell_type": "code",
   "execution_count": null,
   "metadata": {
    "scrolled": true
   },
   "outputs": [],
   "source": [
    "grid['per_b'] = 0.\n",
    "grid['per_p'] = 0.\n",
    "grid['per_g'] = 0.\n",
    "for idx, row in grid.iterrows():\n",
    "    # identify intersecting buildings \n",
    "    potential_google = inG.loc[list(g_idx.intersection(row['geometry'].bounds))]    \n",
    "    i_g = potential_google.loc[potential_google.intersects(row['geometry'])]\n",
    "    c_g = potential_google.loc[potential_google['geometry'].apply(lambda x: row['geometry'].contains(x))]\n",
    "        \n",
    "    # identify intersecting buildings \n",
    "    potential_buildings = inB.loc[list(b_idx.intersection(row['geometry'].bounds))]    \n",
    "    i_bld = potential_buildings.loc[potential_buildings.intersects(row['geometry'])]\n",
    "    c_bld = potential_buildings.loc[potential_buildings['geometry'].apply(lambda x: row['geometry'].contains(x))]\n",
    "    \n",
    "    # identify intersecting parcels\n",
    "    potential_parcels = inP.loc[list(p_idx.intersection(row['geometry'].bounds))]    \n",
    "    i_par = potential_parcels.loc[potential_parcels.intersects(row['geometry'])]\n",
    "    c_par = potential_parcels.loc[potential_parcels['geometry'].apply(lambda x: row['geometry'].contains(x))]\n",
    "    \n",
    "    # calulate percent parcel and percent built\n",
    "    try:\n",
    "        per_google = row['geometry'].intersection(i_g.unary_union).area/row['geometry'].area\n",
    "    except:\n",
    "        per_building = 0\n",
    "    try:\n",
    "        per_building = row['geometry'].intersection(i_bld.unary_union).area/row['geometry'].area\n",
    "    except:\n",
    "        per_building = 0\n",
    "    try:\n",
    "        per_parcel   = row['geometry'].intersection(i_par.unary_union).area/row['geometry'].area\n",
    "    except:\n",
    "        per_parcel = 0\n",
    "        \n",
    "    grid.loc[idx, 'per_b'] = per_building\n",
    "    grid.loc[idx, 'per_p'] = per_parcel\n",
    "    grid.loc[idx, 'per_g'] = per_google\n",
    "\n",
    "    ''' # uncomment this section to stop the loop add a specific index in order to run plotting below\n",
    "    if idx > 3:\n",
    "        break\n",
    "    '''"
   ]
  },
  {
   "cell_type": "code",
   "execution_count": null,
   "metadata": {},
   "outputs": [],
   "source": [
    "grid.head()"
   ]
  },
  {
   "cell_type": "code",
   "execution_count": null,
   "metadata": {},
   "outputs": [],
   "source": [
    "grid.to_file(summary_grid)"
   ]
  },
  {
   "cell_type": "code",
   "execution_count": null,
   "metadata": {},
   "outputs": [],
   "source": [
    "# Map the most recently looped grid cell\n",
    "m = folium.Map(location=[potential_buildings.unary_union.centroid.y, potential_buildings.unary_union.centroid.x], zoom_start=18)\n",
    "try:\n",
    "    folium.GeoJson(row['geometry'], \n",
    "             style_function=lambda x: {'fillOpacity':0.5, 'fillColor': 'red', 'color':'#520f0a'}).add_to(m)\n",
    "except:\n",
    "    pass\n",
    "try:\n",
    "    folium.GeoJson(i_par.to_json(), \n",
    "               style_function=lambda x: {'fillOpacity':1, 'fillColor': '#6878ed', 'stroke': False}).add_to(m)\n",
    "except:\n",
    "    pass\n",
    "try:\n",
    "    folium.GeoJson(data=i_bld.to_json(), \n",
    "              style_function=lambda x: {'fillOpacity':1,'fillColor': '#ebab15', 'stroke': False}).add_to(m)\n",
    "except:\n",
    "    pass\n",
    "m"
   ]
  },
  {
   "cell_type": "code",
   "execution_count": null,
   "metadata": {},
   "outputs": [],
   "source": []
  },
  {
   "cell_type": "markdown",
   "metadata": {},
   "source": [
    "# RETIRED"
   ]
  },
  {
   "cell_type": "code",
   "execution_count": null,
   "metadata": {},
   "outputs": [],
   "source": [
    "# Summarize buildings in parcels\n",
    "inP['BLDG_I'] = 0\n",
    "inP['BLDG_C'] = 0\n",
    "inP['BLDG_I_G'] = 0\n",
    "inP['BLDG_C_G'] = 0\n",
    "for idx, row in inP.iterrows():\n",
    "    # Summarize collected buildings\n",
    "    potential_buildings = inB.loc[list(b_idx.intersection(row['geometry'].bounds))]\n",
    "    m_bld = potential_buildings.loc[~potential_buildings.intersects(row['geometry'])]\n",
    "    i_bld = potential_buildings.loc[potential_buildings.intersects(row['geometry'])]\n",
    "    c_bld = potential_buildings.loc[potential_buildings['geometry'].apply(lambda x: row['geometry'].contains(x))]    \n",
    "    inP.loc[idx, 'BLDG_I'] = i_bld.shape[0]\n",
    "    inP.loc[idx, 'BLDG_C'] = c_bld.shape[0]\n",
    "    \n",
    "    # Summarize buildings in Google\n",
    "    potential_buildings = inG.loc[list(g_idx.intersection(row['geometry'].bounds))]\n",
    "    m_bld_g = potential_buildings.loc[~potential_buildings.intersects(row['geometry'])]\n",
    "    i_bld_g = potential_buildings.loc[potential_buildings.intersects(row['geometry'])]\n",
    "    c_bld_g = potential_buildings.loc[potential_buildings['geometry'].apply(lambda x: row['geometry'].contains(x))]    \n",
    "    inP.loc[idx, 'BLDG_I_G'] = i_bld_g.shape[0]\n",
    "    inP.loc[idx, 'BLDG_C_G'] = c_bld_g.shape[0]\n",
    "    \n",
    "    ''' # uncomment this section to stop the loop add a specific index in order to run plotting below\n",
    "    if idx > 3:\n",
    "        break\n",
    "    '''"
   ]
  },
  {
   "cell_type": "code",
   "execution_count": null,
   "metadata": {},
   "outputs": [],
   "source": [
    "m = folium.Map(location=[potential_buildings.unary_union.centroid.y, potential_buildings.unary_union.centroid.x], zoom_start=18)\n",
    "try:\n",
    "    folium.GeoJson(row['geometry'], \n",
    "             style_function=lambda x: {'fillOpacity':0.5, 'fillColor': 'red', 'color':'#520f0a'}).add_to(m)\n",
    "except:\n",
    "    pass\n",
    "try:\n",
    "    folium.GeoJson(data=m_bld.to_json(), \n",
    "              style_function=lambda x: {'fillOpacity':1,'fillColor': '#ebab15', 'stroke': False}).add_to(m)\n",
    "except:\n",
    "    pass\n",
    "try:\n",
    "    folium.GeoJson(i_bld.to_json(), \n",
    "               style_function=lambda x: {'fillOpacity':1, 'fillColor': '#6878ed', 'stroke': False}).add_to(m)\n",
    "except:\n",
    "    pass\n",
    "try:\n",
    "    folium.GeoJson(c_bld.to_json(), \n",
    "               style_function=lambda x: {'fillOpacity':1, 'fillColor': '#68ed76', 'stroke': False}).add_to(m)\n",
    "except:\n",
    "    pass\n",
    "\n",
    "try:\n",
    "    folium.GeoJson(data=potential_buildings.to_json(), \n",
    "              style_function=lambda x: {'fillOpacity':0,'fillColor': '#ebab15'}).add_to(m)\n",
    "except:\n",
    "    pass\n",
    "\n",
    "m\n"
   ]
  },
  {
   "cell_type": "code",
   "execution_count": null,
   "metadata": {},
   "outputs": [],
   "source": []
  }
 ],
 "metadata": {
  "kernelspec": {
   "display_name": "Python (geog)",
   "language": "python",
   "name": "geog"
  },
  "language_info": {
   "codemirror_mode": {
    "name": "ipython",
    "version": 3
   },
   "file_extension": ".py",
   "mimetype": "text/x-python",
   "name": "python",
   "nbconvert_exporter": "python",
   "pygments_lexer": "ipython3",
   "version": "3.9.7"
  }
 },
 "nbformat": 4,
 "nbformat_minor": 2
}
