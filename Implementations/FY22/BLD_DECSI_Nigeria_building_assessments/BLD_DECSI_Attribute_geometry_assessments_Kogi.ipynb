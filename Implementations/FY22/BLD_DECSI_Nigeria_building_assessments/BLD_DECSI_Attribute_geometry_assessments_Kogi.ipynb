{
 "cells": [
  {
   "cell_type": "markdown",
   "metadata": {},
   "source": [
    "# Evaluate building completeness\n",
    "\n",
    "In support of an ongoing project in Nigeria, we are investigating and evaluating the results of a building digitization effort. The following analyses will be performed to assess the completeness of the digitization effort.\n",
    "\n",
    "1. Attribute evaluation  \n",
    "   a. ensure variables in verification protocol are present  \n",
    "   b. ensure relationship between parcel owner and building occupants  \n",
    "2. Coverage evaluation  \n",
    "   a. Calculate across the area in a consistently sized grid (250m)  \n",
    "   b. Compare building density to Google Buildings  "
   ]
  },
  {
   "cell_type": "code",
   "execution_count": 1,
   "metadata": {},
   "outputs": [],
   "source": [
    "import sys, os, importlib\n",
    "import folium\n",
    "\n",
    "import pandas as pd\n",
    "import geopandas as gpd\n",
    "import GOSTRocks.rasterMisc as rMisc\n",
    "import GOSTRocks.misc as misc\n",
    "\n",
    "from shapely.geometry import Point, box\n",
    "from shapely.wkt import loads\n",
    "\n",
    "from math import ceil\n",
    "import numpy as np\n",
    "from shapely.geometry import Polygon"
   ]
  },
  {
   "cell_type": "code",
   "execution_count": 2,
   "metadata": {},
   "outputs": [],
   "source": [
    "in_folder =  \"/home/wb411133/projects/NGA_buildings/Kogi/\"\n",
    "out_folder = \"/home/wb411133/projects/NGA_buildings/Kogi/Results\"\n",
    "if not os.path.exists(out_folder):\n",
    "    os.makedirs(out_folder)\n",
    "in_buildings_file = os.path.join(in_folder, \"To Transfer\", \"building footprint_and_roadnetwork\", \"building_footprint.shp\")\n",
    "in_buildings_attr = os.path.join(in_folder, \"BLDG.csv\")\n",
    "in_unit_attr = os.path.join(in_folder, \"APRT.csv\")\n",
    "\n",
    "# Define paramters\n",
    "crs = 3857\n",
    "m_crs = f'epsg:{crs}' # projection used to calculate metre measurements\n",
    "res = 250 # resolution of \n",
    "\n",
    "# Define outputs\n",
    "summary_grid = os.path.join(out_folder, f\"KOGI_summary_grid_{res}.shp\")\n",
    "out_google = os.path.join(out_folder, \"google_buildings.csv\")\n"
   ]
  },
  {
   "cell_type": "code",
   "execution_count": 3,
   "metadata": {},
   "outputs": [],
   "source": [
    "inB = gpd.read_file(in_buildings_file)\n",
    "\n",
    "def broken_geometry(x):\n",
    "    try:\n",
    "        if not x:\n",
    "            return(False)\n",
    "\n",
    "        if not x.is_valid:\n",
    "            return(False)\n",
    "    except:\n",
    "        return(False)\n",
    "    return(True)\n",
    "\n",
    "# Clean proken geometries\n",
    "broken = inB['geometry'].apply(broken_geometry)"
   ]
  },
  {
   "cell_type": "code",
   "execution_count": 4,
   "metadata": {},
   "outputs": [
    {
     "name": "stdout",
     "output_type": "stream",
     "text": [
      "(45424, 8)\n",
      "(45254, 8)\n"
     ]
    }
   ],
   "source": [
    "print(inB.shape)\n",
    "inB = inB.loc[broken]\n",
    "print(inB.shape)\n",
    "\n",
    "# Project to metres\n",
    "wgs_bounds = inB.to_crs('epsg:4326').total_bounds\n",
    "inB = inB.to_crs(m_crs)"
   ]
  },
  {
   "cell_type": "code",
   "execution_count": 8,
   "metadata": {},
   "outputs": [
    {
     "data": {
      "text/plain": [
       "170"
      ]
     },
     "execution_count": 8,
     "metadata": {},
     "output_type": "execute_result"
    }
   ],
   "source": [
    "45424 - 45254"
   ]
  },
  {
   "cell_type": "code",
   "execution_count": 5,
   "metadata": {},
   "outputs": [],
   "source": [
    "inB_attr = pd.read_csv(in_buildings_attr)\n",
    "inB_unit_attr = pd.read_csv(in_unit_attr)"
   ]
  },
  {
   "cell_type": "markdown",
   "metadata": {},
   "source": [
    "# Calculate general statistics"
   ]
  },
  {
   "cell_type": "code",
   "execution_count": null,
   "metadata": {},
   "outputs": [],
   "source": [
    "inB.head()"
   ]
  },
  {
   "cell_type": "code",
   "execution_count": null,
   "metadata": {},
   "outputs": [],
   "source": [
    "print(f'Total number of buildings: {inB.shape[0]}')\n",
    "print(f'Total area of buildings: {inB[\"bldg_size\"].sum()}')"
   ]
  },
  {
   "cell_type": "markdown",
   "metadata": {},
   "source": [
    "# Find, download, and process Google Buildings"
   ]
  },
  {
   "cell_type": "code",
   "execution_count": null,
   "metadata": {
    "scrolled": true
   },
   "outputs": [],
   "source": [
    "if not os.path.exists(out_google):\n",
    "    # read in the google buildings extents file to determine file to download\n",
    "    # google_extents = gpd.read_file('/home/public/Data/GLOBAL/Buildings/google_tiles.geojson')\n",
    "    # sel_extents = google_extents.loc[google_extents.intersects(inB_wgs84.unary_union)]\n",
    "    \n",
    "    # may need to download buildings\n",
    "    google_buildings = '/home/public/Data/GLOBAL/Buildings/105_buildings.csv'\n",
    "    inG = pd.read_csv(google_buildings)\n",
    "    b = wgs_bounds\n",
    "    selG = inG.loc[(inG['longitude'] > b[0]) & (inG['longitude'] < b[2]) & (inG['latitude'] > b[1]) & (inG['latitude'] < b[3])]\n",
    "    selG.to_csv(out_google)\n",
    "    inG = selG\n",
    "else:\n",
    "    inG = pd.read_csv(out_google)"
   ]
  },
  {
   "cell_type": "code",
   "execution_count": null,
   "metadata": {},
   "outputs": [],
   "source": [
    "inG_geom = inG['geometry'].apply(lambda x: loads(x))\n",
    "inG = gpd.GeoDataFrame(inG, geometry=inG_geom, crs=\"epsg:4326\")\n",
    "inG = inG.to_crs(m_crs)"
   ]
  },
  {
   "cell_type": "code",
   "execution_count": null,
   "metadata": {},
   "outputs": [],
   "source": [
    "inG.to_file(os.path.join(out_folder, \"google_buildings_sel.shp\"))"
   ]
  },
  {
   "cell_type": "code",
   "execution_count": null,
   "metadata": {},
   "outputs": [],
   "source": [
    "inB.to_file(os.path.join(out_folder, \"collected_buildings.shp\"))"
   ]
  },
  {
   "cell_type": "code",
   "execution_count": null,
   "metadata": {},
   "outputs": [],
   "source": [
    "inG.head()"
   ]
  },
  {
   "cell_type": "markdown",
   "metadata": {},
   "source": [
    "# Assess attribute completeness\n",
    "1. Size of the parcel (based on polygon)\n",
    "2. **Number of structures in parcel, number of occupancy units**  \n",
    "   a. This is not found in the parcel datasets, but can be calculated.\n",
    "3. The use of each structure and unit\n",
    "4. The name, ID, and contact details for the owner of the parcel, and the owner or occupier of the structure, or unit\n"
   ]
  },
  {
   "cell_type": "code",
   "execution_count": 6,
   "metadata": {},
   "outputs": [
    {
     "data": {
      "text/html": [
       "<div>\n",
       "<style scoped>\n",
       "    .dataframe tbody tr th:only-of-type {\n",
       "        vertical-align: middle;\n",
       "    }\n",
       "\n",
       "    .dataframe tbody tr th {\n",
       "        vertical-align: top;\n",
       "    }\n",
       "\n",
       "    .dataframe thead th {\n",
       "        text-align: right;\n",
       "    }\n",
       "</style>\n",
       "<table border=\"1\" class=\"dataframe\">\n",
       "  <thead>\n",
       "    <tr style=\"text-align: right;\">\n",
       "      <th></th>\n",
       "      <th>sn</th>\n",
       "      <th>entrydate</th>\n",
       "      <th>drainage</th>\n",
       "      <th>road_surface</th>\n",
       "      <th>rd_condition</th>\n",
       "      <th>rd_type</th>\n",
       "      <th>rdcarriage</th>\n",
       "      <th>streetname</th>\n",
       "      <th>the_location</th>\n",
       "      <th>the_area</th>\n",
       "      <th>...</th>\n",
       "      <th>contact_person</th>\n",
       "      <th>contact_email</th>\n",
       "      <th>contact_phone</th>\n",
       "      <th>road_sn</th>\n",
       "      <th>field_officer</th>\n",
       "      <th>agency_id</th>\n",
       "      <th>date_uploaded</th>\n",
       "      <th>coordinates</th>\n",
       "      <th>x_axis</th>\n",
       "      <th>y_axis</th>\n",
       "    </tr>\n",
       "  </thead>\n",
       "  <tbody>\n",
       "    <tr>\n",
       "      <th>0</th>\n",
       "      <td>19</td>\n",
       "      <td>Wed May 19 14:34:11 GMT 2021</td>\n",
       "      <td>Earth</td>\n",
       "      <td>0</td>\n",
       "      <td>Bad</td>\n",
       "      <td>Close</td>\n",
       "      <td>Single Carriage</td>\n",
       "      <td>Na</td>\n",
       "      <td>Zango  Daji</td>\n",
       "      <td>Zango</td>\n",
       "      <td>...</td>\n",
       "      <td>NaN</td>\n",
       "      <td>NaN</td>\n",
       "      <td>NaN</td>\n",
       "      <td>2866</td>\n",
       "      <td>odoma  attah sunday</td>\n",
       "      <td>11</td>\n",
       "      <td>Wed May 19 12:31:06 GMT 2021</td>\n",
       "      <td>7.80910004591279971, 6.6328150590388999</td>\n",
       "      <td>7.809100</td>\n",
       "      <td>6.632815</td>\n",
       "    </tr>\n",
       "    <tr>\n",
       "      <th>1</th>\n",
       "      <td>20</td>\n",
       "      <td>Wed Jun 23 13:09:47 GMT 2021</td>\n",
       "      <td>None</td>\n",
       "      <td>0</td>\n",
       "      <td>Fair</td>\n",
       "      <td>Street</td>\n",
       "      <td>Single Carriage</td>\n",
       "      <td>Unity Community street</td>\n",
       "      <td>500 Housing Unity</td>\n",
       "      <td>Back of Texaco</td>\n",
       "      <td>...</td>\n",
       "      <td>NaN</td>\n",
       "      <td>NaN</td>\n",
       "      <td>NaN</td>\n",
       "      <td>24187</td>\n",
       "      <td>SAMUEL  FAITH</td>\n",
       "      <td>11</td>\n",
       "      <td>Thu Jun 24 11:52:03 GMT 2021</td>\n",
       "      <td>7.74905149741459987, 6.73626764082469975</td>\n",
       "      <td>7.749051</td>\n",
       "      <td>6.736268</td>\n",
       "    </tr>\n",
       "    <tr>\n",
       "      <th>2</th>\n",
       "      <td>21</td>\n",
       "      <td>Thu Jun 10 10:20:36 GMT 2021</td>\n",
       "      <td>Good</td>\n",
       "      <td>0</td>\n",
       "      <td>Fair</td>\n",
       "      <td>Street</td>\n",
       "      <td>Single Carriage</td>\n",
       "      <td>Sub Meme street</td>\n",
       "      <td>Otokiti opposite army barracks</td>\n",
       "      <td>Otokiti housing estate</td>\n",
       "      <td>...</td>\n",
       "      <td>NaN</td>\n",
       "      <td>NaN</td>\n",
       "      <td>NaN</td>\n",
       "      <td>24680</td>\n",
       "      <td>aaze  aishat</td>\n",
       "      <td>11</td>\n",
       "      <td>Thu Jun 10 10:27:12 GMT 2021</td>\n",
       "      <td>7.80685855298460041, 6.66841536887259956</td>\n",
       "      <td>7.806859</td>\n",
       "      <td>6.668415</td>\n",
       "    </tr>\n",
       "    <tr>\n",
       "      <th>3</th>\n",
       "      <td>22</td>\n",
       "      <td>Thu Jun 24 11:49:00 GMT 2021</td>\n",
       "      <td>None</td>\n",
       "      <td>0</td>\n",
       "      <td>Bad</td>\n",
       "      <td>Street</td>\n",
       "      <td>Single Carriage</td>\n",
       "      <td>Destine Star ministry</td>\n",
       "      <td>Ganaja</td>\n",
       "      <td>Ganaja</td>\n",
       "      <td>...</td>\n",
       "      <td>NaN</td>\n",
       "      <td>NaN</td>\n",
       "      <td>NaN</td>\n",
       "      <td>242173</td>\n",
       "      <td>SHAIBU  ABDULLAHI</td>\n",
       "      <td>11</td>\n",
       "      <td>Thu Jun 24 11:57:46 GMT 2021</td>\n",
       "      <td>7.74655708436729995, 6.7370398818885997</td>\n",
       "      <td>7.746557</td>\n",
       "      <td>6.737040</td>\n",
       "    </tr>\n",
       "    <tr>\n",
       "      <th>4</th>\n",
       "      <td>23</td>\n",
       "      <td>Thu Jun 17 09:47:22 GMT 2021</td>\n",
       "      <td>Damaged</td>\n",
       "      <td>0</td>\n",
       "      <td>Fair</td>\n",
       "      <td>Street</td>\n",
       "      <td>Single Carriage</td>\n",
       "      <td>Street o3</td>\n",
       "      <td>Otokiti estate</td>\n",
       "      <td>Otokiti</td>\n",
       "      <td>...</td>\n",
       "      <td>NaN</td>\n",
       "      <td>NaN</td>\n",
       "      <td>NaN</td>\n",
       "      <td>241866</td>\n",
       "      <td>Danladi  Garba</td>\n",
       "      <td>11</td>\n",
       "      <td>Thu Jun 17 10:03:30 GMT 2021</td>\n",
       "      <td>7.80505193702270006, 6.6873732072102996</td>\n",
       "      <td>7.805052</td>\n",
       "      <td>6.687373</td>\n",
       "    </tr>\n",
       "  </tbody>\n",
       "</table>\n",
       "<p>5 rows × 34 columns</p>\n",
       "</div>"
      ],
      "text/plain": [
       "   sn                     entrydate drainage  road_surface rd_condition  \\\n",
       "0  19  Wed May 19 14:34:11 GMT 2021    Earth             0          Bad   \n",
       "1  20  Wed Jun 23 13:09:47 GMT 2021     None             0         Fair   \n",
       "2  21  Thu Jun 10 10:20:36 GMT 2021     Good             0         Fair   \n",
       "3  22  Thu Jun 24 11:49:00 GMT 2021     None             0          Bad   \n",
       "4  23  Thu Jun 17 09:47:22 GMT 2021  Damaged             0         Fair   \n",
       "\n",
       "  rd_type       rdcarriage              streetname  \\\n",
       "0   Close  Single Carriage                      Na   \n",
       "1  Street  Single Carriage  Unity Community street   \n",
       "2  Street  Single Carriage         Sub Meme street   \n",
       "3  Street  Single Carriage   Destine Star ministry   \n",
       "4  Street  Single Carriage               Street o3   \n",
       "\n",
       "                     the_location                the_area  ... contact_person  \\\n",
       "0                     Zango  Daji                   Zango  ...            NaN   \n",
       "1               500 Housing Unity          Back of Texaco  ...            NaN   \n",
       "2  Otokiti opposite army barracks  Otokiti housing estate  ...            NaN   \n",
       "3                          Ganaja                  Ganaja  ...            NaN   \n",
       "4                  Otokiti estate                 Otokiti  ...            NaN   \n",
       "\n",
       "  contact_email  contact_phone  road_sn        field_officer agency_id  \\\n",
       "0           NaN            NaN     2866  odoma  attah sunday        11   \n",
       "1           NaN            NaN    24187        SAMUEL  FAITH        11   \n",
       "2           NaN            NaN    24680         aaze  aishat        11   \n",
       "3           NaN            NaN   242173    SHAIBU  ABDULLAHI        11   \n",
       "4           NaN            NaN   241866       Danladi  Garba        11   \n",
       "\n",
       "                  date_uploaded                               coordinates  \\\n",
       "0  Wed May 19 12:31:06 GMT 2021   7.80910004591279971, 6.6328150590388999   \n",
       "1  Thu Jun 24 11:52:03 GMT 2021  7.74905149741459987, 6.73626764082469975   \n",
       "2  Thu Jun 10 10:27:12 GMT 2021  7.80685855298460041, 6.66841536887259956   \n",
       "3  Thu Jun 24 11:57:46 GMT 2021   7.74655708436729995, 6.7370398818885997   \n",
       "4  Thu Jun 17 10:03:30 GMT 2021   7.80505193702270006, 6.6873732072102996   \n",
       "\n",
       "     x_axis    y_axis  \n",
       "0  7.809100  6.632815  \n",
       "1  7.749051  6.736268  \n",
       "2  7.806859  6.668415  \n",
       "3  7.746557  6.737040  \n",
       "4  7.805052  6.687373  \n",
       "\n",
       "[5 rows x 34 columns]"
      ]
     },
     "execution_count": 6,
     "metadata": {},
     "output_type": "execute_result"
    }
   ],
   "source": [
    "inB_attr.head()"
   ]
  },
  {
   "cell_type": "code",
   "execution_count": 7,
   "metadata": {
    "scrolled": true
   },
   "outputs": [
    {
     "name": "stdout",
     "output_type": "stream",
     "text": [
      "sn: 0\n",
      "entrydate: 0\n",
      "drainage: 0\n",
      "road_surface: 0\n",
      "rd_condition: 0\n",
      "rd_type: 0\n",
      "rdcarriage: 0\n",
      "streetname: 69\n",
      "the_location: 0\n",
      "the_area: 0\n",
      "the_lga: 0\n",
      "thestate: 0\n",
      "thestateid: 0\n",
      "Unnamed: 13: 42963\n",
      "bsn: 3\n",
      "type_of_owner: 0\n",
      "part_occupied: 0\n",
      "site_condi,C,254: 0\n",
      "bldg_type: 0\n",
      "electrification: 0\n",
      "no_of_floors: 0\n",
      "water_supply: 0\n",
      "refuse_disposal: 0\n",
      "no_of_bq: 0\n",
      "contact_person: 42963\n",
      "contact_email: 42963\n",
      "contact_phone: 42963\n",
      "road_sn: 0\n",
      "field_officer: 1\n",
      "agency_id: 0\n",
      "date_uploaded: 0\n",
      "coordinates: 0\n",
      "x_axis: 0\n",
      "y_axis: 0\n"
     ]
    }
   ],
   "source": [
    "# Calculate null values in buildings dataset\n",
    "for col in inB_attr.columns:\n",
    "    cur_col = inB_attr.loc[:,col]\n",
    "    print(f'{col}: {cur_col.isna().sum()}')"
   ]
  },
  {
   "cell_type": "code",
   "execution_count": 9,
   "metadata": {},
   "outputs": [
    {
     "name": "stdout",
     "output_type": "stream",
     "text": [
      "entityid: 0\n",
      "prycategory: 0\n",
      "secategory: 2\n",
      "contactperson: 23052\n",
      "contactemail: 23052\n",
      "contactphone: 23052\n",
      "meter_available: 0\n",
      "meter_type: 0\n",
      "meter_condition: 0\n",
      "meternumber: 23052\n",
      "signage: 0\n",
      "photopath: 23052\n",
      "entity_name: 1188\n",
      "bsn: 3953\n",
      "fieldofficer_id: 23052\n"
     ]
    }
   ],
   "source": [
    "for col in inB_unit_attr.columns:\n",
    "    cur_col = inB_unit_attr.loc[:,col]\n",
    "    print(f'{col}: {cur_col.isna().sum()}')"
   ]
  },
  {
   "cell_type": "markdown",
   "metadata": {},
   "source": [
    "# Summarize buildings within a grid\n",
    "\n",
    "Create a 250m grid across the study arera and summarize bulidngs and parcels within"
   ]
  },
  {
   "cell_type": "code",
   "execution_count": null,
   "metadata": {},
   "outputs": [],
   "source": [
    "grid.head()"
   ]
  },
  {
   "cell_type": "code",
   "execution_count": null,
   "metadata": {},
   "outputs": [],
   "source": [
    "if grid.crs != inB.crs:\n",
    "    grid = grid.to_crs(inB.crs)\n",
    "    \n",
    "if inG.crs != inB.crs:\n",
    "    inG = inG.to_crs(inB.crs)\n"
   ]
  },
  {
   "cell_type": "code",
   "execution_count": null,
   "metadata": {},
   "outputs": [],
   "source": [
    "dir(inG.sindex)"
   ]
  },
  {
   "cell_type": "code",
   "execution_count": null,
   "metadata": {},
   "outputs": [],
   "source": [
    "inB.shape"
   ]
  },
  {
   "cell_type": "code",
   "execution_count": null,
   "metadata": {},
   "outputs": [],
   "source": [
    "g_idx = inG.sindex\n",
    "b_idx = inB.sindex"
   ]
  },
  {
   "cell_type": "code",
   "execution_count": null,
   "metadata": {
    "scrolled": true
   },
   "outputs": [],
   "source": [
    "grid['per_b'] = 0.\n",
    "grid['per_p'] = 0.\n",
    "grid['per_g'] = 0.\n",
    "for idx, row in grid.iterrows():\n",
    "    print(idx)\n",
    "    # identify intersecting google buildings \n",
    "    potential_google = inG.loc[list(g_idx.intersection(row['geometry'].bounds))]    \n",
    "    i_g = potential_google.loc[potential_google.intersects(row['geometry'])]\n",
    "    c_g = potential_google.loc[potential_google['geometry'].apply(lambda x: row['geometry'].contains(x))]\n",
    "        \n",
    "    # identify intersecting buildings \n",
    "    potential_buildings = inB.loc[inB.intersects(row['geometry'])]    \n",
    "    i_bld = potential_buildings.loc[potential_buildings.intersects(row['geometry'])]\n",
    "    c_bld = potential_buildings.loc[potential_buildings['geometry'].apply(lambda x: row['geometry'].contains(x))]\n",
    "    \n",
    "    # calulate percent building\n",
    "    try:\n",
    "        per_google = row['geometry'].intersection(i_g.unary_union).area/row['geometry'].area\n",
    "    except:\n",
    "        per_google = 0\n",
    "    try:\n",
    "        per_building = row['geometry'].intersection(i_bld.unary_union).area/row['geometry'].area\n",
    "    except:\n",
    "        per_building = 0\n",
    "        \n",
    "    grid.loc[idx, 'per_b'] = per_building    \n",
    "    grid.loc[idx, 'per_g'] = per_google\n",
    "\n",
    "    # uncomment this section to stop the loop add a specific index in order to run plotting below\n",
    "    # if idx > 3 and potential_buildings.shape[0] > 0:\n",
    "    #    break\n",
    "    "
   ]
  },
  {
   "cell_type": "code",
   "execution_count": null,
   "metadata": {},
   "outputs": [],
   "source": [
    "grid.to_file(summary_grid)"
   ]
  },
  {
   "cell_type": "code",
   "execution_count": null,
   "metadata": {},
   "outputs": [],
   "source": [
    "# Map the most recently looped grid cell\n",
    "m = folium.Map(location=[potential_buildings.unary_union.centroid.y, potential_buildings.unary_union.centroid.x], zoom_start=18)\n",
    "try:\n",
    "    folium.GeoJson(row['geometry'], \n",
    "             style_function=lambda x: {'fillOpacity':0.5, 'fillColor': 'red', 'color':'#520f0a'}).add_to(m)\n",
    "except:\n",
    "    pass\n",
    "try:\n",
    "    folium.GeoJson(i_par.to_json(), \n",
    "               style_function=lambda x: {'fillOpacity':1, 'fillColor': '#6878ed', 'stroke': False}).add_to(m)\n",
    "except:\n",
    "    pass\n",
    "try:\n",
    "    folium.GeoJson(data=i_bld.to_json(), \n",
    "              style_function=lambda x: {'fillOpacity':1,'fillColor': '#ebab15', 'stroke': False}).add_to(m)\n",
    "except:\n",
    "    pass\n",
    "m"
   ]
  },
  {
   "cell_type": "code",
   "execution_count": null,
   "metadata": {},
   "outputs": [],
   "source": [
    "inB.total_bounds"
   ]
  },
  {
   "cell_type": "code",
   "execution_count": null,
   "metadata": {},
   "outputs": [],
   "source": [
    "b_idx.bounds"
   ]
  },
  {
   "cell_type": "markdown",
   "metadata": {},
   "source": [
    "# RETIRED"
   ]
  },
  {
   "cell_type": "code",
   "execution_count": null,
   "metadata": {},
   "outputs": [],
   "source": [
    "# Summarize buildings in parcels\n",
    "inP['BLDG_I'] = 0\n",
    "inP['BLDG_C'] = 0\n",
    "inP['BLDG_I_G'] = 0\n",
    "inP['BLDG_C_G'] = 0\n",
    "for idx, row in inP.iterrows():\n",
    "    # Summarize collected buildings\n",
    "    potential_buildings = inB.loc[list(b_idx.intersection(row['geometry'].bounds))]\n",
    "    m_bld = potential_buildings.loc[~potential_buildings.intersects(row['geometry'])]\n",
    "    i_bld = potential_buildings.loc[potential_buildings.intersects(row['geometry'])]\n",
    "    c_bld = potential_buildings.loc[potential_buildings['geometry'].apply(lambda x: row['geometry'].contains(x))]    \n",
    "    inP.loc[idx, 'BLDG_I'] = i_bld.shape[0]\n",
    "    inP.loc[idx, 'BLDG_C'] = c_bld.shape[0]\n",
    "    \n",
    "    # Summarize buildings in Google\n",
    "    potential_buildings = inG.loc[list(g_idx.intersection(row['geometry'].bounds))]\n",
    "    m_bld_g = potential_buildings.loc[~potential_buildings.intersects(row['geometry'])]\n",
    "    i_bld_g = potential_buildings.loc[potential_buildings.intersects(row['geometry'])]\n",
    "    c_bld_g = potential_buildings.loc[potential_buildings['geometry'].apply(lambda x: row['geometry'].contains(x))]    \n",
    "    inP.loc[idx, 'BLDG_I_G'] = i_bld_g.shape[0]\n",
    "    inP.loc[idx, 'BLDG_C_G'] = c_bld_g.shape[0]\n",
    "    \n",
    "    ''' # uncomment this section to stop the loop add a specific index in order to run plotting below\n",
    "    if idx > 3:\n",
    "        break\n",
    "    '''"
   ]
  },
  {
   "cell_type": "code",
   "execution_count": null,
   "metadata": {},
   "outputs": [],
   "source": [
    "m = folium.Map(location=[potential_buildings.unary_union.centroid.y, potential_buildings.unary_union.centroid.x], zoom_start=18)\n",
    "try:\n",
    "    folium.GeoJson(row['geometry'], \n",
    "             style_function=lambda x: {'fillOpacity':0.5, 'fillColor': 'red', 'color':'#520f0a'}).add_to(m)\n",
    "except:\n",
    "    pass\n",
    "try:\n",
    "    folium.GeoJson(data=m_bld.to_json(), \n",
    "              style_function=lambda x: {'fillOpacity':1,'fillColor': '#ebab15', 'stroke': False}).add_to(m)\n",
    "except:\n",
    "    pass\n",
    "try:\n",
    "    folium.GeoJson(i_bld.to_json(), \n",
    "               style_function=lambda x: {'fillOpacity':1, 'fillColor': '#6878ed', 'stroke': False}).add_to(m)\n",
    "except:\n",
    "    pass\n",
    "try:\n",
    "    folium.GeoJson(c_bld.to_json(), \n",
    "               style_function=lambda x: {'fillOpacity':1, 'fillColor': '#68ed76', 'stroke': False}).add_to(m)\n",
    "except:\n",
    "    pass\n",
    "\n",
    "try:\n",
    "    folium.GeoJson(data=potential_buildings.to_json(), \n",
    "              style_function=lambda x: {'fillOpacity':0,'fillColor': '#ebab15'}).add_to(m)\n",
    "except:\n",
    "    pass\n",
    "\n",
    "m\n"
   ]
  },
  {
   "cell_type": "code",
   "execution_count": null,
   "metadata": {},
   "outputs": [],
   "source": []
  }
 ],
 "metadata": {
  "kernelspec": {
   "display_name": "Python (geog)",
   "language": "python",
   "name": "geog"
  },
  "language_info": {
   "codemirror_mode": {
    "name": "ipython",
    "version": 3
   },
   "file_extension": ".py",
   "mimetype": "text/x-python",
   "name": "python",
   "nbconvert_exporter": "python",
   "pygments_lexer": "ipython3",
   "version": "3.9.7"
  }
 },
 "nbformat": 4,
 "nbformat_minor": 2
}
