{
 "cells": [
  {
   "cell_type": "markdown",
   "metadata": {},
   "source": [
    "# Evaluate building completeness\n",
    "\n",
    "In support of an ongoing project in Nigeria, we are investigating and evaluating the results of a building digitization effort. The following analyses will be performed to assess the completeness of the digitization effort.\n",
    "\n",
    "1. Attribute evaluation  \n",
    "   a. ensure variables in verification protocol are present  \n",
    "   b. ensure relationship between parcel owner and building occupants  \n",
    "2. Coverage evaluation  \n",
    "   a. Calculate across the area in a consistently sized grid (250m)  \n",
    "   b. Compare building density to Google Buildings  "
   ]
  },
  {
   "cell_type": "code",
   "execution_count": 12,
   "metadata": {},
   "outputs": [
    {
     "name": "stdout",
     "output_type": "stream",
     "text": [
      "The autoreload extension is already loaded. To reload it, use:\n",
      "  %reload_ext autoreload\n"
     ]
    }
   ],
   "source": [
    "import sys, os, importlib\n",
    "import folium, fiona\n",
    "\n",
    "import pandas as pd\n",
    "import geopandas as gpd\n",
    "\n",
    "sys.path.append(r\"C:\\WBG\\Work\\Code\\gostrocks\\src\")\n",
    "import GOSTRocks.rasterMisc as rMisc\n",
    "import GOSTRocks.misc as misc\n",
    "\n",
    "from shapely.geometry import Point, box\n",
    "from shapely.wkt import loads\n",
    "\n",
    "from math import ceil\n",
    "import numpy as np\n",
    "from shapely.geometry import Polygon\n",
    "\n",
    "import bldg_helper as helper\n",
    "\n",
    "%load_ext autoreload\n",
    "%autoreload 2"
   ]
  },
  {
   "cell_type": "code",
   "execution_count": 9,
   "metadata": {},
   "outputs": [],
   "source": [
    "in_folder = r\"C:\\WBG\\Work\\NGA_buildings\\Kogi\"\n",
    "out_folder = os.path.join(in_folder, \"Results\")\n",
    "if not os.path.exists(out_folder):\n",
    "    os.makedirs(out_folder)\n",
    "in_buildings_file = os.path.join(in_folder, \"To Transfer\", \"building footprint_and_roadnetwork\", \"building_footprint.shp\")\n",
    "in_buildings_attr = os.path.join(in_folder, \"BLDG.csv\")\n",
    "in_unit_attr = os.path.join(in_folder, \"APRT.csv\")\n",
    "in_aoi = os.path.join(os.path.dirname(in_folder), 'NGA_buildings_aois.shp')\n",
    "in_da = os.path.join(os.path.dirname(in_folder), \"NGA_buildings_merge.shp\")\n",
    "\n",
    "# Define paramters\n",
    "crs = 3857\n",
    "m_crs = f'epsg:{crs}' # projection used to calculate metre measurements\n",
    "res = 250 # resolution of \n",
    "\n",
    "# Define outputs\n",
    "summary_grid = os.path.join(out_folder, f\"KOGI_summary_grid_{res}.shp\")\n",
    "da_buildings = os.path.join(out_folder, \"da_buildings.shp\")\n"
   ]
  },
  {
   "cell_type": "code",
   "execution_count": 3,
   "metadata": {},
   "outputs": [],
   "source": [
    "inB = gpd.read_file(in_buildings_file)\n",
    "\n",
    "def broken_geometry(x):\n",
    "    try:\n",
    "        if not x:\n",
    "            return(False)\n",
    "\n",
    "        if not x.is_valid:\n",
    "            return(False)\n",
    "    except:\n",
    "        return(False)\n",
    "    return(True)\n",
    "\n",
    "# Clean proken geometries\n",
    "broken = inB['geometry'].apply(broken_geometry)"
   ]
  },
  {
   "cell_type": "code",
   "execution_count": 4,
   "metadata": {},
   "outputs": [
    {
     "name": "stdout",
     "output_type": "stream",
     "text": [
      "(45424, 8)\n",
      "(45254, 8)\n"
     ]
    }
   ],
   "source": [
    "print(inB.shape)\n",
    "inB = inB.loc[broken]\n",
    "print(inB.shape)\n",
    "\n",
    "# Project to metres\n",
    "wgs_bounds = inB.to_crs('epsg:4326').total_bounds\n",
    "inB = inB.to_crs(m_crs)"
   ]
  },
  {
   "cell_type": "code",
   "execution_count": 5,
   "metadata": {},
   "outputs": [
    {
     "data": {
      "text/plain": [
       "170"
      ]
     },
     "execution_count": 5,
     "metadata": {},
     "output_type": "execute_result"
    }
   ],
   "source": [
    "45424 - 45254"
   ]
  },
  {
   "cell_type": "code",
   "execution_count": 6,
   "metadata": {},
   "outputs": [],
   "source": [
    "inB_attr = pd.read_csv(in_buildings_attr)\n",
    "inB_unit_attr = pd.read_csv(in_unit_attr)"
   ]
  },
  {
   "cell_type": "code",
   "execution_count": 10,
   "metadata": {},
   "outputs": [
    {
     "data": {
      "text/html": [
       "<div>\n",
       "<style scoped>\n",
       "    .dataframe tbody tr th:only-of-type {\n",
       "        vertical-align: middle;\n",
       "    }\n",
       "\n",
       "    .dataframe tbody tr th {\n",
       "        vertical-align: top;\n",
       "    }\n",
       "\n",
       "    .dataframe thead th {\n",
       "        text-align: right;\n",
       "    }\n",
       "</style>\n",
       "<table border=\"1\" class=\"dataframe\">\n",
       "  <thead>\n",
       "    <tr style=\"text-align: right;\">\n",
       "      <th></th>\n",
       "      <th>id</th>\n",
       "      <th>Name</th>\n",
       "      <th>geometry</th>\n",
       "    </tr>\n",
       "  </thead>\n",
       "  <tbody>\n",
       "    <tr>\n",
       "      <th>5</th>\n",
       "      <td>6.0</td>\n",
       "      <td>Kogi</td>\n",
       "      <td>POLYGON ((6.70645 7.88021, 6.72504 7.87468, 6....</td>\n",
       "    </tr>\n",
       "  </tbody>\n",
       "</table>\n",
       "</div>"
      ],
      "text/plain": [
       "    id  Name                                           geometry\n",
       "5  6.0  Kogi  POLYGON ((6.70645 7.88021, 6.72504 7.87468, 6...."
      ]
     },
     "execution_count": 10,
     "metadata": {},
     "output_type": "execute_result"
    }
   ],
   "source": [
    "inAOI = gpd.read_file(in_aoi)\n",
    "inAOI = inAOI.loc[inAOI['Name'].apply(lambda x: \"Kogi\" in x)]\n",
    "inAOI"
   ]
  },
  {
   "cell_type": "markdown",
   "metadata": {},
   "source": [
    "# Calculate general statistics"
   ]
  },
  {
   "cell_type": "code",
   "execution_count": 7,
   "metadata": {},
   "outputs": [
    {
     "data": {
      "text/html": [
       "<div>\n",
       "<style scoped>\n",
       "    .dataframe tbody tr th:only-of-type {\n",
       "        vertical-align: middle;\n",
       "    }\n",
       "\n",
       "    .dataframe tbody tr th {\n",
       "        vertical-align: top;\n",
       "    }\n",
       "\n",
       "    .dataframe thead th {\n",
       "        text-align: right;\n",
       "    }\n",
       "</style>\n",
       "<table border=\"1\" class=\"dataframe\">\n",
       "  <thead>\n",
       "    <tr style=\"text-align: right;\">\n",
       "      <th></th>\n",
       "      <th>gid</th>\n",
       "      <th>id</th>\n",
       "      <th>bldg_no</th>\n",
       "      <th>status</th>\n",
       "      <th>bsn</th>\n",
       "      <th>bldg_size</th>\n",
       "      <th>new_bsn</th>\n",
       "      <th>geometry</th>\n",
       "    </tr>\n",
       "  </thead>\n",
       "  <tbody>\n",
       "    <tr>\n",
       "      <th>0</th>\n",
       "      <td>66</td>\n",
       "      <td>None</td>\n",
       "      <td>81.0</td>\n",
       "      <td>None</td>\n",
       "      <td>66</td>\n",
       "      <td>35.685</td>\n",
       "      <td>2466</td>\n",
       "      <td>POLYGON ((750544.870 865634.261, 750553.408 86...</td>\n",
       "    </tr>\n",
       "    <tr>\n",
       "      <th>1</th>\n",
       "      <td>119</td>\n",
       "      <td>None</td>\n",
       "      <td>134.0</td>\n",
       "      <td>None</td>\n",
       "      <td>119</td>\n",
       "      <td>42.213</td>\n",
       "      <td>24119</td>\n",
       "      <td>POLYGON ((744531.665 871789.611, 744528.157 87...</td>\n",
       "    </tr>\n",
       "    <tr>\n",
       "      <th>3</th>\n",
       "      <td>557</td>\n",
       "      <td>None</td>\n",
       "      <td>572.0</td>\n",
       "      <td>None</td>\n",
       "      <td>557</td>\n",
       "      <td>114.241</td>\n",
       "      <td>24557</td>\n",
       "      <td>POLYGON ((743322.141 871521.198, 743330.409 87...</td>\n",
       "    </tr>\n",
       "    <tr>\n",
       "      <th>4</th>\n",
       "      <td>596</td>\n",
       "      <td>None</td>\n",
       "      <td>611.0</td>\n",
       "      <td>None</td>\n",
       "      <td>596</td>\n",
       "      <td>48.304</td>\n",
       "      <td>24596</td>\n",
       "      <td>POLYGON ((743458.970 871449.642, 743465.316 87...</td>\n",
       "    </tr>\n",
       "    <tr>\n",
       "      <th>5</th>\n",
       "      <td>664</td>\n",
       "      <td>None</td>\n",
       "      <td>679.0</td>\n",
       "      <td>None</td>\n",
       "      <td>664</td>\n",
       "      <td>248.655</td>\n",
       "      <td>24664</td>\n",
       "      <td>POLYGON ((743197.603 871232.358, 743218.967 87...</td>\n",
       "    </tr>\n",
       "  </tbody>\n",
       "</table>\n",
       "</div>"
      ],
      "text/plain": [
       "   gid    id  bldg_no status  bsn  bldg_size  new_bsn  \\\n",
       "0   66  None     81.0   None   66     35.685     2466   \n",
       "1  119  None    134.0   None  119     42.213    24119   \n",
       "3  557  None    572.0   None  557    114.241    24557   \n",
       "4  596  None    611.0   None  596     48.304    24596   \n",
       "5  664  None    679.0   None  664    248.655    24664   \n",
       "\n",
       "                                            geometry  \n",
       "0  POLYGON ((750544.870 865634.261, 750553.408 86...  \n",
       "1  POLYGON ((744531.665 871789.611, 744528.157 87...  \n",
       "3  POLYGON ((743322.141 871521.198, 743330.409 87...  \n",
       "4  POLYGON ((743458.970 871449.642, 743465.316 87...  \n",
       "5  POLYGON ((743197.603 871232.358, 743218.967 87...  "
      ]
     },
     "execution_count": 7,
     "metadata": {},
     "output_type": "execute_result"
    }
   ],
   "source": [
    "inB.head()"
   ]
  },
  {
   "cell_type": "code",
   "execution_count": 8,
   "metadata": {},
   "outputs": [
    {
     "name": "stdout",
     "output_type": "stream",
     "text": [
      "Total number of buildings: 45254\n",
      "Total area of buildings: 7180622.51\n"
     ]
    }
   ],
   "source": [
    "print(f'Total number of buildings: {inB.shape[0]}')\n",
    "print(f'Total area of buildings: {inB[\"bldg_size\"].sum()}')"
   ]
  },
  {
   "cell_type": "markdown",
   "metadata": {},
   "source": [
    "# Extract and process Digitize Africa buildings"
   ]
  },
  {
   "cell_type": "code",
   "execution_count": 13,
   "metadata": {},
   "outputs": [
    {
     "ename": "NameError",
     "evalue": "name 'm_crs' is not defined",
     "output_type": "error",
     "traceback": [
      "\u001b[1;31m---------------------------------------------------------------------------\u001b[0m",
      "\u001b[1;31mNameError\u001b[0m                                 Traceback (most recent call last)",
      "\u001b[1;32m~\\AppData\\Local\\Temp/ipykernel_3244/985026250.py\u001b[0m in \u001b[0;36m<module>\u001b[1;34m\u001b[0m\n\u001b[0;32m      1\u001b[0m \u001b[1;32mif\u001b[0m \u001b[1;32mnot\u001b[0m \u001b[0mos\u001b[0m\u001b[1;33m.\u001b[0m\u001b[0mpath\u001b[0m\u001b[1;33m.\u001b[0m\u001b[0mexists\u001b[0m\u001b[1;33m(\u001b[0m\u001b[0mda_buildings\u001b[0m\u001b[1;33m)\u001b[0m\u001b[1;33m:\u001b[0m\u001b[1;33m\u001b[0m\u001b[1;33m\u001b[0m\u001b[0m\n\u001b[1;32m----> 2\u001b[1;33m     \u001b[0minDA\u001b[0m \u001b[1;33m=\u001b[0m \u001b[0mhelper\u001b[0m\u001b[1;33m.\u001b[0m\u001b[0mextract_da_buildings\u001b[0m\u001b[1;33m(\u001b[0m\u001b[0minAOI\u001b[0m\u001b[1;33m,\u001b[0m \u001b[0min_da\u001b[0m\u001b[1;33m,\u001b[0m \u001b[0mm_crs\u001b[0m\u001b[1;33m)\u001b[0m\u001b[1;33m\u001b[0m\u001b[1;33m\u001b[0m\u001b[0m\n\u001b[0m\u001b[0;32m      3\u001b[0m     \u001b[0minDA\u001b[0m\u001b[1;33m.\u001b[0m\u001b[0mto_file\u001b[0m\u001b[1;33m(\u001b[0m\u001b[0mda_buildings\u001b[0m\u001b[1;33m)\u001b[0m\u001b[1;33m\u001b[0m\u001b[1;33m\u001b[0m\u001b[0m\n\u001b[0;32m      4\u001b[0m \u001b[1;32melse\u001b[0m\u001b[1;33m:\u001b[0m\u001b[1;33m\u001b[0m\u001b[1;33m\u001b[0m\u001b[0m\n\u001b[0;32m      5\u001b[0m     \u001b[0minDA\u001b[0m \u001b[1;33m=\u001b[0m \u001b[0mgpd\u001b[0m\u001b[1;33m.\u001b[0m\u001b[0mread_file\u001b[0m\u001b[1;33m(\u001b[0m\u001b[0mda_buildings\u001b[0m\u001b[1;33m)\u001b[0m\u001b[1;33m\u001b[0m\u001b[1;33m\u001b[0m\u001b[0m\n",
      "\u001b[1;32mC:\\WBG\\Work\\Code\\GOST_PublicGoods\\Implementations\\FY22\\BLD_DECSI_Nigeria_building_assessments\\bldg_helper.py\u001b[0m in \u001b[0;36mextract_da_buildings\u001b[1;34m(inAOI, in_da, out_crs)\u001b[0m\n\u001b[0;32m     30\u001b[0m     \u001b[0mpotential_da\u001b[0m \u001b[1;33m=\u001b[0m \u001b[0mall_da\u001b[0m\u001b[1;33m.\u001b[0m\u001b[0mloc\u001b[0m\u001b[1;33m[\u001b[0m\u001b[0mlist\u001b[0m\u001b[1;33m(\u001b[0m\u001b[0mallda_idx\u001b[0m\u001b[1;33m.\u001b[0m\u001b[0mintersection\u001b[0m\u001b[1;33m(\u001b[0m\u001b[0minAOI\u001b[0m\u001b[1;33m.\u001b[0m\u001b[0mtotal_bounds\u001b[0m\u001b[1;33m)\u001b[0m\u001b[1;33m)\u001b[0m\u001b[1;33m]\u001b[0m\u001b[1;33m\u001b[0m\u001b[1;33m\u001b[0m\u001b[0m\n\u001b[0;32m     31\u001b[0m     \u001b[0msel_da\u001b[0m \u001b[1;33m=\u001b[0m \u001b[0mpotential_da\u001b[0m\u001b[1;33m.\u001b[0m\u001b[0mloc\u001b[0m\u001b[1;33m[\u001b[0m\u001b[0mpotential_da\u001b[0m\u001b[1;33m[\u001b[0m\u001b[1;34m'geometry'\u001b[0m\u001b[1;33m]\u001b[0m\u001b[1;33m.\u001b[0m\u001b[0mapply\u001b[0m\u001b[1;33m(\u001b[0m\u001b[1;32mlambda\u001b[0m \u001b[0mx\u001b[0m\u001b[1;33m:\u001b[0m \u001b[0mx\u001b[0m\u001b[1;33m.\u001b[0m\u001b[0mintersects\u001b[0m \u001b[1;33m(\u001b[0m\u001b[0minAOI\u001b[0m\u001b[1;33m.\u001b[0m\u001b[0munary_union\u001b[0m\u001b[1;33m)\u001b[0m\u001b[1;33m)\u001b[0m\u001b[1;33m]\u001b[0m\u001b[1;33m\u001b[0m\u001b[1;33m\u001b[0m\u001b[0m\n\u001b[1;32m---> 32\u001b[1;33m     \u001b[0msel_da\u001b[0m \u001b[1;33m=\u001b[0m \u001b[0msel_da\u001b[0m\u001b[1;33m.\u001b[0m\u001b[0mto_crs\u001b[0m\u001b[1;33m(\u001b[0m\u001b[0mm_crs\u001b[0m\u001b[1;33m)\u001b[0m\u001b[1;33m\u001b[0m\u001b[1;33m\u001b[0m\u001b[0m\n\u001b[0m\u001b[0;32m     33\u001b[0m     \u001b[1;32mreturn\u001b[0m\u001b[1;33m(\u001b[0m\u001b[0msel_da\u001b[0m\u001b[1;33m)\u001b[0m\u001b[1;33m\u001b[0m\u001b[1;33m\u001b[0m\u001b[0m\n\u001b[0;32m     34\u001b[0m \u001b[1;33m\u001b[0m\u001b[0m\n",
      "\u001b[1;31mNameError\u001b[0m: name 'm_crs' is not defined"
     ]
    }
   ],
   "source": [
    "if not os.path.exists(da_buildings):\n",
    "    inDA = helper.extract_da_buildings(inAOI, in_da, m_crs)\n",
    "    inDA.to_file(da_buildings)\n",
    "else:\n",
    "    inDA = gpd.read_file(da_buildings)"
   ]
  },
  {
   "cell_type": "markdown",
   "metadata": {},
   "source": [
    "# Assess attribute completeness\n",
    "1. Size of the parcel (based on polygon)\n",
    "2. **Number of structures in parcel, number of occupancy units**  \n",
    "   a. This is not found in the parcel datasets, but can be calculated.\n",
    "3. The use of each structure and unit\n",
    "4. The name, ID, and contact details for the owner of the parcel, and the owner or occupier of the structure, or unit\n"
   ]
  },
  {
   "cell_type": "code",
   "execution_count": null,
   "metadata": {},
   "outputs": [],
   "source": [
    "inB_attr.head()"
   ]
  },
  {
   "cell_type": "code",
   "execution_count": null,
   "metadata": {
    "scrolled": true
   },
   "outputs": [],
   "source": [
    "# Calculate null values in buildings dataset\n",
    "for col in inB_attr.columns:\n",
    "    cur_col = inB_attr.loc[:,col]\n",
    "    print(f'{col}: {cur_col.isna().sum()}')"
   ]
  },
  {
   "cell_type": "markdown",
   "metadata": {},
   "source": [
    "# Summarize buildings within a grid\n",
    "\n",
    "Create a 250m grid across the study arera and summarize bulidngs and parcels within"
   ]
  },
  {
   "cell_type": "code",
   "execution_count": null,
   "metadata": {},
   "outputs": [],
   "source": [
    "# Generate the grid\n",
    "if not os.path.exists(summary_grid):\n",
    "    grid = helper.generate_grid(inAOI, res, m_crs)\n",
    "    grid.to_file(summary_grid)\n",
    "else:\n",
    "    grid = gpd.read_file(summary_grid)"
   ]
  },
  {
   "cell_type": "code",
   "execution_count": null,
   "metadata": {},
   "outputs": [],
   "source": [
    "grid = helper.summarize_in_grid(grid, inDA, inB, inP)"
   ]
  },
  {
   "cell_type": "code",
   "execution_count": null,
   "metadata": {},
   "outputs": [],
   "source": []
  },
  {
   "cell_type": "markdown",
   "metadata": {},
   "source": [
    "# RETIRED"
   ]
  },
  {
   "cell_type": "code",
   "execution_count": null,
   "metadata": {},
   "outputs": [],
   "source": [
    "# Summarize buildings in parcels\n",
    "inP['BLDG_I'] = 0\n",
    "inP['BLDG_C'] = 0\n",
    "inP['BLDG_I_G'] = 0\n",
    "inP['BLDG_C_G'] = 0\n",
    "for idx, row in inP.iterrows():\n",
    "    # Summarize collected buildings\n",
    "    potential_buildings = inB.loc[list(b_idx.intersection(row['geometry'].bounds))]\n",
    "    m_bld = potential_buildings.loc[~potential_buildings.intersects(row['geometry'])]\n",
    "    i_bld = potential_buildings.loc[potential_buildings.intersects(row['geometry'])]\n",
    "    c_bld = potential_buildings.loc[potential_buildings['geometry'].apply(lambda x: row['geometry'].contains(x))]    \n",
    "    inP.loc[idx, 'BLDG_I'] = i_bld.shape[0]\n",
    "    inP.loc[idx, 'BLDG_C'] = c_bld.shape[0]\n",
    "    \n",
    "    # Summarize buildings in Google\n",
    "    potential_buildings = inG.loc[list(g_idx.intersection(row['geometry'].bounds))]\n",
    "    m_bld_g = potential_buildings.loc[~potential_buildings.intersects(row['geometry'])]\n",
    "    i_bld_g = potential_buildings.loc[potential_buildings.intersects(row['geometry'])]\n",
    "    c_bld_g = potential_buildings.loc[potential_buildings['geometry'].apply(lambda x: row['geometry'].contains(x))]    \n",
    "    inP.loc[idx, 'BLDG_I_G'] = i_bld_g.shape[0]\n",
    "    inP.loc[idx, 'BLDG_C_G'] = c_bld_g.shape[0]\n",
    "    \n",
    "    ''' # uncomment this section to stop the loop add a specific index in order to run plotting below\n",
    "    if idx > 3:\n",
    "        break\n",
    "    '''"
   ]
  },
  {
   "cell_type": "code",
   "execution_count": null,
   "metadata": {},
   "outputs": [],
   "source": [
    "m = folium.Map(location=[potential_buildings.unary_union.centroid.y, potential_buildings.unary_union.centroid.x], zoom_start=18)\n",
    "try:\n",
    "    folium.GeoJson(row['geometry'], \n",
    "             style_function=lambda x: {'fillOpacity':0.5, 'fillColor': 'red', 'color':'#520f0a'}).add_to(m)\n",
    "except:\n",
    "    pass\n",
    "try:\n",
    "    folium.GeoJson(data=m_bld.to_json(), \n",
    "              style_function=lambda x: {'fillOpacity':1,'fillColor': '#ebab15', 'stroke': False}).add_to(m)\n",
    "except:\n",
    "    pass\n",
    "try:\n",
    "    folium.GeoJson(i_bld.to_json(), \n",
    "               style_function=lambda x: {'fillOpacity':1, 'fillColor': '#6878ed', 'stroke': False}).add_to(m)\n",
    "except:\n",
    "    pass\n",
    "try:\n",
    "    folium.GeoJson(c_bld.to_json(), \n",
    "               style_function=lambda x: {'fillOpacity':1, 'fillColor': '#68ed76', 'stroke': False}).add_to(m)\n",
    "except:\n",
    "    pass\n",
    "\n",
    "try:\n",
    "    folium.GeoJson(data=potential_buildings.to_json(), \n",
    "              style_function=lambda x: {'fillOpacity':0,'fillColor': '#ebab15'}).add_to(m)\n",
    "except:\n",
    "    pass\n",
    "\n",
    "m\n"
   ]
  },
  {
   "cell_type": "code",
   "execution_count": null,
   "metadata": {},
   "outputs": [],
   "source": []
  }
 ],
 "metadata": {
  "kernelspec": {
   "display_name": "Python 3 (ipykernel)",
   "language": "python",
   "name": "python3"
  },
  "language_info": {
   "codemirror_mode": {
    "name": "ipython",
    "version": 3
   },
   "file_extension": ".py",
   "mimetype": "text/x-python",
   "name": "python",
   "nbconvert_exporter": "python",
   "pygments_lexer": "ipython3",
   "version": "3.7.12"
  }
 },
 "nbformat": 4,
 "nbformat_minor": 2
}
