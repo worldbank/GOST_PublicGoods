{
 "cells": [
  {
   "cell_type": "markdown",
   "metadata": {},
   "source": [
    "# Evaluate building completeness\n",
    "\n",
    "In support of an ongoing project in Nigeria, we are investigating and evaluating the results of a building digitization effort. The following analyses will be performed to assess the completeness of the digitization effort.\n",
    "\n",
    "1. Attribute evaluation  \n",
    "   a. ensure variables in verification protocol are present  \n",
    "   b. ensure relationship between parcel owner and building occupants  \n",
    "2. Coverage evaluation  \n",
    "   a. Calculate across the area in a consistently sized grid (250m)  \n",
    "   b. Compare building density to Google Buildings  "
   ]
  },
  {
   "cell_type": "code",
   "execution_count": 1,
   "metadata": {},
   "outputs": [],
   "source": [
    "import sys, os, importlib\n",
    "import folium\n",
    "\n",
    "import pandas as pd\n",
    "import geopandas as gpd\n",
    "import GOSTRocks.rasterMisc as rMisc\n",
    "import GOSTRocks.misc as misc\n",
    "\n",
    "from shapely.geometry import Point, box\n",
    "from shapely.wkt import loads\n",
    "\n",
    "from math import ceil\n",
    "import numpy as np\n",
    "from shapely.geometry import Polygon\n",
    "\n",
    "import bldg_helper as helper\n",
    "\n",
    "%load_ext autoreload\n",
    "%autoreload 2"
   ]
  },
  {
   "cell_type": "code",
   "execution_count": 2,
   "metadata": {},
   "outputs": [],
   "source": [
    "in_folder =  \"/home/wb411133/projects/NGA_buildings/Ondo\"\n",
    "out_folder = os.path.join(in_folder, \"Results\")\n",
    "if not os.path.exists(out_folder):\n",
    "    os.makedirs(out_folder)\n",
    "\n",
    "#Define inputs\n",
    "in_da = os.path.join(os.path.dirname(in_folder), \"NGA_buildings_merge.shp\")\n",
    "in_aoi = os.path.join(os.path.dirname(in_folder), 'NGA_buildings_aois.shp')\n",
    "    \n",
    "# Define paramters\n",
    "crs = 3857\n",
    "m_crs = f'epsg:{crs}' # projection used to calculate metre measurements\n",
    "res = 250 # resolution of \n",
    "\n",
    "# Define outputs\n",
    "out_buildings   = os.path.join(out_folder, f\"Ondo_buildings.geojson\")\n",
    "summary_grid    = os.path.join(out_folder, f\"Ondo_summary_grid_{res}.shp\")\n",
    "out_google_csv  = os.path.join(out_folder, \"google_buildings.csv\")\n",
    "out_google_bldg = os.path.join(out_folder, \"google_buildings.geojson\")\n",
    "da_buildings    = os.path.join(out_folder, \"da_buildings.shp\")"
   ]
  },
  {
   "cell_type": "code",
   "execution_count": 3,
   "metadata": {},
   "outputs": [
    {
     "data": {
      "text/html": [
       "<div>\n",
       "<style scoped>\n",
       "    .dataframe tbody tr th:only-of-type {\n",
       "        vertical-align: middle;\n",
       "    }\n",
       "\n",
       "    .dataframe tbody tr th {\n",
       "        vertical-align: top;\n",
       "    }\n",
       "\n",
       "    .dataframe thead th {\n",
       "        text-align: right;\n",
       "    }\n",
       "</style>\n",
       "<table border=\"1\" class=\"dataframe\">\n",
       "  <thead>\n",
       "    <tr style=\"text-align: right;\">\n",
       "      <th></th>\n",
       "      <th>id</th>\n",
       "      <th>Name</th>\n",
       "      <th>geometry</th>\n",
       "    </tr>\n",
       "  </thead>\n",
       "  <tbody>\n",
       "    <tr>\n",
       "      <th>0</th>\n",
       "      <td>1.0</td>\n",
       "      <td>Ondo</td>\n",
       "      <td>POLYGON ((4.67311 7.22671, 4.70199 7.32221, 4....</td>\n",
       "    </tr>\n",
       "  </tbody>\n",
       "</table>\n",
       "</div>"
      ],
      "text/plain": [
       "    id  Name                                           geometry\n",
       "0  1.0  Ondo  POLYGON ((4.67311 7.22671, 4.70199 7.32221, 4...."
      ]
     },
     "execution_count": 3,
     "metadata": {},
     "output_type": "execute_result"
    }
   ],
   "source": [
    "inAOI = gpd.read_file(in_aoi)\n",
    "inAOI = inAOI.loc[inAOI['Name'].apply(lambda x: \"Ondo\" in x)]\n",
    "inAOI"
   ]
  },
  {
   "cell_type": "code",
   "execution_count": 4,
   "metadata": {},
   "outputs": [
    {
     "name": "stdout",
     "output_type": "stream",
     "text": [
      "AKOKO NORTH EAST.xlsx: (6217, 23)\n"
     ]
    },
    {
     "name": "stderr",
     "output_type": "stream",
     "text": [
      "/tmp/ipykernel_61940/945153943.py:5: FutureWarning: Inferring datetime64[ns] from data containing strings is deprecated and will be removed in a future version. To retain the old behavior explicitly pass Series(data, dtype={value.dtype})\n",
      "  xx = pd.read_excel(os.path.join(excel_folder, x))\n"
     ]
    },
    {
     "name": "stdout",
     "output_type": "stream",
     "text": [
      "Akoko South East.xlsx: (1964, 32)\n",
      "Akoko South West.xlsx: (1515, 23)\n",
      "AKURE NORTH.xlsx: (16335, 24)\n",
      "Ile oluji Okeigbo.xlsx: (2961, 24)\n",
      "OWO.xlsx: (7712, 24)\n",
      "36704\n"
     ]
    }
   ],
   "source": [
    "excel_folder = os.path.join(in_folder, 'WB Data Request', 'WB Data Request', 'WB Data Request')\n",
    "excel_files = [x for x in os.listdir(excel_folder) if (x.endswith(\"xlsx\") & (not x.startswith('~')))]\n",
    "total = 0\n",
    "for x in excel_files:\n",
    "    xx = pd.read_excel(os.path.join(excel_folder, x))\n",
    "    print(f'{x}: {xx.shape}')\n",
    "    total += xx.shape[0]\n",
    "print(total)"
   ]
  },
  {
   "cell_type": "code",
   "execution_count": 5,
   "metadata": {},
   "outputs": [],
   "source": [
    "# convert excel data to shapefile    \n",
    "if not os.path.exists(out_buildings):\n",
    "    excel_folder = os.path.join(in_folder, 'WB Data Request', 'WB Data Request', 'WB Data Request')\n",
    "    excel_files = [x for x in os.listdir(excel_folder) if (x.endswith(\"xlsx\") & (not x.startswith('~')))]\n",
    "    res = [pd.read_excel(os.path.join(excel_folder, x)) for x in excel_files]\n",
    "    all_vals = pd.concat(res)\n",
    "    all_vals = all_vals.loc[:,[not \"Unnamed\" in x for x in all_vals.columns]]\n",
    "    all_vals['Longitude'] = pd.to_numeric(all_vals['Longitude'], errors='coerce')\n",
    "    all_vals['Latitude'] = pd.to_numeric(all_vals['Latitude'], errors='coerce')\n",
    "\n",
    "    all_vals_geom = all_vals.apply(lambda x: Point(x.Longitude, x.Latitude), axis=1)\n",
    "    inB = gpd.GeoDataFrame(all_vals, geometry=all_vals_geom, crs='epsg:4326')\n",
    "\n",
    "    inB.to_file(out_buildings, driver='GeoJSON')\n",
    "else:\n",
    "    inB = gpd.read_file(out_buildings)\n"
   ]
  },
  {
   "cell_type": "markdown",
   "metadata": {},
   "source": [
    "# Calculate general statistics"
   ]
  },
  {
   "cell_type": "code",
   "execution_count": null,
   "metadata": {},
   "outputs": [],
   "source": [
    "inB.head()"
   ]
  },
  {
   "cell_type": "code",
   "execution_count": null,
   "metadata": {},
   "outputs": [],
   "source": [
    "print(f'Total number of buildings: {inB.shape[0]}')\n",
    "inB[\"Land Size\"] = pd.to_numeric(inB[\"Land Size\"], errors='coerce')\n",
    "print(f'Total area of buildings: {inB[\"Land Size\"].sum()}')"
   ]
  },
  {
   "cell_type": "markdown",
   "metadata": {},
   "source": [
    "# Extract buildings from Digitize Africa\n"
   ]
  },
  {
   "cell_type": "code",
   "execution_count": 6,
   "metadata": {},
   "outputs": [],
   "source": [
    "importlib.reload(helper)\n",
    "if not os.path.exists(da_buildings):\n",
    "    inDA = helper.extract_da_buildings(inAOI, in_da, m_crs)\n",
    "    inDA.to_file(da_buildings)\n",
    "else:\n",
    "    inDA = gpd.read_file(da_buildings)\n",
    "    \n",
    "inDA.reset_index(inplace=True)"
   ]
  },
  {
   "cell_type": "markdown",
   "metadata": {},
   "source": [
    "# Assess attribute completeness\n",
    "1. Size of the parcel (based on polygon)\n",
    "2. **Number of structures in parcel, number of occupancy units**  \n",
    "   a. This is not found in the parcel datasets, but can be calculated.\n",
    "3. The use of each structure and unit\n",
    "4. The name, ID, and contact details for the owner of the parcel, and the owner or occupier of the structure, or unit\n"
   ]
  },
  {
   "cell_type": "code",
   "execution_count": null,
   "metadata": {},
   "outputs": [],
   "source": [
    "# Calculate null values in buildings dataset\n",
    "print(f'Total Records: {inB.shape[0]}')\n",
    "for col in inB.columns:\n",
    "    cur_col = inB.loc[:,col]\n",
    "    print(f'{col}: {cur_col.isna().sum()}')"
   ]
  },
  {
   "cell_type": "markdown",
   "metadata": {},
   "source": [
    "# Summarize buildings within a grid\n",
    "\n",
    "Create a 250m grid across the study arera and summarize bulidngs and parcels within"
   ]
  },
  {
   "cell_type": "code",
   "execution_count": 7,
   "metadata": {},
   "outputs": [],
   "source": [
    "# Open DA buildings\n",
    "da_idx = inDA.sindex"
   ]
  },
  {
   "cell_type": "code",
   "execution_count": 8,
   "metadata": {},
   "outputs": [],
   "source": [
    "# Generate the grid\n",
    "if not os.path.exists(summary_grid):\n",
    "    grid = helper.generate_grid(inAOI, res, m_crs)\n",
    "    grid.to_file(summary_grid)\n",
    "else:\n",
    "    grid = gpd.read_file(summary_grid)"
   ]
  },
  {
   "cell_type": "code",
   "execution_count": 19,
   "metadata": {},
   "outputs": [],
   "source": [
    "if inB.crs.to_epsg() != grid.crs.to_epsg():\n",
    "    inB = inB.to_crs(grid.crs)\n",
    "    \n",
    "grid = helper.summarize_in_grid(grid, inDA, inB, inP=None)"
   ]
  },
  {
   "cell_type": "code",
   "execution_count": 20,
   "metadata": {},
   "outputs": [
    {
     "data": {
      "text/html": [
       "<div>\n",
       "<style scoped>\n",
       "    .dataframe tbody tr th:only-of-type {\n",
       "        vertical-align: middle;\n",
       "    }\n",
       "\n",
       "    .dataframe tbody tr th {\n",
       "        vertical-align: top;\n",
       "    }\n",
       "\n",
       "    .dataframe thead th {\n",
       "        text-align: right;\n",
       "    }\n",
       "</style>\n",
       "<table border=\"1\" class=\"dataframe\">\n",
       "  <thead>\n",
       "    <tr style=\"text-align: right;\">\n",
       "      <th></th>\n",
       "      <th>rowIdx</th>\n",
       "      <th>colIdx</th>\n",
       "      <th>per_b</th>\n",
       "      <th>per_p</th>\n",
       "      <th>per_g</th>\n",
       "      <th>geometry</th>\n",
       "      <th>per_da</th>\n",
       "    </tr>\n",
       "  </thead>\n",
       "  <tbody>\n",
       "    <tr>\n",
       "      <th>0</th>\n",
       "      <td>525193.23487</td>\n",
       "      <td>799815.007437</td>\n",
       "      <td>1.0</td>\n",
       "      <td>0.0</td>\n",
       "      <td>15.0</td>\n",
       "      <td>POLYGON ((525193.235 799815.007, 525193.235 80...</td>\n",
       "      <td>6.0</td>\n",
       "    </tr>\n",
       "    <tr>\n",
       "      <th>1</th>\n",
       "      <td>525193.23487</td>\n",
       "      <td>800315.007437</td>\n",
       "      <td>4.0</td>\n",
       "      <td>0.0</td>\n",
       "      <td>16.0</td>\n",
       "      <td>POLYGON ((525193.235 800315.007, 525193.235 80...</td>\n",
       "      <td>13.0</td>\n",
       "    </tr>\n",
       "    <tr>\n",
       "      <th>2</th>\n",
       "      <td>525193.23487</td>\n",
       "      <td>800565.007437</td>\n",
       "      <td>3.0</td>\n",
       "      <td>0.0</td>\n",
       "      <td>6.0</td>\n",
       "      <td>POLYGON ((525193.235 800565.007, 525193.235 80...</td>\n",
       "      <td>3.0</td>\n",
       "    </tr>\n",
       "    <tr>\n",
       "      <th>3</th>\n",
       "      <td>525193.23487</td>\n",
       "      <td>801065.007437</td>\n",
       "      <td>6.0</td>\n",
       "      <td>0.0</td>\n",
       "      <td>27.0</td>\n",
       "      <td>POLYGON ((525193.235 801065.007, 525193.235 80...</td>\n",
       "      <td>23.0</td>\n",
       "    </tr>\n",
       "    <tr>\n",
       "      <th>4</th>\n",
       "      <td>525193.23487</td>\n",
       "      <td>801315.007437</td>\n",
       "      <td>1.0</td>\n",
       "      <td>0.0</td>\n",
       "      <td>9.0</td>\n",
       "      <td>POLYGON ((525193.235 801315.007, 525193.235 80...</td>\n",
       "      <td>8.0</td>\n",
       "    </tr>\n",
       "  </tbody>\n",
       "</table>\n",
       "</div>"
      ],
      "text/plain": [
       "         rowIdx         colIdx  per_b  per_p  per_g  \\\n",
       "0  525193.23487  799815.007437    1.0    0.0   15.0   \n",
       "1  525193.23487  800315.007437    4.0    0.0   16.0   \n",
       "2  525193.23487  800565.007437    3.0    0.0    6.0   \n",
       "3  525193.23487  801065.007437    6.0    0.0   27.0   \n",
       "4  525193.23487  801315.007437    1.0    0.0    9.0   \n",
       "\n",
       "                                            geometry  per_da  \n",
       "0  POLYGON ((525193.235 799815.007, 525193.235 80...     6.0  \n",
       "1  POLYGON ((525193.235 800315.007, 525193.235 80...    13.0  \n",
       "2  POLYGON ((525193.235 800565.007, 525193.235 80...     3.0  \n",
       "3  POLYGON ((525193.235 801065.007, 525193.235 80...    23.0  \n",
       "4  POLYGON ((525193.235 801315.007, 525193.235 80...     8.0  "
      ]
     },
     "execution_count": 20,
     "metadata": {},
     "output_type": "execute_result"
    }
   ],
   "source": [
    "grid.head()"
   ]
  },
  {
   "cell_type": "code",
   "execution_count": 21,
   "metadata": {},
   "outputs": [],
   "source": [
    "grid.to_file(summary_grid)"
   ]
  },
  {
   "cell_type": "markdown",
   "metadata": {},
   "source": [
    "# RETIRED"
   ]
  },
  {
   "cell_type": "code",
   "execution_count": null,
   "metadata": {},
   "outputs": [],
   "source": [
    "# Summarize buildings in parcels\n",
    "inP['BLDG_I'] = 0\n",
    "inP['BLDG_C'] = 0\n",
    "inP['BLDG_I_G'] = 0\n",
    "inP['BLDG_C_G'] = 0\n",
    "for idx, row in inP.iterrows():\n",
    "    # Summarize collected buildings\n",
    "    potential_buildings = inB.loc[list(b_idx.intersection(row['geometry'].bounds))]\n",
    "    m_bld = potential_buildings.loc[~potential_buildings.intersects(row['geometry'])]\n",
    "    i_bld = potential_buildings.loc[potential_buildings.intersects(row['geometry'])]\n",
    "    c_bld = potential_buildings.loc[potential_buildings['geometry'].apply(lambda x: row['geometry'].contains(x))]    \n",
    "    inP.loc[idx, 'BLDG_I'] = i_bld.shape[0]\n",
    "    inP.loc[idx, 'BLDG_C'] = c_bld.shape[0]\n",
    "    \n",
    "    # Summarize buildings in Google\n",
    "    potential_buildings = inG.loc[list(g_idx.intersection(row['geometry'].bounds))]\n",
    "    m_bld_g = potential_buildings.loc[~potential_buildings.intersects(row['geometry'])]\n",
    "    i_bld_g = potential_buildings.loc[potential_buildings.intersects(row['geometry'])]\n",
    "    c_bld_g = potential_buildings.loc[potential_buildings['geometry'].apply(lambda x: row['geometry'].contains(x))]    \n",
    "    inP.loc[idx, 'BLDG_I_G'] = i_bld_g.shape[0]\n",
    "    inP.loc[idx, 'BLDG_C_G'] = c_bld_g.shape[0]\n",
    "    \n",
    "    ''' # uncomment this section to stop the loop add a specific index in order to run plotting below\n",
    "    if idx > 3:\n",
    "        break\n",
    "    '''"
   ]
  },
  {
   "cell_type": "code",
   "execution_count": null,
   "metadata": {},
   "outputs": [],
   "source": [
    "m = folium.Map(location=[potential_buildings.unary_union.centroid.y, potential_buildings.unary_union.centroid.x], zoom_start=18)\n",
    "try:\n",
    "    folium.GeoJson(row['geometry'], \n",
    "             style_function=lambda x: {'fillOpacity':0.5, 'fillColor': 'red', 'color':'#520f0a'}).add_to(m)\n",
    "except:\n",
    "    pass\n",
    "try:\n",
    "    folium.GeoJson(data=m_bld.to_json(), \n",
    "              style_function=lambda x: {'fillOpacity':1,'fillColor': '#ebab15', 'stroke': False}).add_to(m)\n",
    "except:\n",
    "    pass\n",
    "try:\n",
    "    folium.GeoJson(i_bld.to_json(), \n",
    "               style_function=lambda x: {'fillOpacity':1, 'fillColor': '#6878ed', 'stroke': False}).add_to(m)\n",
    "except:\n",
    "    pass\n",
    "try:\n",
    "    folium.GeoJson(c_bld.to_json(), \n",
    "               style_function=lambda x: {'fillOpacity':1, 'fillColor': '#68ed76', 'stroke': False}).add_to(m)\n",
    "except:\n",
    "    pass\n",
    "\n",
    "try:\n",
    "    folium.GeoJson(data=potential_buildings.to_json(), \n",
    "              style_function=lambda x: {'fillOpacity':0,'fillColor': '#ebab15'}).add_to(m)\n",
    "except:\n",
    "    pass\n",
    "\n",
    "m\n"
   ]
  },
  {
   "cell_type": "code",
   "execution_count": null,
   "metadata": {},
   "outputs": [],
   "source": []
  }
 ],
 "metadata": {
  "kernelspec": {
   "display_name": "Python (geog)",
   "language": "python",
   "name": "geog"
  },
  "language_info": {
   "codemirror_mode": {
    "name": "ipython",
    "version": 3
   },
   "file_extension": ".py",
   "mimetype": "text/x-python",
   "name": "python",
   "nbconvert_exporter": "python",
   "pygments_lexer": "ipython3",
   "version": "3.9.7"
  }
 },
 "nbformat": 4,
 "nbformat_minor": 2
}
