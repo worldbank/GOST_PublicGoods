{
 "cells": [
  {
   "cell_type": "markdown",
   "metadata": {},
   "source": [
    "# Evaluate building completeness\n",
    "\n",
    "In support of an ongoing project in Nigeria, we are investigating and evaluating the results of a building digitization effort. The following analyses will be performed to assess the completeness of the digitization effort.\n",
    "\n",
    "1. Attribute evaluation  \n",
    "   a. ensure variables in verification protocol are present  \n",
    "   b. ensure relationship between parcel owner and building occupants  \n",
    "2. Coverage evaluation  \n",
    "   a. Calculate across the area in a consistently sized grid (250m)  \n",
    "   b. Compare building density to Google Buildings  "
   ]
  },
  {
   "cell_type": "code",
   "execution_count": 34,
   "metadata": {},
   "outputs": [],
   "source": [
    "import sys, os, importlib\n",
    "import folium, fiona\n",
    "\n",
    "import pandas as pd\n",
    "import geopandas as gpd\n",
    "\n",
    "sys.path.append(r\"C:\\WBG\\Work\\Code\\gostrocks\\src\")\n",
    "import GOSTRocks.rasterMisc as rMisc\n",
    "import GOSTRocks.misc as misc\n",
    "\n",
    "from shapely.geometry import Point, box\n",
    "from shapely.wkt import loads\n",
    "\n",
    "from math import ceil\n",
    "import numpy as np\n",
    "from shapely.geometry import Polygon\n",
    "\n",
    "import bldg_helper import helper\n",
    "\n",
    "%load_ext autoreload\n",
    "%autoreload 2"
   ]
  },
  {
   "cell_type": "code",
   "execution_count": 2,
   "metadata": {},
   "outputs": [],
   "source": [
    "in_folder = \"C:/WBG/Work/NGA_buildings/Delta\"\n",
    "out_folder = os.path.join(in_folder, \"Results\")\n",
    "if not os.path.exists(out_folder):\n",
    "    os.makedirs(out_folder)\n",
    "in_buildings_file = os.path.join(in_folder, \"Collected\", \"Building.shp\")\n",
    "in_parcels_file = os.path.join(in_folder, \"Collected\", \"Parcel.shp\")\n",
    "in_da = os.path.join(os.path.dirname(in_folder), \"NGA_buildings_merge.shp\")\n",
    "in_aoi = os.path.join(os.path.dirname(in_folder), 'NGA_buildings_aois.shp')\n",
    "\n",
    "# Define paramters\n",
    "crs = 3857\n",
    "m_crs = f'epsg:{crs}' # projection used to calculate metre measurements\n",
    "res = 250 # resolution of \n",
    "\n",
    "# Define outputs\n",
    "summary_grid = f'/home/wb411133/projects/NGA_buildings/Delta/NGA_summary_grid_{res}.shp'\n",
    "da_buildings = os.path.join(out_folder, \"da_buildings.shp\")"
   ]
  },
  {
   "cell_type": "code",
   "execution_count": 3,
   "metadata": {},
   "outputs": [
    {
     "data": {
      "text/html": [
       "<div>\n",
       "<style scoped>\n",
       "    .dataframe tbody tr th:only-of-type {\n",
       "        vertical-align: middle;\n",
       "    }\n",
       "\n",
       "    .dataframe tbody tr th {\n",
       "        vertical-align: top;\n",
       "    }\n",
       "\n",
       "    .dataframe thead th {\n",
       "        text-align: right;\n",
       "    }\n",
       "</style>\n",
       "<table border=\"1\" class=\"dataframe\">\n",
       "  <thead>\n",
       "    <tr style=\"text-align: right;\">\n",
       "      <th></th>\n",
       "      <th>id</th>\n",
       "      <th>Name</th>\n",
       "      <th>geometry</th>\n",
       "    </tr>\n",
       "  </thead>\n",
       "  <tbody>\n",
       "    <tr>\n",
       "      <th>1</th>\n",
       "      <td>2.0</td>\n",
       "      <td>Delta1</td>\n",
       "      <td>POLYGON ((5.71204 5.99490, 5.76972 6.00310, 5....</td>\n",
       "    </tr>\n",
       "    <tr>\n",
       "      <th>2</th>\n",
       "      <td>3.0</td>\n",
       "      <td>Delta2</td>\n",
       "      <td>POLYGON ((5.61041 5.63420, 5.79444 5.69433, 5....</td>\n",
       "    </tr>\n",
       "    <tr>\n",
       "      <th>3</th>\n",
       "      <td>4.0</td>\n",
       "      <td>Delta3</td>\n",
       "      <td>POLYGON ((6.10482 6.32260, 6.31082 6.30076, 6....</td>\n",
       "    </tr>\n",
       "    <tr>\n",
       "      <th>4</th>\n",
       "      <td>5.0</td>\n",
       "      <td>Delta4</td>\n",
       "      <td>POLYGON ((6.67613 6.35809, 6.75029 6.33625, 6....</td>\n",
       "    </tr>\n",
       "  </tbody>\n",
       "</table>\n",
       "</div>"
      ],
      "text/plain": [
       "    id    Name                                           geometry\n",
       "1  2.0  Delta1  POLYGON ((5.71204 5.99490, 5.76972 6.00310, 5....\n",
       "2  3.0  Delta2  POLYGON ((5.61041 5.63420, 5.79444 5.69433, 5....\n",
       "3  4.0  Delta3  POLYGON ((6.10482 6.32260, 6.31082 6.30076, 6....\n",
       "4  5.0  Delta4  POLYGON ((6.67613 6.35809, 6.75029 6.33625, 6...."
      ]
     },
     "execution_count": 3,
     "metadata": {},
     "output_type": "execute_result"
    }
   ],
   "source": [
    "inAOI = gpd.read_file(in_aoi)\n",
    "inAOI = inAOI.loc[inAOI['Name'].apply(lambda x: \"Delta\" in x)]\n",
    "inAOI"
   ]
  },
  {
   "cell_type": "code",
   "execution_count": 4,
   "metadata": {},
   "outputs": [],
   "source": [
    "inB = gpd.read_file(in_buildings_file)\n",
    "inB = inB.to_crs(m_crs)\n",
    "inP = gpd.read_file(in_parcels_file)\n",
    "inP = inP.to_crs(m_crs)\n",
    "\n",
    "b_idx = inB.sindex\n",
    "p_idx = inP.sindex"
   ]
  },
  {
   "cell_type": "markdown",
   "metadata": {},
   "source": [
    "# Calculate general statistics"
   ]
  },
  {
   "cell_type": "code",
   "execution_count": 5,
   "metadata": {},
   "outputs": [
    {
     "name": "stdout",
     "output_type": "stream",
     "text": [
      "Total number of buildings: 91386\n",
      "Total area of buildings: 20981739.8926188\n",
      "Total number of parcels: 61392\n",
      "Total area of parcels: 67084133.19206174\n"
     ]
    }
   ],
   "source": [
    "print(f'Total number of buildings: {inB.shape[0]}')\n",
    "print(f'Total area of buildings: {inB[\"BLD_SIZE_M\"].sum()}')\n",
    "      \n",
    "print(f'Total number of parcels: {inP.shape[0]}')\n",
    "print(f'Total area of parcels: {inP[\"PARCEL_SIZ\"].sum()}')"
   ]
  },
  {
   "cell_type": "markdown",
   "metadata": {},
   "source": [
    "# Extract Digitize Africa Buildings"
   ]
  },
  {
   "cell_type": "code",
   "execution_count": 20,
   "metadata": {},
   "outputs": [],
   "source": [
    "if not os.path.exists(da_buildings):\n",
    "    inDA = helper.extract_da_buildings(inAOI, in_da, m_crs)\n",
    "    inDA.to_file(da_buildings)\n",
    "else:\n",
    "    inDA = gpd.read_file(da_buildings)"
   ]
  },
  {
   "cell_type": "markdown",
   "metadata": {},
   "source": [
    "# Assess attribute completeness\n",
    "1. Size of the parcel (based on polygon)\n",
    "2. **Number of structures in parcel, number of occupancy units**  \n",
    "   a. This is not found in the parcel datasets, but can be calculated.\n",
    "3. The use of each structure and unit\n",
    "4. The name, ID, and contact details for the owner of the parcel, and the owner or occupier of the structure, or unit\n"
   ]
  },
  {
   "cell_type": "code",
   "execution_count": null,
   "metadata": {},
   "outputs": [],
   "source": [
    "# Calculate null values in buildings dataset\n",
    "for col in inB.columns:\n",
    "    cur_col = inB.loc[:,col]\n",
    "    print(f'{col}: {cur_col.isna().sum()}')"
   ]
  },
  {
   "cell_type": "code",
   "execution_count": null,
   "metadata": {},
   "outputs": [],
   "source": [
    "# Get count of null valus in STR_NAME grouped by BLD_USE\n",
    "inB.loc[inB['STR_NAME'].isna()]['BLD_USE'].value_counts()"
   ]
  },
  {
   "cell_type": "markdown",
   "metadata": {},
   "source": [
    "# Summarize buildings within a grid\n",
    "\n",
    "Create a 250m grid across the study arera and summarize bulidngs and parcels within"
   ]
  },
  {
   "cell_type": "code",
   "execution_count": null,
   "metadata": {},
   "outputs": [],
   "source": [
    "# Open DA buildings\n",
    "da_idx = inDA.sindex"
   ]
  },
  {
   "cell_type": "code",
   "execution_count": null,
   "metadata": {
    "scrolled": true
   },
   "outputs": [],
   "source": [
    "# Generate the grid\n",
    "if not os.path.exists(summary_grid):\n",
    "    grid = helper.generate_grid(inAOI, res, m_crs)\n",
    "    grid.to_file(summary_grid)\n",
    "else:\n",
    "    grid = gpd.read_file(summary_grid)"
   ]
  },
  {
   "cell_type": "code",
   "execution_count": null,
   "metadata": {},
   "outputs": [],
   "source": [
    "grid = helper.summarize_in_grid(grid, inDA, inB, inP)"
   ]
  },
  {
   "cell_type": "markdown",
   "metadata": {},
   "source": [
    "# Compare Buildings and Parcels"
   ]
  },
  {
   "cell_type": "code",
   "execution_count": null,
   "metadata": {},
   "outputs": [],
   "source": [
    "inB['area'] = inB['geometry'].apply(lambda x: x.area)\n",
    "inG['area'] = inG['geometry'].apply(lambda x: x.area)"
   ]
  },
  {
   "cell_type": "code",
   "execution_count": null,
   "metadata": {},
   "outputs": [],
   "source": [
    "inP = helper.compare_buildings_parcels(inP, inB, inDA)\n",
    "inP.to_file(in_parcels_file)"
   ]
  },
  {
   "cell_type": "markdown",
   "metadata": {},
   "source": [
    "# Print final statistics"
   ]
  },
  {
   "cell_type": "code",
   "execution_count": null,
   "metadata": {},
   "outputs": [],
   "source": [
    "inB = helper.def attribute_buildings_parcels(inB, inP)"
   ]
  },
  {
   "cell_type": "code",
   "execution_count": null,
   "metadata": {},
   "outputs": [],
   "source": [
    "contained_buildings = (inB['p_c'] > 0).sum()\n",
    "intersecting_buildings = (inB['p_i'] > 0).sum()"
   ]
  },
  {
   "cell_type": "code",
   "execution_count": null,
   "metadata": {},
   "outputs": [],
   "source": [
    "# Summarize building stats\n",
    "print(f'Total Buildings: {inB.shape[0]}')\n",
    "print(f\"Main Buildings: {inB.loc[inB['area'] > 50].shape[0]}\")\n",
    "print(f'Contained Buildings: {contained_buildings}')    "
   ]
  },
  {
   "cell_type": "code",
   "execution_count": null,
   "metadata": {},
   "outputs": [],
   "source": [
    "# Parcels with more than one 'Main' building\n",
    "inP.loc[inP['BLDG_M'] > 1].shape"
   ]
  },
  {
   "cell_type": "code",
   "execution_count": null,
   "metadata": {},
   "outputs": [],
   "source": [
    "print(f'Total buildings: {inB.shape[0]}')\n",
    "print(f'Floating buildings: {inB.shape[0] - intersecting_buildings}')\n",
    "print(f'Buildings with >1 parcel: {(inB[\"p_i\"] > 1).sum()}')\n",
    "print(f'Buildings crossing bounds: {intersecting_buildings - contained_buildings}')"
   ]
  }
 ],
 "metadata": {
  "kernelspec": {
   "display_name": "Python 3",
   "language": "python",
   "name": "python3"
  },
  "language_info": {
   "codemirror_mode": {
    "name": "ipython",
    "version": 3
   },
   "file_extension": ".py",
   "mimetype": "text/x-python",
   "name": "python",
   "nbconvert_exporter": "python",
   "pygments_lexer": "ipython3",
   "version": "3.7.1"
  }
 },
 "nbformat": 4,
 "nbformat_minor": 2
}
