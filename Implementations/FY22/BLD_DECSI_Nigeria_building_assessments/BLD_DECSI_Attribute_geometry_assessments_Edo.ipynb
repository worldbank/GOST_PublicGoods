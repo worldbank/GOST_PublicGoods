{
 "cells": [
  {
   "cell_type": "markdown",
   "metadata": {},
   "source": [
    "# Evaluate building completeness\n",
    "\n",
    "In support of an ongoing project in Nigeria, we are investigating and evaluating the results of a building digitization effort. The following analyses will be performed to assess the completeness of the digitization effort.\n",
    "\n",
    "1. Attribute evaluation  \n",
    "   a. ensure variables in verification protocol are present  \n",
    "   b. ensure relationship between parcel owner and building occupants  \n",
    "2. Coverage evaluation  \n",
    "   a. Calculate across the area in a consistently sized grid (250m)  \n",
    "   b. Compare building density to Google Buildings  "
   ]
  },
  {
   "cell_type": "code",
   "execution_count": 1,
   "metadata": {},
   "outputs": [],
   "source": [
    "import sys, os, importlib\n",
    "import folium\n",
    "\n",
    "import pandas as pd\n",
    "import geopandas as gpd\n",
    "import GOSTRocks.rasterMisc as rMisc\n",
    "import GOSTRocks.misc as misc\n",
    "\n",
    "from shapely.geometry import Point, box\n",
    "from shapely.wkt import loads\n",
    "\n",
    "from math import ceil\n",
    "import numpy as np\n",
    "from shapely.geometry import Polygon\n",
    "\n",
    "import bldg_helper as helper\n",
    "\n",
    "%load_ext autoreload\n",
    "%autoreload 2"
   ]
  },
  {
   "cell_type": "code",
   "execution_count": 2,
   "metadata": {},
   "outputs": [],
   "source": [
    "in_folder =  \"/home/wb411133/projects/NGA_buildings/Edo\"\n",
    "out_folder = os.path.join(in_folder, \"Results\")\n",
    "if not os.path.exists(out_folder):\n",
    "    os.makedirs(out_folder)\n",
    "\n",
    "#Define inputs\n",
    "in_da = os.path.join(os.path.dirname(in_folder), \"NGA_buildings_merge.shp\")\n",
    "in_aoi = os.path.join(os.path.dirname(in_folder), 'NGA_buildings_aois.shp')\n",
    "in_buildings = os.path.join(in_folder, \"Collected\",\"SFTAS_ DLI 11.3_ Edo State\", \"Ca51_Buildings_MEGA.shp\")\n",
    "    \n",
    "# Define paramters\n",
    "crs = 3857\n",
    "m_crs = f'epsg:{crs}' # projection used to calculate metre measurements\n",
    "res = 250 # resolution of \n",
    "\n",
    "# Define outputs\n",
    "summary_grid    = os.path.join(out_folder, f\"Edo_summary_grid_{res}.shp\")\n",
    "out_google_csv  = os.path.join(out_folder, \"google_buildings.csv\")\n",
    "out_google_bldg = os.path.join(out_folder, \"google_buildings.geojson\")\n",
    "da_buildings    = os.path.join(out_folder, \"da_buildings.shp\")"
   ]
  },
  {
   "cell_type": "code",
   "execution_count": 3,
   "metadata": {},
   "outputs": [
    {
     "data": {
      "text/html": [
       "<div>\n",
       "<style scoped>\n",
       "    .dataframe tbody tr th:only-of-type {\n",
       "        vertical-align: middle;\n",
       "    }\n",
       "\n",
       "    .dataframe tbody tr th {\n",
       "        vertical-align: top;\n",
       "    }\n",
       "\n",
       "    .dataframe thead th {\n",
       "        text-align: right;\n",
       "    }\n",
       "</style>\n",
       "<table border=\"1\" class=\"dataframe\">\n",
       "  <thead>\n",
       "    <tr style=\"text-align: right;\">\n",
       "      <th></th>\n",
       "      <th>id</th>\n",
       "      <th>Name</th>\n",
       "      <th>geometry</th>\n",
       "    </tr>\n",
       "  </thead>\n",
       "  <tbody>\n",
       "    <tr>\n",
       "      <th>6</th>\n",
       "      <td>NaN</td>\n",
       "      <td>Edo</td>\n",
       "      <td>POLYGON ((5.62855 6.55206, 5.66879 6.55479, 5....</td>\n",
       "    </tr>\n",
       "  </tbody>\n",
       "</table>\n",
       "</div>"
      ],
      "text/plain": [
       "   id Name                                           geometry\n",
       "6 NaN  Edo  POLYGON ((5.62855 6.55206, 5.66879 6.55479, 5...."
      ]
     },
     "execution_count": 3,
     "metadata": {},
     "output_type": "execute_result"
    }
   ],
   "source": [
    "inAOI = gpd.read_file(in_aoi)\n",
    "inAOI = inAOI.loc[inAOI['Name'].apply(lambda x: \"Edo\" in x)]\n",
    "inAOI"
   ]
  },
  {
   "cell_type": "code",
   "execution_count": 6,
   "metadata": {},
   "outputs": [
    {
     "name": "stdout",
     "output_type": "stream",
     "text": [
      "(95617, 31)\n",
      "(95617, 31)\n"
     ]
    }
   ],
   "source": [
    "inB = gpd.read_file(in_buildings)\n",
    "\n",
    "if inB.crs.to_epsg() != crs:\n",
    "    inB = inB.to_crs(m_crs)\n",
    "\n",
    "print(inB.shape)    \n",
    "inB = inB.loc[inB['geometry'].apply(lambda x: not x is None)]\n",
    "print(inB.shape)"
   ]
  },
  {
   "cell_type": "code",
   "execution_count": 7,
   "metadata": {},
   "outputs": [
    {
     "data": {
      "text/html": [
       "<div>\n",
       "<style scoped>\n",
       "    .dataframe tbody tr th:only-of-type {\n",
       "        vertical-align: middle;\n",
       "    }\n",
       "\n",
       "    .dataframe tbody tr th {\n",
       "        vertical-align: top;\n",
       "    }\n",
       "\n",
       "    .dataframe thead th {\n",
       "        text-align: right;\n",
       "    }\n",
       "</style>\n",
       "<table border=\"1\" class=\"dataframe\">\n",
       "  <thead>\n",
       "    <tr style=\"text-align: right;\">\n",
       "      <th></th>\n",
       "      <th>objectid_1</th>\n",
       "      <th>objectid</th>\n",
       "      <th>bld_name</th>\n",
       "      <th>bld_tag</th>\n",
       "      <th>lga</th>\n",
       "      <th>street_nam</th>\n",
       "      <th>off_street</th>\n",
       "      <th>bld_type</th>\n",
       "      <th>bld_purpos</th>\n",
       "      <th>bld_comple</th>\n",
       "      <th>...</th>\n",
       "      <th>land_size</th>\n",
       "      <th>parcel_id</th>\n",
       "      <th>bld_comp_1</th>\n",
       "      <th>for_import</th>\n",
       "      <th>imported</th>\n",
       "      <th>ward_code</th>\n",
       "      <th>file_numbe</th>\n",
       "      <th>Lat</th>\n",
       "      <th>Long</th>\n",
       "      <th>geometry</th>\n",
       "    </tr>\n",
       "  </thead>\n",
       "  <tbody>\n",
       "    <tr>\n",
       "      <th>0</th>\n",
       "      <td>102976</td>\n",
       "      <td>36431</td>\n",
       "      <td>None</td>\n",
       "      <td>EDO/OVIA NORTH EAST/NILL/BLD-MTW874</td>\n",
       "      <td>OVIA NORTH EAST</td>\n",
       "      <td>None</td>\n",
       "      <td>MONDAY OMOROGIE STREET</td>\n",
       "      <td>Block of Flats</td>\n",
       "      <td>RESIDENTIAL</td>\n",
       "      <td>Fully Developed</td>\n",
       "      <td>...</td>\n",
       "      <td>452.22</td>\n",
       "      <td>120665.0</td>\n",
       "      <td>1.0</td>\n",
       "      <td>Yes</td>\n",
       "      <td>Yes</td>\n",
       "      <td>EDSAKA08</td>\n",
       "      <td>EDL 281351</td>\n",
       "      <td>6.431802</td>\n",
       "      <td>5.588422</td>\n",
       "      <td>POINT (622100.295 717493.374)</td>\n",
       "    </tr>\n",
       "    <tr>\n",
       "      <th>1</th>\n",
       "      <td>97694</td>\n",
       "      <td>1004</td>\n",
       "      <td>None</td>\n",
       "      <td>EDO/EGOR/EGHOBOR/BLD-UUF009</td>\n",
       "      <td>EGOR</td>\n",
       "      <td>EGHOBOR STREET</td>\n",
       "      <td>CHRISTMARY STREET</td>\n",
       "      <td>Bungalow</td>\n",
       "      <td>RESIDENTIAL</td>\n",
       "      <td>Fully Developed</td>\n",
       "      <td>...</td>\n",
       "      <td>758.56</td>\n",
       "      <td>115278.0</td>\n",
       "      <td>1.0</td>\n",
       "      <td>Yes</td>\n",
       "      <td>Yes</td>\n",
       "      <td>EDSUSL07</td>\n",
       "      <td>EDL 276360</td>\n",
       "      <td>6.359988</td>\n",
       "      <td>5.613039</td>\n",
       "      <td>POINT (624840.646 709449.032)</td>\n",
       "    </tr>\n",
       "    <tr>\n",
       "      <th>2</th>\n",
       "      <td>100033</td>\n",
       "      <td>3372</td>\n",
       "      <td>None</td>\n",
       "      <td>EDO/EGOR/QUARLITY/BLD-LRY976</td>\n",
       "      <td>EGOR</td>\n",
       "      <td>QUARLITY</td>\n",
       "      <td>BTC ROAD</td>\n",
       "      <td>Bungalow</td>\n",
       "      <td>RESIDENTIAL</td>\n",
       "      <td>Fully Developed</td>\n",
       "      <td>...</td>\n",
       "      <td>651.52</td>\n",
       "      <td>114670.0</td>\n",
       "      <td>1.0</td>\n",
       "      <td>Yes</td>\n",
       "      <td>Yes</td>\n",
       "      <td>EDSUSL10</td>\n",
       "      <td>EDL 276362</td>\n",
       "      <td>6.380974</td>\n",
       "      <td>5.631827</td>\n",
       "      <td>POINT (626932.096 711799.671)</td>\n",
       "    </tr>\n",
       "    <tr>\n",
       "      <th>3</th>\n",
       "      <td>99248</td>\n",
       "      <td>2584</td>\n",
       "      <td>None</td>\n",
       "      <td>EDO/EGOR/1ST LANE RIGHT, OFF MECHANIC RD,UPPER...</td>\n",
       "      <td>EGOR</td>\n",
       "      <td>MECHANIC ROAD</td>\n",
       "      <td>UPPER SILUKO</td>\n",
       "      <td>Bungalow</td>\n",
       "      <td>RESIDENTIAL</td>\n",
       "      <td>Fully Developed</td>\n",
       "      <td>...</td>\n",
       "      <td>1421.37</td>\n",
       "      <td>110408.0</td>\n",
       "      <td>1.0</td>\n",
       "      <td>Yes</td>\n",
       "      <td>Yes</td>\n",
       "      <td>EDSUSL09</td>\n",
       "      <td>EDL 276363</td>\n",
       "      <td>6.370838</td>\n",
       "      <td>5.566272</td>\n",
       "      <td>POINT (619634.530 710664.331)</td>\n",
       "    </tr>\n",
       "    <tr>\n",
       "      <th>4</th>\n",
       "      <td>97935</td>\n",
       "      <td>1246</td>\n",
       "      <td>None</td>\n",
       "      <td>EDO/EGOR/AGASOMWAN/BLD-RTV439</td>\n",
       "      <td>EGOR</td>\n",
       "      <td>AGHASOMWAN STREET</td>\n",
       "      <td>EVBAREKE SPARE PARTS ROAD</td>\n",
       "      <td>Bungalow</td>\n",
       "      <td>RESIDENTIAL</td>\n",
       "      <td>Fully Developed</td>\n",
       "      <td>...</td>\n",
       "      <td>529.12</td>\n",
       "      <td>109187.0</td>\n",
       "      <td>1.0</td>\n",
       "      <td>Yes</td>\n",
       "      <td>Yes</td>\n",
       "      <td>EDSUSL07</td>\n",
       "      <td>EDL 276366</td>\n",
       "      <td>6.365909</td>\n",
       "      <td>5.610673</td>\n",
       "      <td>POINT (624577.231 710112.258)</td>\n",
       "    </tr>\n",
       "  </tbody>\n",
       "</table>\n",
       "<p>5 rows × 31 columns</p>\n",
       "</div>"
      ],
      "text/plain": [
       "   objectid_1  objectid bld_name  \\\n",
       "0      102976     36431     None   \n",
       "1       97694      1004     None   \n",
       "2      100033      3372     None   \n",
       "3       99248      2584     None   \n",
       "4       97935      1246     None   \n",
       "\n",
       "                                             bld_tag              lga  \\\n",
       "0                EDO/OVIA NORTH EAST/NILL/BLD-MTW874  OVIA NORTH EAST   \n",
       "1                        EDO/EGOR/EGHOBOR/BLD-UUF009             EGOR   \n",
       "2                       EDO/EGOR/QUARLITY/BLD-LRY976             EGOR   \n",
       "3  EDO/EGOR/1ST LANE RIGHT, OFF MECHANIC RD,UPPER...             EGOR   \n",
       "4                      EDO/EGOR/AGASOMWAN/BLD-RTV439             EGOR   \n",
       "\n",
       "          street_nam                 off_street        bld_type   bld_purpos  \\\n",
       "0               None     MONDAY OMOROGIE STREET  Block of Flats  RESIDENTIAL   \n",
       "1     EGHOBOR STREET          CHRISTMARY STREET        Bungalow  RESIDENTIAL   \n",
       "2           QUARLITY                   BTC ROAD        Bungalow  RESIDENTIAL   \n",
       "3      MECHANIC ROAD               UPPER SILUKO        Bungalow  RESIDENTIAL   \n",
       "4  AGHASOMWAN STREET  EVBAREKE SPARE PARTS ROAD        Bungalow  RESIDENTIAL   \n",
       "\n",
       "        bld_comple  ... land_size parcel_id  bld_comp_1  for_import  imported  \\\n",
       "0  Fully Developed  ...    452.22  120665.0         1.0         Yes       Yes   \n",
       "1  Fully Developed  ...    758.56  115278.0         1.0         Yes       Yes   \n",
       "2  Fully Developed  ...    651.52  114670.0         1.0         Yes       Yes   \n",
       "3  Fully Developed  ...   1421.37  110408.0         1.0         Yes       Yes   \n",
       "4  Fully Developed  ...    529.12  109187.0         1.0         Yes       Yes   \n",
       "\n",
       "  ward_code  file_numbe       Lat      Long                       geometry  \n",
       "0  EDSAKA08  EDL 281351  6.431802  5.588422  POINT (622100.295 717493.374)  \n",
       "1  EDSUSL07  EDL 276360  6.359988  5.613039  POINT (624840.646 709449.032)  \n",
       "2  EDSUSL10  EDL 276362  6.380974  5.631827  POINT (626932.096 711799.671)  \n",
       "3  EDSUSL09  EDL 276363  6.370838  5.566272  POINT (619634.530 710664.331)  \n",
       "4  EDSUSL07  EDL 276366  6.365909  5.610673  POINT (624577.231 710112.258)  \n",
       "\n",
       "[5 rows x 31 columns]"
      ]
     },
     "execution_count": 7,
     "metadata": {},
     "output_type": "execute_result"
    }
   ],
   "source": [
    "inB.head()"
   ]
  },
  {
   "cell_type": "code",
   "execution_count": 8,
   "metadata": {},
   "outputs": [
    {
     "data": {
      "text/plain": [
       "Index(['objectid_1', 'objectid', 'bld_name', 'bld_tag', 'lga', 'street_nam',\n",
       "       'off_street', 'bld_type', 'bld_purpos', 'bld_comple', 'state_name',\n",
       "       'govt_priva', 'bld_num', 'bld_area', 'no_floor_1', 'gdb_geomat', 'area',\n",
       "       'billing_ar', 'building_v', 'land_value', 'bldg_tag2', 'land_size',\n",
       "       'parcel_id', 'bld_comp_1', 'for_import', 'imported', 'ward_code',\n",
       "       'file_numbe', 'Lat', 'Long', 'geometry'],\n",
       "      dtype='object')"
      ]
     },
     "execution_count": 8,
     "metadata": {},
     "output_type": "execute_result"
    }
   ],
   "source": [
    "inB.columns"
   ]
  },
  {
   "cell_type": "markdown",
   "metadata": {},
   "source": [
    "# Calculate general statistics"
   ]
  },
  {
   "cell_type": "code",
   "execution_count": 9,
   "metadata": {},
   "outputs": [
    {
     "name": "stdout",
     "output_type": "stream",
     "text": [
      "Total number of buildings: 95617\n",
      "Total area of buildings: 23698150.316837884\n"
     ]
    }
   ],
   "source": [
    "print(f'Total number of buildings: {inB.shape[0]}')\n",
    "print(f'Total area of buildings: {inB[\"bld_area\"].sum()}')"
   ]
  },
  {
   "cell_type": "markdown",
   "metadata": {},
   "source": [
    "# Extract buildings from Digitize Africa\n"
   ]
  },
  {
   "cell_type": "code",
   "execution_count": 10,
   "metadata": {},
   "outputs": [],
   "source": [
    "importlib.reload(helper)\n",
    "if not os.path.exists(da_buildings):\n",
    "    inDA = helper.extract_da_buildings(inAOI, in_da, m_crs)\n",
    "    inDA.to_file(da_buildings)\n",
    "else:\n",
    "    inDA = gpd.read_file(da_buildings)"
   ]
  },
  {
   "cell_type": "markdown",
   "metadata": {},
   "source": [
    "# Assess attribute completeness\n",
    "1. Size of the parcel (based on polygon)\n",
    "2. **Number of structures in parcel, number of occupancy units**  \n",
    "   a. This is not found in the parcel datasets, but can be calculated.\n",
    "3. The use of each structure and unit\n",
    "4. The name, ID, and contact details for the owner of the parcel, and the owner or occupier of the structure, or unit\n"
   ]
  },
  {
   "cell_type": "code",
   "execution_count": 11,
   "metadata": {},
   "outputs": [
    {
     "name": "stdout",
     "output_type": "stream",
     "text": [
      "Total Records: 95617\n",
      "objectid_1: 0\n",
      "objectid: 0\n",
      "bld_name: 76367\n",
      "bld_tag: 0\n",
      "lga: 0\n",
      "street_nam: 1034\n",
      "off_street: 8765\n",
      "bld_type: 1\n",
      "bld_purpos: 0\n",
      "bld_comple: 1\n",
      "state_name: 0\n",
      "govt_priva: 0\n",
      "bld_num: 0\n",
      "bld_area: 0\n",
      "no_floor_1: 0\n",
      "gdb_geomat: 95617\n",
      "area: 0\n",
      "billing_ar: 0\n",
      "building_v: 280\n",
      "land_value: 216\n",
      "bldg_tag2: 0\n",
      "land_size: 78\n",
      "parcel_id: 11581\n",
      "bld_comp_1: 1\n",
      "for_import: 0\n",
      "imported: 4625\n",
      "ward_code: 35\n",
      "file_numbe: 7892\n",
      "Lat: 0\n",
      "Long: 0\n",
      "geometry: 0\n"
     ]
    }
   ],
   "source": [
    "# Calculate null values in buildings dataset\n",
    "print(f'Total Records: {inB.shape[0]}')\n",
    "for col in inB.columns:\n",
    "    cur_col = inB.loc[:,col]\n",
    "    print(f'{col}: {cur_col.isna().sum()}')"
   ]
  },
  {
   "cell_type": "markdown",
   "metadata": {},
   "source": [
    "# Summarize buildings within a grid\n",
    "\n",
    "Create a 250m grid across the study arera and summarize bulidngs and parcels within"
   ]
  },
  {
   "cell_type": "code",
   "execution_count": 12,
   "metadata": {},
   "outputs": [],
   "source": [
    "# Generate the grid\n",
    "if not os.path.exists(summary_grid):\n",
    "    grid = helper.generate_grid(inAOI, res, m_crs)\n",
    "    grid.to_file(summary_grid)\n",
    "else:\n",
    "    grid = gpd.read_file(summary_grid)"
   ]
  },
  {
   "cell_type": "code",
   "execution_count": 15,
   "metadata": {},
   "outputs": [],
   "source": [
    "if inB.crs.to_epsg() != grid.crs.to_epsg():\n",
    "    inB = inB.to_crs(grid.crs)\n",
    "    \n",
    "grid = helper.summarize_in_grid(grid, inDA, inB, inP=None)"
   ]
  },
  {
   "cell_type": "code",
   "execution_count": 16,
   "metadata": {},
   "outputs": [
    {
     "data": {
      "text/plain": [
       "107.0"
      ]
     },
     "execution_count": 16,
     "metadata": {},
     "output_type": "execute_result"
    }
   ],
   "source": [
    "grid['per_b'].max()"
   ]
  },
  {
   "cell_type": "code",
   "execution_count": 17,
   "metadata": {},
   "outputs": [
    {
     "data": {
      "text/html": [
       "<div>\n",
       "<style scoped>\n",
       "    .dataframe tbody tr th:only-of-type {\n",
       "        vertical-align: middle;\n",
       "    }\n",
       "\n",
       "    .dataframe tbody tr th {\n",
       "        vertical-align: top;\n",
       "    }\n",
       "\n",
       "    .dataframe thead th {\n",
       "        text-align: right;\n",
       "    }\n",
       "</style>\n",
       "<table border=\"1\" class=\"dataframe\">\n",
       "  <thead>\n",
       "    <tr style=\"text-align: right;\">\n",
       "      <th></th>\n",
       "      <th>index</th>\n",
       "      <th>rowIdx</th>\n",
       "      <th>colIdx</th>\n",
       "      <th>geometry</th>\n",
       "      <th>per_b</th>\n",
       "      <th>per_da</th>\n",
       "    </tr>\n",
       "  </thead>\n",
       "  <tbody>\n",
       "    <tr>\n",
       "      <th>0</th>\n",
       "      <td>0</td>\n",
       "      <td>611011.796277</td>\n",
       "      <td>694835.149605</td>\n",
       "      <td>POLYGON ((611011.796 694835.150, 611261.796 69...</td>\n",
       "      <td>0.0</td>\n",
       "      <td>0.0</td>\n",
       "    </tr>\n",
       "    <tr>\n",
       "      <th>1</th>\n",
       "      <td>1</td>\n",
       "      <td>611011.796277</td>\n",
       "      <td>695085.149605</td>\n",
       "      <td>POLYGON ((611011.796 695085.150, 611261.796 69...</td>\n",
       "      <td>0.0</td>\n",
       "      <td>3.0</td>\n",
       "    </tr>\n",
       "    <tr>\n",
       "      <th>2</th>\n",
       "      <td>2</td>\n",
       "      <td>611011.796277</td>\n",
       "      <td>695335.149605</td>\n",
       "      <td>POLYGON ((611011.796 695335.150, 611261.796 69...</td>\n",
       "      <td>0.0</td>\n",
       "      <td>5.0</td>\n",
       "    </tr>\n",
       "    <tr>\n",
       "      <th>3</th>\n",
       "      <td>3</td>\n",
       "      <td>611011.796277</td>\n",
       "      <td>695585.149605</td>\n",
       "      <td>POLYGON ((611011.796 695585.150, 611261.796 69...</td>\n",
       "      <td>0.0</td>\n",
       "      <td>22.0</td>\n",
       "    </tr>\n",
       "    <tr>\n",
       "      <th>4</th>\n",
       "      <td>4</td>\n",
       "      <td>611011.796277</td>\n",
       "      <td>695835.149605</td>\n",
       "      <td>POLYGON ((611011.796 695835.150, 611261.796 69...</td>\n",
       "      <td>0.0</td>\n",
       "      <td>13.0</td>\n",
       "    </tr>\n",
       "  </tbody>\n",
       "</table>\n",
       "</div>"
      ],
      "text/plain": [
       "   index         rowIdx         colIdx  \\\n",
       "0      0  611011.796277  694835.149605   \n",
       "1      1  611011.796277  695085.149605   \n",
       "2      2  611011.796277  695335.149605   \n",
       "3      3  611011.796277  695585.149605   \n",
       "4      4  611011.796277  695835.149605   \n",
       "\n",
       "                                            geometry  per_b  per_da  \n",
       "0  POLYGON ((611011.796 694835.150, 611261.796 69...    0.0     0.0  \n",
       "1  POLYGON ((611011.796 695085.150, 611261.796 69...    0.0     3.0  \n",
       "2  POLYGON ((611011.796 695335.150, 611261.796 69...    0.0     5.0  \n",
       "3  POLYGON ((611011.796 695585.150, 611261.796 69...    0.0    22.0  \n",
       "4  POLYGON ((611011.796 695835.150, 611261.796 69...    0.0    13.0  "
      ]
     },
     "execution_count": 17,
     "metadata": {},
     "output_type": "execute_result"
    }
   ],
   "source": [
    "grid.head()"
   ]
  },
  {
   "cell_type": "code",
   "execution_count": 18,
   "metadata": {},
   "outputs": [],
   "source": [
    "grid.to_file(summary_grid)"
   ]
  },
  {
   "cell_type": "markdown",
   "metadata": {},
   "source": [
    "# RETIRED"
   ]
  },
  {
   "cell_type": "code",
   "execution_count": null,
   "metadata": {},
   "outputs": [],
   "source": [
    "# Summarize buildings in parcels\n",
    "inP['BLDG_I'] = 0\n",
    "inP['BLDG_C'] = 0\n",
    "inP['BLDG_I_G'] = 0\n",
    "inP['BLDG_C_G'] = 0\n",
    "for idx, row in inP.iterrows():\n",
    "    # Summarize collected buildings\n",
    "    potential_buildings = inB.loc[list(b_idx.intersection(row['geometry'].bounds))]\n",
    "    m_bld = potential_buildings.loc[~potential_buildings.intersects(row['geometry'])]\n",
    "    i_bld = potential_buildings.loc[potential_buildings.intersects(row['geometry'])]\n",
    "    c_bld = potential_buildings.loc[potential_buildings['geometry'].apply(lambda x: row['geometry'].contains(x))]    \n",
    "    inP.loc[idx, 'BLDG_I'] = i_bld.shape[0]\n",
    "    inP.loc[idx, 'BLDG_C'] = c_bld.shape[0]\n",
    "    \n",
    "    # Summarize buildings in Google\n",
    "    potential_buildings = inG.loc[list(g_idx.intersection(row['geometry'].bounds))]\n",
    "    m_bld_g = potential_buildings.loc[~potential_buildings.intersects(row['geometry'])]\n",
    "    i_bld_g = potential_buildings.loc[potential_buildings.intersects(row['geometry'])]\n",
    "    c_bld_g = potential_buildings.loc[potential_buildings['geometry'].apply(lambda x: row['geometry'].contains(x))]    \n",
    "    inP.loc[idx, 'BLDG_I_G'] = i_bld_g.shape[0]\n",
    "    inP.loc[idx, 'BLDG_C_G'] = c_bld_g.shape[0]\n",
    "    \n",
    "    ''' # uncomment this section to stop the loop add a specific index in order to run plotting below\n",
    "    if idx > 3:\n",
    "        break\n",
    "    '''"
   ]
  },
  {
   "cell_type": "code",
   "execution_count": null,
   "metadata": {},
   "outputs": [],
   "source": [
    "m = folium.Map(location=[potential_buildings.unary_union.centroid.y, potential_buildings.unary_union.centroid.x], zoom_start=18)\n",
    "try:\n",
    "    folium.GeoJson(row['geometry'], \n",
    "             style_function=lambda x: {'fillOpacity':0.5, 'fillColor': 'red', 'color':'#520f0a'}).add_to(m)\n",
    "except:\n",
    "    pass\n",
    "try:\n",
    "    folium.GeoJson(data=m_bld.to_json(), \n",
    "              style_function=lambda x: {'fillOpacity':1,'fillColor': '#ebab15', 'stroke': False}).add_to(m)\n",
    "except:\n",
    "    pass\n",
    "try:\n",
    "    folium.GeoJson(i_bld.to_json(), \n",
    "               style_function=lambda x: {'fillOpacity':1, 'fillColor': '#6878ed', 'stroke': False}).add_to(m)\n",
    "except:\n",
    "    pass\n",
    "try:\n",
    "    folium.GeoJson(c_bld.to_json(), \n",
    "               style_function=lambda x: {'fillOpacity':1, 'fillColor': '#68ed76', 'stroke': False}).add_to(m)\n",
    "except:\n",
    "    pass\n",
    "\n",
    "try:\n",
    "    folium.GeoJson(data=potential_buildings.to_json(), \n",
    "              style_function=lambda x: {'fillOpacity':0,'fillColor': '#ebab15'}).add_to(m)\n",
    "except:\n",
    "    pass\n",
    "\n",
    "m\n"
   ]
  },
  {
   "cell_type": "code",
   "execution_count": null,
   "metadata": {},
   "outputs": [],
   "source": []
  }
 ],
 "metadata": {
  "kernelspec": {
   "display_name": "Python (geog)",
   "language": "python",
   "name": "geog"
  },
  "language_info": {
   "codemirror_mode": {
    "name": "ipython",
    "version": 3
   },
   "file_extension": ".py",
   "mimetype": "text/x-python",
   "name": "python",
   "nbconvert_exporter": "python",
   "pygments_lexer": "ipython3",
   "version": "3.9.7"
  }
 },
 "nbformat": 4,
 "nbformat_minor": 2
}
