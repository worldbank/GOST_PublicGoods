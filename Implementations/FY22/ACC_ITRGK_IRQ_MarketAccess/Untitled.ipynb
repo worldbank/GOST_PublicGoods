{
 "cells": [
  {
   "cell_type": "code",
   "execution_count": 2,
   "metadata": {},
   "outputs": [],
   "source": [
    "import sys, os, importlib\n",
    "import rasterio\n",
    "\n",
    "import geopandas as gpd\n",
    "import pandas as pd\n",
    "import skimage.graph as graph\n",
    "\n",
    "sys.path.append(\"/home/wb411133/Code/GOSTNets_Raster/src\")\n",
    "\n",
    "import GOSTNets_Raster.market_access as ma"
   ]
  },
  {
   "cell_type": "code",
   "execution_count": 7,
   "metadata": {},
   "outputs": [],
   "source": [
    "in_folder = \"/home/wb411133/temp/IRQ\"\n",
    "friction_surface_file = os.path.join(in_folder, \"Friction_2020_1km.tif\")\n",
    "airport_file = os.path.join(in_folder, \"airports.shp\")\n"
   ]
  },
  {
   "cell_type": "code",
   "execution_count": 10,
   "metadata": {},
   "outputs": [],
   "source": [
    "inR = rasterio.open(friction_surface_file)\n",
    "inR_data = inR.read()\n",
    "inR_data[inR_data < 0] = 9999999\n",
    "inR_data = inR_data * 1000\n",
    "\n",
    "mcp = graph.MCP_Geometric(inR_data[0,:,:])\n",
    "\n",
    "inA = gpd.read_file(airport_file)"
   ]
  },
  {
   "cell_type": "code",
   "execution_count": 11,
   "metadata": {},
   "outputs": [],
   "source": [
    "costs, traceback = ma.calculate_travel_time(inR, mcp, inA)"
   ]
  },
  {
   "cell_type": "code",
   "execution_count": 12,
   "metadata": {},
   "outputs": [],
   "source": [
    "with rasterio.open(os.path.join(in_folder, \"TT_airports.tif\"), 'w', **inR.meta) as outR:\n",
    "    outR.write_band(1, costs)"
   ]
  },
  {
   "cell_type": "code",
   "execution_count": 19,
   "metadata": {},
   "outputs": [],
   "source": [
    "with rasterio.open(os.path.join(in_folder, \"Trace_airports.tif\"), 'w', **inR.meta) as outR:\n",
    "    outR.write_band(1, traceback)"
   ]
  },
  {
   "cell_type": "code",
   "execution_count": 17,
   "metadata": {},
   "outputs": [],
   "source": [
    "ma.calculate_travel_time?"
   ]
  },
  {
   "cell_type": "code",
   "execution_count": 15,
   "metadata": {
    "scrolled": true
   },
   "outputs": [
    {
     "data": {
      "text/plain": [
       "['Point',\n",
       " '__builtins__',\n",
       " '__cached__',\n",
       " '__doc__',\n",
       " '__file__',\n",
       " '__loader__',\n",
       " '__name__',\n",
       " '__package__',\n",
       " '__spec__',\n",
       " '_mcp',\n",
       " 'box',\n",
       " 'calculate_travel_time',\n",
       " 'cascaded_union',\n",
       " 'copy',\n",
       " 'features',\n",
       " 'generate_feature_vectors',\n",
       " 'generate_market_sheds',\n",
       " 'generate_market_sheds_old',\n",
       " 'generate_network_raster',\n",
       " 'generic_filter',\n",
       " 'get_all_amenities',\n",
       " 'get_mcp_dests',\n",
       " 'get_nodes',\n",
       " 'get_roads',\n",
       " 'get_speed',\n",
       " 'gn',\n",
       " 'gpd',\n",
       " 'graph',\n",
       " 'importlib',\n",
       " 'loads',\n",
       " 'mask',\n",
       " 'name_mcp_dests',\n",
       " 'np',\n",
       " 'os',\n",
       " 'osm',\n",
       " 'ox',\n",
       " 'pd',\n",
       " 'rMisc',\n",
       " 'rasterio',\n",
       " 'shape',\n",
       " 'sparse',\n",
       " 'speed_dict',\n",
       " 'summarize_travel_time_populations',\n",
       " 'sys',\n",
       " 'tPrint',\n",
       " 'time']"
      ]
     },
     "execution_count": 15,
     "metadata": {},
     "output_type": "execute_result"
    }
   ],
   "source": [
    "dir(ma)"
   ]
  },
  {
   "cell_type": "code",
   "execution_count": 20,
   "metadata": {},
   "outputs": [],
   "source": [
    "ma.summarize_travel_time_populations?"
   ]
  },
  {
   "cell_type": "code",
   "execution_count": null,
   "metadata": {},
   "outputs": [],
   "source": []
  }
 ],
 "metadata": {
  "kernelspec": {
   "display_name": "Earth Engine",
   "language": "python",
   "name": "ee"
  },
  "language_info": {
   "codemirror_mode": {
    "name": "ipython",
    "version": 3
   },
   "file_extension": ".py",
   "mimetype": "text/x-python",
   "name": "python",
   "nbconvert_exporter": "python",
   "pygments_lexer": "ipython3",
   "version": "3.9.4"
  }
 },
 "nbformat": 4,
 "nbformat_minor": 2
}
