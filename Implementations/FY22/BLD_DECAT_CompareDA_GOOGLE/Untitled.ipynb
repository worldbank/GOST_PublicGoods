{
 "cells": [
  {
   "cell_type": "markdown",
   "metadata": {},
   "source": [
    "# Compare builidng footprints\n",
    "\n",
    "Compare the newly released Google footprints dataset to the DigitizeAfrica data\n",
    "\n",
    "https://sites.research.google/open-buildings/\n"
   ]
  },
  {
   "cell_type": "code",
   "execution_count": 64,
   "metadata": {},
   "outputs": [],
   "source": [
    "import sys, os, importlib\n",
    "import rasterio\n",
    "\n",
    "import pandas as pd\n",
    "import geopandas as gpd\n",
    "import GOSTRocks.rasterMisc as rMisc\n",
    "\n",
    "from GOSTRocks.misc import tPrint\n",
    "from shapely.geometry import Point\n",
    "from shapely.wkt import loads"
   ]
  },
  {
   "cell_type": "code",
   "execution_count": 5,
   "metadata": {},
   "outputs": [],
   "source": [
    "google_file = '/home/wb411133/temp/0fd_buildings.csv.gz'\n",
    "inG = pd.read_csv(google_file)\n",
    "inG['geometry'] = inG['geometry'].apply(lambda x: loads(x))\n",
    "inGeom = gpd.GeoDataFrame(inG, geometry='geometry', crs='epsg:4326')"
   ]
  },
  {
   "cell_type": "code",
   "execution_count": 19,
   "metadata": {},
   "outputs": [],
   "source": [
    "da_file =  '/home/public/Data/COUNTRY/GHA/Buildings/120519/AFRICA_GHANA_building_32630.shp'\n",
    "inD = gpd.read_file(da_file)"
   ]
  },
  {
   "cell_type": "code",
   "execution_count": 22,
   "metadata": {},
   "outputs": [],
   "source": [
    "# limit the datasets to the select AOI\n",
    "aoi_file = 'Data/ACCRA_AOI.shp'\n",
    "inA = gpd.read_file(aoi_file)"
   ]
  },
  {
   "cell_type": "code",
   "execution_count": 24,
   "metadata": {},
   "outputs": [],
   "source": [
    "inG_aoi = inA.to_crs(inGeom.crs)"
   ]
  },
  {
   "cell_type": "code",
   "execution_count": 25,
   "metadata": {},
   "outputs": [],
   "source": [
    "selG = inGeom.loc[inGeom.intersects(inG_aoi.unary_union)]"
   ]
  },
  {
   "cell_type": "code",
   "execution_count": 26,
   "metadata": {},
   "outputs": [],
   "source": [
    "inD_aoi = inA.to_crs(inD.crs)\n",
    "selD = inD.loc[inD.intersects(inD_aoi.unary_union)]"
   ]
  },
  {
   "cell_type": "code",
   "execution_count": 29,
   "metadata": {},
   "outputs": [
    {
     "name": "stderr",
     "output_type": "stream",
     "text": [
      "<ipython-input-29-cefd2e42a7bc>:5: UserWarning: Column names longer than 10 characters will be truncated when saved to ESRI Shapefile.\n",
      "  selG.to_file(os.path.join(out_folder, \"google.shp\"))\n"
     ]
    }
   ],
   "source": [
    "out_folder = '/home/wb411133/temp/B_comparison'\n",
    "if not os.path.exists(out_folder):\n",
    "    os.makedirs(out_folder)\n",
    "    \n",
    "selG.to_file(os.path.join(out_folder, \"google.shp\"))\n",
    "selD.to_file(os.path.join(out_folder, \"da.shp\"))"
   ]
  },
  {
   "cell_type": "markdown",
   "metadata": {},
   "source": [
    "# Rasterize buildings"
   ]
  },
  {
   "cell_type": "code",
   "execution_count": 30,
   "metadata": {},
   "outputs": [
    {
     "data": {
      "text/plain": [
       "['Affine',\n",
       " 'BoundaryNorm',\n",
       " 'Counter',\n",
       " 'ListedColormap',\n",
       " 'MemoryFile',\n",
       " 'MergeAlg',\n",
       " 'Resampling',\n",
       " '__builtins__',\n",
       " '__cached__',\n",
       " '__doc__',\n",
       " '__file__',\n",
       " '__loader__',\n",
       " '__name__',\n",
       " '__package__',\n",
       " '__spec__',\n",
       " 'affine',\n",
       " 'box',\n",
       " 'clipRaster',\n",
       " 'contextmanager',\n",
       " 'create_rasterio_inmemory',\n",
       " 'curPath',\n",
       " 'features',\n",
       " 'gpd',\n",
       " 'groupJaccard',\n",
       " 'inspect',\n",
       " 'jaccardIndex',\n",
       " 'json',\n",
       " 'logging',\n",
       " 'map_viirs',\n",
       " 'mask',\n",
       " 'np',\n",
       " 'os',\n",
       " 'pd',\n",
       " 'plt',\n",
       " 'polygonizeArray',\n",
       " 'pyproj',\n",
       " 'rasterio',\n",
       " 'rasterize',\n",
       " 'rasterizeDataFrame',\n",
       " 'reproject',\n",
       " 'runAllJaccard',\n",
       " 'rxr',\n",
       " 'sns',\n",
       " 'standardizeInputRasters',\n",
       " 'sys',\n",
       " 'tPrint',\n",
       " 'wkt',\n",
       " 'xr',\n",
       " 'zonalResult',\n",
       " 'zonalStats']"
      ]
     },
     "execution_count": 30,
     "metadata": {},
     "output_type": "execute_result"
    }
   ],
   "source": [
    "dir(rMisc)"
   ]
  },
  {
   "cell_type": "code",
   "execution_count": 31,
   "metadata": {},
   "outputs": [
    {
     "data": {
      "text/html": [
       "<div>\n",
       "<style scoped>\n",
       "    .dataframe tbody tr th:only-of-type {\n",
       "        vertical-align: middle;\n",
       "    }\n",
       "\n",
       "    .dataframe tbody tr th {\n",
       "        vertical-align: top;\n",
       "    }\n",
       "\n",
       "    .dataframe thead th {\n",
       "        text-align: right;\n",
       "    }\n",
       "</style>\n",
       "<table border=\"1\" class=\"dataframe\">\n",
       "  <thead>\n",
       "    <tr style=\"text-align: right;\">\n",
       "      <th></th>\n",
       "      <th>PolyDate</th>\n",
       "      <th>PolySource</th>\n",
       "      <th>ImgSource</th>\n",
       "      <th>ImgDate</th>\n",
       "      <th>MosaicName</th>\n",
       "      <th>geometry</th>\n",
       "    </tr>\n",
       "  </thead>\n",
       "  <tbody>\n",
       "    <tr>\n",
       "      <th>3</th>\n",
       "      <td>2019-11</td>\n",
       "      <td>Ecopia</td>\n",
       "      <td>Maxar</td>\n",
       "      <td>2017-12</td>\n",
       "      <td>19Q4_CUSTOM_GHANA_BBA</td>\n",
       "      <td>POINT (793938.654 676179.729)</td>\n",
       "    </tr>\n",
       "    <tr>\n",
       "      <th>14</th>\n",
       "      <td>2019-11</td>\n",
       "      <td>Ecopia</td>\n",
       "      <td>Maxar</td>\n",
       "      <td>2018-10</td>\n",
       "      <td>19Q4_CUSTOM_GHANA_BBA</td>\n",
       "      <td>POINT (809652.182 627334.699)</td>\n",
       "    </tr>\n",
       "    <tr>\n",
       "      <th>19</th>\n",
       "      <td>2019-11</td>\n",
       "      <td>Ecopia</td>\n",
       "      <td>Maxar</td>\n",
       "      <td>2017-02</td>\n",
       "      <td>19Q4_CUSTOM_GHANA_BBA</td>\n",
       "      <td>POINT (821129.395 671397.811)</td>\n",
       "    </tr>\n",
       "    <tr>\n",
       "      <th>25</th>\n",
       "      <td>2019-11</td>\n",
       "      <td>Ecopia</td>\n",
       "      <td>Maxar</td>\n",
       "      <td>2009-11</td>\n",
       "      <td>19Q4_CUSTOM_GHANA_BBA</td>\n",
       "      <td>POINT (805731.401 660383.571)</td>\n",
       "    </tr>\n",
       "    <tr>\n",
       "      <th>26</th>\n",
       "      <td>2019-11</td>\n",
       "      <td>Ecopia</td>\n",
       "      <td>Maxar</td>\n",
       "      <td>2018-10</td>\n",
       "      <td>19Q4_CUSTOM_GHANA_BBA</td>\n",
       "      <td>POINT (810550.634 630175.291)</td>\n",
       "    </tr>\n",
       "  </tbody>\n",
       "</table>\n",
       "</div>"
      ],
      "text/plain": [
       "   PolyDate PolySource ImgSource  ImgDate             MosaicName  \\\n",
       "3   2019-11     Ecopia     Maxar  2017-12  19Q4_CUSTOM_GHANA_BBA   \n",
       "14  2019-11     Ecopia     Maxar  2018-10  19Q4_CUSTOM_GHANA_BBA   \n",
       "19  2019-11     Ecopia     Maxar  2017-02  19Q4_CUSTOM_GHANA_BBA   \n",
       "25  2019-11     Ecopia     Maxar  2009-11  19Q4_CUSTOM_GHANA_BBA   \n",
       "26  2019-11     Ecopia     Maxar  2018-10  19Q4_CUSTOM_GHANA_BBA   \n",
       "\n",
       "                         geometry  \n",
       "3   POINT (793938.654 676179.729)  \n",
       "14  POINT (809652.182 627334.699)  \n",
       "19  POINT (821129.395 671397.811)  \n",
       "25  POINT (805731.401 660383.571)  \n",
       "26  POINT (810550.634 630175.291)  "
      ]
     },
     "execution_count": 31,
     "metadata": {},
     "output_type": "execute_result"
    }
   ],
   "source": [
    "inD_pt = selD.copy()\n",
    "inD_pt['geometry'] = inD_pt['geometry'].apply(lambda x: x.centroid)\n",
    "inD_pt.head()"
   ]
  },
  {
   "cell_type": "code",
   "execution_count": 32,
   "metadata": {},
   "outputs": [
    {
     "data": {
      "text/html": [
       "<div>\n",
       "<style scoped>\n",
       "    .dataframe tbody tr th:only-of-type {\n",
       "        vertical-align: middle;\n",
       "    }\n",
       "\n",
       "    .dataframe tbody tr th {\n",
       "        vertical-align: top;\n",
       "    }\n",
       "\n",
       "    .dataframe thead th {\n",
       "        text-align: right;\n",
       "    }\n",
       "</style>\n",
       "<table border=\"1\" class=\"dataframe\">\n",
       "  <thead>\n",
       "    <tr style=\"text-align: right;\">\n",
       "      <th></th>\n",
       "      <th>latitude</th>\n",
       "      <th>longitude</th>\n",
       "      <th>area_in_meters</th>\n",
       "      <th>confidence</th>\n",
       "      <th>geometry</th>\n",
       "      <th>full_plus_code</th>\n",
       "    </tr>\n",
       "  </thead>\n",
       "  <tbody>\n",
       "    <tr>\n",
       "      <th>3</th>\n",
       "      <td>5.737080</td>\n",
       "      <td>-0.304698</td>\n",
       "      <td>15.3569</td>\n",
       "      <td>0.8040</td>\n",
       "      <td>POINT (-0.30470 5.73708)</td>\n",
       "      <td>6CQXPMPW+R4M8</td>\n",
       "    </tr>\n",
       "    <tr>\n",
       "      <th>11</th>\n",
       "      <td>5.586767</td>\n",
       "      <td>-0.293191</td>\n",
       "      <td>7.6802</td>\n",
       "      <td>0.6689</td>\n",
       "      <td>POINT (-0.29319 5.58677)</td>\n",
       "      <td>6CQXHPP4+PP3Q</td>\n",
       "    </tr>\n",
       "    <tr>\n",
       "      <th>13</th>\n",
       "      <td>5.655424</td>\n",
       "      <td>-0.004686</td>\n",
       "      <td>9.0518</td>\n",
       "      <td>0.6443</td>\n",
       "      <td>POINT (-0.00469 5.65542)</td>\n",
       "      <td>6CQXMX4W+548R</td>\n",
       "    </tr>\n",
       "    <tr>\n",
       "      <th>20</th>\n",
       "      <td>5.693518</td>\n",
       "      <td>-0.268852</td>\n",
       "      <td>8.4102</td>\n",
       "      <td>0.7547</td>\n",
       "      <td>POINT (-0.26885 5.69352)</td>\n",
       "      <td>6CQXMPVJ+CF2P</td>\n",
       "    </tr>\n",
       "    <tr>\n",
       "      <th>22</th>\n",
       "      <td>5.267646</td>\n",
       "      <td>-0.887453</td>\n",
       "      <td>17.3254</td>\n",
       "      <td>0.6056</td>\n",
       "      <td>POINT (-0.88745 5.26765)</td>\n",
       "      <td>6CQX7497+323W</td>\n",
       "    </tr>\n",
       "  </tbody>\n",
       "</table>\n",
       "</div>"
      ],
      "text/plain": [
       "    latitude  longitude  area_in_meters  confidence                  geometry  \\\n",
       "3   5.737080  -0.304698         15.3569      0.8040  POINT (-0.30470 5.73708)   \n",
       "11  5.586767  -0.293191          7.6802      0.6689  POINT (-0.29319 5.58677)   \n",
       "13  5.655424  -0.004686          9.0518      0.6443  POINT (-0.00469 5.65542)   \n",
       "20  5.693518  -0.268852          8.4102      0.7547  POINT (-0.26885 5.69352)   \n",
       "22  5.267646  -0.887453         17.3254      0.6056  POINT (-0.88745 5.26765)   \n",
       "\n",
       "   full_plus_code  \n",
       "3   6CQXPMPW+R4M8  \n",
       "11  6CQXHPP4+PP3Q  \n",
       "13  6CQXMX4W+548R  \n",
       "20  6CQXMPVJ+CF2P  \n",
       "22  6CQX7497+323W  "
      ]
     },
     "execution_count": 32,
     "metadata": {},
     "output_type": "execute_result"
    }
   ],
   "source": [
    "inG_pt = selG.copy()\n",
    "inG_pt['geometry'] = inG_pt['geometry'].apply(lambda x: x.centroid)\n",
    "inG_pt.head()"
   ]
  },
  {
   "cell_type": "code",
   "execution_count": 38,
   "metadata": {},
   "outputs": [],
   "source": [
    "inG_pt = inG_pt.to_crs(inD_pt.crs)"
   ]
  },
  {
   "cell_type": "code",
   "execution_count": 75,
   "metadata": {},
   "outputs": [
    {
     "name": "stdout",
     "output_type": "stream",
     "text": [
      "{'init': 'epsg:32630'}\n"
     ]
    }
   ],
   "source": [
    "res = 100\n",
    "\n",
    "out_google = os.path.join(out_folder, f\"google_buildings_{res}.tif\")\n",
    "gR = rMisc.rasterizeDataFrame(inG_pt, out_google, mergeAlg='ADD', res = res)\n",
    "\n",
    "out_da = os.path.join(out_folder, f\"da_buildings_{res}.tif\")\n",
    "daR = rMisc.rasterizeDataFrame(inD_pt, out_da, mergeAlg='ADD', templateRaster = out_google)\n",
    "\n",
    "# Calculate differences between rasterized solutions\n",
    "diff_image = gR['vals'] - daR['vals']\n",
    "with rasterio.open(os.path.join(out_folder, f\"bldg_difference_{res}.tif\"), 'w', **gR['meta']) as outR:\n",
    "    outR.write_band(1, diff_image)"
   ]
  }
 ],
 "metadata": {
  "kernelspec": {
   "display_name": "Earth Engine",
   "language": "python",
   "name": "ee"
  },
  "language_info": {
   "codemirror_mode": {
    "name": "ipython",
    "version": 3
   },
   "file_extension": ".py",
   "mimetype": "text/x-python",
   "name": "python",
   "nbconvert_exporter": "python",
   "pygments_lexer": "ipython3",
   "version": "3.9.4"
  }
 },
 "nbformat": 4,
 "nbformat_minor": 2
}
