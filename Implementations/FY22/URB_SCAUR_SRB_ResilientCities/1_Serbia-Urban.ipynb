{
 "cells": [
  {
   "cell_type": "markdown",
   "metadata": {},
   "source": [
    "# 1) Serbia"
   ]
  },
  {
   "cell_type": "markdown",
   "metadata": {},
   "source": [
    "## Calculate urban extents"
   ]
  },
  {
   "cell_type": "code",
   "execution_count": 1,
   "metadata": {},
   "outputs": [],
   "source": [
    "import geopandas as gpd\n",
    "import pandas as pd\n",
    "import sys\n",
    "import os\n",
    "sys.path.append(os.path.join(os.path.expanduser(\"~\"), \"Repos\", \"GOST_Urban\"))\n",
    "import src.UrbanRaster as urban\n",
    "import rasterio as rio\n",
    "from geopy.geocoders import Nominatim, GeoNames\n",
    "from affine import Affine"
   ]
  },
  {
   "cell_type": "code",
   "execution_count": 2,
   "metadata": {},
   "outputs": [],
   "source": [
    "%load_ext autoreload\n",
    "%autoreload 2"
   ]
  },
  {
   "cell_type": "code",
   "execution_count": 3,
   "metadata": {},
   "outputs": [],
   "source": [
    "data_dir = os.path.join(os.path.expanduser(\"~\"), \"data\", \"serbia\")\n",
    "wp_dir = os.path.join(data_dir, \"wp\")"
   ]
  },
  {
   "cell_type": "code",
   "execution_count": 4,
   "metadata": {},
   "outputs": [],
   "source": [
    "out_dir = os.path.join(data_dir, \"output\")\n",
    "if not os.path.exists(out_dir):\n",
    "    os.mkdir(out_dir)"
   ]
  },
  {
   "cell_type": "code",
   "execution_count": 5,
   "metadata": {},
   "outputs": [
    {
     "data": {
      "text/plain": [
       "'srb_ppp_2020_1km_Aggregated_UNadj.tif'"
      ]
     },
     "execution_count": 5,
     "metadata": {},
     "output_type": "execute_result"
    }
   ],
   "source": [
    "os.listdir(wp_dir)[0]"
   ]
  },
  {
   "cell_type": "code",
   "execution_count": 25,
   "metadata": {},
   "outputs": [],
   "source": [
    "wp = rio.open(os.path.join(wp_dir, 'srb_ppp_2020_1km_Aggregated_UNadj.tif'))"
   ]
  },
  {
   "cell_type": "code",
   "execution_count": 26,
   "metadata": {},
   "outputs": [],
   "source": [
    "urban_calculator = urban.urbanGriddedPop(wp)"
   ]
  },
  {
   "cell_type": "code",
   "execution_count": 30,
   "metadata": {
    "scrolled": true
   },
   "outputs": [
    {
     "name": "stdout",
     "output_type": "stream",
     "text": [
      "13:41:29\t: Read in urban data\n",
      "13:41:29\t: Creating Shape 0\n"
     ]
    }
   ],
   "source": [
    "urban_extents = urban_calculator.calculateUrban(densVal=300, totalPopThresh=5000, \n",
    "                                               smooth=True, queen=False,\n",
    "                                               verbose=True)"
   ]
  },
  {
   "cell_type": "code",
   "execution_count": 55,
   "metadata": {},
   "outputs": [],
   "source": [
    "urban_extents.loc[:, \"centroid\"] = urban_extents.geometry.apply(lambda ext: ext.centroid)\n",
    "# urban_extents.loc[:, \"yx\"] = urban_extents.centroid.apply(lambda cent: (cent.y, cent.x))"
   ]
  },
  {
   "cell_type": "code",
   "execution_count": 42,
   "metadata": {},
   "outputs": [],
   "source": [
    "geolocator = Nominatim(user_agent=\"new_app\")"
   ]
  },
  {
   "cell_type": "code",
   "execution_count": 57,
   "metadata": {},
   "outputs": [],
   "source": [
    "extents_geocode = {}\n",
    "for idx, row in urban_extents.iterrows():\n",
    "    res = geolocator.reverse(query = (row.centroid.y, row.centroid.x), language = \"en\", zoom = 10)\n",
    "    extents_geocode[idx] = res"
   ]
  },
  {
   "cell_type": "code",
   "execution_count": 58,
   "metadata": {},
   "outputs": [],
   "source": [
    "addresses = [l.raw['address'] for l in list(extents_geocode.values())]\n",
    "# city_districts = [a['city_district'] if 'city_district' in a.keys() else \"\" for a in addresses]\n",
    "cities = [a['city'] if 'city' in a.keys() else \"\" for a in addresses]\n",
    "counties = [a['county'] if 'county' in a.keys() else \"\" for a in addresses]\n",
    "states = [a['state'] if 'state' in a.keys() else \"\" for a in addresses]"
   ]
  },
  {
   "cell_type": "code",
   "execution_count": 60,
   "metadata": {},
   "outputs": [],
   "source": [
    "# urban_extents.loc[:, \"city_district\"] = city_districts\n",
    "urban_extents.loc[:, \"city\"] = cities\n",
    "urban_extents.loc[:, \"county\"] = counties\n",
    "urban_extents.loc[:, \"state\"] = states"
   ]
  },
  {
   "cell_type": "code",
   "execution_count": 63,
   "metadata": {},
   "outputs": [],
   "source": [
    "urban_extents.drop('centroid', axis=1, inplace=True)"
   ]
  },
  {
   "cell_type": "code",
   "execution_count": 64,
   "metadata": {},
   "outputs": [],
   "source": [
    "urban_extents.to_file(os.path.join(out_dir, \"urban_extents.shp\"), driver=\"ESRI Shapefile\", encoding='utf-8')\n",
    "# urban_extents.to_file(os.path.join(out_dir, \"urban_extents.geojson\"), driver='GeoJSON', encoding='utf-8')"
   ]
  },
  {
   "cell_type": "code",
   "execution_count": 34,
   "metadata": {},
   "outputs": [
    {
     "name": "stdout",
     "output_type": "stream",
     "text": [
      "15:03:50\t: Read in urban data\n",
      "15:03:50\t: Creating Shape 0\n"
     ]
    }
   ],
   "source": [
    "urban_extents_hd = urban_calculator.calculateUrban(densVal=1500, totalPopThresh=50000, \n",
    "                                               smooth=True, queen=False,\n",
    "                                               verbose=True)"
   ]
  },
  {
   "cell_type": "code",
   "execution_count": 40,
   "metadata": {},
   "outputs": [],
   "source": [
    "urban_extents_hd.loc[:, \"centroid\"] = urban_extents_hd.geometry.apply(lambda ext: ext.centroid)\n",
    "urban_extents_hd.loc[:, \"rep_point\"] = urban_extents_hd.geometry.apply(lambda ext: ext.representative_point())"
   ]
  },
  {
   "cell_type": "code",
   "execution_count": 44,
   "metadata": {},
   "outputs": [],
   "source": [
    "extents_geocode = {}\n",
    "for idx, row in urban_extents_hd.iterrows():\n",
    "    res = geolocator.reverse(query = (row.centroid.y, row.centroid.x), language = \"en\", zoom = 10)\n",
    "    extents_geocode[idx] = res"
   ]
  },
  {
   "cell_type": "code",
   "execution_count": 45,
   "metadata": {},
   "outputs": [],
   "source": [
    "addresses = [l.raw['address'] for l in list(extents_geocode.values())]\n",
    "# city_districts = [a['city_district'] if 'city_district' in a.keys() else \"\" for a in addresses]\n",
    "cities = [a['city'] if 'city' in a.keys() else \"\" for a in addresses]\n",
    "counties = [a['county'] if 'county' in a.keys() else \"\" for a in addresses]\n",
    "states = [a['state'] if 'state' in a.keys() else \"\" for a in addresses]"
   ]
  },
  {
   "cell_type": "code",
   "execution_count": 46,
   "metadata": {},
   "outputs": [],
   "source": [
    "urban_extents_hd.loc[:, \"city\"] = cities\n",
    "urban_extents_hd.loc[:, \"county\"] = counties\n",
    "urban_extents_hd.loc[:, \"state\"] = states"
   ]
  },
  {
   "cell_type": "code",
   "execution_count": 47,
   "metadata": {},
   "outputs": [],
   "source": [
    "urban_extents_hd.drop('centroid', axis=1, inplace=True)\n",
    "urban_extents_hd.drop('rep_point', axis=1, inplace=True)"
   ]
  },
  {
   "cell_type": "code",
   "execution_count": 48,
   "metadata": {},
   "outputs": [],
   "source": [
    "urban_extents_hd.to_file(os.path.join(out_dir, \"urban_extents_hd.shp\"), driver=\"ESRI Shapefile\", encoding='utf-8')"
   ]
  },
  {
   "cell_type": "code",
   "execution_count": 69,
   "metadata": {},
   "outputs": [],
   "source": [
    "urban_extents = gpd.read_file(os.path.join(out_dir, \"urban_extents.shp\"))"
   ]
  },
  {
   "cell_type": "code",
   "execution_count": 61,
   "metadata": {},
   "outputs": [],
   "source": [
    "urban_extents.drop('geometry', axis=1, inplace=True)"
   ]
  },
  {
   "cell_type": "code",
   "execution_count": 63,
   "metadata": {},
   "outputs": [],
   "source": [
    "urban_extents.to_csv(os.path.join(out_dir, \"urban_extents.csv\"), encoding='utf-8')"
   ]
  },
  {
   "cell_type": "code",
   "execution_count": 64,
   "metadata": {},
   "outputs": [],
   "source": [
    "urban_extents_hd.to_csv(os.path.join(out_dir, \"urban_extents_hd.csv\"), encoding='utf-8')"
   ]
  },
  {
   "cell_type": "markdown",
   "metadata": {},
   "source": [
    "## Calculate degree of urbanization"
   ]
  },
  {
   "cell_type": "markdown",
   "metadata": {},
   "source": [
    "WP data needs to be reprojected for distance threshold."
   ]
  },
  {
   "cell_type": "code",
   "execution_count": 92,
   "metadata": {},
   "outputs": [],
   "source": [
    "import numpy as np\n",
    "import rasterio\n",
    "from rasterio.warp import calculate_default_transform, reproject, Resampling\n",
    "\n",
    "dst_crs = 'EPSG:32634'\n",
    "\n",
    "with rasterio.open(os.path.join(wp_dir, 'srb_ppp_2020_1km_Aggregated_UNadj.tif')) as src:\n",
    "    transform, width, height = calculate_default_transform(\n",
    "        src.crs, dst_crs, src.width, src.height, *src.bounds)\n",
    "    kwargs = src.meta.copy()\n",
    "    kwargs.update({\n",
    "        'crs': dst_crs,\n",
    "        'transform': transform,\n",
    "        'width': width,\n",
    "        'height': height\n",
    "    })\n",
    "    \n",
    "    with rasterio.open(os.path.join(wp_dir, 'srb_ppp_2020_1km_Reproj.tif'), 'w', **kwargs) as dst:\n",
    "        for i in range(1, src.count + 1):\n",
    "            reproject(\n",
    "                source=rasterio.band(src, i),\n",
    "                destination=rasterio.band(dst, i),\n",
    "                src_transform=src.transform,\n",
    "                src_crs=src.crs,\n",
    "                dst_transform=transform,\n",
    "                dst_crs=dst_crs,\n",
    "                resampling=Resampling.nearest)"
   ]
  },
  {
   "cell_type": "code",
   "execution_count": 93,
   "metadata": {},
   "outputs": [],
   "source": [
    "urban_calculator = urban.urbanGriddedPop(os.path.join(wp_dir, 'srb_ppp_2020_1km_Reproj.tif'))"
   ]
  },
  {
   "cell_type": "code",
   "execution_count": 94,
   "metadata": {},
   "outputs": [],
   "source": [
    "degUrb = urban_calculator.calculateDegurba(out_raster = os.path.join(out_dir, \"deg_urb.tif\"))"
   ]
  },
  {
   "cell_type": "code",
   "execution_count": 96,
   "metadata": {},
   "outputs": [
    {
     "data": {
      "text/plain": [
       "dict_keys(['raster', 'shapes', 'HD', 'URB'])"
      ]
     },
     "execution_count": 96,
     "metadata": {},
     "output_type": "execute_result"
    }
   ],
   "source": [
    "degUrb.keys()"
   ]
  },
  {
   "cell_type": "code",
   "execution_count": 100,
   "metadata": {},
   "outputs": [
    {
     "data": {
      "text/plain": [
       "array([[11., 11., 11., ..., 11., 11., 11.],\n",
       "       [11., 11., 11., ..., 11., 11., 11.],\n",
       "       [11., 11., 11., ..., 11., 11., 11.],\n",
       "       ...,\n",
       "       [11., 11., 11., ..., 11., 11., 11.],\n",
       "       [11., 11., 11., ..., 11., 11., 11.],\n",
       "       [11., 11., 11., ..., 11., 11., 11.]], dtype=float32)"
      ]
     },
     "execution_count": 100,
     "metadata": {},
     "output_type": "execute_result"
    }
   ],
   "source": [
    "degUrb['URB']"
   ]
  },
  {
   "cell_type": "markdown",
   "metadata": {},
   "source": [
    "## GHS MOD Dataset"
   ]
  },
  {
   "cell_type": "code",
   "execution_count": 53,
   "metadata": {},
   "outputs": [],
   "source": [
    "# clip from global GHSL file\n",
    "ghs_tif = \"/home/public/Data/GLOBAL/URBAN/GHS/GHS_SMOD/GHS_SMOD_POP2015_GLOBE_R2019A_54009_1K_V2_0.tif\"\n",
    "in_ghs_mod = rio.open(ghs_tif)\n",
    "if not inB.crs == in_ghs_mod.crs:\n",
    "    inB = inB.to_crs(in_ghs_mod.crs.to_string())"
   ]
  },
  {
   "cell_type": "code",
   "execution_count": 56,
   "metadata": {},
   "outputs": [],
   "source": [
    "input_ghs_mod = os.path.join(out_dir, \"GHS_MOD.tif\")\n",
    "rMisc.clipRaster(in_ghs_mod, inB, input_ghs_mod)"
   ]
  },
  {
   "cell_type": "markdown",
   "metadata": {},
   "source": [
    "## Landscape Expansion Index"
   ]
  },
  {
   "cell_type": "code",
   "execution_count": 7,
   "metadata": {},
   "outputs": [],
   "source": [
    "import os, sys, logging, importlib\n",
    "\n",
    "import geojson, rasterio\n",
    "import rasterio.features\n",
    "\n",
    "import geopandas as gpd\n",
    "import pandas as pd\n",
    "import numpy as np\n",
    "\n",
    "from shapely.geometry import shape, GeometryCollection\n",
    "from shapely.wkt import loads\n",
    "from matplotlib import pyplot\n",
    "from rasterio.plot import show, show_hist\n",
    "\n",
    "#Import GOST urban functions\n",
    "import src.LEI as lei\n",
    "\n",
    "try:    \n",
    "    sys.path.append(os.path.join(os.path.expanduser(\"~\"), \"Repos\", \"gostrocks\", \"src\"))\n",
    "    import GOSTRocks.rasterMisc as rMisc\n",
    "except:\n",
    "    print(\"gostrocks is required to clip GHSL to AOI and warp the WSF to a metres projection\")"
   ]
  },
  {
   "cell_type": "code",
   "execution_count": 8,
   "metadata": {},
   "outputs": [],
   "source": [
    "global_bounds = \"/home/public/Data/GLOBAL/ADMIN/Admin0_Polys.shp\"\n",
    "inB = gpd.read_file(global_bounds)\n",
    "inB = inB.loc[inB['ISO3'] == 'SRB']"
   ]
  },
  {
   "cell_type": "code",
   "execution_count": 8,
   "metadata": {},
   "outputs": [],
   "source": [
    "# clip from global GHSL file\n",
    "ghsl_vrt = \"/home/public/Data/GLOBAL/GHSL/ghsl.vrt\"\n",
    "in_ghsl = rio.open(ghsl_vrt)\n",
    "if not inB.crs == in_ghsl.crs:\n",
    "    inB = inB.to_crs(in_ghsl.crs.to_string())"
   ]
  },
  {
   "cell_type": "code",
   "execution_count": 9,
   "metadata": {},
   "outputs": [],
   "source": [
    "input_ghsl = os.path.join(out_dir, \"GHSL.tif\")\n",
    "# rMisc.clipRaster(in_ghsl, inB, input_ghsl)"
   ]
  },
  {
   "cell_type": "code",
   "execution_count": 10,
   "metadata": {},
   "outputs": [
    {
     "name": "stderr",
     "output_type": "stream",
     "text": [
      "TopologyException: Input geom 1 is invalid: Ring Self-intersection at or near point 2183730 5799630 at 2183730 5799630\n",
      "TopologyException: Input geom 1 is invalid: Ring Self-intersection at or near point 2186820 5793720 at 2186820 5793720\n",
      "TopologyException: Input geom 1 is invalid: Ring Self-intersection at or near point 2121180 5764500 at 2121180 5764500\n",
      "TopologyException: Input geom 1 is invalid: Ring Self-intersection at or near point 2128230 5747370 at 2128230 5747370\n",
      "TopologyException: Input geom 1 is invalid: Ring Self-intersection at or near point 2128140 5742030 at 2128140 5742030\n",
      "TopologyException: Input geom 1 is invalid: Ring Self-intersection at or near point 2128260 5741550 at 2128260 5741550\n",
      "TopologyException: Input geom 1 is invalid: Ring Self-intersection at or near point 2167020 5726940 at 2167020 5726940\n",
      "TopologyException: Input geom 1 is invalid: Ring Self-intersection at or near point 2175810 5718360 at 2175810 5718360\n",
      "TopologyException: Input geom 1 is invalid: Ring Self-intersection at or near point 2244090 5718240 at 2244090 5718240\n",
      "TopologyException: Input geom 1 is invalid: Ring Self-intersection at or near point 2176080 5716530 at 2176080 5716530\n",
      "TopologyException: Input geom 1 is invalid: Ring Self-intersection at or near point 2241900 5714730 at 2241900 5714730\n",
      "TopologyException: Input geom 1 is invalid: Ring Self-intersection at or near point 2187120 5710740 at 2187120 5710740\n",
      "TopologyException: Input geom 1 is invalid: Ring Self-intersection at or near point 2190030 5710380 at 2190030 5710380\n",
      "TopologyException: Input geom 1 is invalid: Ring Self-intersection at or near point 2195820 5701890 at 2195820 5701890\n",
      "TopologyException: Input geom 1 is invalid: Ring Self-intersection at or near point 2215800 5690310 at 2215800 5690310\n",
      "TopologyException: Input geom 1 is invalid: Ring Self-intersection at or near point 2215530 5688270 at 2215530 5688270\n",
      "TopologyException: Input geom 1 is invalid: Ring Self-intersection at or near point 2268030 5679810 at 2268030 5679810\n",
      "TopologyException: Input geom 1 is invalid: Ring Self-intersection at or near point 2181930 5676750 at 2181930 5676750\n",
      "TopologyException: Input geom 1 is invalid: Ring Self-intersection at or near point 2215590 5670540 at 2215590 5670540\n",
      "TopologyException: Input geom 1 is invalid: Ring Self-intersection at or near point 2214720 5670390 at 2214720 5670390\n",
      "TopologyException: Input geom 1 is invalid: Ring Self-intersection at or near point 2205480 5668410 at 2205480 5668410\n",
      "TopologyException: Input geom 1 is invalid: Ring Self-intersection at or near point 2196390 5667240 at 2196390 5667240\n",
      "TopologyException: Input geom 1 is invalid: Ring Self-intersection at or near point 2197680 5666670 at 2197680 5666670\n",
      "TopologyException: Input geom 1 is invalid: Ring Self-intersection at or near point 2224170 5666070 at 2224170 5666070\n",
      "TopologyException: Input geom 1 is invalid: Ring Self-intersection at or near point 2202450 5665890 at 2202450 5665890\n",
      "TopologyException: Input geom 1 is invalid: Ring Self-intersection at or near point 2208810 5665740 at 2208810 5665740\n",
      "TopologyException: Input geom 1 is invalid: Ring Self-intersection at or near point 2202690 5665050 at 2202690 5665050\n",
      "TopologyException: Input geom 1 is invalid: Ring Self-intersection at or near point 2237610 5664690 at 2237610 5664690\n",
      "TopologyException: Input geom 1 is invalid: Ring Self-intersection at or near point 2175750 5664600 at 2175750 5664600\n",
      "TopologyException: Input geom 1 is invalid: Ring Self-intersection at or near point 2210520 5663310 at 2210520 5663310\n",
      "TopologyException: Input geom 1 is invalid: Ring Self-intersection at or near point 2159910 5662770 at 2159910 5662770\n",
      "TopologyException: Input geom 1 is invalid: Ring Self-intersection at or near point 2156550 5662440 at 2156550 5662440\n",
      "TopologyException: Input geom 1 is invalid: Ring Self-intersection at or near point 2156910 5661840 at 2156910 5661840\n",
      "TopologyException: Input geom 1 is invalid: Ring Self-intersection at or near point 2160090 5661750 at 2160090 5661750\n",
      "TopologyException: Input geom 1 is invalid: Ring Self-intersection at or near point 2200530 5661630 at 2200530 5661630\n",
      "TopologyException: Input geom 1 is invalid: Ring Self-intersection at or near point 2197950 5661240 at 2197950 5661240\n",
      "TopologyException: Input geom 1 is invalid: Ring Self-intersection at or near point 2201550 5661090 at 2201550 5661090\n",
      "TopologyException: Input geom 1 is invalid: Ring Self-intersection at or near point 2162400 5660760 at 2162400 5660760\n",
      "TopologyException: Input geom 1 is invalid: Ring Self-intersection at or near point 2201220 5660250 at 2201220 5660250\n",
      "TopologyException: Input geom 1 is invalid: Ring Self-intersection at or near point 2161860 5660310 at 2161860 5660310\n",
      "TopologyException: Input geom 1 is invalid: Ring Self-intersection at or near point 2196840 5659950 at 2196840 5659950\n",
      "TopologyException: Input geom 1 is invalid: Ring Self-intersection at or near point 2202000 5660340 at 2202000 5660340\n",
      "TopologyException: Input geom 1 is invalid: Ring Self-intersection at or near point 2200530 5659620 at 2200530 5659620\n",
      "TopologyException: Input geom 1 is invalid: Ring Self-intersection at or near point 2203080 5659320 at 2203080 5659320\n",
      "TopologyException: Input geom 1 is invalid: Ring Self-intersection at or near point 2202240 5658840 at 2202240 5658840\n",
      "TopologyException: Input geom 1 is invalid: Ring Self-intersection at or near point 2204280 5658570 at 2204280 5658570\n",
      "TopologyException: Input geom 1 is invalid: Ring Self-intersection at or near point 2203440 5658480 at 2203440 5658480\n",
      "TopologyException: Input geom 1 is invalid: Ring Self-intersection at or near point 2210580 5657130 at 2210580 5657130\n",
      "TopologyException: Input geom 1 is invalid: Ring Self-intersection at or near point 2369640 5643000 at 2369640 5643000\n",
      "TopologyException: Input geom 1 is invalid: Ring Self-intersection at or near point 2186850 5637150 at 2186850 5637150\n",
      "TopologyException: Input geom 1 is invalid: Ring Self-intersection at or near point 2233320 5629440 at 2233320 5629440\n",
      "TopologyException: Input geom 1 is invalid: Ring Self-intersection at or near point 2237940 5625990 at 2237940 5625990\n",
      "TopologyException: Input geom 1 is invalid: Ring Self-intersection at or near point 2204100 5623800 at 2204100 5623800\n",
      "TopologyException: Input geom 1 is invalid: Ring Self-intersection at or near point 2212050 5618820 at 2212050 5618820\n",
      "TopologyException: Input geom 1 is invalid: Ring Self-intersection at or near point 2184840 5617260 at 2184840 5617260\n",
      "TopologyException: Input geom 1 is invalid: Ring Self-intersection at or near point 2184870 5616780 at 2184870 5616780\n",
      "TopologyException: Input geom 1 is invalid: Ring Self-intersection at or near point 2257110 5616690 at 2257110 5616690\n",
      "TopologyException: Input geom 1 is invalid: Ring Self-intersection at or near point 2184900 5616360 at 2184900 5616360\n",
      "TopologyException: Input geom 1 is invalid: Ring Self-intersection at or near point 2257200 5615880 at 2257200 5615880\n",
      "TopologyException: Input geom 1 is invalid: Ring Self-intersection at or near point 2181930 5615280 at 2181930 5615280\n",
      "TopologyException: Input geom 1 is invalid: Ring Self-intersection at or near point 2257380 5613570 at 2257380 5613570\n",
      "TopologyException: Input geom 1 is invalid: Ring Self-intersection at or near point 2256960 5608530 at 2256960 5608530\n",
      "TopologyException: Input geom 1 is invalid: Ring Self-intersection at or near point 2256390 5608410 at 2256390 5608410\n",
      "TopologyException: Input geom 1 is invalid: Ring Self-intersection at or near point 2256840 5607510 at 2256840 5607510\n",
      "TopologyException: Input geom 1 is invalid: Ring Self-intersection at or near point 2259540 5605890 at 2259540 5605890\n",
      "TopologyException: Input geom 1 is invalid: Ring Self-intersection at or near point 2251440 5605920 at 2251440 5605920\n",
      "TopologyException: Input geom 1 is invalid: Ring Self-intersection at or near point 2255610 5604750 at 2255610 5604750\n",
      "TopologyException: Input geom 1 is invalid: Ring Self-intersection at or near point 2260470 5604330 at 2260470 5604330\n",
      "TopologyException: Input geom 1 is invalid: Ring Self-intersection at or near point 2258910 5603940 at 2258910 5603940\n"
     ]
    },
    {
     "name": "stderr",
     "output_type": "stream",
     "text": [
      "TopologyException: Input geom 1 is invalid: Ring Self-intersection at or near point 2249910 5603100 at 2249910 5603100\n",
      "TopologyException: Input geom 1 is invalid: Ring Self-intersection at or near point 2301840 5602860 at 2301840 5602860\n",
      "TopologyException: Input geom 1 is invalid: Ring Self-intersection at or near point 2262060 5602440 at 2262060 5602440\n",
      "TopologyException: Input geom 1 is invalid: Ring Self-intersection at or near point 2279070 5602320 at 2279070 5602320\n",
      "TopologyException: Input geom 1 is invalid: Ring Self-intersection at or near point 2249430 5601900 at 2249430 5601900\n",
      "TopologyException: Input geom 1 is invalid: Ring Self-intersection at or near point 2279520 5602020 at 2279520 5602020\n",
      "TopologyException: Input geom 1 is invalid: Ring Self-intersection at or near point 2200080 5601480 at 2200080 5601480\n",
      "TopologyException: Input geom 1 is invalid: Ring Self-intersection at or near point 2247660 5601150 at 2247660 5601150\n",
      "TopologyException: Input geom 1 is invalid: Ring Self-intersection at or near point 2303190 5601120 at 2303190 5601120\n",
      "TopologyException: Input geom 1 is invalid: Ring Self-intersection at or near point 2278140 5601210 at 2278140 5601210\n",
      "TopologyException: Input geom 1 is invalid: Ring Self-intersection at or near point 2278650 5600310 at 2278650 5600310\n",
      "TopologyException: Input geom 1 is invalid: Ring Self-intersection at or near point 2268420 5599230 at 2268420 5599230\n",
      "TopologyException: Input geom 1 is invalid: Ring Self-intersection at or near point 2278980 5599290 at 2278980 5599290\n",
      "TopologyException: Input geom 1 is invalid: Ring Self-intersection at or near point 2288130 5598660 at 2288130 5598660\n",
      "TopologyException: Input geom 1 is invalid: Ring Self-intersection at or near point 2280180 5599080 at 2280180 5599080\n",
      "TopologyException: Input geom 1 is invalid: Ring Self-intersection at or near point 2265270 5598510 at 2265270 5598510\n",
      "TopologyException: Input geom 1 is invalid: Ring Self-intersection at or near point 2264850 5597760 at 2264850 5597760\n",
      "TopologyException: Input geom 1 is invalid: Ring Self-intersection at or near point 2266500 5597160 at 2266500 5597160\n",
      "TopologyException: Input geom 1 is invalid: Ring Self-intersection at or near point 2270700 5595510 at 2270700 5595510\n",
      "TopologyException: Input geom 1 is invalid: Ring Self-intersection at or near point 2268840 5593830 at 2268840 5593830\n",
      "TopologyException: Input geom 1 is invalid: Ring Self-intersection at or near point 2251410 5592930 at 2251410 5592930\n",
      "TopologyException: Input geom 1 is invalid: Ring Self-intersection at or near point 2286900 5592300 at 2286900 5592300\n",
      "TopologyException: Input geom 1 is invalid: Ring Self-intersection at or near point 2264490 5590890 at 2264490 5590890\n",
      "TopologyException: Input geom 1 is invalid: Ring Self-intersection at or near point 2266560 5590800 at 2266560 5590800\n",
      "TopologyException: Input geom 1 is invalid: Ring Self-intersection at or near point 2257890 5590200 at 2257890 5590200\n",
      "TopologyException: Input geom 1 is invalid: Ring Self-intersection at or near point 2262510 5590110 at 2262510 5590110\n",
      "TopologyException: Input geom 1 is invalid: Ring Self-intersection at or near point 2284830 5590080 at 2284830 5590080\n",
      "TopologyException: Input geom 1 is invalid: Ring Self-intersection at or near point 2264520 5590200 at 2264520 5590200\n",
      "TopologyException: Input geom 1 is invalid: Ring Self-intersection at or near point 2263770 5589990 at 2263770 5589990\n",
      "TopologyException: Input geom 1 is invalid: Ring Self-intersection at or near point 2263380 5589600 at 2263380 5589600\n",
      "TopologyException: Input geom 1 is invalid: Ring Self-intersection at or near point 2255310 5589660 at 2255310 5589660\n",
      "TopologyException: Input geom 1 is invalid: Ring Self-intersection at or near point 2262030 5589660 at 2262030 5589660\n",
      "TopologyException: Input geom 1 is invalid: Ring Self-intersection at or near point 2260380 5589330 at 2260380 5589330\n",
      "TopologyException: Input geom 1 is invalid: Ring Self-intersection at or near point 2260020 5589270 at 2260020 5589270\n",
      "TopologyException: Input geom 1 is invalid: Ring Self-intersection at or near point 2276610 5587230 at 2276610 5587230\n",
      "TopologyException: Input geom 1 is invalid: Ring Self-intersection at or near point 2282880 5586690 at 2282880 5586690\n",
      "TopologyException: Input geom 1 is invalid: Ring Self-intersection at or near point 2286510 5586240 at 2286510 5586240\n",
      "TopologyException: Input geom 1 is invalid: Ring Self-intersection at or near point 2284320 5586060 at 2284320 5586060\n",
      "TopologyException: Input geom 1 is invalid: Ring Self-intersection at or near point 2288040 5585790 at 2288040 5585790\n",
      "TopologyException: Input geom 1 is invalid: Ring Self-intersection at or near point 2282370 5585190 at 2282370 5585190\n",
      "TopologyException: Input geom 1 is invalid: Ring Self-intersection at or near point 2277600 5585130 at 2277600 5585130\n",
      "TopologyException: Input geom 1 is invalid: Ring Self-intersection at or near point 2277450 5584860 at 2277450 5584860\n",
      "TopologyException: Input geom 1 is invalid: Ring Self-intersection at or near point 2283090 5584950 at 2283090 5584950\n",
      "TopologyException: Input geom 1 is invalid: Ring Self-intersection at or near point 2185380 5584170 at 2185380 5584170\n",
      "TopologyException: Input geom 1 is invalid: Ring Self-intersection at or near point 2391660 5584230 at 2391660 5584230\n",
      "TopologyException: Input geom 1 is invalid: Ring Self-intersection at or near point 2282340 5583750 at 2282340 5583750\n",
      "TopologyException: Input geom 1 is invalid: Ring Self-intersection at or near point 2395050 5583660 at 2395050 5583660\n",
      "TopologyException: Input geom 1 is invalid: Ring Self-intersection at or near point 2394270 5583090 at 2394270 5583090\n",
      "TopologyException: Input geom 1 is invalid: Ring Self-intersection at or near point 2270670 5582430 at 2270670 5582430\n",
      "TopologyException: Input geom 1 is invalid: Ring Self-intersection at or near point 2266560 5581800 at 2266560 5581800\n",
      "TopologyException: Input geom 1 is invalid: Ring Self-intersection at or near point 2280720 5581770 at 2280720 5581770\n",
      "TopologyException: Input geom 1 is invalid: Ring Self-intersection at or near point 2279730 5581680 at 2279730 5581680\n",
      "TopologyException: Input geom 1 is invalid: Ring Self-intersection at or near point 2293140 5581380 at 2293140 5581380\n",
      "TopologyException: Input geom 1 is invalid: Ring Self-intersection at or near point 2282520 5580300 at 2282520 5580300\n",
      "TopologyException: Input geom 1 is invalid: Ring Self-intersection at or near point 2191260 5580000 at 2191260 5580000\n",
      "TopologyException: Input geom 1 is invalid: Ring Self-intersection at or near point 2281110 5578590 at 2281110 5578590\n",
      "TopologyException: Input geom 1 is invalid: Ring Self-intersection at or near point 2270070 5578230 at 2270070 5578230\n",
      "TopologyException: Input geom 1 is invalid: Ring Self-intersection at or near point 2270400 5577810 at 2270400 5577810\n",
      "TopologyException: Input geom 1 is invalid: Ring Self-intersection at or near point 2190240 5577390 at 2190240 5577390\n",
      "TopologyException: Input geom 1 is invalid: Ring Self-intersection at or near point 2276970 5574840 at 2276970 5574840\n",
      "TopologyException: Input geom 1 is invalid: Ring Self-intersection at or near point 2249220 5569320 at 2249220 5569320\n",
      "TopologyException: Input geom 1 is invalid: Ring Self-intersection at or near point 2250000 5568540 at 2250000 5568540\n",
      "TopologyException: Input geom 1 is invalid: Ring Self-intersection at or near point 2321730 5567550 at 2321730 5567550\n",
      "TopologyException: Input geom 1 is invalid: Ring Self-intersection at or near point 2270610 5567400 at 2270610 5567400\n",
      "TopologyException: Input geom 1 is invalid: Ring Self-intersection at or near point 2191500 5567100 at 2191500 5567100\n",
      "TopologyException: Input geom 1 is invalid: Ring Self-intersection at or near point 2327430 5563320 at 2327430 5563320\n",
      "TopologyException: Input geom 1 is invalid: Ring Self-intersection at or near point 2355420 5563290 at 2355420 5563290\n",
      "TopologyException: Input geom 1 is invalid: Ring Self-intersection at or near point 2515950 5560230 at 2515950 5560230\n",
      "TopologyException: Input geom 1 is invalid: Ring Self-intersection at or near point 2500170 5541360 at 2500170 5541360\n"
     ]
    },
    {
     "name": "stderr",
     "output_type": "stream",
     "text": [
      "TopologyException: Input geom 1 is invalid: Ring Self-intersection at or near point 2256750 5523570 at 2256750 5523570\n",
      "TopologyException: Input geom 1 is invalid: Ring Self-intersection at or near point 2282880 5517780 at 2282880 5517780\n",
      "TopologyException: Input geom 1 is invalid: Ring Self-intersection at or near point 2214060 5509710 at 2214060 5509710\n",
      "TopologyException: Input geom 1 is invalid: Ring Self-intersection at or near point 2508690 5503020 at 2508690 5503020\n",
      "TopologyException: Input geom 1 is invalid: Ring Self-intersection at or near point 2508150 5503080 at 2508150 5503080\n",
      "TopologyException: Input geom 1 is invalid: Ring Self-intersection at or near point 2507310 5501970 at 2507310 5501970\n",
      "TopologyException: Input geom 1 is invalid: Ring Self-intersection at or near point 2327910 5471070 at 2327910 5471070\n",
      "TopologyException: Input geom 1 is invalid: Ring Self-intersection at or near point 2482440 5454000 at 2482440 5454000\n",
      "TopologyException: Input geom 1 is invalid: Ring Self-intersection at or near point 2267400 5446830 at 2267400 5446830\n",
      "TopologyException: Input geom 1 is invalid: Ring Self-intersection at or near point 2376420 5438220 at 2376420 5438220\n",
      "TopologyException: Input geom 1 is invalid: Ring Self-intersection at or near point 2203050 5435880 at 2203050 5435880\n",
      "TopologyException: Input geom 1 is invalid: Ring Self-intersection at or near point 2299920 5425980 at 2299920 5425980\n",
      "TopologyException: Input geom 1 is invalid: Ring Self-intersection at or near point 2191890 5424450 at 2191890 5424450\n",
      "TopologyException: Input geom 1 is invalid: Ring Self-intersection at or near point 2192190 5423850 at 2192190 5423850\n",
      "TopologyException: Input geom 1 is invalid: Ring Self-intersection at or near point 2192700 5423550 at 2192700 5423550\n",
      "TopologyException: Input geom 1 is invalid: Ring Self-intersection at or near point 2433570 5364540 at 2433570 5364540\n",
      "TopologyException: Input geom 1 is invalid: Ring Self-intersection at or near point 2438190 5363160 at 2438190 5363160\n",
      "TopologyException: Input geom 1 is invalid: Ring Self-intersection at or near point 2442630 5362950 at 2442630 5362950\n",
      "TopologyException: Input geom 1 is invalid: Ring Self-intersection at or near point 2443320 5361360 at 2443320 5361360\n",
      "TopologyException: Input geom 1 is invalid: Ring Self-intersection at or near point 2441340 5361180 at 2441340 5361180\n",
      "TopologyException: Input geom 1 is invalid: Ring Self-intersection at or near point 2433690 5359200 at 2433690 5359200\n",
      "TopologyException: Input geom 1 is invalid: Ring Self-intersection at or near point 2436120 5358600 at 2436120 5358600\n",
      "TopologyException: Input geom 1 is invalid: Ring Self-intersection at or near point 2404260 5349750 at 2404260 5349750\n",
      "TopologyException: Input geom 1 is invalid: Ring Self-intersection at or near point 2405490 5349540 at 2405490 5349540\n",
      "TopologyException: Input geom 1 is invalid: Ring Self-intersection at or near point 2281170 5329590 at 2281170 5329590\n",
      "TopologyException: Input geom 1 is invalid: Ring Self-intersection at or near point 2441760 5326380 at 2441760 5326380\n",
      "TopologyException: Input geom 1 is invalid: Ring Self-intersection at or near point 2441580 5312910 at 2441580 5312910\n",
      "TopologyException: Input geom 1 is invalid: Ring Self-intersection at or near point 2440470 5312100 at 2440470 5312100\n",
      "TopologyException: Input geom 1 is invalid: Ring Self-intersection at or near point 2440290 5310600 at 2440290 5310600\n",
      "TopologyException: Input geom 1 is invalid: Ring Self-intersection at or near point 2463870 5307900 at 2463870 5307900\n",
      "TopologyException: Input geom 1 is invalid: Ring Self-intersection at or near point 2439540 5242650 at 2439540 5242650\n",
      "TopologyException: Input geom 1 is invalid: Ring Self-intersection at or near point 2437740 5240760 at 2437740 5240760\n",
      "TopologyException: Input geom 1 is invalid: Ring Self-intersection at or near point 2430750 5232210 at 2430750 5232210\n",
      "TopologyException: Input geom 1 is invalid: Ring Self-intersection at or near point 2413800 5206890 at 2413800 5206890\n"
     ]
    },
    {
     "name": "stdout",
     "output_type": "stream",
     "text": [
      "CPU times: user 11min 22s, sys: 12.1 s, total: 11min 34s\n",
      "Wall time: 11min 33s\n"
     ]
    },
    {
     "data": {
      "text/html": [
       "<div>\n",
       "<style scoped>\n",
       "    .dataframe tbody tr th:only-of-type {\n",
       "        vertical-align: middle;\n",
       "    }\n",
       "\n",
       "    .dataframe tbody tr th {\n",
       "        vertical-align: top;\n",
       "    }\n",
       "\n",
       "    .dataframe thead th {\n",
       "        text-align: right;\n",
       "    }\n",
       "</style>\n",
       "<table border=\"1\" class=\"dataframe\">\n",
       "  <thead>\n",
       "    <tr style=\"text-align: right;\">\n",
       "      <th></th>\n",
       "      <th>geometry</th>\n",
       "      <th>old</th>\n",
       "      <th>total</th>\n",
       "      <th>LEI</th>\n",
       "    </tr>\n",
       "  </thead>\n",
       "  <tbody>\n",
       "    <tr>\n",
       "      <th>0</th>\n",
       "      <td>POLYGON ((2228250 5808720, 2228250 5808690, 22...</td>\n",
       "      <td>2</td>\n",
       "      <td>356</td>\n",
       "      <td>0.005618</td>\n",
       "    </tr>\n",
       "    <tr>\n",
       "      <th>1</th>\n",
       "      <td>POLYGON ((2224590 5808600, 2224590 5808570, 22...</td>\n",
       "      <td>25</td>\n",
       "      <td>376</td>\n",
       "      <td>0.066489</td>\n",
       "    </tr>\n",
       "    <tr>\n",
       "      <th>2</th>\n",
       "      <td>POLYGON ((2228400 5808570, 2228400 5808540, 22...</td>\n",
       "      <td>2</td>\n",
       "      <td>376</td>\n",
       "      <td>0.005319</td>\n",
       "    </tr>\n",
       "    <tr>\n",
       "      <th>3</th>\n",
       "      <td>POLYGON ((2224350 5808360, 2224350 5808300, 22...</td>\n",
       "      <td>33</td>\n",
       "      <td>376</td>\n",
       "      <td>0.087766</td>\n",
       "    </tr>\n",
       "    <tr>\n",
       "      <th>4</th>\n",
       "      <td>POLYGON ((2224290 5808300, 2224290 5808240, 22...</td>\n",
       "      <td>32</td>\n",
       "      <td>411</td>\n",
       "      <td>0.077859</td>\n",
       "    </tr>\n",
       "  </tbody>\n",
       "</table>\n",
       "</div>"
      ],
      "text/plain": [
       "                                            geometry  old  total       LEI\n",
       "0  POLYGON ((2228250 5808720, 2228250 5808690, 22...    2    356  0.005618\n",
       "1  POLYGON ((2224590 5808600, 2224590 5808570, 22...   25    376  0.066489\n",
       "2  POLYGON ((2228400 5808570, 2228400 5808540, 22...    2    376  0.005319\n",
       "3  POLYGON ((2224350 5808360, 2224350 5808300, 22...   33    376  0.087766\n",
       "4  POLYGON ((2224290 5808300, 2224290 5808240, 22...   32    411  0.077859"
      ]
     },
     "execution_count": 10,
     "metadata": {},
     "output_type": "execute_result"
    }
   ],
   "source": [
    "%%time\n",
    "# This calculates the change from 1990 and 2000\n",
    "lei_raw = lei.calculate_LEI(input_ghsl, old_list = [5,6], new_list=[4])\n",
    "lei_90_00 = pd.DataFrame(lei_raw, columns=['geometry', 'old', 'total'])\n",
    "lei_90_00['LEI'] = lei_90_00['old'] / lei_90_00['total']      \n",
    "lei_90_00.head()"
   ]
  },
  {
   "cell_type": "code",
   "execution_count": 11,
   "metadata": {},
   "outputs": [
    {
     "name": "stderr",
     "output_type": "stream",
     "text": [
      "TopologyException: Input geom 1 is invalid: Ring Self-intersection at or near point 2107350 5762040 at 2107350 5762040\n",
      "TopologyException: Input geom 1 is invalid: Ring Self-intersection at or near point 2108400 5761380 at 2108400 5761380\n",
      "TopologyException: Input geom 1 is invalid: Ring Self-intersection at or near point 2234850 5734500 at 2234850 5734500\n",
      "TopologyException: Input geom 1 is invalid: Ring Self-intersection at or near point 2228460 5715660 at 2228460 5715660\n",
      "TopologyException: Input geom 1 is invalid: Ring Self-intersection at or near point 2190150 5710140 at 2190150 5710140\n",
      "TopologyException: Input geom 1 is invalid: Ring Self-intersection at or near point 2232150 5694660 at 2232150 5694660\n",
      "TopologyException: Input geom 1 is invalid: Ring Self-intersection at or near point 2232030 5694360 at 2232030 5694360\n",
      "TopologyException: Input geom 1 is invalid: Ring Self-intersection at or near point 2255760 5690040 at 2255760 5690040\n",
      "TopologyException: Input geom 1 is invalid: Ring Self-intersection at or near point 2149980 5687820 at 2149980 5687820\n",
      "TopologyException: Input geom 1 is invalid: Ring Self-intersection at or near point 2137230 5685060 at 2137230 5685060\n",
      "TopologyException: Input geom 1 is invalid: Ring Self-intersection at or near point 2174700 5677440 at 2174700 5677440\n",
      "TopologyException: Input geom 1 is invalid: Ring Self-intersection at or near point 2318340 5676300 at 2318340 5676300\n",
      "TopologyException: Input geom 1 is invalid: Ring Self-intersection at or near point 2163660 5675130 at 2163660 5675130\n",
      "TopologyException: Input geom 1 is invalid: Ring Self-intersection at or near point 2209530 5672010 at 2209530 5672010\n",
      "TopologyException: Input geom 1 is invalid: Ring Self-intersection at or near point 2220330 5670240 at 2220330 5670240\n",
      "TopologyException: Input geom 1 is invalid: Ring Self-intersection at or near point 2208240 5669070 at 2208240 5669070\n",
      "TopologyException: Input geom 1 is invalid: Ring Self-intersection at or near point 2205570 5668170 at 2205570 5668170\n",
      "TopologyException: Input geom 1 is invalid: Ring Self-intersection at or near point 2210070 5667000 at 2210070 5667000\n",
      "TopologyException: Input geom 1 is invalid: Ring Self-intersection at or near point 2204850 5666520 at 2204850 5666520\n",
      "TopologyException: Input geom 1 is invalid: Ring Self-intersection at or near point 2211660 5665890 at 2211660 5665890\n",
      "TopologyException: Input geom 1 is invalid: Ring Self-intersection at or near point 2213250 5665710 at 2213250 5665710\n",
      "TopologyException: Input geom 1 is invalid: Ring Self-intersection at or near point 2201400 5665530 at 2201400 5665530\n",
      "TopologyException: Input geom 1 is invalid: Ring Self-intersection at or near point 2214240 5663880 at 2214240 5663880\n",
      "TopologyException: Input geom 1 is invalid: Ring Self-intersection at or near point 2157300 5663040 at 2157300 5663040\n",
      "TopologyException: Input geom 1 is invalid: Ring Self-intersection at or near point 2200590 5662920 at 2200590 5662920\n",
      "TopologyException: Input geom 1 is invalid: Ring Self-intersection at or near point 2200740 5661990 at 2200740 5661990\n",
      "TopologyException: Input geom 1 is invalid: Ring Self-intersection at or near point 2201850 5661180 at 2201850 5661180\n",
      "TopologyException: Input geom 1 is invalid: Ring Self-intersection at or near point 2202720 5660730 at 2202720 5660730\n",
      "TopologyException: Input geom 1 is invalid: Ring Self-intersection at or near point 2196720 5660760 at 2196720 5660760\n",
      "TopologyException: Input geom 1 is invalid: Ring Self-intersection at or near point 2199570 5660130 at 2199570 5660130\n",
      "TopologyException: Input geom 1 is invalid: Ring Self-intersection at or near point 2201040 5659080 at 2201040 5659080\n",
      "TopologyException: Input geom 1 is invalid: Ring Self-intersection at or near point 2203860 5657970 at 2203860 5657970\n",
      "TopologyException: Input geom 1 is invalid: Ring Self-intersection at or near point 2208420 5657940 at 2208420 5657940\n",
      "TopologyException: Input geom 1 is invalid: Ring Self-intersection at or near point 2204760 5657940 at 2204760 5657940\n",
      "TopologyException: Input geom 1 is invalid: Ring Self-intersection at or near point 2210550 5657220 at 2210550 5657220\n",
      "TopologyException: Input geom 1 is invalid: Ring Self-intersection at or near point 2213670 5655900 at 2213670 5655900\n",
      "TopologyException: Input geom 1 is invalid: Ring Self-intersection at or near point 2258220 5655240 at 2258220 5655240\n",
      "TopologyException: Input geom 1 is invalid: Ring Self-intersection at or near point 2284230 5650020 at 2284230 5650020\n",
      "TopologyException: Input geom 1 is invalid: Ring Self-intersection at or near point 2330430 5647950 at 2330430 5647950\n",
      "TopologyException: Input geom 1 is invalid: Ring Self-intersection at or near point 2219610 5640570 at 2219610 5640570\n",
      "TopologyException: Input geom 1 is invalid: Ring Self-intersection at or near point 2251500 5640390 at 2251500 5640390\n",
      "TopologyException: Input geom 1 is invalid: Ring Self-intersection at or near point 2237760 5630670 at 2237760 5630670\n",
      "TopologyException: Input geom 1 is invalid: Ring Self-intersection at or near point 2233890 5629890 at 2233890 5629890\n",
      "TopologyException: Input geom 1 is invalid: Ring Self-intersection at or near point 2184450 5620440 at 2184450 5620440\n",
      "TopologyException: Input geom 1 is invalid: Ring Self-intersection at or near point 2184330 5620380 at 2184330 5620380\n",
      "TopologyException: Input geom 1 is invalid: Ring Self-intersection at or near point 2187120 5617800 at 2187120 5617800\n",
      "TopologyException: Input geom 1 is invalid: Ring Self-intersection at or near point 2248320 5614020 at 2248320 5614020\n",
      "TopologyException: Input geom 1 is invalid: Ring Self-intersection at or near point 2252040 5611380 at 2252040 5611380\n",
      "TopologyException: Input geom 1 is invalid: Ring Self-intersection at or near point 2256840 5608830 at 2256840 5608830\n",
      "TopologyException: Input geom 1 is invalid: Ring Self-intersection at or near point 2260410 5605650 at 2260410 5605650\n",
      "TopologyException: Input geom 1 is invalid: Ring Self-intersection at or near point 2260140 5605140 at 2260140 5605140\n",
      "TopologyException: Input geom 1 is invalid: Ring Self-intersection at or near point 2282190 5603430 at 2282190 5603430\n",
      "TopologyException: Input geom 1 is invalid: Ring Self-intersection at or near point 2241630 5602800 at 2241630 5602800\n",
      "TopologyException: Input geom 1 is invalid: Ring Self-intersection at or near point 2239050 5602500 at 2239050 5602500\n",
      "TopologyException: Input geom 1 is invalid: Ring Self-intersection at or near point 2237280 5602350 at 2237280 5602350\n",
      "TopologyException: Input geom 1 is invalid: Ring Self-intersection at or near point 2279400 5602260 at 2279400 5602260\n",
      "TopologyException: Input geom 1 is invalid: Ring Self-intersection at or near point 2238900 5601840 at 2238900 5601840\n",
      "TopologyException: Input geom 1 is invalid: Ring Self-intersection at or near point 2294280 5601540 at 2294280 5601540\n",
      "TopologyException: Input geom 1 is invalid: Ring Self-intersection at or near point 2261310 5601840 at 2261310 5601840\n",
      "TopologyException: Input geom 1 is invalid: Ring Self-intersection at or near point 2299980 5600550 at 2299980 5600550\n",
      "TopologyException: Input geom 1 is invalid: Ring Self-intersection at or near point 2265240 5600430 at 2265240 5600430\n",
      "TopologyException: Input geom 1 is invalid: Ring Self-intersection at or near point 2278740 5599080 at 2278740 5599080\n",
      "TopologyException: Input geom 1 is invalid: Ring Self-intersection at or near point 2265540 5599200 at 2265540 5599200\n",
      "TopologyException: Input geom 1 is invalid: Ring Self-intersection at or near point 2286210 5598960 at 2286210 5598960\n",
      "TopologyException: Input geom 1 is invalid: Ring Self-intersection at or near point 2262930 5599020 at 2262930 5599020\n",
      "TopologyException: Input geom 1 is invalid: Ring Self-intersection at or near point 2264700 5599020 at 2264700 5599020\n",
      "TopologyException: Input geom 1 is invalid: Ring Self-intersection at or near point 2281200 5598330 at 2281200 5598330\n",
      "TopologyException: Input geom 1 is invalid: Ring Self-intersection at or near point 2264280 5598210 at 2264280 5598210\n",
      "TopologyException: Input geom 1 is invalid: Ring Self-intersection at or near point 2279970 5596530 at 2279970 5596530\n"
     ]
    },
    {
     "name": "stderr",
     "output_type": "stream",
     "text": [
      "TopologyException: Input geom 1 is invalid: Ring Self-intersection at or near point 2283570 5595900 at 2283570 5595900\n",
      "TopologyException: Input geom 1 is invalid: Ring Self-intersection at or near point 2267610 5595690 at 2267610 5595690\n",
      "TopologyException: Input geom 1 is invalid: Ring Self-intersection at or near point 2261070 5594340 at 2261070 5594340\n",
      "TopologyException: Input geom 1 is invalid: Ring Self-intersection at or near point 2283480 5593230 at 2283480 5593230\n",
      "TopologyException: Input geom 1 is invalid: Ring Self-intersection at or near point 2280870 5591580 at 2280870 5591580\n",
      "TopologyException: Input geom 1 is invalid: Ring Self-intersection at or near point 2282250 5590830 at 2282250 5590830\n",
      "TopologyException: Input geom 1 is invalid: Ring Self-intersection at or near point 2285550 5590320 at 2285550 5590320\n",
      "TopologyException: Input geom 1 is invalid: Ring Self-intersection at or near point 2266890 5590320 at 2266890 5590320\n",
      "TopologyException: Input geom 1 is invalid: Ring Self-intersection at or near point 2188590 5587860 at 2188590 5587860\n",
      "TopologyException: Input geom 1 is invalid: Ring Self-intersection at or near point 2189460 5585970 at 2189460 5585970\n",
      "TopologyException: Input geom 1 is invalid: Ring Self-intersection at or near point 2285790 5585220 at 2285790 5585220\n",
      "TopologyException: Input geom 1 is invalid: Ring Self-intersection at or near point 2277120 5584230 at 2277120 5584230\n",
      "TopologyException: Input geom 1 is invalid: Ring Self-intersection at or near point 2293830 5581320 at 2293830 5581320\n",
      "TopologyException: Input geom 1 is invalid: Ring Self-intersection at or near point 2277300 5580120 at 2277300 5580120\n",
      "TopologyException: Input geom 1 is invalid: Ring Self-intersection at or near point 2288610 5579430 at 2288610 5579430\n",
      "TopologyException: Input geom 1 is invalid: Ring Self-intersection at or near point 2279490 5579670 at 2279490 5579670\n",
      "TopologyException: Input geom 1 is invalid: Ring Self-intersection at or near point 2276880 5579160 at 2276880 5579160\n",
      "TopologyException: Input geom 1 is invalid: Ring Self-intersection at or near point 2334570 5578230 at 2334570 5578230\n",
      "TopologyException: Input geom 1 is invalid: Ring Self-intersection at or near point 2275470 5577930 at 2275470 5577930\n",
      "TopologyException: Input geom 1 is invalid: Ring Self-intersection at or near point 2281080 5577750 at 2281080 5577750\n",
      "TopologyException: Input geom 1 is invalid: Ring Self-intersection at or near point 2363340 5577000 at 2363340 5577000\n",
      "TopologyException: Input geom 1 is invalid: Ring Self-intersection at or near point 2189550 5575860 at 2189550 5575860\n",
      "TopologyException: Input geom 1 is invalid: Ring Self-intersection at or near point 2181900 5571840 at 2181900 5571840\n",
      "TopologyException: Input geom 1 is invalid: Ring Self-intersection at or near point 2334090 5567760 at 2334090 5567760\n",
      "TopologyException: Input geom 1 is invalid: Ring Self-intersection at or near point 2253930 5567100 at 2253930 5567100\n",
      "TopologyException: Input geom 1 is invalid: Ring Self-intersection at or near point 2353770 5562210 at 2353770 5562210\n",
      "TopologyException: Input geom 1 is invalid: Ring Self-intersection at or near point 2352210 5549850 at 2352210 5549850\n",
      "TopologyException: Input geom 1 is invalid: Ring Self-intersection at or near point 2247870 5540040 at 2247870 5540040\n",
      "TopologyException: Input geom 1 is invalid: Ring Self-intersection at or near point 2260290 5532780 at 2260290 5532780\n",
      "TopologyException: Input geom 1 is invalid: Ring Self-intersection at or near point 2260080 5532900 at 2260080 5532900\n",
      "TopologyException: Input geom 1 is invalid: Ring Self-intersection at or near point 2254560 5528520 at 2254560 5528520\n",
      "TopologyException: Input geom 1 is invalid: Ring Self-intersection at or near point 2240940 5521290 at 2240940 5521290\n",
      "TopologyException: Input geom 1 is invalid: Ring Self-intersection at or near point 2349180 5519250 at 2349180 5519250\n",
      "TopologyException: Input geom 1 is invalid: Ring Self-intersection at or near point 2346360 5518320 at 2346360 5518320\n",
      "TopologyException: Input geom 1 is invalid: Ring Self-intersection at or near point 2298510 5509980 at 2298510 5509980\n",
      "TopologyException: Input geom 1 is invalid: Ring Self-intersection at or near point 2215980 5481300 at 2215980 5481300\n",
      "TopologyException: Input geom 1 is invalid: Ring Self-intersection at or near point 2386560 5480910 at 2386560 5480910\n",
      "TopologyException: Input geom 1 is invalid: Ring Self-intersection at or near point 2336520 5474790 at 2336520 5474790\n",
      "TopologyException: Input geom 1 is invalid: Ring Self-intersection at or near point 2199360 5432880 at 2199360 5432880\n",
      "TopologyException: Input geom 1 is invalid: Ring Self-intersection at or near point 2513910 5367330 at 2513910 5367330\n",
      "TopologyException: Input geom 1 is invalid: Ring Self-intersection at or near point 2439210 5358360 at 2439210 5358360\n",
      "TopologyException: Input geom 1 is invalid: Ring Self-intersection at or near point 2303610 5345190 at 2303610 5345190\n",
      "TopologyException: Input geom 1 is invalid: Ring Self-intersection at or near point 2512860 5335560 at 2512860 5335560\n",
      "TopologyException: Input geom 1 is invalid: Ring Self-intersection at or near point 2422560 5229330 at 2422560 5229330\n",
      "TopologyException: Input geom 1 is invalid: Ring Self-intersection at or near point 2421450 5224320 at 2421450 5224320\n",
      "TopologyException: Input geom 1 is invalid: Ring Self-intersection at or near point 2411880 5209860 at 2411880 5209860\n"
     ]
    },
    {
     "data": {
      "text/html": [
       "<div>\n",
       "<style scoped>\n",
       "    .dataframe tbody tr th:only-of-type {\n",
       "        vertical-align: middle;\n",
       "    }\n",
       "\n",
       "    .dataframe tbody tr th {\n",
       "        vertical-align: top;\n",
       "    }\n",
       "\n",
       "    .dataframe thead th {\n",
       "        text-align: right;\n",
       "    }\n",
       "</style>\n",
       "<table border=\"1\" class=\"dataframe\">\n",
       "  <thead>\n",
       "    <tr style=\"text-align: right;\">\n",
       "      <th></th>\n",
       "      <th>geometry</th>\n",
       "      <th>old</th>\n",
       "      <th>total</th>\n",
       "      <th>LEI</th>\n",
       "    </tr>\n",
       "  </thead>\n",
       "  <tbody>\n",
       "    <tr>\n",
       "      <th>0</th>\n",
       "      <td>POLYGON ((2224560 5808660, 2224560 5808600, 22...</td>\n",
       "      <td>27</td>\n",
       "      <td>376</td>\n",
       "      <td>0.071809</td>\n",
       "    </tr>\n",
       "    <tr>\n",
       "      <th>1</th>\n",
       "      <td>POLYGON ((2223990 5808570, 2223990 5808510, 22...</td>\n",
       "      <td>0</td>\n",
       "      <td>396</td>\n",
       "      <td>0.000000</td>\n",
       "    </tr>\n",
       "    <tr>\n",
       "      <th>2</th>\n",
       "      <td>POLYGON ((2224590 5808510, 2224590 5808480, 22...</td>\n",
       "      <td>40</td>\n",
       "      <td>376</td>\n",
       "      <td>0.106383</td>\n",
       "    </tr>\n",
       "    <tr>\n",
       "      <th>3</th>\n",
       "      <td>POLYGON ((2223960 5808510, 2223960 5808420, 22...</td>\n",
       "      <td>4</td>\n",
       "      <td>396</td>\n",
       "      <td>0.010101</td>\n",
       "    </tr>\n",
       "    <tr>\n",
       "      <th>4</th>\n",
       "      <td>POLYGON ((2223900 5808420, 2223900 5808390, 22...</td>\n",
       "      <td>5</td>\n",
       "      <td>376</td>\n",
       "      <td>0.013298</td>\n",
       "    </tr>\n",
       "  </tbody>\n",
       "</table>\n",
       "</div>"
      ],
      "text/plain": [
       "                                            geometry  old  total       LEI\n",
       "0  POLYGON ((2224560 5808660, 2224560 5808600, 22...   27    376  0.071809\n",
       "1  POLYGON ((2223990 5808570, 2223990 5808510, 22...    0    396  0.000000\n",
       "2  POLYGON ((2224590 5808510, 2224590 5808480, 22...   40    376  0.106383\n",
       "3  POLYGON ((2223960 5808510, 2223960 5808420, 22...    4    396  0.010101\n",
       "4  POLYGON ((2223900 5808420, 2223900 5808390, 22...    5    376  0.013298"
      ]
     },
     "execution_count": 11,
     "metadata": {},
     "output_type": "execute_result"
    }
   ],
   "source": [
    "# This calculates the change from 2000 and 2014\n",
    "lei_raw = lei.calculate_LEI(input_ghsl, old_list = [4,5,6], new_list=[3])\n",
    "lei_00_14 = pd.DataFrame(lei_raw, columns=['geometry', 'old', 'total'])\n",
    "lei_00_14['LEI'] = lei_00_14['old'] / lei_00_14['total']      \n",
    "lei_00_14.head()"
   ]
  },
  {
   "cell_type": "code",
   "execution_count": 12,
   "metadata": {},
   "outputs": [
    {
     "data": {
      "text/html": [
       "<div>\n",
       "<style scoped>\n",
       "    .dataframe tbody tr th:only-of-type {\n",
       "        vertical-align: middle;\n",
       "    }\n",
       "\n",
       "    .dataframe tbody tr th {\n",
       "        vertical-align: top;\n",
       "    }\n",
       "\n",
       "    .dataframe thead th {\n",
       "        text-align: right;\n",
       "    }\n",
       "</style>\n",
       "<table border=\"1\" class=\"dataframe\">\n",
       "  <thead>\n",
       "    <tr style=\"text-align: right;\">\n",
       "      <th></th>\n",
       "      <th>geometry</th>\n",
       "      <th>old</th>\n",
       "      <th>total</th>\n",
       "      <th>LEI</th>\n",
       "    </tr>\n",
       "  </thead>\n",
       "  <tbody>\n",
       "    <tr>\n",
       "      <th>0</th>\n",
       "      <td>POLYGON ((2228250 5808720, 2228250 5808690, 22...</td>\n",
       "      <td>2</td>\n",
       "      <td>356</td>\n",
       "      <td>0.005618</td>\n",
       "    </tr>\n",
       "    <tr>\n",
       "      <th>1</th>\n",
       "      <td>POLYGON ((2224590 5808600, 2224590 5808570, 22...</td>\n",
       "      <td>25</td>\n",
       "      <td>376</td>\n",
       "      <td>0.066489</td>\n",
       "    </tr>\n",
       "    <tr>\n",
       "      <th>2</th>\n",
       "      <td>POLYGON ((2228400 5808570, 2228400 5808540, 22...</td>\n",
       "      <td>2</td>\n",
       "      <td>376</td>\n",
       "      <td>0.005319</td>\n",
       "    </tr>\n",
       "    <tr>\n",
       "      <th>3</th>\n",
       "      <td>POLYGON ((2224350 5808360, 2224350 5808300, 22...</td>\n",
       "      <td>33</td>\n",
       "      <td>376</td>\n",
       "      <td>0.087766</td>\n",
       "    </tr>\n",
       "    <tr>\n",
       "      <th>4</th>\n",
       "      <td>POLYGON ((2224290 5808300, 2224290 5808240, 22...</td>\n",
       "      <td>32</td>\n",
       "      <td>411</td>\n",
       "      <td>0.077859</td>\n",
       "    </tr>\n",
       "  </tbody>\n",
       "</table>\n",
       "</div>"
      ],
      "text/plain": [
       "                                            geometry  old  total       LEI\n",
       "0  POLYGON ((2228250 5808720, 2228250 5808690, 22...    2    356  0.005618\n",
       "1  POLYGON ((2224590 5808600, 2224590 5808570, 22...   25    376  0.066489\n",
       "2  POLYGON ((2228400 5808570, 2228400 5808540, 22...    2    376  0.005319\n",
       "3  POLYGON ((2224350 5808360, 2224350 5808300, 22...   33    376  0.087766\n",
       "4  POLYGON ((2224290 5808300, 2224290 5808240, 22...   32    411  0.077859"
      ]
     },
     "execution_count": 12,
     "metadata": {},
     "output_type": "execute_result"
    }
   ],
   "source": [
    "lei_90_00.head()"
   ]
  },
  {
   "cell_type": "code",
   "execution_count": 13,
   "metadata": {},
   "outputs": [
    {
     "data": {
      "text/html": [
       "<div>\n",
       "<style scoped>\n",
       "    .dataframe tbody tr th:only-of-type {\n",
       "        vertical-align: middle;\n",
       "    }\n",
       "\n",
       "    .dataframe tbody tr th {\n",
       "        vertical-align: top;\n",
       "    }\n",
       "\n",
       "    .dataframe thead th {\n",
       "        text-align: right;\n",
       "    }\n",
       "</style>\n",
       "<table border=\"1\" class=\"dataframe\">\n",
       "  <thead>\n",
       "    <tr style=\"text-align: right;\">\n",
       "      <th></th>\n",
       "      <th>geometry</th>\n",
       "      <th>old</th>\n",
       "      <th>total</th>\n",
       "      <th>LEI</th>\n",
       "    </tr>\n",
       "  </thead>\n",
       "  <tbody>\n",
       "    <tr>\n",
       "      <th>0</th>\n",
       "      <td>POLYGON ((2224560 5808660, 2224560 5808600, 22...</td>\n",
       "      <td>27</td>\n",
       "      <td>376</td>\n",
       "      <td>0.071809</td>\n",
       "    </tr>\n",
       "    <tr>\n",
       "      <th>1</th>\n",
       "      <td>POLYGON ((2223990 5808570, 2223990 5808510, 22...</td>\n",
       "      <td>0</td>\n",
       "      <td>396</td>\n",
       "      <td>0.000000</td>\n",
       "    </tr>\n",
       "    <tr>\n",
       "      <th>2</th>\n",
       "      <td>POLYGON ((2224590 5808510, 2224590 5808480, 22...</td>\n",
       "      <td>40</td>\n",
       "      <td>376</td>\n",
       "      <td>0.106383</td>\n",
       "    </tr>\n",
       "    <tr>\n",
       "      <th>3</th>\n",
       "      <td>POLYGON ((2223960 5808510, 2223960 5808420, 22...</td>\n",
       "      <td>4</td>\n",
       "      <td>396</td>\n",
       "      <td>0.010101</td>\n",
       "    </tr>\n",
       "    <tr>\n",
       "      <th>4</th>\n",
       "      <td>POLYGON ((2223900 5808420, 2223900 5808390, 22...</td>\n",
       "      <td>5</td>\n",
       "      <td>376</td>\n",
       "      <td>0.013298</td>\n",
       "    </tr>\n",
       "  </tbody>\n",
       "</table>\n",
       "</div>"
      ],
      "text/plain": [
       "                                            geometry  old  total       LEI\n",
       "0  POLYGON ((2224560 5808660, 2224560 5808600, 22...   27    376  0.071809\n",
       "1  POLYGON ((2223990 5808570, 2223990 5808510, 22...    0    396  0.000000\n",
       "2  POLYGON ((2224590 5808510, 2224590 5808480, 22...   40    376  0.106383\n",
       "3  POLYGON ((2223960 5808510, 2223960 5808420, 22...    4    396  0.010101\n",
       "4  POLYGON ((2223900 5808420, 2223900 5808390, 22...    5    376  0.013298"
      ]
     },
     "execution_count": 13,
     "metadata": {},
     "output_type": "execute_result"
    }
   ],
   "source": [
    "lei_00_14.head()"
   ]
  },
  {
   "cell_type": "code",
   "execution_count": 20,
   "metadata": {},
   "outputs": [],
   "source": [
    "lei_90_00.to_csv(os.path.join(out_dir, \"lei_90_00.csv\"))\n",
    "lei_00_14.to_csv(os.path.join(out_dir, \"lei_00_14.csv\"))"
   ]
  },
  {
   "cell_type": "code",
   "execution_count": 29,
   "metadata": {},
   "outputs": [
    {
     "data": {
      "text/plain": [
       "class\n",
       "Expansion    262.2537\n",
       "Infill        11.0439\n",
       "Leapfrog      92.7270\n",
       "Name: area, dtype: float64"
      ]
     },
     "execution_count": 29,
     "metadata": {},
     "output_type": "execute_result"
    }
   ],
   "source": [
    "lei.summarize_LEI(lei_90_00, leap_val=0.05, exp_val=0.75)/1000000"
   ]
  },
  {
   "cell_type": "code",
   "execution_count": 30,
   "metadata": {},
   "outputs": [
    {
     "data": {
      "text/plain": [
       "class\n",
       "Expansion    281.0223\n",
       "Infill         4.5378\n",
       "Leapfrog     111.1266\n",
       "Name: area, dtype: float64"
      ]
     },
     "execution_count": 30,
     "metadata": {},
     "output_type": "execute_result"
    }
   ],
   "source": [
    "lei.summarize_LEI(lei_00_14, leap_val=0.05, exp_val=0.75)/1000000"
   ]
  },
  {
   "cell_type": "markdown",
   "metadata": {},
   "source": [
    "## Repeat process with WSF"
   ]
  },
  {
   "cell_type": "code",
   "execution_count": null,
   "metadata": {},
   "outputs": [],
   "source": [
    "input_wsf = os.path.join(data_dir, 'wsf', \"Serbia_WSFevolution_30m_merc.tif\")"
   ]
  },
  {
   "cell_type": "code",
   "execution_count": 228,
   "metadata": {},
   "outputs": [
    {
     "name": "stderr",
     "output_type": "stream",
     "text": [
      "TopologyException: Input geom 1 is invalid: Ring Self-intersection at or near point 2185832.6507465821 5801854.7418221384 at 2185832.6507465821 5801854.7418221384\n",
      "TopologyException: Input geom 1 is invalid: Ring Self-intersection at or near point 2182429.942784417 5800295.1673394796 at 2182429.942784417 5800295.1673394796\n",
      "TopologyException: Input geom 1 is invalid: Ring Self-intersection at or near point 2198947.2543507596 5796077.2272613794 at 2198947.2543507596 5796077.2272613794\n",
      "TopologyException: Input geom 1 is invalid: Ring Self-intersection at or near point 2233506.0070914966 5789519.9254592909 at 2233506.0070914966 5789519.9254592909\n",
      "TopologyException: Input geom 1 is invalid: Ring Self-intersection at or near point 2237192.2740505086 5767579.5480782483 at 2237192.2740505086 5767579.5480782483\n",
      "TopologyException: Input geom 1 is invalid: Ring Self-intersection at or near point 2200861.2775794771 5756733.4164488474 at 2200861.2775794771 5756733.4164488474\n",
      "TopologyException: Input geom 1 is invalid: Ring Self-intersection at or near point 2203023.4149304358 5756627.08182503 at 2203023.4149304358 5756627.08182503\n",
      "TopologyException: Input geom 1 is invalid: Ring Self-intersection at or near point 2126143.4819102725 5745072.0527035119 at 2126143.4819102725 5745072.0527035119\n",
      "TopologyException: Input geom 1 is invalid: Ring Self-intersection at or near point 2124761.1318006432 5743937.8167161234 at 2124761.1318006432 5743937.8167161234\n",
      "TopologyException: Input geom 1 is invalid: Ring Self-intersection at or near point 2261294.78878251 5735714.6058075586 at 2261294.78878251 5735714.6058075586\n",
      "TopologyException: Input geom 1 is invalid: Ring Self-intersection at or near point 2147835.7451690738 5722706.336827199 at 2147835.7451690738 5722706.336827199\n",
      "TopologyException: Input geom 1 is invalid: Ring Self-intersection at or near point 2233151.558345438 5718240.282626857 at 2233151.558345438 5718240.282626857\n",
      "TopologyException: Input geom 1 is invalid: Ring Self-intersection at or near point 2176439.7589760227 5716680.7081441982 at 2176439.7589760227 5716680.7081441982\n",
      "TopologyException: Input geom 1 is invalid: Ring Self-intersection at or near point 2315383.66743109 5706082.690637039 at 2315383.66743109 5706082.690637039\n",
      "TopologyException: Input geom 1 is invalid: Ring Self-intersection at or near point 2289048.1255989177 5697788.5899792621 at 2289048.1255989177 5697788.5899792621\n",
      "TopologyException: Input geom 1 is invalid: Ring Self-intersection at or near point 2204228.5406670361 5691266.7330517797 at 2204228.5406670361 5691266.7330517797\n",
      "TopologyException: Input geom 1 is invalid: Ring Self-intersection at or near point 2215606.3454155251 5687970.3597134324 at 2215606.3454155251 5687970.3597134324\n",
      "TopologyException: Input geom 1 is invalid: Ring Self-intersection at or near point 2193205.1846646061 5685241.1043687789 at 2193205.1846646061 5685241.1043687789\n",
      "TopologyException: Input geom 1 is invalid: Ring Self-intersection at or near point 2225708.1346782022 5685063.8799957493 at 2225708.1346782022 5685063.8799957493\n",
      "TopologyException: Input geom 1 is invalid: Ring Self-intersection at or near point 2237475.8330473555 5681094.0540398899 at 2237475.8330473555 5681094.0540398899\n",
      "TopologyException: Input geom 1 is invalid: Ring Self-intersection at or near point 2312760.7467102543 5679569.9244318372 at 2312760.7467102543 5679569.9244318372\n",
      "TopologyException: Input geom 1 is invalid: Ring Self-intersection at or near point 2303474.1895635128 5673048.0675043548 at 2303474.1895635128 5673048.0675043548\n",
      "TopologyException: Input geom 1 is invalid: Ring Self-intersection at or near point 2276961.4233583109 5671063.1545264255 at 2276961.4233583109 5671063.1545264255\n",
      "TopologyException: Input geom 1 is invalid: Ring Self-intersection at or near point 2206319.7882687831 5669255.4659215249 at 2206319.7882687831 5669255.4659215249\n",
      "TopologyException: Input geom 1 is invalid: Ring Self-intersection at or near point 2206178.0087703597 5668901.0171754658 at 2206178.0087703597 5668901.0171754658\n",
      "TopologyException: Input geom 1 is invalid: Ring Self-intersection at or near point 2196147.1092568943 5667412.3324420191 at 2196147.1092568943 5667412.3324420191\n",
      "TopologyException: Input geom 1 is invalid: Ring Self-intersection at or near point 2196466.1131283473 5667305.9978182018 at 2196466.1131283473 5667305.9978182018\n",
      "TopologyException: Input geom 1 is invalid: Ring Self-intersection at or near point 2208127.4768736833 5666845.2144483244 at 2208127.4768736833 5666845.2144483244\n",
      "TopologyException: Input geom 1 is invalid: Ring Self-intersection at or near point 2208942.7089896188 5666561.6554514775 at 2208942.7089896188 5666561.6554514775\n",
      "TopologyException: Input geom 1 is invalid: Ring Self-intersection at or near point 2208942.7089896188 5665710.9784609368 at 2208942.7089896188 5665710.9784609368\n",
      "TopologyException: Input geom 1 is invalid: Ring Self-intersection at or near point 2202881.6354320124 5665356.5297148777 at 2202881.6354320124 5665356.5297148777\n",
      "TopologyException: Input geom 1 is invalid: Ring Self-intersection at or near point 2237865.7266680207 5664966.6360942125 at 2237865.7266680207 5664966.6360942125\n",
      "TopologyException: Input geom 1 is invalid: Ring Self-intersection at or near point 2201924.6238176534 5665285.6399656655 at 2201924.6238176534 5665285.6399656655\n",
      "TopologyException: Input geom 1 is invalid: Ring Self-intersection at or near point 2200719.4980810536 5661812.0422542896 at 2200719.4980810536 5661812.0422542896\n",
      "TopologyException: Input geom 1 is invalid: Ring Self-intersection at or near point 2197458.5696173124 5660677.8062669011 at 2197458.5696173124 5660677.8062669011\n",
      "TopologyException: Input geom 1 is invalid: Ring Self-intersection at or near point 2196217.9990061061 5660358.8023954481 at 2196217.9990061061 5660358.8023954481\n",
      "TopologyException: Input geom 1 is invalid: Ring Self-intersection at or near point 2202030.9584414712 5660996.8101383541 at 2202030.9584414712 5660996.8101383541\n",
      "TopologyException: Input geom 1 is invalid: Ring Self-intersection at or near point 2201215.7263255361 5659862.5741509655 at 2201215.7263255361 5659862.5741509655\n",
      "TopologyException: Input geom 1 is invalid: Ring Self-intersection at or near point 2199939.7108397242 5659898.0190255716 at 2199939.7108397242 5659898.0190255716\n",
      "TopologyException: Input geom 1 is invalid: Ring Self-intersection at or near point 2202030.9584414712 5658976.4522858188 at 2202030.9584414712 5658976.4522858188\n",
      "TopologyException: Input geom 1 is invalid: Ring Self-intersection at or near point 2200577.7185826302 5658622.0035397597 at 2200577.7185826302 5658622.0035397597\n",
      "TopologyException: Input geom 1 is invalid: Ring Self-intersection at or near point 2203590.5329241301 5659011.8971604239 at 2203590.5329241301 5659011.8971604239\n",
      "TopologyException: Input geom 1 is invalid: Ring Self-intersection at or near point 2185336.4225020995 5658586.5586651536 at 2185336.4225020995 5658586.5586651536\n",
      "TopologyException: Input geom 1 is invalid: Ring Self-intersection at or near point 2204263.9855416422 5658373.8894175189 at 2204263.9855416422 5658373.8894175189\n",
      "TopologyException: Input geom 1 is invalid: Ring Self-intersection at or near point 2201463.840447777 5658161.2201698832 at 2201463.840447777 5658161.2201698832\n",
      "TopologyException: Input geom 1 is invalid: Ring Self-intersection at or near point 2154818.3854664331 5657097.8739317069 at 2154818.3854664331 5657097.8739317069\n",
      "TopologyException: Input geom 1 is invalid: Ring Self-intersection at or near point 2210856.7322183363 5656743.4251856478 at 2210856.7322183363 5656743.4251856478\n",
      "TopologyException: Input geom 1 is invalid: Ring Self-intersection at or near point 2208375.5909959245 5653695.1659695413 at 2208375.5909959245 5653695.1659695413\n",
      "TopologyException: Input geom 1 is invalid: Ring Self-intersection at or near point 2208765.4846165893 5652702.7094805771 at 2208765.4846165893 5652702.7094805771\n",
      "TopologyException: Input geom 1 is invalid: Ring Self-intersection at or near point 2223545.997327243 5649583.5605152594 at 2223545.997327243 5649583.5605152594\n",
      "TopologyException: Input geom 1 is invalid: Ring Self-intersection at or near point 2141916.4511098913 5641218.5701082703 at 2141916.4511098913 5641218.5701082703\n"
     ]
    },
    {
     "name": "stderr",
     "output_type": "stream",
     "text": [
      "TopologyException: Input geom 1 is invalid: Ring Self-intersection at or near point 2139470.7547620852 5635441.0555475112 at 2139470.7547620852 5635441.0555475112\n",
      "TopologyException: Input geom 1 is invalid: Ring Self-intersection at or near point 2195083.763018718 5629450.8717391165 at 2195083.763018718 5629450.8717391165\n",
      "TopologyException: Input geom 1 is invalid: Ring Self-intersection at or near point 2353770.4666292625 5626544.3920214344 at 2353770.4666292625 5626544.3920214344\n",
      "TopologyException: Input geom 1 is invalid: Ring Self-intersection at or near point 2237901.1715426263 5625835.4945293162 at 2237901.1715426263 5625835.4945293162\n",
      "TopologyException: Input geom 1 is invalid: Ring Self-intersection at or near point 2257856.6359457392 5618711.0747335339 at 2257856.6359457392 5618711.0747335339\n",
      "TopologyException: Input geom 1 is invalid: Ring Self-intersection at or near point 2256545.1755853216 5618462.9606112922 at 2256545.1755853216 5618462.9606112922\n",
      "TopologyException: Input geom 1 is invalid: Ring Self-intersection at or near point 2256864.1794567746 5616690.7168809986 at 2256864.1794567746 5616690.7168809986\n",
      "TopologyException: Input geom 1 is invalid: Ring Self-intersection at or near point 2247506.7325608209 5614245.020533192 at 2247506.7325608209 5614245.020533192\n",
      "TopologyException: Input geom 1 is invalid: Ring Self-intersection at or near point 2249846.0942848092 5614209.5756585868 at 2249846.0942848092 5614209.5756585868\n",
      "TopologyException: Input geom 1 is invalid: Ring Self-intersection at or near point 2248889.0826704507 5613996.9064109512 at 2248889.0826704507 5613996.9064109512\n",
      "TopologyException: Input geom 1 is invalid: Ring Self-intersection at or near point 2183351.5095241703 5613961.4615363451 at 2183351.5095241703 5613961.4615363451\n",
      "TopologyException: Input geom 1 is invalid: Ring Self-intersection at or near point 2257360.4077012567 5613358.8986680452 at 2257360.4077012567 5613358.8986680452\n",
      "TopologyException: Input geom 1 is invalid: Ring Self-intersection at or near point 2391129.3644638648 5610062.5253296979 at 2391129.3644638648 5610062.5253296979\n",
      "TopologyException: Input geom 1 is invalid: Ring Self-intersection at or near point 2222199.0920922197 5608183.946975586 at 2222199.0920922197 5608183.946975586\n",
      "TopologyException: Input geom 1 is invalid: Ring Self-intersection at or near point 2257112.2935790159 5608077.6123517687 at 2257112.2935790159 5608077.6123517687\n",
      "TopologyException: Input geom 1 is invalid: Ring Self-intersection at or near point 2256722.3999583512 5607829.4982295269 at 2256722.3999583512 5607829.4982295269\n",
      "TopologyException: Input geom 1 is invalid: Ring Self-intersection at or near point 2258069.3051933749 5607900.3879787391 at 2258069.3051933749 5607900.3879787391\n",
      "TopologyException: Input geom 1 is invalid: Ring Self-intersection at or near point 2303332.4100650889 5606801.5968659567 at 2303332.4100650889 5606801.5968659567\n",
      "TopologyException: Input geom 1 is invalid: Ring Self-intersection at or near point 2255304.6049741157 5606305.3686214741 at 2255304.6049741157 5606305.3686214741\n",
      "TopologyException: Input geom 1 is invalid: Ring Self-intersection at or near point 2250732.2161499565 5605950.919875415 at 2250732.2161499565 5605950.919875415\n",
      "TopologyException: Input geom 1 is invalid: Ring Self-intersection at or near point 2253213.3573723687 5604887.5736372387 at 2253213.3573723687 5604887.5736372387\n",
      "TopologyException: Input geom 1 is invalid: Ring Self-intersection at or near point 2255446.3844725392 5605064.7980102682 at 2255446.3844725392 5605064.7980102682\n",
      "TopologyException: Input geom 1 is invalid: Ring Self-intersection at or near point 2260302.3322935454 5604639.4595149979 at 2260302.3322935454 5604639.4595149979\n",
      "TopologyException: Input geom 1 is invalid: Ring Self-intersection at or near point 2260763.1156634218 5604568.5697657857 at 2260763.1156634218 5604568.5697657857\n",
      "TopologyException: Input geom 1 is invalid: Ring Self-intersection at or near point 2276323.415615405 5604249.5658943327 at 2276323.415615405 5604249.5658943327\n",
      "TopologyException: Input geom 1 is invalid: Ring Self-intersection at or near point 2278237.4388441229 5604107.7863959093 at 2278237.4388441229 5604107.7863959093\n",
      "TopologyException: Input geom 1 is invalid: Ring Self-intersection at or near point 2251157.5546452273 5603966.0068974858 at 2251157.5546452273 5603966.0068974858\n",
      "TopologyException: Input geom 1 is invalid: Ring Self-intersection at or near point 2301418.3868363714 5603682.4479006389 at 2301418.3868363714 5603682.4479006389\n",
      "TopologyException: Input geom 1 is invalid: Ring Self-intersection at or near point 2250023.3186578387 5603115.3299069442 at 2250023.3186578387 5603115.3299069442\n",
      "TopologyException: Input geom 1 is invalid: Ring Self-intersection at or near point 2279832.4582013879 5602973.5504085207 at 2279832.4582013879 5602973.5504085207\n",
      "TopologyException: Input geom 1 is invalid: Ring Self-intersection at or near point 2246053.4927019798 5602725.4362862799 at 2246053.4927019798 5602725.4362862799\n",
      "TopologyException: Input geom 1 is invalid: Ring Self-intersection at or near point 2262180.9106476572 5602512.7670386443 at 2262180.9106476572 5602512.7670386443\n",
      "TopologyException: Input geom 1 is invalid: Ring Self-intersection at or near point 2245450.9298336799 5602087.4285433739 at 2245450.9298336799 5602087.4285433739\n",
      "TopologyException: Input geom 1 is invalid: Ring Self-intersection at or near point 2261755.5721523864 5602264.6529164035 at 2261755.5721523864 5602264.6529164035\n",
      "TopologyException: Input geom 1 is invalid: Ring Self-intersection at or near point 2199975.1557143298 5601839.3144211331 at 2199975.1557143298 5601839.3144211331\n",
      "TopologyException: Input geom 1 is invalid: Ring Self-intersection at or near point 2248463.7441751799 5601059.5271798037 at 2248463.7441751799 5601059.5271798037\n",
      "TopologyException: Input geom 1 is invalid: Ring Self-intersection at or near point 2278166.5490949112 5600846.8579321681 at 2278166.5490949112 5600846.8579321681\n",
      "TopologyException: Input geom 1 is invalid: Ring Self-intersection at or near point 2305990.7756605302 5601094.9720544089 at 2305990.7756605302 5601094.9720544089\n",
      "TopologyException: Input geom 1 is invalid: Ring Self-intersection at or near point 2278556.4427155759 5600917.7476813793 at 2278556.4427155759 5600917.7476813793\n",
      "TopologyException: Input geom 1 is invalid: Ring Self-intersection at or near point 2266044.4019796988 5599145.5039510857 at 2266044.4019796988 5599145.5039510857\n",
      "TopologyException: Input geom 1 is invalid: Ring Self-intersection at or near point 2263315.1466350453 5599110.0590764796 at 2263315.1466350453 5599110.0590764796\n",
      "TopologyException: Input geom 1 is invalid: Ring Self-intersection at or near point 2279159.0055838758 5598720.1654558154 at 2279159.0055838758 5598720.1654558154\n",
      "TopologyException: Input geom 1 is invalid: Ring Self-intersection at or near point 2278414.6632171525 5598401.1615843624 at 2278414.6632171525 5598401.1615843624\n",
      "TopologyException: Input geom 1 is invalid: Ring Self-intersection at or near point 2249385.3109149328 5598330.2718351502 at 2249385.3109149328 5598330.2718351502\n",
      "TopologyException: Input geom 1 is invalid: Ring Self-intersection at or near point 2277493.0964773991 5598046.7128383033 at 2277493.0964773991 5598046.7128383033\n",
      "TopologyException: Input geom 1 is invalid: Ring Self-intersection at or near point 2264803.8313684925 5597479.5948446086 at 2264803.8313684925 5597479.5948446086\n",
      "TopologyException: Input geom 1 is invalid: Ring Self-intersection at or near point 2279229.8953330875 5597231.4807223678 at 2279229.8953330875 5597231.4807223678\n",
      "TopologyException: Input geom 1 is invalid: Ring Self-intersection at or near point 2265831.7327320632 5598613.8308319971 at 2265831.7327320632 5598613.8308319971\n",
      "TopologyException: Input geom 1 is invalid: Ring Self-intersection at or near point 2168145.6583182458 5596416.2486064322 at 2168145.6583182458 5596416.2486064322\n",
      "TopologyException: Input geom 1 is invalid: Ring Self-intersection at or near point 2271006.6844245223 5595884.5754873445 at 2271006.6844245223 5595884.5754873445\n",
      "TopologyException: Input geom 1 is invalid: Ring Self-intersection at or near point 2253567.8061184273 5595601.0164904967 at 2253567.8061184273 5595601.0164904967\n"
     ]
    },
    {
     "name": "stderr",
     "output_type": "stream",
     "text": [
      "TopologyException: Input geom 1 is invalid: Ring Self-intersection at or near point 2287807.5549877118 5594360.4458792908 at 2287807.5549877118 5594360.4458792908\n",
      "TopologyException: Input geom 1 is invalid: Ring Self-intersection at or near point 2250661.3264007447 5592836.316271238 at 2250661.3264007447 5592836.316271238\n",
      "TopologyException: Input geom 1 is invalid: Ring Self-intersection at or near point 2286850.5433733528 5592588.2021489972 at 2286850.5433733528 5592588.2021489972\n",
      "TopologyException: Input geom 1 is invalid: Ring Self-intersection at or near point 2267036.8584686634 5592694.5367728146 at 2267036.8584686634 5592694.5367728146\n",
      "TopologyException: Input geom 1 is invalid: Ring Self-intersection at or near point 2286921.4331225646 5591737.5251584556 at 2286921.4331225646 5591737.5251584556\n",
      "TopologyException: Input geom 1 is invalid: Ring Self-intersection at or near point 2287665.7754892884 5591914.7495314851 at 2287665.7754892884 5591914.7495314851\n",
      "TopologyException: Input geom 1 is invalid: Ring Self-intersection at or near point 2265867.1776066693 5591241.2969139731 at 2265867.1776066693 5591241.2969139731\n",
      "TopologyException: Input geom 1 is invalid: Ring Self-intersection at or near point 2281321.1429348346 5591312.1866631852 at 2281321.1429348346 5591312.1866631852\n",
      "TopologyException: Input geom 1 is invalid: Ring Self-intersection at or near point 2265902.6224812749 5590886.8481679149 at 2265902.6224812749 5590886.8481679149\n",
      "TopologyException: Input geom 1 is invalid: Ring Self-intersection at or near point 2262960.6978889867 5590284.2852996141 at 2262960.6978889867 5590284.2852996141\n",
      "TopologyException: Input geom 1 is invalid: Ring Self-intersection at or near point 2262641.6940175337 5590071.6160519794 at 2262641.6940175337 5590071.6160519794\n",
      "TopologyException: Input geom 1 is invalid: Ring Self-intersection at or near point 2285184.6342668761 5589788.0570551325 at 2285184.6342668761 5589788.0570551325\n",
      "TopologyException: Input geom 1 is invalid: Ring Self-intersection at or near point 2257360.4077012567 5589929.8365535559 at 2257360.4077012567 5589929.8365535559\n",
      "TopologyException: Input geom 1 is invalid: Ring Self-intersection at or near point 2263386.0363842575 5590000.7263027672 at 2263386.0363842575 5590000.7263027672\n",
      "TopologyException: Input geom 1 is invalid: Ring Self-intersection at or near point 2260231.4425443336 5589788.0570551325 at 2260231.4425443336 5589788.0570551325\n",
      "TopologyException: Input geom 1 is invalid: Ring Self-intersection at or near point 2263811.3748795278 5589823.5019297376 at 2263811.3748795278 5589823.5019297376\n",
      "TopologyException: Input geom 1 is invalid: Ring Self-intersection at or near point 2266186.1814781222 5589965.2814281611 at 2266186.1814781222 5589965.2814281611\n",
      "TopologyException: Input geom 1 is invalid: Ring Self-intersection at or near point 2265512.7288606102 5589362.7185598612 at 2265512.7288606102 5589362.7185598612\n",
      "TopologyException: Input geom 1 is invalid: Ring Self-intersection at or near point 2259876.9937982745 5589327.273685256 at 2259876.9937982745 5589327.273685256\n",
      "TopologyException: Input geom 1 is invalid: Ring Self-intersection at or near point 2286602.4292511116 5589256.3839360438 at 2286602.4292511116 5589256.3839360438\n",
      "TopologyException: Input geom 1 is invalid: Ring Self-intersection at or near point 2276925.9784837053 5588937.3800645908 at 2276925.9784837053 5588937.3800645908\n",
      "TopologyException: Input geom 1 is invalid: Ring Self-intersection at or near point 2252220.9008834036 5587838.5889518084 at 2252220.9008834036 5587838.5889518084\n",
      "TopologyException: Input geom 1 is invalid: Ring Self-intersection at or near point 2287382.216492441 5587519.5850803554 at 2287382.216492441 5587519.5850803554\n",
      "TopologyException: Input geom 1 is invalid: Ring Self-intersection at or near point 2154534.8264695862 5587413.2504565381 at 2154534.8264695862 5587413.2504565381\n",
      "TopologyException: Input geom 1 is invalid: Ring Self-intersection at or near point 2251441.1136420742 5586030.9003469087 at 2251441.1136420742 5586030.9003469087\n",
      "TopologyException: Input geom 1 is invalid: Ring Self-intersection at or near point 2186647.8828625176 5585747.3413500609 at 2186647.8828625176 5585747.3413500609\n",
      "TopologyException: Input geom 1 is invalid: Ring Self-intersection at or near point 2266895.07897024 5585676.4516008496 at 2266895.07897024 5585676.4516008496\n",
      "TopologyException: Input geom 1 is invalid: Ring Self-intersection at or near point 2287878.4447369236 5585853.6759738792 at 2287878.4447369236 5585853.6759738792\n",
      "TopologyException: Input geom 1 is invalid: Ring Self-intersection at or near point 2289402.5743449763 5585109.3336071549 at 2289402.5743449763 5585109.3336071549\n",
      "TopologyException: Input geom 1 is invalid: Ring Self-intersection at or near point 2284192.1777779115 5584790.3297357019 at 2284192.1777779115 5584790.3297357019\n",
      "TopologyException: Input geom 1 is invalid: Ring Self-intersection at or near point 2307373.12577016 5584577.6604880672 at 2307373.12577016 5584577.6604880672\n",
      "TopologyException: Input geom 1 is invalid: Ring Self-intersection at or near point 2187853.0085991174 5584010.5424943725 at 2187853.0085991174 5584010.5424943725\n",
      "TopologyException: Input geom 1 is invalid: Ring Self-intersection at or near point 2282419.934047617 5584683.9951118845 at 2282419.934047617 5584683.9951118845\n",
      "TopologyException: Input geom 1 is invalid: Ring Self-intersection at or near point 2273948.609016811 5583407.9796260726 at 2273948.609016811 5583407.9796260726\n",
      "TopologyException: Input geom 1 is invalid: Ring Self-intersection at or near point 2288941.7909750999 5583159.8655038318 at 2288941.7909750999 5583159.8655038318\n",
      "TopologyException: Input geom 1 is invalid: Ring Self-intersection at or near point 2394283.9583037887 5583159.8655038318 at 2394283.9583037887 5583159.8655038318\n",
      "TopologyException: Input geom 1 is invalid: Ring Self-intersection at or near point 2284971.965019241 5582273.743638685 at 2284971.965019241 5582273.743638685\n",
      "TopologyException: Input geom 1 is invalid: Ring Self-intersection at or near point 2292734.3925579297 5582344.6333878962 at 2292734.3925579297 5582344.6333878962\n",
      "TopologyException: Input geom 1 is invalid: Ring Self-intersection at or near point 2270687.6805530693 5582380.0782625023 at 2270687.6805530693 5582380.0782625023\n",
      "TopologyException: Input geom 1 is invalid: Ring Self-intersection at or near point 2283873.1739064585 5582096.5192656554 at 2283873.1739064585 5582096.5192656554\n",
      "TopologyException: Input geom 1 is invalid: Ring Self-intersection at or near point 2292663.502808718 5581706.6256449902 at 2292663.502808718 5581706.6256449902\n",
      "TopologyException: Input geom 1 is invalid: Ring Self-intersection at or near point 2283802.2841572468 5581493.9563973555 at 2283802.2841572468 5581493.9563973555\n",
      "TopologyException: Input geom 1 is invalid: Ring Self-intersection at or near point 2270014.2279355577 5581033.1730274782 at 2270014.2279355577 5581033.1730274782\n",
      "TopologyException: Input geom 1 is invalid: Ring Self-intersection at or near point 2280576.8005681112 5581458.5115227494 at 2280576.8005681112 5581458.5115227494\n",
      "TopologyException: Input geom 1 is invalid: Ring Self-intersection at or near point 2274692.9513835344 5580288.8306607548 at 2274692.9513835344 5580288.8306607548\n",
      "TopologyException: Input geom 1 is invalid: Ring Self-intersection at or near point 2280718.5800665347 5580395.1652845731 at 2280718.5800665347 5580395.1652845731\n",
      "TopologyException: Input geom 1 is invalid: Ring Self-intersection at or near point 2282171.8199253762 5580147.0511623314 at 2282171.8199253762 5580147.0511623314\n",
      "TopologyException: Input geom 1 is invalid: Ring Self-intersection at or near point 2278343.7734679407 5579863.4921654845 at 2278343.7734679407 5579863.4921654845\n",
      "TopologyException: Input geom 1 is invalid: Ring Self-intersection at or near point 2276855.0887344936 5578693.8113034898 at 2276855.0887344936 5578693.8113034898\n",
      "TopologyException: Input geom 1 is invalid: Ring Self-intersection at or near point 2280470.4659442934 5578339.3625574317 at 2280470.4659442934 5578339.3625574317\n",
      "TopologyException: Input geom 1 is invalid: Ring Self-intersection at or near point 2334559.3445928735 5578339.3625574317 at 2334559.3445928735 5578339.3625574317\n"
     ]
    },
    {
     "name": "stderr",
     "output_type": "stream",
     "text": [
      "TopologyException: Input geom 1 is invalid: Ring Self-intersection at or near point 2192106.3935518237 5575397.4379651425 at 2192106.3935518237 5575397.4379651425\n",
      "TopologyException: Input geom 1 is invalid: Ring Self-intersection at or near point 2281462.9224332585 5574830.3199714487 at 2281462.9224332585 5574830.3199714487\n",
      "TopologyException: Input geom 1 is invalid: Ring Self-intersection at or near point 2282384.4891730114 5574511.3160999957 at 2282384.4891730114 5574511.3160999957\n",
      "TopologyException: Input geom 1 is invalid: Ring Self-intersection at or near point 2188526.4612166295 5574156.8673539367 at 2188526.4612166295 5574156.8673539367\n",
      "TopologyException: Input geom 1 is invalid: Ring Self-intersection at or near point 2301205.7175887362 5573908.7532316959 at 2301205.7175887362 5573908.7532316959\n",
      "TopologyException: Input geom 1 is invalid: Ring Self-intersection at or near point 2332538.9867403377 5572668.18262049 at 2332538.9867403377 5572668.18262049\n",
      "TopologyException: Input geom 1 is invalid: Ring Self-intersection at or near point 2249739.7596609918 5571037.7183886189 at 2249739.7596609918 5571037.7183886189\n",
      "TopologyException: Input geom 1 is invalid: Ring Self-intersection at or near point 2271183.9087975519 5567776.7899248777 at 2271183.9087975519 5567776.7899248777\n",
      "TopologyException: Input geom 1 is invalid: Ring Self-intersection at or near point 2318042.0330265313 5567280.5616803952 at 2318042.0330265313 5567280.5616803952\n",
      "TopologyException: Input geom 1 is invalid: Ring Self-intersection at or near point 2271254.7985467636 5566607.109062884 at 2271254.7985467636 5566607.109062884\n",
      "TopologyException: Input geom 1 is invalid: Ring Self-intersection at or near point 2304962.87429696 5563771.5190944131 at 2304962.87429696 5563771.5190944131\n",
      "TopologyException: Input geom 1 is invalid: Ring Self-intersection at or near point 2226487.9219195317 5563665.1844705949 at 2226487.9219195317 5563665.1844705949\n",
      "TopologyException: Input geom 1 is invalid: Ring Self-intersection at or near point 2331900.9789974322 5563665.1844705949 at 2331900.9789974322 5563665.1844705949\n",
      "TopologyException: Input geom 1 is invalid: Ring Self-intersection at or near point 2302907.0715698185 5563310.7357245367 at 2302907.0715698185 5563310.7357245367\n",
      "TopologyException: Input geom 1 is invalid: Ring Self-intersection at or near point 2305600.8820398655 5563062.621602295 at 2305600.8820398655 5563062.621602295\n",
      "TopologyException: Input geom 1 is invalid: Ring Self-intersection at or near point 2326832.3619287903 5562070.1651133308 at 2326832.3619287903 5562070.1651133308\n",
      "TopologyException: Input geom 1 is invalid: Ring Self-intersection at or near point 2326584.2478065491 5561786.606116483 at 2326584.2478065491 5561786.606116483\n",
      "TopologyException: Input geom 1 is invalid: Ring Self-intersection at or near point 2356464.27709931 5561325.8227466065 at 2356464.27709931 5561325.8227466065\n",
      "TopologyException: Input geom 1 is invalid: Ring Self-intersection at or near point 2242650.7847398147 5558135.7840320775 at 2242650.7847398147 5558135.7840320775\n",
      "TopologyException: Input geom 1 is invalid: Ring Self-intersection at or near point 2325804.4605652196 5556292.6505525708 at 2325804.4605652196 5556292.6505525708\n",
      "TopologyException: Input geom 1 is invalid: Ring Self-intersection at or near point 2140356.8766272324 5554591.2965714885 at 2140356.8766272324 5554591.2965714885\n",
      "TopologyException: Input geom 1 is invalid: Ring Self-intersection at or near point 2134933.810812532 5553350.7259602826 at 2134933.810812532 5553350.7259602826\n",
      "TopologyException: Input geom 1 is invalid: Ring Self-intersection at or near point 2134508.4723172612 5552748.1630919827 at 2134508.4723172612 5552748.1630919827\n",
      "TopologyException: Input geom 1 is invalid: Ring Self-intersection at or near point 2135890.822426891 5549593.5692520589 at 2135890.822426891 5549593.5692520589\n",
      "TopologyException: Input geom 1 is invalid: Ring Self-intersection at or near point 2290678.5898307883 5548246.6640170356 at 2290678.5898307883 5548246.6640170356\n",
      "TopologyException: Input geom 1 is invalid: Ring Self-intersection at or near point 2133551.4607029026 5547644.1011487357 at 2133551.4607029026 5547644.1011487357\n",
      "TopologyException: Input geom 1 is invalid: Ring Self-intersection at or near point 2296739.6633883948 5547183.3177788593 at 2296739.6633883948 5547183.3177788593\n",
      "TopologyException: Input geom 1 is invalid: Ring Self-intersection at or near point 2299646.1431060769 5541724.8070895523 at 2299646.1431060769 5541724.8070895523\n",
      "TopologyException: Input geom 1 is invalid: Ring Self-intersection at or near point 2264591.1621208573 5539669.0043624118 at 2264591.1621208573 5539669.0043624118\n",
      "TopologyException: Input geom 1 is invalid: Ring Self-intersection at or near point 2300674.0444696476 5538322.0991273876 at 2300674.0444696476 5538322.0991273876\n",
      "TopologyException: Input geom 1 is invalid: Ring Self-intersection at or near point 2168464.6621896988 5536478.9656478819 at 2168464.6621896988 5536478.9656478819\n",
      "TopologyException: Input geom 1 is invalid: Ring Self-intersection at or near point 2258317.4193156157 5536266.2964002462 at 2258317.4193156157 5536266.2964002462\n",
      "TopologyException: Input geom 1 is invalid: Ring Self-intersection at or near point 2129936.0834931023 5528220.309864711 at 2129936.0834931023 5528220.309864711\n",
      "TopologyException: Input geom 1 is invalid: Ring Self-intersection at or near point 2253638.695867639 5525951.837889934 at 2253638.695867639 5525951.837889934\n",
      "TopologyException: Input geom 1 is invalid: Ring Self-intersection at or near point 2256899.6243313802 5525242.9403978167 at 2256899.6243313802 5525242.9403978167\n",
      "TopologyException: Input geom 1 is invalid: Ring Self-intersection at or near point 2290607.7000815766 5510745.9866840094 at 2290607.7000815766 5510745.9866840094\n",
      "TopologyException: Input geom 1 is invalid: Ring Self-intersection at or near point 2213550.5426883837 5509718.0853204392 at 2213550.5426883837 5509718.0853204392\n",
      "TopologyException: Input geom 1 is invalid: Ring Self-intersection at or near point 2211636.5194596658 5507485.0582202682 at 2211636.5194596658 5507485.0582202682\n",
      "TopologyException: Input geom 1 is invalid: Ring Self-intersection at or near point 2505935.3133123247 5501530.3192864796 at 2505935.3133123247 5501530.3192864796\n",
      "TopologyException: Input geom 1 is invalid: Ring Self-intersection at or near point 2360398.6581805632 5499864.4101800034 at 2360398.6581805632 5499864.4101800034\n",
      "TopologyException: Input geom 1 is invalid: Ring Self-intersection at or near point 2225460.0205559609 5481184.961262702 at 2225460.0205559609 5481184.961262702\n",
      "TopologyException: Input geom 1 is invalid: Ring Self-intersection at or near point 2325662.6810667962 5471437.6207460836 at 2325662.6810667962 5471437.6207460836\n",
      "TopologyException: Input geom 1 is invalid: Ring Self-intersection at or near point 2325627.2361921906 5470764.1681285724 at 2325627.2361921906 5470764.1681285724\n",
      "TopologyException: Input geom 1 is invalid: Ring Self-intersection at or near point 2321905.5243585724 5468921.0346490657 at 2321905.5243585724 5468921.0346490657\n",
      "TopologyException: Input geom 1 is invalid: Ring Self-intersection at or near point 2369259.8768320344 5463427.0790851545 at 2369259.8768320344 5463427.0790851545\n",
      "TopologyException: Input geom 1 is invalid: Ring Self-intersection at or near point 2377872.9813612644 5456231.769540159 at 2377872.9813612644 5456231.769540159\n",
      "TopologyException: Input geom 1 is invalid: Ring Self-intersection at or near point 2271573.8024182166 5452510.0577065414 at 2271573.8024182166 5452510.0577065414\n",
      "TopologyException: Input geom 1 is invalid: Ring Self-intersection at or near point 2228047.4964021905 5440210.6862182999 at 2228047.4964021905 5440210.6862182999\n",
      "TopologyException: Input geom 1 is invalid: Ring Self-intersection at or near point 2231272.9799913261 5439395.4541023644 at 2231272.9799913261 5439395.4541023644\n",
      "TopologyException: Input geom 1 is invalid: Ring Self-intersection at or near point 2377376.7531167818 5431030.4636953752 at 2377376.7531167818 5431030.4636953752\n",
      "TopologyException: Input geom 1 is invalid: Ring Self-intersection at or near point 2298334.6827456593 5428691.1019713869 at 2298334.6827456593 5428691.1019713869\n"
     ]
    },
    {
     "name": "stderr",
     "output_type": "stream",
     "text": [
      "TopologyException: Input geom 1 is invalid: Ring Self-intersection at or near point 2235951.7034393027 5426458.0748712169 at 2235951.7034393027 5426458.0748712169\n",
      "TopologyException: Input geom 1 is invalid: Ring Self-intersection at or near point 2301808.2804570361 5422311.024542328 at 2301808.2804570361 5422311.024542328\n",
      "TopologyException: Input geom 1 is invalid: Ring Self-intersection at or near point 2325910.7951890375 5412563.6840257095 at 2325910.7951890375 5412563.6840257095\n",
      "TopologyException: Input geom 1 is invalid: Ring Self-intersection at or near point 2329136.278778173 5410188.877427116 at 2329136.278778173 5410188.877427116\n",
      "TopologyException: Input geom 1 is invalid: Ring Self-intersection at or near point 2324776.5592016494 5406396.2758442862 at 2324776.5592016494 5406396.2758442862\n",
      "TopologyException: Input geom 1 is invalid: Ring Self-intersection at or near point 2374115.8246530406 5403418.9063773919 at 2374115.8246530406 5403418.9063773919\n",
      "TopologyException: Input geom 1 is invalid: Ring Self-intersection at or near point 2356464.27709931 5386440.8114411728 at 2356464.27709931 5386440.8114411728\n",
      "TopologyException: Input geom 1 is invalid: Ring Self-intersection at or near point 2431075.7381446967 5367974.0317715071 at 2431075.7381446967 5367974.0317715071\n",
      "TopologyException: Input geom 1 is invalid: Ring Self-intersection at or near point 2184981.9737560409 5367300.579153995 at 2184981.9737560409 5367300.579153995\n",
      "TopologyException: Input geom 1 is invalid: Ring Self-intersection at or near point 2436924.1424546675 5364890.3276807955 at 2436924.1424546675 5364890.3276807955\n",
      "TopologyException: Input geom 1 is invalid: Ring Self-intersection at or near point 2433627.7691163202 5364571.3238093425 at 2433627.7691163202 5364571.3238093425\n",
      "TopologyException: Input geom 1 is invalid: Ring Self-intersection at or near point 2433166.9857464437 5364252.3199378895 at 2433166.9857464437 5364252.3199378895\n",
      "TopologyException: Input geom 1 is invalid: Ring Self-intersection at or near point 2436498.8039593971 5363366.1980727427 at 2436498.8039593971 5363366.1980727427\n",
      "TopologyException: Input geom 1 is invalid: Ring Self-intersection at or near point 2441921.8697740976 5361948.4030885072 at 2441921.8697740976 5361948.4030885072\n",
      "TopologyException: Input geom 1 is invalid: Ring Self-intersection at or near point 2443020.66088688 5361416.7299694186 at 2443020.66088688 5361416.7299694186\n",
      "TopologyException: Input geom 1 is invalid: Ring Self-intersection at or near point 2225389.1308067492 5355213.8769133892 at 2225389.1308067492 5355213.8769133892\n",
      "TopologyException: Input geom 1 is invalid: Ring Self-intersection at or near point 2222447.2062144605 5354894.8730419362 at 2222447.2062144605 5354894.8730419362\n",
      "TopologyException: Input geom 1 is invalid: Ring Self-intersection at or near point 2226168.9180480787 5354185.975549818 at 2226168.9180480787 5354185.975549818\n",
      "TopologyException: Input geom 1 is invalid: Ring Self-intersection at or near point 2370535.892317846 5353583.4126815181 at 2370535.892317846 5353583.4126815181\n",
      "TopologyException: Input geom 1 is invalid: Ring Self-intersection at or near point 2404173.0783188306 5347451.4493747 at 2404173.0783188306 5347451.4493747\n",
      "TopologyException: Input geom 1 is invalid: Ring Self-intersection at or near point 2281321.1429348346 5329587.2325733341 at 2281321.1429348346 5329587.2325733341\n",
      "TopologyException: Input geom 1 is invalid: Ring Self-intersection at or near point 2442347.2082693679 5323809.7180125751 at 2442347.2082693679 5323809.7180125751\n",
      "TopologyException: Input geom 1 is invalid: Ring Self-intersection at or near point 2446281.5893506212 5319272.7740630219 at 2446281.5893506212 5319272.7740630219\n",
      "TopologyException: Input geom 1 is invalid: Ring Self-intersection at or near point 2441567.4210280385 5312680.0273863273 at 2441567.4210280385 5312680.0273863273\n",
      "TopologyException: Input geom 1 is invalid: Ring Self-intersection at or near point 2440610.4094136795 5312112.9093926335 at 2440610.4094136795 5312112.9093926335\n",
      "TopologyException: Input geom 1 is invalid: Ring Self-intersection at or near point 2440397.7401660443 5310730.5592830041 at 2440397.7401660443 5310730.5592830041\n",
      "TopologyException: Input geom 1 is invalid: Ring Self-intersection at or near point 2451102.0922970213 5310447.0002861563 at 2451102.0922970213 5310447.0002861563\n",
      "TopologyException: Input geom 1 is invalid: Ring Self-intersection at or near point 2262606.249142928 5310163.4412893094 at 2262606.249142928 5310163.4412893094\n",
      "TopologyException: Input geom 1 is invalid: Ring Self-intersection at or near point 2265583.6186098224 5310057.1066654921 at 2265583.6186098224 5310057.1066654921\n",
      "TopologyException: Input geom 1 is invalid: Ring Self-intersection at or near point 2263634.1505064983 5309667.2130448269 at 2263634.1505064983 5309667.2130448269\n",
      "TopologyException: Input geom 1 is invalid: Ring Self-intersection at or near point 2433450.5447432911 5309064.650176527 at 2433450.5447432911 5309064.650176527\n",
      "TopologyException: Input geom 1 is invalid: Ring Self-intersection at or near point 2438448.2720627207 5309064.650176527 at 2438448.2720627207 5309064.650176527\n",
      "TopologyException: Input geom 1 is invalid: Ring Self-intersection at or near point 2444970.1289902031 5309029.2053019218 at 2444970.1289902031 5309029.2053019218\n",
      "TopologyException: Input geom 1 is invalid: Ring Self-intersection at or near point 2455568.1464973628 5308745.646305074 at 2455568.1464973628 5308745.646305074\n",
      "TopologyException: Input geom 1 is invalid: Ring Self-intersection at or near point 2463826.8022805341 5308036.7488129567 at 2463826.8022805341 5308036.7488129567\n",
      "TopologyException: Input geom 1 is invalid: Ring Self-intersection at or near point 2462267.2277978752 5306973.4025747804 at 2462267.2277978752 5306973.4025747804\n",
      "TopologyException: Input geom 1 is invalid: Ring Self-intersection at or near point 2441815.5351502798 5295701.9324501092 at 2441815.5351502798 5295701.9324501092\n",
      "TopologyException: Input geom 1 is invalid: Ring Self-intersection at or near point 2467016.8409950635 5264262.3286746889 at 2467016.8409950635 5264262.3286746889\n",
      "TopologyException: Input geom 1 is invalid: Ring Self-intersection at or near point 2414593.8714529602 5242889.0692873411 at 2414593.8714529602 5242889.0692873411\n",
      "TopologyException: Input geom 1 is invalid: Ring Self-intersection at or near point 2443233.3301345152 5236686.2162313107 at 2443233.3301345152 5236686.2162313107\n",
      "TopologyException: Input geom 1 is invalid: Ring Self-intersection at or near point 2410730.3801209191 5203013.5853557214 at 2410730.3801209191 5203013.5853557214\n",
      "TopologyException: Input geom 1 is invalid: Ring Self-intersection at or near point 2411793.7263590954 5198760.2004030151 at 2411793.7263590954 5198760.2004030151\n"
     ]
    },
    {
     "name": "stdout",
     "output_type": "stream",
     "text": [
      "CPU times: user 25min 11s, sys: 13.4 s, total: 25min 25s\n",
      "Wall time: 25min 22s\n"
     ]
    },
    {
     "data": {
      "text/html": [
       "<div>\n",
       "<style scoped>\n",
       "    .dataframe tbody tr th:only-of-type {\n",
       "        vertical-align: middle;\n",
       "    }\n",
       "\n",
       "    .dataframe tbody tr th {\n",
       "        vertical-align: top;\n",
       "    }\n",
       "\n",
       "    .dataframe thead th {\n",
       "        text-align: right;\n",
       "    }\n",
       "</style>\n",
       "<table border=\"1\" class=\"dataframe\">\n",
       "  <thead>\n",
       "    <tr style=\"text-align: right;\">\n",
       "      <th></th>\n",
       "      <th>geometry</th>\n",
       "      <th>old</th>\n",
       "      <th>total</th>\n",
       "      <th>LEI</th>\n",
       "    </tr>\n",
       "  </thead>\n",
       "  <tbody>\n",
       "    <tr>\n",
       "      <th>0</th>\n",
       "      <td>POLYGON ((2191893.724304189 5811637.527213363,...</td>\n",
       "      <td>4</td>\n",
       "      <td>248</td>\n",
       "      <td>0.016129</td>\n",
       "    </tr>\n",
       "    <tr>\n",
       "      <th>1</th>\n",
       "      <td>POLYGON ((2225601.800054384 5810113.39760531, ...</td>\n",
       "      <td>6</td>\n",
       "      <td>292</td>\n",
       "      <td>0.020548</td>\n",
       "    </tr>\n",
       "    <tr>\n",
       "      <th>2</th>\n",
       "      <td>POLYGON ((2228969.063141943 5809971.618106886,...</td>\n",
       "      <td>10</td>\n",
       "      <td>248</td>\n",
       "      <td>0.040323</td>\n",
       "    </tr>\n",
       "    <tr>\n",
       "      <th>3</th>\n",
       "      <td>POLYGON ((2225211.90643372 5809865.283483068, ...</td>\n",
       "      <td>2</td>\n",
       "      <td>304</td>\n",
       "      <td>0.006579</td>\n",
       "    </tr>\n",
       "    <tr>\n",
       "      <th>4</th>\n",
       "      <td>POLYGON ((2224786.567938449 5809723.503984645,...</td>\n",
       "      <td>10</td>\n",
       "      <td>248</td>\n",
       "      <td>0.040323</td>\n",
       "    </tr>\n",
       "  </tbody>\n",
       "</table>\n",
       "</div>"
      ],
      "text/plain": [
       "                                            geometry  old  total       LEI\n",
       "0  POLYGON ((2191893.724304189 5811637.527213363,...    4    248  0.016129\n",
       "1  POLYGON ((2225601.800054384 5810113.39760531, ...    6    292  0.020548\n",
       "2  POLYGON ((2228969.063141943 5809971.618106886,...   10    248  0.040323\n",
       "3  POLYGON ((2225211.90643372 5809865.283483068, ...    2    304  0.006579\n",
       "4  POLYGON ((2224786.567938449 5809723.503984645,...   10    248  0.040323"
      ]
     },
     "execution_count": 228,
     "metadata": {},
     "output_type": "execute_result"
    }
   ],
   "source": [
    "%%time\n",
    "# This calculates the change from 1990 and 2000\n",
    "lei_raw = lei.calculate_LEI(input_wsf, old_list = list(range(1985,1991)), new_list=list(range(1991,2001)))\n",
    "lei_90_00 = pd.DataFrame(lei_raw, columns=['geometry', 'old', 'total'])\n",
    "lei_90_00['LEI'] = lei_90_00['old'] / lei_90_00['total']      \n",
    "lei_90_00.head()"
   ]
  },
  {
   "cell_type": "code",
   "execution_count": 229,
   "metadata": {},
   "outputs": [],
   "source": [
    "summary_90_00 = lei.summarize_LEI(lei_90_00, leap_val=0.05, exp_val=0.75)"
   ]
  },
  {
   "cell_type": "code",
   "execution_count": 230,
   "metadata": {},
   "outputs": [
    {
     "name": "stderr",
     "output_type": "stream",
     "text": [
      "TopologyException: Input geom 1 is invalid: Ring Self-intersection at or near point 2229252.6221387908 5809581.7244862216 at 2229252.6221387908 5809581.7244862216\n",
      "TopologyException: Input geom 1 is invalid: Ring Self-intersection at or near point 2195190.0976425353 5800649.6160855386 at 2195190.0976425353 5800649.6160855386\n",
      "TopologyException: Input geom 1 is invalid: Ring Self-intersection at or near point 2186435.213614882 5799125.4864774859 at 2186435.213614882 5799125.4864774859\n",
      "TopologyException: Input geom 1 is invalid: Ring Self-intersection at or near point 2191291.1614358881 5798062.1402393095 at 2191291.1614358881 5798062.1402393095\n",
      "TopologyException: Input geom 1 is invalid: Ring Self-intersection at or near point 2233860.4558375557 5789307.2562116552 at 2233860.4558375557 5789307.2562116552\n",
      "TopologyException: Input geom 1 is invalid: Ring Self-intersection at or near point 2233328.7827184671 5789200.9215878379 at 2233328.7827184671 5789200.9215878379\n",
      "TopologyException: Input geom 1 is invalid: Ring Self-intersection at or near point 2261826.4619015986 5781296.7145507261 at 2261826.4619015986 5781296.7145507261\n",
      "TopologyException: Input geom 1 is invalid: Ring Self-intersection at or near point 2157086.8574412097 5777823.1168393493 at 2157086.8574412097 5777823.1168393493\n",
      "TopologyException: Input geom 1 is invalid: Ring Self-intersection at or near point 2160489.5654033748 5775696.4243629957 at 2160489.5654033748 5775696.4243629957\n",
      "TopologyException: Input geom 1 is invalid: Ring Self-intersection at or near point 2164104.9426131751 5774136.8498803368 at 2164104.9426131751 5774136.8498803368\n",
      "TopologyException: Input geom 1 is invalid: Ring Self-intersection at or near point 2117920.2710017073 5773357.0626390073 at 2117920.2710017073 5773357.0626390073\n",
      "TopologyException: Input geom 1 is invalid: Ring Self-intersection at or near point 2185584.5366243408 5772577.2753976779 at 2185584.5366243408 5772577.2753976779\n",
      "TopologyException: Input geom 1 is invalid: Ring Self-intersection at or near point 2189731.5869532293 5772010.1574039841 at 2189731.5869532293 5772010.1574039841\n",
      "TopologyException: Input geom 1 is invalid: Ring Self-intersection at or near point 2241764.6628746679 5772116.4920278015 at 2241764.6628746679 5772116.4920278015\n",
      "TopologyException: Input geom 1 is invalid: Ring Self-intersection at or near point 2188880.9099626881 5771478.4842848955 at 2188880.9099626881 5771478.4842848955\n",
      "TopologyException: Input geom 1 is invalid: Ring Self-intersection at or near point 2235632.6995678497 5771301.2599118659 at 2235632.6995678497 5771301.2599118659\n",
      "TopologyException: Input geom 1 is invalid: Ring Self-intersection at or near point 2134473.0274426555 5770982.2560404129 at 2134473.0274426555 5770982.2560404129\n",
      "TopologyException: Input geom 1 is invalid: Ring Self-intersection at or near point 2185230.0878782822 5770415.1380467191 at 2185230.0878782822 5770415.1380467191\n",
      "TopologyException: Input geom 1 is invalid: Ring Self-intersection at or near point 2151982.7954979623 5769316.3469339367 at 2151982.7954979623 5769316.3469339367\n",
      "TopologyException: Input geom 1 is invalid: Ring Self-intersection at or near point 2121925.5418321723 5765736.4145987425 at 2121925.5418321723 5765736.4145987425\n",
      "TopologyException: Input geom 1 is invalid: Ring Self-intersection at or near point 2202420.8520621359 5765417.4107272895 at 2202420.8520621359 5765417.4107272895\n",
      "TopologyException: Input geom 1 is invalid: Ring Self-intersection at or near point 2212912.5349454777 5764354.0644891132 at 2212912.5349454777 5764354.0644891132\n",
      "TopologyException: Input geom 1 is invalid: Ring Self-intersection at or near point 2165558.1824720162 5763928.7259938428 at 2165558.1824720162 5763928.7259938428\n",
      "TopologyException: Input geom 1 is invalid: Ring Self-intersection at or near point 2163254.2656226335 5764176.8401160836 at 2163254.2656226335 5764176.8401160836\n",
      "TopologyException: Input geom 1 is invalid: Ring Self-intersection at or near point 2106471.576504007 5762014.7027651248 at 2106471.576504007 5762014.7027651248\n",
      "TopologyException: Input geom 1 is invalid: Ring Self-intersection at or near point 2128270.1743866256 5761128.5808999771 at 2128270.1743866256 5761128.5808999771\n",
      "TopologyException: Input geom 1 is invalid: Ring Self-intersection at or near point 2208694.5948673775 5759533.5615427131 at 2208694.5948673775 5759533.5615427131\n",
      "TopologyException: Input geom 1 is invalid: Ring Self-intersection at or near point 2180799.4785525464 5756875.1959472718 at 2180799.4785525464 5756875.1959472718\n",
      "TopologyException: Input geom 1 is invalid: Ring Self-intersection at or near point 2201924.6238176534 5756201.7433297597 at 2201924.6238176534 5756201.7433297597\n",
      "TopologyException: Input geom 1 is invalid: Ring Self-intersection at or near point 2174773.849869546 5755953.629207518 at 2174773.849869546 5755953.629207518\n",
      "TopologyException: Input geom 1 is invalid: Ring Self-intersection at or near point 2201889.1789430478 5755634.625336065 at 2201889.1789430478 5755634.625336065\n",
      "TopologyException: Input geom 1 is invalid: Ring Self-intersection at or near point 2213231.5388169307 5755670.0702106711 at 2213231.5388169307 5755670.0702106711\n",
      "TopologyException: Input geom 1 is invalid: Ring Self-intersection at or near point 2212097.3028295427 5755563.7355868537 at 2212097.3028295427 5755563.7355868537\n",
      "TopologyException: Input geom 1 is invalid: Ring Self-intersection at or near point 2201463.840447777 5755386.5112138242 at 2201463.840447777 5755386.5112138242\n",
      "TopologyException: Input geom 1 is invalid: Ring Self-intersection at or near point 2128234.72951202 5754252.2752264356 at 2128234.72951202 5754252.2752264356\n",
      "TopologyException: Input geom 1 is invalid: Ring Self-intersection at or near point 2294683.8606612533 5751629.3545056004 at 2294683.8606612533 5751629.3545056004\n",
      "TopologyException: Input geom 1 is invalid: Ring Self-intersection at or near point 2126143.4819102725 5749360.8825308243 at 2126143.4819102725 5749360.8825308243\n",
      "TopologyException: Input geom 1 is invalid: Ring Self-intersection at or near point 2208269.2563721067 5749183.6581577947 at 2208269.2563721067 5749183.6581577947\n",
      "TopologyException: Input geom 1 is invalid: Ring Self-intersection at or near point 2273062.4871516638 5749254.547907006 at 2273062.4871516638 5749254.547907006\n",
      "TopologyException: Input geom 1 is invalid: Ring Self-intersection at or near point 2107215.9188707303 5746737.9618099881 at 2107215.9188707303 5746737.9618099881\n",
      "TopologyException: Input geom 1 is invalid: Ring Self-intersection at or near point 2107074.1393723069 5746029.0643178709 at 2107074.1393723069 5746029.0643178709\n",
      "TopologyException: Input geom 1 is invalid: Ring Self-intersection at or near point 2318892.7100170725 5742094.6832366176 at 2318892.7100170725 5742094.6832366176\n",
      "TopologyException: Input geom 1 is invalid: Ring Self-intersection at or near point 2314001.3173214602 5740535.1087539587 at 2314001.3173214602 5740535.1087539587\n",
      "TopologyException: Input geom 1 is invalid: Ring Self-intersection at or near point 2129865.1937438906 5739967.9907602649 at 2129865.1937438906 5739967.9907602649\n",
      "TopologyException: Input geom 1 is invalid: Ring Self-intersection at or near point 2123237.0021925899 5739648.9868888119 at 2123237.0021925899 5739648.9868888119\n",
      "TopologyException: Input geom 1 is invalid: Ring Self-intersection at or near point 2189731.5869532293 5735820.940431376 at 2189731.5869532293 5735820.940431376\n",
      "TopologyException: Input geom 1 is invalid: Ring Self-intersection at or near point 2129333.5206248024 5734722.1493185936 at 2129333.5206248024 5734722.1493185936\n",
      "TopologyException: Input geom 1 is invalid: Ring Self-intersection at or near point 2176049.865355358 5733658.8030804172 at 2176049.865355358 5733658.8030804172\n",
      "TopologyException: Input geom 1 is invalid: Ring Self-intersection at or near point 2175872.6409823284 5733481.5787073877 at 2175872.6409823284 5733481.5787073877\n",
      "TopologyException: Input geom 1 is invalid: Ring Self-intersection at or near point 2258317.4193156157 5732595.4568422409 at 2258317.4193156157 5732595.4568422409\n",
      "TopologyException: Input geom 1 is invalid: Ring Self-intersection at or near point 2299008.1353631713 5731638.4452278819 at 2299008.1353631713 5731638.4452278819\n"
     ]
    },
    {
     "name": "stderr",
     "output_type": "stream",
     "text": [
      "TopologyException: Input geom 1 is invalid: Ring Self-intersection at or near point 2189873.3664516527 5731390.3311056402 at 2189873.3664516527 5731390.3311056402\n",
      "TopologyException: Input geom 1 is invalid: Ring Self-intersection at or near point 2299185.3597362004 5729157.3040054701 at 2299185.3597362004 5729157.3040054701\n",
      "TopologyException: Input geom 1 is invalid: Ring Self-intersection at or near point 2115580.909277719 5727739.5090212347 at 2115580.909277719 5727739.5090212347\n",
      "TopologyException: Input geom 1 is invalid: Ring Self-intersection at or near point 2137875.7354048202 5727633.1743974164 at 2137875.7354048202 5727633.1743974164\n",
      "TopologyException: Input geom 1 is invalid: Ring Self-intersection at or near point 2113666.8860490015 5725790.0409179106 at 2113666.8860490015 5725790.0409179106\n",
      "TopologyException: Input geom 1 is invalid: Ring Self-intersection at or near point 2163608.7143686926 5721607.5457144165 at 2163608.7143686926 5721607.5457144165\n",
      "TopologyException: Input geom 1 is invalid: Ring Self-intersection at or near point 2144184.9230846679 5718452.9518744927 at 2144184.9230846679 5718452.9518744927\n",
      "TopologyException: Input geom 1 is invalid: Ring Self-intersection at or near point 2146205.2809372032 5718204.837752251 at 2146205.2809372032 5718204.837752251\n",
      "TopologyException: Input geom 1 is invalid: Ring Self-intersection at or near point 2173604.1690075519 5714873.0195392985 at 2173604.1690075519 5714873.0195392985\n",
      "TopologyException: Input geom 1 is invalid: Ring Self-intersection at or near point 2277882.9900980638 5712533.6578153102 at 2277882.9900980638 5712533.6578153102\n",
      "TopologyException: Input geom 1 is invalid: Ring Self-intersection at or near point 2194729.3142726589 5709556.2883484159 at 2194729.3142726589 5709556.2883484159\n",
      "TopologyException: Input geom 1 is invalid: Ring Self-intersection at or near point 2189377.1382071706 5708741.0562324803 at 2189377.1382071706 5708741.0562324803\n",
      "TopologyException: Input geom 1 is invalid: Ring Self-intersection at or near point 2130963.9848566731 5705480.1277687391 at 2130963.9848566731 5705480.1277687391\n",
      "TopologyException: Input geom 1 is invalid: Ring Self-intersection at or near point 2147835.7451690738 5705692.7970163738 at 2147835.7451690738 5705692.7970163738\n",
      "TopologyException: Input geom 1 is invalid: Ring Self-intersection at or near point 2157334.971563451 5703849.6635368681 at 2157334.971563451 5703849.6635368681\n",
      "TopologyException: Input geom 1 is invalid: Ring Self-intersection at or near point 2218300.1558855721 5702750.8724240856 at 2218300.1558855721 5702750.8724240856\n",
      "TopologyException: Input geom 1 is invalid: Ring Self-intersection at or near point 2137379.5071603381 5701581.1915620919 at 2137379.5071603381 5701581.1915620919\n",
      "TopologyException: Input geom 1 is invalid: Ring Self-intersection at or near point 2135359.1493078028 5700057.0619540382 at 2135359.1493078028 5700057.0619540382\n",
      "TopologyException: Input geom 1 is invalid: Ring Self-intersection at or near point 2292486.2784356885 5699844.3927064035 at 2292486.2784356885 5699844.3927064035\n",
      "TopologyException: Input geom 1 is invalid: Ring Self-intersection at or near point 2289012.6807243116 5698391.152847562 at 2289012.6807243116 5698391.152847562\n",
      "TopologyException: Input geom 1 is invalid: Ring Self-intersection at or near point 2165912.6312180748 5696122.6808727859 at 2165912.6312180748 5696122.6808727859\n",
      "TopologyException: Input geom 1 is invalid: Ring Self-intersection at or near point 2167365.8710769163 5695520.118004485 at 2167365.8710769163 5695520.118004485\n",
      "TopologyException: Input geom 1 is invalid: Ring Self-intersection at or near point 2205185.5522813951 5692081.9651677143 at 2205185.5522813951 5692081.9651677143\n",
      "TopologyException: Input geom 1 is invalid: Ring Self-intersection at or near point 2205894.4497735128 5690770.5048072971 at 2205894.4497735128 5690770.5048072971\n",
      "TopologyException: Input geom 1 is invalid: Ring Self-intersection at or near point 2192460.8422978823 5687651.3558419794 at 2192460.8422978823 5687651.3558419794\n",
      "TopologyException: Input geom 1 is invalid: Ring Self-intersection at or near point 2278875.4465870289 5687296.9070959203 at 2278875.4465870289 5687296.9070959203\n",
      "TopologyException: Input geom 1 is invalid: Ring Self-intersection at or near point 2127915.725640567 5686694.3442276204 at 2127915.725640567 5686694.3442276204\n",
      "TopologyException: Input geom 1 is invalid: Ring Self-intersection at or near point 2224786.5679384493 5686410.7852307735 at 2224786.5679384493 5686410.7852307735\n",
      "TopologyException: Input geom 1 is invalid: Ring Self-intersection at or near point 2128057.5051389905 5686269.0057323491 at 2128057.5051389905 5686269.0057323491\n",
      "TopologyException: Input geom 1 is invalid: Ring Self-intersection at or near point 2180374.140057276 5684035.9786321791 at 2180374.140057276 5684035.9786321791\n",
      "TopologyException: Input geom 1 is invalid: Ring Self-intersection at or near point 2234250.3494582204 5679569.9244318372 at 2234250.3494582204 5679569.9244318372\n",
      "TopologyException: Input geom 1 is invalid: Ring Self-intersection at or near point 2130219.6424899492 5676947.0037110019 at 2130219.6424899492 5676947.0037110019\n",
      "TopologyException: Input geom 1 is invalid: Ring Self-intersection at or near point 2282597.1584206466 5675635.5433505839 at 2282597.1584206466 5675635.5433505839\n",
      "TopologyException: Input geom 1 is invalid: Ring Self-intersection at or near point 2272991.597402452 5675174.7599807074 at 2272991.597402452 5675174.7599807074\n",
      "TopologyException: Input geom 1 is invalid: Ring Self-intersection at or near point 2214862.0030488013 5670389.7019089134 at 2214862.0030488013 5670389.7019089134\n",
      "TopologyException: Input geom 1 is invalid: Ring Self-intersection at or near point 2209226.2679864657 5668440.2338055894 at 2209226.2679864657 5668440.2338055894\n",
      "TopologyException: Input geom 1 is invalid: Ring Self-intersection at or near point 2222199.0920922197 5668014.895310319 at 2222199.0920922197 5668014.895310319\n",
      "TopologyException: Input geom 1 is invalid: Ring Self-intersection at or near point 2197352.2349934946 5667093.3285705661 at 2197352.2349934946 5667093.3285705661\n",
      "TopologyException: Input geom 1 is invalid: Ring Self-intersection at or near point 2196537.002877559 5667199.6631943835 at 2196537.002877559 5667199.6631943835\n",
      "TopologyException: Input geom 1 is invalid: Ring Self-intersection at or near point 2205114.6625321833 5668085.7850595312 at 2205114.6625321833 5668085.7850595312\n",
      "TopologyException: Input geom 1 is invalid: Ring Self-intersection at or near point 2333708.6676023323 5666313.5413292367 at 2333708.6676023323 5666313.5413292367\n",
      "TopologyException: Input geom 1 is invalid: Ring Self-intersection at or near point 2201003.0570779005 5665710.9784609368 at 2201003.0570779005 5665710.9784609368\n",
      "TopologyException: Input geom 1 is invalid: Ring Self-intersection at or near point 2203058.8598050419 5665817.3130847542 at 2203058.8598050419 5665817.3130847542\n",
      "TopologyException: Input geom 1 is invalid: Ring Self-intersection at or near point 2205717.2254004832 5665533.7540879073 at 2205717.2254004832 5665533.7540879073\n",
      "TopologyException: Input geom 1 is invalid: Ring Self-intersection at or near point 2204370.3201654595 5665710.9784609368 at 2204370.3201654595 5665710.9784609368\n",
      "TopologyException: Input geom 1 is invalid: Ring Self-intersection at or near point 2191964.6140534002 5664753.9668465778 at 2191964.6140534002 5664753.9668465778\n",
      "TopologyException: Input geom 1 is invalid: Ring Self-intersection at or near point 2201180.2814509301 5664789.4117211839 at 2201180.2814509301 5664789.4117211839\n",
      "TopologyException: Input geom 1 is invalid: Ring Self-intersection at or near point 2200435.9390842067 5662769.0538686477 at 2200435.9390842067 5662769.0538686477\n",
      "TopologyException: Input geom 1 is invalid: Ring Self-intersection at or near point 2333885.8919753614 5661422.1486336244 at 2333885.8919753614 5661422.1486336244\n",
      "TopologyException: Input geom 1 is invalid: Ring Self-intersection at or near point 2201428.3955731713 5661422.1486336244 at 2201428.3955731713 5661422.1486336244\n",
      "TopologyException: Input geom 1 is invalid: Ring Self-intersection at or near point 2201818.289193836 5660748.6960161123 at 2201818.289193836 5660748.6960161123\n"
     ]
    },
    {
     "name": "stderr",
     "output_type": "stream",
     "text": [
      "TopologyException: Input geom 1 is invalid: Ring Self-intersection at or near point 2193701.4129090887 5660677.8062669011 at 2193701.4129090887 5660677.8062669011\n",
      "TopologyException: Input geom 1 is invalid: Ring Self-intersection at or near point 2196253.4438807121 5660500.5818938715 at 2196253.4438807121 5660500.5818938715\n",
      "TopologyException: Input geom 1 is invalid: Ring Self-intersection at or near point 2194374.8655266003 5660536.0267684776 at 2194374.8655266003 5660536.0267684776\n",
      "TopologyException: Input geom 1 is invalid: Ring Self-intersection at or near point 2199408.037720636 5659508.1254049065 at 2199408.037720636 5659508.1254049065\n",
      "TopologyException: Input geom 1 is invalid: Ring Self-intersection at or near point 2201428.3955731713 5658763.7830381831 at 2201428.3955731713 5658763.7830381831\n",
      "TopologyException: Input geom 1 is invalid: Ring Self-intersection at or near point 2214791.1132995896 5656318.0866903774 at 2214791.1132995896 5656318.0866903774\n",
      "TopologyException: Input geom 1 is invalid: Ring Self-intersection at or near point 2187285.8906054231 5655857.303320501 at 2187285.8906054231 5655857.303320501\n",
      "TopologyException: Input geom 1 is invalid: Ring Self-intersection at or near point 2256474.2858361099 5654616.7327092951 at 2256474.2858361099 5654616.7327092951\n",
      "TopologyException: Input geom 1 is invalid: Ring Self-intersection at or near point 2296420.6595169418 5653234.3825996649 at 2296420.6595169418 5653234.3825996649\n",
      "TopologyException: Input geom 1 is invalid: Ring Self-intersection at or near point 2261826.4619015986 5652525.4851075476 at 2261826.4619015986 5652525.4851075476\n",
      "TopologyException: Input geom 1 is invalid: Ring Self-intersection at or near point 2282845.2725428878 5651072.2452487061 at 2282845.2725428878 5651072.2452487061\n",
      "TopologyException: Input geom 1 is invalid: Ring Self-intersection at or near point 2225318.2410575375 5646996.0846690293 at 2225318.2410575375 5646996.0846690293\n",
      "TopologyException: Input geom 1 is invalid: Ring Self-intersection at or near point 2239886.084520556 5643912.3805783177 at 2239886.084520556 5643912.3805783177\n",
      "TopologyException: Input geom 1 is invalid: Ring Self-intersection at or near point 2371492.9039322049 5641856.5778511763 at 2371492.9039322049 5641856.5778511763\n",
      "TopologyException: Input geom 1 is invalid: Ring Self-intersection at or near point 2139258.08551445 5641218.5701082703 at 2139258.08551445 5641218.5701082703\n",
      "TopologyException: Input geom 1 is invalid: Ring Self-intersection at or near point 2129617.0796216493 5640119.7789954878 at 2129617.0796216493 5640119.7789954878\n",
      "TopologyException: Input geom 1 is invalid: Ring Self-intersection at or near point 2268809.1021989575 5638808.3186350707 at 2268809.1021989575 5638808.3186350707\n",
      "TopologyException: Input geom 1 is invalid: Ring Self-intersection at or near point 2270156.0074339812 5638418.4250144055 at 2270156.0074339812 5638418.4250144055\n",
      "TopologyException: Input geom 1 is invalid: Ring Self-intersection at or near point 2369047.2075843988 5637638.6377730761 at 2369047.2075843988 5637638.6377730761\n",
      "TopologyException: Input geom 1 is invalid: Ring Self-intersection at or near point 2373194.2579132873 5637390.5236508353 at 2373194.2579132873 5637390.5236508353\n",
      "TopologyException: Input geom 1 is invalid: Ring Self-intersection at or near point 2197600.3491157359 5636681.6261587171 at 2197600.3491157359 5636681.6261587171\n",
      "TopologyException: Input geom 1 is invalid: Ring Self-intersection at or near point 2181437.4862954523 5635228.3862998756 at 2181437.4862954523 5635228.3862998756\n",
      "TopologyException: Input geom 1 is invalid: Ring Self-intersection at or near point 2275437.2937502582 5634838.4926792113 at 2275437.2937502582 5634838.4926792113\n",
      "TopologyException: Input geom 1 is invalid: Ring Self-intersection at or near point 2209722.4962309483 5631683.8988392875 at 2209722.4962309483 5631683.8988392875\n",
      "TopologyException: Input geom 1 is invalid: Ring Self-intersection at or near point 2153117.0314853508 5631329.4500932284 at 2153117.0314853508 5631329.4500932284\n",
      "TopologyException: Input geom 1 is invalid: Ring Self-intersection at or near point 2237015.0496774791 5630372.4384788694 at 2237015.0496774791 5630372.4384788694\n",
      "TopologyException: Input geom 1 is invalid: Ring Self-intersection at or near point 2205008.3279083655 5629521.7614883287 at 2205008.3279083655 5629521.7614883287\n",
      "TopologyException: Input geom 1 is invalid: Ring Self-intersection at or near point 2356322.4976008865 5627182.3997643404 at 2356322.4976008865 5627182.3997643404\n",
      "TopologyException: Input geom 1 is invalid: Ring Self-intersection at or near point 2237830.2817934146 5626225.3881499814 at 2237830.2817934146 5626225.3881499814\n",
      "TopologyException: Input geom 1 is invalid: Ring Self-intersection at or near point 2238291.0651632911 5625729.1599054988 at 2238291.0651632911 5625729.1599054988\n",
      "TopologyException: Input geom 1 is invalid: Ring Self-intersection at or near point 2158752.7665476864 5625303.8214102285 at 2158752.7665476864 5625303.8214102285\n",
      "TopologyException: Input geom 1 is invalid: Ring Self-intersection at or near point 2376986.8594961171 5624984.8175387755 at 2376986.8594961171 5624984.8175387755\n",
      "TopologyException: Input geom 1 is invalid: Ring Self-intersection at or near point 2161163.0180208865 5624913.9277895633 at 2161163.0180208865 5624913.9277895633\n",
      "TopologyException: Input geom 1 is invalid: Ring Self-intersection at or near point 2206248.8985195714 5624984.8175387755 at 2206248.8985195714 5624984.8175387755\n",
      "TopologyException: Input geom 1 is invalid: Ring Self-intersection at or near point 2138620.077771544 5622822.6801878167 at 2138620.077771544 5622822.6801878167\n",
      "TopologyException: Input geom 1 is invalid: Ring Self-intersection at or near point 2178141.112957105 5622291.0070687281 at 2178141.112957105 5622291.0070687281\n",
      "TopologyException: Input geom 1 is invalid: Ring Self-intersection at or near point 2165593.6273466218 5622326.4519433342 at 2165593.6273466218 5622326.4519433342\n",
      "TopologyException: Input geom 1 is invalid: Ring Self-intersection at or near point 2257395.8525758628 5621227.6608305518 at 2257395.8525758628 5621227.6608305518\n",
      "TopologyException: Input geom 1 is invalid: Ring Self-intersection at or near point 2178424.6719539524 5621085.8813321283 at 2178424.6719539524 5621085.8813321283\n",
      "TopologyException: Input geom 1 is invalid: Ring Self-intersection at or near point 2184556.6352607701 5620589.6530876458 at 2184556.6352607701 5620589.6530876458\n",
      "TopologyException: Input geom 1 is invalid: Ring Self-intersection at or near point 2246656.0555702797 5620057.9799685571 at 2246656.0555702797 5620057.9799685571\n",
      "TopologyException: Input geom 1 is invalid: Ring Self-intersection at or near point 2177963.8885840755 5619774.4209717102 at 2177963.8885840755 5619774.4209717102\n",
      "TopologyException: Input geom 1 is invalid: Ring Self-intersection at or near point 2248676.413422815 5619171.8581034103 at 2248676.413422815 5619171.8581034103\n",
      "TopologyException: Input geom 1 is invalid: Ring Self-intersection at or near point 2231662.8736119908 5618959.1888557747 at 2231662.8736119908 5618959.1888557747\n",
      "TopologyException: Input geom 1 is invalid: Ring Self-intersection at or near point 2240984.8756333385 5618746.51960814 at 2240984.8756333385 5618746.51960814\n",
      "TopologyException: Input geom 1 is invalid: Ring Self-intersection at or near point 2256367.9512122921 5618533.8503605044 at 2256367.9512122921 5618533.8503605044\n",
      "TopologyException: Input geom 1 is invalid: Ring Self-intersection at or near point 2217697.5930172722 5615627.3706428222 at 2217697.5930172722 5615627.3706428222\n",
      "TopologyException: Input geom 1 is invalid: Ring Self-intersection at or near point 2248534.6339243916 5614564.024404645 at 2248534.6339243916 5614564.024404645\n",
      "TopologyException: Input geom 1 is invalid: Ring Self-intersection at or near point 2248711.8582974211 5613536.1230410747 at 2248711.8582974211 5613536.1230410747\n",
      "TopologyException: Input geom 1 is invalid: Ring Self-intersection at or near point 2272814.3730294225 5612579.1114267157 at 2272814.3730294225 5612579.1114267157\n",
      "TopologyException: Input geom 1 is invalid: Ring Self-intersection at or near point 2227374.0437846789 5609991.6355804866 at 2227374.0437846789 5609991.6355804866\n"
     ]
    },
    {
     "name": "stderr",
     "output_type": "stream",
     "text": [
      "TopologyException: Input geom 1 is invalid: Ring Self-intersection at or near point 2177290.4359665639 5609814.4112074571 at 2177290.4359665639 5609814.4112074571\n",
      "TopologyException: Input geom 1 is invalid: Ring Self-intersection at or near point 2256722.3999583512 5608538.3957216451 at 2256722.3999583512 5608538.3957216451\n",
      "TopologyException: Input geom 1 is invalid: Ring Self-intersection at or near point 2222199.0920922197 5607971.2777279504 at 2222199.0920922197 5607971.2777279504\n",
      "TopologyException: Input geom 1 is invalid: Ring Self-intersection at or near point 2255127.3806010862 5607581.3841072861 at 2255127.3806010862 5607581.3841072861\n",
      "TopologyException: Input geom 1 is invalid: Ring Self-intersection at or near point 2200046.0454635415 5606837.0417405628 at 2200046.0454635415 5606837.0417405628\n",
      "TopologyException: Input geom 1 is invalid: Ring Self-intersection at or near point 2256616.0653345333 5606837.0417405628 at 2256616.0653345333 5606837.0417405628\n",
      "TopologyException: Input geom 1 is invalid: Ring Self-intersection at or near point 2148650.9772850093 5606659.8173675332 at 2148650.9772850093 5606659.8173675332\n",
      "TopologyException: Input geom 1 is invalid: Ring Self-intersection at or near point 2250519.5469023213 5606128.1442484446 at 2250519.5469023213 5606128.1442484446\n",
      "TopologyException: Input geom 1 is invalid: Ring Self-intersection at or near point 2211211.1809643954 5606021.8096246272 at 2211211.1809643954 5606021.8096246272\n",
      "TopologyException: Input geom 1 is invalid: Ring Self-intersection at or near point 2250271.43278008 5605667.3608785681 at 2250271.43278008 5605667.3608785681\n",
      "TopologyException: Input geom 1 is invalid: Ring Self-intersection at or near point 2251122.1097706212 5605348.3570071151 at 2251122.1097706212 5605348.3570071151\n",
      "TopologyException: Input geom 1 is invalid: Ring Self-intersection at or near point 2211636.5194596658 5605064.7980102682 at 2211636.5194596658 5605064.7980102682\n",
      "TopologyException: Input geom 1 is invalid: Ring Self-intersection at or near point 2253426.0266200039 5605135.6877594804 at 2253426.0266200039 5605135.6877594804\n",
      "TopologyException: Input geom 1 is invalid: Ring Self-intersection at or near point 2260160.5527951219 5605064.7980102682 at 2260160.5527951219 5605064.7980102682\n",
      "TopologyException: Input geom 1 is invalid: Ring Self-intersection at or near point 2256722.3999583512 5604852.1287626326 at 2256722.3999583512 5604852.1287626326\n",
      "TopologyException: Input geom 1 is invalid: Ring Self-intersection at or near point 2251724.6726389211 5604887.5736372387 at 2251724.6726389211 5604887.5736372387\n",
      "TopologyException: Input geom 1 is invalid: Ring Self-intersection at or near point 2299220.8046108065 5604639.4595149979 at 2299220.8046108065 5604639.4595149979\n",
      "TopologyException: Input geom 1 is invalid: Ring Self-intersection at or near point 2301560.1663347948 5604674.9043896031 at 2301560.1663347948 5604674.9043896031\n",
      "TopologyException: Input geom 1 is invalid: Ring Self-intersection at or near point 2255907.1678424156 5604674.9043896031 at 2255907.1678424156 5604674.9043896031\n",
      "TopologyException: Input geom 1 is invalid: Ring Self-intersection at or near point 2251724.6726389211 5604214.1210197266 at 2251724.6726389211 5604214.1210197266\n",
      "TopologyException: Input geom 1 is invalid: Ring Self-intersection at or near point 2278946.3363362406 5604036.896646698 at 2278946.3363362406 5604036.896646698\n",
      "TopologyException: Input geom 1 is invalid: Ring Self-intersection at or near point 2283979.5085302764 5603717.892775245 at 2283979.5085302764 5603717.892775245\n",
      "TopologyException: Input geom 1 is invalid: Ring Self-intersection at or near point 2279407.1197061171 5603576.1132768216 at 2279407.1197061171 5603576.1132768216\n",
      "TopologyException: Input geom 1 is invalid: Ring Self-intersection at or near point 2284546.6265239702 5603895.1171482736 at 2284546.6265239702 5603895.1171482736\n",
      "TopologyException: Input geom 1 is invalid: Ring Self-intersection at or near point 2276146.1912423759 5603788.7825244563 at 2276146.1912423759 5603788.7825244563\n",
      "TopologyException: Input geom 1 is invalid: Ring Self-intersection at or near point 2184273.0762639232 5603505.2235276094 at 2184273.0762639232 5603505.2235276094\n",
      "TopologyException: Input geom 1 is invalid: Ring Self-intersection at or near point 2382870.708680694 5603682.4479006389 at 2382870.708680694 5603682.4479006389\n",
      "TopologyException: Input geom 1 is invalid: Ring Self-intersection at or near point 2282738.93791907 5603469.7786530033 at 2282738.93791907 5603469.7786530033\n",
      "TopologyException: Input geom 1 is invalid: Ring Self-intersection at or near point 2295818.0966486414 5603327.9991545798 at 2295818.0966486414 5603327.9991545798\n",
      "TopologyException: Input geom 1 is invalid: Ring Self-intersection at or near point 2282313.5994237997 5603363.4440291859 at 2282313.5994237997 5603363.4440291859\n",
      "TopologyException: Input geom 1 is invalid: Ring Self-intersection at or near point 2181862.8247907232 5603540.6684022155 at 2181862.8247907232 5603540.6684022155\n",
      "TopologyException: Input geom 1 is invalid: Ring Self-intersection at or near point 2227586.7130323141 5602619.1016624626 at 2227586.7130323141 5602619.1016624626\n",
      "TopologyException: Input geom 1 is invalid: Ring Self-intersection at or near point 2237688.5022949912 5603505.2235276094 at 2237688.5022949912 5603505.2235276094\n",
      "TopologyException: Input geom 1 is invalid: Ring Self-intersection at or near point 2274905.6206311695 5602725.4362862799 at 2274905.6206311695 5602725.4362862799\n",
      "TopologyException: Input geom 1 is invalid: Ring Self-intersection at or near point 2280435.0210696878 5602512.7670386443 at 2280435.0210696878 5602512.7670386443\n",
      "TopologyException: Input geom 1 is invalid: Ring Self-intersection at or near point 2242083.6667461209 5602760.881160886 at 2242083.6667461209 5602760.881160886\n",
      "TopologyException: Input geom 1 is invalid: Ring Self-intersection at or near point 2234604.798204279 5602051.9836687678 at 2234604.798204279 5602051.9836687678\n",
      "TopologyException: Input geom 1 is invalid: Ring Self-intersection at or near point 2245663.5990813151 5602051.9836687678 at 2245663.5990813151 5602051.9836687678\n",
      "TopologyException: Input geom 1 is invalid: Ring Self-intersection at or near point 2280009.682574417 5601981.0939195566 at 2280009.682574417 5601981.0939195566\n",
      "TopologyException: Input geom 1 is invalid: Ring Self-intersection at or near point 2261791.0170269925 5602583.6567878565 at 2261791.0170269925 5602583.6567878565\n",
      "TopologyException: Input geom 1 is invalid: Ring Self-intersection at or near point 2245486.3747082856 5601626.6451734975 at 2245486.3747082856 5601626.6451734975\n",
      "TopologyException: Input geom 1 is invalid: Ring Self-intersection at or near point 2235703.5893170615 5601201.3066782271 at 2235703.5893170615 5601201.3066782271\n",
      "TopologyException: Input geom 1 is invalid: Ring Self-intersection at or near point 2239815.1947713443 5602087.4285433739 at 2239815.1947713443 5602087.4285433739\n",
      "TopologyException: Input geom 1 is invalid: Ring Self-intersection at or near point 2187285.8906054231 5600846.8579321681 at 2187285.8906054231 5600846.8579321681\n",
      "TopologyException: Input geom 1 is invalid: Ring Self-intersection at or near point 2275898.0771201346 5601165.8618036211 at 2275898.0771201346 5601165.8618036211\n",
      "TopologyException: Input geom 1 is invalid: Ring Self-intersection at or near point 2159745.223036651 5600563.2989353212 at 2159745.223036651 5600563.2989353212\n",
      "TopologyException: Input geom 1 is invalid: Ring Self-intersection at or near point 2277776.6554742465 5600492.409186109 at 2277776.6554742465 5600492.409186109\n",
      "TopologyException: Input geom 1 is invalid: Ring Self-intersection at or near point 2183741.403144835 5600315.1848130794 at 2183741.403144835 5600315.1848130794\n",
      "TopologyException: Input geom 1 is invalid: Ring Self-intersection at or near point 2275472.7386248638 5600067.0706908386 at 2275472.7386248638 5600067.0706908386\n",
      "TopologyException: Input geom 1 is invalid: Ring Self-intersection at or near point 2265831.7327320632 5600421.5194368977 at 2265831.7327320632 5600421.5194368977\n",
      "TopologyException: Input geom 1 is invalid: Ring Self-intersection at or near point 2301666.5009586127 5599783.5116939917 at 2301666.5009586127 5599783.5116939917\n"
     ]
    },
    {
     "name": "stderr",
     "output_type": "stream",
     "text": [
      "TopologyException: Input geom 1 is invalid: Ring Self-intersection at or near point 2221950.9779699785 5599854.401443203 at 2221950.9779699785 5599854.401443203\n",
      "TopologyException: Input geom 1 is invalid: Ring Self-intersection at or near point 2216598.8019044898 5599677.1770701734 at 2216598.8019044898 5599677.1770701734\n",
      "TopologyException: Input geom 1 is invalid: Ring Self-intersection at or near point 2285893.5317589939 5599322.7283241153 at 2285893.5317589939 5599322.7283241153\n",
      "TopologyException: Input geom 1 is invalid: Ring Self-intersection at or near point 2278733.6670886055 5599039.1693272684 at 2278733.6670886055 5599039.1693272684\n",
      "TopologyException: Input geom 1 is invalid: Ring Self-intersection at or near point 2244706.5874669561 5598613.8308319971 at 2244706.5874669561 5598613.8308319971\n",
      "TopologyException: Input geom 1 is invalid: Ring Self-intersection at or near point 2281037.5839379877 5598578.385957391 at 2281037.5839379877 5598578.385957391\n",
      "TopologyException: Input geom 1 is invalid: Ring Self-intersection at or near point 2265087.3903653398 5598932.8347034501 at 2265087.3903653398 5598932.8347034501\n",
      "TopologyException: Input geom 1 is invalid: Ring Self-intersection at or near point 2277599.4311012169 5598294.8269605441 at 2277599.4311012169 5598294.8269605441\n",
      "TopologyException: Input geom 1 is invalid: Ring Self-intersection at or near point 2283128.8315397347 5598259.382085938 at 2283128.8315397347 5598259.382085938\n",
      "TopologyException: Input geom 1 is invalid: Ring Self-intersection at or near point 2249278.9762911154 5597515.0397192147 at 2249278.9762911154 5597515.0397192147\n",
      "TopologyException: Input geom 1 is invalid: Ring Self-intersection at or near point 2155527.2829585508 5597196.0358477617 at 2155527.2829585508 5597196.0358477617\n",
      "TopologyException: Input geom 1 is invalid: Ring Self-intersection at or near point 2300248.7059743772 5597054.2563493382 at 2300248.7059743772 5597054.2563493382\n",
      "TopologyException: Input geom 1 is invalid: Ring Self-intersection at or near point 2239035.4075300149 5596841.5871017035 at 2239035.4075300149 5596841.5871017035\n",
      "TopologyException: Input geom 1 is invalid: Ring Self-intersection at or near point 2302410.843325336 5595707.351114315 at 2302410.843325336 5595707.351114315\n",
      "TopologyException: Input geom 1 is invalid: Ring Self-intersection at or near point 2250519.5469023213 5595388.347242862 at 2250519.5469023213 5595388.347242862\n",
      "TopologyException: Input geom 1 is invalid: Ring Self-intersection at or near point 2260798.5605380279 5594608.5600015325 at 2260798.5605380279 5594608.5600015325\n",
      "TopologyException: Input geom 1 is invalid: Ring Self-intersection at or near point 2261294.78878251 5594608.5600015325 at 2261294.78878251 5594608.5600015325\n",
      "TopologyException: Input geom 1 is invalid: Ring Self-intersection at or near point 2262251.800396869 5594537.6702523204 at 2262251.800396869 5594537.6702523204\n",
      "TopologyException: Input geom 1 is invalid: Ring Self-intersection at or near point 2261365.6785317217 5594183.2215062622 at 2261365.6785317217 5594183.2215062622\n",
      "TopologyException: Input geom 1 is invalid: Ring Self-intersection at or near point 2253000.688124733 5593793.327885597 at 2253000.688124733 5593793.327885597\n",
      "TopologyException: Input geom 1 is invalid: Ring Self-intersection at or near point 2269198.9958196222 5593651.5483871736 at 2269198.9958196222 5593651.5483871736\n",
      "TopologyException: Input geom 1 is invalid: Ring Self-intersection at or near point 2168003.8788198223 5593580.6586379614 at 2168003.8788198223 5593580.6586379614\n",
      "TopologyException: Input geom 1 is invalid: Ring Self-intersection at or near point 2252043.6765103741 5592800.8713966319 at 2252043.6765103741 5592800.8713966319\n",
      "TopologyException: Input geom 1 is invalid: Ring Self-intersection at or near point 2252717.1291278861 5592765.4265220268 at 2252717.1291278861 5592765.4265220268\n",
      "TopologyException: Input geom 1 is invalid: Ring Self-intersection at or near point 2287453.1062416527 5592127.4187791208 at 2287453.1062416527 5592127.4187791208\n",
      "TopologyException: Input geom 1 is invalid: Ring Self-intersection at or near point 2278095.6593456995 5591737.5251584556 at 2278095.6593456995 5591737.5251584556\n",
      "TopologyException: Input geom 1 is invalid: Ring Self-intersection at or near point 2220391.4034873196 5591595.7456600321 at 2220391.4034873196 5591595.7456600321\n",
      "TopologyException: Input geom 1 is invalid: Ring Self-intersection at or near point 2280612.2454427173 5591595.7456600321 at 2280612.2454427173 5591595.7456600321\n",
      "TopologyException: Input geom 1 is invalid: Ring Self-intersection at or near point 2293762.2939215004 5591560.3007854261 at 2293762.2939215004 5591560.3007854261\n",
      "TopologyException: Input geom 1 is invalid: Ring Self-intersection at or near point 2253000.688124733 5591028.6276663383 at 2253000.688124733 5591028.6276663383\n",
      "TopologyException: Input geom 1 is invalid: Ring Self-intersection at or near point 2272424.4794087578 5591099.5174155496 at 2272424.4794087578 5591099.5174155496\n",
      "TopologyException: Input geom 1 is invalid: Ring Self-intersection at or near point 2285042.8547684527 5590851.4032933088 at 2285042.8547684527 5590851.4032933088\n",
      "TopologyException: Input geom 1 is invalid: Ring Self-intersection at or near point 2287134.1023701997 5591134.9622901557 at 2287134.1023701997 5591134.9622901557\n",
      "TopologyException: Input geom 1 is invalid: Ring Self-intersection at or near point 2264024.044127163 5591064.0725409435 at 2264024.044127163 5591064.0725409435\n",
      "TopologyException: Input geom 1 is invalid: Ring Self-intersection at or near point 2262960.6978889867 5590603.2891710671 at 2262960.6978889867 5590603.2891710671\n",
      "TopologyException: Input geom 1 is invalid: Ring Self-intersection at or near point 2263456.9261334692 5590567.8442964619 at 2263456.9261334692 5590567.8442964619\n",
      "TopologyException: Input geom 1 is invalid: Ring Self-intersection at or near point 2285113.7445176644 5590709.6237948854 at 2285113.7445176644 5590709.6237948854\n",
      "TopologyException: Input geom 1 is invalid: Ring Self-intersection at or near point 2265831.7327320632 5590284.2852996141 at 2265831.7327320632 5590284.2852996141\n",
      "TopologyException: Input geom 1 is invalid: Ring Self-intersection at or near point 2346468.8224604502 5589965.2814281611 at 2346468.8224604502 5589965.2814281611\n",
      "TopologyException: Input geom 1 is invalid: Ring Self-intersection at or near point 2286673.3190003233 5589858.9468043437 at 2286673.3190003233 5589858.9468043437\n",
      "TopologyException: Input geom 1 is invalid: Ring Self-intersection at or near point 2259735.2142998511 5590000.7263027672 at 2259735.2142998511 5590000.7263027672\n",
      "TopologyException: Input geom 1 is invalid: Ring Self-intersection at or near point 2256970.5140805924 5589929.8365535559 at 2256970.5140805924 5589929.8365535559\n",
      "TopologyException: Input geom 1 is invalid: Ring Self-intersection at or near point 2255978.0575916274 5589504.4980582846 at 2255978.0575916274 5589504.4980582846\n",
      "TopologyException: Input geom 1 is invalid: Ring Self-intersection at or near point 2255127.3806010862 5589646.2775567081 at 2255127.3806010862 5589646.2775567081\n",
      "TopologyException: Input geom 1 is invalid: Ring Self-intersection at or near point 2274444.8372612931 5589362.7185598612 at 2274444.8372612931 5589362.7185598612\n",
      "TopologyException: Input geom 1 is invalid: Ring Self-intersection at or near point 2241162.1000063675 5589256.3839360438 at 2241162.1000063675 5589256.3839360438\n",
      "TopologyException: Input geom 1 is invalid: Ring Self-intersection at or near point 2260125.1079205158 5589079.1595630143 at 2260125.1079205158 5589079.1595630143\n",
      "TopologyException: Input geom 1 is invalid: Ring Self-intersection at or near point 2263775.9300049222 5589114.6044376204 at 2263775.9300049222 5589114.6044376204\n",
      "TopologyException: Input geom 1 is invalid: Ring Self-intersection at or near point 2243430.5719811441 5588831.0454407735 at 2243430.5719811441 5588831.0454407735\n",
      "TopologyException: Input geom 1 is invalid: Ring Self-intersection at or near point 2272991.597402452 5588476.5966947144 at 2272991.597402452 5588476.5966947144\n",
      "TopologyException: Input geom 1 is invalid: Ring Self-intersection at or near point 2254489.3728581802 5588370.262070897 at 2254489.3728581802 5588370.262070897\n"
     ]
    },
    {
     "name": "stderr",
     "output_type": "stream",
     "text": [
      "TopologyException: Input geom 1 is invalid: Ring Self-intersection at or near point 2258423.7539394335 5588547.4864439256 at 2258423.7539394335 5588547.4864439256\n",
      "TopologyException: Input geom 1 is invalid: Ring Self-intersection at or near point 2274657.5065089287 5588086.7030740492 at 2274657.5065089287 5588086.7030740492\n",
      "TopologyException: Input geom 1 is invalid: Ring Self-intersection at or near point 2274373.9475120814 5587980.3684502319 at 2274373.9475120814 5587980.3684502319\n",
      "TopologyException: Input geom 1 is invalid: Ring Self-intersection at or near point 2253851.3651152742 5587165.1363342963 at 2253851.3651152742 5587165.1363342963\n",
      "TopologyException: Input geom 1 is invalid: Ring Self-intersection at or near point 2249137.1967926919 5586881.5773374494 at 2249137.1967926919 5586881.5773374494\n",
      "TopologyException: Input geom 1 is invalid: Ring Self-intersection at or near point 2160028.7820334984 5586527.1285913903 at 2160028.7820334984 5586527.1285913903\n",
      "TopologyException: Input geom 1 is invalid: Ring Self-intersection at or near point 2287027.7677463824 5586314.4593437556 at 2287027.7677463824 5586314.4593437556\n",
      "TopologyException: Input geom 1 is invalid: Ring Self-intersection at or near point 2281604.7019316819 5584683.9951118845 at 2281604.7019316819 5584683.9951118845\n",
      "TopologyException: Input geom 1 is invalid: Ring Self-intersection at or near point 2392121.8209528299 5584754.8848610967 at 2392121.8209528299 5584754.8848610967\n",
      "TopologyException: Input geom 1 is invalid: Ring Self-intersection at or near point 2382374.4804362115 5584258.6566166142 at 2382374.4804362115 5584258.6566166142\n",
      "TopologyException: Input geom 1 is invalid: Ring Self-intersection at or near point 2277670.3208504287 5584471.3258642498 at 2277670.3208504287 5584471.3258642498\n",
      "TopologyException: Input geom 1 is invalid: Ring Self-intersection at or near point 2289934.2474640645 5583797.8732467378 at 2289934.2474640645 5583797.8732467378\n",
      "TopologyException: Input geom 1 is invalid: Ring Self-intersection at or near point 2277103.2028567344 5584258.6566166142 at 2277103.2028567344 5584258.6566166142\n",
      "TopologyException: Input geom 1 is invalid: Ring Self-intersection at or near point 2284688.4060223941 5583124.4206292257 at 2284688.4060223941 5583124.4206292257\n",
      "TopologyException: Input geom 1 is invalid: Ring Self-intersection at or near point 2265689.9532336397 5583124.4206292257 at 2265689.9532336397 5583124.4206292257\n",
      "TopologyException: Input geom 1 is invalid: Ring Self-intersection at or near point 2393894.064683124 5583124.4206292257 at 2393894.064683124 5583124.4206292257\n",
      "TopologyException: Input geom 1 is invalid: Ring Self-intersection at or near point 2395559.9737896007 5582557.3026355319 at 2395559.9737896007 5582557.3026355319\n",
      "TopologyException: Input geom 1 is invalid: Ring Self-intersection at or near point 2284865.6303954232 5582663.6372593492 at 2284865.6303954232 5582663.6372593492\n",
      "TopologyException: Input geom 1 is invalid: Ring Self-intersection at or near point 2284298.5124017289 5582380.0782625023 at 2284298.5124017289 5582380.0782625023\n",
      "TopologyException: Input geom 1 is invalid: Ring Self-intersection at or near point 2288339.2281068 5581777.5153942024 at 2288339.2281068 5581777.5153942024\n",
      "TopologyException: Input geom 1 is invalid: Ring Self-intersection at or near point 2256226.1717138686 5581919.2948926259 at 2256226.1717138686 5581919.2948926259\n",
      "TopologyException: Input geom 1 is invalid: Ring Self-intersection at or near point 2256048.9473408391 5581281.2871497199 at 2256048.9473408391 5581281.2871497199\n",
      "TopologyException: Input geom 1 is invalid: Ring Self-intersection at or near point 2170804.0239136871 5580820.5037798434 at 2170804.0239136871 5580820.5037798434\n",
      "TopologyException: Input geom 1 is invalid: Ring Self-intersection at or near point 2368409.1998414928 5580395.1652845731 at 2368409.1998414928 5580395.1652845731\n",
      "TopologyException: Input geom 1 is invalid: Ring Self-intersection at or near point 2270156.0074339812 5580536.9447829966 at 2270156.0074339812 5580536.9447829966\n",
      "TopologyException: Input geom 1 is invalid: Ring Self-intersection at or near point 2262287.2452714751 5580324.2755353609 at 2262287.2452714751 5580324.2755353609\n",
      "TopologyException: Input geom 1 is invalid: Ring Self-intersection at or near point 2277103.2028567344 5580466.0550337844 at 2277103.2028567344 5580466.0550337844\n",
      "TopologyException: Input geom 1 is invalid: Ring Self-intersection at or near point 2191078.492188253 5579898.9370400906 at 2191078.492188253 5579898.9370400906\n",
      "TopologyException: Input geom 1 is invalid: Ring Self-intersection at or near point 2196643.3375013769 5579190.0395479724 at 2196643.3375013769 5579190.0395479724\n",
      "TopologyException: Input geom 1 is invalid: Ring Self-intersection at or near point 2293053.3964293827 5579260.9292971846 at 2293053.3964293827 5579260.9292971846\n",
      "TopologyException: Input geom 1 is invalid: Ring Self-intersection at or near point 2183067.9505273229 5578906.4805511255 at 2183067.9505273229 5578906.4805511255\n",
      "TopologyException: Input geom 1 is invalid: Ring Self-intersection at or near point 2278520.9978409698 5579260.9292971846 at 2278520.9978409698 5579260.9292971846\n",
      "TopologyException: Input geom 1 is invalid: Ring Self-intersection at or near point 2276571.5297376462 5578622.9215542786 at 2276571.5297376462 5578622.9215542786\n",
      "TopologyException: Input geom 1 is invalid: Ring Self-intersection at or near point 2250129.6532816566 5578303.9176828256 at 2250129.6532816566 5578303.9176828256\n",
      "TopologyException: Input geom 1 is invalid: Ring Self-intersection at or near point 2334630.2343420852 5578268.4728082195 at 2334630.2343420852 5578268.4728082195\n",
      "TopologyException: Input geom 1 is invalid: Ring Self-intersection at or near point 2261932.796525416 5577027.9021970136 at 2261932.796525416 5577027.9021970136\n",
      "TopologyException: Input geom 1 is invalid: Ring Self-intersection at or near point 2271644.6921674283 5576070.8905826546 at 2271644.6921674283 5576070.8905826546\n",
      "TopologyException: Input geom 1 is invalid: Ring Self-intersection at or near point 2356570.6117231278 5575291.1033413252 at 2356570.6117231278 5575291.1033413252\n",
      "TopologyException: Input geom 1 is invalid: Ring Self-intersection at or near point 2281285.698060229 5575042.9892190844 at 2281285.698060229 5575042.9892190844\n",
      "TopologyException: Input geom 1 is invalid: Ring Self-intersection at or near point 2404952.86556016 5574972.0994698722 at 2404952.86556016 5574972.0994698722\n",
      "TopologyException: Input geom 1 is invalid: Ring Self-intersection at or near point 2260834.0054126335 5574440.4263507845 at 2260834.0054126335 5574440.4263507845\n",
      "TopologyException: Input geom 1 is invalid: Ring Self-intersection at or near point 2358307.4105788157 5572774.5172443073 at 2358307.4105788157 5572774.5172443073\n",
      "TopologyException: Input geom 1 is invalid: Ring Self-intersection at or near point 2302977.9613190303 5572739.0723697012 at 2302977.9613190303 5572739.0723697012\n",
      "TopologyException: Input geom 1 is invalid: Ring Self-intersection at or near point 2332787.100862579 5572207.3992506135 at 2332787.100862579 5572207.3992506135\n",
      "TopologyException: Input geom 1 is invalid: Ring Self-intersection at or near point 2251299.3341436507 5571285.8325108606 at 2251299.3341436507 5571285.8325108606\n",
      "TopologyException: Input geom 1 is invalid: Ring Self-intersection at or near point 2494309.3944415944 5571392.167134678 at 2494309.3944415944 5571392.167134678\n",
      "TopologyException: Input geom 1 is invalid: Ring Self-intersection at or near point 2242792.5642382386 5570647.8247679546 at 2242792.5642382386 5570647.8247679546\n",
      "TopologyException: Input geom 1 is invalid: Ring Self-intersection at or near point 2242898.898862056 5569194.5849091131 at 2242898.898862056 5569194.5849091131\n",
      "TopologyException: Input geom 1 is invalid: Ring Self-intersection at or near point 2306699.6731526479 5569017.3605360836 at 2306699.6731526479 5569017.3605360836\n",
      "TopologyException: Input geom 1 is invalid: Ring Self-intersection at or near point 2286885.9882479585 5568769.2464138428 at 2286885.9882479585 5568769.2464138428\n",
      "TopologyException: Input geom 1 is invalid: Ring Self-intersection at or near point 2308046.5783876716 5568521.132291601 at 2308046.5783876716 5568521.132291601\n"
     ]
    },
    {
     "name": "stderr",
     "output_type": "stream",
     "text": [
      "TopologyException: Input geom 1 is invalid: Ring Self-intersection at or near point 2142979.7973480676 5567422.3411788186 at 2142979.7973480676 5567422.3411788186\n",
      "TopologyException: Input geom 1 is invalid: Ring Self-intersection at or near point 2399884.2484915182 5566677.9988120953 at 2399884.2484915182 5566677.9988120953\n",
      "TopologyException: Input geom 1 is invalid: Ring Self-intersection at or near point 2293053.3964293827 5566358.9949406423 at 2293053.3964293827 5566358.9949406423\n",
      "TopologyException: Input geom 1 is invalid: Ring Self-intersection at or near point 2328604.6056590849 5565437.4282008894 at 2328604.6056590849 5565437.4282008894\n",
      "TopologyException: Input geom 1 is invalid: Ring Self-intersection at or near point 2273523.2705215402 5565082.9794548303 at 2273523.2705215402 5565082.9794548303\n",
      "TopologyException: Input geom 1 is invalid: Ring Self-intersection at or near point 2328427.3812860553 5565047.5345802251 at 2328427.3812860553 5565047.5345802251\n",
      "TopologyException: Input geom 1 is invalid: Ring Self-intersection at or near point 2259274.4309299747 5564799.4204579834 at 2259274.4309299747 5564799.4204579834\n",
      "TopologyException: Input geom 1 is invalid: Ring Self-intersection at or near point 2268525.5432021106 5563948.7434674427 at 2268525.5432021106 5563948.7434674427\n",
      "TopologyException: Input geom 1 is invalid: Ring Self-intersection at or near point 2246762.3901940975 5563665.1844705949 at 2246762.3901940975 5563665.1844705949\n",
      "TopologyException: Input geom 1 is invalid: Ring Self-intersection at or near point 2514052.1895970721 5562814.5074800542 at 2514052.1895970721 5562814.5074800542\n",
      "TopologyException: Input geom 1 is invalid: Ring Self-intersection at or near point 2288516.4524798295 5561963.8304895125 at 2288516.4524798295 5561963.8304895125\n",
      "TopologyException: Input geom 1 is invalid: Ring Self-intersection at or near point 2217272.2545220014 5562105.609987936 at 2217272.2545220014 5562105.609987936\n",
      "TopologyException: Input geom 1 is invalid: Ring Self-intersection at or near point 2142235.4549813443 5561290.3778720014 at 2142235.4549813443 5561290.3778720014\n",
      "TopologyException: Input geom 1 is invalid: Ring Self-intersection at or near point 2396162.5366579005 5561077.7086243657 at 2396162.5366579005 5561077.7086243657\n",
      "TopologyException: Input geom 1 is invalid: Ring Self-intersection at or near point 2236873.2701790556 5561077.7086243657 at 2236873.2701790556 5561077.7086243657\n",
      "TopologyException: Input geom 1 is invalid: Ring Self-intersection at or near point 2326300.6888097022 5560829.5945021249 at 2326300.6888097022 5560829.5945021249\n",
      "TopologyException: Input geom 1 is invalid: Ring Self-intersection at or near point 2271538.3575436105 5560652.3701290954 at 2271538.3575436105 5560652.3701290954\n",
      "TopologyException: Input geom 1 is invalid: Ring Self-intersection at or near point 2241764.6628746679 5560085.2521354007 at 2241764.6628746679 5560085.2521354007\n",
      "TopologyException: Input geom 1 is invalid: Ring Self-intersection at or near point 2240736.7615110972 5559978.9175115833 at 2240736.7615110972 5559978.9175115833\n",
      "TopologyException: Input geom 1 is invalid: Ring Self-intersection at or near point 2240488.6473888559 5558986.4610226182 at 2240488.6473888559 5558986.4610226182\n",
      "TopologyException: Input geom 1 is invalid: Ring Self-intersection at or near point 2265725.3981082458 5558986.4610226182 at 2265725.3981082458 5558986.4610226182\n",
      "TopologyException: Input geom 1 is invalid: Ring Self-intersection at or near point 2265477.2839860045 5559199.1302702539 at 2265477.2839860045 5559199.1302702539\n",
      "TopologyException: Input geom 1 is invalid: Ring Self-intersection at or near point 2238184.7305394732 5558951.0161480121 at 2238184.7305394732 5558951.0161480121\n",
      "TopologyException: Input geom 1 is invalid: Ring Self-intersection at or near point 2336225.2536993497 5558667.4571511652 at 2336225.2536993497 5558667.4571511652\n",
      "TopologyException: Input geom 1 is invalid: Ring Self-intersection at or near point 2333566.8881039084 5558561.1225273479 at 2333566.8881039084 5558561.1225273479\n",
      "TopologyException: Input geom 1 is invalid: Ring Self-intersection at or near point 2334063.1163483909 5557994.0045336541 at 2334063.1163483909 5557994.0045336541\n",
      "TopologyException: Input geom 1 is invalid: Ring Self-intersection at or near point 2289615.243592612 5558277.563530501 at 2289615.243592612 5558277.563530501\n",
      "TopologyException: Input geom 1 is invalid: Ring Self-intersection at or near point 2357704.8477105158 5557533.2211637776 at 2357704.8477105158 5557533.2211637776\n",
      "TopologyException: Input geom 1 is invalid: Ring Self-intersection at or near point 2289260.7948465529 5555512.8633112414 at 2289260.7948465529 5555512.8633112414\n",
      "TopologyException: Input geom 1 is invalid: Ring Self-intersection at or near point 2309428.9284973014 5554414.0721984589 at 2309428.9284973014 5554414.0721984589\n",
      "TopologyException: Input geom 1 is invalid: Ring Self-intersection at or near point 2359193.532443963 5554307.7375746416 at 2359193.532443963 5554307.7375746416\n",
      "TopologyException: Input geom 1 is invalid: Ring Self-intersection at or near point 2134473.0274426555 5554130.513201612 at 2134473.0274426555 5554130.513201612\n",
      "TopologyException: Input geom 1 is invalid: Ring Self-intersection at or near point 2133976.799198173 5553705.1747063417 at 2133976.799198173 5553705.1747063417\n",
      "TopologyException: Input geom 1 is invalid: Ring Self-intersection at or near point 2299787.9226045008 5553421.6157094948 at 2299787.9226045008 5553421.6157094948\n",
      "TopologyException: Input geom 1 is invalid: Ring Self-intersection at or near point 2243111.5681096911 5551117.6988601126 at 2243111.5681096911 5551117.6988601126\n",
      "TopologyException: Input geom 1 is invalid: Ring Self-intersection at or near point 2334594.7894674791 5549132.7858821824 at 2334594.7894674791 5549132.7858821824\n",
      "TopologyException: Input geom 1 is invalid: Ring Self-intersection at or near point 2259238.986055369 5547892.2152709765 at 2259238.986055369 5547892.2152709765\n",
      "TopologyException: Input geom 1 is invalid: Ring Self-intersection at or near point 2292167.2745642355 5547325.0972772827 at 2292167.2745642355 5547325.0972772827\n",
      "TopologyException: Input geom 1 is invalid: Ring Self-intersection at or near point 2135784.4878030731 5547395.987026494 at 2135784.4878030731 5547395.987026494\n",
      "TopologyException: Input geom 1 is invalid: Ring Self-intersection at or near point 2291848.2706927825 5546757.979283588 at 2291848.2706927825 5546757.979283588\n",
      "TopologyException: Input geom 1 is invalid: Ring Self-intersection at or near point 2330093.290392532 5544489.5073088119 at 2330093.290392532 5544489.5073088119\n",
      "TopologyException: Input geom 1 is invalid: Ring Self-intersection at or near point 2374080.3797784345 5542894.4879515469 at 2374080.3797784345 5542894.4879515469\n",
      "TopologyException: Input geom 1 is invalid: Ring Self-intersection at or near point 2349198.0778051037 5542043.8109610053 at 2349198.0778051037 5542043.8109610053\n",
      "TopologyException: Input geom 1 is invalid: Ring Self-intersection at or near point 2130113.3078661319 5542221.0353340348 at 2130113.3078661319 5542221.0353340348\n",
      "TopologyException: Input geom 1 is invalid: Ring Self-intersection at or near point 2323571.4334650491 5541441.2480927054 at 2323571.4334650491 5541441.2480927054\n",
      "TopologyException: Input geom 1 is invalid: Ring Self-intersection at or near point 2312229.0735911662 5540980.4647228289 at 2312229.0735911662 5540980.4647228289\n",
      "TopologyException: Input geom 1 is invalid: Ring Self-intersection at or near point 2288693.6768528586 5540590.5711021647 at 2288693.6768528586 5540590.5711021647\n",
      "TopologyException: Input geom 1 is invalid: Ring Self-intersection at or near point 2411084.8288669777 5539456.3351147762 at 2411084.8288669777 5539456.3351147762\n",
      "TopologyException: Input geom 1 is invalid: Ring Self-intersection at or near point 2260479.5566665749 5539208.2209925354 at 2260479.5566665749 5539208.2209925354\n",
      "TopologyException: Input geom 1 is invalid: Ring Self-intersection at or near point 2230741.3068722375 5539066.441494111 at 2230741.3068722375 5539066.441494111\n",
      "TopologyException: Input geom 1 is invalid: Ring Self-intersection at or near point 2285113.7445176644 5538180.3196289642 at 2285113.7445176644 5538180.3196289642\n"
     ]
    },
    {
     "name": "stderr",
     "output_type": "stream",
     "text": [
      "TopologyException: Input geom 1 is invalid: Ring Self-intersection at or near point 2132700.7837123615 5537754.9811336938 at 2132700.7837123615 5537754.9811336938\n",
      "TopologyException: Input geom 1 is invalid: Ring Self-intersection at or near point 2205894.4497735128 5537896.7606321173 at 2205894.4497735128 5537896.7606321173\n",
      "TopologyException: Input geom 1 is invalid: Ring Self-intersection at or near point 2348879.0739336507 5537613.2016352704 at 2348879.0739336507 5537613.2016352704\n",
      "TopologyException: Input geom 1 is invalid: Ring Self-intersection at or near point 2339096.2885424267 5536868.8592685461 at 2339096.2885424267 5536868.8592685461\n",
      "TopologyException: Input geom 1 is invalid: Ring Self-intersection at or near point 2229288.0670133964 5536585.3002716992 at 2229288.0670133964 5536585.3002716992\n",
      "TopologyException: Input geom 1 is invalid: Ring Self-intersection at or near point 2397686.6662659533 5536337.1861494584 at 2397686.6662659533 5536337.1861494584\n",
      "TopologyException: Input geom 1 is invalid: Ring Self-intersection at or near point 2417145.9024245841 5536124.5169018228 at 2417145.9024245841 5536124.5169018228\n",
      "TopologyException: Input geom 1 is invalid: Ring Self-intersection at or near point 2257005.9589551981 5536408.0758986697 at 2257005.9589551981 5536408.0758986697\n",
      "TopologyException: Input geom 1 is invalid: Ring Self-intersection at or near point 2255446.3844725392 5535663.7335319463 at 2255446.3844725392 5535663.7335319463\n",
      "TopologyException: Input geom 1 is invalid: Ring Self-intersection at or near point 2309251.7041242719 5535061.1706636464 at 2309251.7041242719 5535061.1706636464\n",
      "TopologyException: Input geom 1 is invalid: Ring Self-intersection at or near point 2255304.6049741157 5534777.6116667995 at 2255304.6049741157 5534777.6116667995\n",
      "TopologyException: Input geom 1 is invalid: Ring Self-intersection at or near point 2256793.2897075629 5534494.0526699526 at 2256793.2897075629 5534494.0526699526\n",
      "TopologyException: Input geom 1 is invalid: Ring Self-intersection at or near point 2418492.8076596078 5534281.383422317 at 2418492.8076596078 5534281.383422317\n",
      "TopologyException: Input geom 1 is invalid: Ring Self-intersection at or near point 2254560.2626073919 5534281.383422317 at 2254560.2626073919 5534281.383422317\n",
      "TopologyException: Input geom 1 is invalid: Ring Self-intersection at or near point 2250519.5469023213 5533288.9269333519 at 2250519.5469023213 5533288.9269333519\n",
      "TopologyException: Input geom 1 is invalid: Ring Self-intersection at or near point 2308897.2553782128 5530666.0062125167 at 2308897.2553782128 5530666.0062125167\n",
      "TopologyException: Input geom 1 is invalid: Ring Self-intersection at or near point 2309109.9246258484 5529531.7702251282 at 2309109.9246258484 5529531.7702251282\n",
      "TopologyException: Input geom 1 is invalid: Ring Self-intersection at or near point 2296810.5531376065 5529283.6561028874 at 2296810.5531376065 5529283.6561028874\n",
      "TopologyException: Input geom 1 is invalid: Ring Self-intersection at or near point 2128482.8436342608 5529000.0971060405 at 2128482.8436342608 5529000.0971060405\n",
      "TopologyException: Input geom 1 is invalid: Ring Self-intersection at or near point 2374682.9426467344 5528574.7586107701 at 2374682.9426467344 5528574.7586107701\n",
      "TopologyException: Input geom 1 is invalid: Ring Self-intersection at or near point 2314497.5455659428 5528681.0932345875 at 2314497.5455659428 5528681.0932345875\n",
      "TopologyException: Input geom 1 is invalid: Ring Self-intersection at or near point 2268312.8739544754 5527263.298250352 at 2268312.8739544754 5527263.298250352\n",
      "TopologyException: Input geom 1 is invalid: Ring Self-intersection at or near point 2382374.4804362115 5526979.7392535051 at 2382374.4804362115 5526979.7392535051\n",
      "TopologyException: Input geom 1 is invalid: Ring Self-intersection at or near point 2267462.1969639342 5526767.0700058695 at 2267462.1969639342 5526767.0700058695\n",
      "TopologyException: Input geom 1 is invalid: Ring Self-intersection at or near point 2383296.0471759643 5526589.8456328399 at 2383296.0471759643 5526589.8456328399\n",
      "TopologyException: Input geom 1 is invalid: Ring Self-intersection at or near point 2368302.8652176755 5526341.7315105991 at 2368302.8652176755 5526341.7315105991\n",
      "TopologyException: Input geom 1 is invalid: Ring Self-intersection at or near point 2255907.1678424156 5526341.7315105991 at 2255907.1678424156 5526341.7315105991\n",
      "TopologyException: Input geom 1 is invalid: Ring Self-intersection at or near point 2341754.654137868 5525951.837889934 at 2341754.654137868 5525951.837889934\n",
      "TopologyException: Input geom 1 is invalid: Ring Self-intersection at or near point 2256474.2858361099 5526022.7276391461 at 2256474.2858361099 5526022.7276391461\n",
      "TopologyException: Input geom 1 is invalid: Ring Self-intersection at or near point 2253142.4676231565 5525880.9481407227 at 2253142.4676231565 5525880.9481407227\n",
      "TopologyException: Input geom 1 is invalid: Ring Self-intersection at or near point 2252469.0150056449 5524746.7121533342 at 2252469.0150056449 5524746.7121533342\n",
      "TopologyException: Input geom 1 is invalid: Ring Self-intersection at or near point 2271680.1370420344 5524037.814661216 at 2271680.1370420344 5524037.814661216\n",
      "TopologyException: Input geom 1 is invalid: Ring Self-intersection at or near point 2245769.9337051329 5523825.1454135813 at 2245769.9337051329 5523825.1454135813\n",
      "TopologyException: Input geom 1 is invalid: Ring Self-intersection at or near point 2243997.6899748384 5523577.0312913395 at 2243997.6899748384 5523577.0312913395\n",
      "TopologyException: Input geom 1 is invalid: Ring Self-intersection at or near point 2305033.7640461717 5523577.0312913395 at 2305033.7640461717 5523577.0312913395\n",
      "TopologyException: Input geom 1 is invalid: Ring Self-intersection at or near point 2210218.7244754308 5523116.2479214631 at 2210218.7244754308 5523116.2479214631\n",
      "TopologyException: Input geom 1 is invalid: Ring Self-intersection at or near point 2298405.572494871 5523151.6927960692 at 2298405.572494871 5523151.6927960692\n",
      "TopologyException: Input geom 1 is invalid: Ring Self-intersection at or near point 2318112.9227757431 5520316.1028275983 at 2318112.9227757431 5520316.1028275983\n",
      "TopologyException: Input geom 1 is invalid: Ring Self-intersection at or near point 2236873.2701790556 5519465.4258370576 at 2236873.2701790556 5519465.4258370576\n",
      "TopologyException: Input geom 1 is invalid: Ring Self-intersection at or near point 2347886.6174446857 5518437.5244734865 at 2347886.6174446857 5518437.5244734865\n",
      "TopologyException: Input geom 1 is invalid: Ring Self-intersection at or near point 2346397.9327112385 5518047.6308528222 at 2346397.9327112385 5518047.6308528222\n",
      "TopologyException: Input geom 1 is invalid: Ring Self-intersection at or near point 2282951.6071667057 5517586.8474829458 at 2282951.6071667057 5517586.8474829458\n",
      "TopologyException: Input geom 1 is invalid: Ring Self-intersection at or near point 2352281.7818958154 5515389.2652573809 at 2352281.7818958154 5515389.2652573809\n",
      "TopologyException: Input geom 1 is invalid: Ring Self-intersection at or near point 2386202.5268936469 5514148.694646175 at 2386202.5268936469 5514148.694646175\n",
      "TopologyException: Input geom 1 is invalid: Ring Self-intersection at or near point 2288870.9012258882 5513971.4702731455 at 2288870.9012258882 5513971.4702731455\n",
      "TopologyException: Input geom 1 is invalid: Ring Self-intersection at or near point 2287417.6613670471 5513368.9074048456 at 2287417.6613670471 5513368.9074048456\n",
      "TopologyException: Input geom 1 is invalid: Ring Self-intersection at or near point 2243430.5719811441 5511773.8880475806 at 2243430.5719811441 5511773.8880475806\n",
      "TopologyException: Input geom 1 is invalid: Ring Self-intersection at or near point 2206071.6741465423 5511064.9905554624 at 2206071.6741465423 5511064.9905554624\n",
      "TopologyException: Input geom 1 is invalid: Ring Self-intersection at or near point 2516143.4371988196 5509966.19944268 at 2516143.4371988196 5509966.19944268\n",
      "TopologyException: Input geom 1 is invalid: Ring Self-intersection at or near point 2218371.0456347838 5508087.6210885681 at 2218371.0456347838 5508087.6210885681\n",
      "TopologyException: Input geom 1 is invalid: Ring Self-intersection at or near point 2221773.7535969489 5507520.5030948743 at 2221773.7535969489 5507520.5030948743\n"
     ]
    },
    {
     "name": "stderr",
     "output_type": "stream",
     "text": [
      "TopologyException: Input geom 1 is invalid: Ring Self-intersection at or near point 2389109.0066113295 5506386.2671074858 at 2389109.0066113295 5506386.2671074858\n",
      "TopologyException: Input geom 1 is invalid: Ring Self-intersection at or near point 2302020.9497046713 5505996.3734868215 at 2302020.9497046713 5505996.3734868215\n",
      "TopologyException: Input geom 1 is invalid: Ring Self-intersection at or near point 2217626.7032680605 5505996.3734868215 at 2217626.7032680605 5505996.3734868215\n",
      "TopologyException: Input geom 1 is invalid: Ring Self-intersection at or near point 2270900.349800705 5504720.3580010096 at 2270900.349800705 5504720.3580010096\n",
      "TopologyException: Input geom 1 is invalid: Ring Self-intersection at or near point 2360292.3235567454 5503515.2322644088 at 2360292.3235567454 5503515.2322644088\n",
      "TopologyException: Input geom 1 is invalid: Ring Self-intersection at or near point 2243785.0207272032 5500254.3038006676 at 2243785.0207272032 5500254.3038006676\n",
      "TopologyException: Input geom 1 is invalid: Ring Self-intersection at or near point 2227374.0437846789 5499687.1858069738 at 2227374.0437846789 5499687.1858069738\n",
      "TopologyException: Input geom 1 is invalid: Ring Self-intersection at or near point 2372485.3604211695 5499403.6268101269 at 2372485.3604211695 5499403.6268101269\n",
      "TopologyException: Input geom 1 is invalid: Ring Self-intersection at or near point 2372946.143791046 5499226.4024370974 at 2372946.143791046 5499226.4024370974\n",
      "TopologyException: Input geom 1 is invalid: Ring Self-intersection at or near point 2362383.5711584925 5499049.1780640678 at 2362383.5711584925 5499049.1780640678\n",
      "TopologyException: Input geom 1 is invalid: Ring Self-intersection at or near point 2418209.2486627605 5498482.060070374 at 2418209.2486627605 5498482.060070374\n",
      "TopologyException: Input geom 1 is invalid: Ring Self-intersection at or near point 2296952.3326360299 5496426.2573432326 at 2296952.3326360299 5496426.2573432326\n",
      "TopologyException: Input geom 1 is invalid: Ring Self-intersection at or near point 2425156.4440855142 5495398.3559796615 at 2425156.4440855142 5495398.3559796615\n",
      "TopologyException: Input geom 1 is invalid: Ring Self-intersection at or near point 2156413.4048236981 5494157.7853684556 at 2156413.4048236981 5494157.7853684556\n",
      "TopologyException: Input geom 1 is invalid: Ring Self-intersection at or near point 2369933.3294495461 5491463.9748984082 at 2369933.3294495461 5491463.9748984082\n",
      "TopologyException: Input geom 1 is invalid: Ring Self-intersection at or near point 2372095.4668005048 5488132.1566854557 at 2372095.4668005048 5488132.1566854557\n",
      "TopologyException: Input geom 1 is invalid: Ring Self-intersection at or near point 2352919.7896387214 5484126.8858549902 at 2352919.7896387214 5484126.8858549902\n",
      "TopologyException: Input geom 1 is invalid: Ring Self-intersection at or near point 2281746.4814301054 5482602.7562469374 at 2281746.4814301054 5482602.7562469374\n",
      "TopologyException: Input geom 1 is invalid: Ring Self-intersection at or near point 2323606.8783396548 5477605.0289275078 at 2323606.8783396548 5477605.0289275078\n",
      "TopologyException: Input geom 1 is invalid: Ring Self-intersection at or near point 2254914.711353451 5473174.419601772 at 2254914.711353451 5473174.419601772\n",
      "TopologyException: Input geom 1 is invalid: Ring Self-intersection at or near point 2334913.7933389321 5470267.9398840899 at 2334913.7933389321 5470267.9398840899\n",
      "TopologyException: Input geom 1 is invalid: Ring Self-intersection at or near point 2330624.9635116202 5469488.1526427604 at 2330624.9635116202 5469488.1526427604\n",
      "TopologyException: Input geom 1 is invalid: Ring Self-intersection at or near point 2288906.3461004943 5468247.5820315545 at 2288906.3461004943 5468247.5820315545\n",
      "TopologyException: Input geom 1 is invalid: Ring Self-intersection at or near point 2332078.2033704612 5467893.1332854955 at 2332078.2033704612 5467893.1332854955\n",
      "TopologyException: Input geom 1 is invalid: Ring Self-intersection at or near point 2215358.2312932839 5466936.1216711365 at 2215358.2312932839 5466936.1216711365\n",
      "TopologyException: Input geom 1 is invalid: Ring Self-intersection at or near point 2369507.9909542752 5466758.8972981069 at 2369507.9909542752 5466758.8972981069\n",
      "TopologyException: Input geom 1 is invalid: Ring Self-intersection at or near point 2323287.8744682022 5464951.2086932072 at 2323287.8744682022 5464951.2086932072\n",
      "TopologyException: Input geom 1 is invalid: Ring Self-intersection at or near point 2367700.3023493751 5464596.7599471482 at 2367700.3023493751 5464596.7599471482\n",
      "TopologyException: Input geom 1 is invalid: Ring Self-intersection at or near point 2321373.8512394843 5464525.8701979369 at 2321373.8512394843 5464525.8701979369\n",
      "TopologyException: Input geom 1 is invalid: Ring Self-intersection at or near point 2377234.9736183584 5463497.9688343657 at 2377234.9736183584 5463497.9688343657\n",
      "TopologyException: Input geom 1 is invalid: Ring Self-intersection at or near point 2177892.9988348638 5462540.9572200067 at 2177892.9988348638 5462540.9572200067\n",
      "TopologyException: Input geom 1 is invalid: Ring Self-intersection at or near point 2258459.1988140391 5461194.0519849835 at 2258459.1988140391 5461194.0519849835\n",
      "TopologyException: Input geom 1 is invalid: Ring Self-intersection at or near point 2177644.884712623 5460414.2647436541 at 2177644.884712623 5460414.2647436541\n",
      "TopologyException: Input geom 1 is invalid: Ring Self-intersection at or near point 2367381.2984779226 5460024.3711229889 at 2367381.2984779226 5460024.3711229889\n",
      "TopologyException: Input geom 1 is invalid: Ring Self-intersection at or near point 2301453.831710977 5459492.6980039012 at 2301453.831710977 5459492.6980039012\n",
      "TopologyException: Input geom 1 is invalid: Ring Self-intersection at or near point 2375710.8440103051 5458464.79664033 at 2375710.8440103051 5458464.79664033\n",
      "TopologyException: Input geom 1 is invalid: Ring Self-intersection at or near point 2354124.9153753216 5455451.9822988296 at 2354124.9153753216 5455451.9822988296\n",
      "TopologyException: Input geom 1 is invalid: Ring Self-intersection at or near point 2483037.9243169231 5454955.754054348 at 2483037.9243169231 5454955.754054348\n",
      "TopologyException: Input geom 1 is invalid: Ring Self-intersection at or near point 2272708.0384056047 5453254.4000732647 at 2272708.0384056047 5453254.4000732647\n",
      "TopologyException: Input geom 1 is invalid: Ring Self-intersection at or near point 2272105.4755373048 5452510.0577065414 at 2272105.4755373048 5452510.0577065414\n",
      "TopologyException: Input geom 1 is invalid: Ring Self-intersection at or near point 2256970.5140805924 5451836.6050890293 at 2256970.5140805924 5451836.6050890293\n",
      "TopologyException: Input geom 1 is invalid: Ring Self-intersection at or near point 2479635.2163547585 5451765.715339818 at 2479635.2163547585 5451765.715339818\n",
      "TopologyException: Input geom 1 is invalid: Ring Self-intersection at or near point 2271821.9165404579 5451411.2665937589 at 2271821.9165404579 5451411.2665937589\n",
      "TopologyException: Input geom 1 is invalid: Ring Self-intersection at or near point 2265725.3981082458 5451163.1524715181 at 2265725.3981082458 5451163.1524715181\n",
      "TopologyException: Input geom 1 is invalid: Ring Self-intersection at or near point 2260763.1156634218 5451163.1524715181 at 2260763.1156634218 5451163.1524715181\n",
      "TopologyException: Input geom 1 is invalid: Ring Self-intersection at or near point 2256509.7307107155 5450844.1486000651 at 2256509.7307107155 5450844.1486000651\n",
      "TopologyException: Input geom 1 is invalid: Ring Self-intersection at or near point 2482222.6922009881 5450702.3691016417 at 2482222.6922009881 5450702.3691016417\n",
      "TopologyException: Input geom 1 is invalid: Ring Self-intersection at or near point 2312158.1838419545 5450418.8101047948 at 2312158.1838419545 5450418.8101047948\n",
      "TopologyException: Input geom 1 is invalid: Ring Self-intersection at or near point 2313115.195456313 5450383.3652301887 at 2313115.195456313 5450383.3652301887\n",
      "TopologyException: Input geom 1 is invalid: Ring Self-intersection at or near point 2269269.8855688339 5449780.8023618888 at 2269269.8855688339 5449780.8023618888\n",
      "TopologyException: Input geom 1 is invalid: Ring Self-intersection at or near point 2268206.5393306576 5449639.0228634654 at 2268206.5393306576 5449639.0228634654\n"
     ]
    },
    {
     "name": "stderr",
     "output_type": "stream",
     "text": [
      "TopologyException: Input geom 1 is invalid: Ring Self-intersection at or near point 2255233.715224904 5449674.4677380705 at 2255233.715224904 5449674.4677380705\n",
      "TopologyException: Input geom 1 is invalid: Ring Self-intersection at or near point 2380212.3430852527 5449674.4677380705 at 2380212.3430852527 5449674.4677380705\n",
      "TopologyException: Input geom 1 is invalid: Ring Self-intersection at or near point 2268844.5470735636 5449709.9126126766 at 2268844.5470735636 5449709.9126126766\n",
      "TopologyException: Input geom 1 is invalid: Ring Self-intersection at or near point 2269695.2240641047 5449709.9126126766 at 2269695.2240641047 5449709.9126126766\n",
      "TopologyException: Input geom 1 is invalid: Ring Self-intersection at or near point 2177680.3295872286 5448788.3458729237 at 2177680.3295872286 5448788.3458729237\n",
      "TopologyException: Input geom 1 is invalid: Ring Self-intersection at or near point 2281817.3711793171 5448256.6727538351 at 2281817.3711793171 5448256.6727538351\n",
      "TopologyException: Input geom 1 is invalid: Ring Self-intersection at or near point 2269198.9958196222 5447831.3342585647 at 2269198.9958196222 5447831.3342585647\n",
      "TopologyException: Input geom 1 is invalid: Ring Self-intersection at or near point 2267497.6418385399 5447724.9996347474 at 2267497.6418385399 5447724.9996347474\n",
      "TopologyException: Input geom 1 is invalid: Ring Self-intersection at or near point 2267568.5315877516 5446342.6495251181 at 2267568.5315877516 5446342.6495251181\n",
      "TopologyException: Input geom 1 is invalid: Ring Self-intersection at or near point 2264413.9377478277 5445598.3071583938 at 2264413.9377478277 5445598.3071583938\n",
      "TopologyException: Input geom 1 is invalid: Ring Self-intersection at or near point 2265264.6147383694 5445421.0827853642 at 2265264.6147383694 5445421.0827853642\n",
      "TopologyException: Input geom 1 is invalid: Ring Self-intersection at or near point 2269057.2163211987 5444534.9609202174 at 2269057.2163211987 5444534.9609202174\n",
      "TopologyException: Input geom 1 is invalid: Ring Self-intersection at or near point 2270085.1176847694 5444464.0711710062 at 2270085.1176847694 5444464.0711710062\n",
      "TopologyException: Input geom 1 is invalid: Ring Self-intersection at or near point 2380814.9059535526 5444393.181421794 at 2380814.9059535526 5444393.181421794\n",
      "TopologyException: Input geom 1 is invalid: Ring Self-intersection at or near point 2267249.5277162986 5444145.0672995532 at 2267249.5277162986 5444145.0672995532\n",
      "TopologyException: Input geom 1 is invalid: Ring Self-intersection at or near point 2270652.2356784637 5443436.169807435 at 2270652.2356784637 5443436.169807435\n",
      "TopologyException: Input geom 1 is invalid: Ring Self-intersection at or near point 2269766.1138133164 5443436.169807435 at 2269766.1138133164 5443436.169807435\n",
      "TopologyException: Input geom 1 is invalid: Ring Self-intersection at or near point 2242367.2257429678 5442550.0479422882 at 2242367.2257429678 5442550.0479422882\n",
      "TopologyException: Input geom 1 is invalid: Ring Self-intersection at or near point 2274480.2821358992 5441096.8080834467 at 2274480.2821358992 5441096.8080834467\n",
      "TopologyException: Input geom 1 is invalid: Ring Self-intersection at or near point 2228224.7207752201 5441025.9183342354 at 2228224.7207752201 5441025.9183342354\n",
      "TopologyException: Input geom 1 is invalid: Ring Self-intersection at or near point 2276890.5336090992 5441274.0324564762 at 2276890.5336090992 5441274.0324564762\n",
      "TopologyException: Input geom 1 is invalid: Ring Self-intersection at or near point 2215606.3454155251 5440246.131092906 at 2215606.3454155251 5440246.131092906\n",
      "TopologyException: Input geom 1 is invalid: Ring Self-intersection at or near point 2273133.3769008755 5438013.103992735 at 2273133.3769008755 5438013.103992735\n",
      "TopologyException: Input geom 1 is invalid: Ring Self-intersection at or near point 2203555.0880495245 5435850.9666417763 at 2203555.0880495245 5435850.9666417763\n",
      "TopologyException: Input geom 1 is invalid: Ring Self-intersection at or near point 2204689.3240369125 5435992.7461401997 at 2204689.3240369125 5435992.7461401997\n",
      "TopologyException: Input geom 1 is invalid: Ring Self-intersection at or near point 2292450.8335610824 5435106.624275052 at 2292450.8335610824 5435106.624275052\n",
      "TopologyException: Input geom 1 is invalid: Ring Self-intersection at or near point 2297909.3442503889 5429293.6648396868 at 2297909.3442503889 5429293.6648396868\n",
      "TopologyException: Input geom 1 is invalid: Ring Self-intersection at or near point 2299114.4699869887 5427485.9762347871 at 2299114.4699869887 5427485.9762347871\n",
      "TopologyException: Input geom 1 is invalid: Ring Self-intersection at or near point 2237617.6125457794 5427308.7518617576 at 2237617.6125457794 5427308.7518617576\n",
      "TopologyException: Input geom 1 is invalid: Ring Self-intersection at or near point 2194020.4167805412 5427308.7518617576 at 2194020.4167805412 5427308.7518617576\n",
      "TopologyException: Input geom 1 is invalid: Ring Self-intersection at or near point 2193984.9719059356 5426493.5197458221 at 2193984.9719059356 5426493.5197458221\n",
      "TopologyException: Input geom 1 is invalid: Ring Self-intersection at or near point 2191964.6140534002 5425501.0632568579 at 2191964.6140534002 5425501.0632568579\n",
      "TopologyException: Input geom 1 is invalid: Ring Self-intersection at or near point 2194764.759147265 5424473.1618932867 at 2194764.759147265 5424473.1618932867\n",
      "TopologyException: Input geom 1 is invalid: Ring Self-intersection at or near point 2298051.1237488124 5424508.6067678928 at 2298051.1237488124 5424508.6067678928\n",
      "TopologyException: Input geom 1 is invalid: Ring Self-intersection at or near point 2193098.8500407883 5425111.1696361927 at 2193098.8500407883 5425111.1696361927\n",
      "TopologyException: Input geom 1 is invalid: Ring Self-intersection at or near point 2193878.6372821177 5424756.7208901336 at 2193878.6372821177 5424756.7208901336\n",
      "TopologyException: Input geom 1 is invalid: Ring Self-intersection at or near point 2192425.3974232767 5424047.8233980164 at 2192425.3974232767 5424047.8233980164\n",
      "TopologyException: Input geom 1 is invalid: Ring Self-intersection at or near point 2378688.2134771994 5423835.1541503808 at 2378688.2134771994 5423835.1541503808\n",
      "TopologyException: Input geom 1 is invalid: Ring Self-intersection at or near point 2300709.4893442537 5423587.0400281399 at 2300709.4893442537 5423587.0400281399\n",
      "TopologyException: Input geom 1 is invalid: Ring Self-intersection at or near point 2298051.1237488124 5423268.036156687 at 2298051.1237488124 5423268.036156687\n",
      "TopologyException: Input geom 1 is invalid: Ring Self-intersection at or near point 2191397.496059706 5423374.3707805043 at 2191397.496059706 5423374.3707805043\n",
      "TopologyException: Input geom 1 is invalid: Ring Self-intersection at or near point 2306168.0000335597 5423232.5912820809 at 2306168.0000335597 5423232.5912820809\n",
      "TopologyException: Input geom 1 is invalid: Ring Self-intersection at or near point 2193240.6295392117 5422700.9181629932 at 2193240.6295392117 5422700.9181629932\n",
      "TopologyException: Input geom 1 is invalid: Ring Self-intersection at or near point 2377943.8711104756 5422523.6937899636 at 2377943.8711104756 5422523.6937899636\n",
      "TopologyException: Input geom 1 is invalid: Ring Self-intersection at or near point 2309393.4836226953 5422204.6899185106 at 2309393.4836226953 5422204.6899185106\n",
      "TopologyException: Input geom 1 is invalid: Ring Self-intersection at or near point 2316163.4546724195 5422133.8001692984 at 2316163.4546724195 5422133.8001692984\n",
      "TopologyException: Input geom 1 is invalid: Ring Self-intersection at or near point 2296491.5492661535 5421743.9065486342 at 2296491.5492661535 5421743.9065486342\n",
      "TopologyException: Input geom 1 is invalid: Ring Self-intersection at or near point 2301099.3829649184 5421318.5680533629 at 2301099.3829649184 5421318.5680533629\n",
      "TopologyException: Input geom 1 is invalid: Ring Self-intersection at or near point 2319211.7138885255 5420751.4500596691 at 2319211.7138885255 5420751.4500596691\n",
      "TopologyException: Input geom 1 is invalid: Ring Self-intersection at or near point 2215960.7941615838 5420538.7808120335 at 2215960.7941615838 5420538.7808120335\n",
      "TopologyException: Input geom 1 is invalid: Ring Self-intersection at or near point 2303438.7446889067 5419723.5486960988 at 2303438.7446889067 5419723.5486960988\n"
     ]
    },
    {
     "name": "stderr",
     "output_type": "stream",
     "text": [
      "TopologyException: Input geom 1 is invalid: Ring Self-intersection at or near point 2305990.7756605302 5419723.5486960988 at 2305990.7756605302 5419723.5486960988\n",
      "TopologyException: Input geom 1 is invalid: Ring Self-intersection at or near point 2309606.1528703305 5419794.4384453101 at 2309606.1528703305 5419794.4384453101\n",
      "TopologyException: Input geom 1 is invalid: Ring Self-intersection at or near point 2306593.3385288306 5419829.8833199162 at 2306593.3385288306 5419829.8833199162\n",
      "TopologyException: Input geom 1 is invalid: Ring Self-intersection at or near point 2307514.9052685834 5419475.4345738571 at 2307514.9052685834 5419475.4345738571\n",
      "TopologyException: Input geom 1 is invalid: Ring Self-intersection at or near point 2300319.595723589 5419439.989699251 at 2300319.595723589 5419439.989699251\n",
      "TopologyException: Input geom 1 is invalid: Ring Self-intersection at or near point 2299327.1392346243 5419085.5409531929 at 2299327.1392346243 5419085.5409531929\n",
      "TopologyException: Input geom 1 is invalid: Ring Self-intersection at or near point 2457482.1697260807 5418624.7575833164 at 2457482.1697260807 5418624.7575833164\n",
      "TopologyException: Input geom 1 is invalid: Ring Self-intersection at or near point 2313824.0929484307 5418660.2024579216 at 2313824.0929484307 5418660.2024579216\n",
      "TopologyException: Input geom 1 is invalid: Ring Self-intersection at or near point 2295499.0927771884 5418376.6434610747 at 2295499.0927771884 5418376.6434610747\n",
      "TopologyException: Input geom 1 is invalid: Ring Self-intersection at or near point 2299965.1469775299 5418270.3088372573 at 2299965.1469775299 5418270.3088372573\n",
      "TopologyException: Input geom 1 is invalid: Ring Self-intersection at or near point 2299539.8084822595 5418163.97421344 at 2299539.8084822595 5418163.97421344\n",
      "TopologyException: Input geom 1 is invalid: Ring Self-intersection at or near point 2290997.5937022413 5417915.8600911982 at 2290997.5937022413 5417915.8600911982\n",
      "TopologyException: Input geom 1 is invalid: Ring Self-intersection at or near point 2295782.6517740358 5417596.8562197452 at 2295782.6517740358 5417596.8562197452\n",
      "TopologyException: Input geom 1 is invalid: Ring Self-intersection at or near point 2303864.0831841775 5417206.962599081 at 2303864.0831841775 5417206.962599081\n",
      "TopologyException: Input geom 1 is invalid: Ring Self-intersection at or near point 2430225.0611541555 5415753.7227402395 at 2430225.0611541555 5415753.7227402395\n",
      "TopologyException: Input geom 1 is invalid: Ring Self-intersection at or near point 2181756.4901669053 5415434.7188687865 at 2181756.4901669053 5415434.7188687865\n",
      "TopologyException: Input geom 1 is invalid: Ring Self-intersection at or near point 2326584.2478065491 5410685.1056715976 at 2326584.2478065491 5410685.1056715976\n",
      "TopologyException: Input geom 1 is invalid: Ring Self-intersection at or near point 2329242.6134019904 5410436.9915493568 at 2329242.6134019904 5410436.9915493568\n",
      "TopologyException: Input geom 1 is invalid: Ring Self-intersection at or near point 2327222.2555494551 5410401.5466747507 at 2327222.2555494551 5410401.5466747507\n",
      "TopologyException: Input geom 1 is invalid: Ring Self-intersection at or near point 2328143.8222892084 5408806.5273174858 at 2328143.8222892084 5408806.5273174858\n",
      "TopologyException: Input geom 1 is invalid: Ring Self-intersection at or near point 2327399.4799224846 5408452.0785714276 at 2327399.4799224846 5408452.0785714276\n",
      "TopologyException: Input geom 1 is invalid: Ring Self-intersection at or near point 2351289.3254068508 5408133.0746999746 at 2351289.3254068508 5408133.0746999746\n",
      "TopologyException: Input geom 1 is invalid: Ring Self-intersection at or near point 2326300.6888097022 5407636.8464554921 at 2326300.6888097022 5407636.8464554921\n",
      "TopologyException: Input geom 1 is invalid: Ring Self-intersection at or near point 2324918.3387000728 5407282.397709433 at 2324918.3387000728 5407282.397709433\n",
      "TopologyException: Input geom 1 is invalid: Ring Self-intersection at or near point 2338068.3871788559 5406892.5040887687 at 2338068.3871788559 5406892.5040887687\n",
      "TopologyException: Input geom 1 is invalid: Ring Self-intersection at or near point 2246018.0478273737 5406608.9450919209 at 2246018.0478273737 5406608.9450919209\n",
      "TopologyException: Input geom 1 is invalid: Ring Self-intersection at or near point 2249527.0904133567 5403667.0204996327 at 2249527.0904133567 5403667.0204996327\n",
      "TopologyException: Input geom 1 is invalid: Ring Self-intersection at or near point 2346894.160955721 5403206.2371297562 at 2346894.160955721 5403206.2371297562\n",
      "TopologyException: Input geom 1 is invalid: Ring Self-intersection at or near point 2373017.0335402582 5402001.1113931565 at 2373017.0335402582 5402001.1113931565\n",
      "TopologyException: Input geom 1 is invalid: Ring Self-intersection at or near point 2364014.0353903631 5401398.5485248566 at 2364014.0353903631 5401398.5485248566\n",
      "TopologyException: Input geom 1 is invalid: Ring Self-intersection at or near point 2478855.429113429 5401150.4344026148 at 2478855.429113429 5401150.4344026148\n",
      "TopologyException: Input geom 1 is invalid: Ring Self-intersection at or near point 2362135.4570362512 5400476.9817851037 at 2362135.4570362512 5400476.9817851037\n",
      "TopologyException: Input geom 1 is invalid: Ring Self-intersection at or near point 2392263.6004512534 5397924.9508134797 at 2392263.6004512534 5397924.9508134797\n",
      "TopologyException: Input geom 1 is invalid: Ring Self-intersection at or near point 2478146.5316213113 5397216.0533213615 at 2478146.5316213113 5397216.0533213615\n",
      "TopologyException: Input geom 1 is invalid: Ring Self-intersection at or near point 2177290.4359665639 5395940.0378355496 at 2177290.4359665639 5395940.0378355496\n",
      "TopologyException: Input geom 1 is invalid: Ring Self-intersection at or near point 2376313.406878605 5393884.2351084091 at 2376313.406878605 5393884.2351084091\n",
      "TopologyException: Input geom 1 is invalid: Ring Self-intersection at or near point 2432741.6472511734 5393458.8966131378 at 2432741.6472511734 5393458.8966131378\n",
      "TopologyException: Input geom 1 is invalid: Ring Self-intersection at or near point 2416295.225434043 5392147.4362527207 at 2416295.225434043 5392147.4362527207\n",
      "TopologyException: Input geom 1 is invalid: Ring Self-intersection at or near point 2420335.9411391136 5388673.8385413438 at 2420335.9411391136 5388673.8385413438\n",
      "TopologyException: Input geom 1 is invalid: Ring Self-intersection at or near point 2419839.7128946315 5383250.7727266438 at 2419839.7128946315 5383250.7727266438\n",
      "TopologyException: Input geom 1 is invalid: Ring Self-intersection at or near point 2424553.8812172138 5377366.9235420665 at 2424553.8812172138 5377366.9235420665\n",
      "TopologyException: Input geom 1 is invalid: Ring Self-intersection at or near point 2432387.1985051143 5377047.9196706135 at 2432387.1985051143 5377047.9196706135\n",
      "TopologyException: Input geom 1 is invalid: Ring Self-intersection at or near point 2299185.3597362004 5372262.8615988195 at 2299185.3597362004 5372262.8615988195\n",
      "TopologyException: Input geom 1 is invalid: Ring Self-intersection at or near point 2341754.654137868 5370596.9524923423 at 2341754.654137868 5370596.9524923423\n",
      "TopologyException: Input geom 1 is invalid: Ring Self-intersection at or near point 2441071.1927835559 5370526.0627431311 at 2441071.1927835559 5370526.0627431311\n",
      "TopologyException: Input geom 1 is invalid: Ring Self-intersection at or near point 2339876.0757837561 5370171.613997072 at 2339876.0757837561 5370171.613997072\n",
      "TopologyException: Input geom 1 is invalid: Ring Self-intersection at or near point 2429551.6085366439 5369675.3857525894 at 2429551.6085366439 5369675.3857525894\n",
      "TopologyException: Input geom 1 is invalid: Ring Self-intersection at or near point 2456312.4888640866 5368434.8151413836 at 2456312.4888640866 5368434.8151413836\n",
      "TopologyException: Input geom 1 is invalid: Ring Self-intersection at or near point 2181898.2696653288 5368257.590768354 at 2181898.2696653288 5368257.590768354\n",
      "TopologyException: Input geom 1 is invalid: Ring Self-intersection at or near point 2440043.2914199857 5364500.4340601303 at 2440043.2914199857 5364500.4340601303\n",
      "TopologyException: Input geom 1 is invalid: Ring Self-intersection at or near point 2378156.5403581113 5364075.0955648599 at 2378156.5403581113 5364075.0955648599\n"
     ]
    },
    {
     "name": "stderr",
     "output_type": "stream",
     "text": [
      "TopologyException: Input geom 1 is invalid: Ring Self-intersection at or near point 2423525.9798536431 5363401.6429473478 at 2423525.9798536431 5363401.6429473478\n",
      "TopologyException: Input geom 1 is invalid: Ring Self-intersection at or near point 2430225.0611541555 5362444.6313329889 at 2430225.0611541555 5362444.6313329889\n",
      "TopologyException: Input geom 1 is invalid: Ring Self-intersection at or near point 2188172.0124705704 5362550.9659568071 at 2188172.0124705704 5362550.9659568071\n",
      "TopologyException: Input geom 1 is invalid: Ring Self-intersection at or near point 2426964.1326904139 5362231.9620853541 at 2426964.1326904139 5362231.9620853541\n",
      "TopologyException: Input geom 1 is invalid: Ring Self-intersection at or near point 2439795.1772977444 5361700.2889662655 at 2439795.1772977444 5361700.2889662655\n",
      "TopologyException: Input geom 1 is invalid: Ring Self-intersection at or near point 2430083.2816557321 5360885.05685033 at 2430083.2816557321 5360885.05685033\n",
      "TopologyException: Input geom 1 is invalid: Ring Self-intersection at or near point 2462976.1252899929 5359998.9349851832 at 2462976.1252899929 5359998.9349851832\n",
      "TopologyException: Input geom 1 is invalid: Ring Self-intersection at or near point 2426148.9005744788 5359679.9311137302 at 2426148.9005744788 5359679.9311137302\n",
      "TopologyException: Input geom 1 is invalid: Ring Self-intersection at or near point 2441850.9800248854 5359715.3759883363 at 2441850.9800248854 5359715.3759883363\n",
      "TopologyException: Input geom 1 is invalid: Ring Self-intersection at or near point 2445856.2508553504 5358510.2502517365 at 2445856.2508553504 5358510.2502517365\n",
      "TopologyException: Input geom 1 is invalid: Ring Self-intersection at or near point 2423065.1964837667 5358084.9117564652 at 2423065.1964837667 5358084.9117564652\n",
      "TopologyException: Input geom 1 is invalid: Ring Self-intersection at or near point 2453476.8988956157 5358439.3605025243 at 2453476.8988956157 5358439.3605025243\n",
      "TopologyException: Input geom 1 is invalid: Ring Self-intersection at or near point 2421824.6258725608 5356915.2308944715 at 2421824.6258725608 5356915.2308944715\n",
      "TopologyException: Input geom 1 is invalid: Ring Self-intersection at or near point 2232052.7672326555 5356844.3411452593 at 2232052.7672326555 5356844.3411452593\n",
      "TopologyException: Input geom 1 is invalid: Ring Self-intersection at or near point 2369188.9870828222 5356915.2308944715 at 2369188.9870828222 5356915.2308944715\n",
      "TopologyException: Input geom 1 is invalid: Ring Self-intersection at or near point 2439511.6183008971 5356596.2270230185 at 2439511.6183008971 5356596.2270230185\n",
      "TopologyException: Input geom 1 is invalid: Ring Self-intersection at or near point 2226346.1424211082 5355461.99103563 at 2226346.1424211082 5355461.99103563\n",
      "TopologyException: Input geom 1 is invalid: Ring Self-intersection at or near point 2440681.2991628912 5355142.987164177 at 2440681.2991628912 5355142.987164177\n",
      "TopologyException: Input geom 1 is invalid: Ring Self-intersection at or near point 2228331.0553990374 5353937.8614275772 at 2228331.0553990374 5353937.8614275772\n",
      "TopologyException: Input geom 1 is invalid: Ring Self-intersection at or near point 2438200.1579404795 5353406.1883084886 at 2438200.1579404795 5353406.1883084886\n",
      "TopologyException: Input geom 1 is invalid: Ring Self-intersection at or near point 2428984.4905429496 5352236.5074464949 at 2428984.4905429496 5352236.5074464949\n",
      "TopologyException: Input geom 1 is invalid: Ring Self-intersection at or near point 2368480.0895907045 5351385.8304559533 at 2368480.0895907045 5351385.8304559533\n",
      "TopologyException: Input geom 1 is invalid: Ring Self-intersection at or near point 2397899.335513589 5350251.5944685647 at 2397899.335513589 5350251.5944685647\n",
      "TopologyException: Input geom 1 is invalid: Ring Self-intersection at or near point 2430827.6240224554 5349613.5867256587 at 2430827.6240224554 5349613.5867256587\n",
      "TopologyException: Input geom 1 is invalid: Ring Self-intersection at or near point 2387620.3218778824 5349755.3662240822 at 2387620.3218778824 5349755.3662240822\n",
      "TopologyException: Input geom 1 is invalid: Ring Self-intersection at or near point 2417606.6857944606 5346813.441631794 at 2417606.6857944606 5346813.441631794\n",
      "TopologyException: Input geom 1 is invalid: Ring Self-intersection at or near point 2402471.7243377478 5345998.2095158584 at 2402471.7243377478 5345998.2095158584\n",
      "TopologyException: Input geom 1 is invalid: Ring Self-intersection at or near point 2287098.6574955941 5340646.0334503707 at 2287098.6574955941 5340646.0334503707\n",
      "TopologyException: Input geom 1 is invalid: Ring Self-intersection at or near point 2431678.3010129966 5338767.4550962588 at 2431678.3010129966 5338767.4550962588\n",
      "TopologyException: Input geom 1 is invalid: Ring Self-intersection at or near point 2512988.8433588957 5338413.0063501997 at 2512988.8433588957 5338413.0063501997\n",
      "TopologyException: Input geom 1 is invalid: Ring Self-intersection at or near point 2366424.2868635636 5335860.9753785757 at 2366424.2868635636 5335860.9753785757\n",
      "TopologyException: Input geom 1 is invalid: Ring Self-intersection at or near point 2284369.4021509411 5335152.0778864585 at 2284369.4021509411 5335152.0778864585\n",
      "TopologyException: Input geom 1 is invalid: Ring Self-intersection at or near point 2438483.7169373264 5335400.1920086993 at 2438483.7169373264 5335400.1920086993\n",
      "TopologyException: Input geom 1 is invalid: Ring Self-intersection at or near point 2449188.0690683038 5333025.3854101049 at 2449188.0690683038 5333025.3854101049\n",
      "TopologyException: Input geom 1 is invalid: Ring Self-intersection at or near point 2276429.7502392228 5333025.3854101049 at 2276429.7502392228 5333025.3854101049\n",
      "TopologyException: Input geom 1 is invalid: Ring Self-intersection at or near point 2366778.7356096222 5332848.1610370753 at 2366778.7356096222 5332848.1610370753\n",
      "TopologyException: Input geom 1 is invalid: Ring Self-intersection at or near point 2279797.0133267818 5333238.0546577405 at 2279797.0133267818 5333238.0546577405\n",
      "TopologyException: Input geom 1 is invalid: Ring Self-intersection at or near point 2278414.6632171525 5332741.826413258 at 2278414.6632171525 5332741.826413258\n",
      "TopologyException: Input geom 1 is invalid: Ring Self-intersection at or near point 2278733.6670886055 5332493.7122910172 at 2278733.6670886055 5332493.7122910172\n",
      "TopologyException: Input geom 1 is invalid: Ring Self-intersection at or near point 2281214.8083110172 5332564.6020402284 at 2281214.8083110172 5332564.6020402284\n",
      "TopologyException: Input geom 1 is invalid: Ring Self-intersection at or near point 2281533.8121824702 5331111.3621813869 at 2281533.8121824702 5331111.3621813869\n",
      "TopologyException: Input geom 1 is invalid: Ring Self-intersection at or near point 2283660.5046588234 5330863.2480591461 at 2283660.5046588234 5330863.2480591461\n",
      "TopologyException: Input geom 1 is invalid: Ring Self-intersection at or near point 2261259.3439079043 5328027.6580906752 at 2261259.3439079043 5328027.6580906752\n",
      "TopologyException: Input geom 1 is invalid: Ring Self-intersection at or near point 2428523.7071730732 5327495.9849715875 at 2428523.7071730732 5327495.9849715875\n",
      "TopologyException: Input geom 1 is invalid: Ring Self-intersection at or near point 2279655.2338283584 5326822.5323540755 at 2279655.2338283584 5326822.5323540755\n",
      "TopologyException: Input geom 1 is invalid: Ring Self-intersection at or near point 2524898.321226473 5322710.9268997926 at 2524898.321226473 5322710.9268997926\n",
      "TopologyException: Input geom 1 is invalid: Ring Self-intersection at or near point 2444544.7904949328 5317784.0893295752 at 2444544.7904949328 5317784.0893295752\n",
      "TopologyException: Input geom 1 is invalid: Ring Self-intersection at or near point 2440610.4094136795 5316649.8533421867 at 2440610.4094136795 5316649.8533421867\n",
      "TopologyException: Input geom 1 is invalid: Ring Self-intersection at or near point 2429019.9354175553 5315621.9519786155 at 2429019.9354175553 5315621.9519786155\n",
      "TopologyException: Input geom 1 is invalid: Ring Self-intersection at or near point 2434230.3319846205 5314771.2749880748 at 2434230.3319846205 5314771.2749880748\n",
      "TopologyException: Input geom 1 is invalid: Ring Self-intersection at or near point 2432564.4228781438 5314629.4954896513 at 2432564.4228781438 5314629.4954896513\n"
     ]
    },
    {
     "name": "stderr",
     "output_type": "stream",
     "text": [
      "TopologyException: Input geom 1 is invalid: Ring Self-intersection at or near point 2532979.7526366147 5314026.9326213514 at 2532979.7526366147 5314026.9326213514\n",
      "TopologyException: Input geom 1 is invalid: Ring Self-intersection at or near point 2444473.9007457211 5313069.9210069925 at 2444473.9007457211 5313069.9210069925\n",
      "TopologyException: Input geom 1 is invalid: Ring Self-intersection at or near point 2440752.188912103 5310482.4451607624 at 2440752.188912103 5310482.4451607624\n",
      "TopologyException: Input geom 1 is invalid: Ring Self-intersection at or near point 2449046.2895698799 5310659.669533792 at 2449046.2895698799 5310659.669533792\n",
      "TopologyException: Input geom 1 is invalid: Ring Self-intersection at or near point 2450357.749930298 5310057.1066654921 at 2450357.749930298 5310057.1066654921\n",
      "TopologyException: Input geom 1 is invalid: Ring Self-intersection at or near point 2443233.3301345152 5309950.7720416747 at 2443233.3301345152 5309950.7720416747\n",
      "TopologyException: Input geom 1 is invalid: Ring Self-intersection at or near point 2455107.3631274863 5309950.7720416747 at 2455107.3631274863 5309950.7720416747\n",
      "TopologyException: Input geom 1 is invalid: Ring Self-intersection at or near point 2445679.0264823213 5309915.3271670686 at 2445679.0264823213 5309915.3271670686\n",
      "TopologyException: Input geom 1 is invalid: Ring Self-intersection at or near point 2439653.3977993205 5309170.9848003453 at 2439653.3977993205 5309170.9848003453\n",
      "TopologyException: Input geom 1 is invalid: Ring Self-intersection at or near point 2433592.3242417146 5309170.9848003453 at 2433592.3242417146 5309170.9848003453\n",
      "TopologyException: Input geom 1 is invalid: Ring Self-intersection at or near point 2404031.2988204067 5308851.9809288923 at 2404031.2988204067 5308851.9809288923\n",
      "TopologyException: Input geom 1 is invalid: Ring Self-intersection at or near point 2454114.9066385217 5308887.4258034974 at 2454114.9066385217 5308887.4258034974\n",
      "TopologyException: Input geom 1 is invalid: Ring Self-intersection at or near point 2454752.9143814277 5308497.5321828332 at 2454752.9143814277 5308497.5321828332\n",
      "TopologyException: Input geom 1 is invalid: Ring Self-intersection at or near point 2456064.3747418453 5308639.3116812566 at 2456064.3747418453 5308639.3116812566\n",
      "TopologyException: Input geom 1 is invalid: Ring Self-intersection at or near point 2261613.792653963 5308639.3116812566 at 2261613.792653963 5308639.3116812566\n",
      "TopologyException: Input geom 1 is invalid: Ring Self-intersection at or near point 2435293.6782227969 5308391.1975590158 at 2435293.6782227969 5308391.1975590158\n",
      "TopologyException: Input geom 1 is invalid: Ring Self-intersection at or near point 2446884.1522189211 5308355.7526844097 at 2446884.1522189211 5308355.7526844097\n",
      "TopologyException: Input geom 1 is invalid: Ring Self-intersection at or near point 2454930.1387544568 5308284.8629351975 at 2454930.1387544568 5308284.8629351975\n",
      "TopologyException: Input geom 1 is invalid: Ring Self-intersection at or near point 2451314.7615446569 5309773.5476686452 at 2451314.7615446569 5309773.5476686452\n",
      "TopologyException: Input geom 1 is invalid: Ring Self-intersection at or near point 2449648.8524381802 5308284.8629351975 at 2449648.8524381802 5308284.8629351975\n",
      "TopologyException: Input geom 1 is invalid: Ring Self-intersection at or near point 2450534.9743033275 5308355.7526844097 at 2450534.9743033275 5308355.7526844097\n",
      "TopologyException: Input geom 1 is invalid: Ring Self-intersection at or near point 2464039.4715281692 5308072.1936875628 at 2464039.4715281692 5308072.1936875628\n",
      "TopologyException: Input geom 1 is invalid: Ring Self-intersection at or near point 2450747.6435509627 5307221.5166970212 at 2450747.6435509627 5307221.5166970212\n",
      "TopologyException: Input geom 1 is invalid: Ring Self-intersection at or near point 2455816.260619604 5306760.7333271448 at 2455816.260619604 5306760.7333271448\n",
      "TopologyException: Input geom 1 is invalid: Ring Self-intersection at or near point 2436463.359084791 5305874.611461998 at 2436463.359084791 5305874.611461998\n",
      "TopologyException: Input geom 1 is invalid: Ring Self-intersection at or near point 2428842.7110445257 5304917.599847639 at 2428842.7110445257 5304917.599847639\n",
      "TopologyException: Input geom 1 is invalid: Ring Self-intersection at or near point 2431642.856138391 5303109.9112427384 at 2431642.856138391 5303109.9112427384\n",
      "TopologyException: Input geom 1 is invalid: Ring Self-intersection at or near point 2432174.5292574791 5302861.7971204976 at 2432174.5292574791 5302861.7971204976\n",
      "TopologyException: Input geom 1 is invalid: Ring Self-intersection at or near point 2430544.0650256085 5302046.565004562 at 2430544.0650256085 5302046.565004562\n",
      "TopologyException: Input geom 1 is invalid: Ring Self-intersection at or near point 2428062.9238031963 5300628.7700203266 at 2428062.9238031963 5300628.7700203266\n",
      "TopologyException: Input geom 1 is invalid: Ring Self-intersection at or near point 2454788.3592560333 5297296.9518073732 at 2454788.3592560333 5297296.9518073732\n",
      "TopologyException: Input geom 1 is invalid: Ring Self-intersection at or near point 2456099.8196164509 5294284.1374658737 at 2456099.8196164509 5294284.1374658737\n",
      "TopologyException: Input geom 1 is invalid: Ring Self-intersection at or near point 2403251.5115790772 5287655.945914573 at 2403251.5115790772 5287655.945914573\n",
      "TopologyException: Input geom 1 is invalid: Ring Self-intersection at or near point 2485448.1757901236 5271847.5318403486 at 2485448.1757901236 5271847.5318403486\n",
      "TopologyException: Input geom 1 is invalid: Ring Self-intersection at or near point 2464854.7036441048 5265006.6710414132 at 2464854.7036441048 5265006.6710414132\n",
      "TopologyException: Input geom 1 is invalid: Ring Self-intersection at or near point 2455213.6977513041 5259867.1642235592 at 2455213.6977513041 5259867.1642235592\n",
      "TopologyException: Input geom 1 is invalid: Ring Self-intersection at or near point 2447841.1638332801 5247603.2376099238 at 2447841.1638332801 5247603.2376099238\n",
      "TopologyException: Input geom 1 is invalid: Ring Self-intersection at or near point 2441319.3069057972 5242676.4000397054 at 2441319.3069057972 5242676.4000397054\n",
      "TopologyException: Input geom 1 is invalid: Ring Self-intersection at or near point 2437526.7053229678 5239947.1446950529 at 2437526.7053229678 5239947.1446950529\n",
      "TopologyException: Input geom 1 is invalid: Ring Self-intersection at or near point 2501859.152732648 5235481.090494711 at 2501859.152732648 5235481.090494711\n",
      "TopologyException: Input geom 1 is invalid: Ring Self-intersection at or near point 2456950.4966069926 5216837.0864520157 at 2456950.4966069926 5216837.0864520157\n",
      "TopologyException: Input geom 1 is invalid: Ring Self-intersection at or near point 2416401.5600578603 5208897.4345402978 at 2416401.5600578603 5208897.4345402978\n",
      "TopologyException: Input geom 1 is invalid: Ring Self-intersection at or near point 2414841.9855752015 5207302.4151830329 at 2414841.9855752015 5207302.4151830329\n",
      "TopologyException: Input geom 1 is invalid: Ring Self-intersection at or near point 2411297.4981146134 5207054.3010607921 at 2411297.4981146134 5207054.3010607921\n"
     ]
    },
    {
     "name": "stdout",
     "output_type": "stream",
     "text": [
      "CPU times: user 1h 54min 14s, sys: 40.4 s, total: 1h 54min 55s\n",
      "Wall time: 1h 54min 42s\n"
     ]
    },
    {
     "data": {
      "text/html": [
       "<div>\n",
       "<style scoped>\n",
       "    .dataframe tbody tr th:only-of-type {\n",
       "        vertical-align: middle;\n",
       "    }\n",
       "\n",
       "    .dataframe tbody tr th {\n",
       "        vertical-align: top;\n",
       "    }\n",
       "\n",
       "    .dataframe thead th {\n",
       "        text-align: right;\n",
       "    }\n",
       "</style>\n",
       "<table border=\"1\" class=\"dataframe\">\n",
       "  <thead>\n",
       "    <tr style=\"text-align: right;\">\n",
       "      <th></th>\n",
       "      <th>geometry</th>\n",
       "      <th>old</th>\n",
       "      <th>total</th>\n",
       "      <th>LEI</th>\n",
       "    </tr>\n",
       "  </thead>\n",
       "  <tbody>\n",
       "    <tr>\n",
       "      <th>0</th>\n",
       "      <td>POLYGON ((2191822.834554977 5811637.527213363,...</td>\n",
       "      <td>5</td>\n",
       "      <td>264</td>\n",
       "      <td>0.018939</td>\n",
       "    </tr>\n",
       "    <tr>\n",
       "      <th>1</th>\n",
       "      <td>POLYGON ((2191929.169178794 5811637.527213363,...</td>\n",
       "      <td>5</td>\n",
       "      <td>248</td>\n",
       "      <td>0.020161</td>\n",
       "    </tr>\n",
       "    <tr>\n",
       "      <th>2</th>\n",
       "      <td>POLYGON ((2225318.241057537 5810148.842479915,...</td>\n",
       "      <td>6</td>\n",
       "      <td>264</td>\n",
       "      <td>0.022727</td>\n",
       "    </tr>\n",
       "    <tr>\n",
       "      <th>3</th>\n",
       "      <td>POLYGON ((2225176.461559114 5809971.618106886,...</td>\n",
       "      <td>8</td>\n",
       "      <td>341</td>\n",
       "      <td>0.023460</td>\n",
       "    </tr>\n",
       "    <tr>\n",
       "      <th>4</th>\n",
       "      <td>POLYGON ((2225105.571809902 5809900.728357675,...</td>\n",
       "      <td>9</td>\n",
       "      <td>248</td>\n",
       "      <td>0.036290</td>\n",
       "    </tr>\n",
       "  </tbody>\n",
       "</table>\n",
       "</div>"
      ],
      "text/plain": [
       "                                            geometry  old  total       LEI\n",
       "0  POLYGON ((2191822.834554977 5811637.527213363,...    5    264  0.018939\n",
       "1  POLYGON ((2191929.169178794 5811637.527213363,...    5    248  0.020161\n",
       "2  POLYGON ((2225318.241057537 5810148.842479915,...    6    264  0.022727\n",
       "3  POLYGON ((2225176.461559114 5809971.618106886,...    8    341  0.023460\n",
       "4  POLYGON ((2225105.571809902 5809900.728357675,...    9    248  0.036290"
      ]
     },
     "execution_count": 230,
     "metadata": {},
     "output_type": "execute_result"
    }
   ],
   "source": [
    "%%time\n",
    "# This calculates the change from 1990 and 2000\n",
    "lei_raw = lei.calculate_LEI(input_wsf, old_list = list(range(1985,2001)), new_list=list(range(2001,2016)))\n",
    "lei_00_14 = pd.DataFrame(lei_raw, columns=['geometry', 'old', 'total'])\n",
    "lei_00_14['LEI'] = lei_00_14['old'] / lei_00_14['total']      \n",
    "lei_00_14.head()"
   ]
  },
  {
   "cell_type": "code",
   "execution_count": 231,
   "metadata": {},
   "outputs": [],
   "source": [
    "summary_00_14 = lei.summarize_LEI(lei_00_14, leap_val=0.05, exp_val=0.75)"
   ]
  },
  {
   "cell_type": "code",
   "execution_count": 232,
   "metadata": {},
   "outputs": [],
   "source": [
    "lei_90_00.to_csv(os.path.join(out_dir, \"lei_85_00_wsf.csv\"))\n",
    "lei_00_14.to_csv(os.path.join(out_dir, \"lei_00_15_wsf.csv\"))"
   ]
  },
  {
   "cell_type": "code",
   "execution_count": 236,
   "metadata": {},
   "outputs": [],
   "source": [
    "summary_90_00.to_csv(os.path.join(out_dir, \"lei_summary_country_90_00.csv\"))"
   ]
  },
  {
   "cell_type": "code",
   "execution_count": 237,
   "metadata": {},
   "outputs": [],
   "source": [
    "summary_00_14.to_csv(os.path.join(out_dir, \"lei_summary_country_00_14.csv\"))"
   ]
  },
  {
   "cell_type": "markdown",
   "metadata": {},
   "source": [
    "## Calculate LEI only for cities"
   ]
  },
  {
   "cell_type": "code",
   "execution_count": 9,
   "metadata": {},
   "outputs": [],
   "source": [
    "urban_extents = gpd.read_file(os.path.join(out_dir, \"urban_extents.shp\"))"
   ]
  },
  {
   "cell_type": "code",
   "execution_count": 13,
   "metadata": {},
   "outputs": [],
   "source": [
    "urban_extents.set_index(\"ID\", inplace=True)"
   ]
  },
  {
   "cell_type": "code",
   "execution_count": 14,
   "metadata": {},
   "outputs": [],
   "source": [
    "ids = [522, 502, 573, 549, 579, 477, 558, 499, 518, 582]"
   ]
  },
  {
   "cell_type": "code",
   "execution_count": 17,
   "metadata": {},
   "outputs": [],
   "source": [
    "cities = urban_extents.loc[ids].copy()"
   ]
  },
  {
   "cell_type": "code",
   "execution_count": 20,
   "metadata": {},
   "outputs": [
    {
     "data": {
      "text/plain": [
       "<Geographic 2D CRS: EPSG:4326>\n",
       "Name: WGS 84\n",
       "Axis Info [ellipsoidal]:\n",
       "- Lat[north]: Geodetic latitude (degree)\n",
       "- Lon[east]: Geodetic longitude (degree)\n",
       "Area of Use:\n",
       "- name: World\n",
       "- bounds: (-180.0, -90.0, 180.0, 90.0)\n",
       "Datum: World Geodetic System 1984\n",
       "- Ellipsoid: WGS 84\n",
       "- Prime Meridian: Greenwich"
      ]
     },
     "execution_count": 20,
     "metadata": {},
     "output_type": "execute_result"
    }
   ],
   "source": [
    "cities.crs"
   ]
  },
  {
   "cell_type": "code",
   "execution_count": 61,
   "metadata": {},
   "outputs": [],
   "source": [
    "input_ghsl = os.path.join(out_dir, \"GHSL.tif\")\n",
    "input_wsf = os.path.join(data_dir, 'wsf', \"Serbia_WSFevolution_30m_merc.tif\")"
   ]
  },
  {
   "cell_type": "code",
   "execution_count": 62,
   "metadata": {},
   "outputs": [],
   "source": [
    "wsf = rio.open(input_wsf)"
   ]
  },
  {
   "cell_type": "code",
   "execution_count": 73,
   "metadata": {},
   "outputs": [],
   "source": [
    "cities = cities.to_crs(wsf.crs.to_string())"
   ]
  },
  {
   "cell_type": "code",
   "execution_count": 81,
   "metadata": {},
   "outputs": [],
   "source": [
    "row = cities.iloc[0]"
   ]
  },
  {
   "cell_type": "code",
   "execution_count": 99,
   "metadata": {},
   "outputs": [],
   "source": [
    "geometry = row['geometry']\n",
    "# get pixel coordinates of the geometry's bounding box\n",
    "ul = wsf.index(*geometry.bounds[0:2])\n",
    "lr = wsf.index(*geometry.bounds[2:4])\n",
    "window = ((float(lr[0]), float(ul[0]+1)), (float(ul[1]), float(lr[1]+1)))\n",
    "t = wsf.transform\n",
    "shifted_affine = Affine(t.a, t.b, t.c+ul[1]*t.a, t.d, t.e, t.f+lr[0]*t.e)"
   ]
  },
  {
   "cell_type": "code",
   "execution_count": 100,
   "metadata": {},
   "outputs": [],
   "source": [
    "wsf_ = wsf.read(1, window = window)"
   ]
  },
  {
   "cell_type": "code",
   "execution_count": 101,
   "metadata": {},
   "outputs": [
    {
     "data": {
      "image/png": "[encoded data removed]",
      "text/plain": [
       "<Figure size 432x288 with 1 Axes>"
      ]
     },
     "metadata": {
      "needs_background": "light"
     },
     "output_type": "display_data"
    },
    {
     "data": {
      "text/plain": [
       "<AxesSubplot:>"
      ]
     },
     "execution_count": 101,
     "metadata": {},
     "output_type": "execute_result"
    }
   ],
   "source": [
    "show(wsf_)"
   ]
  },
  {
   "cell_type": "code",
   "execution_count": 112,
   "metadata": {},
   "outputs": [],
   "source": [
    "wsf_clip = (wsf_, shifted_affine)"
   ]
  },
  {
   "cell_type": "code",
   "execution_count": 113,
   "metadata": {},
   "outputs": [
    {
     "data": {
      "text/plain": [
       "(1107, 1336)"
      ]
     },
     "execution_count": 113,
     "metadata": {},
     "output_type": "execute_result"
    }
   ],
   "source": [
    "wsf_clip[0].shape"
   ]
  },
  {
   "cell_type": "code",
   "execution_count": 139,
   "metadata": {},
   "outputs": [
    {
     "name": "stderr",
     "output_type": "stream",
     "text": [
      "TopologyException: Input geom 1 is invalid: Ring Self-intersection at or near point 2257112.2935790159 5608077.6123517687 at 2257112.2935790159 5608077.6123517687\n",
      "TopologyException: Input geom 1 is invalid: Ring Self-intersection at or near point 2256722.3999583512 5607829.4982295278 at 2256722.3999583512 5607829.4982295278\n",
      "TopologyException: Input geom 1 is invalid: Ring Self-intersection at or near point 2258069.3051933749 5607900.3879787391 at 2258069.3051933749 5607900.3879787391\n",
      "TopologyException: Input geom 1 is invalid: Ring Self-intersection at or near point 2255304.6049741157 5606305.3686214751 at 2255304.6049741157 5606305.3686214751\n",
      "TopologyException: Input geom 1 is invalid: Ring Self-intersection at or near point 2250732.2161499565 5605950.919875416 at 2250732.2161499565 5605950.919875416\n",
      "TopologyException: Input geom 1 is invalid: Ring Self-intersection at or near point 2253213.3573723687 5604887.5736372396 at 2253213.3573723687 5604887.5736372396\n",
      "TopologyException: Input geom 1 is invalid: Ring Self-intersection at or near point 2255446.3844725392 5605064.7980102682 at 2255446.3844725392 5605064.7980102682\n",
      "TopologyException: Input geom 1 is invalid: Ring Self-intersection at or near point 2260302.3322935454 5604639.4595149979 at 2260302.3322935454 5604639.4595149979\n",
      "TopologyException: Input geom 1 is invalid: Ring Self-intersection at or near point 2260763.1156634218 5604568.5697657866 at 2260763.1156634218 5604568.5697657866\n",
      "TopologyException: Input geom 1 is invalid: Ring Self-intersection at or near point 2276323.4156154054 5604249.5658943336 at 2276323.4156154054 5604249.5658943336\n",
      "TopologyException: Input geom 1 is invalid: Ring Self-intersection at or near point 2278237.4388441229 5604107.7863959102 at 2278237.4388441229 5604107.7863959102\n",
      "TopologyException: Input geom 1 is invalid: Ring Self-intersection at or near point 2251157.5546452273 5603966.0068974858 at 2251157.5546452273 5603966.0068974858\n",
      "TopologyException: Input geom 1 is invalid: Ring Self-intersection at or near point 2250023.3186578392 5603115.3299069451 at 2250023.3186578392 5603115.3299069451\n",
      "TopologyException: Input geom 1 is invalid: Ring Self-intersection at or near point 2279832.4582013879 5602973.5504085217 at 2279832.4582013879 5602973.5504085217\n",
      "TopologyException: Input geom 1 is invalid: Ring Self-intersection at or near point 2262180.9106476572 5602512.7670386452 at 2262180.9106476572 5602512.7670386452\n",
      "TopologyException: Input geom 1 is invalid: Ring Self-intersection at or near point 2261755.5721523869 5602264.6529164035 at 2261755.5721523869 5602264.6529164035\n",
      "TopologyException: Input geom 1 is invalid: Ring Self-intersection at or near point 2278166.5490949112 5600846.8579321681 at 2278166.5490949112 5600846.8579321681\n",
      "TopologyException: Input geom 1 is invalid: Ring Self-intersection at or near point 2278556.4427155759 5600917.7476813802 at 2278556.4427155759 5600917.7476813802\n",
      "TopologyException: Input geom 1 is invalid: Ring Self-intersection at or near point 2266044.4019796988 5599145.5039510857 at 2266044.4019796988 5599145.5039510857\n",
      "TopologyException: Input geom 1 is invalid: Ring Self-intersection at or near point 2263315.1466350458 5599110.0590764796 at 2263315.1466350458 5599110.0590764796\n",
      "TopologyException: Input geom 1 is invalid: Ring Self-intersection at or near point 2279159.0055838758 5598720.1654558154 at 2279159.0055838758 5598720.1654558154\n",
      "TopologyException: Input geom 1 is invalid: Ring Self-intersection at or near point 2278414.6632171525 5598401.1615843624 at 2278414.6632171525 5598401.1615843624\n",
      "TopologyException: Input geom 1 is invalid: Ring Self-intersection at or near point 2249385.3109149332 5598330.2718351502 at 2249385.3109149332 5598330.2718351502\n",
      "TopologyException: Input geom 1 is invalid: Ring Self-intersection at or near point 2277493.0964773996 5598046.7128383033 at 2277493.0964773996 5598046.7128383033\n",
      "TopologyException: Input geom 1 is invalid: Ring Self-intersection at or near point 2264803.8313684929 5597479.5948446095 at 2264803.8313684929 5597479.5948446095\n",
      "TopologyException: Input geom 1 is invalid: Ring Self-intersection at or near point 2265831.7327320636 5598613.830831998 at 2265831.7327320636 5598613.830831998\n",
      "TopologyException: Input geom 1 is invalid: Ring Self-intersection at or near point 2279229.895333088 5597231.4807223678 at 2279229.895333088 5597231.4807223678\n",
      "TopologyException: Input geom 1 is invalid: Ring Self-intersection at or near point 2271006.6844245228 5595884.5754873445 at 2271006.6844245228 5595884.5754873445\n",
      "TopologyException: Input geom 1 is invalid: Ring Self-intersection at or near point 2253567.8061184273 5595601.0164904976 at 2253567.8061184273 5595601.0164904976\n",
      "TopologyException: Input geom 1 is invalid: Ring Self-intersection at or near point 2287807.5549877118 5594360.4458792917 at 2287807.5549877118 5594360.4458792917\n",
      "TopologyException: Input geom 1 is invalid: Ring Self-intersection at or near point 2250661.3264007447 5592836.316271239 at 2250661.3264007447 5592836.316271239\n",
      "TopologyException: Input geom 1 is invalid: Ring Self-intersection at or near point 2286850.5433733528 5592588.2021489972 at 2286850.5433733528 5592588.2021489972\n",
      "TopologyException: Input geom 1 is invalid: Ring Self-intersection at or near point 2267036.8584686634 5592694.5367728146 at 2267036.8584686634 5592694.5367728146\n",
      "TopologyException: Input geom 1 is invalid: Ring Self-intersection at or near point 2286921.4331225646 5591737.5251584565 at 2286921.4331225646 5591737.5251584565\n",
      "TopologyException: Input geom 1 is invalid: Ring Self-intersection at or near point 2287665.7754892884 5591914.7495314851 at 2287665.7754892884 5591914.7495314851\n",
      "TopologyException: Input geom 1 is invalid: Ring Self-intersection at or near point 2265867.1776066693 5591241.296913974 at 2265867.1776066693 5591241.296913974\n",
      "TopologyException: Input geom 1 is invalid: Ring Self-intersection at or near point 2281321.1429348351 5591312.1866631852 at 2281321.1429348351 5591312.1866631852\n",
      "TopologyException: Input geom 1 is invalid: Ring Self-intersection at or near point 2265902.6224812753 5590886.8481679149 at 2265902.6224812753 5590886.8481679149\n",
      "TopologyException: Input geom 1 is invalid: Ring Self-intersection at or near point 2262641.6940175337 5590071.6160519794 at 2262641.6940175337 5590071.6160519794\n",
      "TopologyException: Input geom 1 is invalid: Ring Self-intersection at or near point 2262960.6978889867 5590284.285299615 at 2262960.6978889867 5590284.285299615\n",
      "TopologyException: Input geom 1 is invalid: Ring Self-intersection at or near point 2263386.0363842575 5590000.7263027681 at 2263386.0363842575 5590000.7263027681\n",
      "TopologyException: Input geom 1 is invalid: Ring Self-intersection at or near point 2260231.4425443336 5589788.0570551325 at 2260231.4425443336 5589788.0570551325\n",
      "TopologyException: Input geom 1 is invalid: Ring Self-intersection at or near point 2285184.6342668761 5589788.0570551325 at 2285184.6342668761 5589788.0570551325\n",
      "TopologyException: Input geom 1 is invalid: Ring Self-intersection at or near point 2257360.4077012572 5589929.8365535559 at 2257360.4077012572 5589929.8365535559\n",
      "TopologyException: Input geom 1 is invalid: Ring Self-intersection at or near point 2263811.3748795278 5589823.5019297386 at 2263811.3748795278 5589823.5019297386\n",
      "TopologyException: Input geom 1 is invalid: Ring Self-intersection at or near point 2266186.1814781222 5589965.281428162 at 2266186.1814781222 5589965.281428162\n",
      "TopologyException: Input geom 1 is invalid: Ring Self-intersection at or near point 2265512.7288606106 5589362.7185598621 at 2265512.7288606106 5589362.7185598621\n",
      "TopologyException: Input geom 1 is invalid: Ring Self-intersection at or near point 2259876.993798275 5589327.273685256 at 2259876.993798275 5589327.273685256\n",
      "TopologyException: Input geom 1 is invalid: Ring Self-intersection at or near point 2286602.4292511116 5589256.3839360438 at 2286602.4292511116 5589256.3839360438\n",
      "TopologyException: Input geom 1 is invalid: Ring Self-intersection at or near point 2276925.9784837053 5588937.3800645908 at 2276925.9784837053 5588937.3800645908\n",
      "TopologyException: Input geom 1 is invalid: Ring Self-intersection at or near point 2252220.9008834036 5587838.5889518084 at 2252220.9008834036 5587838.5889518084\n"
     ]
    },
    {
     "name": "stderr",
     "output_type": "stream",
     "text": [
      "TopologyException: Input geom 1 is invalid: Ring Self-intersection at or near point 2287382.216492441 5587519.5850803554 at 2287382.216492441 5587519.5850803554\n",
      "TopologyException: Input geom 1 is invalid: Ring Self-intersection at or near point 2251441.1136420742 5586030.9003469087 at 2251441.1136420742 5586030.9003469087\n",
      "TopologyException: Input geom 1 is invalid: Ring Self-intersection at or near point 2266895.07897024 5585676.4516008496 at 2266895.07897024 5585676.4516008496\n",
      "TopologyException: Input geom 1 is invalid: Ring Self-intersection at or near point 2287878.4447369236 5585853.6759738792 at 2287878.4447369236 5585853.6759738792\n",
      "TopologyException: Input geom 1 is invalid: Ring Self-intersection at or near point 2289402.5743449768 5585109.3336071558 at 2289402.5743449768 5585109.3336071558\n",
      "TopologyException: Input geom 1 is invalid: Ring Self-intersection at or near point 2284192.1777779115 5584790.3297357028 at 2284192.1777779115 5584790.3297357028\n",
      "TopologyException: Input geom 1 is invalid: Ring Self-intersection at or near point 2282419.9340476175 5584683.9951118855 at 2282419.9340476175 5584683.9951118855\n",
      "TopologyException: Input geom 1 is invalid: Ring Self-intersection at or near point 2273948.609016811 5583407.9796260735 at 2273948.609016811 5583407.9796260735\n",
      "TopologyException: Input geom 1 is invalid: Ring Self-intersection at or near point 2288941.7909751004 5583159.8655038318 at 2288941.7909751004 5583159.8655038318\n",
      "TopologyException: Input geom 1 is invalid: Ring Self-intersection at or near point 2284971.965019241 5582273.743638685 at 2284971.965019241 5582273.743638685\n",
      "TopologyException: Input geom 1 is invalid: Ring Self-intersection at or near point 2292734.3925579297 5582344.6333878972 at 2292734.3925579297 5582344.6333878972\n",
      "TopologyException: Input geom 1 is invalid: Ring Self-intersection at or near point 2270687.6805530698 5582380.0782625023 at 2270687.6805530698 5582380.0782625023\n",
      "TopologyException: Input geom 1 is invalid: Ring Self-intersection at or near point 2283873.1739064585 5582096.5192656554 at 2283873.1739064585 5582096.5192656554\n",
      "TopologyException: Input geom 1 is invalid: Ring Self-intersection at or near point 2292663.502808718 5581706.6256449912 at 2292663.502808718 5581706.6256449912\n",
      "TopologyException: Input geom 1 is invalid: Ring Self-intersection at or near point 2283802.2841572468 5581493.9563973555 at 2283802.2841572468 5581493.9563973555\n",
      "TopologyException: Input geom 1 is invalid: Ring Self-intersection at or near point 2270014.2279355577 5581033.1730274791 at 2270014.2279355577 5581033.1730274791\n",
      "TopologyException: Input geom 1 is invalid: Ring Self-intersection at or near point 2280576.8005681112 5581458.5115227494 at 2280576.8005681112 5581458.5115227494\n",
      "TopologyException: Input geom 1 is invalid: Ring Self-intersection at or near point 2274692.9513835344 5580288.8306607557 at 2274692.9513835344 5580288.8306607557\n",
      "TopologyException: Input geom 1 is invalid: Ring Self-intersection at or near point 2280718.5800665352 5580395.1652845731 at 2280718.5800665352 5580395.1652845731\n",
      "TopologyException: Input geom 1 is invalid: Ring Self-intersection at or near point 2282171.8199253762 5580147.0511623323 at 2282171.8199253762 5580147.0511623323\n",
      "TopologyException: Input geom 1 is invalid: Ring Self-intersection at or near point 2278343.7734679407 5579863.4921654845 at 2278343.7734679407 5579863.4921654845\n",
      "TopologyException: Input geom 1 is invalid: Ring Self-intersection at or near point 2276855.0887344936 5578693.8113034908 at 2276855.0887344936 5578693.8113034908\n",
      "TopologyException: Input geom 1 is invalid: Ring Self-intersection at or near point 2280470.4659442939 5578339.3625574317 at 2280470.4659442939 5578339.3625574317\n",
      "TopologyException: Input geom 1 is invalid: Ring Self-intersection at or near point 2281462.9224332585 5574830.3199714497 at 2281462.9224332585 5574830.3199714497\n",
      "TopologyException: Input geom 1 is invalid: Ring Self-intersection at or near point 2282384.4891730114 5574511.3160999967 at 2282384.4891730114 5574511.3160999967\n",
      "TopologyException: Input geom 1 is invalid: Ring Self-intersection at or near point 2249739.7596609918 5571037.7183886198 at 2249739.7596609918 5571037.7183886198\n"
     ]
    },
    {
     "data": {
      "text/html": [
       "<div>\n",
       "<style scoped>\n",
       "    .dataframe tbody tr th:only-of-type {\n",
       "        vertical-align: middle;\n",
       "    }\n",
       "\n",
       "    .dataframe tbody tr th {\n",
       "        vertical-align: top;\n",
       "    }\n",
       "\n",
       "    .dataframe thead th {\n",
       "        text-align: right;\n",
       "    }\n",
       "</style>\n",
       "<table border=\"1\" class=\"dataframe\">\n",
       "  <thead>\n",
       "    <tr style=\"text-align: right;\">\n",
       "      <th></th>\n",
       "      <th>geometry</th>\n",
       "      <th>old</th>\n",
       "      <th>total</th>\n",
       "      <th>LEI</th>\n",
       "    </tr>\n",
       "  </thead>\n",
       "  <tbody>\n",
       "    <tr>\n",
       "      <th>0</th>\n",
       "      <td>POLYGON ((2275437.293750258 5609637.186834428,...</td>\n",
       "      <td>92</td>\n",
       "      <td>179</td>\n",
       "      <td>0.513966</td>\n",
       "    </tr>\n",
       "    <tr>\n",
       "      <th>1</th>\n",
       "      <td>POLYGON ((2260054.218171304 5609601.741959821,...</td>\n",
       "      <td>2</td>\n",
       "      <td>166</td>\n",
       "      <td>0.012048</td>\n",
       "    </tr>\n",
       "    <tr>\n",
       "      <th>2</th>\n",
       "      <td>POLYGON ((2275579.073248682 5609601.741959821,...</td>\n",
       "      <td>89</td>\n",
       "      <td>166</td>\n",
       "      <td>0.536145</td>\n",
       "    </tr>\n",
       "    <tr>\n",
       "      <th>3</th>\n",
       "      <td>POLYGON ((2275791.742496317 5609601.741959821,...</td>\n",
       "      <td>45</td>\n",
       "      <td>166</td>\n",
       "      <td>0.271084</td>\n",
       "    </tr>\n",
       "    <tr>\n",
       "      <th>4</th>\n",
       "      <td>POLYGON ((2274799.286007352 5609566.297085216,...</td>\n",
       "      <td>0</td>\n",
       "      <td>221</td>\n",
       "      <td>0.000000</td>\n",
       "    </tr>\n",
       "  </tbody>\n",
       "</table>\n",
       "</div>"
      ],
      "text/plain": [
       "                                            geometry  old  total       LEI\n",
       "0  POLYGON ((2275437.293750258 5609637.186834428,...   92    179  0.513966\n",
       "1  POLYGON ((2260054.218171304 5609601.741959821,...    2    166  0.012048\n",
       "2  POLYGON ((2275579.073248682 5609601.741959821,...   89    166  0.536145\n",
       "3  POLYGON ((2275791.742496317 5609601.741959821,...   45    166  0.271084\n",
       "4  POLYGON ((2274799.286007352 5609566.297085216,...    0    221  0.000000"
      ]
     },
     "execution_count": 139,
     "metadata": {},
     "output_type": "execute_result"
    }
   ],
   "source": [
    "# This calculates the change from 1990 and 2000\n",
    "lei_raw = lei.calculate_LEI(wsf_clip, old_list = list(range(1985,1991)), new_list=list(range(1991,2001)))\n",
    "lei_90_00 = pd.DataFrame(lei_raw, columns=['geometry', 'old', 'total'])\n",
    "lei_90_00['LEI'] = lei_90_00['old'] / lei_90_00['total']      \n",
    "lei_90_00.head()"
   ]
  },
  {
   "cell_type": "code",
   "execution_count": 150,
   "metadata": {},
   "outputs": [],
   "source": [
    "lei_90_00[\"city\"] = \"Belgrade\""
   ]
  },
  {
   "cell_type": "code",
   "execution_count": 153,
   "metadata": {},
   "outputs": [],
   "source": [
    "summary = lei.summarize_LEI(lei_90_00, leap_val=0.05, exp_val=0.75)/1000000"
   ]
  },
  {
   "cell_type": "code",
   "execution_count": 179,
   "metadata": {
    "scrolled": true
   },
   "outputs": [
    {
     "name": "stderr",
     "output_type": "stream",
     "text": [
      "TopologyException: Input geom 1 is invalid: Ring Self-intersection at or near point 2257112.2935790159 5608077.6123517687 at 2257112.2935790159 5608077.6123517687\n",
      "TopologyException: Input geom 1 is invalid: Ring Self-intersection at or near point 2256722.3999583512 5607829.4982295278 at 2256722.3999583512 5607829.4982295278\n",
      "TopologyException: Input geom 1 is invalid: Ring Self-intersection at or near point 2258069.3051933749 5607900.3879787391 at 2258069.3051933749 5607900.3879787391\n",
      "TopologyException: Input geom 1 is invalid: Ring Self-intersection at or near point 2255304.6049741157 5606305.3686214751 at 2255304.6049741157 5606305.3686214751\n",
      "TopologyException: Input geom 1 is invalid: Ring Self-intersection at or near point 2250732.2161499565 5605950.919875416 at 2250732.2161499565 5605950.919875416\n",
      "TopologyException: Input geom 1 is invalid: Ring Self-intersection at or near point 2253213.3573723687 5604887.5736372396 at 2253213.3573723687 5604887.5736372396\n",
      "TopologyException: Input geom 1 is invalid: Ring Self-intersection at or near point 2255446.3844725392 5605064.7980102682 at 2255446.3844725392 5605064.7980102682\n",
      "TopologyException: Input geom 1 is invalid: Ring Self-intersection at or near point 2260302.3322935454 5604639.4595149979 at 2260302.3322935454 5604639.4595149979\n",
      "TopologyException: Input geom 1 is invalid: Ring Self-intersection at or near point 2260763.1156634218 5604568.5697657866 at 2260763.1156634218 5604568.5697657866\n",
      "TopologyException: Input geom 1 is invalid: Ring Self-intersection at or near point 2276323.4156154054 5604249.5658943336 at 2276323.4156154054 5604249.5658943336\n",
      "TopologyException: Input geom 1 is invalid: Ring Self-intersection at or near point 2278237.4388441229 5604107.7863959102 at 2278237.4388441229 5604107.7863959102\n",
      "TopologyException: Input geom 1 is invalid: Ring Self-intersection at or near point 2251157.5546452273 5603966.0068974858 at 2251157.5546452273 5603966.0068974858\n",
      "TopologyException: Input geom 1 is invalid: Ring Self-intersection at or near point 2250023.3186578392 5603115.3299069451 at 2250023.3186578392 5603115.3299069451\n",
      "TopologyException: Input geom 1 is invalid: Ring Self-intersection at or near point 2279832.4582013879 5602973.5504085217 at 2279832.4582013879 5602973.5504085217\n",
      "TopologyException: Input geom 1 is invalid: Ring Self-intersection at or near point 2262180.9106476572 5602512.7670386452 at 2262180.9106476572 5602512.7670386452\n",
      "TopologyException: Input geom 1 is invalid: Ring Self-intersection at or near point 2261755.5721523869 5602264.6529164035 at 2261755.5721523869 5602264.6529164035\n",
      "TopologyException: Input geom 1 is invalid: Ring Self-intersection at or near point 2278166.5490949112 5600846.8579321681 at 2278166.5490949112 5600846.8579321681\n",
      "TopologyException: Input geom 1 is invalid: Ring Self-intersection at or near point 2278556.4427155759 5600917.7476813802 at 2278556.4427155759 5600917.7476813802\n",
      "TopologyException: Input geom 1 is invalid: Ring Self-intersection at or near point 2266044.4019796988 5599145.5039510857 at 2266044.4019796988 5599145.5039510857\n",
      "TopologyException: Input geom 1 is invalid: Ring Self-intersection at or near point 2263315.1466350458 5599110.0590764796 at 2263315.1466350458 5599110.0590764796\n",
      "TopologyException: Input geom 1 is invalid: Ring Self-intersection at or near point 2279159.0055838758 5598720.1654558154 at 2279159.0055838758 5598720.1654558154\n",
      "TopologyException: Input geom 1 is invalid: Ring Self-intersection at or near point 2278414.6632171525 5598401.1615843624 at 2278414.6632171525 5598401.1615843624\n",
      "TopologyException: Input geom 1 is invalid: Ring Self-intersection at or near point 2249385.3109149332 5598330.2718351502 at 2249385.3109149332 5598330.2718351502\n",
      "TopologyException: Input geom 1 is invalid: Ring Self-intersection at or near point 2277493.0964773996 5598046.7128383033 at 2277493.0964773996 5598046.7128383033\n",
      "TopologyException: Input geom 1 is invalid: Ring Self-intersection at or near point 2264803.8313684929 5597479.5948446095 at 2264803.8313684929 5597479.5948446095\n",
      "TopologyException: Input geom 1 is invalid: Ring Self-intersection at or near point 2265831.7327320636 5598613.830831998 at 2265831.7327320636 5598613.830831998\n",
      "TopologyException: Input geom 1 is invalid: Ring Self-intersection at or near point 2279229.895333088 5597231.4807223678 at 2279229.895333088 5597231.4807223678\n",
      "TopologyException: Input geom 1 is invalid: Ring Self-intersection at or near point 2271006.6844245228 5595884.5754873445 at 2271006.6844245228 5595884.5754873445\n",
      "TopologyException: Input geom 1 is invalid: Ring Self-intersection at or near point 2253567.8061184273 5595601.0164904976 at 2253567.8061184273 5595601.0164904976\n",
      "TopologyException: Input geom 1 is invalid: Ring Self-intersection at or near point 2287807.5549877118 5594360.4458792917 at 2287807.5549877118 5594360.4458792917\n",
      "TopologyException: Input geom 1 is invalid: Ring Self-intersection at or near point 2250661.3264007447 5592836.316271239 at 2250661.3264007447 5592836.316271239\n",
      "TopologyException: Input geom 1 is invalid: Ring Self-intersection at or near point 2286850.5433733528 5592588.2021489972 at 2286850.5433733528 5592588.2021489972\n",
      "TopologyException: Input geom 1 is invalid: Ring Self-intersection at or near point 2267036.8584686634 5592694.5367728146 at 2267036.8584686634 5592694.5367728146\n",
      "TopologyException: Input geom 1 is invalid: Ring Self-intersection at or near point 2286921.4331225646 5591737.5251584565 at 2286921.4331225646 5591737.5251584565\n",
      "TopologyException: Input geom 1 is invalid: Ring Self-intersection at or near point 2287665.7754892884 5591914.7495314851 at 2287665.7754892884 5591914.7495314851\n",
      "TopologyException: Input geom 1 is invalid: Ring Self-intersection at or near point 2265867.1776066693 5591241.296913974 at 2265867.1776066693 5591241.296913974\n",
      "TopologyException: Input geom 1 is invalid: Ring Self-intersection at or near point 2281321.1429348351 5591312.1866631852 at 2281321.1429348351 5591312.1866631852\n",
      "TopologyException: Input geom 1 is invalid: Ring Self-intersection at or near point 2265902.6224812753 5590886.8481679149 at 2265902.6224812753 5590886.8481679149\n",
      "TopologyException: Input geom 1 is invalid: Ring Self-intersection at or near point 2262641.6940175337 5590071.6160519794 at 2262641.6940175337 5590071.6160519794\n",
      "TopologyException: Input geom 1 is invalid: Ring Self-intersection at or near point 2262960.6978889867 5590284.285299615 at 2262960.6978889867 5590284.285299615\n",
      "TopologyException: Input geom 1 is invalid: Ring Self-intersection at or near point 2263386.0363842575 5590000.7263027681 at 2263386.0363842575 5590000.7263027681\n",
      "TopologyException: Input geom 1 is invalid: Ring Self-intersection at or near point 2260231.4425443336 5589788.0570551325 at 2260231.4425443336 5589788.0570551325\n",
      "TopologyException: Input geom 1 is invalid: Ring Self-intersection at or near point 2285184.6342668761 5589788.0570551325 at 2285184.6342668761 5589788.0570551325\n",
      "TopologyException: Input geom 1 is invalid: Ring Self-intersection at or near point 2257360.4077012572 5589929.8365535559 at 2257360.4077012572 5589929.8365535559\n",
      "TopologyException: Input geom 1 is invalid: Ring Self-intersection at or near point 2263811.3748795278 5589823.5019297386 at 2263811.3748795278 5589823.5019297386\n",
      "TopologyException: Input geom 1 is invalid: Ring Self-intersection at or near point 2266186.1814781222 5589965.281428162 at 2266186.1814781222 5589965.281428162\n",
      "TopologyException: Input geom 1 is invalid: Ring Self-intersection at or near point 2265512.7288606106 5589362.7185598621 at 2265512.7288606106 5589362.7185598621\n",
      "TopologyException: Input geom 1 is invalid: Ring Self-intersection at or near point 2259876.993798275 5589327.273685256 at 2259876.993798275 5589327.273685256\n",
      "TopologyException: Input geom 1 is invalid: Ring Self-intersection at or near point 2286602.4292511116 5589256.3839360438 at 2286602.4292511116 5589256.3839360438\n",
      "TopologyException: Input geom 1 is invalid: Ring Self-intersection at or near point 2276925.9784837053 5588937.3800645908 at 2276925.9784837053 5588937.3800645908\n",
      "TopologyException: Input geom 1 is invalid: Ring Self-intersection at or near point 2252220.9008834036 5587838.5889518084 at 2252220.9008834036 5587838.5889518084\n"
     ]
    },
    {
     "name": "stderr",
     "output_type": "stream",
     "text": [
      "TopologyException: Input geom 1 is invalid: Ring Self-intersection at or near point 2287382.216492441 5587519.5850803554 at 2287382.216492441 5587519.5850803554\n",
      "TopologyException: Input geom 1 is invalid: Ring Self-intersection at or near point 2251441.1136420742 5586030.9003469087 at 2251441.1136420742 5586030.9003469087\n",
      "TopologyException: Input geom 1 is invalid: Ring Self-intersection at or near point 2266895.07897024 5585676.4516008496 at 2266895.07897024 5585676.4516008496\n",
      "TopologyException: Input geom 1 is invalid: Ring Self-intersection at or near point 2287878.4447369236 5585853.6759738792 at 2287878.4447369236 5585853.6759738792\n",
      "TopologyException: Input geom 1 is invalid: Ring Self-intersection at or near point 2289402.5743449768 5585109.3336071558 at 2289402.5743449768 5585109.3336071558\n",
      "TopologyException: Input geom 1 is invalid: Ring Self-intersection at or near point 2284192.1777779115 5584790.3297357028 at 2284192.1777779115 5584790.3297357028\n",
      "TopologyException: Input geom 1 is invalid: Ring Self-intersection at or near point 2282419.9340476175 5584683.9951118855 at 2282419.9340476175 5584683.9951118855\n",
      "TopologyException: Input geom 1 is invalid: Ring Self-intersection at or near point 2273948.609016811 5583407.9796260735 at 2273948.609016811 5583407.9796260735\n",
      "TopologyException: Input geom 1 is invalid: Ring Self-intersection at or near point 2288941.7909751004 5583159.8655038318 at 2288941.7909751004 5583159.8655038318\n",
      "TopologyException: Input geom 1 is invalid: Ring Self-intersection at or near point 2284971.965019241 5582273.743638685 at 2284971.965019241 5582273.743638685\n",
      "TopologyException: Input geom 1 is invalid: Ring Self-intersection at or near point 2292734.3925579297 5582344.6333878972 at 2292734.3925579297 5582344.6333878972\n",
      "TopologyException: Input geom 1 is invalid: Ring Self-intersection at or near point 2270687.6805530698 5582380.0782625023 at 2270687.6805530698 5582380.0782625023\n",
      "TopologyException: Input geom 1 is invalid: Ring Self-intersection at or near point 2283873.1739064585 5582096.5192656554 at 2283873.1739064585 5582096.5192656554\n",
      "TopologyException: Input geom 1 is invalid: Ring Self-intersection at or near point 2292663.502808718 5581706.6256449912 at 2292663.502808718 5581706.6256449912\n",
      "TopologyException: Input geom 1 is invalid: Ring Self-intersection at or near point 2283802.2841572468 5581493.9563973555 at 2283802.2841572468 5581493.9563973555\n",
      "TopologyException: Input geom 1 is invalid: Ring Self-intersection at or near point 2270014.2279355577 5581033.1730274791 at 2270014.2279355577 5581033.1730274791\n",
      "TopologyException: Input geom 1 is invalid: Ring Self-intersection at or near point 2280576.8005681112 5581458.5115227494 at 2280576.8005681112 5581458.5115227494\n",
      "TopologyException: Input geom 1 is invalid: Ring Self-intersection at or near point 2274692.9513835344 5580288.8306607557 at 2274692.9513835344 5580288.8306607557\n",
      "TopologyException: Input geom 1 is invalid: Ring Self-intersection at or near point 2280718.5800665352 5580395.1652845731 at 2280718.5800665352 5580395.1652845731\n",
      "TopologyException: Input geom 1 is invalid: Ring Self-intersection at or near point 2282171.8199253762 5580147.0511623323 at 2282171.8199253762 5580147.0511623323\n",
      "TopologyException: Input geom 1 is invalid: Ring Self-intersection at or near point 2278343.7734679407 5579863.4921654845 at 2278343.7734679407 5579863.4921654845\n",
      "TopologyException: Input geom 1 is invalid: Ring Self-intersection at or near point 2276855.0887344936 5578693.8113034908 at 2276855.0887344936 5578693.8113034908\n",
      "TopologyException: Input geom 1 is invalid: Ring Self-intersection at or near point 2280470.4659442939 5578339.3625574317 at 2280470.4659442939 5578339.3625574317\n",
      "TopologyException: Input geom 1 is invalid: Ring Self-intersection at or near point 2281462.9224332585 5574830.3199714497 at 2281462.9224332585 5574830.3199714497\n",
      "TopologyException: Input geom 1 is invalid: Ring Self-intersection at or near point 2282384.4891730114 5574511.3160999967 at 2282384.4891730114 5574511.3160999967\n",
      "TopologyException: Input geom 1 is invalid: Ring Self-intersection at or near point 2249739.7596609918 5571037.7183886198 at 2249739.7596609918 5571037.7183886198\n",
      "TopologyException: Input geom 1 is invalid: Ring Self-intersection at or near point 2196147.1092568943 5667412.3324420182 at 2196147.1092568943 5667412.3324420182\n",
      "TopologyException: Input geom 1 is invalid: Ring Self-intersection at or near point 2196466.1131283473 5667305.9978182008 at 2196466.1131283473 5667305.9978182008\n",
      "TopologyException: Input geom 1 is invalid: Ring Self-intersection at or near point 2436924.1424546675 5364890.3276807955 at 2436924.1424546675 5364890.3276807955\n",
      "TopologyException: Input geom 1 is invalid: Ring Self-intersection at or near point 2433627.7691163202 5364571.3238093425 at 2433627.7691163202 5364571.3238093425\n",
      "TopologyException: Input geom 1 is invalid: Ring Self-intersection at or near point 2433166.9857464437 5364252.3199378895 at 2433166.9857464437 5364252.3199378895\n",
      "TopologyException: Input geom 1 is invalid: Ring Self-intersection at or near point 2436498.8039593967 5363366.1980727427 at 2436498.8039593967 5363366.1980727427\n",
      "TopologyException: Input geom 1 is invalid: Ring Self-intersection at or near point 2441921.8697740971 5361948.4030885072 at 2441921.8697740971 5361948.4030885072\n",
      "TopologyException: Input geom 1 is invalid: Ring Self-intersection at or near point 2443020.6608868795 5361416.7299694186 at 2443020.6608868795 5361416.7299694186\n",
      "TopologyException: Input geom 1 is invalid: Ring Self-intersection at or near point 2325662.6810667962 5471437.6207460836 at 2325662.6810667962 5471437.6207460836\n",
      "TopologyException: Input geom 1 is invalid: Ring Self-intersection at or near point 2325627.2361921906 5470764.1681285715 at 2325627.2361921906 5470764.1681285715\n",
      "TopologyException: Input geom 1 is invalid: Ring Self-intersection at or near point 2321905.5243585724 5468921.0346490657 at 2321905.5243585724 5468921.0346490657\n",
      "TopologyException: Input geom 1 is invalid: Ring Self-intersection at or near point 2281321.1429348346 5329587.2325733341 at 2281321.1429348346 5329587.2325733341\n",
      "TopologyException: Input geom 1 is invalid: Ring Self-intersection at or near point 2185832.6507465821 5801854.7418221384 at 2185832.6507465821 5801854.7418221384\n",
      "TopologyException: Input geom 1 is invalid: Ring Self-intersection at or near point 2198947.2543507596 5796077.2272613794 at 2198947.2543507596 5796077.2272613794\n",
      "TopologyException: Input geom 1 is invalid: Ring Self-intersection at or near point 2301808.2804570361 5422311.0245423289 at 2301808.2804570361 5422311.0245423289\n",
      "TopologyException: Input geom 1 is invalid: Ring Self-intersection at or near point 2186647.8828625176 5585747.3413500618 at 2186647.8828625176 5585747.3413500618\n",
      "TopologyException: Input geom 1 is invalid: Ring Self-intersection at or near point 2187853.0085991179 5584010.5424943734 at 2187853.0085991179 5584010.5424943734\n",
      "TopologyException: Input geom 1 is invalid: Ring Self-intersection at or near point 2441567.4210280385 5312680.0273863273 at 2441567.4210280385 5312680.0273863273\n",
      "TopologyException: Input geom 1 is invalid: Ring Self-intersection at or near point 2440610.40941368 5312112.9093926335 at 2440610.40941368 5312112.9093926335\n",
      "TopologyException: Input geom 1 is invalid: Ring Self-intersection at or near point 2440397.7401660443 5310730.5592830041 at 2440397.7401660443 5310730.5592830041\n",
      "TopologyException: Input geom 1 is invalid: Ring Self-intersection at or near point 2438448.2720627207 5309064.650176527 at 2438448.2720627207 5309064.650176527\n",
      "TopologyException: Input geom 1 is invalid: Ring Self-intersection at or near point 2444970.1289902036 5309029.2053019218 at 2444970.1289902036 5309029.2053019218\n"
     ]
    }
   ],
   "source": [
    "lei_90_00_res = []\n",
    "lei_90_00_sum = []\n",
    "\n",
    "for idx, row in cities.iterrows():\n",
    "    geometry = row['geometry']\n",
    "    # get pixel coordinates of the geometry's bounding box\n",
    "    ul = wsf.index(*geometry.bounds[0:2])\n",
    "    lr = wsf.index(*geometry.bounds[2:4])\n",
    "    window = ((float(lr[0]), float(ul[0]+1)), (float(ul[1]), float(lr[1]+1)))\n",
    "    t = wsf.transform\n",
    "    shifted_affine = Affine(t.a, t.b, t.c+ul[1]*t.a, t.d, t.e, t.f+lr[0]*t.e)\n",
    "    wsf_ = wsf.read(1, window = window)\n",
    "    wsf_clip = (wsf_, shifted_affine)\n",
    "    \n",
    "    # This calculates the change from 1990 and 2000\n",
    "    lei_raw = lei.calculate_LEI(wsf_clip, old_list = list(range(1985,1991)), new_list=list(range(1991,2001)))\n",
    "    lei_90_00 = pd.DataFrame(lei_raw, columns=['geometry', 'old', 'total'])\n",
    "    lei_90_00['LEI'] = lei_90_00['old'] / lei_90_00['total']\n",
    "    lei_90_00['city'] = row.city\n",
    "    lei_90_00_res.append(lei_90_00)\n",
    "    \n",
    "    summary = lei.summarize_LEI(lei_90_00, leap_val=0.05, exp_val=0.75)\n",
    "    summary.name = row.city\n",
    "    lei_90_00_sum.append(summary)"
   ]
  },
  {
   "cell_type": "code",
   "execution_count": 197,
   "metadata": {},
   "outputs": [],
   "source": [
    "summary1 = pd.DataFrame(lei_90_00_sum)/1000000\n",
    "summary1.columns.name = \"1985 to 2000\""
   ]
  },
  {
   "cell_type": "code",
   "execution_count": 188,
   "metadata": {},
   "outputs": [
    {
     "name": "stderr",
     "output_type": "stream",
     "text": [
      "TopologyException: Input geom 1 is invalid: Ring Self-intersection at or near point 2256722.3999583512 5608538.3957216451 at 2256722.3999583512 5608538.3957216451\n",
      "TopologyException: Input geom 1 is invalid: Ring Self-intersection at or near point 2255127.3806010862 5607581.3841072861 at 2255127.3806010862 5607581.3841072861\n",
      "TopologyException: Input geom 1 is invalid: Ring Self-intersection at or near point 2256616.0653345333 5606837.0417405628 at 2256616.0653345333 5606837.0417405628\n",
      "TopologyException: Input geom 1 is invalid: Ring Self-intersection at or near point 2250519.5469023213 5606128.1442484455 at 2250519.5469023213 5606128.1442484455\n",
      "TopologyException: Input geom 1 is invalid: Ring Self-intersection at or near point 2250271.43278008 5605667.3608785691 at 2250271.43278008 5605667.3608785691\n",
      "TopologyException: Input geom 1 is invalid: Ring Self-intersection at or near point 2251122.1097706216 5605348.3570071161 at 2251122.1097706216 5605348.3570071161\n",
      "TopologyException: Input geom 1 is invalid: Ring Self-intersection at or near point 2260160.5527951219 5605064.7980102682 at 2260160.5527951219 5605064.7980102682\n",
      "TopologyException: Input geom 1 is invalid: Ring Self-intersection at or near point 2253426.0266200039 5605135.6877594804 at 2253426.0266200039 5605135.6877594804\n",
      "TopologyException: Input geom 1 is invalid: Ring Self-intersection at or near point 2256722.3999583512 5604852.1287626335 at 2256722.3999583512 5604852.1287626335\n",
      "TopologyException: Input geom 1 is invalid: Ring Self-intersection at or near point 2251724.6726389215 5604887.5736372396 at 2251724.6726389215 5604887.5736372396\n",
      "TopologyException: Input geom 1 is invalid: Ring Self-intersection at or near point 2255907.1678424156 5604674.904389604 at 2255907.1678424156 5604674.904389604\n",
      "TopologyException: Input geom 1 is invalid: Ring Self-intersection at or near point 2251724.6726389215 5604214.1210197276 at 2251724.6726389215 5604214.1210197276\n",
      "TopologyException: Input geom 1 is invalid: Ring Self-intersection at or near point 2278946.3363362406 5604036.896646698 at 2278946.3363362406 5604036.896646698\n",
      "TopologyException: Input geom 1 is invalid: Ring Self-intersection at or near point 2284546.6265239706 5603895.1171482746 at 2284546.6265239706 5603895.1171482746\n",
      "TopologyException: Input geom 1 is invalid: Ring Self-intersection at or near point 2283979.5085302764 5603717.892775245 at 2283979.5085302764 5603717.892775245\n",
      "TopologyException: Input geom 1 is invalid: Ring Self-intersection at or near point 2279407.1197061171 5603576.1132768216 at 2279407.1197061171 5603576.1132768216\n",
      "TopologyException: Input geom 1 is invalid: Ring Self-intersection at or near point 2276146.1912423759 5603788.7825244572 at 2276146.1912423759 5603788.7825244572\n",
      "TopologyException: Input geom 1 is invalid: Ring Self-intersection at or near point 2282738.9379190705 5603469.7786530042 at 2282738.9379190705 5603469.7786530042\n",
      "TopologyException: Input geom 1 is invalid: Ring Self-intersection at or near point 2295818.0966486419 5603327.9991545808 at 2295818.0966486419 5603327.9991545808\n",
      "TopologyException: Input geom 1 is invalid: Ring Self-intersection at or near point 2282313.5994237997 5603363.4440291859 at 2282313.5994237997 5603363.4440291859\n",
      "TopologyException: Input geom 1 is invalid: Ring Self-intersection at or near point 2274905.62063117 5602725.4362862799 at 2274905.62063117 5602725.4362862799\n",
      "TopologyException: Input geom 1 is invalid: Ring Self-intersection at or near point 2280435.0210696878 5602512.7670386452 at 2280435.0210696878 5602512.7670386452\n",
      "TopologyException: Input geom 1 is invalid: Ring Self-intersection at or near point 2280009.6825744174 5601981.0939195566 at 2280009.6825744174 5601981.0939195566\n",
      "TopologyException: Input geom 1 is invalid: Ring Self-intersection at or near point 2261791.0170269925 5602583.6567878565 at 2261791.0170269925 5602583.6567878565\n",
      "TopologyException: Input geom 1 is invalid: Ring Self-intersection at or near point 2275898.0771201346 5601165.8618036211 at 2275898.0771201346 5601165.8618036211\n",
      "TopologyException: Input geom 1 is invalid: Ring Self-intersection at or near point 2277776.6554742465 5600492.4091861099 at 2277776.6554742465 5600492.4091861099\n",
      "TopologyException: Input geom 1 is invalid: Ring Self-intersection at or near point 2275472.7386248643 5600067.0706908386 at 2275472.7386248643 5600067.0706908386\n",
      "TopologyException: Input geom 1 is invalid: Ring Self-intersection at or near point 2265831.7327320636 5600421.5194368977 at 2265831.7327320636 5600421.5194368977\n",
      "TopologyException: Input geom 1 is invalid: Ring Self-intersection at or near point 2285893.5317589939 5599322.7283241153 at 2285893.5317589939 5599322.7283241153\n",
      "TopologyException: Input geom 1 is invalid: Ring Self-intersection at or near point 2278733.6670886055 5599039.1693272684 at 2278733.6670886055 5599039.1693272684\n",
      "TopologyException: Input geom 1 is invalid: Ring Self-intersection at or near point 2281037.5839379877 5598578.3859573919 at 2281037.5839379877 5598578.3859573919\n",
      "TopologyException: Input geom 1 is invalid: Ring Self-intersection at or near point 2265087.3903653398 5598932.834703451 at 2265087.3903653398 5598932.834703451\n",
      "TopologyException: Input geom 1 is invalid: Ring Self-intersection at or near point 2277599.4311012169 5598294.826960545 at 2277599.4311012169 5598294.826960545\n",
      "TopologyException: Input geom 1 is invalid: Ring Self-intersection at or near point 2283128.8315397352 5598259.3820859389 at 2283128.8315397352 5598259.3820859389\n",
      "TopologyException: Input geom 1 is invalid: Ring Self-intersection at or near point 2249278.9762911154 5597515.0397192156 at 2249278.9762911154 5597515.0397192156\n",
      "TopologyException: Input geom 1 is invalid: Ring Self-intersection at or near point 2250519.5469023213 5595388.347242862 at 2250519.5469023213 5595388.347242862\n",
      "TopologyException: Input geom 1 is invalid: Ring Self-intersection at or near point 2260798.5605380279 5594608.5600015325 at 2260798.5605380279 5594608.5600015325\n",
      "TopologyException: Input geom 1 is invalid: Ring Self-intersection at or near point 2261294.7887825104 5594608.5600015325 at 2261294.7887825104 5594608.5600015325\n",
      "TopologyException: Input geom 1 is invalid: Ring Self-intersection at or near point 2262251.800396869 5594537.6702523213 at 2262251.800396869 5594537.6702523213\n",
      "TopologyException: Input geom 1 is invalid: Ring Self-intersection at or near point 2261365.6785317222 5594183.2215062622 at 2261365.6785317222 5594183.2215062622\n",
      "TopologyException: Input geom 1 is invalid: Ring Self-intersection at or near point 2253000.6881247335 5593793.327885597 at 2253000.6881247335 5593793.327885597\n",
      "TopologyException: Input geom 1 is invalid: Ring Self-intersection at or near point 2269198.9958196227 5593651.5483871736 at 2269198.9958196227 5593651.5483871736\n",
      "TopologyException: Input geom 1 is invalid: Ring Self-intersection at or near point 2252043.6765103745 5592800.8713966329 at 2252043.6765103745 5592800.8713966329\n",
      "TopologyException: Input geom 1 is invalid: Ring Self-intersection at or near point 2252717.1291278861 5592765.4265220268 at 2252717.1291278861 5592765.4265220268\n",
      "TopologyException: Input geom 1 is invalid: Ring Self-intersection at or near point 2287453.1062416532 5592127.4187791208 at 2287453.1062416532 5592127.4187791208\n",
      "TopologyException: Input geom 1 is invalid: Ring Self-intersection at or near point 2278095.6593456995 5591737.5251584565 at 2278095.6593456995 5591737.5251584565\n",
      "TopologyException: Input geom 1 is invalid: Ring Self-intersection at or near point 2280612.2454427173 5591595.7456600321 at 2280612.2454427173 5591595.7456600321\n",
      "TopologyException: Input geom 1 is invalid: Ring Self-intersection at or near point 2293762.2939215004 5591560.300785427 at 2293762.2939215004 5591560.300785427\n",
      "TopologyException: Input geom 1 is invalid: Ring Self-intersection at or near point 2253000.6881247335 5591028.6276663383 at 2253000.6881247335 5591028.6276663383\n",
      "TopologyException: Input geom 1 is invalid: Ring Self-intersection at or near point 2264024.0441271635 5591064.0725409444 at 2264024.0441271635 5591064.0725409444\n",
      "TopologyException: Input geom 1 is invalid: Ring Self-intersection at or near point 2272424.4794087578 5591099.5174155505 at 2272424.4794087578 5591099.5174155505\n"
     ]
    },
    {
     "name": "stderr",
     "output_type": "stream",
     "text": [
      "TopologyException: Input geom 1 is invalid: Ring Self-intersection at or near point 2285042.8547684527 5590851.4032933088 at 2285042.8547684527 5590851.4032933088\n",
      "TopologyException: Input geom 1 is invalid: Ring Self-intersection at or near point 2287134.1023702002 5591134.9622901557 at 2287134.1023702002 5591134.9622901557\n",
      "TopologyException: Input geom 1 is invalid: Ring Self-intersection at or near point 2263456.9261334692 5590567.8442964619 at 2263456.9261334692 5590567.8442964619\n",
      "TopologyException: Input geom 1 is invalid: Ring Self-intersection at or near point 2262960.6978889867 5590603.289171068 at 2262960.6978889867 5590603.289171068\n",
      "TopologyException: Input geom 1 is invalid: Ring Self-intersection at or near point 2265831.7327320636 5590284.285299615 at 2265831.7327320636 5590284.285299615\n",
      "TopologyException: Input geom 1 is invalid: Ring Self-intersection at or near point 2285113.7445176644 5590709.6237948854 at 2285113.7445176644 5590709.6237948854\n",
      "TopologyException: Input geom 1 is invalid: Ring Self-intersection at or near point 2256970.5140805924 5589929.8365535559 at 2256970.5140805924 5589929.8365535559\n",
      "TopologyException: Input geom 1 is invalid: Ring Self-intersection at or near point 2286673.3190003233 5589858.9468043447 at 2286673.3190003233 5589858.9468043447\n",
      "TopologyException: Input geom 1 is invalid: Ring Self-intersection at or near point 2259735.2142998516 5590000.7263027681 at 2259735.2142998516 5590000.7263027681\n",
      "TopologyException: Input geom 1 is invalid: Ring Self-intersection at or near point 2255127.3806010862 5589646.277556709 at 2255127.3806010862 5589646.277556709\n",
      "TopologyException: Input geom 1 is invalid: Ring Self-intersection at or near point 2255978.0575916274 5589504.4980582856 at 2255978.0575916274 5589504.4980582856\n",
      "TopologyException: Input geom 1 is invalid: Ring Self-intersection at or near point 2274444.8372612935 5589362.7185598621 at 2274444.8372612935 5589362.7185598621\n",
      "TopologyException: Input geom 1 is invalid: Ring Self-intersection at or near point 2260125.1079205163 5589079.1595630152 at 2260125.1079205163 5589079.1595630152\n",
      "TopologyException: Input geom 1 is invalid: Ring Self-intersection at or near point 2263775.9300049222 5589114.6044376204 at 2263775.9300049222 5589114.6044376204\n",
      "TopologyException: Input geom 1 is invalid: Ring Self-intersection at or near point 2272991.597402452 5588476.5966947144 at 2272991.597402452 5588476.5966947144\n",
      "TopologyException: Input geom 1 is invalid: Ring Self-intersection at or near point 2254489.3728581807 5588370.262070897 at 2254489.3728581807 5588370.262070897\n",
      "TopologyException: Input geom 1 is invalid: Ring Self-intersection at or near point 2258423.7539394335 5588547.4864439266 at 2258423.7539394335 5588547.4864439266\n",
      "TopologyException: Input geom 1 is invalid: Ring Self-intersection at or near point 2274657.5065089287 5588086.7030740501 at 2274657.5065089287 5588086.7030740501\n",
      "TopologyException: Input geom 1 is invalid: Ring Self-intersection at or near point 2274373.9475120818 5587980.3684502328 at 2274373.9475120818 5587980.3684502328\n",
      "TopologyException: Input geom 1 is invalid: Ring Self-intersection at or near point 2253851.3651152747 5587165.1363342972 at 2253851.3651152747 5587165.1363342972\n",
      "TopologyException: Input geom 1 is invalid: Ring Self-intersection at or near point 2249137.1967926919 5586881.5773374503 at 2249137.1967926919 5586881.5773374503\n",
      "TopologyException: Input geom 1 is invalid: Ring Self-intersection at or near point 2287027.7677463824 5586314.4593437556 at 2287027.7677463824 5586314.4593437556\n",
      "TopologyException: Input geom 1 is invalid: Ring Self-intersection at or near point 2281604.7019316819 5584683.9951118855 at 2281604.7019316819 5584683.9951118855\n",
      "TopologyException: Input geom 1 is invalid: Ring Self-intersection at or near point 2277670.3208504287 5584471.3258642498 at 2277670.3208504287 5584471.3258642498\n",
      "TopologyException: Input geom 1 is invalid: Ring Self-intersection at or near point 2289934.247464065 5583797.8732467378 at 2289934.247464065 5583797.8732467378\n",
      "TopologyException: Input geom 1 is invalid: Ring Self-intersection at or near point 2277103.2028567349 5584258.6566166142 at 2277103.2028567349 5584258.6566166142\n",
      "TopologyException: Input geom 1 is invalid: Ring Self-intersection at or near point 2284688.4060223941 5583124.4206292266 at 2284688.4060223941 5583124.4206292266\n",
      "TopologyException: Input geom 1 is invalid: Ring Self-intersection at or near point 2265689.9532336397 5583124.4206292266 at 2265689.9532336397 5583124.4206292266\n",
      "TopologyException: Input geom 1 is invalid: Ring Self-intersection at or near point 2284865.6303954236 5582663.6372593492 at 2284865.6303954236 5582663.6372593492\n",
      "TopologyException: Input geom 1 is invalid: Ring Self-intersection at or near point 2284298.5124017294 5582380.0782625023 at 2284298.5124017294 5582380.0782625023\n",
      "TopologyException: Input geom 1 is invalid: Ring Self-intersection at or near point 2288339.2281068 5581777.5153942024 at 2288339.2281068 5581777.5153942024\n",
      "TopologyException: Input geom 1 is invalid: Ring Self-intersection at or near point 2256226.1717138686 5581919.2948926259 at 2256226.1717138686 5581919.2948926259\n",
      "TopologyException: Input geom 1 is invalid: Ring Self-intersection at or near point 2256048.9473408395 5581281.2871497199 at 2256048.9473408395 5581281.2871497199\n",
      "TopologyException: Input geom 1 is invalid: Ring Self-intersection at or near point 2270156.0074339812 5580536.9447829966 at 2270156.0074339812 5580536.9447829966\n",
      "TopologyException: Input geom 1 is invalid: Ring Self-intersection at or near point 2262287.2452714751 5580324.2755353609 at 2262287.2452714751 5580324.2755353609\n",
      "TopologyException: Input geom 1 is invalid: Ring Self-intersection at or near point 2277103.2028567349 5580466.0550337853 at 2277103.2028567349 5580466.0550337853\n",
      "TopologyException: Input geom 1 is invalid: Ring Self-intersection at or near point 2293053.3964293827 5579260.9292971846 at 2293053.3964293827 5579260.9292971846\n",
      "TopologyException: Input geom 1 is invalid: Ring Self-intersection at or near point 2278520.9978409703 5579260.9292971846 at 2278520.9978409703 5579260.9292971846\n",
      "TopologyException: Input geom 1 is invalid: Ring Self-intersection at or near point 2276571.5297376462 5578622.9215542786 at 2276571.5297376462 5578622.9215542786\n",
      "TopologyException: Input geom 1 is invalid: Ring Self-intersection at or near point 2250129.6532816566 5578303.9176828256 at 2250129.6532816566 5578303.9176828256\n",
      "TopologyException: Input geom 1 is invalid: Ring Self-intersection at or near point 2261932.796525416 5577027.9021970136 at 2261932.796525416 5577027.9021970136\n",
      "TopologyException: Input geom 1 is invalid: Ring Self-intersection at or near point 2271644.6921674283 5576070.8905826556 at 2271644.6921674283 5576070.8905826556\n",
      "TopologyException: Input geom 1 is invalid: Ring Self-intersection at or near point 2281285.698060229 5575042.9892190844 at 2281285.698060229 5575042.9892190844\n",
      "TopologyException: Input geom 1 is invalid: Ring Self-intersection at or near point 2260834.0054126335 5574440.4263507845 at 2260834.0054126335 5574440.4263507845\n",
      "TopologyException: Input geom 1 is invalid: Ring Self-intersection at or near point 2251299.3341436507 5571285.8325108606 at 2251299.3341436507 5571285.8325108606\n",
      "TopologyException: Input geom 1 is invalid: Ring Self-intersection at or near point 2197352.2349934946 5667093.3285705652 at 2197352.2349934946 5667093.3285705652\n",
      "TopologyException: Input geom 1 is invalid: Ring Self-intersection at or near point 2196537.002877559 5667199.6631943835 at 2196537.002877559 5667199.6631943835\n",
      "TopologyException: Input geom 1 is invalid: Ring Self-intersection at or near point 2440043.2914199852 5364500.4340601312 at 2440043.2914199852 5364500.4340601312\n",
      "TopologyException: Input geom 1 is invalid: Ring Self-intersection at or near point 2430225.0611541555 5362444.6313329898 at 2430225.0611541555 5362444.6313329898\n",
      "TopologyException: Input geom 1 is invalid: Ring Self-intersection at or near point 2439795.177297744 5361700.2889662655 at 2439795.177297744 5361700.2889662655\n",
      "TopologyException: Input geom 1 is invalid: Ring Self-intersection at or near point 2430083.2816557316 5360885.0568503309 at 2430083.2816557316 5360885.0568503309\n"
     ]
    },
    {
     "name": "stderr",
     "output_type": "stream",
     "text": [
      "TopologyException: Input geom 1 is invalid: Ring Self-intersection at or near point 2441850.9800248854 5359715.3759883363 at 2441850.9800248854 5359715.3759883363\n",
      "TopologyException: Input geom 1 is invalid: Ring Self-intersection at or near point 2445856.2508553504 5358510.2502517365 at 2445856.2508553504 5358510.2502517365\n",
      "TopologyException: Input geom 1 is invalid: Ring Self-intersection at or near point 2439511.6183008971 5356596.2270230185 at 2439511.6183008971 5356596.2270230185\n",
      "TopologyException: Input geom 1 is invalid: Ring Self-intersection at or near point 2330624.9635116202 5469488.1526427595 at 2330624.9635116202 5469488.1526427595\n",
      "TopologyException: Input geom 1 is invalid: Ring Self-intersection at or near point 2332078.2033704612 5467893.1332854955 at 2332078.2033704612 5467893.1332854955\n",
      "TopologyException: Input geom 1 is invalid: Ring Self-intersection at or near point 2323287.8744682022 5464951.2086932063 at 2323287.8744682022 5464951.2086932063\n",
      "TopologyException: Input geom 1 is invalid: Ring Self-intersection at or near point 2321373.8512394843 5464525.870197936 at 2321373.8512394843 5464525.870197936\n",
      "TopologyException: Input geom 1 is invalid: Ring Self-intersection at or near point 2284369.4021509406 5335152.0778864585 at 2284369.4021509406 5335152.0778864585\n",
      "TopologyException: Input geom 1 is invalid: Ring Self-intersection at or near point 2276429.7502392228 5333025.3854101058 at 2276429.7502392228 5333025.3854101058\n",
      "TopologyException: Input geom 1 is invalid: Ring Self-intersection at or near point 2279797.0133267818 5333238.0546577405 at 2279797.0133267818 5333238.0546577405\n",
      "TopologyException: Input geom 1 is invalid: Ring Self-intersection at or near point 2278414.6632171525 5332741.826413258 at 2278414.6632171525 5332741.826413258\n",
      "TopologyException: Input geom 1 is invalid: Ring Self-intersection at or near point 2278733.667088605 5332493.7122910172 at 2278733.667088605 5332493.7122910172\n",
      "TopologyException: Input geom 1 is invalid: Ring Self-intersection at or near point 2281214.8083110172 5332564.6020402284 at 2281214.8083110172 5332564.6020402284\n",
      "TopologyException: Input geom 1 is invalid: Ring Self-intersection at or near point 2281533.8121824702 5331111.3621813878 at 2281533.8121824702 5331111.3621813878\n",
      "TopologyException: Input geom 1 is invalid: Ring Self-intersection at or near point 2283660.5046588234 5330863.2480591461 at 2283660.5046588234 5330863.2480591461\n",
      "TopologyException: Input geom 1 is invalid: Ring Self-intersection at or near point 2195190.0976425358 5800649.6160855386 at 2195190.0976425358 5800649.6160855386\n",
      "TopologyException: Input geom 1 is invalid: Ring Self-intersection at or near point 2186435.2136148824 5799125.4864774859 at 2186435.2136148824 5799125.4864774859\n",
      "TopologyException: Input geom 1 is invalid: Ring Self-intersection at or near point 2191291.1614358886 5798062.1402393095 at 2191291.1614358886 5798062.1402393095\n",
      "TopologyException: Input geom 1 is invalid: Ring Self-intersection at or near point 2298051.1237488124 5424508.6067678928 at 2298051.1237488124 5424508.6067678928\n",
      "TopologyException: Input geom 1 is invalid: Ring Self-intersection at or near point 2300709.4893442537 5423587.0400281399 at 2300709.4893442537 5423587.0400281399\n",
      "TopologyException: Input geom 1 is invalid: Ring Self-intersection at or near point 2298051.1237488124 5423268.036156687 at 2298051.1237488124 5423268.036156687\n",
      "TopologyException: Input geom 1 is invalid: Ring Self-intersection at or near point 2306168.0000335602 5423232.5912820818 at 2306168.0000335602 5423232.5912820818\n",
      "TopologyException: Input geom 1 is invalid: Ring Self-intersection at or near point 2309393.4836226953 5422204.6899185106 at 2309393.4836226953 5422204.6899185106\n",
      "TopologyException: Input geom 1 is invalid: Ring Self-intersection at or near point 2301099.3829649184 5421318.5680533638 at 2301099.3829649184 5421318.5680533638\n",
      "TopologyException: Input geom 1 is invalid: Ring Self-intersection at or near point 2309606.152870331 5419794.438445311 at 2309606.152870331 5419794.438445311\n",
      "TopologyException: Input geom 1 is invalid: Ring Self-intersection at or near point 2303438.7446889067 5419723.5486960988 at 2303438.7446889067 5419723.5486960988\n",
      "TopologyException: Input geom 1 is invalid: Ring Self-intersection at or near point 2305990.7756605307 5419723.5486960988 at 2305990.7756605307 5419723.5486960988\n",
      "TopologyException: Input geom 1 is invalid: Ring Self-intersection at or near point 2306593.3385288306 5419829.8833199162 at 2306593.3385288306 5419829.8833199162\n",
      "TopologyException: Input geom 1 is invalid: Ring Self-intersection at or near point 2307514.9052685834 5419475.434573858 at 2307514.9052685834 5419475.434573858\n",
      "TopologyException: Input geom 1 is invalid: Ring Self-intersection at or near point 2300319.595723589 5419439.9896992519 at 2300319.595723589 5419439.9896992519\n",
      "TopologyException: Input geom 1 is invalid: Ring Self-intersection at or near point 2299327.1392346243 5419085.5409531929 at 2299327.1392346243 5419085.5409531929\n",
      "TopologyException: Input geom 1 is invalid: Ring Self-intersection at or near point 2299965.1469775303 5418270.3088372573 at 2299965.1469775303 5418270.3088372573\n",
      "TopologyException: Input geom 1 is invalid: Ring Self-intersection at or near point 2299539.8084822595 5418163.97421344 at 2299539.8084822595 5418163.97421344\n",
      "TopologyException: Input geom 1 is invalid: Ring Self-intersection at or near point 2272991.5974024516 5675174.7599807074 at 2272991.5974024516 5675174.7599807074\n",
      "TopologyException: Input geom 1 is invalid: Ring Self-intersection at or near point 2191078.492188253 5579898.9370400906 at 2191078.492188253 5579898.9370400906\n",
      "TopologyException: Input geom 1 is invalid: Ring Self-intersection at or near point 2196643.3375013769 5579190.0395479733 at 2196643.3375013769 5579190.0395479733\n",
      "TopologyException: Input geom 1 is invalid: Ring Self-intersection at or near point 2444473.9007457211 5313069.9210069925 at 2444473.9007457211 5313069.9210069925\n",
      "TopologyException: Input geom 1 is invalid: Ring Self-intersection at or near point 2440752.1889121034 5310482.4451607624 at 2440752.1889121034 5310482.4451607624\n",
      "TopologyException: Input geom 1 is invalid: Ring Self-intersection at or near point 2445679.0264823213 5309915.3271670686 at 2445679.0264823213 5309915.3271670686\n",
      "TopologyException: Input geom 1 is invalid: Ring Self-intersection at or near point 2443233.3301345152 5309950.7720416747 at 2443233.3301345152 5309950.7720416747\n",
      "TopologyException: Input geom 1 is invalid: Ring Self-intersection at or near point 2439653.397799321 5309170.9848003453 at 2439653.397799321 5309170.9848003453\n",
      "TopologyException: Input geom 1 is invalid: Ring Self-intersection at or near point 2446884.1522189211 5308355.7526844097 at 2446884.1522189211 5308355.7526844097\n"
     ]
    }
   ],
   "source": [
    "lei_00_14_res = []\n",
    "lei_00_14_sum = []\n",
    "\n",
    "for idx, row in cities.iterrows():\n",
    "    geometry = row['geometry']\n",
    "    # get pixel coordinates of the geometry's bounding box\n",
    "    ul = wsf.index(*geometry.bounds[0:2])\n",
    "    lr = wsf.index(*geometry.bounds[2:4])\n",
    "    window = ((float(lr[0]), float(ul[0]+1)), (float(ul[1]), float(lr[1]+1)))\n",
    "    t = wsf.transform\n",
    "    shifted_affine = Affine(t.a, t.b, t.c+ul[1]*t.a, t.d, t.e, t.f+lr[0]*t.e)\n",
    "    wsf_ = wsf.read(1, window = window)\n",
    "    wsf_clip = (wsf_, shifted_affine)\n",
    "\n",
    "    # This calculates the change from 2000 and 2015\n",
    "    lei_raw = lei.calculate_LEI(wsf_clip, old_list = list(range(1985,2001)), new_list=list(range(2001,2016)))\n",
    "    lei_00_14 = pd.DataFrame(lei_raw, columns=['geometry', 'old', 'total'])\n",
    "    lei_00_14['LEI'] = lei_00_14['old'] / lei_00_14['total']\n",
    "    lei_00_14['city'] = row.city\n",
    "    lei_00_14_res.append(lei_00_14)\n",
    "    \n",
    "    summary = lei.summarize_LEI(lei_00_14, leap_val=0.05, exp_val=0.75)\n",
    "    summary.name = row.city\n",
    "    lei_00_14_sum.append(summary)"
   ]
  },
  {
   "cell_type": "code",
   "execution_count": 207,
   "metadata": {},
   "outputs": [],
   "source": [
    "summary2 = pd.DataFrame(lei_00_14_sum)/1000000\n",
    "summary2.columns.name = \"2000 to 2015\""
   ]
  },
  {
   "cell_type": "code",
   "execution_count": 213,
   "metadata": {},
   "outputs": [],
   "source": [
    "lei_summary_cities = pd.concat([summary1, summary2], axis=1)"
   ]
  },
  {
   "cell_type": "code",
   "execution_count": 214,
   "metadata": {},
   "outputs": [],
   "source": [
    "lei_summary_cities.to_csv(os.path.join(out_dir, \"Landscape Expansion Index Summary Cities.csv\"))"
   ]
  },
  {
   "cell_type": "code",
   "execution_count": 217,
   "metadata": {},
   "outputs": [],
   "source": [
    "lei_90_00_res2 = pd.concat(lei_90_00_res)"
   ]
  },
  {
   "cell_type": "code",
   "execution_count": 222,
   "metadata": {},
   "outputs": [],
   "source": [
    "lei_90_00_res2.to_csv(os.path.join(out_dir, \"lei_85_00_cities.csv\"))"
   ]
  },
  {
   "cell_type": "code",
   "execution_count": 223,
   "metadata": {},
   "outputs": [],
   "source": [
    "lei_00_14_res2 = pd.concat(lei_00_14_res)"
   ]
  },
  {
   "cell_type": "code",
   "execution_count": 224,
   "metadata": {},
   "outputs": [],
   "source": [
    "lei_00_14_res2.to_csv(os.path.join(out_dir, \"lei_00_15_cities.csv\"))"
   ]
  },
  {
   "cell_type": "code",
   "execution_count": 225,
   "metadata": {},
   "outputs": [
    {
     "data": {
      "text/plain": [
       "CRS.from_epsg(3857)"
      ]
     },
     "execution_count": 225,
     "metadata": {},
     "output_type": "execute_result"
    }
   ],
   "source": [
    "wsf.crs"
   ]
  },
  {
   "cell_type": "markdown",
   "metadata": {},
   "source": [
    "## Clip Nighttime lights rasters"
   ]
  },
  {
   "cell_type": "code",
   "execution_count": 40,
   "metadata": {},
   "outputs": [],
   "source": [
    "viirs_2012 = '/home/public/Data/GLOBAL/NighttimeLights/VIIRS_ANNUAL_EOG/VNL_v2_npp_201204-201212_global_vcmcfg_c202101211500.average_masked.tif'\n",
    "viirs_2020 = '/home/public/Data/GLOBAL/NighttimeLights/VIIRS_ANNUAL_EOG/VNL_v2_npp_2020_global_vcmslcfg_c202102150000.average_masked.tif'\n",
    "viirs_2019 = '/home/public/Data/GLOBAL/NighttimeLights/VIIRS_ANNUAL_EOG/VNL_v2_npp_2019_global_vcmslcfg_c202102150000.average_masked.tif'"
   ]
  },
  {
   "cell_type": "code",
   "execution_count": 26,
   "metadata": {},
   "outputs": [],
   "source": [
    "# clip from global GHSL file\n",
    "in_viirs = rio.open(viirs_2012)\n",
    "if not inB.crs == in_viirs.crs:\n",
    "    inB = inB.to_crs(in_viirs.crs.to_string())"
   ]
  },
  {
   "cell_type": "code",
   "execution_count": 30,
   "metadata": {},
   "outputs": [],
   "source": [
    "out_viirs = os.path.join(out_dir, \"NTL_2012.tif\")\n",
    "rMisc.clipRaster(in_viirs, inB, out_viirs)"
   ]
  },
  {
   "cell_type": "code",
   "execution_count": 31,
   "metadata": {},
   "outputs": [],
   "source": [
    "# clip from global GHSL file\n",
    "in_viirs = rio.open(viirs_2020)\n",
    "if not inB.crs == in_viirs.crs:\n",
    "    inB = inB.to_crs(in_viirs.crs.to_string())"
   ]
  },
  {
   "cell_type": "code",
   "execution_count": 32,
   "metadata": {},
   "outputs": [],
   "source": [
    "out_viirs = os.path.join(out_dir, \"NTL_2020.tif\")\n",
    "rMisc.clipRaster(in_viirs, inB, out_viirs)"
   ]
  },
  {
   "cell_type": "code",
   "execution_count": 41,
   "metadata": {},
   "outputs": [],
   "source": [
    "# clip from global GHSL file\n",
    "in_viirs = rio.open(viirs_2019)\n",
    "if not inB.crs == in_viirs.crs:\n",
    "    inB = inB.to_crs(in_viirs.crs.to_string())"
   ]
  },
  {
   "cell_type": "code",
   "execution_count": 42,
   "metadata": {},
   "outputs": [],
   "source": [
    "out_viirs = os.path.join(out_dir, \"NTL_2019.tif\")\n",
    "rMisc.clipRaster(in_viirs, inB, out_viirs)"
   ]
  },
  {
   "cell_type": "code",
   "execution_count": 35,
   "metadata": {},
   "outputs": [],
   "source": [
    "gdp = '/home/public/Data/GLOBAL/ECON/PPP2005/ppp2005sum.asc'"
   ]
  },
  {
   "cell_type": "code",
   "execution_count": 37,
   "metadata": {},
   "outputs": [],
   "source": [
    "# clip from global GHSL file\n",
    "in_gdp = rio.open(gdp)"
   ]
  },
  {
   "cell_type": "code",
   "execution_count": 39,
   "metadata": {},
   "outputs": [
    {
     "data": {
      "text/plain": [
       "{'driver': 'AAIGrid',\n",
       " 'dtype': 'float32',\n",
       " 'nodata': -9999.0,\n",
       " 'width': 360,\n",
       " 'height': 140,\n",
       " 'count': 1,\n",
       " 'crs': None,\n",
       " 'transform': Affine(1.0, 0.0, -180.0,\n",
       "        0.0, -1.0, 84.0)}"
      ]
     },
     "execution_count": 39,
     "metadata": {},
     "output_type": "execute_result"
    }
   ],
   "source": [
    "in_gdp.meta"
   ]
  },
  {
   "cell_type": "markdown",
   "metadata": {},
   "source": [
    "## ESA Land Cover Change Analysis"
   ]
  },
  {
   "cell_type": "code",
   "execution_count": 8,
   "metadata": {},
   "outputs": [],
   "source": [
    "from rasterstats import zonal_stats\n",
    "from shapely.wkt import loads\n",
    "import numpy as np"
   ]
  },
  {
   "cell_type": "code",
   "execution_count": 15,
   "metadata": {},
   "outputs": [],
   "source": [
    "cci_15_tif = \"/home/public/Data/GLOBAL/LANDCOVER/GLOBCOVER/2015/ESACCI-LC-L4-LCCS-Map-300m-P1Y-2015-v2.0.7.tif\"\n",
    "in_cci_15 = rio.open(cci_15_tif)\n",
    "if not inB.crs == in_cci_15.crs:\n",
    "    inB = inB.to_crs(in_cci_15.crs.to_string())"
   ]
  },
  {
   "cell_type": "code",
   "execution_count": 18,
   "metadata": {},
   "outputs": [],
   "source": [
    "input_cci_15 = os.path.join(out_dir, \"LC_2015.tif\")\n",
    "rMisc.clipRaster(in_cci_15, inB, input_cci_15)"
   ]
  },
  {
   "cell_type": "code",
   "execution_count": 44,
   "metadata": {},
   "outputs": [],
   "source": [
    "cci_00_tif = os.path.join(out_dir, \"LC_2000.tif\")\n",
    "in_cci_00 = rio.open(cci_00_tif)"
   ]
  },
  {
   "cell_type": "code",
   "execution_count": 51,
   "metadata": {},
   "outputs": [],
   "source": [
    "input_cci_00 = os.path.join(out_dir, \"LC_2000_SRB.tif\")\n",
    "rMisc.clipRaster(in_cci_00, inB, input_cci_00)"
   ]
  },
  {
   "cell_type": "code",
   "execution_count": 9,
   "metadata": {},
   "outputs": [],
   "source": [
    "input_cci_15 = os.path.join(out_dir, \"LC_2015.tif\")\n",
    "input_cci_00 = os.path.join(out_dir, \"LC_2000_SRB.tif\")"
   ]
  },
  {
   "cell_type": "code",
   "execution_count": 27,
   "metadata": {},
   "outputs": [],
   "source": [
    "cci_15 = rio.open(input_cci_15)\n",
    "cci_15_ = cci_15.read(1)"
   ]
  },
  {
   "cell_type": "code",
   "execution_count": 28,
   "metadata": {},
   "outputs": [],
   "source": [
    "cci_00 = rio.open(input_cci_00)\n",
    "cci_00_ = cci_00.read(1)"
   ]
  },
  {
   "cell_type": "code",
   "execution_count": 31,
   "metadata": {},
   "outputs": [],
   "source": [
    "cci_dict = {\n",
    "    1:'agriculture',\n",
    "    2:\"trees\",\n",
    "    3:\"natural vegetation\",\n",
    "    4:\"urban\",\n",
    "    5:\"bare land\",\n",
    "    6:\"water bodies\",\n",
    "    7:\"ice/snow\"\n",
    "}"
   ]
  },
  {
   "cell_type": "code",
   "execution_count": 13,
   "metadata": {},
   "outputs": [],
   "source": [
    "# cci_dict = {\n",
    "#     1:'trees',\n",
    "#     2:\"shrubs\",\n",
    "#     3:\"grasslands\",\n",
    "#     4:\"cropland\",\n",
    "#     5:\"vegetation aquatic\",\n",
    "#     6:\"sparse vegetation\",\n",
    "#     7:\"bare areas\",\n",
    "#     8:\"built up\",\n",
    "#     10:\"water\"\n",
    "# }"
   ]
  },
  {
   "cell_type": "code",
   "execution_count": 32,
   "metadata": {},
   "outputs": [],
   "source": [
    "cci_15_[((cci_15_ > 0) & (cci_15_ < 50))] = 1\n",
    "cci_15_[((cci_15_ > 40) & (cci_15_ < 110))] = 2\n",
    "cci_15_[((cci_15_ > 155) & (cci_15_ < 175))] = 2\n",
    "cci_15_[((cci_15_ > 100) & (cci_15_ < 190))] = 3\n",
    "cci_15_[(cci_15_ == 190)] = 4\n",
    "cci_15_[((cci_15_ > 140) & (cci_15_ < 205))] = 5\n",
    "cci_15_[(cci_15_ == 210)] = 6\n",
    "cci_15_[(cci_15_ == 220)] = 7"
   ]
  },
  {
   "cell_type": "code",
   "execution_count": 33,
   "metadata": {},
   "outputs": [],
   "source": [
    "cci_00_[((cci_00_ > 0) & (cci_00_ < 50))] = 1\n",
    "cci_00_[((cci_00_ > 40) & (cci_00_ < 110))] = 2\n",
    "cci_00_[((cci_00_ > 155) & (cci_00_ < 175))] = 2\n",
    "cci_00_[((cci_00_ > 100) & (cci_00_ < 190))] = 3\n",
    "cci_00_[(cci_00_ == 190)] = 4\n",
    "cci_00_[((cci_00_ > 140) & (cci_00_ < 205))] = 5\n",
    "cci_00_[(cci_00_ == 210)] = 6\n",
    "cci_00_[(cci_00_ == 220)] = 7"
   ]
  },
  {
   "cell_type": "code",
   "execution_count": 34,
   "metadata": {},
   "outputs": [
    {
     "data": {
      "text/plain": [
       "array([0, 1, 2, 3, 4, 5, 6], dtype=uint8)"
      ]
     },
     "execution_count": 34,
     "metadata": {},
     "output_type": "execute_result"
    }
   ],
   "source": [
    "np.unique(cci_15_)"
   ]
  },
  {
   "cell_type": "code",
   "execution_count": 35,
   "metadata": {},
   "outputs": [
    {
     "data": {
      "text/plain": [
       "array([0, 1, 2, 3, 4, 5, 6], dtype=uint8)"
      ]
     },
     "execution_count": 35,
     "metadata": {},
     "output_type": "execute_result"
    }
   ],
   "source": [
    "np.unique(cci_00_)"
   ]
  },
  {
   "cell_type": "code",
   "execution_count": 36,
   "metadata": {},
   "outputs": [
    {
     "data": {
      "text/plain": [
       "True"
      ]
     },
     "execution_count": 36,
     "metadata": {},
     "output_type": "execute_result"
    }
   ],
   "source": [
    "cci_15_.shape == cci_00_.shape"
   ]
  },
  {
   "cell_type": "code",
   "execution_count": 63,
   "metadata": {},
   "outputs": [],
   "source": [
    "lei_90_00 = pd.read_csv(os.path.join(out_dir, \"lei_85_00_cities.csv\"))\n",
    "lei_00_14 = pd.read_csv(os.path.join(out_dir, \"lei_00_15_cities.csv\"), index_col=0)"
   ]
  },
  {
   "cell_type": "code",
   "execution_count": 74,
   "metadata": {},
   "outputs": [],
   "source": [
    "lei_00_14.loc[:, \"geometry\"] = lei_00_14.loc[:, \"geometry\"].apply(lambda x: loads(x))"
   ]
  },
  {
   "cell_type": "code",
   "execution_count": 78,
   "metadata": {},
   "outputs": [],
   "source": [
    "lei_00_14 = gpd.GeoDataFrame(lei_00_14, crs='EPSG:3857')"
   ]
  },
  {
   "cell_type": "code",
   "execution_count": 82,
   "metadata": {},
   "outputs": [
    {
     "data": {
      "text/plain": [
       "'EPSG:4326'"
      ]
     },
     "execution_count": 82,
     "metadata": {},
     "output_type": "execute_result"
    }
   ],
   "source": [
    "cci_15.crs.to_string()"
   ]
  },
  {
   "cell_type": "code",
   "execution_count": 83,
   "metadata": {},
   "outputs": [],
   "source": [
    "lei_00_14 = lei_00_14.to_crs(cci_15.crs.to_string())"
   ]
  },
  {
   "cell_type": "code",
   "execution_count": 87,
   "metadata": {},
   "outputs": [],
   "source": [
    "zs_00 = pd.DataFrame(zonal_stats(lei_00_14, cci_00_, affine=cci_00.transform, nodata=0, categorical=True, category_map=cci_dict))\n",
    "# zs_15 = pd.DataFrame(zonal_stats(lei_00_14, cci_15_, affine=cci_15.transform, nodata=0, categorical=True, category_map=cci_dict))"
   ]
  },
  {
   "cell_type": "markdown",
   "metadata": {},
   "source": [
    "Try Resampling"
   ]
  },
  {
   "cell_type": "code",
   "execution_count": 173,
   "metadata": {},
   "outputs": [],
   "source": [
    "from rasterio.enums import Resampling"
   ]
  },
  {
   "cell_type": "code",
   "execution_count": 174,
   "metadata": {},
   "outputs": [],
   "source": [
    "upscale_factor = 20\n",
    "\n",
    "with rio.open(input_cci_00) as dataset:\n",
    "\n",
    "    # resample data to target shape\n",
    "    cci_00_re = dataset.read(\n",
    "        out_shape=(\n",
    "            dataset.count,\n",
    "            int(dataset.height * upscale_factor),\n",
    "            int(dataset.width * upscale_factor)\n",
    "        ),\n",
    "        resampling=Resampling.nearest\n",
    "    )\n",
    "\n",
    "    # scale image transform\n",
    "    transform = dataset.transform * dataset.transform.scale(\n",
    "        (dataset.width / cci_00_re.shape[-1]),\n",
    "        (dataset.height / cci_00_re.shape[-2])\n",
    "    )"
   ]
  },
  {
   "cell_type": "code",
   "execution_count": 175,
   "metadata": {},
   "outputs": [],
   "source": [
    "cci_00_re[((cci_00_re > 0) & (cci_00_re < 50))] = 1\n",
    "cci_00_re[((cci_00_re > 40) & (cci_00_re < 110))] = 2\n",
    "cci_00_re[((cci_00_re > 155) & (cci_00_re < 175))] = 2\n",
    "cci_00_re[((cci_00_re > 100) & (cci_00_re < 190))] = 3\n",
    "cci_00_re[(cci_00_re == 190)] = 4\n",
    "cci_00_re[((cci_00_re > 140) & (cci_00_re < 205))] = 5\n",
    "cci_00_re[(cci_00_re == 210)] = 6\n",
    "cci_00_re[(cci_00_re == 220)] = 7"
   ]
  },
  {
   "cell_type": "code",
   "execution_count": 176,
   "metadata": {},
   "outputs": [],
   "source": [
    "zs_00_re = pd.DataFrame(zonal_stats(lei_00_14, cci_00_re[0,:,:], affine=transform, nodata=0, categorical=True, category_map=cci_dict))"
   ]
  },
  {
   "cell_type": "code",
   "execution_count": 178,
   "metadata": {},
   "outputs": [],
   "source": [
    "max_00 = zs_00_re.idxmax(axis=1)"
   ]
  },
  {
   "cell_type": "code",
   "execution_count": 183,
   "metadata": {},
   "outputs": [],
   "source": [
    "upscale_factor = 20\n",
    "\n",
    "with rio.open(input_cci_15) as dataset:\n",
    "\n",
    "    # resample data to target shape\n",
    "    cci_15_re = dataset.read(\n",
    "        out_shape=(\n",
    "            dataset.count,\n",
    "            int(dataset.height * upscale_factor),\n",
    "            int(dataset.width * upscale_factor)\n",
    "        ),\n",
    "        resampling=Resampling.nearest\n",
    "    )\n",
    "\n",
    "    # scale image transform\n",
    "    transform = dataset.transform * dataset.transform.scale(\n",
    "        (dataset.width / cci_15_re.shape[-1]),\n",
    "        (dataset.height / cci_15_re.shape[-2])\n",
    "    )"
   ]
  },
  {
   "cell_type": "code",
   "execution_count": 184,
   "metadata": {},
   "outputs": [],
   "source": [
    "cci_15_re[((cci_15_re > 0) & (cci_15_re < 50))] = 1\n",
    "cci_15_re[((cci_15_re > 40) & (cci_15_re < 110))] = 2\n",
    "cci_15_re[((cci_15_re > 155) & (cci_15_re < 175))] = 2\n",
    "cci_15_re[((cci_15_re > 100) & (cci_15_re < 190))] = 3\n",
    "cci_15_re[(cci_15_re == 190)] = 4\n",
    "cci_15_re[((cci_15_re > 140) & (cci_15_re < 205))] = 5\n",
    "cci_15_re[(cci_15_re == 210)] = 6\n",
    "cci_15_re[(cci_15_re == 220)] = 7"
   ]
  },
  {
   "cell_type": "code",
   "execution_count": 185,
   "metadata": {},
   "outputs": [],
   "source": [
    "zs_15_re = pd.DataFrame(zonal_stats(lei_00_14, cci_15_re[0,:,:], affine=transform, nodata=0, categorical=True, category_map=cci_dict))"
   ]
  },
  {
   "cell_type": "code",
   "execution_count": 186,
   "metadata": {},
   "outputs": [],
   "source": [
    "max_15 = zs_15_re.idxmax(axis=1)"
   ]
  },
  {
   "cell_type": "code",
   "execution_count": 192,
   "metadata": {},
   "outputs": [],
   "source": [
    "lei_00_14.loc[:, \"lc_00\"] = max_00\n",
    "lei_00_14.loc[:, \"lc_15\"] = max_15"
   ]
  },
  {
   "cell_type": "code",
   "execution_count": 194,
   "metadata": {},
   "outputs": [],
   "source": [
    "lei_00_14_cop = lei_00_14.drop('geometry', axis=1)"
   ]
  },
  {
   "cell_type": "code",
   "execution_count": 196,
   "metadata": {},
   "outputs": [],
   "source": [
    "lei_00_14_cop.to_csv(os.path.join(out_dir, \"lei_00_15_cities_lc.csv\"))"
   ]
  },
  {
   "cell_type": "markdown",
   "metadata": {},
   "source": [
    "Entire country"
   ]
  },
  {
   "cell_type": "code",
   "execution_count": 37,
   "metadata": {},
   "outputs": [],
   "source": [
    "indices = list(np.ndindex(cci_00_.shape))"
   ]
  },
  {
   "cell_type": "code",
   "execution_count": 38,
   "metadata": {},
   "outputs": [],
   "source": [
    "xys = [cci_00.xy(ind[0], ind[1]) for ind in indices]"
   ]
  },
  {
   "cell_type": "code",
   "execution_count": 39,
   "metadata": {},
   "outputs": [],
   "source": [
    "res_df = pd.DataFrame({\n",
    "    'spatial_index': indices, \n",
    "    'xy': xys, \n",
    "    'cci_00': cci_00_.flatten(),\n",
    "    'cci_15': cci_15_.flatten()\n",
    "})"
   ]
  },
  {
   "cell_type": "code",
   "execution_count": 40,
   "metadata": {},
   "outputs": [
    {
     "data": {
      "text/plain": [
       "90000"
      ]
     },
     "execution_count": 40,
     "metadata": {},
     "output_type": "execute_result"
    }
   ],
   "source": [
    "300*300"
   ]
  },
  {
   "cell_type": "code",
   "execution_count": 41,
   "metadata": {
    "scrolled": true
   },
   "outputs": [],
   "source": [
    "res_df.loc[:, \"area\"] = 0.09"
   ]
  },
  {
   "cell_type": "code",
   "execution_count": 42,
   "metadata": {},
   "outputs": [
    {
     "data": {
      "text/plain": [
       "array([0, 1, 2, 3, 6, 4, 5], dtype=uint8)"
      ]
     },
     "execution_count": 42,
     "metadata": {},
     "output_type": "execute_result"
    }
   ],
   "source": [
    "res_df.cci_00.unique()"
   ]
  },
  {
   "cell_type": "code",
   "execution_count": 45,
   "metadata": {},
   "outputs": [
    {
     "data": {
      "text/plain": [
       "2133296"
      ]
     },
     "execution_count": 45,
     "metadata": {},
     "output_type": "execute_result"
    }
   ],
   "source": [
    "len(res_df)"
   ]
  },
  {
   "cell_type": "code",
   "execution_count": 46,
   "metadata": {},
   "outputs": [],
   "source": [
    "res_df = res_df.loc[res_df.cci_00>0].copy()"
   ]
  },
  {
   "cell_type": "code",
   "execution_count": 47,
   "metadata": {},
   "outputs": [
    {
     "data": {
      "text/plain": [
       "1131886"
      ]
     },
     "execution_count": 47,
     "metadata": {},
     "output_type": "execute_result"
    }
   ],
   "source": [
    "len(res_df)"
   ]
  },
  {
   "cell_type": "code",
   "execution_count": null,
   "metadata": {},
   "outputs": [],
   "source": [
    "cci_dict = {\n",
    "    1:'agriculture',\n",
    "    2:\"trees\",\n",
    "    3:\"natural vegetation\",\n",
    "    4:\"urban\",\n",
    "    5:\"bare land\",\n",
    "    6:\"water bodies\",\n",
    "    7:\"ice/snow\"\n",
    "}"
   ]
  },
  {
   "cell_type": "code",
   "execution_count": 48,
   "metadata": {},
   "outputs": [],
   "source": [
    "res_df.loc[:, \"cci_00\"] = res_df.cci_00.apply(lambda x: cci_dict[x])\n",
    "res_df.loc[:, \"cci_15\"] = res_df.cci_15.apply(lambda x: cci_dict[x])"
   ]
  },
  {
   "cell_type": "code",
   "execution_count": 53,
   "metadata": {},
   "outputs": [],
   "source": [
    "res_df.loc[:, \"change\"] = 0"
   ]
  },
  {
   "cell_type": "code",
   "execution_count": 58,
   "metadata": {},
   "outputs": [],
   "source": [
    "res_df.loc[res_df.cci_00!=res_df.cci_15, \"change\"] = 1"
   ]
  },
  {
   "cell_type": "code",
   "execution_count": 60,
   "metadata": {},
   "outputs": [],
   "source": [
    "res_df.loc[:, \"transition\"] = \"\""
   ]
  },
  {
   "cell_type": "code",
   "execution_count": 63,
   "metadata": {},
   "outputs": [],
   "source": [
    "# for idx, row in res_df.iterrows():\n",
    "#     if row.change == 0:\n",
    "#         res_df.loc[idx, \"transition\"] = \"No change\"\n",
    "#     else:\n",
    "#         res_df.loc[idx, \"transition\"] = row.cci_00 + \" to \" + row.cci_15"
   ]
  },
  {
   "cell_type": "code",
   "execution_count": 66,
   "metadata": {},
   "outputs": [],
   "source": [
    "res_df.loc[res_df.change==0, \"transition\"] = \"No change\""
   ]
  },
  {
   "cell_type": "code",
   "execution_count": 74,
   "metadata": {},
   "outputs": [],
   "source": [
    "res_df.loc[:, \"transition\"] = res_df.cci_00 + \" to \" + res_df.cci_15"
   ]
  },
  {
   "cell_type": "code",
   "execution_count": 75,
   "metadata": {},
   "outputs": [],
   "source": [
    "res_df.loc[res_df.change==0, \"transition\"] = \"No change\""
   ]
  },
  {
   "cell_type": "code",
   "execution_count": 86,
   "metadata": {},
   "outputs": [],
   "source": [
    "os.chdir(out_dir)"
   ]
  },
  {
   "cell_type": "code",
   "execution_count": 91,
   "metadata": {},
   "outputs": [],
   "source": [
    "res_df.cci_00.value_counts().to_csv(\"National CCI 00.csv\")"
   ]
  },
  {
   "cell_type": "code",
   "execution_count": 92,
   "metadata": {},
   "outputs": [],
   "source": [
    "res_df.cci_15.value_counts().to_csv(\"National CCI 15.csv\")"
   ]
  },
  {
   "cell_type": "code",
   "execution_count": 96,
   "metadata": {},
   "outputs": [],
   "source": [
    "res_df.groupby('transition').count().area.to_csv(\"National CCI Transition.csv\")"
   ]
  },
  {
   "cell_type": "code",
   "execution_count": 93,
   "metadata": {},
   "outputs": [],
   "source": [
    "# res_df.groupby('transition').sum().to_csv(\"National CCI Transition.csv\")"
   ]
  },
  {
   "cell_type": "code",
   "execution_count": null,
   "metadata": {},
   "outputs": [],
   "source": []
  },
  {
   "cell_type": "code",
   "execution_count": 51,
   "metadata": {},
   "outputs": [],
   "source": [
    "# res_df.to_csv(\"National Summary CCI.csv\")"
   ]
  },
  {
   "cell_type": "code",
   "execution_count": null,
   "metadata": {},
   "outputs": [],
   "source": []
  }
 ],
 "metadata": {
  "kernelspec": {
   "display_name": "GEO Parallel",
   "language": "python",
   "name": "geo_parallel"
  },
  "language_info": {
   "codemirror_mode": {
    "name": "ipython",
    "version": 3
   },
   "file_extension": ".py",
   "mimetype": "text/x-python",
   "name": "python",
   "nbconvert_exporter": "python",
   "pygments_lexer": "ipython3",
   "version": "3.7.6"
  }
 },
 "nbformat": 4,
 "nbformat_minor": 2
}
