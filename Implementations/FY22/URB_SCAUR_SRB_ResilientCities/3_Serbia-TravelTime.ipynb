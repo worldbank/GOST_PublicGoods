{
 "cells": [
  {
   "cell_type": "markdown",
   "metadata": {},
   "source": [
    "This notebook exemplifies a simple market access estimation based on global datasets:\n",
    "\n",
    "- **Global Friction Surface (Malaria Atlas Project)**  \n",
    "see: https://developers.google.com/earth-engine/datasets/catalog/Oxford_MAP_friction_surface_2019\n",
    "\n",
    "\n",
    "- **World Pop 1 km Population Grid**"
   ]
  },
  {
   "cell_type": "markdown",
   "metadata": {},
   "source": [
    "### Required libraries"
   ]
  },
  {
   "cell_type": "code",
   "execution_count": 1,
   "metadata": {},
   "outputs": [],
   "source": [
    "import sys, os\n",
    "import pandas as pd\n",
    "import geopandas as gpd\n",
    "import numpy as np\n",
    "import skimage.graph as graph\n",
    "import rasterio as rio\n",
    "from shapely.geometry import box, Point, Polygon\n",
    "import matplotlib.pyplot as plt\n",
    "# from tqdm import tqdm\n",
    "\n",
    "sys.path.append(\"/home/wb514197/Repos/GOST_Urban\")\n",
    "sys.path.append(\"/home/wb514197/Repos/INFRA_SAP\")\n",
    "sys.path.append('/home/wb514197/Repos/GOSTnets')\n",
    "\n",
    "import src.UrbanRaster as urban\n",
    "import infrasap.market_access as ma\n",
    "import infrasap.rasterMisc as rMisc\n",
    "from infrasap import aggregator\n",
    "import GOSTnets.calculate_od_raw as calcOD\n",
    "\n",
    "# Plotting\n",
    "import matplotlib.pyplot as plt\n",
    "import matplotlib.colors as colors\n",
    "from rasterio.plot import plotting_extent\n",
    "# from mpl_toolkits.axes_grid1 import make_axes_locatable\n",
    "# import contextily as ctx"
   ]
  },
  {
   "cell_type": "code",
   "execution_count": 2,
   "metadata": {},
   "outputs": [],
   "source": [
    "%load_ext autoreload\n",
    "%autoreload 2\n",
    "%matplotlib inline"
   ]
  },
  {
   "cell_type": "markdown",
   "metadata": {},
   "source": [
    "Set up a data directory"
   ]
  },
  {
   "cell_type": "code",
   "execution_count": 3,
   "metadata": {},
   "outputs": [],
   "source": [
    "iso3 = \"SRB\"\n",
    "data_dir = \"/home/wb514197/data/serbia\"\n",
    "if not os.path.exists(data_dir):\n",
    "    os.makedirs(data_dir)"
   ]
  },
  {
   "cell_type": "code",
   "execution_count": 4,
   "metadata": {},
   "outputs": [],
   "source": [
    "output_path = os.path.join(data_dir, \"output\")\n",
    "if not os.path.exists(output_path):\n",
    "    os.mkdir(output_path)"
   ]
  },
  {
   "cell_type": "markdown",
   "metadata": {},
   "source": [
    "### 1. Clip global datasets to country extent"
   ]
  },
  {
   "cell_type": "code",
   "execution_count": 4,
   "metadata": {},
   "outputs": [],
   "source": [
    "global_friction_surface = \"/home/public/Data/GLOBAL/INFRA/FRICTION_2020/2020_motorized_friction_surface.geotiff\"\n",
    "global_population = \"/home/public/Data/GLOBAL/Population/WorldPop_PPP_2020/ppp_2020_1km_Aggregated.tif\"\n",
    "inG = rio.open(global_friction_surface)\n",
    "inP = rio.open(global_population)\n",
    "\n",
    "# Read in country bounds\n",
    "global_bounds = \"/home/public/Data/GLOBAL/ADMIN/Admin0_Polys.shp\"\n",
    "inB = gpd.read_file(global_bounds)\n",
    "inB = inB.loc[inB['ISO3'] == iso3]\n",
    "inB = inB.to_crs(inG.crs.to_string())"
   ]
  },
  {
   "cell_type": "code",
   "execution_count": 44,
   "metadata": {},
   "outputs": [],
   "source": [
    "# Clip the travel raster to ISO3\n",
    "out_travel_surface = os.path.join(data_dir, \"TRAVEL_SURFACE.tif\")\n",
    "# rMisc.clipRaster(inG, inB, out_travel_surface)\n",
    "\n",
    "# Clip the population raster to ISO3\n",
    "out_pop_surface = os.path.join(data_dir, \"POP_2020_NEW.tif\")\n",
    "# rMisc.clipRaster(inP, inB, out_pop_surface)"
   ]
  },
  {
   "cell_type": "code",
   "execution_count": 45,
   "metadata": {},
   "outputs": [],
   "source": [
    "travel_surf = rio.open(out_travel_surface)\n",
    "pop_surf = rio.open(out_pop_surface)"
   ]
  },
  {
   "cell_type": "code",
   "execution_count": 46,
   "metadata": {},
   "outputs": [],
   "source": [
    "# Make sure that both rasters have the exact same resolution, crs, and number of pixels\n",
    "out_pop_surface_std = os.path.join(data_dir, \"POP_2020_NEW_STD.tif\")\n",
    "# rMisc.standardizeInputRasters(pop_surf, travel_surf, os.path.join(data_dir, \"POP_2020_NEW_STD.tif\"), data_type=\"C\")"
   ]
  },
  {
   "cell_type": "markdown",
   "metadata": {},
   "source": [
    "### 2. Calculate urban extents\n",
    "\n",
    "- Population Density > 300 people per sq. km\n",
    "- Total population > 5,000 people"
   ]
  },
  {
   "cell_type": "code",
   "execution_count": 71,
   "metadata": {},
   "outputs": [],
   "source": [
    "calc_urban.calculateUrban?"
   ]
  },
  {
   "cell_type": "code",
   "execution_count": 67,
   "metadata": {},
   "outputs": [
    {
     "name": "stdout",
     "output_type": "stream",
     "text": [
      "11:06:38\tSRB: Read in urban data\n",
      "11:06:38\tSRB: Creating Shape 0\n"
     ]
    }
   ],
   "source": [
    "calc_urban = urban.urbanGriddedPop(out_pop_surface_std)\n",
    "urban_extents = calc_urban.calculateUrban(densVal=300, totalPopThresh=5000, \n",
    "                          print_message=iso3, verbose=True)"
   ]
  },
  {
   "cell_type": "code",
   "execution_count": 100,
   "metadata": {},
   "outputs": [
    {
     "name": "stdout",
     "output_type": "stream",
     "text": [
      "11:19:40\tSRB: Read in urban data\n",
      "11:19:40\tSRB: Creating Shape 0\n"
     ]
    }
   ],
   "source": [
    "urban_extents = calc_urban.calculateUrban(densVal=300, totalPopThresh=5000, \n",
    "                          print_message=iso3, verbose=True, smooth=True, queen=False,\n",
    "                                          raster=os.path.join(output_path, \"raster_bool.tif\"))"
   ]
  },
  {
   "cell_type": "code",
   "execution_count": 9,
   "metadata": {},
   "outputs": [],
   "source": [
    "urban_extents.geometry = urban_extents.representative_point()\n",
    "urban_extents.set_index(\"ID\", inplace=True)"
   ]
  },
  {
   "cell_type": "code",
   "execution_count": 23,
   "metadata": {},
   "outputs": [],
   "source": [
    "urban_extents = gpd.read_file(os.path.join(output_path, \"urban_extents.shp\"))\n",
    "urban_extents.geometry = urban_extents.representative_point()"
   ]
  },
  {
   "cell_type": "code",
   "execution_count": 39,
   "metadata": {},
   "outputs": [],
   "source": [
    "urban_extents.to_csv(os.path.join(output_path, \"urban_extents_centroids.csv\"))"
   ]
  },
  {
   "cell_type": "code",
   "execution_count": 203,
   "metadata": {},
   "outputs": [],
   "source": [
    "urban_extents = pd.read_csv(os.path.join(output_path, \"urban_extents_centroids.csv\"), index_col=0)"
   ]
  },
  {
   "cell_type": "code",
   "execution_count": 204,
   "metadata": {},
   "outputs": [],
   "source": [
    "from shapely.wkt import loads"
   ]
  },
  {
   "cell_type": "code",
   "execution_count": 205,
   "metadata": {},
   "outputs": [],
   "source": [
    "urban_extents.geometry = urban_extents.geometry.apply(lambda x: loads(x))"
   ]
  },
  {
   "cell_type": "code",
   "execution_count": 206,
   "metadata": {},
   "outputs": [],
   "source": [
    "urban_extents_gpd = gpd.GeoDataFrame(urban_extents, geometry='geometry', crs='EPSG:4326')"
   ]
  },
  {
   "cell_type": "code",
   "execution_count": 207,
   "metadata": {},
   "outputs": [],
   "source": [
    "urban_extents = urban_extents_gpd.copy()"
   ]
  },
  {
   "cell_type": "code",
   "execution_count": 208,
   "metadata": {},
   "outputs": [],
   "source": [
    "urban_extents = urban_extents.loc[urban_extents.Pop>100000].copy()"
   ]
  },
  {
   "cell_type": "markdown",
   "metadata": {},
   "source": [
    "### 3. Prepare origins (population grid)"
   ]
  },
  {
   "cell_type": "markdown",
   "metadata": {},
   "source": [
    "Convert from raster format to csv/geopandas data frame"
   ]
  },
  {
   "cell_type": "code",
   "execution_count": 197,
   "metadata": {},
   "outputs": [],
   "source": [
    "pop_surf = rio.open(out_pop_surface_std)\n",
    "pop = pop_surf.read(1, masked=True)"
   ]
  },
  {
   "cell_type": "code",
   "execution_count": 198,
   "metadata": {},
   "outputs": [],
   "source": [
    "indices = list(np.ndindex(pop.shape))"
   ]
  },
  {
   "cell_type": "code",
   "execution_count": 199,
   "metadata": {},
   "outputs": [],
   "source": [
    "xys = [pop_surf.xy(ind[0], ind[1]) for ind in indices]"
   ]
  },
  {
   "cell_type": "code",
   "execution_count": 200,
   "metadata": {},
   "outputs": [],
   "source": [
    "res_df = pd.DataFrame({\n",
    "    'spatial_index': indices, \n",
    "    'xy': xys, \n",
    "    'pop': pop.flatten()\n",
    "})"
   ]
  },
  {
   "cell_type": "markdown",
   "metadata": {},
   "source": [
    "### 3. Calculate travel time"
   ]
  },
  {
   "cell_type": "markdown",
   "metadata": {},
   "source": [
    "Original data expressed in units of minutes required to travel one metre.  \n",
    "*Convert to minutes required to travel one pixel*\n"
   ]
  },
  {
   "cell_type": "code",
   "execution_count": 210,
   "metadata": {},
   "outputs": [],
   "source": [
    "# create MCP object\n",
    "inG_data = travel_surf.read(1) * 1000 #\n",
    "# Correct no data values\n",
    "inG_data[inG_data < 0] = 99999999\n",
    "mcp = graph.MCP_Geometric(inG_data)"
   ]
  },
  {
   "cell_type": "code",
   "execution_count": 211,
   "metadata": {},
   "outputs": [],
   "source": [
    "# for each destination get cost of travel for every origin\n",
    "for idx, dest in urban_extents.iterrows():\n",
    "    dest_gdf = gpd.GeoDataFrame([dest], geometry='geometry', crs='EPSG:4326')\n",
    "    res = ma.calculate_travel_time(travel_surf, mcp, dest_gdf)[0]\n",
    "    res_df.loc[:,idx] = res.flatten()"
   ]
  },
  {
   "cell_type": "code",
   "execution_count": 49,
   "metadata": {},
   "outputs": [],
   "source": [
    "# remove values where pop is 0 or nan\n",
    "res_df = res_df.loc[res_df['pop']!=0].copy()\n",
    "res_df = res_df.loc[~(res_df['pop'].isna())].copy()"
   ]
  },
  {
   "cell_type": "code",
   "execution_count": 50,
   "metadata": {},
   "outputs": [],
   "source": [
    "od_cities = np.array(res_df[urban_extents.index])"
   ]
  },
  {
   "cell_type": "code",
   "execution_count": 216,
   "metadata": {},
   "outputs": [],
   "source": [
    "geoms = [Point(xy) for xy in res_df.xy]"
   ]
  },
  {
   "cell_type": "code",
   "execution_count": 217,
   "metadata": {},
   "outputs": [],
   "source": [
    "access_cities_results = gpd.GeoDataFrame(res_df, geometry=geoms, crs=urban_extents.crs)"
   ]
  },
  {
   "cell_type": "markdown",
   "metadata": {},
   "source": [
    "### 5. Save results in raster format"
   ]
  },
  {
   "cell_type": "markdown",
   "metadata": {},
   "source": [
    "Convert travel time to hours and get minimum travel cost to nearest city"
   ]
  },
  {
   "cell_type": "code",
   "execution_count": 218,
   "metadata": {},
   "outputs": [],
   "source": [
    "access_cities_results = access_cities_results.apply(lambda x: x/60 if x.name in urban_extents.index else x)"
   ]
  },
  {
   "cell_type": "code",
   "execution_count": 219,
   "metadata": {},
   "outputs": [],
   "source": [
    "access_cities_results.loc[:, \"tt_min\"] = access_cities_results[urban_extents.index].min(axis=1)"
   ]
  },
  {
   "cell_type": "code",
   "execution_count": 221,
   "metadata": {},
   "outputs": [],
   "source": [
    "aggregator.rasterize_gdf(access_cities_results, 'tt_min', out_travel_surface, os.path.join(output_path,f\"cities_100k_min_tt_v2.tif\"))"
   ]
  }
 ],
 "metadata": {
  "kernelspec": {
   "display_name": "Python (Graph)",
   "language": "python",
   "name": "graph"
  },
  "language_info": {
   "codemirror_mode": {
    "name": "ipython",
    "version": 3
   },
   "file_extension": ".py",
   "mimetype": "text/x-python",
   "name": "python",
   "nbconvert_exporter": "python",
   "pygments_lexer": "ipython3",
   "version": "3.7.10"
  }
 },
 "nbformat": 4,
 "nbformat_minor": 2
}
