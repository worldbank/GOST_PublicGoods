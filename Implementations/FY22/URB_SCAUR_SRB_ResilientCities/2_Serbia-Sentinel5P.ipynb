{
 "cells": [
  {
   "cell_type": "markdown",
   "metadata": {},
   "source": [
    "This notebook extracts Sentinel 5P air pollution metrics via the Earth Engine Python API."
   ]
  },
  {
   "cell_type": "code",
   "execution_count": 1,
   "metadata": {},
   "outputs": [],
   "source": [
    "from make_dataset import Entry\n",
    "import ee\n",
    "ee.Initialize()\n",
    "import pandas as pd\n",
    "import geopandas as gpd\n",
    "import os\n",
    "import sys\n",
    "sys.path.append(\"../GEE_Zonal/src\")\n",
    "from gee_helpers import gpd_to_gee, authenticateGoogleDrive\n",
    "import geojson\n",
    "from shapely.geometry import Polygon, MultiPolygon\n",
    "from glob import glob\n",
    "from gee_tools import ZonalStats"
   ]
  },
  {
   "cell_type": "code",
   "execution_count": 2,
   "metadata": {},
   "outputs": [],
   "source": [
    "%load_ext autoreload\n",
    "%autoreload 2"
   ]
  },
  {
   "cell_type": "code",
   "execution_count": 39,
   "metadata": {},
   "outputs": [],
   "source": [
    "data_dir = os.path.join(\"x:\", \"data\", \"serbia\")\n",
    "wp_dir = os.path.join(data_dir, \"wp\")\n",
    "out_dir = os.path.join(data_dir, \"output\")\n",
    "if not os.path.exists(out_dir):\n",
    "    os.mkdir(out_dir)"
   ]
  },
  {
   "cell_type": "code",
   "execution_count": 4,
   "metadata": {},
   "outputs": [],
   "source": [
    "urban_extents = gpd.read_file(os.path.join(out_dir, \"urban_extents.shp\"))"
   ]
  },
  {
   "cell_type": "code",
   "execution_count": 5,
   "metadata": {},
   "outputs": [],
   "source": [
    "urban_extents.sort_values(\"Pop\", ascending=False, inplace=True)"
   ]
  },
  {
   "cell_type": "code",
   "execution_count": 6,
   "metadata": {},
   "outputs": [
    {
     "data": {
      "text/plain": [
       "Index(['group', 'ID', 'Pop', 'city', 'county', 'state', 'geometry'], dtype='object')"
      ]
     },
     "execution_count": 6,
     "metadata": {},
     "output_type": "execute_result"
    }
   ],
   "source": [
    "urban_extents.columns"
   ]
  },
  {
   "cell_type": "code",
   "execution_count": 7,
   "metadata": {},
   "outputs": [],
   "source": [
    "row = urban_extents.iloc[0]"
   ]
  },
  {
   "cell_type": "code",
   "execution_count": 9,
   "metadata": {},
   "outputs": [],
   "source": [
    "def makePollutionData(row):\n",
    "    shpJSON = geojson.Feature(geometry=row['geometry'])\n",
    "    if type(row['geometry']) == Polygon:\n",
    "        ee_poly = ee.Geometry.Polygon(shpJSON['geometry']['coordinates'])\n",
    "    elif type(row['geometry']) == MultiPolygon:\n",
    "        ee_poly = ee.Geometry.MultiPolygon(shpJSON['geometry']['coordinates'])\n",
    "    ee_feature = ee.FeatureCollection(ee_poly)\n",
    "    entry = Entry(aoi=ee_feature, index=row['group'], ID=row['ID'], city=row[\"city\"])\n",
    "    return entry.createAirPollutionDF()"
   ]
  },
  {
   "cell_type": "code",
   "execution_count": 10,
   "metadata": {},
   "outputs": [],
   "source": [
    "data_pollution = makePollutionData(row)"
   ]
  },
  {
   "cell_type": "code",
   "execution_count": 11,
   "metadata": {},
   "outputs": [
    {
     "name": "stdout",
     "output_type": "stream",
     "text": [
      "Status is Ready, hasn't started\n",
      "Status is Ready, hasn't started\n",
      "Status is Ready, hasn't started\n",
      "Status is Ready, hasn't started\n"
     ]
    }
   ],
   "source": [
    "for df in data_pollution:\n",
    "    df.reportRunTime()"
   ]
  },
  {
   "cell_type": "code",
   "execution_count": 7,
   "metadata": {},
   "outputs": [],
   "source": [
    "urban_extents.set_index(\"ID\", inplace=True)"
   ]
  },
  {
   "cell_type": "code",
   "execution_count": 36,
   "metadata": {},
   "outputs": [],
   "source": [
    "ids = [522, 502, 573, 549, 579, 477, 558, 499, 518, 582] #522"
   ]
  },
  {
   "cell_type": "code",
   "execution_count": 37,
   "metadata": {},
   "outputs": [],
   "source": [
    "cities = urban_extents.loc[ids].copy()"
   ]
  },
  {
   "cell_type": "code",
   "execution_count": 38,
   "metadata": {},
   "outputs": [],
   "source": [
    "cities.loc[:, \"ID\"] = cities.index"
   ]
  },
  {
   "cell_type": "code",
   "execution_count": 31,
   "metadata": {},
   "outputs": [],
   "source": [
    "pollution_results = [makePollutionData(row) for idx, row in cities.iterrows()]"
   ]
  },
  {
   "cell_type": "markdown",
   "metadata": {},
   "source": [
    "GET Data from EE"
   ]
  },
  {
   "cell_type": "code",
   "execution_count": 23,
   "metadata": {},
   "outputs": [],
   "source": [
    "import io"
   ]
  },
  {
   "cell_type": "code",
   "execution_count": 12,
   "metadata": {},
   "outputs": [],
   "source": [
    "from pydrive.drive import GoogleDrive\n",
    "from pydrive.auth import GoogleAuth\n",
    "\n",
    "gauth = GoogleAuth()"
   ]
  },
  {
   "cell_type": "code",
   "execution_count": 13,
   "metadata": {},
   "outputs": [],
   "source": [
    "drive = GoogleDrive(gauth)"
   ]
  },
  {
   "cell_type": "code",
   "execution_count": 14,
   "metadata": {},
   "outputs": [
    {
     "name": "stdout",
     "output_type": "stream",
     "text": [
      "Your browser has been opened to visit:\n",
      "\n",
      "    https://accounts.google.com/o/oauth2/auth?client_id=439204002005-8hf6m3mir3vnrol3phs9o5ki8g28kocv.apps.googleusercontent.com&redirect_uri=http%3A%2F%2Flocalhost%3A8080%2F&scope=https%3A%2F%2Fwww.googleapis.com%2Fauth%2Fdrive&access_type=offline&response_type=code\n",
      "\n",
      "Authentication successful.\n"
     ]
    }
   ],
   "source": [
    "folder = drive.ListFile({'q': \"title = 'serbia' and trashed=false and mimeType = 'application/vnd.google-apps.folder'\"}).GetList()[0]"
   ]
  },
  {
   "cell_type": "code",
   "execution_count": 15,
   "metadata": {},
   "outputs": [],
   "source": [
    "folder_id = folder['id']"
   ]
  },
  {
   "cell_type": "code",
   "execution_count": 16,
   "metadata": {},
   "outputs": [
    {
     "data": {
      "text/plain": [
       "'1SNOP6VrPDqwrORHdioqmVyzTEouabm51'"
      ]
     },
     "execution_count": 16,
     "metadata": {},
     "output_type": "execute_result"
    }
   ],
   "source": [
    "folder_id"
   ]
  },
  {
   "cell_type": "code",
   "execution_count": 17,
   "metadata": {},
   "outputs": [],
   "source": [
    "file_list = drive.ListFile({'q': f\"'{folder_id}' in parents and trashed=false and mimeType = 'text/csv'\"}).GetList()"
   ]
  },
  {
   "cell_type": "code",
   "execution_count": 63,
   "metadata": {},
   "outputs": [
    {
     "name": "stdout",
     "output_type": "stream",
     "text": [
      "title: 45_co.csv, id: 16nQIEte6MK-IMXgmY7KAs7-4hyyfCjRU\n",
      "title: 45_so2.csv, id: 1w-1RYYmVfdZFu89ZDarVFRXEdjzJmeHC\n",
      "title: 45_ai.csv, id: 1mRB4dFAwGsMA6_eHKImeFX42LeO-JEuY\n",
      "title: 45_no2.csv, id: 1cgFAM1P7yjhcsr5DFACmPVgEuSq7oQzr\n"
     ]
    }
   ],
   "source": [
    "for one in file_list:\n",
    "  print('title: %s, id: %s' % (one['title'], one['id']))"
   ]
  },
  {
   "cell_type": "code",
   "execution_count": 25,
   "metadata": {},
   "outputs": [],
   "source": [
    "s = one.GetContentString()\n",
    "c = pd.read_csv(io.StringIO(s))\n",
    "c.drop('.geo', axis=1, inplace=True)"
   ]
  },
  {
   "cell_type": "code",
   "execution_count": 30,
   "metadata": {},
   "outputs": [],
   "source": [
    "b = os.path.basename(one['title'])\n",
    "var_name = b[b.rfind(\"_\")+1:b.rfind(\".\")]\n",
    "stats = ['sum', 'mean', 'max', 'p75', 'p95']"
   ]
  },
  {
   "cell_type": "code",
   "execution_count": 32,
   "metadata": {},
   "outputs": [
    {
     "ename": "NameError",
     "evalue": "name 'entry' is not defined",
     "output_type": "error",
     "traceback": [
      "\u001b[1;31m---------------------------------------------------------------------------\u001b[0m",
      "\u001b[1;31mNameError\u001b[0m                                 Traceback (most recent call last)",
      "\u001b[1;32m<ipython-input-32-6c8a2a634374>\u001b[0m in \u001b[0;36m<module>\u001b[1;34m\u001b[0m\n\u001b[1;32m----> 1\u001b[1;33m \u001b[0mdf\u001b[0m \u001b[1;33m=\u001b[0m \u001b[0mentry\u001b[0m\u001b[1;33m.\u001b[0m\u001b[0mprocessResponseFromEE\u001b[0m\u001b[1;33m(\u001b[0m\u001b[0mio\u001b[0m\u001b[1;33m.\u001b[0m\u001b[0mStringIO\u001b[0m\u001b[1;33m(\u001b[0m\u001b[0ms\u001b[0m\u001b[1;33m)\u001b[0m\u001b[1;33m,\u001b[0m \u001b[0mvar_name\u001b[0m\u001b[1;33m,\u001b[0m \u001b[0mstats\u001b[0m\u001b[1;33m,\u001b[0m \u001b[0masdate\u001b[0m\u001b[1;33m=\u001b[0m\u001b[1;32mFalse\u001b[0m\u001b[1;33m)\u001b[0m\u001b[1;33m\u001b[0m\u001b[1;33m\u001b[0m\u001b[0m\n\u001b[0m",
      "\u001b[1;31mNameError\u001b[0m: name 'entry' is not defined"
     ]
    }
   ],
   "source": [
    "df = entry.processResponseFromEE(io.StringIO(s), var_name, stats, asdate=False)"
   ]
  },
  {
   "cell_type": "code",
   "execution_count": 66,
   "metadata": {},
   "outputs": [],
   "source": [
    "def mergeDFs(df_admin, df_list):\n",
    "    for i, df in enumerate(df_list):\n",
    "        if i==0:\n",
    "            df_merge = df\n",
    "        elif i>0:\n",
    "            df_merge = df_merge.merge(df, on=[\"index\", \"date\"], how=\"outer\")\n",
    "    df_merge = df_admin.merge(df_merge, on=[\"index\"], how=\"outer\")\n",
    "    return df_merge"
   ]
  },
  {
   "cell_type": "code",
   "execution_count": 67,
   "metadata": {},
   "outputs": [],
   "source": [
    "row = cities.iloc[0]"
   ]
  },
  {
   "cell_type": "code",
   "execution_count": 68,
   "metadata": {},
   "outputs": [],
   "source": [
    "entry = Entry(aoi=None, index=row['group'], ID=row['ID'], city=row[\"city\"])"
   ]
  },
  {
   "cell_type": "code",
   "execution_count": 69,
   "metadata": {},
   "outputs": [],
   "source": [
    "df_admin = pd.DataFrame(entry.kwargs, index=[entry.idx])\n",
    "df_admin.reset_index(inplace = True)"
   ]
  },
  {
   "cell_type": "code",
   "execution_count": 70,
   "metadata": {},
   "outputs": [
    {
     "data": {
      "text/html": [
       "<div>\n",
       "<style scoped>\n",
       "    .dataframe tbody tr th:only-of-type {\n",
       "        vertical-align: middle;\n",
       "    }\n",
       "\n",
       "    .dataframe tbody tr th {\n",
       "        vertical-align: top;\n",
       "    }\n",
       "\n",
       "    .dataframe thead th {\n",
       "        text-align: right;\n",
       "    }\n",
       "</style>\n",
       "<table border=\"1\" class=\"dataframe\">\n",
       "  <thead>\n",
       "    <tr style=\"text-align: right;\">\n",
       "      <th></th>\n",
       "      <th>index</th>\n",
       "      <th>ID</th>\n",
       "      <th>city</th>\n",
       "    </tr>\n",
       "  </thead>\n",
       "  <tbody>\n",
       "    <tr>\n",
       "      <th>0</th>\n",
       "      <td>45</td>\n",
       "      <td>522</td>\n",
       "      <td>New Belgrade Urban Municipality</td>\n",
       "    </tr>\n",
       "  </tbody>\n",
       "</table>\n",
       "</div>"
      ],
      "text/plain": [
       "   index   ID                             city\n",
       "0     45  522  New Belgrade Urban Municipality"
      ]
     },
     "execution_count": 70,
     "metadata": {},
     "output_type": "execute_result"
    }
   ],
   "source": [
    "df_admin"
   ]
  },
  {
   "cell_type": "code",
   "execution_count": 71,
   "metadata": {},
   "outputs": [],
   "source": [
    "file_list = drive.ListFile({'q': f\"'{folder_id}' in parents and title contains '{entry.idx}' and trashed=false and mimeType = 'text/csv'\"}).GetList()"
   ]
  },
  {
   "cell_type": "code",
   "execution_count": 74,
   "metadata": {},
   "outputs": [],
   "source": [
    "if len(file_list) > 0:        \n",
    "    dfs = []\n",
    "    for file in file_list:\n",
    "        b = os.path.basename(file['title'])\n",
    "        var_name = b[b.rfind(\"_\")+1:b.rfind(\".\")]\n",
    "        s = file.GetContentString()\n",
    "        df = entry.processResponseFromEE(io.StringIO(s), var_name, stats, asdate=False)\n",
    "        dfs.append(df)\n",
    "    aoi_df = mergeDFs(df_admin, dfs)"
   ]
  },
  {
   "cell_type": "code",
   "execution_count": 83,
   "metadata": {},
   "outputs": [],
   "source": [
    "res = []"
   ]
  },
  {
   "cell_type": "code",
   "execution_count": 84,
   "metadata": {},
   "outputs": [
    {
     "name": "stdout",
     "output_type": "stream",
     "text": [
      "processing 522\n",
      "processing 502\n",
      "processing 573\n",
      "processing 549\n",
      "processing 579\n",
      "processing 477\n",
      "processing 558\n",
      "processing 499\n",
      "processing 518\n",
      "processing 582\n"
     ]
    }
   ],
   "source": [
    "for idx, row in cities.iterrows():\n",
    "    print(f\"processing {idx}\")\n",
    "    entry = Entry(aoi=None, index=row['group'], ID=row['ID'], city=row[\"city\"])\n",
    "    df_admin = pd.DataFrame(entry.kwargs, index=[entry.idx])\n",
    "    df_admin.reset_index(inplace = True)\n",
    "    file_list = drive.ListFile({'q': f\"'{folder_id}' in parents and title contains '{entry.idx}' and trashed=false and mimeType = 'text/csv'\"}).GetList()\n",
    "    if len(file_list) > 0:        \n",
    "        dfs = []\n",
    "        for file in file_list:\n",
    "            b = os.path.basename(file['title'])\n",
    "            var_name = b[b.rfind(\"_\")+1:b.rfind(\".\")]\n",
    "            s = file.GetContentString()\n",
    "            df = entry.processResponseFromEE(io.StringIO(s), var_name, stats, asdate=False)\n",
    "            dfs.append(df)\n",
    "        aoi_df = mergeDFs(df_admin, dfs)\n",
    "        res.append(aoi_df)"
   ]
  },
  {
   "cell_type": "code",
   "execution_count": 86,
   "metadata": {},
   "outputs": [],
   "source": [
    "res_all = pd.concat(res)"
   ]
  },
  {
   "cell_type": "code",
   "execution_count": 88,
   "metadata": {},
   "outputs": [],
   "source": [
    "res_all.to_csv(os.path.join(out_dir, \"pollution/Cities_Pollution.csv\"), index=False)"
   ]
  }
 ],
 "metadata": {
  "kernelspec": {
   "display_name": "Earth Engine",
   "language": "python",
   "name": "ee"
  },
  "language_info": {
   "codemirror_mode": {
    "name": "ipython",
    "version": 3
   },
   "file_extension": ".py",
   "mimetype": "text/x-python",
   "name": "python",
   "nbconvert_exporter": "python",
   "pygments_lexer": "ipython3",
   "version": "3.8.8"
  },
  "toc": {
   "base_numbering": 1,
   "nav_menu": {},
   "number_sections": true,
   "sideBar": true,
   "skip_h1_title": false,
   "title_cell": "Table of Contents",
   "title_sidebar": "Contents",
   "toc_cell": false,
   "toc_position": {},
   "toc_section_display": true,
   "toc_window_display": false
  },
  "varInspector": {
   "cols": {
    "lenName": 16,
    "lenType": 16,
    "lenVar": 40
   },
   "kernels_config": {
    "python": {
     "delete_cmd_postfix": "",
     "delete_cmd_prefix": "del ",
     "library": "var_list.py",
     "varRefreshCmd": "print(var_dic_list())"
    },
    "r": {
     "delete_cmd_postfix": ") ",
     "delete_cmd_prefix": "rm(",
     "library": "var_list.r",
     "varRefreshCmd": "cat(var_dic_list()) "
    }
   },
   "types_to_exclude": [
    "module",
    "function",
    "builtin_function_or_method",
    "instance",
    "_Feature"
   ],
   "window_display": false
  }
 },
 "nbformat": 4,
 "nbformat_minor": 5
}
