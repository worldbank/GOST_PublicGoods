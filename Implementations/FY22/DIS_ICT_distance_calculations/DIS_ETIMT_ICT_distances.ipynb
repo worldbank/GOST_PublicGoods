{
 "cells": [
  {
   "cell_type": "markdown",
   "metadata": {},
   "source": []
  },
  {
   "cell_type": "code",
   "execution_count": 1,
   "metadata": {},
   "outputs": [],
   "source": [
    "import sys, os, importlib, json, multiprocessing\n",
    "import rasterio, pycountry\n",
    "import reverse_geocode\n",
    "\n",
    "import geopandas as gpd\n",
    "import pandas as pd\n",
    "\n",
    "from urllib.request import urlopen\n",
    "from shapely.geometry import Point\n",
    "from shapely.ops import nearest_points\n",
    "from shapely import wkt\n",
    "\n",
    "#Import local functions\n",
    "import ict_helper as ict\n",
    "\n",
    "# Import GOST libraries; sys.path.append will be unnecessary if libraries are already installed\n",
    "sys.path.append(\"../../../../gostrocks/src\")\n",
    "sys.path.append(\"../../../../GOST_Urban/src\")\n",
    "\n",
    "import GOSTRocks.rasterMisc as rMisc\n",
    "from GOSTRocks.misc import tPrint\n",
    "import GOST_Urban.UrbanRaster as urban\n",
    "\n",
    "%matplotlib inline  \n",
    "%load_ext autoreload\n",
    "%autoreload 2"
   ]
  },
  {
   "cell_type": "code",
   "execution_count": 2,
   "metadata": {},
   "outputs": [],
   "source": [
    "out_folder =  \"/home/wb411133/temp/ICT_distance\"\n",
    "sel_countries = ['AZE','KAZ','KHM','SLB','UKR']"
   ]
  },
  {
   "cell_type": "code",
   "execution_count": 3,
   "metadata": {},
   "outputs": [
    {
     "name": "stdout",
     "output_type": "stream",
     "text": [
      "(121121, 9)\n",
      "(121116, 9)\n"
     ]
    },
    {
     "data": {
      "text/html": [
       "<div>\n",
       "<style scoped>\n",
       "    .dataframe tbody tr th:only-of-type {\n",
       "        vertical-align: middle;\n",
       "    }\n",
       "\n",
       "    .dataframe tbody tr th {\n",
       "        vertical-align: top;\n",
       "    }\n",
       "\n",
       "    .dataframe thead th {\n",
       "        text-align: right;\n",
       "    }\n",
       "</style>\n",
       "<table border=\"1\" class=\"dataframe\">\n",
       "  <thead>\n",
       "    <tr style=\"text-align: right;\">\n",
       "      <th></th>\n",
       "      <th>idstd</th>\n",
       "      <th>year</th>\n",
       "      <th>fyear</th>\n",
       "      <th>d2_l1_year_perf_indicators</th>\n",
       "      <th>lat_mask</th>\n",
       "      <th>lon_mask</th>\n",
       "      <th>survey</th>\n",
       "      <th>WBCode</th>\n",
       "      <th>type</th>\n",
       "    </tr>\n",
       "  </thead>\n",
       "  <tbody>\n",
       "    <tr>\n",
       "      <th>0</th>\n",
       "      <td>468901.0</td>\n",
       "      <td>2010.0</td>\n",
       "      <td>2009</td>\n",
       "      <td>2009</td>\n",
       "      <td>14.803293</td>\n",
       "      <td>49.687744</td>\n",
       "      <td>Yemen2010</td>\n",
       "      <td>YEM</td>\n",
       "      <td>Enterprise Survey</td>\n",
       "    </tr>\n",
       "    <tr>\n",
       "      <th>1</th>\n",
       "      <td>468902.0</td>\n",
       "      <td>2010.0</td>\n",
       "      <td>2009</td>\n",
       "      <td>2009</td>\n",
       "      <td>14.556620</td>\n",
       "      <td>49.129032</td>\n",
       "      <td>Yemen2010</td>\n",
       "      <td>YEM</td>\n",
       "      <td>Enterprise Survey</td>\n",
       "    </tr>\n",
       "    <tr>\n",
       "      <th>2</th>\n",
       "      <td>468903.0</td>\n",
       "      <td>2010.0</td>\n",
       "      <td>2009</td>\n",
       "      <td>2009</td>\n",
       "      <td>14.551517</td>\n",
       "      <td>49.141815</td>\n",
       "      <td>Yemen2010</td>\n",
       "      <td>YEM</td>\n",
       "      <td>Enterprise Survey</td>\n",
       "    </tr>\n",
       "    <tr>\n",
       "      <th>3</th>\n",
       "      <td>468904.0</td>\n",
       "      <td>2010.0</td>\n",
       "      <td>2009</td>\n",
       "      <td>2009</td>\n",
       "      <td>14.515405</td>\n",
       "      <td>49.125977</td>\n",
       "      <td>Yemen2010</td>\n",
       "      <td>YEM</td>\n",
       "      <td>Enterprise Survey</td>\n",
       "    </tr>\n",
       "    <tr>\n",
       "      <th>4</th>\n",
       "      <td>468905.0</td>\n",
       "      <td>2010.0</td>\n",
       "      <td>2009</td>\n",
       "      <td>2009</td>\n",
       "      <td>14.519185</td>\n",
       "      <td>49.119148</td>\n",
       "      <td>Yemen2010</td>\n",
       "      <td>YEM</td>\n",
       "      <td>Enterprise Survey</td>\n",
       "    </tr>\n",
       "  </tbody>\n",
       "</table>\n",
       "</div>"
      ],
      "text/plain": [
       "      idstd    year fyear  d2_l1_year_perf_indicators   lat_mask   lon_mask  \\\n",
       "0  468901.0  2010.0  2009                        2009  14.803293  49.687744   \n",
       "1  468902.0  2010.0  2009                        2009  14.556620  49.129032   \n",
       "2  468903.0  2010.0  2009                        2009  14.551517  49.141815   \n",
       "3  468904.0  2010.0  2009                        2009  14.515405  49.125977   \n",
       "4  468905.0  2010.0  2009                        2009  14.519185  49.119148   \n",
       "\n",
       "      survey WBCode               type  \n",
       "0  Yemen2010    YEM  Enterprise Survey  \n",
       "1  Yemen2010    YEM  Enterprise Survey  \n",
       "2  Yemen2010    YEM  Enterprise Survey  \n",
       "3  Yemen2010    YEM  Enterprise Survey  \n",
       "4  Yemen2010    YEM  Enterprise Survey  "
      ]
     },
     "execution_count": 3,
     "metadata": {},
     "output_type": "execute_result"
    }
   ],
   "source": [
    "wbes_coords = \"/home/wb411133/data/Projects/ICT_Distance/Data/Masked ES GPS April 15-2021_year.dta\"\n",
    "inD = pd.read_stata(wbes_coords)\n",
    "print(inD.shape)\n",
    "# filter data with broken coordinates\n",
    "inD = inD.loc[(inD['lat_mask'] > -90) & (inD['lat_mask'] < 90) & (inD['lon_mask'] > -180) & (inD['lon_mask'] < 180)]\n",
    "print(inD.shape)\n",
    "inD.head()"
   ]
  },
  {
   "cell_type": "code",
   "execution_count": 4,
   "metadata": {},
   "outputs": [],
   "source": [
    "geoms = [Point(row['lon_mask'], row['lat_mask']) for idx, row in inD.iterrows()]\n",
    "inD = gpd.GeoDataFrame(inD, geometry=geoms, crs = 'epsg:4326')\n",
    "inD['d2_l1_year_perf_indicators'] = inD['d2_l1_year_perf_indicators'].astype(int)"
   ]
  },
  {
   "cell_type": "code",
   "execution_count": 5,
   "metadata": {},
   "outputs": [],
   "source": [
    "global_bounds = \"/home/public/Data/GLOBAL/ADMIN/Admin0_Polys.shp\"\n",
    "inG = gpd.read_file(global_bounds)\n",
    "inG = inG.to_crs('epsg:4326')\n",
    "inG.loc[inG['ISO3'] == 'KSV', 'ISO3'] = 'XKX'"
   ]
  },
  {
   "cell_type": "markdown",
   "metadata": {},
   "source": [
    "# Open and load infrastructure data"
   ]
  },
  {
   "cell_type": "code",
   "execution_count": 6,
   "metadata": {},
   "outputs": [],
   "source": [
    "openCellID = \"/home/public/Data/GLOBAL/INFRA/OPENCELLID/cell_towers_2020-04-15-T000000.csv\"    \n",
    "ixp_file = '/home/public/Data/GLOBAL/INFRA/IXPS/ixps_global_geocoded.csv'\n",
    "colocation_file = '/home/public/Data/GLOBAL/INFRA/DATA_CENTERS/Data_Centers.geojson'\n",
    "cell_coverage_folder = '/home/public/Data/GLOBAL/INFRA/GSMA/2019/MCE/Data_MCE/Global'\n",
    "cell_files = ['MCE_Global2G_2020.tif', 'MCE_Global3G_2020.tif', 'MCE_Global4G_2020.tif']\n",
    "submarine_cable_file = '/home/public/Data/GLOBAL/INFRA/SUBMARINE_CABLES/landing-point-geo.json'"
   ]
  },
  {
   "cell_type": "code",
   "execution_count": 7,
   "metadata": {},
   "outputs": [
    {
     "name": "stderr",
     "output_type": "stream",
     "text": [
      "/home/wb411133/.conda/envs/ee/lib/python3.9/site-packages/pyproj/crs/crs.py:68: FutureWarning: '+init=<authority>:<code>' syntax is deprecated. '<authority>:<code>' is the preferred initialization method. When making the change, be mindful of axis order changes: https://pyproj4.github.io/pyproj/stable/gotchas.html#axis-order-changes-in-proj-6\n",
      "  return _prepare_from_string(\" \".join(pjargs))\n"
     ]
    }
   ],
   "source": [
    "inCell = pd.read_csv(openCellID)\n",
    "inD_geom = [Point(x) for x in zip(inCell['lon'], inCell['lat'])]\n",
    "inCell = gpd.GeoDataFrame(inCell, geometry = inD_geom, crs = {'init':'epsg:4326'})"
   ]
  },
  {
   "cell_type": "code",
   "execution_count": 8,
   "metadata": {},
   "outputs": [],
   "source": [
    "cell_sindex = inCell.sindex"
   ]
  },
  {
   "cell_type": "code",
   "execution_count": 9,
   "metadata": {},
   "outputs": [],
   "source": [
    "inCol = gpd.read_file(colocation_file)"
   ]
  },
  {
   "cell_type": "code",
   "execution_count": 10,
   "metadata": {},
   "outputs": [],
   "source": [
    "# Load submarine cables - load landing points, identify RFS attributes from combined other data\n",
    "#     final dataset needs landing points with RFS dates\n",
    "landing_points = gpd.read_file('https://raw.githubusercontent.com/telegeography/www.submarinecablemap.com/master/web/public/api/v3/landing-point/landing-point-geo.json')                                \n",
    "cables = gpd.read_file('https://raw.githubusercontent.com/telegeography/www.submarinecablemap.com/master/web/public/api/v3/cable/cable-geo.json')                        \n",
    "cables_json_base = 'https://raw.githubusercontent.com/telegeography/www.submarinecablemap.com/master/web/public/api/v3/cable/{cable_id}.json'"
   ]
  },
  {
   "cell_type": "code",
   "execution_count": 11,
   "metadata": {},
   "outputs": [],
   "source": [
    "all_landing_points = []\n",
    "for cur_id in cables['id']:\n",
    "    response = urlopen(cables_json_base.format(cable_id = cur_id))\n",
    "    json_data = response.read().decode()\n",
    "    d = json.loads(json_data)\n",
    "    l_points = d['landing_points']\n",
    "    for item in l_points:\n",
    "        try:\n",
    "            item['RFS'] = int(d['rfs'][:4])\n",
    "            all_landing_points.append(item)\n",
    "        except:\n",
    "            pass"
   ]
  },
  {
   "cell_type": "code",
   "execution_count": 12,
   "metadata": {
    "scrolled": true
   },
   "outputs": [],
   "source": [
    "landing_point_rfs = pd.DataFrame(all_landing_points)\n",
    "lp_data = pd.merge(landing_point_rfs, landing_points, on=\"id\")\n",
    "lp_data = gpd.GeoDataFrame(lp_data, geometry='geometry', crs='epsg:4326')\n",
    "\n",
    "def try_country(x):\n",
    "    try:\n",
    "        return(pycountry.countries.search_fuzzy(x)[0].alpha_3)\n",
    "    except:\n",
    "        country_defs = {\n",
    "            'South Korea':'KOR',\n",
    "            'Virgin Islands (U.S.)':'VIR',\n",
    "            'Congo, Dem. Rep.':'COD',\n",
    "            'Congo, Rep.':'COG',\n",
    "            'Cape Verde':'CPV',\n",
    "            'Virgin Islands (U.K.)':'VIR'\n",
    "        }\n",
    "        try:\n",
    "            return(country_defs[x])\n",
    "        except:\n",
    "            return('')\n",
    "\n",
    "lp_data['ISO3'] = lp_data['country'].apply(lambda x: try_country(x))\n",
    "lp_data.drop(['name_x', 'is_tbd_x'], axis=1, inplace=True)\n",
    "lp_data.columns = ['id', 'country', 'RFS', 'name', 'is_tbd', 'geometry', 'ISO3']\n",
    "inCables = lp_data"
   ]
  },
  {
   "cell_type": "code",
   "execution_count": 13,
   "metadata": {},
   "outputs": [],
   "source": [
    "inIXP = pd.read_csv(ixp_file, index_col=0)\n",
    "inD_geom = [Point(x) for x in zip(inIXP['Lon'], inIXP['Lat'])]\n",
    "inIXP = gpd.GeoDataFrame(inIXP, geometry = inD_geom, crs = {'init':'epsg:4326'})"
   ]
  },
  {
   "cell_type": "code",
   "execution_count": 14,
   "metadata": {},
   "outputs": [],
   "source": [
    "gsma2g_R = rasterio.open(os.path.join(cell_coverage_folder, cell_files[0]))\n",
    "gsma3g_R = rasterio.open(os.path.join(cell_coverage_folder, cell_files[1]))\n",
    "gsma4g_R = rasterio.open(os.path.join(cell_coverage_folder, cell_files[2]))"
   ]
  },
  {
   "cell_type": "markdown",
   "metadata": {},
   "source": [
    "# Calculate distances"
   ]
  },
  {
   "cell_type": "code",
   "execution_count": 19,
   "metadata": {
    "scrolled": true
   },
   "outputs": [
    {
     "name": "stdout",
     "output_type": "stream",
     "text": [
      "10:55:11\t***** Processing LAO\n"
     ]
    },
    {
     "name": "stderr",
     "output_type": "stream",
     "text": [
      "<ipython-input-19-ed325c2fb16d>:15: UserWarning: Geometry is in a geographic CRS. Results from 'buffer' are likely incorrect. Use 'GeoSeries.to_crs()' to re-project geometries to a projected CRS before this operation.\n",
      "\n",
      "  curN = inG.loc[inG.intersects(curB.buffer(0.01).unary_union)]\n"
     ]
    },
    {
     "name": "stdout",
     "output_type": "stream",
     "text": [
      "10:55:11\t***** Processing THA\n"
     ]
    },
    {
     "name": "stderr",
     "output_type": "stream",
     "text": [
      "<ipython-input-19-ed325c2fb16d>:15: UserWarning: Geometry is in a geographic CRS. Results from 'buffer' are likely incorrect. Use 'GeoSeries.to_crs()' to re-project geometries to a projected CRS before this operation.\n",
      "\n",
      "  curN = inG.loc[inG.intersects(curB.buffer(0.01).unary_union)]\n"
     ]
    },
    {
     "name": "stdout",
     "output_type": "stream",
     "text": [
      "10:55:45\t***** Processing VNM\n"
     ]
    },
    {
     "name": "stderr",
     "output_type": "stream",
     "text": [
      "<ipython-input-19-ed325c2fb16d>:15: UserWarning: Geometry is in a geographic CRS. Results from 'buffer' are likely incorrect. Use 'GeoSeries.to_crs()' to re-project geometries to a projected CRS before this operation.\n",
      "\n",
      "  curN = inG.loc[inG.intersects(curB.buffer(0.01).unary_union)]\n"
     ]
    },
    {
     "name": "stdout",
     "output_type": "stream",
     "text": [
      "10:56:15\t***** Processing MDA\n"
     ]
    },
    {
     "name": "stderr",
     "output_type": "stream",
     "text": [
      "<ipython-input-19-ed325c2fb16d>:15: UserWarning: Geometry is in a geographic CRS. Results from 'buffer' are likely incorrect. Use 'GeoSeries.to_crs()' to re-project geometries to a projected CRS before this operation.\n",
      "\n",
      "  curN = inG.loc[inG.intersects(curB.buffer(0.01).unary_union)]\n"
     ]
    },
    {
     "name": "stdout",
     "output_type": "stream",
     "text": [
      "10:56:21\t***** Processing VEN\n"
     ]
    },
    {
     "name": "stderr",
     "output_type": "stream",
     "text": [
      "<ipython-input-19-ed325c2fb16d>:15: UserWarning: Geometry is in a geographic CRS. Results from 'buffer' are likely incorrect. Use 'GeoSeries.to_crs()' to re-project geometries to a projected CRS before this operation.\n",
      "\n",
      "  curN = inG.loc[inG.intersects(curB.buffer(0.01).unary_union)]\n"
     ]
    },
    {
     "name": "stdout",
     "output_type": "stream",
     "text": [
      "10:56:46\t***** Processing ZIM\n",
      "10:56:46\t***** Processing ROM\n",
      "10:56:46\t***** Processing BEL\n"
     ]
    },
    {
     "name": "stderr",
     "output_type": "stream",
     "text": [
      "<ipython-input-19-ed325c2fb16d>:15: UserWarning: Geometry is in a geographic CRS. Results from 'buffer' are likely incorrect. Use 'GeoSeries.to_crs()' to re-project geometries to a projected CRS before this operation.\n",
      "\n",
      "  curN = inG.loc[inG.intersects(curB.buffer(0.01).unary_union)]\n"
     ]
    },
    {
     "name": "stdout",
     "output_type": "stream",
     "text": [
      "10:56:49\t***** Processing SLO\n",
      "10:56:49\t***** Processing HUN\n"
     ]
    },
    {
     "name": "stderr",
     "output_type": "stream",
     "text": [
      "<ipython-input-19-ed325c2fb16d>:15: UserWarning: Geometry is in a geographic CRS. Results from 'buffer' are likely incorrect. Use 'GeoSeries.to_crs()' to re-project geometries to a projected CRS before this operation.\n",
      "\n",
      "  curN = inG.loc[inG.intersects(curB.buffer(0.01).unary_union)]\n"
     ]
    },
    {
     "name": "stdout",
     "output_type": "stream",
     "text": [
      "10:56:50\t***** Processing POL\n"
     ]
    },
    {
     "name": "stderr",
     "output_type": "stream",
     "text": [
      "<ipython-input-19-ed325c2fb16d>:15: UserWarning: Geometry is in a geographic CRS. Results from 'buffer' are likely incorrect. Use 'GeoSeries.to_crs()' to re-project geometries to a projected CRS before this operation.\n",
      "\n",
      "  curN = inG.loc[inG.intersects(curB.buffer(0.01).unary_union)]\n"
     ]
    }
   ],
   "source": [
    "broken_countries = ['CHL','RUS','CHN','IDN']\n",
    "n_processes = 30\n",
    "epsg = 'epsg:6933'\n",
    "if not os.path.exists(out_folder):\n",
    "    os.makedirs(out_folder)\n",
    "args = []\n",
    "for cur_country in ['LAO','THA','VNM','MDA','VEN','ZIM','ROM','BEL','SLO','HUN','POL']: #inD['WBCode'].unique(): #sel_countries: #\n",
    "    out_file = os.path.join(out_folder, \"%s_ICT_distance.csv\" % cur_country)\n",
    "    tPrint(f\"***** Processing {cur_country}\")\n",
    "    if not cur_country in broken_countries:# and not os.path.exists(out_file):\n",
    "        curD = inD.loc[inD['WBCode'] == cur_country]\n",
    "        if curD.shape[0] > 0:\n",
    "            total_bound = inG.loc[inG['ISO3'] == cur_country].unary_union\n",
    "            curB = inG.loc[inG['ISO3'] == cur_country]\n",
    "            curN = inG.loc[inG.intersects(curB.buffer(0.01).unary_union)]\n",
    "            curN = curN.loc[curN['ISO3'] != cur_country]        \n",
    "            if curN.shape[0] < 5:\n",
    "                # If there are no intersecting neighbours, identify the nearest 5 neighbours\n",
    "                # Calculate distance from curB to every country\n",
    "                inG['dist'] = inG['geometry'].apply(lambda x: x.distance(total_bound))\n",
    "                curN = inG.sort_values(\"dist\").iloc[1:6].copy()\n",
    "            selCol = inCol.loc[inCol['geometry'].apply(lambda x: x.intersects(total_bound))]\n",
    "            selIXP = inIXP.loc[inIXP['geometry'].apply(lambda x: x.intersects(total_bound))]                \n",
    "            args.append([cur_country, curD, curB, curN, out_file, selCol, selIXP, inCables, inCell, epsg])\n"
   ]
  },
  {
   "cell_type": "code",
   "execution_count": 18,
   "metadata": {},
   "outputs": [
    {
     "name": "stdout",
     "output_type": "stream",
     "text": [
      "10:37:23\tStarting RWA\n"
     ]
    },
    {
     "data": {
      "text/html": [
       "<div>\n",
       "<style scoped>\n",
       "    .dataframe tbody tr th:only-of-type {\n",
       "        vertical-align: middle;\n",
       "    }\n",
       "\n",
       "    .dataframe tbody tr th {\n",
       "        vertical-align: top;\n",
       "    }\n",
       "\n",
       "    .dataframe thead th {\n",
       "        text-align: right;\n",
       "    }\n",
       "</style>\n",
       "<table border=\"1\" class=\"dataframe\">\n",
       "  <thead>\n",
       "    <tr style=\"text-align: right;\">\n",
       "      <th></th>\n",
       "      <th>idstd</th>\n",
       "      <th>year</th>\n",
       "      <th>fyear</th>\n",
       "      <th>d2_l1_year_perf_indicators</th>\n",
       "      <th>lat_mask</th>\n",
       "      <th>lon_mask</th>\n",
       "      <th>survey</th>\n",
       "      <th>WBCode</th>\n",
       "      <th>type</th>\n",
       "      <th>geometry</th>\n",
       "      <th>...</th>\n",
       "      <th>ngh4_cbl_dist</th>\n",
       "      <th>ngh4_cbl</th>\n",
       "      <th>ngh5</th>\n",
       "      <th>ngh5_dist</th>\n",
       "      <th>ngh5_cbl_dist</th>\n",
       "      <th>ngh5_cbl</th>\n",
       "      <th>cell_dist</th>\n",
       "      <th>gsma2g</th>\n",
       "      <th>gsma3g</th>\n",
       "      <th>gsma4g</th>\n",
       "    </tr>\n",
       "  </thead>\n",
       "  <tbody>\n",
       "    <tr>\n",
       "      <th>16081</th>\n",
       "      <td>518601.0</td>\n",
       "      <td>2011.0</td>\n",
       "      <td>2010</td>\n",
       "      <td>2010</td>\n",
       "      <td>-1.959720</td>\n",
       "      <td>30.120523</td>\n",
       "      <td>Rwanda2011</td>\n",
       "      <td>RWA</td>\n",
       "      <td>Enterprise Survey</td>\n",
       "      <td>POINT (2906217.267 -249960.503)</td>\n",
       "      <td>...</td>\n",
       "      <td>2.916907e+06</td>\n",
       "      <td>2009</td>\n",
       "      <td>KEN</td>\n",
       "      <td>2.916905e+06</td>\n",
       "      <td>2.916907e+06</td>\n",
       "      <td>2009</td>\n",
       "      <td>79.089302</td>\n",
       "      <td>1</td>\n",
       "      <td>1</td>\n",
       "      <td>1</td>\n",
       "    </tr>\n",
       "    <tr>\n",
       "      <th>16082</th>\n",
       "      <td>518602.0</td>\n",
       "      <td>2011.0</td>\n",
       "      <td>2010</td>\n",
       "      <td>2010</td>\n",
       "      <td>-1.968369</td>\n",
       "      <td>30.057611</td>\n",
       "      <td>Rwanda2011</td>\n",
       "      <td>RWA</td>\n",
       "      <td>Enterprise Survey</td>\n",
       "      <td>POINT (2900147.124 -251063.283)</td>\n",
       "      <td>...</td>\n",
       "      <td>2.910954e+06</td>\n",
       "      <td>2009</td>\n",
       "      <td>KEN</td>\n",
       "      <td>2.910952e+06</td>\n",
       "      <td>2.910954e+06</td>\n",
       "      <td>2009</td>\n",
       "      <td>42.142827</td>\n",
       "      <td>1</td>\n",
       "      <td>1</td>\n",
       "      <td>1</td>\n",
       "    </tr>\n",
       "    <tr>\n",
       "      <th>16083</th>\n",
       "      <td>518603.0</td>\n",
       "      <td>2011.0</td>\n",
       "      <td>2010</td>\n",
       "      <td>2010</td>\n",
       "      <td>-1.965382</td>\n",
       "      <td>30.056484</td>\n",
       "      <td>Rwanda2011</td>\n",
       "      <td>RWA</td>\n",
       "      <td>Enterprise Survey</td>\n",
       "      <td>POINT (2900038.360 -250682.391)</td>\n",
       "      <td>...</td>\n",
       "      <td>2.910813e+06</td>\n",
       "      <td>2009</td>\n",
       "      <td>KEN</td>\n",
       "      <td>2.910811e+06</td>\n",
       "      <td>2.910813e+06</td>\n",
       "      <td>2009</td>\n",
       "      <td>95.166281</td>\n",
       "      <td>1</td>\n",
       "      <td>1</td>\n",
       "      <td>1</td>\n",
       "    </tr>\n",
       "    <tr>\n",
       "      <th>16084</th>\n",
       "      <td>518604.0</td>\n",
       "      <td>2011.0</td>\n",
       "      <td>2010</td>\n",
       "      <td>2010</td>\n",
       "      <td>-1.970558</td>\n",
       "      <td>30.089775</td>\n",
       "      <td>Rwanda2011</td>\n",
       "      <td>RWA</td>\n",
       "      <td>Enterprise Survey</td>\n",
       "      <td>POINT (2903250.472 -251342.294)</td>\n",
       "      <td>...</td>\n",
       "      <td>2.914070e+06</td>\n",
       "      <td>2009</td>\n",
       "      <td>KEN</td>\n",
       "      <td>2.914068e+06</td>\n",
       "      <td>2.914070e+06</td>\n",
       "      <td>2009</td>\n",
       "      <td>77.817486</td>\n",
       "      <td>1</td>\n",
       "      <td>1</td>\n",
       "      <td>1</td>\n",
       "    </tr>\n",
       "    <tr>\n",
       "      <th>16085</th>\n",
       "      <td>518605.0</td>\n",
       "      <td>2011.0</td>\n",
       "      <td>2010</td>\n",
       "      <td>2010</td>\n",
       "      <td>-1.975110</td>\n",
       "      <td>30.081638</td>\n",
       "      <td>Rwanda2011</td>\n",
       "      <td>RWA</td>\n",
       "      <td>Enterprise Survey</td>\n",
       "      <td>POINT (2902465.387 -251922.674)</td>\n",
       "      <td>...</td>\n",
       "      <td>2.913338e+06</td>\n",
       "      <td>2009</td>\n",
       "      <td>KEN</td>\n",
       "      <td>2.913336e+06</td>\n",
       "      <td>2.913338e+06</td>\n",
       "      <td>2009</td>\n",
       "      <td>37.182041</td>\n",
       "      <td>1</td>\n",
       "      <td>1</td>\n",
       "      <td>1</td>\n",
       "    </tr>\n",
       "    <tr>\n",
       "      <th>...</th>\n",
       "      <td>...</td>\n",
       "      <td>...</td>\n",
       "      <td>...</td>\n",
       "      <td>...</td>\n",
       "      <td>...</td>\n",
       "      <td>...</td>\n",
       "      <td>...</td>\n",
       "      <td>...</td>\n",
       "      <td>...</td>\n",
       "      <td>...</td>\n",
       "      <td>...</td>\n",
       "      <td>...</td>\n",
       "      <td>...</td>\n",
       "      <td>...</td>\n",
       "      <td>...</td>\n",
       "      <td>...</td>\n",
       "      <td>...</td>\n",
       "      <td>...</td>\n",
       "      <td>...</td>\n",
       "      <td>...</td>\n",
       "      <td>...</td>\n",
       "    </tr>\n",
       "    <tr>\n",
       "      <th>112999</th>\n",
       "      <td>682496.0</td>\n",
       "      <td>2019.0</td>\n",
       "      <td>2018/2019</td>\n",
       "      <td>2018</td>\n",
       "      <td>1.921794</td>\n",
       "      <td>30.025911</td>\n",
       "      <td>Rwanda2019</td>\n",
       "      <td>RWA</td>\n",
       "      <td>Enterprise Survey</td>\n",
       "      <td>POINT (2897088.495 245124.895)</td>\n",
       "      <td>...</td>\n",
       "      <td>2.907402e+06</td>\n",
       "      <td>2009</td>\n",
       "      <td>KEN</td>\n",
       "      <td>2.907398e+06</td>\n",
       "      <td>2.907401e+06</td>\n",
       "      <td>2012</td>\n",
       "      <td>409504.081541</td>\n",
       "      <td>1</td>\n",
       "      <td>3</td>\n",
       "      <td>3</td>\n",
       "    </tr>\n",
       "    <tr>\n",
       "      <th>113000</th>\n",
       "      <td>682497.0</td>\n",
       "      <td>2019.0</td>\n",
       "      <td>2018/2019</td>\n",
       "      <td>2018</td>\n",
       "      <td>2.596256</td>\n",
       "      <td>29.728979</td>\n",
       "      <td>Rwanda2019</td>\n",
       "      <td>RWA</td>\n",
       "      <td>Enterprise Survey</td>\n",
       "      <td>POINT (2868438.610 331102.586)</td>\n",
       "      <td>...</td>\n",
       "      <td>2.887447e+06</td>\n",
       "      <td>2009</td>\n",
       "      <td>KEN</td>\n",
       "      <td>2.887443e+06</td>\n",
       "      <td>2.887446e+06</td>\n",
       "      <td>2012</td>\n",
       "      <td>497799.693736</td>\n",
       "      <td>3</td>\n",
       "      <td>3</td>\n",
       "      <td>3</td>\n",
       "    </tr>\n",
       "    <tr>\n",
       "      <th>113001</th>\n",
       "      <td>682498.0</td>\n",
       "      <td>2019.0</td>\n",
       "      <td>2018/2019</td>\n",
       "      <td>2018</td>\n",
       "      <td>1.713534</td>\n",
       "      <td>29.267258</td>\n",
       "      <td>Rwanda2019</td>\n",
       "      <td>RWA</td>\n",
       "      <td>Enterprise Survey</td>\n",
       "      <td>POINT (2823888.828 218569.485)</td>\n",
       "      <td>...</td>\n",
       "      <td>2.832296e+06</td>\n",
       "      <td>2009</td>\n",
       "      <td>KEN</td>\n",
       "      <td>2.832293e+06</td>\n",
       "      <td>2.832296e+06</td>\n",
       "      <td>2012</td>\n",
       "      <td>394293.382303</td>\n",
       "      <td>3</td>\n",
       "      <td>3</td>\n",
       "      <td>3</td>\n",
       "    </tr>\n",
       "    <tr>\n",
       "      <th>113002</th>\n",
       "      <td>682499.0</td>\n",
       "      <td>2019.0</td>\n",
       "      <td>2018/2019</td>\n",
       "      <td>2018</td>\n",
       "      <td>1.935338</td>\n",
       "      <td>30.039743</td>\n",
       "      <td>Rwanda2019</td>\n",
       "      <td>RWA</td>\n",
       "      <td>Enterprise Survey</td>\n",
       "      <td>POINT (2898423.103 246851.791)</td>\n",
       "      <td>...</td>\n",
       "      <td>2.908877e+06</td>\n",
       "      <td>2009</td>\n",
       "      <td>KEN</td>\n",
       "      <td>2.908874e+06</td>\n",
       "      <td>2.908877e+06</td>\n",
       "      <td>2012</td>\n",
       "      <td>411134.961815</td>\n",
       "      <td>1</td>\n",
       "      <td>3</td>\n",
       "      <td>3</td>\n",
       "    </tr>\n",
       "    <tr>\n",
       "      <th>113003</th>\n",
       "      <td>682500.0</td>\n",
       "      <td>2019.0</td>\n",
       "      <td>2018/2019</td>\n",
       "      <td>2019</td>\n",
       "      <td>1.940674</td>\n",
       "      <td>30.102255</td>\n",
       "      <td>Rwanda2019</td>\n",
       "      <td>RWA</td>\n",
       "      <td>Enterprise Survey</td>\n",
       "      <td>POINT (2904454.599 247532.073)</td>\n",
       "      <td>...</td>\n",
       "      <td>2.914945e+06</td>\n",
       "      <td>2009</td>\n",
       "      <td>KEN</td>\n",
       "      <td>2.914941e+06</td>\n",
       "      <td>2.914944e+06</td>\n",
       "      <td>2012</td>\n",
       "      <td>411453.625126</td>\n",
       "      <td>1</td>\n",
       "      <td>3</td>\n",
       "      <td>3</td>\n",
       "    </tr>\n",
       "  </tbody>\n",
       "</table>\n",
       "<p>601 rows × 40 columns</p>\n",
       "</div>"
      ],
      "text/plain": [
       "           idstd    year      fyear  d2_l1_year_perf_indicators  lat_mask  \\\n",
       "16081   518601.0  2011.0       2010                        2010 -1.959720   \n",
       "16082   518602.0  2011.0       2010                        2010 -1.968369   \n",
       "16083   518603.0  2011.0       2010                        2010 -1.965382   \n",
       "16084   518604.0  2011.0       2010                        2010 -1.970558   \n",
       "16085   518605.0  2011.0       2010                        2010 -1.975110   \n",
       "...          ...     ...        ...                         ...       ...   \n",
       "112999  682496.0  2019.0  2018/2019                        2018  1.921794   \n",
       "113000  682497.0  2019.0  2018/2019                        2018  2.596256   \n",
       "113001  682498.0  2019.0  2018/2019                        2018  1.713534   \n",
       "113002  682499.0  2019.0  2018/2019                        2018  1.935338   \n",
       "113003  682500.0  2019.0  2018/2019                        2019  1.940674   \n",
       "\n",
       "         lon_mask      survey WBCode               type  \\\n",
       "16081   30.120523  Rwanda2011    RWA  Enterprise Survey   \n",
       "16082   30.057611  Rwanda2011    RWA  Enterprise Survey   \n",
       "16083   30.056484  Rwanda2011    RWA  Enterprise Survey   \n",
       "16084   30.089775  Rwanda2011    RWA  Enterprise Survey   \n",
       "16085   30.081638  Rwanda2011    RWA  Enterprise Survey   \n",
       "...           ...         ...    ...                ...   \n",
       "112999  30.025911  Rwanda2019    RWA  Enterprise Survey   \n",
       "113000  29.728979  Rwanda2019    RWA  Enterprise Survey   \n",
       "113001  29.267258  Rwanda2019    RWA  Enterprise Survey   \n",
       "113002  30.039743  Rwanda2019    RWA  Enterprise Survey   \n",
       "113003  30.102255  Rwanda2019    RWA  Enterprise Survey   \n",
       "\n",
       "                               geometry  ...  ngh4_cbl_dist  ngh4_cbl ngh5  \\\n",
       "16081   POINT (2906217.267 -249960.503)  ...   2.916907e+06      2009  KEN   \n",
       "16082   POINT (2900147.124 -251063.283)  ...   2.910954e+06      2009  KEN   \n",
       "16083   POINT (2900038.360 -250682.391)  ...   2.910813e+06      2009  KEN   \n",
       "16084   POINT (2903250.472 -251342.294)  ...   2.914070e+06      2009  KEN   \n",
       "16085   POINT (2902465.387 -251922.674)  ...   2.913338e+06      2009  KEN   \n",
       "...                                 ...  ...            ...       ...  ...   \n",
       "112999   POINT (2897088.495 245124.895)  ...   2.907402e+06      2009  KEN   \n",
       "113000   POINT (2868438.610 331102.586)  ...   2.887447e+06      2009  KEN   \n",
       "113001   POINT (2823888.828 218569.485)  ...   2.832296e+06      2009  KEN   \n",
       "113002   POINT (2898423.103 246851.791)  ...   2.908877e+06      2009  KEN   \n",
       "113003   POINT (2904454.599 247532.073)  ...   2.914945e+06      2009  KEN   \n",
       "\n",
       "           ngh5_dist ngh5_cbl_dist  ngh5_cbl      cell_dist  gsma2g  gsma3g  \\\n",
       "16081   2.916905e+06  2.916907e+06      2009      79.089302       1       1   \n",
       "16082   2.910952e+06  2.910954e+06      2009      42.142827       1       1   \n",
       "16083   2.910811e+06  2.910813e+06      2009      95.166281       1       1   \n",
       "16084   2.914068e+06  2.914070e+06      2009      77.817486       1       1   \n",
       "16085   2.913336e+06  2.913338e+06      2009      37.182041       1       1   \n",
       "...              ...           ...       ...            ...     ...     ...   \n",
       "112999  2.907398e+06  2.907401e+06      2012  409504.081541       1       3   \n",
       "113000  2.887443e+06  2.887446e+06      2012  497799.693736       3       3   \n",
       "113001  2.832293e+06  2.832296e+06      2012  394293.382303       3       3   \n",
       "113002  2.908874e+06  2.908877e+06      2012  411134.961815       1       3   \n",
       "113003  2.914941e+06  2.914944e+06      2012  411453.625126       1       3   \n",
       "\n",
       "        gsma4g  \n",
       "16081        1  \n",
       "16082        1  \n",
       "16083        1  \n",
       "16084        1  \n",
       "16085        1  \n",
       "...        ...  \n",
       "112999       3  \n",
       "113000       3  \n",
       "113001       3  \n",
       "113002       3  \n",
       "113003       3  \n",
       "\n",
       "[601 rows x 40 columns]"
      ]
     },
     "execution_count": 18,
     "metadata": {},
     "output_type": "execute_result"
    }
   ],
   "source": [
    "# run individual country\n",
    "# importlib.reload(ict)\n",
    "# res = ict.calculate_country(*args[0])"
   ]
  },
  {
   "cell_type": "code",
   "execution_count": null,
   "metadata": {},
   "outputs": [],
   "source": []
  },
  {
   "cell_type": "code",
   "execution_count": 20,
   "metadata": {},
   "outputs": [
    {
     "data": {
      "text/plain": [
       "8"
      ]
     },
     "execution_count": 20,
     "metadata": {},
     "output_type": "execute_result"
    }
   ],
   "source": [
    "num_processes = min([len(args), 20])\n",
    "num_processes"
   ]
  },
  {
   "cell_type": "code",
   "execution_count": 21,
   "metadata": {
    "scrolled": true
   },
   "outputs": [
    {
     "name": "stderr",
     "output_type": "stream",
     "text": [
      "/home/wb411133/.conda/envs/ee/lib/python3.9/site-packages/pyproj/crs/crs.py:292: FutureWarning: '+init=<authority>:<code>' syntax is deprecated. '<authority>:<code>' is the preferred initialization method. When making the change, be mindful of axis order changes: https://pyproj4.github.io/pyproj/stable/gotchas.html#axis-order-changes-in-proj-6\n",
      "  projstring = _prepare_from_string(projparams)\n"
     ]
    },
    {
     "name": "stdout",
     "output_type": "stream",
     "text": [
      "12:36:41\tStarting LAO\n"
     ]
    },
    {
     "name": "stderr",
     "output_type": "stream",
     "text": [
      "/home/wb411133/.conda/envs/ee/lib/python3.9/site-packages/pyproj/crs/crs.py:292: FutureWarning: '+init=<authority>:<code>' syntax is deprecated. '<authority>:<code>' is the preferred initialization method. When making the change, be mindful of axis order changes: https://pyproj4.github.io/pyproj/stable/gotchas.html#axis-order-changes-in-proj-6\n",
      "  projstring = _prepare_from_string(projparams)\n"
     ]
    },
    {
     "name": "stdout",
     "output_type": "stream",
     "text": [
      "12:44:09\tStarting THA\n"
     ]
    },
    {
     "name": "stderr",
     "output_type": "stream",
     "text": [
      "/home/wb411133/.conda/envs/ee/lib/python3.9/site-packages/pyproj/crs/crs.py:292: FutureWarning: '+init=<authority>:<code>' syntax is deprecated. '<authority>:<code>' is the preferred initialization method. When making the change, be mindful of axis order changes: https://pyproj4.github.io/pyproj/stable/gotchas.html#axis-order-changes-in-proj-6\n",
      "  projstring = _prepare_from_string(projparams)\n"
     ]
    },
    {
     "name": "stdout",
     "output_type": "stream",
     "text": [
      "12:51:42\tStarting VNM\n"
     ]
    },
    {
     "name": "stderr",
     "output_type": "stream",
     "text": [
      "/home/wb411133/.conda/envs/ee/lib/python3.9/site-packages/pyproj/crs/crs.py:292: FutureWarning: '+init=<authority>:<code>' syntax is deprecated. '<authority>:<code>' is the preferred initialization method. When making the change, be mindful of axis order changes: https://pyproj4.github.io/pyproj/stable/gotchas.html#axis-order-changes-in-proj-6\n",
      "  projstring = _prepare_from_string(projparams)\n"
     ]
    },
    {
     "name": "stdout",
     "output_type": "stream",
     "text": [
      "12:59:23\tStarting MDA\n"
     ]
    },
    {
     "name": "stderr",
     "output_type": "stream",
     "text": [
      "/home/wb411133/.conda/envs/ee/lib/python3.9/site-packages/pyproj/crs/crs.py:292: FutureWarning: '+init=<authority>:<code>' syntax is deprecated. '<authority>:<code>' is the preferred initialization method. When making the change, be mindful of axis order changes: https://pyproj4.github.io/pyproj/stable/gotchas.html#axis-order-changes-in-proj-6\n",
      "  projstring = _prepare_from_string(projparams)\n"
     ]
    },
    {
     "name": "stdout",
     "output_type": "stream",
     "text": [
      "13:07:27\tStarting VEN\n"
     ]
    },
    {
     "name": "stderr",
     "output_type": "stream",
     "text": [
      "/home/wb411133/.conda/envs/ee/lib/python3.9/site-packages/pyproj/crs/crs.py:292: FutureWarning: '+init=<authority>:<code>' syntax is deprecated. '<authority>:<code>' is the preferred initialization method. When making the change, be mindful of axis order changes: https://pyproj4.github.io/pyproj/stable/gotchas.html#axis-order-changes-in-proj-6\n",
      "  projstring = _prepare_from_string(projparams)\n"
     ]
    },
    {
     "name": "stdout",
     "output_type": "stream",
     "text": [
      "13:15:14\tStarting BEL\n"
     ]
    },
    {
     "name": "stderr",
     "output_type": "stream",
     "text": [
      "/home/wb411133/.conda/envs/ee/lib/python3.9/site-packages/pyproj/crs/crs.py:292: FutureWarning: '+init=<authority>:<code>' syntax is deprecated. '<authority>:<code>' is the preferred initialization method. When making the change, be mindful of axis order changes: https://pyproj4.github.io/pyproj/stable/gotchas.html#axis-order-changes-in-proj-6\n",
      "  projstring = _prepare_from_string(projparams)\n"
     ]
    },
    {
     "name": "stdout",
     "output_type": "stream",
     "text": [
      "13:23:10\tStarting HUN\n"
     ]
    },
    {
     "name": "stderr",
     "output_type": "stream",
     "text": [
      "/home/wb411133/.conda/envs/ee/lib/python3.9/site-packages/pyproj/crs/crs.py:292: FutureWarning: '+init=<authority>:<code>' syntax is deprecated. '<authority>:<code>' is the preferred initialization method. When making the change, be mindful of axis order changes: https://pyproj4.github.io/pyproj/stable/gotchas.html#axis-order-changes-in-proj-6\n",
      "  projstring = _prepare_from_string(projparams)\n"
     ]
    },
    {
     "name": "stdout",
     "output_type": "stream",
     "text": [
      "13:31:42\tStarting POL\n"
     ]
    }
   ],
   "source": [
    "importlib.reload(ict)\n",
    "with multiprocessing.Pool(num_processes) as pool:\n",
    "    res = pool.starmap(ict.calculate_country, args)"
   ]
  },
  {
   "cell_type": "markdown",
   "metadata": {},
   "source": [
    "# Manually fixing cell distance\n",
    "The cell_dist column is coming up empty in the multiprocessing side, so it will be processed manually"
   ]
  },
  {
   "cell_type": "code",
   "execution_count": 25,
   "metadata": {},
   "outputs": [
    {
     "data": {
      "text/plain": [
       "'AZE_ICT_distance.csv'"
      ]
     },
     "execution_count": 25,
     "metadata": {},
     "output_type": "execute_result"
    }
   ],
   "source": [
    "in_files = os.listdir(out_folder)\n",
    "sel_file = in_files[0]\n",
    "sel_file"
   ]
  },
  {
   "cell_type": "code",
   "execution_count": null,
   "metadata": {
    "scrolled": true
   },
   "outputs": [
    {
     "name": "stdout",
     "output_type": "stream",
     "text": [
      "13:11:57\tVEN\n",
      "13:17:57\tPOL\n"
     ]
    }
   ],
   "source": [
    "epsg = 'epsg:6933'\n",
    "for sel_file in in_files:\n",
    "    iso3 = sel_file.split(\"_\")[0]    \n",
    "    if iso3 in ['LAO','THA','VNM','MDA','VEN','ZIM','ROM','BEL','SLO','HUN','POL']:\n",
    "        tPrint(iso3)\n",
    "        distD = pd.read_csv(os.path.join(out_folder, sel_file), index_col=0)\n",
    "        distD['geometry'] = distD['geometry'].apply(lambda x: wkt.loads(x))\n",
    "        distD = gpd.GeoDataFrame(distD, geometry='geometry', crs=epsg)\n",
    "        curB = inG.loc[inG['ISO3'] == sel_file[:3]]\n",
    "\n",
    "        potential_matches = inCell.loc[list(cell_sindex.intersection(curB.total_bounds))]\n",
    "        selCell = potential_matches.loc[potential_matches.intersects(curB.unary_union)]\n",
    "        selCell = selCell.to_crs(epsg)\n",
    "        distD['cell_dist'] = distD.distance(selCell.unary_union)\n",
    "        pd.DataFrame(distD).to_csv(os.path.join(out_folder, sel_file))\n",
    "\n",
    "    "
   ]
  },
  {
   "cell_type": "code",
   "execution_count": null,
   "metadata": {},
   "outputs": [],
   "source": []
  },
  {
   "cell_type": "markdown",
   "metadata": {},
   "source": [
    "# DEBUGGING"
   ]
  },
  {
   "cell_type": "code",
   "execution_count": null,
   "metadata": {},
   "outputs": [],
   "source": [
    "pd.read_csv?"
   ]
  },
  {
   "cell_type": "code",
   "execution_count": null,
   "metadata": {},
   "outputs": [],
   "source": [
    "# Check out how many countries don't have 5 neighbours\n",
    "for file in os.listdir(out_folder):\n",
    "    tempD = pd.read_csv(os.path.join(out_folder, file), index_col=0)\n",
    "    name = file.split(\"_\")[0]\n",
    "    neigh_cols = [x for x in tempD.columns if ((\"ngh\" in x) and not (\"_\" in x))]\n",
    "    n_neigh = len(neigh_cols)\n",
    "    neighbours = [tempD.loc[tempD.index[0], n] for n in neigh_cols]\n",
    "    #if (\"COD\" in neighbours) or (\"COG\" in neighbours):\n",
    "    #    print(name)\n",
    "    if n_neigh == 1:\n",
    "        print(f'{name}: {n_neigh}')\n",
    "    "
   ]
  },
  {
   "cell_type": "code",
   "execution_count": null,
   "metadata": {},
   "outputs": [],
   "source": [
    "neighbours"
   ]
  },
  {
   "cell_type": "code",
   "execution_count": null,
   "metadata": {},
   "outputs": [],
   "source": [
    "for n in neigh_cols:\n",
    "    print(inD.loc[inD.index[0],n])"
   ]
  },
  {
   "cell_type": "code",
   "execution_count": null,
   "metadata": {},
   "outputs": [],
   "source": [
    "inD['ngh1_dist'].max()"
   ]
  },
  {
   "cell_type": "code",
   "execution_count": null,
   "metadata": {},
   "outputs": [],
   "source": []
  }
 ],
 "metadata": {
  "kernelspec": {
   "display_name": "Earth Engine",
   "language": "python",
   "name": "ee"
  },
  "language_info": {
   "codemirror_mode": {
    "name": "ipython",
    "version": 3
   },
   "file_extension": ".py",
   "mimetype": "text/x-python",
   "name": "python",
   "nbconvert_exporter": "python",
   "pygments_lexer": "ipython3",
   "version": "3.9.4"
  }
 },
 "nbformat": 4,
 "nbformat_minor": 2
}
