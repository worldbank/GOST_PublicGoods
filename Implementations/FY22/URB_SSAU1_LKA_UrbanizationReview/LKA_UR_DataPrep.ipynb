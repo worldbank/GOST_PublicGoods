{
 "cells": [
  {
   "cell_type": "markdown",
   "metadata": {},
   "source": [
    "# LKA urbanization review\n",
    "http://wiki.worldbank.org/display/GEOS/LKA_SSAU1_ColomboUrbanization\n",
    "\n",
    "Will perform the following analyses:\n",
    "1. Extract urban areas\n",
    "2. Summarize nighttime lights\n",
    "3. Summarize built area change\n",
    "4. Run Market access  \n",
    "   a. Airports  \n",
    "   b. Ports  \n",
    "   c. Schools  \n",
    "   d. Hospitals  "
   ]
  },
  {
   "cell_type": "code",
   "execution_count": 38,
   "metadata": {},
   "outputs": [],
   "source": [
    "import sys, os, importlib\n",
    "import rasterio, boto3\n",
    "import reverse_geocode\n",
    "\n",
    "import geopandas as gpd\n",
    "import pandas as pd\n",
    "import skimage.graph as graph\n",
    "\n",
    "# Import GOST libraries; sys.path.append will be unnecessary if libraries are already installed\n",
    "sys.path.append(\"../../../../gostrocks/src\")\n",
    "sys.path.append(\"../../../../GOST_Urban\")\n",
    "sys.path.append(\"../../../../GOSTNets_Raster/src\")\n",
    "\n",
    "import GOSTNets_Raster.market_access as ma\n",
    "import GOSTRocks.rasterMisc as rMisc\n",
    "import src.UrbanRaster as urban\n",
    "from GOSTRocks.misc import tPrint\n",
    "%matplotlib inline  "
   ]
  },
  {
   "cell_type": "code",
   "execution_count": 11,
   "metadata": {},
   "outputs": [
    {
     "name": "stderr",
     "output_type": "stream",
     "text": [
      "../../../../GOST_Urban/src/UrbanRaster.py:290: UserWarning: Geometry is in a geographic CRS. Results from 'buffer' are likely incorrect. Use 'GeoSeries.to_crs()' to re-project geometries to a projected CRS before this operation.\n",
      "\n",
      "  xxGeom['geometry '] = xxGeom.buffer((popRaster.res[0] / 2))\n"
     ]
    }
   ],
   "source": [
    "iso3 = 'LKA'\n",
    "\n",
    "out_folder = \"/home/wb411133/temp/%s\" % iso3\n",
    "if not os.path.exists(out_folder):\n",
    "    os.makedirs(out_folder)\n",
    "\n",
    "global_friction = \"/home/public/Data/GLOBAL/INFRA/FRICTION_2020/2020_motorized_friction_surface.geotiff\"\n",
    "\n",
    "# Define local files \n",
    "friction_file = os.path.join(out_folder, \"friction_surface.tif\")\n",
    "focal_admin2 = os.path.join(out_folder, \"admin.shp\")\n",
    "wp_1km = os.path.join(out_folder, \"WP_2020_1km.tif\")\n",
    "urban_extents = os.path.join(out_folder, \"urban_extents.shp\")\n",
    "hd_urban_extents = os.path.join(out_folder, \"hd_urban_extents.shp\")\n",
    "airports = os.path.join(out_folder, \"airports.shp\")\n",
    "ports = os.path.join(out_folder, \"ports.shp\")\n",
    "\n",
    "if not os.path.exists(friction_file):\n",
    "    rMisc.clipRaster(rasterio.open(global_friction), gpd.read_file(focal_admin2), friction_file)\n",
    "\n",
    "# Calculate urban extents from 1km WorldPop\n",
    "if not os.path.exists(urban_extents):\n",
    "    urban_shp = wp.calculateUrban(rasterio.open(wp_1km), smooth=False)\n",
    "    urban_shp.to_file(urban_extents)\n",
    "\n",
    "# Calculate urban extents from 1km WorldPop\n",
    "if not os.path.exists(hd_urban_extents):\n",
    "    urban_r = urban.urbanGriddedPop(wp_1km)\n",
    "    urban_ext = urban_r.calculateUrban(densVal=300, totalPopThresh=5000, smooth=False, queen=False)\n",
    "    urban_ext.to_file(urban_extents)\n",
    "    hd_urban_ext = urban_r.calculateUrban(densVal=1500, totalPopThresh=50000, smooth=True, queen=True)\n",
    "    hd_urban_ext.to_file(hd_urban_extents)"
   ]
  },
  {
   "cell_type": "code",
   "execution_count": 19,
   "metadata": {},
   "outputs": [],
   "source": [
    "#Summarize nighttime lights\n",
    "bucket = \"wbgdecinternal-ntl\"\n",
    "s3 = boto3.client('s3')\n",
    "viirs_annual = s3.list_objects(Bucket=bucket, Prefix = 'NTL/VIIRS/Annual/VIIRS_ANNUAL_EOG/')\n",
    "viirs_files = [os.path.join(f's3://{bucket}/', x['Key']) for x in viirs_annual['Contents']]\n",
    "\n",
    "urb_ext = gpd.read_file(urban_extents)\n",
    "hd_urb_ext = gpd.read_file(hd_urban_extents)\n",
    "inAdm = gpd.read_file(focal_admin2)\n",
    "\n",
    "for viirs_file in viirs_files:\n",
    "    yr = viirs_file.split(\"_\")[-4]\n",
    "    curR = rasterio.open(viirs_file)\n",
    "    # Summarize VIIRS in urban extents\n",
    "    res = rMisc.zonalStats(urb_ext, curR, minVal=0.1, allTouched=True)\n",
    "    res = pd.DataFrame(res, columns=['SUM','MIN','MAX','MEAN'])\n",
    "    urb_ext[f'v_{yr}'] = res['SUM']\n",
    "    # Summarize VIIRS in hd urban extents\n",
    "    res = rMisc.zonalStats(hd_urb_ext, curR, minVal=0.1, allTouched=True)\n",
    "    res = pd.DataFrame(res, columns=['SUM','MIN','MAX','MEAN'])\n",
    "    hd_urb_ext[f'v_{yr}'] = res['SUM']\n",
    "    # Summarize VIIRS in admin areas\n",
    "    res = rMisc.zonalStats(inAdm, curR, minVal=0.1, allTouched=False)\n",
    "    res = pd.DataFrame(res, columns=['SUM','MIN','MAX','MEAN'])\n",
    "    inAdm[f'v_{yr}'] = res['SUM']"
   ]
  },
  {
   "cell_type": "code",
   "execution_count": 25,
   "metadata": {},
   "outputs": [],
   "source": [
    "pd.DataFrame(urb_ext).drop(['geometry'], axis=1).to_csv(os.path.join(out_folder, \"urban_viirs.csv\"))\n",
    "pd.DataFrame(hd_urb_ext).drop(['geometry'], axis=1).to_csv(os.path.join(out_folder, \"hd_urban_viirs.csv\"))\n",
    "pd.DataFrame(inAdm).drop(['geometry'], axis=1).to_csv(os.path.join(out_folder, \"adm_viirs.csv\"))"
   ]
  },
  {
   "cell_type": "code",
   "execution_count": 31,
   "metadata": {},
   "outputs": [],
   "source": [
    "# summarize built area change\n",
    "global_ghsl = \"/home/public/Data/GLOBAL/GHSL/ghsl.vrt\"\n",
    "inR = rasterio.open(global_ghsl)\n",
    "if urb_ext.crs != inR.crs:\n",
    "    urb_ext = urb_ext.to_crs(inR.crs)\n",
    "if hd_urb_ext.crs != inR.crs:\n",
    "    hd_urb_ext = hd_urb_ext.to_crs(inR.crs)\n",
    "if inAdm.crs != inR.crs:\n",
    "    inAdm = inAdm.to_crs(inR.crs)\n",
    "\n",
    "ex_cols = [0,1,2,3,4,5,6]\n",
    "col_names=['cNA','H20','notBuilt','b2014','b2000','b1990','b1975']\n",
    "\n",
    "# Summarize GHSL in urban extents\n",
    "urb_res = rMisc.zonalStats(urb_ext, inR, rastType='C', unqVals=ex_cols)\n",
    "urb_res = pd.DataFrame(urb_res, columns=col_names)\n",
    "urb_res['ID'] = urb_ext['ID']\n",
    "\n",
    "# Summarize GHSL in hd urban extents\n",
    "hd_urb_res = rMisc.zonalStats(hd_urb_ext, inR, rastType='C', unqVals=ex_cols)\n",
    "hd_urb_res = pd.DataFrame(hd_urb_res, columns=col_names)\n",
    "hd_urb_res['ID'] = hd_urb_ext['ID']\n",
    "\n",
    "# Summarize GHSL in admin areas\n",
    "adm_res = rMisc.zonalStats(inAdm, inR, rastType='C', unqVals=ex_cols)\n",
    "adm_res = pd.DataFrame(adm_res, columns=col_names)\n",
    "adm_res['ID'] = inAdm['WB_ADM2_CO']\n"
   ]
  },
  {
   "cell_type": "code",
   "execution_count": 34,
   "metadata": {},
   "outputs": [],
   "source": [
    "urb_res.to_csv(os.path.join(out_folder, \"urban_ghsl.csv\"))\n",
    "hd_urb_res.to_csv(os.path.join(out_folder, \"hd_urban_ghsl.csv\"))\n",
    "adm_res.to_csv(os.path.join(out_folder, \"adm_ghsl.csv\"))"
   ]
  },
  {
   "cell_type": "code",
   "execution_count": 37,
   "metadata": {},
   "outputs": [],
   "source": [
    "# Run market access\n",
    "inR = rasterio.open(friction_file)\n",
    "frictionD = inR.read()[0,:,:] * 1000\n",
    "mcp = graph.MCP_Geometric(frictionD)\n",
    "\n",
    "port_data = gpd.read_file(ports)\n",
    "airport_data = gpd.read_file(airports)\n",
    "urb_centroids = urb_ext.copy()\n",
    "urb_centroids['geometry'] = urb_centroids['geometry'].apply(lambda x: x.centroid)\n",
    "hd_urb_centroids = hd_urb_ext.copy()\n",
    "hd_urb_centroids['geometry'] = hd_urb_centroids['geometry'].apply(lambda x: x.centroid)"
   ]
  },
  {
   "cell_type": "code",
   "execution_count": 90,
   "metadata": {},
   "outputs": [],
   "source": [
    "importlib.reload(ma)\n",
    "\n",
    "popR = rasterio.open(wp_1km)\n",
    "inR = rasterio.open(friction_file)\n",
    "frictionD = inR.read()[0,:,:] * 1000\n",
    "mcp = graph.MCP_Geometric(frictionD)\n",
    "    \n",
    "port_access = ma.summarize_travel_time_populations(popR, inR, port_data, mcp, inAdm, os.path.join(out_folder, 'port_tt.tif'))\n",
    "airport_access = ma.summarize_travel_time_populations(popR, inR, airport_data, mcp, inAdm, os.path.join(out_folder, 'airport_tt.tif'))\n",
    "urban_access = ma.summarize_travel_time_populations(popR, inR, urb_centroids, mcp, inAdm, os.path.join(out_folder, 'urban_tt.tif'))\n",
    "hd_urban_access = ma.summarize_travel_time_populations(popR, inR, hd_urb_centroids, mcp, inAdm, os.path.join(out_folder, 'hd_urban_tt.tif'))"
   ]
  },
  {
   "cell_type": "code",
   "execution_count": 97,
   "metadata": {},
   "outputs": [],
   "source": [
    "pd.DataFrame(port_access.drop(['geometry'], axis=1)).to_csv(os.path.join(out_folder, \"port_access.csv\"))\n",
    "pd.DataFrame(airport_access.drop(['geometry'], axis=1)).to_csv(os.path.join(out_folder, \"airport_access.csv\"))\n",
    "pd.DataFrame(urban_access.drop(['geometry'], axis=1)).to_csv(os.path.join(out_folder, \"urban_access.csv\"))\n",
    "pd.DataFrame(hd_urban_access.drop(['geometry'], axis=1)).to_csv(os.path.join(out_folder, \"hd_urban_access.csv\"))"
   ]
  }
 ],
 "metadata": {
  "kernelspec": {
   "display_name": "Python (geog)",
   "language": "python",
   "name": "geog"
  },
  "language_info": {
   "codemirror_mode": {
    "name": "ipython",
    "version": 3
   },
   "file_extension": ".py",
   "mimetype": "text/x-python",
   "name": "python",
   "nbconvert_exporter": "python",
   "pygments_lexer": "ipython3",
   "version": "3.7.1"
  }
 },
 "nbformat": 4,
 "nbformat_minor": 2
}
