{
 "cells": [
  {
   "cell_type": "code",
   "execution_count": 1,
   "metadata": {},
   "outputs": [],
   "source": [
    "import sys, os, importlib\n",
    "import rasterio\n",
    "\n",
    "import pandas as pd\n",
    "import geopandas as gpd\n",
    "import numpy as np\n",
    "\n",
    "sys.path.insert(0, \"/home/wb411133/Code/gostrocks/src\")\n",
    "import GOSTRocks.rasterMisc as rMisc\n",
    "from GOSTRocks.misc import tPrint"
   ]
  },
  {
   "cell_type": "code",
   "execution_count": 2,
   "metadata": {},
   "outputs": [],
   "source": [
    "# Define variables\n",
    "iso3 = 'KEN'\n",
    "\n",
    "# Define global datasets\n",
    "ntl_aws_base = 's3://wbgdecinternal-ntl/NTL/VIIRS/Annual/VIIRS_ANNUAL_EOG/'\n",
    "ntl_files = [\n",
    "    'VNL_v2_npp_201204-201303_global_vcmcfg_c202101211500.average.tif',\n",
    "    'VNL_v2_npp_2013_global_vcmcfg_c202101211500.average.tif',\n",
    "    'VNL_v2_npp_2014_global_vcmslcfg_c202101211500.average.tif',\n",
    "    'VNL_v2_npp_2015_global_vcmslcfg_c202101211500.average.tif',\n",
    "    'VNL_v2_npp_2016_global_vcmslcfg_c202101211500.average.tif',\n",
    "    'VNL_v2_npp_2017_global_vcmslcfg_c202101211500.average.tif',\n",
    "    'VNL_v2_npp_2018_global_vcmslcfg_c202101211500.average.tif',\n",
    "    'VNL_v2_npp_2019_global_vcmslcfg_c202101211500.average.tif',\n",
    "    'VNL_v2_npp_2020_global_vcmslcfg_c202101211500.average.tif'\n",
    "]\n",
    "admin0_layer = \"/home/public/Data/GLOBAL/ADMIN/Admin0_Polys.shp\"\n",
    "smod_global = \"/home/public/Data/GLOBAL/URBAN/GHS/GHS_SMOD/GHS_SMOD_POP2015_GLOBE_R2019A_54009_1K_V2_0.tif\"\n",
    "urban_centres = \"/home/public/Data/GLOBAL/URBAN/GHS/GHS_STAT_UCDB2015MT_GLOBE_R2019A/GHS_STAT_UCDB2015MT_GLOBE_R2019A_V1_2.gpkg\"\n",
    "ghsl_global = \"/home/public/Data/GLOBAL/GHSL/ghsl.vrt\"\n",
    "wsf_evolution = 's3://wbgdecinternal-ntl/GIS_Data/GLOBAL/WSFEvolution/WSF_Evolution.vrt'\n",
    "\n",
    "# Define input data\n",
    "in_folder = \"/home/wb411133/data/Projects/KEN_Urban_Change/Data\"\n",
    "chart_folder = \"/home/wb411133/data/Projects/KEN_Urban_Change/Charts\"\n",
    "maps_folder = \"/home/wb411133/data/Projects/KEN_Urban_Change/Maps\"\n",
    "in_aoi = os.path.join(in_folder, \"Nairobi_AOI.shp\")\n",
    "\n",
    "# Define data to extract\n",
    "smod_local = os.path.join(in_folder, 'ghs_smod.tif')\n",
    "ntl_2013   = os.path.join(in_folder, 'ntl_2014.tif')\n",
    "ntl_2019   = os.path.join(in_folder, 'ntl_2019.tif')\n",
    "ntl_2020   = os.path.join(in_folder, 'ntl_2020.tif')\n",
    "ntl_diff   = os.path.join(in_folder, 'ntl_diff_2014_2020.tif')\n",
    "ntl_diff2   = os.path.join(in_folder, 'ntl_diff_2014_2019.tif')\n",
    "local_cities = os.path.join(in_folder, 'local_cities.geojson')\n",
    "local_ghsl = os.path.join(in_folder, 'ghsl.tif')\n",
    "local_wsf = os.path.join(in_folder, 'wsf.tif')\n",
    "\n",
    "ntl_zonal_res = os.path.join(in_folder, \"VIIRS_zonal_res.csv\")\n",
    "wsf_res = os.path.join(in_folder, \"WSF_zonal_res.csv\")"
   ]
  },
  {
   "cell_type": "code",
   "execution_count": 3,
   "metadata": {},
   "outputs": [],
   "source": [
    "# Read in base data\n",
    "inAOI = gpd.read_file(in_aoi)\n",
    "inA = gpd.read_file(admin0_layer)\n",
    "inA = inA.loc[inA['ISO3'] == iso3]"
   ]
  },
  {
   "cell_type": "code",
   "execution_count": 4,
   "metadata": {},
   "outputs": [],
   "source": [
    "importlib.reload(rMisc)\n",
    "# Clip data\n",
    "if not os.path.exists(smod_local):\n",
    "    smodR = rasterio.open(smod_global)\n",
    "    rMisc.clipRaster(smodR, inA, smod_local)\n",
    "    \n",
    "if not os.path.exists(ntl_2019):\n",
    "    ntl0 = rasterio.open(os.path.join(ntl_aws_base, ntl_files[2]))\n",
    "    rMisc.clipRaster(ntl0, inA, ntl_2013)\n",
    "    \n",
    "    ntl1 = rasterio.open(os.path.join(ntl_aws_base, ntl_files[-1]))\n",
    "    rMisc.clipRaster(ntl1, inA, ntl_2020)\n",
    "    \n",
    "    ntl2 = rasterio.open(os.path.join(ntl_aws_base, ntl_files[-2]))\n",
    "    rMisc.clipRaster(ntl2, inA, ntl_2019)\n",
    "    \n",
    "if not os.path.exists(ntl_diff):\n",
    "    ntl0 = rasterio.open(ntl_2013)\n",
    "    ntl1 = rasterio.open(ntl_2020)\n",
    "    \n",
    "    ntl0_data = ntl0.read()\n",
    "    ntl1_data = ntl1.read()\n",
    "    \n",
    "    ntl_d = ntl1_data - ntl0_data\n",
    "\n",
    "    with rasterio.open(ntl_diff, 'w', **ntl0.meta) as outR:\n",
    "        outR.write(ntl_d)\n",
    "        \n",
    "if not os.path.exists(ntl_diff2):\n",
    "    ntl0 = rasterio.open(ntl_2013)\n",
    "    ntl1 = rasterio.open(ntl_2019)\n",
    "    \n",
    "    ntl0_data = ntl0.read()\n",
    "    ntl1_data = ntl1.read()\n",
    "    \n",
    "    ntl_d = ntl1_data - ntl0_data\n",
    "\n",
    "    with rasterio.open(ntl_diff2, 'w', **ntl0.meta) as outR:\n",
    "        outR.write(ntl_d)\n",
    "        \n",
    "if not os.path.exists(local_cities):\n",
    "    inU = gpd.read_file(urban_centres)\n",
    "    selU = inU.loc[inU['CTR_MN_ISO'] == iso3]\n",
    "    selU.to_file(local_cities)\n",
    "    \n",
    "if not os.path.exists(local_ghsl):\n",
    "    ghslR = rasterio.open(ghsl_global)\n",
    "    selU = gpd.read_file(local_cities)\n",
    "    selU = selU.loc[selU['UC_NM_MN'].isin([\"Nairobi\",'Ruaka','Ndenderu','Kiambu','Ruiru'])]\n",
    "    rMisc.clipRaster(ghslR, selU, local_ghsl, crop=False)\n",
    "    \n",
    "if not os.path.exists(local_wsf):\n",
    "    wsfR = rasterio.open(wsf_evolution)\n",
    "    selU = gpd.read_file(local_cities)\n",
    "    selU = selU.loc[selU['UC_NM_MN'].isin([\"Nairobi\",'Ruaka','Ndenderu','Kiambu','Ruiru'])]\n",
    "    rMisc.clipRaster(wsfR, selU, local_wsf, crop=False)"
   ]
  },
  {
   "cell_type": "code",
   "execution_count": null,
   "metadata": {},
   "outputs": [],
   "source": [
    "# Run zonal stats on nighttime lights data\n",
    "\n",
    "selU = gpd.read_file(local_cities)\n",
    "for ntl_file in ntl_files:\n",
    "    year = ntl_file.split(\"_\")[3]    \n",
    "    tPrint(year)\n",
    "    in_file = os.path.join(ntl_aws_base, ntl_file)\n",
    "    curR = rasterio.open(in_file)\n",
    "    res = rMisc.zonalStats(selU, curR, minVal=0.5)\n",
    "    res = pd.DataFrame(res, columns=['SUM','MIN','MAX','MEAN'])\n",
    "    selU[year] = res['SUM']"
   ]
  },
  {
   "cell_type": "code",
   "execution_count": null,
   "metadata": {},
   "outputs": [],
   "source": [
    "selU.drop(['geometry'], axis=1).to_csv(ntl_zonal_res)"
   ]
  },
  {
   "cell_type": "markdown",
   "metadata": {},
   "source": [
    "### Plot NTL change for cities"
   ]
  },
  {
   "cell_type": "code",
   "execution_count": null,
   "metadata": {},
   "outputs": [],
   "source": [
    "cols = plotD.columns\n",
    "cols[0] = '2012'\n",
    "plotD.columns = cols"
   ]
  },
  {
   "cell_type": "code",
   "execution_count": null,
   "metadata": {},
   "outputs": [],
   "source": [
    "plotD = selU.loc[selU['UC_NM_MN'].isin([\"Nairobi\"])]\n",
    "plotD.index = plotD['UC_NM_MN']\n",
    "plotD = plotD.iloc[:,-9:]\n",
    "cols = plotD.columns.values\n",
    "cols[0] = '2012'\n",
    "plotD.columns = cols\n",
    "ax = plotD.transpose().plot.line(figsize=(10,10))\n",
    "ax.set_xlabel('YEAR')\n",
    "ax.set_ylabel('# of pixels')\n",
    "ax.legend().set_title('')\n",
    "fig = ax.get_figure()\n",
    "fig.savefig(os.path.join(chart_folder, \"VIIRS_Nairobi.png\"))"
   ]
  },
  {
   "cell_type": "code",
   "execution_count": null,
   "metadata": {},
   "outputs": [],
   "source": [
    "plotD = selU.loc[selU['UC_NM_MN'].isin(['Ruaka','Ndenderu','Kiambu','Ruiru'])]\n",
    "plotD.index = plotD['UC_NM_MN']\n",
    "plotD = plotD.iloc[:,-9:]\n",
    "cols = plotD.columns.values\n",
    "cols[0] = '2012'\n",
    "plotD.columns = cols\n",
    "ax = plotD.transpose().plot.line(figsize=(10,10))\n",
    "ax.set_xlabel('YEAR')\n",
    "ax.set_ylabel('# of pixels')\n",
    "ax.legend().set_title('')\n",
    "fig = ax.get_figure()\n",
    "fig.savefig(os.path.join(chart_folder, \"VIIRS_OtherCities.png\"))"
   ]
  },
  {
   "cell_type": "markdown",
   "metadata": {},
   "source": [
    "### Summarize WSF in each urban area"
   ]
  },
  {
   "cell_type": "code",
   "execution_count": 10,
   "metadata": {},
   "outputs": [],
   "source": [
    "wsfR = rasterio.open(wsf_evolution)\n",
    "selU = gpd.read_file(local_cities)\n",
    "\n",
    "if not False: #os.path.exists(wsf_res):\n",
    "    res = rMisc.zonalStats(selU, wsfR, rastType='C', unqVals=list(range(1985, 2016)))\n",
    "    res = pd.DataFrame(res, columns=list(range(1985, 2016)))\n",
    "    #res = res.cumsum(axis=1)\n",
    "    res.index = selU['UC_NM_MN']\n",
    "    res.to_csv(wsf_res)\n",
    "else:\n",
    "    res = pd.read_csv(wsf_res, index_col=0)"
   ]
  },
  {
   "cell_type": "code",
   "execution_count": 14,
   "metadata": {},
   "outputs": [
    {
     "data": {
      "text/html": [
       "<div>\n",
       "<style scoped>\n",
       "    .dataframe tbody tr th:only-of-type {\n",
       "        vertical-align: middle;\n",
       "    }\n",
       "\n",
       "    .dataframe tbody tr th {\n",
       "        vertical-align: top;\n",
       "    }\n",
       "\n",
       "    .dataframe thead th {\n",
       "        text-align: right;\n",
       "    }\n",
       "</style>\n",
       "<table border=\"1\" class=\"dataframe\">\n",
       "  <thead>\n",
       "    <tr style=\"text-align: right;\">\n",
       "      <th></th>\n",
       "      <th>1985</th>\n",
       "      <th>1986</th>\n",
       "      <th>1987</th>\n",
       "      <th>1988</th>\n",
       "      <th>1989</th>\n",
       "      <th>1990</th>\n",
       "      <th>1991</th>\n",
       "      <th>1992</th>\n",
       "      <th>1993</th>\n",
       "      <th>1994</th>\n",
       "      <th>...</th>\n",
       "      <th>2006</th>\n",
       "      <th>2007</th>\n",
       "      <th>2008</th>\n",
       "      <th>2009</th>\n",
       "      <th>2010</th>\n",
       "      <th>2011</th>\n",
       "      <th>2012</th>\n",
       "      <th>2013</th>\n",
       "      <th>2014</th>\n",
       "      <th>2015</th>\n",
       "    </tr>\n",
       "    <tr>\n",
       "      <th>UC_NM_MN</th>\n",
       "      <th></th>\n",
       "      <th></th>\n",
       "      <th></th>\n",
       "      <th></th>\n",
       "      <th></th>\n",
       "      <th></th>\n",
       "      <th></th>\n",
       "      <th></th>\n",
       "      <th></th>\n",
       "      <th></th>\n",
       "      <th></th>\n",
       "      <th></th>\n",
       "      <th></th>\n",
       "      <th></th>\n",
       "      <th></th>\n",
       "      <th></th>\n",
       "      <th></th>\n",
       "      <th></th>\n",
       "      <th></th>\n",
       "      <th></th>\n",
       "      <th></th>\n",
       "    </tr>\n",
       "  </thead>\n",
       "  <tbody>\n",
       "    <tr>\n",
       "      <th>Busia</th>\n",
       "      <td>9145</td>\n",
       "      <td>2</td>\n",
       "      <td>51</td>\n",
       "      <td>19</td>\n",
       "      <td>13</td>\n",
       "      <td>53</td>\n",
       "      <td>31</td>\n",
       "      <td>35</td>\n",
       "      <td>24</td>\n",
       "      <td>301</td>\n",
       "      <td>...</td>\n",
       "      <td>173</td>\n",
       "      <td>144</td>\n",
       "      <td>85</td>\n",
       "      <td>111</td>\n",
       "      <td>64</td>\n",
       "      <td>79</td>\n",
       "      <td>21</td>\n",
       "      <td>24</td>\n",
       "      <td>21</td>\n",
       "      <td>7</td>\n",
       "    </tr>\n",
       "    <tr>\n",
       "      <th>Migori</th>\n",
       "      <td>3839</td>\n",
       "      <td>0</td>\n",
       "      <td>22</td>\n",
       "      <td>16</td>\n",
       "      <td>7</td>\n",
       "      <td>16</td>\n",
       "      <td>54</td>\n",
       "      <td>13</td>\n",
       "      <td>13</td>\n",
       "      <td>284</td>\n",
       "      <td>...</td>\n",
       "      <td>14</td>\n",
       "      <td>35</td>\n",
       "      <td>36</td>\n",
       "      <td>46</td>\n",
       "      <td>49</td>\n",
       "      <td>38</td>\n",
       "      <td>26</td>\n",
       "      <td>135</td>\n",
       "      <td>28</td>\n",
       "      <td>35</td>\n",
       "    </tr>\n",
       "    <tr>\n",
       "      <th>Isebania</th>\n",
       "      <td>2906</td>\n",
       "      <td>0</td>\n",
       "      <td>0</td>\n",
       "      <td>17</td>\n",
       "      <td>1</td>\n",
       "      <td>6</td>\n",
       "      <td>100</td>\n",
       "      <td>34</td>\n",
       "      <td>6</td>\n",
       "      <td>259</td>\n",
       "      <td>...</td>\n",
       "      <td>23</td>\n",
       "      <td>3</td>\n",
       "      <td>5</td>\n",
       "      <td>19</td>\n",
       "      <td>6</td>\n",
       "      <td>16</td>\n",
       "      <td>4</td>\n",
       "      <td>12</td>\n",
       "      <td>2</td>\n",
       "      <td>2</td>\n",
       "    </tr>\n",
       "    <tr>\n",
       "      <th>Bungoma</th>\n",
       "      <td>8939</td>\n",
       "      <td>0</td>\n",
       "      <td>106</td>\n",
       "      <td>16</td>\n",
       "      <td>6</td>\n",
       "      <td>3</td>\n",
       "      <td>11</td>\n",
       "      <td>10</td>\n",
       "      <td>7</td>\n",
       "      <td>82</td>\n",
       "      <td>...</td>\n",
       "      <td>12</td>\n",
       "      <td>54</td>\n",
       "      <td>33</td>\n",
       "      <td>24</td>\n",
       "      <td>43</td>\n",
       "      <td>18</td>\n",
       "      <td>13</td>\n",
       "      <td>14</td>\n",
       "      <td>17</td>\n",
       "      <td>5</td>\n",
       "    </tr>\n",
       "    <tr>\n",
       "      <th>Kimilili</th>\n",
       "      <td>2999</td>\n",
       "      <td>0</td>\n",
       "      <td>1</td>\n",
       "      <td>3</td>\n",
       "      <td>5</td>\n",
       "      <td>10</td>\n",
       "      <td>5</td>\n",
       "      <td>4</td>\n",
       "      <td>2</td>\n",
       "      <td>46</td>\n",
       "      <td>...</td>\n",
       "      <td>4</td>\n",
       "      <td>2</td>\n",
       "      <td>5</td>\n",
       "      <td>7</td>\n",
       "      <td>16</td>\n",
       "      <td>9</td>\n",
       "      <td>15</td>\n",
       "      <td>3</td>\n",
       "      <td>6</td>\n",
       "      <td>2</td>\n",
       "    </tr>\n",
       "  </tbody>\n",
       "</table>\n",
       "<p>5 rows × 31 columns</p>\n",
       "</div>"
      ],
      "text/plain": [
       "          1985  1986  1987  1988  1989  1990  1991  1992  1993  1994  ...  \\\n",
       "UC_NM_MN                                                              ...   \n",
       "Busia     9145     2    51    19    13    53    31    35    24   301  ...   \n",
       "Migori    3839     0    22    16     7    16    54    13    13   284  ...   \n",
       "Isebania  2906     0     0    17     1     6   100    34     6   259  ...   \n",
       "Bungoma   8939     0   106    16     6     3    11    10     7    82  ...   \n",
       "Kimilili  2999     0     1     3     5    10     5     4     2    46  ...   \n",
       "\n",
       "          2006  2007  2008  2009  2010  2011  2012  2013  2014  2015  \n",
       "UC_NM_MN                                                              \n",
       "Busia      173   144    85   111    64    79    21    24    21     7  \n",
       "Migori      14    35    36    46    49    38    26   135    28    35  \n",
       "Isebania    23     3     5    19     6    16     4    12     2     2  \n",
       "Bungoma     12    54    33    24    43    18    13    14    17     5  \n",
       "Kimilili     4     2     5     7    16     9    15     3     6     2  \n",
       "\n",
       "[5 rows x 31 columns]"
      ]
     },
     "execution_count": 14,
     "metadata": {},
     "output_type": "execute_result"
    }
   ],
   "source": [
    "res.head()"
   ]
  },
  {
   "cell_type": "code",
   "execution_count": 16,
   "metadata": {
    "scrolled": true
   },
   "outputs": [],
   "source": [
    "res = res.cumsum(axis=1)"
   ]
  },
  {
   "cell_type": "code",
   "execution_count": 17,
   "metadata": {},
   "outputs": [
    {
     "data": {
      "image/png": "[encoded data removed]",
      "text/plain": [
       "<Figure size 720x720 with 1 Axes>"
      ]
     },
     "metadata": {},
     "output_type": "display_data"
    }
   ],
   "source": [
    "def plot_wsf(plotD, out_file):\n",
    "    ax = plotD.transpose().plot.line(figsize=(10,10))\n",
    "    ax.set_xlabel('YEAR')\n",
    "    ax.set_ylabel('# of pixels')\n",
    "    ax.legend().set_title('')\n",
    "    fig = ax.get_figure()\n",
    "    fig.savefig(out_file)\n",
    "\n",
    "plotD = res.loc[res.index.isin(['Ruaka','Ndenderu','Kiambu','Ruiru'])]\n",
    "plot_wsf(plotD, os.path.join(chart_folder, \"WSF_other_cities.png\"))"
   ]
  },
  {
   "cell_type": "code",
   "execution_count": 18,
   "metadata": {},
   "outputs": [
    {
     "data": {
      "image/png": "[encoded data removed]",
      "text/plain": [
       "<Figure size 720x720 with 1 Axes>"
      ]
     },
     "metadata": {},
     "output_type": "display_data"
    }
   ],
   "source": [
    "plotD = res.loc[res.index.isin(['Nairobi'])]\n",
    "plot_wsf(plotD, os.path.join(chart_folder, \"WSF_Nairobi.png\"))"
   ]
  },
  {
   "cell_type": "markdown",
   "metadata": {},
   "source": [
    "### Intersect the landuse data and WSF evolution"
   ]
  },
  {
   "cell_type": "code",
   "execution_count": null,
   "metadata": {},
   "outputs": [],
   "source": [
    "landuse_file = \"/home/wb411133/data/Projects/KEN_Urban_Change/Data/ML_Results/prediction_result.shp\"\n",
    "inL = gpd.read_file(landuse_file)\n",
    "inL['geometry'] = inL['geometry'].apply(lambda x: x.centroid)\n",
    "if not os.path.exists(out_file):\n",
    "    # Rasterize landuse\n",
    "    out_file = os.path.join(in_folder, \"landuse.tif\")\n",
    "    rMisc.rasterizeDataFrame(inL, out_file, idField='predict', templateRaster=local_wsf)"
   ]
  },
  {
   "cell_type": "code",
   "execution_count": null,
   "metadata": {},
   "outputs": [],
   "source": [
    "landR = rasterio.open(out_file)\n",
    "wsfR = rasterio.open(local_wsf)\n",
    "\n",
    "landD = landR.read()\n",
    "wsfD = wsfR.read()"
   ]
  },
  {
   "cell_type": "code",
   "execution_count": null,
   "metadata": {},
   "outputs": [],
   "source": [
    "summary = {}\n",
    "for wsf_val in range(1985, 2016):\n",
    "    cur_wsf = wsfD <= wsf_val\n",
    "    cur_land = cur_wsf * landD    \n",
    "    summary[wsf_val] = np.unique(cur_land, return_counts=True)"
   ]
  },
  {
   "cell_type": "code",
   "execution_count": null,
   "metadata": {
    "scrolled": true
   },
   "outputs": [],
   "source": [
    "summary"
   ]
  },
  {
   "cell_type": "code",
   "execution_count": null,
   "metadata": {
    "scrolled": true
   },
   "outputs": [],
   "source": [
    "landuse_evolution = pd.DataFrame(summary).transpose()\n",
    "landuse_evolution.columns = ['FUBAR', 'res']\n",
    "landuse_evolution.drop(['FUBAR'], axis=1, inplace=True)\n",
    "out_cols = ['NA','Commercial','Industrial','Institutional','Residential','Res - Dense','Res - Informal']\n",
    "landuse_evolution = pd.DataFrame(landuse_evolution['res'].to_list(), columns = out_cols)\n",
    "landuse_evolution.drop(['NA'], axis=1, inplace=True)\n",
    "landuse_evolution.index = list(range(1985, 2016))"
   ]
  },
  {
   "cell_type": "code",
   "execution_count": null,
   "metadata": {},
   "outputs": [],
   "source": [
    "plot_wsf(landuse_evolution.transpose(), os.path.join(chart_folder, \"Landuse_evolution.png\"))"
   ]
  }
 ],
 "metadata": {
  "kernelspec": {
   "display_name": "Python (geog)",
   "language": "python",
   "name": "geog"
  },
  "language_info": {
   "codemirror_mode": {
    "name": "ipython",
    "version": 3
   },
   "file_extension": ".py",
   "mimetype": "text/x-python",
   "name": "python",
   "nbconvert_exporter": "python",
   "pygments_lexer": "ipython3",
   "version": "3.9.7"
  }
 },
 "nbformat": 4,
 "nbformat_minor": 2
}
