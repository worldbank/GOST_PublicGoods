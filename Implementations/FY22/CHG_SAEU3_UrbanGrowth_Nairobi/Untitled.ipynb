{
 "cells": [
  {
   "cell_type": "code",
   "execution_count": 1,
   "metadata": {},
   "outputs": [],
   "source": [
    "import sys, os, importlib\n",
    "import rasterio\n",
    "\n",
    "import pandas as pd\n",
    "import geopandas as gpd\n",
    "\n",
    "sys.path.insert(0, \"/home/wb411133/Code/gostrocks/src\")\n",
    "import GOSTRocks.rasterMisc as rMisc"
   ]
  },
  {
   "cell_type": "code",
   "execution_count": 2,
   "metadata": {},
   "outputs": [],
   "source": [
    "# Define variables\n",
    "iso3 = 'KEN'\n",
    "\n",
    "# Define global datasets\n",
    "ntl_aws_base = 's3://wbgdecinternal-ntl/NTL/VIIRS/Annual/VIIRS_ANNUAL_EOG/'\n",
    "ntl_files = [\n",
    "    'VNL_v2_npp_201204-201303_global_vcmcfg_c202101211500.average.tif',\n",
    "    'VNL_v2_npp_2013_global_vcmcfg_c202101211500.average.tif',\n",
    "    'VNL_v2_npp_2014_global_vcmslcfg_c202101211500.average.tif',\n",
    "    'VNL_v2_npp_2015_global_vcmslcfg_c202101211500.average.tif',\n",
    "    'VNL_v2_npp_2016_global_vcmslcfg_c202101211500.average.tif',\n",
    "    'VNL_v2_npp_2017_global_vcmslcfg_c202101211500.average.tif',\n",
    "    'VNL_v2_npp_2018_global_vcmslcfg_c202101211500.average.tif',\n",
    "    'VNL_v2_npp_2019_global_vcmslcfg_c202101211500.average.tif',\n",
    "    'VNL_v2_npp_2020_global_vcmslcfg_c202101211500.average.tif'\n",
    "]\n",
    "admin0_layer = \"/home/public/Data/GLOBAL/ADMIN/Admin0_Polys.shp\"\n",
    "smod_global = \"/home/public/Data/GLOBAL/URBAN/GHS/GHS_SMOD/GHS_SMOD_POP2015_GLOBE_R2019A_54009_1K_V2_0.tif\"\n",
    "urban_centres = \"/home/public/Data/GLOBAL/URBAN/GHS/GHS_STAT_UCDB2015MT_GLOBE_R2019A/GHS_STAT_UCDB2015MT_GLOBE_R2019A_V1_2.gpkg\"\n",
    "ghsl_global = \"/home/public/Data/GLOBAL/GHSL/ghsl.vrt\"\n",
    "\n",
    "# Define input data\n",
    "in_folder = \"/home/wb411133/data/Projects/KEN_Urban_Change/Data\"\n",
    "in_aoi = os.path.join(in_folder, \"Nairobi_AOI.shp\")\n",
    "\n",
    "# Define data to extract\n",
    "smod_local = os.path.join(in_folder, 'ghs_smod.tif')\n",
    "ntl_2013   = os.path.join(in_folder, 'ntl_2014.tif')\n",
    "ntl_2020   = os.path.join(in_folder, 'ntl_2020.tif')\n",
    "ntl_diff   = os.path.join(in_folder, 'ntl_diff_2014_2020.tif')\n",
    "local_cities = os.path.join(in_folder, 'local_cities.geojson')\n",
    "local_ghsl = os.path.join(in_folder, 'ghsl.tif')"
   ]
  },
  {
   "cell_type": "code",
   "execution_count": 3,
   "metadata": {},
   "outputs": [],
   "source": [
    "# Read in base data\n",
    "inAOI = gpd.read_file(in_aoi)\n",
    "inA = gpd.read_file(admin0_layer)\n",
    "inA = inA.loc[inA['ISO3'] == iso3]"
   ]
  },
  {
   "cell_type": "code",
   "execution_count": 14,
   "metadata": {},
   "outputs": [],
   "source": [
    "importlib.reload(rMisc)\n",
    "# Clip data\n",
    "if not os.path.exists(smod_local):\n",
    "    smodR = rasterio.open(smod_global)\n",
    "    rMisc.clipRaster(smodR, inA, smod_local)\n",
    "    \n",
    "if not os.path.exists(ntl_2013):\n",
    "    ntl0 = rasterio.open(os.path.join(ntl_aws_base, ntl_files[2]))\n",
    "    rMisc.clipRaster(ntl0, inA, ntl_2013)\n",
    "    \n",
    "    ntl1 = rasterio.open(os.path.join(ntl_aws_base, ntl_files[-1]))\n",
    "    rMisc.clipRaster(ntl1, inA, ntl_2020)\n",
    "    \n",
    "if not os.path.exists(ntl_diff):\n",
    "    ntl0 = rasterio.open(ntl_2013)\n",
    "    ntl1 = rasterio.open(ntl_2020)\n",
    "    \n",
    "    ntl0_data = ntl0.read()\n",
    "    ntl1_data = ntl1.read()\n",
    "    \n",
    "    ntl_d = ntl1_data - ntl0_data\n",
    "\n",
    "    with rasterio.open(ntl_diff, 'w', **ntl0.meta) as outR:\n",
    "        outR.write(ntl_d)\n",
    "        \n",
    "if not os.path.exists(local_cities):\n",
    "    inU = gpd.read_file(urban_centres)\n",
    "    selU = inU.loc[inU['CTR_MN_ISO'] == iso3]\n",
    "    selU.to_file(local_cities)\n",
    "    \n",
    "if not os.path.exists(local_ghsl):\n",
    "    ghslR = rasterio.open(ghsl_global)\n",
    "    selU = gpd.read_file(local_cities)\n",
    "    selU = selU.loc[selU['UC_NM_MN'].isin([\"Nairobi\",'Ruaka','Ndenderu','Kiambu','Ruiru'])]\n",
    "    rMisc.clipRaster(ghslR, selU, local_ghsl, crop=False)"
   ]
  },
  {
   "cell_type": "code",
   "execution_count": null,
   "metadata": {},
   "outputs": [],
   "source": []
  }
 ],
 "metadata": {
  "kernelspec": {
   "display_name": "Python (geog)",
   "language": "python",
   "name": "geog"
  },
  "language_info": {
   "codemirror_mode": {
    "name": "ipython",
    "version": 3
   },
   "file_extension": ".py",
   "mimetype": "text/x-python",
   "name": "python",
   "nbconvert_exporter": "python",
   "pygments_lexer": "ipython3",
   "version": "3.9.7"
  }
 },
 "nbformat": 4,
 "nbformat_minor": 2
}
