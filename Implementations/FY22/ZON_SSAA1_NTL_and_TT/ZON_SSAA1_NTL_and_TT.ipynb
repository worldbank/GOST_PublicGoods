{
 "cells": [
  {
   "cell_type": "code",
   "execution_count": 27,
   "metadata": {},
   "outputs": [],
   "source": [
    "import sys, os, importlib\n",
    "import rasterio, geojson\n",
    "\n",
    "import pandas as pd\n",
    "import geopandas as gpd\n",
    "\n",
    "import skimage.graph as graph\n",
    "import GOSTRocks.misc as misc\n",
    "import GOSTRocks.rasterMisc as rMisc\n",
    "\n",
    "sys.path.append(\"/home/wb411133/Code/GOSTNets_Raster/src\")\n",
    "\n",
    "import GOSTNetsRaster.market_access as ma"
   ]
  },
  {
   "cell_type": "code",
   "execution_count": 2,
   "metadata": {},
   "outputs": [],
   "source": [
    "iso3='PAK'\n",
    "\n",
    "# define global data\n",
    "global_friction_surface = \"/home/public/Data/GLOBAL/INFRA/FRICTION_2020/2020_motorized_friction_surface.geotiff\"\n",
    "global_population = \"/home/public/Data/GLOBAL/Population/WorldPop_PPP_2020/ppp_2020_1km_Aggregated.tif\"\n",
    "urban_centres = \"/home/public/Data/GLOBAL/URBAN/GHS/GHS_STAT_UCDB2015MT_GLOBE_R2019A/GHS_STAT_UCDB2015MT_GLOBE_R2019A_V1_2.gpkg\"\n",
    "admin0_layer = \"/home/public/Data/GLOBAL/ADMIN/Admin0_Polys.shp\"\n",
    "\n",
    "#define local variables\n",
    "output_dir = \"/home/wb411133/temp/PAK_ZON\"\n",
    "input_districts_file = os.path.join(output_dir, 'District.shp')\n",
    "if not os.path.exists(output_dir):\n",
    "    os.makedirs(output_dir)\n",
    "    \n",
    "friction_file = os.path.join(output_dir, \"2020_friction.tif\")\n",
    "pop_file = os.path.join(output_dir, \"2020_population.tif\")\n",
    "travel_time_file = os.path.join(output_dir, \"2020_tt_cities.tif\")\n",
    "ntl_2020 = os.path.join(output_dir, \"ntl_2020.tif\")\n",
    "sel_cities = os.path.join(output_dir, \"UCDB_cities_PAK.shp\")\n",
    "ntl_res = os.path.join(output_dir, \"ntl_zonal_stats.csv\")\n",
    "tt_pop_res = os.path.join(output_dir, \"tt_pop.shp\")"
   ]
  },
  {
   "cell_type": "code",
   "execution_count": 5,
   "metadata": {},
   "outputs": [],
   "source": [
    "inF = rasterio.open(global_friction_surface)\n",
    "inPop = rasterio.open(global_population)\n",
    "inU = gpd.read_file(urban_centres)\n",
    "inD = gpd.read_file(input_districts_file)\n",
    "inAdmin = gpd.read_file(admin0_layer)\n",
    "inR = rasterio.open(friction_file)\n",
    "frictionD = inR.read()[0,:,:] * 1000\n",
    "mcp = graph.MCP_Geometric(frictionD)\n",
    "\n",
    "inA = inAdmin.loc[inAdmin['ISO3'] == \"PAK\"]"
   ]
  },
  {
   "cell_type": "code",
   "execution_count": 62,
   "metadata": {},
   "outputs": [
    {
     "name": "stderr",
     "output_type": "stream",
     "text": [
      "/home/wb411133/Code/GOSTNets_Raster/src/GOSTNetsRaster/market_access.py:377: RuntimeWarning: invalid value encountered in multiply\n",
      "  with rMisc.create_rasterio_inmemory(popR.profile, tt_pop) as temp_ttPopR:\n",
      "/tmp/ipykernel_13196/4023535079.py:29: UserWarning: Column names longer than 10 characters will be truncated when saved to ESRI Shapefile.\n",
      "  inD_ttPop.to_file(tt_pop_res)\n"
     ]
    }
   ],
   "source": [
    "importlib.reload(ma)\n",
    "\n",
    "if not os.path.exists(friction_file):\n",
    "    rMisc.clipRaster(inF, inA, friction_file)\n",
    "    \n",
    "if not os.path.exists(pop_file):\n",
    "    rMisc.clipRaster(inPop, inA, pop_file)\n",
    "\n",
    "if not os.path.exists(sel_cities):\n",
    "    selU = inU.loc[inU['CTR_MN_ISO'] == iso3]\n",
    "    selU.to_file(sel_cities)\n",
    "else:\n",
    "    selU = gpd.read_file(sel_cities)\n",
    "    \n",
    "if not os.path.exists(travel_time_file):\n",
    "    tempU = selU.copy()\n",
    "    tempU['geometry'] = tempU['geometry'].apply(lambda x: x.centroid)\n",
    "    travel_costs, traceback = ma.calculate_travel_time(inR, mcp, tempU)\n",
    "    with rasterio.open(travel_time_file, 'w', **inR.meta) as out_file:\n",
    "        out_file.write_band(1, travel_costs)\n",
    "        \n",
    "# Summarize populations in travel time bands\n",
    "popR = rasterio.open(pop_file)\n",
    "ttR = rasterio.open(friction_file)\n",
    "tempU = selU.copy()\n",
    "tempU['geometry'] = tempU['geometry'].apply(lambda x: x.centroid)\n",
    "\n",
    "inD_ttPop = ma.summarize_travel_time_populations(popR, ttR, tempU, mcp, inD)\n",
    "inD_ttPop.to_file(tt_pop_res)\n",
    "pd.DataFrame(inD_ttPop.drop(['geometry'], axis=1)).to_csv(tt_pop_res.replace(\".shp\",\".csv\"))"
   ]
  },
  {
   "cell_type": "code",
   "execution_count": 20,
   "metadata": {
    "scrolled": true
   },
   "outputs": [
    {
     "name": "stdout",
     "output_type": "stream",
     "text": [
      "16:01:15\tCompleted ntl_201204-201303_0_SUM\n",
      "16:01:16\tCompleted ntl_201204-201303_0.01_SUM\n",
      "16:01:16\tCompleted ntl_201204-201303_0.1_SUM\n",
      "16:01:17\tCompleted ntl_201204-201303_0.5_SUM\n",
      "16:01:17\tCompleted ntl_201204-201303_1_SUM\n",
      "16:02:13\tCompleted ntl_2013_0_SUM\n",
      "16:02:14\tCompleted ntl_2013_0.01_SUM\n",
      "16:02:14\tCompleted ntl_2013_0.1_SUM\n",
      "16:02:15\tCompleted ntl_2013_0.5_SUM\n",
      "16:02:15\tCompleted ntl_2013_1_SUM\n",
      "16:03:09\tCompleted ntl_2014_0_SUM\n",
      "16:03:10\tCompleted ntl_2014_0.01_SUM\n",
      "16:03:10\tCompleted ntl_2014_0.1_SUM\n",
      "16:03:11\tCompleted ntl_2014_0.5_SUM\n",
      "16:03:11\tCompleted ntl_2014_1_SUM\n",
      "16:04:12\tCompleted ntl_2015_0_SUM\n",
      "16:04:13\tCompleted ntl_2015_0.01_SUM\n",
      "16:04:13\tCompleted ntl_2015_0.1_SUM\n",
      "16:04:14\tCompleted ntl_2015_0.5_SUM\n",
      "16:04:15\tCompleted ntl_2015_1_SUM\n",
      "16:05:08\tCompleted ntl_2016_0_SUM\n",
      "16:05:09\tCompleted ntl_2016_0.01_SUM\n",
      "16:05:09\tCompleted ntl_2016_0.1_SUM\n",
      "16:05:10\tCompleted ntl_2016_0.5_SUM\n",
      "16:05:10\tCompleted ntl_2016_1_SUM\n",
      "16:06:05\tCompleted ntl_2017_0_SUM\n",
      "16:06:06\tCompleted ntl_2017_0.01_SUM\n",
      "16:06:06\tCompleted ntl_2017_0.1_SUM\n",
      "16:06:07\tCompleted ntl_2017_0.5_SUM\n",
      "16:06:07\tCompleted ntl_2017_1_SUM\n",
      "16:07:00\tCompleted ntl_2018_0_SUM\n",
      "16:07:00\tCompleted ntl_2018_0.01_SUM\n",
      "16:07:01\tCompleted ntl_2018_0.1_SUM\n",
      "16:07:01\tCompleted ntl_2018_0.5_SUM\n",
      "16:07:02\tCompleted ntl_2018_1_SUM\n",
      "16:08:00\tCompleted ntl_2019_0_SUM\n",
      "16:08:00\tCompleted ntl_2019_0.01_SUM\n",
      "16:08:01\tCompleted ntl_2019_0.1_SUM\n",
      "16:08:01\tCompleted ntl_2019_0.5_SUM\n",
      "16:08:02\tCompleted ntl_2019_1_SUM\n",
      "16:08:58\tCompleted ntl_2020_0_SUM\n",
      "16:08:58\tCompleted ntl_2020_0.01_SUM\n",
      "16:08:59\tCompleted ntl_2020_0.1_SUM\n",
      "16:08:59\tCompleted ntl_2020_0.5_SUM\n",
      "16:09:00\tCompleted ntl_2020_1_SUM\n"
     ]
    }
   ],
   "source": [
    "thresholds = [0, 0.01, 0.1, 0.5, 1]\n",
    "# Calculate zonal NTL\n",
    "aws_base = 's3://wbgdecinternal-ntl/NTL/VIIRS/Annual/VIIRS_ANNUAL_EOG/'\n",
    "ntl_files = [\n",
    "    'VNL_v2_npp_201204-201303_global_vcmcfg_c202101211500.average.tif',\n",
    "    'VNL_v2_npp_2013_global_vcmcfg_c202101211500.average.tif',\n",
    "    'VNL_v2_npp_2014_global_vcmslcfg_c202101211500.average.tif',\n",
    "    'VNL_v2_npp_2015_global_vcmslcfg_c202101211500.average.tif',\n",
    "    'VNL_v2_npp_2016_global_vcmslcfg_c202101211500.average.tif',\n",
    "    'VNL_v2_npp_2017_global_vcmslcfg_c202101211500.average.tif',\n",
    "    'VNL_v2_npp_2018_global_vcmslcfg_c202101211500.average.tif',\n",
    "    'VNL_v2_npp_2019_global_vcmslcfg_c202101211500.average.tif',\n",
    "    'VNL_v2_npp_2020_global_vcmslcfg_c202101211500.average.tif'\n",
    "]\n",
    "\n",
    "for ntl_file in ntl_files:\n",
    "    year = ntl_file.split(\"_\")[3]\n",
    "    cur_file = os.path.join(aws_base, ntl_file)\n",
    "    curR = rasterio.open(cur_file)\n",
    "    for thresh in thresholds:\n",
    "        out_col_sum = f'ntl_{year}_{thresh}_SUM'\n",
    "        out_col_cnt = f'ntl_{year}_{thresh}_CNT'\n",
    "        res = rMisc.zonalStats(inD, curR, minVal=thresh)\n",
    "        res = pd.DataFrame(res, columns=['SUM','MIN','MAX','MEAN'])\n",
    "        inD[out_col_sum] = res['SUM']\n",
    "        inD[out_col_cnt] = res.apply(lambda x: x['SUM']/x['MEAN'], axis=1)\n",
    "        misc.tPrint(f\"Completed {out_col_sum}\")\n",
    "        "
   ]
  },
  {
   "cell_type": "code",
   "execution_count": 22,
   "metadata": {},
   "outputs": [],
   "source": [
    "pd.DataFrame(inD.drop(['geometry'], axis=1)).to_csv(ntl_res)"
   ]
  },
  {
   "cell_type": "code",
   "execution_count": null,
   "metadata": {},
   "outputs": [],
   "source": [
    "# Extract the most recent ntl imagery\n",
    "if not os.path.exists(ntl_2020):\n",
    "    tempR = rasterio.open(os.path.join(aws_base, ntl_files[-1]))\n",
    "    rMisc.clipRaster(tempR, inA, ntl_2020)"
   ]
  },
  {
   "cell_type": "code",
   "execution_count": null,
   "metadata": {},
   "outputs": [],
   "source": []
  },
  {
   "cell_type": "code",
   "execution_count": null,
   "metadata": {},
   "outputs": [],
   "source": []
  },
  {
   "cell_type": "code",
   "execution_count": null,
   "metadata": {},
   "outputs": [],
   "source": []
  }
 ],
 "metadata": {
  "kernelspec": {
   "display_name": "Python (geog)",
   "language": "python",
   "name": "geog"
  },
  "language_info": {
   "codemirror_mode": {
    "name": "ipython",
    "version": 3
   },
   "file_extension": ".py",
   "mimetype": "text/x-python",
   "name": "python",
   "nbconvert_exporter": "python",
   "pygments_lexer": "ipython3",
   "version": "3.9.7"
  }
 },
 "nbformat": 4,
 "nbformat_minor": 2
}
