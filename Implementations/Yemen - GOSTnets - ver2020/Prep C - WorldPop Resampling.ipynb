{
 "cells": [
  {
   "cell_type": "markdown",
   "metadata": {},
   "source": [
    "### Prep C \n",
    "\n",
    "In this script, we take our c. 100 x 100m resolution WorldPop Grid and resample to 1000m x 1000m grid. This will enable us to use this grid as the origin points in our analysis. \n",
    "\n",
    "Credit to Ben Stewart for the assistance "
   ]
  },
  {
   "cell_type": "markdown",
   "metadata": {},
   "source": [
    "Import the usual suspects"
   ]
  },
  {
   "cell_type": "code",
   "execution_count": 1,
   "metadata": {
    "collapsed": true
   },
   "outputs": [],
   "source": [
    "import os, sys, time, pandas as pd, geopandas as gpd, rasterio as rt, numpy as np"
   ]
  },
  {
   "cell_type": "markdown",
   "metadata": {},
   "source": [
    "import some special funcs for handling raster reprojection"
   ]
  },
  {
   "cell_type": "code",
   "execution_count": 2,
   "metadata": {
    "collapsed": true
   },
   "outputs": [],
   "source": [
    "import affine\n",
    "from rasterio.warp import reproject\n",
    "from rasterio.warp import Resampling"
   ]
  },
  {
   "cell_type": "markdown",
   "metadata": {},
   "source": [
    "Bring in our raster as src"
   ]
  },
  {
   "cell_type": "code",
   "execution_count": 52,
   "metadata": {
    "collapsed": true
   },
   "outputs": [],
   "source": [
    "infil = r'pop15.tif'\n",
    "src = rt.open(os.path.join(r'C:\\Users\\charl\\Documents\\GOST\\Yemen\\worldpop', infil))"
   ]
  },
  {
   "cell_type": "markdown",
   "metadata": {},
   "source": [
    "Read the array into arr, check the first value"
   ]
  },
  {
   "cell_type": "code",
   "execution_count": 53,
   "metadata": {},
   "outputs": [
    {
     "data": {
      "text/plain": [
       "-3.402823e+38"
      ]
     },
     "execution_count": 53,
     "metadata": {},
     "output_type": "execute_result"
    }
   ],
   "source": [
    "arr = src.read(masked=True)\n",
    "arr[0].data[0,0]"
   ]
  },
  {
   "cell_type": "markdown",
   "metadata": {},
   "source": [
    "Remove insane values. After the removal of these big boys, we can sum the raster to check the population of Yemen"
   ]
  },
  {
   "cell_type": "code",
   "execution_count": 38,
   "metadata": {},
   "outputs": [
    {
     "data": {
      "text/plain": [
       "28956732.0"
      ]
     },
     "execution_count": 38,
     "metadata": {},
     "output_type": "execute_result"
    }
   ],
   "source": [
    "max_int32 = 2147483647\n",
    "small = -0.000001\n",
    "arr[arr > 1E6] = max_int32\n",
    "arr[arr < 0] = small\n",
    "arr = np.ma.masked_where(arr <= small, arr)\n",
    "arr = np.ma.masked_where(arr >= max_int32, arr)\n",
    "arr.sum()"
   ]
  },
  {
   "cell_type": "markdown",
   "metadata": {},
   "source": [
    "...or about 29 million people. Next, we set values to unsigned int 32, and resave the file"
   ]
  },
  {
   "cell_type": "code",
   "execution_count": 39,
   "metadata": {
    "collapsed": true
   },
   "outputs": [],
   "source": [
    "profile = src.profile\n",
    "d_type = rt.uint32\n",
    "profile.update(nodata = 0,dtype = d_type)\n",
    "\n",
    "with rt.open(os.path.join(r'C:\\Users\\charl\\Documents\\GOST\\Yemen\\worldpop',infil.replace('.tif','_norm.tif')), 'w', **profile) as dst:\n",
    "    dst.write(arr.astype(d_type))"
   ]
  },
  {
   "cell_type": "markdown",
   "metadata": {},
   "source": [
    "In preparation for the fact that the new raster will have 10x fewer values on each axis, we make a new array that is 10x smaller, but the same shape ratio as the original arr"
   ]
  },
  {
   "cell_type": "code",
   "execution_count": 40,
   "metadata": {
    "collapsed": true
   },
   "outputs": [],
   "source": [
    "factah = 0.1\n",
    "\n",
    "newarr = np.empty(shape=(arr.shape[0],  # same number of bands\n",
    "                         round(arr.shape[1] * factah), \n",
    "                         round(arr.shape[2] * factah)))"
   ]
  },
  {
   "cell_type": "markdown",
   "metadata": {},
   "source": [
    "Here, we define the existing Affine transform as aff, then divide the bits of the transform through by the same factor to generate a new transform, newaff. For more info on what each number does, read here: https://buildmedia.readthedocs.org/media/pdf/rasterio/latest/rasterio.pdf"
   ]
  },
  {
   "cell_type": "code",
   "execution_count": null,
   "metadata": {
    "collapsed": true
   },
   "outputs": [],
   "source": [
    "# adjust the new affine transform to the smaller cell size\n",
    "aff = src.transform\n",
    "\n",
    "newaff = affine.Affine(aff[0] / factah,  # x cell width\n",
    "                aff[1],\n",
    "                aff[2],  # upper left coordinate: x axis value\n",
    "                aff[3], \n",
    "                aff[4] / factah,  # y cell width\n",
    "                aff[5]) # upper left coordinate: y axis value"
   ]
  },
  {
   "cell_type": "markdown",
   "metadata": {},
   "source": [
    "here we call the reproject method on our array using the new affine transform, keeping the crs the same, and using the average resampling method:"
   ]
  },
  {
   "cell_type": "code",
   "execution_count": 41,
   "metadata": {
    "collapsed": true
   },
   "outputs": [],
   "source": [
    "reproject(\n",
    "    arr, newarr,\n",
    "    src_transform = aff,\n",
    "    dst_transform = newaff,\n",
    "    src_crs = src.crs,\n",
    "    dst_crs = src.crs,\n",
    "    resampling = Resampling.average\n",
    ")"
   ]
  },
  {
   "cell_type": "markdown",
   "metadata": {},
   "source": [
    "We also need to correct the values - multiplying them by the factor ratio, commensurately. Here, we x 100, as factah = 0.1"
   ]
  },
  {
   "cell_type": "code",
   "execution_count": null,
   "metadata": {
    "collapsed": true
   },
   "outputs": [],
   "source": [
    "newarr = newarr * ((1/factah) ** 2)"
   ]
  },
  {
   "cell_type": "markdown",
   "metadata": {},
   "source": [
    "Next, we remove resampled insane values. This happens around the coastal areas where the average takes in some high no data vals"
   ]
  },
  {
   "cell_type": "code",
   "execution_count": 42,
   "metadata": {
    "collapsed": true
   },
   "outputs": [],
   "source": [
    "newarr[newarr >= max_int32] = max_int32\n",
    "newarr[newarr <= small] = 0"
   ]
  },
  {
   "cell_type": "markdown",
   "metadata": {},
   "source": [
    "We check to make sure this process hasn't knocked too many people out. We have ended up with a sum of total people at around 28.7 million, vs an original 28.9 million - so a very small percetnage change. "
   ]
  },
  {
   "cell_type": "code",
   "execution_count": 43,
   "metadata": {},
   "outputs": [
    {
     "data": {
      "text/plain": [
       "28711247.37282433"
      ]
     },
     "execution_count": 43,
     "metadata": {},
     "output_type": "execute_result"
    }
   ],
   "source": [
    "newarr = np.ma.masked_where(newarr <= small, newarr)\n",
    "newarr = np.ma.masked_where(newarr >= max_int32, newarr)\n",
    "newarr.sum()"
   ]
  },
  {
   "cell_type": "markdown",
   "metadata": {},
   "source": [
    "...equivalent to less than 1% of the total"
   ]
  },
  {
   "cell_type": "code",
   "execution_count": 44,
   "metadata": {},
   "outputs": [
    {
     "data": {
      "text/plain": [
       "0.008477635776567263"
      ]
     },
     "execution_count": 44,
     "metadata": {},
     "output_type": "execute_result"
    }
   ],
   "source": [
    "((arr.sum() - newarr.sum()) / arr.sum())"
   ]
  },
  {
   "cell_type": "markdown",
   "metadata": {},
   "source": [
    "Satisfied, we now proceed to write this out to file"
   ]
  },
  {
   "cell_type": "code",
   "execution_count": 45,
   "metadata": {
    "collapsed": true
   },
   "outputs": [],
   "source": [
    "# Write an array as a raster band to a new 8-bit file. For\n",
    "# the new file's profile, we start with the profile of the source\n",
    "profile = src.profile\n",
    "\n",
    "d_type = rt.int32\n",
    "\n",
    "# And then change the band count to 1, set the\n",
    "# dtype to uint8, and adjust the transform accordingly\n",
    "profile.update(width = newarr.shape[2],\n",
    "              height = newarr.shape[1],\n",
    "              transform = newaff, \n",
    "               dtype = d_type, \n",
    "               nodata = max_int32)\n",
    "\n",
    "outfil = infil.replace('.tif','_resampled.tif')\n",
    "\n",
    "with rt.open(os.path.join(r'C:\\Users\\charl\\Documents\\GOST\\Yemen\\worldpop',outfil), 'w', **profile) as dst:\n",
    "    dst.write(newarr.astype(d_type))"
   ]
  },
  {
   "cell_type": "markdown",
   "metadata": {},
   "source": [
    "### Final Step - Important - Convert to .csv\n",
    "In order to use this resampled file as our origins, we need a .csv with points. \n",
    "I haven't found a near an efficient way of doing this in Python. \n",
    "\n",
    "As such, we use the toolbox 'vector creation --> raster pixels to points' function in QGIS to turn the final raster into a point layer, as a shapefile. \n",
    "\n",
    "Once this has been achieved, run the step below to move from shapefile to .csv (the shapefile can then be deleted to save disk space as we will not refer to it again)"
   ]
  },
  {
   "cell_type": "code",
   "execution_count": 55,
   "metadata": {
    "collapsed": true
   },
   "outputs": [],
   "source": [
    "pth = r'C:\\Users\\charl\\Documents\\GOST\\Yemen\\origins'\n",
    "fil = r'origins_1km_2018.shp'\n",
    "loc = os.path.join(pth, fil)\n",
    "\n",
    "points_shp = gpd.read_file(loc)\n",
    "points_shp['Longitude'] = points_shp['geometry'].apply(lambda x: x.x)\n",
    "points_shp['Latitude'] = points_shp['geometry'].apply(lambda x: x.y)\n",
    "points_shp.to_csv(os.path.join(pth, fil.replace('.shp','.csv')))"
   ]
  }
 ],
 "metadata": {
  "kernelspec": {
   "display_name": "Python 3",
   "language": "python",
   "name": "python3"
  },
  "language_info": {
   "codemirror_mode": {
    "name": "ipython",
    "version": 3
   },
   "file_extension": ".py",
   "mimetype": "text/x-python",
   "name": "python",
   "nbconvert_exporter": "python",
   "pygments_lexer": "ipython3",
   "version": "3.6.1"
  }
 },
 "nbformat": 4,
 "nbformat_minor": 2
}
