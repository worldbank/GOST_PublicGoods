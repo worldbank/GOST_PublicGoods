{
 "cells": [
  {
   "cell_type": "markdown",
   "metadata": {},
   "source": [
    "### Step 1 - Extract from OSM\n",
    "\n",
    "This is the classic GOSTnets first step - extracting the raw, uncleaned road network from a .osm.pbf file."
   ]
  },
  {
   "cell_type": "markdown",
   "metadata": {},
   "source": [
    "Import the usual suspects"
   ]
  },
  {
   "cell_type": "code",
   "execution_count": 33,
   "metadata": {
    "collapsed": true
   },
   "outputs": [],
   "source": [
    "import geopandas as gpd\n",
    "import os, sys, time\n",
    "import pandas as pd\n",
    "import numpy as np\n",
    "from osgeo import ogr\n",
    "from rtree import index\n",
    "from shapely import speedups\n",
    "import networkx as nx\n",
    "import shapely.ops\n",
    "from shapely.geometry import LineString, MultiLineString, MultiPoint, Point\n",
    "from geopy.distance import vincenty\n",
    "from boltons.iterutils import pairwise\n",
    "import matplotlib.pyplot as plt\n",
    "from shapely.wkt import loads,dumps"
   ]
  },
  {
   "cell_type": "markdown",
   "metadata": {},
   "source": [
    "Set the path to the data (the .osm.pbf to be extracted)"
   ]
  },
  {
   "cell_type": "code",
   "execution_count": 1,
   "metadata": {
    "collapsed": true
   },
   "outputs": [],
   "source": [
    "data_path = r'C:\\Users\\charl\\Documents\\GOST\\Yemen\\YEM\\Round 3'"
   ]
  },
  {
   "cell_type": "markdown",
   "metadata": {},
   "source": [
    "We define a function to open a osm.pbf using OGR, that returns an opened .osm.pbf object"
   ]
  },
  {
   "cell_type": "code",
   "execution_count": null,
   "metadata": {
    "collapsed": true
   },
   "outputs": [],
   "source": [
    "def load_osm_data(data_path,country):\n",
    "    \n",
    "    osm_path = os.path.join(data_path,'{}.osm.pbf'.format(country))\n",
    "\n",
    "    driver=ogr.GetDriverByName('OSM')\n",
    "    \n",
    "    return driver.Open(osm_path)"
   ]
  },
  {
   "cell_type": "markdown",
   "metadata": {},
   "source": [
    "... and another function to extract, using SQL, the 'osm id' and 'highway' fields from the Lines table. We then append valid objects to a roads list, and generate a GeoDataFrame from it."
   ]
  },
  {
   "cell_type": "code",
   "execution_count": null,
   "metadata": {
    "collapsed": true
   },
   "outputs": [],
   "source": [
    "def fetch_roads(data_path, country):\n",
    "    \n",
    "    # call the previously defined load_osm_data function to create an opened .osm.pbf object, 'data'\n",
    "    data = load_osm_data(data_path,country)\n",
    "    \n",
    "    # use SQL on this object to pick out all the lines where highway is not null. \n",
    "    sql_lyr = data.ExecuteSQL(\"SELECT osm_id,highway FROM lines WHERE highway IS NOT NULL\")\n",
    "    \n",
    "    # build a list called roads of all the valid responses; load the WKT as a shapely object\n",
    "    roads=[]                          \n",
    "    for feature in sql_lyr:\n",
    "        if feature.GetField('highway') is not None:\n",
    "            osm_id = feature.GetField('osm_id')\n",
    "            shapely_geo = loads(feature.geometry().ExportToWkt()) \n",
    "            if shapely_geo is None:\n",
    "                continue\n",
    "            highway=feature.GetField('highway')\n",
    "            roads.append([osm_id,highway,shapely_geo])\n",
    "    \n",
    "    # if we have more than 0 valid roads, \n",
    "    if len(roads) > 0:\n",
    "        \n",
    "        # Generate a GeoDataFrame of the responses. Note crs = 4326, per OSM default\n",
    "        road_gdf = gpd.GeoDataFrame(roads,columns=['osm_id','infra_type','geometry'],crs={'init': 'epsg:4326'})\n",
    "        \n",
    "        # check to see if we have included or excluded residential roads; these are often the biggest component by number\n",
    "        if 'residential' in road_gdf.infra_type.unique():\n",
    "            print('residential included')\n",
    "        else:\n",
    "            print('residential excluded')\n",
    "        return road_gdf\n",
    "    \n",
    "    # if we can't find any valid roads, return that result. \n",
    "    else:\n",
    "        print('No roads in {}'.format(country))"
   ]
  },
  {
   "cell_type": "markdown",
   "metadata": {},
   "source": [
    "Define function for measuring the length of a line in kilometers for coordinates in WGS84"
   ]
  },
  {
   "cell_type": "code",
   "execution_count": 34,
   "metadata": {
    "collapsed": true
   },
   "outputs": [],
   "source": [
    "def line_length(line, ellipsoid='WGS-84'):\n",
    "    \"\"\"Length of a line in meters, given in geographic coordinates\n",
    "\n",
    "    Adapted from https://gis.stackexchange.com/questions/4022/looking-for-a-pythonic-way-to-calculate-the-length-of-a-wkt-linestring#answer-115285\n",
    "\n",
    "    Arguments:\n",
    "        line {Shapely LineString} -- a shapely LineString object with WGS-84 coordinates\n",
    "        ellipsoid {String} -- string name of an ellipsoid that `geopy` understands (see\n",
    "            http://geopy.readthedocs.io/en/latest/#module-geopy.distance)\n",
    "\n",
    "    Returns:\n",
    "        Length of line in meters\n",
    "    \"\"\"\n",
    "    if line.geometryType() == 'MultiLineString':\n",
    "        return sum(line_length(segment) for segment in line)\n",
    "\n",
    "    return sum(\n",
    "                vincenty(tuple(reversed(a)), tuple(reversed(b)), ellipsoid=ellipsoid).kilometers\n",
    "                for a, b in pairwise(line.coords)\n",
    "    )"
   ]
  },
  {
   "cell_type": "markdown",
   "metadata": {},
   "source": [
    "Function for returning intersections between lines"
   ]
  },
  {
   "cell_type": "code",
   "execution_count": 28,
   "metadata": {
    "collapsed": true
   },
   "outputs": [],
   "source": [
    "def get_all_intersections(shape_input, country):\n",
    "    # =============================================================================\n",
    "    #         # Initialize Rtree\n",
    "    # =============================================================================\n",
    "    idx_inters = index.Index()\n",
    "\n",
    "    # =============================================================================\n",
    "    #         # Load data    \n",
    "    # =============================================================================\n",
    "    all_data = dict(zip(list(shape_input.osm_id),list(shape_input.geometry)))\n",
    "    idx_osm = shape_input.sindex\n",
    "\n",
    "    # =============================================================================\n",
    "    #         # Find all the intersecting lines to prepare for cutting\n",
    "    # =============================================================================\n",
    "    count = 0\n",
    "    inters_done = {}\n",
    "    new_lines = []\n",
    "    for key1, line in all_data.items():\n",
    "\n",
    "        infra_line = shape_input.at[shape_input.index[shape_input['osm_id']==key1].tolist()[0],'infra_type']\n",
    "\n",
    "        intersections = shape_input.iloc[list(idx_osm.intersection(line.bounds))]\n",
    "        intersections = dict(zip(list(intersections.osm_id),list(intersections.geometry)))\n",
    "\n",
    "        # Remove line1\n",
    "        if key1 in intersections: intersections.pop(key1)\n",
    "\n",
    "        # Find intersecting lines\n",
    "        for key2,line2 in intersections.items():\n",
    "            # Check that this intersection has not been recorded already\n",
    "            if (key1, key2) in inters_done or (key2, key1) in inters_done:\n",
    "                continue\n",
    "\n",
    "            # Record that this intersection was saved\n",
    "            inters_done[(key1, key2)] = True\n",
    "\n",
    "            # Get intersection\n",
    "            if line.intersects(line2):\n",
    "                # Get intersection\n",
    "                inter = line.intersection(line2)\n",
    "\n",
    "                # Save intersecting point\n",
    "                if \"Point\" == inter.type:\n",
    "                    idx_inters.insert(0, inter.bounds, inter)\n",
    "                    count += 1\n",
    "\n",
    "                elif \"MultiPoint\" == inter.type:\n",
    "                    for pt in inter:\n",
    "                        idx_inters.insert(0, pt.bounds, pt)\n",
    "                        count += 1\n",
    "\n",
    "    ## =============================================================================\n",
    "    ##         # cut lines where necessary and save all new linestrings to a list \n",
    "    ## =============================================================================\n",
    "        hits = [n.object for n in idx_inters.intersection(line.bounds, objects=True)]\n",
    "\n",
    "        if len(hits) != 0:\n",
    "            out = shapely.ops.split(line, MultiPoint(hits))\n",
    "            new_lines.append([{'geometry': LineString(x), 'osm_id':key1,'infra_type':infra_line} for x in out.geoms])\n",
    "        else:\n",
    "            new_lines.append([{'geometry': line, 'osm_id':key1,\n",
    "                    'infra_type':infra_line}])\n",
    "\n",
    "    # Create one big list and treat all the cut lines as unique lines    \n",
    "    flat_list = []\n",
    "    all_data = {}\n",
    "\n",
    "    # item for sublist in new_lines for item in sublist\n",
    "    i = 1\n",
    "    for sublist in new_lines:\n",
    "        if sublist is not None:\n",
    "            for item in sublist:\n",
    "                item['id'] = i\n",
    "                flat_list.append(item)\n",
    "                i += 1\n",
    "                all_data[i] = item\n",
    "\n",
    "    # =============================================================================\n",
    "    #          # Transform into geodataframe and add coordinate system        \n",
    "    # =============================================================================\n",
    "    full_gpd = gpd.GeoDataFrame(flat_list,geometry ='geometry')\n",
    "    full_gpd['country'] = country\n",
    "    full_gpd.crs = {'init' :'epsg:4326'}\n",
    "    return full_gpd\n",
    "\n",
    "def get_nodes(x):\n",
    "    return list(x.geometry.coords)[0],list(x.geometry.coords)[-1]"
   ]
  },
  {
   "cell_type": "markdown",
   "metadata": {},
   "source": [
    "In this section, we:\n",
    "- define the valid road types in 'accepted_road_types' list\n",
    "- run the above functions"
   ]
  },
  {
   "cell_type": "code",
   "execution_count": 36,
   "metadata": {},
   "outputs": [
    {
     "name": "stdout",
     "output_type": "stream",
     "text": [
      "C:\\Users\\charl\\Documents\\GOST\\Yemen\\YEM\\Round 3\\YEM.osm.pbf\n",
      "residential included\n"
     ]
    },
    {
     "name": "stderr",
     "output_type": "stream",
     "text": [
      "C:\\Users\\charl\\Anaconda3\\envs\\Cfox2\\lib\\site-packages\\ipykernel_launcher.py:53: DeprecationWarning: Vincenty is deprecated and is going to be removed in geopy 2.0. Use `geopy.distance.geodesic` (or the default `geopy.distance.distance`) instead, which is more accurate and always converges.\n"
     ]
    }
   ],
   "source": [
    "destfolder = r'C:\\Users\\charl\\Documents\\GOST\\Yemen\\YEM\\Round 3'\n",
    "country = 'YEM'\n",
    "\n",
    "# get a raw GeoDataFrame for the .osm.pbf\n",
    "roads_raw = fetch_roads(data_path,country)\n",
    "\n",
    "# define acceptable road types that we want to keep (all entries must be highway tags from OSM)\n",
    "accepted_road_types = ['primary','secondary',\n",
    "                      'primary_link',\n",
    "                      'motorway',\n",
    "                      'motorway_link',\n",
    "                      'secondary_link',\n",
    "                      'tertiary',\n",
    "                      'tertiary_link',\n",
    "                      'trunk',\n",
    "                      'trunk_link',\n",
    "                      'residential',\n",
    "                      'unclassified',\n",
    "                      'road',\n",
    "                      'track',\n",
    "                      'service',\n",
    "                      'services'\n",
    "                      ]\n",
    "\n",
    "# here we subset the raw GDF with this list\n",
    "roads_raw = roads_raw.loc[roads_raw.infra_type.isin(accepted_road_types)]\n",
    "\n",
    "# find all individual road segments\n",
    "roads = get_all_intersections(roads_raw, country)\n",
    "\n",
    "# generate a unique key field\n",
    "roads['key'] = ['edge_'+str(x+1) for x in range(len(roads))]\n",
    "np.arange(1,len(roads)+1,1)\n",
    "\n",
    "# run the 'get nodes' function for these roads\n",
    "nodes = gpd.GeoDataFrame(roads.apply(lambda x: get_nodes(x),axis=1).apply(pd.Series))\n",
    "nodes.columns = ['u','v']\n",
    "\n",
    "# find the length of the roads\n",
    "roads['length'] = roads.geometry.apply(lambda x : line_length(x))\n",
    "\n",
    "# rename the geometry field\n",
    "roads.rename(columns={'geometry':'Wkt'}, inplace=True)\n",
    "\n",
    "# join the two files together\n",
    "roads = pd.concat([roads,nodes],axis=1)\n",
    "\n",
    "# save down as a combo.csv. Note that this is an older version of this process - \n",
    "# see new version in GOSTnets examples folder, which saves as a gpickle\n",
    "roads.to_csv(os.path.join(destfolder, '%s_combo.csv' % country))"
   ]
  }
 ],
 "metadata": {
  "kernelspec": {
   "display_name": "Python 3",
   "language": "python",
   "name": "python3"
  },
  "language_info": {
   "codemirror_mode": {
    "name": "ipython",
    "version": 3
   },
   "file_extension": ".py",
   "mimetype": "text/x-python",
   "name": "python",
   "nbconvert_exporter": "python",
   "pygments_lexer": "ipython3",
   "version": "3.6.1"
  }
 },
 "nbformat": 4,
 "nbformat_minor": 2
}
