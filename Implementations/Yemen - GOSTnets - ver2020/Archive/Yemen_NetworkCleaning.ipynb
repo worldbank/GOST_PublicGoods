{
 "cells": [
  {
   "cell_type": "code",
   "execution_count": 5,
   "metadata": {},
   "outputs": [
    {
     "name": "stdout",
     "output_type": "stream",
     "text": [
      "peartree version: 0.6.0 \n",
      "networkx version: 2.2 \n",
      "matplotlib version: 2.2.2 \n",
      "osmnx version: 0.8.2 \n"
     ]
    }
   ],
   "source": [
    "import geopandas as gpd\n",
    "import os, sys, time\n",
    "import pandas as pd\n",
    "sys.path.append(r'C:\\Users\\charl\\Documents\\GitHub\\GOST_PublicGoods\\GOSTNets\\GOSTNets')\n",
    "import GOSTnet as gn\n",
    "import importlib\n",
    "importlib.reload(gn)\n",
    "import networkx as nx\n",
    "import osmnx as ox\n",
    "importlib.reload(ox)\n",
    "from shapely.ops import unary_union\n",
    "from shapely.wkt import loads\n",
    "from shapely.geometry import LineString, MultiLineString, Point"
   ]
  },
  {
   "cell_type": "code",
   "execution_count": 6,
   "metadata": {},
   "outputs": [],
   "source": [
    "def InitialReadIn(fpath, country):\n",
    "    \n",
    "    ffile = r'%s_combo.csv' % country\n",
    "    \n",
    "    edges_1 = pd.read_csv(os.path.join(fpath, 'processed', ffile))\n",
    "\n",
    "    edges = edges_1.copy()\n",
    "\n",
    "    node_bunch = list(set(list(edges['u']) + list(edges['v'])))\n",
    "\n",
    "    def convert(x):\n",
    "        u = x.u\n",
    "        v = x.v\n",
    "        data = {'Wkt':loads(x.Wkt),\n",
    "               'id':x.id,\n",
    "               'infra_type':x.infra_type, \n",
    "               'osm_id':x.osm_id,\n",
    "               'country': x.country,\n",
    "               'key': x.key, \n",
    "               'length':x.length}\n",
    "\n",
    "        return (u, v, data)\n",
    "\n",
    "    edge_bunch = edges.apply(lambda x: convert(x), axis = 1).tolist()\n",
    "\n",
    "    G = nx.MultiDiGraph()\n",
    "\n",
    "    G.add_nodes_from(node_bunch)\n",
    "    G.add_edges_from(edge_bunch)\n",
    "\n",
    "    for u, data in G.nodes(data = True):\n",
    "        q = tuple(float(x) for x in u[1:-1].split(','))\n",
    "        data['x'] = q[0]\n",
    "        data['y'] = q[1]\n",
    "\n",
    "    G = nx.convert_node_labels_to_integers(G)\n",
    "\n",
    "    gdfnodes = gn.node_gdf_from_graph(G)\n",
    "    gdfnodes.to_csv(os.path.join(wpath, '%s_pre_processing_nodes.csv' % country))\n",
    "    gdfedges = gn.edge_gdf_from_graph(G, geom_col = 'Wkt')\n",
    "    gdfedges.to_csv(os.path.join(wpath, '%s_pre_processing_edges.csv' % country))\n",
    "    \n",
    "    print('These two should equal: A) length of final df: %s | B) length of original df: %s' % (len(gdfedges), len(edges_1)))\n",
    "    \n",
    "    return G"
   ]
  },
  {
   "cell_type": "markdown",
   "metadata": {},
   "source": [
    "### Full Process"
   ]
  },
  {
   "cell_type": "code",
   "execution_count": 7,
   "metadata": {},
   "outputs": [],
   "source": [
    "def CleanNetwork(G, wpath, country, UTM, WGS = {'init': 'epsg:4326'}, junctdist = 50, verbose = False):\n",
    "    \n",
    "    # Squeezes clusters of nodes down to a single node if they are within the snapping tolerance\n",
    "    a = gn.simplify_junctions(G, UTM, WGS, junctdist)\n",
    "\n",
    "    # ensures all streets are two-way\n",
    "    a = gn.add_missing_reflected_edges(a)\n",
    "    \n",
    "    #save progress\n",
    "    if verbose is True: \n",
    "        gn.save(a, 'a', wpath)\n",
    "    \n",
    "    # Finds and deletes interstital nodes based on node degree\n",
    "    b = gn.custom_simplify(a)\n",
    "    \n",
    "    # rectify geometry\n",
    "    for u, v, data in b.edges(data = True):\n",
    "        if type(data['Wkt']) == list:\n",
    "                data['Wkt'] = gn.unbundle_geometry(data['Wkt'])\n",
    "    \n",
    "    # save progress\n",
    "    if verbose is True: \n",
    "        gn.save(b, 'b', wpath)\n",
    "    \n",
    "    # For some reason CustomSimplify doesn't return a MultiDiGraph. Fix that here\n",
    "    c = gn.convert_to_MultiDiGraph(b)\n",
    "\n",
    "    # This is the most controversial function - removes duplicated edges. This takes care of two-lane but separate highways, BUT\n",
    "    # destroys internal loops within roads. Can be run with or without this line\n",
    "    c = gn.remove_duplicate_edges(c)\n",
    "\n",
    "    # Run this again after removing duplicated edges\n",
    "    c = gn.custom_simplify(c)\n",
    "\n",
    "    # Ensure all remaining edges are duplicated (two-way streets)\n",
    "    c = gn.add_missing_reflected_edges(c)\n",
    "    \n",
    "    # save final\n",
    "    gn.save(c, '%s_processed' % country, wpath)\n",
    "    \n",
    "    print('Edge reduction: %s to %s (%d percent)' % (G.number_of_edges(), \n",
    "                                               c.number_of_edges(), \n",
    "                                               ((G.number_of_edges() - c.number_of_edges())/G.number_of_edges()*100)))\n",
    "    return c"
   ]
  },
  {
   "cell_type": "code",
   "execution_count": 8,
   "metadata": {},
   "outputs": [
    {
     "name": "stdout",
     "output_type": "stream",
     "text": [
      "peartree version: 0.6.0 \n",
      "networkx version: 2.2 \n",
      "matplotlib version: 2.2.2 \n",
      "osmnx version: 0.8.2 \n",
      "\n",
      "--- processing for: YEM ---\n",
      "\n",
      "start: Wed Jan  9 08:55:32 2019\n",
      "\n",
      "Outputs can be found at: C:\\Users\\charl\\Documents\\GOST\\NetClean\\output\\YEM\n",
      "\n",
      "These two should equal: A) length of final df: 151848 | B) length of original df: 151848\n",
      "151836\n",
      "302730\n",
      "288602\n",
      "287827\n",
      "286665\n",
      "Edge reduction: 151848 to 286665 (-88 percent)\n",
      "\n",
      "end: Wed Jan  9 09:32:34 2019\n",
      "\n",
      "--- processing complete for: YEM ---\n"
     ]
    }
   ],
   "source": [
    "UTMZs = {'ABW':24819,\n",
    "        'NRU':32629,\n",
    "        'MAR':32629,\n",
    "        'UGA':32736,\n",
    "        'TZA':32737,\n",
    "        'HUN':32634,\n",
    "        'PNG':32756,\n",
    "        'YEM':32638}\n",
    "\n",
    "WGS = {'init': 'epsg:4326'}\n",
    "\n",
    "countries = ['YEM']\n",
    "\n",
    "importlib.reload(gn)\n",
    "\n",
    "fpath = r'C:\\Users\\charl\\Documents\\GOST\\NetClean'\n",
    "\n",
    "for country in countries:\n",
    "    \n",
    "    print('\\n--- processing for: %s ---\\n' % country)\n",
    "    print('start: %s\\n' % time.ctime())\n",
    "    wpath = os.path.join(fpath, r'output\\%s' % country)\n",
    "    if not os.path.exists(wpath):\n",
    "        os.mkdir(wpath)\n",
    "    \n",
    "    print('Outputs can be found at: %s\\n' % (wpath))\n",
    "        \n",
    "    UTM = {'init': 'epsg:%d' % UTMZs[country]}\n",
    "    \n",
    "    G = InitialReadIn(fpath, country)\n",
    "    \n",
    "    G = CleanNetwork(G, wpath, country, UTM, WGS, 0.5, verbose = False)\n",
    "    print('\\nend: %s' % time.ctime())\n",
    "    print('\\n--- processing complete for: %s ---' % country)"
   ]
  },
  {
   "cell_type": "code",
   "execution_count": null,
   "metadata": {},
   "outputs": [],
   "source": []
  },
  {
   "cell_type": "code",
   "execution_count": null,
   "metadata": {},
   "outputs": [],
   "source": []
  },
  {
   "cell_type": "code",
   "execution_count": null,
   "metadata": {},
   "outputs": [],
   "source": []
  },
  {
   "cell_type": "code",
   "execution_count": null,
   "metadata": {},
   "outputs": [],
   "source": []
  },
  {
   "cell_type": "code",
   "execution_count": null,
   "metadata": {},
   "outputs": [],
   "source": []
  },
  {
   "cell_type": "code",
   "execution_count": null,
   "metadata": {},
   "outputs": [],
   "source": []
  },
  {
   "cell_type": "code",
   "execution_count": null,
   "metadata": {},
   "outputs": [],
   "source": []
  },
  {
   "cell_type": "code",
   "execution_count": null,
   "metadata": {},
   "outputs": [],
   "source": []
  },
  {
   "cell_type": "code",
   "execution_count": null,
   "metadata": {},
   "outputs": [],
   "source": []
  },
  {
   "cell_type": "code",
   "execution_count": null,
   "metadata": {},
   "outputs": [],
   "source": []
  },
  {
   "cell_type": "code",
   "execution_count": null,
   "metadata": {},
   "outputs": [],
   "source": []
  }
 ],
 "metadata": {
  "kernelspec": {
   "display_name": "Python (Cfox2)",
   "language": "python",
   "name": "cfox2"
  },
  "language_info": {
   "codemirror_mode": {
    "name": "ipython",
    "version": 3
   },
   "file_extension": ".py",
   "mimetype": "text/x-python",
   "name": "python",
   "nbconvert_exporter": "python",
   "pygments_lexer": "ipython3",
   "version": "3.6.8"
  }
 },
 "nbformat": 4,
 "nbformat_minor": 2
}
