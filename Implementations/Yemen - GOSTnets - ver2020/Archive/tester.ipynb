{
 "cells": [
  {
   "cell_type": "code",
   "execution_count": 14,
   "metadata": {},
   "outputs": [],
   "source": [
    "import networkx as nx\n",
    "import os, sys, time\n",
    "import pandas as pd\n",
    "from shapely.geometry import Point"
   ]
  },
  {
   "cell_type": "code",
   "execution_count": 15,
   "metadata": {},
   "outputs": [],
   "source": [
    "test_loc = r'C:\\Users\\charl\\Documents\\GOST\\PyPractice\\cliptest'"
   ]
  },
  {
   "cell_type": "code",
   "execution_count": 16,
   "metadata": {},
   "outputs": [],
   "source": [
    "G = nx.read_gpickle(os.path.join(test_loc, 'base.pickle'))"
   ]
  },
  {
   "cell_type": "code",
   "execution_count": 18,
   "metadata": {},
   "outputs": [],
   "source": [
    "st = 2546\n",
    "end = 107805"
   ]
  },
  {
   "cell_type": "code",
   "execution_count": 19,
   "metadata": {},
   "outputs": [
    {
     "name": "stdout",
     "output_type": "stream",
     "text": [
      "33.470083977416614 hours\n"
     ]
    }
   ],
   "source": [
    "l = nx.shortest_path(G, st, end, weight = 'time')\n",
    "print(nx.shortest_path_length(G, st, end, weight = 'time') / 3600,'hours')\n",
    "keyn = []\n",
    "for u, data in G.nodes(data = True):\n",
    "    if u in l:\n",
    "        data['ID'] = u\n",
    "        keyn.append(data)\n",
    "df = pd.DataFrame(keyn)\n",
    "df['Geometry'] = (list(zip(df.x, df.y)))\n",
    "df['Geometry'] = df['Geometry'].apply(lambda x: Point(x))\n",
    "df.to_csv(os.path.join(test_loc, 'path.csv'))"
   ]
  },
  {
   "cell_type": "code",
   "execution_count": null,
   "metadata": {},
   "outputs": [],
   "source": []
  },
  {
   "cell_type": "code",
   "execution_count": null,
   "metadata": {},
   "outputs": [],
   "source": []
  }
 ],
 "metadata": {
  "kernelspec": {
   "display_name": "Python (Cfox2)",
   "language": "python",
   "name": "cfox2"
  },
  "language_info": {
   "codemirror_mode": {
    "name": "ipython",
    "version": 3
   },
   "file_extension": ".py",
   "mimetype": "text/x-python",
   "name": "python",
   "nbconvert_exporter": "python",
   "pygments_lexer": "ipython3",
   "version": "3.6.6"
  }
 },
 "nbformat": 4,
 "nbformat_minor": 2
}
