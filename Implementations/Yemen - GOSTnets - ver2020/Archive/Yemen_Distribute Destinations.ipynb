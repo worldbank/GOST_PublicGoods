{
 "cells": [
  {
   "cell_type": "code",
   "execution_count": 34,
   "metadata": {},
   "outputs": [],
   "source": [
    "import os, sys, time, pandas as pd\n",
    "import math"
   ]
  },
  {
   "cell_type": "code",
   "execution_count": 35,
   "metadata": {},
   "outputs": [],
   "source": [
    "inpth = r'C:\\Users\\charl\\Documents\\GOST\\Yemen\\facility_files'\n",
    "outpth = r'C:\\Users\\charl\\Documents\\GOST\\Yemen\\graphtool'\n",
    "dfiles = ['HeRAMs_2016v2018_damages and functionality_cleaned_snapped.csv',\n",
    "        'all facilities_herams_snapped.csv',\n",
    "        'YEHNP PHCs_unicef_snapped.csv',\n",
    "        'YEHNP hospitals_snapped.csv']"
   ]
  },
  {
   "cell_type": "code",
   "execution_count": 36,
   "metadata": {},
   "outputs": [
    {
     "name": "stdout",
     "output_type": "stream",
     "text": [
      "number of unique destinations: 4114\n"
     ]
    }
   ],
   "source": [
    "unique_ds = []\n",
    "\n",
    "for dfile in dfiles:\n",
    "    destinations_df = pd.read_csv(os.path.join(inpth, dfile))\n",
    "    destinations = list(set(list(destinations_df.NN)))\n",
    "    unique_ds.append(destinations)\n",
    "\n",
    "destinations = list(set([item for sublist in unique_ds for item in sublist]))\n",
    "print('number of unique destinations: %d' % len(destinations))"
   ]
  },
  {
   "cell_type": "code",
   "execution_count": 37,
   "metadata": {},
   "outputs": [],
   "source": [
    "def chunks(l, n):\n",
    "    \"\"\"Yield successive n-sized chunks from l.\"\"\"\n",
    "    for i in range(0, len(l), n):\n",
    "        yield l[i:i + n]\n",
    "\n",
    "destinations_A, destinations_B, destinations_C, destinations_D, destinations_E = list(chunks(destinations, (math.floor(len(destinations) / 5) + 1)))"
   ]
  },
  {
   "cell_type": "code",
   "execution_count": 38,
   "metadata": {},
   "outputs": [],
   "source": [
    "j = 1\n",
    "for i in [destinations_A, destinations_B, destinations_C, destinations_D, destinations_E]:\n",
    "    df = pd.DataFrame(i)\n",
    "    df.to_csv(os.path.join(outpth, 'destinations_%d.csv'%j), header = None, index = None)\n",
    "    j += 1"
   ]
  },
  {
   "cell_type": "code",
   "execution_count": null,
   "metadata": {},
   "outputs": [],
   "source": []
  },
  {
   "cell_type": "code",
   "execution_count": 32,
   "metadata": {},
   "outputs": [],
   "source": [
    "df = pd.read_csv(os.path.join(outpth, fil))"
   ]
  },
  {
   "cell_type": "code",
   "execution_count": 33,
   "metadata": {},
   "outputs": [
    {
     "data": {
      "text/plain": [
       "36158"
      ]
     },
     "execution_count": 33,
     "metadata": {},
     "output_type": "execute_result"
    }
   ],
   "source": [
    "len(list(set(list(df.NN))))"
   ]
  },
  {
   "cell_type": "code",
   "execution_count": null,
   "metadata": {},
   "outputs": [],
   "source": []
  }
 ],
 "metadata": {
  "kernelspec": {
   "display_name": "Python (Cfox2)",
   "language": "python",
   "name": "cfox2"
  },
  "language_info": {
   "codemirror_mode": {
    "name": "ipython",
    "version": 3
   },
   "file_extension": ".py",
   "mimetype": "text/x-python",
   "name": "python",
   "nbconvert_exporter": "python",
   "pygments_lexer": "ipython3",
   "version": "3.6.6"
  }
 },
 "nbformat": 4,
 "nbformat_minor": 2
}
