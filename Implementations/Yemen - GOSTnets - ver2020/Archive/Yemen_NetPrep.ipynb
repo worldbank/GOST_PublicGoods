{
 "cells": [
  {
   "cell_type": "code",
   "execution_count": 1,
   "metadata": {},
   "outputs": [
    {
     "name": "stdout",
     "output_type": "stream",
     "text": [
      "peartree version: 0.6.0 \n",
      "networkx version: 2.2 \n",
      "matplotlib version: 2.2.2 \n",
      "osmnx version: 0.8.2 \n",
      "peartree version: 0.6.0 \n",
      "networkx version: 2.2 \n",
      "matplotlib version: 2.2.2 \n",
      "osmnx version: 0.8.2 \n"
     ]
    }
   ],
   "source": [
    "import os, sys, time\n",
    "sys.path.append(r'C:\\Users\\charl\\Documents\\GitHub\\GOST_PublicGoods\\GOSTNets\\GOSTNets')\n",
    "import importlib\n",
    "import GOSTnet as gn\n",
    "importlib.reload(gn)\n",
    "import pandas as pd\n",
    "import geopandas as gpd\n",
    "import numpy as np\n",
    "from shapely.wkt import loads\n",
    "from shapely.geometry import Point, LineString, MultiLineString\n",
    "import networkx as nx\n",
    "import osmnx as ox"
   ]
  },
  {
   "cell_type": "code",
   "execution_count": 2,
   "metadata": {},
   "outputs": [],
   "source": [
    "npath = r'C:\\Users\\charl\\Documents\\GOST\\NetClean\\output\\YEM'\n",
    "npickle = 'YEM_processed.pickle'\n",
    "bpath = r'C:\\Users\\charl\\Documents\\GOST\\Yemen'\n",
    "opath = os.path.join(bpath, 'origins')\n",
    "dpath = os.path.join(bpath, 'facility_files')\n",
    "wpath = r'C:\\Users\\charl\\Documents\\GOST\\Yemen\\YEM'"
   ]
  },
  {
   "cell_type": "markdown",
   "metadata": {},
   "source": [
    "### Loads saved graph from pickle"
   ]
  },
  {
   "cell_type": "code",
   "execution_count": 3,
   "metadata": {},
   "outputs": [
    {
     "name": "stdout",
     "output_type": "stream",
     "text": [
      "283769\n"
     ]
    }
   ],
   "source": [
    "G = nx.read_gpickle(os.path.join(npath, npickle))\n",
    "\n",
    "list_of_subgraphs = list(nx.strongly_connected_component_subgraphs(G))\n",
    "\n",
    "G_2 = list_of_subgraphs[0]\n",
    "list_of_small_subgraphs = list_of_subgraphs[1:]\n",
    "\n",
    "node_bunch = []\n",
    "edge_bunch = []\n",
    "\n",
    "for subgraph in list_of_small_subgraphs:\n",
    "    if subgraph.number_of_nodes() > 50 and subgraph.number_of_nodes() != G_2.number_of_nodes():\n",
    "        for u, data in subgraph.nodes(data = True):\n",
    "            node_bunch.append((u, data))\n",
    "\n",
    "        for u, v, data in subgraph.edges(data = True):\n",
    "            edge_bunch.append((u, v, data))\n",
    "    \n",
    "G_2.add_nodes_from(node_bunch)\n",
    "G_2.add_edges_from(edge_bunch)\n",
    "\n",
    "G = G_2\n",
    "print(G.number_of_edges())\n",
    "gn.save(G, 'G', wpath)"
   ]
  },
  {
   "cell_type": "code",
   "execution_count": 4,
   "metadata": {},
   "outputs": [
    {
     "name": "stdout",
     "output_type": "stream",
     "text": [
      "Identified 5986 unique edge(s) longer than 2000. \n",
      "Beginning new node creation...\n",
      "44268 new edges added and 11956 removed to bring total edges to 316081\n",
      "16148 new nodes added to bring total nodes to 121595\n",
      "check: salting process has left number of connected components unchanged\n",
      "2  |  2\n"
     ]
    }
   ],
   "source": [
    "G_salty = gn.salt_long_lines(G, 'epsg:4326', 'epsg:32638', thresh = 2000, factor = 0.001)\n",
    "G_salty = nx.convert_node_labels_to_integers(G_salty)\n",
    "\n",
    "print('check: salting process has left number of connected components unchanged')\n",
    "print(len(list(nx.strongly_connected_component_subgraphs(G))),\n",
    "      ' | ', \n",
    "      len(list(nx.strongly_connected_component_subgraphs(G_salty))))"
   ]
  },
  {
   "cell_type": "code",
   "execution_count": 5,
   "metadata": {},
   "outputs": [
    {
     "name": "stdout",
     "output_type": "stream",
     "text": [
      "peartree version: 0.6.0 \n",
      "networkx version: 2.2 \n",
      "matplotlib version: 2.2.2 \n",
      "osmnx version: 0.8.2 \n",
      "adding traverse time edge property...\n",
      "(0, 40443, {'Wkt': 'LINESTRING (44.0580736 13.5904793, 44.058066 13.5904398)', 'id': 29471, 'infra_type': 'track', 'osm_id': 117965664, 'country': 'YEM', 'key': 'edge_29471', 'length': 4.446831582994608, 'Type': 'legitimate', 'time': 1.0672395799187058, 'mode': 'drive'})\n",
      "(0, 87370, {'Wkt': 'LINESTRING (44.0580736 13.5904793, 44.0581423 13.590818)', 'id': 29485, 'infra_type': 'track', 'osm_id': 117965673, 'country': 'YEM', 'key': 'edge_29485', 'length': 38.20274144564127, 'Type': 'legitimate', 'time': 9.168657946953905, 'mode': 'drive'})\n"
     ]
    }
   ],
   "source": [
    "importlib.reload(gn)\n",
    "\n",
    "print('adding traverse time edge property...')\n",
    "# define speed limit dictionary\n",
    "speed_dict = {\n",
    "    'residential':25,\n",
    "    'unclassified':15,\n",
    "    'track':15,\n",
    "    'tertiary':40,\n",
    "    'secondary':50,\n",
    "    'primary':60,\n",
    "    'trunk':50,\n",
    "    'service':15,\n",
    "    'road':15,\n",
    "    'trunk_link':50,\n",
    "    'secondary_link':50,\n",
    "    'primary_link':60,\n",
    "    'tertiary_link':40}\n",
    "\n",
    "# add traverse time property into 'time' edge attribute \n",
    "G_salty_time = gn.convert_network_to_time(G_salty, \n",
    "                                          distance_tag = 'length', \n",
    "                                          road_col = 'infra_type', \n",
    "                                          graph_type = 'drive', \n",
    "                                          speed_dict = speed_dict, \n",
    "                                          walk_speed = 4,\n",
    "                                          factor = 1000\n",
    "                                         )\n",
    "gn.example_edge(G_salty_time, 2)\n",
    "\n",
    "gn.save(G_salty_time, 'G_salty_time', wpath)"
   ]
  },
  {
   "cell_type": "markdown",
   "metadata": {},
   "source": [
    "### Manual Addition of Missing Roads"
   ]
  },
  {
   "cell_type": "code",
   "execution_count": 6,
   "metadata": {},
   "outputs": [],
   "source": [
    "missed_edges = []\n",
    "\n",
    "st_node = 102515\n",
    "end_node = 111784\n",
    "st_point = Point(G_salty_time.nodes()[st_node]['x'],G_salty_time.nodes()[st_node]['y'])\n",
    "end_point = Point(G_salty_time.nodes()[end_node]['x'],G_salty_time.nodes()[end_node]['y'])\n",
    "lin = LineString([st_point,end_point])\n",
    "real_length = 115\n",
    "\n",
    "data = {'Wkt':lin,\n",
    "       'id':max(nx.get_edge_attributes(G_salty_time,'id').values())+1,\n",
    "       'infra_type':'service',\n",
    "       'country':'YEM',\n",
    "       'key':'manual_edge_1',\n",
    "       'length':real_length, \n",
    "       'Type':'manual_edge',\n",
    "       'time':float((real_length / 15)),\n",
    "       'mode':'drive'}\n",
    "missed_edges.append((st_node, end_node, data))\n",
    "missed_edges.append((end_node, st_node, data))\n",
    "\n",
    "G_salty_time.add_edges_from(missed_edges)\n",
    "\n",
    "G_salty = nx.convert_node_labels_to_integers(G_salty)\n",
    "\n",
    "gn.save(G_salty_time, 'G_salty_time', wpath)"
   ]
  },
  {
   "cell_type": "markdown",
   "metadata": {},
   "source": [
    "### Snap Destination Files to Network"
   ]
  },
  {
   "cell_type": "code",
   "execution_count": 7,
   "metadata": {},
   "outputs": [
    {
     "name": "stderr",
     "output_type": "stream",
     "text": [
      "C:\\Users\\charl\\Documents\\GitHub\\GOST_PublicGoods\\GOSTNets\\GOSTNets\\GOSTnet.py:1599: FutureWarning: Method .as_matrix will be removed in a future version. Use .values instead.\n",
      "  G_tree = spatial.KDTree(node_gdf[['x','y']].as_matrix())\n",
      "C:\\Users\\charl\\Documents\\GitHub\\GOST_PublicGoods\\GOSTNets\\GOSTNets\\GOSTnet.py:1601: FutureWarning: Method .as_matrix will be removed in a future version. Use .values instead.\n",
      "  distances, indices = G_tree.query(in_df[['x','y']].as_matrix())\n"
     ]
    },
    {
     "name": "stdout",
     "output_type": "stream",
     "text": [
      "time elapsed: 9 seconds\n",
      "time elapsed: 10 seconds\n",
      "time elapsed: 10 seconds\n",
      "time elapsed: 37 seconds\n"
     ]
    }
   ],
   "source": [
    "dfiles = ['YEHNP hospitals.csv',\n",
    "          'YEHNP PHCs_unicef.csv',\n",
    "          'HeRAMs_2016v2018_damages and functionality_cleaned.csv',\n",
    "          'all facilities_herams.csv']\n",
    "wpath = dpath\n",
    "\n",
    "for dfile in dfiles:\n",
    "    # Read in\n",
    "    dest_df = pd.read_csv(os.path.join(os.path.join(dpath, dfile)), encoding = \"ISO-8859-1\")\n",
    "    \n",
    "    # Ensure coordinates are floats\n",
    "    dest_df.Longitude = dest_df.Longitude.astype(float)\n",
    "    dest_df.Latitude = dest_df.Latitude.astype(float)\n",
    "    \n",
    "    # Drop entries with no coordinates    \n",
    "    dest_df2 = dest_df.copy()\n",
    "    dest_df2 = dest_df2.loc[(dest_df2.Longitude != 0)]\n",
    "    dest_df2 = dest_df2.loc[(dest_df2.Longitude != None)]\n",
    "    dest_df = dest_df2\n",
    "    \n",
    "    # Generate Geometries\n",
    "    dest_df['geometry'] = list(zip(dest_df.Longitude, dest_df.Latitude))\n",
    "    dest_df['geometry'] = dest_df['geometry'].apply(Point)\n",
    "    dest_df = gpd.GeoDataFrame(dest_df, geometry = 'geometry', crs = {'init':'espg:4326'})\n",
    "    \n",
    "    # Perform snap\n",
    "    time.ctime()\n",
    "    start = time.time()\n",
    "    df = gn.pandana_snap(G_salty_time, dest_df, 'epsg:4326','epsg:32638', add_dist_to_node_col = True)\n",
    "    \n",
    "    # Save to file\n",
    "    df.to_csv(os.path.join(wpath, dfile.replace('.csv', '_snapped.csv')))\n",
    "\n",
    "    print('time elapsed: %d seconds' % (time.time() - start))"
   ]
  },
  {
   "cell_type": "markdown",
   "metadata": {},
   "source": [
    "### Snap Origin Points to Networks"
   ]
  },
  {
   "cell_type": "code",
   "execution_count": 8,
   "metadata": {
    "scrolled": false
   },
   "outputs": [
    {
     "name": "stdout",
     "output_type": "stream",
     "text": [
      "Beginning snap\n",
      "Time elapsed: 195 seconds\n"
     ]
    }
   ],
   "source": [
    "ofile = r'origins_1km.csv'\n",
    "ofiles = [ofile]\n",
    "wpath = opath \n",
    "\n",
    "for ofile in ofiles:\n",
    "    \n",
    "    # Read in\n",
    "    dest_df = pd.read_csv(os.path.join(os.path.join(opath, ofile)), encoding = \"ISO-8859-1\")\n",
    "    dest_df['geometry'] = dest_df['geometry'].apply(loads)\n",
    "    dest_df = gpd.GeoDataFrame(dest_df, geometry = 'geometry', crs = {'init':'espg:4326'})\n",
    "    \n",
    "    # Perform snap\n",
    "    print('Beginning snap')\n",
    "    \n",
    "    time.ctime()\n",
    "    start = time.time()\n",
    "    df = gn.pandana_snap(G_salty_time, dest_df, 'epsg:4326','epsg:32638', add_dist_to_node_col = True)\n",
    "    \n",
    "    # Save to file\n",
    "    df.to_csv(os.path.join(wpath, ofile.replace('.csv', '_snapped.csv')))\n",
    "    compath = r'C:\\Users\\charl\\Documents\\GOST\\Yemen\\graphtool'\n",
    "    df.to_csv(os.path.join(compath, ofile.replace('.csv', '_snapped.csv')))\n",
    "\n",
    "    print('Time elapsed: %d seconds' % (time.time() - start))"
   ]
  },
  {
   "cell_type": "code",
   "execution_count": null,
   "metadata": {},
   "outputs": [],
   "source": []
  },
  {
   "cell_type": "code",
   "execution_count": null,
   "metadata": {},
   "outputs": [],
   "source": []
  },
  {
   "cell_type": "code",
   "execution_count": null,
   "metadata": {
    "scrolled": true
   },
   "outputs": [],
   "source": []
  },
  {
   "cell_type": "code",
   "execution_count": null,
   "metadata": {},
   "outputs": [],
   "source": []
  },
  {
   "cell_type": "code",
   "execution_count": null,
   "metadata": {},
   "outputs": [],
   "source": []
  },
  {
   "cell_type": "code",
   "execution_count": null,
   "metadata": {},
   "outputs": [],
   "source": []
  },
  {
   "cell_type": "code",
   "execution_count": null,
   "metadata": {},
   "outputs": [],
   "source": []
  },
  {
   "cell_type": "code",
   "execution_count": null,
   "metadata": {},
   "outputs": [],
   "source": []
  },
  {
   "cell_type": "code",
   "execution_count": null,
   "metadata": {},
   "outputs": [],
   "source": []
  },
  {
   "cell_type": "code",
   "execution_count": null,
   "metadata": {},
   "outputs": [],
   "source": []
  },
  {
   "cell_type": "code",
   "execution_count": null,
   "metadata": {},
   "outputs": [],
   "source": []
  },
  {
   "cell_type": "code",
   "execution_count": null,
   "metadata": {},
   "outputs": [],
   "source": []
  }
 ],
 "metadata": {
  "kernelspec": {
   "display_name": "Python (Cfox2)",
   "language": "python",
   "name": "cfox2"
  },
  "language_info": {
   "codemirror_mode": {
    "name": "ipython",
    "version": 3
   },
   "file_extension": ".py",
   "mimetype": "text/x-python",
   "name": "python",
   "nbconvert_exporter": "python",
   "pygments_lexer": "ipython3",
   "version": "3.6.8"
  }
 },
 "nbformat": 4,
 "nbformat_minor": 2
}
