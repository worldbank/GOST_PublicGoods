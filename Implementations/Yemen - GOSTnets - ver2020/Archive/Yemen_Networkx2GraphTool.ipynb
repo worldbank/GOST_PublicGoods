{
 "cells": [
  {
   "cell_type": "code",
   "execution_count": 1,
   "metadata": {},
   "outputs": [],
   "source": [
    "import networkx as nx\n",
    "import pandas as pd\n",
    "import os, sys\n",
    "import graph_tool as gt\n",
    "from graph_tool.topology import *\n",
    "import time\n",
    "import numpy as np"
   ]
  },
  {
   "cell_type": "code",
   "execution_count": 2,
   "metadata": {},
   "outputs": [
    {
     "data": {
      "text/plain": [
       "276141"
      ]
     },
     "execution_count": 2,
     "metadata": {},
     "output_type": "execute_result"
    }
   ],
   "source": [
    "pth = r'/home/user/home'\n",
    "sys.path.append(pth)\n",
    "import GOSTnets_utils as gn_utils\n",
    "G = nx.read_gpickle(os.path.join(pth, 'G_salty_time.pickle'))\n",
    "G.number_of_edges()"
   ]
  },
  {
   "cell_type": "code",
   "execution_count": 3,
   "metadata": {},
   "outputs": [],
   "source": [
    "G_gt = gn_utils.nx2gt(G)"
   ]
  },
  {
   "cell_type": "code",
   "execution_count": 4,
   "metadata": {},
   "outputs": [
    {
     "data": {
      "text/plain": [
       "<PropertyMap object with key type 'Edge' and value type 'double', for Graph 0x7f8914952da0, at 0x7f890f19e390>"
      ]
     },
     "execution_count": 4,
     "metadata": {},
     "output_type": "execute_result"
    }
   ],
   "source": [
    "G_gt.edge_properties.time"
   ]
  },
  {
   "cell_type": "code",
   "execution_count": 5,
   "metadata": {},
   "outputs": [],
   "source": [
    "def calculate_OD(G, origins, destinations, fail_value):\n",
    "\n",
    "    OD = np.zeros((len(origins), len(destinations)))\n",
    "    i,j = 0,1\n",
    "    for o in range(0, len(origins)):\n",
    "        origin = origins[o]\n",
    "\n",
    "        for d in range(0, len(destinations)):\n",
    "            destination = destinations[d]\n",
    "\n",
    "            try:\n",
    "                shortest_time = shortest_distance(G_gt, source=origin, target=destination, weights=G_gt.edge_properties.time)\n",
    "                OD[o][d] = shortest_time\n",
    "            except:\n",
    "                OD[o][d] = fail_value\n",
    "            \n",
    "            if (i+1) % ((int(len(origins)*len(destinations))) / 10) == 0 and i != 0:\n",
    "                print('%d trips done (% percent )' % ((i+1), j))\n",
    "                j+=1\n",
    "            i+=1\n",
    "            \n",
    "    return OD"
   ]
  },
  {
   "cell_type": "code",
   "execution_count": null,
   "metadata": {},
   "outputs": [
    {
     "name": "stderr",
     "output_type": "stream",
     "text": [
      "/usr/lib/python3.6/site-packages/IPython/core/interactiveshell.py:2785: DtypeWarning: Columns (8) have mixed types. Specify dtype option on import or set low_memory=False.\n",
      "  interactivity=interactivity, compiler=compiler, result=result)\n"
     ]
    }
   ],
   "source": [
    "origins_df = pd.read_csv(os.path.join(pth, r'origins_1km_snapped.csv'))\n",
    "\n",
    "origins = list(set(list(origins_df.Nearest_node_ID)))\n",
    "\n",
    "destinations_df = pd.read_csv(os.path.join(pth, r'all facilities_herams_snapped.csv'))\n",
    "\n",
    "destinations = list(set(list(destinations_df.Nearest_node_ID)))\n",
    "\n",
    "destinations = destinations[:1]"
   ]
  },
  {
   "cell_type": "code",
   "execution_count": null,
   "metadata": {},
   "outputs": [
    {
     "name": "stdout",
     "output_type": "stream",
     "text": [
      "Commencing Graph_tool test\n",
      "\n"
     ]
    }
   ],
   "source": [
    "## TTs from Graph_tool\n",
    "\n",
    "print('Commencing Graph_tool test\\n')\n",
    "start = time.time()\n",
    "\n",
    "TT_matrix = calculate_OD(G_gt, origins, destinations, None)\n",
    "\n",
    "end = time.time()\n",
    "gt_time = (end - start)\n",
    "print('\\nGraphTool calculations: time elapsed: %f seconds' % gt_time)"
   ]
  },
  {
   "cell_type": "code",
   "execution_count": null,
   "metadata": {},
   "outputs": [],
   "source": []
  },
  {
   "cell_type": "code",
   "execution_count": null,
   "metadata": {},
   "outputs": [],
   "source": []
  },
  {
   "cell_type": "code",
   "execution_count": null,
   "metadata": {},
   "outputs": [],
   "source": []
  },
  {
   "cell_type": "code",
   "execution_count": null,
   "metadata": {},
   "outputs": [],
   "source": []
  },
  {
   "cell_type": "code",
   "execution_count": null,
   "metadata": {},
   "outputs": [],
   "source": []
  }
 ],
 "metadata": {
  "kernelspec": {
   "display_name": "Python 3",
   "language": "python",
   "name": "python3"
  },
  "language_info": {
   "codemirror_mode": {
    "name": "ipython",
    "version": 3
   },
   "file_extension": ".py",
   "mimetype": "text/x-python",
   "name": "python",
   "nbconvert_exporter": "python",
   "pygments_lexer": "ipython3",
   "version": "3.6.5"
  }
 },
 "nbformat": 4,
 "nbformat_minor": 2
}
