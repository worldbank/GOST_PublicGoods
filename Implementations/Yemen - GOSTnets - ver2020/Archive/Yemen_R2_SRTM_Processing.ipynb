{
 "cells": [
  {
   "cell_type": "code",
   "execution_count": 60,
   "metadata": {},
   "outputs": [],
   "source": [
    "# Get some libs in your life\n",
    "import sys, os, time\n",
    "import geopandas as gpd\n",
    "import pandas as pd\n",
    "import rasterio as rt\n",
    "import numpy as np\n",
    "from affine import Affine\n",
    "from shapely.geometry import Point, LineString\n",
    "from functools import partial\n",
    "import pyproj\n",
    "from shapely.ops import transform\n",
    "from shapely.geometry import box\n",
    "from shapely.wkt import loads\n",
    "from rasterio import features\n",
    "import networkx as nx"
   ]
  },
  {
   "cell_type": "code",
   "execution_count": 2,
   "metadata": {},
   "outputs": [],
   "source": [
    "# set path to the DEM model\n",
    "pth = r'C:\\Users\\charl\\Documents\\GOST\\Yemen\\SRTM\\clipped'\n",
    "f = r'clipped_e20N40.tif'\n",
    "\n",
    "# import DEM model using rasterio\n",
    "DEM_obj = rt.open(os.path.join(pth, f))\n",
    "\n",
    "# set arr as the array of raster vals\n",
    "arr = DEM_obj.read()\n",
    "arr = arr[0]"
   ]
  },
  {
   "cell_type": "markdown",
   "metadata": {},
   "source": [
    "### Import Population raster as base, sample the DEM"
   ]
  },
  {
   "cell_type": "code",
   "execution_count": 10,
   "metadata": {},
   "outputs": [],
   "source": [
    "bpth = r'C:\\Users\\charl\\Documents\\GOST\\Yemen\\graphtool'\n",
    "f = r'origins_1km_snapped.csv'\n",
    "df = pd.read_csv(os.path.join(bpth, f))"
   ]
  },
  {
   "cell_type": "code",
   "execution_count": 15,
   "metadata": {},
   "outputs": [],
   "source": [
    "list_of_nodes = {}\n",
    "for index, data in df.iterrows():\n",
    "    list_of_nodes.update({index:(data['Longitude'], data['Latitude'])})\n",
    "\n",
    "dataset = DEM_obj\n",
    "\n",
    "# create list of values, throw out nodes that don't intersect the bounds of the raster\n",
    "b = dataset.bounds\n",
    "datasetBoundary = box(b[0], b[1], b[2], b[3])\n",
    "selKeys = []\n",
    "selPts = []\n",
    "for key, pt in list_of_nodes.items():\n",
    "    if Point(pt[0], pt[1]).intersects(datasetBoundary):\n",
    "        selPts.append(pt)\n",
    "        selKeys.append(key)\n",
    "raster_values = list(dataset.sample(selPts))\n",
    "raster_values = [x[0] for x in raster_values]\n",
    "\n",
    "# generate new dictionary of {node ID: raster values}\n",
    "ref = dict(zip(selKeys, raster_values))"
   ]
  },
  {
   "cell_type": "code",
   "execution_count": 30,
   "metadata": {},
   "outputs": [],
   "source": [
    "DEM_VALS = pd.DataFrame({'DEM_Value':list(ref.values())}, index = ref.keys())\n",
    "df['DEM_Value'] = DEM_VALS.DEM_Value\n",
    "df.loc[df.DEM_Value < 0, 'DEM_Value'] = 0\n",
    "df = gpd.GeoDataFrame(df, geometry = df['geometry'].apply(loads), crs = {'init':'epsg:4326'})"
   ]
  },
  {
   "cell_type": "markdown",
   "metadata": {},
   "source": [
    "### Burn these DEM values back to the original Population raster on another band"
   ]
  },
  {
   "cell_type": "code",
   "execution_count": 53,
   "metadata": {},
   "outputs": [],
   "source": [
    "rst_fn = os.path.join(bpth,'pop18_resampled.tif')\n",
    "out_fn = os.path.join(bpth,'pop18_resampled_DEM.tif')\n",
    "\n",
    "# Update metadata\n",
    "rst = rt.open(rst_fn, 'r')\n",
    "meta = rst.meta.copy()\n",
    "D_type = rt.float64\n",
    "meta.update(compress='lzw', dtype = D_type, count = 2)\n",
    "\n",
    "with rt.open(out_fn, 'w', **meta) as out:\n",
    "    with rt.open(rst_fn, 'r') as pop:\n",
    "        \n",
    "        # this is where we create a generator of geom, value pairs to use in rasterizing\n",
    "        shapes = ((geom,value) for geom, value in zip(df.geometry, df.DEM_Value))\n",
    "\n",
    "        population = pop.read(1).astype(D_type)\n",
    "        cpy = population.copy()\n",
    "\n",
    "        DEM_VALS = features.rasterize(shapes=shapes, fill=0, out=cpy, transform=out.transform)\n",
    "\n",
    "        out.write_band(1, population)\n",
    "        out.write_band(2, DEM_VALS)"
   ]
  },
  {
   "cell_type": "markdown",
   "metadata": {},
   "source": [
    "### Take new Pop / Dem hybrid, make walking graph out of it"
   ]
  },
  {
   "cell_type": "code",
   "execution_count": 57,
   "metadata": {},
   "outputs": [],
   "source": [
    "pth = bpth\n",
    "f = r'pop18_resampled_DEM.tif'\n",
    "\n",
    "# import DEM model using rasterio\n",
    "DEM_obj = rt.open(os.path.join(pth, f))\n",
    "\n",
    "# set arr as the array of raster vals\n",
    "arr = DEM_obj.read()\n",
    "arr = arr[1]"
   ]
  },
  {
   "cell_type": "code",
   "execution_count": 58,
   "metadata": {},
   "outputs": [],
   "source": [
    "# Tobler's hiking function: https://en.wikipedia.org/wiki/Tobler%27s_hiking_function\n",
    "def speed(incline_ratio, max_speed):\n",
    "    walkspeed = max_speed * np.exp(-3.5 * abs(incline_ratio + 0.05)) \n",
    "    return walkspeed"
   ]
  },
  {
   "cell_type": "code",
   "execution_count": 61,
   "metadata": {},
   "outputs": [
    {
     "name": "stdout",
     "output_type": "stream",
     "text": [
      "Finished. New graph has 549095 nodes and 4378588 edges\n"
     ]
    }
   ],
   "source": [
    "# write function to get geometry of centroid of raster cell from array position using Affine transformation\n",
    "T0 = DEM_obj.transform\n",
    "T1 = T0 * Affine.translation(0.5, 0.5)\n",
    "rc2xy = lambda r, c: (c, r) * T1\n",
    "\n",
    "# Set projections\n",
    "source = 'epsg:4326'\n",
    "target = 'epsg:32638'\n",
    "\n",
    "# set function for reprojecting geometry from source to target\n",
    "project_WGS_UTM = partial(\n",
    "            pyproj.transform,\n",
    "            pyproj.Proj(init=source),\n",
    "            pyproj.Proj(init=target))\n",
    "\n",
    "# Set walking speed calculation parameters\n",
    "max_walkspeed = 5\n",
    "max_ratio = 1.3\n",
    "\n",
    "# open some blank variables\n",
    "node_list,edge_list = [],[]\n",
    "edge_counter = 0\n",
    "\n",
    "# Iterate through raster array, generate Graph. For every raster cell (bar the outer edges):\n",
    "for x in range(1, (arr.shape[0] - 1)):\n",
    "    for y in range(1, (arr.shape[1] - 1)):\n",
    "        \n",
    "        # current elev\n",
    "        val = arr[x][y]\n",
    "        \n",
    "        if val != DEM_obj.nodata:\n",
    "            \n",
    "            # node ID ('u') is the position in the array\n",
    "            u = (x, y)\n",
    "            \n",
    "            # get the geometry of that centroid\n",
    "            point_geom = Point(rc2xy(x,y))\n",
    "            \n",
    "            # fill in the data dictionary for the new node\n",
    "            data = {'Elevation': val,\n",
    "                   'geometry':point_geom,\n",
    "                    'x':point_geom.x,\n",
    "                    'y':point_geom.y}\n",
    "            \n",
    "            # add completed node tuple (u, data) to the node list\n",
    "            node_list.append((u, data))\n",
    "            \n",
    "            # define a range of adjustments - to reach the 8 cells adjacent to the current cell\n",
    "            for x_adj in [-1,0,1]:\n",
    "                for y_adj in [-1,0,1]:\n",
    "                    \n",
    "                    # ignore the 0,0 adjustment combo - that's current cell!\n",
    "                    if x_adj == 0  and y_adj == 0:\n",
    "                        pass\n",
    "                    \n",
    "                    # define an offset x and y\n",
    "                    else:\n",
    "                        xD = (x+x_adj)\n",
    "                        yD = (y+y_adj)\n",
    "                        \n",
    "                        # label of new destination node - v - is the adjusted cell position. \n",
    "                        # you can only get away with this whilst u = (x,y). \n",
    "                        v = (xD,yD)\n",
    "                        \n",
    "                        # elevation of target cell is just the array value at that address\n",
    "                        valD = arr[xD][yD]\n",
    "                        \n",
    "                        # as long as that's not garbage...\n",
    "                        if valD != DEM_obj.nodata:\n",
    "                            \n",
    "                            # geometry of this edge (only needed for visualizing...) is a line between the two\n",
    "                            # cell centroids. Use our rc2xy function to pick up both points, make a line between them\n",
    "                            geometry = LineString([Point(rc2xy(x,y)),Point(rc2xy(x+x_adj,y+y_adj))])\n",
    "                            \n",
    "                            # reproj this geometry to find the distance in meters between them\n",
    "                            projected_geometry = transform(project_WGS_UTM, geometry)\n",
    "                            distance_metres = projected_geometry.length\n",
    "                            \n",
    "                            # calculate the elevation delta                            \n",
    "                            delta_elevation = (valD - val)\n",
    "                            \n",
    "                            # calculate vertical delta / horizontal delta\n",
    "                            incline_ratio = delta_elevation / distance_metres \n",
    "                            \n",
    "                            # Use Tobler's walking speed function, within a range of inclines\n",
    "                            if -max_ratio < incline_ratio < max_ratio:\n",
    "                                speed_kmph = speed(incline_ratio = incline_ratio, max_speed = max_walkspeed)\n",
    "                            \n",
    "                            # if too steep for Tobler, set a seriously slow traverse speed\n",
    "                            else:\n",
    "                                speed_kmph = 0.02\n",
    "                            \n",
    "                            # assemble new edge dictionary\n",
    "                            data = {'walkspeed_kmph':speed_kmph,\n",
    "                                   'geometry':geometry,\n",
    "                                   'length': distance_metres,\n",
    "                                   'traverse_time': ((distance_metres / 1000) / speed_kmph),\n",
    "                                   'ID':edge_counter}\n",
    "                            \n",
    "                            # add to edge list\n",
    "                            edge_list.append((u, v, data))\n",
    "                            \n",
    "                            # iterate up the edge ID for each new edge generated\n",
    "                            edge_counter+=1\n",
    "\n",
    "# gimme a blank graph, add nodes, add edges. \n",
    "G = nx.MultiDiGraph()\n",
    "G.add_nodes_from(node_list)\n",
    "G.add_edges_from(edge_list)\n",
    "\n",
    "print('Finished. New graph has %s nodes and %s edges' % (G.number_of_nodes(), G.number_of_edges()))"
   ]
  },
  {
   "cell_type": "code",
   "execution_count": 62,
   "metadata": {},
   "outputs": [
    {
     "name": "stdout",
     "output_type": "stream",
     "text": [
      "peartree version: 0.6.0 \n",
      "networkx version: 2.2 \n",
      "matplotlib version: 2.2.2 \n",
      "osmnx version: 0.8.2 \n"
     ]
    }
   ],
   "source": [
    "# save the graph down for use later\n",
    "sys.path.append(r'C:\\Users\\charl\\Documents\\GitHub\\GOST_PublicGoods\\GOSTNets\\GOSTNets')\n",
    "import GOSTnet as gn\n",
    "gn.save(G, 'trial', r'C:\\Users\\charl\\Documents\\GOST\\Yemen\\walk_graph')"
   ]
  },
  {
   "cell_type": "markdown",
   "metadata": {},
   "source": [
    "### Testing the walkgraph"
   ]
  },
  {
   "cell_type": "code",
   "execution_count": 165,
   "metadata": {},
   "outputs": [
    {
     "name": "stdout",
     "output_type": "stream",
     "text": [
      "((0, 1219), {})\n",
      "((0, 1220), {})\n",
      "((0, 1221), {})\n",
      "((414, 0), {})\n",
      "((774, 1525), {})\n",
      "((826, 1376), {})\n",
      "((826, 1377), {})\n"
     ]
    }
   ],
   "source": [
    "# test the graph. Make a shapefile with a couple of points, calc the travel time + shortest paths between them\n",
    "test_shp = gpd.read_file(os.path.join(r'C:\\Users\\charl\\Documents\\GOST\\Yemen\\SRTM','test.shp'))\n",
    "\n",
    "# snap our test shapefile to our new graph\n",
    "snapped_test = gn.pandana_snap(G, test_shp)\n",
    "\n",
    "# define a single nodes as origin, destinations\n",
    "origin = snapped_test.NN.iloc[1]\n",
    "destination = snapped_test.NN.iloc[4]\n",
    "\n",
    "# do some shortest path stuff\n",
    "t_path = nx.shortest_path(G, origin, destination, weight = 'traverse_time')\n",
    "t_time = nx.shortest_path_length(G, origin, destination, weight = 'traverse_time')\n",
    "\n",
    "# now, go back through the graph, find the edges that are in the t_path list of shortest edges. \n",
    "IDs = []\n",
    "for u, v, data in G.edges(data = True):\n",
    "    if u in t_path:\n",
    "        if v in t_path:\n",
    "            IDs.append(data['ID'])\n",
    "\n",
    "# save that down as a .csv you can visualize. \n",
    "edge_gdf = gn.edge_gdf_from_graph(G)\n",
    "edge_gdf_slice = edge_gdf.loc[edge_gdf.ID.isin(IDs)]\n",
    "edge_gdf_slice.to_csv(os.path.join(r'C:\\Users\\charl\\Documents\\GOST\\Yemen\\SRTM','test_path.csv'))"
   ]
  },
  {
   "cell_type": "code",
   "execution_count": null,
   "metadata": {},
   "outputs": [],
   "source": []
  },
  {
   "cell_type": "code",
   "execution_count": null,
   "metadata": {},
   "outputs": [],
   "source": []
  },
  {
   "cell_type": "code",
   "execution_count": null,
   "metadata": {},
   "outputs": [],
   "source": []
  },
  {
   "cell_type": "code",
   "execution_count": null,
   "metadata": {},
   "outputs": [],
   "source": []
  }
 ],
 "metadata": {
  "kernelspec": {
   "display_name": "Python (Cfox2)",
   "language": "python",
   "name": "cfox2"
  },
  "language_info": {
   "codemirror_mode": {
    "name": "ipython",
    "version": 3
   },
   "file_extension": ".py",
   "mimetype": "text/x-python",
   "name": "python",
   "nbconvert_exporter": "python",
   "pygments_lexer": "ipython3",
   "version": "3.6.6"
  }
 },
 "nbformat": 4,
 "nbformat_minor": 2
}
