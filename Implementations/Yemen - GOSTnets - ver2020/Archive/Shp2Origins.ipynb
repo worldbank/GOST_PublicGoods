{
 "cells": [
  {
   "cell_type": "code",
   "execution_count": 1,
   "metadata": {},
   "outputs": [],
   "source": [
    "import geopandas as gpd\n",
    "import pandas as pd\n",
    "import os, sys, time\n",
    "from shapely.ops import unary_union"
   ]
  },
  {
   "cell_type": "code",
   "execution_count": 2,
   "metadata": {},
   "outputs": [],
   "source": [
    "bpath = r'C:\\Users\\charl\\Documents\\GOST\\Yemen'\n",
    "util = os.path.join(bpath, 'util_files')"
   ]
  },
  {
   "cell_type": "code",
   "execution_count": 3,
   "metadata": {},
   "outputs": [],
   "source": [
    "bound = gpd.read_file(os.path.join(util, 'Yemen_bound.shp'))\n",
    "points = gpd.read_file(os.path.join(util, 'resampled_yemen_points.shp'))\n",
    "bound = bound.to_crs(points.crs)\n",
    "bound_poly = bound.geometry.loc[0]"
   ]
  },
  {
   "cell_type": "code",
   "execution_count": 4,
   "metadata": {},
   "outputs": [],
   "source": [
    "points['in'] = points.apply(lambda x: bound_poly.contains(x.geometry), axis = 1)"
   ]
  },
  {
   "cell_type": "code",
   "execution_count": 5,
   "metadata": {},
   "outputs": [
    {
     "data": {
      "text/plain": [
       "True     550177\n",
       "False      2818\n",
       "Name: in, dtype: int64"
      ]
     },
     "execution_count": 5,
     "metadata": {},
     "output_type": "execute_result"
    }
   ],
   "source": [
    "points['in'].value_counts()"
   ]
  },
  {
   "cell_type": "code",
   "execution_count": 6,
   "metadata": {},
   "outputs": [],
   "source": [
    "points2 = points.copy()\n",
    "points2 = points2.loc[points2['in'] == True]\n",
    "points2['dummy'] = 1\n",
    "points2 = points2.rename(columns = {'VALUE':'pop','in':'FID'})\n",
    "points2['FID'] = points2.index\n",
    "points2['Longitude'] = points2['geometry'].apply(lambda x: x.x)\n",
    "points2['Latitude'] = points2['geometry'].apply(lambda x: x.y)"
   ]
  },
  {
   "cell_type": "code",
   "execution_count": 7,
   "metadata": {},
   "outputs": [],
   "source": [
    "points2.to_csv(os.path.join(bpath, 'origins','origins_1km.csv'))"
   ]
  },
  {
   "cell_type": "code",
   "execution_count": null,
   "metadata": {},
   "outputs": [],
   "source": []
  },
  {
   "cell_type": "code",
   "execution_count": null,
   "metadata": {},
   "outputs": [],
   "source": []
  },
  {
   "cell_type": "code",
   "execution_count": null,
   "metadata": {},
   "outputs": [],
   "source": []
  },
  {
   "cell_type": "code",
   "execution_count": null,
   "metadata": {},
   "outputs": [],
   "source": []
  },
  {
   "cell_type": "code",
   "execution_count": null,
   "metadata": {},
   "outputs": [],
   "source": []
  }
 ],
 "metadata": {
  "kernelspec": {
   "display_name": "Python (Cfox2)",
   "language": "python",
   "name": "cfox2"
  },
  "language_info": {
   "codemirror_mode": {
    "name": "ipython",
    "version": 3
   },
   "file_extension": ".py",
   "mimetype": "text/x-python",
   "name": "python",
   "nbconvert_exporter": "python",
   "pygments_lexer": "ipython3",
   "version": "3.6.6"
  }
 },
 "nbformat": 4,
 "nbformat_minor": 2
}
