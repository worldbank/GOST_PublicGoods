{
 "cells": [
  {
   "cell_type": "code",
   "execution_count": 3,
   "metadata": {},
   "outputs": [
    {
     "name": "stdout",
     "output_type": "stream",
     "text": [
      "peartree version: 0.6.0 \n",
      "networkx version: 2.2 \n",
      "matplotlib version: 2.2.2 \n",
      "osmnx version: 0.8.2 \n",
      "peartree version: 0.6.0 \n",
      "networkx version: 2.2 \n",
      "matplotlib version: 2.2.2 \n",
      "osmnx version: 0.8.2 \n"
     ]
    }
   ],
   "source": [
    "import pandas as pd\n",
    "import os, sys\n",
    "sys.path.append(r'C:\\Users\\charl\\Documents\\GitHub\\GOST_PublicGoods\\GOSTNets\\GOSTNets')\n",
    "sys.path.append(r'C:\\Users\\charl\\Documents\\GitHub\\GOST')\n",
    "import GOSTnet as gn\n",
    "import importlib\n",
    "importlib.reload(gn)\n",
    "import geopandas as gpd\n",
    "import rasterio\n",
    "from rasterio import features\n",
    "from shapely.wkt import loads\n",
    "import numpy as np"
   ]
  },
  {
   "cell_type": "code",
   "execution_count": 4,
   "metadata": {},
   "outputs": [],
   "source": [
    "basepth = r'C:\\Users\\charl\\Documents\\GOST\\Yemen'\n",
    "pth = r'C:\\Users\\charl\\Documents\\GOST\\Yemen\\graphtool'\n",
    "net_pth = r'C:\\Users\\charl\\Documents\\GOST\\Yemen\\YEM'\n",
    "pckle = r'G_salty_time.pickle'\n",
    "walk_speed = 4 \n",
    "WGS = {'init':'epsg:4326'}\n",
    "measure_crs = {'init':'epsg:32638'}"
   ]
  },
  {
   "cell_type": "markdown",
   "metadata": {},
   "source": [
    "### Generate subset"
   ]
  },
  {
   "cell_type": "code",
   "execution_count": 140,
   "metadata": {},
   "outputs": [
    {
     "name": "stdout",
     "output_type": "stream",
     "text": [
      "Index(['Unnamed: 0', 'Latitude', 'Longitude', 'Year', 'FacilityID',\n",
      "       'Governorate', 'District', 'Facility Type', 'Functioning 2016',\n",
      "       'Damaged 2016', 'Name of Health Facility', 'Name of Governor ate',\n",
      "       'Name of District', 'Facility Type2', 'Damaged2018',\n",
      "       'Functionality2018', 'Accessibility to HF', 'geometry', 'NN',\n",
      "       'NN_dist'],\n",
      "      dtype='object')\n",
      "4028\n"
     ]
    }
   ],
   "source": [
    "subset = r'HeRAMS PHCs 2016'\n",
    "acceptable_df = pd.read_csv(os.path.join(pth, 'HeRAMs_2016v2018_damages and functionality_cleaned_snapped.csv'))\n",
    "print(acceptable_df.columns)\n",
    "hosp_types = ['District L Rural\\r Hospital','Governorate/General\\r Hospital','Hospital','1']\n",
    "def hospcheck(x, hosp_types):\n",
    "    if x in hosp_types:\n",
    "        return 'hospital'\n",
    "    else:\n",
    "        return 'PHC'\n",
    "acceptable_df['hosp'] = acceptable_df['Facility Type2'].apply(lambda x: hospcheck(x, hosp_types))\n",
    "acceptable_df = acceptable_df.drop(['Facility Type2','Name of Health Facility'], axis =1)\n",
    "acceptable_df = acceptable_df.loc[acceptable_df['hosp'] == 'PHC']\n",
    "#function_level = ['1','2', 1, 2]\n",
    "#acceptable_df = acceptable_df.loc[acceptable_df['Functioning 2016'].isin(function_level)]\n",
    "#service_level = ['1']\n",
    "#acceptable_df = acceptable_df.loc[acceptable_df['Comprehensive Emergency Obstetric Care (S424)'].isin(service_level)]"
   ]
  },
  {
   "cell_type": "code",
   "execution_count": 141,
   "metadata": {},
   "outputs": [],
   "source": [
    "def dest_check(x):\n",
    "    if x['Functioning 2016'] in function_level and x['Functionality2018'] in function_level:\n",
    "        return 'unchanged'\n",
    "    elif x['Functioning 2016'] in function_level and x['Functionality2018'] not in function_level:\n",
    "        return 'newly_destroyed'\n",
    "    elif x['Functioning 2016'] not in function_level and x['Functionality2018'] in function_level:\n",
    "        return 'rebuilt'\n",
    "    else:\n",
    "        return 'always_destroyed'"
   ]
  },
  {
   "cell_type": "code",
   "execution_count": 142,
   "metadata": {},
   "outputs": [],
   "source": [
    "acceptable_df['stat_change'] = acceptable_df.apply(lambda x: dest_check(x), axis = 1)\n",
    "acceptable_df['stat_change'].value_counts()"
   ]
  },
  {
   "cell_type": "code",
   "execution_count": null,
   "metadata": {},
   "outputs": [],
   "source": []
  },
  {
   "cell_type": "code",
   "execution_count": null,
   "metadata": {},
   "outputs": [],
   "source": []
  },
  {
   "cell_type": "code",
   "execution_count": null,
   "metadata": {},
   "outputs": [],
   "source": []
  },
  {
   "cell_type": "markdown",
   "metadata": {},
   "source": [
    "### Generate Change Raster"
   ]
  },
  {
   "cell_type": "code",
   "execution_count": 5,
   "metadata": {},
   "outputs": [],
   "source": [
    "subset = r'Hospitals_2016v2018_delta'\n",
    "pre_raster = os.path.join(basepth, 'output_layers','HeRAMS Hospitals 2016.tif')\n",
    "post_raster = os.path.join(basepth, 'output_layers','HeRAMS Hospitals.tif')\n",
    "out_fn = os.path.join(basepth,'output_layers','%s.tif' % subset)\n",
    "\n",
    "pre = rasterio.open(pre_raster, 'r')\n",
    "arr_pre = pre.read(2)\n",
    "post = rasterio.open(post_raster, 'r')\n",
    "arr_post = post.read(2)\n",
    "delta = arr_pre - arr_post"
   ]
  },
  {
   "cell_type": "code",
   "execution_count": 6,
   "metadata": {},
   "outputs": [],
   "source": [
    "# Update metadata\n",
    "rst_fn = os.path.join(pth,'pop18_resampled.tif')\n",
    "rst = rasterio.open(rst_fn, 'r')\n",
    "meta = rst.meta.copy()\n",
    "D_type = rasterio.float64\n",
    "meta.update(compress='lzw', dtype = D_type, count = 3)\n",
    "\n",
    "with rasterio.open(out_fn, 'w', **meta) as out:\n",
    "    with rasterio.open(rst_fn, 'r') as pop:\n",
    "        \n",
    "        # this is where we create a generator of geom, value pairs to use in rasterizing\n",
    "        #shapes = ((geom,value) for geom, value in zip(grid.geometry, grid.PLOT_TIME_MINS))\n",
    "\n",
    "        population = pop.read(1).astype(D_type)\n",
    "\n",
    "        out.write_band(1, population)\n",
    "        out.write_band(2, delta)\n",
    "        out.write_band(3, delta * population)"
   ]
  },
  {
   "cell_type": "markdown",
   "metadata": {},
   "source": [
    "### Generate Zonal Stats"
   ]
  },
  {
   "cell_type": "code",
   "execution_count": 25,
   "metadata": {},
   "outputs": [],
   "source": [
    "out_fn = 'C:\\\\Users\\\\charl\\\\Documents\\\\GOST\\\\Yemen\\\\output_layers\\\\HeRAMS Hospitals.tif'"
   ]
  },
  {
   "cell_type": "code",
   "execution_count": 26,
   "metadata": {
    "scrolled": true
   },
   "outputs": [],
   "source": [
    "utils = r'C:\\Users\\charl\\Documents\\GOST\\Yemen\\util_files'\n",
    "\n",
    "yemen_shp_name = os.path.join(utils, r'Yemen_bound.shp')\n",
    "yemen_shp = gpd.read_file(yemen_shp_name)\n",
    "yemen_shp = yemen_shp.to_crs({'init': 'epsg:4326'})\n",
    "\n",
    "district_shp_name = os.path.join(utils, r'Yemen_adm2.shp')\n",
    "district_shp = gpd.read_file(district_shp_name)\n",
    "district_shp = district_shp.to_crs({'init': 'epsg:4326'})\n",
    "\n",
    "inraster = out_fn\n",
    "ras = rasterio.open(inraster, mode = 'r+')\n",
    "tt_matrix = ras.read(2)\n",
    "pop = ras.read(1)\n",
    "\n",
    "resolution = 'district'\n",
    "\n",
    "if resolution == 'national':\n",
    "    target_shp = yemen_shp\n",
    "elif resolution == 'district':\n",
    "    target_shp = district_shp\n",
    "\n",
    "## First, add on the total population of the district to each district shape\n",
    "base_pop = zonalStats(target_shp, \n",
    "                        inraster, \n",
    "                        bandNum = 1,\n",
    "                        reProj = False, \n",
    "                        minVal = 0,\n",
    "                        maxVal = np.inf, \n",
    "                        verbose = True, \n",
    "                        rastType='N')\n",
    "\n",
    "cols = ['total_pop','min','max','mean']\n",
    "\n",
    "temp_df = pd.DataFrame(base_pop, columns = cols)\n",
    "\n",
    "target_shp['total_pop'] = temp_df['total_pop']\n",
    "target_shp['total_pop'].loc[target_shp['total_pop'] == -1] = 0\n",
    "\n",
    "## Now, calculate the population within a range of time thresholds from the destination set\n",
    "for time_thresh in [30,60,120,240]:\n",
    "    \n",
    "    mask_obj = np.ma.masked_where(tt_matrix > (time_thresh), tt_matrix).mask\n",
    "\n",
    "    raw = zonalStats(target_shp, \n",
    "                        inraster, \n",
    "                        bandNum = 1,\n",
    "                        mask_A = mask_obj,\n",
    "                        reProj = False, \n",
    "                        minVal = 0,\n",
    "                        maxVal = np.inf, \n",
    "                        verbose = True, \n",
    "                        rastType='N')\n",
    "\n",
    "    cols = ['pop_%s' % time_thresh,'min','max','mean']\n",
    "\n",
    "    temp_df = pd.DataFrame(raw, columns = cols)\n",
    "\n",
    "    target_shp['pop_%s' % time_thresh] = temp_df['pop_%s' % time_thresh]\n",
    "    target_shp['pop_%s' % time_thresh].loc[target_shp['pop_%s' % time_thresh] == -1] = 0\n",
    "    target_shp['frac_%s' % time_thresh] = (target_shp['pop_%s' % time_thresh]) / (target_shp['total_pop']).fillna(0)\n",
    "    target_shp['frac_%s' % time_thresh].replace([np.inf, -np.inf], 0)\n",
    "    target_shp['frac_%s' % time_thresh] = target_shp['frac_%s' % time_thresh].fillna(0)\n",
    "    \n",
    "# Save to file\n",
    "                  \n",
    "if resolution == 'national':\n",
    "    print(out_fn)\n",
    "    print(target_shp.frac_30.head(1))\n",
    "    print(target_shp.frac_60.head(1))\n",
    "    print(target_shp.frac_120.head(1))\n",
    "    print(target_shp.frac_240.head(1))\n",
    "else:\n",
    "    target_shp['abs_pop_iso'] = target_shp['total_pop'] - target_shp['pop_30']\n",
    "    #target_shp.to_file(os.path.join(basepth, 'output_layers','%s_zonal_%s.shp' % (subset, resolution)), driver = 'ESRI Shapefile')"
   ]
  },
  {
   "cell_type": "code",
   "execution_count": null,
   "metadata": {},
   "outputs": [],
   "source": []
  },
  {
   "cell_type": "markdown",
   "metadata": {},
   "source": [
    "### Stacked Column Chart"
   ]
  },
  {
   "cell_type": "code",
   "execution_count": 28,
   "metadata": {},
   "outputs": [],
   "source": [
    "utils = r'C:\\Users\\charl\\Documents\\GOST\\Yemen\\util_files'\n",
    "\n",
    "district_shp_name = os.path.join(utils, r'Yemen_adm2.shp')\n",
    "district_shp = gpd.read_file(district_shp_name)\n",
    "district_shp = district_shp.to_crs({'init': 'epsg:4326'})\n",
    "\n",
    "time_thresh = 60\n",
    "\n",
    "target_shp = district_shp\n",
    "\n",
    "care_types = {'malnutrition<%s' % time_thresh:'HeRAMS Malnutrition.tif', \n",
    "             'IMCI<%s' % time_thresh:'HeRAMS IMCI.tif',\n",
    "             'Obstetric<%s' % time_thresh:'HeRAMS Obstetric.tif',\n",
    "             'Surgery<%s' % time_thresh:'HeRAMS EmergencySurgery.tif',\n",
    "             'Antenatal<%s' % time_thresh:'HeRAMS antenatal.tif'}\n",
    "\n",
    "popraster = rasterio.open(os.path.join(pth, 'pop18_resampled.tif'),'r')\n",
    "\n",
    "base_pop = zonalStats(target_shp, \n",
    "                        popraster, \n",
    "                        bandNum = 1,\n",
    "                        reProj = False, \n",
    "                        minVal = 0,\n",
    "                        maxVal = np.inf, \n",
    "                        verbose = True, \n",
    "                        rastType='N')\n",
    "\n",
    "cols = ['total_pop','min','max','mean']\n",
    "\n",
    "temp_df = pd.DataFrame(base_pop, columns = cols)\n",
    "\n",
    "target_shp['total_pop'] = temp_df['total_pop']\n",
    "target_shp['total_pop'].loc[target_shp['total_pop'] == -1] = 0\n",
    "\n",
    "for u in care_types:\n",
    "        \n",
    "    ras = rasterio.open(os.path.join(basepth, 'output_layers', care_types[u]), mode = 'r+')\n",
    "    \n",
    "    tt_matrix = ras.read(2)\n",
    "    pop = ras.read(1)\n",
    "\n",
    "    mask_obj = np.ma.masked_where(tt_matrix > (time_thresh), tt_matrix).mask\n",
    "    \n",
    "    ## First, add on the total population of the district to each district shape\n",
    "    raw = zonalStats(target_shp, \n",
    "                        ras, \n",
    "                        bandNum = 1,\n",
    "                        mask_A = mask_obj,\n",
    "                        reProj = False, \n",
    "                        minVal = 0,\n",
    "                        maxVal = np.inf, \n",
    "                        verbose = True, \n",
    "                        rastType='N')\n",
    "\n",
    "    cols = ['total_pop','min','max','mean']\n",
    "\n",
    "    temp_df = pd.DataFrame(raw, columns = cols)\n",
    "\n",
    "    target_shp[u] = temp_df['total_pop']\n",
    "    target_shp[u].loc[target_shp[u] == -1] = 0\n",
    "    target_shp['inv_%s' % u] = target_shp['total_pop'] - target_shp[u]\n",
    "    \n",
    "target_shp['sum>%s' % time_thresh] = (target_shp['inv_malnutrition<%s' % time_thresh] + \n",
    "                                      target_shp['inv_IMCI<%s' % time_thresh] + \n",
    "                                      target_shp['inv_Obstetric<%s' % time_thresh] + \n",
    "                                      target_shp['inv_Surgery<%s' % time_thresh] + \n",
    "                                      target_shp['inv_Antenatal<%s' % time_thresh])\n",
    "\n",
    "target_shp = target_shp.sort_values(by = 'sum>%s' % time_thresh, ascending = False)\n",
    "\n",
    "#target_shp.to_file(os.path.join(basepth, 'output_layers','care_combined_district.shp'), driver = 'ESRI Shapefile')"
   ]
  },
  {
   "cell_type": "code",
   "execution_count": null,
   "metadata": {},
   "outputs": [],
   "source": []
  },
  {
   "cell_type": "code",
   "execution_count": null,
   "metadata": {},
   "outputs": [],
   "source": []
  },
  {
   "cell_type": "code",
   "execution_count": null,
   "metadata": {},
   "outputs": [],
   "source": []
  },
  {
   "cell_type": "code",
   "execution_count": 29,
   "metadata": {},
   "outputs": [],
   "source": [
    "#target_shp = gpd.read_file(os.path.join(basepth, 'output_layers','care_combined_district.shp'))\n",
    "time_thresh = 60\n",
    "\n",
    "df = target_shp[['WB_ADM2_NA',\n",
    "                 'inv_malnutrition<%s' % time_thresh,\n",
    "                 'inv_IMCI<%s'% time_thresh,\n",
    "                 'inv_Obstetric<%s'% time_thresh,\n",
    "                 'inv_Surgery<%s'% time_thresh,\n",
    "                 'inv_Antenatal<%s'% time_thresh,\n",
    "                 'sum>%s' % time_thresh]]\n",
    "\n",
    "df.columns = ['District Name',\n",
    "             'Malnutrition > %s minutes' % time_thresh,\n",
    "             'IMCI > %s minutes' % time_thresh,\n",
    "             'Obstetric > %s minutes' % time_thresh,\n",
    "             'Surgery > %s minutes' % time_thresh,\n",
    "             'Antenatal > %s minutes' % time_thresh,\n",
    "             'sum_no_access']\n",
    "\n",
    "df = df.sort_values(by = 'sum_no_access', ascending = False)\n",
    "\n",
    "df = df[:20]"
   ]
  },
  {
   "cell_type": "code",
   "execution_count": 69,
   "metadata": {},
   "outputs": [
    {
     "data": {
      "text/plain": [
       "['bmh',\n",
       " 'classic',\n",
       " 'dark_background',\n",
       " 'fast',\n",
       " 'fivethirtyeight',\n",
       " 'ggplot',\n",
       " 'grayscale',\n",
       " 'seaborn-bright',\n",
       " 'seaborn-colorblind',\n",
       " 'seaborn-dark-palette',\n",
       " 'seaborn-dark',\n",
       " 'seaborn-darkgrid',\n",
       " 'seaborn-deep',\n",
       " 'seaborn-muted',\n",
       " 'seaborn-notebook',\n",
       " 'seaborn-paper',\n",
       " 'seaborn-pastel',\n",
       " 'seaborn-poster',\n",
       " 'seaborn-talk',\n",
       " 'seaborn-ticks',\n",
       " 'seaborn-white',\n",
       " 'seaborn-whitegrid',\n",
       " 'seaborn',\n",
       " 'Solarize_Light2',\n",
       " 'tableau-colorblind10',\n",
       " '_classic_test']"
      ]
     },
     "execution_count": 69,
     "metadata": {},
     "output_type": "execute_result"
    }
   ],
   "source": [
    "plt.style.available"
   ]
  },
  {
   "cell_type": "code",
   "execution_count": null,
   "metadata": {},
   "outputs": [],
   "source": []
  },
  {
   "cell_type": "code",
   "execution_count": 123,
   "metadata": {
    "scrolled": false
   },
   "outputs": [
    {
     "name": "stdout",
     "output_type": "stream",
     "text": [
      "seaborn-whitegrid\n"
     ]
    },
    {
     "data": {
      "image/png": "[encoded data removed]",
      "text/plain": [
       "<Figure size 1000x600 with 1 Axes>"
      ]
     },
     "metadata": {},
     "output_type": "display_data"
    }
   ],
   "source": [
    "import numpy as np\n",
    "import matplotlib.pyplot as plt\n",
    "import matplotlib as mpl\n",
    "#mpl.rcParams.update(mpl.rcParamsDefault)\n",
    "\n",
    "for i in ['seaborn-whitegrid']:#'tableau-colorblind10\n",
    "    \n",
    "    print(i)\n",
    "    \n",
    "    fig, ax = plt.subplots()\n",
    "    plt.style.use(i)\n",
    "    N = 20\n",
    "\n",
    "    malnutrition = df['Malnutrition > %s minutes' % time_thresh]\n",
    "    IMCI = df['IMCI > %s minutes' % time_thresh]\n",
    "    Obstetric = df['Obstetric > %s minutes' % time_thresh]\n",
    "    Surgery = df['Surgery > %s minutes' % time_thresh]\n",
    "    Antenatal = df['Antenatal > %s minutes' % time_thresh]\n",
    "\n",
    "    ind = np.arange(N)    # the x locations for the groups\n",
    "    width = 0.7     # the width of the bars: can also be len(x) sequence\n",
    "\n",
    "    p1 = plt.bar(ind, malnutrition, width)\n",
    "    p2 = plt.bar(ind, IMCI, width,bottom=malnutrition)\n",
    "    p3 = plt.bar(ind, Obstetric, width,bottom=IMCI+malnutrition)\n",
    "    p4 = plt.bar(ind, Surgery, width, bottom=malnutrition+IMCI+Obstetric)\n",
    "    p5 = plt.bar(ind, Antenatal, width, bottom=Surgery+malnutrition+IMCI+Obstetric)\n",
    "\n",
    "    plt.ylabel('Head Count')\n",
    "    plt.title('Composite Index: Head Count that is more than 1 Hour from Service')\n",
    "    plt.xticks(ind, (df['District Name']), rotation = 90)\n",
    "    plt.yticks()\n",
    "    fig = plt.gcf()\n",
    "    fig.set_size_inches(10, 6)\n",
    "    ax.get_yaxis().get_major_formatter().set_scientific(False)\n",
    "    plt.legend((p1[0], p2[0], p3[0], p4[0], p5[0]), ('Malnutrition', 'IMCI','Obstetric','Surgery','Antenatal'))\n",
    "    plt.tight_layout(pad=1, w_pad=1, h_pad=2.0)\n",
    "    plt.savefig(os.path.join(basepth, 'output_layers','fig1.png'), dpi = 400)\n",
    "    plt.show()"
   ]
  },
  {
   "cell_type": "code",
   "execution_count": null,
   "metadata": {},
   "outputs": [],
   "source": []
  },
  {
   "cell_type": "code",
   "execution_count": null,
   "metadata": {},
   "outputs": [],
   "source": []
  },
  {
   "cell_type": "code",
   "execution_count": null,
   "metadata": {},
   "outputs": [],
   "source": []
  },
  {
   "cell_type": "code",
   "execution_count": null,
   "metadata": {},
   "outputs": [],
   "source": []
  },
  {
   "cell_type": "code",
   "execution_count": null,
   "metadata": {},
   "outputs": [],
   "source": []
  },
  {
   "cell_type": "code",
   "execution_count": null,
   "metadata": {},
   "outputs": [],
   "source": []
  },
  {
   "cell_type": "code",
   "execution_count": null,
   "metadata": {},
   "outputs": [],
   "source": []
  },
  {
   "cell_type": "code",
   "execution_count": null,
   "metadata": {},
   "outputs": [],
   "source": []
  },
  {
   "cell_type": "code",
   "execution_count": null,
   "metadata": {},
   "outputs": [],
   "source": []
  },
  {
   "cell_type": "code",
   "execution_count": null,
   "metadata": {},
   "outputs": [],
   "source": []
  },
  {
   "cell_type": "code",
   "execution_count": null,
   "metadata": {},
   "outputs": [],
   "source": []
  },
  {
   "cell_type": "code",
   "execution_count": null,
   "metadata": {},
   "outputs": [],
   "source": []
  },
  {
   "cell_type": "code",
   "execution_count": null,
   "metadata": {},
   "outputs": [],
   "source": []
  },
  {
   "cell_type": "code",
   "execution_count": null,
   "metadata": {},
   "outputs": [],
   "source": []
  },
  {
   "cell_type": "code",
   "execution_count": null,
   "metadata": {},
   "outputs": [],
   "source": []
  },
  {
   "cell_type": "code",
   "execution_count": null,
   "metadata": {},
   "outputs": [],
   "source": []
  },
  {
   "cell_type": "code",
   "execution_count": null,
   "metadata": {},
   "outputs": [],
   "source": []
  },
  {
   "cell_type": "code",
   "execution_count": null,
   "metadata": {},
   "outputs": [],
   "source": []
  },
  {
   "cell_type": "code",
   "execution_count": 12,
   "metadata": {},
   "outputs": [],
   "source": [
    "def zonalStats(inShp, inRaster, bandNum=1, mask_A = None, reProj = False, minVal = '', maxVal = '', verbose=False , rastType='N', unqVals=[]):\n",
    "    import sys, os, inspect, logging, json\n",
    "    import rasterio, affine\n",
    "\n",
    "    import pandas as pd\n",
    "    import geopandas as gpd\n",
    "    import numpy as np\n",
    "\n",
    "    from collections import Counter\n",
    "    from shapely.geometry import box\n",
    "    from affine import Affine\n",
    "    from rasterio import features\n",
    "    from rasterio.mask import mask\n",
    "    from rasterio.features import rasterize\n",
    "    from rasterio.warp import reproject, Resampling\n",
    "    from osgeo import gdal\n",
    "    \n",
    "    ''' Run zonal statistics against an input shapefile\n",
    "    \n",
    "    INPUT VARIABLES\n",
    "    inShp [string or geopandas object] - path to input shapefile\n",
    "    inRaster [string or rasterio object] - path to input raster\n",
    "    \n",
    "    OPTIONAL\n",
    "    bandNum [integer] - band in raster to analyze\n",
    "    reProj [boolean] -  whether to reproject data to match, if not, raise an error\n",
    "    minVal [number] - if defined, will only calculation statistics on values above this number\n",
    "    verbose [boolean] - whether to be loud with responses\n",
    "    rastType [string N or C] - N is numeric and C is categorical. Categorical returns counts of numbers\n",
    "    unqVals [array of numbers] - used in categorical zonal statistics, tabulates all these numbers, will report 0 counts\n",
    "    mask_A [numpy boolean mask] - mask the desired band using an identical shape boolean mask. Useful for doing conditional zonal stats\n",
    "    \n",
    "    RETURNS\n",
    "    array of arrays, one for each feature in inShp\n",
    "    '''   \n",
    "    if isinstance(inShp, str):\n",
    "        inVector = gpd.read_file(inShp) \n",
    "    else:\n",
    "        inVector = inShp\n",
    "    if isinstance(inRaster, str):\n",
    "        curRaster = rasterio.open(inRaster, 'r+')\n",
    "    else:\n",
    "        curRaster = inRaster\n",
    "        \n",
    "    # If mask is not none, apply mask \n",
    "    if mask_A is not None:\n",
    "        \n",
    "        curRaster.write_mask(np.invert(mask_A))\n",
    "    \n",
    "    outputData=[]\n",
    "    if inVector.crs != curRaster.crs:\n",
    "        if reProj:\n",
    "            inVector = inVector.to_crs(curRaster.crs)\n",
    "        else:\n",
    "            raise ValueError(\"Input CRS do not match\")\n",
    "    fCount = 0\n",
    "    tCount = len(inVector['geometry'])\n",
    "    #generate bounding box geometry for raster bbox\n",
    "    b = curRaster.bounds\n",
    "    rBox = box(b[0], b[1], b[2], b[3])\n",
    "    for geometry in inVector['geometry']:\n",
    "        #This test is used in case the geometry extends beyond the edge of the raster\n",
    "        #   I think it is computationally heavy, but I don't know of an easier way to do it\n",
    "        if not rBox.contains(geometry):\n",
    "            geometry = geometry.intersection(rBox)            \n",
    "        try:\n",
    "            fCount = fCount + 1\n",
    "            if fCount % 1000 == 0 and verbose:\n",
    "                tPrint(\"Processing %s of %s\" % (fCount, tCount) )\n",
    "            # get pixel coordinates of the geometry's bounding box\n",
    "            ul = curRaster.index(*geometry.bounds[0:2])\n",
    "            lr = curRaster.index(*geometry.bounds[2:4])\n",
    "            '''\n",
    "            TODO: There is a problem with the indexing - if the shape falls outside the boundaries, it errors\n",
    "                I want to change it to just grab what it can find, but my brain is wrecked and I cannot figure it out\n",
    "            print(geometry.bounds)\n",
    "            print(curRaster.shape)\n",
    "            print(lr)\n",
    "            print(ul)\n",
    "            lr = (max(lr[0], 0), min(lr[1], curRaster.shape[1]))\n",
    "            ul = (min(ul[0], curRaster.shape[0]), min(ul[1]))\n",
    "            '''\n",
    "            # read the subset of the data into a numpy array\n",
    "            window = ((float(lr[0]), float(ul[0]+1)), (float(ul[1]), float(lr[1]+1)))\n",
    "            \n",
    "            if mask is not None:\n",
    "                data = curRaster.read(bandNum, window=window, masked = True)\n",
    "            else:\n",
    "                data = curRaster.read(bandNum, window=window, masked = False)\n",
    "            \n",
    "            # create an affine transform for the subset data\n",
    "            t = curRaster.transform\n",
    "            shifted_affine = Affine(t.a, t.b, t.c+ul[1]*t.a, t.d, t.e, t.f+lr[0]*t.e)\n",
    "\n",
    "            # rasterize the geometry\n",
    "            mask = rasterize(\n",
    "                [(geometry, 0)],\n",
    "                out_shape=data.shape,\n",
    "                transform=shifted_affine,\n",
    "                fill=1,\n",
    "                all_touched=False,\n",
    "                dtype=np.uint8)\n",
    "\n",
    "            # create a masked numpy array\n",
    "            masked_data = np.ma.array(data=data, mask=mask.astype(bool))\n",
    "            if rastType == 'N':                \n",
    "                if minVal != '' or maxVal != '':\n",
    "                    if minVal != '':\n",
    "                        masked_data = np.ma.masked_where(masked_data < minVal, masked_data)\n",
    "                    if maxVal != '':\n",
    "                        masked_data = np.ma.masked_where(masked_data > maxVal, masked_data)                    \n",
    "                    if masked_data.count() > 0:                        \n",
    "                        results = [masked_data.sum(), masked_data.min(), masked_data.max(), masked_data.mean()]\n",
    "                    else :\n",
    "                        results = [-1, -1, -1, -1]                \n",
    "                else:\n",
    "                    results = [masked_data.sum(), masked_data.min(), masked_data.max(), masked_data.mean()]\n",
    "            if rastType == 'C':\n",
    "                if len(unqVals) > 0:                          \n",
    "                    xx = dict(Counter(data.flatten()))\n",
    "                    results = [xx.get(i, 0) for i in unqVals]                \n",
    "                else:\n",
    "                    results = np.unique(masked_data, return_counts=True)                    \n",
    "            outputData.append(results)\n",
    "        except Exception as e: \n",
    "            print(e)\n",
    "            outputData.append([-1, -1, -1, -1])            \n",
    "    return outputData   "
   ]
  },
  {
   "cell_type": "code",
   "execution_count": null,
   "metadata": {},
   "outputs": [],
   "source": []
  }
 ],
 "metadata": {
  "kernelspec": {
   "display_name": "Python (Cfox2)",
   "language": "python",
   "name": "cfox2"
  },
  "language_info": {
   "codemirror_mode": {
    "name": "ipython",
    "version": 3
   },
   "file_extension": ".py",
   "mimetype": "text/x-python",
   "name": "python",
   "nbconvert_exporter": "python",
   "pygments_lexer": "ipython3",
   "version": "3.6.6"
  }
 },
 "nbformat": 4,
 "nbformat_minor": 2
}
