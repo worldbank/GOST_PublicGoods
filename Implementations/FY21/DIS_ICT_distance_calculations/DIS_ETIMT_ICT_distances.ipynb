{
 "cells": [
  {
   "cell_type": "code",
   "execution_count": 1,
   "metadata": {},
   "outputs": [
    {
     "name": "stderr",
     "output_type": "stream",
     "text": [
      "/home/wb411133/.conda/envs/geog/lib/python3.7/site-packages/geopandas/_compat.py:88: UserWarning: The Shapely GEOS version (3.7.1-CAPI-1.11.1 0) is incompatible with the GEOS version PyGEOS was compiled with (3.9.0-CAPI-1.16.2). Conversions between both will be slow.\n",
      "  shapely_geos_version, geos_capi_version_string\n"
     ]
    }
   ],
   "source": [
    "import sys, os, importlib\n",
    "import rasterio\n",
    "import reverse_geocode\n",
    "\n",
    "import geopandas as gpd\n",
    "import pandas as pd\n",
    "\n",
    "from shapely.geometry import Point\n",
    "\n",
    "# Import GOST libraries; sys.path.append will be unnecessary if libraries are already installed\n",
    "sys.path.append(\"../../../../gostrocks/src\")\n",
    "sys.path.append(\"../../../../GOST_Urban\")\n",
    "\n",
    "import GOSTRocks.rasterMisc as rMisc\n",
    "from GOSTRocks.misc import tPrint\n",
    "import src.UrbanRaster as urban\n",
    "%matplotlib inline  "
   ]
  },
  {
   "cell_type": "code",
   "execution_count": 2,
   "metadata": {},
   "outputs": [
    {
     "name": "stdout",
     "output_type": "stream",
     "text": [
      "(121335, 6)\n",
      "(121330, 6)\n"
     ]
    }
   ],
   "source": [
    "wbes_coords = \"/home/wb411133/data/Projects/ICT_Distance/Data/Masked ES GPS April 15-2021.dta\"\n",
    "inD = pd.read_stata(wbes_coords)\n",
    "print(inD.shape)\n",
    "# filter data with broken coordinates\n",
    "inD = inD.loc[(inD['lat_mask'] > -90) & (inD['lat_mask'] < 90) & (inD['lon_mask'] > -180) & (inD['lon_mask'] < 180)]\n",
    "print(inD.shape)"
   ]
  },
  {
   "cell_type": "code",
   "execution_count": 3,
   "metadata": {},
   "outputs": [],
   "source": [
    "geoms = [Point(row['lon_mask'], row['lat_mask']) for idx, row in inD.iterrows()]\n",
    "inD = gpd.GeoDataFrame(inD, geometry=geoms, crs = 'epsg:4326')"
   ]
  },
  {
   "cell_type": "code",
   "execution_count": 4,
   "metadata": {},
   "outputs": [],
   "source": [
    "global_bounds = \"/home/public/Data/GLOBAL/ADMIN/Admin0_Polys.shp\"\n",
    "inG = gpd.read_file(global_bounds)\n",
    "inG = inG.to_crs('epsg:4326')"
   ]
  },
  {
   "cell_type": "markdown",
   "metadata": {},
   "source": [
    "# Open and load infrastructure data"
   ]
  },
  {
   "cell_type": "code",
   "execution_count": 5,
   "metadata": {},
   "outputs": [],
   "source": [
    "openCellID = \"/home/public/Data/GLOBAL/INFRA/OPENCELLID/cell_towers_2020-04-15-T000000.csv\"    \n",
    "ixp_file = '/home/public/Data/GLOBAL/INFRA/IXPS/ixps_global_geocoded.csv'\n",
    "colocation_file = '/home/public/Data/GLOBAL/INFRA/DATA_CENTERS/Data_Centers.geojson'\n",
    "cell_coverage_folder = '/home/public/Data/GLOBAL/INFRA/GSMA/2019/MCE/Data_MCE/Global'\n",
    "cell_files = ['MCE_Global2G_2020.tif', 'MCE_Global3G_2020.tif', 'MCE_Global4G_2020.tif']\n",
    "submarine_cable_file = '/home/public/Data/GLOBAL/INFRA/SUBMARINE_CABLES/landing-point-geo.json'"
   ]
  },
  {
   "cell_type": "code",
   "execution_count": 6,
   "metadata": {},
   "outputs": [
    {
     "name": "stderr",
     "output_type": "stream",
     "text": [
      "/home/wb411133/.conda/envs/geog/lib/python3.7/site-packages/pyproj/crs/crs.py:53: FutureWarning: '+init=<authority>:<code>' syntax is deprecated. '<authority>:<code>' is the preferred initialization method. When making the change, be mindful of axis order changes: https://pyproj4.github.io/pyproj/stable/gotchas.html#axis-order-changes-in-proj-6\n",
      "  return _prepare_from_string(\" \".join(pjargs))\n"
     ]
    }
   ],
   "source": [
    "inCell = pd.read_csv(openCellID)\n",
    "inD_geom = [Point(x) for x in zip(inCell['lon'], inCell['lat'])]\n",
    "inCell = gpd.GeoDataFrame(inCell, geometry = inD_geom, crs = {'init':'epsg:4326'})"
   ]
  },
  {
   "cell_type": "code",
   "execution_count": 7,
   "metadata": {},
   "outputs": [],
   "source": [
    "cell_sindex = inCell.sindex"
   ]
  },
  {
   "cell_type": "code",
   "execution_count": 8,
   "metadata": {},
   "outputs": [],
   "source": [
    "inCol = gpd.read_file(colocation_file)"
   ]
  },
  {
   "cell_type": "code",
   "execution_count": null,
   "metadata": {},
   "outputs": [],
   "source": [
    "inCables = gpd.read_file(submarine_cable_file)\n",
    "def try_country(x):\n",
    "    try:\n",
    "        return(pycountry.countries.search_fuzzy(x.split(\",\")[-1])[0].alpha_3)\n",
    "    except:\n",
    "        return('')\n",
    "\n",
    "inCables['ISO3'] = inCables['name'].apply(lambda x: try_country(x))"
   ]
  },
  {
   "cell_type": "code",
   "execution_count": null,
   "metadata": {},
   "outputs": [],
   "source": [
    "inIXP = pd.read_csv(ixp_file, index_col=0)\n",
    "inD_geom = [Point(x) for x in zip(inIXP['Lon'], inIXP['Lat'])]\n",
    "inIXP = gpd.GeoDataFrame(inIXP, geometry = inD_geom, crs = {'init':'epsg:4326'})"
   ]
  },
  {
   "cell_type": "code",
   "execution_count": null,
   "metadata": {},
   "outputs": [],
   "source": [
    "gsma2g_R = rasterio.open(os.path.join(cell_coverage_folder, cell_files[0]))\n",
    "gsma3g_R = rasterio.open(os.path.join(cell_coverage_folder, cell_files[1]))\n",
    "gsma4g_R = rasterio.open(os.path.join(cell_coverage_folder, cell_files[2]))"
   ]
  },
  {
   "cell_type": "markdown",
   "metadata": {},
   "source": [
    "# Calculate distances"
   ]
  },
  {
   "cell_type": "code",
   "execution_count": null,
   "metadata": {},
   "outputs": [
    {
     "data": {
      "text/plain": [
       "array(['YEM', 'BOL', 'ECU', 'PER', 'URY', 'ARG', 'CHL', 'COL', 'PRY',\n",
       "       'VEN', 'PAN', 'NIC', 'HND', 'SLV', 'GTM', 'CRI', 'MEX', 'CAF',\n",
       "       'IRQ', 'ZWE', 'RUS', 'RWA', 'ETH', 'CHN', 'BLR', 'NPL', 'PSE',\n",
       "       'GEO', 'AZE', 'KGZ', 'KAZ', 'BGD', 'ARM', 'AFG', 'UGA', 'UKR',\n",
       "       'UZB', 'MNG', 'MDA', 'TZA', 'KEN', 'BGR', 'SRB', 'ZMB', 'BIH',\n",
       "       'ALB', 'XKX', 'HRV', 'MKD', 'SVN', 'MNE', 'DJI', 'LBN', 'ISR',\n",
       "       'JOR', 'ROU', 'LVA', 'MMR', 'COD', 'TJK', 'EST', 'HUN', 'LTU',\n",
       "       'POL', 'CZE', 'SVK', 'TUR', 'SWE', 'GHA', 'MDG', 'IND', 'TUN',\n",
       "       'EGY', 'SEN', 'MRT', 'BDI', 'SSD', 'NAM', 'SDN', 'PAK', 'MAR',\n",
       "       'MWI', 'NGA', 'BTN', 'IDN', 'VNM', 'SLB', 'PHL', 'KHM', 'TLS',\n",
       "       'LAO', 'MYS', 'PNG', 'THA', 'LSO', 'BEN', 'MLI', 'CMR', 'GIN',\n",
       "       'SWZ', 'CIV', 'TGO', 'DOM', 'NER', 'LBR', 'SLE', 'TCD', 'GMB',\n",
       "       'MOZ', 'SUR', 'GRC', 'CYP', 'MLT', 'ITA', 'HTI', 'PRT', 'SOM',\n",
       "       'LUX', 'BEL', 'ZAF'], dtype=object)"
      ]
     },
     "execution_count": 12,
     "metadata": {},
     "output_type": "execute_result"
    }
   ],
   "source": [
    "inD['WBCode'].unique()"
   ]
  },
  {
   "cell_type": "code",
   "execution_count": null,
   "metadata": {},
   "outputs": [
    {
     "name": "stdout",
     "output_type": "stream",
     "text": [
      "10:49:28\t***** Processing YEM\n",
      "10:49:28\t***** Processing BOL\n",
      "10:49:28\t***** Processing ECU\n",
      "10:49:28\t***** Processing PER\n",
      "10:49:28\t***** Processing URY\n",
      "10:49:28\t***** Processing ARG\n",
      "10:49:28\t***** Processing CHL\n",
      "10:49:39\tCompleted distances to easy measures\n"
     ]
    }
   ],
   "source": [
    "broken_countries = [] #['CHL','RUS','CHN','IDN']\n",
    "\n",
    "epsg = 'epsg:6933'\n",
    "out_folder =  \"/home/wb411133/temp/ICT_distance\"\n",
    "if not os.path.exists(out_folder):\n",
    "    os.makedirs(out_folder)\n",
    "    \n",
    "for cur_country in inD['WBCode'].unique():\n",
    "    out_file = os.path.join(out_folder, \"%s_ICT_distance.csv\" % cur_country)\n",
    "    tPrint(f\"***** Processing {cur_country}\")\n",
    "    if not os.path.exists(out_file) and not cur_country in broken_countries:\n",
    "        curD = inD.loc[inD['WBCode'] == cur_country]\n",
    "        curB = inG.loc[inG['ISO3'] == cur_country]\n",
    "        distD = curD.to_crs(epsg)\n",
    "        total_bound = curB.unary_union\n",
    "        if curB.shape[0] > 0:\n",
    "            selCol = inCol.loc[inCol['geometry'].apply(lambda x: x.intersects(total_bound))]\n",
    "            if selCol.shape[0] > 0:\n",
    "                selCol = selCol.to_crs(epsg)\n",
    "                distD['col_dist'] = distD.distance(selCol.unary_union)\n",
    "            else:\n",
    "                distD['col_dist'] = -1\n",
    "\n",
    "            selIXP = inIXP.loc[inIXP['geometry'].apply(lambda x: x.intersects(total_bound))]\n",
    "            if selIXP.shape[0] > 0:\n",
    "                selIXP = selIXP.to_crs(epsg)\n",
    "                distD['ixp_dist'] = distD.distance(selIXP.unary_union)\n",
    "            else:\n",
    "                distD['ixp_dist'] = -1\n",
    "\n",
    "            selCables = inCables.loc[inCables['ISO3'] == cur_country]\n",
    "            if selCables.shape[0] > 0:\n",
    "                selCables = selCables.to_crs(epsg)\n",
    "                distD['cables_dist'] = distD.distance(selCables.unary_union)\n",
    "            else:\n",
    "                distD['cables_dist'] = -1\n",
    "\n",
    "            tPrint(f\"Completed distances to easy measures\")\n",
    "\n",
    "            potential_matches = inCell.loc[list(cell_sindex.intersection(total_bound.bounds))]\n",
    "            selCell = potential_matches.loc[potential_matches.intersects(total_bound)]\n",
    "            selCell = selCell.to_crs(epsg)\n",
    "            distD['cell_dist'] = distD.distance(selCell.unary_union)\n",
    "\n",
    "            coords = [[x.x,x.y] for x in curD['geometry']]\n",
    "            distD['gsma2g'] = [x[0] for x in list(gsma2g_R.sample(coords))]\n",
    "            distD['gsma3g'] = [x[0] for x in list(gsma3g_R.sample(coords))]\n",
    "            distD['gsma4g'] = [x[0] for x in list(gsma4g_R.sample(coords))]\n",
    "\n",
    "            pd.DataFrame(distD).to_csv(out_file)"
   ]
  },
  {
   "cell_type": "code",
   "execution_count": null,
   "metadata": {},
   "outputs": [],
   "source": []
  }
 ],
 "metadata": {
  "kernelspec": {
   "display_name": "Python (geog)",
   "language": "python",
   "name": "geog"
  },
  "language_info": {
   "codemirror_mode": {
    "name": "ipython",
    "version": 3
   },
   "file_extension": ".py",
   "mimetype": "text/x-python",
   "name": "python",
   "nbconvert_exporter": "python",
   "pygments_lexer": "ipython3",
   "version": "3.7.1"
  }
 },
 "nbformat": 4,
 "nbformat_minor": 2
}
