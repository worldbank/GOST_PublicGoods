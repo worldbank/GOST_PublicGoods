{
 "cells": [
  {
   "cell_type": "code",
   "execution_count": 20,
   "metadata": {},
   "outputs": [],
   "source": [
    "import sys, os, importlib, json, multiprocessing\n",
    "import rasterio, pycountry\n",
    "import reverse_geocode\n",
    "\n",
    "import geopandas as gpd\n",
    "import pandas as pd\n",
    "\n",
    "from urllib.request import urlopen\n",
    "from shapely.geometry import Point\n",
    "from shapely.ops import nearest_points\n",
    "from shapely import wkt\n",
    "\n",
    "#Import local functions\n",
    "import ict_helper as ict\n",
    "\n",
    "# Import GOST libraries; sys.path.append will be unnecessary if libraries are already installed\n",
    "sys.path.append(\"../../../../gostrocks/src\")\n",
    "sys.path.append(\"../../../../GOST_Urban/src\")\n",
    "\n",
    "import GOSTRocks.rasterMisc as rMisc\n",
    "from GOSTRocks.misc import tPrint\n",
    "import GOST_Urban.UrbanRaster as urban\n",
    "%matplotlib inline  "
   ]
  },
  {
   "cell_type": "code",
   "execution_count": 21,
   "metadata": {},
   "outputs": [],
   "source": [
    "out_folder =  \"/home/wb411133/temp/ICT_distance\"\n"
   ]
  },
  {
   "cell_type": "code",
   "execution_count": 22,
   "metadata": {},
   "outputs": [
    {
     "name": "stdout",
     "output_type": "stream",
     "text": [
      "(121121, 9)\n",
      "(121116, 9)\n"
     ]
    },
    {
     "data": {
      "text/html": [
       "<div>\n",
       "<style scoped>\n",
       "    .dataframe tbody tr th:only-of-type {\n",
       "        vertical-align: middle;\n",
       "    }\n",
       "\n",
       "    .dataframe tbody tr th {\n",
       "        vertical-align: top;\n",
       "    }\n",
       "\n",
       "    .dataframe thead th {\n",
       "        text-align: right;\n",
       "    }\n",
       "</style>\n",
       "<table border=\"1\" class=\"dataframe\">\n",
       "  <thead>\n",
       "    <tr style=\"text-align: right;\">\n",
       "      <th></th>\n",
       "      <th>idstd</th>\n",
       "      <th>year</th>\n",
       "      <th>fyear</th>\n",
       "      <th>d2_l1_year_perf_indicators</th>\n",
       "      <th>lat_mask</th>\n",
       "      <th>lon_mask</th>\n",
       "      <th>survey</th>\n",
       "      <th>WBCode</th>\n",
       "      <th>type</th>\n",
       "    </tr>\n",
       "  </thead>\n",
       "  <tbody>\n",
       "    <tr>\n",
       "      <th>0</th>\n",
       "      <td>468901.0</td>\n",
       "      <td>2010.0</td>\n",
       "      <td>2009</td>\n",
       "      <td>2009</td>\n",
       "      <td>14.803293</td>\n",
       "      <td>49.687744</td>\n",
       "      <td>Yemen2010</td>\n",
       "      <td>YEM</td>\n",
       "      <td>Enterprise Survey</td>\n",
       "    </tr>\n",
       "    <tr>\n",
       "      <th>1</th>\n",
       "      <td>468902.0</td>\n",
       "      <td>2010.0</td>\n",
       "      <td>2009</td>\n",
       "      <td>2009</td>\n",
       "      <td>14.556620</td>\n",
       "      <td>49.129032</td>\n",
       "      <td>Yemen2010</td>\n",
       "      <td>YEM</td>\n",
       "      <td>Enterprise Survey</td>\n",
       "    </tr>\n",
       "    <tr>\n",
       "      <th>2</th>\n",
       "      <td>468903.0</td>\n",
       "      <td>2010.0</td>\n",
       "      <td>2009</td>\n",
       "      <td>2009</td>\n",
       "      <td>14.551517</td>\n",
       "      <td>49.141815</td>\n",
       "      <td>Yemen2010</td>\n",
       "      <td>YEM</td>\n",
       "      <td>Enterprise Survey</td>\n",
       "    </tr>\n",
       "    <tr>\n",
       "      <th>3</th>\n",
       "      <td>468904.0</td>\n",
       "      <td>2010.0</td>\n",
       "      <td>2009</td>\n",
       "      <td>2009</td>\n",
       "      <td>14.515405</td>\n",
       "      <td>49.125977</td>\n",
       "      <td>Yemen2010</td>\n",
       "      <td>YEM</td>\n",
       "      <td>Enterprise Survey</td>\n",
       "    </tr>\n",
       "    <tr>\n",
       "      <th>4</th>\n",
       "      <td>468905.0</td>\n",
       "      <td>2010.0</td>\n",
       "      <td>2009</td>\n",
       "      <td>2009</td>\n",
       "      <td>14.519185</td>\n",
       "      <td>49.119148</td>\n",
       "      <td>Yemen2010</td>\n",
       "      <td>YEM</td>\n",
       "      <td>Enterprise Survey</td>\n",
       "    </tr>\n",
       "  </tbody>\n",
       "</table>\n",
       "</div>"
      ],
      "text/plain": [
       "      idstd    year fyear  d2_l1_year_perf_indicators   lat_mask   lon_mask  \\\n",
       "0  468901.0  2010.0  2009                        2009  14.803293  49.687744   \n",
       "1  468902.0  2010.0  2009                        2009  14.556620  49.129032   \n",
       "2  468903.0  2010.0  2009                        2009  14.551517  49.141815   \n",
       "3  468904.0  2010.0  2009                        2009  14.515405  49.125977   \n",
       "4  468905.0  2010.0  2009                        2009  14.519185  49.119148   \n",
       "\n",
       "      survey WBCode               type  \n",
       "0  Yemen2010    YEM  Enterprise Survey  \n",
       "1  Yemen2010    YEM  Enterprise Survey  \n",
       "2  Yemen2010    YEM  Enterprise Survey  \n",
       "3  Yemen2010    YEM  Enterprise Survey  \n",
       "4  Yemen2010    YEM  Enterprise Survey  "
      ]
     },
     "execution_count": 22,
     "metadata": {},
     "output_type": "execute_result"
    }
   ],
   "source": [
    "wbes_coords = \"/home/wb411133/data/Projects/ICT_Distance/Data/Masked ES GPS April 15-2021_year.dta\"\n",
    "inD = pd.read_stata(wbes_coords)\n",
    "print(inD.shape)\n",
    "# filter data with broken coordinates\n",
    "inD = inD.loc[(inD['lat_mask'] > -90) & (inD['lat_mask'] < 90) & (inD['lon_mask'] > -180) & (inD['lon_mask'] < 180)]\n",
    "print(inD.shape)\n",
    "inD.head()"
   ]
  },
  {
   "cell_type": "code",
   "execution_count": 23,
   "metadata": {
    "scrolled": true
   },
   "outputs": [
    {
     "name": "stdout",
     "output_type": "stream",
     "text": [
      "CHL\n",
      "RUS\n",
      "CHN\n",
      "IDN\n"
     ]
    }
   ],
   "source": [
    "countries = inD['WBCode'].unique()\n",
    "for c in countries:\n",
    "    if not os.path.exists(f'/home/wb411133/temp/ICT_distance/{c}_ICT_distance.csv'):\n",
    "        print(c)"
   ]
  },
  {
   "cell_type": "code",
   "execution_count": 24,
   "metadata": {},
   "outputs": [],
   "source": [
    "geoms = [Point(row['lon_mask'], row['lat_mask']) for idx, row in inD.iterrows()]\n",
    "inD = gpd.GeoDataFrame(inD, geometry=geoms, crs = 'epsg:4326')\n",
    "inD['d2_l1_year_perf_indicators'] = inD['d2_l1_year_perf_indicators'].astype(int)"
   ]
  },
  {
   "cell_type": "code",
   "execution_count": 25,
   "metadata": {},
   "outputs": [],
   "source": [
    "global_bounds = \"/home/public/Data/GLOBAL/ADMIN/Admin0_Polys.shp\"\n",
    "inG = gpd.read_file(global_bounds)\n",
    "inG = inG.to_crs('epsg:4326')\n",
    "inG.loc[inG['ISO3'] == 'KSV', 'ISO3'] = 'XKX'"
   ]
  },
  {
   "cell_type": "markdown",
   "metadata": {},
   "source": [
    "# Open and load infrastructure data"
   ]
  },
  {
   "cell_type": "code",
   "execution_count": 26,
   "metadata": {},
   "outputs": [],
   "source": [
    "openCellID = \"/home/public/Data/GLOBAL/INFRA/OPENCELLID/cell_towers_2020-04-15-T000000.csv\"    \n",
    "ixp_file = '/home/public/Data/GLOBAL/INFRA/IXPS/ixps_global_geocoded.csv'\n",
    "colocation_file = '/home/public/Data/GLOBAL/INFRA/DATA_CENTERS/Data_Centers.geojson'\n",
    "cell_coverage_folder = '/home/public/Data/GLOBAL/INFRA/GSMA/2019/MCE/Data_MCE/Global'\n",
    "cell_files = ['MCE_Global2G_2020.tif', 'MCE_Global3G_2020.tif', 'MCE_Global4G_2020.tif']\n",
    "submarine_cable_file = '/home/public/Data/GLOBAL/INFRA/SUBMARINE_CABLES/landing-point-geo.json'"
   ]
  },
  {
   "cell_type": "code",
   "execution_count": 60,
   "metadata": {},
   "outputs": [
    {
     "name": "stderr",
     "output_type": "stream",
     "text": [
      "/home/wb411133/.conda/envs/ee/lib/python3.9/site-packages/pyproj/crs/crs.py:68: FutureWarning: '+init=<authority>:<code>' syntax is deprecated. '<authority>:<code>' is the preferred initialization method. When making the change, be mindful of axis order changes: https://pyproj4.github.io/pyproj/stable/gotchas.html#axis-order-changes-in-proj-6\n",
      "  return _prepare_from_string(\" \".join(pjargs))\n"
     ]
    }
   ],
   "source": [
    "inCell = pd.read_csv(openCellID)\n",
    "inD_geom = [Point(x) for x in zip(inCell['lon'], inCell['lat'])]\n",
    "inCell = gpd.GeoDataFrame(inCell, geometry = inD_geom, crs = {'init':'epsg:4326'})"
   ]
  },
  {
   "cell_type": "code",
   "execution_count": 61,
   "metadata": {},
   "outputs": [],
   "source": [
    "cell_sindex = inCell.sindex"
   ]
  },
  {
   "cell_type": "code",
   "execution_count": 29,
   "metadata": {},
   "outputs": [],
   "source": [
    "inCol = gpd.read_file(colocation_file)"
   ]
  },
  {
   "cell_type": "code",
   "execution_count": 30,
   "metadata": {},
   "outputs": [],
   "source": [
    "# Load submarine cables - load landing points, identify RFS attributes from combined other data\n",
    "#     final dataset needs landing points with RFS dates\n",
    "landing_points = gpd.read_file('https://raw.githubusercontent.com/telegeography/www.submarinecablemap.com/master/web/public/api/v3/landing-point/landing-point-geo.json')                                \n",
    "cables = gpd.read_file('https://raw.githubusercontent.com/telegeography/www.submarinecablemap.com/master/web/public/api/v3/cable/cable-geo.json')                        \n",
    "cables_json_base = 'https://raw.githubusercontent.com/telegeography/www.submarinecablemap.com/master/web/public/api/v3/cable/{cable_id}.json'"
   ]
  },
  {
   "cell_type": "code",
   "execution_count": 31,
   "metadata": {},
   "outputs": [],
   "source": [
    "all_landing_points = []\n",
    "for cur_id in cables['id']:\n",
    "    response = urlopen(cables_json_base.format(cable_id = cur_id))\n",
    "    json_data = response.read().decode()\n",
    "    d = json.loads(json_data)\n",
    "    l_points = d['landing_points']\n",
    "    for item in l_points:\n",
    "        try:\n",
    "            item['RFS'] = int(d['rfs'][:4])\n",
    "            all_landing_points.append(item)\n",
    "        except:\n",
    "            pass"
   ]
  },
  {
   "cell_type": "code",
   "execution_count": 32,
   "metadata": {
    "scrolled": true
   },
   "outputs": [],
   "source": [
    "landing_point_rfs = pd.DataFrame(all_landing_points)\n",
    "lp_data = pd.merge(landing_point_rfs, landing_points, on=\"id\")\n",
    "lp_data = gpd.GeoDataFrame(lp_data, geometry='geometry', crs='epsg:4326')\n",
    "\n",
    "def try_country(x):\n",
    "    try:\n",
    "        return(pycountry.countries.search_fuzzy(x)[0].alpha_3)\n",
    "    except:\n",
    "        return('')\n",
    "\n",
    "lp_data['ISO3'] = lp_data['country'].apply(lambda x: try_country(x))\n",
    "lp_data.drop(['name_x', 'is_tbd_x'], axis=1, inplace=True)\n",
    "lp_data.columns = ['id', 'country', 'RFS', 'name', 'is_tbd', 'geometry', 'ISO3']\n",
    "inCables = lp_data"
   ]
  },
  {
   "cell_type": "code",
   "execution_count": 33,
   "metadata": {},
   "outputs": [],
   "source": [
    "inIXP = pd.read_csv(ixp_file, index_col=0)\n",
    "inD_geom = [Point(x) for x in zip(inIXP['Lon'], inIXP['Lat'])]\n",
    "inIXP = gpd.GeoDataFrame(inIXP, geometry = inD_geom, crs = {'init':'epsg:4326'})"
   ]
  },
  {
   "cell_type": "code",
   "execution_count": 34,
   "metadata": {},
   "outputs": [],
   "source": [
    "gsma2g_R = rasterio.open(os.path.join(cell_coverage_folder, cell_files[0]))\n",
    "gsma3g_R = rasterio.open(os.path.join(cell_coverage_folder, cell_files[1]))\n",
    "gsma4g_R = rasterio.open(os.path.join(cell_coverage_folder, cell_files[2]))"
   ]
  },
  {
   "cell_type": "markdown",
   "metadata": {},
   "source": [
    "# Calculate distances"
   ]
  },
  {
   "cell_type": "code",
   "execution_count": 35,
   "metadata": {
    "scrolled": true
   },
   "outputs": [
    {
     "name": "stdout",
     "output_type": "stream",
     "text": [
      "20:40:01\t***** Processing YEM\n",
      "20:40:01\t***** Processing BOL\n",
      "20:40:01\t***** Processing ECU\n",
      "20:40:01\t***** Processing PER\n",
      "20:40:01\t***** Processing URY\n",
      "20:40:01\t***** Processing ARG\n",
      "20:40:01\t***** Processing CHL\n",
      "20:40:01\t***** Processing COL\n",
      "20:40:01\t***** Processing PRY\n",
      "20:40:01\t***** Processing VEN\n",
      "20:40:01\t***** Processing PAN\n",
      "20:40:01\t***** Processing NIC\n",
      "20:40:01\t***** Processing HND\n",
      "20:40:01\t***** Processing SLV\n",
      "20:40:01\t***** Processing GTM\n",
      "20:40:01\t***** Processing CRI\n",
      "20:40:01\t***** Processing MEX\n",
      "20:40:01\t***** Processing CAF\n",
      "20:40:01\t***** Processing IRQ\n",
      "20:40:01\t***** Processing ZWE\n",
      "20:40:01\t***** Processing RUS\n",
      "20:40:01\t***** Processing RWA\n",
      "20:40:01\t***** Processing ETH\n",
      "20:40:01\t***** Processing CHN\n",
      "20:40:01\t***** Processing BLR\n",
      "20:40:01\t***** Processing NPL\n",
      "20:40:01\t***** Processing PSE\n",
      "20:40:01\t***** Processing GEO\n",
      "20:40:01\t***** Processing AZE\n",
      "20:40:01\t***** Processing KGZ\n",
      "20:40:01\t***** Processing KAZ\n",
      "20:40:01\t***** Processing BGD\n",
      "20:40:01\t***** Processing ARM\n",
      "20:40:01\t***** Processing AFG\n",
      "20:40:01\t***** Processing UGA\n",
      "20:40:01\t***** Processing UKR\n",
      "20:40:01\t***** Processing UZB\n",
      "20:40:01\t***** Processing MNG\n",
      "20:40:01\t***** Processing MDA\n",
      "20:40:01\t***** Processing TZA\n",
      "20:40:01\t***** Processing KEN\n",
      "20:40:01\t***** Processing BGR\n",
      "20:40:01\t***** Processing SRB\n",
      "20:40:01\t***** Processing ZMB\n",
      "20:40:01\t***** Processing BIH\n",
      "20:40:01\t***** Processing ALB\n",
      "20:40:01\t***** Processing XKX\n",
      "20:40:01\t***** Processing HRV\n",
      "20:40:01\t***** Processing MKD\n",
      "20:40:01\t***** Processing SVN\n",
      "20:40:01\t***** Processing MNE\n",
      "20:40:01\t***** Processing DJI\n",
      "20:40:01\t***** Processing LBN\n",
      "20:40:01\t***** Processing ISR\n",
      "20:40:01\t***** Processing JOR\n",
      "20:40:01\t***** Processing ROU\n",
      "20:40:01\t***** Processing LVA\n",
      "20:40:01\t***** Processing MMR\n",
      "20:40:01\t***** Processing COD\n",
      "20:40:01\t***** Processing TJK\n",
      "20:40:01\t***** Processing EST\n",
      "20:40:01\t***** Processing HUN\n",
      "20:40:01\t***** Processing LTU\n",
      "20:40:01\t***** Processing POL\n",
      "20:40:01\t***** Processing CZE\n",
      "20:40:01\t***** Processing SVK\n",
      "20:40:01\t***** Processing TUR\n",
      "20:40:01\t***** Processing SWE\n",
      "20:40:01\t***** Processing GHA\n",
      "20:40:01\t***** Processing MDG\n",
      "20:40:01\t***** Processing IND\n",
      "20:40:01\t***** Processing TUN\n",
      "20:40:01\t***** Processing EGY\n",
      "20:40:01\t***** Processing SEN\n",
      "20:40:01\t***** Processing MRT\n",
      "20:40:01\t***** Processing BDI\n",
      "20:40:01\t***** Processing SSD\n",
      "20:40:01\t***** Processing NAM\n",
      "20:40:01\t***** Processing SDN\n",
      "20:40:01\t***** Processing PAK\n",
      "20:40:01\t***** Processing MAR\n",
      "20:40:01\t***** Processing MWI\n",
      "20:40:01\t***** Processing NGA\n",
      "20:40:01\t***** Processing BTN\n",
      "20:40:01\t***** Processing IDN\n",
      "20:40:01\t***** Processing VNM\n",
      "20:40:01\t***** Processing SLB\n",
      "20:40:01\t***** Processing PHL\n",
      "20:40:01\t***** Processing KHM\n",
      "20:40:01\t***** Processing TLS\n",
      "20:40:01\t***** Processing LAO\n",
      "20:40:01\t***** Processing MYS\n",
      "20:40:01\t***** Processing PNG\n",
      "20:40:01\t***** Processing THA\n",
      "20:40:01\t***** Processing LSO\n",
      "20:40:01\t***** Processing BEN\n",
      "20:40:01\t***** Processing MLI\n",
      "20:40:01\t***** Processing CMR\n",
      "20:40:01\t***** Processing GIN\n",
      "20:40:01\t***** Processing SWZ\n",
      "20:40:01\t***** Processing CIV\n",
      "20:40:01\t***** Processing TGO\n",
      "20:40:01\t***** Processing DOM\n",
      "20:40:01\t***** Processing NER\n",
      "20:40:01\t***** Processing LBR\n",
      "20:40:01\t***** Processing SLE\n",
      "20:40:01\t***** Processing TCD\n",
      "20:40:01\t***** Processing GMB\n",
      "20:40:01\t***** Processing MOZ\n",
      "20:40:01\t***** Processing SUR\n",
      "20:40:01\t***** Processing GRC\n",
      "20:40:01\t***** Processing CYP\n",
      "20:40:01\t***** Processing MLT\n",
      "20:40:01\t***** Processing ITA\n",
      "20:40:01\t***** Processing HTI\n",
      "20:40:01\t***** Processing PRT\n",
      "20:40:01\t***** Processing SOM\n",
      "20:40:01\t***** Processing LUX\n",
      "20:40:01\t***** Processing BEL\n",
      "20:40:01\t***** Processing ZAF\n"
     ]
    }
   ],
   "source": [
    "broken_countries = ['CHL','RUS','CHN','IDN']\n",
    "n_processes = 30\n",
    "epsg = 'epsg:6933'\n",
    "if not os.path.exists(out_folder):\n",
    "    os.makedirs(out_folder)\n",
    "args = []\n",
    "for cur_country in inD['WBCode'].unique():\n",
    "    out_file = os.path.join(out_folder, \"%s_ICT_distance.csv\" % cur_country)\n",
    "    tPrint(f\"***** Processing {cur_country}\")\n",
    "    if not cur_country in broken_countries and not os.path.exists(out_file):\n",
    "        curD = inD.loc[inD['WBCode'] == cur_country]\n",
    "        if curD.shape[0] > 0:\n",
    "            total_bound = inG.loc[inG['ISO3'] == cur_country].unary_union\n",
    "            curB = inG.loc[inG['ISO3'] == cur_country]\n",
    "            curN = inG.loc[inG.intersects(curB.buffer(0.01).unary_union)]\n",
    "            curN = curN.loc[curN['ISO3'] != cur_country]        \n",
    "            selCol = inCol.loc[inCol['geometry'].apply(lambda x: x.intersects(total_bound))]\n",
    "            selIXP = inIXP.loc[inIXP['geometry'].apply(lambda x: x.intersects(total_bound))]                \n",
    "            args.append([cur_country, curD, curB, curN, out_file, selCol, selIXP, inCables, inCell, epsg])\n"
   ]
  },
  {
   "cell_type": "code",
   "execution_count": 36,
   "metadata": {},
   "outputs": [
    {
     "name": "stdout",
     "output_type": "stream",
     "text": [
      "Processing 0 of 120\n"
     ]
    }
   ],
   "source": [
    "print(f\"Processing {len(args)} of {len(inD['WBCode'].unique())}\")"
   ]
  },
  {
   "cell_type": "code",
   "execution_count": 37,
   "metadata": {},
   "outputs": [],
   "source": [
    "for arg in args:\n",
    "    print(arg[0])"
   ]
  },
  {
   "cell_type": "code",
   "execution_count": 19,
   "metadata": {
    "scrolled": true
   },
   "outputs": [
    {
     "name": "stderr",
     "output_type": "stream",
     "text": [
      "/home/wb411133/.conda/envs/ee/lib/python3.9/site-packages/pyproj/crs/crs.py:292: FutureWarning: '+init=<authority>:<code>' syntax is deprecated. '<authority>:<code>' is the preferred initialization method. When making the change, be mindful of axis order changes: https://pyproj4.github.io/pyproj/stable/gotchas.html#axis-order-changes-in-proj-6\n",
      "  projstring = _prepare_from_string(projparams)\n"
     ]
    },
    {
     "name": "stdout",
     "output_type": "stream",
     "text": [
      "19:14:16\tStarting KEN\n",
      "SOM\n",
      "TZA\n"
     ]
    },
    {
     "name": "stderr",
     "output_type": "stream",
     "text": [
      "/home/wb411133/.conda/envs/ee/lib/python3.9/site-packages/pyproj/crs/crs.py:292: FutureWarning: '+init=<authority>:<code>' syntax is deprecated. '<authority>:<code>' is the preferred initialization method. When making the change, be mindful of axis order changes: https://pyproj4.github.io/pyproj/stable/gotchas.html#axis-order-changes-in-proj-6\n",
      "  projstring = _prepare_from_string(projparams)\n"
     ]
    },
    {
     "name": "stdout",
     "output_type": "stream",
     "text": [
      "19:22:43\tStarting BGR\n",
      "GRC\n",
      "ROU\n",
      "TUR\n"
     ]
    },
    {
     "name": "stderr",
     "output_type": "stream",
     "text": [
      "/home/wb411133/.conda/envs/ee/lib/python3.9/site-packages/pyproj/crs/crs.py:292: FutureWarning: '+init=<authority>:<code>' syntax is deprecated. '<authority>:<code>' is the preferred initialization method. When making the change, be mindful of axis order changes: https://pyproj4.github.io/pyproj/stable/gotchas.html#axis-order-changes-in-proj-6\n",
      "  projstring = _prepare_from_string(projparams)\n"
     ]
    },
    {
     "name": "stdout",
     "output_type": "stream",
     "text": [
      "19:30:19\tStarting SRB\n",
      "BGR\n",
      "HRV\n",
      "ROU\n"
     ]
    },
    {
     "name": "stderr",
     "output_type": "stream",
     "text": [
      "/home/wb411133/.conda/envs/ee/lib/python3.9/site-packages/pyproj/crs/crs.py:292: FutureWarning: '+init=<authority>:<code>' syntax is deprecated. '<authority>:<code>' is the preferred initialization method. When making the change, be mindful of axis order changes: https://pyproj4.github.io/pyproj/stable/gotchas.html#axis-order-changes-in-proj-6\n",
      "  projstring = _prepare_from_string(projparams)\n"
     ]
    },
    {
     "name": "stdout",
     "output_type": "stream",
     "text": [
      "19:38:35\tStarting ZMB\n",
      "AGO\n",
      "MOZ\n",
      "NAM\n",
      "TZA\n"
     ]
    },
    {
     "name": "stderr",
     "output_type": "stream",
     "text": [
      "/home/wb411133/.conda/envs/ee/lib/python3.9/site-packages/pyproj/crs/crs.py:292: FutureWarning: '+init=<authority>:<code>' syntax is deprecated. '<authority>:<code>' is the preferred initialization method. When making the change, be mindful of axis order changes: https://pyproj4.github.io/pyproj/stable/gotchas.html#axis-order-changes-in-proj-6\n",
      "  projstring = _prepare_from_string(projparams)\n"
     ]
    },
    {
     "name": "stdout",
     "output_type": "stream",
     "text": [
      "19:46:47\tStarting ISR\n",
      "JOR\n",
      "LBN\n",
      "SYR\n",
      "EGY\n"
     ]
    },
    {
     "name": "stderr",
     "output_type": "stream",
     "text": [
      "/home/wb411133/.conda/envs/ee/lib/python3.9/site-packages/pyproj/crs/crs.py:292: FutureWarning: '+init=<authority>:<code>' syntax is deprecated. '<authority>:<code>' is the preferred initialization method. When making the change, be mindful of axis order changes: https://pyproj4.github.io/pyproj/stable/gotchas.html#axis-order-changes-in-proj-6\n",
      "  projstring = _prepare_from_string(projparams)\n"
     ]
    },
    {
     "name": "stdout",
     "output_type": "stream",
     "text": [
      "19:54:39\tStarting JOR\n",
      "IRQ\n",
      "ISR\n",
      "SAU\n",
      "SYR\n"
     ]
    },
    {
     "name": "stderr",
     "output_type": "stream",
     "text": [
      "/home/wb411133/.conda/envs/ee/lib/python3.9/site-packages/pyproj/crs/crs.py:292: FutureWarning: '+init=<authority>:<code>' syntax is deprecated. '<authority>:<code>' is the preferred initialization method. When making the change, be mindful of axis order changes: https://pyproj4.github.io/pyproj/stable/gotchas.html#axis-order-changes-in-proj-6\n",
      "  projstring = _prepare_from_string(projparams)\n"
     ]
    },
    {
     "name": "stdout",
     "output_type": "stream",
     "text": [
      "20:02:13\tStarting TJK\n",
      "CHN\n"
     ]
    }
   ],
   "source": [
    "importlib.reload(ict)\n",
    "num_processes = min([len(args), 20])\n",
    "with multiprocessing.Pool(num_processes) as pool:\n",
    "    res = pool.starmap(ict.calculate_country, args)"
   ]
  },
  {
   "cell_type": "code",
   "execution_count": null,
   "metadata": {
    "scrolled": true
   },
   "outputs": [],
   "source": [
    "broken = []\n",
    "for arg in args:\n",
    "    if not arg[0] in broken:\n",
    "        xx = ict.calculate_country(*args[0], debug=False)"
   ]
  },
  {
   "cell_type": "markdown",
   "metadata": {},
   "source": [
    "# Manually fixing cell distance\n",
    "The cell_dist column is coming up empty in the multiprocessing side, so it will be processed manually"
   ]
  },
  {
   "cell_type": "code",
   "execution_count": 39,
   "metadata": {},
   "outputs": [
    {
     "data": {
      "text/plain": [
       "'YEM_ICT_distance.csv'"
      ]
     },
     "execution_count": 39,
     "metadata": {},
     "output_type": "execute_result"
    }
   ],
   "source": [
    "in_files = os.listdir(out_folder)\n",
    "sel_file = in_files[0]\n",
    "sel_file"
   ]
  },
  {
   "cell_type": "code",
   "execution_count": 77,
   "metadata": {
    "scrolled": true
   },
   "outputs": [
    {
     "name": "stdout",
     "output_type": "stream",
     "text": [
      "22:51:19\tYEM_ICT_distance.csv\n",
      "22:51:52\tBOL_ICT_distance.csv\n",
      "22:52:46\tECU_ICT_distance.csv\n",
      "22:55:08\tPER_ICT_distance.csv\n",
      "23:02:08\tURY_ICT_distance.csv\n",
      "23:02:52\tARG_ICT_distance.csv\n",
      "23:32:46\tCOL_ICT_distance.csv\n",
      "23:50:17\tPRY_ICT_distance.csv\n",
      "23:50:59\tSWE_ICT_distance.csv\n",
      "02:35:39\tSDN_ICT_distance.csv\n",
      "02:35:56\tGHA_ICT_distance.csv\n",
      "02:36:26\tPAK_ICT_distance.csv\n",
      "02:56:09\tBDI_ICT_distance.csv\n",
      "02:56:10\tMAR_ICT_distance.csv\n",
      "02:57:03\tMRT_ICT_distance.csv\n",
      "02:57:08\tMDG_ICT_distance.csv\n",
      "02:57:29\tMWI_ICT_distance.csv\n",
      "02:57:33\tNGA_ICT_distance.csv\n",
      "03:00:50\tBTN_ICT_distance.csv\n",
      "03:00:51\tPHL_ICT_distance.csv\n",
      "04:31:04\tTLS_ICT_distance.csv\n",
      "04:31:05\tMYS_ICT_distance.csv\n",
      "05:07:58\tPNG_ICT_distance.csv\n",
      "05:08:14\tLSO_ICT_distance.csv\n",
      "05:08:15\tBEN_ICT_distance.csv\n",
      "05:08:38\tMLI_ICT_distance.csv\n",
      "05:09:01\tCMR_ICT_distance.csv\n",
      "05:09:48\tGIN_ICT_distance.csv\n",
      "05:10:07\tSWZ_ICT_distance.csv\n",
      "05:10:07\tCIV_ICT_distance.csv\n",
      "05:10:33\tTGO_ICT_distance.csv\n",
      "05:10:36\tDOM_ICT_distance.csv\n",
      "05:10:51\tNER_ICT_distance.csv\n",
      "05:10:59\tLBR_ICT_distance.csv\n",
      "05:11:01\tSLE_ICT_distance.csv\n",
      "05:11:02\tTCD_ICT_distance.csv\n",
      "05:11:04\tGMB_ICT_distance.csv\n",
      "05:11:04\tMOZ_ICT_distance.csv\n",
      "05:17:48\tSUR_ICT_distance.csv\n",
      "05:17:50\tGRC_ICT_distance.csv\n",
      "06:29:11\tCYP_ICT_distance.csv\n",
      "06:29:14\tMLT_ICT_distance.csv\n",
      "06:29:16\tITA_ICT_distance.csv\n",
      "07:51:23\tHTI_ICT_distance.csv\n",
      "07:51:29\tPRT_ICT_distance.csv\n",
      "07:55:54\tSOM_ICT_distance.csv\n",
      "07:55:56\tLUX_ICT_distance.csv\n",
      "07:55:59\tBEL_ICT_distance.csv\n",
      "07:58:53\tZAF_ICT_distance.csv\n",
      "08:08:37\tPAN_ICT_distance.csv\n",
      "08:10:28\tNIC_ICT_distance.csv\n",
      "08:10:44\tHND_ICT_distance.csv\n",
      "08:11:27\tSLV_ICT_distance.csv\n",
      "08:11:38\tGTM_ICT_distance.csv\n",
      "08:11:57\tCRI_ICT_distance.csv\n",
      "08:12:40\tMEX_ICT_distance.csv\n",
      "10:43:06\tCAF_ICT_distance.csv\n",
      "10:43:08\tIRQ_ICT_distance.csv\n",
      "10:44:27\tRWA_ICT_distance.csv\n",
      "10:44:28\tETH_ICT_distance.csv\n",
      "10:44:38\tUZB_ICT_distance.csv\n",
      "10:45:07\tKEN_ICT_distance.csv\n",
      "10:46:09\tTJK_ICT_distance.csv\n",
      "10:46:16\tMKD_ICT_distance.csv\n",
      "10:46:28\tDJI_ICT_distance.csv\n",
      "10:46:29\tLBN_ICT_distance.csv\n",
      "10:46:38\tALB_ICT_distance.csv\n",
      "10:46:52\tMNE_ICT_distance.csv\n",
      "10:46:56\tBGR_ICT_distance.csv\n",
      "10:48:23\tLVA_ICT_distance.csv\n",
      "10:48:33\tMMR_ICT_distance.csv\n",
      "14:07:38\tCOD_ICT_distance.csv\n",
      "14:08:46\tSRB_ICT_distance.csv\n",
      "14:10:20\tLTU_ICT_distance.csv\n",
      "14:10:33\tTUN_ICT_distance.csv\n",
      "14:11:20\tIND_ICT_distance.csv\n",
      "19:45:12\tEGY_ICT_distance.csv\n",
      "19:54:34\tSSD_ICT_distance.csv\n",
      "19:54:36\tNAM_ICT_distance.csv\n",
      "19:54:43\tSEN_ICT_distance.csv\n",
      "19:55:00\tSVN_ICT_distance.csv\n",
      "19:55:22\tVEN_ICT_distance.csv\n",
      "20:01:31\tZWE_ICT_distance.csv\n",
      "20:01:41\tKAZ_ICT_distance.csv\n",
      "20:07:42\tPOL_ICT_distance.csv\n",
      "20:27:58\tTUR_ICT_distance.csv\n",
      "21:03:39\tAFG_ICT_distance.csv\n",
      "21:05:37\tMNG_ICT_distance.csv\n",
      "21:05:45\tZMB_ICT_distance.csv\n",
      "21:06:14\tHUN_ICT_distance.csv\n",
      "21:08:52\tROU_ICT_distance.csv\n",
      "21:12:15\tVNM_ICT_distance.csv\n",
      "22:08:13\tKHM_ICT_distance.csv\n",
      "22:11:45\tSLB_ICT_distance.csv\n",
      "22:11:46\tTHA_ICT_distance.csv\n",
      "00:49:57\tLAO_ICT_distance.csv\n",
      "00:56:39\tBLR_ICT_distance.csv\n",
      "00:57:50\tNPL_ICT_distance.csv\n",
      "00:58:22\tGEO_ICT_distance.csv\n",
      "00:58:33\tKGZ_ICT_distance.csv\n",
      "00:58:58\tBIH_ICT_distance.csv\n",
      "00:59:11\tEST_ICT_distance.csv\n",
      "00:59:55\tBGD_ICT_distance.csv\n",
      "02:08:21\tUGA_ICT_distance.csv\n",
      "02:08:31\tMDA_ICT_distance.csv\n",
      "02:08:47\tISR_ICT_distance.csv\n",
      "02:09:24\tHRV_ICT_distance.csv\n",
      "02:17:50\tXKX_ICT_distance.csv\n",
      "02:17:54\tPSE_ICT_distance.csv\n",
      "02:18:06\tAZE_ICT_distance.csv\n",
      "02:18:25\tCZE_ICT_distance.csv\n",
      "02:21:40\tSVK_ICT_distance.csv\n",
      "02:22:13\tARM_ICT_distance.csv\n",
      "02:22:19\tUKR_ICT_distance.csv\n",
      "02:37:25\tTZA_ICT_distance.csv\n",
      "02:40:30\tJOR_ICT_distance.csv\n"
     ]
    }
   ],
   "source": [
    "epsg = 'epsg:6933'\n",
    "for sel_file in in_files:\n",
    "    tPrint(sel_file)\n",
    "    distD = pd.read_csv(os.path.join(out_folder, sel_file), index_col=0)\n",
    "    distD['geometry'] = distD['geometry'].apply(lambda x: wkt.loads(x))\n",
    "    distD = gpd.GeoDataFrame(distD, geometry='geometry', crs=epsg)\n",
    "    curB = inG.loc[inG['ISO3'] == sel_file[:3]]\n",
    "\n",
    "    potential_matches = inCell.loc[list(cell_sindex.intersection(curB.total_bounds))]\n",
    "    selCell = potential_matches.loc[potential_matches.intersects(curB.unary_union)]\n",
    "    selCell = selCell.to_crs(epsg)\n",
    "    distD['cell_dist'] = distD.distance(selCell.unary_union)\n",
    "    pd.DataFrame(distD).to_csv(os.path.join(out_folder, sel_file))\n",
    "\n",
    "    "
   ]
  },
  {
   "cell_type": "code",
   "execution_count": 76,
   "metadata": {},
   "outputs": [],
   "source": []
  },
  {
   "cell_type": "markdown",
   "metadata": {},
   "source": [
    "# DEBUGGING"
   ]
  },
  {
   "cell_type": "code",
   "execution_count": null,
   "metadata": {},
   "outputs": [],
   "source": [
    "importlib.reload(ict)\n",
    "\n",
    "xx = ict.calculate_country(*args[0], debug=True)"
   ]
  },
  {
   "cell_type": "code",
   "execution_count": null,
   "metadata": {},
   "outputs": [],
   "source": [
    "distD = xx[0]\n",
    "selCables = xx[1]\n",
    "curN = xx[2]\n",
    "distD.apply(lambda x: ict.get_nearest_date(x, selCables), axis=1)"
   ]
  }
 ],
 "metadata": {
  "kernelspec": {
   "display_name": "Earth Engine",
   "language": "python",
   "name": "ee"
  },
  "language_info": {
   "codemirror_mode": {
    "name": "ipython",
    "version": 3
   },
   "file_extension": ".py",
   "mimetype": "text/x-python",
   "name": "python",
   "nbconvert_exporter": "python",
   "pygments_lexer": "ipython3",
   "version": "3.9.4"
  }
 },
 "nbformat": 4,
 "nbformat_minor": 2
}
