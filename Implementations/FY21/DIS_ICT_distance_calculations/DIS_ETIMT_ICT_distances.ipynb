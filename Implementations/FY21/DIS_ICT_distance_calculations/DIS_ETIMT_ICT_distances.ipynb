{
 "cells": [
  {
   "cell_type": "code",
   "execution_count": 1,
   "metadata": {},
   "outputs": [],
   "source": [
    "import sys, os, importlib, json, multiprocessing\n",
    "import rasterio, pycountry\n",
    "import reverse_geocode\n",
    "\n",
    "import geopandas as gpd\n",
    "import pandas as pd\n",
    "\n",
    "from urllib.request import urlopen\n",
    "from shapely.geometry import Point\n",
    "from shapely.ops import nearest_points\n",
    "from shapely import wkt\n",
    "\n",
    "#Import local functions\n",
    "import ict_helper as ict\n",
    "\n",
    "# Import GOST libraries; sys.path.append will be unnecessary if libraries are already installed\n",
    "sys.path.append(\"../../../../gostrocks/src\")\n",
    "sys.path.append(\"../../../../GOST_Urban/src\")\n",
    "\n",
    "import GOSTRocks.rasterMisc as rMisc\n",
    "from GOSTRocks.misc import tPrint\n",
    "import GOST_Urban.UrbanRaster as urban\n",
    "%matplotlib inline  "
   ]
  },
  {
   "cell_type": "code",
   "execution_count": 2,
   "metadata": {},
   "outputs": [],
   "source": [
    "out_folder =  \"/home/wb411133/temp/ICT_distance\"\n"
   ]
  },
  {
   "cell_type": "code",
   "execution_count": 3,
   "metadata": {},
   "outputs": [
    {
     "name": "stdout",
     "output_type": "stream",
     "text": [
      "(121121, 9)\n",
      "(121116, 9)\n"
     ]
    },
    {
     "data": {
      "text/html": [
       "<div>\n",
       "<style scoped>\n",
       "    .dataframe tbody tr th:only-of-type {\n",
       "        vertical-align: middle;\n",
       "    }\n",
       "\n",
       "    .dataframe tbody tr th {\n",
       "        vertical-align: top;\n",
       "    }\n",
       "\n",
       "    .dataframe thead th {\n",
       "        text-align: right;\n",
       "    }\n",
       "</style>\n",
       "<table border=\"1\" class=\"dataframe\">\n",
       "  <thead>\n",
       "    <tr style=\"text-align: right;\">\n",
       "      <th></th>\n",
       "      <th>idstd</th>\n",
       "      <th>year</th>\n",
       "      <th>fyear</th>\n",
       "      <th>d2_l1_year_perf_indicators</th>\n",
       "      <th>lat_mask</th>\n",
       "      <th>lon_mask</th>\n",
       "      <th>survey</th>\n",
       "      <th>WBCode</th>\n",
       "      <th>type</th>\n",
       "    </tr>\n",
       "  </thead>\n",
       "  <tbody>\n",
       "    <tr>\n",
       "      <th>0</th>\n",
       "      <td>468901.0</td>\n",
       "      <td>2010.0</td>\n",
       "      <td>2009</td>\n",
       "      <td>2009</td>\n",
       "      <td>14.803293</td>\n",
       "      <td>49.687744</td>\n",
       "      <td>Yemen2010</td>\n",
       "      <td>YEM</td>\n",
       "      <td>Enterprise Survey</td>\n",
       "    </tr>\n",
       "    <tr>\n",
       "      <th>1</th>\n",
       "      <td>468902.0</td>\n",
       "      <td>2010.0</td>\n",
       "      <td>2009</td>\n",
       "      <td>2009</td>\n",
       "      <td>14.556620</td>\n",
       "      <td>49.129032</td>\n",
       "      <td>Yemen2010</td>\n",
       "      <td>YEM</td>\n",
       "      <td>Enterprise Survey</td>\n",
       "    </tr>\n",
       "    <tr>\n",
       "      <th>2</th>\n",
       "      <td>468903.0</td>\n",
       "      <td>2010.0</td>\n",
       "      <td>2009</td>\n",
       "      <td>2009</td>\n",
       "      <td>14.551517</td>\n",
       "      <td>49.141815</td>\n",
       "      <td>Yemen2010</td>\n",
       "      <td>YEM</td>\n",
       "      <td>Enterprise Survey</td>\n",
       "    </tr>\n",
       "    <tr>\n",
       "      <th>3</th>\n",
       "      <td>468904.0</td>\n",
       "      <td>2010.0</td>\n",
       "      <td>2009</td>\n",
       "      <td>2009</td>\n",
       "      <td>14.515405</td>\n",
       "      <td>49.125977</td>\n",
       "      <td>Yemen2010</td>\n",
       "      <td>YEM</td>\n",
       "      <td>Enterprise Survey</td>\n",
       "    </tr>\n",
       "    <tr>\n",
       "      <th>4</th>\n",
       "      <td>468905.0</td>\n",
       "      <td>2010.0</td>\n",
       "      <td>2009</td>\n",
       "      <td>2009</td>\n",
       "      <td>14.519185</td>\n",
       "      <td>49.119148</td>\n",
       "      <td>Yemen2010</td>\n",
       "      <td>YEM</td>\n",
       "      <td>Enterprise Survey</td>\n",
       "    </tr>\n",
       "  </tbody>\n",
       "</table>\n",
       "</div>"
      ],
      "text/plain": [
       "      idstd    year fyear  d2_l1_year_perf_indicators   lat_mask   lon_mask  \\\n",
       "0  468901.0  2010.0  2009                        2009  14.803293  49.687744   \n",
       "1  468902.0  2010.0  2009                        2009  14.556620  49.129032   \n",
       "2  468903.0  2010.0  2009                        2009  14.551517  49.141815   \n",
       "3  468904.0  2010.0  2009                        2009  14.515405  49.125977   \n",
       "4  468905.0  2010.0  2009                        2009  14.519185  49.119148   \n",
       "\n",
       "      survey WBCode               type  \n",
       "0  Yemen2010    YEM  Enterprise Survey  \n",
       "1  Yemen2010    YEM  Enterprise Survey  \n",
       "2  Yemen2010    YEM  Enterprise Survey  \n",
       "3  Yemen2010    YEM  Enterprise Survey  \n",
       "4  Yemen2010    YEM  Enterprise Survey  "
      ]
     },
     "execution_count": 3,
     "metadata": {},
     "output_type": "execute_result"
    }
   ],
   "source": [
    "wbes_coords = \"/home/wb411133/data/Projects/ICT_Distance/Data/Masked ES GPS April 15-2021_year.dta\"\n",
    "inD = pd.read_stata(wbes_coords)\n",
    "print(inD.shape)\n",
    "# filter data with broken coordinates\n",
    "inD = inD.loc[(inD['lat_mask'] > -90) & (inD['lat_mask'] < 90) & (inD['lon_mask'] > -180) & (inD['lon_mask'] < 180)]\n",
    "print(inD.shape)\n",
    "inD.head()"
   ]
  },
  {
   "cell_type": "code",
   "execution_count": 4,
   "metadata": {
    "scrolled": true
   },
   "outputs": [
    {
     "name": "stdout",
     "output_type": "stream",
     "text": [
      "CHL\n",
      "RUS\n",
      "CHN\n",
      "BIH\n",
      "XKX\n",
      "HRV\n",
      "POL\n",
      "IDN\n"
     ]
    }
   ],
   "source": [
    "countries = inD['WBCode'].unique()\n",
    "for c in countries:\n",
    "    if not os.path.exists(f'/home/wb411133/temp/ICT_distance/{c}_ICT_distance.csv'):\n",
    "        print(c)"
   ]
  },
  {
   "cell_type": "code",
   "execution_count": 5,
   "metadata": {},
   "outputs": [],
   "source": [
    "geoms = [Point(row['lon_mask'], row['lat_mask']) for idx, row in inD.iterrows()]\n",
    "inD = gpd.GeoDataFrame(inD, geometry=geoms, crs = 'epsg:4326')\n",
    "inD['d2_l1_year_perf_indicators'] = inD['d2_l1_year_perf_indicators'].astype(int)"
   ]
  },
  {
   "cell_type": "code",
   "execution_count": 6,
   "metadata": {},
   "outputs": [],
   "source": [
    "global_bounds = \"/home/public/Data/GLOBAL/ADMIN/Admin0_Polys.shp\"\n",
    "inG = gpd.read_file(global_bounds)\n",
    "inG = inG.to_crs('epsg:4326')\n",
    "inG.loc[inG['ISO3'] == 'KSV', 'ISO3'] = 'XKX'"
   ]
  },
  {
   "cell_type": "markdown",
   "metadata": {},
   "source": [
    "# Open and load infrastructure data"
   ]
  },
  {
   "cell_type": "code",
   "execution_count": 7,
   "metadata": {},
   "outputs": [],
   "source": [
    "openCellID = \"/home/public/Data/GLOBAL/INFRA/OPENCELLID/cell_towers_2020-04-15-T000000.csv\"    \n",
    "ixp_file = '/home/public/Data/GLOBAL/INFRA/IXPS/ixps_global_geocoded.csv'\n",
    "colocation_file = '/home/public/Data/GLOBAL/INFRA/DATA_CENTERS/Data_Centers.geojson'\n",
    "cell_coverage_folder = '/home/public/Data/GLOBAL/INFRA/GSMA/2019/MCE/Data_MCE/Global'\n",
    "cell_files = ['MCE_Global2G_2020.tif', 'MCE_Global3G_2020.tif', 'MCE_Global4G_2020.tif']\n",
    "submarine_cable_file = '/home/public/Data/GLOBAL/INFRA/SUBMARINE_CABLES/landing-point-geo.json'"
   ]
  },
  {
   "cell_type": "code",
   "execution_count": 8,
   "metadata": {},
   "outputs": [
    {
     "name": "stderr",
     "output_type": "stream",
     "text": [
      "/home/wb411133/.conda/envs/ee/lib/python3.9/site-packages/pyproj/crs/crs.py:68: FutureWarning: '+init=<authority>:<code>' syntax is deprecated. '<authority>:<code>' is the preferred initialization method. When making the change, be mindful of axis order changes: https://pyproj4.github.io/pyproj/stable/gotchas.html#axis-order-changes-in-proj-6\n",
      "  return _prepare_from_string(\" \".join(pjargs))\n"
     ]
    }
   ],
   "source": [
    "inCell = pd.read_csv(openCellID)\n",
    "inD_geom = [Point(x) for x in zip(inCell['lon'], inCell['lat'])]\n",
    "inCell = gpd.GeoDataFrame(inCell, geometry = inD_geom, crs = {'init':'epsg:4326'})"
   ]
  },
  {
   "cell_type": "code",
   "execution_count": 9,
   "metadata": {},
   "outputs": [],
   "source": [
    "cell_sindex = inCell.sindex"
   ]
  },
  {
   "cell_type": "code",
   "execution_count": 10,
   "metadata": {},
   "outputs": [],
   "source": [
    "inCol = gpd.read_file(colocation_file)"
   ]
  },
  {
   "cell_type": "code",
   "execution_count": 11,
   "metadata": {},
   "outputs": [],
   "source": [
    "# Load submarine cables - load landing points, identify RFS attributes from combined other data\n",
    "#     final dataset needs landing points with RFS dates\n",
    "landing_points = gpd.read_file('https://raw.githubusercontent.com/telegeography/www.submarinecablemap.com/master/web/public/api/v3/landing-point/landing-point-geo.json')                                \n",
    "cables = gpd.read_file('https://raw.githubusercontent.com/telegeography/www.submarinecablemap.com/master/web/public/api/v3/cable/cable-geo.json')                        \n",
    "cables_json_base = 'https://raw.githubusercontent.com/telegeography/www.submarinecablemap.com/master/web/public/api/v3/cable/{cable_id}.json'"
   ]
  },
  {
   "cell_type": "code",
   "execution_count": 12,
   "metadata": {},
   "outputs": [],
   "source": [
    "all_landing_points = []\n",
    "for cur_id in cables['id']:\n",
    "    response = urlopen(cables_json_base.format(cable_id = cur_id))\n",
    "    json_data = response.read().decode()\n",
    "    d = json.loads(json_data)\n",
    "    l_points = d['landing_points']\n",
    "    for item in l_points:\n",
    "        try:\n",
    "            item['RFS'] = int(d['rfs'][:4])\n",
    "            all_landing_points.append(item)\n",
    "        except:\n",
    "            pass"
   ]
  },
  {
   "cell_type": "code",
   "execution_count": 13,
   "metadata": {
    "scrolled": true
   },
   "outputs": [],
   "source": [
    "landing_point_rfs = pd.DataFrame(all_landing_points)\n",
    "lp_data = pd.merge(landing_point_rfs, landing_points, on=\"id\")\n",
    "lp_data = gpd.GeoDataFrame(lp_data, geometry='geometry', crs='epsg:4326')\n",
    "\n",
    "def try_country(x):\n",
    "    try:\n",
    "        return(pycountry.countries.search_fuzzy(x)[0].alpha_3)\n",
    "    except:\n",
    "        return('')\n",
    "\n",
    "lp_data['ISO3'] = lp_data['country'].apply(lambda x: try_country(x))\n",
    "lp_data.drop(['name_x', 'is_tbd_x'], axis=1, inplace=True)\n",
    "lp_data.columns = ['id', 'country', 'RFS', 'name', 'is_tbd', 'geometry', 'ISO3']\n",
    "inCables = lp_data"
   ]
  },
  {
   "cell_type": "code",
   "execution_count": 14,
   "metadata": {},
   "outputs": [],
   "source": [
    "inIXP = pd.read_csv(ixp_file, index_col=0)\n",
    "inD_geom = [Point(x) for x in zip(inIXP['Lon'], inIXP['Lat'])]\n",
    "inIXP = gpd.GeoDataFrame(inIXP, geometry = inD_geom, crs = {'init':'epsg:4326'})"
   ]
  },
  {
   "cell_type": "code",
   "execution_count": 15,
   "metadata": {},
   "outputs": [],
   "source": [
    "gsma2g_R = rasterio.open(os.path.join(cell_coverage_folder, cell_files[0]))\n",
    "gsma3g_R = rasterio.open(os.path.join(cell_coverage_folder, cell_files[1]))\n",
    "gsma4g_R = rasterio.open(os.path.join(cell_coverage_folder, cell_files[2]))"
   ]
  },
  {
   "cell_type": "markdown",
   "metadata": {},
   "source": [
    "# Calculate distances"
   ]
  },
  {
   "cell_type": "code",
   "execution_count": 26,
   "metadata": {
    "scrolled": true
   },
   "outputs": [
    {
     "name": "stdout",
     "output_type": "stream",
     "text": [
      "13:27:26\t***** Processing YEM\n",
      "13:27:26\t***** Processing BOL\n",
      "13:27:26\t***** Processing ECU\n",
      "13:27:26\t***** Processing PER\n",
      "13:27:26\t***** Processing URY\n",
      "13:27:26\t***** Processing ARG\n",
      "13:27:26\t***** Processing CHL\n",
      "13:27:26\t***** Processing COL\n",
      "13:27:26\t***** Processing PRY\n",
      "13:27:26\t***** Processing VEN\n",
      "13:27:26\t***** Processing PAN\n",
      "13:27:26\t***** Processing NIC\n",
      "13:27:26\t***** Processing HND\n",
      "13:27:26\t***** Processing SLV\n",
      "13:27:26\t***** Processing GTM\n",
      "13:27:26\t***** Processing CRI\n",
      "13:27:26\t***** Processing MEX\n",
      "13:27:26\t***** Processing CAF\n",
      "13:27:26\t***** Processing IRQ\n",
      "13:27:26\t***** Processing ZWE\n",
      "13:27:26\t***** Processing RUS\n",
      "13:27:26\t***** Processing RWA\n",
      "13:27:26\t***** Processing ETH\n",
      "13:27:26\t***** Processing CHN\n",
      "13:27:26\t***** Processing BLR\n",
      "13:27:26\t***** Processing NPL\n",
      "13:27:26\t***** Processing PSE\n",
      "13:27:26\t***** Processing GEO\n",
      "13:27:26\t***** Processing AZE\n",
      "13:27:26\t***** Processing KGZ\n",
      "13:27:26\t***** Processing KAZ\n",
      "13:27:26\t***** Processing BGD\n",
      "13:27:26\t***** Processing ARM\n",
      "13:27:26\t***** Processing AFG\n",
      "13:27:26\t***** Processing UGA\n",
      "13:27:26\t***** Processing UKR\n",
      "13:27:26\t***** Processing UZB\n",
      "13:27:26\t***** Processing MNG\n",
      "13:27:26\t***** Processing MDA\n",
      "13:27:26\t***** Processing TZA\n",
      "13:27:26\t***** Processing KEN\n",
      "13:27:26\t***** Processing BGR\n",
      "13:27:26\t***** Processing SRB\n",
      "13:27:26\t***** Processing ZMB\n",
      "13:27:26\t***** Processing BIH\n",
      "13:27:26\t***** Processing ALB\n",
      "13:27:26\t***** Processing XKX\n"
     ]
    },
    {
     "name": "stderr",
     "output_type": "stream",
     "text": [
      "<ipython-input-26-cd4d1a613fee>:15: UserWarning: Geometry is in a geographic CRS. Results from 'buffer' are likely incorrect. Use 'GeoSeries.to_crs()' to re-project geometries to a projected CRS before this operation.\n",
      "\n",
      "  curN = inG.loc[inG.intersects(curB.buffer(0.01).unary_union)]\n"
     ]
    },
    {
     "name": "stdout",
     "output_type": "stream",
     "text": [
      "13:27:26\t***** Processing HRV\n",
      "13:27:26\t***** Processing MKD\n",
      "13:27:26\t***** Processing SVN\n",
      "13:27:26\t***** Processing MNE\n",
      "13:27:26\t***** Processing DJI\n",
      "13:27:26\t***** Processing LBN\n",
      "13:27:26\t***** Processing ISR\n",
      "13:27:26\t***** Processing JOR\n",
      "13:27:26\t***** Processing ROU\n",
      "13:27:26\t***** Processing LVA\n",
      "13:27:26\t***** Processing MMR\n",
      "13:27:26\t***** Processing COD\n",
      "13:27:26\t***** Processing TJK\n",
      "13:27:26\t***** Processing EST\n",
      "13:27:26\t***** Processing HUN\n",
      "13:27:26\t***** Processing LTU\n",
      "13:27:26\t***** Processing POL\n",
      "13:27:26\t***** Processing CZE\n",
      "13:27:26\t***** Processing SVK\n",
      "13:27:26\t***** Processing TUR\n",
      "13:27:26\t***** Processing SWE\n",
      "13:27:26\t***** Processing GHA\n",
      "13:27:26\t***** Processing MDG\n",
      "13:27:26\t***** Processing IND\n",
      "13:27:26\t***** Processing TUN\n",
      "13:27:26\t***** Processing EGY\n",
      "13:27:26\t***** Processing SEN\n",
      "13:27:26\t***** Processing MRT\n",
      "13:27:26\t***** Processing BDI\n",
      "13:27:26\t***** Processing SSD\n",
      "13:27:26\t***** Processing NAM\n",
      "13:27:26\t***** Processing SDN\n",
      "13:27:26\t***** Processing PAK\n",
      "13:27:26\t***** Processing MAR\n",
      "13:27:26\t***** Processing MWI\n",
      "13:27:26\t***** Processing NGA\n",
      "13:27:26\t***** Processing BTN\n",
      "13:27:26\t***** Processing IDN\n",
      "13:27:26\t***** Processing VNM\n",
      "13:27:26\t***** Processing SLB\n",
      "13:27:26\t***** Processing PHL\n",
      "13:27:26\t***** Processing KHM\n",
      "13:27:26\t***** Processing TLS\n",
      "13:27:26\t***** Processing LAO\n",
      "13:27:26\t***** Processing MYS\n",
      "13:27:26\t***** Processing PNG\n",
      "13:27:26\t***** Processing THA\n",
      "13:27:26\t***** Processing LSO\n",
      "13:27:26\t***** Processing BEN\n",
      "13:27:26\t***** Processing MLI\n",
      "13:27:26\t***** Processing CMR\n",
      "13:27:26\t***** Processing GIN\n",
      "13:27:26\t***** Processing SWZ\n",
      "13:27:26\t***** Processing CIV\n",
      "13:27:26\t***** Processing TGO\n",
      "13:27:26\t***** Processing DOM\n",
      "13:27:26\t***** Processing NER\n",
      "13:27:26\t***** Processing LBR\n",
      "13:27:26\t***** Processing SLE\n",
      "13:27:26\t***** Processing TCD\n",
      "13:27:26\t***** Processing GMB\n",
      "13:27:26\t***** Processing MOZ\n",
      "13:27:26\t***** Processing SUR\n",
      "13:27:26\t***** Processing GRC\n",
      "13:27:26\t***** Processing CYP\n",
      "13:27:26\t***** Processing MLT\n",
      "13:27:26\t***** Processing ITA\n",
      "13:27:26\t***** Processing HTI\n",
      "13:27:26\t***** Processing PRT\n",
      "13:27:26\t***** Processing SOM\n",
      "13:27:26\t***** Processing LUX\n",
      "13:27:26\t***** Processing BEL\n",
      "13:27:26\t***** Processing ZAF\n"
     ]
    }
   ],
   "source": [
    "broken_countries = ['CHL','RUS','CHN','IDN']\n",
    "n_processes = 30\n",
    "epsg = 'epsg:6933'\n",
    "if not os.path.exists(out_folder):\n",
    "    os.makedirs(out_folder)\n",
    "args = []\n",
    "for cur_country in inD['WBCode'].unique():\n",
    "    out_file = os.path.join(out_folder, \"%s_ICT_distance.csv\" % cur_country)\n",
    "    tPrint(f\"***** Processing {cur_country}\")\n",
    "    if not os.path.exists(out_file) and not cur_country in broken_countries: #  \n",
    "        curD = inD.loc[inD['WBCode'] == cur_country]\n",
    "        if curD.shape[0] > 0:\n",
    "            total_bound = inG.loc[inG['ISO3'] == cur_country].unary_union\n",
    "            curB = inG.loc[inG['ISO3'] == cur_country]\n",
    "            curN = inG.loc[inG.intersects(curB.buffer(0.01).unary_union)]\n",
    "            curN = curN.loc[curN['ISO3'] != cur_country]        \n",
    "            selCol = inCol.loc[inCol['geometry'].apply(lambda x: x.intersects(total_bound))]\n",
    "            selIXP = inIXP.loc[inIXP['geometry'].apply(lambda x: x.intersects(total_bound))]                \n",
    "            args.append([cur_country, curD, curB, curN, out_file, selCol, selIXP, inCables, inCell, epsg])\n"
   ]
  },
  {
   "cell_type": "code",
   "execution_count": 27,
   "metadata": {},
   "outputs": [
    {
     "name": "stdout",
     "output_type": "stream",
     "text": [
      "Processing 1 of 120\n"
     ]
    }
   ],
   "source": [
    "print(f\"Processing {len(args)} of {len(inD['WBCode'].unique())}\")"
   ]
  },
  {
   "cell_type": "code",
   "execution_count": 28,
   "metadata": {},
   "outputs": [
    {
     "name": "stdout",
     "output_type": "stream",
     "text": [
      "XKX\n"
     ]
    }
   ],
   "source": [
    "for arg in args:\n",
    "    print(arg[0])"
   ]
  },
  {
   "cell_type": "code",
   "execution_count": 29,
   "metadata": {
    "scrolled": true
   },
   "outputs": [
    {
     "name": "stderr",
     "output_type": "stream",
     "text": [
      "/home/wb411133/.conda/envs/ee/lib/python3.9/site-packages/pyproj/crs/crs.py:292: FutureWarning: '+init=<authority>:<code>' syntax is deprecated. '<authority>:<code>' is the preferred initialization method. When making the change, be mindful of axis order changes: https://pyproj4.github.io/pyproj/stable/gotchas.html#axis-order-changes-in-proj-6\n",
      "  projstring = _prepare_from_string(projparams)\n"
     ]
    },
    {
     "name": "stdout",
     "output_type": "stream",
     "text": [
      "13:38:33\tStarting XKX\n",
      "ALB\n"
     ]
    }
   ],
   "source": [
    "importlib.reload(ict)\n",
    "num_processes = min([len(args), 20])\n",
    "with multiprocessing.Pool(num_processes) as pool:\n",
    "    res = pool.starmap(ict.calculate_country, args)"
   ]
  },
  {
   "cell_type": "code",
   "execution_count": 25,
   "metadata": {},
   "outputs": [],
   "source": []
  },
  {
   "cell_type": "code",
   "execution_count": null,
   "metadata": {
    "scrolled": true
   },
   "outputs": [],
   "source": [
    "broken = []\n",
    "for arg in args:\n",
    "    if not arg[0] in broken:\n",
    "        xx = ict.calculate_country(*args[0], debug=False)"
   ]
  },
  {
   "cell_type": "markdown",
   "metadata": {},
   "source": [
    "# DEBUGGING"
   ]
  },
  {
   "cell_type": "code",
   "execution_count": null,
   "metadata": {},
   "outputs": [],
   "source": [
    "importlib.reload(ict)\n",
    "\n",
    "xx = ict.calculate_country(*args[0], debug=True)"
   ]
  },
  {
   "cell_type": "code",
   "execution_count": null,
   "metadata": {},
   "outputs": [],
   "source": [
    "distD = xx[0]\n",
    "selCables = xx[1]\n",
    "curN = xx[2]\n",
    "distD.apply(lambda x: ict.get_nearest_date(x, selCables), axis=1)"
   ]
  }
 ],
 "metadata": {
  "kernelspec": {
   "display_name": "Earth Engine",
   "language": "python",
   "name": "ee"
  },
  "language_info": {
   "codemirror_mode": {
    "name": "ipython",
    "version": 3
   },
   "file_extension": ".py",
   "mimetype": "text/x-python",
   "name": "python",
   "nbconvert_exporter": "python",
   "pygments_lexer": "ipython3",
   "version": "3.9.4"
  }
 },
 "nbformat": 4,
 "nbformat_minor": 2
}
