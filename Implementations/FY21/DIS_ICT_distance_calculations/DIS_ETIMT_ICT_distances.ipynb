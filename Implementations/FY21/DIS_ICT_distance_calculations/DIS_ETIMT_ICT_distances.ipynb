{
 "cells": [
  {
   "cell_type": "code",
   "execution_count": 15,
   "metadata": {},
   "outputs": [],
   "source": [
    "import sys, os, importlib, json, multiprocessing\n",
    "import rasterio, pycountry\n",
    "import reverse_geocode\n",
    "\n",
    "import geopandas as gpd\n",
    "import pandas as pd\n",
    "\n",
    "from urllib.request import urlopen\n",
    "from shapely.geometry import Point\n",
    "from shapely.ops import nearest_points\n",
    "from shapely import wkt\n",
    "\n",
    "#Import local functions\n",
    "import ict_helper as ict\n",
    "\n",
    "# Import GOST libraries; sys.path.append will be unnecessary if libraries are already installed\n",
    "sys.path.append(\"../../../../gostrocks/src\")\n",
    "sys.path.append(\"../../../../GOST_Urban/src\")\n",
    "\n",
    "import GOSTRocks.rasterMisc as rMisc\n",
    "from GOSTRocks.misc import tPrint\n",
    "import GOST_Urban.UrbanRaster as urban\n",
    "%matplotlib inline  "
   ]
  },
  {
   "cell_type": "code",
   "execution_count": 16,
   "metadata": {},
   "outputs": [],
   "source": [
    "out_folder =  \"/home/wb411133/temp/ICT_distance\"\n"
   ]
  },
  {
   "cell_type": "code",
   "execution_count": 17,
   "metadata": {},
   "outputs": [
    {
     "name": "stdout",
     "output_type": "stream",
     "text": [
      "(121121, 9)\n",
      "(121116, 9)\n"
     ]
    },
    {
     "data": {
      "text/html": [
       "<div>\n",
       "<style scoped>\n",
       "    .dataframe tbody tr th:only-of-type {\n",
       "        vertical-align: middle;\n",
       "    }\n",
       "\n",
       "    .dataframe tbody tr th {\n",
       "        vertical-align: top;\n",
       "    }\n",
       "\n",
       "    .dataframe thead th {\n",
       "        text-align: right;\n",
       "    }\n",
       "</style>\n",
       "<table border=\"1\" class=\"dataframe\">\n",
       "  <thead>\n",
       "    <tr style=\"text-align: right;\">\n",
       "      <th></th>\n",
       "      <th>idstd</th>\n",
       "      <th>year</th>\n",
       "      <th>fyear</th>\n",
       "      <th>d2_l1_year_perf_indicators</th>\n",
       "      <th>lat_mask</th>\n",
       "      <th>lon_mask</th>\n",
       "      <th>survey</th>\n",
       "      <th>WBCode</th>\n",
       "      <th>type</th>\n",
       "    </tr>\n",
       "  </thead>\n",
       "  <tbody>\n",
       "    <tr>\n",
       "      <th>0</th>\n",
       "      <td>468901.0</td>\n",
       "      <td>2010.0</td>\n",
       "      <td>2009</td>\n",
       "      <td>2009</td>\n",
       "      <td>14.803293</td>\n",
       "      <td>49.687744</td>\n",
       "      <td>Yemen2010</td>\n",
       "      <td>YEM</td>\n",
       "      <td>Enterprise Survey</td>\n",
       "    </tr>\n",
       "    <tr>\n",
       "      <th>1</th>\n",
       "      <td>468902.0</td>\n",
       "      <td>2010.0</td>\n",
       "      <td>2009</td>\n",
       "      <td>2009</td>\n",
       "      <td>14.556620</td>\n",
       "      <td>49.129032</td>\n",
       "      <td>Yemen2010</td>\n",
       "      <td>YEM</td>\n",
       "      <td>Enterprise Survey</td>\n",
       "    </tr>\n",
       "    <tr>\n",
       "      <th>2</th>\n",
       "      <td>468903.0</td>\n",
       "      <td>2010.0</td>\n",
       "      <td>2009</td>\n",
       "      <td>2009</td>\n",
       "      <td>14.551517</td>\n",
       "      <td>49.141815</td>\n",
       "      <td>Yemen2010</td>\n",
       "      <td>YEM</td>\n",
       "      <td>Enterprise Survey</td>\n",
       "    </tr>\n",
       "    <tr>\n",
       "      <th>3</th>\n",
       "      <td>468904.0</td>\n",
       "      <td>2010.0</td>\n",
       "      <td>2009</td>\n",
       "      <td>2009</td>\n",
       "      <td>14.515405</td>\n",
       "      <td>49.125977</td>\n",
       "      <td>Yemen2010</td>\n",
       "      <td>YEM</td>\n",
       "      <td>Enterprise Survey</td>\n",
       "    </tr>\n",
       "    <tr>\n",
       "      <th>4</th>\n",
       "      <td>468905.0</td>\n",
       "      <td>2010.0</td>\n",
       "      <td>2009</td>\n",
       "      <td>2009</td>\n",
       "      <td>14.519185</td>\n",
       "      <td>49.119148</td>\n",
       "      <td>Yemen2010</td>\n",
       "      <td>YEM</td>\n",
       "      <td>Enterprise Survey</td>\n",
       "    </tr>\n",
       "  </tbody>\n",
       "</table>\n",
       "</div>"
      ],
      "text/plain": [
       "      idstd    year fyear  d2_l1_year_perf_indicators   lat_mask   lon_mask  \\\n",
       "0  468901.0  2010.0  2009                        2009  14.803293  49.687744   \n",
       "1  468902.0  2010.0  2009                        2009  14.556620  49.129032   \n",
       "2  468903.0  2010.0  2009                        2009  14.551517  49.141815   \n",
       "3  468904.0  2010.0  2009                        2009  14.515405  49.125977   \n",
       "4  468905.0  2010.0  2009                        2009  14.519185  49.119148   \n",
       "\n",
       "      survey WBCode               type  \n",
       "0  Yemen2010    YEM  Enterprise Survey  \n",
       "1  Yemen2010    YEM  Enterprise Survey  \n",
       "2  Yemen2010    YEM  Enterprise Survey  \n",
       "3  Yemen2010    YEM  Enterprise Survey  \n",
       "4  Yemen2010    YEM  Enterprise Survey  "
      ]
     },
     "execution_count": 17,
     "metadata": {},
     "output_type": "execute_result"
    }
   ],
   "source": [
    "wbes_coords = \"/home/wb411133/data/Projects/ICT_Distance/Data/Masked ES GPS April 15-2021_year.dta\"\n",
    "inD = pd.read_stata(wbes_coords)\n",
    "print(inD.shape)\n",
    "# filter data with broken coordinates\n",
    "inD = inD.loc[(inD['lat_mask'] > -90) & (inD['lat_mask'] < 90) & (inD['lon_mask'] > -180) & (inD['lon_mask'] < 180)]\n",
    "print(inD.shape)\n",
    "inD.head()"
   ]
  },
  {
   "cell_type": "code",
   "execution_count": 18,
   "metadata": {
    "scrolled": true
   },
   "outputs": [
    {
     "name": "stdout",
     "output_type": "stream",
     "text": [
      "CHL\n",
      "RUS\n",
      "CHN\n",
      "IDN\n",
      "THA\n"
     ]
    }
   ],
   "source": [
    "countries = inD['WBCode'].unique()\n",
    "for c in countries:\n",
    "    if not os.path.exists(f'/home/wb411133/temp/ICT_distance/{c}_ICT_distance.csv'):\n",
    "        print(c)"
   ]
  },
  {
   "cell_type": "code",
   "execution_count": 19,
   "metadata": {},
   "outputs": [],
   "source": [
    "geoms = [Point(row['lon_mask'], row['lat_mask']) for idx, row in inD.iterrows()]\n",
    "inD = gpd.GeoDataFrame(inD, geometry=geoms, crs = 'epsg:4326')\n",
    "inD['d2_l1_year_perf_indicators'] = inD['d2_l1_year_perf_indicators'].astype(int)"
   ]
  },
  {
   "cell_type": "code",
   "execution_count": 20,
   "metadata": {},
   "outputs": [],
   "source": [
    "global_bounds = \"/home/public/Data/GLOBAL/ADMIN/Admin0_Polys.shp\"\n",
    "inG = gpd.read_file(global_bounds)\n",
    "inG = inG.to_crs('epsg:4326')\n",
    "inG.loc[inG['ISO3'] == 'KSV', 'ISO3'] = 'XKX'"
   ]
  },
  {
   "cell_type": "markdown",
   "metadata": {},
   "source": [
    "# Open and load infrastructure data"
   ]
  },
  {
   "cell_type": "code",
   "execution_count": 21,
   "metadata": {},
   "outputs": [],
   "source": [
    "openCellID = \"/home/public/Data/GLOBAL/INFRA/OPENCELLID/cell_towers_2020-04-15-T000000.csv\"    \n",
    "ixp_file = '/home/public/Data/GLOBAL/INFRA/IXPS/ixps_global_geocoded.csv'\n",
    "colocation_file = '/home/public/Data/GLOBAL/INFRA/DATA_CENTERS/Data_Centers.geojson'\n",
    "cell_coverage_folder = '/home/public/Data/GLOBAL/INFRA/GSMA/2019/MCE/Data_MCE/Global'\n",
    "cell_files = ['MCE_Global2G_2020.tif', 'MCE_Global3G_2020.tif', 'MCE_Global4G_2020.tif']\n",
    "submarine_cable_file = '/home/public/Data/GLOBAL/INFRA/SUBMARINE_CABLES/landing-point-geo.json'"
   ]
  },
  {
   "cell_type": "code",
   "execution_count": 22,
   "metadata": {},
   "outputs": [
    {
     "name": "stderr",
     "output_type": "stream",
     "text": [
      "/home/wb411133/.conda/envs/ee/lib/python3.9/site-packages/pyproj/crs/crs.py:68: FutureWarning: '+init=<authority>:<code>' syntax is deprecated. '<authority>:<code>' is the preferred initialization method. When making the change, be mindful of axis order changes: https://pyproj4.github.io/pyproj/stable/gotchas.html#axis-order-changes-in-proj-6\n",
      "  return _prepare_from_string(\" \".join(pjargs))\n"
     ]
    }
   ],
   "source": [
    "inCell = pd.read_csv(openCellID)\n",
    "inD_geom = [Point(x) for x in zip(inCell['lon'], inCell['lat'])]\n",
    "inCell = gpd.GeoDataFrame(inCell, geometry = inD_geom, crs = {'init':'epsg:4326'})"
   ]
  },
  {
   "cell_type": "code",
   "execution_count": 23,
   "metadata": {},
   "outputs": [],
   "source": [
    "cell_sindex = inCell.sindex"
   ]
  },
  {
   "cell_type": "code",
   "execution_count": 24,
   "metadata": {},
   "outputs": [],
   "source": [
    "inCol = gpd.read_file(colocation_file)"
   ]
  },
  {
   "cell_type": "code",
   "execution_count": 27,
   "metadata": {},
   "outputs": [],
   "source": [
    "# Load submarine cables - load landing points, identify RFS attributes from combined other data\n",
    "#     final dataset needs landing points with RFS dates\n",
    "landing_points = gpd.read_file('https://www.submarinecablemap.com/api/v3/landing-point/landing-point-geo.json')                                 \n",
    "cables = gpd.read_file('https://www.submarinecablemap.com/api/v3/cable/cable-geo.json')                        \n",
    "cables_json_base = 'https://www.submarinecablemap.com/api/v3/cable/{cable_id}.json'"
   ]
  },
  {
   "cell_type": "code",
   "execution_count": 28,
   "metadata": {},
   "outputs": [],
   "source": [
    "all_landing_points = []\n",
    "for cur_id in cables['id']:\n",
    "    response = urlopen(cables_json_base.format(cable_id = cur_id))\n",
    "    json_data = response.read().decode()\n",
    "    d = json.loads(json_data)\n",
    "    l_points = d['landing_points']\n",
    "    for item in l_points:\n",
    "        try:\n",
    "            item['RFS'] = int(d['rfs'][:4])\n",
    "            all_landing_points.append(item)\n",
    "        except:\n",
    "            pass"
   ]
  },
  {
   "cell_type": "code",
   "execution_count": 29,
   "metadata": {
    "scrolled": true
   },
   "outputs": [],
   "source": [
    "landing_point_rfs = pd.DataFrame(all_landing_points)\n",
    "lp_data = pd.merge(landing_point_rfs, landing_points, on=\"id\")\n",
    "lp_data = gpd.GeoDataFrame(lp_data, geometry='geometry', crs='epsg:4326')\n",
    "\n",
    "def try_country(x):\n",
    "    try:\n",
    "        return(pycountry.countries.search_fuzzy(x)[0].alpha_3)\n",
    "    except:\n",
    "        return('')\n",
    "\n",
    "lp_data['ISO3'] = lp_data['country'].apply(lambda x: try_country(x))\n",
    "lp_data.drop(['name_x', 'is_tbd_x'], axis=1, inplace=True)\n",
    "lp_data.columns = ['id', 'country', 'RFS', 'name', 'is_tbd', 'geometry', 'ISO3']\n",
    "inCables = lp_data"
   ]
  },
  {
   "cell_type": "code",
   "execution_count": 30,
   "metadata": {},
   "outputs": [],
   "source": [
    "inIXP = pd.read_csv(ixp_file, index_col=0)\n",
    "inD_geom = [Point(x) for x in zip(inIXP['Lon'], inIXP['Lat'])]\n",
    "inIXP = gpd.GeoDataFrame(inIXP, geometry = inD_geom, crs = {'init':'epsg:4326'})"
   ]
  },
  {
   "cell_type": "code",
   "execution_count": 31,
   "metadata": {},
   "outputs": [],
   "source": [
    "gsma2g_R = rasterio.open(os.path.join(cell_coverage_folder, cell_files[0]))\n",
    "gsma3g_R = rasterio.open(os.path.join(cell_coverage_folder, cell_files[1]))\n",
    "gsma4g_R = rasterio.open(os.path.join(cell_coverage_folder, cell_files[2]))"
   ]
  },
  {
   "cell_type": "markdown",
   "metadata": {},
   "source": [
    "# Calculate distances"
   ]
  },
  {
   "cell_type": "code",
   "execution_count": 32,
   "metadata": {
    "scrolled": true
   },
   "outputs": [
    {
     "name": "stdout",
     "output_type": "stream",
     "text": [
      "15:55:47\t***** Processing THA\n"
     ]
    },
    {
     "name": "stderr",
     "output_type": "stream",
     "text": [
      "<ipython-input-32-98b32ad159fa>:15: UserWarning: Geometry is in a geographic CRS. Results from 'buffer' are likely incorrect. Use 'GeoSeries.to_crs()' to re-project geometries to a projected CRS before this operation.\n",
      "\n",
      "  curN = inG.loc[inG.intersects(curB.buffer(0.01).unary_union)]\n"
     ]
    }
   ],
   "source": [
    "broken_countries = ['CHL','RUS','CHN','IDN']\n",
    "n_processes = 30\n",
    "epsg = 'epsg:6933'\n",
    "if not os.path.exists(out_folder):\n",
    "    os.makedirs(out_folder)\n",
    "args = []\n",
    "for cur_country in ['THA']: #inD['WBCode'].unique():\n",
    "    out_file = os.path.join(out_folder, \"%s_ICT_distance.csv\" % cur_country)\n",
    "    tPrint(f\"***** Processing {cur_country}\")\n",
    "    if not cur_country in broken_countries and not os.path.exists(out_file):\n",
    "        curD = inD.loc[inD['WBCode'] == cur_country]\n",
    "        if curD.shape[0] > 0:\n",
    "            total_bound = inG.loc[inG['ISO3'] == cur_country].unary_union\n",
    "            curB = inG.loc[inG['ISO3'] == cur_country]\n",
    "            curN = inG.loc[inG.intersects(curB.buffer(0.01).unary_union)]\n",
    "            curN = curN.loc[curN['ISO3'] != cur_country]        \n",
    "            selCol = inCol.loc[inCol['geometry'].apply(lambda x: x.intersects(total_bound))]\n",
    "            selIXP = inIXP.loc[inIXP['geometry'].apply(lambda x: x.intersects(total_bound))]                \n",
    "            args.append([cur_country, curD, curB, curN, out_file, selCol, selIXP, inCables, inCell, epsg])\n"
   ]
  },
  {
   "cell_type": "code",
   "execution_count": null,
   "metadata": {},
   "outputs": [],
   "source": [
    "for arg in args:\n",
    "    print(arg[0])"
   ]
  },
  {
   "cell_type": "code",
   "execution_count": null,
   "metadata": {
    "scrolled": true
   },
   "outputs": [],
   "source": [
    "importlib.reload(ict)\n",
    "num_processes = min([len(args), 20])\n",
    "with multiprocessing.Pool(num_processes) as pool:\n",
    "    res = pool.starmap(ict.calculate_country, args)"
   ]
  },
  {
   "cell_type": "code",
   "execution_count": 33,
   "metadata": {
    "scrolled": true
   },
   "outputs": [
    {
     "name": "stdout",
     "output_type": "stream",
     "text": [
      "15:55:50\tStarting THA\n",
      "KHM\n",
      "MYS\n",
      "MMR\n"
     ]
    }
   ],
   "source": [
    "broken = []\n",
    "for arg in args:\n",
    "    if not arg[0] in broken:\n",
    "        xx = ict.calculate_country(*args[0], debug=False)"
   ]
  },
  {
   "cell_type": "markdown",
   "metadata": {},
   "source": [
    "# Manually fixing cell distance\n",
    "The cell_dist column is coming up empty in the multiprocessing side, so it will be processed manually"
   ]
  },
  {
   "cell_type": "code",
   "execution_count": null,
   "metadata": {},
   "outputs": [],
   "source": [
    "in_files = os.listdir(out_folder)\n",
    "sel_file = in_files[0]\n",
    "sel_file"
   ]
  },
  {
   "cell_type": "code",
   "execution_count": null,
   "metadata": {
    "scrolled": true
   },
   "outputs": [],
   "source": [
    "epsg = 'epsg:6933'\n",
    "for sel_file in in_files:\n",
    "    tPrint(sel_file)\n",
    "    distD = pd.read_csv(os.path.join(out_folder, sel_file), index_col=0)\n",
    "    distD['geometry'] = distD['geometry'].apply(lambda x: wkt.loads(x))\n",
    "    distD = gpd.GeoDataFrame(distD, geometry='geometry', crs=epsg)\n",
    "    curB = inG.loc[inG['ISO3'] == sel_file[:3]]\n",
    "\n",
    "    potential_matches = inCell.loc[list(cell_sindex.intersection(curB.total_bounds))]\n",
    "    selCell = potential_matches.loc[potential_matches.intersects(curB.unary_union)]\n",
    "    selCell = selCell.to_crs(epsg)\n",
    "    distD['cell_dist'] = distD.distance(selCell.unary_union)\n",
    "    pd.DataFrame(distD).to_csv(os.path.join(out_folder, sel_file))\n",
    "\n",
    "    "
   ]
  },
  {
   "cell_type": "code",
   "execution_count": null,
   "metadata": {},
   "outputs": [],
   "source": []
  },
  {
   "cell_type": "markdown",
   "metadata": {},
   "source": [
    "# DEBUGGING"
   ]
  },
  {
   "cell_type": "code",
   "execution_count": null,
   "metadata": {},
   "outputs": [],
   "source": [
    "# Loop through results, determine where neighbour is self\n",
    "in_files = os.listdir(out_folder)\n",
    "sel_file = in_files[0]\n",
    "sel_file"
   ]
  },
  {
   "cell_type": "code",
   "execution_count": null,
   "metadata": {},
   "outputs": [],
   "source": [
    "for sel_file in in_files"
   ]
  },
  {
   "cell_type": "code",
   "execution_count": null,
   "metadata": {},
   "outputs": [],
   "source": []
  }
 ],
 "metadata": {
  "kernelspec": {
   "display_name": "Earth Engine",
   "language": "python",
   "name": "ee"
  },
  "language_info": {
   "codemirror_mode": {
    "name": "ipython",
    "version": 3
   },
   "file_extension": ".py",
   "mimetype": "text/x-python",
   "name": "python",
   "nbconvert_exporter": "python",
   "pygments_lexer": "ipython3",
   "version": "3.9.4"
  }
 },
 "nbformat": 4,
 "nbformat_minor": 2
}
