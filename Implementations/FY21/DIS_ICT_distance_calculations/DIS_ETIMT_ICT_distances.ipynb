{
 "cells": [
  {
   "cell_type": "code",
   "execution_count": 1,
   "metadata": {},
   "outputs": [
    {
     "name": "stderr",
     "output_type": "stream",
     "text": [
      "/home/wb411133/.conda/envs/geog/lib/python3.7/site-packages/geopandas/_compat.py:88: UserWarning: The Shapely GEOS version (3.7.1-CAPI-1.11.1 0) is incompatible with the GEOS version PyGEOS was compiled with (3.9.0-CAPI-1.16.2). Conversions between both will be slow.\n",
      "  shapely_geos_version, geos_capi_version_string\n"
     ]
    }
   ],
   "source": [
    "import sys, os, importlib, json, multiprocessing\n",
    "import rasterio, pycountry\n",
    "import reverse_geocode\n",
    "\n",
    "import geopandas as gpd\n",
    "import pandas as pd\n",
    "\n",
    "from urllib.request import urlopen\n",
    "from shapely.geometry import Point\n",
    "from shapely.ops import nearest_points\n",
    "from shapely import wkt\n",
    "\n",
    "# Import GOST libraries; sys.path.append will be unnecessary if libraries are already installed\n",
    "sys.path.append(\"../../../../gostrocks/src\")\n",
    "sys.path.append(\"../../../../GOST_Urban\")\n",
    "\n",
    "import GOSTRocks.rasterMisc as rMisc\n",
    "from GOSTRocks.misc import tPrint\n",
    "import src.UrbanRaster as urban\n",
    "%matplotlib inline  "
   ]
  },
  {
   "cell_type": "code",
   "execution_count": 2,
   "metadata": {},
   "outputs": [],
   "source": [
    "out_folder =  \"/home/wb411133/temp/ICT_distance\"\n"
   ]
  },
  {
   "cell_type": "code",
   "execution_count": 3,
   "metadata": {},
   "outputs": [
    {
     "name": "stdout",
     "output_type": "stream",
     "text": [
      "(121121, 9)\n",
      "(121116, 9)\n"
     ]
    },
    {
     "data": {
      "text/html": [
       "<div>\n",
       "<style scoped>\n",
       "    .dataframe tbody tr th:only-of-type {\n",
       "        vertical-align: middle;\n",
       "    }\n",
       "\n",
       "    .dataframe tbody tr th {\n",
       "        vertical-align: top;\n",
       "    }\n",
       "\n",
       "    .dataframe thead th {\n",
       "        text-align: right;\n",
       "    }\n",
       "</style>\n",
       "<table border=\"1\" class=\"dataframe\">\n",
       "  <thead>\n",
       "    <tr style=\"text-align: right;\">\n",
       "      <th></th>\n",
       "      <th>idstd</th>\n",
       "      <th>year</th>\n",
       "      <th>fyear</th>\n",
       "      <th>d2_l1_year_perf_indicators</th>\n",
       "      <th>lat_mask</th>\n",
       "      <th>lon_mask</th>\n",
       "      <th>survey</th>\n",
       "      <th>WBCode</th>\n",
       "      <th>type</th>\n",
       "    </tr>\n",
       "  </thead>\n",
       "  <tbody>\n",
       "    <tr>\n",
       "      <th>0</th>\n",
       "      <td>468901.0</td>\n",
       "      <td>2010.0</td>\n",
       "      <td>2009</td>\n",
       "      <td>2009</td>\n",
       "      <td>14.803293</td>\n",
       "      <td>49.687744</td>\n",
       "      <td>Yemen2010</td>\n",
       "      <td>YEM</td>\n",
       "      <td>Enterprise Survey</td>\n",
       "    </tr>\n",
       "    <tr>\n",
       "      <th>1</th>\n",
       "      <td>468902.0</td>\n",
       "      <td>2010.0</td>\n",
       "      <td>2009</td>\n",
       "      <td>2009</td>\n",
       "      <td>14.556620</td>\n",
       "      <td>49.129032</td>\n",
       "      <td>Yemen2010</td>\n",
       "      <td>YEM</td>\n",
       "      <td>Enterprise Survey</td>\n",
       "    </tr>\n",
       "    <tr>\n",
       "      <th>2</th>\n",
       "      <td>468903.0</td>\n",
       "      <td>2010.0</td>\n",
       "      <td>2009</td>\n",
       "      <td>2009</td>\n",
       "      <td>14.551517</td>\n",
       "      <td>49.141815</td>\n",
       "      <td>Yemen2010</td>\n",
       "      <td>YEM</td>\n",
       "      <td>Enterprise Survey</td>\n",
       "    </tr>\n",
       "    <tr>\n",
       "      <th>3</th>\n",
       "      <td>468904.0</td>\n",
       "      <td>2010.0</td>\n",
       "      <td>2009</td>\n",
       "      <td>2009</td>\n",
       "      <td>14.515405</td>\n",
       "      <td>49.125977</td>\n",
       "      <td>Yemen2010</td>\n",
       "      <td>YEM</td>\n",
       "      <td>Enterprise Survey</td>\n",
       "    </tr>\n",
       "    <tr>\n",
       "      <th>4</th>\n",
       "      <td>468905.0</td>\n",
       "      <td>2010.0</td>\n",
       "      <td>2009</td>\n",
       "      <td>2009</td>\n",
       "      <td>14.519185</td>\n",
       "      <td>49.119148</td>\n",
       "      <td>Yemen2010</td>\n",
       "      <td>YEM</td>\n",
       "      <td>Enterprise Survey</td>\n",
       "    </tr>\n",
       "  </tbody>\n",
       "</table>\n",
       "</div>"
      ],
      "text/plain": [
       "      idstd    year fyear  d2_l1_year_perf_indicators   lat_mask   lon_mask  \\\n",
       "0  468901.0  2010.0  2009                        2009  14.803293  49.687744   \n",
       "1  468902.0  2010.0  2009                        2009  14.556620  49.129032   \n",
       "2  468903.0  2010.0  2009                        2009  14.551517  49.141815   \n",
       "3  468904.0  2010.0  2009                        2009  14.515405  49.125977   \n",
       "4  468905.0  2010.0  2009                        2009  14.519185  49.119148   \n",
       "\n",
       "      survey WBCode               type  \n",
       "0  Yemen2010    YEM  Enterprise Survey  \n",
       "1  Yemen2010    YEM  Enterprise Survey  \n",
       "2  Yemen2010    YEM  Enterprise Survey  \n",
       "3  Yemen2010    YEM  Enterprise Survey  \n",
       "4  Yemen2010    YEM  Enterprise Survey  "
      ]
     },
     "execution_count": 3,
     "metadata": {},
     "output_type": "execute_result"
    }
   ],
   "source": [
    "wbes_coords = \"/home/wb411133/data/Projects/ICT_Distance/Data/Masked ES GPS April 15-2021_year.dta\"\n",
    "inD = pd.read_stata(wbes_coords)\n",
    "print(inD.shape)\n",
    "# filter data with broken coordinates\n",
    "inD = inD.loc[(inD['lat_mask'] > -90) & (inD['lat_mask'] < 90) & (inD['lon_mask'] > -180) & (inD['lon_mask'] < 180)]\n",
    "print(inD.shape)\n",
    "inD.head()"
   ]
  },
  {
   "cell_type": "code",
   "execution_count": null,
   "metadata": {},
   "outputs": [],
   "source": [
    "geoms = [Point(row['lon_mask'], row['lat_mask']) for idx, row in inD.iterrows()]\n",
    "inD = gpd.GeoDataFrame(inD, geometry=geoms, crs = 'epsg:4326')\n",
    "inD['d2_l1_year_perf_indicators'] = inD['d2_l1_year_perf_indicators'].astype(int)"
   ]
  },
  {
   "cell_type": "code",
   "execution_count": null,
   "metadata": {},
   "outputs": [],
   "source": [
    "global_bounds = \"/home/public/Data/GLOBAL/ADMIN/Admin0_Polys.shp\"\n",
    "inG = gpd.read_file(global_bounds)\n",
    "inG = inG.to_crs('epsg:4326')"
   ]
  },
  {
   "cell_type": "markdown",
   "metadata": {},
   "source": [
    "# Open and load infrastructure data"
   ]
  },
  {
   "cell_type": "code",
   "execution_count": null,
   "metadata": {},
   "outputs": [],
   "source": [
    "openCellID = \"/home/public/Data/GLOBAL/INFRA/OPENCELLID/cell_towers_2020-04-15-T000000.csv\"    \n",
    "ixp_file = '/home/public/Data/GLOBAL/INFRA/IXPS/ixps_global_geocoded.csv'\n",
    "colocation_file = '/home/public/Data/GLOBAL/INFRA/DATA_CENTERS/Data_Centers.geojson'\n",
    "cell_coverage_folder = '/home/public/Data/GLOBAL/INFRA/GSMA/2019/MCE/Data_MCE/Global'\n",
    "cell_files = ['MCE_Global2G_2020.tif', 'MCE_Global3G_2020.tif', 'MCE_Global4G_2020.tif']\n",
    "submarine_cable_file = '/home/public/Data/GLOBAL/INFRA/SUBMARINE_CABLES/landing-point-geo.json'"
   ]
  },
  {
   "cell_type": "code",
   "execution_count": null,
   "metadata": {},
   "outputs": [],
   "source": [
    "inCell = pd.read_csv(openCellID)\n",
    "inD_geom = [Point(x) for x in zip(inCell['lon'], inCell['lat'])]\n",
    "inCell = gpd.GeoDataFrame(inCell, geometry = inD_geom, crs = {'init':'epsg:4326'})"
   ]
  },
  {
   "cell_type": "code",
   "execution_count": null,
   "metadata": {},
   "outputs": [],
   "source": [
    "cell_sindex = inCell.sindex"
   ]
  },
  {
   "cell_type": "code",
   "execution_count": null,
   "metadata": {},
   "outputs": [],
   "source": [
    "inCol = gpd.read_file(colocation_file)"
   ]
  },
  {
   "cell_type": "code",
   "execution_count": null,
   "metadata": {},
   "outputs": [],
   "source": [
    "# Load submarine cables - load landing points, identify RFS attributes from combined other data\n",
    "#     final dataset needs landing points with RFS dates\n",
    "landing_points = gpd.read_file('https://raw.githubusercontent.com/telegeography/www.submarinecablemap.com/master/public/api/v2/landing-point/landing-point-geo.json')\n",
    "cables = gpd.read_file('https://raw.githubusercontent.com/telegeography/www.submarinecablemap.com/master/public/api/v2/cable/cable-geo.json')\n",
    "cables_json_base = 'https://raw.githubusercontent.com/telegeography/www.submarinecablemap.com/master/public/api/v2/cable/{cable_id}.json'"
   ]
  },
  {
   "cell_type": "code",
   "execution_count": null,
   "metadata": {},
   "outputs": [],
   "source": [
    "all_landing_points = []\n",
    "for cur_id in cables['slug']:\n",
    "    response = urlopen(cables_json_base.format(cable_id = cur_id))\n",
    "    json_data = response.read().decode()\n",
    "    d = json.loads(json_data)\n",
    "    l_points = d['landing_points']\n",
    "    for item in l_points:\n",
    "        try:\n",
    "            item['RFS'] = int(d['rfs'][:4])\n",
    "            all_landing_points.append(item)\n",
    "        except:\n",
    "            pass"
   ]
  },
  {
   "cell_type": "code",
   "execution_count": null,
   "metadata": {},
   "outputs": [],
   "source": [
    "landing_point_rfs = pd.DataFrame(all_landing_points)\n",
    "l_geom = landing_point_rfs['latlon'].apply(lambda x: Point(float(x.split(\",\")[1]), float(x.split(\",\")[0])))\n",
    "lp_data = gpd.GeoDataFrame(landing_point_rfs, geometry=l_geom, crs=\"epsg:4326\")"
   ]
  },
  {
   "cell_type": "code",
   "execution_count": null,
   "metadata": {},
   "outputs": [],
   "source": [
    "def try_country(x):\n",
    "    try:\n",
    "        return(pycountry.countries.search_fuzzy(x.split(\",\")[-1])[0].alpha_3)\n",
    "    except:\n",
    "        return('')\n",
    "\n",
    "lp_data['ISO3'] = lp_data['name'].apply(lambda x: try_country(x))"
   ]
  },
  {
   "cell_type": "code",
   "execution_count": null,
   "metadata": {},
   "outputs": [],
   "source": [
    "inCables = lp_data"
   ]
  },
  {
   "cell_type": "code",
   "execution_count": null,
   "metadata": {},
   "outputs": [],
   "source": [
    "inIXP = pd.read_csv(ixp_file, index_col=0)\n",
    "inD_geom = [Point(x) for x in zip(inIXP['Lon'], inIXP['Lat'])]\n",
    "inIXP = gpd.GeoDataFrame(inIXP, geometry = inD_geom, crs = {'init':'epsg:4326'})"
   ]
  },
  {
   "cell_type": "code",
   "execution_count": null,
   "metadata": {},
   "outputs": [],
   "source": [
    "gsma2g_R = rasterio.open(os.path.join(cell_coverage_folder, cell_files[0]))\n",
    "gsma3g_R = rasterio.open(os.path.join(cell_coverage_folder, cell_files[1]))\n",
    "gsma4g_R = rasterio.open(os.path.join(cell_coverage_folder, cell_files[2]))"
   ]
  },
  {
   "cell_type": "markdown",
   "metadata": {},
   "source": [
    "# Calculate distances"
   ]
  },
  {
   "cell_type": "code",
   "execution_count": null,
   "metadata": {},
   "outputs": [],
   "source": [
    "def get_nearest_date(x, selCables):\n",
    "    selCables = selCables.loc[selCables['RFS'] <= x['d2_l1_year_perf_indicators']]\n",
    "    xx = selCables.loc[selCables.geometry == nearest_points(x['geometry'], selCables.unary_union)[1]]\n",
    "    return(xx.sort_values(['RFS'])['RFS'].iloc[0])\n",
    "\n",
    "def get_nearest(x, selCables):\n",
    "    selCables = selCables.loc[selCables['RFS'] <= x['d2_l1_year_perf_indicators']]    \n",
    "    return(x['geometry'].distance(selCables.unary_union))\n",
    "\n",
    "def calculate_country(curD, curB, curN, out_file, selCol, selIXP, inCables):\n",
    "    ''' calculaet ICT distances per country\n",
    "    \n",
    "    Args:\n",
    "        curD: geopandas data frame of WBES survey locations\n",
    "        curB: geopandas data frame of country bounds        \n",
    "        curN: geopandas data frame of neighbouring countries boundaries\n",
    "        outFile: string of the path for the output file; is read in if it doesn't exist\n",
    "        selCol: geopandas data frame of colocation centers \n",
    "        selIXP: geopandas data frame of IXPs \n",
    "        inCables: geopandas data frame cable landing spots \n",
    "    '''\n",
    "    gsma2g_R = rasterio.open(os.path.join(cell_coverage_folder, cell_files[0]))\n",
    "    gsma3g_R = rasterio.open(os.path.join(cell_coverage_folder, cell_files[1]))\n",
    "    gsma4g_R = rasterio.open(os.path.join(cell_coverage_folder, cell_files[2]))\n",
    "    if False: #os.path.exists(out_file):\n",
    "        curD = pd.read_csv(out_file, index_col=0)\n",
    "        curD = pd.merge(distD, curD.loc[:,['idstd','d2_l1_year_perf_indicators']], on='idstd')\n",
    "        curD_geom = curD['geometry'].apply(wkt.loads)\n",
    "        distD = gpd.GeoDataFrame(curD, geometry=curD_geom, crs=epsg)\n",
    "        # Remove columns that need to be re-calculated\n",
    "        distD = distD.loc[:,[not \"ngh\" in x for x in distD.columns]]\n",
    "        distD = distD.loc[:,[not \"gsma\" in x for x in distD.columns]]\n",
    "        distD = distD.loc[:,[not \"cables_dist\" in x for x in distD.columns]]       \n",
    "    else:\n",
    "        distD = curD.to_crs(epsg)\n",
    "        \n",
    "    total_bound = curB.unary_union\n",
    "    if curB.shape[0] > 0:\n",
    "        if not 'col_dist' in distD.columns:\n",
    "            if selCol.shape[0] > 0:\n",
    "                selCol = selCol.to_crs(epsg)\n",
    "                distD['col_dist'] = distD.distance(selCol.unary_union)\n",
    "            else:\n",
    "                distD['col_dist'] = -1\n",
    "\n",
    "        if not \"ixp_dist\" in distD.columns:\n",
    "            if selIXP.shape[0] > 0:\n",
    "                selIXP = selIXP.to_crs(epsg)\n",
    "                distD['ixp_dist'] = distD.distance(selIXP.unary_union)\n",
    "            else:\n",
    "                distD['ixp_dist'] = -1\n",
    "\n",
    "        if not 'firstCable' in distD.columns:\n",
    "            selCables = inCables.loc[inCables['ISO3'] == cur_country]         \n",
    "            if selCables.shape[0] > 0:\n",
    "                selCables = selCables.to_crs(epsg)\n",
    "                # Calculate distance and date of first cable landing point\n",
    "                first_date = selCables['RFS'].sort_values().iloc[0]\n",
    "                first_points = selCables.loc[selCables['RFS'] == first_date]\n",
    "                distD['firstCable'] = first_date\n",
    "                distD['firstCable_dist'] = distD.distance(first_points.unary_union)\n",
    "                # Calculate distance and date of closest cable landing point\n",
    "                distD['closestCable'] = distD.apply(lambda x: get_nearest_date(x, selCables), axis=1)\n",
    "                distD['closestCable_dist'] = distD.apply(lambda x: get_nearest(x, selCables), axis=1)\n",
    "            else:\n",
    "                distD['firstCable'] = ''\n",
    "                distD['firstCable_dist'] = -1\n",
    "                # Calculate distance and date of closest cable landing point\n",
    "                distD['closestCable'] = ''\n",
    "                distD['closestCable_dist'] = -1\n",
    "\n",
    "        # Calculate distance to nearest neighbouring country\n",
    "        if not False: #\"ngh1_dist\" in distD.columns:\n",
    "            cnt = 1\n",
    "            for idx, row in curN.iterrows():\n",
    "                distD['ngh%s' % cnt] = row['ISO3']\n",
    "                distD['ngh%s_dist' % cnt] = distD.distance(row['geometry'])    \n",
    "                #Calculate distance to submarine cables\n",
    "                selCables = inCables.loc[inCables['ISO3'] == row['ISO3']]\n",
    "                if selCables.shape[0] > 0:\n",
    "                    distD['ngh%s_cbl_dist' % cnt] = distD.distance(selCables.unary_union)\n",
    "                    distD['ngh%s_cbl' % cnt] = distD.apply(lambda x: get_nearest_date(x, selCables), axis=1)\n",
    "                else:\n",
    "                    distD['ngh%s_cbl_dist' % cnt] = -1\n",
    "                    distD['ngh%s_cbl' % cnt] = -1\n",
    "                cnt = cnt +1            \n",
    "        \n",
    "        if not 'cell_dist' in distD.columns:\n",
    "            potential_matches = inCell.loc[list(cell_sindex.intersection(total_bound.bounds))]\n",
    "            selCell = potential_matches.loc[potential_matches.intersects(total_bound)]\n",
    "            selCell = selCell.to_crs(epsg)\n",
    "            distD['cell_dist'] = distD.distance(selCell.unary_union)\n",
    "\n",
    "        if not \"gsma2g\" in distD.columns:\n",
    "            coordsD = distD.to_crs(gsma2g_R.crs)\n",
    "            coords = [[x.x,x.y] for x in coordsD['geometry']]\n",
    "            distD['gsma2g'] = [x[0] for x in list(gsma2g_R.sample(coords))]\n",
    "            distD['gsma3g'] = [x[0] for x in list(gsma3g_R.sample(coords))]\n",
    "            distD['gsma4g'] = [x[0] for x in list(gsma4g_R.sample(coords))]\n",
    "\n",
    "        pd.DataFrame(distD).to_csv(out_file)\n",
    "        return(distD)"
   ]
  },
  {
   "cell_type": "code",
   "execution_count": null,
   "metadata": {
    "scrolled": true
   },
   "outputs": [],
   "source": [
    "broken_countries = ['CHL','RUS','CHN','IDN']\n",
    "n_processes = 30\n",
    "epsg = 'epsg:6933'\n",
    "if not os.path.exists(out_folder):\n",
    "    os.makedirs(out_folder)\n",
    "args = []\n",
    "for cur_country in inD['WBCode'].unique():\n",
    "    out_file = os.path.join(out_folder, \"%s_ICT_distance.csv\" % cur_country)\n",
    "    tPrint(f\"***** Processing {cur_country}\")\n",
    "    if not cur_country in broken_countries: # not os.path.exists(out_file) and \n",
    "        curD = inD.loc[inD['WBCode'] == cur_country]\n",
    "        total_bound = curD.unary_union\n",
    "        curB = inG.loc[inG['ISO3'] == cur_country]\n",
    "        curN = inG.loc[inG.intersects(curB.buffer(0.01).unary_union)]\n",
    "        curN = curN.loc[curN['ISO3'] != cur_country]        \n",
    "        selCol = inCol.loc[inCol['geometry'].apply(lambda x: x.intersects(total_bound))]\n",
    "        selIXP = inIXP.loc[inIXP['geometry'].apply(lambda x: x.intersects(total_bound))]                \n",
    "        args.append([curD, curB, curN, out_file, selCol, selIXP, inCables])\n"
   ]
  },
  {
   "cell_type": "code",
   "execution_count": null,
   "metadata": {},
   "outputs": [],
   "source": [
    "out_file"
   ]
  },
  {
   "cell_type": "code",
   "execution_count": null,
   "metadata": {},
   "outputs": [],
   "source": [
    "curD"
   ]
  },
  {
   "cell_type": "code",
   "execution_count": null,
   "metadata": {},
   "outputs": [],
   "source": [
    "cur_country"
   ]
  },
  {
   "cell_type": "code",
   "execution_count": null,
   "metadata": {},
   "outputs": [],
   "source": [
    "num_processes = 40\n",
    "with multiprocessing.Pool(num_processes) as pool:\n",
    "    res = pool.starmap(calculate_country, args)"
   ]
  },
  {
   "cell_type": "code",
   "execution_count": null,
   "metadata": {},
   "outputs": [],
   "source": []
  },
  {
   "cell_type": "code",
   "execution_count": null,
   "metadata": {},
   "outputs": [],
   "source": []
  },
  {
   "cell_type": "markdown",
   "metadata": {},
   "source": [
    "# DEBUGGING"
   ]
  },
  {
   "cell_type": "code",
   "execution_count": 22,
   "metadata": {},
   "outputs": [],
   "source": [
    "in_file = \"/home/wb411133/temp/SOM/SOM_roads.kml\"\n",
    "gpd.io.file.fiona.drvsupport.supported_drivers['KML'] = 'rw'\n",
    "inD = gpd.read_file(in_file, driver=\"KML\")"
   ]
  },
  {
   "cell_type": "code",
   "execution_count": 23,
   "metadata": {},
   "outputs": [
    {
     "data": {
      "text/html": [
       "<div>\n",
       "<style scoped>\n",
       "    .dataframe tbody tr th:only-of-type {\n",
       "        vertical-align: middle;\n",
       "    }\n",
       "\n",
       "    .dataframe tbody tr th {\n",
       "        vertical-align: top;\n",
       "    }\n",
       "\n",
       "    .dataframe thead th {\n",
       "        text-align: right;\n",
       "    }\n",
       "</style>\n",
       "<table border=\"1\" class=\"dataframe\">\n",
       "  <thead>\n",
       "    <tr style=\"text-align: right;\">\n",
       "      <th></th>\n",
       "      <th>Name</th>\n",
       "      <th>Description</th>\n",
       "      <th>geometry</th>\n",
       "    </tr>\n",
       "  </thead>\n",
       "  <tbody>\n",
       "    <tr>\n",
       "      <th>0</th>\n",
       "      <td>Mogadishu - Baidoa</td>\n",
       "      <td></td>\n",
       "      <td>LINESTRING Z (45.28344 2.04797 0.00000, 45.251...</td>\n",
       "    </tr>\n",
       "    <tr>\n",
       "      <th>1</th>\n",
       "      <td>Baidoa - Luuq</td>\n",
       "      <td></td>\n",
       "      <td>LINESTRING Z (43.64767 3.11618 0.00000, 43.631...</td>\n",
       "    </tr>\n",
       "    <tr>\n",
       "      <th>2</th>\n",
       "      <td>Luuq - Dolo</td>\n",
       "      <td></td>\n",
       "      <td>LINESTRING Z (42.54447 3.79148 0.00000, 42.521...</td>\n",
       "    </tr>\n",
       "    <tr>\n",
       "      <th>3</th>\n",
       "      <td>Kismayo - El Wak</td>\n",
       "      <td></td>\n",
       "      <td>LINESTRING Z (42.55690 -0.37413 0.00000, 42.53...</td>\n",
       "    </tr>\n",
       "    <tr>\n",
       "      <th>4</th>\n",
       "      <td>Liboi Spur</td>\n",
       "      <td></td>\n",
       "      <td>LINESTRING Z (40.99050 0.41098 0.00000, 41.067...</td>\n",
       "    </tr>\n",
       "    <tr>\n",
       "      <th>5</th>\n",
       "      <td>Mogadishu - Ferfer</td>\n",
       "      <td></td>\n",
       "      <td>LINESTRING Z (45.32951 2.05804 0.00000, 45.398...</td>\n",
       "    </tr>\n",
       "    <tr>\n",
       "      <th>6</th>\n",
       "      <td>Galgogob - Galkayo</td>\n",
       "      <td></td>\n",
       "      <td>LINESTRING Z (47.02541 7.02273 0.00000, 47.089...</td>\n",
       "    </tr>\n",
       "    <tr>\n",
       "      <th>7</th>\n",
       "      <td>Galkayo - Garowe</td>\n",
       "      <td></td>\n",
       "      <td>LINESTRING Z (47.41693 6.78085 0.00000, 47.430...</td>\n",
       "    </tr>\n",
       "    <tr>\n",
       "      <th>8</th>\n",
       "      <td>Garowe - Bossasso</td>\n",
       "      <td></td>\n",
       "      <td>LINESTRING Z (48.48726 8.40750 0.00000, 48.493...</td>\n",
       "    </tr>\n",
       "    <tr>\n",
       "      <th>9</th>\n",
       "      <td>Hargeisa - Ethiopian Border</td>\n",
       "      <td></td>\n",
       "      <td>LINESTRING Z (44.06134 9.56109 0.00000, 44.063...</td>\n",
       "    </tr>\n",
       "    <tr>\n",
       "      <th>10</th>\n",
       "      <td>Hargeisa - Kalabaydh</td>\n",
       "      <td></td>\n",
       "      <td>LINESTRING Z (44.05990 9.56168 0.00000, 44.047...</td>\n",
       "    </tr>\n",
       "    <tr>\n",
       "      <th>11</th>\n",
       "      <td>Berbera - Hargeisa</td>\n",
       "      <td></td>\n",
       "      <td>LINESTRING Z (44.06134 9.56109 0.00000, 44.076...</td>\n",
       "    </tr>\n",
       "    <tr>\n",
       "      <th>12</th>\n",
       "      <td>Loyada - Boroma</td>\n",
       "      <td></td>\n",
       "      <td>LINESTRING Z (43.25578 11.46017 0.00000, 43.29...</td>\n",
       "    </tr>\n",
       "    <tr>\n",
       "      <th>13</th>\n",
       "      <td>Boroma - Kalabaydh</td>\n",
       "      <td></td>\n",
       "      <td>LINESTRING Z (43.47682 9.68198 0.00000, 43.423...</td>\n",
       "    </tr>\n",
       "    <tr>\n",
       "      <th>14</th>\n",
       "      <td>Kalabaydh - Wajale</td>\n",
       "      <td></td>\n",
       "      <td>LINESTRING Z (43.47689 9.68088 0.00000, 43.470...</td>\n",
       "    </tr>\n",
       "  </tbody>\n",
       "</table>\n",
       "</div>"
      ],
      "text/plain": [
       "                           Name Description  \\\n",
       "0            Mogadishu - Baidoa               \n",
       "1                 Baidoa - Luuq               \n",
       "2                   Luuq - Dolo               \n",
       "3              Kismayo - El Wak               \n",
       "4                    Liboi Spur               \n",
       "5            Mogadishu - Ferfer               \n",
       "6            Galgogob - Galkayo               \n",
       "7              Galkayo - Garowe               \n",
       "8             Garowe - Bossasso               \n",
       "9   Hargeisa - Ethiopian Border               \n",
       "10         Hargeisa - Kalabaydh               \n",
       "11           Berbera - Hargeisa               \n",
       "12              Loyada - Boroma               \n",
       "13           Boroma - Kalabaydh               \n",
       "14           Kalabaydh - Wajale               \n",
       "\n",
       "                                             geometry  \n",
       "0   LINESTRING Z (45.28344 2.04797 0.00000, 45.251...  \n",
       "1   LINESTRING Z (43.64767 3.11618 0.00000, 43.631...  \n",
       "2   LINESTRING Z (42.54447 3.79148 0.00000, 42.521...  \n",
       "3   LINESTRING Z (42.55690 -0.37413 0.00000, 42.53...  \n",
       "4   LINESTRING Z (40.99050 0.41098 0.00000, 41.067...  \n",
       "5   LINESTRING Z (45.32951 2.05804 0.00000, 45.398...  \n",
       "6   LINESTRING Z (47.02541 7.02273 0.00000, 47.089...  \n",
       "7   LINESTRING Z (47.41693 6.78085 0.00000, 47.430...  \n",
       "8   LINESTRING Z (48.48726 8.40750 0.00000, 48.493...  \n",
       "9   LINESTRING Z (44.06134 9.56109 0.00000, 44.063...  \n",
       "10  LINESTRING Z (44.05990 9.56168 0.00000, 44.047...  \n",
       "11  LINESTRING Z (44.06134 9.56109 0.00000, 44.076...  \n",
       "12  LINESTRING Z (43.25578 11.46017 0.00000, 43.29...  \n",
       "13  LINESTRING Z (43.47682 9.68198 0.00000, 43.423...  \n",
       "14  LINESTRING Z (43.47689 9.68088 0.00000, 43.470...  "
      ]
     },
     "execution_count": 23,
     "metadata": {},
     "output_type": "execute_result"
    }
   ],
   "source": [
    "inD"
   ]
  },
  {
   "cell_type": "code",
   "execution_count": 35,
   "metadata": {},
   "outputs": [
    {
     "name": "stdout",
     "output_type": "stream",
     "text": [
      "(15, 4)\n",
      "(2, 4)\n",
      "(2, 4)\n",
      "(4, 4)\n",
      "(3, 4)\n",
      "(1, 4)\n",
      "(3, 4)\n",
      "(4, 4)\n",
      "(2, 4)\n",
      "(11, 4)\n"
     ]
    }
   ],
   "source": [
    "import fiona\n",
    "all_layers = []\n",
    "try:\n",
    "    del final\n",
    "except:\n",
    "    pass\n",
    "for layer in fiona.listlayers(in_file):\n",
    "    curD = gpd.read_file(in_file, driver=\"KML\", layer=layer)\n",
    "    curD['LAYER'] = layer\n",
    "    print(curD.shape)\n",
    "    all_layers.append(curD)\n",
    "    try:\n",
    "        final = final.append(curD)\n",
    "    except:\n",
    "        final = curD"
   ]
  },
  {
   "cell_type": "code",
   "execution_count": 36,
   "metadata": {},
   "outputs": [],
   "source": [
    "final.to_file(in_file.replace(\".kml\", \".geojson\"), driver=\"GeoJSON\")"
   ]
  },
  {
   "cell_type": "code",
   "execution_count": null,
   "metadata": {},
   "outputs": [],
   "source": []
  }
 ],
 "metadata": {
  "kernelspec": {
   "display_name": "Python (geog)",
   "language": "python",
   "name": "geog"
  },
  "language_info": {
   "codemirror_mode": {
    "name": "ipython",
    "version": 3
   },
   "file_extension": ".py",
   "mimetype": "text/x-python",
   "name": "python",
   "nbconvert_exporter": "python",
   "pygments_lexer": "ipython3",
   "version": "3.7.1"
  }
 },
 "nbformat": 4,
 "nbformat_minor": 2
}
