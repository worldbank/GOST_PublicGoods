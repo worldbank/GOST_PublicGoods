{
 "cells": [
  {
   "cell_type": "code",
   "execution_count": 8,
   "metadata": {},
   "outputs": [],
   "source": [
    "import sys, os, importlib, shutil\n",
    "import rasterio, reverse_geocode\n",
    "\n",
    "import pandas as pd\n",
    "import geopandas as gpd\n",
    "import numpy as np\n",
    "\n",
    "from shapely.geometry import MultiPolygon, Polygon, box, Point\n",
    "\n",
    "#Import raster helpers\n",
    "sys.path.append(\"../../../../gostrocks/src\")\n",
    "\n",
    "import GOSTRocks.rasterMisc as rMisc\n",
    "from GOSTRocks.misc import tPrint\n",
    "\n",
    "#Import GOST urban functions\n",
    "sys.path.append(\"../../../../GOST_Urban/\")\n",
    "import src.UrbanRaster as urban\n",
    "import src.urban_helper as helper"
   ]
  },
  {
   "cell_type": "code",
   "execution_count": 2,
   "metadata": {},
   "outputs": [],
   "source": [
    "# Define baseline data\n",
    "base_folder = \"/home/public/Data/PROJECTS/INFRA_SAP/COD\"\n",
    "national_bounds = os.path.join(base_folder, \"admin.shp\")\n",
    "urban_extents = os.path.join(base_folder, \"urban_extents.shp\")\n",
    "\n",
    "wsf_layer = \"/home/public/Data/GLOBAL/WSF/Democratic Republic of the Congo/DRC_WSF_evolution.tif\""
   ]
  },
  {
   "cell_type": "code",
   "execution_count": 13,
   "metadata": {},
   "outputs": [],
   "source": [
    "# Run zonal stats against wsf for admin boundaries and urban extents\n",
    "inD = gpd.read_file(national_bounds)\n",
    "inR = rasterio.open(wsf_layer)\n",
    "exp_vals = list(range(1985,2016))\n",
    "res = rMisc.zonalStats(inD, inR, rastType='C', unqVals=exp_vals)\n",
    "res = pd.DataFrame(res, columns=[\"b_%s\" % x for x in exp_vals])\n",
    "res = res.cumsum(axis=1)\n",
    "res['WB_ADM2_CO'] = inD['WB_ADM2_CO']\n",
    "res['WB_ADM2_NA'] = inD['WB_ADM2_NA']"
   ]
  },
  {
   "cell_type": "code",
   "execution_count": 16,
   "metadata": {},
   "outputs": [],
   "source": [
    "inD_urban = gpd.read_file(urban_extents)\n",
    "res_urban = rMisc.zonalStats(inD_urban, inR, rastType='C', unqVals=exp_vals)\n",
    "res_urban = pd.DataFrame(res_urban, columns=[\"b_%s\" % x for x in exp_vals])\n",
    "res_urban = res_urban.cumsum(axis=1)\n",
    "res_urban['ID'] = inD_urban['ID']"
   ]
  },
  {
   "cell_type": "code",
   "execution_count": 17,
   "metadata": {},
   "outputs": [],
   "source": [
    "centroids = [(x.centroid.y, x.centroid.x) for x in inD_urban['geometry']]\n",
    "urban_names = reverse_geocode.search(centroids)\n",
    "inD_urban['CITY_NAME'] = [x['city'] for x in urban_names]\n",
    "inD_urban['COUNTRY'] = [x['country_code'] for x in urban_names]\n",
    "res_urban['CITY_NAME'] = [x['city'] for x in urban_names]\n",
    "res_urban['COUNTRY'] = [x['country_code'] for x in urban_names]"
   ]
  },
  {
   "cell_type": "code",
   "execution_count": 20,
   "metadata": {},
   "outputs": [],
   "source": [
    "res.to_csv(\"/home/wb411133/temp/COD_ADM1_WSF_Summary.csv\")"
   ]
  },
  {
   "cell_type": "code",
   "execution_count": 21,
   "metadata": {},
   "outputs": [],
   "source": [
    "res_urban.to_csv(\"/home/wb411133/temp/COD_CITY_WSF_Summary.csv\")"
   ]
  },
  {
   "cell_type": "markdown",
   "metadata": {},
   "source": [
    "# Run nighttime lights "
   ]
  },
  {
   "cell_type": "code",
   "execution_count": null,
   "metadata": {},
   "outputs": [],
   "source": []
  }
 ],
 "metadata": {
  "kernelspec": {
   "display_name": "Python (geog)",
   "language": "python",
   "name": "geog"
  },
  "language_info": {
   "codemirror_mode": {
    "name": "ipython",
    "version": 3
   },
   "file_extension": ".py",
   "mimetype": "text/x-python",
   "name": "python",
   "nbconvert_exporter": "python",
   "pygments_lexer": "ipython3",
   "version": "3.7.1"
  }
 },
 "nbformat": 4,
 "nbformat_minor": 2
}
