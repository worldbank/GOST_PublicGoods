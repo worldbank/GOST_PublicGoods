{
 "cells": [
  {
   "cell_type": "code",
   "execution_count": 1,
   "metadata": {},
   "outputs": [],
   "source": [
    "import rasterio as rio\n",
    "import geopandas as gpd\n",
    "import pandas as pd\n",
    "import os, sys, glob\n",
    "from osgeo import gdal\n",
    "from rasterstats import zonal_stats\n",
    "from rasterio.warp import reproject, Resampling\n",
    "from shapely.geometry import box\n",
    "from rasterio.mask import mask\n",
    "import numpy as np\n",
    "from rasterio import features\n",
    "from shapely.geometry import shape, Polygon\n",
    "from shapely.wkt import loads\n",
    "from tqdm import tqdm\n",
    "import geojson, json\n",
    "import osmnx as ox\n",
    "from affine import Affine\n",
    "from matplotlib import pyplot as plt\n",
    "from rasterio.plot import show\n",
    "from shapely.wkt import loads\n",
    "from shapely.geometry import Point"
   ]
  },
  {
   "cell_type": "code",
   "execution_count": 2,
   "metadata": {},
   "outputs": [],
   "source": [
    "sys.path.append(\"/home/wb514197/Repos/INFRA_SAP\")\n",
    "import infrasap.rasterMisc as rMisc\n",
    "import infrasap.aggregator as agg"
   ]
  },
  {
   "cell_type": "code",
   "execution_count": 3,
   "metadata": {},
   "outputs": [],
   "source": [
    "data_dir = '/home/wb514197/data/ethiopia'\n",
    "dig_dir = os.path.join(data_dir, \"digitize_africa\")"
   ]
  },
  {
   "cell_type": "code",
   "execution_count": 4,
   "metadata": {},
   "outputs": [],
   "source": [
    "woreda = os.path.join(data_dir, 'admin', 'gadm', 'ETH_adm3.shp')\n",
    "flood_map = os.path.join(data_dir, \"flood\", \"flood_buff.tif\")"
   ]
  },
  {
   "cell_type": "code",
   "execution_count": 5,
   "metadata": {},
   "outputs": [],
   "source": [
    "target = gpd.read_file(woreda)\n",
    "flood = rio.open(flood_map)"
   ]
  },
  {
   "cell_type": "code",
   "execution_count": 7,
   "metadata": {},
   "outputs": [],
   "source": [
    "flood_crs = flood.crs.to_string()"
   ]
  },
  {
   "cell_type": "code",
   "execution_count": 9,
   "metadata": {},
   "outputs": [],
   "source": [
    "target = target.to_crs(flood_crs)"
   ]
  },
  {
   "cell_type": "code",
   "execution_count": 10,
   "metadata": {},
   "outputs": [],
   "source": [
    "flood_dict = {\n",
    "    0:'non-flooded',\n",
    "    1:\"flooded\"\n",
    "}"
   ]
  },
  {
   "cell_type": "code",
   "execution_count": 11,
   "metadata": {},
   "outputs": [],
   "source": [
    "flood_data = flood.read(1)"
   ]
  },
  {
   "cell_type": "code",
   "execution_count": 12,
   "metadata": {},
   "outputs": [],
   "source": [
    "meta = flood.meta"
   ]
  },
  {
   "cell_type": "code",
   "execution_count": 13,
   "metadata": {},
   "outputs": [
    {
     "name": "stderr",
     "output_type": "stream",
     "text": [
      "/home/wb514197/.conda/envs/geo/lib/python3.7/site-packages/rasterstats/io.py:301: UserWarning: Setting nodata to -999; specify nodata explicitly\n",
      "  warnings.warn(\"Setting nodata to -999; specify nodata explicitly\")\n"
     ]
    }
   ],
   "source": [
    "zs_area = pd.DataFrame(zonal_stats(target, flood_data, affine=meta['transform'], categorical=True, category_map=flood_dict))"
   ]
  },
  {
   "cell_type": "code",
   "execution_count": 14,
   "metadata": {},
   "outputs": [
    {
     "data": {
      "text/plain": [
       "Index(['ID_0', 'ISO', 'NAME_0', 'ID_1', 'NAME_1', 'ID_2', 'NAME_2', 'ID_3',\n",
       "       'NAME_3', 'TYPE_3', 'ENGTYPE_3', 'NL_NAME_3', 'VARNAME_3', 'geometry'],\n",
       "      dtype='object')"
      ]
     },
     "execution_count": 14,
     "metadata": {},
     "output_type": "execute_result"
    }
   ],
   "source": [
    "target.columns"
   ]
  },
  {
   "cell_type": "code",
   "execution_count": 15,
   "metadata": {},
   "outputs": [],
   "source": [
    "area = target[['NAME_3','ID_3']].join(zs_area)"
   ]
  },
  {
   "cell_type": "code",
   "execution_count": 17,
   "metadata": {},
   "outputs": [],
   "source": [
    "area.loc[:,\"cells\"] = area['non-flooded']+area['flooded']\n",
    "area.loc[:,'Area_Cells'] = area['cells']*0.0004\n",
    "area.loc[:,'Area_Flooded'] = area['flooded']*0.0004\n",
    "area.loc[:,'Area_Flooded_pct'] = area['Area_Flooded']/area['Area_Cells']"
   ]
  },
  {
   "cell_type": "code",
   "execution_count": 19,
   "metadata": {},
   "outputs": [],
   "source": [
    "out_folder = os.path.join(data_dir, \"output\")\n",
    "if not os.path.exists(out_folder):\n",
    "    os.mkdir(out_folder)"
   ]
  },
  {
   "cell_type": "code",
   "execution_count": 20,
   "metadata": {},
   "outputs": [],
   "source": [
    "area.to_csv(os.path.join(out_folder, \"area_flooded.csv\"))"
   ]
  },
  {
   "cell_type": "code",
   "execution_count": 21,
   "metadata": {},
   "outputs": [],
   "source": [
    "def standardizeInputRasters(inR1, inR2, data_type=\"N\"):\n",
    "    ''' Standardize inR1 to inR2: changes crs, extent, and resolution.\n",
    "    Inputs:\n",
    "    inR1, inR2 [rasterio raster object]\n",
    "    inR1_outFile [string] - output file for creating inR1 standardized to inR2\n",
    "    [optional] data_type [string ['C','N']]\n",
    "    \n",
    "    Returns:\n",
    "    nothing\n",
    "    '''\n",
    "    if inR1.crs != inR2.crs:\n",
    "        bounds = gpd.GeoDataFrame(pd.DataFrame([[1, box(*inR2.bounds)]], columns=[\"ID\",\"geometry\"]), geometry='geometry', crs=inR2.crs)\n",
    "        bounds = bounds.to_crs(inR1.crs)\n",
    "        b2 = bounds.total_bounds\n",
    "        boxJSON = [{'type': 'Polygon', 'coordinates': [[[b2[0], b2[1]],[b2[0], b2[3]],[b2[2], b2[3]],[b2[2], b2[1]],[b2[0], b2[1]]]]}]\n",
    "    else:\n",
    "        b2 = inR2.bounds\n",
    "        boxJSON = [{'type': 'Polygon', 'coordinates': [[[b2.left, b2.bottom],[b2.left, b2.top],[b2.right, b2.top],[b2.right, b2.bottom],[b2.left, b2.bottom]]]}]\n",
    "    \n",
    "    #Clip R1 to R2\n",
    "    #Get JSON of bounding box\n",
    "    out_img, out_transform = mask(inR1, boxJSON, crop=True)\n",
    "    out_meta = inR1.meta.copy()\n",
    "    #Re-scale resolution of R1 to R2\n",
    "    newArr = np.empty(shape=(1, inR2.shape[0], inR2.shape[1]))\n",
    "    \n",
    "    if data_type == \"N\":\n",
    "        resampling_type = Resampling.cubic\n",
    "    elif data_type == \"C\":\n",
    "        resampling_type = Resampling.nearest\n",
    "    \n",
    "    reproject(out_img, newArr, src_transform=out_transform, dst_transform=inR2.transform, src_crs=inR1.crs, dst_crs=inR2.crs, resampling=resampling_type)\n",
    "    out_meta.update({\"driver\": \"GTiff\",\n",
    "                     \"height\": newArr.shape[1],\n",
    "                     \"width\": newArr.shape[2],\n",
    "                     \"transform\": inR2.transform,\n",
    "                     \"crs\": inR2.crs})\n",
    "    \n",
    "    return(newArr, out_meta)"
   ]
  },
  {
   "cell_type": "code",
   "execution_count": 22,
   "metadata": {},
   "outputs": [],
   "source": [
    "flood_mask = (flood_data==1)"
   ]
  },
  {
   "cell_type": "code",
   "execution_count": 23,
   "metadata": {},
   "outputs": [],
   "source": [
    "allFeatures = []\n",
    "idx = 0\n",
    "for cShape, value in features.shapes(flood_data, mask=flood_mask, transform=flood.meta['transform']):\n",
    "    allFeatures.append([idx, shape(geojson.loads(json.dumps(cShape)))])\n",
    "    idx+=1"
   ]
  },
  {
   "cell_type": "code",
   "execution_count": 25,
   "metadata": {},
   "outputs": [],
   "source": [
    "xx = pd.DataFrame(allFeatures, columns=['ID', 'geometry'])\n",
    "xxGeom = gpd.GeoDataFrame(xx, geometry='geometry', crs = flood_crs)"
   ]
  },
  {
   "cell_type": "code",
   "execution_count": 26,
   "metadata": {},
   "outputs": [],
   "source": [
    "xxGeom.to_file(os.path.join(out_folder, \"flood_bool.shp\"), driver=\"ESRI Shapefile\")"
   ]
  },
  {
   "cell_type": "code",
   "execution_count": 27,
   "metadata": {},
   "outputs": [],
   "source": [
    "cci_map = os.path.join(data_dir, \"cci\", \"land_cover_ETH.tif\")"
   ]
  },
  {
   "cell_type": "code",
   "execution_count": 28,
   "metadata": {},
   "outputs": [],
   "source": [
    "cci = rio.open(cci_map)"
   ]
  },
  {
   "cell_type": "code",
   "execution_count": 29,
   "metadata": {},
   "outputs": [],
   "source": [
    "flood_re, flood_re_meta = standardizeInputRasters(flood, cci, \"C\")"
   ]
  },
  {
   "cell_type": "code",
   "execution_count": 30,
   "metadata": {},
   "outputs": [],
   "source": [
    "cci_data = cci.read(1)"
   ]
  },
  {
   "cell_type": "code",
   "execution_count": 31,
   "metadata": {},
   "outputs": [],
   "source": [
    "flood_cci = flood_re[0,:,:]"
   ]
  },
  {
   "cell_type": "code",
   "execution_count": 32,
   "metadata": {},
   "outputs": [
    {
     "data": {
      "text/plain": [
       "True"
      ]
     },
     "execution_count": 32,
     "metadata": {},
     "output_type": "execute_result"
    }
   ],
   "source": [
    "cci_data.shape == flood_cci.shape"
   ]
  },
  {
   "cell_type": "code",
   "execution_count": 33,
   "metadata": {},
   "outputs": [],
   "source": [
    "cci_flooded = cci_data*flood_cci"
   ]
  },
  {
   "cell_type": "code",
   "execution_count": 34,
   "metadata": {},
   "outputs": [
    {
     "data": {
      "text/plain": [
       "CRS.from_epsg(4326)"
      ]
     },
     "execution_count": 34,
     "metadata": {},
     "output_type": "execute_result"
    }
   ],
   "source": [
    "cci.crs"
   ]
  },
  {
   "cell_type": "code",
   "execution_count": 36,
   "metadata": {},
   "outputs": [],
   "source": [
    "target = target.to_crs(cci.crs)"
   ]
  },
  {
   "cell_type": "code",
   "execution_count": 37,
   "metadata": {},
   "outputs": [],
   "source": [
    "cci_dict = {\n",
    "    1:'trees',\n",
    "    2:\"shrubs\",\n",
    "    3:\"grasslands\",\n",
    "    4:\"cropland\",\n",
    "    5:\"vegetation aquatic\",\n",
    "    6:\"sparse vegetation\",\n",
    "    7:\"bare areas\",\n",
    "    8:\"built up\",\n",
    "    10:\"water\"\n",
    "}"
   ]
  },
  {
   "cell_type": "code",
   "execution_count": 38,
   "metadata": {},
   "outputs": [],
   "source": [
    "zs = pd.DataFrame(zonal_stats(target, cci_flooded, affine=cci.meta['transform'], categorical=True, nodata=0, category_map=cci_dict))"
   ]
  },
  {
   "cell_type": "code",
   "execution_count": 40,
   "metadata": {},
   "outputs": [],
   "source": [
    "zs.fillna(0, inplace=True)"
   ]
  },
  {
   "cell_type": "code",
   "execution_count": 42,
   "metadata": {},
   "outputs": [],
   "source": [
    "zs_tot = pd.DataFrame(zonal_stats(target, cci_data, affine=cci.meta['transform'], categorical=True, nodata=0, category_map=cci_dict))"
   ]
  },
  {
   "cell_type": "code",
   "execution_count": 43,
   "metadata": {},
   "outputs": [],
   "source": [
    "zs_tot.fillna(0, inplace=True)"
   ]
  },
  {
   "cell_type": "code",
   "execution_count": 44,
   "metadata": {},
   "outputs": [],
   "source": [
    "zs_shares = zs.div(zs_tot)"
   ]
  },
  {
   "cell_type": "code",
   "execution_count": 45,
   "metadata": {},
   "outputs": [],
   "source": [
    "cci_pcts = zs.div(zs.sum(axis=1), axis=0)"
   ]
  },
  {
   "cell_type": "code",
   "execution_count": 46,
   "metadata": {},
   "outputs": [],
   "source": [
    "zs['all'] = zs.sum(axis=1)"
   ]
  },
  {
   "cell_type": "code",
   "execution_count": 48,
   "metadata": {},
   "outputs": [],
   "source": [
    "cci_area = zs*0.0004"
   ]
  },
  {
   "cell_type": "code",
   "execution_count": 49,
   "metadata": {},
   "outputs": [],
   "source": [
    "cci_res = cci_area.join(cci_pcts, rsuffix=\"_pct\")"
   ]
  },
  {
   "cell_type": "code",
   "execution_count": 50,
   "metadata": {},
   "outputs": [],
   "source": [
    "cci_res2 = cci_res.join(zs_shares, rsuffix=\"_shares\")"
   ]
  },
  {
   "cell_type": "code",
   "execution_count": 51,
   "metadata": {},
   "outputs": [
    {
     "data": {
      "text/plain": [
       "Index(['ID_0', 'ISO', 'NAME_0', 'ID_1', 'NAME_1', 'ID_2', 'NAME_2', 'ID_3',\n",
       "       'NAME_3', 'TYPE_3', 'ENGTYPE_3', 'NL_NAME_3', 'VARNAME_3', 'geometry'],\n",
       "      dtype='object')"
      ]
     },
     "execution_count": 51,
     "metadata": {},
     "output_type": "execute_result"
    }
   ],
   "source": [
    "target.columns"
   ]
  },
  {
   "cell_type": "code",
   "execution_count": 52,
   "metadata": {},
   "outputs": [],
   "source": [
    "cci_res2 = target[['NAME_3', 'ID_3']].join(cci_res2)"
   ]
  },
  {
   "cell_type": "code",
   "execution_count": 53,
   "metadata": {},
   "outputs": [],
   "source": [
    "cci_res2.fillna(0, inplace=True)"
   ]
  },
  {
   "cell_type": "code",
   "execution_count": 54,
   "metadata": {},
   "outputs": [],
   "source": [
    "cci_res2.to_csv(os.path.join(out_folder, \"CCI Flood Stats.csv\"))"
   ]
  },
  {
   "cell_type": "code",
   "execution_count": null,
   "metadata": {},
   "outputs": [],
   "source": []
  }
 ],
 "metadata": {
  "kernelspec": {
   "display_name": "GEO",
   "language": "python",
   "name": "geo"
  },
  "language_info": {
   "codemirror_mode": {
    "name": "ipython",
    "version": 3
   },
   "file_extension": ".py",
   "mimetype": "text/x-python",
   "name": "python",
   "nbconvert_exporter": "python",
   "pygments_lexer": "ipython3",
   "version": "3.7.6"
  }
 },
 "nbformat": 4,
 "nbformat_minor": 2
}
