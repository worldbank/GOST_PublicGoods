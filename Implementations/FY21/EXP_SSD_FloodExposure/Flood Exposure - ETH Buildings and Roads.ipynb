{
 "cells": [
  {
   "cell_type": "code",
   "execution_count": 1,
   "metadata": {},
   "outputs": [],
   "source": [
    "import rasterio as rio\n",
    "import geopandas as gpd\n",
    "import pandas as pd\n",
    "import os, sys, glob\n",
    "from osgeo import gdal\n",
    "from rasterstats import zonal_stats\n",
    "from rasterio.warp import reproject, Resampling\n",
    "from shapely.geometry import box\n",
    "from rasterio.mask import mask\n",
    "import numpy as np\n",
    "from rasterio import features\n",
    "from shapely.geometry import shape, Polygon\n",
    "from shapely.wkt import loads\n",
    "from tqdm import tqdm\n",
    "import geojson, json\n",
    "import osmnx as ox\n",
    "from affine import Affine\n",
    "from matplotlib import pyplot as plt\n",
    "from rasterio.plot import show\n",
    "from shapely.wkt import loads\n",
    "from shapely.geometry import Point"
   ]
  },
  {
   "cell_type": "code",
   "execution_count": 2,
   "metadata": {},
   "outputs": [],
   "source": [
    "sys.path.append(\"/home/wb514197/Repos/INFRA_SAP\")\n",
    "import infrasap.rasterMisc as rMisc\n",
    "import infrasap.aggregator as agg"
   ]
  },
  {
   "cell_type": "code",
   "execution_count": 11,
   "metadata": {},
   "outputs": [],
   "source": [
    "data_dir = '/home/wb514197/data/ethiopia'\n",
    "dig_dir = os.path.join(data_dir, \"digitize_africa\")"
   ]
  },
  {
   "cell_type": "code",
   "execution_count": 4,
   "metadata": {},
   "outputs": [],
   "source": [
    "woreda = os.path.join(data_dir, 'admin', 'gadm', 'ETH_adm3.shp')\n",
    "flood_map = os.path.join(data_dir, \"flood\", \"Ethiopia_S1S2_fusion_20m_cog.tif\")"
   ]
  },
  {
   "cell_type": "code",
   "execution_count": 5,
   "metadata": {},
   "outputs": [],
   "source": [
    "target = gpd.read_file(woreda)\n",
    "flood = rio.open(flood_map)"
   ]
  },
  {
   "cell_type": "code",
   "execution_count": 15,
   "metadata": {},
   "outputs": [],
   "source": [
    "buildings = [gpd.read_file(f) for f in glob.glob(dig_dir+\"/*.shp\")]"
   ]
  },
  {
   "cell_type": "code",
   "execution_count": 16,
   "metadata": {},
   "outputs": [
    {
     "data": {
      "text/plain": [
       "6"
      ]
     },
     "execution_count": 16,
     "metadata": {},
     "output_type": "execute_result"
    }
   ],
   "source": [
    "len(buildings)"
   ]
  },
  {
   "cell_type": "code",
   "execution_count": 19,
   "metadata": {},
   "outputs": [
    {
     "data": {
      "text/plain": [
       "CRS.from_epsg(32636)"
      ]
     },
     "execution_count": 19,
     "metadata": {},
     "output_type": "execute_result"
    }
   ],
   "source": [
    "flood.crs"
   ]
  },
  {
   "cell_type": "code",
   "execution_count": 20,
   "metadata": {},
   "outputs": [],
   "source": [
    "buildings = [b.to_crs('EPSG:32636') for b in buildings]"
   ]
  },
  {
   "cell_type": "code",
   "execution_count": 23,
   "metadata": {},
   "outputs": [],
   "source": [
    "buildings_all = pd.concat(buildings)"
   ]
  },
  {
   "cell_type": "code",
   "execution_count": 27,
   "metadata": {},
   "outputs": [],
   "source": [
    "sindex_buildings = buildings_all.sindex"
   ]
  },
  {
   "cell_type": "code",
   "execution_count": 30,
   "metadata": {},
   "outputs": [],
   "source": [
    "flood_crs = flood.crs.to_string()"
   ]
  },
  {
   "cell_type": "code",
   "execution_count": 31,
   "metadata": {},
   "outputs": [],
   "source": [
    "flood_data = flood.read(1)"
   ]
  },
  {
   "cell_type": "code",
   "execution_count": 32,
   "metadata": {},
   "outputs": [],
   "source": [
    "flood_mask = (flood_data==1)"
   ]
  },
  {
   "cell_type": "code",
   "execution_count": 33,
   "metadata": {},
   "outputs": [],
   "source": [
    "allFeatures = []\n",
    "idx = 0\n",
    "for cShape, value in features.shapes(flood_data, mask=flood_mask, transform=flood.meta['transform']):\n",
    "    allFeatures.append([idx, shape(geojson.loads(json.dumps(cShape)))])\n",
    "    idx+=1"
   ]
  },
  {
   "cell_type": "code",
   "execution_count": 34,
   "metadata": {},
   "outputs": [],
   "source": [
    "xx = pd.DataFrame(allFeatures, columns=['ID', 'geometry'])\n",
    "xxGeom = gpd.GeoDataFrame(xx, geometry='geometry', crs = flood_crs)"
   ]
  },
  {
   "cell_type": "code",
   "execution_count": 35,
   "metadata": {},
   "outputs": [],
   "source": [
    "sindex_flood = xxGeom.sindex"
   ]
  },
  {
   "cell_type": "code",
   "execution_count": 38,
   "metadata": {},
   "outputs": [],
   "source": [
    "target = target.to_crs(flood_crs)"
   ]
  },
  {
   "cell_type": "code",
   "execution_count": 39,
   "metadata": {},
   "outputs": [],
   "source": [
    "adm0 = target.unary_union"
   ]
  },
  {
   "cell_type": "code",
   "execution_count": 41,
   "metadata": {},
   "outputs": [],
   "source": [
    "geom_cut = ox.utils_geo._quadrat_cut_geometry(adm0, 50000)"
   ]
  },
  {
   "cell_type": "code",
   "execution_count": 48,
   "metadata": {},
   "outputs": [],
   "source": [
    "res = []"
   ]
  },
  {
   "cell_type": "code",
   "execution_count": 47,
   "metadata": {},
   "outputs": [],
   "source": [
    "xxGeom.loc[:,\"bool\"] = 1"
   ]
  },
  {
   "cell_type": "code",
   "execution_count": 49,
   "metadata": {},
   "outputs": [
    {
     "name": "stderr",
     "output_type": "stream",
     "text": [
      "540it [3:03:58, 20.44s/it]  \n"
     ]
    }
   ],
   "source": [
    "for i, poly in tqdm(enumerate(geom_cut)):\n",
    "    \n",
    "    possible_matches_buildings_index = list(sindex_buildings.intersection(poly.bounds))\n",
    "    possible_matches_flood_index = list(sindex_flood.intersection(poly.bounds))\n",
    "\n",
    "    possible_matches_buildings = buildings_all.iloc[possible_matches_buildings_index]\n",
    "    possible_matches_flood = xxGeom.iloc[possible_matches_flood_index]\n",
    "\n",
    "    buildings_filt = possible_matches_buildings[possible_matches_buildings.intersects(poly)]\n",
    "    flood_filt = possible_matches_flood[possible_matches_flood.intersects(poly)].copy()\n",
    "    \n",
    "    intersect = gpd.sjoin(buildings_filt, flood_filt, how='left', rsuffix=\"flood\")\n",
    "    intersect = intersect[intersect['bool']==1].copy()\n",
    "    res.append(intersect)"
   ]
  },
  {
   "cell_type": "code",
   "execution_count": 50,
   "metadata": {},
   "outputs": [],
   "source": [
    "results = pd.concat(res)"
   ]
  },
  {
   "cell_type": "code",
   "execution_count": 51,
   "metadata": {},
   "outputs": [
    {
     "data": {
      "text/plain": [
       "39038"
      ]
     },
     "execution_count": 51,
     "metadata": {},
     "output_type": "execute_result"
    }
   ],
   "source": [
    "len(results)"
   ]
  },
  {
   "cell_type": "code",
   "execution_count": 54,
   "metadata": {},
   "outputs": [
    {
     "data": {
      "text/plain": [
       "Index(['ID_0', 'ISO', 'NAME_0', 'ID_1', 'NAME_1', 'ID_2', 'NAME_2', 'ID_3',\n",
       "       'NAME_3', 'TYPE_3', 'ENGTYPE_3', 'NL_NAME_3', 'VARNAME_3', 'geometry'],\n",
       "      dtype='object')"
      ]
     },
     "execution_count": 54,
     "metadata": {},
     "output_type": "execute_result"
    }
   ],
   "source": [
    "target.columns"
   ]
  },
  {
   "cell_type": "code",
   "execution_count": 55,
   "metadata": {},
   "outputs": [],
   "source": [
    "results2 = gpd.sjoin(results, target[['NAME_3', 'ID_3', 'geometry']], how='left', rsuffix=\"admin\")"
   ]
  },
  {
   "cell_type": "code",
   "execution_count": 57,
   "metadata": {},
   "outputs": [
    {
     "data": {
      "text/plain": [
       "Index(['PolyDate', 'PolySource', 'ImgSource', 'ImgDate', 'MosaicName',\n",
       "       'geometry', 'index_flood', 'ID', 'bool', 'index_admin', 'NAME_3',\n",
       "       'ID_3'],\n",
       "      dtype='object')"
      ]
     },
     "execution_count": 57,
     "metadata": {},
     "output_type": "execute_result"
    }
   ],
   "source": [
    "results2.columns"
   ]
  },
  {
   "cell_type": "code",
   "execution_count": 63,
   "metadata": {},
   "outputs": [
    {
     "data": {
      "text/html": [
       "<div>\n",
       "<style scoped>\n",
       "    .dataframe tbody tr th:only-of-type {\n",
       "        vertical-align: middle;\n",
       "    }\n",
       "\n",
       "    .dataframe tbody tr th {\n",
       "        vertical-align: top;\n",
       "    }\n",
       "\n",
       "    .dataframe thead th {\n",
       "        text-align: right;\n",
       "    }\n",
       "</style>\n",
       "<table border=\"1\" class=\"dataframe\">\n",
       "  <thead>\n",
       "    <tr style=\"text-align: right;\">\n",
       "      <th></th>\n",
       "      <th>PolyDate</th>\n",
       "      <th>PolySource</th>\n",
       "      <th>ImgSource</th>\n",
       "      <th>ImgDate</th>\n",
       "      <th>MosaicName</th>\n",
       "      <th>geometry</th>\n",
       "      <th>index_flood</th>\n",
       "      <th>ID</th>\n",
       "      <th>bool</th>\n",
       "      <th>index_admin</th>\n",
       "      <th>NAME_3</th>\n",
       "      <th>ID_3</th>\n",
       "    </tr>\n",
       "  </thead>\n",
       "  <tbody>\n",
       "    <tr>\n",
       "      <th>4580604</th>\n",
       "      <td>2020-06</td>\n",
       "      <td>Ecopia</td>\n",
       "      <td>Maxar</td>\n",
       "      <td>2016-01</td>\n",
       "      <td>CUSTOM_ETHIOPIA_BBA_20Q1</td>\n",
       "      <td>POLYGON ((1172755.662 397652.512, 1172760.119 ...</td>\n",
       "      <td>543310.0</td>\n",
       "      <td>543310.0</td>\n",
       "      <td>1.0</td>\n",
       "      <td>242</td>\n",
       "      <td>Moyale</td>\n",
       "      <td>243</td>\n",
       "    </tr>\n",
       "    <tr>\n",
       "      <th>4587752</th>\n",
       "      <td>2020-06</td>\n",
       "      <td>Ecopia</td>\n",
       "      <td>Maxar</td>\n",
       "      <td>2016-01</td>\n",
       "      <td>CUSTOM_ETHIOPIA_BBA_20Q1</td>\n",
       "      <td>POLYGON ((1172717.653 397656.680, 1172721.727 ...</td>\n",
       "      <td>543311.0</td>\n",
       "      <td>543311.0</td>\n",
       "      <td>1.0</td>\n",
       "      <td>242</td>\n",
       "      <td>Moyale</td>\n",
       "      <td>243</td>\n",
       "    </tr>\n",
       "    <tr>\n",
       "      <th>4587567</th>\n",
       "      <td>2020-06</td>\n",
       "      <td>Ecopia</td>\n",
       "      <td>Maxar</td>\n",
       "      <td>2016-01</td>\n",
       "      <td>CUSTOM_ETHIOPIA_BBA_20Q1</td>\n",
       "      <td>POLYGON ((1172764.314 397662.122, 1172767.402 ...</td>\n",
       "      <td>543310.0</td>\n",
       "      <td>543310.0</td>\n",
       "      <td>1.0</td>\n",
       "      <td>242</td>\n",
       "      <td>Moyale</td>\n",
       "      <td>243</td>\n",
       "    </tr>\n",
       "    <tr>\n",
       "      <th>4587566</th>\n",
       "      <td>2020-06</td>\n",
       "      <td>Ecopia</td>\n",
       "      <td>Maxar</td>\n",
       "      <td>2016-01</td>\n",
       "      <td>CUSTOM_ETHIOPIA_BBA_20Q1</td>\n",
       "      <td>POLYGON ((1172765.874 397666.976, 1172766.763 ...</td>\n",
       "      <td>543310.0</td>\n",
       "      <td>543310.0</td>\n",
       "      <td>1.0</td>\n",
       "      <td>242</td>\n",
       "      <td>Moyale</td>\n",
       "      <td>243</td>\n",
       "    </tr>\n",
       "    <tr>\n",
       "      <th>4587560</th>\n",
       "      <td>2020-06</td>\n",
       "      <td>Ecopia</td>\n",
       "      <td>Maxar</td>\n",
       "      <td>2016-01</td>\n",
       "      <td>CUSTOM_ETHIOPIA_BBA_20Q1</td>\n",
       "      <td>POLYGON ((1172765.835 397666.952, 1172762.728 ...</td>\n",
       "      <td>543310.0</td>\n",
       "      <td>543310.0</td>\n",
       "      <td>1.0</td>\n",
       "      <td>242</td>\n",
       "      <td>Moyale</td>\n",
       "      <td>243</td>\n",
       "    </tr>\n",
       "  </tbody>\n",
       "</table>\n",
       "</div>"
      ],
      "text/plain": [
       "        PolyDate PolySource ImgSource  ImgDate                MosaicName  \\\n",
       "4580604  2020-06     Ecopia     Maxar  2016-01  CUSTOM_ETHIOPIA_BBA_20Q1   \n",
       "4587752  2020-06     Ecopia     Maxar  2016-01  CUSTOM_ETHIOPIA_BBA_20Q1   \n",
       "4587567  2020-06     Ecopia     Maxar  2016-01  CUSTOM_ETHIOPIA_BBA_20Q1   \n",
       "4587566  2020-06     Ecopia     Maxar  2016-01  CUSTOM_ETHIOPIA_BBA_20Q1   \n",
       "4587560  2020-06     Ecopia     Maxar  2016-01  CUSTOM_ETHIOPIA_BBA_20Q1   \n",
       "\n",
       "                                                  geometry  index_flood  \\\n",
       "4580604  POLYGON ((1172755.662 397652.512, 1172760.119 ...     543310.0   \n",
       "4587752  POLYGON ((1172717.653 397656.680, 1172721.727 ...     543311.0   \n",
       "4587567  POLYGON ((1172764.314 397662.122, 1172767.402 ...     543310.0   \n",
       "4587566  POLYGON ((1172765.874 397666.976, 1172766.763 ...     543310.0   \n",
       "4587560  POLYGON ((1172765.835 397666.952, 1172762.728 ...     543310.0   \n",
       "\n",
       "               ID  bool  index_admin  NAME_3  ID_3  \n",
       "4580604  543310.0   1.0          242  Moyale   243  \n",
       "4587752  543311.0   1.0          242  Moyale   243  \n",
       "4587567  543310.0   1.0          242  Moyale   243  \n",
       "4587566  543310.0   1.0          242  Moyale   243  \n",
       "4587560  543310.0   1.0          242  Moyale   243  "
      ]
     },
     "execution_count": 63,
     "metadata": {},
     "output_type": "execute_result"
    }
   ],
   "source": [
    "results2.head()"
   ]
  },
  {
   "cell_type": "code",
   "execution_count": 68,
   "metadata": {},
   "outputs": [],
   "source": [
    "results3 = results2.loc[~results2.index.duplicated(keep='first')].copy()"
   ]
  },
  {
   "cell_type": "code",
   "execution_count": 69,
   "metadata": {},
   "outputs": [],
   "source": [
    "results3.fillna(0, inplace=True)"
   ]
  },
  {
   "cell_type": "code",
   "execution_count": 72,
   "metadata": {},
   "outputs": [],
   "source": [
    "summary_count = results3.groupby('ID_3')[['ImgSource']].count()"
   ]
  },
  {
   "cell_type": "code",
   "execution_count": 82,
   "metadata": {},
   "outputs": [],
   "source": [
    "out_folder = os.path.join(data_dir, \"output\")\n",
    "if not os.path.exists(out_folder):\n",
    "    os.mkdir(out_folder)"
   ]
  },
  {
   "cell_type": "code",
   "execution_count": 73,
   "metadata": {
    "scrolled": true
   },
   "outputs": [
    {
     "data": {
      "text/html": [
       "<div>\n",
       "<style scoped>\n",
       "    .dataframe tbody tr th:only-of-type {\n",
       "        vertical-align: middle;\n",
       "    }\n",
       "\n",
       "    .dataframe tbody tr th {\n",
       "        vertical-align: top;\n",
       "    }\n",
       "\n",
       "    .dataframe thead th {\n",
       "        text-align: right;\n",
       "    }\n",
       "</style>\n",
       "<table border=\"1\" class=\"dataframe\">\n",
       "  <thead>\n",
       "    <tr style=\"text-align: right;\">\n",
       "      <th></th>\n",
       "      <th>ImgSource</th>\n",
       "    </tr>\n",
       "    <tr>\n",
       "      <th>ID_3</th>\n",
       "      <th></th>\n",
       "    </tr>\n",
       "  </thead>\n",
       "  <tbody>\n",
       "    <tr>\n",
       "      <th>1</th>\n",
       "      <td>44</td>\n",
       "    </tr>\n",
       "    <tr>\n",
       "      <th>2</th>\n",
       "      <td>37</td>\n",
       "    </tr>\n",
       "    <tr>\n",
       "      <th>3</th>\n",
       "      <td>136</td>\n",
       "    </tr>\n",
       "    <tr>\n",
       "      <th>4</th>\n",
       "      <td>84</td>\n",
       "    </tr>\n",
       "    <tr>\n",
       "      <th>5</th>\n",
       "      <td>2</td>\n",
       "    </tr>\n",
       "    <tr>\n",
       "      <th>...</th>\n",
       "      <td>...</td>\n",
       "    </tr>\n",
       "    <tr>\n",
       "      <th>561</th>\n",
       "      <td>3</td>\n",
       "    </tr>\n",
       "    <tr>\n",
       "      <th>563</th>\n",
       "      <td>56</td>\n",
       "    </tr>\n",
       "    <tr>\n",
       "      <th>564</th>\n",
       "      <td>6</td>\n",
       "    </tr>\n",
       "    <tr>\n",
       "      <th>565</th>\n",
       "      <td>34</td>\n",
       "    </tr>\n",
       "    <tr>\n",
       "      <th>567</th>\n",
       "      <td>126</td>\n",
       "    </tr>\n",
       "  </tbody>\n",
       "</table>\n",
       "<p>398 rows × 1 columns</p>\n",
       "</div>"
      ],
      "text/plain": [
       "      ImgSource\n",
       "ID_3           \n",
       "1            44\n",
       "2            37\n",
       "3           136\n",
       "4            84\n",
       "5             2\n",
       "...         ...\n",
       "561           3\n",
       "563          56\n",
       "564           6\n",
       "565          34\n",
       "567         126\n",
       "\n",
       "[398 rows x 1 columns]"
      ]
     },
     "execution_count": 73,
     "metadata": {},
     "output_type": "execute_result"
    }
   ],
   "source": [
    "summary_count"
   ]
  },
  {
   "cell_type": "code",
   "execution_count": 74,
   "metadata": {},
   "outputs": [],
   "source": [
    "results3.loc[:, \"Area\"] = results3.geometry.area"
   ]
  },
  {
   "cell_type": "code",
   "execution_count": 75,
   "metadata": {},
   "outputs": [],
   "source": [
    "summary_area = results3.groupby('ID_3')[['Area']].sum()"
   ]
  },
  {
   "cell_type": "code",
   "execution_count": 76,
   "metadata": {},
   "outputs": [
    {
     "data": {
      "text/html": [
       "<div>\n",
       "<style scoped>\n",
       "    .dataframe tbody tr th:only-of-type {\n",
       "        vertical-align: middle;\n",
       "    }\n",
       "\n",
       "    .dataframe tbody tr th {\n",
       "        vertical-align: top;\n",
       "    }\n",
       "\n",
       "    .dataframe thead th {\n",
       "        text-align: right;\n",
       "    }\n",
       "</style>\n",
       "<table border=\"1\" class=\"dataframe\">\n",
       "  <thead>\n",
       "    <tr style=\"text-align: right;\">\n",
       "      <th></th>\n",
       "      <th>Area</th>\n",
       "    </tr>\n",
       "    <tr>\n",
       "      <th>ID_3</th>\n",
       "      <th></th>\n",
       "    </tr>\n",
       "  </thead>\n",
       "  <tbody>\n",
       "    <tr>\n",
       "      <th>1</th>\n",
       "      <td>6903.776632</td>\n",
       "    </tr>\n",
       "    <tr>\n",
       "      <th>2</th>\n",
       "      <td>6499.153251</td>\n",
       "    </tr>\n",
       "    <tr>\n",
       "      <th>3</th>\n",
       "      <td>15713.880267</td>\n",
       "    </tr>\n",
       "    <tr>\n",
       "      <th>4</th>\n",
       "      <td>7996.021927</td>\n",
       "    </tr>\n",
       "    <tr>\n",
       "      <th>5</th>\n",
       "      <td>2202.693591</td>\n",
       "    </tr>\n",
       "    <tr>\n",
       "      <th>...</th>\n",
       "      <td>...</td>\n",
       "    </tr>\n",
       "    <tr>\n",
       "      <th>561</th>\n",
       "      <td>48.367311</td>\n",
       "    </tr>\n",
       "    <tr>\n",
       "      <th>563</th>\n",
       "      <td>3375.843408</td>\n",
       "    </tr>\n",
       "    <tr>\n",
       "      <th>564</th>\n",
       "      <td>518.376233</td>\n",
       "    </tr>\n",
       "    <tr>\n",
       "      <th>565</th>\n",
       "      <td>2733.989145</td>\n",
       "    </tr>\n",
       "    <tr>\n",
       "      <th>567</th>\n",
       "      <td>18887.129564</td>\n",
       "    </tr>\n",
       "  </tbody>\n",
       "</table>\n",
       "<p>398 rows × 1 columns</p>\n",
       "</div>"
      ],
      "text/plain": [
       "              Area\n",
       "ID_3              \n",
       "1      6903.776632\n",
       "2      6499.153251\n",
       "3     15713.880267\n",
       "4      7996.021927\n",
       "5      2202.693591\n",
       "...            ...\n",
       "561      48.367311\n",
       "563    3375.843408\n",
       "564     518.376233\n",
       "565    2733.989145\n",
       "567   18887.129564\n",
       "\n",
       "[398 rows x 1 columns]"
      ]
     },
     "execution_count": 76,
     "metadata": {},
     "output_type": "execute_result"
    }
   ],
   "source": [
    "summary_area"
   ]
  },
  {
   "cell_type": "code",
   "execution_count": 79,
   "metadata": {},
   "outputs": [],
   "source": [
    "summary = summary_count.join(summary_area, how='outer')"
   ]
  },
  {
   "cell_type": "code",
   "execution_count": 83,
   "metadata": {},
   "outputs": [],
   "source": [
    "summary.to_csv(os.path.join(out_folder, \"buildings_flooded.csv\"))"
   ]
  },
  {
   "cell_type": "code",
   "execution_count": 141,
   "metadata": {},
   "outputs": [],
   "source": [
    "buildings_all2 = gpd.sjoin(buildings_all, target[['NAME_3', 'ID_3', 'geometry']], how='left', rsuffix=\"admin\")"
   ]
  },
  {
   "cell_type": "code",
   "execution_count": 153,
   "metadata": {},
   "outputs": [
    {
     "data": {
      "text/plain": [
       "Index(['PolyDate', 'PolySource', 'ImgSource', 'ImgDate', 'MosaicName',\n",
       "       'geometry', 'index_admin', 'NAME_3', 'ID_3'],\n",
       "      dtype='object')"
      ]
     },
     "execution_count": 153,
     "metadata": {},
     "output_type": "execute_result"
    }
   ],
   "source": [
    "buildings_all2.columns"
   ]
  },
  {
   "cell_type": "code",
   "execution_count": 144,
   "metadata": {},
   "outputs": [],
   "source": [
    "all_buildings_count = buildings_all2.groupby('ID_3')[['ImgSource']].count()"
   ]
  },
  {
   "cell_type": "code",
   "execution_count": 150,
   "metadata": {},
   "outputs": [],
   "source": [
    "summary2 = summary.join(all_buildings_count, how='outer', rsuffix='_all')"
   ]
  },
  {
   "cell_type": "code",
   "execution_count": 152,
   "metadata": {},
   "outputs": [],
   "source": [
    "summary2.to_csv(os.path.join(out_folder, \"buildings_flooded.csv\"))"
   ]
  },
  {
   "cell_type": "code",
   "execution_count": 154,
   "metadata": {},
   "outputs": [
    {
     "data": {
      "text/html": [
       "<div>\n",
       "<style scoped>\n",
       "    .dataframe tbody tr th:only-of-type {\n",
       "        vertical-align: middle;\n",
       "    }\n",
       "\n",
       "    .dataframe tbody tr th {\n",
       "        vertical-align: top;\n",
       "    }\n",
       "\n",
       "    .dataframe thead th {\n",
       "        text-align: right;\n",
       "    }\n",
       "</style>\n",
       "<table border=\"1\" class=\"dataframe\">\n",
       "  <thead>\n",
       "    <tr style=\"text-align: right;\">\n",
       "      <th></th>\n",
       "      <th>ImgSource</th>\n",
       "      <th>Area</th>\n",
       "      <th>ImgSource_all</th>\n",
       "    </tr>\n",
       "    <tr>\n",
       "      <th>ID_3</th>\n",
       "      <th></th>\n",
       "      <th></th>\n",
       "      <th></th>\n",
       "    </tr>\n",
       "  </thead>\n",
       "  <tbody>\n",
       "    <tr>\n",
       "      <th>1.0</th>\n",
       "      <td>44.0</td>\n",
       "      <td>6903.776632</td>\n",
       "      <td>5724</td>\n",
       "    </tr>\n",
       "    <tr>\n",
       "      <th>2.0</th>\n",
       "      <td>37.0</td>\n",
       "      <td>6499.153251</td>\n",
       "      <td>4877</td>\n",
       "    </tr>\n",
       "    <tr>\n",
       "      <th>3.0</th>\n",
       "      <td>136.0</td>\n",
       "      <td>15713.880267</td>\n",
       "      <td>6701</td>\n",
       "    </tr>\n",
       "    <tr>\n",
       "      <th>4.0</th>\n",
       "      <td>84.0</td>\n",
       "      <td>7996.021927</td>\n",
       "      <td>7796</td>\n",
       "    </tr>\n",
       "    <tr>\n",
       "      <th>5.0</th>\n",
       "      <td>2.0</td>\n",
       "      <td>2202.693591</td>\n",
       "      <td>9415</td>\n",
       "    </tr>\n",
       "    <tr>\n",
       "      <th>...</th>\n",
       "      <td>...</td>\n",
       "      <td>...</td>\n",
       "      <td>...</td>\n",
       "    </tr>\n",
       "    <tr>\n",
       "      <th>563.0</th>\n",
       "      <td>56.0</td>\n",
       "      <td>3375.843408</td>\n",
       "      <td>83777</td>\n",
       "    </tr>\n",
       "    <tr>\n",
       "      <th>564.0</th>\n",
       "      <td>6.0</td>\n",
       "      <td>518.376233</td>\n",
       "      <td>70513</td>\n",
       "    </tr>\n",
       "    <tr>\n",
       "      <th>565.0</th>\n",
       "      <td>34.0</td>\n",
       "      <td>2733.989145</td>\n",
       "      <td>50256</td>\n",
       "    </tr>\n",
       "    <tr>\n",
       "      <th>566.0</th>\n",
       "      <td>NaN</td>\n",
       "      <td>NaN</td>\n",
       "      <td>84476</td>\n",
       "    </tr>\n",
       "    <tr>\n",
       "      <th>567.0</th>\n",
       "      <td>126.0</td>\n",
       "      <td>18887.129564</td>\n",
       "      <td>95577</td>\n",
       "    </tr>\n",
       "  </tbody>\n",
       "</table>\n",
       "<p>566 rows × 3 columns</p>\n",
       "</div>"
      ],
      "text/plain": [
       "       ImgSource          Area  ImgSource_all\n",
       "ID_3                                         \n",
       "1.0         44.0   6903.776632           5724\n",
       "2.0         37.0   6499.153251           4877\n",
       "3.0        136.0  15713.880267           6701\n",
       "4.0         84.0   7996.021927           7796\n",
       "5.0          2.0   2202.693591           9415\n",
       "...          ...           ...            ...\n",
       "563.0       56.0   3375.843408          83777\n",
       "564.0        6.0    518.376233          70513\n",
       "565.0       34.0   2733.989145          50256\n",
       "566.0        NaN           NaN          84476\n",
       "567.0      126.0  18887.129564          95577\n",
       "\n",
       "[566 rows x 3 columns]"
      ]
     },
     "execution_count": 154,
     "metadata": {},
     "output_type": "execute_result"
    }
   ],
   "source": [
    "summary2"
   ]
  },
  {
   "cell_type": "code",
   "execution_count": null,
   "metadata": {},
   "outputs": [],
   "source": []
  },
  {
   "cell_type": "code",
   "execution_count": 98,
   "metadata": {},
   "outputs": [],
   "source": [
    "roads_esri = gpd.read_file(os.path.join(out_folder, \"roads_flooded.shp\"))"
   ]
  },
  {
   "cell_type": "code",
   "execution_count": 99,
   "metadata": {},
   "outputs": [
    {
     "data": {
      "text/plain": [
       "<Geographic 2D CRS: EPSG:4326>\n",
       "Name: WGS 84\n",
       "Axis Info [ellipsoidal]:\n",
       "- Lat[north]: Geodetic latitude (degree)\n",
       "- Lon[east]: Geodetic longitude (degree)\n",
       "Area of Use:\n",
       "- name: World.\n",
       "- bounds: (-180.0, -90.0, 180.0, 90.0)\n",
       "Datum: World Geodetic System 1984\n",
       "- Ellipsoid: WGS 84\n",
       "- Prime Meridian: Greenwich"
      ]
     },
     "execution_count": 99,
     "metadata": {},
     "output_type": "execute_result"
    }
   ],
   "source": [
    "roads_esri.crs"
   ]
  },
  {
   "cell_type": "code",
   "execution_count": 100,
   "metadata": {},
   "outputs": [],
   "source": [
    "roads_esri = roads_esri.to_crs(flood.crs)"
   ]
  },
  {
   "cell_type": "code",
   "execution_count": 101,
   "metadata": {
    "scrolled": true
   },
   "outputs": [
    {
     "data": {
      "text/plain": [
       "array(['unclassified', 'primary', 'tertiary', 'secondary', 'residential',\n",
       "       'trunk', 'track', 'primary_link', 'service', 'path', 'trunk_link',\n",
       "       'footway', 'construction', 'motorway', 'tertiary_link',\n",
       "       'pedestrian', 'steps', 'secondary_link'], dtype=object)"
      ]
     },
     "execution_count": 101,
     "metadata": {},
     "output_type": "execute_result"
    }
   ],
   "source": [
    "roads_esri['type'].unique()"
   ]
  },
  {
   "cell_type": "code",
   "execution_count": 102,
   "metadata": {},
   "outputs": [],
   "source": [
    "allowed_types = ['unclassified', 'primary', 'tertiary', 'secondary', 'residential',\n",
    "       'trunk', 'track', 'primary_link', 'service', 'trunk_link',\n",
    "       'footway', 'motorway', 'tertiary_link',\n",
    "       'pedestrian', 'steps', 'secondary_link']"
   ]
  },
  {
   "cell_type": "code",
   "execution_count": 103,
   "metadata": {},
   "outputs": [],
   "source": [
    "roads_esri = roads_esri.loc[roads_esri['type'].isin(allowed_types)].copy()"
   ]
  },
  {
   "cell_type": "code",
   "execution_count": 104,
   "metadata": {},
   "outputs": [],
   "source": [
    "roads_esri.loc[:, \"length\"] = roads_esri.geometry.length"
   ]
  },
  {
   "cell_type": "code",
   "execution_count": 109,
   "metadata": {},
   "outputs": [],
   "source": [
    "roads_esri2 = gpd.sjoin(roads_esri, target[['NAME_3', 'ID_3', 'geometry']], how='left', rsuffix=\"admin\")"
   ]
  },
  {
   "cell_type": "code",
   "execution_count": 112,
   "metadata": {},
   "outputs": [],
   "source": [
    "tab_flood = roads_esri2.groupby('ID_3')[['length']].sum()"
   ]
  },
  {
   "cell_type": "code",
   "execution_count": 126,
   "metadata": {},
   "outputs": [],
   "source": [
    "# roads_all = gpd.read_file('/home/wb514197/data/INFRA_SAP/ETH/highways.shp')\n",
    "roads_all = gpd.read_file(os.path.join(out_folder, \"roads_all.shp\"))"
   ]
  },
  {
   "cell_type": "code",
   "execution_count": 127,
   "metadata": {},
   "outputs": [
    {
     "data": {
      "text/plain": [
       "array(['residential', 'primary', 'service', 'tertiary', 'trunk',\n",
       "       'secondary', 'unclassified', 'primary_link', 'trunk_link', 'path',\n",
       "       'track', 'secondary_link', 'steps', 'footway', 'tertiary_link',\n",
       "       'platform', 'motorway_link', 'construction', 'motorway',\n",
       "       'rest_area', 'pedestrian', 'bridleway', 'road', 'raceway',\n",
       "       'living_street', 'bus_guideway'], dtype=object)"
      ]
     },
     "execution_count": 127,
     "metadata": {},
     "output_type": "execute_result"
    }
   ],
   "source": [
    "roads_all['type'].unique()"
   ]
  },
  {
   "cell_type": "code",
   "execution_count": 128,
   "metadata": {},
   "outputs": [],
   "source": [
    "allowed_types = ['residential', 'primary', 'service', 'tertiary', 'trunk',\n",
    "       'secondary', 'unclassified', 'primary_link', 'trunk_link',\n",
    "       'track', 'secondary_link', 'footway', 'tertiary_link',\n",
    "       'platform', 'motorway_link', 'motorway', 'pedestrian', \n",
    "        'bridleway', 'road', 'raceway',\n",
    "       'living_street', 'bus_guideway']"
   ]
  },
  {
   "cell_type": "code",
   "execution_count": 129,
   "metadata": {},
   "outputs": [],
   "source": [
    "roads_all = roads_all.loc[roads_all['type'].isin(allowed_types)].copy()"
   ]
  },
  {
   "cell_type": "code",
   "execution_count": 130,
   "metadata": {},
   "outputs": [],
   "source": [
    "roads_all = roads_all.to_crs(flood.crs)"
   ]
  },
  {
   "cell_type": "code",
   "execution_count": 131,
   "metadata": {},
   "outputs": [],
   "source": [
    "roads_all.loc[:, \"length\"] = roads_all.geometry.length"
   ]
  },
  {
   "cell_type": "code",
   "execution_count": 132,
   "metadata": {},
   "outputs": [],
   "source": [
    "tab_all = roads_all.groupby('ID_3')[['length']].sum()"
   ]
  },
  {
   "cell_type": "code",
   "execution_count": 134,
   "metadata": {},
   "outputs": [
    {
     "data": {
      "text/html": [
       "<div>\n",
       "<style scoped>\n",
       "    .dataframe tbody tr th:only-of-type {\n",
       "        vertical-align: middle;\n",
       "    }\n",
       "\n",
       "    .dataframe tbody tr th {\n",
       "        vertical-align: top;\n",
       "    }\n",
       "\n",
       "    .dataframe thead th {\n",
       "        text-align: right;\n",
       "    }\n",
       "</style>\n",
       "<table border=\"1\" class=\"dataframe\">\n",
       "  <thead>\n",
       "    <tr style=\"text-align: right;\">\n",
       "      <th></th>\n",
       "      <th>length</th>\n",
       "    </tr>\n",
       "    <tr>\n",
       "      <th>ID_3</th>\n",
       "      <th></th>\n",
       "    </tr>\n",
       "  </thead>\n",
       "  <tbody>\n",
       "    <tr>\n",
       "      <th>1</th>\n",
       "      <td>29554.878212</td>\n",
       "    </tr>\n",
       "    <tr>\n",
       "      <th>2</th>\n",
       "      <td>36501.484861</td>\n",
       "    </tr>\n",
       "    <tr>\n",
       "      <th>3</th>\n",
       "      <td>47216.909758</td>\n",
       "    </tr>\n",
       "    <tr>\n",
       "      <th>4</th>\n",
       "      <td>47624.950176</td>\n",
       "    </tr>\n",
       "    <tr>\n",
       "      <th>5</th>\n",
       "      <td>43916.889572</td>\n",
       "    </tr>\n",
       "    <tr>\n",
       "      <th>...</th>\n",
       "      <td>...</td>\n",
       "    </tr>\n",
       "    <tr>\n",
       "      <th>563</th>\n",
       "      <td>716970.127568</td>\n",
       "    </tr>\n",
       "    <tr>\n",
       "      <th>564</th>\n",
       "      <td>456880.385127</td>\n",
       "    </tr>\n",
       "    <tr>\n",
       "      <th>565</th>\n",
       "      <td>231529.383718</td>\n",
       "    </tr>\n",
       "    <tr>\n",
       "      <th>566</th>\n",
       "      <td>409506.367862</td>\n",
       "    </tr>\n",
       "    <tr>\n",
       "      <th>567</th>\n",
       "      <td>450963.967706</td>\n",
       "    </tr>\n",
       "  </tbody>\n",
       "</table>\n",
       "<p>566 rows × 1 columns</p>\n",
       "</div>"
      ],
      "text/plain": [
       "             length\n",
       "ID_3               \n",
       "1      29554.878212\n",
       "2      36501.484861\n",
       "3      47216.909758\n",
       "4      47624.950176\n",
       "5      43916.889572\n",
       "...             ...\n",
       "563   716970.127568\n",
       "564   456880.385127\n",
       "565   231529.383718\n",
       "566   409506.367862\n",
       "567   450963.967706\n",
       "\n",
       "[566 rows x 1 columns]"
      ]
     },
     "execution_count": 134,
     "metadata": {},
     "output_type": "execute_result"
    }
   ],
   "source": [
    "tab_all"
   ]
  },
  {
   "cell_type": "code",
   "execution_count": 136,
   "metadata": {},
   "outputs": [],
   "source": [
    "roads_tab = tab_all.join(tab_flood, rsuffix=\"_flood\", how='outer')"
   ]
  },
  {
   "cell_type": "code",
   "execution_count": 137,
   "metadata": {},
   "outputs": [],
   "source": [
    "roads_tab.fillna(0, inplace=True)"
   ]
  },
  {
   "cell_type": "code",
   "execution_count": 138,
   "metadata": {},
   "outputs": [],
   "source": [
    "roads_tab.to_csv(os.path.join(out_folder, \"roads_affected.csv\"))"
   ]
  },
  {
   "cell_type": "code",
   "execution_count": null,
   "metadata": {},
   "outputs": [],
   "source": []
  }
 ],
 "metadata": {
  "kernelspec": {
   "display_name": "GEO",
   "language": "python",
   "name": "geo"
  },
  "language_info": {
   "codemirror_mode": {
    "name": "ipython",
    "version": 3
   },
   "file_extension": ".py",
   "mimetype": "text/x-python",
   "name": "python",
   "nbconvert_exporter": "python",
   "pygments_lexer": "ipython3",
   "version": "3.7.6"
  }
 },
 "nbformat": 4,
 "nbformat_minor": 2
}
