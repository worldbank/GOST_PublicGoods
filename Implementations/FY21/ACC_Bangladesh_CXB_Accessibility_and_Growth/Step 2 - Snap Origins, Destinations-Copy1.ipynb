{
 "cells": [
  {
   "cell_type": "markdown",
   "metadata": {},
   "source": [
    "### Step 2 - Snapping\n",
    "\n",
    "In this notebook, we take our origin points (here, derived from an HRSL raster manually using the 'Raster pixels to Points' tool in QGIS, and saved out as shapefile) as the main input. \n",
    "\n",
    "At the end of this notebook, we are ready to generate the OD Matrix"
   ]
  },
  {
   "cell_type": "code",
   "execution_count": 1,
   "metadata": {},
   "outputs": [],
   "source": [
    "import os, sys\n",
    "import time\n",
    "import pandas as pd\n",
    "import geopandas as gpd\n",
    "import networkx as nx\n",
    "from shapely.geometry import Point, MultiPoint\n",
    "from shapely.wkt import loads\n",
    "from scipy import spatial\n",
    "from functools import partial\n",
    "import pyproj\n",
    "from shapely.ops import transform\n",
    "\n",
    "import GOSTnets as gn\n",
    "import geopy"
   ]
  },
  {
   "cell_type": "markdown",
   "metadata": {},
   "source": [
    "Set path names and file names, and import all the scenario graphs"
   ]
  },
  {
   "cell_type": "code",
   "execution_count": 3,
   "metadata": {},
   "outputs": [],
   "source": [
    "input_pth = r'inputs\\\\dests'\n",
    "interm_pth = r'intermediate\\\\'\n",
    "fin_pth = r'final'\n",
    "origin_folder = r'..\\..\\..\\GEO\\Population\\CXB'"
   ]
  },
  {
   "cell_type": "code",
   "execution_count": 4,
   "metadata": {},
   "outputs": [],
   "source": [
    "cur_pckle = r'final_current_G.pickle'\n",
    "upgr_all = r'final_upgrade_all_G.pickle'\n",
    "upgr_nosouth = r'final_upgrade_nosouth_G.pickle'\n",
    "upgr_noferry = r'final_upgrade_noferry_G.pickle'"
   ]
  },
  {
   "cell_type": "code",
   "execution_count": 5,
   "metadata": {},
   "outputs": [],
   "source": [
    "G_current = nx.read_gpickle(os.path.join(fin_pth, cur_pckle))\n",
    "G_upgr_all = nx.read_gpickle(os.path.join(fin_pth, upgr_all))\n",
    "G_upgr_nosouth = nx.read_gpickle(os.path.join(fin_pth, upgr_nosouth))\n",
    "G_upgr_noferry = nx.read_gpickle(os.path.join(fin_pth, upgr_noferry))"
   ]
  },
  {
   "cell_type": "markdown",
   "metadata": {},
   "source": [
    "Import origins and destinatins"
   ]
  },
  {
   "cell_type": "code",
   "execution_count": 14,
   "metadata": {},
   "outputs": [],
   "source": [
    "# Origins\n",
    "# Note the commented out growth centers: you can use an alternate origin file if you want\n",
    "\n",
    "# origin_file = 'growth_center_origins.shp'\n",
    "origin_file = r'hrsl_2018_cxb_pts.shp'"
   ]
  },
  {
   "cell_type": "code",
   "execution_count": 7,
   "metadata": {},
   "outputs": [],
   "source": [
    "# Destinations\n",
    "\n",
    "cxb_fil = r'cxb_ctr.shp'\n",
    "chitt_fil = r'chittagong.shp'\n",
    "health_fil = r'hc_merge_200324_4326.shp'\n",
    "primary_fil = r'school_category_primary.gpkg'\n",
    "secondary_fil = r'school_category_secondary.gpkg'\n",
    "tertiary_fil = r'school_category_tertiary.gpkg'\n",
    "matar_fil = r'martarbari.shp'\n",
    "mkts_fil = r'mkts_merge_4326.shp'\n",
    "gc_fil = r'cxb_lged_gc_moved_4326.shp'\n",
    "\n",
    "dests = {\"CXB\" : cxb_fil, \"Chittagong\" : chitt_fil, \"Health\" : health_fil, \\\n",
    "         \"Primary_education\" : primary_fil, \"Secondary_education\" : secondary_fil, \"Tertiary_education\" : tertiary_fil, \\\n",
    "         \"Martarbari\" : matar_fil, \"All_markets\" : mkts_fil, \"Growth_centers\" : gc_fil}\n"
   ]
  },
  {
   "cell_type": "markdown",
   "metadata": {},
   "source": [
    "### Origins"
   ]
  },
  {
   "cell_type": "markdown",
   "metadata": {},
   "source": [
    "Import Origins"
   ]
  },
  {
   "cell_type": "code",
   "execution_count": 8,
   "metadata": {},
   "outputs": [],
   "source": [
    "origins = gpd.read_file(os.path.join(origin_folder, origin_file))"
   ]
  },
  {
   "cell_type": "markdown",
   "metadata": {},
   "source": [
    "Snap Origins"
   ]
  },
  {
   "cell_type": "code",
   "execution_count": 10,
   "metadata": {},
   "outputs": [
    {
     "data": {
      "text/plain": [
       "0     Point\n",
       "1     Point\n",
       "2     Point\n",
       "3     Point\n",
       "4     Point\n",
       "5     Point\n",
       "6     Point\n",
       "7     Point\n",
       "8     Point\n",
       "9     Point\n",
       "10    Point\n",
       "11    Point\n",
       "12    Point\n",
       "13    Point\n",
       "14    Point\n",
       "15    Point\n",
       "16    Point\n",
       "17    Point\n",
       "18    Point\n",
       "19    Point\n",
       "20    Point\n",
       "21    Point\n",
       "22    Point\n",
       "23    Point\n",
       "24    Point\n",
       "25    Point\n",
       "26    Point\n",
       "27    Point\n",
       "28    Point\n",
       "29    Point\n",
       "30    Point\n",
       "31    Point\n",
       "32    Point\n",
       "33    Point\n",
       "dtype: object"
      ]
     },
     "execution_count": 10,
     "metadata": {},
     "output_type": "execute_result"
    }
   ],
   "source": [
    "# The origins geometry type must be Point, not MultiPoint. Check here.\n",
    "origins.geom_type"
   ]
  },
  {
   "cell_type": "code",
   "execution_count": 11,
   "metadata": {},
   "outputs": [
    {
     "data": {
      "text/plain": [
       "0     Point\n",
       "1     Point\n",
       "2     Point\n",
       "3     Point\n",
       "4     Point\n",
       "5     Point\n",
       "6     Point\n",
       "7     Point\n",
       "8     Point\n",
       "9     Point\n",
       "10    Point\n",
       "11    Point\n",
       "12    Point\n",
       "13    Point\n",
       "14    Point\n",
       "15    Point\n",
       "16    Point\n",
       "17    Point\n",
       "18    Point\n",
       "19    Point\n",
       "20    Point\n",
       "21    Point\n",
       "22    Point\n",
       "23    Point\n",
       "24    Point\n",
       "25    Point\n",
       "26    Point\n",
       "27    Point\n",
       "28    Point\n",
       "29    Point\n",
       "30    Point\n",
       "31    Point\n",
       "32    Point\n",
       "33    Point\n",
       "dtype: object"
      ]
     },
     "execution_count": 11,
     "metadata": {},
     "output_type": "execute_result"
    }
   ],
   "source": [
    "origins = gpd.GeoDataFrame(\n",
    "    origins, geometry=gpd.points_from_xy(origins.centroid.x,origins.centroid.y)) # manually re-calculate as a point geometry\n",
    "\n",
    "origins.geom_type"
   ]
  },
  {
   "cell_type": "markdown",
   "metadata": {},
   "source": [
    "Clipping origins _exactly_ to CXB extent"
   ]
  },
  {
   "cell_type": "code",
   "execution_count": 15,
   "metadata": {},
   "outputs": [
    {
     "name": "stderr",
     "output_type": "stream",
     "text": [
      "C:\\Users\\wb467985\\.conda\\envs\\geo\\lib\\site-packages\\pyproj\\crs\\crs.py:55: FutureWarning: '+init=<authority>:<code>' syntax is deprecated. '<authority>:<code>' is the preferred initialization method. When making the change, be mindful of axis order changes: https://pyproj4.github.io/pyproj/stable/gotchas.html#axis-order-changes-in-proj-6\n",
      "  return _prepare_from_string(\" \".join(pjargs))\n"
     ]
    },
    {
     "data": {
      "text/plain": [
       "34"
      ]
     },
     "execution_count": 15,
     "metadata": {},
     "output_type": "execute_result"
    }
   ],
   "source": [
    "shp = gpd.read_file(os.path.join('inputs/cxb_filters/', 'cxb_dist_4326.shp'))\n",
    "shp = shp.to_crs({'init':'epsg:4326'})\n",
    "cxb_obj = shp.geometry.iloc[0]\n",
    "\n",
    "cxb_pop_filter = origins.within(cxb_obj)\n",
    "origins = origins.loc[cxb_pop_filter]\n",
    "\n",
    "origins.crs = \"EPSG:4326\"\n",
    "len(origins) # CXB polygon clipped"
   ]
  },
  {
   "cell_type": "code",
   "execution_count": 16,
   "metadata": {},
   "outputs": [
    {
     "name": "stdout",
     "output_type": "stream",
     "text": [
      "time elapsed for function\n",
      "1.865009069442749\n"
     ]
    }
   ],
   "source": [
    "origins_snapped = gn.pandana_snap_c(G_current, \n",
    "                                      origins, \n",
    "                                      source_crs='epsg:4326',\n",
    "                                      target_crs='epsg:32646', \n",
    "                                      add_dist_to_node_col = True,\n",
    "                                      time_it=True)"
   ]
  },
  {
   "cell_type": "markdown",
   "metadata": {},
   "source": [
    "Save Origins to origin folder"
   ]
  },
  {
   "cell_type": "code",
   "execution_count": 17,
   "metadata": {},
   "outputs": [],
   "source": [
    "origins_snapped.to_csv(os.path.join(origin_folder, origin_file.replace('.shp','_snapped.csv')))\n",
    "origins_snapped.to_csv(os.path.join(fin_pth, origin_file.replace('.shp','_snapped.csv')))"
   ]
  },
  {
   "cell_type": "markdown",
   "metadata": {},
   "source": [
    "### Destinations"
   ]
  },
  {
   "cell_type": "markdown",
   "metadata": {},
   "source": [
    "First let's take a look at the destinations dict"
   ]
  },
  {
   "cell_type": "code",
   "execution_count": 14,
   "metadata": {},
   "outputs": [
    {
     "name": "stdout",
     "output_type": "stream",
     "text": [
      "{'CXB': 'cxb_ctr.shp', 'Chittagong': 'chittagong.shp', 'Health': 'hc_merge_200324_4326.shp', 'Primary_education': 'school_category_primary.gpkg', 'Secondary_education': 'school_category_secondary.gpkg', 'Tertiary_education': 'school_category_tertiary.gpkg', 'Martarbari': 'martarbari.shp', 'All_markets': 'mkts_merge_4326.shp', 'Growth_centers': 'cxb_lged_gc_moved_4326.shp'}\n"
     ]
    }
   ],
   "source": [
    "print(dests)"
   ]
  },
  {
   "cell_type": "markdown",
   "metadata": {},
   "source": [
    "Hiding annoying error messages related to projection formatting"
   ]
  },
  {
   "cell_type": "code",
   "execution_count": 15,
   "metadata": {},
   "outputs": [],
   "source": [
    "import warnings\n",
    "warnings.filterwarnings('ignore')"
   ]
  },
  {
   "cell_type": "markdown",
   "metadata": {},
   "source": [
    "Read in, snap, and export snapped destinations from the *dests* dictionary"
   ]
  },
  {
   "cell_type": "code",
   "execution_count": 16,
   "metadata": {},
   "outputs": [
    {
     "name": "stdout",
     "output_type": "stream",
     "text": [
      "CXB\n",
      "time elapsed for function\n",
      "2.1539618968963623\n",
      "Chittagong\n",
      "time elapsed for function\n",
      "1.8040006160736084\n",
      "Health\n",
      "time elapsed for function\n",
      "1.9529993534088135\n",
      "Primary_education\n",
      "time elapsed for function\n",
      "2.4129958152770996\n",
      "Secondary_education\n",
      "time elapsed for function\n",
      "1.959000587463379\n",
      "Tertiary_education\n",
      "time elapsed for function\n",
      "2.1689815521240234\n",
      "Martarbari\n",
      "time elapsed for function\n",
      "2.494020700454712\n",
      "All_markets\n",
      "time elapsed for function\n",
      "2.190007209777832\n",
      "Growth_centers\n",
      "time elapsed for function\n",
      "1.9969894886016846\n"
     ]
    }
   ],
   "source": [
    "for dest, fpth in dests.items():\n",
    "    \n",
    "    print(dest)\n",
    "    \n",
    "    # Read in the file, convert MultiPoint to Point\n",
    "    \n",
    "    gdf = gpd.read_file(os.path.join(input_pth,fpth))\n",
    "    gdf.to_crs({'init':'epsg:4326'})\n",
    "    gdf = gpd.GeoDataFrame(\n",
    "        gdf, geometry=gpd.points_from_xy(gdf.centroid.x, gdf.centroid.y)) # geometries must be manually converted to Point, not MultiPoint\n",
    "    gdf.crs = \"EPSG:4326\"\n",
    "    \n",
    "    # Pandana snap everything -- this used to take a while, now it doesn't. Thanks Andres!\n",
    "    \n",
    "    gdf_snapped = gn.pandana_snap_c(G_current, \n",
    "                                     gdf, \n",
    "                                     source_crs='epsg:4326',\n",
    "                                     target_crs='epsg:32646', \n",
    "                                     add_dist_to_node_col = True,\n",
    "                                     time_it=True)\n",
    "    \n",
    "    # Export the finished snapped destination to a CSV format for processing in Step 3\n",
    "\n",
    "    export_name = dest + '_current_snapped.csv'\n",
    "    gdf_snapped.to_csv(os.path.join(fin_pth, export_name))"
   ]
  },
  {
   "cell_type": "code",
   "execution_count": 17,
   "metadata": {},
   "outputs": [
    {
     "name": "stdout",
     "output_type": "stream",
     "text": [
      "CXB\n",
      "time elapsed for function\n",
      "2.0299999713897705\n",
      "Chittagong\n",
      "time elapsed for function\n",
      "1.770003318786621\n",
      "Health\n",
      "time elapsed for function\n",
      "1.9169912338256836\n",
      "Primary_education\n",
      "time elapsed for function\n",
      "2.271014451980591\n",
      "Secondary_education\n",
      "time elapsed for function\n",
      "1.8190028667449951\n",
      "Tertiary_education\n",
      "time elapsed for function\n",
      "2.0210020542144775\n",
      "Martarbari\n",
      "time elapsed for function\n",
      "2.443016290664673\n",
      "All_markets\n",
      "time elapsed for function\n",
      "2.144007682800293\n",
      "Growth_centers\n",
      "time elapsed for function\n",
      "2.1919937133789062\n"
     ]
    }
   ],
   "source": [
    "# Upgrade all routine\n",
    "\n",
    "for dest, fpth in dests.items():\n",
    "    \n",
    "    print(dest)\n",
    "    \n",
    "    # Read in the file, convert MultiPoint to Point\n",
    "    \n",
    "    gdf = gpd.read_file(os.path.join(input_pth,fpth))\n",
    "    gdf.to_crs({'init':'epsg:4326'})\n",
    "    gdf = gpd.GeoDataFrame(\n",
    "        gdf, geometry=gpd.points_from_xy(gdf.centroid.x, gdf.centroid.y)) # geometries must be manually converted to Point, not MultiPoint\n",
    "    gdf.crs = \"EPSG:4326\"\n",
    "    \n",
    "    # Pandana snap everything -- this will take a while\n",
    "    \n",
    "    gdf_snapped = gn.pandana_snap_c(G_upgr_all, \n",
    "                                     gdf, \n",
    "                                     source_crs='epsg:4326',\n",
    "                                     target_crs='epsg:32646', \n",
    "                                     add_dist_to_node_col = True,\n",
    "                                     time_it=True)\n",
    "    \n",
    "    # Export the finished snapped destination to a CSV format for processing in Step 3\n",
    "\n",
    "    export_name = dest + '_ua_snapped.csv'\n",
    "    gdf_snapped.to_csv(os.path.join(fin_pth, export_name))"
   ]
  },
  {
   "cell_type": "code",
   "execution_count": 18,
   "metadata": {},
   "outputs": [
    {
     "name": "stdout",
     "output_type": "stream",
     "text": [
      "CXB\n",
      "time elapsed for function\n",
      "2.6109912395477295\n",
      "Chittagong\n",
      "time elapsed for function\n",
      "1.956000566482544\n",
      "Health\n",
      "time elapsed for function\n",
      "2.407012701034546\n",
      "Primary_education\n",
      "time elapsed for function\n",
      "2.687019109725952\n",
      "Secondary_education\n",
      "time elapsed for function\n",
      "2.309990406036377\n",
      "Tertiary_education\n",
      "time elapsed for function\n",
      "2.728011131286621\n",
      "Martarbari\n",
      "time elapsed for function\n",
      "2.2329955101013184\n",
      "All_markets\n",
      "time elapsed for function\n",
      "2.206979513168335\n",
      "Growth_centers\n",
      "time elapsed for function\n",
      "2.391000986099243\n"
     ]
    }
   ],
   "source": [
    "# Upgrade no southern road routine\n",
    "\n",
    "for dest, fpth in dests.items():\n",
    "    \n",
    "    print(dest)\n",
    "    \n",
    "    # Read in the file, convert MultiPoint to Point\n",
    "    \n",
    "    gdf = gpd.read_file(os.path.join(input_pth,fpth))\n",
    "    gdf.to_crs({'init':'epsg:4326'})\n",
    "    gdf = gpd.GeoDataFrame(\n",
    "        gdf, geometry=gpd.points_from_xy(gdf.centroid.x, gdf.centroid.y)) # geometries must be manually converted to Point, not MultiPoint\n",
    "    gdf.crs = \"EPSG:4326\"\n",
    "    \n",
    "    # Pandana snap everything -- this will take a while\n",
    "    \n",
    "    gdf_snapped = gn.pandana_snap_c(G_upgr_nosouth, \n",
    "                                     gdf, \n",
    "                                     source_crs='epsg:4326',\n",
    "                                     target_crs='epsg:32646', \n",
    "                                     add_dist_to_node_col = True,\n",
    "                                     time_it=True)\n",
    "    \n",
    "    # Export the finished snapped destination to a CSV format for processing in Step 3\n",
    "\n",
    "    export_name = dest + '_uns_snapped.csv'\n",
    "    gdf_snapped.to_csv(os.path.join(fin_pth, export_name))"
   ]
  },
  {
   "cell_type": "code",
   "execution_count": 19,
   "metadata": {},
   "outputs": [
    {
     "name": "stdout",
     "output_type": "stream",
     "text": [
      "CXB\n",
      "time elapsed for function\n",
      "2.0620102882385254\n",
      "Chittagong\n",
      "time elapsed for function\n",
      "2.193042516708374\n",
      "Health\n",
      "time elapsed for function\n",
      "2.6059935092926025\n",
      "Primary_education\n",
      "time elapsed for function\n",
      "2.394998073577881\n",
      "Secondary_education\n",
      "time elapsed for function\n",
      "1.9469938278198242\n",
      "Tertiary_education\n",
      "time elapsed for function\n",
      "2.267995834350586\n",
      "Martarbari\n",
      "time elapsed for function\n",
      "1.9496924877166748\n",
      "All_markets\n",
      "time elapsed for function\n",
      "1.9079983234405518\n",
      "Growth_centers\n",
      "time elapsed for function\n",
      "2.0099964141845703\n"
     ]
    }
   ],
   "source": [
    "# Upgrade no ferry routine\n",
    "\n",
    "for dest, fpth in dests.items():\n",
    "    \n",
    "    print(dest)\n",
    "    \n",
    "    # Read in the file, convert MultiPoint to Point\n",
    "    \n",
    "    gdf = gpd.read_file(os.path.join(input_pth,fpth))\n",
    "    gdf.to_crs({'init':'epsg:4326'})\n",
    "    gdf = gpd.GeoDataFrame(\n",
    "        gdf, geometry=gpd.points_from_xy(gdf.centroid.x, gdf.centroid.y)) # geometries must be manually converted to Point, not MultiPoint\n",
    "    gdf.crs = \"EPSG:4326\"\n",
    "    \n",
    "    # Pandana snap everything -- this will take a while\n",
    "    \n",
    "    gdf_snapped = gn.pandana_snap_c(G_upgr_noferry, \n",
    "                                     gdf, \n",
    "                                     source_crs='epsg:4326',\n",
    "                                     target_crs='epsg:32646', \n",
    "                                     add_dist_to_node_col = True,\n",
    "                                     time_it=True)\n",
    "    \n",
    "    # Export the finished snapped destination to a CSV format for processing in Step 3\n",
    "\n",
    "    export_name = dest + '_unf_snapped.csv'\n",
    "    gdf_snapped.to_csv(os.path.join(fin_pth, export_name))"
   ]
  },
  {
   "cell_type": "code",
   "execution_count": null,
   "metadata": {},
   "outputs": [],
   "source": []
  }
 ],
 "metadata": {
  "kernelspec": {
   "display_name": "Python 3",
   "language": "python",
   "name": "python3"
  },
  "language_info": {
   "codemirror_mode": {
    "name": "ipython",
    "version": 3
   },
   "file_extension": ".py",
   "mimetype": "text/x-python",
   "name": "python",
   "nbconvert_exporter": "python",
   "pygments_lexer": "ipython3",
   "version": "3.7.6"
  }
 },
 "nbformat": 4,
 "nbformat_minor": 4
}
