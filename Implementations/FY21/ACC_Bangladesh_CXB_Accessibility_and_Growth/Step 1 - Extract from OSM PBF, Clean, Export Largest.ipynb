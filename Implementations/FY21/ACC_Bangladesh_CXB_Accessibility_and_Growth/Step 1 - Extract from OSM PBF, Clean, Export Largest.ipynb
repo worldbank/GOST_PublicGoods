{
 "cells": [
  {
   "cell_type": "markdown",
   "metadata": {},
   "source": [
    "### 1 - Extract from OSM\n",
    "The purpose of this script is to show how to go from a .osm.pbf file to a network format that GOSTnets will accept. \n",
    "Additional modifications in this script include: clipping the roads to an input polygon (here, a cox's bazaar shapefile outline), and slicing the roads DataFrame by a list of accepted road types, as tagged in OSM (see accepted_road_types list). "
   ]
  },
  {
   "cell_type": "code",
   "execution_count": 1,
   "metadata": {},
   "outputs": [],
   "source": [
    "%load_ext autoreload\n",
    "%autoreload 2"
   ]
  },
  {
   "cell_type": "code",
   "execution_count": 2,
   "metadata": {},
   "outputs": [],
   "source": [
    "import geopandas as gpd\n",
    "import pandas as pd\n",
    "import os, sys\n",
    "\n",
    "# sys.path.append(\"../../../GOSTnets/GOSTnets\")\n",
    "\n",
    "import GOSTnets as gn\n",
    "from GOSTnets.load_osm import *\n",
    "import importlib\n",
    "import networkx as nx\n",
    "import osmnx as ox\n",
    "from shapely.ops import unary_union\n",
    "from shapely.wkt import loads\n",
    "from shapely.geometry import LineString, MultiLineString, Point"
   ]
  },
  {
   "cell_type": "markdown",
   "metadata": {},
   "source": [
    "Define filepaths"
   ]
  },
  {
   "cell_type": "code",
   "execution_count": 3,
   "metadata": {},
   "outputs": [],
   "source": [
    "input_pth = r'..\\..\\..\\GEO'\n",
    "lcl_input_pth = r'inputs'\n",
    "interm_pth = r'intermediate\\\\'\n",
    "osm_fil = r'bangladesh_200428_osm.pbf'\n",
    "\n",
    "f = os.path.join(input_pth,'OSM',osm_fil) "
   ]
  },
  {
   "cell_type": "markdown",
   "metadata": {},
   "source": [
    "### Load in OSM data"
   ]
  },
  {
   "cell_type": "markdown",
   "metadata": {},
   "source": [
    "Using the loadOSM library, pass the filepath of the .osm.pbf to initiate a OSM_to_network class"
   ]
  },
  {
   "cell_type": "code",
   "execution_count": 69,
   "metadata": {},
   "outputs": [
    {
     "name": "stderr",
     "output_type": "stream",
     "text": [
      "C:\\Users\\wb467985\\.conda\\envs\\geo\\lib\\site-packages\\pyproj\\crs\\crs.py:55: FutureWarning: '+init=<authority>:<code>' syntax is deprecated. '<authority>:<code>' is the preferred initialization method. When making the change, be mindful of axis order changes: https://pyproj4.github.io/pyproj/stable/gotchas.html#axis-order-changes-in-proj-6\n",
      "  return _prepare_from_string(\" \".join(pjargs))\n"
     ]
    }
   ],
   "source": [
    "# includeFerries must be set to true\n",
    "\n",
    "cxb = OSM_to_network(f, includeFerries=True)"
   ]
  },
  {
   "cell_type": "markdown",
   "metadata": {},
   "source": [
    "This generates a property of the class called 'roads_raw'. This is a raw dataframe of the highway objects, extracted from the .osm.pbf. This is the starting point for our network"
   ]
  },
  {
   "cell_type": "code",
   "execution_count": 71,
   "metadata": {},
   "outputs": [
    {
     "data": {
      "text/plain": [
       "residential                 116715\n",
       "unclassified                 83136\n",
       "path                         34576\n",
       "track                        24253\n",
       "living_street                22120\n",
       "tertiary                     15267\n",
       "service                       7834\n",
       "footway                       7090\n",
       "road                          5073\n",
       "secondary                     3347\n",
       "trunk                         2042\n",
       "primary                       2002\n",
       "steps                          632\n",
       "pedestrian                     436\n",
       "pier                           292\n",
       "ferry                          192\n",
       "trunk_link                     136\n",
       "primary_link                    84\n",
       "secondary_link                  60\n",
       "construction                    34\n",
       "tertiary_link                   33\n",
       "cycleway                        17\n",
       "yes                             14\n",
       "corridor                        14\n",
       "bridleway                       12\n",
       "motorway                         8\n",
       "services                         4\n",
       "platform                         2\n",
       "rest_area                        2\n",
       "residential;unclassified         1\n",
       "P                                1\n",
       "unclassified;tertiary            1\n",
       "narrow_gauge                     1\n",
       "bus                              1\n",
       "motorway_link                    1\n",
       "Name: infra_type, dtype: int64"
      ]
     },
     "execution_count": 71,
     "metadata": {},
     "output_type": "execute_result"
    }
   ],
   "source": [
    "cxb.roads_raw.infra_type.value_counts()"
   ]
  },
  {
   "cell_type": "code",
   "execution_count": 72,
   "metadata": {},
   "outputs": [],
   "source": [
    "# make sure to include ferry and pier values\n",
    "\n",
    "accepted_road_types = ['pier','ferry','residential', 'living_street', 'unclassified', 'track','service','road','tertiary','secondary','primary','trunk','tertiary_link','secondary_link','primary_link','trunk_link',]"
   ]
  },
  {
   "cell_type": "markdown",
   "metadata": {},
   "source": [
    "We call the filerRoads method and pass it a list of acceptable road types"
   ]
  },
  {
   "cell_type": "code",
   "execution_count": 73,
   "metadata": {},
   "outputs": [],
   "source": [
    "cxb.filterRoads(acceptedRoads = accepted_road_types)"
   ]
  },
  {
   "cell_type": "code",
   "execution_count": 74,
   "metadata": {},
   "outputs": [
    {
     "data": {
      "text/plain": [
       "residential       116715\n",
       "unclassified       83136\n",
       "track              24253\n",
       "living_street      22120\n",
       "tertiary           15267\n",
       "service             7834\n",
       "road                5073\n",
       "secondary           3347\n",
       "trunk               2042\n",
       "primary             2002\n",
       "pier                 292\n",
       "ferry                192\n",
       "trunk_link           136\n",
       "primary_link          84\n",
       "secondary_link        60\n",
       "tertiary_link         33\n",
       "Name: infra_type, dtype: int64"
      ]
     },
     "execution_count": 74,
     "metadata": {},
     "output_type": "execute_result"
    }
   ],
   "source": [
    "cxb.roads_raw.infra_type.value_counts()"
   ]
  },
  {
   "cell_type": "markdown",
   "metadata": {},
   "source": [
    "Here, we import a shapefile for our AOI (Cox's Bazaar in Bangladesh), set it to EPSG WGS84 (later 46N) and clip to its extent using standard GeoPandas functions"
   ]
  },
  {
   "cell_type": "markdown",
   "metadata": {},
   "source": [
    "Filter by a convex hull object of CXB and the surrounding upazilas"
   ]
  },
  {
   "cell_type": "code",
   "execution_count": 75,
   "metadata": {},
   "outputs": [],
   "source": [
    "shp = gpd.read_file(os.path.join(lcl_input_pth,'cxb_filters/cxb_nbrs_convexhull.shp'))\n",
    "shp = shp.to_crs({'init':'epsg:4326'})\n",
    "shp_obj = shp.geometry.iloc[0]"
   ]
  },
  {
   "cell_type": "code",
   "execution_count": 76,
   "metadata": {},
   "outputs": [
    {
     "data": {
      "image/svg+xml": [
       "<svg xmlns=\"http://www.w3.org/2000/svg\" xmlns:xlink=\"http://www.w3.org/1999/xlink\" width=\"100.0\" height=\"100.0\" viewBox=\"91.60170755936007 20.50751883336004 1.0095730522799897 2.2434438952800164\" preserveAspectRatio=\"xMinYMin meet\"><g transform=\"matrix(1,0,0,-1,0,43.2584815620001)\"><path fill-rule=\"evenodd\" fill=\"#66cc99\" stroke=\"#555555\" stroke-width=\"0.044868877905600325\" opacity=\"0.6\" d=\"M 92.33028988900008,20.590609348000044 L 92.32724564600005,20.59065034500003 L 92.32694267300008,20.59075009000003 L 92.32624414400004,20.591523977000065 L 92.32456449600005,20.594557117000022 L 91.84026136000006,21.528828007000072 L 91.83899060800007,21.531351149000045 L 91.83847238900006,21.53279064900005 L 91.83818038400005,21.533940899000072 L 91.83796228200003,21.53487526500004 L 91.68479807400007,22.633932052000034 L 91.68541189900009,22.634355146000075 L 91.68574361200007,22.634580825000057 L 91.68587095400005,22.634651735000034 L 91.68597926600006,22.634707887000047 L 91.68626557800008,22.63475088000007 L 91.91749477100007,22.667853480000076 L 91.91772126400008,22.667872214000056 L 91.92239564800008,22.66696562800007 L 92.06968293600005,22.61483750000008 L 92.08026601900008,22.609661738000057 L 92.08039205800009,22.609595201000047 L 92.08050811600003,22.60951158200004 L 92.08077906700004,22.609299539000062 L 92.08098184100004,22.60908104200007 L 92.08104980600007,22.608992684000043 L 92.27702544000005,22.353857326000025 L 92.50195867200006,21.57799717100005 L 92.50217421600007,21.577199117000077 L 92.50231784300007,21.576218182000048 L 92.52819009700005,21.379744411000047 L 92.33172018200008,20.591211478000048 L 92.33156361100004,20.590926871000022 L 92.33115500300005,20.59074104700005 L 92.33028988900008,20.590609348000044 z\" /></g></svg>"
      ],
      "text/plain": [
       "<shapely.geometry.polygon.Polygon at 0x1f2aedeb048>"
      ]
     },
     "execution_count": 76,
     "metadata": {},
     "output_type": "execute_result"
    }
   ],
   "source": [
    "shp_obj"
   ]
  },
  {
   "cell_type": "code",
   "execution_count": 77,
   "metadata": {},
   "outputs": [
    {
     "data": {
      "text/plain": [
       "False    258216\n",
       "True      24370\n",
       "dtype: int64"
      ]
     },
     "execution_count": 77,
     "metadata": {},
     "output_type": "execute_result"
    }
   ],
   "source": [
    "cxb.roads_raw.geometry.intersects(shp_obj).value_counts()"
   ]
  },
  {
   "cell_type": "code",
   "execution_count": 78,
   "metadata": {},
   "outputs": [],
   "source": [
    "cxb.roads_raw = cxb.roads_raw.loc[cxb.roads_raw.geometry.intersects(shp_obj) == True]"
   ]
  },
  {
   "cell_type": "markdown",
   "metadata": {},
   "source": [
    "having narrowed the DataFrame to the roads we are interested in, we generate the RoadsGDF object"
   ]
  },
  {
   "cell_type": "code",
   "execution_count": 79,
   "metadata": {},
   "outputs": [
    {
     "data": {
      "text/plain": [
       "residential       10988\n",
       "unclassified       5198\n",
       "living_street      3437\n",
       "track              1663\n",
       "service             831\n",
       "road                737\n",
       "tertiary            617\n",
       "secondary           472\n",
       "primary             192\n",
       "trunk               125\n",
       "pier                 97\n",
       "ferry                 6\n",
       "trunk_link            5\n",
       "secondary_link        2\n",
       "Name: infra_type, dtype: int64"
      ]
     },
     "execution_count": 79,
     "metadata": {},
     "output_type": "execute_result"
    }
   ],
   "source": [
    "cxb.roads_raw.infra_type.value_counts()"
   ]
  },
  {
   "cell_type": "code",
   "execution_count": 80,
   "metadata": {},
   "outputs": [
    {
     "name": "stdout",
     "output_type": "stream",
     "text": [
      "Processing 0 of 24370\n",
      "Processing 1000 of 24370\n",
      "Processing 2000 of 24370\n",
      "Processing 3000 of 24370\n",
      "Processing 4000 of 24370\n",
      "Processing 5000 of 24370\n",
      "Processing 6000 of 24370\n",
      "Processing 7000 of 24370\n",
      "Processing 8000 of 24370\n",
      "Processing 9000 of 24370\n",
      "Processing 10000 of 24370\n",
      "Processing 11000 of 24370\n",
      "Processing 12000 of 24370\n",
      "Processing 13000 of 24370\n",
      "Processing 14000 of 24370\n",
      "Processing 15000 of 24370\n",
      "Processing 16000 of 24370\n",
      "Processing 17000 of 24370\n",
      "Processing 18000 of 24370\n",
      "Processing 19000 of 24370\n",
      "Processing 20000 of 24370\n",
      "Processing 21000 of 24370\n",
      "Processing 22000 of 24370\n",
      "Processing 23000 of 24370\n",
      "Processing 24000 of 24370\n"
     ]
    },
    {
     "name": "stderr",
     "output_type": "stream",
     "text": [
      "C:\\Users\\wb467985\\.conda\\envs\\geo\\lib\\site-packages\\pyproj\\crs\\crs.py:55: FutureWarning: '+init=<authority>:<code>' syntax is deprecated. '<authority>:<code>' is the preferred initialization method. When making the change, be mindful of axis order changes: https://pyproj4.github.io/pyproj/stable/gotchas.html#axis-order-changes-in-proj-6\n",
      "  return _prepare_from_string(\" \".join(pjargs))\n"
     ]
    }
   ],
   "source": [
    "cxb.generateRoadsGDF(verbose = True)"
   ]
  },
  {
   "cell_type": "markdown",
   "metadata": {},
   "source": [
    "With initialReadIn(), we transform this to a graph object"
   ]
  },
  {
   "cell_type": "code",
   "execution_count": 81,
   "metadata": {},
   "outputs": [],
   "source": [
    "G = cxb.initialReadIn()"
   ]
  },
  {
   "cell_type": "code",
   "execution_count": 82,
   "metadata": {},
   "outputs": [],
   "source": [
    "# Optionally, we save this graph object down to file using gn.save()\n",
    "\n",
    "# gn.save(cxb.network,'CXB_raw','..\\intermediate')"
   ]
  },
  {
   "cell_type": "markdown",
   "metadata": {},
   "source": [
    "### 2 - Cleaning"
   ]
  },
  {
   "cell_type": "markdown",
   "metadata": {},
   "source": [
    "This function defines the order of GOSTnet functions we will call on the input network object. The verbose flag causes the process to save down intermediate files - helpful for troublehsooting."
   ]
  },
  {
   "cell_type": "code",
   "execution_count": 83,
   "metadata": {},
   "outputs": [],
   "source": [
    "# load in if you saved this out\n",
    "# G = nx.read_gpickle(os.path.join(interm_pth, 'CXB_raw.pickle'))"
   ]
  },
  {
   "cell_type": "code",
   "execution_count": 84,
   "metadata": {},
   "outputs": [
    {
     "name": "stdout",
     "output_type": "stream",
     "text": [
      "start: Fri May  8 10:00:34 2020\n",
      "\n"
     ]
    },
    {
     "name": "stderr",
     "output_type": "stream",
     "text": [
      "C:\\Users\\wb467985\\.conda\\envs\\geo\\lib\\site-packages\\pyproj\\crs\\crs.py:55: FutureWarning: '+init=<authority>:<code>' syntax is deprecated. '<authority>:<code>' is the preferred initialization method. When making the change, be mindful of axis order changes: https://pyproj4.github.io/pyproj/stable/gotchas.html#axis-order-changes-in-proj-6\n",
      "  return _prepare_from_string(\" \".join(pjargs))\n",
      "C:\\Users\\wb467985\\.conda\\envs\\geo\\lib\\site-packages\\pyproj\\crs\\crs.py:55: FutureWarning: '+init=<authority>:<code>' syntax is deprecated. '<authority>:<code>' is the preferred initialization method. When making the change, be mindful of axis order changes: https://pyproj4.github.io/pyproj/stable/gotchas.html#axis-order-changes-in-proj-6\n",
      "  return _prepare_from_string(\" \".join(pjargs))\n",
      "C:\\Users\\wb467985\\.conda\\envs\\geo\\lib\\site-packages\\geopandas\\tools\\sjoin.py:61: UserWarning: CRS of frames being joined does not match!(+init=epsg:4326 +type=crs != epsg:4326)\n",
      "  \"(%s != %s)\" % (left_df.crs, right_df.crs)\n"
     ]
    },
    {
     "name": "stdout",
     "output_type": "stream",
     "text": [
      "23277\n",
      "44609\n",
      "20197\n",
      "38612\n",
      "Edge reduction: 47408 to 38612 (18 percent)\n",
      "\n",
      "end: Fri May  8 10:04:05 2020\n",
      "\n",
      "--- processing complete\n"
     ]
    }
   ],
   "source": [
    "print('start: %s\\n' % time.ctime())\n",
    "G_clean = gn.clean_network(G, wpath=interm_pth, output_file_name='CXB', UTM = {'init':'epsg:32646'}, WGS = {'init': 'epsg:4326'}, junctdist = 50)\n",
    "print('\\nend: %s' % time.ctime())\n",
    "print('\\n--- processing complete')"
   ]
  },
  {
   "cell_type": "code",
   "execution_count": 85,
   "metadata": {},
   "outputs": [],
   "source": [
    "# gn.save(G_clean,'CXB_processed',interm_pth)"
   ]
  },
  {
   "cell_type": "markdown",
   "metadata": {},
   "source": [
    "### 3 - Find Largest Graph\n",
    "\n",
    "Here, we generate shapefiles of the connected network and those roads which are disconnected. Though not necessary for the analysis, this is a useful process to go through to:\n",
    "1.) visually appraise the quality of the OSM network\n",
    "2.) identify large subgraphs that need to be manually connected to the main network\n",
    "3.) support network improvement activities \n",
    "\n",
    "Shapefiles manually edited (as per step 2) can be loaded up in a separate optional process outlined in the next notebok"
   ]
  },
  {
   "cell_type": "markdown",
   "metadata": {},
   "source": [
    "Import Processed Graph"
   ]
  },
  {
   "cell_type": "markdown",
   "metadata": {},
   "source": [
    "Add a unique value to each edge"
   ]
  },
  {
   "cell_type": "code",
   "execution_count": 93,
   "metadata": {},
   "outputs": [],
   "source": [
    "q = 0\n",
    "for u, v, data in G_clean.edges(data = True):\n",
    "    data['unique_id'] = q\n",
    "    q+=1"
   ]
  },
  {
   "cell_type": "markdown",
   "metadata": {},
   "source": [
    "Identify largest subgraph by making a list of all subgraphs, iterating through them, and setting a variable to the maximum"
   ]
  },
  {
   "cell_type": "code",
   "execution_count": 94,
   "metadata": {},
   "outputs": [],
   "source": [
    "list_of_graphs = list(G_clean.subgraph(c).copy() for c in nx.strongly_connected_components(G_clean))"
   ]
  },
  {
   "cell_type": "code",
   "execution_count": 95,
   "metadata": {},
   "outputs": [],
   "source": [
    "max_edges = 0\n",
    "for q in range(0, len(list_of_graphs)):\n",
    "        g = list_of_graphs[q]\n",
    "        if g.number_of_edges() > max_edges:\n",
    "            max_edges = g.number_of_edges()\n",
    "            t = q\n",
    "        else:\n",
    "            pass"
   ]
  },
  {
   "cell_type": "markdown",
   "metadata": {},
   "source": [
    "Print the results of this test"
   ]
  },
  {
   "cell_type": "code",
   "execution_count": 96,
   "metadata": {},
   "outputs": [
    {
     "name": "stdout",
     "output_type": "stream",
     "text": [
      "The largest graphs is the graph in position 0, and has 35071 edges\n"
     ]
    }
   ],
   "source": [
    "print(\"The largest graphs is the graph in position %s, and has %s edges\" % (t, max_edges))"
   ]
  },
  {
   "cell_type": "markdown",
   "metadata": {},
   "source": [
    "Define largest graph as its own object, save it down"
   ]
  },
  {
   "cell_type": "code",
   "execution_count": 97,
   "metadata": {},
   "outputs": [],
   "source": [
    "# Export graph\n",
    "\n",
    "largest_G = list_of_graphs[t]\n",
    "gn.save(largest_G, 'largest_G', interm_pth)\n",
    "\n",
    "# Turn into shapefile\n",
    "\n",
    "edge_gdf_largest_G = gn.edge_gdf_from_graph(largest_G)\n",
    "edge_gdf_largest_G = edge_gdf_largest_G.drop('geometry', axis = 1)\n",
    "edge_gdf_largest_G['Wkt'] = edge_gdf_largest_G['Wkt'].apply(lambda x: gn.unbundle_geometry(x))\n",
    "edge_gdf_largest_G = edge_gdf_largest_G.set_geometry('Wkt')\n",
    "edge_gdf_largest_G.to_file(os.path.join(interm_pth,'LargestG.shp'))"
   ]
  },
  {
   "cell_type": "markdown",
   "metadata": {},
   "source": [
    "Create a shapefile of all the edges that aren't in the main graph"
   ]
  },
  {
   "cell_type": "code",
   "execution_count": 98,
   "metadata": {},
   "outputs": [],
   "source": [
    "edge_gdf = gn.edge_gdf_from_graph(G_clean)\n",
    "\n",
    "edges_in_largest_G = list(edge_gdf_largest_G.unique_id)\n",
    "\n",
    "edges_NOT_in_largest_G = edge_gdf.loc[~edge_gdf.unique_id.isin(edges_in_largest_G)]"
   ]
  },
  {
   "cell_type": "markdown",
   "metadata": {},
   "source": [
    "Save it down"
   ]
  },
  {
   "cell_type": "code",
   "execution_count": 99,
   "metadata": {},
   "outputs": [],
   "source": [
    "edges_NOT_in_largest_G = edges_NOT_in_largest_G.drop('geometry', axis = 1)\n",
    "edges_NOT_in_largest_G['Wkt'] = edges_NOT_in_largest_G['Wkt'].apply(lambda x: gn.unbundle_geometry(x))\n",
    "edges_NOT_in_largest_G = edges_NOT_in_largest_G.set_geometry('Wkt')\n",
    "edges_NOT_in_largest_G.to_file(os.path.join(interm_pth,'DisconnectedRoads.shp'))"
   ]
  },
  {
   "cell_type": "markdown",
   "metadata": {},
   "source": [
    "**Optional troubleshooting exports**"
   ]
  },
  {
   "cell_type": "markdown",
   "metadata": {},
   "source": [
    "Create a shapefile of all edges from the cleaned graph, save it down"
   ]
  },
  {
   "cell_type": "code",
   "execution_count": 100,
   "metadata": {},
   "outputs": [],
   "source": [
    "# all_edges_G = gn.edge_gdf_from_graph(G_clean)\n",
    "# all_edges_G = all_edges_G.drop('geometry', axis = 1)\n",
    "# all_edges_G['Wkt'] = all_edges_G['Wkt'].apply(lambda x: gn.unbundle_geometry(x))\n",
    "# all_edges_G = all_edges_G.set_geometry('Wkt')\n",
    "# all_edges_G.to_file(os.path.join(interm_pth,'All_edges_clean.shp'))"
   ]
  },
  {
   "cell_type": "markdown",
   "metadata": {},
   "source": [
    "Create a shapefile of all edges from the UNcleaned graph, save it down"
   ]
  },
  {
   "cell_type": "code",
   "execution_count": 101,
   "metadata": {},
   "outputs": [],
   "source": [
    "# all_edges_G = gn.edge_gdf_from_graph(G)\n",
    "# all_edges_G = all_edges_G.drop('geometry', axis = 1)\n",
    "# all_edges_G['Wkt'] = all_edges_G['Wkt'].apply(lambda x: gn.unbundle_geometry(x))\n",
    "# all_edges_G = all_edges_G.set_geometry('Wkt')\n",
    "# all_edges_G.to_file(os.path.join(interm_pth,'All_edges_Gnormal.shp'))"
   ]
  },
  {
   "cell_type": "code",
   "execution_count": 102,
   "metadata": {},
   "outputs": [],
   "source": [
    "# gn.save(G_clean,'CXB_clean',interm_pth)"
   ]
  },
  {
   "cell_type": "markdown",
   "metadata": {},
   "source": [
    "### 4 - Convert to speeds"
   ]
  },
  {
   "cell_type": "code",
   "execution_count": 103,
   "metadata": {},
   "outputs": [],
   "source": [
    "G_largest = nx.read_gpickle(os.path.join(interm_pth, 'largest_G.pickle'))"
   ]
  },
  {
   "cell_type": "markdown",
   "metadata": {},
   "source": [
    "Next, we convert the network to time, supplying a speed in km/h for each road type"
   ]
  },
  {
   "cell_type": "markdown",
   "metadata": {},
   "source": [
    "Define a speed dictionary with a value for every unique road type in the above list"
   ]
  },
  {
   "cell_type": "code",
   "execution_count": 104,
   "metadata": {},
   "outputs": [],
   "source": [
    "# adjusted for Bangladesh based on Blankespoor and Yoshida (2010)\n",
    "# Reduced all by 5 to account for CXB traffic congestion and poor road conditions\n",
    "\n",
    "speeds = {'residential':20,\n",
    "            'unclassified':15,\n",
    "            'track':10,\n",
    "            'tertiary':30,\n",
    "            'secondary':40,\n",
    "            'primary':55,\n",
    "            'trunk':55,\n",
    "            'service':15,\n",
    "            'road':15,\n",
    "            'ferry':15,\n",
    "            'pier':5,\n",
    "            'path':5,\n",
    "            'living_street':20,\n",
    "            'primary_link':50,\n",
    "            'tertiary_link':25,\n",
    "            'secondary_link':35,\n",
    "            'trunk_link':50}"
   ]
  },
  {
   "cell_type": "code",
   "execution_count": 105,
   "metadata": {},
   "outputs": [],
   "source": [
    "G_clean_time = gn.convert_network_to_time(G_largest, # G_salted or G_clean\n",
    "                                      distance_tag = 'length',\n",
    "                                      graph_type = 'drive',\n",
    "                                      road_col = 'infra_type',\n",
    "                                      speed_dict = speeds,\n",
    "                                      factor = 1000\n",
    "                                     )"
   ]
  },
  {
   "cell_type": "markdown",
   "metadata": {},
   "source": [
    "Finally, before saving down, we reset all node IDs to integers to aid the graphtool step"
   ]
  },
  {
   "cell_type": "code",
   "execution_count": 106,
   "metadata": {},
   "outputs": [],
   "source": [
    "G_clean_time = nx.convert_node_labels_to_integers(G_clean_time) # G_clean vs G_salted"
   ]
  },
  {
   "cell_type": "markdown",
   "metadata": {},
   "source": [
    "Save down"
   ]
  },
  {
   "cell_type": "code",
   "execution_count": 107,
   "metadata": {},
   "outputs": [],
   "source": [
    "gn.save(G_clean_time, 'final_current_G', 'final', nodes = True,  edges = True)"
   ]
  },
  {
   "cell_type": "markdown",
   "metadata": {},
   "source": [
    "### Optional: upgrade speeds on specific segments"
   ]
  },
  {
   "cell_type": "code",
   "execution_count": 22,
   "metadata": {},
   "outputs": [],
   "source": [
    "G_upgrade_noferry = nx.read_gpickle('final/final_current_G.pickle')\n",
    "G_upgrade_nosouth = nx.read_gpickle('final/final_current_G.pickle')\n",
    "G_upgrade_all = nx.read_gpickle('final/final_current_G.pickle')"
   ]
  },
  {
   "cell_type": "markdown",
   "metadata": {},
   "source": [
    "We manually extract the OSM IDs of the segments we're upgrading (by looking in QGIS) as they are stable and maintained throughout the GOSTNets process"
   ]
  },
  {
   "cell_type": "code",
   "execution_count": 23,
   "metadata": {},
   "outputs": [],
   "source": [
    "teknaf_ukhia_osm = np.unique(np.array(['525374117','525374117','244861071','244861071','526475489','527094223','529649508','529649508','526475484','526475484','741035023','741035023','528098225','526408634','526408634','527059938','527059938','526933038','525511878','526933038','526933038','527204201','527204201','528098229','655555108','244861071','244861071','244861071','244861071','244861071','244861071','529159711','529159711','525374117','525374117','527016496','527016496','599458428','599458428','527207549','527207549','748990772','748990772','748990772','748990772','525376345','525376345','599458428','599458428','526475484','525374117','529159711','162212277','526475489','526475489','244861071','244861071','527210749','527210749','244861071','244861071','526475489','526475489','32527804','529649516','741036942','741036942','528098229','528098229','526980456','526980456','529649516','529649508','244861071','244861071','748990772','748990772','202518064','202518064','244861071','244861071','526973380','526973380','526475484','526475484','202518064','202518064','244861071','244861071','748990772','748990772','529649508','202518064','527424873','527424873','244861071','244861071','527088835','748990772','528098229','528098229','528098225','528098225','526973380','526973380','599458428','599458428','525374117','525374117','32527804','32527804','527059938','527059938','526973380','526973380','527210749','527210749','526376294','526376294','527088835','527088835','527204201','527204201','527204201','527204201','528098225','529159711','529159711','244861071','244861071','244861071','244861071','527424873','527424873','32527804','162212276','748990772','748990772','526933038','526933038','244861071','244861071','526980456','526980456','525374117','655610101','529649516','529649516','526419382','529649508','529649508','655610101','655610101','162212277','162212277','655555108','655555108','162212277','162212277','526408634','526419382','526408634','526431569','741035023','526431569','741035023','526441357','527088835','526441357','748990772','748990772','748990772','748990772','748990772','748990772','741036942','748990772','741036942','526376294','748990772','748990772','526376294','526376294','526376294','526376294','526376294','599458561','526376294','526376294','599458428','599458561','527210749','599458428','527210749','527210749','527210749','527210749','527210749','527210749','527210749','527201136','527201136','527201136','527094223','527094223','527094223','527094223','526475484','527094223','527094223','527094223','525374117','525374117','525374117','525374117','526475489','527201136','655610101','655610101','655610101','526980456','655610101','655610101','526980456','526980456','526980456','526980456','526980456','527016496','527016496','527016496','527016496','527016496','527016496','527016496','527059938','527016496','526933038','526933038','526933038','527059938','526933038','526933038','526933038','526933038','525511878','525374115','525374115','525374115','525374115','525376345','525376345','525376345','525376345','525374110','525376345','525376345','525374110','526973380','526973380','526973380','526973380','526973380','527424873','526973380','526973380','526973380','527210749','527210749','527204201','527204201','527204201','527204201','527204201','527204201','527204201','527204201','527204201','527207549','554049070','554049070','244861071','554049070','554049070','527207549','527207549','527207549','527207549','527207549','244861071','244861071','244861071','244861071','244861071','244861071','244861071','244861071','244861071','244861071','244861071','244861071','244861071','244861071','244861071','244861071','244861071','244861071','244861071','244861071','244861071','244861071','244861071','244861071','244861071','244861071','244861071','244861071','244861071','244861071','244861071','244861071','244861071','244861071','244861071','528098229','528098229','528098229','202518064','528098225','528098225','528098225','528098225','655555108','202518064','202518064','529649508','529649508','529649516','529649516','529159711','162212276','202518064','202518064','527204201','527424873','162212277','655508235','655508235','32124439','32124439','32124439','32124439','32124439','32124439','32124439','32124439','32124439','32124439'])).tolist()"
   ]
  },
  {
   "cell_type": "code",
   "execution_count": 24,
   "metadata": {},
   "outputs": [],
   "source": [
    "upgrade_segs = {'ferry' : ['85651714','85651729','43107027','409823924'], \\\n",
    "                'maheshkhali': ['236712168','423656274','424954822','424955827','424979570','425403567','468297576','468307000','468307004','468312439','468312440'], \\\n",
    "                'charkhari' : ['28887054','162212403','236712167','236712168','236712192','236712195','586014261'],\n",
    "                'teknaf_ukhia' : teknaf_ukhia_osm}"
   ]
  },
  {
   "cell_type": "markdown",
   "metadata": {},
   "source": [
    "re-define speeds"
   ]
  },
  {
   "cell_type": "code",
   "execution_count": 25,
   "metadata": {},
   "outputs": [],
   "source": [
    "# adjusted for Bangladesh based on Blankespoor and Yoshida (2010)\n",
    "# Reduced all by 5 to account for CXB traffic congestion and poor road conditions\n",
    "\n",
    "speeds = {'residential':20,\n",
    "            'unclassified':15,\n",
    "            'track':10,\n",
    "            'tertiary':30,\n",
    "            'secondary':40,\n",
    "            'primary':55,\n",
    "            'trunk':55,\n",
    "            'service':15,\n",
    "            'road':15,\n",
    "            'ferry':15,\n",
    "            'pier':5,\n",
    "            'path':5,\n",
    "            'living_street':20,\n",
    "            'primary_link':50,\n",
    "            'tertiary_link':25,\n",
    "            'secondary_link':35,\n",
    "            'trunk_link':50}"
   ]
  },
  {
   "cell_type": "markdown",
   "metadata": {},
   "source": [
    "Optional code to check a single edge is upgraded (before / after)"
   ]
  },
  {
   "cell_type": "code",
   "execution_count": 26,
   "metadata": {},
   "outputs": [],
   "source": [
    "# for u, v, data in G_upgrade_all.edges(data=True):\n",
    "#     if data['osm_id'] == '244861071':\n",
    "#         print(data['infra_type'])"
   ]
  },
  {
   "cell_type": "code",
   "execution_count": 27,
   "metadata": {},
   "outputs": [],
   "source": [
    "# for u, v, data in G_upgrade_nosouth.edges(data=True):\n",
    "#     if data['osm_id'] == '244861071':\n",
    "#         print(data['infra_type'])"
   ]
  },
  {
   "cell_type": "code",
   "execution_count": 28,
   "metadata": {},
   "outputs": [
    {
     "name": "stdout",
     "output_type": "stream",
     "text": [
      "ferry\n",
      "ferry\n"
     ]
    }
   ],
   "source": [
    "for u, v, data in G_upgrade_noferry.edges(data=True):\n",
    "    if data['osm_id'] == '85651714':\n",
    "        print(data['infra_type'])"
   ]
  },
  {
   "cell_type": "markdown",
   "metadata": {},
   "source": [
    "Change over edges"
   ]
  },
  {
   "cell_type": "code",
   "execution_count": 29,
   "metadata": {},
   "outputs": [],
   "source": [
    "for u, v, data in G_upgrade_noferry.edges(data = True):\n",
    "    if data['osm_id'] in upgrade_segs['maheshkhali']:\n",
    "        data['infra_type'] = 'secondary'\n",
    "    elif data['osm_id'] in upgrade_segs['charkhari']:\n",
    "        data['infra_type'] = 'primary'\n",
    "\n",
    "for u, v, data in G_upgrade_nosouth.edges(data = True):\n",
    "    if data['osm_id'] in upgrade_segs['ferry']:\n",
    "        data['infra_type'] = 'secondary'\n",
    "    elif data['osm_id'] in upgrade_segs['maheshkhali']:\n",
    "        data['infra_type'] = 'secondary'\n",
    "    elif data['osm_id'] in upgrade_segs['charkhari']:\n",
    "        data['infra_type'] = 'primary'\n",
    "\n",
    "for u, v, data in G_upgrade_all.edges(data = True):\n",
    "    if data['osm_id'] in upgrade_segs['teknaf_ukhia']:\n",
    "        data['infra_type'] = 'primary'\n",
    "    elif data['osm_id'] in upgrade_segs['maheshkhali']:\n",
    "        data['infra_type'] = 'secondary'\n",
    "    elif data['osm_id'] in upgrade_segs['charkhari']:\n",
    "        data['infra_type'] = 'primary'\n",
    "    elif data['osm_id'] in upgrade_segs['ferry']:\n",
    "        data['infra_type'] = 'secondary'\n"
   ]
  },
  {
   "cell_type": "markdown",
   "metadata": {},
   "source": [
    "ferries are correctly not upgraded as long as they are loaded in as separate graphs"
   ]
  },
  {
   "cell_type": "code",
   "execution_count": 30,
   "metadata": {},
   "outputs": [],
   "source": [
    "# for u, v, data in G_upgrade_all.edges(data=True):\n",
    "#     if data['osm_id'] == '244861071':\n",
    "#         print(data['infra_type'])"
   ]
  },
  {
   "cell_type": "code",
   "execution_count": 31,
   "metadata": {},
   "outputs": [],
   "source": [
    "# for u, v, data in G_upgrade_nosouth.edges(data=True):\n",
    "#     if data['osm_id'] == '244861071':\n",
    "#         print(data['infra_type'])"
   ]
  },
  {
   "cell_type": "code",
   "execution_count": 32,
   "metadata": {},
   "outputs": [
    {
     "name": "stdout",
     "output_type": "stream",
     "text": [
      "secondary\n",
      "secondary\n"
     ]
    }
   ],
   "source": [
    "for u, v, data in G_upgrade_nosouth.edges(data=True):\n",
    "    if data['osm_id'] == '85651714':\n",
    "        print(data['infra_type'])"
   ]
  },
  {
   "cell_type": "code",
   "execution_count": 33,
   "metadata": {},
   "outputs": [],
   "source": [
    "# remove factor!! not needed because speeds were already coputed\n",
    "\n",
    "G_upgrade_noferry_time = gn.convert_network_to_time(G_upgrade_noferry,\n",
    "                                      distance_tag = 'length',\n",
    "                                      graph_type = 'drive',\n",
    "                                      road_col = 'infra_type',\n",
    "                                      speed_dict = speeds\n",
    "                                     )\n",
    "\n",
    "G_upgrade_nosouth_time = gn.convert_network_to_time(G_upgrade_nosouth,\n",
    "                                      distance_tag = 'length',\n",
    "                                      graph_type = 'drive',\n",
    "                                      road_col = 'infra_type',\n",
    "                                      speed_dict = speeds\n",
    "                                     )\n",
    "\n",
    "G_upgrade_all_time = gn.convert_network_to_time(G_upgrade_all,\n",
    "                                      distance_tag = 'length',\n",
    "                                      graph_type = 'drive',\n",
    "                                      road_col = 'infra_type',\n",
    "                                      speed_dict = speeds\n",
    "                                     )"
   ]
  },
  {
   "cell_type": "code",
   "execution_count": 34,
   "metadata": {},
   "outputs": [],
   "source": [
    "gn.save(G_upgrade_noferry_time, 'final_upgrade_noferry_G', 'final', nodes = False,  edges = False)\n",
    "gn.save(G_upgrade_nosouth_time, 'final_upgrade_nosouth_G', 'final', nodes = False,  edges = True)\n",
    "gn.save(G_upgrade_all_time, 'final_upgrade_all_G', 'final', nodes = False,  edges = True)"
   ]
  }
 ],
 "metadata": {
  "kernelspec": {
   "display_name": "Python 3",
   "language": "python",
   "name": "python3"
  },
  "language_info": {
   "codemirror_mode": {
    "name": "ipython",
    "version": 3
   },
   "file_extension": ".py",
   "mimetype": "text/x-python",
   "name": "python",
   "nbconvert_exporter": "python",
   "pygments_lexer": "ipython3",
   "version": "3.7.6"
  }
 },
 "nbformat": 4,
 "nbformat_minor": 4
}
