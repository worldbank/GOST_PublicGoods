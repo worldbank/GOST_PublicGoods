{
 "cells": [
  {
   "cell_type": "markdown",
   "metadata": {},
   "source": [
    "### Step 1 - Extract from OSM\n",
    "The purpose of this script is to show how to go from a .osm.pbf file to a network format that GOSTnets will accept. \n",
    "Additional modifications in this script include: clipping the roads to an input polygon), and slicing the roads DataFrame by a list of accepted road types, as tagged in OSM (see accepted_road_types list). "
   ]
  },
  {
   "cell_type": "markdown",
   "metadata": {},
   "source": [
    "This notebook is slightly messy as it contains commented out code used for checking intermediate outputs."
   ]
  },
  {
   "cell_type": "code",
   "execution_count": 1,
   "metadata": {},
   "outputs": [],
   "source": [
    "import geopandas as gpd\n",
    "import pandas as pd\n",
    "import os, sys\n",
    "\n",
    "# sys.path.append(\"../../../GOSTnets/GOSTnets\")\n",
    "\n",
    "import GOSTnets as gn\n",
    "from GOSTnets.load_osm import *\n",
    "import importlib\n",
    "import networkx as nx\n",
    "import osmnx as ox\n",
    "from shapely import ops as ops\n",
    "from shapely.ops import unary_union\n",
    "from shapely.wkt import loads\n",
    "from shapely.geometry import LineString, MultiLineString, Point"
   ]
  },
  {
   "cell_type": "markdown",
   "metadata": {},
   "source": [
    "Define filepaths"
   ]
  },
  {
   "cell_type": "code",
   "execution_count": 4,
   "metadata": {},
   "outputs": [],
   "source": [
    "input_pth = r'P:\\BGD\\GEO'\n",
    "lcl_input_pth = r'inputs'\n",
    "interm_pth = r'intermediate'\n",
    "fin_pth = r'final'\n",
    "\n",
    "osm_fil = r'bangladesh_210329_osm.pbf'\n",
    "\n",
    "f = os.path.join(input_pth,'OSM',osm_fil) "
   ]
  },
  {
   "cell_type": "markdown",
   "metadata": {},
   "source": [
    "Define parameters"
   ]
  },
  {
   "cell_type": "code",
   "execution_count": 5,
   "metadata": {},
   "outputs": [],
   "source": [
    "simplif_meters = 25 # a bit of a manual process, higher number = simpler but more chance for errors\n",
    "target_crs = 3106 # using Gulshan 303 / Bangladesh Traverse Mercator as it's a national metric projection with an established EPSG"
   ]
  },
  {
   "cell_type": "code",
   "execution_count": 6,
   "metadata": {},
   "outputs": [],
   "source": [
    "# Production date for outputs being used\n",
    "\n",
    "# prod_date = datetime.today().strftime('%y%m%d')\n",
    "# prod_date = '210312'\n",
    "prod_date = '210329'\n"
   ]
  },
  {
   "cell_type": "markdown",
   "metadata": {},
   "source": [
    "### Load in OSM data"
   ]
  },
  {
   "cell_type": "markdown",
   "metadata": {},
   "source": [
    "Using the loadOSM library, pass the filepath of the .osm.pbf to initiate a OSM_to_network class"
   ]
  },
  {
   "cell_type": "code",
   "execution_count": 6,
   "metadata": {},
   "outputs": [
    {
     "name": "stderr",
     "output_type": "stream",
     "text": [
      "C:\\Users\\wb467985\\.conda\\envs\\geo\\lib\\site-packages\\pyproj\\crs\\crs.py:53: FutureWarning: '+init=<authority>:<code>' syntax is deprecated. '<authority>:<code>' is the preferred initialization method. When making the change, be mindful of axis order changes: https://pyproj4.github.io/pyproj/stable/gotchas.html#axis-order-changes-in-proj-6\n",
      "  return _prepare_from_string(\" \".join(pjargs))\n"
     ]
    }
   ],
   "source": [
    "# includeFerries must be set to true\n",
    "\n",
    "BD = OSM_to_network(f, includeFerries=True)"
   ]
  },
  {
   "cell_type": "markdown",
   "metadata": {},
   "source": [
    "This generates a property of the class called 'roads_raw'. This is a raw dataframe of the highway objects, extracted from the .osm.pbf. This is the starting point for our network"
   ]
  },
  {
   "cell_type": "code",
   "execution_count": 7,
   "metadata": {},
   "outputs": [
    {
     "data": {
      "text/plain": [
       "residential       124210\n",
       "unclassified       88481\n",
       "path               35363\n",
       "track              26752\n",
       "living_street      22204\n",
       "tertiary           15674\n",
       "service             8415\n",
       "footway             7347\n",
       "road                4422\n",
       "secondary           3510\n",
       "trunk               2222\n",
       "primary             2037\n",
       "steps                653\n",
       "pier                 540\n",
       "pedestrian           488\n",
       "ferry                252\n",
       "trunk_link           185\n",
       "primary_link         112\n",
       "secondary_link        76\n",
       "construction          40\n",
       "cycleway              36\n",
       "tertiary_link         35\n",
       "corridor              15\n",
       "yes                   14\n",
       "bridleway             11\n",
       "services               4\n",
       "platform               2\n",
       "motorway               2\n",
       "rest_area              2\n",
       "crossing               1\n",
       "bus                    1\n",
       "P                      1\n",
       "Name: infra_type, dtype: int64"
      ]
     },
     "execution_count": 7,
     "metadata": {},
     "output_type": "execute_result"
    }
   ],
   "source": [
    "BD.roads_raw.infra_type.value_counts()"
   ]
  },
  {
   "cell_type": "code",
   "execution_count": 8,
   "metadata": {},
   "outputs": [],
   "source": [
    "# make sure to include ferry and pier values\n",
    "\n",
    "accepted_road_types = ['pier','ferry','track','unclassified','road','service','residential', 'living_street', \\\n",
    "                       'tertiary','secondary','primary','trunk','motorway',\\\n",
    "                       'tertiary_link','secondary_link','primary_link','trunk_link','motorway_link']"
   ]
  },
  {
   "cell_type": "markdown",
   "metadata": {},
   "source": [
    "We call the filerRoads method and pass it a list of acceptable road types"
   ]
  },
  {
   "cell_type": "code",
   "execution_count": 9,
   "metadata": {},
   "outputs": [],
   "source": [
    "BD.filterRoads(acceptedRoads = accepted_road_types)"
   ]
  },
  {
   "cell_type": "code",
   "execution_count": 10,
   "metadata": {},
   "outputs": [
    {
     "data": {
      "text/plain": [
       "residential       124210\n",
       "unclassified       88481\n",
       "track              26752\n",
       "living_street      22204\n",
       "tertiary           15674\n",
       "service             8415\n",
       "road                4422\n",
       "secondary           3510\n",
       "trunk               2222\n",
       "primary             2037\n",
       "pier                 540\n",
       "ferry                252\n",
       "trunk_link           185\n",
       "primary_link         112\n",
       "secondary_link        76\n",
       "tertiary_link         35\n",
       "motorway               2\n",
       "Name: infra_type, dtype: int64"
      ]
     },
     "execution_count": 10,
     "metadata": {},
     "output_type": "execute_result"
    }
   ],
   "source": [
    "BD.roads_raw.infra_type.value_counts()"
   ]
  },
  {
   "cell_type": "markdown",
   "metadata": {},
   "source": [
    "With initialReadIn(), we transform this to a graph object"
   ]
  },
  {
   "cell_type": "code",
   "execution_count": 11,
   "metadata": {},
   "outputs": [],
   "source": [
    "G = BD.initialReadIn()"
   ]
  },
  {
   "cell_type": "code",
   "execution_count": 12,
   "metadata": {},
   "outputs": [],
   "source": [
    "# Optionally, we save this graph object down to file using gn.save()\n",
    "\n",
    "gn.save(BD.network,'BD_raw_{}m_{}'.format(simplif_meters,prod_date),'intermediate')"
   ]
  },
  {
   "cell_type": "markdown",
   "metadata": {},
   "source": [
    "### 2 - Cleaning"
   ]
  },
  {
   "cell_type": "markdown",
   "metadata": {},
   "source": [
    "This function defines the order of GOSTnet functions we will call on the input network object. The verbose flag causes the process to save down intermediate files - helpful for troublehsooting."
   ]
  },
  {
   "cell_type": "code",
   "execution_count": 13,
   "metadata": {},
   "outputs": [],
   "source": [
    "G = nx.read_gpickle(os.path.join(interm_pth, 'BD_raw_{}m_{}.pickle'.format(simplif_meters,prod_date)))"
   ]
  },
  {
   "cell_type": "markdown",
   "metadata": {},
   "source": [
    "Optional -- filter out zero length edges"
   ]
  },
  {
   "cell_type": "code",
   "execution_count": 14,
   "metadata": {},
   "outputs": [],
   "source": [
    "# from shapely.geometry import shape\n",
    "# import json\n",
    "\n",
    "# for u, v, data in G.edges(data=True):\n",
    "#     data['real_length'] = data['Wkt'].length\n",
    "    \n",
    "# for u, v, data in G.edges(data='real_length'):\n",
    "#     if data == 0:\n",
    "#         G.remove_edge(u,v)"
   ]
  },
  {
   "cell_type": "markdown",
   "metadata": {},
   "source": [
    "Now clean"
   ]
  },
  {
   "cell_type": "code",
   "execution_count": null,
   "metadata": {},
   "outputs": [
    {
     "name": "stdout",
     "output_type": "stream",
     "text": [
      "start: Mon Mar 29 16:26:03 2021\n",
      "\n"
     ]
    },
    {
     "name": "stderr",
     "output_type": "stream",
     "text": [
      "C:\\Users\\wb467985\\.conda\\envs\\geo\\lib\\site-packages\\pyproj\\crs\\crs.py:53: FutureWarning: '+init=<authority>:<code>' syntax is deprecated. '<authority>:<code>' is the preferred initialization method. When making the change, be mindful of axis order changes: https://pyproj4.github.io/pyproj/stable/gotchas.html#axis-order-changes-in-proj-6\n",
      "  return _prepare_from_string(\" \".join(pjargs))\n"
     ]
    }
   ],
   "source": [
    "print('start: %s\\n' % time.ctime())\n",
    "G_clean = gn.clean_network(G, \\\n",
    "                               wpath=interm_pth, \\\n",
    "                               output_file_name='BD',\\\n",
    "                               UTM = {'init':'epsg:{}'.format(target_crs)}, \\\n",
    "                               WGS = {'init':'epsg:4326'},\\\n",
    "                               junctdist = simplif_meters)\n",
    "print('\\nend: %s' % time.ctime())\n",
    "print('\\n--- processing complete')"
   ]
  },
  {
   "cell_type": "code",
   "execution_count": null,
   "metadata": {},
   "outputs": [],
   "source": [
    "gn.save(G_clean,'BD_processed_{}m_{}'.format(simplif_meters,prod_date),interm_pth)"
   ]
  },
  {
   "cell_type": "markdown",
   "metadata": {},
   "source": [
    "### 3 - Find Largest Graph\n",
    "\n",
    "Here, we generate shapefiles of the connected network and those roads which are disconnected. Though not necessary for the analysis, this is a useful process to go through to:\n",
    "1.) visually appraise the quality of the OSM network\n",
    "2.) identify large subgraphs that need to be manually connected to the main network\n",
    "3.) support network improvement activities \n",
    "\n",
    "Shapefiles manually edited (as per step 2) can be loaded up in a separate optional process outlined in the next notebok"
   ]
  },
  {
   "cell_type": "markdown",
   "metadata": {},
   "source": [
    "Import Processed Graph"
   ]
  },
  {
   "cell_type": "code",
   "execution_count": 7,
   "metadata": {},
   "outputs": [],
   "source": [
    "G_clean = nx.read_gpickle(os.path.join(interm_pth,'BD_processed_{}m_{}.pickle').format(simplif_meters,prod_date))"
   ]
  },
  {
   "cell_type": "markdown",
   "metadata": {},
   "source": [
    "Add a unique value to each edge"
   ]
  },
  {
   "cell_type": "code",
   "execution_count": 8,
   "metadata": {},
   "outputs": [],
   "source": [
    "q = 0\n",
    "for u, v, data in G_clean.edges(data = True):\n",
    "    data['unique_id'] = q\n",
    "    q+=1"
   ]
  },
  {
   "cell_type": "markdown",
   "metadata": {},
   "source": [
    "Identify largest subgraph by making a list of all subgraphs, iterating through them, and setting a variable to the maximum"
   ]
  },
  {
   "cell_type": "code",
   "execution_count": 9,
   "metadata": {},
   "outputs": [],
   "source": [
    "list_of_graphs = list(G_clean.subgraph(c).copy() for c in nx.strongly_connected_components(G_clean))"
   ]
  },
  {
   "cell_type": "code",
   "execution_count": 10,
   "metadata": {},
   "outputs": [],
   "source": [
    "max_edges = 0\n",
    "for q in range(0, len(list_of_graphs)):\n",
    "        g = list_of_graphs[q]\n",
    "        if g.number_of_edges() > max_edges:\n",
    "            max_edges = g.number_of_edges()\n",
    "            t = q\n",
    "        else:\n",
    "            pass"
   ]
  },
  {
   "cell_type": "markdown",
   "metadata": {},
   "source": [
    "Print the results of this test"
   ]
  },
  {
   "cell_type": "code",
   "execution_count": null,
   "metadata": {},
   "outputs": [],
   "source": [
    "print(\"The largest graphs is the graph in position %s, and has %s edges\" % (t, max_edges))"
   ]
  },
  {
   "cell_type": "markdown",
   "metadata": {},
   "source": [
    "Define largest graph as its own object, save it down"
   ]
  },
  {
   "cell_type": "code",
   "execution_count": null,
   "metadata": {},
   "outputs": [],
   "source": [
    "# Export graph\n",
    "\n",
    "largest_G = list_of_graphs[t]\n",
    "gn.save(largest_G, 'largest_G_{}m_{}'.format(simplif_meters,prod_date), interm_pth)\n",
    "\n",
    "# Turn into shapefile\n",
    "\n",
    "edge_gdf_largest_G = gn.edge_gdf_from_graph(largest_G)\n",
    "edge_gdf_largest_G = edge_gdf_largest_G.drop('geometry', axis = 1)\n",
    "edge_gdf_largest_G['Wkt'] = edge_gdf_largest_G['Wkt'].apply(lambda x: gn.unbundle_geometry(x))\n",
    "edge_gdf_largest_G = edge_gdf_largest_G.set_geometry('Wkt')\n",
    "edge_gdf_largest_G.to_file(os.path.join(interm_pth,'LargestG.shp'))"
   ]
  },
  {
   "cell_type": "code",
   "execution_count": 16,
   "metadata": {},
   "outputs": [],
   "source": [
    "# # Export nodes\n",
    "\n",
    "# largest_G = list_of_graphs[t]\n",
    "\n",
    "# node_gdf_largest_G = gn.node_gdf_from_graph(largest_G)\n",
    "# node_gdf_largest_G = node_gdf_largest_G.set_geometry('geometry')\n",
    "# node_gdf_largest_G.to_file(os.path.join(interm_pth,'LargestG_nodes.shp'))"
   ]
  },
  {
   "cell_type": "markdown",
   "metadata": {},
   "source": [
    "Create a shapefile of all the edges that aren't in the main graph"
   ]
  },
  {
   "cell_type": "code",
   "execution_count": null,
   "metadata": {},
   "outputs": [],
   "source": [
    "edge_gdf = gn.edge_gdf_from_graph(G_clean)\n",
    "\n",
    "edges_in_largest_G = list(edge_gdf_largest_G.unique_id)\n",
    "\n",
    "edges_NOT_in_largest_G = edge_gdf.loc[~edge_gdf.unique_id.isin(edges_in_largest_G)]"
   ]
  },
  {
   "cell_type": "markdown",
   "metadata": {},
   "source": [
    "Save it down"
   ]
  },
  {
   "cell_type": "code",
   "execution_count": null,
   "metadata": {},
   "outputs": [],
   "source": [
    "edges_NOT_in_largest_G = edges_NOT_in_largest_G.drop('geometry', axis = 1)\n",
    "edges_NOT_in_largest_G['Wkt'] = edges_NOT_in_largest_G['Wkt'].apply(lambda x: gn.unbundle_geometry(x))\n",
    "edges_NOT_in_largest_G = edges_NOT_in_largest_G.set_geometry('Wkt')\n",
    "edges_NOT_in_largest_G.to_file(os.path.join(interm_pth,'DisconnectedRoads.shp'))"
   ]
  },
  {
   "cell_type": "markdown",
   "metadata": {},
   "source": [
    "*Optional troubleshooting exports*"
   ]
  },
  {
   "cell_type": "markdown",
   "metadata": {},
   "source": [
    "Create a shapefile of all edges from the cleaned graph, save it down"
   ]
  },
  {
   "cell_type": "code",
   "execution_count": null,
   "metadata": {},
   "outputs": [],
   "source": [
    "# all_edges_G = gn.edge_gdf_from_graph(G_clean)\n",
    "# all_edges_G = all_edges_G.drop('geometry', axis = 1)\n",
    "# all_edges_G['Wkt'] = all_edges_G['Wkt'].apply(lambda x: gn.unbundle_geometry(x))\n",
    "# all_edges_G = all_edges_G.set_geometry('Wkt')\n",
    "# all_edges_G.to_file(os.path.join(interm_pth,'All_edges_clean.shp'))"
   ]
  },
  {
   "cell_type": "markdown",
   "metadata": {},
   "source": [
    "Create a shapefile of all edges from the UNcleaned graph, save it down"
   ]
  },
  {
   "cell_type": "code",
   "execution_count": null,
   "metadata": {},
   "outputs": [],
   "source": [
    "# all_edges_G = gn.edge_gdf_from_graph(G)\n",
    "# all_edges_G = all_edges_G.drop('geometry', axis = 1)\n",
    "# all_edges_G['Wkt'] = all_edges_G['Wkt'].apply(lambda x: gn.unbundle_geometry(x))\n",
    "# all_edges_G = all_edges_G.set_geometry('Wkt')\n",
    "# all_edges_G.to_file(os.path.join(interm_pth,'All_edges_Gnormal.shp'))"
   ]
  },
  {
   "cell_type": "code",
   "execution_count": null,
   "metadata": {},
   "outputs": [],
   "source": [
    "gn.save(G_clean,'BD_clean_{}m'.format(simplif_meters),interm_pth)"
   ]
  },
  {
   "cell_type": "markdown",
   "metadata": {},
   "source": [
    "### 4 - Convert to speeds"
   ]
  },
  {
   "cell_type": "code",
   "execution_count": 23,
   "metadata": {},
   "outputs": [],
   "source": [
    "G_largest = nx.read_gpickle(os.path.join(interm_pth, 'largest_G_{}m_{}.pickle').format(simplif_meters,prod_date))"
   ]
  },
  {
   "cell_type": "markdown",
   "metadata": {},
   "source": [
    "Next, we convert the network to time, supplying a speed in km/h for each road type"
   ]
  },
  {
   "cell_type": "markdown",
   "metadata": {},
   "source": [
    "Define a speed dictionary with a value for every unique road type in the above list"
   ]
  },
  {
   "cell_type": "code",
   "execution_count": 24,
   "metadata": {},
   "outputs": [],
   "source": [
    "# # adjusted for Bangladesh based on Blankespoor and Yoshida (2010)\n",
    "# # Reduced all by 5 to account for BD traffic congestion and poor road conditions\n",
    "\n",
    "# speeds = {'ferry':8,\n",
    "#             'pier':5,\n",
    "#             'path':5,\n",
    "#             'track':15,\n",
    "#             'service':15,\n",
    "#             'living_street':20,\n",
    "#             'road':20,\n",
    "#             'residential':20,\n",
    "#             'unclassified':20,\n",
    "#             'tertiary':35,\n",
    "#             'secondary':45,\n",
    "#             'primary':55,\n",
    "#             'trunk':65,\n",
    "#             'motorway':80,\n",
    "#             'tertiary_link':25,\n",
    "#             'secondary_link':35,\n",
    "#             'primary_link':50,\n",
    "#             'trunk_link':60,\n",
    "#             'motorway_link':70}"
   ]
  },
  {
   "cell_type": "code",
   "execution_count": 25,
   "metadata": {},
   "outputs": [],
   "source": [
    "# Radically reduced speeds based on Dappe et al (2019)\n",
    "# Ferry speeds are extremely low to account for frequency and length of delays at ferry crossings noted in Dappe et al (2019)\n",
    "\n",
    "speeds = {  'ferry':2, \n",
    "            'pier':5,\n",
    "            'path':5,\n",
    "            'track':15,\n",
    "            'service':15,\n",
    "            'living_street':15,\n",
    "            'road':15,\n",
    "            'residential':15,\n",
    "            'unclassified':15,\n",
    "            'tertiary':20,\n",
    "            'secondary':20,\n",
    "            'primary':20,\n",
    "            'trunk':20,\n",
    "            'motorway':20,\n",
    "            'tertiary_link':20,\n",
    "            'secondary_link':20,\n",
    "            'primary_link':20,\n",
    "            'trunk_link':20,\n",
    "            'motorway_link':20}"
   ]
  },
  {
   "cell_type": "code",
   "execution_count": 26,
   "metadata": {},
   "outputs": [],
   "source": [
    "G_clean_time = gn.convert_network_to_time(G_largest, # G_salted or G_clean\n",
    "                                      distance_tag = 'length',\n",
    "                                      graph_type = 'drive',\n",
    "                                      road_col = 'infra_type',\n",
    "                                      speed_dict = speeds,\n",
    "                                      factor = 1000\n",
    "                                     )"
   ]
  },
  {
   "cell_type": "markdown",
   "metadata": {},
   "source": [
    "Finally, before saving down, we reset all node IDs to integers to aid the graphtool step"
   ]
  },
  {
   "cell_type": "code",
   "execution_count": null,
   "metadata": {},
   "outputs": [],
   "source": [
    "??nx.convert_labels_to_integers\n"
   ]
  },
  {
   "cell_type": "code",
   "execution_count": 27,
   "metadata": {},
   "outputs": [],
   "source": [
    "G_clean_time = nx.convert_node_labels_to_integers(G_clean_time) # G_clean vs G_salted"
   ]
  },
  {
   "cell_type": "markdown",
   "metadata": {},
   "source": [
    "Save down"
   ]
  },
  {
   "cell_type": "code",
   "execution_count": 2,
   "metadata": {},
   "outputs": [],
   "source": [
    "gn.save(G_clean_time, f'final_current_G_{simplif_meters}m_{prod_date}', 'final', nodes = True,  edges = True)"
   ]
  }
 ],
 "metadata": {
  "kernelspec": {
   "display_name": "Python 3",
   "language": "python",
   "name": "python3"
  },
  "language_info": {
   "codemirror_mode": {
    "name": "ipython",
    "version": 3
   },
   "file_extension": ".py",
   "mimetype": "text/x-python",
   "name": "python",
   "nbconvert_exporter": "python",
   "pygments_lexer": "ipython3",
   "version": "3.8.0"
  }
 },
 "nbformat": 4,
 "nbformat_minor": 4
}
