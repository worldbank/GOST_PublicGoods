{
 "cells": [
  {
   "cell_type": "markdown",
   "metadata": {},
   "source": [
    "# Step 1b -- Creating scenario graphs "
   ]
  },
  {
   "cell_type": "markdown",
   "metadata": {},
   "source": [
    "This notebook presents various methods of preparing graphs for multiple investment / accessibility scenarios"
   ]
  },
  {
   "cell_type": "code",
   "execution_count": 1,
   "metadata": {},
   "outputs": [],
   "source": [
    "import geopandas as gpd\n",
    "import pandas as pd\n",
    "import os, sys\n",
    "\n",
    "# sys.path.append(\"../../../GOSTnets/GOSTnets\")\n",
    "\n",
    "import GOSTnets as gn\n",
    "from GOSTnets.load_osm import *\n",
    "import importlib\n",
    "import networkx as nx\n",
    "import osmnx as ox\n",
    "from shapely import ops as ops\n",
    "from shapely.ops import unary_union\n",
    "from shapely.wkt import loads\n",
    "from shapely.geometry import LineString, MultiLineString, Point"
   ]
  },
  {
   "cell_type": "markdown",
   "metadata": {},
   "source": [
    "### Setup"
   ]
  },
  {
   "cell_type": "markdown",
   "metadata": {},
   "source": [
    "Define filepaths"
   ]
  },
  {
   "cell_type": "code",
   "execution_count": 4,
   "metadata": {},
   "outputs": [],
   "source": [
    "input_pth = r'P:\\BGD\\GEO'\n",
    "lcl_input_pth = r'inputs'\n",
    "interm_pth = r'intermediate'\n",
    "fin_pth = r'final'"
   ]
  },
  {
   "cell_type": "markdown",
   "metadata": {},
   "source": [
    "Define parameters"
   ]
  },
  {
   "cell_type": "code",
   "execution_count": 5,
   "metadata": {},
   "outputs": [],
   "source": [
    "simplif_meters = 25 # a bit of a manual process, higher number = simpler but more chance for errors\n",
    "target_crs = 3106 # using Gulshan 303 / Bangladesh Traverse Mercator as it's a national metric projection with an established EPSG"
   ]
  },
  {
   "cell_type": "code",
   "execution_count": 6,
   "metadata": {},
   "outputs": [],
   "source": [
    "# Production date for outputs being used\n",
    "\n",
    "# prod_date = datetime.today().strftime('%y%m%d')\n",
    "# prod_date = '210312'\n",
    "prod_date = '210329'\n"
   ]
  },
  {
   "cell_type": "markdown",
   "metadata": {},
   "source": [
    "### Scenario: Padma Bridge"
   ]
  },
  {
   "cell_type": "markdown",
   "metadata": {},
   "source": [
    "Add in a new segment representing the Padma bridge, a major bridge investment in Bangladesh"
   ]
  },
  {
   "cell_type": "code",
   "execution_count": 7,
   "metadata": {},
   "outputs": [],
   "source": [
    "G_Padma = nx.read_gpickle(os.path.join(fin_pth, f'final_current_G_{simplif_meters}m_{prod_date}.pickle'))"
   ]
  },
  {
   "cell_type": "code",
   "execution_count": 8,
   "metadata": {},
   "outputs": [
    {
     "name": "stdout",
     "output_type": "stream",
     "text": [
      "(0, 24335, {'Wkt': 'LINESTRING (89.22178599999999 22.9686986, 89.2216605 22.9687017, 89.2211562 22.9686029, 89.22057150000001 22.9684942)', 'id': 349336, 'infra_type': 'unclassified', 'osm_id': '556994112', 'key': 'edge_349336', 'length': 126.88824810020613, 'Type': 'legitimate', 'unique_id': 0, 'time': 30.453179544049473, 'mode': 'drive'})\n"
     ]
    }
   ],
   "source": [
    "gn.example_edge(G_Padma)"
   ]
  },
  {
   "cell_type": "code",
   "execution_count": 9,
   "metadata": {},
   "outputs": [
    {
     "data": {
      "text/plain": [
       "[68343, 236053]"
      ]
     },
     "execution_count": 9,
     "metadata": {},
     "output_type": "execute_result"
    }
   ],
   "source": [
    "# identifying correct node for one side of the bridge by looking at the common point between two edges meeting at that node.\n",
    "# This is necessary because the bride node has been renamed in the exported shapefiles due to some simplification. It appears that gostnets maintains the node integers in the background however\n",
    "[u for u,v,d in G_Padma.edges(data = True) if d.get('key') == 'edge_43944']\n",
    "[u for u,v,d in G_Padma.edges(data = True) if d.get('key') == 'edge_72435']\n",
    "\n",
    "# 236053 it is"
   ]
  },
  {
   "cell_type": "code",
   "execution_count": 10,
   "metadata": {},
   "outputs": [
    {
     "data": {
      "text/plain": [
       "{0: {'Wkt': 'LINESTRING (90.26537821977453 23.4737997799302, 90.26579479999999 23.4775751)',\n",
       "  'id': 43944,\n",
       "  'infra_type': 'primary',\n",
       "  'osm_id': '236821999',\n",
       "  'key': 'edge_43944',\n",
       "  'length': 379.1191237963699,\n",
       "  'Type': 'origin_destruction',\n",
       "  'unique_id': 535722,\n",
       "  'time': 68.24144228334657,\n",
       "  'mode': 'drive'}}"
      ]
     },
     "execution_count": 10,
     "metadata": {},
     "output_type": "execute_result"
    }
   ],
   "source": [
    "G_Padma.get_edge_data(212524, 236053)"
   ]
  },
  {
   "cell_type": "code",
   "execution_count": 12,
   "metadata": {},
   "outputs": [
    {
     "data": {
      "text/plain": [
       "'edge_Padma'"
      ]
     },
     "execution_count": 12,
     "metadata": {},
     "output_type": "execute_result"
    }
   ],
   "source": [
    "# Length manually calculated in QGIS\n",
    "# assumes 20 km / h (5.555 m / second) speed.\n",
    "# 6800 / 5.5555 = 1224\n",
    "G_Padma.add_edge(205830,236053,\\\n",
    "                 Wkt = 'LINESTRING (90.25204 23.4051, 90.26014 23.41833, 90.2640 23.47380)', \\\n",
    "                 infra_type = 'trunk' ,\\\n",
    "                 key = 'edge_Padma', \\\n",
    "                 length = 6800, \\\n",
    "                 time = 1224, \\\n",
    "                 unique_id = 999999999,\\\n",
    "                 mode = 'drive')"
   ]
  },
  {
   "cell_type": "code",
   "execution_count": 13,
   "metadata": {},
   "outputs": [
    {
     "data": {
      "text/plain": [
       "<networkx.classes.multidigraph.MultiDiGraph at 0x1d824b6aa30>"
      ]
     },
     "execution_count": 13,
     "metadata": {},
     "output_type": "execute_result"
    }
   ],
   "source": [
    "G_Padma"
   ]
  },
  {
   "cell_type": "code",
   "execution_count": 15,
   "metadata": {},
   "outputs": [
    {
     "data": {
      "text/plain": [
       "{'edge_Padma': {'Wkt': 'LINESTRING (90.25204 23.4051, 90.26014 23.41833, 90.2640 23.47380)',\n",
       "  'infra_type': 'trunk',\n",
       "  'length': 6800,\n",
       "  'time': 1224,\n",
       "  'unique_id': 999999999,\n",
       "  'mode': 'drive'}}"
      ]
     },
     "execution_count": 15,
     "metadata": {},
     "output_type": "execute_result"
    }
   ],
   "source": [
    "G_Padma.get_edge_data(205830,236053)"
   ]
  },
  {
   "cell_type": "code",
   "execution_count": 19,
   "metadata": {},
   "outputs": [
    {
     "data": {
      "text/plain": [
       "\u001b[1;31mSignature:\u001b[0m \u001b[0mgn\u001b[0m\u001b[1;33m.\u001b[0m\u001b[0msave\u001b[0m\u001b[1;33m(\u001b[0m\u001b[0mG\u001b[0m\u001b[1;33m,\u001b[0m \u001b[0msavename\u001b[0m\u001b[1;33m,\u001b[0m \u001b[0mwpath\u001b[0m\u001b[1;33m,\u001b[0m \u001b[0mpickle\u001b[0m\u001b[1;33m=\u001b[0m\u001b[1;32mTrue\u001b[0m\u001b[1;33m,\u001b[0m \u001b[0medges\u001b[0m\u001b[1;33m=\u001b[0m\u001b[1;32mTrue\u001b[0m\u001b[1;33m,\u001b[0m \u001b[0mnodes\u001b[0m\u001b[1;33m=\u001b[0m\u001b[1;32mTrue\u001b[0m\u001b[1;33m)\u001b[0m\u001b[1;33m\u001b[0m\u001b[1;33m\u001b[0m\u001b[0m\n",
       "\u001b[1;31mSource:\u001b[0m   \n",
       "\u001b[1;32mdef\u001b[0m \u001b[0msave\u001b[0m\u001b[1;33m(\u001b[0m\u001b[0mG\u001b[0m\u001b[1;33m,\u001b[0m \u001b[0msavename\u001b[0m\u001b[1;33m,\u001b[0m \u001b[0mwpath\u001b[0m\u001b[1;33m,\u001b[0m \u001b[0mpickle\u001b[0m \u001b[1;33m=\u001b[0m \u001b[1;32mTrue\u001b[0m\u001b[1;33m,\u001b[0m \u001b[0medges\u001b[0m \u001b[1;33m=\u001b[0m \u001b[1;32mTrue\u001b[0m\u001b[1;33m,\u001b[0m \u001b[0mnodes\u001b[0m \u001b[1;33m=\u001b[0m \u001b[1;32mTrue\u001b[0m\u001b[1;33m)\u001b[0m\u001b[1;33m:\u001b[0m\u001b[1;33m\n",
       "\u001b[0m    \u001b[1;34m\"\"\"\n",
       "    function used to save a graph object in a variety of handy formats\n",
       "\n",
       "    :param G: a graph object\n",
       "    :param savename: the filename, WITHOUT extension\n",
       "    :param wpath: the write path for where the user wants the files saved\n",
       "    :param pickle: if set to false, will not save a pickle of the graph\n",
       "    :param edges: if set to false, will not save an edge gdf\n",
       "    :param nodes: if set to false, will not save a node gdf\n",
       "    \"\"\"\u001b[0m\u001b[1;33m\n",
       "\u001b[0m\u001b[1;33m\n",
       "\u001b[0m    \u001b[1;32mif\u001b[0m \u001b[0mnodes\u001b[0m \u001b[1;33m==\u001b[0m \u001b[1;32mTrue\u001b[0m\u001b[1;33m:\u001b[0m\u001b[1;33m\n",
       "\u001b[0m        \u001b[0mnew_node_gdf\u001b[0m \u001b[1;33m=\u001b[0m \u001b[0mnode_gdf_from_graph\u001b[0m\u001b[1;33m(\u001b[0m\u001b[0mG\u001b[0m\u001b[1;33m)\u001b[0m\u001b[1;33m\n",
       "\u001b[0m        \u001b[0mnew_node_gdf\u001b[0m\u001b[1;33m.\u001b[0m\u001b[0mto_csv\u001b[0m\u001b[1;33m(\u001b[0m\u001b[0mos\u001b[0m\u001b[1;33m.\u001b[0m\u001b[0mpath\u001b[0m\u001b[1;33m.\u001b[0m\u001b[0mjoin\u001b[0m\u001b[1;33m(\u001b[0m\u001b[0mwpath\u001b[0m\u001b[1;33m,\u001b[0m \u001b[1;34m'%s_nodes.csv'\u001b[0m \u001b[1;33m%\u001b[0m \u001b[0msavename\u001b[0m\u001b[1;33m)\u001b[0m\u001b[1;33m)\u001b[0m\u001b[1;33m\n",
       "\u001b[0m    \u001b[1;32mif\u001b[0m \u001b[0medges\u001b[0m \u001b[1;33m==\u001b[0m \u001b[1;32mTrue\u001b[0m\u001b[1;33m:\u001b[0m\u001b[1;33m\n",
       "\u001b[0m        \u001b[0mnew_edge_gdf\u001b[0m \u001b[1;33m=\u001b[0m \u001b[0medge_gdf_from_graph\u001b[0m\u001b[1;33m(\u001b[0m\u001b[0mG\u001b[0m\u001b[1;33m)\u001b[0m\u001b[1;33m\n",
       "\u001b[0m        \u001b[0mnew_edge_gdf\u001b[0m\u001b[1;33m.\u001b[0m\u001b[0mto_csv\u001b[0m\u001b[1;33m(\u001b[0m\u001b[0mos\u001b[0m\u001b[1;33m.\u001b[0m\u001b[0mpath\u001b[0m\u001b[1;33m.\u001b[0m\u001b[0mjoin\u001b[0m\u001b[1;33m(\u001b[0m\u001b[0mwpath\u001b[0m\u001b[1;33m,\u001b[0m \u001b[1;34m'%s_edges.csv'\u001b[0m \u001b[1;33m%\u001b[0m \u001b[0msavename\u001b[0m\u001b[1;33m)\u001b[0m\u001b[1;33m)\u001b[0m\u001b[1;33m\n",
       "\u001b[0m    \u001b[1;32mif\u001b[0m \u001b[0mpickle\u001b[0m \u001b[1;33m==\u001b[0m \u001b[1;32mTrue\u001b[0m\u001b[1;33m:\u001b[0m\u001b[1;33m\n",
       "\u001b[0m        \u001b[0mnx\u001b[0m\u001b[1;33m.\u001b[0m\u001b[0mwrite_gpickle\u001b[0m\u001b[1;33m(\u001b[0m\u001b[0mG\u001b[0m\u001b[1;33m,\u001b[0m \u001b[0mos\u001b[0m\u001b[1;33m.\u001b[0m\u001b[0mpath\u001b[0m\u001b[1;33m.\u001b[0m\u001b[0mjoin\u001b[0m\u001b[1;33m(\u001b[0m\u001b[0mwpath\u001b[0m\u001b[1;33m,\u001b[0m \u001b[1;34m'%s.pickle'\u001b[0m \u001b[1;33m%\u001b[0m \u001b[0msavename\u001b[0m\u001b[1;33m)\u001b[0m\u001b[1;33m)\u001b[0m\u001b[1;33m\u001b[0m\u001b[1;33m\u001b[0m\u001b[0m\n",
       "\u001b[1;31mFile:\u001b[0m      c:\\users\\wb467985\\.conda\\envs\\geo\\lib\\site-packages\\gostnets-1.0.1-py3.8.egg\\gostnets\\core.py\n",
       "\u001b[1;31mType:\u001b[0m      function\n"
      ]
     },
     "metadata": {},
     "output_type": "display_data"
    }
   ],
   "source": [
    "??gn.save"
   ]
  },
  {
   "cell_type": "code",
   "execution_count": 20,
   "metadata": {},
   "outputs": [],
   "source": [
    "gn.save(G_Padma, f'final_Padma_G_{simplif_meters}m_{prod_date}', 'final', nodes = False,  edges = True, pickle= False)"
   ]
  },
  {
   "cell_type": "markdown",
   "metadata": {},
   "source": [
    "### Scenario: upgrade speeds on specific segments"
   ]
  },
  {
   "cell_type": "markdown",
   "metadata": {},
   "source": [
    "Upgrade speeds on specific segments. Leftover, mildly cleaned code from a previous analysis in Cox's Bazaar"
   ]
  },
  {
   "cell_type": "code",
   "execution_count": 142,
   "metadata": {},
   "outputs": [],
   "source": [
    "G_upgrade_all = nx.read_gpickle('final/final_current_G.pickle')\n",
    "G_upgrade_noferry = nx.read_gpickle('final/final_current_G.pickle')"
   ]
  },
  {
   "cell_type": "code",
   "execution_count": 144,
   "metadata": {},
   "outputs": [],
   "source": [
    "upgrade_segs = {'ferry' : ['85651714','85651729','43107027','409823924'], \\\n",
    "                'maheshkhali': ['236712168','423656274','424954822','424955827','424979570','425403567','468297576','468307000','468307004','468312439','468312440'], \\\n",
    "                'charkhari' : ['28887054','162212403','236712167','236712168','236712192','236712195','586014261']}"
   ]
  },
  {
   "cell_type": "code",
   "execution_count": 145,
   "metadata": {},
   "outputs": [
    {
     "name": "stdout",
     "output_type": "stream",
     "text": [
      "ferry\n",
      "ferry\n"
     ]
    }
   ],
   "source": [
    "for u, v, data in G_upgrade_noferry.edges(data=True):\n",
    "    if data['osm_id'] == '85651714':\n",
    "        print(data['infra_type'])"
   ]
  },
  {
   "cell_type": "code",
   "execution_count": 146,
   "metadata": {},
   "outputs": [],
   "source": [
    "for u, v, data in G_upgrade_noferry.edges(data = True):\n",
    "    if data['osm_id'] in upgrade_segs['maheshkhali']:\n",
    "        data['infra_type'] = 'secondary'\n",
    "    elif data['osm_id'] in upgrade_segs['charkhari']:\n",
    "        data['infra_type'] = 'primary'\n",
    "\n",
    "for u, v, data in G_upgrade_all.edges(data = True):\n",
    "    if data['osm_id'] in upgrade_segs['ferry']:\n",
    "        data['infra_type'] = 'secondary'\n",
    "    elif data['osm_id'] in upgrade_segs['maheshkhali']:\n",
    "        data['infra_type'] = 'secondary'\n",
    "    elif data['osm_id'] in upgrade_segs['charkhari']:\n",
    "        data['infra_type'] = 'primary'\n",
    "        "
   ]
  },
  {
   "cell_type": "markdown",
   "metadata": {},
   "source": [
    "ferries are correctly not upgraded as long as they are loaded in as separate graphs"
   ]
  },
  {
   "cell_type": "code",
   "execution_count": 151,
   "metadata": {},
   "outputs": [
    {
     "name": "stdout",
     "output_type": "stream",
     "text": [
      "ferry\n",
      "ferry\n"
     ]
    }
   ],
   "source": [
    "for u, v, data in G_upgrade_noferry.edges(data=True):\n",
    "    if data['osm_id'] == '85651714':\n",
    "        print(data['infra_type'])"
   ]
  },
  {
   "cell_type": "code",
   "execution_count": 149,
   "metadata": {},
   "outputs": [],
   "source": [
    "# remove factor!! not needed because speeds were already coputed\n",
    "\n",
    "G_upgrade_all_time = gn.convert_network_to_time(G_upgrade_all,\n",
    "                                      distance_tag = 'length',\n",
    "                                      graph_type = 'drive',\n",
    "                                      road_col = 'infra_type',\n",
    "                                      speed_dict = speeds\n",
    "                                     )\n",
    "\n",
    "G_upgrade_noferry_time = gn.convert_network_to_time(G_upgrade_noferry,\n",
    "                                      distance_tag = 'length',\n",
    "                                      graph_type = 'drive',\n",
    "                                      road_col = 'infra_type',\n",
    "                                      speed_dict = speeds\n",
    "                                     )"
   ]
  },
  {
   "cell_type": "code",
   "execution_count": 150,
   "metadata": {},
   "outputs": [],
   "source": [
    "gn.save(G_upgrade_all_time, 'final_upgrade_all_G', 'final', nodes = True,  edges = True)\n",
    "gn.save(G_upgrade_noferry_time, 'final_upgrade_noferry_G', 'final', nodes = True,  edges = True)"
   ]
  },
  {
   "cell_type": "code",
   "execution_count": null,
   "metadata": {},
   "outputs": [],
   "source": []
  }
 ],
 "metadata": {
  "kernelspec": {
   "display_name": "Python 3",
   "language": "python",
   "name": "python3"
  },
  "language_info": {
   "codemirror_mode": {
    "name": "ipython",
    "version": 3
   },
   "file_extension": ".py",
   "mimetype": "text/x-python",
   "name": "python",
   "nbconvert_exporter": "python",
   "pygments_lexer": "ipython3",
   "version": "3.8.0"
  }
 },
 "nbformat": 4,
 "nbformat_minor": 4
}
