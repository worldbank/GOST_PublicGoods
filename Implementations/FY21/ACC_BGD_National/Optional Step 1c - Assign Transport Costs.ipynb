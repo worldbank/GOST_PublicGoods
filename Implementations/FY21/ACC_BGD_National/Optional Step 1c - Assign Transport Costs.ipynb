{
 "cells": [
  {
   "cell_type": "markdown",
   "metadata": {},
   "source": [
    "# Step 1c - Calculate Transport Costs"
   ]
  },
  {
   "cell_type": "markdown",
   "metadata": {},
   "source": [
    "This notebook calculates **economic** transport costs based on RED / HDM4 VOCs ($ / kg) over road lengths"
   ]
  },
  {
   "cell_type": "code",
   "execution_count": 1,
   "metadata": {},
   "outputs": [],
   "source": [
    "import geopandas as gpd\n",
    "import pandas as pd\n",
    "import os, sys\n",
    "\n",
    "# sys.path.append(\"../../../GOSTnets/GOSTnets\")\n",
    "\n",
    "import GOSTnets as gn\n",
    "from GOSTnets.load_osm import *\n",
    "import importlib\n",
    "import networkx as nx\n",
    "import osmnx as ox\n",
    "from shapely import ops as ops\n",
    "from shapely.ops import unary_union\n",
    "from shapely.wkt import loads\n",
    "from shapely.geometry import LineString, MultiLineString, Point"
   ]
  },
  {
   "cell_type": "markdown",
   "metadata": {},
   "source": [
    "### Setup"
   ]
  },
  {
   "cell_type": "markdown",
   "metadata": {},
   "source": [
    "Define filepaths"
   ]
  },
  {
   "cell_type": "code",
   "execution_count": 4,
   "metadata": {},
   "outputs": [],
   "source": [
    "input_pth = r'..\\..\\..\\GEO'\n",
    "lcl_input_pth = r'inputs'\n",
    "interm_pth = r'intermediate'\n",
    "fin_pth = r'final'\n",
    "\n",
    "osm_fil = r'bangladesh_210329_osm.pbf'\n",
    "\n",
    "f = os.path.join(input_pth,'OSM',osm_fil) "
   ]
  },
  {
   "cell_type": "markdown",
   "metadata": {},
   "source": [
    "Define parameters"
   ]
  },
  {
   "cell_type": "code",
   "execution_count": 5,
   "metadata": {},
   "outputs": [],
   "source": [
    "simplif_meters = 25 # a bit of a manual process, higher number = simpler but more chance for errors\n",
    "target_crs = 3106 # using Gulshan 303 / Bangladesh Traverse Mercator as it's a national metric projection with an established EPSG"
   ]
  },
  {
   "cell_type": "code",
   "execution_count": 6,
   "metadata": {},
   "outputs": [],
   "source": [
    "# Production date for outputs being used\n",
    "\n",
    "# prod_date = datetime.today().strftime('%y%m%d')\n",
    "# prod_date = '210312'\n",
    "prod_date = '210329'\n"
   ]
  },
  {
   "cell_type": "markdown",
   "metadata": {},
   "source": [
    "### Load in data and transform"
   ]
  },
  {
   "cell_type": "code",
   "execution_count": 26,
   "metadata": {},
   "outputs": [],
   "source": [
    "largest_G = nx.read_gpickle(os.path.join(interm_pth, 'largest_G_{}m_{}.pickle').format(simplif_meters,prod_date))"
   ]
  },
  {
   "cell_type": "code",
   "execution_count": 27,
   "metadata": {},
   "outputs": [],
   "source": [
    "## define a new transport cost function\n",
    "def convert_network_to_transport_cost(G, distance_tag, graph_type = 'drive', road_col = 'highway', transport_cost_dict = None, walk_transport_cost = 4.5, factor = 1, default = None):\n",
    "    \"\"\"\n",
    "    Function for adding a transport_cost value to edge dictionaries. Ensure any GeoDataFrames / graphs are in the same projection before using function, or pass a crs.\n",
    "\n",
    "    For now no default transport costs -- if you don't provide a dictionary, this function will throw an error.\n",
    "\n",
    "    :param G: a graph containing one or more nodes\n",
    "    :param distance_tag: the key in the dictionary for the field currently\n",
    "               containing a distance in meters\n",
    "    :param road_col: key for the road type in the edge data dictionary\n",
    "    :param graph_type: set to either 'drive' or 'walk'. IF walk - will set transport_cost = walking transport_cost across all segment, using the supplied walk_transport_cost. IF drive - will use a transport_cost dictionary for each road type, or defaults as per the note below.\n",
    "    :param transport_cost_dict: transport_cost dictionary to use. Currency neutral, assumes you use local currency. If not supplied, throws error and fails.\n",
    "    :param walk_transport_cost: specify a walk_transport_cost in $ / kg / km. Default = ($5.90 USD / day) / 10 hours in a working day) / (30kg) / (4 km / h)\n",
    "    :param factor: allows you to scale up / down distances if saved in a unit other than meters. Set to 1000 if length in km.\n",
    "    :param default: if highway type not in the transport_cost_dict, use this road class as an in-fill value for transport_cost. Assumes 'residential' if none provided\n",
    "    :returns: The original graph with a new data property for the edges called 'transport_cost'\n",
    "    \"\"\"\n",
    "\n",
    "    if type(G) == nx.classes.multidigraph.MultiDiGraph or type(G) == nx.classes.digraph.DiGraph:\n",
    "        pass\n",
    "    else:\n",
    "        raise ValueError('Expecting a graph or geodataframe for G!')\n",
    "\n",
    "    import warnings\n",
    "\n",
    "    try:\n",
    "        # checks the first edge to see if the 'transport_cost' attribute already exists\n",
    "        if list(G.edges(data = True))[0][2]['transport_cost']:\n",
    "          warnings.warn('Are you sure you want to convert length to transport_cost? This graph already has a transport_cost attribute')\n",
    "    except:\n",
    "        pass\n",
    "\n",
    "    G_adj = G.copy()\n",
    "\n",
    "    for u, v, data in G_adj.edges(data=True):\n",
    "\n",
    "        orig_len = data[distance_tag] * factor\n",
    "\n",
    "        # Note that this is a MultiDiGraph so there could\n",
    "        # be multiple indices here, I naively assume this is not\n",
    "        # the case\n",
    "        data['length'] = orig_len\n",
    "\n",
    "        # get appropriate transport_cost limit\n",
    "        if graph_type == 'walk':\n",
    "            transport_cost = walk_transport_cost\n",
    "\n",
    "        elif graph_type == 'drive':\n",
    "\n",
    "            if transport_cost_dict == None:\n",
    "                raise ValueError('Expecting a transport cost dictionary displaying the Vehicle Operating Cost per KG')\n",
    "\n",
    "            highwayclass = data[road_col]\n",
    "\n",
    "            if type(highwayclass) == list:\n",
    "                highwayclass = highwayclass[0]\n",
    "\n",
    "            if highwayclass in transport_cost_dict.keys():\n",
    "                transport_cost = transport_cost_dict[highwayclass]\n",
    "            else:\n",
    "                if default == None:\n",
    "                    transport_cost = transport_cost_dict['residential']\n",
    "                else:\n",
    "                    transport_cost = transport_cost_dict[default]\n",
    "\n",
    "        else:\n",
    "            raise ValueError('Expecting either a graph_type of \"walk\" or \"drive\"!')\n",
    "\n",
    "        # multiply generic road value transport cost by the segment length to get final transport cost\n",
    "        TC_for_segment_length = (orig_len / 1000) * transport_cost\n",
    "        data['transport_cost'] = TC_for_segment_length\n",
    "\n",
    "        # And state the mode, too\n",
    "        data['mode'] = 'transport cost'\n",
    "\n",
    "    return G_adj\n"
   ]
  },
  {
   "cell_type": "code",
   "execution_count": 28,
   "metadata": {},
   "outputs": [],
   "source": [
    "# gn.example_edge(largest_G,n=5)"
   ]
  },
  {
   "cell_type": "code",
   "execution_count": 29,
   "metadata": {},
   "outputs": [],
   "source": [
    "# Extracted ($ / kg) / km values from the default RED maodel with \"Fair\" road conditions (IRI 6 -- to account for poor roads quality)\n",
    "# These are only for flat terrain\n",
    "# Light truck = 2 MT, Medium truck = 7 MT, Heavy Trucky = 16 MT\n",
    "\n",
    "BDT = 84.81 # as of March 12,2021. Use to convert RED $ amounts to BDT\n",
    "\n",
    "light_trucks = 0.0001115915 / BDT\n",
    "medium_trucks = 0.0000479326 / BDT\n",
    "heavy_trucks = 0.0000309086 / BDT\n",
    "\n",
    "# arbitrary values for path and ferry edge cases must be replaced\n",
    "\n",
    "moto_transport = (light_trucks * 2000) / 80\n",
    "ferry_trucks = medium_trucks * 5 # arbitrary modifier to account for time lost waiting for ferries and their slow speed"
   ]
  },
  {
   "cell_type": "code",
   "execution_count": 30,
   "metadata": {},
   "outputs": [],
   "source": [
    "# Assign the values of the type of vehicle most likely to use a given route\n",
    "\n",
    "TC_kg_per_km_mod_dct = {'ferry':ferry_trucks,\n",
    "                        'pier':ferry_trucks,\n",
    "                        'path':moto_transport,\n",
    "                        'track':moto_transport,\n",
    "                        'service':light_trucks,\n",
    "                        'living_street':light_trucks,\n",
    "                        'road':light_trucks,\n",
    "                        'residential':light_trucks,\n",
    "                        'unclassified':light_trucks,\n",
    "                        'tertiary':medium_trucks,\n",
    "                        'secondary':medium_trucks,\n",
    "                        'primary':medium_trucks,\n",
    "                        'trunk':medium_trucks,\n",
    "                        'motorway':medium_trucks,\n",
    "                        'tertiary_link':medium_trucks,\n",
    "                        'secondary_link':medium_trucks,\n",
    "                        'primary_link':medium_trucks,\n",
    "                        'trunk_link':medium_trucks,\n",
    "                        'motorway_link':medium_trucks}"
   ]
  },
  {
   "cell_type": "markdown",
   "metadata": {},
   "source": [
    "Now run the defined function against the defined dict"
   ]
  },
  {
   "cell_type": "code",
   "execution_count": 31,
   "metadata": {},
   "outputs": [],
   "source": [
    "G_clean_TC = convert_network_to_transport_cost(largest_G, # G_salted or G_clean\n",
    "                                      distance_tag = 'length',\n",
    "                                      graph_type = 'drive',\n",
    "                                      road_col = 'infra_type',\n",
    "                                      transport_cost_dict = TC_kg_per_km_mod_dct ,\n",
    "                                      factor = 1000\n",
    "                                     )"
   ]
  },
  {
   "cell_type": "markdown",
   "metadata": {},
   "source": [
    "Finally, before saving down, we reset all node IDs to integers to aid the graphtool step"
   ]
  },
  {
   "cell_type": "code",
   "execution_count": 32,
   "metadata": {},
   "outputs": [],
   "source": [
    "G_clean_TC = nx.convert_node_labels_to_integers(G_clean_TC) # G_clean vs G_salted"
   ]
  },
  {
   "cell_type": "markdown",
   "metadata": {},
   "source": [
    "Check outputs"
   ]
  },
  {
   "cell_type": "code",
   "execution_count": 33,
   "metadata": {},
   "outputs": [
    {
     "name": "stdout",
     "output_type": "stream",
     "text": [
      "(0, 24347, {'Wkt': 'LINESTRING (89.22178599999999 22.9686986, 89.2216605 22.9687017, 89.2211562 22.9686029, 89.22057150000001 22.9684942)', 'id': 350244, 'infra_type': 'unclassified', 'osm_id': '556994112', 'key': 'edge_350244', 'length': 126.88824810020613, 'Type': 'legitimate', 'unique_id': 0, 'transport_cost': 3.339147808580723e-07, 'mode': 'transport cost'})\n",
      "(0, 129963, {'Wkt': 'LINESTRING (89.22057150000001 22.9684942, 89.2206949 22.9676299, 89.22066270000001 22.9672644, 89.2205232 22.9669334, 89.22041590000001 22.9667359, 89.22050179999999 22.9663407, 89.22059299999999 22.9659999, 89.22059299999999 22.965916, 89.22043739999999 22.9659258, 89.22001899999999 22.9658764, 89.2196757 22.9658369, 89.2196757 22.965669, 89.2198473 22.9652146, 89.2203033 22.9645725, 89.220432 22.964202, 89.22043739999999 22.9637723, 89.22032369999999 22.9631695)', 'id': 350243, 'infra_type': 'unclassified', 'osm_id': '556994109', 'key': 'edge_350243', 'length': 704.0002354559285, 'Type': 'legitimate', 'unique_id': 1, 'transport_cost': 1.8526229801884684e-06, 'mode': 'transport cost'})\n",
      "(0, 233041, {'Wkt': 'LINESTRING (89.22057150000001 22.9684942, 89.2205179 22.968672, 89.220432 22.9690276, 89.2203087 22.9692499, 89.22015570000001 22.9692326, 89.2196864 22.9691314, 89.2192196 22.9690894, 89.2184848 22.9691561, 89.21766940000001 22.9694623, 89.21752720000001 22.9696006, 89.2171973 22.9696549, 89.2166072 22.9697883, 89.2167199 22.9700451, 89.2164999 22.9701241, 89.2157704 22.9702822, 89.215132 22.9702723, 89.21489482922782 22.97033110595512)', 'id': 350245, 'infra_type': 'unclassified', 'osm_id': '556994112', 'key': 'edge_350245', 'length': 698.0952015047291, 'Type': 'destination_destruction', 'unique_id': 2, 'transport_cost': 1.8370834944811941e-06, 'mode': 'transport cost'})\n",
      "(1, 258664, {'Wkt': 'LINESTRING (88.5034114 25.6345283, 88.5035616 25.6350289, 88.50362869999999 25.6351183, 88.5037896 25.6352175, 88.50407300000001 25.6356084, 88.5041883 25.6359373, 88.5042661 25.6364282, 88.50417229999999 25.6364717, 88.5041293 25.636566, 88.5038557 25.6366047, 88.5038754 25.6367425, 88.5040149 25.6372286, 88.5040766 25.6374438, 88.5041731 25.6374704, 88.504385 25.6374245, 88.5046103 25.6374124, 88.5047069 25.6374414, 88.50494563204865 25.63777175356358)', 'id': 306966, 'infra_type': 'unclassified', 'osm_id': '543853274', 'key': 'edge_306966', 'length': 484.5771649134997, 'Type': 'destination_destruction', 'unique_id': 3, 'transport_cost': 1.2751967203703112e-06, 'mode': 'transport cost'})\n",
      "(2, 266846, {'Wkt': 'LINESTRING (88.64949948580239 26.23673450235222, 88.64991809999999 26.2365912, 88.6500442 26.2365179, 88.6504412 26.2362677, 88.6507362 26.2360126, 88.65084349999999 26.2358105, 88.6508918 26.2355291, 88.6509293 26.2353029)', 'id': 255088, 'infra_type': 'unclassified', 'osm_id': '530316530', 'key': 'edge_255088', 'length': 245.0953345802308, 'Type': 'origin_destruction', 'unique_id': 4, 'transport_cost': 6.449845132313772e-07, 'mode': 'transport cost'})\n",
      "(3, 2135, {'Wkt': 'LINESTRING (91.7466731 24.7164334, 91.7477322 24.7162053, 91.7478727 24.7161705, 91.7479238 24.7161164, 91.747928 24.7160429, 91.7479238 24.7159578, 91.7479706 24.7158804, 91.7482176 24.7157567, 91.7500314 24.7151843, 91.7503549 24.7150953, 91.750406 24.7150334, 91.7504742 24.7149522, 91.75052530000001 24.714898, 91.75072110000001 24.7148323, 91.7528542 24.7141554, 91.7529011 24.7141013, 91.7528968 24.7140201, 91.7527819 24.7135598, 91.752737 24.7133134)', 'id': 505762, 'infra_type': 'unclassified', 'osm_id': '717243494', 'key': 'edge_505762', 'length': 791.0290768480456, 'Type': 'legitimate', 'unique_id': 5, 'transport_cost': 2.081645107429372e-06, 'mode': 'transport cost'})\n",
      "(3, 201938, {'Wkt': 'LINESTRING (91.7455272 24.7153258, 91.7466731 24.7164334)', 'id': 58969, 'infra_type': 'trunk', 'osm_id': '280819272', 'key': 'edge_58969', 'length': 168.80475011611486, 'Type': 'legitimate', 'unique_id': 6, 'transport_cost': 2.2167739935658737e-07, 'mode': 'transport cost'})\n",
      "(3, 251209, {'Wkt': 'LINESTRING (91.7466731 24.7164334, 91.752403 24.7221, 91.75357882195441 24.7232957561545)', 'id': 58970, 'infra_type': 'trunk', 'osm_id': '280819272', 'key': 'edge_58970', 'length': 1030.0980636641639, 'Type': 'destination_destruction', 'unique_id': 7, 'transport_cost': 1.3527430932971651e-06, 'mode': 'transport cost'})\n",
      "(4, 44231, {'Wkt': 'LINESTRING (90.3164974 22.3432101, 90.3164855 22.3430621, 90.3164787 22.3429527, 90.3164872 22.3428206, 90.3165108 22.3427057, 90.31655309999999 22.3425854, 90.3166413 22.3423444)', 'id': 152367, 'infra_type': 'primary', 'osm_id': '511263741', 'key': 'edge_152367', 'length': 98.38437467561505, 'Type': 'legitimate', 'unique_id': 8, 'transport_cost': 1.292001101889158e-07, 'mode': 'transport cost'})\n",
      "(4, 225600, {'Wkt': 'LINESTRING (90.3166413 22.3423444, 90.31706250000001 22.3411675, 90.3175196 22.3399583, 90.31775279999999 22.3393612, 90.3180146 22.3387347, 90.31833429974618 22.33790385035351)', 'id': 152368, 'infra_type': 'primary', 'osm_id': '511263741', 'key': 'edge_152368', 'length': 478.1495631071867, 'Type': 'destination_destruction', 'unique_id': 9, 'transport_cost': 6.279145082124727e-07, 'mode': 'transport cost'})\n"
     ]
    }
   ],
   "source": [
    "gn.example_edge(G_clean_TC,n=10)"
   ]
  },
  {
   "cell_type": "markdown",
   "metadata": {},
   "source": [
    "Save down"
   ]
  },
  {
   "cell_type": "code",
   "execution_count": 34,
   "metadata": {},
   "outputs": [],
   "source": [
    "gn.save(G_clean_TC, 'final_current_G_TC_{}m_{}'.format(simplif_meters,prod_date), 'final', nodes = True,  edges = True)"
   ]
  },
  {
   "cell_type": "code",
   "execution_count": null,
   "metadata": {},
   "outputs": [],
   "source": []
  }
 ],
 "metadata": {
  "kernelspec": {
   "display_name": "Python 3",
   "language": "python",
   "name": "python3"
  },
  "language_info": {
   "codemirror_mode": {
    "name": "ipython",
    "version": 3
   },
   "file_extension": ".py",
   "mimetype": "text/x-python",
   "name": "python",
   "nbconvert_exporter": "python",
   "pygments_lexer": "ipython3",
   "version": "3.8.0"
  }
 },
 "nbformat": 4,
 "nbformat_minor": 4
}
