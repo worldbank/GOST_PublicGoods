{
 "cells": [
  {
   "cell_type": "markdown",
   "metadata": {},
   "source": [
    "# Step 2 - Snapping\n",
    "\n",
    "In this notebook, we take our origin points (here, derived from a population raster manually using QGIS's 'Raster pixels to Points' tool, and saved as as shapefile. \n",
    "\n",
    "At the end of this notebook, we are ready to generate the OD Matrix"
   ]
  },
  {
   "cell_type": "code",
   "execution_count": 1,
   "metadata": {},
   "outputs": [],
   "source": [
    "import os, sys\n",
    "import time\n",
    "import pandas as pd\n",
    "import geopandas as gpd\n",
    "import networkx as nx\n",
    "from shapely.geometry import Point, MultiPoint\n",
    "from shapely.wkt import loads\n",
    "from scipy import spatial\n",
    "from functools import partial\n",
    "import pyproj\n",
    "from shapely.ops import transform\n",
    "\n",
    "import GOSTnets as gn\n",
    "import geopy\n",
    "\n",
    "from datetime import datetime"
   ]
  },
  {
   "cell_type": "markdown",
   "metadata": {},
   "source": [
    "Set path names and file names, and import Graph"
   ]
  },
  {
   "cell_type": "code",
   "execution_count": 2,
   "metadata": {},
   "outputs": [],
   "source": [
    "simplif_meters = 25"
   ]
  },
  {
   "cell_type": "code",
   "execution_count": 3,
   "metadata": {},
   "outputs": [],
   "source": [
    "source_epsg = 4326\n",
    "target_epsg = 3106"
   ]
  },
  {
   "cell_type": "code",
   "execution_count": 4,
   "metadata": {},
   "outputs": [],
   "source": [
    "input_pth = r'P:\\BGD\\GEO'\n",
    "interm_pth = r'intermediate'\n",
    "fin_pth = r'final'\n",
    "res_pth = r'results'"
   ]
  },
  {
   "cell_type": "code",
   "execution_count": 5,
   "metadata": {},
   "outputs": [],
   "source": [
    "# scenario = 'current'\n",
    "scenario = 'Padma'"
   ]
  },
  {
   "cell_type": "code",
   "execution_count": 6,
   "metadata": {},
   "outputs": [],
   "source": [
    "# WorldPop data parameters\n",
    "# Assumes pre-processing of WP data into points dataset using ArcGIS/QGIS to project, resample, and convert to points\n",
    "\n",
    "constraint_status = 'constrained'\n",
    "# constraint_status = 'unconstrained'\n",
    "\n",
    "wp_res = 100\n",
    "# wp_res = 250\n",
    "# wp_rs = '1k'"
   ]
  },
  {
   "cell_type": "code",
   "execution_count": 7,
   "metadata": {},
   "outputs": [
    {
     "name": "stdout",
     "output_type": "stream",
     "text": [
      "210329\n"
     ]
    }
   ],
   "source": [
    "# Production date for outputs being created\n",
    "\n",
    "# Production date for outputs being used\n",
    "\n",
    "prod_date = '210329'\n",
    "# prod_date = '210503'\n",
    "# prod_date = '210518'\n",
    "# prod_date = '201524'\n",
    "print(prod_date)"
   ]
  },
  {
   "cell_type": "code",
   "execution_count": 8,
   "metadata": {},
   "outputs": [],
   "source": [
    "# make prod_date subfolders if they don't already exist\n",
    "\n",
    "if not os.path.exists(os.path.join(fin_pth,prod_date)):\n",
    "    os.makedirs(os.path.join(fin_pth,prod_date))\n",
    "\n",
    "# make results prod_date folder\n",
    "\n",
    "if not os.path.exists(os.path.join(res_pth,prod_date)):\n",
    "    os.makedirs(os.path.join(res_pth,prod_date))\n",
    "    os.makedirs(os.path.join(res_pth,prod_date,'spatial'))\n",
    "    os.makedirs(os.path.join(res_pth,prod_date,'tables'))"
   ]
  },
  {
   "cell_type": "markdown",
   "metadata": {},
   "source": [
    "Load data"
   ]
  },
  {
   "cell_type": "code",
   "execution_count": 18,
   "metadata": {},
   "outputs": [],
   "source": [
    "fin_pckle = f'final_{scenario}_G_{simplif_meters}m_{prod_date}.pickle'"
   ]
  },
  {
   "cell_type": "code",
   "execution_count": 25,
   "metadata": {},
   "outputs": [],
   "source": [
    "G = nx.read_gpickle(os.path.join(fin_pth, fin_pckle))"
   ]
  },
  {
   "cell_type": "code",
   "execution_count": 9,
   "metadata": {},
   "outputs": [
    {
     "name": "stdout",
     "output_type": "stream",
     "text": [
      "constrained 100\n",
      "bgd_wp_constrained_origins_100m_2020.shp\n"
     ]
    }
   ],
   "source": [
    "# Load in origins\n",
    "print(constraint_status, wp_res)\n",
    "origin_file = f'bgd_wp_{constraint_status}_origins_{wp_res}m_2020.shp' \n",
    "print(origin_file)"
   ]
  },
  {
   "cell_type": "code",
   "execution_count": null,
   "metadata": {},
   "outputs": [],
   "source": [
    "# Destinations\n",
    "\n",
    "city_fil = r'Population\\\\Places\\\\bd_major_cities_pop_projs.gpkg'\n",
    "dhaka_chitt_fil = r'Population\\\\Places\\\\bd_cities_DhakaChittOnly_pop_projs.gpkg'\n",
    "minor_city_fil = r'Population\\\\Places\\\\bd_cities_noDhakaChitt_pop_projs.gpkg'\n",
    "dry_ports_fil = r'Economic\\\\Ports\\\\bd_landports_active.gpkg'\n",
    "deep_sea_ports_fil = r'Economic\\\\Ports\\\\bd_DeepSeaPorts.gpkg'\n",
    "river_ports_fil = r'P:\\BGD\\GEO\\Team\\Infrastructure_Diagnostic\\Nodes\\river_ports.gpkg'\n",
    "\n",
    "sezs_all_fil = r'Economic\\SEZs\\SEZs_all_pt_4326.gpkg'\n",
    "sezs_active_fil = r'Economic\\SEZs\\SEZs_active_pt_4326.gpkg'\n"
   ]
  },
  {
   "cell_type": "code",
   "execution_count": null,
   "metadata": {},
   "outputs": [],
   "source": [
    "dests = {\"All_cities\" : city_fil, \"Dhaka_Chitt\" : dhaka_chitt_fil, \"Minor_cities\" : minor_city_fil, \\\n",
    "         \"Dry_ports\" : dry_ports_fil, \"River_ports\" : river_ports_fil, \"Deep_sea_ports\" : deep_sea_ports_fil, \\\n",
    "         'All_SEZs' : sezs_all_fil, 'Active_SEZs' : sezs_active_fil}\n",
    "\n",
    "# dests = {\"All_cities\" : city_fil, \"Dhaka_Chitt\" : dhaka_chitt_fil, \"Minor_cities\" : minor_city_fil, \\\n",
    "#          \"Dry_ports\" : dry_ports_fil, \"River_ports\" : river_ports_fil, \"Deep_sea_ports\" : deep_sea_ports_fil}\n",
    "\n",
    "# dests = {'All_SEZs' : sezs_all_fil, 'Active_SEZs' : sezs_active_fil}"
   ]
  },
  {
   "cell_type": "markdown",
   "metadata": {},
   "source": [
    "### Origins"
   ]
  },
  {
   "cell_type": "markdown",
   "metadata": {},
   "source": [
    "Import Origins"
   ]
  },
  {
   "cell_type": "code",
   "execution_count": 10,
   "metadata": {},
   "outputs": [],
   "source": [
    "origins = gpd.read_file(os.path.join(input_pth,f'Population\\WorldPop\\{constraint_status}',origin_file))"
   ]
  },
  {
   "cell_type": "code",
   "execution_count": 10,
   "metadata": {},
   "outputs": [
    {
     "data": {
      "text/plain": [
       "2199542"
      ]
     },
     "execution_count": 10,
     "metadata": {},
     "output_type": "execute_result"
    }
   ],
   "source": [
    "len(origins)"
   ]
  },
  {
   "cell_type": "code",
   "execution_count": 14,
   "metadata": {},
   "outputs": [
    {
     "data": {
      "text/plain": [
       "VALUE        float64\n",
       "geometry    geometry\n",
       "dtype: object"
      ]
     },
     "execution_count": 14,
     "metadata": {},
     "output_type": "execute_result"
    }
   ],
   "source": [
    "origins.dtypes"
   ]
  },
  {
   "cell_type": "code",
   "execution_count": 15,
   "metadata": {},
   "outputs": [
    {
     "data": {
      "text/html": [
       "<div>\n",
       "<style scoped>\n",
       "    .dataframe tbody tr th:only-of-type {\n",
       "        vertical-align: middle;\n",
       "    }\n",
       "\n",
       "    .dataframe tbody tr th {\n",
       "        vertical-align: top;\n",
       "    }\n",
       "\n",
       "    .dataframe thead th {\n",
       "        text-align: right;\n",
       "    }\n",
       "</style>\n",
       "<table border=\"1\" class=\"dataframe\">\n",
       "  <thead>\n",
       "    <tr style=\"text-align: right;\">\n",
       "      <th></th>\n",
       "      <th>VALUE</th>\n",
       "      <th>geometry</th>\n",
       "    </tr>\n",
       "  </thead>\n",
       "  <tbody>\n",
       "    <tr>\n",
       "      <th>0</th>\n",
       "      <td>75.282043</td>\n",
       "      <td>POINT (342002.622 2946479.439)</td>\n",
       "    </tr>\n",
       "    <tr>\n",
       "      <th>1</th>\n",
       "      <td>93.414307</td>\n",
       "      <td>POINT (342251.347 2946479.439)</td>\n",
       "    </tr>\n",
       "    <tr>\n",
       "      <th>2</th>\n",
       "      <td>65.594666</td>\n",
       "      <td>POINT (342500.072 2946479.439)</td>\n",
       "    </tr>\n",
       "    <tr>\n",
       "      <th>3</th>\n",
       "      <td>46.771957</td>\n",
       "      <td>POINT (341505.172 2946230.714)</td>\n",
       "    </tr>\n",
       "    <tr>\n",
       "      <th>4</th>\n",
       "      <td>95.297745</td>\n",
       "      <td>POINT (341753.897 2946230.714)</td>\n",
       "    </tr>\n",
       "    <tr>\n",
       "      <th>5</th>\n",
       "      <td>110.515930</td>\n",
       "      <td>POINT (342002.622 2946230.714)</td>\n",
       "    </tr>\n",
       "    <tr>\n",
       "      <th>6</th>\n",
       "      <td>107.968536</td>\n",
       "      <td>POINT (342251.347 2946230.714)</td>\n",
       "    </tr>\n",
       "    <tr>\n",
       "      <th>7</th>\n",
       "      <td>116.065910</td>\n",
       "      <td>POINT (342500.072 2946230.714)</td>\n",
       "    </tr>\n",
       "    <tr>\n",
       "      <th>8</th>\n",
       "      <td>19.164389</td>\n",
       "      <td>POINT (341007.722 2945981.989)</td>\n",
       "    </tr>\n",
       "    <tr>\n",
       "      <th>9</th>\n",
       "      <td>101.732681</td>\n",
       "      <td>POINT (341256.447 2945981.989)</td>\n",
       "    </tr>\n",
       "  </tbody>\n",
       "</table>\n",
       "</div>"
      ],
      "text/plain": [
       "        VALUE                        geometry\n",
       "0   75.282043  POINT (342002.622 2946479.439)\n",
       "1   93.414307  POINT (342251.347 2946479.439)\n",
       "2   65.594666  POINT (342500.072 2946479.439)\n",
       "3   46.771957  POINT (341505.172 2946230.714)\n",
       "4   95.297745  POINT (341753.897 2946230.714)\n",
       "5  110.515930  POINT (342002.622 2946230.714)\n",
       "6  107.968536  POINT (342251.347 2946230.714)\n",
       "7  116.065910  POINT (342500.072 2946230.714)\n",
       "8   19.164389  POINT (341007.722 2945981.989)\n",
       "9  101.732681  POINT (341256.447 2945981.989)"
      ]
     },
     "execution_count": 15,
     "metadata": {},
     "output_type": "execute_result"
    }
   ],
   "source": [
    "origins.head(10)"
   ]
  },
  {
   "cell_type": "markdown",
   "metadata": {},
   "source": [
    "Optional: convert MultiPoint to Point and clip origins _exactly_ to project extent"
   ]
  },
  {
   "cell_type": "code",
   "execution_count": 26,
   "metadata": {},
   "outputs": [],
   "source": [
    "# Optional cleaning step -- convert MultiPoint to Point (necessary for pandana snap to work)\n",
    "\n",
    "if origins.loc[0].geometry.geom_type == 'MultiPoint':\n",
    "    \n",
    "    origins = gpd.GeoDataFrame(\n",
    "        origins, geometry=gpd.points_from_xy(origins.centroid.x,origins.centroid.y)) # manually re-calculate as a point geometry\n",
    "else:\n",
    "    None"
   ]
  },
  {
   "cell_type": "code",
   "execution_count": 18,
   "metadata": {},
   "outputs": [],
   "source": [
    "# Optional filter (clip) origins by enclosing object\n",
    "\n",
    "# shp = gpd.read_file(os.path.join('inputs/cxb_filters/', 'cxb_dist_4326.shp'))\n",
    "# shp = shp.to_crs({'epsg:4326'})\n",
    "# cxb_obj = shp.geometry.iloc[0]\n",
    "\n",
    "# cxb_pop_filter = origins.within(cxb_obj)\n",
    "# origins = origins.loc[cxb_pop_filter]\n",
    "# origins.crs = \"EPSG:4326\"\n",
    "# len(origins) # CXB polygon clipped"
   ]
  },
  {
   "cell_type": "markdown",
   "metadata": {},
   "source": [
    "Snap Origins"
   ]
  },
  {
   "cell_type": "code",
   "execution_count": 19,
   "metadata": {},
   "outputs": [
    {
     "name": "stdout",
     "output_type": "stream",
     "text": [
      "time elapsed for function\n",
      "18.15324592590332\n"
     ]
    }
   ],
   "source": [
    "origins_snapped = gn.pandana_snap_c(G, \n",
    "                                      origins, \n",
    "                                      source_crs='epsg:{}'.format(source_epsg),\n",
    "                                      target_crs='epsg:{}'.format(target_epsg), \n",
    "                                      add_dist_to_node_col = True,\n",
    "                                      time_it=True)"
   ]
  },
  {
   "cell_type": "code",
   "execution_count": 20,
   "metadata": {},
   "outputs": [
    {
     "data": {
      "text/html": [
       "<div>\n",
       "<style scoped>\n",
       "    .dataframe tbody tr th:only-of-type {\n",
       "        vertical-align: middle;\n",
       "    }\n",
       "\n",
       "    .dataframe tbody tr th {\n",
       "        vertical-align: top;\n",
       "    }\n",
       "\n",
       "    .dataframe thead th {\n",
       "        text-align: right;\n",
       "    }\n",
       "</style>\n",
       "<table border=\"1\" class=\"dataframe\">\n",
       "  <thead>\n",
       "    <tr style=\"text-align: right;\">\n",
       "      <th></th>\n",
       "      <th>VALUE</th>\n",
       "      <th>geometry</th>\n",
       "      <th>NN</th>\n",
       "      <th>NN_dist</th>\n",
       "    </tr>\n",
       "  </thead>\n",
       "  <tbody>\n",
       "    <tr>\n",
       "      <th>0</th>\n",
       "      <td>75.282043</td>\n",
       "      <td>POINT (342002.622 2946479.439)</td>\n",
       "      <td>53985</td>\n",
       "      <td>111.746558</td>\n",
       "    </tr>\n",
       "    <tr>\n",
       "      <th>1</th>\n",
       "      <td>93.414307</td>\n",
       "      <td>POINT (342251.347 2946479.439)</td>\n",
       "      <td>53985</td>\n",
       "      <td>138.744438</td>\n",
       "    </tr>\n",
       "    <tr>\n",
       "      <th>2</th>\n",
       "      <td>65.594666</td>\n",
       "      <td>POINT (342500.072 2946479.439)</td>\n",
       "      <td>267861</td>\n",
       "      <td>176.743207</td>\n",
       "    </tr>\n",
       "    <tr>\n",
       "      <th>3</th>\n",
       "      <td>46.771957</td>\n",
       "      <td>POINT (341505.172 2946230.714)</td>\n",
       "      <td>88169</td>\n",
       "      <td>234.058416</td>\n",
       "    </tr>\n",
       "    <tr>\n",
       "      <th>4</th>\n",
       "      <td>95.297745</td>\n",
       "      <td>POINT (341753.897 2946230.714)</td>\n",
       "      <td>111725</td>\n",
       "      <td>240.743236</td>\n",
       "    </tr>\n",
       "  </tbody>\n",
       "</table>\n",
       "</div>"
      ],
      "text/plain": [
       "       VALUE                        geometry      NN     NN_dist\n",
       "0  75.282043  POINT (342002.622 2946479.439)   53985  111.746558\n",
       "1  93.414307  POINT (342251.347 2946479.439)   53985  138.744438\n",
       "2  65.594666  POINT (342500.072 2946479.439)  267861  176.743207\n",
       "3  46.771957  POINT (341505.172 2946230.714)   88169  234.058416\n",
       "4  95.297745  POINT (341753.897 2946230.714)  111725  240.743236"
      ]
     },
     "execution_count": 20,
     "metadata": {},
     "output_type": "execute_result"
    }
   ],
   "source": [
    "origins_snapped.head()"
   ]
  },
  {
   "cell_type": "code",
   "execution_count": 21,
   "metadata": {},
   "outputs": [],
   "source": [
    "# max.origins_snapped.VALUE"
   ]
  },
  {
   "cell_type": "code",
   "execution_count": 22,
   "metadata": {},
   "outputs": [],
   "source": [
    "origins_snapped.rename({'bgdppp2020U' : 'VALUE'},axis=1,inplace=True)"
   ]
  },
  {
   "cell_type": "markdown",
   "metadata": {},
   "source": [
    "Save Origins to origin folder"
   ]
  },
  {
   "cell_type": "code",
   "execution_count": 23,
   "metadata": {},
   "outputs": [
    {
     "data": {
      "text/plain": [
       "2216419"
      ]
     },
     "execution_count": 23,
     "metadata": {},
     "output_type": "execute_result"
    }
   ],
   "source": [
    "len(origins_snapped)"
   ]
  },
  {
   "cell_type": "code",
   "execution_count": 24,
   "metadata": {},
   "outputs": [],
   "source": [
    "origins_snapped.to_csv(os.path.join(res_pth, prod_date, origin_file.replace('.shp',f'_snapped_{simplif_meters}m.csv')))"
   ]
  },
  {
   "cell_type": "markdown",
   "metadata": {},
   "source": [
    "### Destinations"
   ]
  },
  {
   "cell_type": "markdown",
   "metadata": {},
   "source": [
    "First let's take a look at the destinations dict"
   ]
  },
  {
   "cell_type": "code",
   "execution_count": 13,
   "metadata": {},
   "outputs": [
    {
     "name": "stdout",
     "output_type": "stream",
     "text": [
      "{'All_cities': 'Population\\\\\\\\Places\\\\\\\\bd_major_cities_pop_projs.gpkg', 'Dhaka_Chitt': 'Population\\\\\\\\Places\\\\\\\\bd_cities_DhakaChittOnly_pop_projs.gpkg', 'Minor_cities': 'Population\\\\\\\\Places\\\\\\\\bd_cities_noDhakaChitt_pop_projs.gpkg', 'Dry_ports': 'Economic\\\\\\\\Ports\\\\\\\\bd_landports_active.gpkg', 'River_ports': 'P:\\\\BGD\\\\GEO\\\\Team\\\\Infrastructure_Diagnostic\\\\Nodes\\\\river_ports.gpkg', 'Deep_sea_ports': 'Economic\\\\\\\\Ports\\\\\\\\bd_DeepSeaPorts.gpkg'}\n"
     ]
    }
   ],
   "source": [
    "print(dests)"
   ]
  },
  {
   "cell_type": "markdown",
   "metadata": {},
   "source": [
    "Hiding annoying error messages related to projection formatting"
   ]
  },
  {
   "cell_type": "code",
   "execution_count": 14,
   "metadata": {},
   "outputs": [],
   "source": [
    "import warnings\n",
    "warnings.filterwarnings('ignore')"
   ]
  },
  {
   "cell_type": "markdown",
   "metadata": {},
   "source": [
    "Read in, snap, and export snapped destinations from the *dests* dictionary"
   ]
  },
  {
   "cell_type": "code",
   "execution_count": 15,
   "metadata": {},
   "outputs": [
    {
     "name": "stdout",
     "output_type": "stream",
     "text": [
      "All_cities\n",
      "time elapsed for function\n",
      "7.869895935058594\n",
      "Dhaka_Chitt\n",
      "time elapsed for function\n",
      "7.98689603805542\n",
      "Minor_cities\n",
      "time elapsed for function\n",
      "7.133907318115234\n",
      "Dry_ports\n",
      "time elapsed for function\n",
      "8.644887685775757\n",
      "River_ports\n",
      "time elapsed for function\n",
      "6.776906490325928\n",
      "Deep_sea_ports\n",
      "time elapsed for function\n",
      "7.605892896652222\n"
     ]
    }
   ],
   "source": [
    "for dest, fpth in dests.items():\n",
    "    \n",
    "    print(dest)\n",
    "    \n",
    "    # Read in the file, convert MultiPoint to Point\n",
    "    \n",
    "    gdf = gpd.read_file(os.path.join(input_pth,fpth))\n",
    "    gdf.crs = \"EPSG:4326\"\n",
    "#     gdf.to_crs({'init':'epsg:4326'})\n",
    "    gdf = gpd.GeoDataFrame(\n",
    "        gdf, geometry=gpd.points_from_xy(gdf.centroid.x, gdf.centroid.y),crs=\"EPSG:4326\") # geometries must be manually converted to Point, not MultiPoint\n",
    "    \n",
    "    # Pandana snap everything\n",
    "    \n",
    "    gdf_snapped = gn.pandana_snap_c(G, \n",
    "                                     gdf, \n",
    "                                     source_crs='epsg:{}'.format(source_epsg),\n",
    "                                     target_crs='epsg:{}'.format(target_epsg), \n",
    "                                     add_dist_to_node_col = True,\n",
    "                                     time_it=True)\n",
    "    \n",
    "    # Export the finished snapped destination to a CSV format for processing in Step 3\n",
    "\n",
    "    export_name = dest + f'_{constraint_status}_{wp_res}m_res_{simplif_meters}m_simplification_snapped.csv'\n",
    "    gdf_snapped.to_csv(os.path.join(fin_pth, prod_date, export_name))"
   ]
  },
  {
   "cell_type": "code",
   "execution_count": null,
   "metadata": {},
   "outputs": [],
   "source": []
  }
 ],
 "metadata": {
  "kernelspec": {
   "display_name": "Python 3",
   "language": "python",
   "name": "python3"
  },
  "language_info": {
   "codemirror_mode": {
    "name": "ipython",
    "version": 3
   },
   "file_extension": ".py",
   "mimetype": "text/x-python",
   "name": "python",
   "nbconvert_exporter": "python",
   "pygments_lexer": "ipython3",
   "version": "3.8.0"
  }
 },
 "nbformat": 4,
 "nbformat_minor": 4
}
