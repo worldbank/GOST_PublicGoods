{
 "cells": [
  {
   "cell_type": "markdown",
   "metadata": {},
   "source": [
    "# Testing extracting OSM data using Osmium"
   ]
  },
  {
   "cell_type": "code",
   "execution_count": 33,
   "metadata": {},
   "outputs": [],
   "source": [
    "import os, sys, time, importlib\n",
    "import osmnx\n",
    "\n",
    "import geopandas as gpd\n",
    "import pandas as pd\n",
    "import networkx as nx\n",
    "import numpy as np\n",
    "sys.path.append(\"../../../GOSTNets\")\n",
    "import GOSTnets as gn\n",
    "\n",
    "# pip install osmium\n",
    "# import osmium, logging\n",
    "# import shapely.wkb as wkblib\n",
    "\n",
    "from shapely.geometry import LineString, Point"
   ]
  },
  {
   "cell_type": "code",
   "execution_count": 34,
   "metadata": {},
   "outputs": [
    {
     "name": "stdout",
     "output_type": "stream",
     "text": [
      "The autoreload extension is already loaded. To reload it, use:\n",
      "  %reload_ext autoreload\n"
     ]
    }
   ],
   "source": [
    "# This is a Jupyter Notebook extension which reloads all of the modules whenever you run the code\n",
    "# This is optional but good if you are modifying and testing source code\n",
    "%load_ext autoreload\n",
    "%autoreload 2"
   ]
  },
  {
   "cell_type": "code",
   "execution_count": 35,
   "metadata": {},
   "outputs": [],
   "source": [
    "from GOSTnets.load_traffic2 import *"
   ]
  },
  {
   "cell_type": "code",
   "execution_count": 36,
   "metadata": {},
   "outputs": [],
   "source": [
    "#read_nodes = pd.read_csv('./vavuniya_unclean_nodes.csv')"
   ]
  },
  {
   "cell_type": "code",
   "execution_count": 37,
   "metadata": {},
   "outputs": [],
   "source": [
    "#read_nodes[:5]"
   ]
  },
  {
   "cell_type": "code",
   "execution_count": 38,
   "metadata": {},
   "outputs": [],
   "source": [
    "# read graph\n",
    "G = nx.read_gpickle('./vavuniya_unclean2.pickle')"
   ]
  },
  {
   "cell_type": "code",
   "execution_count": 39,
   "metadata": {},
   "outputs": [
    {
     "data": {
      "text/plain": [
       "392096"
      ]
     },
     "execution_count": 39,
     "metadata": {},
     "output_type": "execute_result"
    }
   ],
   "source": [
    "len(G.edges)"
   ]
  },
  {
   "cell_type": "code",
   "execution_count": 40,
   "metadata": {},
   "outputs": [
    {
     "name": "stdout",
     "output_type": "stream",
     "text": [
      "(60796641, 2419600689, {'osm_id': 8111662, 'geometry': <shapely.geometry.linestring.LineString object at 0x19ff6bc90>, 'infra_type': 'tertiary', 'min_speed': 6.0, 'max_speed': 30.0, 'mean_speed': 22.518849206349206, 'length': 0.047109297999932145})\n",
      "(60796641, 2419532369, {'osm_id': 143399474, 'geometry': <shapely.geometry.linestring.LineString object at 0x19ff6be50>, 'infra_type': 'tertiary', 'min_speed': 6.0, 'max_speed': 38.0, 'mean_speed': 25.92609126984127, 'length': 0.0941376153234959})\n",
      "(60796641, 60797501, {'osm_id': 8111676, 'geometry': <shapely.geometry.linestring.LineString object at 0x19ff6bf10>, 'infra_type': 'tertiary', 'min_speed': 11.0, 'max_speed': 34.0, 'mean_speed': 25.85218253968254, 'length': 0.06881874072993506})\n",
      "(2419600689, 3830183348, {'osm_id': 8111662, 'geometry': <shapely.geometry.linestring.LineString object at 0x19ff6bf90>, 'infra_type': 'tertiary', 'min_speed': 27.0, 'max_speed': 42.0, 'mean_speed': 31.36904761904762, 'length': 0.03166667608222142})\n",
      "(2419600689, 2419600685, {'osm_id': 233598704, 'geometry': <shapely.geometry.linestring.LineString object at 0x19ff6be90>, 'infra_type': 'residential', 'min_speed': nan, 'max_speed': nan, 'mean_speed': nan, 'length': 0.058071526770194615})\n"
     ]
    }
   ],
   "source": [
    "gn.example_edge(G, 5)"
   ]
  },
  {
   "cell_type": "code",
   "execution_count": 41,
   "metadata": {},
   "outputs": [
    {
     "data": {
      "text/plain": [
       "AtlasView({0: {'osm_id': 8111663, 'geometry': <shapely.geometry.linestring.LineString object at 0x19ff71250>, 'infra_type': 'trunk', 'min_speed': 9.0, 'max_speed': 40.0, 'mean_speed': 27.865079365079364, 'length': 0.00498046297582135}})"
      ]
     },
     "execution_count": 41,
     "metadata": {},
     "output_type": "execute_result"
    }
   ],
   "source": [
    "G[3825202158][3825202157]"
   ]
  },
  {
   "cell_type": "code",
   "execution_count": 42,
   "metadata": {},
   "outputs": [
    {
     "data": {
      "text/plain": [
       "AtlasView({0: {'osm_id': 8111663, 'geometry': <shapely.geometry.linestring.LineString object at 0x19ff71250>, 'infra_type': 'trunk', 'min_speed': 9.0, 'max_speed': 40.0, 'mean_speed': 27.865079365079364, 'length': 0.00498046297582135}})"
      ]
     },
     "execution_count": 42,
     "metadata": {},
     "output_type": "execute_result"
    }
   ],
   "source": [
    "G[3825202157][3825202158]"
   ]
  },
  {
   "cell_type": "code",
   "execution_count": 43,
   "metadata": {},
   "outputs": [
    {
     "data": {
      "text/plain": [
       "392096"
      ]
     },
     "execution_count": 43,
     "metadata": {},
     "output_type": "execute_result"
    }
   ],
   "source": [
    "len(G.edges)"
   ]
  },
  {
   "cell_type": "code",
   "execution_count": 44,
   "metadata": {},
   "outputs": [
    {
     "name": "stdout",
     "output_type": "stream",
     "text": [
      "(60796641, {'geometry': <shapely.geometry.point.Point object at 0x11fa2a6d0>})\n"
     ]
    }
   ],
   "source": [
    "gn.example_node(G)"
   ]
  },
  {
   "cell_type": "code",
   "execution_count": 48,
   "metadata": {},
   "outputs": [],
   "source": [
    "gdfnodes = gn.node_gdf_from_graph(G)"
   ]
  },
  {
   "cell_type": "code",
   "execution_count": null,
   "metadata": {},
   "outputs": [],
   "source": [
    "gdfnodes"
   ]
  },
  {
   "cell_type": "code",
   "execution_count": 50,
   "metadata": {},
   "outputs": [],
   "source": [
    "non_traffic_gdfnodes = gdfnodes.copy()"
   ]
  },
  {
   "cell_type": "code",
   "execution_count": 51,
   "metadata": {},
   "outputs": [
    {
     "data": {
      "text/html": [
       "<div>\n",
       "<style scoped>\n",
       "    .dataframe tbody tr th:only-of-type {\n",
       "        vertical-align: middle;\n",
       "    }\n",
       "\n",
       "    .dataframe tbody tr th {\n",
       "        vertical-align: top;\n",
       "    }\n",
       "\n",
       "    .dataframe thead th {\n",
       "        text-align: right;\n",
       "    }\n",
       "</style>\n",
       "<table border=\"1\" class=\"dataframe\">\n",
       "  <thead>\n",
       "    <tr style=\"text-align: right;\">\n",
       "      <th></th>\n",
       "      <th>node_ID</th>\n",
       "      <th>geometry</th>\n",
       "    </tr>\n",
       "  </thead>\n",
       "  <tbody>\n",
       "    <tr>\n",
       "      <th>0</th>\n",
       "      <td>60796641</td>\n",
       "      <td>POINT (79.86617 6.90957)</td>\n",
       "    </tr>\n",
       "    <tr>\n",
       "      <th>1</th>\n",
       "      <td>2419600689</td>\n",
       "      <td>POINT (79.86659 6.90955)</td>\n",
       "    </tr>\n",
       "    <tr>\n",
       "      <th>2</th>\n",
       "      <td>3830183348</td>\n",
       "      <td>POINT (79.86688 6.90955)</td>\n",
       "    </tr>\n",
       "    <tr>\n",
       "      <th>3</th>\n",
       "      <td>91030247</td>\n",
       "      <td>POINT (79.84231 6.93132)</td>\n",
       "    </tr>\n",
       "    <tr>\n",
       "      <th>4</th>\n",
       "      <td>3825202158</td>\n",
       "      <td>POINT (79.84231 6.93126)</td>\n",
       "    </tr>\n",
       "    <tr>\n",
       "      <th>...</th>\n",
       "      <td>...</td>\n",
       "      <td>...</td>\n",
       "    </tr>\n",
       "    <tr>\n",
       "      <th>210114</th>\n",
       "      <td>7369784221</td>\n",
       "      <td>POINT (79.92732 7.02581)</td>\n",
       "    </tr>\n",
       "    <tr>\n",
       "      <th>210115</th>\n",
       "      <td>7369784225</td>\n",
       "      <td>POINT (79.92730 7.02577)</td>\n",
       "    </tr>\n",
       "    <tr>\n",
       "      <th>210116</th>\n",
       "      <td>7369784284</td>\n",
       "      <td>POINT (79.92297 7.02520)</td>\n",
       "    </tr>\n",
       "    <tr>\n",
       "      <th>210117</th>\n",
       "      <td>7369784268</td>\n",
       "      <td>POINT (79.92279 7.02389)</td>\n",
       "    </tr>\n",
       "    <tr>\n",
       "      <th>210118</th>\n",
       "      <td>7369784287</td>\n",
       "      <td>POINT (79.92214 7.02739)</td>\n",
       "    </tr>\n",
       "  </tbody>\n",
       "</table>\n",
       "<p>210119 rows × 2 columns</p>\n",
       "</div>"
      ],
      "text/plain": [
       "           node_ID                  geometry\n",
       "0         60796641  POINT (79.86617 6.90957)\n",
       "1       2419600689  POINT (79.86659 6.90955)\n",
       "2       3830183348  POINT (79.86688 6.90955)\n",
       "3         91030247  POINT (79.84231 6.93132)\n",
       "4       3825202158  POINT (79.84231 6.93126)\n",
       "...            ...                       ...\n",
       "210114  7369784221  POINT (79.92732 7.02581)\n",
       "210115  7369784225  POINT (79.92730 7.02577)\n",
       "210116  7369784284  POINT (79.92297 7.02520)\n",
       "210117  7369784268  POINT (79.92279 7.02389)\n",
       "210118  7369784287  POINT (79.92214 7.02739)\n",
       "\n",
       "[210119 rows x 2 columns]"
      ]
     },
     "execution_count": 51,
     "metadata": {},
     "output_type": "execute_result"
    }
   ],
   "source": [
    "non_traffic_gdfnodes"
   ]
  },
  {
   "cell_type": "code",
   "execution_count": 83,
   "metadata": {},
   "outputs": [],
   "source": [
    "drop_list = []\n",
    "for u, v, data in G.edges(data = True):\n",
    "      if data['mean_speed'] > 0:\n",
    "          drop_list.append(u)\n",
    "          drop_list.append(v)\n",
    "\n",
    "drop_list = list(set(drop_list))"
   ]
  },
  {
   "cell_type": "code",
   "execution_count": 84,
   "metadata": {},
   "outputs": [],
   "source": [
    "non_traffic_gdfnodes = non_traffic_gdfnodes[~non_traffic_gdfnodes['node_ID'].isin(drop_list)]"
   ]
  },
  {
   "cell_type": "code",
   "execution_count": 85,
   "metadata": {},
   "outputs": [
    {
     "data": {
      "text/html": [
       "<div>\n",
       "<style scoped>\n",
       "    .dataframe tbody tr th:only-of-type {\n",
       "        vertical-align: middle;\n",
       "    }\n",
       "\n",
       "    .dataframe tbody tr th {\n",
       "        vertical-align: top;\n",
       "    }\n",
       "\n",
       "    .dataframe thead th {\n",
       "        text-align: right;\n",
       "    }\n",
       "</style>\n",
       "<table border=\"1\" class=\"dataframe\">\n",
       "  <thead>\n",
       "    <tr style=\"text-align: right;\">\n",
       "      <th></th>\n",
       "      <th>node_ID</th>\n",
       "      <th>geometry</th>\n",
       "    </tr>\n",
       "  </thead>\n",
       "  <tbody>\n",
       "    <tr>\n",
       "      <th>21</th>\n",
       "      <td>4047124003</td>\n",
       "      <td>POINT (79.87387 6.90471)</td>\n",
       "    </tr>\n",
       "    <tr>\n",
       "      <th>73</th>\n",
       "      <td>50422994</td>\n",
       "      <td>POINT (79.86590 6.85131)</td>\n",
       "    </tr>\n",
       "    <tr>\n",
       "      <th>211</th>\n",
       "      <td>1863456369</td>\n",
       "      <td>POINT (79.85125 6.93425)</td>\n",
       "    </tr>\n",
       "    <tr>\n",
       "      <th>215</th>\n",
       "      <td>91031378</td>\n",
       "      <td>POINT (79.85225 6.93613)</td>\n",
       "    </tr>\n",
       "    <tr>\n",
       "      <th>220</th>\n",
       "      <td>91170617</td>\n",
       "      <td>POINT (79.84987 6.93454)</td>\n",
       "    </tr>\n",
       "    <tr>\n",
       "      <th>...</th>\n",
       "      <td>...</td>\n",
       "      <td>...</td>\n",
       "    </tr>\n",
       "    <tr>\n",
       "      <th>210114</th>\n",
       "      <td>7369784221</td>\n",
       "      <td>POINT (79.92732 7.02581)</td>\n",
       "    </tr>\n",
       "    <tr>\n",
       "      <th>210115</th>\n",
       "      <td>7369784225</td>\n",
       "      <td>POINT (79.92730 7.02577)</td>\n",
       "    </tr>\n",
       "    <tr>\n",
       "      <th>210116</th>\n",
       "      <td>7369784284</td>\n",
       "      <td>POINT (79.92297 7.02520)</td>\n",
       "    </tr>\n",
       "    <tr>\n",
       "      <th>210117</th>\n",
       "      <td>7369784268</td>\n",
       "      <td>POINT (79.92279 7.02389)</td>\n",
       "    </tr>\n",
       "    <tr>\n",
       "      <th>210118</th>\n",
       "      <td>7369784287</td>\n",
       "      <td>POINT (79.92214 7.02739)</td>\n",
       "    </tr>\n",
       "  </tbody>\n",
       "</table>\n",
       "<p>147845 rows × 2 columns</p>\n",
       "</div>"
      ],
      "text/plain": [
       "           node_ID                  geometry\n",
       "21      4047124003  POINT (79.87387 6.90471)\n",
       "73        50422994  POINT (79.86590 6.85131)\n",
       "211     1863456369  POINT (79.85125 6.93425)\n",
       "215       91031378  POINT (79.85225 6.93613)\n",
       "220       91170617  POINT (79.84987 6.93454)\n",
       "...            ...                       ...\n",
       "210114  7369784221  POINT (79.92732 7.02581)\n",
       "210115  7369784225  POINT (79.92730 7.02577)\n",
       "210116  7369784284  POINT (79.92297 7.02520)\n",
       "210117  7369784268  POINT (79.92279 7.02389)\n",
       "210118  7369784287  POINT (79.92214 7.02739)\n",
       "\n",
       "[147845 rows x 2 columns]"
      ]
     },
     "execution_count": 85,
     "metadata": {},
     "output_type": "execute_result"
    }
   ],
   "source": [
    "non_traffic_gdfnodes"
   ]
  },
  {
   "cell_type": "code",
   "execution_count": 53,
   "metadata": {},
   "outputs": [],
   "source": [
    "node_list = []\n",
    "for u, v, data in G.edges(data = True):\n",
    "      if not data['mean_speed'] > 0:\n",
    "        node_list.append(u)\n",
    "        node_list.append(v)"
   ]
  },
  {
   "cell_type": "code",
   "execution_count": 54,
   "metadata": {},
   "outputs": [
    {
     "data": {
      "text/plain": [
       "162202"
      ]
     },
     "execution_count": 54,
     "metadata": {},
     "output_type": "execute_result"
    }
   ],
   "source": [
    "len(list(set(node_list)))"
   ]
  },
  {
   "cell_type": "code",
   "execution_count": 56,
   "metadata": {},
   "outputs": [],
   "source": [
    "#G.nodes[60796641]['geometry']"
   ]
  },
  {
   "cell_type": "code",
   "execution_count": 57,
   "metadata": {},
   "outputs": [],
   "source": [
    "G.nodes[3727426632]"
   ]
  },
  {
   "cell_type": "code",
   "execution_count": 75,
   "metadata": {},
   "outputs": [
    {
     "name": "stdout",
     "output_type": "stream",
     "text": [
      "5559025764\n",
      "3345099190\n",
      "1645495725\n"
     ]
    }
   ],
   "source": [
    "for successor in G.successors(3345099186):\n",
    "    print(successor)"
   ]
  },
  {
   "cell_type": "code",
   "execution_count": 77,
   "metadata": {},
   "outputs": [
    {
     "name": "stdout",
     "output_type": "stream",
     "text": [
      "7037574231\n",
      "5578292935\n",
      "2028077011\n",
      "2966142449\n"
     ]
    }
   ],
   "source": [
    "for successor in G.successors(3477910642):\n",
    "    print(successor)"
   ]
  },
  {
   "cell_type": "code",
   "execution_count": 101,
   "metadata": {},
   "outputs": [
    {
     "name": "stdout",
     "output_type": "stream",
     "text": [
      "done generating node list of non-mapbox traffic nodes\n",
      "print gdfnodes_proj_buffer\n",
      "           node_ID                       geometry\n",
      "21      4047124003  POINT (375585.124 763361.787)\n",
      "73        50422994  POINT (374690.576 757460.121)\n",
      "211     1863456369  POINT (373093.228 766633.620)\n",
      "215       91031378  POINT (373204.807 766841.871)\n",
      "220       91170617  POINT (372940.976 766666.076)\n",
      "...            ...                            ...\n",
      "210114  7369784221  POINT (381521.640 776737.741)\n",
      "210115  7369784225  POINT (381519.300 776733.601)\n",
      "210116  7369784284  POINT (381040.061 776671.125)\n",
      "210117  7369784268  POINT (381020.021 776526.583)\n",
      "210118  7369784287  POINT (380949.728 776913.583)\n",
      "\n",
      "[147845 rows x 2 columns]\n",
      "print juncs_gdf\n",
      "                                                geometry\n",
      "0      POLYGON ((389622.777 742802.353, 389622.729 74...\n",
      "1      POLYGON ((389621.976 742843.263, 389621.928 74...\n",
      "2      POLYGON ((389619.520 742885.336, 389619.471 74...\n",
      "3      POLYGON ((389601.001 742937.537, 389600.953 74...\n",
      "4      POLYGON ((389598.548 742981.303, 389598.500 74...\n",
      "...                                                  ...\n",
      "96883  POLYGON ((383406.057 773272.595, 383406.009 77...\n",
      "96884  POLYGON ((382771.406 773275.450, 382771.358 77...\n",
      "96885  POLYGON ((381980.529 773275.493, 381980.481 77...\n",
      "96886  POLYGON ((381834.407 773274.775, 381834.358 77...\n",
      "96887  POLYGON ((379890.718 773275.041, 379890.670 77...\n",
      "\n",
      "[96888 rows x 1 columns]\n",
      "296290\n",
      "finished with simplify_junctions\n",
      "finished with custom_simplify\n"
     ]
    },
    {
     "ename": "NameError",
     "evalue": "name 'c' is not defined",
     "output_type": "error",
     "traceback": [
      "\u001b[0;31m---------------------------------------------------------------------------\u001b[0m",
      "\u001b[0;31mNameError\u001b[0m                                 Traceback (most recent call last)",
      "\u001b[0;32m<ipython-input-101-b87025bc0252>\u001b[0m in \u001b[0;36m<module>\u001b[0;34m\u001b[0m\n\u001b[0;32m----> 1\u001b[0;31m \u001b[0mG_clean\u001b[0m \u001b[0;34m=\u001b[0m \u001b[0mgn\u001b[0m\u001b[0;34m.\u001b[0m\u001b[0mclean_network\u001b[0m\u001b[0;34m(\u001b[0m\u001b[0mG\u001b[0m\u001b[0;34m,\u001b[0m \u001b[0mUTM\u001b[0m \u001b[0;34m=\u001b[0m \u001b[0;34m'epsg:32644'\u001b[0m\u001b[0;34m,\u001b[0m \u001b[0mWGS\u001b[0m \u001b[0;34m=\u001b[0m \u001b[0;34m'epsg:4326'\u001b[0m\u001b[0;34m,\u001b[0m \u001b[0mjunctdist\u001b[0m \u001b[0;34m=\u001b[0m \u001b[0;36m10\u001b[0m\u001b[0;34m,\u001b[0m \u001b[0mverbose\u001b[0m \u001b[0;34m=\u001b[0m \u001b[0;32mFalse\u001b[0m\u001b[0;34m)\u001b[0m\u001b[0;34m\u001b[0m\u001b[0;34m\u001b[0m\u001b[0m\n\u001b[0m",
      "\u001b[0;32m~/repos/GOSTNets/GOSTnets/network_clean.py\u001b[0m in \u001b[0;36mclean_network\u001b[0;34m(G, wpath, output_file_name, UTM, WGS, junctdist, verbose)\u001b[0m\n\u001b[1;32m     84\u001b[0m \u001b[0;34m\u001b[0m\u001b[0m\n\u001b[1;32m     85\u001b[0m     print('Edge reduction: %s to %s (%d percent)' % (G.number_of_edges(), \n\u001b[0;32m---> 86\u001b[0;31m                                                \u001b[0mc\u001b[0m\u001b[0;34m.\u001b[0m\u001b[0mnumber_of_edges\u001b[0m\u001b[0;34m(\u001b[0m\u001b[0;34m)\u001b[0m\u001b[0;34m,\u001b[0m\u001b[0;34m\u001b[0m\u001b[0;34m\u001b[0m\u001b[0m\n\u001b[0m\u001b[1;32m     87\u001b[0m                                                ((G.number_of_edges() - c.number_of_edges())/G.number_of_edges()*100)))\n\u001b[1;32m     88\u001b[0m     \u001b[0;32mreturn\u001b[0m \u001b[0mc\u001b[0m\u001b[0;34m\u001b[0m\u001b[0;34m\u001b[0m\u001b[0m\n",
      "\u001b[0;31mNameError\u001b[0m: name 'c' is not defined"
     ]
    }
   ],
   "source": [
    "G_clean = gn.clean_network(G, UTM = 'epsg:32644', WGS = 'epsg:4326', junctdist = 10, verbose = False)"
   ]
  },
  {
   "cell_type": "code",
   "execution_count": 63,
   "metadata": {},
   "outputs": [],
   "source": [
    "list_1 = [1,2,3,4,5]"
   ]
  },
  {
   "cell_type": "code",
   "execution_count": 64,
   "metadata": {},
   "outputs": [
    {
     "data": {
      "text/plain": [
       "[1, 2, 3, 4]"
      ]
     },
     "execution_count": 64,
     "metadata": {},
     "output_type": "execute_result"
    }
   ],
   "source": [
    "list_1[:-1]"
   ]
  },
  {
   "cell_type": "code",
   "execution_count": 65,
   "metadata": {},
   "outputs": [
    {
     "data": {
      "text/plain": [
       "[2, 3, 4, 5]"
      ]
     },
     "execution_count": 65,
     "metadata": {},
     "output_type": "execute_result"
    }
   ],
   "source": [
    "list_1[1:]"
   ]
  },
  {
   "cell_type": "code",
   "execution_count": 66,
   "metadata": {},
   "outputs": [
    {
     "data": {
      "text/plain": [
       "AtlasView({0: {'osm_id': 161632760, 'geometry': <shapely.geometry.linestring.LineString object at 0x170dc9210>, 'infra_type': 'residential', 'min_speed': nan, 'max_speed': nan, 'mean_speed': nan, 'length': 0.0073407062793855804}})"
      ]
     },
     "execution_count": 66,
     "metadata": {},
     "output_type": "execute_result"
    }
   ],
   "source": [
    "G[2423783429][2423783444]"
   ]
  },
  {
   "cell_type": "code",
   "execution_count": 67,
   "metadata": {},
   "outputs": [
    {
     "data": {
      "text/plain": [
       "AtlasView({0: {'osm_id': 161632760, 'geometry': <shapely.geometry.linestring.LineString object at 0x170dc9210>, 'infra_type': 'residential', 'min_speed': nan, 'max_speed': nan, 'mean_speed': nan, 'length': 0.0073407062793855804}})"
      ]
     },
     "execution_count": 67,
     "metadata": {},
     "output_type": "execute_result"
    }
   ],
   "source": [
    "G[2423783444][2423783429]"
   ]
  },
  {
   "cell_type": "code",
   "execution_count": null,
   "metadata": {},
   "outputs": [],
   "source": []
  }
 ],
 "metadata": {
  "kernelspec": {
   "display_name": "Python 3",
   "language": "python",
   "name": "python3"
  },
  "language_info": {
   "codemirror_mode": {
    "name": "ipython",
    "version": 3
   },
   "file_extension": ".py",
   "mimetype": "text/x-python",
   "name": "python",
   "nbconvert_exporter": "python",
   "pygments_lexer": "ipython3",
   "version": "3.7.6"
  }
 },
 "nbformat": 4,
 "nbformat_minor": 2
}
