{
 "cells": [
  {
   "cell_type": "markdown",
   "metadata": {},
   "source": [
    "# Testing extracting OSM data using Osmium"
   ]
  },
  {
   "cell_type": "code",
   "execution_count": 2,
   "metadata": {},
   "outputs": [],
   "source": [
    "import os, sys, time, importlib\n",
    "\n",
    "import geopandas as gpd\n",
    "import pandas as pd\n",
    "import networkx as nx\n",
    "import numpy as np\n",
    "sys.path.append(\"../../../GOSTnets\")\n",
    "import GOSTnets as gn\n",
    "\n",
    "# pip install osmium\n",
    "# import osmium, logging\n",
    "# import shapely.wkb as wkblib\n",
    "\n",
    "from shapely.geometry import LineString, Point\n",
    "import osmnx as ox"
   ]
  },
  {
   "cell_type": "code",
   "execution_count": 3,
   "metadata": {
    "scrolled": true
   },
   "outputs": [],
   "source": [
    "# This is a Jupyter Notebook extension which reloads all of the modules whenever you run the code\n",
    "# This is optional but good if you are modifying and testing source code\n",
    "%load_ext autoreload\n",
    "%autoreload 2"
   ]
  },
  {
   "cell_type": "code",
   "execution_count": 4,
   "metadata": {},
   "outputs": [],
   "source": [
    "from GOSTnets.load_traffic2 import *"
   ]
  },
  {
   "cell_type": "markdown",
   "metadata": {},
   "source": [
    "vavuniya is a city in northern Sri Lanka, and this will be a small area for testing"
   ]
  },
  {
   "cell_type": "code",
   "execution_count": 5,
   "metadata": {
    "scrolled": true
   },
   "outputs": [
    {
     "name": "stdout",
     "output_type": "stream",
     "text": [
      "2\n",
      "./1233300-Asia-Colombo.csv\n",
      "finished reading ./1233300-Asia-Colombo.csv into dataframe\n",
      "FILE ./1233303-Asia-Colombo.csv\n",
      "1233303-Asia-Colombo_df\n",
      "finished merging 1233303-Asia-Colombo_df into combined dataframe\n",
      "calculating min, max, and mean values.\n",
      "finished calculating min, max, and mean values. Printing traffic_simplified head\n",
      "    FROM_NODE     TO_NODE  min_speed  max_speed  mean_speed\n",
      "0  1148494884  4177608798       31.0       38.0   36.866071\n",
      "1  1148495298  4137314867       57.0       57.0   57.000000\n",
      "2  1242700523  6537570627       60.0       60.0   60.000000\n",
      "3  1242730766  3377418986       46.0       46.0   46.000000\n",
      "4  1243299175  3805435746       40.0       40.0   40.000000\n"
     ]
    }
   ],
   "source": [
    "traffic_simplified_df = gn.load_traffic2.generate_traffic_metrics(\"./1233300-Asia-Colombo.csv\", \"./1233300-Asia-Colombo.csv\", \"./1233303-Asia-Colombo.csv\")"
   ]
  },
  {
   "cell_type": "code",
   "execution_count": 6,
   "metadata": {
    "scrolled": true
   },
   "outputs": [
    {
     "data": {
      "text/html": [
       "<div>\n",
       "<style scoped>\n",
       "    .dataframe tbody tr th:only-of-type {\n",
       "        vertical-align: middle;\n",
       "    }\n",
       "\n",
       "    .dataframe tbody tr th {\n",
       "        vertical-align: top;\n",
       "    }\n",
       "\n",
       "    .dataframe thead th {\n",
       "        text-align: right;\n",
       "    }\n",
       "</style>\n",
       "<table border=\"1\" class=\"dataframe\">\n",
       "  <thead>\n",
       "    <tr style=\"text-align: right;\">\n",
       "      <th></th>\n",
       "      <th>FROM_NODE</th>\n",
       "      <th>TO_NODE</th>\n",
       "      <th>min_speed</th>\n",
       "      <th>max_speed</th>\n",
       "      <th>mean_speed</th>\n",
       "    </tr>\n",
       "  </thead>\n",
       "  <tbody>\n",
       "    <tr>\n",
       "      <th>0</th>\n",
       "      <td>1148494884</td>\n",
       "      <td>4177608798</td>\n",
       "      <td>31.0</td>\n",
       "      <td>38.0</td>\n",
       "      <td>36.866071</td>\n",
       "    </tr>\n",
       "    <tr>\n",
       "      <th>1</th>\n",
       "      <td>1148495298</td>\n",
       "      <td>4137314867</td>\n",
       "      <td>57.0</td>\n",
       "      <td>57.0</td>\n",
       "      <td>57.000000</td>\n",
       "    </tr>\n",
       "    <tr>\n",
       "      <th>2</th>\n",
       "      <td>1242700523</td>\n",
       "      <td>6537570627</td>\n",
       "      <td>60.0</td>\n",
       "      <td>60.0</td>\n",
       "      <td>60.000000</td>\n",
       "    </tr>\n",
       "    <tr>\n",
       "      <th>3</th>\n",
       "      <td>1242730766</td>\n",
       "      <td>3377418986</td>\n",
       "      <td>46.0</td>\n",
       "      <td>46.0</td>\n",
       "      <td>46.000000</td>\n",
       "    </tr>\n",
       "    <tr>\n",
       "      <th>4</th>\n",
       "      <td>1243299175</td>\n",
       "      <td>3805435746</td>\n",
       "      <td>40.0</td>\n",
       "      <td>40.0</td>\n",
       "      <td>40.000000</td>\n",
       "    </tr>\n",
       "    <tr>\n",
       "      <th>...</th>\n",
       "      <td>...</td>\n",
       "      <td>...</td>\n",
       "      <td>...</td>\n",
       "      <td>...</td>\n",
       "      <td>...</td>\n",
       "    </tr>\n",
       "    <tr>\n",
       "      <th>34172</th>\n",
       "      <td>6495299720</td>\n",
       "      <td>6495344002</td>\n",
       "      <td>36.0</td>\n",
       "      <td>60.0</td>\n",
       "      <td>46.133929</td>\n",
       "    </tr>\n",
       "    <tr>\n",
       "      <th>34173</th>\n",
       "      <td>6495398243</td>\n",
       "      <td>6495398223</td>\n",
       "      <td>20.0</td>\n",
       "      <td>26.0</td>\n",
       "      <td>25.888393</td>\n",
       "    </tr>\n",
       "    <tr>\n",
       "      <th>34174</th>\n",
       "      <td>6899782766</td>\n",
       "      <td>3317976522</td>\n",
       "      <td>10.0</td>\n",
       "      <td>11.0</td>\n",
       "      <td>10.977679</td>\n",
       "    </tr>\n",
       "    <tr>\n",
       "      <th>34175</th>\n",
       "      <td>7082570748</td>\n",
       "      <td>7082570747</td>\n",
       "      <td>64.0</td>\n",
       "      <td>70.0</td>\n",
       "      <td>66.014881</td>\n",
       "    </tr>\n",
       "    <tr>\n",
       "      <th>34176</th>\n",
       "      <td>7309236901</td>\n",
       "      <td>7309236896</td>\n",
       "      <td>52.0</td>\n",
       "      <td>67.0</td>\n",
       "      <td>52.210813</td>\n",
       "    </tr>\n",
       "  </tbody>\n",
       "</table>\n",
       "<p>34177 rows × 5 columns</p>\n",
       "</div>"
      ],
      "text/plain": [
       "        FROM_NODE     TO_NODE  min_speed  max_speed  mean_speed\n",
       "0      1148494884  4177608798       31.0       38.0   36.866071\n",
       "1      1148495298  4137314867       57.0       57.0   57.000000\n",
       "2      1242700523  6537570627       60.0       60.0   60.000000\n",
       "3      1242730766  3377418986       46.0       46.0   46.000000\n",
       "4      1243299175  3805435746       40.0       40.0   40.000000\n",
       "...           ...         ...        ...        ...         ...\n",
       "34172  6495299720  6495344002       36.0       60.0   46.133929\n",
       "34173  6495398243  6495398223       20.0       26.0   25.888393\n",
       "34174  6899782766  3317976522       10.0       11.0   10.977679\n",
       "34175  7082570748  7082570747       64.0       70.0   66.014881\n",
       "34176  7309236901  7309236896       52.0       67.0   52.210813\n",
       "\n",
       "[34177 rows x 5 columns]"
      ]
     },
     "execution_count": 6,
     "metadata": {},
     "output_type": "execute_result"
    }
   ],
   "source": [
    "traffic_simplified_df"
   ]
  },
  {
   "cell_type": "code",
   "execution_count": 7,
   "metadata": {},
   "outputs": [],
   "source": [
    "# set file\n",
    "some_file = './sri-lanka-latest.osm.pbf'"
   ]
  },
  {
   "cell_type": "code",
   "execution_count": 8,
   "metadata": {},
   "outputs": [
    {
     "name": "stderr",
     "output_type": "stream",
     "text": [
      "WARNING:root:Error Processing OSM Way 808680178\n"
     ]
    },
    {
     "name": "stdout",
     "output_type": "stream",
     "text": [
      "hit exception\n"
     ]
    },
    {
     "name": "stderr",
     "output_type": "stream",
     "text": [
      "WARNING:root:Error Processing OSM Way 812734222\n"
     ]
    },
    {
     "name": "stdout",
     "output_type": "stream",
     "text": [
      "hit exception\n",
      "way 812734222 may not have nodes\n",
      "finished with Osmium data extraction\n",
      "234441\n",
      "1\n",
      "Error adding edge between nodes 5770924646 and 2907768386\n",
      "{'osmid': 609259139, 'nodes': [2907768384, 5770924650, 5770924652, 6522171277, 2907768385, 7591229397, 7591229396, 7591229395, 5770924648, 5770924646, 2907768386], 'shp': <shapely.geometry.linestring.LineString object at 0x7f4504184cd0>, 'highway': 'residential', 'maxspeed': '30'}\n",
      "try to list coords\n",
      "[(81.8258068, 7.4257978), (81.8257961, 7.425779), (81.8255241, 7.425605), (81.8252243, 7.4254249), (81.8251366, 7.425373), (81.8250883, 7.4253424), (81.8250534, 7.4253218), (81.825034, 7.42531), (81.8250217, 7.4253038), (81.8250219, 7.4253038)]\n",
      "length of nodes\n",
      "11\n",
      "print index\n",
      "9\n",
      "(81.8250219, 7.4253038)\n",
      "checkpoint reached\n",
      "Error adding edge between nodes 5770924651 and 2907768384\n",
      "{'osmid': 609259140, 'nodes': [2907768383, 5770930354, 5770930356, 7591229329, 5770930353, 5770924651, 2907768384], 'shp': <shapely.geometry.linestring.LineString object at 0x7f4504184dd0>, 'highway': 'residential', 'maxspeed': '30'}\n",
      "try to list coords\n",
      "[(81.8253246, 7.4266159), (81.8253339, 7.4265907), (81.8253413, 7.426561), (81.825563, 7.4262128), (81.8257878, 7.4258458), (81.8258068, 7.4257978)]\n",
      "length of nodes\n",
      "7\n",
      "print index\n",
      "5\n",
      "(81.8258068, 7.4257978)\n",
      "checkpoint reached\n",
      "finished building node edge lists\n",
      "all_edges length\n",
      "4432264\n",
      "adding nodes\n",
      "adding edges\n",
      "a reverse one way\n",
      "a reverse one way\n",
      "a reverse one way\n",
      "a reverse one way\n",
      "a reverse one way\n",
      "a reverse one way\n",
      "a reverse one way\n",
      "a reverse one way\n",
      "a reverse one way\n",
      "a reverse one way\n",
      "a reverse one way\n",
      "a reverse one way\n",
      "a reverse one way\n",
      "a reverse one way\n",
      "a reverse one way\n",
      "a reverse one way\n",
      "a reverse one way\n",
      "a reverse one way\n",
      "a reverse one way\n",
      "a reverse one way\n",
      "a reverse one way\n",
      "a reverse one way\n",
      "a reverse one way\n",
      "a reverse one way\n",
      "a reverse one way\n",
      "a reverse one way\n",
      "a reverse one way\n",
      "a reverse one way\n",
      "a reverse one way\n",
      "a reverse one way\n",
      "a reverse one way\n",
      "a reverse one way\n",
      "a reverse one way\n",
      "a reverse one way\n",
      "a reverse one way\n",
      "a reverse one way\n",
      "a reverse one way\n",
      "a reverse one way\n",
      "a reverse one way\n",
      "a reverse one way\n",
      "a reverse one way\n",
      "a reverse one way\n",
      "a reverse one way\n",
      "a reverse one way\n",
      "a reverse one way\n",
      "a reverse one way\n",
      "a reverse one way\n",
      "a reverse one way\n",
      "a reverse one way\n",
      "a reverse one way\n",
      "a reverse one way\n",
      "a reverse one way\n",
      "a reverse one way\n",
      "a reverse one way\n",
      "a reverse one way\n",
      "a reverse one way\n",
      "a reverse one way\n",
      "a reverse one way\n",
      "a reverse one way\n",
      "a reverse one way\n",
      "a reverse one way\n",
      "a reverse one way\n",
      "a reverse one way\n",
      "a reverse one way\n",
      "a reverse one way\n",
      "a reverse one way\n",
      "a reverse one way\n",
      "a reverse one way\n",
      "a reverse one way\n",
      "a reverse one way\n",
      "a reverse one way\n",
      "a reverse one way\n",
      "a reverse one way\n",
      "a reverse one way\n",
      "a reverse one way\n",
      "a reverse one way\n",
      "a reverse one way\n",
      "a reverse one way\n",
      "a reverse one way\n",
      "a reverse one way\n",
      "a reverse one way\n",
      "done pre-processing edges\n"
     ]
    }
   ],
   "source": [
    "sri_lanka = OSM_to_network(some_file,traffic_simplified_df)"
   ]
  },
  {
   "cell_type": "code",
   "execution_count": 9,
   "metadata": {},
   "outputs": [
    {
     "data": {
      "text/plain": [
       "8821281"
      ]
     },
     "execution_count": 9,
     "metadata": {},
     "output_type": "execute_result"
    }
   ],
   "source": [
    "len(sri_lanka.network.edges())"
   ]
  },
  {
   "cell_type": "code",
   "execution_count": null,
   "metadata": {},
   "outputs": [],
   "source": []
  },
  {
   "cell_type": "code",
   "execution_count": 10,
   "metadata": {},
   "outputs": [],
   "source": [
    "# add length (great circle distance between nodes) attribute to each edge to\n",
    "# use as weight\n",
    "#if len(sri_lanka.network.edges) > 0:\n",
    "G = ox.utils_graph.add_edge_lengths(sri_lanka.network)"
   ]
  },
  {
   "cell_type": "code",
   "execution_count": 11,
   "metadata": {},
   "outputs": [
    {
     "data": {
      "text/plain": [
       "4350961"
      ]
     },
     "execution_count": 11,
     "metadata": {},
     "output_type": "execute_result"
    }
   ],
   "source": [
    "len(G.nodes())"
   ]
  },
  {
   "cell_type": "code",
   "execution_count": 12,
   "metadata": {},
   "outputs": [],
   "source": [
    "#fig, ax = ox.plot_graph(G, node_zorder=2, node_color='w', bgcolor='k')"
   ]
  },
  {
   "cell_type": "markdown",
   "metadata": {},
   "source": [
    "### take the largest sub-graph"
   ]
  },
  {
   "cell_type": "code",
   "execution_count": 13,
   "metadata": {},
   "outputs": [],
   "source": [
    "G = ox.utils_graph.get_largest_component(G)"
   ]
  },
  {
   "cell_type": "code",
   "execution_count": 14,
   "metadata": {},
   "outputs": [
    {
     "data": {
      "text/plain": [
       "8650707"
      ]
     },
     "execution_count": 14,
     "metadata": {},
     "output_type": "execute_result"
    }
   ],
   "source": [
    "len(G.edges())"
   ]
  },
  {
   "cell_type": "code",
   "execution_count": 16,
   "metadata": {},
   "outputs": [],
   "source": [
    "# save graph for now"
   ]
  },
  {
   "cell_type": "code",
   "execution_count": null,
   "metadata": {},
   "outputs": [],
   "source": [
    "gn.save(G,'sri_lanka_processed_graph_uncleaned_20200611','./', pickle = True, edges = True, nodes = True)"
   ]
  },
  {
   "cell_type": "markdown",
   "metadata": {},
   "source": [
    "### removing all of the in-between nodes"
   ]
  },
  {
   "cell_type": "code",
   "execution_count": null,
   "metadata": {},
   "outputs": [
    {
     "name": "stdout",
     "output_type": "stream",
     "text": [
      "finished with simplify_junctions\n",
      "print node_list\n",
      "17301414\n",
      "print no_traffic_node_list\n",
      "17233896\n"
     ]
    }
   ],
   "source": [
    "start = time.time()\n",
    "G_clean = gn.clean_network(G, UTM = 'epsg:32644', WGS = 'epsg:4326', junctdist = 10, verbose = False)\n",
    "end = time.time()\n",
    "print(end - start)"
   ]
  },
  {
   "cell_type": "code",
   "execution_count": null,
   "metadata": {},
   "outputs": [],
   "source": [
    "fig, ax = ox.plot_graph(G_clean, node_zorder=2, node_color='w', bgcolor='k')"
   ]
  },
  {
   "cell_type": "code",
   "execution_count": null,
   "metadata": {},
   "outputs": [],
   "source": [
    "len(G_clean.edges())"
   ]
  },
  {
   "cell_type": "code",
   "execution_count": null,
   "metadata": {},
   "outputs": [],
   "source": [
    "len(G_clean)"
   ]
  },
  {
   "cell_type": "markdown",
   "metadata": {},
   "source": [
    "### consolidate intersections"
   ]
  },
  {
   "cell_type": "code",
   "execution_count": null,
   "metadata": {},
   "outputs": [],
   "source": [
    "G_proj = ox.project_graph(G_clean)"
   ]
  },
  {
   "cell_type": "code",
   "execution_count": null,
   "metadata": {},
   "outputs": [],
   "source": [
    "G2 = ox.consolidate_intersections(G_proj, rebuild_graph=True, tolerance=15, dead_ends=False)\n",
    "len(G2)"
   ]
  },
  {
   "cell_type": "code",
   "execution_count": null,
   "metadata": {},
   "outputs": [],
   "source": [
    "fig, ax = ox.plot_graph(G2, node_zorder=2, node_color='w', bgcolor='k')"
   ]
  },
  {
   "cell_type": "code",
   "execution_count": null,
   "metadata": {},
   "outputs": [],
   "source": [
    "gn.save(G2,'sri_lanka_processed_graph_before_speeds_20200610','./', pickle = True, edges = True, nodes = True)"
   ]
  },
  {
   "cell_type": "code",
   "execution_count": null,
   "metadata": {},
   "outputs": [],
   "source": []
  }
 ],
 "metadata": {
  "kernelspec": {
   "display_name": "Python 3",
   "language": "python",
   "name": "python3"
  },
  "language_info": {
   "codemirror_mode": {
    "name": "ipython",
    "version": 3
   },
   "file_extension": ".py",
   "mimetype": "text/x-python",
   "name": "python",
   "nbconvert_exporter": "python",
   "pygments_lexer": "ipython3",
   "version": "3.7.7"
  }
 },
 "nbformat": 4,
 "nbformat_minor": 2
}
