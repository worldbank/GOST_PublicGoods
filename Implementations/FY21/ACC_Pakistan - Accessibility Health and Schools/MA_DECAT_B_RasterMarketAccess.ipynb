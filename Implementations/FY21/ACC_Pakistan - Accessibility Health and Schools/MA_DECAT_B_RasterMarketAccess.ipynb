{
 "cells": [
  {
   "cell_type": "markdown",
   "metadata": {},
   "source": [
    "# Market access and population\n",
    "\n",
    "This notebook combines the market access calculations from the global friction surface 2019 with population from WorldPop, and urban/rural calculations based on the JDC calculations to create a complete, flexible workflow for measuring access to features:\n",
    "\n",
    "### Required input data\n",
    "1. Destinations\n",
    "2. ISO3 code (for extent extraction)\n",
    "3. Travel time thresholds in minutes\n",
    "\n",
    "### Workflow\n",
    "1. Calculate travel time to destinations  \n",
    "   a. Calculate binary travel time layers\n",
    "2. Calculate urban and rural  \n",
    "   a. Calculate urban and rural population layers  \n",
    "3. Combine travel time layers (#1a) with population layers (#2a)\n",
    "4. Run zonal stats on #3\n",
    "\n",
    "\n",
    "# TODO\n",
    "1. Rasters may need to be standardized to each other"
   ]
  },
  {
   "cell_type": "code",
   "execution_count": 1,
   "metadata": {},
   "outputs": [],
   "source": [
    "import sys, os\n",
    "import rasterio\n",
    "\n",
    "import pandas as pd\n",
    "import geopandas as gpd\n",
    "import numpy as np\n",
    "import skimage.graph as graph\n",
    "\n",
    "from rasterio.mask import mask\n",
    "from rasterio import features\n",
    "from shapely.geometry import box, Point, Polygon\n",
    "from scipy.ndimage import generic_filter\n",
    "from pandana.loaders import osm\n",
    "\n",
    "sys.path.append(\"../../../GOST_Urban\")\n",
    "import src.UrbanRaster as urban\n",
    "\n",
    "sys.path.append(\"../../\")\n",
    "sys.path.append('/home/wb514197/Repos/GOSTnets')\n",
    "import infrasap.market_access as ma\n",
    "import infrasap.rasterMisc as rMisc\n",
    "from infrasap.misc import tPrint"
   ]
  },
  {
   "cell_type": "code",
   "execution_count": 72,
   "metadata": {},
   "outputs": [],
   "source": [
    "#User records\n",
    "destinations = \"/home/public/Data/COUNTRY/PAK/HEALTH/pakistan_health_facilities/Pakistan_Health_Facilities.shp\"\n",
    "iso3 = \"PAK\"\n",
    "# out_folder = \"/home/wb411133/data/Country/PAK/HEALTH/\"\n",
    "out_folder = \"/home/wb514197/data/PAK/HEALTH/\"\n",
    "\n",
    "thresholds = [30, 60, 120, 180]\n",
    "\n",
    "if not os.path.exists(out_folder):\n",
    "    os.makedirs(out_folder)\n",
    "    \n",
    "# Read in destinations\n",
    "inH = gpd.read_file(destinations)"
   ]
  },
  {
   "cell_type": "code",
   "execution_count": 73,
   "metadata": {},
   "outputs": [],
   "source": [
    "# Filter destinations here, if desired\n",
    "scenario1 = ['GENERAL HOSPITALS','CHILDREN HOSPITAL','TEHSIL HEADQUARTER HOSPITAL','DISTRICT HEADQUARTER HOSPITAL','AGENCY HEADQUARTER HOSPITAL']\n",
    "scenario2 = ['GENERAL PHYSICIAN','BASIC HEALTH UNIT','GENERAL HOSPITALS','MATERNITY HOME','RURAL HEALTH CENTER','SPECIALIST','CHILDREN HOSPITAL','MCH CENTRE','SUB-HEALTH CENTER','DIAGNOSTIC CENTRE','TEHSIL HEADQUARTER HOSPITAL','DISTRICT HEADQUARTER HOSPITAL','FAMILY WELFARE CENTER','URBAN HEALTH CENTRE','AGENCY HEADQUARTER HOSPITAL']\n",
    "\n",
    "#inH = inH.loc[inH['Category'].isin(scenario2)]\n",
    "inH['cat1'] = 0\n",
    "inH['cat2'] = 0\n",
    "\n",
    "inH.loc[inH['Category'].isin(scenario1), 'cat1'] = 1\n",
    "inH.loc[inH['Category'].isin(scenario2), 'cat2'] = 1\n",
    "\n",
    "# inH.to_file(\"/home/wb514197/data/PAK/HEALTH_FACILITIES.shp\")"
   ]
  },
  {
   "cell_type": "code",
   "execution_count": 74,
   "metadata": {},
   "outputs": [],
   "source": [
    "# inH = inH.loc[inH['cat1']==1]\n",
    "inH = inH.loc[inH['cat2']==1]\n",
    "\n",
    "# out_folder = \"/home/wb514197/data/PAK/HEALTH/\"\n",
    "# out_folder = \"/home/wb514197/data/PAK/HEALTH_SCENARIO1/\"\n",
    "out_folder = \"/home/wb514197/data/PAK/HEALTH_SCENARIO2/\"\n",
    "if not os.path.exists(out_folder):\n",
    "    os.makedirs(out_folder)"
   ]
  },
  {
   "cell_type": "code",
   "execution_count": 5,
   "metadata": {},
   "outputs": [],
   "source": [
    "global_friction_surface = \"/home/public/Data/GLOBAL/INFRA/FRICTION_2020/2020_motorized_friction_surface.geotiff\"\n",
    "global_population = \"/home/public/Data/GLOBAL/Population/WorldPop_PPP_2020/ppp_2020_1km_Aggregated.tif\"\n",
    "inG = rasterio.open(global_friction_surface)\n",
    "inP = rasterio.open(global_population)\n",
    "\n",
    "# Read in country bounds\n",
    "global_bounds = \"/home/public/Data/GLOBAL/ADMIN/Admin0_Polys.shp\"\n",
    "admin1 = \"/home/public/Data/GLOBAL/ADMIN/Admin1_Polys.shp\"\n",
    "admin2 = \"/home/wb514197/data/PAK/pakistan_indicators.shp\"\n",
    "\n",
    "inB = gpd.read_file(global_bounds)\n",
    "inB = inB.loc[inB['ISO3'] == \"PAK\"]\n",
    "inB = inB.to_crs(inG.crs)\n",
    "inB1 = gpd.read_file(admin1)\n",
    "inB1 = inB1.loc[inB1['ISO3'] == \"PAK\"]\n",
    "inB1 = inB1.to_crs(inG.crs)\n",
    "inB2 = gpd.read_file(admin2)\n",
    "inB2 = inB2.to_crs(inG.crs)\n",
    "\n",
    "# Clip the travel raster to ISO3\n",
    "out_travel_surface = os.path.join(out_folder, \"TRAVEL_SURFACE.tif\")\n",
    "rMisc.clipRaster(inG, inB, out_travel_surface)\n",
    "\n",
    "# Clip the population raster to ISO3\n",
    "out_pop_surface = os.path.join(out_folder, \"POP_2020_NEW.tif\")\n",
    "rMisc.clipRaster(inP, inB, out_pop_surface)"
   ]
  },
  {
   "cell_type": "code",
   "execution_count": 6,
   "metadata": {},
   "outputs": [],
   "source": [
    "travel_surf = rasterio.open(out_travel_surface)\n",
    "pop_surf = rasterio.open(out_pop_surface)"
   ]
  },
  {
   "cell_type": "code",
   "execution_count": 29,
   "metadata": {},
   "outputs": [],
   "source": [
    "out_pop_surface_std = os.path.join(out_folder, \"POP_2020_NEW_STD.tif\")"
   ]
  },
  {
   "cell_type": "code",
   "execution_count": 17,
   "metadata": {},
   "outputs": [],
   "source": [
    "rMisc.standardizeInputRasters(pop_surf, travel_surf, os.path.join(out_folder, \"POP_2020_NEW_STD.tif\"), data_type=\"C\")"
   ]
  },
  {
   "cell_type": "code",
   "execution_count": 20,
   "metadata": {},
   "outputs": [],
   "source": [
    "travel_surf = rasterio.open(out_travel_surface)\n",
    "pop_surf = rasterio.open(out_pop_surface_std)"
   ]
  },
  {
   "cell_type": "code",
   "execution_count": 25,
   "metadata": {},
   "outputs": [],
   "source": [
    "inB2 = gpd.read_file(admin2)\n",
    "inB2 = inB2.to_crs(inG.crs)"
   ]
  },
  {
   "cell_type": "code",
   "execution_count": 26,
   "metadata": {},
   "outputs": [],
   "source": [
    "inB2 = inB2.loc[inB2.Year==2018].copy()\n",
    "inB2.index.name = \"FID\"\n",
    "inB2.reset_index(inplace=True)"
   ]
  },
  {
   "cell_type": "code",
   "execution_count": 76,
   "metadata": {},
   "outputs": [],
   "source": [
    "# create MCP object\n",
    "inG = rasterio.open(out_travel_surface)\n",
    "inG_data = inG.read() * 1000\n",
    "# Correct no data values\n",
    "inG_data[inG_data < 0] = 99999999\n",
    "mcp = graph.MCP_Geometric(inG_data[0,:,:])"
   ]
  },
  {
   "cell_type": "code",
   "execution_count": 77,
   "metadata": {},
   "outputs": [],
   "source": [
    "# Calculate travel time\n",
    "out_file = os.path.join(out_folder, \"HEALTH_TRAVEL_TIME_MINUTES.tif\")\n",
    "facility_cells = ma.get_mcp_dests(inG, inH)\n",
    "costs, traceback = mcp.find_costs(facility_cells)  \n",
    "costs[np.isinf(costs)] = 0\n",
    "costs[np.isnan(costs)] = 0\n",
    "meta = inG.meta.copy()\n",
    "meta.update(dtype=costs.dtype)\n",
    "with rasterio.open(out_file, 'w', **meta) as out:\n",
    "    out.write_band(1, costs)"
   ]
  },
  {
   "cell_type": "markdown",
   "metadata": {},
   "source": [
    "# Calculate urban"
   ]
  },
  {
   "cell_type": "code",
   "execution_count": 32,
   "metadata": {},
   "outputs": [
    {
     "name": "stdout",
     "output_type": "stream",
     "text": [
      "10:48:55\tPAK: Read in urban data\n",
      "10:48:57\tPAK: Creating Shape 0\n",
      "10:49:06\tPAK: Creating Shape 1000\n",
      "10:49:12\tPAK: Creating Shape 2000\n",
      "10:49:18\tPAK: Creating Shape 3000\n"
     ]
    }
   ],
   "source": [
    "urban_raster = os.path.join(out_folder, \"URBAN.tif\")\n",
    "urban_pop_raster = os.path.join(out_folder, \"URBAN_POP.tif\")\n",
    "calc_urban = urban.urbanGriddedPop(out_pop_surface)\n",
    "urban_extents = calc_urban.calculateUrban(densVal=300, totalPopThresh=5000,\n",
    "                          raster=urban_raster, raster_pop=urban_pop_raster, \n",
    "                          print_message=iso3, verbose=True)"
   ]
  },
  {
   "cell_type": "markdown",
   "metadata": {},
   "source": [
    "# Combine traveltime and population"
   ]
  },
  {
   "cell_type": "code",
   "execution_count": 78,
   "metadata": {},
   "outputs": [],
   "source": [
    "# cur_thresh = thresholds[0]\n",
    "tt_raster = rasterio.open(out_file)\n",
    "pop_raster = rasterio.open(out_pop_surface)\n",
    "urban_pop = rasterio.open(urban_pop_raster)\n",
    "\n",
    "tt_d = tt_raster.read(1)\n",
    "pop_d = pop_raster.read(1)\n",
    "urban_pop_d = urban_pop.read(1)"
   ]
  },
  {
   "cell_type": "code",
   "execution_count": 79,
   "metadata": {},
   "outputs": [
    {
     "data": {
      "text/plain": [
       "-3.4028235e+38"
      ]
     },
     "execution_count": 79,
     "metadata": {},
     "output_type": "execute_result"
    }
   ],
   "source": [
    "pop_d.min()"
   ]
  },
  {
   "cell_type": "code",
   "execution_count": 80,
   "metadata": {},
   "outputs": [
    {
     "data": {
      "text/plain": [
       "-0.0"
      ]
     },
     "execution_count": 80,
     "metadata": {},
     "output_type": "execute_result"
    }
   ],
   "source": [
    "urban_pop_d.min()"
   ]
  },
  {
   "cell_type": "code",
   "execution_count": 81,
   "metadata": {},
   "outputs": [],
   "source": [
    "pop_d[pop_d<0] = 0\n",
    "urban_pop_d[urban_pop_d==-0.] = 0"
   ]
  },
  {
   "cell_type": "code",
   "execution_count": 84,
   "metadata": {},
   "outputs": [],
   "source": [
    "base_raster_name = os.path.join(out_folder, \"TT_POP_%s.tif\")\n",
    "base_urban_raster_name = os.path.join(out_folder, \"TT_POP_%s_URBAN.tif\")\n",
    "out_meta = pop_raster.meta.copy()\n",
    "out_rasters = [out_pop_surface, urban_pop_raster]\n",
    "for thresh in thresholds:\n",
    "    cur_out_file = base_raster_name % thresh\n",
    "    cur_out_urban_file = base_urban_raster_name % thresh\n",
    "    out_rasters.append(cur_out_file)\n",
    "    out_rasters.append(cur_out_urban_file)\n",
    "#     if not os.path.exists(cur_out_file) or not os.path.exists(cur_out_urban_file):\n",
    "    cur_tt_d = (tt_d < thresh).astype('int')\n",
    "    cur_pop = pop_d * cur_tt_d\n",
    "    cur_urban_pop = urban_pop_d * cur_tt_d    \n",
    "    with rasterio.open(cur_out_file, 'w', **meta) as outR:\n",
    "        outR.write_band(1, cur_pop)\n",
    "\n",
    "    with rasterio.open(cur_out_urban_file, 'w', **meta) as outR:\n",
    "        outR.write_band(1, cur_urban_pop)"
   ]
  },
  {
   "cell_type": "code",
   "execution_count": 85,
   "metadata": {},
   "outputs": [],
   "source": [
    "from rasterstats import zonal_stats"
   ]
  },
  {
   "cell_type": "code",
   "execution_count": 89,
   "metadata": {},
   "outputs": [],
   "source": [
    "# del(final)\n",
    "# del(res)\n",
    "# del(all_res)"
   ]
  },
  {
   "cell_type": "code",
   "execution_count": 90,
   "metadata": {},
   "outputs": [],
   "source": [
    "all_res = {}\n",
    "try:\n",
    "    del(compiled)\n",
    "except:\n",
    "    pass\n",
    "\n",
    "for pop_R_file in out_rasters:\n",
    "    src = rasterio.open(pop_R_file)\n",
    "    data = src.read(1)\n",
    "    data[data<0] = 0\n",
    "    data[data==-0.]=0\n",
    "    name = os.path.basename(pop_R_file).replace(\".tif\", \"\")\n",
    "    col = \"%s_%s\" % (name, \"SUM\")\n",
    "#     res = rMisc.zonalStats(inB2, pop_R_file, minVal=0)\n",
    "    res = pd.DataFrame(zonal_stats(inB2, data, affine=src.transform, stats='sum', nodata=pop_raster.nodata)).rename(columns = {'sum':col})\n",
    "#     name = os.path.basename(pop_R_file).replace(\".tif\", \"\")\n",
    "#     cols = [\"%s_%s\" % (name, x) for x in ['SUM','MIN','MAX','MEAN']]\n",
    "#     res = pd.DataFrame(res, columns=cols)\n",
    "#     all_res[name] = res\n",
    "    try:\n",
    "        final = final.join(res)\n",
    "    except:\n",
    "        final = res.copy()"
   ]
  },
  {
   "cell_type": "code",
   "execution_count": 91,
   "metadata": {},
   "outputs": [],
   "source": [
    "output = final.filter(regex=\"SUM\").copy()\n",
    "output['FID'] = inB2['FID']\n",
    "output['Province'] = inB2['Province']\n",
    "output['District'] = inB2['District']"
   ]
  },
  {
   "cell_type": "code",
   "execution_count": 92,
   "metadata": {},
   "outputs": [
    {
     "data": {
      "text/plain": [
       "Index(['POP_2020_NEW_STD_SUM', 'URBAN_POP_SUM', 'TT_POP_30_SUM',\n",
       "       'TT_POP_30_URBAN_SUM', 'TT_POP_60_SUM', 'TT_POP_60_URBAN_SUM',\n",
       "       'TT_POP_120_SUM', 'TT_POP_120_URBAN_SUM', 'TT_POP_180_SUM',\n",
       "       'TT_POP_180_URBAN_SUM', 'FID', 'Province', 'District'],\n",
       "      dtype='object')"
      ]
     },
     "execution_count": 92,
     "metadata": {},
     "output_type": "execute_result"
    }
   ],
   "source": [
    "output.columns"
   ]
  },
  {
   "cell_type": "code",
   "execution_count": 93,
   "metadata": {},
   "outputs": [],
   "source": [
    "output.to_csv(os.path.join(out_folder, \"COMBINED_ZONAL_STATS_Admin2_V2.csv\"))"
   ]
  },
  {
   "cell_type": "code",
   "execution_count": 95,
   "metadata": {},
   "outputs": [],
   "source": [
    "# output = final.filter(regex=\"SUM\")\n",
    "# output['NAME'] = inB1['WB_ADM1_NA']\n",
    "# output['CODE'] = inB1['WB_ADM1_CO']\n",
    "# output.to_csv(os.path.join(out_folder, \"COMBINED_ZONAL_STATS.csv\"))"
   ]
  },
  {
   "cell_type": "code",
   "execution_count": 96,
   "metadata": {},
   "outputs": [],
   "source": [
    "# output['NAME'] = inB1['WB_ADM1_NA']\n",
    "# output.head()"
   ]
  }
 ],
 "metadata": {
  "kernelspec": {
   "display_name": "GEO",
   "language": "python",
   "name": "geo"
  },
  "language_info": {
   "codemirror_mode": {
    "name": "ipython",
    "version": 3
   },
   "file_extension": ".py",
   "mimetype": "text/x-python",
   "name": "python",
   "nbconvert_exporter": "python",
   "pygments_lexer": "ipython3",
   "version": "3.7.6"
  }
 },
 "nbformat": 4,
 "nbformat_minor": 2
}
