{
 "cells": [
  {
   "cell_type": "markdown",
   "metadata": {},
   "source": [
    "# Step 2: Building GTFS graphs and merging it with a walking graph\n",
    "We heavily follow Kuan Butts's Calculating Betweenness Centrality with GTFS blog post: https://gist.github.com/kuanb/c54d0ae7ee353cac3d56371d3491cf56\n",
    "\n",
    "### The peartree (https://github.com/kuanb/peartree) source code was modified. Until code is merged you should use code from this fork: https://github.com/d3netxer/peartree"
   ]
  },
  {
   "cell_type": "code",
   "execution_count": 46,
   "metadata": {},
   "outputs": [
    {
     "name": "stdout",
     "output_type": "stream",
     "text": [
      "The autoreload extension is already loaded. To reload it, use:\n",
      "  %reload_ext autoreload\n"
     ]
    }
   ],
   "source": [
    "%load_ext autoreload\n",
    "%autoreload 2"
   ]
  },
  {
   "cell_type": "code",
   "execution_count": 47,
   "metadata": {},
   "outputs": [],
   "source": [
    "import matplotlib.pyplot as plt\n",
    "%matplotlib inline"
   ]
  },
  {
   "cell_type": "code",
   "execution_count": 48,
   "metadata": {},
   "outputs": [],
   "source": [
    "import osmnx as ox\n",
    "import pandas as pd\n",
    "import geopandas as gpd\n",
    "import networkx as nx\n",
    "import numpy as np\n",
    "from shapely.geometry import Point"
   ]
  },
  {
   "cell_type": "code",
   "execution_count": 49,
   "metadata": {},
   "outputs": [],
   "source": [
    "import partridge as ptg"
   ]
  },
  {
   "cell_type": "code",
   "execution_count": 50,
   "metadata": {},
   "outputs": [],
   "source": [
    "import os, sys"
   ]
  },
  {
   "cell_type": "code",
   "execution_count": 51,
   "metadata": {},
   "outputs": [],
   "source": [
    "sys.path.append(r\"C:\\repos\\peartree\")\n",
    "\n",
    "import peartree as pt"
   ]
  },
  {
   "cell_type": "code",
   "execution_count": 52,
   "metadata": {},
   "outputs": [
    {
     "name": "stdout",
     "output_type": "stream",
     "text": [
      "C:\\repos\\peartree\\peartree\\__init__.py\n"
     ]
    }
   ],
   "source": [
    "print(pt.__file__)"
   ]
  },
  {
   "cell_type": "code",
   "execution_count": 53,
   "metadata": {},
   "outputs": [],
   "source": [
    "path = r'C:\\repos\\GOST_PublicGoods\\Implementations\\GTFS_accessibility_analysis_Cap_Haitien_Haiti\\input_folder\\cap_haitien_gtfs.zip'"
   ]
  },
  {
   "cell_type": "markdown",
   "metadata": {},
   "source": [
    "### Build a graph from service_0001\n",
    "service_0001 is on the weekends, so below we are choosing a data that lands on a weekend"
   ]
  },
  {
   "cell_type": "code",
   "execution_count": 54,
   "metadata": {},
   "outputs": [
    {
     "name": "stdout",
     "output_type": "stream",
     "text": [
      "service_ids is frozenset({'service_0001'})\n"
     ]
    }
   ],
   "source": [
    "# from: http://simplistic.me/playing-with-gtfs.html\n",
    "import datetime\n",
    "\n",
    "service_ids_by_date = ptg.read_service_ids_by_date(path)\n",
    "service_ids = service_ids_by_date[datetime.date(2019, 6, 29)]\n",
    "\n",
    "print(f\"service_ids is {service_ids}\")\n",
    "\n",
    "# view lets you filter before you load the feed. For example, below you are filtering by the service_ids\n",
    "feed_0001 = ptg.load_feed(path, view={\n",
    "    'trips.txt': {\n",
    "        'service_id': service_ids,\n",
    "    },\n",
    "})"
   ]
  },
  {
   "cell_type": "code",
   "execution_count": 55,
   "metadata": {},
   "outputs": [
    {
     "data": {
      "text/html": [
       "<div>\n",
       "<style scoped>\n",
       "    .dataframe tbody tr th:only-of-type {\n",
       "        vertical-align: middle;\n",
       "    }\n",
       "\n",
       "    .dataframe tbody tr th {\n",
       "        vertical-align: top;\n",
       "    }\n",
       "\n",
       "    .dataframe thead th {\n",
       "        text-align: right;\n",
       "    }\n",
       "</style>\n",
       "<table border=\"1\" class=\"dataframe\">\n",
       "  <thead>\n",
       "    <tr style=\"text-align: right;\">\n",
       "      <th></th>\n",
       "      <th>service_id</th>\n",
       "      <th>monday</th>\n",
       "      <th>tuesday</th>\n",
       "      <th>wednesday</th>\n",
       "      <th>thursday</th>\n",
       "      <th>friday</th>\n",
       "      <th>saturday</th>\n",
       "      <th>sunday</th>\n",
       "      <th>start_date</th>\n",
       "      <th>end_date</th>\n",
       "    </tr>\n",
       "  </thead>\n",
       "  <tbody>\n",
       "    <tr>\n",
       "      <th>0</th>\n",
       "      <td>service_0001</td>\n",
       "      <td>0</td>\n",
       "      <td>0</td>\n",
       "      <td>0</td>\n",
       "      <td>0</td>\n",
       "      <td>0</td>\n",
       "      <td>1</td>\n",
       "      <td>1</td>\n",
       "      <td>2019-06-29</td>\n",
       "      <td>2020-07-29</td>\n",
       "    </tr>\n",
       "  </tbody>\n",
       "</table>\n",
       "</div>"
      ],
      "text/plain": [
       "     service_id  monday  tuesday  wednesday  thursday  friday  saturday  \\\n",
       "0  service_0001       0        0          0         0       0         1   \n",
       "\n",
       "   sunday  start_date    end_date  \n",
       "0       1  2019-06-29  2020-07-29  "
      ]
     },
     "execution_count": 55,
     "metadata": {},
     "output_type": "execute_result"
    }
   ],
   "source": [
    "feed_0001.calendar"
   ]
  },
  {
   "cell_type": "markdown",
   "metadata": {},
   "source": [
    "### give all trips a direction of 0\n",
    "PearTree wants directions assigned"
   ]
  },
  {
   "cell_type": "code",
   "execution_count": 56,
   "metadata": {},
   "outputs": [],
   "source": [
    "feed_0001.trips['direction_id'] = 0"
   ]
  },
  {
   "cell_type": "markdown",
   "metadata": {},
   "source": [
    "### Preview the GTFS network"
   ]
  },
  {
   "cell_type": "code",
   "execution_count": 57,
   "metadata": {},
   "outputs": [],
   "source": [
    "# Set a target time period to summarize impedance\n",
    "start = 0  # 0:00 \n",
    "end = 24*60*60  # 24:00 \n",
    "\n",
    "# Converts feed subset into a directed\n",
    "# network multigraph\n",
    "G = pt.load_feed_as_graph(feed_0001, start, end, add_trips_per_edge=True)"
   ]
  },
  {
   "cell_type": "code",
   "execution_count": 58,
   "metadata": {},
   "outputs": [
    {
     "name": "stderr",
     "output_type": "stream",
     "text": [
      "C:\\Users\\war-machine\\anaconda3\\envs\\gostnets3_8\\lib\\site-packages\\pyproj\\crs\\crs.py:53: FutureWarning: '+init=<authority>:<code>' syntax is deprecated. '<authority>:<code>' is the preferred initialization method. When making the change, be mindful of axis order changes: https://pyproj4.github.io/pyproj/stable/gotchas.html#axis-order-changes-in-proj-6\n",
      "  return _prepare_from_string(\" \".join(pjargs))\n"
     ]
    },
    {
     "data": {
      "image/png": "[encoded data removed]",
      "text/plain": [
       "<Figure size 864x864 with 1 Axes>"
      ]
     },
     "metadata": {},
     "output_type": "display_data"
    }
   ],
   "source": [
    "fig, ax = ox.plot_graph(G,\n",
    "                            figsize=(12,12),\n",
    "                            show=False,\n",
    "                            close=False,\n",
    "                            node_color='#8aedfc',\n",
    "                            node_size=5,\n",
    "                            edge_color='#e2dede',\n",
    "                            edge_alpha=0.25,\n",
    "                            bgcolor='black')"
   ]
  },
  {
   "cell_type": "code",
   "execution_count": 59,
   "metadata": {},
   "outputs": [
    {
     "data": {
      "text/plain": [
       "[('7W4V3_stop_0119', '7W4V3_stop_0096', 0),\n",
       " ('7W4V3_stop_0143', '7W4V3_stop_0260', 0),\n",
       " ('7W4V3_stop_0143', '7W4V3_stop_0081', 0),\n",
       " ('7W4V3_stop_0143', '7W4V3_stop_0154', 0),\n",
       " ('7W4V3_stop_0176', '7W4V3_stop_0074', 0),\n",
       " ('7W4V3_stop_0217', '7W4V3_stop_0001', 0),\n",
       " ('7W4V3_stop_0217', '7W4V3_stop_0034', 0),\n",
       " ('7W4V3_stop_0232', '7W4V3_stop_0104', 0),\n",
       " ('7W4V3_stop_0250', '7W4V3_stop_0228', 0),\n",
       " ('7W4V3_stop_0017', '7W4V3_stop_0076', 0),\n",
       " ('7W4V3_stop_0076', '7W4V3_stop_0087', 0),\n",
       " ('7W4V3_stop_0076', '7W4V3_stop_0103', 0),\n",
       " ('7W4V3_stop_0018', '7W4V3_stop_0153', 0),\n",
       " ('7W4V3_stop_0195', '7W4V3_stop_0240', 0),\n",
       " ('7W4V3_stop_0195', '7W4V3_stop_0197', 0),\n",
       " ('7W4V3_stop_0195', '7W4V3_stop_0135', 0),\n",
       " ('7W4V3_stop_0173', '7W4V3_stop_0219', 0),\n",
       " ('7W4V3_stop_0181', '7W4V3_stop_0015', 0),\n",
       " ('7W4V3_stop_0161', '7W4V3_stop_0184', 0),\n",
       " ('7W4V3_stop_0161', '7W4V3_stop_0083', 0),\n",
       " ('7W4V3_stop_0147', '7W4V3_stop_0068', 0),\n",
       " ('7W4V3_stop_0147', '7W4V3_stop_0168', 0),\n",
       " ('7W4V3_stop_0029', '7W4V3_stop_0252', 0),\n",
       " ('7W4V3_stop_0029', '7W4V3_stop_0058', 0),\n",
       " ('7W4V3_stop_0091', '7W4V3_stop_0262', 0),\n",
       " ('7W4V3_stop_0091', '7W4V3_stop_0124', 0),\n",
       " ('7W4V3_stop_0216', '7W4V3_stop_0067', 0),\n",
       " ('7W4V3_stop_0022', '7W4V3_stop_0017', 0),\n",
       " ('7W4V3_stop_0022', '7W4V3_stop_0076', 0),\n",
       " ('7W4V3_stop_0134', '7W4V3_stop_0095', 0),\n",
       " ('7W4V3_stop_0097', '7W4V3_stop_0091', 0),\n",
       " ('7W4V3_stop_0186', '7W4V3_stop_0227', 0),\n",
       " ('7W4V3_stop_0145', '7W4V3_stop_0012', 0),\n",
       " ('7W4V3_stop_0008', '7W4V3_stop_0013', 0),\n",
       " ('7W4V3_stop_0111', '7W4V3_stop_0159', 0),\n",
       " ('7W4V3_stop_0013', '7W4V3_stop_0145', 0),\n",
       " ('7W4V3_stop_0019', '7W4V3_stop_0113', 0),\n",
       " ('7W4V3_stop_0019', '7W4V3_stop_0084', 0),\n",
       " ('7W4V3_stop_0188', '7W4V3_stop_0222', 0),\n",
       " ('7W4V3_stop_0025', '7W4V3_stop_0210', 0),\n",
       " ('7W4V3_stop_0238', '7W4V3_stop_0038', 0),\n",
       " ('7W4V3_stop_0238', '7W4V3_stop_0258', 0),\n",
       " ('7W4V3_stop_0238', '7W4V3_stop_0229', 0),\n",
       " ('7W4V3_stop_0055', '7W4V3_stop_0073', 0),\n",
       " ('7W4V3_stop_0055', '7W4V3_stop_0195', 0),\n",
       " ('7W4V3_stop_0168', '7W4V3_stop_0034', 0),\n",
       " ('7W4V3_stop_0168', '7W4V3_stop_0068', 0),\n",
       " ('7W4V3_stop_0252', '7W4V3_stop_0193', 0),\n",
       " ('7W4V3_stop_0252', '7W4V3_stop_0094', 0),\n",
       " ('7W4V3_stop_0112', '7W4V3_stop_0067', 0),\n",
       " ('7W4V3_stop_0150', '7W4V3_stop_0104', 0),\n",
       " ('7W4V3_stop_0183', '7W4V3_stop_0122', 0),\n",
       " ('7W4V3_stop_0031', '7W4V3_stop_0089', 0),\n",
       " ('7W4V3_stop_0093', '7W4V3_stop_0245', 0),\n",
       " ('7W4V3_stop_0093', '7W4V3_stop_0243', 0),\n",
       " ('7W4V3_stop_0113', '7W4V3_stop_0037', 0),\n",
       " ('7W4V3_stop_0218', '7W4V3_stop_0002', 0),\n",
       " ('7W4V3_stop_0218', '7W4V3_stop_0246', 0),\n",
       " ('7W4V3_stop_0218', '7W4V3_stop_0075', 0),\n",
       " ('7W4V3_stop_0035', '7W4V3_stop_0110', 0),\n",
       " ('7W4V3_stop_0164', '7W4V3_stop_0080', 0),\n",
       " ('7W4V3_stop_0135', '7W4V3_stop_0178', 0),\n",
       " ('7W4V3_stop_0135', '7W4V3_stop_0158', 0),\n",
       " ('7W4V3_stop_0135', '7W4V3_stop_0212', 0),\n",
       " ('7W4V3_stop_0077', '7W4V3_stop_0138', 0),\n",
       " ('7W4V3_stop_0015', '7W4V3_stop_0141', 0),\n",
       " ('7W4V3_stop_0016', '7W4V3_stop_0079', 0),\n",
       " ('7W4V3_stop_0102', '7W4V3_stop_0020', 0),\n",
       " ('7W4V3_stop_0251', '7W4V3_stop_0102', 0),\n",
       " ('7W4V3_stop_0235', '7W4V3_stop_0185', 0),\n",
       " ('7W4V3_stop_0159', '7W4V3_stop_0125', 0),\n",
       " ('7W4V3_stop_0083', '7W4V3_stop_0040', 0),\n",
       " ('7W4V3_stop_0198', '7W4V3_stop_0264', 0),\n",
       " ('7W4V3_stop_0174', '7W4V3_stop_0164', 0),\n",
       " ('7W4V3_stop_0037', '7W4V3_stop_0190', 0),\n",
       " ('7W4V3_stop_0138', '7W4V3_stop_0166', 0),\n",
       " ('7W4V3_stop_0246', '7W4V3_stop_0092', 0),\n",
       " ('7W4V3_stop_0246', '7W4V3_stop_0149', 0),\n",
       " ('7W4V3_stop_0208', '7W4V3_stop_0091', 0),\n",
       " ('7W4V3_stop_0208', '7W4V3_stop_0097', 0),\n",
       " ('7W4V3_stop_0213', '7W4V3_stop_0130', 0),\n",
       " ('7W4V3_stop_0213', '7W4V3_stop_0237', 0),\n",
       " ('7W4V3_stop_0239', '7W4V3_stop_0088', 0),\n",
       " ('7W4V3_stop_0222', '7W4V3_stop_0030', 0),\n",
       " ('7W4V3_stop_0222', '7W4V3_stop_0064', 0),\n",
       " ('7W4V3_stop_0222', '7W4V3_stop_0019', 0),\n",
       " ('7W4V3_stop_0133', '7W4V3_stop_0027', 0),\n",
       " ('7W4V3_stop_0262', '7W4V3_stop_0085', 0),\n",
       " ('7W4V3_stop_0061', '7W4V3_stop_0255', 0),\n",
       " ('7W4V3_stop_0219', '7W4V3_stop_0208', 0),\n",
       " ('7W4V3_stop_0219', '7W4V3_stop_0011', 0),\n",
       " ('7W4V3_stop_0253', '7W4V3_stop_0043', 0),\n",
       " ('7W4V3_stop_0080', '7W4V3_stop_0182', 0),\n",
       " ('7W4V3_stop_0080', '7W4V3_stop_0238', 0),\n",
       " ('7W4V3_stop_0152', '7W4V3_stop_0023', 0),\n",
       " ('7W4V3_stop_0193', '7W4V3_stop_0053', 0),\n",
       " ('7W4V3_stop_0193', '7W4V3_stop_0215', 0),\n",
       " ('7W4V3_stop_0193', '7W4V3_stop_0261', 0),\n",
       " ('7W4V3_stop_0081', '7W4V3_stop_0194', 0),\n",
       " ('7W4V3_stop_0045', '7W4V3_stop_0053', 0),\n",
       " ('7W4V3_stop_0032', '7W4V3_stop_0072', 0),\n",
       " ('7W4V3_stop_0257', '7W4V3_stop_0051', 0),\n",
       " ('7W4V3_stop_0255', '7W4V3_stop_0007', 0),\n",
       " ('7W4V3_stop_0039', '7W4V3_stop_0191', 0),\n",
       " ('7W4V3_stop_0039', '7W4V3_stop_0028', 0),\n",
       " ('7W4V3_stop_0079', '7W4V3_stop_0064', 0),\n",
       " ('7W4V3_stop_0201', '7W4V3_stop_0059', 0),\n",
       " ('7W4V3_stop_0092', '7W4V3_stop_0149', 0),\n",
       " ('7W4V3_stop_0053', '7W4V3_stop_0234', 0),\n",
       " ('7W4V3_stop_0053', '7W4V3_stop_0005', 0),\n",
       " ('7W4V3_stop_0240', '7W4V3_stop_0202', 0),\n",
       " ('7W4V3_stop_0240', '7W4V3_stop_0135', 0),\n",
       " ('7W4V3_stop_0148', '7W4V3_stop_0236', 0),\n",
       " ('7W4V3_stop_0146', '7W4V3_stop_0201', 0),\n",
       " ('7W4V3_stop_0003', '7W4V3_stop_0152', 0),\n",
       " ('7W4V3_stop_0003', '7W4V3_stop_0023', 0),\n",
       " ('7W4V3_stop_0244', '7W4V3_stop_0120', 0),\n",
       " ('7W4V3_stop_0244', '7W4V3_stop_0134', 0),\n",
       " ('7W4V3_stop_0126', '7W4V3_stop_0055', 0),\n",
       " ('7W4V3_stop_0211', '7W4V3_stop_0248', 0),\n",
       " ('7W4V3_stop_0210', '7W4V3_stop_0008', 0),\n",
       " ('7W4V3_stop_0100', '7W4V3_stop_0143', 0),\n",
       " ('7W4V3_stop_0122', '7W4V3_stop_0022', 0),\n",
       " ('7W4V3_stop_0175', '7W4V3_stop_0098', 0),\n",
       " ('7W4V3_stop_0065', '7W4V3_stop_0206', 0),\n",
       " ('7W4V3_stop_0065', '7W4V3_stop_0029', 0),\n",
       " ('7W4V3_stop_0038', '7W4V3_stop_0024', 0),\n",
       " ('7W4V3_stop_0067', '7W4V3_stop_0050', 0),\n",
       " ('7W4V3_stop_0067', '7W4V3_stop_0020', 0),\n",
       " ('7W4V3_stop_0067', '7W4V3_stop_0102', 0),\n",
       " ('7W4V3_stop_0067', '7W4V3_stop_0251', 0),\n",
       " ('7W4V3_stop_0166', '7W4V3_stop_0047', 0),\n",
       " ('7W4V3_stop_0074', '7W4V3_stop_0225', 0),\n",
       " ('7W4V3_stop_0066', '7W4V3_stop_0081', 0),\n",
       " ('7W4V3_stop_0200', '7W4V3_stop_0156', 0),\n",
       " ('7W4V3_stop_0156', '7W4V3_stop_0123', 0),\n",
       " ('7W4V3_stop_0184', '7W4V3_stop_0077', 0),\n",
       " ('7W4V3_stop_0215', '7W4V3_stop_0047', 0),\n",
       " ('7W4V3_stop_0215', '7W4V3_stop_0196', 0),\n",
       " ('7W4V3_stop_0002', '7W4V3_stop_0075', 0),\n",
       " ('7W4V3_stop_0177', '7W4V3_stop_0215', 0),\n",
       " ('7W4V3_stop_0099', '7W4V3_stop_0061', 0),\n",
       " ('7W4V3_stop_0099', '7W4V3_stop_0241', 0),\n",
       " ('7W4V3_stop_0062', '7W4V3_stop_0263', 0),\n",
       " ('7W4V3_stop_0034', '7W4V3_stop_0009', 0),\n",
       " ('7W4V3_stop_0034', '7W4V3_stop_0137', 0),\n",
       " ('7W4V3_stop_0034', '7W4V3_stop_0222', 0),\n",
       " ('7W4V3_stop_0060', '7W4V3_stop_0151', 0),\n",
       " ('7W4V3_stop_0063', '7W4V3_stop_0144', 0),\n",
       " ('7W4V3_stop_0006', '7W4V3_stop_0161', 0),\n",
       " ('7W4V3_stop_0033', '7W4V3_stop_0206', 0),\n",
       " ('7W4V3_stop_0197', '7W4V3_stop_0135', 0),\n",
       " ('7W4V3_stop_0197', '7W4V3_stop_0240', 0),\n",
       " ('7W4V3_stop_0158', '7W4V3_stop_0099', 0),\n",
       " ('7W4V3_stop_0158', '7W4V3_stop_0217', 0),\n",
       " ('7W4V3_stop_0117', '7W4V3_stop_0062', 0),\n",
       " ('7W4V3_stop_0106', '7W4V3_stop_0055', 0),\n",
       " ('7W4V3_stop_0050', '7W4V3_stop_0109', 0),\n",
       " ('7W4V3_stop_0050', '7W4V3_stop_0114', 0),\n",
       " ('7W4V3_stop_0248', '7W4V3_stop_0163', 0),\n",
       " ('7W4V3_stop_0118', '7W4V3_stop_0036', 0),\n",
       " ('7W4V3_stop_0073', '7W4V3_stop_0076', 0),\n",
       " ('7W4V3_stop_0012', '7W4V3_stop_0039', 0),\n",
       " ('7W4V3_stop_0043', '7W4V3_stop_0033', 0),\n",
       " ('7W4V3_stop_0247', '7W4V3_stop_0208', 0),\n",
       " ('7W4V3_stop_0046', '7W4V3_stop_0256', 0),\n",
       " ('7W4V3_stop_0046', '7W4V3_stop_0175', 0),\n",
       " ('7W4V3_stop_0042', '7W4V3_stop_0108', 0),\n",
       " ('7W4V3_stop_0095', '7W4V3_stop_0248', 0),\n",
       " ('7W4V3_stop_0095', '7W4V3_stop_0211', 0),\n",
       " ('7W4V3_stop_0206', '7W4V3_stop_0058', 0),\n",
       " ('7W4V3_stop_0206', '7W4V3_stop_0029', 0),\n",
       " ('7W4V3_stop_0254', '7W4V3_stop_0172', 0),\n",
       " ('7W4V3_stop_0254', '7W4V3_stop_0093', 0),\n",
       " ('7W4V3_stop_0098', '7W4V3_stop_0131', 0),\n",
       " ('7W4V3_stop_0086', '7W4V3_stop_0255', 0),\n",
       " ('7W4V3_stop_0070', '7W4V3_stop_0003', 0),\n",
       " ('7W4V3_stop_0070', '7W4V3_stop_0185', 0),\n",
       " ('7W4V3_stop_0070', '7W4V3_stop_0105', 0),\n",
       " ('7W4V3_stop_0105', '7W4V3_stop_0003', 0),\n",
       " ('7W4V3_stop_0001', '7W4V3_stop_0139', 0),\n",
       " ('7W4V3_stop_0001', '7W4V3_stop_0219', 0),\n",
       " ('7W4V3_stop_0069', '7W4V3_stop_0171', 0),\n",
       " ('7W4V3_stop_0011', '7W4V3_stop_0247', 0),\n",
       " ('7W4V3_stop_0087', '7W4V3_stop_0054', 0),\n",
       " ('7W4V3_stop_0087', '7W4V3_stop_0063', 0),\n",
       " ('7W4V3_stop_0087', '7W4V3_stop_0140', 0),\n",
       " ('7W4V3_stop_0072', '7W4V3_stop_0026', 0),\n",
       " ('7W4V3_stop_0072', '7W4V3_stop_0238', 0),\n",
       " ('7W4V3_stop_0047', '7W4V3_stop_0117', 0),\n",
       " ('7W4V3_stop_0044', '7W4V3_stop_0147', 0),\n",
       " ('7W4V3_stop_0130', '7W4V3_stop_0218', 0),\n",
       " ('7W4V3_stop_0068', '7W4V3_stop_0034', 0),\n",
       " ('7W4V3_stop_0140', '7W4V3_stop_0144', 0),\n",
       " ('7W4V3_stop_0140', '7W4V3_stop_0197', 0),\n",
       " ('7W4V3_stop_0140', '7W4V3_stop_0135', 0),\n",
       " ('7W4V3_stop_0149', '7W4V3_stop_0162', 0),\n",
       " ('7W4V3_stop_0149', '7W4V3_stop_0203', 0),\n",
       " ('7W4V3_stop_0149', '7W4V3_stop_0065', 0),\n",
       " ('7W4V3_stop_0120', '7W4V3_stop_0095', 0),\n",
       " ('7W4V3_stop_0237', '7W4V3_stop_0218', 0),\n",
       " ('7W4V3_stop_0020', '7W4V3_stop_0050', 0),\n",
       " ('7W4V3_stop_0020', '7W4V3_stop_0189', 0),\n",
       " ('7W4V3_stop_0020', '7W4V3_stop_0204', 0),\n",
       " ('7W4V3_stop_0167', '7W4V3_stop_0192', 0),\n",
       " ('7W4V3_stop_0114', '7W4V3_stop_0056', 0),\n",
       " ('7W4V3_stop_0010', '7W4V3_stop_0250', 0),\n",
       " ('7W4V3_stop_0088', '7W4V3_stop_0116', 0),\n",
       " ('7W4V3_stop_0107', '7W4V3_stop_0179', 0),\n",
       " ('7W4V3_stop_0233', '7W4V3_stop_0249', 0),\n",
       " ('7W4V3_stop_0056', '7W4V3_stop_0100', 0),\n",
       " ('7W4V3_stop_0056', '7W4V3_stop_0066', 0),\n",
       " ('7W4V3_stop_0163', '7W4V3_stop_0131', 0),\n",
       " ('7W4V3_stop_0163', '7W4V3_stop_0098', 0),\n",
       " ('7W4V3_stop_0170', '7W4V3_stop_0193', 0),\n",
       " ('7W4V3_stop_0212', '7W4V3_stop_0054', 0),\n",
       " ('7W4V3_stop_0212', '7W4V3_stop_0158', 0),\n",
       " ('7W4V3_stop_0212', '7W4V3_stop_0217', 0),\n",
       " ('7W4V3_stop_0116', '7W4V3_stop_0010', 0),\n",
       " ('7W4V3_stop_0225', '7W4V3_stop_0233', 0),\n",
       " ('7W4V3_stop_0224', '7W4V3_stop_0055', 0),\n",
       " ('7W4V3_stop_0243', '7W4V3_stop_0128', 0),\n",
       " ('7W4V3_stop_0191', '7W4V3_stop_0080', 0),\n",
       " ('7W4V3_stop_0191', '7W4V3_stop_0174', 0),\n",
       " ('7W4V3_stop_0190', '7W4V3_stop_0200', 0),\n",
       " ('7W4V3_stop_0179', '7W4V3_stop_0048', 0),\n",
       " ('7W4V3_stop_0048', '7W4V3_stop_0057', 0),\n",
       " ('7W4V3_stop_0165', '7W4V3_stop_0193', 0),\n",
       " ('7W4V3_stop_0052', '7W4V3_stop_0207', 0),\n",
       " ('7W4V3_stop_0094', '7W4V3_stop_0170', 0),\n",
       " ('7W4V3_stop_0094', '7W4V3_stop_0165', 0),\n",
       " ('7W4V3_stop_0245', '7W4V3_stop_0243', 0),\n",
       " ('7W4V3_stop_0071', '7W4V3_stop_0020', 0),\n",
       " ('7W4V3_stop_0064', '7W4V3_stop_0129', 0),\n",
       " ('7W4V3_stop_0103', '7W4V3_stop_0140', 0),\n",
       " ('7W4V3_stop_0260', '7W4V3_stop_0239', 0),\n",
       " ('7W4V3_stop_0260', '7W4V3_stop_0127', 0),\n",
       " ('7W4V3_stop_0229', '7W4V3_stop_0038', 0),\n",
       " ('7W4V3_stop_0230', '7W4V3_stop_0111', 0),\n",
       " ('7W4V3_stop_0230', '7W4V3_stop_0220', 0),\n",
       " ('7W4V3_stop_0075', '7W4V3_stop_0246', 0),\n",
       " ('7W4V3_stop_0109', '7W4V3_stop_0143', 0),\n",
       " ('7W4V3_stop_0109', '7W4V3_stop_0056', 0),\n",
       " ('7W4V3_stop_0109', '7W4V3_stop_0100', 0),\n",
       " ('7W4V3_stop_0024', '7W4V3_stop_0109', 0),\n",
       " ('7W4V3_stop_0024', '7W4V3_stop_0067', 0),\n",
       " ('7W4V3_stop_0024', '7W4V3_stop_0216', 0),\n",
       " ('7W4V3_stop_0024', '7W4V3_stop_0112', 0),\n",
       " ('7W4V3_stop_0139', '7W4V3_stop_0157', 0),\n",
       " ('7W4V3_stop_0108', '7W4V3_stop_0049', 0),\n",
       " ('7W4V3_stop_0263', '7W4V3_stop_0160', 0),\n",
       " ('7W4V3_stop_0180', '7W4V3_stop_0094', 0),\n",
       " ('7W4V3_stop_0009', '7W4V3_stop_0222', 0),\n",
       " ('7W4V3_stop_0009', '7W4V3_stop_0188', 0),\n",
       " ('7W4V3_stop_0125', '7W4V3_stop_0257', 0),\n",
       " ('7W4V3_stop_0221', '7W4V3_stop_0231', 0),\n",
       " ('7W4V3_stop_0089', '7W4V3_stop_0199', 0),\n",
       " ('7W4V3_stop_0028', '7W4V3_stop_0214', 0),\n",
       " ('7W4V3_stop_0172', '7W4V3_stop_0093', 0),\n",
       " ('7W4V3_stop_0054', '7W4V3_stop_0099', 0),\n",
       " ('7W4V3_stop_0054', '7W4V3_stop_0086', 0),\n",
       " ('7W4V3_stop_0054', '7W4V3_stop_0158', 0),\n",
       " ('7W4V3_stop_0205', '7W4V3_stop_0196', 0),\n",
       " ('7W4V3_stop_0207', '7W4V3_stop_0046', 0),\n",
       " ('7W4V3_stop_0026', '7W4V3_stop_0238', 0),\n",
       " ('7W4V3_stop_0084', '7W4V3_stop_0069', 0),\n",
       " ('7W4V3_stop_0258', '7W4V3_stop_0024', 0),\n",
       " ('7W4V3_stop_0259', '7W4V3_stop_0147', 0),\n",
       " ('7W4V3_stop_0049', '7W4V3_stop_0021', 0),\n",
       " ('7W4V3_stop_0204', '7W4V3_stop_0114', 0),\n",
       " ('7W4V3_stop_0256', '7W4V3_stop_0244', 0),\n",
       " ('7W4V3_stop_0151', '7W4V3_stop_0078', 0),\n",
       " ('7W4V3_stop_0187', '7W4V3_stop_0025', 0),\n",
       " ('7W4V3_stop_0136', '7W4V3_stop_0235', 0),\n",
       " ('7W4V3_stop_0059', '7W4V3_stop_0101', 0),\n",
       " ('7W4V3_stop_0121', '7W4V3_stop_0183', 0),\n",
       " ('7W4V3_stop_0129', '7W4V3_stop_0173', 0),\n",
       " ('7W4V3_stop_0129', '7W4V3_stop_0001', 0),\n",
       " ('7W4V3_stop_0051', '7W4V3_stop_0106', 0),\n",
       " ('7W4V3_stop_0101', '7W4V3_stop_0164', 0),\n",
       " ('7W4V3_stop_0264', '7W4V3_stop_0177', 0),\n",
       " ('7W4V3_stop_0185', '7W4V3_stop_0213', 0),\n",
       " ('7W4V3_stop_0185', '7W4V3_stop_0149', 0),\n",
       " ('7W4V3_stop_0023', '7W4V3_stop_0185', 0),\n",
       " ('7W4V3_stop_0228', '7W4V3_stop_0238', 0),\n",
       " ('7W4V3_stop_0142', '7W4V3_stop_0186', 0),\n",
       " ('7W4V3_stop_0171', '7W4V3_stop_0232', 0),\n",
       " ('7W4V3_stop_0223', '7W4V3_stop_0242', 0),\n",
       " ('7W4V3_stop_0157', '7W4V3_stop_0119', 0),\n",
       " ('7W4V3_stop_0178', '7W4V3_stop_0212', 0),\n",
       " ('7W4V3_stop_0199', '7W4V3_stop_0060', 0),\n",
       " ('7W4V3_stop_0005', '7W4V3_stop_0198', 0),\n",
       " ('7W4V3_stop_0196', '7W4V3_stop_0006', 0),\n",
       " ('7W4V3_stop_0209', '7W4V3_stop_0212', 0),\n",
       " ('7W4V3_stop_0189', '7W4V3_stop_0155', 0),\n",
       " ('7W4V3_stop_0261', '7W4V3_stop_0045', 0),\n",
       " ('7W4V3_stop_0242', '7W4V3_stop_0148', 0),\n",
       " ('7W4V3_stop_0236', '7W4V3_stop_0018', 0),\n",
       " ('7W4V3_stop_0085', '7W4V3_stop_0031', 0),\n",
       " ('7W4V3_stop_0127', '7W4V3_stop_0039', 0),\n",
       " ('7W4V3_stop_0110', '7W4V3_stop_0107', 0),\n",
       " ('7W4V3_stop_0220', '7W4V3_stop_0224', 0),\n",
       " ('7W4V3_stop_0162', '7W4V3_stop_0115', 0),\n",
       " ('7W4V3_stop_0128', '7W4V3_stop_0230', 0),\n",
       " ('7W4V3_stop_0128', '7W4V3_stop_0090', 0),\n",
       " ('7W4V3_stop_0132', '7W4V3_stop_0046', 0),\n",
       " ('7W4V3_stop_0132', '7W4V3_stop_0052', 0),\n",
       " ('7W4V3_stop_0057', '7W4V3_stop_0262', 0),\n",
       " ('7W4V3_stop_0123', '7W4V3_stop_0004', 0),\n",
       " ('7W4V3_stop_0030', '7W4V3_stop_0019', 0),\n",
       " ('7W4V3_stop_0030', '7W4V3_stop_0016', 0),\n",
       " ('7W4V3_stop_0004', '7W4V3_stop_0041', 0),\n",
       " ('7W4V3_stop_0058', '7W4V3_stop_0180', 0),\n",
       " ('7W4V3_stop_0058', '7W4V3_stop_0252', 0),\n",
       " ('7W4V3_stop_0058', '7W4V3_stop_0094', 0),\n",
       " ('7W4V3_stop_0202', '7W4V3_stop_0209', 0),\n",
       " ('7W4V3_stop_0153', '7W4V3_stop_0167', 0),\n",
       " ('7W4V3_stop_0036', '7W4V3_stop_0176', 0),\n",
       " ('7W4V3_stop_0182', '7W4V3_stop_0258', 0),\n",
       " ('7W4V3_stop_0182', '7W4V3_stop_0072', 0),\n",
       " ('7W4V3_stop_0104', '7W4V3_stop_0121', 0),\n",
       " ('7W4V3_stop_0104', '7W4V3_stop_0022', 0),\n",
       " ('7W4V3_stop_0234', '7W4V3_stop_0205', 0),\n",
       " ('7W4V3_stop_0214', '7W4V3_stop_0191', 0),\n",
       " ('7W4V3_stop_0027', '7W4V3_stop_0260', 0),\n",
       " ('7W4V3_stop_0249', '7W4V3_stop_0221', 0),\n",
       " ('7W4V3_stop_0203', '7W4V3_stop_0065', 0),\n",
       " ('7W4V3_stop_0203', '7W4V3_stop_0253', 0),\n",
       " ('7W4V3_stop_0014', '7W4V3_stop_0142', 0),\n",
       " ('7W4V3_stop_0141', '7W4V3_stop_0014', 0),\n",
       " ('7W4V3_stop_0131', '7W4V3_stop_0147', 0),\n",
       " ('7W4V3_stop_0131', '7W4V3_stop_0034', 0),\n",
       " ('7W4V3_stop_0131', '7W4V3_stop_0044', 0),\n",
       " ('7W4V3_stop_0131', '7W4V3_stop_0259', 0),\n",
       " ('7W4V3_stop_0124', '7W4V3_stop_0035', 0),\n",
       " ('7W4V3_stop_0144', '7W4V3_stop_0195', 0),\n",
       " ('7W4V3_stop_0241', '7W4V3_stop_0007', 0),\n",
       " ('7W4V3_stop_0090', '7W4V3_stop_0230', 0),\n",
       " ('7W4V3_stop_0078', '7W4V3_stop_0223', 0),\n",
       " ('7W4V3_stop_0021', '7W4V3_stop_0254', 0),\n",
       " ('7W4V3_stop_0096', '7W4V3_stop_0126', 0),\n",
       " ('7W4V3_stop_0227', '7W4V3_stop_0042', 0)]"
      ]
     },
     "execution_count": 59,
     "metadata": {},
     "output_type": "execute_result"
    }
   ],
   "source": [
    "# PearTree prepends the stop ids with a code the is different each time it loads a graph\n",
    "list(G.edges)"
   ]
  },
  {
   "cell_type": "code",
   "execution_count": 60,
   "metadata": {},
   "outputs": [],
   "source": [
    "#list(G.edges(data='True'))"
   ]
  },
  {
   "cell_type": "code",
   "execution_count": 61,
   "metadata": {},
   "outputs": [
    {
     "data": {
      "text/plain": [
       "261"
      ]
     },
     "execution_count": 61,
     "metadata": {},
     "output_type": "execute_result"
    }
   ],
   "source": [
    "len(G.nodes)"
   ]
  },
  {
   "cell_type": "markdown",
   "metadata": {},
   "source": [
    "### Inspect edge data, and you should see the length attribute, which is the time in seconds needs to traverse an edge. The trips attribute represents how many trips cross that edge."
   ]
  },
  {
   "cell_type": "code",
   "execution_count": 62,
   "metadata": {},
   "outputs": [
    {
     "name": "stdout",
     "output_type": "stream",
     "text": [
      "{0: {'length': 2119.0, 'trips': 1, 'mode': 'transit'}}\n",
      "{0: {'length': 1462.0, 'trips': 1, 'mode': 'transit'}}\n",
      "{0: {'length': 74.0, 'trips': 2, 'mode': 'transit'}}\n",
      "{0: {'length': 122.0, 'trips': 1, 'mode': 'transit'}}\n",
      "{0: {'length': 706.0, 'trips': 1, 'mode': 'transit'}}\n",
      "{0: {'length': 1213.0, 'trips': 1, 'mode': 'transit'}}\n",
      "{0: {'length': 648.0, 'trips': 1, 'mode': 'transit'}}\n",
      "{0: {'length': 1257.0, 'trips': 1, 'mode': 'transit'}}\n",
      "{0: {'length': 2657.0, 'trips': 1, 'mode': 'transit'}}\n",
      "{0: {'length': 161.0, 'trips': 2, 'mode': 'transit'}}\n",
      "{0: {'length': 108.5, 'trips': 4, 'mode': 'transit'}}\n",
      "{0: {'length': 137.0, 'trips': 1, 'mode': 'transit'}}\n",
      "{0: {'length': 69.0, 'trips': 1, 'mode': 'transit'}}\n",
      "{0: {'length': 61.0, 'trips': 1, 'mode': 'transit'}}\n",
      "{0: {'length': 16.0, 'trips': 1, 'mode': 'transit'}}\n",
      "{0: {'length': 242.0, 'trips': 1, 'mode': 'transit'}}\n",
      "{0: {'length': 170.0, 'trips': 1, 'mode': 'transit'}}\n",
      "{0: {'length': 145.0, 'trips': 1, 'mode': 'transit'}}\n",
      "{0: {'length': 42.0, 'trips': 1, 'mode': 'transit'}}\n",
      "{0: {'length': 91.0, 'trips': 1, 'mode': 'transit'}}\n",
      "{0: {'length': 66.0, 'trips': 1, 'mode': 'transit'}}\n",
      "{0: {'length': 37.5, 'trips': 2, 'mode': 'transit'}}\n",
      "{0: {'length': 86.0, 'trips': 1, 'mode': 'transit'}}\n",
      "{0: {'length': 24.0, 'trips': 2, 'mode': 'transit'}}\n",
      "{0: {'length': 494.0, 'trips': 1, 'mode': 'transit'}}\n",
      "{0: {'length': 32.0, 'trips': 1, 'mode': 'transit'}}\n",
      "{0: {'length': 78.0, 'trips': 1, 'mode': 'transit'}}\n",
      "{0: {'length': 565.0, 'trips': 1, 'mode': 'transit'}}\n",
      "{0: {'length': 575.0, 'trips': 1, 'mode': 'transit'}}\n",
      "{0: {'length': 157.0, 'trips': 2, 'mode': 'transit'}}\n",
      "{0: {'length': 29.0, 'trips': 1, 'mode': 'transit'}}\n",
      "{0: {'length': 186.0, 'trips': 1, 'mode': 'transit'}}\n",
      "{0: {'length': 11.0, 'trips': 1, 'mode': 'transit'}}\n",
      "{0: {'length': 94.0, 'trips': 1, 'mode': 'transit'}}\n",
      "{0: {'length': 123.0, 'trips': 1, 'mode': 'transit'}}\n",
      "{0: {'length': 44.0, 'trips': 1, 'mode': 'transit'}}\n",
      "{0: {'length': 218.0, 'trips': 1, 'mode': 'transit'}}\n",
      "{0: {'length': 618.0, 'trips': 1, 'mode': 'transit'}}\n",
      "{0: {'length': 100.0, 'trips': 1, 'mode': 'transit'}}\n",
      "{0: {'length': 18.0, 'trips': 1, 'mode': 'transit'}}\n",
      "{0: {'length': 214.0, 'trips': 1, 'mode': 'transit'}}\n",
      "{0: {'length': 65.0, 'trips': 1, 'mode': 'transit'}}\n",
      "{0: {'length': 72.0, 'trips': 2, 'mode': 'transit'}}\n",
      "{0: {'length': 43.0, 'trips': 2, 'mode': 'transit'}}\n",
      "{0: {'length': 522.0, 'trips': 1, 'mode': 'transit'}}\n",
      "{0: {'length': 89.0, 'trips': 1, 'mode': 'transit'}}\n",
      "{0: {'length': 20.0, 'trips': 1, 'mode': 'transit'}}\n",
      "{0: {'length': 196.0, 'trips': 1, 'mode': 'transit'}}\n",
      "{0: {'length': 102.0, 'trips': 1, 'mode': 'transit'}}\n",
      "{0: {'length': 49.0, 'trips': 1, 'mode': 'transit'}}\n",
      "{0: {'length': 436.0, 'trips': 1, 'mode': 'transit'}}\n",
      "{0: {'length': 72.0, 'trips': 1, 'mode': 'transit'}}\n",
      "{0: {'length': 8.0, 'trips': 1, 'mode': 'transit'}}\n",
      "{0: {'length': 14.0, 'trips': 1, 'mode': 'transit'}}\n",
      "{0: {'length': 44.0, 'trips': 1, 'mode': 'transit'}}\n",
      "{0: {'length': 76.0, 'trips': 1, 'mode': 'transit'}}\n",
      "{0: {'length': 21.0, 'trips': 2, 'mode': 'transit'}}\n",
      "{0: {'length': 64.0, 'trips': 1, 'mode': 'transit'}}\n",
      "{0: {'length': 36.0, 'trips': 1, 'mode': 'transit'}}\n",
      "{0: {'length': 52.0, 'trips': 1, 'mode': 'transit'}}\n",
      "{0: {'length': 78.0, 'trips': 2, 'mode': 'transit'}}\n",
      "{0: {'length': 106.5, 'trips': 2, 'mode': 'transit'}}\n",
      "{0: {'length': 277.0, 'trips': 1, 'mode': 'transit'}}\n",
      "{0: {'length': 167.0, 'trips': 1, 'mode': 'transit'}}\n",
      "{0: {'length': 66.0, 'trips': 1, 'mode': 'transit'}}\n",
      "{0: {'length': 76.0, 'trips': 1, 'mode': 'transit'}}\n",
      "{0: {'length': 17.0, 'trips': 1, 'mode': 'transit'}}\n",
      "{0: {'length': 34.0, 'trips': 2, 'mode': 'transit'}}\n",
      "{0: {'length': 26.0, 'trips': 1, 'mode': 'transit'}}\n",
      "{0: {'length': 310.0, 'trips': 1, 'mode': 'transit'}}\n",
      "{0: {'length': 177.0, 'trips': 1, 'mode': 'transit'}}\n",
      "{0: {'length': 61.0, 'trips': 1, 'mode': 'transit'}}\n",
      "{0: {'length': 15.0, 'trips': 1, 'mode': 'transit'}}\n",
      "{0: {'length': 84.0, 'trips': 1, 'mode': 'transit'}}\n",
      "{0: {'length': 121.0, 'trips': 1, 'mode': 'transit'}}\n",
      "{0: {'length': 126.0, 'trips': 1, 'mode': 'transit'}}\n",
      "{0: {'length': 104.0, 'trips': 3, 'mode': 'transit'}}\n",
      "{0: {'length': 73.0, 'trips': 1, 'mode': 'transit'}}\n",
      "{0: {'length': 66.0, 'trips': 1, 'mode': 'transit'}}\n",
      "{0: {'length': 53.0, 'trips': 1, 'mode': 'transit'}}\n",
      "{0: {'length': 60.5, 'trips': 2, 'mode': 'transit'}}\n",
      "{0: {'length': 38.0, 'trips': 2, 'mode': 'transit'}}\n",
      "{0: {'length': 850.0, 'trips': 1, 'mode': 'transit'}}\n",
      "{0: {'length': 48.0, 'trips': 2, 'mode': 'transit'}}\n",
      "{0: {'length': 86.0, 'trips': 1, 'mode': 'transit'}}\n",
      "{0: {'length': 426.0, 'trips': 1, 'mode': 'transit'}}\n",
      "{0: {'length': 732.0, 'trips': 1, 'mode': 'transit'}}\n",
      "{0: {'length': 128.0, 'trips': 1, 'mode': 'transit'}}\n",
      "{0: {'length': 1085.0, 'trips': 1, 'mode': 'transit'}}\n",
      "{0: {'length': 116.0, 'trips': 1, 'mode': 'transit'}}\n",
      "{0: {'length': 20.0, 'trips': 1, 'mode': 'transit'}}\n",
      "{0: {'length': 29.5, 'trips': 2, 'mode': 'transit'}}\n",
      "{0: {'length': 63.0, 'trips': 2, 'mode': 'transit'}}\n",
      "{0: {'length': 137.0, 'trips': 1, 'mode': 'transit'}}\n",
      "{0: {'length': 249.0, 'trips': 1, 'mode': 'transit'}}\n",
      "{0: {'length': 150.0, 'trips': 1, 'mode': 'transit'}}\n",
      "{0: {'length': 172.0, 'trips': 1, 'mode': 'transit'}}\n",
      "{0: {'length': 99.0, 'trips': 1, 'mode': 'transit'}}\n",
      "{0: {'length': 103.0, 'trips': 3, 'mode': 'transit'}}\n",
      "{0: {'length': 54.0, 'trips': 1, 'mode': 'transit'}}\n",
      "{0: {'length': 142.0, 'trips': 1, 'mode': 'transit'}}\n",
      "{0: {'length': 120.0, 'trips': 1, 'mode': 'transit'}}\n",
      "{0: {'length': 220.5, 'trips': 2, 'mode': 'transit'}}\n",
      "{0: {'length': 358.0, 'trips': 1, 'mode': 'transit'}}\n",
      "{0: {'length': 38.0, 'trips': 1, 'mode': 'transit'}}\n",
      "{0: {'length': 22.0, 'trips': 1, 'mode': 'transit'}}\n",
      "{0: {'length': 100.0, 'trips': 1, 'mode': 'transit'}}\n",
      "{0: {'length': 37.333333333333336, 'trips': 3, 'mode': 'transit'}}\n",
      "{0: {'length': 57.0, 'trips': 1, 'mode': 'transit'}}\n",
      "{0: {'length': 29.0, 'trips': 1, 'mode': 'transit'}}\n",
      "{0: {'length': 153.0, 'trips': 1, 'mode': 'transit'}}\n",
      "{0: {'length': 24.0, 'trips': 1, 'mode': 'transit'}}\n",
      "{0: {'length': 34.0, 'trips': 1, 'mode': 'transit'}}\n",
      "{0: {'length': 269.0, 'trips': 1, 'mode': 'transit'}}\n",
      "{0: {'length': 98.0, 'trips': 1, 'mode': 'transit'}}\n",
      "{0: {'length': 45.0, 'trips': 1, 'mode': 'transit'}}\n",
      "{0: {'length': 113.0, 'trips': 1, 'mode': 'transit'}}\n",
      "{0: {'length': 36.0, 'trips': 2, 'mode': 'transit'}}\n",
      "{0: {'length': 1801.0, 'trips': 1, 'mode': 'transit'}}\n",
      "{0: {'length': 26.5, 'trips': 2, 'mode': 'transit'}}\n",
      "{0: {'length': 80.0, 'trips': 1, 'mode': 'transit'}}\n",
      "{0: {'length': 145.33333333333334, 'trips': 3, 'mode': 'transit'}}\n",
      "{0: {'length': 489.0, 'trips': 1, 'mode': 'transit'}}\n",
      "{0: {'length': 597.0, 'trips': 1, 'mode': 'transit'}}\n",
      "{0: {'length': 88.0, 'trips': 1, 'mode': 'transit'}}\n",
      "{0: {'length': 88.0, 'trips': 1, 'mode': 'transit'}}\n",
      "{0: {'length': 49.0, 'trips': 3, 'mode': 'transit'}}\n",
      "{0: {'length': 135.0, 'trips': 1, 'mode': 'transit'}}\n",
      "{0: {'length': 82.0, 'trips': 1, 'mode': 'transit'}}\n",
      "{0: {'length': 30.0, 'trips': 1, 'mode': 'transit'}}\n",
      "{0: {'length': 22.0, 'trips': 1, 'mode': 'transit'}}\n",
      "{0: {'length': 76.0, 'trips': 1, 'mode': 'transit'}}\n",
      "{0: {'length': 309.0, 'trips': 1, 'mode': 'transit'}}\n",
      "{0: {'length': 70.0, 'trips': 1, 'mode': 'transit'}}\n",
      "{0: {'length': 64.0, 'trips': 1, 'mode': 'transit'}}\n",
      "{0: {'length': 78.0, 'trips': 1, 'mode': 'transit'}}\n",
      "{0: {'length': 44.0, 'trips': 1, 'mode': 'transit'}}\n",
      "{0: {'length': 402.0, 'trips': 1, 'mode': 'transit'}}\n",
      "{0: {'length': 16.0, 'trips': 1, 'mode': 'transit'}}\n",
      "{0: {'length': 24.0, 'trips': 2, 'mode': 'transit'}}\n",
      "{0: {'length': 20.0, 'trips': 1, 'mode': 'transit'}}\n",
      "{0: {'length': 52.0, 'trips': 1, 'mode': 'transit'}}\n",
      "{0: {'length': 1027.0, 'trips': 1, 'mode': 'transit'}}\n",
      "{0: {'length': 370.0, 'trips': 1, 'mode': 'transit'}}\n",
      "{0: {'length': 70.0, 'trips': 3, 'mode': 'transit'}}\n",
      "{0: {'length': 84.0, 'trips': 1, 'mode': 'transit'}}\n",
      "{0: {'length': 194.0, 'trips': 1, 'mode': 'transit'}}\n",
      "{0: {'length': 45.0, 'trips': 1, 'mode': 'transit'}}\n",
      "{0: {'length': 63.0, 'trips': 1, 'mode': 'transit'}}\n",
      "{0: {'length': 12.0, 'trips': 2, 'mode': 'transit'}}\n",
      "{0: {'length': 41.0, 'trips': 2, 'mode': 'transit'}}\n",
      "{0: {'length': 71.0, 'trips': 1, 'mode': 'transit'}}\n",
      "{0: {'length': 71.0, 'trips': 1, 'mode': 'transit'}}\n",
      "{0: {'length': 338.5, 'trips': 2, 'mode': 'transit'}}\n",
      "{0: {'length': 222.0, 'trips': 1, 'mode': 'transit'}}\n",
      "{0: {'length': 536.0, 'trips': 1, 'mode': 'transit'}}\n",
      "{0: {'length': 210.0, 'trips': 1, 'mode': 'transit'}}\n",
      "{0: {'length': 58.0, 'trips': 2, 'mode': 'transit'}}\n",
      "{0: {'length': 34.0, 'trips': 1, 'mode': 'transit'}}\n",
      "{0: {'length': 55.0, 'trips': 3, 'mode': 'transit'}}\n",
      "{0: {'length': 561.0, 'trips': 1, 'mode': 'transit'}}\n",
      "{0: {'length': 69.5, 'trips': 2, 'mode': 'transit'}}\n",
      "{0: {'length': 75.0, 'trips': 1, 'mode': 'transit'}}\n",
      "{0: {'length': 40.5, 'trips': 2, 'mode': 'transit'}}\n",
      "{0: {'length': 65.0, 'trips': 1, 'mode': 'transit'}}\n",
      "{0: {'length': 117.33333333333333, 'trips': 3, 'mode': 'transit'}}\n",
      "{0: {'length': 103.0, 'trips': 1, 'mode': 'transit'}}\n",
      "{0: {'length': 46.0, 'trips': 1, 'mode': 'transit'}}\n",
      "{0: {'length': 285.0, 'trips': 1, 'mode': 'transit'}}\n",
      "{0: {'length': 104.0, 'trips': 2, 'mode': 'transit'}}\n",
      "{0: {'length': 76.0, 'trips': 1, 'mode': 'transit'}}\n",
      "{0: {'length': 57.5, 'trips': 2, 'mode': 'transit'}}\n",
      "{0: {'length': 125.0, 'trips': 1, 'mode': 'transit'}}\n",
      "{0: {'length': 604.0, 'trips': 1, 'mode': 'transit'}}\n",
      "{0: {'length': 60.333333333333336, 'trips': 3, 'mode': 'transit'}}\n",
      "{0: {'length': 422.0, 'trips': 1, 'mode': 'transit'}}\n",
      "{0: {'length': 309.0, 'trips': 1, 'mode': 'transit'}}\n",
      "{0: {'length': 228.0, 'trips': 1, 'mode': 'transit'}}\n",
      "{0: {'length': 78.0, 'trips': 1, 'mode': 'transit'}}\n",
      "{0: {'length': 65.0, 'trips': 1, 'mode': 'transit'}}\n",
      "{0: {'length': 2905.0, 'trips': 1, 'mode': 'transit'}}\n",
      "{0: {'length': 197.0, 'trips': 1, 'mode': 'transit'}}\n",
      "{0: {'length': 298.0, 'trips': 1, 'mode': 'transit'}}\n",
      "{0: {'length': 38.0, 'trips': 1, 'mode': 'transit'}}\n",
      "{0: {'length': 852.0, 'trips': 1, 'mode': 'transit'}}\n",
      "{0: {'length': 72.0, 'trips': 1, 'mode': 'transit'}}\n",
      "{0: {'length': 59.5, 'trips': 2, 'mode': 'transit'}}\n",
      "{0: {'length': 46.0, 'trips': 1, 'mode': 'transit'}}\n",
      "{0: {'length': 89.0, 'trips': 1, 'mode': 'transit'}}\n",
      "{0: {'length': 1155.0, 'trips': 1, 'mode': 'transit'}}\n",
      "{0: {'length': 85.0, 'trips': 1, 'mode': 'transit'}}\n",
      "{0: {'length': 39.0, 'trips': 2, 'mode': 'transit'}}\n",
      "{0: {'length': 46.5, 'trips': 2, 'mode': 'transit'}}\n",
      "{0: {'length': 98.0, 'trips': 1, 'mode': 'transit'}}\n",
      "{0: {'length': 51.0, 'trips': 1, 'mode': 'transit'}}\n",
      "{0: {'length': 142.0, 'trips': 1, 'mode': 'transit'}}\n",
      "{0: {'length': 64.0, 'trips': 1, 'mode': 'transit'}}\n",
      "{0: {'length': 50.666666666666664, 'trips': 3, 'mode': 'transit'}}\n",
      "{0: {'length': 92.0, 'trips': 1, 'mode': 'transit'}}\n",
      "{0: {'length': 73.0, 'trips': 1, 'mode': 'transit'}}\n",
      "{0: {'length': 83.0, 'trips': 2, 'mode': 'transit'}}\n",
      "{0: {'length': 67.0, 'trips': 2, 'mode': 'transit'}}\n",
      "{0: {'length': 378.0, 'trips': 1, 'mode': 'transit'}}\n",
      "{0: {'length': 39.0, 'trips': 1, 'mode': 'transit'}}\n",
      "{0: {'length': 96.0, 'trips': 1, 'mode': 'transit'}}\n",
      "{0: {'length': 32.5, 'trips': 2, 'mode': 'transit'}}\n",
      "{0: {'length': 611.0, 'trips': 1, 'mode': 'transit'}}\n",
      "{0: {'length': 243.0, 'trips': 1, 'mode': 'transit'}}\n",
      "{0: {'length': 83.0, 'trips': 1, 'mode': 'transit'}}\n",
      "{0: {'length': 257.0, 'trips': 1, 'mode': 'transit'}}\n",
      "{0: {'length': 73.0, 'trips': 2, 'mode': 'transit'}}\n",
      "{0: {'length': 346.0, 'trips': 1, 'mode': 'transit'}}\n",
      "{0: {'length': 112.0, 'trips': 1, 'mode': 'transit'}}\n",
      "{0: {'length': 87.5, 'trips': 2, 'mode': 'transit'}}\n",
      "{0: {'length': 198.0, 'trips': 1, 'mode': 'transit'}}\n",
      "{0: {'length': 45.5, 'trips': 2, 'mode': 'transit'}}\n",
      "{0: {'length': 55.0, 'trips': 1, 'mode': 'transit'}}\n",
      "{0: {'length': 138.0, 'trips': 1, 'mode': 'transit'}}\n",
      "{0: {'length': 102.0, 'trips': 1, 'mode': 'transit'}}\n",
      "{0: {'length': 147.0, 'trips': 1, 'mode': 'transit'}}\n",
      "{0: {'length': 424.0, 'trips': 1, 'mode': 'transit'}}\n",
      "{0: {'length': 104.0, 'trips': 2, 'mode': 'transit'}}\n",
      "{0: {'length': 90.0, 'trips': 1, 'mode': 'transit'}}\n",
      "{0: {'length': 40.0, 'trips': 1, 'mode': 'transit'}}\n",
      "{0: {'length': 487.0, 'trips': 1, 'mode': 'transit'}}\n",
      "{0: {'length': 215.0, 'trips': 1, 'mode': 'transit'}}\n",
      "{0: {'length': 53.0, 'trips': 1, 'mode': 'transit'}}\n",
      "{0: {'length': 51.0, 'trips': 1, 'mode': 'transit'}}\n",
      "{0: {'length': 66.0, 'trips': 2, 'mode': 'transit'}}\n",
      "{0: {'length': 39.0, 'trips': 1, 'mode': 'transit'}}\n",
      "{0: {'length': 42.0, 'trips': 1, 'mode': 'transit'}}\n",
      "{0: {'length': 86.0, 'trips': 1, 'mode': 'transit'}}\n",
      "{0: {'length': 218.0, 'trips': 1, 'mode': 'transit'}}\n",
      "{0: {'length': 33.5, 'trips': 2, 'mode': 'transit'}}\n",
      "{0: {'length': 100.0, 'trips': 1, 'mode': 'transit'}}\n",
      "{0: {'length': 91.0, 'trips': 1, 'mode': 'transit'}}\n",
      "{0: {'length': 138.0, 'trips': 1, 'mode': 'transit'}}\n",
      "{0: {'length': 34.5, 'trips': 2, 'mode': 'transit'}}\n",
      "{0: {'length': 122.0, 'trips': 1, 'mode': 'transit'}}\n",
      "{0: {'length': 122.0, 'trips': 1, 'mode': 'transit'}}\n",
      "{0: {'length': 57.333333333333336, 'trips': 3, 'mode': 'transit'}}\n",
      "{0: {'length': 213.0, 'trips': 1, 'mode': 'transit'}}\n",
      "{0: {'length': 40.0, 'trips': 1, 'mode': 'transit'}}\n",
      "{0: {'length': 100.0, 'trips': 1, 'mode': 'transit'}}\n",
      "{0: {'length': 806.0, 'trips': 1, 'mode': 'transit'}}\n",
      "{0: {'length': 94.5, 'trips': 2, 'mode': 'transit'}}\n",
      "{0: {'length': 56.0, 'trips': 1, 'mode': 'transit'}}\n",
      "{0: {'length': 34.0, 'trips': 1, 'mode': 'transit'}}\n",
      "{0: {'length': 987.0, 'trips': 1, 'mode': 'transit'}}\n",
      "{0: {'length': 302.0, 'trips': 1, 'mode': 'transit'}}\n",
      "{0: {'length': 355.0, 'trips': 1, 'mode': 'transit'}}\n",
      "{0: {'length': 44.0, 'trips': 1, 'mode': 'transit'}}\n",
      "{0: {'length': 129.0, 'trips': 2, 'mode': 'transit'}}\n",
      "{0: {'length': 42.0, 'trips': 1, 'mode': 'transit'}}\n",
      "{0: {'length': 156.0, 'trips': 1, 'mode': 'transit'}}\n",
      "{0: {'length': 48.0, 'trips': 1, 'mode': 'transit'}}\n",
      "{0: {'length': 39.0, 'trips': 1, 'mode': 'transit'}}\n",
      "{0: {'length': 136.0, 'trips': 1, 'mode': 'transit'}}\n",
      "{0: {'length': 126.0, 'trips': 1, 'mode': 'transit'}}\n",
      "{0: {'length': 154.0, 'trips': 1, 'mode': 'transit'}}\n",
      "{0: {'length': 107.0, 'trips': 1, 'mode': 'transit'}}\n",
      "{0: {'length': 61.0, 'trips': 1, 'mode': 'transit'}}\n",
      "{0: {'length': 41.0, 'trips': 1, 'mode': 'transit'}}\n",
      "{0: {'length': 66.5, 'trips': 2, 'mode': 'transit'}}\n",
      "{0: {'length': 70.0, 'trips': 1, 'mode': 'transit'}}\n",
      "{0: {'length': 546.0, 'trips': 1, 'mode': 'transit'}}\n",
      "{0: {'length': 69.5, 'trips': 2, 'mode': 'transit'}}\n",
      "{0: {'length': 44.0, 'trips': 1, 'mode': 'transit'}}\n",
      "{0: {'length': 76.0, 'trips': 1, 'mode': 'transit'}}\n",
      "{0: {'length': 94.0, 'trips': 1, 'mode': 'transit'}}\n",
      "{0: {'length': 67.33333333333333, 'trips': 3, 'mode': 'transit'}}\n",
      "{0: {'length': 179.0, 'trips': 1, 'mode': 'transit'}}\n",
      "{0: {'length': 80.0, 'trips': 1, 'mode': 'transit'}}\n",
      "{0: {'length': 98.0, 'trips': 1, 'mode': 'transit'}}\n",
      "{0: {'length': 391.0, 'trips': 1, 'mode': 'transit'}}\n",
      "{0: {'length': 199.0, 'trips': 1, 'mode': 'transit'}}\n",
      "{0: {'length': 14.0, 'trips': 1, 'mode': 'transit'}}\n",
      "{0: {'length': 30.0, 'trips': 1, 'mode': 'transit'}}\n",
      "{0: {'length': 52.0, 'trips': 1, 'mode': 'transit'}}\n",
      "{0: {'length': 177.0, 'trips': 1, 'mode': 'transit'}}\n",
      "{0: {'length': 57.0, 'trips': 1, 'mode': 'transit'}}\n",
      "{0: {'length': 66.25, 'trips': 4, 'mode': 'transit'}}\n",
      "{0: {'length': 345.0, 'trips': 1, 'mode': 'transit'}}\n",
      "{0: {'length': 137.0, 'trips': 2, 'mode': 'transit'}}\n",
      "{0: {'length': 627.0, 'trips': 1, 'mode': 'transit'}}\n",
      "{0: {'length': 188.0, 'trips': 1, 'mode': 'transit'}}\n",
      "{0: {'length': 449.0, 'trips': 1, 'mode': 'transit'}}\n",
      "{0: {'length': 89.0, 'trips': 1, 'mode': 'transit'}}\n",
      "{0: {'length': 292.0, 'trips': 1, 'mode': 'transit'}}\n",
      "{0: {'length': 150.0, 'trips': 2, 'mode': 'transit'}}\n",
      "{0: {'length': 235.0, 'trips': 1, 'mode': 'transit'}}\n",
      "{0: {'length': 47.0, 'trips': 1, 'mode': 'transit'}}\n",
      "{0: {'length': 41.0, 'trips': 2, 'mode': 'transit'}}\n",
      "{0: {'length': 22.0, 'trips': 1, 'mode': 'transit'}}\n",
      "{0: {'length': 247.0, 'trips': 1, 'mode': 'transit'}}\n",
      "{0: {'length': 28.0, 'trips': 1, 'mode': 'transit'}}\n",
      "{0: {'length': 115.0, 'trips': 1, 'mode': 'transit'}}\n",
      "{0: {'length': 35.0, 'trips': 1, 'mode': 'transit'}}\n",
      "{0: {'length': 275.0, 'trips': 1, 'mode': 'transit'}}\n",
      "{0: {'length': 252.0, 'trips': 1, 'mode': 'transit'}}\n",
      "{0: {'length': 33.0, 'trips': 1, 'mode': 'transit'}}\n",
      "{0: {'length': 177.0, 'trips': 1, 'mode': 'transit'}}\n",
      "{0: {'length': 99.0, 'trips': 1, 'mode': 'transit'}}\n",
      "{0: {'length': 138.0, 'trips': 1, 'mode': 'transit'}}\n",
      "{0: {'length': 86.0, 'trips': 1, 'mode': 'transit'}}\n",
      "{0: {'length': 364.0, 'trips': 2, 'mode': 'transit'}}\n",
      "{0: {'length': 152.0, 'trips': 2, 'mode': 'transit'}}\n",
      "{0: {'length': 105.0, 'trips': 1, 'mode': 'transit'}}\n",
      "{0: {'length': 213.0, 'trips': 1, 'mode': 'transit'}}\n",
      "{0: {'length': 222.0, 'trips': 1, 'mode': 'transit'}}\n",
      "{0: {'length': 125.0, 'trips': 1, 'mode': 'transit'}}\n",
      "{0: {'length': 94.0, 'trips': 1, 'mode': 'transit'}}\n",
      "{0: {'length': 152.0, 'trips': 1, 'mode': 'transit'}}\n",
      "{0: {'length': 34.0, 'trips': 1, 'mode': 'transit'}}\n",
      "{0: {'length': 80.0, 'trips': 1, 'mode': 'transit'}}\n",
      "{0: {'length': 168.0, 'trips': 1, 'mode': 'transit'}}\n",
      "{0: {'length': 257.0, 'trips': 1, 'mode': 'transit'}}\n",
      "{0: {'length': 811.0, 'trips': 1, 'mode': 'transit'}}\n",
      "{0: {'length': 198.0, 'trips': 1, 'mode': 'transit'}}\n",
      "{0: {'length': 79.0, 'trips': 1, 'mode': 'transit'}}\n",
      "{0: {'length': 32.0, 'trips': 1, 'mode': 'transit'}}\n",
      "{0: {'length': 648.0, 'trips': 1, 'mode': 'transit'}}\n",
      "{0: {'length': 83.0, 'trips': 1, 'mode': 'transit'}}\n",
      "{0: {'length': 65.0, 'trips': 1, 'mode': 'transit'}}\n",
      "{0: {'length': 1736.0, 'trips': 1, 'mode': 'transit'}}\n",
      "{0: {'length': 54.0, 'trips': 1, 'mode': 'transit'}}\n",
      "{0: {'length': 112.0, 'trips': 1, 'mode': 'transit'}}\n",
      "{0: {'length': 34.5, 'trips': 2, 'mode': 'transit'}}\n",
      "{0: {'length': 116.0, 'trips': 1, 'mode': 'transit'}}\n",
      "{0: {'length': 268.0, 'trips': 1, 'mode': 'transit'}}\n",
      "{0: {'length': 74.0, 'trips': 1, 'mode': 'transit'}}\n",
      "{0: {'length': 172.0, 'trips': 1, 'mode': 'transit'}}\n",
      "{0: {'length': 60.0, 'trips': 1, 'mode': 'transit'}}\n",
      "{0: {'length': 34.0, 'trips': 1, 'mode': 'transit'}}\n",
      "{0: {'length': 122.0, 'trips': 1, 'mode': 'transit'}}\n",
      "{0: {'length': 39.0, 'trips': 2, 'mode': 'transit'}}\n",
      "{0: {'length': 347.0, 'trips': 1, 'mode': 'transit'}}\n",
      "{0: {'length': 41.0, 'trips': 1, 'mode': 'transit'}}\n",
      "{0: {'length': 120.0, 'trips': 1, 'mode': 'transit'}}\n",
      "{0: {'length': 35.0, 'trips': 1, 'mode': 'transit'}}\n",
      "{0: {'length': 465.0, 'trips': 1, 'mode': 'transit'}}\n",
      "{0: {'length': 88.0, 'trips': 1, 'mode': 'transit'}}\n"
     ]
    }
   ],
   "source": [
    "for edge in list(G.edges):\n",
    "    print(G.get_edge_data(edge[0],edge[1]))"
   ]
  },
  {
   "cell_type": "markdown",
   "metadata": {},
   "source": [
    "### get feed 2"
   ]
  },
  {
   "cell_type": "code",
   "execution_count": 63,
   "metadata": {},
   "outputs": [
    {
     "name": "stdout",
     "output_type": "stream",
     "text": [
      "service_ids is frozenset({'service_0002'})\n"
     ]
    }
   ],
   "source": [
    "service_ids_by_date = ptg.read_service_ids_by_date(path)\n",
    "service_ids = service_ids_by_date[datetime.date(2019,8,6)]\n",
    "\n",
    "print(f\"service_ids is {service_ids}\")\n",
    "\n",
    "# view lets you filter before you load the feed. For example, below you are filtering by the service_ids\n",
    "feed_0002 = ptg.load_feed(path, view={\n",
    "    'trips.txt': {\n",
    "        'service_id': service_ids,\n",
    "    },\n",
    "})"
   ]
  },
  {
   "cell_type": "markdown",
   "metadata": {},
   "source": [
    "### Inspect graph as a shapefile\n",
    "Used for testing"
   ]
  },
  {
   "cell_type": "code",
   "execution_count": 64,
   "metadata": {},
   "outputs": [],
   "source": [
    "# Get reference to GOSTNets\n",
    "#sys.path.append(r'C:\\repos\\GOSTnets')\n",
    "#import GOSTnets as gn"
   ]
  },
  {
   "cell_type": "code",
   "execution_count": 65,
   "metadata": {},
   "outputs": [],
   "source": [
    "#gn.save(G,\"gtfs_export_cap_haitien_service0001\",r\"temp\")\n",
    "#gn.save(G,\"gtfs_export_cap_haitien_service0002\",r\"temp\")\n",
    "# Also these saved edges will be used in the optional PostProcessing notebook to compare differences between the two graphs"
   ]
  },
  {
   "cell_type": "markdown",
   "metadata": {},
   "source": [
    "note: On inspection the edges have a length field. This length field is the average traversal time per edge based on the GTFS data in seconds."
   ]
  },
  {
   "cell_type": "markdown",
   "metadata": {},
   "source": [
    "## Merge a walk network\n",
    "following this blog post: http://kuanbutts.com/2018/12/24/peartree-with-walk-network/"
   ]
  },
  {
   "cell_type": "markdown",
   "metadata": {},
   "source": [
    "## For the Step three you need to merge the advanced snapped graphs with the GTFS feed\n",
    "## For the betweeness centrality notebook you will merge the basic graph with the GTFS feed"
   ]
  },
  {
   "cell_type": "code",
   "execution_count": 66,
   "metadata": {},
   "outputs": [],
   "source": [
    "# load existing graphs from step 1\n",
    "\n",
    "G_walk_basic = nx.read_gpickle(r\"temp\\clipped_cap_haitien_walk_w_ferries_via_osmnx.pickle\")\n",
    "G_walk_flooded_basic = nx.read_gpickle(r\"temp\\flooded_clipped_cap_haitien_walk_w_ferries_via_osmnx.pickle\")\n",
    "\n",
    "G_walk_adv_snap = nx.read_gpickle(r\"temp\\clipped4_cap_haitien_walk_w_ferries_via_osmnx_origins_adv_snap.pickle\")\n",
    "G_walk_flooded_adv_snap = nx.read_gpickle(r\"temp\\flooded4_clipped_cap_haitien_drive_w_ferries_via_osmnx_origins_adv_snap.pickle\")\n",
    "G_drive_adv_snap = nx.read_gpickle(r\"temp\\clipped4_cap_haitien_drive_w_ferries_via_osmnx_origins_adv_snap.pickle\")"
   ]
  },
  {
   "cell_type": "code",
   "execution_count": 67,
   "metadata": {
    "scrolled": true
   },
   "outputs": [
    {
     "name": "stdout",
     "output_type": "stream",
     "text": [
      "Name: 7W4V3\n",
      "Type: MultiDiGraph\n",
      "Number of nodes: 261\n",
      "Number of edges: 342\n",
      "Average in degree:   1.3103\n",
      "Average out degree:   1.3103\n"
     ]
    }
   ],
   "source": [
    "print(nx.info(G))"
   ]
  },
  {
   "cell_type": "code",
   "execution_count": 68,
   "metadata": {},
   "outputs": [],
   "source": [
    "graph_dict = {'G_walk_basic': G_walk_basic,\n",
    "              'G_walk_flooded_basic': G_walk_flooded_basic,\n",
    "              'G_walk_adv_snap': G_walk_adv_snap,\n",
    "              'G_walk_flooded_adv_snap': G_walk_flooded_adv_snap,\n",
    "              'G_drive_adv_snap': G_drive_adv_snap}"
   ]
  },
  {
   "cell_type": "markdown",
   "metadata": {},
   "source": [
    "### For Walk graphs assign traversal times in seconds to edges\n",
    "Since peartree represents edge length (that is the impedance value associated with the edge) in seconds; we will need to convert the edge values that are in meters into seconds:"
   ]
  },
  {
   "cell_type": "code",
   "execution_count": 69,
   "metadata": {},
   "outputs": [],
   "source": [
    "def assign_traversal_times(G):\n",
    "    walk_speed = 3.5 #km per hour; about 3 miles per hour\n",
    "    ferry_speed = 15\n",
    "\n",
    "    # Make a copy of the graph in case we make a mistake\n",
    "    G_adj = G.copy()\n",
    "\n",
    "    ferry_count = 0\n",
    "\n",
    "    # Iterate through and convert lengths to seconds\n",
    "    for from_node, to_node, edge in G_adj.edges(data=True):\n",
    "        orig_len = edge['length']\n",
    "\n",
    "        # Note that this is a MultiDiGraph so there could\n",
    "        # be multiple indices here\n",
    "\n",
    "        for edge in G_adj[from_node][to_node]:\n",
    "            orig_len =  G_adj[from_node][to_node][edge]['length']\n",
    "            G_adj[from_node][to_node][edge]['orig_length'] = orig_len\n",
    "\n",
    "            #if G_adj[from_node][to_node][0].get('ferry')\n",
    "\n",
    "            if 'ferry' in G_adj[from_node][to_node][edge]:\n",
    "                ferry_count += 1\n",
    "\n",
    "                ferry_var = G_adj[from_node][to_node][edge]['ferry']\n",
    "\n",
    "                if ferry_var == \"unclassified\":\n",
    "                    #print(G_adj[from_node][to_node][edge]['ferry'])\n",
    "                    #print(G_adj[from_node][to_node][edge])\n",
    "\n",
    "                    # Conversion of walk speed and into seconds from meters\n",
    "                    kmph = (orig_len / 1000) / ferry_speed\n",
    "                    in_seconds = kmph * 60 * 60\n",
    "                    G_adj[from_node][to_node][edge]['length'] = in_seconds\n",
    "\n",
    "                    # And state the mode, too\n",
    "                    G_adj[from_node][to_node][edge]['mode'] = 'ferry'\n",
    "                else:\n",
    "                    # Conversion of walk speed and into seconds from meters\n",
    "                    kmph = (orig_len / 1000) / walk_speed\n",
    "                    in_seconds = kmph * 60 * 60\n",
    "                    G_adj[from_node][to_node][edge]['length'] = in_seconds\n",
    "\n",
    "                    # And state the mode, too\n",
    "                    G_adj[from_node][to_node][edge]['mode'] = 'walk'\n",
    "            else:\n",
    "                # Conversion of walk speed and into seconds from meters\n",
    "                kmph = (orig_len / 1000) / walk_speed\n",
    "                in_seconds = kmph * 60 * 60\n",
    "                G_adj[from_node][to_node][edge]['length'] = in_seconds\n",
    "\n",
    "                # And state the mode, too\n",
    "                G_adj[from_node][to_node][edge]['mode'] = 'walk'\n",
    "    \n",
    "    # So this should be easy - just go through all nodes\n",
    "    # and make them have a 0 cost to board\n",
    "    for i, node in G_adj.nodes(data=True):\n",
    "        G_adj.nodes[i]['boarding_cost'] = 0\n",
    "    \n",
    "    return G_adj"
   ]
  },
  {
   "cell_type": "code",
   "execution_count": 70,
   "metadata": {},
   "outputs": [],
   "source": [
    "adj_graph_dict = {}\n",
    "for key,value in graph_dict.items():\n",
    "    adj_graph_dict[key] = assign_traversal_times(graph_dict[key])"
   ]
  },
  {
   "cell_type": "code",
   "execution_count": 71,
   "metadata": {
    "scrolled": true
   },
   "outputs": [
    {
     "data": {
      "text/plain": [
       "{'G_walk_basic': <networkx.classes.multidigraph.MultiDiGraph at 0x1c6d281cf40>,\n",
       " 'G_walk_flooded_basic': <networkx.classes.multidigraph.MultiDiGraph at 0x1c6b986ab20>,\n",
       " 'G_walk_adv_snap': <networkx.classes.multidigraph.MultiDiGraph at 0x1c6b97f63a0>,\n",
       " 'G_walk_flooded_adv_snap': <networkx.classes.multidigraph.MultiDiGraph at 0x1c6d29f73d0>,\n",
       " 'G_drive_adv_snap': <networkx.classes.multidigraph.MultiDiGraph at 0x1c6b994bfd0>}"
      ]
     },
     "execution_count": 71,
     "metadata": {},
     "output_type": "execute_result"
    }
   ],
   "source": [
    "adj_graph_dict"
   ]
  },
  {
   "cell_type": "code",
   "execution_count": 72,
   "metadata": {},
   "outputs": [
    {
     "data": {
      "text/plain": [
       "{'osmid': 48390244,\n",
       " 'ref': 'RN 1',\n",
       " 'name': 'Route Nationale # 1',\n",
       " 'highway': 'primary',\n",
       " 'oneway': False,\n",
       " 'length': 36.10285714285714,\n",
       " 'orig_length': 35.1,\n",
       " 'mode': 'walk'}"
      ]
     },
     "execution_count": 72,
     "metadata": {},
     "output_type": "execute_result"
    }
   ],
   "source": [
    "adj_graph_dict['G_walk_flooded_basic'][619360366][2176357009][0]"
   ]
  },
  {
   "cell_type": "code",
   "execution_count": 73,
   "metadata": {},
   "outputs": [
    {
     "data": {
      "text/plain": [
       "{'osmid': 218402959,\n",
       " 'name': 'Route Boisdaut',\n",
       " 'highway': 'unclassified',\n",
       " 'oneway': False,\n",
       " 'length': 260.24526367346937,\n",
       " 'geometry': <shapely.geometry.linestring.LineString at 0x1c6d2a0e070>,\n",
       " 'orig_length': 253.01622857142857,\n",
       " 'mode': 'walk'}"
      ]
     },
     "execution_count": 73,
     "metadata": {},
     "output_type": "execute_result"
    }
   ],
   "source": [
    "adj_graph_dict['G_walk_flooded_basic'][330725194][2322274029][0]"
   ]
  },
  {
   "cell_type": "code",
   "execution_count": 74,
   "metadata": {},
   "outputs": [
    {
     "data": {
      "text/plain": [
       "{'osmid': 223315661,\n",
       " 'highway': 'path',\n",
       " 'oneway': False,\n",
       " 'length': 512.0342595918368,\n",
       " 'geometry': <shapely.geometry.linestring.LineString at 0x1c6d2a0e3d0>,\n",
       " 'orig_length': 497.81108571428575,\n",
       " 'mode': 'walk'}"
      ]
     },
     "execution_count": 74,
     "metadata": {},
     "output_type": "execute_result"
    }
   ],
   "source": [
    "adj_graph_dict['G_walk_flooded_basic'][330725194][2322274029][1]"
   ]
  },
  {
   "cell_type": "code",
   "execution_count": 75,
   "metadata": {},
   "outputs": [
    {
     "data": {
      "text/plain": [
       "AdjacencyView({8831849375: {0: {'osmid': 721705086, 'highway': 'residential', 'oneway': False, 'length': 66.18857142857142, 'orig_length': 64.35, 'mode': 'walk'}}, 8831849379: {0: {'osmid': 952714381, 'highway': 'residential', 'oneway': False, 'length': 93.51977142857145, 'orig_length': 90.922, 'mode': 'walk'}}, 614618596: {0: {'osmid': 952714381, 'highway': 'residential', 'oneway': False, 'length': 144.8578285714286, 'orig_length': 140.834, 'mode': 'walk'}}, 8831849374: {0: {'osmid': 954236059, 'highway': 'residential', 'oneway': False, 'length': 66.17417142857143, 'orig_length': 64.336, 'mode': 'walk'}}})"
      ]
     },
     "execution_count": 75,
     "metadata": {},
     "output_type": "execute_result"
    }
   ],
   "source": [
    "adj_graph_dict['G_walk_flooded_basic'][6770195160]"
   ]
  },
  {
   "cell_type": "code",
   "execution_count": 76,
   "metadata": {},
   "outputs": [],
   "source": [
    "sys.path.append(r'C:\\repos\\GOSTnets')\n",
    "import GOSTnets as gn"
   ]
  },
  {
   "cell_type": "code",
   "execution_count": 77,
   "metadata": {},
   "outputs": [
    {
     "name": "stdout",
     "output_type": "stream",
     "text": [
      "(330725194, {'y': 19.71362, 'x': -72.175561, 'street_count': 4, 'boarding_cost': 0})\n",
      "(330725346, {'y': 19.7546605, 'x': -72.204247, 'street_count': 4, 'boarding_cost': 0})\n"
     ]
    }
   ],
   "source": [
    "gn.example_node(adj_graph_dict['G_walk_flooded_basic'],2)"
   ]
  },
  {
   "cell_type": "code",
   "execution_count": 78,
   "metadata": {},
   "outputs": [],
   "source": [
    "# testing\n",
    "#list(G_adj.edges(data=True))[1]"
   ]
  },
  {
   "cell_type": "code",
   "execution_count": 79,
   "metadata": {},
   "outputs": [],
   "source": [
    "#G_walk[1110007004][9990002810][0]['length']\n",
    "#G_adj[619360366][2176357009][0]"
   ]
  },
  {
   "cell_type": "markdown",
   "metadata": {},
   "source": [
    "## work on assigning speeds to the drive graph, remember that the 'length' attribute should be used to save time"
   ]
  },
  {
   "cell_type": "code",
   "execution_count": 80,
   "metadata": {},
   "outputs": [
    {
     "name": "stdout",
     "output_type": "stream",
     "text": [
      "(330725346, 614908804, {'geometry': <shapely.geometry.linestring.LineString object at 0x000001C6E1EA5F40>, 'lanes': nan, 'highway': 'unclassified', 'ref': nan, 'osmid': 48413285, 'oneway': False, 'ferry': nan, 'access': nan, 'length': 44.83748571428571, 'name': 'Rue 2', 'junction': nan, 'est_width': nan, 'bridge': nan, 'maxspeed': nan, 'node_ID': nan, 'orig_length': 43.592, 'mode': 'walk'})\n",
      "(330725346, 614908783, {'geometry': <shapely.geometry.linestring.LineString object at 0x000001C6E1EA5F70>, 'lanes': nan, 'highway': 'unclassified', 'ref': nan, 'osmid': 48413285, 'oneway': False, 'ferry': nan, 'access': nan, 'length': 50.101714285714294, 'name': 'Rue 2', 'junction': nan, 'est_width': nan, 'bridge': nan, 'maxspeed': nan, 'node_ID': nan, 'orig_length': 48.71, 'mode': 'walk'})\n",
      "(330725346, 616793092, {'geometry': <shapely.geometry.linestring.LineString object at 0x000001C6E1EA5FA0>, 'lanes': nan, 'highway': 'residential', 'ref': nan, 'osmid': 50759615, 'oneway': False, 'ferry': nan, 'access': nan, 'length': 52.501371428571424, 'name': 'Rue I', 'junction': nan, 'est_width': nan, 'bridge': nan, 'maxspeed': nan, 'node_ID': nan, 'orig_length': 51.043, 'mode': 'walk'})\n"
     ]
    }
   ],
   "source": [
    "gn.example_edge(adj_graph_dict['G_drive_adv_snap'],3)"
   ]
  },
  {
   "cell_type": "code",
   "execution_count": 81,
   "metadata": {},
   "outputs": [],
   "source": [
    "adj_graph_dict['G_drive_adv_snap'] = gn.convert_network_to_time(adj_graph_dict['G_drive_adv_snap'],'orig_length', output_time_col = 'length')"
   ]
  },
  {
   "cell_type": "code",
   "execution_count": 82,
   "metadata": {},
   "outputs": [
    {
     "name": "stdout",
     "output_type": "stream",
     "text": [
      "(330725346, 614908804, {'geometry': <shapely.geometry.linestring.LineString object at 0x000001C6E1EA5F40>, 'lanes': nan, 'highway': 'unclassified', 'ref': nan, 'osmid': 48413285, 'oneway': False, 'ferry': nan, 'access': nan, 'length': 7.84656, 'name': 'Rue 2', 'junction': nan, 'est_width': nan, 'bridge': nan, 'maxspeed': nan, 'node_ID': nan, 'orig_length': 43.592, 'mode': 'drive'})\n",
      "(330725346, 614908783, {'geometry': <shapely.geometry.linestring.LineString object at 0x000001C6E1EA5F70>, 'lanes': nan, 'highway': 'unclassified', 'ref': nan, 'osmid': 48413285, 'oneway': False, 'ferry': nan, 'access': nan, 'length': 8.767800000000001, 'name': 'Rue 2', 'junction': nan, 'est_width': nan, 'bridge': nan, 'maxspeed': nan, 'node_ID': nan, 'orig_length': 48.71, 'mode': 'drive'})\n",
      "(330725346, 616793092, {'geometry': <shapely.geometry.linestring.LineString object at 0x000001C6E1EA5FA0>, 'lanes': nan, 'highway': 'residential', 'ref': nan, 'osmid': 50759615, 'oneway': False, 'ferry': nan, 'access': nan, 'length': 9.18774, 'name': 'Rue I', 'junction': nan, 'est_width': nan, 'bridge': nan, 'maxspeed': nan, 'node_ID': nan, 'orig_length': 51.043, 'mode': 'drive'})\n"
     ]
    }
   ],
   "source": [
    "gn.example_edge(adj_graph_dict['G_drive_adv_snap'],3)"
   ]
  },
  {
   "cell_type": "markdown",
   "metadata": {},
   "source": [
    "## The drive graph will be used without merging with GTFS network"
   ]
  },
  {
   "cell_type": "code",
   "execution_count": 83,
   "metadata": {},
   "outputs": [],
   "source": [
    "gn.save(adj_graph_dict['G_drive_adv_snap'],\"clipped4_cap_haitien_drive_w_ferries_via_osmnx_w_time_adv_snap\",r\"temp\")"
   ]
  },
  {
   "cell_type": "markdown",
   "metadata": {},
   "source": [
    "## Also for the step 3 notebook we will be using versions of the advanced snap walk graphs that are not merged with the GTFS network"
   ]
  },
  {
   "cell_type": "code",
   "execution_count": 84,
   "metadata": {},
   "outputs": [],
   "source": [
    "gn.save(adj_graph_dict['G_walk_adv_snap'],\"clipped4_cap_haitien_walk_w_ferries_via_osmnx_origins_w_time_adv_snap\",r\"temp\")\n",
    "\n",
    "gn.save(adj_graph_dict['G_walk_flooded_adv_snap'],\"flooded4_clipped_cap_haitien_walk_w_ferries_via_osmnx_w_time_adv_snap\",r\"temp\")"
   ]
  },
  {
   "cell_type": "markdown",
   "metadata": {},
   "source": [
    "## Loading the feeds as graphs with the walking graph as the existing graph\n",
    "Now that the two graphs have the same internal structures, we can load the walk network onto the transit network with the following peartree helper method."
   ]
  },
  {
   "cell_type": "code",
   "execution_count": 85,
   "metadata": {},
   "outputs": [
    {
     "data": {
      "text/plain": [
       "<networkx.classes.multidigraph.MultiDiGraph at 0x1c6d29836a0>"
      ]
     },
     "execution_count": 85,
     "metadata": {},
     "output_type": "execute_result"
    }
   ],
   "source": [
    "adj_graph_dict_merge = adj_graph_dict.copy()\n",
    "adj_graph_dict_merge.pop('G_drive_adv_snap')"
   ]
  },
  {
   "cell_type": "code",
   "execution_count": 86,
   "metadata": {},
   "outputs": [
    {
     "data": {
      "text/plain": [
       "{'G_walk_basic': <networkx.classes.multidigraph.MultiDiGraph at 0x1c6d281cf40>,\n",
       " 'G_walk_flooded_basic': <networkx.classes.multidigraph.MultiDiGraph at 0x1c6b986ab20>,\n",
       " 'G_walk_adv_snap': <networkx.classes.multidigraph.MultiDiGraph at 0x1c6b97f63a0>,\n",
       " 'G_walk_flooded_adv_snap': <networkx.classes.multidigraph.MultiDiGraph at 0x1c6d29f73d0>}"
      ]
     },
     "execution_count": 86,
     "metadata": {},
     "output_type": "execute_result"
    }
   ],
   "source": [
    "adj_graph_dict_merge"
   ]
  },
  {
   "cell_type": "code",
   "execution_count": 87,
   "metadata": {},
   "outputs": [
    {
     "name": "stdout",
     "output_type": "stream",
     "text": [
      "G_walk_basic\n",
      "G_walk_flooded_basic\n",
      "G_walk_adv_snap\n",
      "G_walk_flooded_adv_snap\n"
     ]
    }
   ],
   "source": [
    "for key, value in adj_graph_dict_merge.items():\n",
    "    print(key)"
   ]
  },
  {
   "cell_type": "code",
   "execution_count": 88,
   "metadata": {},
   "outputs": [
    {
     "name": "stdout",
     "output_type": "stream",
     "text": [
      "Wall time: 2.66 s\n",
      "Wall time: 2.5 s\n",
      "Wall time: 4.5 s\n",
      "Wall time: 4.71 s\n"
     ]
    }
   ],
   "source": [
    "# Now that we have a formatted walk network\n",
    "# it should be easy to reload the peartree graph\n",
    "# and stack it on the walk network\n",
    "start = 0  # 0:00 \n",
    "end = 24*60*60  # 24:00 \n",
    "\n",
    "for key, value in adj_graph_dict_merge.items():\n",
    "\n",
    "    #feeds = {'service0001':feed_0001,'service0002':feed_0002}\n",
    "    feeds = {'service0001':feed_0001}\n",
    "    \n",
    "    for feed in feeds.items():\n",
    "        G_adj_copy = adj_graph_dict_merge[key].copy()\n",
    "        # Note this will be a little slow - an optimization here would be\n",
    "        # to have coalesced the walk network\n",
    "        %time G = pt.load_feed_as_graph(feed[1], start, end, existing_graph=G_adj_copy, impute_walk_transfers=True, add_trips_per_edge=True)\n",
    "\n",
    "        # compatible with NetworkX 2.4\n",
    "        list_of_subgraphs = list(G.subgraph(c).copy() for c in nx.weakly_connected_components(G))\n",
    "        max_graph = None\n",
    "        max_edges = 0\n",
    "        for i in list_of_subgraphs:\n",
    "            if i.number_of_edges() > max_edges:\n",
    "                max_edges = i.number_of_edges()\n",
    "                max_graph = i\n",
    "\n",
    "        # set your graph equal to the largest sub-graph\n",
    "        G = max_graph\n",
    "\n",
    "        # save again and inspect\n",
    "        gn.save(G,f\"4_{key}_cap_haitien_gtfs_merged_impute_walk_{feed[0]}\",r\"temp\")\n",
    "        \n",
    "        #gn.save(G,f\"clipped3_flooded_non_adv_gtfs_export_cap_haitien_merged_impute_walk_{feed[0]}\",r\"temp\")\n",
    "        #gn.save(G,f\"clipped3_non_adv_gtfs_export_cap_haitien_merged_impute_walk_{feed[0]}\",r\"temp\")\n",
    "        #gn.save(G,f\"clipped3_gtfs_export_cap_haitien_merged_impute_walk_{feed[0]}\",r\"temp\")\n",
    "        #gn.save(G,f\"flooded3_clipped3_gtfs_export_cap_haitien_merged_impute_walk_{feed[0]}\",r\"temp\")"
   ]
  },
  {
   "cell_type": "markdown",
   "metadata": {},
   "source": [
    "## Visualize the last merged feed in the loop"
   ]
  },
  {
   "cell_type": "code",
   "execution_count": 89,
   "metadata": {},
   "outputs": [],
   "source": [
    "#G.graph['crs'] = 'epsg:4326'\n",
    "#G.graph"
   ]
  },
  {
   "cell_type": "code",
   "execution_count": 90,
   "metadata": {},
   "outputs": [],
   "source": [
    "#G.nodes[6770195160]"
   ]
  },
  {
   "cell_type": "code",
   "execution_count": 91,
   "metadata": {},
   "outputs": [],
   "source": [
    "# fig, ax = ox.plot_graph(G,\n",
    "#                             figsize=(12,12),\n",
    "#                             show=False,\n",
    "#                             close=False,\n",
    "#                             node_color='#8aedfc',\n",
    "#                             node_size=5,\n",
    "#                             edge_color='#e2dede',\n",
    "#                             edge_alpha=0.25,\n",
    "#                             bgcolor='black')"
   ]
  }
 ],
 "metadata": {
  "kernelspec": {
   "display_name": "Python 3",
   "language": "python",
   "name": "python3"
  },
  "language_info": {
   "codemirror_mode": {
    "name": "ipython",
    "version": 3
   },
   "file_extension": ".py",
   "mimetype": "text/x-python",
   "name": "python",
   "nbconvert_exporter": "python",
   "pygments_lexer": "ipython3",
   "version": "3.8.8"
  }
 },
 "nbformat": 4,
 "nbformat_minor": 4
}
