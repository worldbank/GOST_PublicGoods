{
 "cells": [
  {
   "cell_type": "markdown",
   "metadata": {},
   "source": [
    "## Clip Flood graph\n",
    "remove disrupted edges that intersect simulated flooded areas"
   ]
  },
  {
   "cell_type": "code",
   "execution_count": 1,
   "metadata": {},
   "outputs": [],
   "source": [
    "%load_ext autoreload\n",
    "%autoreload 2"
   ]
  },
  {
   "cell_type": "code",
   "execution_count": 2,
   "metadata": {},
   "outputs": [],
   "source": [
    "import osmnx as ox\n",
    "import pandas as pd\n",
    "import geopandas as gpd\n",
    "import networkx as nx\n",
    "import numpy as np"
   ]
  },
  {
   "cell_type": "code",
   "execution_count": 3,
   "metadata": {},
   "outputs": [],
   "source": [
    "from shapely.geometry import Point, shape\n",
    "from shapely import geometry\n",
    "import shapely"
   ]
  },
  {
   "cell_type": "code",
   "execution_count": 4,
   "metadata": {},
   "outputs": [],
   "source": [
    "# Get reference to GOSTNets\n",
    "import sys,os\n",
    "sys.path.append(r'C:\\repos\\GOSTnets')\n",
    "import GOSTnets as gn"
   ]
  },
  {
   "cell_type": "code",
   "execution_count": 5,
   "metadata": {},
   "outputs": [],
   "source": [
    "# load graph\n",
    "#G = nx.read_gpickle(os.path.join(r'temp', 'clipped_cap_haitien_walk_w_ferries_via_osmnx_w_time_adv_snap.pickle'))\n",
    "G = nx.read_gpickle(os.path.join(r'temp', 'clipped_cap_haitien_walk_w_ferries_via_osmnx.pickle'))"
   ]
  },
  {
   "cell_type": "markdown",
   "metadata": {},
   "source": [
    "### Fathom SSBN data was used as an input for the simulated flooded areas. The FU_1in50 layer and the P_1_in50 layers were merged, and in QGIS the raster calculater was used to filter raster pixels with a value greater than .25 meters, using a query similar to this:\n",
    "### (\"FD_1in20@1\" >= 0.25) * 1\"\n",
    "### Then raster was polygonized using QGIS. Finally, the QGIS fix geometries tool was run."
   ]
  },
  {
   "cell_type": "code",
   "execution_count": 6,
   "metadata": {},
   "outputs": [
    {
     "name": "stderr",
     "output_type": "stream",
     "text": [
      "IOPub data rate exceeded.\n",
      "The notebook server will temporarily stop sending output\n",
      "to the client in order to avoid crashing it.\n",
      "To change this limit, set the config variable\n",
      "`--NotebookApp.iopub_data_rate_limit`.\n",
      "\n",
      "Current values:\n",
      "NotebookApp.iopub_data_rate_limit=1000000.0 (bytes/sec)\n",
      "NotebookApp.rate_limit_window=3.0 (secs)\n",
      "\n",
      "<ipython-input-6-a9e718b13178>:7: FionaDeprecationWarning: Collection.__next__() is buggy and will be removed in Fiona 2.0. Switch to `next(iter(collection))`.\n",
      "  first = fc.next()\n"
     ]
    }
   ],
   "source": [
    "import fiona\n",
    "fc = fiona.open(r\"C:\\Users\\war-machine\\Documents\\world_bank_work\\haiti_gtfs_project\\merged_P1in50_FD1_50.shp\")\n",
    "\n",
    "print(fc.schema)\n",
    "\n",
    "#first feature of the shapefile\n",
    "first = fc.next()\n",
    "print(first) # (GeoJSON format)"
   ]
  },
  {
   "cell_type": "code",
   "execution_count": 7,
   "metadata": {},
   "outputs": [
    {
     "name": "stderr",
     "output_type": "stream",
     "text": [
      "IOPub data rate exceeded.\n",
      "The notebook server will temporarily stop sending output\n",
      "to the client in order to avoid crashing it.\n",
      "To change this limit, set the config variable\n",
      "`--NotebookApp.iopub_data_rate_limit`.\n",
      "\n",
      "Current values:\n",
      "NotebookApp.iopub_data_rate_limit=1000000.0 (bytes/sec)\n",
      "NotebookApp.rate_limit_window=3.0 (secs)\n",
      "\n"
     ]
    }
   ],
   "source": [
    "shp_geom = shape(first['geometry']) # or shp_geom = shape(first) with PyShp)\n",
    "print(shp_geom)\n",
    "print(type(shp_geom))"
   ]
  },
  {
   "cell_type": "code",
   "execution_count": 8,
   "metadata": {},
   "outputs": [],
   "source": [
    "#try using GOSTnets function instead\n",
    "edges_gdf = gn.edge_gdf_from_graph(G)"
   ]
  },
  {
   "cell_type": "code",
   "execution_count": 9,
   "metadata": {},
   "outputs": [
    {
     "data": {
      "text/html": [
       "<div>\n",
       "<style scoped>\n",
       "    .dataframe tbody tr th:only-of-type {\n",
       "        vertical-align: middle;\n",
       "    }\n",
       "\n",
       "    .dataframe tbody tr th {\n",
       "        vertical-align: top;\n",
       "    }\n",
       "\n",
       "    .dataframe thead th {\n",
       "        text-align: right;\n",
       "    }\n",
       "</style>\n",
       "<table border=\"1\" class=\"dataframe\">\n",
       "  <thead>\n",
       "    <tr style=\"text-align: right;\">\n",
       "      <th></th>\n",
       "      <th>stnode</th>\n",
       "      <th>endnode</th>\n",
       "      <th>osmid</th>\n",
       "      <th>ref</th>\n",
       "      <th>service</th>\n",
       "      <th>ferry</th>\n",
       "      <th>junction</th>\n",
       "      <th>maxspeed</th>\n",
       "      <th>oneway</th>\n",
       "      <th>name</th>\n",
       "      <th>access</th>\n",
       "      <th>bridge</th>\n",
       "      <th>lanes</th>\n",
       "      <th>length</th>\n",
       "      <th>highway</th>\n",
       "      <th>est_width</th>\n",
       "      <th>geometry</th>\n",
       "    </tr>\n",
       "  </thead>\n",
       "  <tbody>\n",
       "    <tr>\n",
       "      <th>0</th>\n",
       "      <td>330725194</td>\n",
       "      <td>330743482</td>\n",
       "      <td>30034450</td>\n",
       "      <td>NaN</td>\n",
       "      <td>NaN</td>\n",
       "      <td>NaN</td>\n",
       "      <td>NaN</td>\n",
       "      <td>NaN</td>\n",
       "      <td>False</td>\n",
       "      <td>Route usine</td>\n",
       "      <td>NaN</td>\n",
       "      <td>NaN</td>\n",
       "      <td>NaN</td>\n",
       "      <td>527.985</td>\n",
       "      <td>unclassified</td>\n",
       "      <td>NaN</td>\n",
       "      <td>LINESTRING (-72.17556 19.71362, -72.17558 19.7...</td>\n",
       "    </tr>\n",
       "    <tr>\n",
       "      <th>1</th>\n",
       "      <td>330725194</td>\n",
       "      <td>2322274029</td>\n",
       "      <td>218402959</td>\n",
       "      <td>NaN</td>\n",
       "      <td>NaN</td>\n",
       "      <td>NaN</td>\n",
       "      <td>NaN</td>\n",
       "      <td>NaN</td>\n",
       "      <td>False</td>\n",
       "      <td>Route Boisdaut</td>\n",
       "      <td>NaN</td>\n",
       "      <td>NaN</td>\n",
       "      <td>NaN</td>\n",
       "      <td>245.988</td>\n",
       "      <td>unclassified</td>\n",
       "      <td>NaN</td>\n",
       "      <td>LINESTRING (-72.17556 19.71362, -72.17535 19.7...</td>\n",
       "    </tr>\n",
       "    <tr>\n",
       "      <th>2</th>\n",
       "      <td>330725194</td>\n",
       "      <td>2322274029</td>\n",
       "      <td>223315661</td>\n",
       "      <td>NaN</td>\n",
       "      <td>NaN</td>\n",
       "      <td>NaN</td>\n",
       "      <td>NaN</td>\n",
       "      <td>NaN</td>\n",
       "      <td>False</td>\n",
       "      <td>NaN</td>\n",
       "      <td>NaN</td>\n",
       "      <td>NaN</td>\n",
       "      <td>NaN</td>\n",
       "      <td>483.983</td>\n",
       "      <td>path</td>\n",
       "      <td>NaN</td>\n",
       "      <td>LINESTRING (-72.17556 19.71362, -72.17565 19.7...</td>\n",
       "    </tr>\n",
       "  </tbody>\n",
       "</table>\n",
       "</div>"
      ],
      "text/plain": [
       "      stnode     endnode      osmid  ref service ferry junction maxspeed  \\\n",
       "0  330725194   330743482   30034450  NaN     NaN   NaN      NaN      NaN   \n",
       "1  330725194  2322274029  218402959  NaN     NaN   NaN      NaN      NaN   \n",
       "2  330725194  2322274029  223315661  NaN     NaN   NaN      NaN      NaN   \n",
       "\n",
       "   oneway            name access bridge lanes   length       highway  \\\n",
       "0   False     Route usine    NaN    NaN   NaN  527.985  unclassified   \n",
       "1   False  Route Boisdaut    NaN    NaN   NaN  245.988  unclassified   \n",
       "2   False             NaN    NaN    NaN   NaN  483.983          path   \n",
       "\n",
       "  est_width                                           geometry  \n",
       "0       NaN  LINESTRING (-72.17556 19.71362, -72.17558 19.7...  \n",
       "1       NaN  LINESTRING (-72.17556 19.71362, -72.17535 19.7...  \n",
       "2       NaN  LINESTRING (-72.17556 19.71362, -72.17565 19.7...  "
      ]
     },
     "execution_count": 9,
     "metadata": {},
     "output_type": "execute_result"
    }
   ],
   "source": [
    "edges_gdf[:3]"
   ]
  },
  {
   "cell_type": "markdown",
   "metadata": {},
   "source": [
    "### Find intersections between edges and flood polygons"
   ]
  },
  {
   "cell_type": "code",
   "execution_count": 10,
   "metadata": {},
   "outputs": [],
   "source": [
    "intersection_list = []\n",
    "#loop through each edge:\n",
    "for index, row in edges_gdf.iterrows():\n",
    "    #print(row['geometry'])\n",
    "    line_geom = row['geometry']\n",
    "    #loop through each polygon:\n",
    "    for shapely_poly in fc:\n",
    "        #print(shapely_poly)\n",
    "        shapely_poly = shape(shapely_poly['geometry'])\n",
    "        intersection_line = shapely_poly.intersection(line_geom)\n",
    "        if intersection_line:\n",
    "            #print(\"intersection found\")\n",
    "            #print(intersection_line)\n",
    "            #print(\"osmid\")\n",
    "            #print(row['osmid'])\n",
    "            #if true, add edge to a list of intersections\n",
    "            intersection_list.append((row['stnode'],row['endnode']))"
   ]
  },
  {
   "cell_type": "code",
   "execution_count": 11,
   "metadata": {},
   "outputs": [
    {
     "data": {
      "text/plain": [
       "872"
      ]
     },
     "execution_count": 11,
     "metadata": {},
     "output_type": "execute_result"
    }
   ],
   "source": [
    "len(intersection_list)"
   ]
  },
  {
   "cell_type": "code",
   "execution_count": 12,
   "metadata": {},
   "outputs": [],
   "source": [
    "# get rid of duplicates\n",
    "intersection_list = list(set(intersection_list))"
   ]
  },
  {
   "cell_type": "code",
   "execution_count": 13,
   "metadata": {},
   "outputs": [
    {
     "data": {
      "text/plain": [
       "866"
      ]
     },
     "execution_count": 13,
     "metadata": {},
     "output_type": "execute_result"
    }
   ],
   "source": [
    "len(intersection_list)"
   ]
  },
  {
   "cell_type": "code",
   "execution_count": 14,
   "metadata": {},
   "outputs": [
    {
     "name": "stdout",
     "output_type": "stream",
     "text": [
      "Name: \n",
      "Type: MultiDiGraph\n",
      "Number of nodes: 4145\n",
      "Number of edges: 11404\n",
      "Average in degree:   2.7513\n",
      "Average out degree:   2.7513\n"
     ]
    }
   ],
   "source": [
    "print(nx.info(G))"
   ]
  },
  {
   "cell_type": "code",
   "execution_count": 15,
   "metadata": {},
   "outputs": [],
   "source": [
    "G_flooded = G.copy()"
   ]
  },
  {
   "cell_type": "markdown",
   "metadata": {},
   "source": [
    "### need to remove disrupted edges from the graph\n",
    "We need to remove the edges from the graph that intersect the flooded area. Then using only the walk/ferry graph we can run accessibility analysis and see how many routes are affected."
   ]
  },
  {
   "cell_type": "code",
   "execution_count": 16,
   "metadata": {},
   "outputs": [],
   "source": [
    "for line in intersection_list:\n",
    "    G_flooded.remove_edge(line[0],line[1])"
   ]
  },
  {
   "cell_type": "code",
   "execution_count": 17,
   "metadata": {},
   "outputs": [
    {
     "name": "stdout",
     "output_type": "stream",
     "text": [
      "Name: \n",
      "Type: MultiDiGraph\n",
      "Number of nodes: 4145\n",
      "Number of edges: 10538\n",
      "Average in degree:   2.5423\n",
      "Average out degree:   2.5423\n"
     ]
    }
   ],
   "source": [
    "print(nx.info(G_flooded))"
   ]
  },
  {
   "cell_type": "markdown",
   "metadata": {},
   "source": [
    "### need to take the largest connected graph and also lose some potentially dangling nodes "
   ]
  },
  {
   "cell_type": "code",
   "execution_count": 18,
   "metadata": {},
   "outputs": [],
   "source": [
    "# compatible with NetworkX 2.4\n",
    "list_of_subgraphs = list(G_flooded.subgraph(c).copy() for c in nx.strongly_connected_components(G_flooded))\n",
    "max_graph = None\n",
    "max_edges = 0\n",
    "\n",
    "# To sort the list in place...\n",
    "list_of_subgraphs.sort(key=lambda x: x.number_of_edges(), reverse=True)\n",
    "\n",
    "# for i in list_of_subgraphs:\n",
    "#     print(f\"The {i} graph contains {i.number_of_edges()} edges\")\n",
    "#     if i.number_of_edges() > max_edges:\n",
    "#         max_edges = i.number_of_edges()\n",
    "#         max_graph = i\n",
    "\n",
    "# set your graph equal to the largest sub-graph\n",
    "G_largest_flooded = list_of_subgraphs[0]"
   ]
  },
  {
   "cell_type": "code",
   "execution_count": 19,
   "metadata": {},
   "outputs": [
    {
     "name": "stdout",
     "output_type": "stream",
     "text": [
      "Name: \n",
      "Type: MultiDiGraph\n",
      "Number of nodes: 3733\n",
      "Number of edges: 10216\n",
      "Average in degree:   2.7367\n",
      "Average out degree:   2.7367\n"
     ]
    }
   ],
   "source": [
    "print(nx.info(G_largest_flooded))"
   ]
  },
  {
   "cell_type": "code",
   "execution_count": 20,
   "metadata": {},
   "outputs": [
    {
     "data": {
      "text/plain": [
       "10216"
      ]
     },
     "execution_count": 20,
     "metadata": {},
     "output_type": "execute_result"
    }
   ],
   "source": [
    "G_largest_flooded.number_of_edges()"
   ]
  },
  {
   "cell_type": "code",
   "execution_count": 21,
   "metadata": {},
   "outputs": [
    {
     "data": {
      "text/plain": [
       "294"
      ]
     },
     "execution_count": 21,
     "metadata": {},
     "output_type": "execute_result"
    }
   ],
   "source": [
    "len(list_of_subgraphs)"
   ]
  },
  {
   "cell_type": "code",
   "execution_count": 22,
   "metadata": {},
   "outputs": [
    {
     "name": "stdout",
     "output_type": "stream",
     "text": [
      "10216\n"
     ]
    }
   ],
   "source": [
    "print(list_of_subgraphs[0].number_of_edges())"
   ]
  },
  {
   "cell_type": "code",
   "execution_count": 23,
   "metadata": {},
   "outputs": [
    {
     "name": "stdout",
     "output_type": "stream",
     "text": [
      "266\n"
     ]
    }
   ],
   "source": [
    "print(list_of_subgraphs[1].number_of_edges())"
   ]
  },
  {
   "cell_type": "code",
   "execution_count": 24,
   "metadata": {},
   "outputs": [
    {
     "name": "stdout",
     "output_type": "stream",
     "text": [
      "16\n"
     ]
    }
   ],
   "source": [
    "print(list_of_subgraphs[2].number_of_edges())"
   ]
  },
  {
   "cell_type": "code",
   "execution_count": 25,
   "metadata": {},
   "outputs": [
    {
     "name": "stdout",
     "output_type": "stream",
     "text": [
      "16\n"
     ]
    }
   ],
   "source": [
    "print(list_of_subgraphs[3].number_of_edges())"
   ]
  },
  {
   "cell_type": "code",
   "execution_count": 26,
   "metadata": {},
   "outputs": [
    {
     "name": "stdout",
     "output_type": "stream",
     "text": [
      "6\n"
     ]
    }
   ],
   "source": [
    "print(list_of_subgraphs[4].number_of_edges())"
   ]
  },
  {
   "cell_type": "markdown",
   "metadata": {},
   "source": [
    "### For visualization purposes save the top 3 largest disconnected graphs"
   ]
  },
  {
   "cell_type": "code",
   "execution_count": 31,
   "metadata": {},
   "outputs": [],
   "source": [
    "#gn.save(G_largest_flooded,\"flooded_clipped_cap_haitien_walk_w_ferries_via_osmnx_w_time_adv_snap\", \"temp\",pickle = True, edges = True, nodes = False)\n",
    "gn.save(G_largest_flooded,\"flooded_clipped_cap_haitien_walk_w_ferries_via_osmnx\", \"temp\",pickle = True, edges = True, nodes = True)"
   ]
  },
  {
   "cell_type": "code",
   "execution_count": 28,
   "metadata": {},
   "outputs": [],
   "source": [
    "#gn.save(list_of_subgraphs[1],\"cap_haitien_walk_w_ferries_flooded_largest_2\", \"temp\",pickle = False, edges = True, nodes = False)"
   ]
  },
  {
   "cell_type": "code",
   "execution_count": 29,
   "metadata": {},
   "outputs": [],
   "source": [
    "#gn.save(list_of_subgraphs[2],\"cap_haitien_walk_w_ferries_flooded_largest_3\", \"temp\",pickle = False, edges = True, nodes = False)"
   ]
  },
  {
   "cell_type": "code",
   "execution_count": 30,
   "metadata": {},
   "outputs": [],
   "source": [
    "#gn.save(list_of_subgraphs[3],\"cap_haitien_walk_w_ferries_flooded_largest_4\", \"temp\",pickle = False, edges = True, nodes = False)"
   ]
  },
  {
   "cell_type": "code",
   "execution_count": null,
   "metadata": {},
   "outputs": [],
   "source": []
  }
 ],
 "metadata": {
  "kernelspec": {
   "display_name": "Python 3",
   "language": "python",
   "name": "python3"
  },
  "language_info": {
   "codemirror_mode": {
    "name": "ipython",
    "version": 3
   },
   "file_extension": ".py",
   "mimetype": "text/x-python",
   "name": "python",
   "nbconvert_exporter": "python",
   "pygments_lexer": "ipython3",
   "version": "3.8.8"
  }
 },
 "nbformat": 4,
 "nbformat_minor": 4
}
