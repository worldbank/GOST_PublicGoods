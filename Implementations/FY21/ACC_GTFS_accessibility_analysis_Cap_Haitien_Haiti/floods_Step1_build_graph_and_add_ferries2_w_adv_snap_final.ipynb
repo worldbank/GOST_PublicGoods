{
 "cells": [
  {
   "cell_type": "markdown",
   "metadata": {},
   "source": [
    "# Step 1: Extract and merge walk graph and ferries graph\n",
    "Extract the walk network via OSMNX within the AOI, add ferries to the network, and run advanced snapping"
   ]
  },
  {
   "cell_type": "code",
   "execution_count": 1,
   "metadata": {
    "scrolled": false
   },
   "outputs": [],
   "source": [
    "%load_ext autoreload\n",
    "%autoreload 2"
   ]
  },
  {
   "cell_type": "code",
   "execution_count": 2,
   "metadata": {
    "scrolled": false
   },
   "outputs": [
    {
     "name": "stderr",
     "output_type": "stream",
     "text": [
      "C:\\Users\\war-machine\\anaconda3\\envs\\gostnets3_8\\lib\\site-packages\\geopandas\\_compat.py:106: UserWarning: The Shapely GEOS version (3.9.1dev-CAPI-1.14.1) is incompatible with the GEOS version PyGEOS was compiled with (3.9.1-CAPI-1.14.2). Conversions between both will be slow.\n",
      "  warnings.warn(\n"
     ]
    }
   ],
   "source": [
    "import osmnx as ox\n",
    "import pandas as pd\n",
    "import geopandas as gpd\n",
    "import networkx as nx\n",
    "import numpy as np\n",
    "from shapely.geometry import Point"
   ]
  },
  {
   "cell_type": "code",
   "execution_count": 3,
   "metadata": {
    "scrolled": false
   },
   "outputs": [],
   "source": [
    "import os, sys"
   ]
  },
  {
   "cell_type": "code",
   "execution_count": 4,
   "metadata": {
    "scrolled": false
   },
   "outputs": [],
   "source": [
    "sys.path.append(r'C:\\repos\\GOSTnets')\n",
    "import GOSTnets as gn"
   ]
  },
  {
   "cell_type": "code",
   "execution_count": 5,
   "metadata": {
    "scrolled": false
   },
   "outputs": [],
   "source": [
    "# configuring ferry as a useful tag\n",
    "ox.utils.config(useful_tags_way= [\n",
    "    \"bridge\",\n",
    "    \"tunnel\",\n",
    "    \"oneway\",\n",
    "    \"lanes\",\n",
    "    \"ref\",\n",
    "    \"name\",\n",
    "    \"highway\",\n",
    "    \"maxspeed\",\n",
    "    \"service\",\n",
    "    \"access\",\n",
    "    \"area\",\n",
    "    \"landuse\",\n",
    "    \"width\",\n",
    "    \"est_width\",\n",
    "    \"junction\",\n",
    "    \"ferry\"\n",
    "])"
   ]
  },
  {
   "cell_type": "markdown",
   "metadata": {},
   "source": [
    "# Extract Walk network via OSMNX"
   ]
  },
  {
   "cell_type": "code",
   "execution_count": 6,
   "metadata": {
    "scrolled": false
   },
   "outputs": [],
   "source": [
    "# import extent\n",
    "cap_haitian_extent = gpd.read_file(r\"C:\\repos\\GOST_PublicGoods\\Implementations\\FY21\\ACC_GTFS_accessibility_analysis_Cap_Haitien_Haiti\\input_folder\\poverty_survey_area.shp\")"
   ]
  },
  {
   "cell_type": "code",
   "execution_count": 7,
   "metadata": {
    "scrolled": false
   },
   "outputs": [
    {
     "data": {
      "image/svg+xml": [
       "<svg xmlns=\"http://www.w3.org/2000/svg\" xmlns:xlink=\"http://www.w3.org/1999/xlink\" width=\"100.0\" height=\"100.0\" viewBox=\"-72.27832929490215 19.681468925356405 0.1500928369214165 0.11256745249117728\" preserveAspectRatio=\"xMinYMin meet\"><g transform=\"matrix(1,0,0,-1,0,39.47550530320399)\"><path fill-rule=\"evenodd\" fill=\"#66cc99\" stroke=\"#555555\" stroke-width=\"0.00300185673842833\" opacity=\"0.6\" d=\"M -72.27127081419275,19.788477383887532 L -72.13379545194078,19.786402995705405 L -72.13529493869014,19.687027919316456 L -72.2727703009421,19.689102307498583 L -72.27127081419275,19.788477383887532 z\" /></g></svg>"
      ],
      "text/plain": [
       "<shapely.geometry.polygon.Polygon at 0x1af96180d60>"
      ]
     },
     "execution_count": 7,
     "metadata": {},
     "output_type": "execute_result"
    }
   ],
   "source": [
    "extent = cap_haitian_extent.geometry[0]\n",
    "extent"
   ]
  },
  {
   "cell_type": "code",
   "execution_count": 8,
   "metadata": {},
   "outputs": [
    {
     "name": "stdout",
     "output_type": "stream",
     "text": [
      "Wall time: 3.6 s\n"
     ]
    }
   ],
   "source": [
    "# Pull in the walk network with OSMnx\n",
    "%time Gwalk = ox.graph_from_polygon(extent, network_type='walk')"
   ]
  },
  {
   "cell_type": "code",
   "execution_count": 9,
   "metadata": {
    "scrolled": false
   },
   "outputs": [
    {
     "name": "stdout",
     "output_type": "stream",
     "text": [
      "Wall time: 2.59 s\n"
     ]
    }
   ],
   "source": [
    "# Pull in the walk network with OSMnx\n",
    "%time Gdrive = ox.graph_from_polygon(extent, network_type='drive')"
   ]
  },
  {
   "cell_type": "code",
   "execution_count": 10,
   "metadata": {
    "scrolled": true
   },
   "outputs": [],
   "source": [
    "#Gwalk.graph"
   ]
  },
  {
   "cell_type": "code",
   "execution_count": 11,
   "metadata": {},
   "outputs": [],
   "source": [
    "#note: OSMNX only adds the 'geometry' attribute if it simplifies an edge"
   ]
  },
  {
   "cell_type": "code",
   "execution_count": 12,
   "metadata": {},
   "outputs": [
    {
     "name": "stdout",
     "output_type": "stream",
     "text": [
      "(330725194, 330736449, {'osmid': 30034450, 'name': 'Route usine', 'highway': 'unclassified', 'oneway': False, 'length': 1490.4389999999999, 'geometry': <shapely.geometry.linestring.LineString object at 0x000001AF9ABFECA0>})\n",
      "(330725194, 628930680, {'osmid': 218402959, 'name': 'Route Boisdaut', 'highway': 'unclassified', 'oneway': False, 'length': 611.274, 'geometry': <shapely.geometry.linestring.LineString object at 0x000001AF9ABFECD0>})\n",
      "(330725194, 2313441588, {'osmid': [218402957, 30034598, 218402959], 'name': 'Route Boisdaut', 'highway': 'unclassified', 'oneway': False, 'length': 270.352, 'bridge': 'yes', 'geometry': <shapely.geometry.linestring.LineString object at 0x000001AF9ABFED00>})\n",
      "(330725346, 614908804, {'osmid': 48413285, 'name': 'Rue 2', 'highway': 'unclassified', 'oneway': False, 'length': 43.592})\n",
      "(330725346, 614908783, {'osmid': 48413285, 'name': 'Rue 2', 'highway': 'unclassified', 'oneway': False, 'length': 48.71})\n",
      "(330725346, 2150615578, {'osmid': 50759615, 'name': 'Rue I', 'highway': 'residential', 'oneway': False, 'length': 75.308})\n",
      "(330725346, 616793092, {'osmid': 50759615, 'name': 'Rue I', 'highway': 'residential', 'oneway': False, 'length': 51.043})\n",
      "(330726131, 619124324, {'osmid': 30034419, 'highway': 'secondary', 'oneway': False, 'length': 39.142})\n",
      "(330726131, 8195390533, {'osmid': 30034419, 'highway': 'secondary', 'oneway': False, 'length': 23.291})\n",
      "(330726131, 8146639476, {'osmid': 881149399, 'highway': 'residential', 'oneway': False, 'length': 78.572, 'geometry': <shapely.geometry.linestring.LineString object at 0x000001AF9B04C820>})\n"
     ]
    }
   ],
   "source": [
    "gn.example_edge(Gdrive, 10)"
   ]
  },
  {
   "cell_type": "code",
   "execution_count": 13,
   "metadata": {},
   "outputs": [
    {
     "data": {
      "text/plain": [
       "{'y': 19.7546605, 'x': -72.204247, 'street_count': 4}"
      ]
     },
     "execution_count": 13,
     "metadata": {},
     "output_type": "execute_result"
    }
   ],
   "source": [
    "Gdrive.nodes[330725346]"
   ]
  },
  {
   "cell_type": "code",
   "execution_count": 14,
   "metadata": {},
   "outputs": [],
   "source": [
    "# Visually inspect (takes a minute or two)"
   ]
  },
  {
   "cell_type": "code",
   "execution_count": 15,
   "metadata": {
    "scrolled": true
   },
   "outputs": [
    {
     "data": {
      "image/png": "[encoded data removed]",
      "text/plain": [
       "<Figure size 576x576 with 1 Axes>"
      ]
     },
     "metadata": {},
     "output_type": "display_data"
    },
    {
     "data": {
      "text/plain": [
       "(<Figure size 576x576 with 1 Axes>, <AxesSubplot:>)"
      ]
     },
     "execution_count": 15,
     "metadata": {},
     "output_type": "execute_result"
    }
   ],
   "source": [
    "# Visually inspect (takes a minute or two)\n",
    "ox.plot_graph(Gwalk)"
   ]
  },
  {
   "cell_type": "code",
   "execution_count": 16,
   "metadata": {},
   "outputs": [
    {
     "data": {
      "image/png": "[encoded data removed]",
      "text/plain": [
       "<Figure size 576x576 with 1 Axes>"
      ]
     },
     "metadata": {},
     "output_type": "display_data"
    },
    {
     "data": {
      "text/plain": [
       "(<Figure size 576x576 with 1 Axes>, <AxesSubplot:>)"
      ]
     },
     "execution_count": 16,
     "metadata": {},
     "output_type": "execute_result"
    }
   ],
   "source": [
    "ox.plot_graph(Gdrive)"
   ]
  },
  {
   "cell_type": "markdown",
   "metadata": {},
   "source": [
    "## Extract Ferries over AOI\n",
    "Visited https://overpass-turbo.eu/ and manually ran a query for ferries (way[\"ferry\"]) within Cap Haitien. Detected the only ferries near Pointe Labadie, so a bounding box was manually created in QGIS that covered all of the ferries."
   ]
  },
  {
   "cell_type": "code",
   "execution_count": 17,
   "metadata": {
    "scrolled": false
   },
   "outputs": [],
   "source": [
    "# import extent\n",
    "cap_haitien_extent = gpd.read_file(\"input_folder/cap_haitien_ferry_extent.shp\")"
   ]
  },
  {
   "cell_type": "code",
   "execution_count": 18,
   "metadata": {
    "scrolled": false
   },
   "outputs": [
    {
     "data": {
      "image/svg+xml": [
       "<svg xmlns=\"http://www.w3.org/2000/svg\" xmlns:xlink=\"http://www.w3.org/1999/xlink\" width=\"100.0\" height=\"100.0\" viewBox=\"-72.32736418659678 19.756895819998373 0.10134446549960785 0.04506279120043288\" preserveAspectRatio=\"xMinYMin meet\"><g transform=\"matrix(1,0,0,-1,0,39.558854431197176)\"><path fill-rule=\"evenodd\" fill=\"#66cc99\" stroke=\"#555555\" stroke-width=\"0.002026889309992157\" opacity=\"0.6\" d=\"M -72.32288245918679,19.798205112476598 L -72.22977321981938,19.798205112476598 L -72.2302933831678,19.76064931872058 L -72.32361068787458,19.76189771075679 L -72.32288245918679,19.798205112476598 z\" /></g></svg>"
      ],
      "text/plain": [
       "<shapely.geometry.polygon.Polygon at 0x1af983cef70>"
      ]
     },
     "execution_count": 18,
     "metadata": {},
     "output_type": "execute_result"
    }
   ],
   "source": [
    "extent = cap_haitien_extent.geometry[0]\n",
    "extent"
   ]
  },
  {
   "cell_type": "code",
   "execution_count": 19,
   "metadata": {
    "scrolled": false
   },
   "outputs": [],
   "source": [
    "walk_custom = '[\"ferry\"]'"
   ]
  },
  {
   "cell_type": "code",
   "execution_count": 20,
   "metadata": {
    "scrolled": false
   },
   "outputs": [
    {
     "name": "stdout",
     "output_type": "stream",
     "text": [
      "Wall time: 845 ms\n"
     ]
    }
   ],
   "source": [
    "# Pull in the walk network with OSMNX\n",
    "%time Gferries = ox.graph_from_polygon(extent, custom_filter=walk_custom)"
   ]
  },
  {
   "cell_type": "code",
   "execution_count": 21,
   "metadata": {
    "scrolled": false
   },
   "outputs": [
    {
     "name": "stdout",
     "output_type": "stream",
     "text": [
      "Name: \n",
      "Type: MultiDiGraph\n",
      "Number of nodes: 6\n",
      "Number of edges: 10\n",
      "Average in degree:   1.6667\n",
      "Average out degree:   1.6667\n"
     ]
    }
   ],
   "source": [
    "print(nx.info(Gferries))"
   ]
  },
  {
   "cell_type": "code",
   "execution_count": 22,
   "metadata": {
    "scrolled": false
   },
   "outputs": [
    {
     "data": {
      "text/plain": [
       "<networkx.classes.multidigraph.MultiDiGraph at 0x1af983d8a30>"
      ]
     },
     "execution_count": 22,
     "metadata": {},
     "output_type": "execute_result"
    }
   ],
   "source": [
    "Gferries"
   ]
  },
  {
   "cell_type": "code",
   "execution_count": 23,
   "metadata": {
    "scrolled": false
   },
   "outputs": [
    {
     "data": {
      "text/plain": [
       "OutMultiEdgeView([(616085737, 6733460125, 0), (616085737, 6970559909, 0), (616085737, 2413706127, 0), (616085737, 2413706138, 0), (616085737, 3448749786, 0), (2413706127, 616085737, 0), (2413706138, 616085737, 0), (3448749786, 616085737, 0), (6733460125, 616085737, 0), (6970559909, 616085737, 0)])"
      ]
     },
     "execution_count": 23,
     "metadata": {},
     "output_type": "execute_result"
    }
   ],
   "source": [
    "Gferries.edges"
   ]
  },
  {
   "cell_type": "code",
   "execution_count": 24,
   "metadata": {
    "scrolled": false
   },
   "outputs": [
    {
     "data": {
      "text/plain": [
       "{'osmid': 212397499,\n",
       " 'ferry': 'unclassified',\n",
       " 'oneway': False,\n",
       " 'length': 8474.458,\n",
       " 'geometry': <shapely.geometry.linestring.LineString at 0x1af983d84c0>}"
      ]
     },
     "execution_count": 24,
     "metadata": {},
     "output_type": "execute_result"
    }
   ],
   "source": [
    "# test\n",
    "Gferries.edges[616085737, 6733460125,0]"
   ]
  },
  {
   "cell_type": "code",
   "execution_count": 25,
   "metadata": {
    "scrolled": false
   },
   "outputs": [
    {
     "data": {
      "text/plain": [
       "NodeView((616085737, 2413706127, 2413706138, 3448749786, 6733460125, 6970559909))"
      ]
     },
     "execution_count": 25,
     "metadata": {},
     "output_type": "execute_result"
    }
   ],
   "source": [
    "Gferries.nodes"
   ]
  },
  {
   "cell_type": "markdown",
   "metadata": {},
   "source": [
    "### Add ferry nodes and edges to the walking & driving graphs"
   ]
  },
  {
   "cell_type": "code",
   "execution_count": 26,
   "metadata": {
    "scrolled": false
   },
   "outputs": [],
   "source": [
    "# add each osm node to the graph\n",
    "# even if the node already exists in the graph, it won't create duplicates\n",
    "for node, data in Gferries.nodes.items():\n",
    "    #print(node,data)\n",
    "    Gwalk.add_node(node, **data)\n",
    "    Gdrive.add_node(node, **data)"
   ]
  },
  {
   "cell_type": "code",
   "execution_count": 27,
   "metadata": {
    "scrolled": false
   },
   "outputs": [
    {
     "name": "stdout",
     "output_type": "stream",
     "text": [
      "(616085737, 6733460125, 0) {'osmid': 212397499, 'ferry': 'unclassified', 'oneway': False, 'length': 8474.458, 'geometry': <shapely.geometry.linestring.LineString object at 0x000001AF983D84C0>}\n",
      "(616085737, 6970559909, 0) {'osmid': 214459218, 'ferry': 'unclassified', 'oneway': False, 'length': 1449.198, 'geometry': <shapely.geometry.linestring.LineString object at 0x000001AF983D8340>}\n",
      "(616085737, 2413706127, 0) {'osmid': 233037712, 'ferry': 'unclassified', 'oneway': False, 'length': 1186.217, 'geometry': <shapely.geometry.linestring.LineString object at 0x000001AF983D84F0>}\n",
      "(616085737, 2413706138, 0) {'osmid': 233037714, 'ferry': 'unclassified', 'oneway': False, 'length': 888.716, 'geometry': <shapely.geometry.linestring.LineString object at 0x000001AF983D87F0>}\n",
      "(616085737, 3448749786, 0) {'osmid': 337815403, 'ferry': 'unclassified', 'oneway': False, 'length': 1428.7089999999998, 'geometry': <shapely.geometry.linestring.LineString object at 0x000001AF983D8700>}\n",
      "(2413706127, 616085737, 0) {'osmid': 233037712, 'ferry': 'unclassified', 'oneway': False, 'length': 1186.2169999999999, 'geometry': <shapely.geometry.linestring.LineString object at 0x000001AF983D8130>}\n",
      "(2413706138, 616085737, 0) {'osmid': 233037714, 'ferry': 'unclassified', 'oneway': False, 'length': 888.7159999999999, 'geometry': <shapely.geometry.linestring.LineString object at 0x000001AF983D85B0>}\n",
      "(3448749786, 616085737, 0) {'osmid': 337815403, 'ferry': 'unclassified', 'oneway': False, 'length': 1428.7089999999998, 'geometry': <shapely.geometry.linestring.LineString object at 0x000001AF983D8970>}\n",
      "(6733460125, 616085737, 0) {'osmid': 212397499, 'ferry': 'unclassified', 'oneway': False, 'length': 8474.458000000002, 'geometry': <shapely.geometry.linestring.LineString object at 0x000001AF983D80D0>}\n",
      "(6970559909, 616085737, 0) {'osmid': 214459218, 'ferry': 'unclassified', 'oneway': False, 'length': 1449.198, 'geometry': <shapely.geometry.linestring.LineString object at 0x000001AF983D8310>}\n"
     ]
    }
   ],
   "source": [
    "# add each osm edge to the graph\n",
    "for edge, data in Gferries.edges.items():\n",
    "    print(edge,data)\n",
    "    Gwalk.add_edges_from([edge], **data)\n",
    "    Gdrive.add_edges_from([edge], **data)"
   ]
  },
  {
   "cell_type": "code",
   "execution_count": 28,
   "metadata": {
    "scrolled": false
   },
   "outputs": [
    {
     "name": "stdout",
     "output_type": "stream",
     "text": [
      "Name: \n",
      "Type: MultiDiGraph\n",
      "Number of nodes: 4145\n",
      "Number of edges: 11404\n",
      "Average in degree:   2.7513\n",
      "Average out degree:   2.7513\n"
     ]
    }
   ],
   "source": [
    "print(nx.info(Gwalk))"
   ]
  },
  {
   "cell_type": "code",
   "execution_count": 29,
   "metadata": {},
   "outputs": [
    {
     "name": "stdout",
     "output_type": "stream",
     "text": [
      "Name: \n",
      "Type: MultiDiGraph\n",
      "Number of nodes: 2706\n",
      "Number of edges: 7557\n",
      "Average in degree:   2.7927\n",
      "Average out degree:   2.7927\n"
     ]
    }
   ],
   "source": [
    "print(nx.info(Gdrive))"
   ]
  },
  {
   "cell_type": "code",
   "execution_count": 30,
   "metadata": {},
   "outputs": [
    {
     "data": {
      "text/plain": [
       "{'y': 19.7278721, 'x': -72.2057506, 'street_count': 4}"
      ]
     },
     "execution_count": 30,
     "metadata": {},
     "output_type": "execute_result"
    }
   ],
   "source": [
    "Gwalk.nodes[6770195160]"
   ]
  },
  {
   "cell_type": "code",
   "execution_count": 31,
   "metadata": {},
   "outputs": [
    {
     "name": "stdout",
     "output_type": "stream",
     "text": [
      "(330725194, 330736449, {'osmid': 30034450, 'name': 'Route usine', 'highway': 'unclassified', 'oneway': False, 'length': 1490.4389999999999, 'geometry': <shapely.geometry.linestring.LineString object at 0x000001AF9ABFECA0>})\n",
      "(330725194, 628930680, {'osmid': 218402959, 'name': 'Route Boisdaut', 'highway': 'unclassified', 'oneway': False, 'length': 611.274, 'geometry': <shapely.geometry.linestring.LineString object at 0x000001AF9ABFECD0>})\n",
      "(330725194, 2313441588, {'osmid': [218402957, 30034598, 218402959], 'name': 'Route Boisdaut', 'highway': 'unclassified', 'oneway': False, 'length': 270.352, 'bridge': 'yes', 'geometry': <shapely.geometry.linestring.LineString object at 0x000001AF9ABFED00>})\n",
      "(330725346, 614908804, {'osmid': 48413285, 'name': 'Rue 2', 'highway': 'unclassified', 'oneway': False, 'length': 43.592})\n",
      "(330725346, 614908783, {'osmid': 48413285, 'name': 'Rue 2', 'highway': 'unclassified', 'oneway': False, 'length': 48.71})\n",
      "(330725346, 2150615578, {'osmid': 50759615, 'name': 'Rue I', 'highway': 'residential', 'oneway': False, 'length': 75.308})\n",
      "(330725346, 616793092, {'osmid': 50759615, 'name': 'Rue I', 'highway': 'residential', 'oneway': False, 'length': 51.043})\n",
      "(330726131, 619124324, {'osmid': 30034419, 'highway': 'secondary', 'oneway': False, 'length': 39.142})\n",
      "(330726131, 8195390533, {'osmid': 30034419, 'highway': 'secondary', 'oneway': False, 'length': 23.291})\n",
      "(330726131, 8146639476, {'osmid': 881149399, 'highway': 'residential', 'oneway': False, 'length': 78.572, 'geometry': <shapely.geometry.linestring.LineString object at 0x000001AF9B04C820>})\n"
     ]
    }
   ],
   "source": [
    "gn.example_edge(Gdrive, 10)"
   ]
  },
  {
   "cell_type": "code",
   "execution_count": 32,
   "metadata": {
    "scrolled": false
   },
   "outputs": [],
   "source": [
    "# save again and inspect. \n",
    "# These outputs will also be used in step 3 to snap the destinations\n",
    "gn.save(Gwalk,\"clipped_cap_haitien_walk_w_ferries_via_osmnx\",r\"temp\")\n",
    "#gn.save(Gdrive,\"clipped_cap_haitien_drive_w_ferries_via_osmnx\",r\"temp\")"
   ]
  },
  {
   "cell_type": "markdown",
   "metadata": {},
   "source": [
    "## You can re-start notebook from here "
   ]
  },
  {
   "cell_type": "code",
   "execution_count": 33,
   "metadata": {},
   "outputs": [],
   "source": [
    "# The Gwalk graph was intersected with flooded areas in another notebook\n",
    "# so here we are re-importing it back in\n",
    "Gwalk = nx.read_gpickle(r\"temp/clipped_cap_haitien_walk_w_ferries_via_osmnx.pickle\")\n",
    "Gdrive = nx.read_gpickle(r\"temp/clipped_cap_haitien_drive_w_ferries_via_osmnx.pickle\")"
   ]
  },
  {
   "cell_type": "code",
   "execution_count": 34,
   "metadata": {},
   "outputs": [],
   "source": [
    "# The Gwalk graph was intersected with flooded areas in another notebook and saved\n",
    "# so here we are re-importing it back in\n",
    "Gwalk_flooded = nx.read_gpickle(r\"temp/flooded_clipped_cap_haitien_walk_w_ferries_via_osmnx.pickle\")"
   ]
  },
  {
   "cell_type": "markdown",
   "metadata": {},
   "source": [
    "## Advanced Snapping\n",
    "Now we want to take our population grid vector points and use them to expand the graph. "
   ]
  },
  {
   "cell_type": "code",
   "execution_count": 35,
   "metadata": {
    "scrolled": false
   },
   "outputs": [],
   "source": [
    "# load origins\n",
    "origins = gpd.read_file(r\"input_folder\\nonflooded_cap_haitien_worldpop_pts2_clipped3.shp\")"
   ]
  },
  {
   "cell_type": "markdown",
   "metadata": {},
   "source": [
    "### Make the node_ID really high in order to not interfere with exisiting OSMIDs from the graph"
   ]
  },
  {
   "cell_type": "code",
   "execution_count": 36,
   "metadata": {
    "scrolled": false
   },
   "outputs": [
    {
     "data": {
      "text/html": [
       "<div>\n",
       "<style scoped>\n",
       "    .dataframe tbody tr th:only-of-type {\n",
       "        vertical-align: middle;\n",
       "    }\n",
       "\n",
       "    .dataframe tbody tr th {\n",
       "        vertical-align: top;\n",
       "    }\n",
       "\n",
       "    .dataframe thead th {\n",
       "        text-align: right;\n",
       "    }\n",
       "</style>\n",
       "<table border=\"1\" class=\"dataframe\">\n",
       "  <thead>\n",
       "    <tr style=\"text-align: right;\">\n",
       "      <th></th>\n",
       "      <th>VALUE</th>\n",
       "      <th>geometry</th>\n",
       "      <th>node_ID</th>\n",
       "    </tr>\n",
       "  </thead>\n",
       "  <tbody>\n",
       "    <tr>\n",
       "      <th>0</th>\n",
       "      <td>7.042591</td>\n",
       "      <td>POINT (-72.24750 19.78750)</td>\n",
       "      <td>1110000000</td>\n",
       "    </tr>\n",
       "    <tr>\n",
       "      <th>1</th>\n",
       "      <td>6.827713</td>\n",
       "      <td>POINT (-72.24667 19.78750)</td>\n",
       "      <td>1110000001</td>\n",
       "    </tr>\n",
       "    <tr>\n",
       "      <th>2</th>\n",
       "      <td>14.694184</td>\n",
       "      <td>POINT (-72.24083 19.78750)</td>\n",
       "      <td>1110000002</td>\n",
       "    </tr>\n",
       "    <tr>\n",
       "      <th>3</th>\n",
       "      <td>14.852985</td>\n",
       "      <td>POINT (-72.24000 19.78750)</td>\n",
       "      <td>1110000003</td>\n",
       "    </tr>\n",
       "    <tr>\n",
       "      <th>4</th>\n",
       "      <td>5.294649</td>\n",
       "      <td>POINT (-72.23917 19.78750)</td>\n",
       "      <td>1110000004</td>\n",
       "    </tr>\n",
       "    <tr>\n",
       "      <th>...</th>\n",
       "      <td>...</td>\n",
       "      <td>...</td>\n",
       "      <td>...</td>\n",
       "    </tr>\n",
       "    <tr>\n",
       "      <th>13470</th>\n",
       "      <td>5.979215</td>\n",
       "      <td>POINT (-72.13917 19.68750)</td>\n",
       "      <td>1110013470</td>\n",
       "    </tr>\n",
       "    <tr>\n",
       "      <th>13471</th>\n",
       "      <td>5.988163</td>\n",
       "      <td>POINT (-72.13833 19.68750)</td>\n",
       "      <td>1110013471</td>\n",
       "    </tr>\n",
       "    <tr>\n",
       "      <th>13472</th>\n",
       "      <td>5.949585</td>\n",
       "      <td>POINT (-72.13750 19.68750)</td>\n",
       "      <td>1110013472</td>\n",
       "    </tr>\n",
       "    <tr>\n",
       "      <th>13473</th>\n",
       "      <td>6.206617</td>\n",
       "      <td>POINT (-72.13667 19.68750)</td>\n",
       "      <td>1110013473</td>\n",
       "    </tr>\n",
       "    <tr>\n",
       "      <th>13474</th>\n",
       "      <td>6.167996</td>\n",
       "      <td>POINT (-72.13583 19.68750)</td>\n",
       "      <td>1110013474</td>\n",
       "    </tr>\n",
       "  </tbody>\n",
       "</table>\n",
       "<p>13475 rows × 3 columns</p>\n",
       "</div>"
      ],
      "text/plain": [
       "           VALUE                    geometry     node_ID\n",
       "0       7.042591  POINT (-72.24750 19.78750)  1110000000\n",
       "1       6.827713  POINT (-72.24667 19.78750)  1110000001\n",
       "2      14.694184  POINT (-72.24083 19.78750)  1110000002\n",
       "3      14.852985  POINT (-72.24000 19.78750)  1110000003\n",
       "4       5.294649  POINT (-72.23917 19.78750)  1110000004\n",
       "...          ...                         ...         ...\n",
       "13470   5.979215  POINT (-72.13917 19.68750)  1110013470\n",
       "13471   5.988163  POINT (-72.13833 19.68750)  1110013471\n",
       "13472   5.949585  POINT (-72.13750 19.68750)  1110013472\n",
       "13473   6.206617  POINT (-72.13667 19.68750)  1110013473\n",
       "13474   6.167996  POINT (-72.13583 19.68750)  1110013474\n",
       "\n",
       "[13475 rows x 3 columns]"
      ]
     },
     "execution_count": 36,
     "metadata": {},
     "output_type": "execute_result"
    }
   ],
   "source": [
    "origins['node_ID'] = 1110000000 + origins.index\n",
    "origins"
   ]
  },
  {
   "cell_type": "code",
   "execution_count": 37,
   "metadata": {
    "scrolled": false
   },
   "outputs": [
    {
     "data": {
      "text/plain": [
       "'+proj=utm +zone=18 +ellps=WGS84 +datum=WGS84 +units=m +no_defs'"
      ]
     },
     "execution_count": 37,
     "metadata": {},
     "output_type": "execute_result"
    }
   ],
   "source": [
    "# find graph utm zone\n",
    "G_utm = gn.utm_of_graph(Gwalk)\n",
    "G_utm"
   ]
  },
  {
   "cell_type": "code",
   "execution_count": 38,
   "metadata": {},
   "outputs": [],
   "source": [
    "# testing\n",
    "# for edge, data in Gwalk.edges.items():\n",
    "#     print(edge,data)"
   ]
  },
  {
   "cell_type": "markdown",
   "metadata": {},
   "source": [
    "### This is the GOSTnets advanced_snap function. "
   ]
  },
  {
   "cell_type": "markdown",
   "metadata": {},
   "source": [
    "#### note on GOSTnets implementation detail:\n",
    "As of now make sure node_key_col='node_ID' because gn.advanced_snap does node_gdf_from_graph(G) and node_gdf_from_graph has node_ID for the ID column"
   ]
  },
  {
   "cell_type": "code",
   "execution_count": 39,
   "metadata": {},
   "outputs": [
    {
     "name": "stdout",
     "output_type": "stream",
     "text": [
      "(330725194, {'y': 19.71362, 'x': -72.175561, 'street_count': 4})\n",
      "(330725346, {'y': 19.7546605, 'x': -72.204247, 'street_count': 4})\n",
      "(330725641, {'y': 19.7628712, 'x': -72.1967104, 'street_count': 3})\n",
      "(330726131, {'y': 19.7185951, 'x': -72.1990149, 'street_count': 3})\n",
      "(330726263, {'y': 19.7287159, 'x': -72.1559022, 'street_count': 3})\n"
     ]
    }
   ],
   "source": [
    "# example of nodes in Gwalk\n",
    "gn.example_node(Gwalk,n=5)"
   ]
  },
  {
   "cell_type": "markdown",
   "metadata": {},
   "source": [
    "### note that we are using a shorter threshold "
   ]
  },
  {
   "cell_type": "code",
   "execution_count": 44,
   "metadata": {},
   "outputs": [
    {
     "name": "stdout",
     "output_type": "stream",
     "text": [
      "Building rtree...\n",
      "Projecting POIs to the network...\n",
      "Updating internal nodes...\n",
      "print _new_nodes\n",
      "Updating internal edges...\n",
      "Updating external links...\n",
      "print unvalid lines over threshold\n",
      "                     node_ID  \\\n",
      "15715  9990000000_1110000000   \n",
      "15716  9990000001_1110000001   \n",
      "15722  9990000005_1110000007   \n",
      "15723  9990000006_1110000008   \n",
      "15724  9990000007_1110000009   \n",
      "...                      ...   \n",
      "29180  2342224594_1110013465   \n",
      "29181  2293173919_1110013466   \n",
      "29182  9990007535_1110013467   \n",
      "29188  2331361664_1110013473   \n",
      "29189  2331361664_1110013474   \n",
      "\n",
      "                                                geometry  oneway  \\\n",
      "15715  LINESTRING (788396.410 2190312.738, 788508.901...   False   \n",
      "15716  LINESTRING (788483.776 2190314.161, 788531.367...   False   \n",
      "15722  LINESTRING (788310.546 2190219.020, 788407.752...   False   \n",
      "15723  LINESTRING (788397.912 2190220.441, 788491.674...   False   \n",
      "15724  LINESTRING (788485.278 2190221.863, 788524.659...   False   \n",
      "...                                                  ...     ...   \n",
      "29180  LINESTRING (798717.309 2179404.277, 798593.630...   False   \n",
      "29181  LINESTRING (799241.865 2179413.080, 799177.000...   False   \n",
      "29182  LINESTRING (799329.291 2179414.549, 799349.046...   False   \n",
      "29188  LINESTRING (800203.556 2179429.259, 800037.862...   False   \n",
      "29189  LINESTRING (800290.983 2179430.732, 800037.862...   False   \n",
      "\n",
      "                 highway      length      stnode     endnode  \n",
      "15715  projected_footway  544.244754  1110000000  9990000000  \n",
      "15716  projected_footway  533.613978  1110000001  9990000001  \n",
      "15722  projected_footway  470.297041  1110000007  9990000005  \n",
      "15723  projected_footway  453.630217  1110000008  9990000006  \n",
      "15724  projected_footway  441.550630  1110000009  9990000007  \n",
      "...                  ...         ...         ...         ...  \n",
      "29180  projected_footway  165.234688  1110013465  2342224594  \n",
      "29181  projected_footway  153.376759  1110013466  2293173919  \n",
      "29182  projected_footway  154.857787  1110013467  9990007535  \n",
      "29188  projected_footway  168.130011  1110013473  2331361664  \n",
      "29189  projected_footway  254.561233  1110013474  2331361664  \n",
      "\n",
      "[6181 rows x 7 columns]\n",
      "node count before: 25159\n",
      "node count after: 18978\n",
      "pois_meter count before: 13475\n",
      "pois_meter count after: 7294\n",
      "Remove edge projections greater than threshold: 6181/13475 (45.87%)\n",
      "NOTE: duplication in node coordinates keys\n",
      "Nodes count: 18978\n",
      "Node coordinates key count: 25159\n",
      "Missing 'from' nodes: 0\n",
      "Missing 'to' nodes: 0\n",
      "making a new graph from edges and nodes\n",
      "Wall time: 30.8 s\n"
     ]
    }
   ],
   "source": [
    "%%time\n",
    "G2_walk, pois_meter_walk, new_footway_edges_walk = gn.advanced_snap(Gwalk, origins, u_tag = 'stnode', v_tag = 'endnode', node_key_col='node_ID', poi_key_col='node_ID', threshold=150, measure_crs=G_utm)"
   ]
  },
  {
   "cell_type": "code",
   "execution_count": 45,
   "metadata": {},
   "outputs": [
    {
     "name": "stdout",
     "output_type": "stream",
     "text": [
      "Building rtree...\n",
      "Projecting POIs to the network...\n",
      "Updating internal nodes...\n",
      "print _new_nodes\n",
      "Updating internal edges...\n",
      "Updating external links...\n",
      "node count before: 23886\n",
      "node count after: 17019\n",
      "pois_meter count before: 13475\n",
      "pois_meter count after: 6608\n",
      "Remove edge projections greater than threshold: 6867/13475 (50.96%)\n",
      "NOTE: duplication in node coordinates keys\n",
      "Nodes count: 17019\n",
      "Node coordinates key count: 23886\n",
      "Missing 'from' nodes: 0\n",
      "Missing 'to' nodes: 0\n",
      "making a new graph from edges and nodes\n",
      "Wall time: 29.8 s\n"
     ]
    }
   ],
   "source": [
    "%%time\n",
    "G2_walk_flooded, pois_meter_walk_flooded, new_footway_edges_walk_flooded = gn.advanced_snap(Gwalk_flooded, origins, u_tag = 'stnode', v_tag = 'endnode', node_key_col='node_ID', poi_key_col='node_ID', threshold=150, measure_crs=G_utm)"
   ]
  },
  {
   "cell_type": "code",
   "execution_count": 46,
   "metadata": {},
   "outputs": [
    {
     "name": "stdout",
     "output_type": "stream",
     "text": [
      "Building rtree...\n",
      "Projecting POIs to the network...\n",
      "Updating internal nodes...\n",
      "print _new_nodes\n",
      "Updating internal edges...\n",
      "Updating external links...\n",
      "node count before: 22409\n",
      "node count after: 14438\n",
      "pois_meter count before: 13475\n",
      "pois_meter count after: 5504\n",
      "Remove edge projections greater than threshold: 7971/13475 (59.15%)\n",
      "NOTE: duplication in node coordinates keys\n",
      "Nodes count: 14438\n",
      "Node coordinates key count: 22409\n",
      "Missing 'from' nodes: 0\n",
      "Missing 'to' nodes: 0\n",
      "making a new graph from edges and nodes\n",
      "Wall time: 28.7 s\n"
     ]
    }
   ],
   "source": [
    "%%time\n",
    "G2drive, pois_meter_Gdrive, new_footway_edges_Gdrive = gn.advanced_snap(Gdrive, origins, u_tag = 'stnode', v_tag = 'endnode', node_key_col='node_ID', poi_key_col='node_ID', threshold=150, measure_crs=G_utm)"
   ]
  },
  {
   "cell_type": "markdown",
   "metadata": {},
   "source": [
    "### Test the total length of new_footway_edges_walk vs new_footway_edges_walk_flooded"
   ]
  },
  {
   "cell_type": "code",
   "execution_count": 50,
   "metadata": {},
   "outputs": [],
   "source": [
    "#pois_meter_walk"
   ]
  },
  {
   "cell_type": "code",
   "execution_count": 51,
   "metadata": {},
   "outputs": [
    {
     "data": {
      "text/plain": [
       "289538.19838208996"
      ]
     },
     "execution_count": 51,
     "metadata": {},
     "output_type": "execute_result"
    }
   ],
   "source": [
    "pois_meter_walk['VALUE'].sum()"
   ]
  },
  {
   "cell_type": "code",
   "execution_count": 52,
   "metadata": {},
   "outputs": [
    {
     "data": {
      "text/plain": [
       "276763.91874169"
      ]
     },
     "execution_count": 52,
     "metadata": {},
     "output_type": "execute_result"
    }
   ],
   "source": [
    "pois_meter_walk_flooded['VALUE'].sum()"
   ]
  },
  {
   "cell_type": "markdown",
   "metadata": {},
   "source": [
    "### This difference represents the population that has access to the regular network vs the flooded network"
   ]
  },
  {
   "cell_type": "code",
   "execution_count": 57,
   "metadata": {},
   "outputs": [
    {
     "data": {
      "text/plain": [
       "12774.279640399967"
      ]
     },
     "execution_count": 57,
     "metadata": {},
     "output_type": "execute_result"
    }
   ],
   "source": [
    "pois_meter_walk['VALUE'].sum() - pois_meter_walk_flooded['VALUE'].sum()"
   ]
  },
  {
   "cell_type": "markdown",
   "metadata": {},
   "source": [
    "### Save the advanced snapped graphs for Step 2"
   ]
  },
  {
   "cell_type": "code",
   "execution_count": 53,
   "metadata": {},
   "outputs": [],
   "source": [
    "gn.save(G2_walk,\"clipped4_cap_haitien_walk_w_ferries_via_osmnx_origins_adv_snap\",r\"temp\")\n",
    "gn.save(G2_walk_flooded,\"flooded4_clipped_cap_haitien_drive_w_ferries_via_osmnx_origins_adv_snap\",r\"temp\")\n",
    "gn.save(G2drive,\"clipped4_cap_haitien_drive_w_ferries_via_osmnx_origins_adv_snap\",r\"temp\")"
   ]
  },
  {
   "cell_type": "markdown",
   "metadata": {},
   "source": [
    "### The new_poi_nodes will be used for the origin nodes when calculating an OD matrix"
   ]
  },
  {
   "cell_type": "code",
   "execution_count": 54,
   "metadata": {},
   "outputs": [],
   "source": [
    "new_poi_nodes2 = pois_meter_walk[['node_ID','VALUE','geometry']]\n",
    "\n",
    "# save new_nodes\n",
    "new_poi_nodes2.to_csv(r\"temp/clipped_origin_nodes_walk4.csv\")"
   ]
  },
  {
   "cell_type": "code",
   "execution_count": 55,
   "metadata": {},
   "outputs": [],
   "source": [
    "new_poi_nodes2_flooded = pois_meter_walk_flooded[['node_ID','VALUE','geometry']]\n",
    "\n",
    "# save new_nodes\n",
    "new_poi_nodes2_flooded.to_csv(r\"temp/flooded_clipped_origin_nodes_walk4.csv\")"
   ]
  },
  {
   "cell_type": "code",
   "execution_count": 56,
   "metadata": {},
   "outputs": [],
   "source": [
    "new_poi_nodes2_drive = pois_meter_Gdrive[['node_ID','VALUE','geometry']]\n",
    "# save new_nodes\n",
    "new_poi_nodes2_drive.to_csv(r\"temp/clipped_origin_nodes_drive4.csv\")"
   ]
  },
  {
   "cell_type": "markdown",
   "metadata": {},
   "source": [
    "## Extra tests: Inspecting disconnected subgraphs"
   ]
  },
  {
   "cell_type": "code",
   "execution_count": null,
   "metadata": {},
   "outputs": [],
   "source": [
    "# compatible with NetworkX 2.4\n",
    "list_of_subgraphs = list(G2.subgraph(c).copy() for c in nx.weakly_connected_components(G2))\n",
    "max_graph = None\n",
    "max_edges = 0\n",
    "\n",
    "# To sort the list in place...\n",
    "list_of_subgraphs.sort(key=lambda x: x.number_of_edges(), reverse=True)\n"
   ]
  },
  {
   "cell_type": "code",
   "execution_count": null,
   "metadata": {},
   "outputs": [],
   "source": [
    "for subgraph in list_of_subgraphs:\n",
    "    print(len(subgraph))\n",
    "    # to inspect\n",
    "    gn.save(subgraph,f\"{len(subgraph)}_inspect\",r\"temp\", pickle = False, edges = True, nodes = False)"
   ]
  },
  {
   "cell_type": "code",
   "execution_count": null,
   "metadata": {},
   "outputs": [],
   "source": []
  }
 ],
 "metadata": {
  "kernelspec": {
   "display_name": "Python 3",
   "language": "python",
   "name": "python3"
  },
  "language_info": {
   "codemirror_mode": {
    "name": "ipython",
    "version": 3
   },
   "file_extension": ".py",
   "mimetype": "text/x-python",
   "name": "python",
   "nbconvert_exporter": "python",
   "pygments_lexer": "ipython3",
   "version": "3.8.8"
  }
 },
 "nbformat": 4,
 "nbformat_minor": 4
}
