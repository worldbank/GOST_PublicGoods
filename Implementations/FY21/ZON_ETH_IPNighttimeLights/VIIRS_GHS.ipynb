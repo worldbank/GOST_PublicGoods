{
 "cells": [
  {
   "cell_type": "code",
   "execution_count": 14,
   "metadata": {},
   "outputs": [],
   "source": [
    "import sys, os\n",
    "import geemap, ee\n",
    "\n",
    "import geopandas as gpd\n",
    "import pandas as pd\n",
    "\n",
    "from shapely.geometry import Point, Polygon\n",
    "\n",
    "sys.path.append(os.path.join(os.path.expanduser(\"~\"), \"Code\", \"GEE_Zonal\", \"src\"))\n",
    "from gee_tools import ZonalStats\n",
    "from gee_helpers import gpd_to_gee\n",
    "ee.Initialize()"
   ]
  },
  {
   "cell_type": "code",
   "execution_count": 15,
   "metadata": {},
   "outputs": [
    {
     "name": "stdout",
     "output_type": "stream",
     "text": [
      "The autoreload extension is already loaded. To reload it, use:\n",
      "  %reload_ext autoreload\n"
     ]
    }
   ],
   "source": [
    "%load_ext autoreload\n",
    "%autoreload 2"
   ]
  },
  {
   "cell_type": "code",
   "execution_count": 42,
   "metadata": {},
   "outputs": [],
   "source": [
    "out_folder = \"/home/wb411133/temp/ETH_NTL/\" \n",
    "viirs_folder = os.path.join(out_folder, \"Data/VIIRS\")\n",
    "zonal_res = os.path.join(out_folder, \"Data/IP_Locations_NTL_ZONAL_v2.csv\")\n",
    "\n",
    "#ghs_gpkg = gpd.read_file(r'P:\\Data\\GLOBAL\\URBAN\\GHS\\GHS_STAT_UCDB2015MT_GLOBE_R2019A\\GHS_STAT_UCDB2015MT_GLOBE_R2019A_V1_2.gpkg')\n",
    "ip_locations = \"Data/IP_Locations.csv\"\n",
    "ghs_filter = gpd.read_file(ip_locations)\n",
    "ghs_filter['geometry'] = [Point(float(x['Lon']), float(x['Lat'])) for idx, x in ghs_filter.iterrows()]\n",
    "ghs_filter.crs = \"epsg:4326\"\n",
    "ghs_filter = ghs_filter.to_crs('epsg:3857')"
   ]
  },
  {
   "cell_type": "code",
   "execution_count": 43,
   "metadata": {},
   "outputs": [
    {
     "data": {
      "text/plain": [
       "[5, 10, 15, 20, 25, 30, 35, 40, 45, 3, 2]"
      ]
     },
     "execution_count": 43,
     "metadata": {},
     "output_type": "execute_result"
    }
   ],
   "source": [
    "buffers = list(range(5, 50, 5))\n",
    "buffers.append(3)\n",
    "buffers.append(2)\n",
    "buffers"
   ]
  },
  {
   "cell_type": "code",
   "execution_count": 45,
   "metadata": {
    "scrolled": true
   },
   "outputs": [],
   "source": [
    "ghs_buff = ghs_filter.copy()\n",
    "ghs_buff['geometry'] = ghs_buff['geometry'].apply(lambda x: x.buffer(cur_buffer * 1000))\n",
    "ghs_ee = gpd_to_gee(ghs_buff, id_col = 'Industrial Park')\n",
    "\n",
    "zs = ZonalStats(\n",
    "    collection_id = 'NOAA/VIIRS/DNB/MONTHLY_V1/VCMCFG',\n",
    "    target_features = ghs_ee,\n",
    "    statistic_type = 'sum',\n",
    "    scale = 500,\n",
    "    frequency = 'original',\n",
    "    band = 'avg_rad',\n",
    "    output_dir = 'ghs',\n",
    "    output_name = 'ghs_ntl'\n",
    ")\n",
    "res = zs.runZonalStats()"
   ]
  },
  {
   "cell_type": "code",
   "execution_count": 57,
   "metadata": {},
   "outputs": [
    {
     "name": "stdout",
     "output_type": "stream",
     "text": [
      "Completed\n",
      "Runtime: 438 minutes and 20 seconds\n"
     ]
    }
   ],
   "source": [
    "zs.reportRunTime()"
   ]
  },
  {
   "cell_type": "markdown",
   "metadata": {},
   "source": [
    "Instead, we will split GHS into several batches with 1,000 features"
   ]
  },
  {
   "cell_type": "code",
   "execution_count": 18,
   "metadata": {},
   "outputs": [],
   "source": [
    "for batch_number, i in enumerate(range(0, len(ghs_filter), 1000)):\n",
    "    batch = ghs_filter.iloc[i:i+1000].copy()\n",
    "    batch.to_file(os.path.join(output_dir, 'batches', f\"batch_{batch_number}.geojson\"), driver = \"GeoJSON\")"
   ]
  },
  {
   "cell_type": "code",
   "execution_count": 19,
   "metadata": {},
   "outputs": [],
   "source": [
    "results = []\n",
    "for batch_number, i in enumerate(range(0, len(ghs_filter), 1000)):\n",
    "    ghs_batch = os.path.join(output_dir, 'batches', f\"batch_{batch_number}.geojson\")\n",
    "    ghs_ee = geemap.geojson_to_ee(ghs_batch)\n",
    "    zs = ZonalStats(\n",
    "        collection_id = 'NOAA/VIIRS/DNB/MONTHLY_V1/VCMCFG',\n",
    "        target_features = ghs_ee,\n",
    "        statistic_type = 'sum',\n",
    "        scale = 500,\n",
    "        frequency = 'original',\n",
    "        band = 'avg_rad',\n",
    "        output_dir = 'ghs',\n",
    "        output_name = f'ntl_batch_{batch_number}',\n",
    "        min_threshold = 0\n",
    "    )\n",
    "    res = zs.runZonalStats()\n",
    "    results.append(zs)"
   ]
  },
  {
   "cell_type": "code",
   "execution_count": 24,
   "metadata": {},
   "outputs": [
    {
     "name": "stdout",
     "output_type": "stream",
     "text": [
      "Completed\n",
      "Runtime: 0 minutes and 51 seconds\n",
      "Completed\n",
      "Runtime: 0 minutes and 33 seconds\n",
      "Completed\n",
      "Runtime: 0 minutes and 28 seconds\n"
     ]
    }
   ],
   "source": [
    "for zs in results:\n",
    "    zs.reportRunTime()"
   ]
  },
  {
   "cell_type": "code",
   "execution_count": 21,
   "metadata": {},
   "outputs": [],
   "source": [
    "coverage = ee.ImageCollection('NOAA/VIIRS/DNB/MONTHLY_V1/VCMCFG').select('cf_cvg')"
   ]
  },
  {
   "cell_type": "code",
   "execution_count": 22,
   "metadata": {},
   "outputs": [],
   "source": [
    "def getGT0(image):\n",
    "    return image.gt(0) #.multiply(ee.Image.pixelArea())\n",
    "\n",
    "def getGT1(image):\n",
    "    return image.gt(1) #.multiply(ee.Image.pixelArea())\n",
    "\n",
    "def getGTE0(image):\n",
    "    return image.gte(0) #.multiply(ee.Image.pixelArea())\n",
    "\n",
    "def setArea(feature):\n",
    "    return feature.set(\"area_sqm\", feature.area())"
   ]
  },
  {
   "cell_type": "code",
   "execution_count": 25,
   "metadata": {},
   "outputs": [],
   "source": [
    "coverage_gt0 = coverage.map(getGT0)"
   ]
  },
  {
   "cell_type": "code",
   "execution_count": 26,
   "metadata": {},
   "outputs": [],
   "source": [
    "coverage_gt1 = coverage.map(getGT1)"
   ]
  },
  {
   "cell_type": "code",
   "execution_count": 27,
   "metadata": {},
   "outputs": [],
   "source": [
    "coverage_gte0 = coverage.map(getGTE0)"
   ]
  },
  {
   "cell_type": "code",
   "execution_count": 28,
   "metadata": {},
   "outputs": [],
   "source": [
    "results_gt0 = []\n",
    "for batch_number, i in enumerate(range(0, len(ghs_filter), 1000)):\n",
    "    ghs_batch = os.path.join(output_dir, 'batches', f\"batch_{batch_number}.geojson\")\n",
    "    ghs_ee = geemap.geojson_to_ee(ghs_batch)\n",
    "    ghs_ee = ghs_ee.map(setArea)\n",
    "    zs = ZonalStats(\n",
    "        collection_id = 'NOAA/VIIRS/DNB/MONTHLY_V1/VCMCFG',\n",
    "        target_features = ghs_ee,\n",
    "        statistic_type = 'sum',\n",
    "        scale = 500,\n",
    "        frequency = 'original',\n",
    "        output_dir = 'ghs',\n",
    "        output_name = f'gt0_batch_{batch_number}',\n",
    "        ee_dataset = coverage_gt0\n",
    "    )\n",
    "    res = zs.runZonalStats()\n",
    "    results_gt0.append(zs)"
   ]
  },
  {
   "cell_type": "code",
   "execution_count": 29,
   "metadata": {},
   "outputs": [
    {
     "name": "stdout",
     "output_type": "stream",
     "text": [
      "Status is Ready, hasn't started\n",
      "Status is Ready, hasn't started\n",
      "Status is Ready, hasn't started\n"
     ]
    }
   ],
   "source": [
    "for zs in results_gt0:\n",
    "    zs.reportRunTime()"
   ]
  },
  {
   "cell_type": "code",
   "execution_count": 30,
   "metadata": {},
   "outputs": [],
   "source": [
    "results_gt1 = []\n",
    "for batch_number, i in enumerate(range(0, len(ghs_filter), 1000)):\n",
    "    ghs_batch = os.path.join(output_dir, 'batches', f\"batch_{batch_number}.geojson\")\n",
    "    ghs_ee = geemap.geojson_to_ee(ghs_batch)\n",
    "    ghs_ee = ghs_ee.map(setArea)\n",
    "    zs = ZonalStats(\n",
    "        collection_id = 'NOAA/VIIRS/DNB/MONTHLY_V1/VCMCFG',\n",
    "        target_features = ghs_ee,\n",
    "        statistic_type = 'sum',\n",
    "        scale = 500,\n",
    "        frequency = 'original',\n",
    "        output_dir = 'ghs',\n",
    "        output_name = f'gt1_batch_{batch_number}',\n",
    "        ee_dataset = coverage_gt1\n",
    "    )\n",
    "    res = zs.runZonalStats()\n",
    "    results_gt1.append(zs)"
   ]
  },
  {
   "cell_type": "code",
   "execution_count": 31,
   "metadata": {},
   "outputs": [
    {
     "name": "stdout",
     "output_type": "stream",
     "text": [
      "Status is Ready, hasn't started\n",
      "Status is Ready, hasn't started\n",
      "Status is Ready, hasn't started\n"
     ]
    }
   ],
   "source": [
    "for zs in results_gt1:\n",
    "    zs.reportRunTime()"
   ]
  },
  {
   "cell_type": "code",
   "execution_count": 32,
   "metadata": {},
   "outputs": [],
   "source": [
    "results_gte0 = []\n",
    "for batch_number, i in enumerate(range(0, len(ghs_filter), 1000)):\n",
    "    ghs_batch = os.path.join(output_dir, 'batches', f\"batch_{batch_number}.geojson\")\n",
    "    ghs_ee = geemap.geojson_to_ee(ghs_batch)\n",
    "    ghs_ee = ghs_ee.map(setArea)\n",
    "    zs = ZonalStats(\n",
    "        collection_id = 'NOAA/VIIRS/DNB/MONTHLY_V1/VCMCFG',\n",
    "        target_features = ghs_ee,\n",
    "        statistic_type = 'sum',\n",
    "        scale = 500,\n",
    "        frequency = 'original',\n",
    "        output_dir = 'ghs',\n",
    "        output_name = f'gte0_batch_{batch_number}',\n",
    "        ee_dataset = coverage_gte0\n",
    "    )\n",
    "    res = zs.runZonalStats()\n",
    "    results_gte0.append(zs)"
   ]
  },
  {
   "cell_type": "markdown",
   "metadata": {},
   "source": [
    "### Collect Results\n",
    "Downloaded results from google drive, and created three folders: ntl, gt0, gt1"
   ]
  },
  {
   "cell_type": "code",
   "execution_count": 33,
   "metadata": {},
   "outputs": [],
   "source": [
    "ntl_dir = os.path.join(output_dir, 'ntl')\n",
    "cov_gt0_dir = os.path.join(output_dir, 'cov_gt0')\n",
    "cov_gte0_dir = os.path.join(output_dir, 'cov_gte0')\n",
    "cov_gt1_dir = os.path.join(output_dir, 'cov_gt1')"
   ]
  },
  {
   "cell_type": "code",
   "execution_count": 34,
   "metadata": {},
   "outputs": [],
   "source": [
    "ntl_dfs = [pd.read_csv(os.path.join(ntl_dir, file)) for file in os.listdir(ntl_dir)]"
   ]
  },
  {
   "cell_type": "code",
   "execution_count": 35,
   "metadata": {},
   "outputs": [],
   "source": [
    "ntl_df = pd.concat(ntl_dfs)"
   ]
  },
  {
   "cell_type": "code",
   "execution_count": 36,
   "metadata": {},
   "outputs": [],
   "source": [
    "ntl_df.drop(['system:index', '.geo'], axis=1, inplace=True)"
   ]
  },
  {
   "cell_type": "code",
   "execution_count": 37,
   "metadata": {},
   "outputs": [],
   "source": [
    "ntl_df.reset_index(drop=True, inplace=True)"
   ]
  },
  {
   "cell_type": "code",
   "execution_count": null,
   "metadata": {},
   "outputs": [],
   "source": [
    "ntl_df.set_index(\"ID_HDC_G0\", inplace=True)"
   ]
  },
  {
   "cell_type": "code",
   "execution_count": 38,
   "metadata": {},
   "outputs": [],
   "source": [
    "ntl_df_final = ntl_df.loc[:, list(ntl_df.columns[-8:])+list(ntl_df.columns[:-9])].copy()"
   ]
  },
  {
   "cell_type": "code",
   "execution_count": 107,
   "metadata": {},
   "outputs": [],
   "source": [
    "def renameFunc(col):\n",
    "    if 'rad' in col:\n",
    "        return \"Month-\"+col[4:6]+\"-\"+col[:4]\n",
    "    else:\n",
    "        return col"
   ]
  },
  {
   "cell_type": "code",
   "execution_count": 108,
   "metadata": {},
   "outputs": [],
   "source": [
    "ntl_df_final.rename(renameFunc, axis=1, inplace=True)"
   ]
  },
  {
   "cell_type": "code",
   "execution_count": 110,
   "metadata": {},
   "outputs": [],
   "source": [
    "ntl_df_final.to_csv(os.path.join(output_dir, \"ntl.csv\"))"
   ]
  },
  {
   "cell_type": "code",
   "execution_count": 42,
   "metadata": {},
   "outputs": [],
   "source": [
    "cov_gt0_dfs = [pd.read_csv(os.path.join(cov_gt0_dir, file)) for file in os.listdir(cov_gt0_dir)]"
   ]
  },
  {
   "cell_type": "code",
   "execution_count": 43,
   "metadata": {},
   "outputs": [],
   "source": [
    "cov_gt0_df = pd.concat(cov_gt0_dfs)"
   ]
  },
  {
   "cell_type": "code",
   "execution_count": 44,
   "metadata": {},
   "outputs": [],
   "source": [
    "cov_gt0_df.drop(['system:index', '.geo'], axis=1, inplace=True)"
   ]
  },
  {
   "cell_type": "code",
   "execution_count": 45,
   "metadata": {},
   "outputs": [],
   "source": [
    "cov_gt0_df.reset_index(drop=True, inplace=True)"
   ]
  },
  {
   "cell_type": "code",
   "execution_count": null,
   "metadata": {},
   "outputs": [],
   "source": [
    "cov_gt0_df.set_index(\"ID_HDC_G0\", inplace=True)"
   ]
  },
  {
   "cell_type": "code",
   "execution_count": 47,
   "metadata": {},
   "outputs": [],
   "source": [
    "cov_gte0_dfs = [pd.read_csv(os.path.join(cov_gte0_dir, file)) for file in os.listdir(cov_gte0_dir)]\n",
    "cov_gte0_df = pd.concat(cov_gte0_dfs)\n",
    "cov_gte0_df.drop(['system:index', '.geo'], axis=1, inplace=True)\n",
    "cov_gte0_df.reset_index(drop=True, inplace=True)"
   ]
  },
  {
   "cell_type": "code",
   "execution_count": 59,
   "metadata": {},
   "outputs": [],
   "source": [
    "cov_gte0_df.set_index(\"ID_HDC_G0\", inplace=True)"
   ]
  },
  {
   "cell_type": "code",
   "execution_count": 60,
   "metadata": {},
   "outputs": [],
   "source": [
    "coverage_gte0 = cov_gte0_df.loc[:, ['cvg' in col for col in cov_gte0_df.columns]].copy()"
   ]
  },
  {
   "cell_type": "code",
   "execution_count": 116,
   "metadata": {},
   "outputs": [],
   "source": [
    "coverage_gt0 = cov_gt0_df.loc[:, ['cvg' in col for col in cov_gt0_df.columns]].copy()"
   ]
  },
  {
   "cell_type": "code",
   "execution_count": 117,
   "metadata": {},
   "outputs": [],
   "source": [
    "coverage_gt0 = coverage_gt0.divide(coverage_gte0)*100"
   ]
  },
  {
   "cell_type": "code",
   "execution_count": 119,
   "metadata": {},
   "outputs": [],
   "source": [
    "def renameFunc(col):\n",
    "    return \"Month-\"+col[4:6]+\"-\"+col[:4]"
   ]
  },
  {
   "cell_type": "code",
   "execution_count": 120,
   "metadata": {},
   "outputs": [],
   "source": [
    "coverage_gt0.rename(renameFunc, axis=1, inplace=True)"
   ]
  },
  {
   "cell_type": "code",
   "execution_count": 67,
   "metadata": {},
   "outputs": [],
   "source": [
    "cov_gt1_dfs = [pd.read_csv(os.path.join(cov_gt1_dir, file)) for file in os.listdir(cov_gt1_dir)]\n",
    "cov_gt1_df = pd.concat(cov_gt1_dfs)\n",
    "cov_gt1_df.drop(['system:index', '.geo'], axis=1, inplace=True)\n",
    "cov_gt1_df.reset_index(drop=True, inplace=True)"
   ]
  },
  {
   "cell_type": "code",
   "execution_count": 68,
   "metadata": {},
   "outputs": [],
   "source": [
    "cov_gt1_df.set_index(\"ID_HDC_G0\", inplace=True)"
   ]
  },
  {
   "cell_type": "code",
   "execution_count": 122,
   "metadata": {},
   "outputs": [],
   "source": [
    "coverage_gt1 = cov_gt1_df.loc[:, ['cvg' in col for col in cov_gt1_df.columns]].copy()"
   ]
  },
  {
   "cell_type": "code",
   "execution_count": 123,
   "metadata": {},
   "outputs": [],
   "source": [
    "coverage_gt1 = coverage_gt1.divide(coverage_gte0)*100"
   ]
  },
  {
   "cell_type": "code",
   "execution_count": 124,
   "metadata": {},
   "outputs": [],
   "source": [
    "coverage_gt1.rename(renameFunc, axis=1, inplace=True)"
   ]
  },
  {
   "cell_type": "code",
   "execution_count": 73,
   "metadata": {},
   "outputs": [],
   "source": [
    "attributes = cov_gt0_df.loc[:, ['cvg' not in col for col in cov_gt0_df.columns]].copy()"
   ]
  },
  {
   "cell_type": "code",
   "execution_count": 76,
   "metadata": {},
   "outputs": [],
   "source": [
    "attributes.drop(\"AREA\", axis=1, inplace=True)"
   ]
  },
  {
   "cell_type": "code",
   "execution_count": 78,
   "metadata": {},
   "outputs": [],
   "source": [
    "attributes.loc[:, \"area_sqkm\"] = attributes['area_sqm'] / 1000000"
   ]
  },
  {
   "cell_type": "code",
   "execution_count": 85,
   "metadata": {},
   "outputs": [
    {
     "data": {
      "text/plain": [
       "1    2785\n",
       "2     109\n",
       "0      14\n",
       "Name: QA2_1V, dtype: int64"
      ]
     },
     "execution_count": 85,
     "metadata": {},
     "output_type": "execute_result"
    }
   ],
   "source": [
    "attributes.QA2_1V.value_counts()"
   ]
  },
  {
   "cell_type": "code",
   "execution_count": 125,
   "metadata": {},
   "outputs": [],
   "source": [
    "coverage_gt0 = attributes.join(coverage_gt0)"
   ]
  },
  {
   "cell_type": "code",
   "execution_count": 126,
   "metadata": {},
   "outputs": [],
   "source": [
    "coverage_gt1 = attributes.join(coverage_gt1)"
   ]
  },
  {
   "cell_type": "code",
   "execution_count": 128,
   "metadata": {},
   "outputs": [],
   "source": [
    "coverage_gt0.to_csv(os.path.join(output_dir, \"cov_gt0.csv\"))"
   ]
  },
  {
   "cell_type": "code",
   "execution_count": 129,
   "metadata": {},
   "outputs": [],
   "source": [
    "coverage_gt1.to_csv(os.path.join(output_dir, \"cov_gt1.csv\"))"
   ]
  }
 ],
 "metadata": {
  "kernelspec": {
   "display_name": "Earth Engine",
   "language": "python",
   "name": "ee"
  },
  "language_info": {
   "codemirror_mode": {
    "name": "ipython",
    "version": 3
   },
   "file_extension": ".py",
   "mimetype": "text/x-python",
   "name": "python",
   "nbconvert_exporter": "python",
   "pygments_lexer": "ipython3",
   "version": "3.9.4"
  },
  "toc": {
   "base_numbering": 1,
   "nav_menu": {},
   "number_sections": true,
   "sideBar": true,
   "skip_h1_title": false,
   "title_cell": "Table of Contents",
   "title_sidebar": "Contents",
   "toc_cell": false,
   "toc_position": {},
   "toc_section_display": true,
   "toc_window_display": false
  },
  "varInspector": {
   "cols": {
    "lenName": 16,
    "lenType": 16,
    "lenVar": 40
   },
   "kernels_config": {
    "python": {
     "delete_cmd_postfix": "",
     "delete_cmd_prefix": "del ",
     "library": "var_list.py",
     "varRefreshCmd": "print(var_dic_list())"
    },
    "r": {
     "delete_cmd_postfix": ") ",
     "delete_cmd_prefix": "rm(",
     "library": "var_list.r",
     "varRefreshCmd": "cat(var_dic_list()) "
    }
   },
   "types_to_exclude": [
    "module",
    "function",
    "builtin_function_or_method",
    "instance",
    "_Feature"
   ],
   "window_display": false
  }
 },
 "nbformat": 4,
 "nbformat_minor": 5
}
