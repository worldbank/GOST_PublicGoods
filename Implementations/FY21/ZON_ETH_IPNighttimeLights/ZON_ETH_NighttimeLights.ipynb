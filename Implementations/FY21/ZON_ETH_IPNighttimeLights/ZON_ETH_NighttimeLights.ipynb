{
 "cells": [
  {
   "cell_type": "markdown",
   "metadata": {},
   "source": [
    "# Calculate zonal nighttime lights and animated nighttime lights\n",
    "\n",
    "This notebook calculates zonal statistics on VIIRS nighttime lights for a series of industrial parks. For each of those parks, we calculate a series of buffers, and summarize nighttime lights.\n",
    "\n",
    "Finally, and animation of nighttime lights is created for a 10km buffer around the IP."
   ]
  },
  {
   "cell_type": "code",
   "execution_count": 1,
   "metadata": {},
   "outputs": [
    {
     "name": "stderr",
     "output_type": "stream",
     "text": [
      "/home/wb411133/.local/lib/python3.7/site-packages/geopandas/_compat.py:110: UserWarning: The Shapely GEOS version (3.8.0-CAPI-1.13.1 ) is incompatible with the GEOS version PyGEOS was compiled with (3.9.0-CAPI-1.16.2). Conversions between both will be slow.\n",
      "  shapely_geos_version, geos_capi_version_string\n"
     ]
    }
   ],
   "source": [
    "import sys, os, importlib\n",
    "import rasterio, boto3\n",
    "\n",
    "import pandas as pd\n",
    "import geopandas as gpd\n",
    "\n",
    "from shapely.geometry import Point, box\n",
    "\n",
    "sys.path.append(\"../../../../gostrocks/src\")\n",
    "\n",
    "import GOSTRocks.rasterMisc as rMisc\n",
    "import GOSTRocks \n",
    "from GOSTRocks.misc import tPrint\n"
   ]
  },
  {
   "cell_type": "code",
   "execution_count": 2,
   "metadata": {},
   "outputs": [],
   "source": [
    "ip_locations = \"Data/IP_Locations.csv\"\n",
    "out_folder = \"/home/wb411133/temp/ETH_NTL/\" \n",
    "viirs_folder = os.path.join(out_folder, \"Data/VIIRS\")\n",
    "zonal_res = os.path.join(out_folder, \"Data/IP_Locations_NTL_ZONAL.csv\")\n",
    "\n",
    "if not os.path.exists(viirs_folder):\n",
    "    os.makedirs(viirs_folder)\n",
    "    \n",
    "# Read in csv, re project to UTM, and write to file\n",
    "inD = pd.read_csv(ip_locations)\n",
    "inD_geom = [Point(x['Lon'], x['Lat']) for idx, x in inD.iterrows()]\n",
    "inD = gpd.GeoDataFrame(inD, geometry=inD_geom, crs=\"epsg:4326\")\n",
    "inD = inD.to_crs(\"EPSG:20138\")\n",
    "inD.to_file(ip_locations.replace(\".csv\", \".geojson\"), driver=\"GeoJSON\")"
   ]
  },
  {
   "cell_type": "code",
   "execution_count": 3,
   "metadata": {},
   "outputs": [
    {
     "data": {
      "text/plain": [
       "array(['Adama IP', 'Bole Lemi IP', 'Debre Birhan', 'Dire Dawa',\n",
       "       'Hawassa IP', 'ICT IP', 'Kilinto Pharmaceutical IP',\n",
       "       'Kombolcha IP', 'Mekele IP', 'Bahir Dar IP', 'CCCC Arerti', 'DBL',\n",
       "       'Eastern Industrial Zone', 'Huajian IP', 'Jimma IP',\n",
       "       'Mojo George Shoe Industrial Zone', 'Vogue/Velocity'], dtype=object)"
      ]
     },
     "execution_count": 3,
     "metadata": {},
     "output_type": "execute_result"
    }
   ],
   "source": [
    "inD['Industrial Park'].unique()"
   ]
  },
  {
   "cell_type": "markdown",
   "metadata": {},
   "source": [
    "# Zonal Stats"
   ]
  },
  {
   "cell_type": "code",
   "execution_count": 4,
   "metadata": {},
   "outputs": [],
   "source": [
    "buffers = list(range(5, 51, 5))\n",
    "buffers.append(2)\n",
    "buffers.append(3)\n",
    "\n",
    "try:\n",
    "    del final\n",
    "except:\n",
    "    pass\n",
    "\n",
    "for buf in buffers:    \n",
    "    curD = inD.copy()\n",
    "    curD['geometry'] = curD.buffer(buf * 1000)\n",
    "    curD['BUFFER_KM'] = buf\n",
    "    try:\n",
    "        final = final.append(curD)\n",
    "    except:\n",
    "        final = curD\n",
    "final = final.sort_values([\"Industrial Park\", \"BUFFER_KM\"])\n",
    "inD = final\n",
    "inD = inD.to_crs(\"epsg:4326\")\n",
    "inD.to_file(ip_locations.replace(\".csv\", \"_BUFFERED.geojson\"), driver=\"GeoJSON\")"
   ]
  },
  {
   "cell_type": "code",
   "execution_count": 5,
   "metadata": {},
   "outputs": [],
   "source": [
    "def get_all_s3_keys(s3, bucket, prefix=''):\n",
    "    \"\"\"Get a list of all keys in an S3 bucket.\"\"\"\n",
    "    keys = []\n",
    "\n",
    "    kwargs = {'Bucket': bucket, 'Prefix': prefix}\n",
    "    while True:\n",
    "        resp = s3.list_objects_v2(**kwargs)\n",
    "        for obj in resp['Contents']:\n",
    "            keys.append(obj['Key'])\n",
    "        try:\n",
    "            kwargs['ContinuationToken'] = resp['NextContinuationToken']\n",
    "        except KeyError:\n",
    "            break\n",
    "    return keys\n",
    "\n",
    "# Get a list of the VIIRS images in S3. This example leverages the GOST teams S3 bucket\n",
    "s3_base = 'wbgdecinternal-ntl'\n",
    "s3 = boto3.client('s3')\n",
    "\n",
    "all_objects = get_all_s3_keys(s3, s3_base, \"NTL/VIIRS_UNZIP\")"
   ]
  },
  {
   "cell_type": "code",
   "execution_count": 6,
   "metadata": {
    "scrolled": true
   },
   "outputs": [
    {
     "name": "stdout",
     "output_type": "stream",
     "text": [
      "10:02:09\tNTL/VIIRS_UNZIP/viirs_201204/TILE2/SVDNB_npp_20120401-20120430_75N060W_vcmcfg_v10_c201605121456.avg_rade9h.tif\n",
      "10:02:24\tNTL/VIIRS_UNZIP/viirs_201205/TILE2/SVDNB_npp_20120501-20120531_75N060W_vcmcfg_v10_c201605121458.avg_rade9h.tif\n",
      "10:02:40\tNTL/VIIRS_UNZIP/viirs_201206/TILE2/SVDNB_npp_20120601-20120630_75N060W_vcmcfg_v10_c201605121459.avg_rade9h.tif\n",
      "10:02:54\tNTL/VIIRS_UNZIP/viirs_201207/TILE2/SVDNB_npp_20120701-20120731_75N060W_vcmcfg_v10_c201605121509.avg_rade9.tif\n",
      "10:03:10\tNTL/VIIRS_UNZIP/viirs_201208/TILE2/SVDNB_npp_20120801-20120831_75N060W_vcmcfg_v10_c201602121348.avg_rade9.tif\n",
      "10:03:27\tNTL/VIIRS_UNZIP/viirs_201210/TILE2/SVDNB_npp_20121001-20121031_75N060W_vcmcfg_v10_c201602051401.avg_rade9.tif\n",
      "10:03:42\tNTL/VIIRS_UNZIP/viirs_201211/TILE2/SVDNB_npp_20121101-20121130_75N060W_vcmcfg_v10_c201601270845.avg_rade9.tif\n",
      "10:03:58\tNTL/VIIRS_UNZIP/viirs_201212/TILE2/SVDNB_npp_20121201-20121231_75N060W_vcmcfg_v10_c201601041440.avg_rade9.tif\n",
      "10:04:09\tError Processing NTL/VIIRS_UNZIP/viirs_201212/TILE3/SVDNB_npp_20121201-20121231_75N060E_vcmcfg_v10_c201601041440.cf_cvg.tif\n",
      "10:04:13\tNTL/VIIRS_UNZIP/viirs_201301/TILE2/SVDNB_npp_20130101-20130131_75N060W_vcmcfg_v10_c201605121529.avg_rade9.tif\n",
      "10:04:29\tNTL/VIIRS_UNZIP/viirs_201302/TILE2/SVDNB_npp_20130201-20130228_75N060W_vcmcfg_v10_c201605131247.avg_rade9.tif\n",
      "10:04:45\tNTL/VIIRS_UNZIP/viirs_201303/TILE2/SVDNB_npp_20130301-20130331_75N060W_vcmcfg_v10_c201605131250.avg_rade9.tif\n",
      "10:05:00\tNTL/VIIRS_UNZIP/viirs_201304/TILE2/SVDNB_npp_20130401-20130430_75N060W_vcmcfg_v10_c201605131251.avg_rade9.tif\n",
      "10:05:17\tNTL/VIIRS_UNZIP/viirs_201305/TILE2/SVDNB_npp_20130501-20130531_75N060W_vcmcfg_v10_c201605131256.avg_rade9.tif\n",
      "10:05:32\tNTL/VIIRS_UNZIP/viirs_201306/TILE2/SVDNB_npp_20130601-20130630_75N060W_vcmcfg_v10_c201605131304.avg_rade9.tif\n",
      "10:05:47\tNTL/VIIRS_UNZIP/viirs_201307/TILE2/SVDNB_npp_20130701-20130731_75N060W_vcmcfg_v10_c201605131305.avg_rade9.tif\n",
      "10:06:01\tNTL/VIIRS_UNZIP/viirs_201308/TILE2/SVDNB_npp_20130801-20130831_75N060W_vcmcfg_v10_c201605131312.avg_rade9.tif\n",
      "10:06:16\tNTL/VIIRS_UNZIP/viirs_201309/TILE2/SVDNB_npp_20130901-20130930_75N060W_vcmcfg_v10_c201605131325.avg_rade9.tif\n",
      "10:06:32\tNTL/VIIRS_UNZIP/viirs_201310/TILE2/SVDNB_npp_20131001-20131031_75N060W_vcmcfg_v10_c201605131331.avg_rade9.tif\n",
      "10:06:47\tNTL/VIIRS_UNZIP/viirs_201311/TILE2/SVDNB_npp_20131101-20131130_75N060W_vcmcfg_v10_c201605131332.avg_rade9.tif\n",
      "10:07:03\tNTL/VIIRS_UNZIP/viirs_201312/TILE2/SVDNB_npp_20131201-20131231_75N060W_vcmcfg_v10_c201605131341.avg_rade9.tif\n",
      "10:07:20\tNTL/VIIRS_UNZIP/viirs_201401/TILE2/SVDNB_npp_20140101-20140131_75N060W_vcmcfg_v10_c201506171538.avg_rade9.tif\n",
      "10:07:36\tNTL/VIIRS_UNZIP/viirs_201402/TILE2/SVDNB_npp_20140201-20140228_75N060W_vcmcfg_v10_c201507201052.avg_rade9.tif\n",
      "10:07:51\tNTL/VIIRS_UNZIP/viirs_201403/TILE2/SVDNB_npp_20140301-20140331_75N060W_vcmcfg_v10_c201506121552.avg_rade9.tif\n",
      "10:08:07\tNTL/VIIRS_UNZIP/viirs_201404/TILE2/SVDNB_npp_20140401-20140430_75N060W_vcmcfg_v10_c201507201613.avg_rade9.tif\n",
      "10:08:23\tNTL/VIIRS_UNZIP/viirs_201405/TILE2/SVDNB_npp_20140501-20140531_75N060W_vcmcfg_v10_c201502061154.avg_rade9h.tif\n",
      "10:08:38\tNTL/VIIRS_UNZIP/viirs_201406/TILE2/SVDNB_npp_20140601-20140630_75N060W_vcmcfg_v10_c201502121156.avg_rade9.tif\n",
      "10:08:54\tNTL/VIIRS_UNZIP/viirs_201407/TILE2/SVDNB_npp_20140701-20140731_75N060W_vcmcfg_v10_c201506231100.avg_rade9.tif\n",
      "10:09:11\tNTL/VIIRS_UNZIP/viirs_201408/TILE2/SVDNB_npp_20140801-20140831_75N060W_vcmcfg_v10_c201508131459.avg_rade9.tif\n",
      "10:09:27\tNTL/VIIRS_UNZIP/viirs_201409/TILE2/SVDNB_npp_20140901-20140930_75N060W_vcmcfg_v10_c201502251400.avg_rade9.tif\n",
      "10:09:41\tNTL/VIIRS_UNZIP/viirs_201410/TILE2/SVDNB_npp_20141001-20141031_75N060W_vcmcfg_v10_c201502231115.avg_rade9.tif\n",
      "10:09:56\tNTL/VIIRS_UNZIP/viirs_201411/TILE2/SVDNB_npp_20141101-20141130_75N060W_vcmcfg_v10_c201502231455.avg_rade9.tif\n",
      "10:10:12\tNTL/VIIRS_UNZIP/viirs_201412/TILE2/SVDNB_npp_20141201-20141231_75N060W_vcmcfg_v10_c201502231125.avg_rade9.tif\n",
      "10:10:27\tNTL/VIIRS_UNZIP/viirs_201501/TILE2/SVDNB_npp_20150101-20150131_75N060W_vcmcfg_v10_c201505111709.avg_rade9.tif\n",
      "10:10:43\tNTL/VIIRS_UNZIP/viirs_201502/TILE2/SVDNB_npp_20150201-20150228_75N060W_vcmcfg_v10_c201504281504.avg_rade9.tif\n",
      "10:10:59\tNTL/VIIRS_UNZIP/viirs_201503/TILE2/SVDNB_npp_20150301-20150331_75N060W_vcmcfg_v10_c201505191916.avg_rade9.tif\n",
      "10:11:16\tNTL/VIIRS_UNZIP/viirs_201504/TILE2/SVDNB_npp_20150401-20150430_75N060W_vcmcfg_v10_c201506011707.avg_rade9.tif\n",
      "10:11:29\tError Processing NTL/VIIRS_UNZIP/viirs_201504/TILE5/SVDNB_npp_20150401-20150430_00N060W_vcmcfg_v10_c201506011707.cf_cvg.tif\n",
      "10:11:31\tNTL/VIIRS_UNZIP/viirs_201505/TILE2/SVDNB_npp_20150501-20150531_75N060W_vcmcfg_v10_c201506161325.avg_rade9.tif\n",
      "10:11:47\tNTL/VIIRS_UNZIP/viirs_201506/TILE2/SVDNB_npp_20150601-20150630_75N060W_vcmcfg_v10_c201508141522.avg_rade9.tif\n",
      "10:12:05\tNTL/VIIRS_UNZIP/viirs_201507/TILE2/SVDNB_npp_20150701-20150731_75N060W_vcmcfg_v10_c201509151839.avg_rade9.tif\n",
      "10:12:21\tNTL/VIIRS_UNZIP/viirs_201508/TILE2/SVDNB_npp_20150801-20150831_75N060W_vcmcfg_v10_c201509301759.avg_rade9.tif\n",
      "10:12:36\tNTL/VIIRS_UNZIP/viirs_201509/TILE2/SVDNB_npp_20150901-20150930_75N060W_vcmcfg_v10_c201511121210.avg_rade9.tif\n",
      "10:12:51\tNTL/VIIRS_UNZIP/viirs_201510/TILE2/SVDNB_npp_20151001-20151031_75N060W_vcmcfg_v10_c201511181404.avg_rade9.tif\n",
      "10:13:07\tNTL/VIIRS_UNZIP/viirs_201511/TILE2/SVDNB_npp_20151101-20151130_75N060W_vcmcfg_v10_c201512121648.avg_rade9.tif\n",
      "10:13:23\tNTL/VIIRS_UNZIP/viirs_201512/TILE2/SVDNB_npp_20151201-20151231_75N060W_vcmcfg_v10_c201601251413.avg_rade9.tif\n",
      "10:13:38\tNTL/VIIRS_UNZIP/viirs_201601/TILE2/SVDNB_npp_20160101-20160131_75N060W_vcmcfg_v10_c201603132032.avg_rade9.tif\n",
      "10:13:49\tError Processing NTL/VIIRS_UNZIP/viirs_201601/TILE2/SVDNB_npp_20160101-20160131_75N060W_vcmcfg_v10_c201603132032.cf_cvg.tif\n",
      "10:13:53\tNTL/VIIRS_UNZIP/viirs_201602/TILE2/SVDNB_npp_20160201-20160229_75N060W_vcmcfg_v10_c201603152010.avg_rade9.tif\n",
      "10:14:08\tNTL/VIIRS_UNZIP/viirs_201603/TILE2/SVDNB_npp_20160301-20160331_75N060W_vcmcfg_v10_c201604191144.avg_rade9.tif\n",
      "10:14:23\tNTL/VIIRS_UNZIP/viirs_201604/TILE2/SVDNB_npp_20160401-20160430_75N060W_vcmcfg_v10_c201606140957.avg_rade9.tif\n",
      "10:14:38\tNTL/VIIRS_UNZIP/viirs_201605/TILE2/SVDNB_npp_20160501-20160531_75N060W_vcmcfg_v10_c201606281430.avg_rade9.tif\n",
      "10:14:53\tNTL/VIIRS_UNZIP/viirs_201606/TILE2/SVDNB_npp_20160601-20160630_75N060W_vcmcfg_v10_c201608101832.avg_rade9.tif\n",
      "10:15:08\tNTL/VIIRS_UNZIP/viirs_201607/TILE2/SVDNB_npp_20160701-20160731_75N060W_vcmcfg_v10_c201609121310.avg_rade9.tif\n",
      "10:15:25\tNTL/VIIRS_UNZIP/viirs_201608/TILE2/SVDNB_npp_20160801-20160831_75N060W_vcmcfg_v10_c201610041107.avg_rade9.tif\n",
      "10:15:40\tNTL/VIIRS_UNZIP/viirs_201609/TILE2/SVDNB_npp_20160901-20160930_75N060W_vcmcfg_v10_c201610280941.avg_rade9.tif\n",
      "10:15:55\tNTL/VIIRS_UNZIP/viirs_201610/TILE2/SVDNB_npp_20161001-20161031_75N060W_vcmcfg_v10_c201612011122.avg_rade9.tif\n",
      "10:16:10\tNTL/VIIRS_UNZIP/viirs_201611/TILE2/SVDNB_npp_20161101-20161130_75N060W_vcmcfg_v10_c201612191231.avg_rade9.tif\n",
      "10:16:25\tNTL/VIIRS_UNZIP/viirs_201612/TILE2/SVDNB_npp_20161201-20161231_75N060W_vcmcfg_v10_c201701271136.avg_rade9.tif\n",
      "10:16:41\tNTL/VIIRS_UNZIP/viirs_201701/TILE2/SVDNB_npp_20170101-20170131_75N060W_vcmcfg_v10_c201702241223.avg_rade9.tif\n",
      "10:16:57\tNTL/VIIRS_UNZIP/viirs_201702/TILE2/SVDNB_npp_20170201-20170228_75N060W_vcmcfg_v10_c201703012030.avg_rade9.tif\n",
      "10:17:13\tNTL/VIIRS_UNZIP/viirs_201703/TILE2/SVDNB_npp_20170301-20170331_75N060W_vcmcfg_v10_c201705020851.avg_rade9.tif\n",
      "10:17:29\tNTL/VIIRS_UNZIP/viirs_201704/TILE2/SVDNB_npp_20170401-20170430_75N060W_vcmcfg_v10_c201705011300.avg_rade9.tif\n",
      "10:17:45\tNTL/VIIRS_UNZIP/viirs_201705/TILE2/SVDNB_npp_20170501-20170531_75N060W_vcmcfg_v10_c201706021500.avg_rade9.tif\n",
      "10:18:03\tNTL/VIIRS_UNZIP/viirs_201706/TILE2/SVDNB_npp_20170601-20170630_75N060W_vcmcfg_v10_c201707021700.avg_rade9h.tif\n",
      "10:18:20\tNTL/VIIRS_UNZIP/viirs_201707/TILE2/SVDNB_npp_20170701-20170731_75N060W_vcmcfg_v10_c201708061230.avg_rade9h.tif\n",
      "10:18:36\tNTL/VIIRS_UNZIP/viirs_201708/TILE2/SVDNB_npp_20170801-20170831_75N060W_vcmcfg_v10_c201709051000.avg_rade9h.tif\n",
      "10:18:52\tNTL/VIIRS_UNZIP/viirs_201709/TILE2/SVDNB_npp_20170901-20170930_75N060W_vcmcfg_v10_c201710041620.avg_rade9h.tif\n",
      "10:19:08\tNTL/VIIRS_UNZIP/viirs_201710/TILE2/SVDNB_npp_20171001-20171031_75N060W_vcmcfg_v10_c201711021230.avg_rade9h.tif\n"
     ]
    },
    {
     "name": "stdout",
     "output_type": "stream",
     "text": [
      "10:19:25\tNTL/VIIRS_UNZIP/viirs_201711/TILE2/SVDNB_npp_20171101-20171130_75N060W_vcmcfg_v10_c201712040930.avg_rade9h.tif\n",
      "10:19:42\tNTL/VIIRS_UNZIP/viirs_201712/TILE2/SVDNB_npp_20171201-20171231_75N060W_vcmcfg_v10_c201801021747.avg_rade9h.tif\n",
      "10:19:58\tNTL/VIIRS_UNZIP/viirs_201801/TILE2/SVDNB_npp_20180101-20180131_75N060W_vcmcfg_v10_c201805221252.avg_rade9h.tif\n",
      "10:20:13\tNTL/VIIRS_UNZIP/viirs_201802/TILE2/SVDNB_npp_20180201-20180228_75N060W_vcmcfg_v10_c201803012000.avg_rade9h.tif\n",
      "10:20:30\tNTL/VIIRS_UNZIP/viirs_201803/TILE2/SVDNB_npp_20180301-20180331_75N060W_vcmcfg_v10_c201804022005.avg_rade9h.tif\n",
      "10:20:45\tNTL/VIIRS_UNZIP/viirs_201804/TILE2/SVDNB_npp_20180401-20180430_75N060W_vcmcfg_v10_c201805021400.avg_rade9h.tif\n",
      "10:21:01\tNTL/VIIRS_UNZIP/viirs_201805/TILE2/SVDNB_npp_20180501-20180531_75N060W_vcmcfg_v10_c201806061100.avg_rade9h.tif\n",
      "10:21:16\tNTL/VIIRS_UNZIP/viirs_201807/TILE2/SVDNB_npp_20180701-20180731_75N060W_vcmcfg_v10_c201812111300.avg_rade9h.tif\n",
      "10:21:31\tNTL/VIIRS_UNZIP/viirs_201808/TILE2/SVDNB_npp_20180801-20180831_75N060W_vcmcfg_v10_c201809070900.avg_rade9h.tif\n",
      "10:21:47\tNTL/VIIRS_UNZIP/viirs_201809/TILE2/SVDNB_npp_20180901-20180930_75N060W_vcmcfg_v10_c201810250900.avg_rade9h.tif\n",
      "10:22:01\tNTL/VIIRS_UNZIP/viirs_201810/TILE2/SVDNB_npp_20181001-20181031_75N060W_vcmcfg_v10_c201811131000.avg_rade9h.tif\n",
      "10:22:17\tNTL/VIIRS_UNZIP/viirs_201811/TILE2/SVDNB_npp_20181101-20181130_75N060W_vcmcfg_v10_c201812081230.avg_rade9h.tif\n",
      "10:22:32\tNTL/VIIRS_UNZIP/viirs_201812/TILE2/SVDNB_npp_20181201-20181231_75N060W_vcmcfg_v10_c201902122100.avg_rade9h.tif\n",
      "10:22:49\tNTL/VIIRS_UNZIP/viirs_201901/TILE2/SVDNB_npp_20190101-20190131_75N060W_vcmcfg_v10_c201905201300.avg_rade9h.tif\n",
      "10:23:06\tNTL/VIIRS_UNZIP/viirs_201902/TILE2/SVDNB_npp_20190201-20190228_75N060W_vcmcfg_v10_c201903110900.avg_rade9h.tif\n",
      "10:23:22\tNTL/VIIRS_UNZIP/viirs_201903/TILE2/SVDNB_npp_20190301-20190331_75N060W_vcmcfg_v10_c201904071900.avg_rade9h.tif\n",
      "10:23:38\tNTL/VIIRS_UNZIP/viirs_201904/TILE2/SVDNB_npp_20190401-20190430_75N060W_vcmcfg_v10_c201905191000.avg_rade9h.tif\n",
      "10:23:54\tNTL/VIIRS_UNZIP/viirs_201905/TILE2/SVDNB_npp_20190501-20190531_75N060W_vcmcfg_v10_c201906130930.avg_rade9h.tif\n",
      "10:24:09\tNTL/VIIRS_UNZIP/viirs_201906/TILE2/SVDNB_npp_20190601-20190630_75N060W_vcmcfg_v10_c201907091100.avg_rade9h.tif\n",
      "10:24:23\tNTL/VIIRS_UNZIP/viirs_201907/TILE2/SVDNB_npp_20190701-20190731_75N060W_vcmcfg_v10_c201908090900.avg_rade9h.tif\n",
      "10:24:38\tNTL/VIIRS_UNZIP/viirs_201908/TILE2/SVDNB_npp_20190801-20190831_75N060W_vcmcfg_v10_c201909051300.avg_rade9h.tif\n",
      "10:24:53\tNTL/VIIRS_UNZIP/viirs_201911/TILE2/SVDNB_npp_20191101-20191130_75N060W_vcmcfg_v10_c201912131600.avg_rade9h.tif\n",
      "10:25:07\tNTL/VIIRS_UNZIP/viirs_201912/TILE2/SVDNB_npp_20191201-20191231_75N060W_vcmcfg_v10_c202001140900.avg_rade9h.tif\n",
      "10:25:21\tNTL/VIIRS_UNZIP/viirs_2020_2021/DNB_npp_20200101-20200131_global_ecm-slcorr_v10.avg_rade9.tif\n",
      "10:25:45\tNTL/VIIRS_UNZIP/viirs_2020_2021/DNB_npp_20200201-20200229_global_ecm-slcorr_v10.avg_rade9.tif\n",
      "10:26:10\tNTL/VIIRS_UNZIP/viirs_2020_2021/DNB_npp_20200301-20200331_global_ecm-slcorr_v10.avg_rade9.tif\n",
      "10:26:34\tNTL/VIIRS_UNZIP/viirs_2020_2021/DNB_npp_20200401-20200430_global_ecm-slcorr_v10.avg_rade9.tif\n",
      "10:26:58\tNTL/VIIRS_UNZIP/viirs_2020_2021/DNB_npp_20200501-20200531_global_ecm-slcorr_v10.avg_rade9.tif\n",
      "10:27:22\tNTL/VIIRS_UNZIP/viirs_2020_2021/DNB_npp_20200601-20200630_global_ecm-slcorr_v10.avg_rade9.tif\n",
      "10:27:46\tNTL/VIIRS_UNZIP/viirs_2020_2021/DNB_npp_20200701-20200731_global_ecm-slcorr_v10.avg_rade9.tif\n",
      "10:28:08\tNTL/VIIRS_UNZIP/viirs_2020_2021/DNB_npp_20200801-20200831_global_ecm-slcorr_v10.avg_rade9.tif\n",
      "10:28:32\tNTL/VIIRS_UNZIP/viirs_2020_2021/DNB_npp_20200901-20200930_global_ecm-slcorr_v10.avg_rade9.tif\n",
      "10:28:55\tNTL/VIIRS_UNZIP/viirs_2020_2021/DNB_npp_20201001-20201031_global_ecm-slcorr_v10.avg_rade9.tif\n",
      "10:29:21\tNTL/VIIRS_UNZIP/viirs_2020_2021/DNB_npp_20201101-20201130_global_ecm-slcorr_v10.avg_rade9.tif\n",
      "10:29:46\tNTL/VIIRS_UNZIP/viirs_2020_2021/DNB_npp_20201201-20201231_global_ecm-slcorr_v10.avg_rade9.tif\n",
      "10:30:10\tNTL/VIIRS_UNZIP/viirs_2020_2021/DNB_npp_20210101-20210131_global_ecm-slcorr_v10.avg_rade9.tif\n",
      "10:30:35\tNTL/VIIRS_UNZIP/viirs_2020_2021/DNB_npp_20210201-20210228_global_ecm-slcorr_v10.avg_rade9.tif\n",
      "10:31:00\tNTL/VIIRS_UNZIP/viirs_2020_2021/DNB_npp_20210301-20210331_global_ecm-slcorr_v10.avg_rade9.tif\n",
      "10:31:24\tNTL/VIIRS_UNZIP/viirs_2020_2021/DNB_npp_20210401-20210430_global_ecm-slcorr_v10.avg_rade9.tif\n",
      "10:31:48\tNTL/VIIRS_UNZIP/viirs_2020_2021/DNB_npp_20210501-20210531_global_ecm-slcorr_v10.avg_rade9.tif\n",
      "10:32:13\tNTL/VIIRS_UNZIP/viirs_2020_2021/DNB_npp_20210601-20210630_global_ecm-slcorr_v10.avg_rade9.tif\n"
     ]
    }
   ],
   "source": [
    "sel_images = []\n",
    "for obj in all_objects:\n",
    "    s3_path = f's3://{s3_base}/{obj}'\n",
    "    try:\n",
    "        curR = rasterio.open(s3_path)\n",
    "        cur_extent = box(*curR.bounds)\n",
    "        col_name = obj.split(\"/\")[-1].replace(\".tif\", '')\n",
    "        if cur_extent.intersects(inD.unary_union) and (not col_name in inD.columns) \\\n",
    "            and (not \"cf_cvg\" in obj) and (not \"n_cf\" in obj) :        \n",
    "            tPrint(obj)\n",
    "            res = rMisc.zonalStats(inD, curR, minVal=0.05)\n",
    "            res = pd.DataFrame(res,columns=['SUM','MIN','MAX','MEAN'])\n",
    "            inD[col_name] = res['SUM'].values\n",
    "    except:\n",
    "        tPrint(\"Error Processing %s\" % obj)\n"
   ]
  },
  {
   "cell_type": "code",
   "execution_count": 7,
   "metadata": {},
   "outputs": [],
   "source": [
    "origD = inD.copy()"
   ]
  },
  {
   "cell_type": "code",
   "execution_count": 8,
   "metadata": {},
   "outputs": [],
   "source": [
    "# drop columns that contain counts (\"n_cf\")\n",
    "inD = inD.loc[:,[not 'n_cf' in x for x in inD.columns]]\n",
    "\n",
    "# rename\n",
    "def fix_col_names(x):\n",
    "    if 'DNB' in x:\n",
    "        return(x.split(\"_\")[2].split(\"-\")[0])\n",
    "    else:\n",
    "        return(x)\n",
    "    \n",
    "new_cols = [fix_col_names(x) for x in inD.columns]\n",
    "inD.columns = new_cols"
   ]
  },
  {
   "cell_type": "code",
   "execution_count": 9,
   "metadata": {},
   "outputs": [],
   "source": [
    "pd.DataFrame(inD.drop(['geometry'], axis=1)).to_csv(os.path.join(out_folder, \"NTL_2020_summaries.csv\"))"
   ]
  },
  {
   "cell_type": "markdown",
   "metadata": {},
   "source": [
    "# Generate animated maps"
   ]
  },
  {
   "cell_type": "code",
   "execution_count": null,
   "metadata": {},
   "outputs": [],
   "source": [
    "# If you want to clip out the raster data for the below mapping, run this block\n",
    "sel_D = inD.loc[inD['BUFFER_KM'] == 10]\n",
    "for idx, row in sel_D.iterrows():\n",
    "    tPrint(out_folder)\n",
    "    \n",
    "    out_folder = os.path.join(viirs_folder, row['Industrial Park'])\n",
    "    out_map_folder = os.path.join(out_folder, \"MAPS\")\n",
    "    if not os.path.exists(out_map_folder):\n",
    "        os.makedirs(out_map_folder)\n",
    "    \n",
    "    viirs_files = []\n",
    "    for cur_tif in all_files:\n",
    "        file = f'{cur_tif.split(\"/\")[5]}.tif'\n",
    "        out_file = os.path.join(os.path.join(out_folder, \"%s\" % file))\n",
    "        viirs_files.append(out_file)\n",
    "        if not os.path.exists(out_file):\n",
    "            row['geometry'] = box(*row.geometry.bounds)\n",
    "            rMisc.clipRaster(rasterio.open(cur_tif), gpd.GeoDataFrame(pd.DataFrame(sel_D.loc[idx]).transpose(), geometry=\"geometry\", crs=inD.crs), out_file)    \n",
    "            \n",
    "    viirs_files.sort()\n",
    "    out_files = []\n",
    "    for f in viirs_files:\n",
    "        out_file = os.path.join(out_map_folder, os.path.basename(f))\n",
    "        out_files.append(out_file)\n",
    "        rMisc.map_viirs(f, out_file, text_x = 0, text_y = 6)\n",
    "        \n",
    "    kwargs = {'duration':0.3}\n",
    "    images=[]\n",
    "    for filename in out_files:\n",
    "        images.append(imageio.imread(filename))\n",
    "\n",
    "    imageio.mimsave(\"%s_timelapse.gif\" % out_folder, images, **kwargs)\n",
    "    "
   ]
  },
  {
   "cell_type": "code",
   "execution_count": null,
   "metadata": {},
   "outputs": [],
   "source": [
    "importlib.reload(rMisc)\n",
    "in_tif = f\n",
    "rMisc.map_viirs(f, out_file, text_x = 0, text_y = 6)"
   ]
  },
  {
   "cell_type": "code",
   "execution_count": null,
   "metadata": {},
   "outputs": [],
   "source": [
    "rasterio.open(in_tif).read()"
   ]
  },
  {
   "cell_type": "code",
   "execution_count": null,
   "metadata": {},
   "outputs": [],
   "source": [
    "importlib.reload(rMisc)\n",
    "for idx, row in sel_D.iterrows():\n",
    "    out_folder = os.path.join(viirs_folder, row['Industrial Park'])\n",
    "    viirs_files = [os.path.join(out_folder, x) for x in os.listdir(out_folder) if x.endswith(\"tif\")]\n",
    "    "
   ]
  },
  {
   "cell_type": "code",
   "execution_count": null,
   "metadata": {
    "scrolled": true
   },
   "outputs": [],
   "source": [
    "import imageio\n",
    "for filename in out_files:\n",
    "    images.append(imageio.imread(filename))\n",
    "\n",
    "imageio.mimsave(\"%s_timelapse.gif\" % out_folder, images, **kwargs)"
   ]
  },
  {
   "cell_type": "code",
   "execution_count": null,
   "metadata": {},
   "outputs": [],
   "source": [
    "\"%s_timelapse.gif\" % out_folder"
   ]
  },
  {
   "cell_type": "code",
   "execution_count": null,
   "metadata": {},
   "outputs": [],
   "source": []
  }
 ],
 "metadata": {
  "kernelspec": {
   "display_name": "Python (geog)",
   "language": "python",
   "name": "geog"
  },
  "language_info": {
   "codemirror_mode": {
    "name": "ipython",
    "version": 3
   },
   "file_extension": ".py",
   "mimetype": "text/x-python",
   "name": "python",
   "nbconvert_exporter": "python",
   "pygments_lexer": "ipython3",
   "version": "3.7.1"
  }
 },
 "nbformat": 4,
 "nbformat_minor": 2
}
