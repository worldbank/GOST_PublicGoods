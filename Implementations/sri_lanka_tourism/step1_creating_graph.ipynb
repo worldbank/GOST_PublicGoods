{
 "cells": [
  {
   "cell_type": "markdown",
   "metadata": {},
   "source": [
    "# Step 1: Creating graph from Osmium"
   ]
  },
  {
   "cell_type": "markdown",
   "metadata": {},
   "source": [
    "## These series of notebooks rely on the 'load-traffic' branch of the GOSTnets repo and has not yet been merged into master. The link to the code is here: https://github.com/worldbank/GOSTnets/tree/load_traffic\n",
    "\n",
    "### In addition to GOSTNets and the common dependencies, you also need Osmium and OSMNX installed for this notebook"
   ]
  },
  {
   "cell_type": "code",
   "execution_count": 1,
   "metadata": {},
   "outputs": [],
   "source": [
    "import os, sys, time, importlib\n",
    "\n",
    "import geopandas as gpd\n",
    "import pandas as pd\n",
    "import networkx as nx\n",
    "import numpy as np\n",
    "\n",
    "# make sure osmium is installed (pip install osmium)\n",
    "# An internal function called when creating the OSM_to_Network object will import osmium\n",
    "\n",
    "from shapely.geometry import LineString, Point\n",
    "import osmnx as ox"
   ]
  },
  {
   "cell_type": "markdown",
   "metadata": {},
   "source": [
    "### Append to your GOSTNets path and make sure you are using the 'load-traffic' branch"
   ]
  },
  {
   "cell_type": "code",
   "execution_count": 4,
   "metadata": {},
   "outputs": [],
   "source": [
    "sys.path.append(r\"C:\\Users\\user1\\Documents\\GitHub\\GOSTnets\")\n",
    "import GOSTnets as gn"
   ]
  },
  {
   "cell_type": "code",
   "execution_count": 5,
   "metadata": {
    "scrolled": true
   },
   "outputs": [],
   "source": [
    "# This is a Jupyter Notebook extension which reloads all of the modules whenever you run the code\n",
    "# This is optional but good if you are modifying and testing source code\n",
    "%load_ext autoreload\n",
    "%autoreload 2"
   ]
  },
  {
   "cell_type": "code",
   "execution_count": 6,
   "metadata": {},
   "outputs": [],
   "source": [
    "from GOSTnets.load_traffic2 import *"
   ]
  },
  {
   "cell_type": "markdown",
   "metadata": {},
   "source": [
    "### Loading all three MapBox traffic files into a merged Dataframe"
   ]
  },
  {
   "cell_type": "code",
   "execution_count": 7,
   "metadata": {
    "scrolled": true
   },
   "outputs": [
    {
     "name": "stdout",
     "output_type": "stream",
     "text": [
      "2\n",
      "./1233300-Asia-Colombo.csv\n",
      "finished reading ./1233300-Asia-Colombo.csv into dataframe\n",
      "FILE ./1233303-Asia-Colombo.csv\n",
      "1233303-Asia-Colombo_df\n",
      "finished merging 1233303-Asia-Colombo_df into combined dataframe\n",
      "calculating min, max, and mean values.\n",
      "finished calculating min, max, and mean values. Printing traffic_simplified head\n",
      "    FROM_NODE     TO_NODE  min_speed  max_speed  mean_speed\n",
      "0  1148494884  4177608798       31.0       38.0   36.866071\n",
      "1  1148495298  4137314867       57.0       57.0   57.000000\n",
      "2  1242700523  6537570627       60.0       60.0   60.000000\n",
      "3  1242730766  3377418986       46.0       46.0   46.000000\n",
      "4  1243299175  3805435746       40.0       40.0   40.000000\n"
     ]
    }
   ],
   "source": [
    "traffic_simplified_df = gn.load_traffic2.generate_traffic_metrics(\"./1233300-Asia-Colombo.csv\", \"./1233300-Asia-Colombo.csv\", \"./1233303-Asia-Colombo.csv\")"
   ]
  },
  {
   "cell_type": "code",
   "execution_count": 8,
   "metadata": {
    "scrolled": true
   },
   "outputs": [
    {
     "data": {
      "text/html": [
       "<div>\n",
       "<style scoped>\n",
       "    .dataframe tbody tr th:only-of-type {\n",
       "        vertical-align: middle;\n",
       "    }\n",
       "\n",
       "    .dataframe tbody tr th {\n",
       "        vertical-align: top;\n",
       "    }\n",
       "\n",
       "    .dataframe thead th {\n",
       "        text-align: right;\n",
       "    }\n",
       "</style>\n",
       "<table border=\"1\" class=\"dataframe\">\n",
       "  <thead>\n",
       "    <tr style=\"text-align: right;\">\n",
       "      <th></th>\n",
       "      <th>FROM_NODE</th>\n",
       "      <th>TO_NODE</th>\n",
       "      <th>min_speed</th>\n",
       "      <th>max_speed</th>\n",
       "      <th>mean_speed</th>\n",
       "    </tr>\n",
       "  </thead>\n",
       "  <tbody>\n",
       "    <tr>\n",
       "      <th>0</th>\n",
       "      <td>1148494884</td>\n",
       "      <td>4177608798</td>\n",
       "      <td>31.0</td>\n",
       "      <td>38.0</td>\n",
       "      <td>36.866071</td>\n",
       "    </tr>\n",
       "    <tr>\n",
       "      <th>1</th>\n",
       "      <td>1148495298</td>\n",
       "      <td>4137314867</td>\n",
       "      <td>57.0</td>\n",
       "      <td>57.0</td>\n",
       "      <td>57.000000</td>\n",
       "    </tr>\n",
       "    <tr>\n",
       "      <th>2</th>\n",
       "      <td>1242700523</td>\n",
       "      <td>6537570627</td>\n",
       "      <td>60.0</td>\n",
       "      <td>60.0</td>\n",
       "      <td>60.000000</td>\n",
       "    </tr>\n",
       "    <tr>\n",
       "      <th>3</th>\n",
       "      <td>1242730766</td>\n",
       "      <td>3377418986</td>\n",
       "      <td>46.0</td>\n",
       "      <td>46.0</td>\n",
       "      <td>46.000000</td>\n",
       "    </tr>\n",
       "    <tr>\n",
       "      <th>4</th>\n",
       "      <td>1243299175</td>\n",
       "      <td>3805435746</td>\n",
       "      <td>40.0</td>\n",
       "      <td>40.0</td>\n",
       "      <td>40.000000</td>\n",
       "    </tr>\n",
       "    <tr>\n",
       "      <th>...</th>\n",
       "      <td>...</td>\n",
       "      <td>...</td>\n",
       "      <td>...</td>\n",
       "      <td>...</td>\n",
       "      <td>...</td>\n",
       "    </tr>\n",
       "    <tr>\n",
       "      <th>34172</th>\n",
       "      <td>6495299720</td>\n",
       "      <td>6495344002</td>\n",
       "      <td>36.0</td>\n",
       "      <td>60.0</td>\n",
       "      <td>46.133929</td>\n",
       "    </tr>\n",
       "    <tr>\n",
       "      <th>34173</th>\n",
       "      <td>6495398243</td>\n",
       "      <td>6495398223</td>\n",
       "      <td>20.0</td>\n",
       "      <td>26.0</td>\n",
       "      <td>25.888393</td>\n",
       "    </tr>\n",
       "    <tr>\n",
       "      <th>34174</th>\n",
       "      <td>6899782766</td>\n",
       "      <td>3317976522</td>\n",
       "      <td>10.0</td>\n",
       "      <td>11.0</td>\n",
       "      <td>10.977679</td>\n",
       "    </tr>\n",
       "    <tr>\n",
       "      <th>34175</th>\n",
       "      <td>7082570748</td>\n",
       "      <td>7082570747</td>\n",
       "      <td>64.0</td>\n",
       "      <td>70.0</td>\n",
       "      <td>66.014881</td>\n",
       "    </tr>\n",
       "    <tr>\n",
       "      <th>34176</th>\n",
       "      <td>7309236901</td>\n",
       "      <td>7309236896</td>\n",
       "      <td>52.0</td>\n",
       "      <td>67.0</td>\n",
       "      <td>52.210813</td>\n",
       "    </tr>\n",
       "  </tbody>\n",
       "</table>\n",
       "<p>34177 rows × 5 columns</p>\n",
       "</div>"
      ],
      "text/plain": [
       "        FROM_NODE     TO_NODE  min_speed  max_speed  mean_speed\n",
       "0      1148494884  4177608798       31.0       38.0   36.866071\n",
       "1      1148495298  4137314867       57.0       57.0   57.000000\n",
       "2      1242700523  6537570627       60.0       60.0   60.000000\n",
       "3      1242730766  3377418986       46.0       46.0   46.000000\n",
       "4      1243299175  3805435746       40.0       40.0   40.000000\n",
       "...           ...         ...        ...        ...         ...\n",
       "34172  6495299720  6495344002       36.0       60.0   46.133929\n",
       "34173  6495398243  6495398223       20.0       26.0   25.888393\n",
       "34174  6899782766  3317976522       10.0       11.0   10.977679\n",
       "34175  7082570748  7082570747       64.0       70.0   66.014881\n",
       "34176  7309236901  7309236896       52.0       67.0   52.210813\n",
       "\n",
       "[34177 rows x 5 columns]"
      ]
     },
     "execution_count": 8,
     "metadata": {},
     "output_type": "execute_result"
    }
   ],
   "source": [
    "traffic_simplified_df"
   ]
  },
  {
   "cell_type": "markdown",
   "metadata": {},
   "source": [
    "### You can download a OpenStreetMap pbf file from GeoFabrik"
   ]
  },
  {
   "cell_type": "code",
   "execution_count": 9,
   "metadata": {},
   "outputs": [],
   "source": [
    "# set file\n",
    "input_OSM_file = './sri-lanka-latest.osm.pbf'"
   ]
  },
  {
   "cell_type": "markdown",
   "metadata": {},
   "source": [
    "### The GOSTnets OSM_to_network object gets created by using Osmium to extract roads from the OSM file and adding traffic data where traffic data exists. The OSM_to_network code is modified in the 'load-traffic' branch to create a graph that mirrors how OSMNX creates NetworkX graphs."
   ]
  },
  {
   "cell_type": "code",
   "execution_count": 10,
   "metadata": {},
   "outputs": [
    {
     "name": "stderr",
     "output_type": "stream",
     "text": [
      "WARNING:root:Error Processing OSM Way 808680178\n"
     ]
    },
    {
     "name": "stdout",
     "output_type": "stream",
     "text": [
      "hit exception\n"
     ]
    },
    {
     "name": "stderr",
     "output_type": "stream",
     "text": [
      "WARNING:root:Error Processing OSM Way 812734222\n",
      "WARNING:root:Error Processing OSM Way 813407157\n"
     ]
    },
    {
     "name": "stdout",
     "output_type": "stream",
     "text": [
      "hit exception\n",
      "way 812734222 may not have nodes\n",
      "hit exception\n",
      "way 813407157 may not have nodes\n",
      "finished with Osmium data extraction\n",
      "234726\n",
      "1\n",
      "Error adding edge between nodes 5770930353 and 5770924651\n",
      "{'osmid': 609259140, 'nodes': [2907768383, 5770930354, 5770930356, 7591229329, 5770930353, 5770924651, 2907768384], 'shp': <shapely.geometry.linestring.LineString object at 0x00000227216A38C8>, 'highway': 'residential', 'maxspeed': '30'}\n",
      "try to list coords\n",
      "[(81.8253258, 7.4266025), (81.8253447, 7.4265667), (81.8255643, 7.4262145), (81.8257891, 7.4258475), (81.8258106, 7.4257995)]\n",
      "length of nodes\n",
      "7\n",
      "print index\n",
      "4\n",
      "(81.8258106, 7.4257995)\n",
      "checkpoint reached\n",
      "Error adding edge between nodes 5770924651 and 2907768384\n",
      "{'osmid': 609259140, 'nodes': [2907768383, 5770930354, 5770930356, 7591229329, 5770930353, 5770924651, 2907768384], 'shp': <shapely.geometry.linestring.LineString object at 0x00000227216A38C8>, 'highway': 'residential', 'maxspeed': '30'}\n",
      "try to list coords\n",
      "[(81.8253258, 7.4266025), (81.8253447, 7.4265667), (81.8255643, 7.4262145), (81.8257891, 7.4258475), (81.8258106, 7.4257995)]\n",
      "length of nodes\n",
      "7\n",
      "print index\n",
      "5\n",
      "checkpoint not reached\n",
      "Error adding edge between nodes 5770930355 and 2907768383\n",
      "{'osmid': 609259142, 'nodes': [2907768381, 5770930358, 5770930361, 2907768382, 5770930357, 5770930355, 2907768383], 'shp': <shapely.geometry.linestring.LineString object at 0x00000227216A3A08>, 'highway': 'residential', 'maxspeed': '30'}\n",
      "try to list coords\n",
      "[(81.8247601, 7.4264361), (81.8248246, 7.4264616), (81.8249723, 7.4265251), (81.8253053, 7.4266412), (81.825311, 7.4266258), (81.8253258, 7.4266025)]\n",
      "length of nodes\n",
      "7\n",
      "print index\n",
      "5\n",
      "(81.8253258, 7.4266025)\n",
      "checkpoint reached\n",
      "Error adding edge between nodes 5770930360 and 5770930359\n",
      "{'osmid': 609259144, 'nodes': [2907768385, 7591229398, 5770930362, 5771009557, 7591229399, 5770930360, 5770930359, 2907768381], 'shp': <shapely.geometry.linestring.LineString object at 0x00000227216A3B48>, 'highway': 'residential', 'maxspeed': '30'}\n",
      "try to list coords\n",
      "[(81.8252238, 7.4254248), (81.8250898, 7.4256846), (81.8249745, 7.4259369), (81.8249497, 7.4260019), (81.8248531, 7.4262066), (81.8247601, 7.4264361)]\n",
      "length of nodes\n",
      "8\n",
      "print index\n",
      "5\n",
      "(81.8247601, 7.4264361)\n",
      "checkpoint reached\n",
      "Error adding edge between nodes 5770930359 and 2907768381\n",
      "{'osmid': 609259144, 'nodes': [2907768385, 7591229398, 5770930362, 5771009557, 7591229399, 5770930360, 5770930359, 2907768381], 'shp': <shapely.geometry.linestring.LineString object at 0x00000227216A3B48>, 'highway': 'residential', 'maxspeed': '30'}\n",
      "try to list coords\n",
      "[(81.8252238, 7.4254248), (81.8250898, 7.4256846), (81.8249745, 7.4259369), (81.8249497, 7.4260019), (81.8248531, 7.4262066), (81.8247601, 7.4264361)]\n",
      "length of nodes\n",
      "8\n",
      "print index\n",
      "6\n",
      "checkpoint not reached\n",
      "Error adding edge between nodes 7606475649 and 7606475650\n",
      "{'osmid': 814289360, 'nodes': [7606475612, 7606475613, 7606475614, 7606475615, 7606475616, 7606475617, 7606475618, 7606475619, 7606475620, 7606475621, 7606475622, 7606475623, 7606475624, 7606475625, 7606475626, 7606475627, 7606475628, 7606475629, 7606475630, 7606475631, 7606475632, 7606475633, 7606475634, 7606475635, 7606475636, 7606475637, 7606485601, 7606475638, 7606475639, 7606475640, 7606475641, 7606475642, 7606475643, 7606475644, 7606475645, 7606475676, 7606475646, 7606475677, 7606475647, 7606475648, 7606475651, 7606475649, 7606475650], 'shp': <shapely.geometry.linestring.LineString object at 0x00000227256E8D88>, 'highway': 'unclassified'}\n",
      "try to list coords\n",
      "[(81.8064079, 7.1722606), (81.8064165, 7.1724862), (81.8048758, 7.1725501), (81.8048758, 7.1720945), (81.8047986, 7.1714856), (81.8045196, 7.1715069), (81.8045368, 7.1719795), (81.8045111, 7.1727375), (81.8048844, 7.1728269), (81.8048243, 7.1734571), (81.8044166, 7.173572), (81.8044252, 7.1738786), (81.8066311, 7.1737892), (81.8063908, 7.1731547), (81.8073735, 7.1731505), (81.8074636, 7.1734954), (81.807116, 7.1734656), (81.8073349, 7.1738019), (81.8075623, 7.1743597), (81.8067684, 7.1745471), (81.8071504, 7.1757819), (81.8078971, 7.1756414), (81.8083606, 7.1771316), (81.8078542, 7.1775191), (81.8062963, 7.1776085), (81.8049917, 7.1779832), (81.8050152, 7.1780169), (81.8058543, 7.179218), (81.8061204, 7.1800398), (81.806262, 7.1801164), (81.8070602, 7.1805678), (81.8081202, 7.1812703), (81.8089957, 7.1817898), (81.8094678, 7.1821815), (81.8099227, 7.1829777), (81.8097793, 7.1836259), (81.8097296, 7.1838506), (81.8097389, 7.1839436), (81.8097639, 7.1841912), (81.8094935, 7.1844467), (81.8094512, 7.1852866), (81.8094344, 7.1856205)]\n",
      "length of nodes\n",
      "43\n",
      "print index\n",
      "41\n",
      "(81.8094344, 7.1856205)\n",
      "checkpoint reached\n",
      "Error adding edge between nodes 7606485626 and 7606485627\n",
      "{'osmid': 814289373, 'nodes': [7606485617, 7606485618, 7606485619, 7606485620, 7606485621, 7606485622, 7606485623, 7606485624, 7606485625, 7606485628, 7606485626, 7606485627], 'shp': <shapely.geometry.linestring.LineString object at 0x00000227256EE8C8>, 'highway': 'unclassified', 'oneway': 'yes'}\n",
      "try to list coords\n",
      "[(81.8057063, 7.1522955), (81.8075486, 7.1520447), (81.8129744, 7.1520808), (81.8137877, 7.1521049), (81.8164459, 7.1520327), (81.8205608, 7.1519845), (81.8205608, 7.1494191), (81.8235104, 7.1492866), (81.8233769, 7.1497925), (81.823996, 7.1498016), (81.8274797, 7.1498527)]\n",
      "length of nodes\n",
      "12\n",
      "print index\n",
      "10\n",
      "(81.8274797, 7.1498527)\n",
      "checkpoint reached\n",
      "finished building node edge lists\n",
      "all_edges length\n",
      "4436353\n",
      "adding nodes\n",
      "adding edges\n",
      "a reverse one way\n",
      "a reverse one way\n",
      "a reverse one way\n",
      "a reverse one way\n",
      "a reverse one way\n",
      "a reverse one way\n",
      "a reverse one way\n",
      "a reverse one way\n",
      "a reverse one way\n",
      "a reverse one way\n",
      "a reverse one way\n",
      "a reverse one way\n",
      "a reverse one way\n",
      "a reverse one way\n",
      "a reverse one way\n",
      "a reverse one way\n",
      "a reverse one way\n",
      "a reverse one way\n",
      "a reverse one way\n",
      "a reverse one way\n",
      "a reverse one way\n",
      "a reverse one way\n",
      "a reverse one way\n",
      "a reverse one way\n",
      "a reverse one way\n",
      "a reverse one way\n",
      "a reverse one way\n",
      "a reverse one way\n",
      "a reverse one way\n",
      "a reverse one way\n",
      "a reverse one way\n",
      "a reverse one way\n",
      "a reverse one way\n",
      "a reverse one way\n",
      "a reverse one way\n",
      "a reverse one way\n",
      "a reverse one way\n",
      "a reverse one way\n",
      "a reverse one way\n",
      "a reverse one way\n",
      "a reverse one way\n",
      "a reverse one way\n",
      "a reverse one way\n",
      "a reverse one way\n",
      "a reverse one way\n",
      "a reverse one way\n",
      "a reverse one way\n",
      "a reverse one way\n",
      "a reverse one way\n",
      "a reverse one way\n",
      "a reverse one way\n",
      "a reverse one way\n",
      "a reverse one way\n",
      "a reverse one way\n",
      "a reverse one way\n",
      "a reverse one way\n",
      "a reverse one way\n",
      "a reverse one way\n",
      "a reverse one way\n",
      "a reverse one way\n",
      "a reverse one way\n",
      "a reverse one way\n",
      "a reverse one way\n",
      "a reverse one way\n",
      "a reverse one way\n",
      "a reverse one way\n",
      "a reverse one way\n",
      "a reverse one way\n",
      "a reverse one way\n",
      "a reverse one way\n",
      "a reverse one way\n",
      "a reverse one way\n",
      "a reverse one way\n",
      "a reverse one way\n",
      "a reverse one way\n",
      "a reverse one way\n",
      "a reverse one way\n",
      "a reverse one way\n",
      "a reverse one way\n",
      "a reverse one way\n",
      "a reverse one way\n",
      "done pre-processing edges\n"
     ]
    }
   ],
   "source": [
    "sri_lanka = OSM_to_network(input_OSM_file,traffic_simplified_df)"
   ]
  },
  {
   "cell_type": "code",
   "execution_count": 11,
   "metadata": {},
   "outputs": [
    {
     "data": {
      "text/plain": [
       "8829416"
      ]
     },
     "execution_count": 11,
     "metadata": {},
     "output_type": "execute_result"
    }
   ],
   "source": [
    "len(sri_lanka.network.edges())"
   ]
  },
  {
   "cell_type": "markdown",
   "metadata": {},
   "source": [
    "### Using OSMNX, add length (great circle distance between nodes) attribute to each edge (in meters)"
   ]
  },
  {
   "cell_type": "code",
   "execution_count": 12,
   "metadata": {},
   "outputs": [],
   "source": [
    "G = ox.utils_graph.add_edge_lengths(sri_lanka.network)"
   ]
  },
  {
   "cell_type": "code",
   "execution_count": 13,
   "metadata": {},
   "outputs": [
    {
     "data": {
      "text/plain": [
       "4354795"
      ]
     },
     "execution_count": 13,
     "metadata": {},
     "output_type": "execute_result"
    }
   ],
   "source": [
    "len(G.nodes())"
   ]
  },
  {
   "cell_type": "code",
   "execution_count": 14,
   "metadata": {},
   "outputs": [],
   "source": [
    "#fig, ax = ox.plot_graph(G, node_zorder=2, node_color='w', bgcolor='k')"
   ]
  },
  {
   "cell_type": "markdown",
   "metadata": {},
   "source": [
    "### take the largest sub-graph"
   ]
  },
  {
   "cell_type": "code",
   "execution_count": 15,
   "metadata": {},
   "outputs": [],
   "source": [
    "G = ox.utils_graph.get_largest_component(G)"
   ]
  },
  {
   "cell_type": "code",
   "execution_count": 16,
   "metadata": {},
   "outputs": [
    {
     "data": {
      "text/plain": [
       "8660210"
      ]
     },
     "execution_count": 16,
     "metadata": {},
     "output_type": "execute_result"
    }
   ],
   "source": [
    "len(G.edges())"
   ]
  },
  {
   "cell_type": "code",
   "execution_count": 17,
   "metadata": {},
   "outputs": [],
   "source": [
    "# save graph for now"
   ]
  },
  {
   "cell_type": "code",
   "execution_count": 18,
   "metadata": {},
   "outputs": [],
   "source": [
    "gn.save(G,'sri_lanka_processed_graph_uncleaned','./', pickle = True, edges = False, nodes = False)"
   ]
  },
  {
   "cell_type": "markdown",
   "metadata": {},
   "source": [
    "### Remove all of the in-between nodes\n",
    "We are using the GOSTNets clean_network function. The clean_network function in the 'load-traffic' branch has been heavily modified. It removes most of the functions called from the inside of the clean_network function and only includes the custom_simplify function. The custom_simplify function in turn mirrors the OSMNX simplification module (https://github.com/gboeing/osmnx/blob/5da49157161c5b1d2de69238536e95173d215da0/osmnx/simplification.py), but is modified to only remove all of the in-between nodes of edges that **do not** have traffic.\n",
    "\n",
    "#### This function is very resource intensive. It took over 230 hours to run on a i7-7800 CPU with 64 GB of RAM"
   ]
  },
  {
   "cell_type": "code",
   "execution_count": 21,
   "metadata": {},
   "outputs": [
    {
     "name": "stdout",
     "output_type": "stream",
     "text": [
      "finished with simplify_junctions\n",
      "print node_list\n",
      "17320420\n",
      "print no_traffic_node_list\n",
      "17252920\n",
      "reached 100 nodes\n",
      "count is 5000\n",
      "count is 10000\n",
      "count is 15000\n",
      "count is 20000\n",
      "count is 25000\n",
      "count is 30000\n",
      "count is 35000\n",
      "count is 40000\n",
      "count is 45000\n",
      "count is 50000\n",
      "count is 55000\n",
      "count is 60000\n",
      "count is 65000\n",
      "count is 70000\n",
      "count is 75000\n",
      "count is 80000\n",
      "count is 85000\n",
      "count is 90000\n",
      "count is 95000\n",
      "count is 100000\n",
      "count is 105000\n",
      "count is 110000\n",
      "count is 115000\n",
      "count is 120000\n",
      "count is 125000\n",
      "count is 130000\n",
      "count is 135000\n",
      "count is 140000\n",
      "count is 145000\n",
      "count is 150000\n",
      "count is 155000\n",
      "count is 160000\n",
      "count is 165000\n",
      "count is 170000\n",
      "count is 175000\n",
      "count is 180000\n",
      "count is 185000\n",
      "count is 190000\n",
      "count is 195000\n",
      "count is 200000\n",
      "count is 205000\n",
      "count is 210000\n",
      "count is 215000\n",
      "count is 220000\n",
      "count is 225000\n",
      "count is 230000\n",
      "count is 235000\n",
      "count is 240000\n",
      "count is 245000\n",
      "count is 250000\n",
      "count is 255000\n",
      "count is 260000\n",
      "count is 265000\n",
      "count is 270000\n",
      "count is 275000\n",
      "count is 280000\n",
      "count is 285000\n",
      "count is 290000\n",
      "count is 295000\n",
      "count is 300000\n",
      "count is 305000\n",
      "count is 310000\n",
      "count is 315000\n",
      "count is 320000\n",
      "count is 325000\n",
      "count is 330000\n",
      "count is 335000\n",
      "count is 340000\n",
      "count is 345000\n",
      "count is 350000\n",
      "count is 355000\n",
      "count is 360000\n",
      "count is 365000\n",
      "count is 370000\n",
      "print paths\n",
      "[[7273971713, 7273971722, 2091896325], [7273971713, 7273971725, 7273971716], [7273971713, 7279002023, 7279002048, 7279002046, 7279002042]]\n",
      "finished with custom_simplify\n",
      "Edge reduction: 8660210 to 933912 (89 percent)\n",
      "837318.1823294163\n"
     ]
    }
   ],
   "source": [
    "start = time.time()\n",
    "G_clean = gn.clean_network(G, UTM = 'epsg:32644', WGS = 'epsg:4326', junctdist = 10, verbose = False)\n",
    "end = time.time()\n",
    "print(end - start)"
   ]
  },
  {
   "cell_type": "code",
   "execution_count": 22,
   "metadata": {},
   "outputs": [],
   "source": [
    "#save\n",
    "gn.save(G_clean,'sri_lanka_processed_graph_cleaned_part1','./', pickle = True, edges = False, nodes = False)"
   ]
  },
  {
   "cell_type": "code",
   "execution_count": null,
   "metadata": {},
   "outputs": [],
   "source": [
    "#fig, ax = ox.plot_graph(G_clean, node_zorder=2, node_color='w', bgcolor='k')"
   ]
  },
  {
   "cell_type": "code",
   "execution_count": null,
   "metadata": {},
   "outputs": [],
   "source": [
    "#len(G_clean.edges())"
   ]
  },
  {
   "cell_type": "code",
   "execution_count": null,
   "metadata": {},
   "outputs": [],
   "source": [
    "#len(G_clean)"
   ]
  },
  {
   "cell_type": "markdown",
   "metadata": {},
   "source": [
    "### Project Graph"
   ]
  },
  {
   "cell_type": "code",
   "execution_count": 23,
   "metadata": {},
   "outputs": [
    {
     "name": "stdout",
     "output_type": "stream",
     "text": [
      "156.83470916748047\n"
     ]
    }
   ],
   "source": [
    "start = time.time()\n",
    "G_proj = ox.project_graph(G_clean)\n",
    "end = time.time()\n",
    "print(end - start)"
   ]
  },
  {
   "cell_type": "code",
   "execution_count": null,
   "metadata": {},
   "outputs": [],
   "source": [
    "#save\n",
    "gn.save(G_clean,'sri_lanka_processed_graph_cleaned_part1_proj','./', pickle = True, edges = False, nodes = False)"
   ]
  },
  {
   "cell_type": "markdown",
   "metadata": {},
   "source": [
    "### note: while it is possible to run the OSMNX consolidate_intersections function. Do not do this because it will create new nodes with an incompatible format for the Step3 notebook"
   ]
  }
 ],
 "metadata": {
  "kernelspec": {
   "display_name": "Python 3",
   "language": "python",
   "name": "python3"
  },
  "language_info": {
   "codemirror_mode": {
    "name": "ipython",
    "version": 3
   },
   "file_extension": ".py",
   "mimetype": "text/x-python",
   "name": "python",
   "nbconvert_exporter": "python",
   "pygments_lexer": "ipython3",
   "version": "3.7.7"
  }
 },
 "nbformat": 4,
 "nbformat_minor": 2
}
