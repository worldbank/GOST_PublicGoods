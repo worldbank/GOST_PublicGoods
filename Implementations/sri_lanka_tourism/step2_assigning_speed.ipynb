{
 "cells": [
  {
   "cell_type": "markdown",
   "metadata": {},
   "source": [
    "# Step 2: Assigning Speed to Traffic Data"
   ]
  },
  {
   "cell_type": "markdown",
   "metadata": {},
   "source": [
    "## This notebook takes in the processed graph that was projected in Step 1, and it will add assign speeds to edges not covered with Mapbox traffic based on an input dictionary, add time values to edges, and add a potential improvement cost to edges."
   ]
  },
  {
   "cell_type": "code",
   "execution_count": 12,
   "metadata": {},
   "outputs": [],
   "source": [
    "import os, sys, time, importlib\n",
    "import osmnx\n",
    "\n",
    "import geopandas as gpd\n",
    "import pandas as pd\n",
    "import networkx as nx\n",
    "import numpy as np\n",
    "sys.path.append(\"../../../GOSTnets\")\n",
    "import GOSTnets as gn\n",
    "\n",
    "from shapely.geometry import LineString, Point"
   ]
  },
  {
   "cell_type": "code",
   "execution_count": 13,
   "metadata": {},
   "outputs": [
    {
     "name": "stdout",
     "output_type": "stream",
     "text": [
      "The autoreload extension is already loaded. To reload it, use:\n",
      "  %reload_ext autoreload\n"
     ]
    }
   ],
   "source": [
    "# This is a Jupyter Notebook extension which reloads all of the modules whenever you run the code\n",
    "# This is optional but good if you are modifying and testing source code\n",
    "%load_ext autoreload\n",
    "%autoreload 2"
   ]
  },
  {
   "cell_type": "code",
   "execution_count": 14,
   "metadata": {},
   "outputs": [],
   "source": [
    "# read graph\n",
    "G = nx.read_gpickle('../mapbox_traffic/sri_lanka_processed_graph_cleaned_part1_proj.pickle')"
   ]
  },
  {
   "cell_type": "code",
   "execution_count": 15,
   "metadata": {},
   "outputs": [
    {
     "data": {
      "text/plain": [
       "1342262"
      ]
     },
     "execution_count": 15,
     "metadata": {},
     "output_type": "execute_result"
    }
   ],
   "source": [
    "len(G.edges)"
   ]
  },
  {
   "cell_type": "code",
   "execution_count": 41,
   "metadata": {},
   "outputs": [
    {
     "name": "stdout",
     "output_type": "stream",
     "text": [
      "(150994974, 255476965, {'osmid': 8095866, 'infra_type': 'residential', 'maxspeed': '30', 'length': 0.103734, 'geometry': <shapely.geometry.linestring.LineString object at 0x0000016EF8A46908>})\n",
      "(150994974, 102757766, {'osmid': 23592598, 'infra_type': 'residential', 'maxspeed': '30', 'length': 0.260001, 'geometry': <shapely.geometry.linestring.LineString object at 0x0000016EF8A46988>})\n",
      "(150994974, 102760034, {'osmid': 775561264, 'infra_type': 'residential', 'maxspeed': '30', 'length': 0.48581299999999994, 'geometry': <shapely.geometry.linestring.LineString object at 0x0000016EF8A46A48>})\n",
      "(150994974, 31363884, {'osmid': 775561264, 'infra_type': 'residential', 'maxspeed': '30', 'length': 0.259606, 'geometry': <shapely.geometry.linestring.LineString object at 0x0000016EF8A46B48>})\n",
      "(150994986, 102758211, {'osmid': 11528635, 'infra_type': 'residential', 'maxspeed': '30', 'length': 0.248351, 'geometry': <shapely.geometry.linestring.LineString object at 0x0000016EF8A46B88>})\n",
      "(150994986, 102751028, {'osmid': 23855289, 'infra_type': 'secondary', 'maxspeed': '60', 'length': 0.19176500000000002, 'geometry': <shapely.geometry.linestring.LineString object at 0x0000016EF8A46C08>, 'oneway': 'no'})\n",
      "(150994986, 5207372094, {'osmid': 23855289, 'infra_type': 'secondary', 'maxspeed': '60', 'length': 0.135148, 'geometry': <shapely.geometry.linestring.LineString object at 0x0000016EF8A46CC8>, 'oneway': 'no'})\n",
      "(4211081678, 4211081685, {'osmid': 421331317, 'infra_type': 'residential', 'maxspeed': '30', 'length': 0.216296, 'geometry': <shapely.geometry.linestring.LineString object at 0x0000016EF8A46D88>})\n",
      "(4211081685, 3874714072, {'osmid': 314553465, 'infra_type': 'residential', 'maxspeed': '40', 'length': 0.236039, 'geometry': <shapely.geometry.linestring.LineString object at 0x0000016EF8A46E48>, 'oneway': 'no'})\n",
      "(4211081685, 3205988924, {'osmid': 314553465, 'infra_type': 'residential', 'maxspeed': '40', 'length': 0.206638, 'geometry': <shapely.geometry.linestring.LineString object at 0x0000016EF8A46F88>, 'oneway': 'no'})\n",
      "(4211081685, 4211081678, {'osmid': 421331317, 'infra_type': 'residential', 'maxspeed': '30', 'length': 0.216296, 'geometry': <shapely.geometry.linestring.LineString object at 0x0000016EF8A46F08>})\n",
      "(5049942656, 5049942663, {'osmid': 517494182, 'infra_type': 'residential', 'length': 0.06977799999999999, 'geometry': <shapely.geometry.linestring.LineString object at 0x0000016EF8A4A088>})\n",
      "(5049942663, 2441628584, {'osmid': 28534004, 'infra_type': 'residential', 'maxspeed': '30', 'length': 0.009738, 'geometry': <shapely.geometry.linestring.LineString object at 0x0000016EF8A4A048>, 'traffic_min_speed': 9.0, 'traffic_max_speed': 12.0, 'traffic_mean_speed': 11.925595238095237})\n",
      "(5049942663, 2441628583, {'osmid': 28534004, 'infra_type': 'residential', 'maxspeed': '30', 'length': 0.0068920000000000006, 'geometry': <shapely.geometry.linestring.LineString object at 0x0000016EF8A4A188>, 'traffic_min_speed': 34.0, 'traffic_max_speed': 34.0, 'traffic_mean_speed': 34.0})\n",
      "(5049942663, 5049942656, {'osmid': 517494182, 'infra_type': 'residential', 'length': 0.06977799999999999, 'geometry': <shapely.geometry.linestring.LineString object at 0x0000016EF8A4A148>})\n",
      "(5083069897, 5035236989, {'osmid': 307254077, 'infra_type': 'living_street', 'length': 0.105002, 'geometry': <shapely.geometry.linestring.LineString object at 0x0000016EF8A4A248>})\n",
      "(5083069897, 5035236986, {'osmid': 307254077, 'infra_type': 'living_street', 'length': 0.20605700000000002, 'geometry': <shapely.geometry.linestring.LineString object at 0x0000016EF8A4A288>})\n",
      "(5083069897, 5083069895, {'osmid': 521718891, 'infra_type': 'living_street', 'length': 0.043493000000000004, 'geometry': <shapely.geometry.linestring.LineString object at 0x0000016EF8A4A308>})\n",
      "(4127195824, 1725074684, {'osmid': 160450982, 'infra_type': 'residential', 'maxspeed': '30', 'length': 0.03607, 'geometry': <shapely.geometry.linestring.LineString object at 0x0000016EF8A4A2C8>, 'traffic_min_speed': 8.0, 'traffic_max_speed': 17.0, 'traffic_mean_speed': 11.027281746031745})\n",
      "(4127195824, 1779188393, {'osmid': 160450982, 'infra_type': 'residential', 'maxspeed': '30', 'length': 0.044675, 'geometry': <shapely.geometry.linestring.LineString object at 0x0000016EF8A4A408>, 'traffic_min_speed': 8.0, 'traffic_max_speed': 17.0, 'traffic_mean_speed': 11.027281746031745})\n",
      "(5335155392, 642877785, {'osmid': 50526248, 'infra_type': 'residential', 'maxspeed': '30', 'length': 0.093941, 'geometry': <shapely.geometry.linestring.LineString object at 0x0000016EF8A4A448>})\n",
      "(5335155392, 5335155393, {'osmid': 552619481, 'infra_type': 'residential', 'length': 0.039427, 'geometry': <shapely.geometry.linestring.LineString object at 0x0000016EF8A4A548>})\n",
      "(5335155392, 681253314, {'osmid': 50526248, 'infra_type': 'residential', 'maxspeed': '30', 'length': 0.315919, 'geometry': <shapely.geometry.linestring.LineString object at 0x0000016EF8A4A588>})\n",
      "(5335155393, 5335155392, {'osmid': 552619481, 'infra_type': 'residential', 'length': 0.039427, 'geometry': <shapely.geometry.linestring.LineString object at 0x0000016EF8A4A4C8>})\n",
      "(7556208141, 7556208157, {'osmid': 808045435, 'infra_type': 'track', 'length': 0.31197600000000003, 'geometry': <shapely.geometry.linestring.LineString object at 0x0000016EF8A4A648>})\n"
     ]
    }
   ],
   "source": [
    "gn.example_edge(G, 25)"
   ]
  },
  {
   "cell_type": "code",
   "execution_count": 38,
   "metadata": {},
   "outputs": [
    {
     "name": "stdout",
     "output_type": "stream",
     "text": [
      "(150994974, {'x': 412759.88663883344, 'y': 669542.0902890813, 'lon': 80.211648, 'lat': 6.0567583})\n",
      "(150994986, {'x': 413334.91795846715, 'y': 669824.7266039154, 'lon': 80.2168403, 'lat': 6.0593224})\n",
      "(4211081678, {'x': 391406.65301630425, 'y': 787673.9289258035, 'lon': 80.0166023, 'lat': 7.1249196})\n",
      "(4211081685, {'x': 391249.6302768491, 'y': 787584.79544537, 'lon': 80.0151822, 'lat': 7.1241104})\n",
      "(5049942656, {'x': 379847.1382586097, 'y': 758570.4046335119, 'lon': 79.9125431, 'lat': 6.8614634})\n"
     ]
    }
   ],
   "source": [
    "gn.example_node(G, 5)"
   ]
  },
  {
   "cell_type": "markdown",
   "metadata": {},
   "source": [
    "### Optional step: Find out average speeds for highway classes with Mapbox data\n",
    "This function below will calculate the average speeds for all highways that have traffic information per highway classes"
   ]
  },
  {
   "cell_type": "code",
   "execution_count": 48,
   "metadata": {},
   "outputs": [],
   "source": [
    "def find_traffic_hwy_avg_speeds_by_class(G, speed_tag='traffic_mean_speed'):\n",
    "    \"\"\"\n",
    "    Function for finding out the different highway classes in the graph and their respective lengths\n",
    "\n",
    "    :param G: a graph object\n",
    "    :param speed_tag: specifies which edge attribute represents traffic speed\n",
    "    :returns: a dictionary that has each class and the total distance per class\n",
    "    \"\"\"\n",
    "\n",
    "    if type(G) == nx.classes.multidigraph.MultiDiGraph or type(G) == nx.classes.digraph.DiGraph:\n",
    "        pass\n",
    "    else:\n",
    "        raise ValueError('Expecting a graph or geodataframe for G!')\n",
    "\n",
    "    G_adj = G.copy()\n",
    "\n",
    "    traffic_class_list = []\n",
    "\n",
    "    for u, v, data in G_adj.edges(data=True):\n",
    "        #print(data['infra_type'])\n",
    "        if speed_tag in data:\n",
    "            if type(data['infra_type']) == list:\n",
    "                    if data['infra_type'][0] not in traffic_class_list:\n",
    "                        traffic_class_list.append(data['infra_type'][0])\n",
    "            else:\n",
    "                if data['infra_type'] not in traffic_class_list:\n",
    "                    traffic_class_list.append(data['infra_type'])\n",
    "    \n",
    "    class_dict = { i : [] for i in traffic_class_list }\n",
    "    \n",
    "    print(f'print traffic_class_list: {traffic_class_list}')\n",
    "\n",
    "    for i in traffic_class_list:\n",
    "        for u, v, data in G_adj.edges(data=True):\n",
    "            if speed_tag in data:\n",
    "                if data[speed_tag] > 0:\n",
    "                    if type(data['infra_type']) == list:\n",
    "                        if data['infra_type'][0] == i:\n",
    "                            class_dict[i].append(data[speed_tag])\n",
    "                    else:\n",
    "                        if data['infra_type'] == i:\n",
    "                            class_dict[i].append(data[speed_tag])\n",
    "                        \n",
    "    print(f'print class_dict: {class_dict}')\n",
    "    \n",
    "    def Average(lst): \n",
    "        if len(lst) > 0:\n",
    "            return sum(lst) / len(lst)\n",
    "        else:\n",
    "            return 0\n",
    "    \n",
    "    class_dict_copy = class_dict.copy()\n",
    "    \n",
    "    for key in class_dict_copy:\n",
    "        class_dict_copy[key] = Average(class_dict_copy[key])\n",
    "\n",
    "    return class_dict_copy"
   ]
  },
  {
   "cell_type": "code",
   "execution_count": 49,
   "metadata": {},
   "outputs": [
    {
     "name": "stdout",
     "output_type": "stream",
     "text": [
      "print traffic_class_list: ['residential', 'primary', 'trunk', 'secondary', 'secondary_link', 'trunk_link', 'tertiary', 'motorway', 'unclassified', 'primary_link', 'motorway_link', 'living_street', 'path', 'service', 'footway', 'track', 'tertiary_link', 'road']\n"
     ]
    },
    {
     "name": "stderr",
     "output_type": "stream",
     "text": [
      "IOPub data rate exceeded.\n",
      "The notebook server will temporarily stop sending output\n",
      "to the client in order to avoid crashing it.\n",
      "To change this limit, set the config variable\n",
      "`--NotebookApp.iopub_data_rate_limit`.\n",
      "\n",
      "Current values:\n",
      "NotebookApp.iopub_data_rate_limit=1000000.0 (bytes/sec)\n",
      "NotebookApp.rate_limit_window=3.0 (secs)\n",
      "\n"
     ]
    }
   ],
   "source": [
    "average_speeds_per_class_dict = find_traffic_hwy_avg_speeds_by_class(G, speed_tag='traffic_mean_speed')"
   ]
  },
  {
   "cell_type": "code",
   "execution_count": 50,
   "metadata": {},
   "outputs": [
    {
     "data": {
      "text/plain": [
       "{'residential': 19.719399798800318,\n",
       " 'primary': 35.22479615651459,\n",
       " 'trunk': 40.47037202657783,\n",
       " 'secondary': 34.267525102442306,\n",
       " 'secondary_link': 8.711783717679946,\n",
       " 'trunk_link': 23.067515119834503,\n",
       " 'tertiary': 25.51102660110717,\n",
       " 'motorway': 85.68174309720709,\n",
       " 'unclassified': 22.34259858136339,\n",
       " 'primary_link': 14.266634674086603,\n",
       " 'motorway_link': 31.09769383036527,\n",
       " 'living_street': 8.122896424194643,\n",
       " 'path': 12.259244227994229,\n",
       " 'service': 10.27858925385402,\n",
       " 'footway': 5.268601190476191,\n",
       " 'track': 18.02662037037037,\n",
       " 'tertiary_link': 12.891975308641976,\n",
       " 'road': 16.0}"
      ]
     },
     "execution_count": 50,
     "metadata": {},
     "output_type": "execute_result"
    }
   ],
   "source": [
    "average_speeds_per_class_dict"
   ]
  },
  {
   "cell_type": "markdown",
   "metadata": {},
   "source": [
    "## convert from meters to km"
   ]
  },
  {
   "cell_type": "code",
   "execution_count": 20,
   "metadata": {},
   "outputs": [],
   "source": [
    "for u, v, data in G.edges(data=True):\n",
    "    data['length'] = data['length'] / 1000"
   ]
  },
  {
   "cell_type": "code",
   "execution_count": 21,
   "metadata": {},
   "outputs": [
    {
     "name": "stdout",
     "output_type": "stream",
     "text": [
      "(150994974, 255476965, {'osmid': 8095866, 'infra_type': 'residential', 'maxspeed': '30', 'length': 0.103734, 'geometry': <shapely.geometry.linestring.LineString object at 0x0000016EF8A46908>})\n",
      "(150994974, 102757766, {'osmid': 23592598, 'infra_type': 'residential', 'maxspeed': '30', 'length': 0.260001, 'geometry': <shapely.geometry.linestring.LineString object at 0x0000016EF8A46988>})\n",
      "(150994974, 102760034, {'osmid': 775561264, 'infra_type': 'residential', 'maxspeed': '30', 'length': 0.48581299999999994, 'geometry': <shapely.geometry.linestring.LineString object at 0x0000016EF8A46A48>})\n",
      "(150994974, 31363884, {'osmid': 775561264, 'infra_type': 'residential', 'maxspeed': '30', 'length': 0.259606, 'geometry': <shapely.geometry.linestring.LineString object at 0x0000016EF8A46B48>})\n",
      "(150994986, 102758211, {'osmid': 11528635, 'infra_type': 'residential', 'maxspeed': '30', 'length': 0.248351, 'geometry': <shapely.geometry.linestring.LineString object at 0x0000016EF8A46B88>})\n"
     ]
    }
   ],
   "source": [
    "gn.example_edge(G, 5)"
   ]
  },
  {
   "cell_type": "markdown",
   "metadata": {},
   "source": [
    "## Speed Dictionaries\n",
    "The mapbox speed dictionary was generated using the function above. The max speeds dictionary was generated by opening the edges in ArcGIS. The analyst can choose which dictionary to use."
   ]
  },
  {
   "cell_type": "code",
   "execution_count": 22,
   "metadata": {},
   "outputs": [],
   "source": [
    "# speed dict based on mean of mapbox real-world speeds per class\n",
    "speed_dict_sri_lanka_mapbox_mean_speeds = {\n",
    "'motorway':85 ,\n",
    "'motorway_link':30 ,\n",
    "'trunk': 40,\n",
    "'trunk_link': 23,\n",
    "'primary': 35,\n",
    "'primary_link': 14,\n",
    "'secondary': 34,\n",
    "'secondary_link': 9,\n",
    "'tertiary':25,\n",
    "'tertiary_link': 13,\n",
    "'residential': 20,\n",
    "'unclassified': 20,\n",
    "'track': 20,\n",
    "'service': 10\n",
    "}"
   ]
  },
  {
   "cell_type": "code",
   "execution_count": 23,
   "metadata": {},
   "outputs": [],
   "source": [
    "# speed dict based on existing speed limit tags\n",
    "speed_dict_sri_lanka_max_speeds = {\n",
    "'motorway':100 ,\n",
    "'motorway_link':35 ,\n",
    "'trunk': 60,\n",
    "'trunk_link': 50,\n",
    "'primary': 60,\n",
    "'primary_link': 50,\n",
    "'secondary': 50,\n",
    "'secondary_link': 45,\n",
    "'tertiary':40,\n",
    "'tertiary_link': 40,\n",
    "'residential': 30,\n",
    "'unclassified': 25,\n",
    "'track': 25,\n",
    "'service': 20\n",
    "}"
   ]
  },
  {
   "cell_type": "markdown",
   "metadata": {},
   "source": [
    "## Function to add time to edges\n",
    "The function below was based off of a GOSTnets function. It was modified to calculate the correct time based on whether a Mapbox speed exists or not. Also, it creates a new 'speed' attribute that is either based on the mapbox traffic speed, or the speed provided by the input dictionary if the mapbox traffic speed does not exist."
   ]
  },
  {
   "cell_type": "code",
   "execution_count": 24,
   "metadata": {},
   "outputs": [],
   "source": [
    "def convert_network_to_time_w_traffic(G, distance_tag, graph_type = 'drive', road_col = 'highway', traffic_col = 'traffic_mean_speed', speed_dict = speed_dict_sri_lanka_max_speeds, walk_speed = 4.5, factor = 1, default = None, improvement_cost_per_km = None):\n",
    "    \"\"\"\n",
    "    Function for adding a time value to edge dictionaries. Ensure any GeoDataFrames / graphs are in the same projection before using function, or pass a crs.\n",
    "\n",
    "    DEFAULT SPEEDS:\n",
    "\n",
    "               speed_dict = {\n",
    "               'residential': 20,  # kmph\n",
    "               'primary': 40, # kmph\n",
    "               'primary_link':35,\n",
    "               'motorway':50,\n",
    "               'motorway_link': 45,\n",
    "               'trunk': 40,\n",
    "               'trunk_link':35,\n",
    "               'secondary': 30,\n",
    "               'secondary_link':25,\n",
    "               'tertiary':30,\n",
    "               'tertiary_link': 25,\n",
    "               'unclassified':20\n",
    "               }\n",
    "\n",
    "    :param G: a graph containing one or more nodes\n",
    "    :param distance_tag: the key in the dictionary for the field currently\n",
    "               containing a distance in km\n",
    "    :param road_col: key for the road type in the edge data dictionary\n",
    "    :param graph_type: set to either 'drive' or 'walk'. IF walk - will set time = walking time across all segment, using the supplied walk_speed. IF drive - will use a speed dictionary for each road type, or defaults as per the note below.\n",
    "    :param speed_dict: speed dictionary to use. If not supplied, reverts to\n",
    "               defaults\n",
    "    :param walk_speed: specify a walkspeed in km/h\n",
    "    :param factor: allows you to scale up / down distances if saved in a unit other than meters. Set to 1000 if length in km.\n",
    "    :param default: if highway type not in the speed_dict, use this road class as an in-fill value for time.\n",
    "    :returns: The original graph with a new data property for the edges called 'time'\n",
    "    \"\"\"\n",
    "\n",
    "    if type(G) == nx.classes.multidigraph.MultiDiGraph or type(G) == nx.classes.digraph.DiGraph:\n",
    "        pass\n",
    "    else:\n",
    "        raise ValueError('Expecting a graph or geodataframe for G!')\n",
    "\n",
    "    import warnings\n",
    "\n",
    "    try:\n",
    "        # checks the first edge to see if the 'time' attribute already exists\n",
    "        if list(G.edges(data = True))[0][2]['time']:\n",
    "          warnings.warn('Are you sure you want to convert length to time? This graph already has a time attribute')\n",
    "    except:\n",
    "        pass\n",
    "\n",
    "    G_adj = G.copy()\n",
    "\n",
    "    for u, v, data in G_adj.edges(data=True):\n",
    "\n",
    "        # the default length in the graph should be in km\n",
    "        orig_len = data[distance_tag]\n",
    "\n",
    "        # Note that this is a MultiDiGraph so there could\n",
    "        # be multiple indices here, I naively assume this is not\n",
    "        # the case\n",
    "        data['length'] = orig_len * factor\n",
    "        \n",
    "\n",
    "        # get appropriate speed limit\n",
    "        if graph_type == 'walk':\n",
    "            speed = walk_speed\n",
    "\n",
    "        elif graph_type == 'drive':\n",
    "\n",
    "            if speed_dict == None:\n",
    "                speed_dict = {\n",
    "                'residential': 20,  # kmph\n",
    "                'primary': 40, # kmph\n",
    "                'primary_link':35,\n",
    "                'motorway':50,\n",
    "                'motorway_link': 45,\n",
    "                'trunk': 40,\n",
    "                'trunk_link':35,\n",
    "                'secondary': 30,\n",
    "                'secondary_link':25,\n",
    "                'tertiary':30,\n",
    "                'tertiary_link': 25,\n",
    "                'unclassified':20\n",
    "                }\n",
    "\n",
    "            highwayclass = data[road_col]\n",
    "            \n",
    "            trafficclass = data.get(traffic_col)\n",
    "\n",
    "            if trafficclass:\n",
    "                speed = data[traffic_col]\n",
    "                data['speed'] = speed\n",
    "            else:\n",
    "                if type(highwayclass) == list:\n",
    "                    highwayclass = highwayclass[0]\n",
    "\n",
    "                if highwayclass in speed_dict.keys():\n",
    "                    speed = speed_dict[highwayclass]\n",
    "                else:\n",
    "                    if default == None:\n",
    "                        speed = 20\n",
    "                    else:\n",
    "                        speed = speed_dict[default]\n",
    "                data['speed'] = speed\n",
    "            \n",
    "            #calculate road improvement costs for secondary or lower highways\n",
    "            if highwayclass in ['secondary', 'secondary_link', 'tertiary', 'tertiary_link', 'unclassified', 'residential']:\n",
    "                data['imp_cost'] = orig_len * improvement_cost_per_km\n",
    "\n",
    "        else:\n",
    "            raise ValueError('Expecting either a graph_type of \"walk\" or \"drive\"!')\n",
    "\n",
    "        # perform conversion\n",
    "        hours = orig_len / speed\n",
    "        in_seconds = hours * 60 * 60\n",
    "        data['time'] = in_seconds\n",
    "\n",
    "        # And state the mode, too\n",
    "        data['mode'] = graph_type\n",
    "\n",
    "    return G_adj"
   ]
  },
  {
   "cell_type": "markdown",
   "metadata": {},
   "source": [
    "### Note: we are using a cost of $186,800 to model improvements per km"
   ]
  },
  {
   "cell_type": "code",
   "execution_count": 25,
   "metadata": {},
   "outputs": [],
   "source": [
    "G_time = convert_network_to_time_w_traffic(G, distance_tag = 'length', road_col = 'infra_type', speed_dict = speed_dict_sri_lanka_mapbox_mean_speeds, factor = 1, improvement_cost_per_km = 186800)"
   ]
  },
  {
   "cell_type": "code",
   "execution_count": 26,
   "metadata": {},
   "outputs": [
    {
     "name": "stdout",
     "output_type": "stream",
     "text": [
      "(150994974, 255476965, {'osmid': 8095866, 'infra_type': 'residential', 'maxspeed': '30', 'length': 0.103734, 'geometry': <shapely.geometry.linestring.LineString object at 0x0000016EF8A46908>, 'speed': 20, 'imp_cost': 19377.5112, 'time': 18.672120000000003, 'mode': 'drive'})\n",
      "(150994974, 102757766, {'osmid': 23592598, 'infra_type': 'residential', 'maxspeed': '30', 'length': 0.260001, 'geometry': <shapely.geometry.linestring.LineString object at 0x0000016EF8A46988>, 'speed': 20, 'imp_cost': 48568.186799999996, 'time': 46.80018, 'mode': 'drive'})\n",
      "(150994974, 102760034, {'osmid': 775561264, 'infra_type': 'residential', 'maxspeed': '30', 'length': 0.48581299999999994, 'geometry': <shapely.geometry.linestring.LineString object at 0x0000016EF8A46A48>, 'speed': 20, 'imp_cost': 90749.86839999999, 'time': 87.44633999999999, 'mode': 'drive'})\n",
      "(150994974, 31363884, {'osmid': 775561264, 'infra_type': 'residential', 'maxspeed': '30', 'length': 0.259606, 'geometry': <shapely.geometry.linestring.LineString object at 0x0000016EF8A46B48>, 'speed': 20, 'imp_cost': 48494.4008, 'time': 46.72908, 'mode': 'drive'})\n",
      "(150994986, 102758211, {'osmid': 11528635, 'infra_type': 'residential', 'maxspeed': '30', 'length': 0.248351, 'geometry': <shapely.geometry.linestring.LineString object at 0x0000016EF8A46B88>, 'speed': 20, 'imp_cost': 46391.966799999995, 'time': 44.703179999999996, 'mode': 'drive'})\n",
      "(150994986, 102751028, {'osmid': 23855289, 'infra_type': 'secondary', 'maxspeed': '60', 'length': 0.19176500000000002, 'geometry': <shapely.geometry.linestring.LineString object at 0x0000016EF8A46C08>, 'oneway': 'no', 'speed': 34, 'imp_cost': 35821.702000000005, 'time': 20.304529411764708, 'mode': 'drive'})\n",
      "(150994986, 5207372094, {'osmid': 23855289, 'infra_type': 'secondary', 'maxspeed': '60', 'length': 0.135148, 'geometry': <shapely.geometry.linestring.LineString object at 0x0000016EF8A46CC8>, 'oneway': 'no', 'speed': 34, 'imp_cost': 25245.646399999998, 'time': 14.309788235294118, 'mode': 'drive'})\n",
      "(4211081678, 4211081685, {'osmid': 421331317, 'infra_type': 'residential', 'maxspeed': '30', 'length': 0.216296, 'geometry': <shapely.geometry.linestring.LineString object at 0x0000016EF8A46D88>, 'speed': 20, 'imp_cost': 40404.0928, 'time': 38.933279999999996, 'mode': 'drive'})\n",
      "(4211081685, 3874714072, {'osmid': 314553465, 'infra_type': 'residential', 'maxspeed': '40', 'length': 0.236039, 'geometry': <shapely.geometry.linestring.LineString object at 0x0000016EF8A46E48>, 'oneway': 'no', 'speed': 20, 'imp_cost': 44092.0852, 'time': 42.48702, 'mode': 'drive'})\n",
      "(4211081685, 3205988924, {'osmid': 314553465, 'infra_type': 'residential', 'maxspeed': '40', 'length': 0.206638, 'geometry': <shapely.geometry.linestring.LineString object at 0x0000016EF8A46F88>, 'oneway': 'no', 'speed': 20, 'imp_cost': 38599.9784, 'time': 37.19484, 'mode': 'drive'})\n",
      "(4211081685, 4211081678, {'osmid': 421331317, 'infra_type': 'residential', 'maxspeed': '30', 'length': 0.216296, 'geometry': <shapely.geometry.linestring.LineString object at 0x0000016EF8A46F08>, 'speed': 20, 'imp_cost': 40404.0928, 'time': 38.933279999999996, 'mode': 'drive'})\n",
      "(5049942656, 5049942663, {'osmid': 517494182, 'infra_type': 'residential', 'length': 0.06977799999999999, 'geometry': <shapely.geometry.linestring.LineString object at 0x0000016EF8A4A088>, 'speed': 20, 'imp_cost': 13034.530399999998, 'time': 12.560039999999997, 'mode': 'drive'})\n",
      "(5049942663, 2441628584, {'osmid': 28534004, 'infra_type': 'residential', 'maxspeed': '30', 'length': 0.009738, 'geometry': <shapely.geometry.linestring.LineString object at 0x0000016EF8A4A048>, 'traffic_min_speed': 9.0, 'traffic_max_speed': 12.0, 'traffic_mean_speed': 11.925595238095237, 'speed': 11.925595238095237, 'imp_cost': 1819.0584000000001, 'time': 2.9396268530072374, 'mode': 'drive'})\n",
      "(5049942663, 2441628583, {'osmid': 28534004, 'infra_type': 'residential', 'maxspeed': '30', 'length': 0.0068920000000000006, 'geometry': <shapely.geometry.linestring.LineString object at 0x0000016EF8A4A188>, 'traffic_min_speed': 34.0, 'traffic_max_speed': 34.0, 'traffic_mean_speed': 34.0, 'speed': 34.0, 'imp_cost': 1287.4256, 'time': 0.7297411764705883, 'mode': 'drive'})\n",
      "(5049942663, 5049942656, {'osmid': 517494182, 'infra_type': 'residential', 'length': 0.06977799999999999, 'geometry': <shapely.geometry.linestring.LineString object at 0x0000016EF8A4A148>, 'speed': 20, 'imp_cost': 13034.530399999998, 'time': 12.560039999999997, 'mode': 'drive'})\n"
     ]
    }
   ],
   "source": [
    "gn.example_edge(G_time, 15)"
   ]
  },
  {
   "cell_type": "code",
   "execution_count": 27,
   "metadata": {},
   "outputs": [],
   "source": [
    "#save graph again\n",
    "#gn.save(G_time,'sri_lanka_unclean2_w_time','./', pickle = True, edges = True, nodes = True)"
   ]
  },
  {
   "cell_type": "markdown",
   "metadata": {},
   "source": [
    "## Export edges as shapefile to visualize"
   ]
  },
  {
   "cell_type": "code",
   "execution_count": 28,
   "metadata": {},
   "outputs": [],
   "source": [
    "#edge_gdf_w_traffic = gn.edge_gdf_from_graph(G_time)"
   ]
  },
  {
   "cell_type": "code",
   "execution_count": 30,
   "metadata": {},
   "outputs": [],
   "source": [
    "#edge_gdf_w_traffic.to_file(driver = 'ESRI Shapefile', filename = './sri_lanka_hwy_w_traffic_and_time2.shp')"
   ]
  },
  {
   "cell_type": "markdown",
   "metadata": {},
   "source": [
    "### now take the biggest sub-graph and compare"
   ]
  },
  {
   "cell_type": "code",
   "execution_count": 31,
   "metadata": {},
   "outputs": [
    {
     "name": "stdout",
     "output_type": "stream",
     "text": [
      "Name: \n",
      "Type: MultiDiGraph\n",
      "Number of nodes: 603358\n",
      "Number of edges: 1342262\n",
      "Average in degree:   2.2247\n",
      "Average out degree:   2.2247\n"
     ]
    }
   ],
   "source": [
    "# before\n",
    "# let's print info on our clean version\n",
    "print(nx.info(G_time))"
   ]
  },
  {
   "cell_type": "code",
   "execution_count": 32,
   "metadata": {},
   "outputs": [],
   "source": [
    "# Identify only the largest graph\n",
    "\n",
    "# compatible with NetworkX 2.4\n",
    "list_of_subgraphs = list(G_time.subgraph(c).copy() for c in nx.strongly_connected_components(G_time))\n",
    "max_graph = None\n",
    "max_edges = 0\n",
    "for i in list_of_subgraphs:\n",
    "    if i.number_of_edges() > max_edges:\n",
    "        max_edges = i.number_of_edges()\n",
    "        max_graph = i\n",
    "\n",
    "# set your graph equal to the largest sub-graph\n",
    "G_largest = max_graph"
   ]
  },
  {
   "cell_type": "code",
   "execution_count": 33,
   "metadata": {},
   "outputs": [
    {
     "name": "stdout",
     "output_type": "stream",
     "text": [
      "Name: \n",
      "Type: MultiDiGraph\n",
      "Number of nodes: 599739\n",
      "Number of edges: 1334561\n",
      "Average in degree:   2.2252\n",
      "Average out degree:   2.2252\n"
     ]
    }
   ],
   "source": [
    "# print info about the largest sub-graph\n",
    "print(nx.info(G_largest))"
   ]
  },
  {
   "cell_type": "code",
   "execution_count": 34,
   "metadata": {},
   "outputs": [],
   "source": [
    "# re-save\n",
    "#edge_gdf_w_traffic_largest = gn.edge_gdf_from_graph(G_largest, crs = 'EPSG:32644')"
   ]
  },
  {
   "cell_type": "code",
   "execution_count": 35,
   "metadata": {},
   "outputs": [],
   "source": [
    "#edge_gdf_w_traffic_largest.to_file(driver = 'ESRI Shapefile', filename = './sri_lanka_hwy_w_traffic_and_time2_largest.shp')"
   ]
  },
  {
   "cell_type": "markdown",
   "metadata": {},
   "source": [
    "## Save your graph"
   ]
  },
  {
   "cell_type": "code",
   "execution_count": 36,
   "metadata": {},
   "outputs": [],
   "source": [
    "#save graph again\n",
    "gn.save(G_largest,'../mapbox_traffic/sri_lanka_clean_w_time_largest_mean_speeds','./', pickle = True, edges = False, nodes = False)"
   ]
  }
 ],
 "metadata": {
  "kernelspec": {
   "display_name": "Python 3",
   "language": "python",
   "name": "python3"
  },
  "language_info": {
   "codemirror_mode": {
    "name": "ipython",
    "version": 3
   },
   "file_extension": ".py",
   "mimetype": "text/x-python",
   "name": "python",
   "nbconvert_exporter": "python",
   "pygments_lexer": "ipython3",
   "version": "3.7.7"
  }
 },
 "nbformat": 4,
 "nbformat_minor": 2
}
