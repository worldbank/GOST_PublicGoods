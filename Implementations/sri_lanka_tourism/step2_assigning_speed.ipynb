{
 "cells": [
  {
   "cell_type": "markdown",
   "metadata": {},
   "source": [
    "# Step 2: Assigning Speed to Traffic Data"
   ]
  },
  {
   "cell_type": "markdown",
   "metadata": {},
   "source": [
    "## These series of notebooks rely on the 'load-traffic' branch of the GOSTnets repo and has not yet been merged into master. The link to the code is here: https://github.com/worldbank/GOSTnets/tree/load_traffic"
   ]
  },
  {
   "cell_type": "code",
   "execution_count": null,
   "metadata": {},
   "outputs": [],
   "source": [
    "import os, sys, time, importlib\n",
    "import osmnx\n",
    "\n",
    "import geopandas as gpd\n",
    "import pandas as pd\n",
    "import networkx as nx\n",
    "import numpy as np\n",
    "sys.path.append(\"../../../GOSTnets\")\n",
    "import GOSTnets as gn\n",
    "\n",
    "from shapely.geometry import LineString, Point"
   ]
  },
  {
   "cell_type": "code",
   "execution_count": null,
   "metadata": {},
   "outputs": [],
   "source": [
    "# This is a Jupyter Notebook extension which reloads all of the modules whenever you run the code\n",
    "# This is optional but good if you are modifying and testing source code\n",
    "%load_ext autoreload\n",
    "%autoreload 2"
   ]
  },
  {
   "cell_type": "code",
   "execution_count": null,
   "metadata": {},
   "outputs": [],
   "source": [
    "# read graph\n",
    "G = nx.read_gpickle('../mapbox_traffic/sri_lanka_unclean2.pickle')"
   ]
  },
  {
   "cell_type": "code",
   "execution_count": null,
   "metadata": {},
   "outputs": [],
   "source": [
    "len(G.edges)"
   ]
  },
  {
   "cell_type": "code",
   "execution_count": null,
   "metadata": {},
   "outputs": [],
   "source": [
    "gn.example_edge(G, 5)"
   ]
  },
  {
   "cell_type": "markdown",
   "metadata": {},
   "source": [
    "### Optional step: Find out average speeds for highway classes with Mapbox data\n",
    "This function below will calculate the average speeds for all highways that have traffic information per highway classes"
   ]
  },
  {
   "cell_type": "code",
   "execution_count": null,
   "metadata": {},
   "outputs": [],
   "source": [
    "def find_traffic_hwy_avg_speeds_by_class(G, speed_tag='mean_speed'):\n",
    "    \"\"\"\n",
    "    Function for finding out the different highway classes in the graph and their respective lengths\n",
    "\n",
    "    :param G: a graph object\n",
    "    :param speed_tag: specifies which edge attribute represents traffic speed\n",
    "    :returns: a dictionary that has each class and the total distance per class\n",
    "    \"\"\"\n",
    "\n",
    "    if type(G) == nx.classes.multidigraph.MultiDiGraph or type(G) == nx.classes.digraph.DiGraph:\n",
    "        pass\n",
    "    else:\n",
    "        raise ValueError('Expecting a graph or geodataframe for G!')\n",
    "\n",
    "    G_adj = G.copy()\n",
    "\n",
    "    traffic_class_list = []\n",
    "\n",
    "    for u, v, data in G_adj.edges(data=True):\n",
    "        #print(data['infra_type'])\n",
    "        if 'mean_speed' in data:\n",
    "            if type(data['infra_type']) == list:\n",
    "                    if data['infra_type'][0] not in traffic_class_list:\n",
    "                        traffic_class_list.append(data['infra_type'][0])\n",
    "            else:\n",
    "                if data['infra_type'] not in traffic_class_list:\n",
    "                    traffic_class_list.append(data['infra_type'])\n",
    "    \n",
    "    class_dict = { i : [] for i in traffic_class_list }\n",
    "    \n",
    "    print(f'print traffic_class_list: {traffic_class_list}')\n",
    "\n",
    "    for i in traffic_class_list:\n",
    "        for u, v, data in G_adj.edges(data=True):\n",
    "            if 'mean_speed' in data:\n",
    "                if data['mean_speed'] > 0:\n",
    "                    if type(data['infra_type']) == list:\n",
    "                        if data['infra_type'][0] == i:\n",
    "                            class_dict[i].append(data[speed_tag])\n",
    "                    else:\n",
    "                        if data['infra_type'] == i:\n",
    "                            class_dict[i].append(data[speed_tag])\n",
    "                        \n",
    "    print(f'print class_dict: {class_dict}')\n",
    "    \n",
    "    def Average(lst): \n",
    "        if len(lst) > 0:\n",
    "            return sum(lst) / len(lst)\n",
    "        else:\n",
    "            return 0\n",
    "    \n",
    "    class_dict_copy = class_dict.copy()\n",
    "    \n",
    "    for key in class_dict_copy:\n",
    "        class_dict_copy[key] = Average(class_dict_copy[key])\n",
    "\n",
    "    return class_dict_copy"
   ]
  },
  {
   "cell_type": "code",
   "execution_count": null,
   "metadata": {},
   "outputs": [],
   "source": [
    "average_speeds_per_class_dict = find_traffic_hwy_avg_speeds_by_class(G, speed_tag='mean_speed')"
   ]
  },
  {
   "cell_type": "code",
   "execution_count": null,
   "metadata": {},
   "outputs": [],
   "source": [
    "average_speeds_per_class_dict"
   ]
  },
  {
   "cell_type": "markdown",
   "metadata": {},
   "source": [
    "## Speed Dictionaries\n",
    "The mapbox speed dictionary was generated using the function above. The max speeds dictionary was generated by opening the edges in ArcGIS. It is up to you which dictionary to use in your analysis."
   ]
  },
  {
   "cell_type": "code",
   "execution_count": null,
   "metadata": {},
   "outputs": [],
   "source": [
    "# speed dict based on mean of mapbox real-world speeds per class\n",
    "speed_dict_sri_lanka_mapbox_mean_speeds = {\n",
    "'motorway':85 ,\n",
    "'motorway_link':30 ,\n",
    "'trunk': 40,\n",
    "'trunk_link': 23,\n",
    "'primary': 35,\n",
    "'primary_link': 14,\n",
    "'secondary': 34,\n",
    "'secondary_link': 9,\n",
    "'tertiary':25,\n",
    "'tertiary_link': 13,\n",
    "'residential': 20,\n",
    "'unclassified': 20,\n",
    "'track': 20,\n",
    "'service': 10\n",
    "}"
   ]
  },
  {
   "cell_type": "code",
   "execution_count": null,
   "metadata": {},
   "outputs": [],
   "source": [
    "# speed dict based on existing speed limit tags\n",
    "speed_dict_sri_lanka_max_speeds = {\n",
    "'motorway':100 ,\n",
    "'motorway_link':35 ,\n",
    "'trunk': 60,\n",
    "'trunk_link': 50,\n",
    "'primary': 60,\n",
    "'primary_link': 50,\n",
    "'secondary': 50,\n",
    "'secondary_link': 45,\n",
    "'tertiary':40,\n",
    "'tertiary_link': 40,\n",
    "'residential': 30,\n",
    "'unclassified': 25,\n",
    "'track': 25,\n",
    "'service': 20\n",
    "}"
   ]
  },
  {
   "cell_type": "markdown",
   "metadata": {},
   "source": [
    "## Function to add time to edges\n",
    "The function below was based off of a GOSTnets function. It was modified to calculate the correct time based on whether a Mapbox speed exists or not. Also, it creates a new 'speed' attribute that is either based on the mapbox traffic speed, or the speed provided by the input dictionary if the mapbox traffic speed does not exist."
   ]
  },
  {
   "cell_type": "code",
   "execution_count": null,
   "metadata": {},
   "outputs": [],
   "source": [
    "def convert_network_to_time_w_traffic(G, distance_tag, graph_type = 'drive', road_col = 'highway', traffic_col = 'mean_speed', speed_dict = speed_dict_sri_lanka_max_speeds, walk_speed = 4.5, factor = 1, default = None, improvement_cost_per_km = None):\n",
    "    \"\"\"\n",
    "    Function for adding a time value to edge dictionaries. Ensure any GeoDataFrames / graphs are in the same projection before using function, or pass a crs.\n",
    "\n",
    "    DEFAULT SPEEDS:\n",
    "\n",
    "               speed_dict = {\n",
    "               'residential': 20,  # kmph\n",
    "               'primary': 40, # kmph\n",
    "               'primary_link':35,\n",
    "               'motorway':50,\n",
    "               'motorway_link': 45,\n",
    "               'trunk': 40,\n",
    "               'trunk_link':35,\n",
    "               'secondary': 30,\n",
    "               'secondary_link':25,\n",
    "               'tertiary':30,\n",
    "               'tertiary_link': 25,\n",
    "               'unclassified':20\n",
    "               }\n",
    "\n",
    "    :param G: a graph containing one or more nodes\n",
    "    :param distance_tag: the key in the dictionary for the field currently\n",
    "               containing a distance in meters\n",
    "    :param road_col: key for the road type in the edge data dictionary\n",
    "    :param graph_type: set to either 'drive' or 'walk'. IF walk - will set time = walking time across all segment, using the supplied walk_speed. IF drive - will use a speed dictionary for each road type, or defaults as per the note below.\n",
    "    :param speed_dict: speed dictionary to use. If not supplied, reverts to\n",
    "               defaults\n",
    "    :param walk_speed: specify a walkspeed in km/h\n",
    "    :param factor: allows you to scale up / down distances if saved in a unit other than meters. Set to 1000 if length in km.\n",
    "    :param default: if highway type not in the speed_dict, use this road class as an in-fill value for time.\n",
    "    :returns: The original graph with a new data property for the edges called 'time'\n",
    "    \"\"\"\n",
    "\n",
    "    if type(G) == nx.classes.multidigraph.MultiDiGraph or type(G) == nx.classes.digraph.DiGraph:\n",
    "        pass\n",
    "    else:\n",
    "        raise ValueError('Expecting a graph or geodataframe for G!')\n",
    "\n",
    "    import warnings\n",
    "\n",
    "    try:\n",
    "        # checks the first edge to see if the 'time' attribute already exists\n",
    "        if list(G.edges(data = True))[0][2]['time']:\n",
    "          warnings.warn('Aree you sure you want to convert length to time? This graph already has a time attribute')\n",
    "    except:\n",
    "        pass\n",
    "\n",
    "    G_adj = G.copy()\n",
    "\n",
    "    for u, v, data in G_adj.edges(data=True):\n",
    "\n",
    "        # the default lenth in the graph should be in km\n",
    "        orig_len = data[distance_tag]\n",
    "\n",
    "        # Note that this is a MultiDiGraph so there could\n",
    "        # be multiple indices here, I naively assume this is not\n",
    "        # the case\n",
    "        data['length'] = orig_len * factor\n",
    "        \n",
    "\n",
    "        # get appropriate speed limit\n",
    "        if graph_type == 'walk':\n",
    "            speed = walk_speed\n",
    "\n",
    "        elif graph_type == 'drive':\n",
    "\n",
    "            if speed_dict == None:\n",
    "                speed_dict = {\n",
    "                'residential': 20,  # kmph\n",
    "                'primary': 40, # kmph\n",
    "                'primary_link':35,\n",
    "                'motorway':50,\n",
    "                'motorway_link': 45,\n",
    "                'trunk': 40,\n",
    "                'trunk_link':35,\n",
    "                'secondary': 30,\n",
    "                'secondary_link':25,\n",
    "                'tertiary':30,\n",
    "                'tertiary_link': 25,\n",
    "                'unclassified':20\n",
    "                }\n",
    "\n",
    "            highwayclass = data[road_col]\n",
    "            \n",
    "            trafficclass = data[traffic_col]\n",
    "\n",
    "            if trafficclass > 0:\n",
    "                speed = data[traffic_col]\n",
    "                data['speed'] = speed\n",
    "            else:\n",
    "                if type(highwayclass) == list:\n",
    "                    highwayclass = highwayclass[0]\n",
    "\n",
    "                if highwayclass in speed_dict.keys():\n",
    "                    speed = speed_dict[highwayclass]\n",
    "                else:\n",
    "                    if default == None:\n",
    "                        speed = 20\n",
    "                    else:\n",
    "                        speed = speed_dict[default]\n",
    "                data['speed'] = speed\n",
    "            \n",
    "            #calculate road improvement costs for secondary or lower highways\n",
    "            if highwayclass in ['secondary', 'secondary_link', 'tertiary', 'tertiary_link', 'unclassified', 'residential']:\n",
    "                data['imp_cost'] = orig_len * improvement_cost_per_km\n",
    "\n",
    "        else:\n",
    "            raise ValueError('Expecting either a graph_type of \"walk\" or \"drive\"!')\n",
    "\n",
    "        # perform conversion\n",
    "        hours = orig_len / speed\n",
    "        in_seconds = hours * 60 * 60\n",
    "        data['time'] = in_seconds\n",
    "\n",
    "        # And state the mode, too\n",
    "        data['mode'] = graph_type\n",
    "\n",
    "    return G_adj"
   ]
  },
  {
   "cell_type": "code",
   "execution_count": null,
   "metadata": {},
   "outputs": [],
   "source": [
    "G_time = convert_network_to_time_w_traffic(G, distance_tag = 'length', road_col = 'infra_type', speed_dict = speed_dict_sri_lanka_max_speeds, factor = 1, improvement_cost_per_km = 186800)"
   ]
  },
  {
   "cell_type": "code",
   "execution_count": null,
   "metadata": {},
   "outputs": [],
   "source": [
    "gn.example_edge(G_time, 15)"
   ]
  },
  {
   "cell_type": "code",
   "execution_count": null,
   "metadata": {},
   "outputs": [],
   "source": [
    "#save graph again\n",
    "#gn.save(G_time,'sri_lanka_unclean2_w_time','./', pickle = True, edges = True, nodes = True)"
   ]
  },
  {
   "cell_type": "markdown",
   "metadata": {},
   "source": [
    "## Export edges as shapefile to visualize"
   ]
  },
  {
   "cell_type": "code",
   "execution_count": null,
   "metadata": {},
   "outputs": [],
   "source": [
    "edge_gdf_w_traffic = gn.edge_gdf_from_graph(G_time)"
   ]
  },
  {
   "cell_type": "code",
   "execution_count": null,
   "metadata": {},
   "outputs": [],
   "source": [
    "edge_gdf_w_traffic.sort_values(by=['speed'])"
   ]
  },
  {
   "cell_type": "code",
   "execution_count": null,
   "metadata": {},
   "outputs": [],
   "source": [
    "#edge_gdf_w_traffic.to_file(driver = 'ESRI Shapefile', filename = './sri_lanka_hwy_w_traffic_and_time2.shp')"
   ]
  },
  {
   "cell_type": "markdown",
   "metadata": {},
   "source": [
    "### now take the biggest sub-graph and compare"
   ]
  },
  {
   "cell_type": "code",
   "execution_count": null,
   "metadata": {},
   "outputs": [],
   "source": [
    "# before\n",
    "# let's print info on our clean version\n",
    "print(nx.info(G_time))"
   ]
  },
  {
   "cell_type": "code",
   "execution_count": null,
   "metadata": {},
   "outputs": [],
   "source": [
    "# Identify only the largest graph\n",
    "\n",
    "# compatible with NetworkX 2.4\n",
    "list_of_subgraphs = list(G_time.subgraph(c).copy() for c in nx.strongly_connected_components(G_time))\n",
    "max_graph = None\n",
    "max_edges = 0\n",
    "for i in list_of_subgraphs:\n",
    "    if i.number_of_edges() > max_edges:\n",
    "        max_edges = i.number_of_edges()\n",
    "        max_graph = i\n",
    "\n",
    "# set your graph equal to the largest sub-graph\n",
    "G_largest = max_graph"
   ]
  },
  {
   "cell_type": "code",
   "execution_count": null,
   "metadata": {},
   "outputs": [],
   "source": [
    "# print info about the largest sub-graph\n",
    "print(nx.info(G_largest))"
   ]
  },
  {
   "cell_type": "code",
   "execution_count": null,
   "metadata": {},
   "outputs": [],
   "source": [
    "# re-save\n",
    "#edge_gdf_w_traffic_largest = gn.edge_gdf_from_graph(G_largest)"
   ]
  },
  {
   "cell_type": "code",
   "execution_count": null,
   "metadata": {},
   "outputs": [],
   "source": [
    "#edge_gdf_w_traffic_largest.to_file(driver = 'ESRI Shapefile', filename = './sri_lanka_hwy_w_traffic_and_time2_largest.shp')"
   ]
  },
  {
   "cell_type": "markdown",
   "metadata": {},
   "source": [
    "## Save your graph"
   ]
  },
  {
   "cell_type": "code",
   "execution_count": null,
   "metadata": {},
   "outputs": [],
   "source": [
    "#save graph again\n",
    "gn.save(G_largest,'./mapbox_traffic/sri_lanka_unclean2_w_time_largest_20200616_max_speeds','./', pickle = True, edges = False, nodes = False)"
   ]
  },
  {
   "cell_type": "code",
   "execution_count": null,
   "metadata": {},
   "outputs": [],
   "source": []
  }
 ],
 "metadata": {
  "kernelspec": {
   "display_name": "Python 3",
   "language": "python",
   "name": "python3"
  },
  "language_info": {
   "codemirror_mode": {
    "name": "ipython",
    "version": 3
   },
   "file_extension": ".py",
   "mimetype": "text/x-python",
   "name": "python",
   "nbconvert_exporter": "python",
   "pygments_lexer": "ipython3",
   "version": "3.7.7"
  }
 },
 "nbformat": 4,
 "nbformat_minor": 2
}
