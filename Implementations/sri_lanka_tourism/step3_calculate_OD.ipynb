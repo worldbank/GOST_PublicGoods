{
 "cells": [
  {
   "cell_type": "markdown",
   "metadata": {},
   "source": [
    "# Step 3: Calculate OD"
   ]
  },
  {
   "cell_type": "markdown",
   "metadata": {},
   "source": [
    "## These series of notebooks rely on the 'load-traffic' branch of the GOSTnets repo and has not yet been merged into master. The link to the code is here: https://github.com/worldbank/GOSTnets/tree/load_traffic"
   ]
  },
  {
   "cell_type": "code",
   "execution_count": null,
   "metadata": {},
   "outputs": [],
   "source": [
    "import os, sys, time, importlib\n",
    "import osmnx\n",
    "\n",
    "import geopandas as gpd\n",
    "import pandas as pd\n",
    "import networkx as nx\n",
    "import numpy as np\n",
    "sys.path.append(\"../../../GOSTnets\")\n",
    "import GOSTnets as gn\n",
    "\n",
    "from shapely.geometry import LineString, Point"
   ]
  },
  {
   "cell_type": "code",
   "execution_count": null,
   "metadata": {},
   "outputs": [],
   "source": [
    "# This is a Jupyter Notebook extension which reloads all of the modules whenever you run the code\n",
    "# This is optional but good if you are modifying and testing source code\n",
    "%load_ext autoreload\n",
    "%autoreload 2"
   ]
  },
  {
   "cell_type": "code",
   "execution_count": null,
   "metadata": {},
   "outputs": [],
   "source": [
    "from GOSTnets.load_traffic2 import *"
   ]
  },
  {
   "cell_type": "code",
   "execution_count": null,
   "metadata": {},
   "outputs": [],
   "source": [
    "# read graph\n",
    "G = nx.read_gpickle('../mapbox_traffic/sri_lanka_unclean2_w_time_largest_20200616_traffic_mean_speeds.pickle')"
   ]
  },
  {
   "cell_type": "code",
   "execution_count": null,
   "metadata": {},
   "outputs": [],
   "source": [
    "#len(G.edges)"
   ]
  },
  {
   "cell_type": "code",
   "execution_count": null,
   "metadata": {},
   "outputs": [],
   "source": [
    "#gn.example_edge(G, 5)"
   ]
  },
  {
   "cell_type": "markdown",
   "metadata": {},
   "source": [
    "## load origins\n",
    "Depending on your analysis, your would load either your airports as origins, or your cities"
   ]
  },
  {
   "cell_type": "code",
   "execution_count": null,
   "metadata": {},
   "outputs": [],
   "source": [
    "#origins = gpd.read_file('./origins_destinations/intl_airport_updated.shp')\n",
    "origins = gpd.read_file('../mapbox_traffic/origins_destinations/cities_top10.shp')"
   ]
  },
  {
   "cell_type": "code",
   "execution_count": null,
   "metadata": {},
   "outputs": [],
   "source": [
    "origins"
   ]
  },
  {
   "cell_type": "markdown",
   "metadata": {},
   "source": [
    "## load destinations\n",
    "Depending on your analysis, your would load either your cities as destinations, or your tourist points"
   ]
  },
  {
   "cell_type": "code",
   "execution_count": null,
   "metadata": {},
   "outputs": [],
   "source": [
    "#destinations = gpd.read_file('./origins_destinations/cities_top10.shp')\n",
    "destinations = gpd.read_file('../mapbox_traffic/origins_destinations/tourism_on_land_wgs84.shp')"
   ]
  },
  {
   "cell_type": "code",
   "execution_count": null,
   "metadata": {},
   "outputs": [],
   "source": [
    "destinations"
   ]
  },
  {
   "cell_type": "markdown",
   "metadata": {},
   "source": [
    "### Snap your origins and destinations to the graph"
   ]
  },
  {
   "cell_type": "code",
   "execution_count": null,
   "metadata": {},
   "outputs": [],
   "source": [
    "origins_gdf = gn.pandana_snap_c(G, origins, source_crs = 'epsg:4326', target_crs = 'epsg:32644')"
   ]
  },
  {
   "cell_type": "code",
   "execution_count": null,
   "metadata": {},
   "outputs": [],
   "source": [
    "#origins_gdf"
   ]
  },
  {
   "cell_type": "code",
   "execution_count": null,
   "metadata": {},
   "outputs": [],
   "source": [
    "origins_list = list(set(origins_gdf.NN))"
   ]
  },
  {
   "cell_type": "code",
   "execution_count": null,
   "metadata": {},
   "outputs": [],
   "source": [
    "destinations_gdf = gn.pandana_snap_c(G, destinations, source_crs = 'epsg:4326', target_crs = 'epsg:32644')"
   ]
  },
  {
   "cell_type": "code",
   "execution_count": null,
   "metadata": {},
   "outputs": [],
   "source": [
    "#destinations_gdf"
   ]
  },
  {
   "cell_type": "code",
   "execution_count": null,
   "metadata": {},
   "outputs": [],
   "source": [
    "destinations_list = list(set(destinations_gdf.NN))"
   ]
  },
  {
   "cell_type": "code",
   "execution_count": null,
   "metadata": {},
   "outputs": [],
   "source": [
    "#destinations_list"
   ]
  },
  {
   "cell_type": "markdown",
   "metadata": {},
   "source": [
    "## Calculate OD"
   ]
  },
  {
   "cell_type": "code",
   "execution_count": null,
   "metadata": {},
   "outputs": [],
   "source": [
    "# It will use the default weight of 'time'\n",
    "import time\n",
    "\n",
    "start = time.time()\n",
    "\n",
    "OD = gn.calculate_OD(G, origins_list, destinations_list, fail_value = 9999999)\n",
    "\n",
    "end = time.time()\n",
    "print(end - start)"
   ]
  },
  {
   "cell_type": "code",
   "execution_count": null,
   "metadata": {},
   "outputs": [],
   "source": [
    "#OD"
   ]
  },
  {
   "cell_type": "code",
   "execution_count": null,
   "metadata": {},
   "outputs": [],
   "source": [
    "OD_df = pd.DataFrame(OD, index = origins_list, columns = destinations_list)"
   ]
  },
  {
   "cell_type": "code",
   "execution_count": null,
   "metadata": {},
   "outputs": [],
   "source": [
    "OD_df"
   ]
  },
  {
   "cell_type": "code",
   "execution_count": null,
   "metadata": {},
   "outputs": [],
   "source": [
    "#OD_df.min(axis=0)"
   ]
  },
  {
   "cell_type": "markdown",
   "metadata": {},
   "source": [
    "### Now we need to find the nearest city for each tourist point, and based on this assign a group of tourist points to each of the 10 cities"
   ]
  },
  {
   "cell_type": "code",
   "execution_count": null,
   "metadata": {},
   "outputs": [],
   "source": [
    "# test\n",
    "# first column is the destination (tourist point), and the second column is the nearest city\n",
    "OD_df.idxmin(axis=0)"
   ]
  },
  {
   "cell_type": "code",
   "execution_count": null,
   "metadata": {},
   "outputs": [],
   "source": [
    "#OD_df.idxmin(axis=0).to_csv('./nodes_and_associated_nearest_city.csv')"
   ]
  },
  {
   "cell_type": "code",
   "execution_count": null,
   "metadata": {},
   "outputs": [],
   "source": [
    "#OD_df.idxmin(axis=0).to_frame(0)"
   ]
  },
  {
   "cell_type": "markdown",
   "metadata": {},
   "source": [
    "### takes the min index value of each column, then groups by city (first index (0)) and takes the first entry"
   ]
  },
  {
   "cell_type": "code",
   "execution_count": null,
   "metadata": {},
   "outputs": [],
   "source": [
    "groupby_obj = OD_df.idxmin(axis=0).to_frame(0).groupby(0)[0]"
   ]
  },
  {
   "cell_type": "code",
   "execution_count": null,
   "metadata": {},
   "outputs": [],
   "source": [
    "groupby_obj"
   ]
  },
  {
   "cell_type": "code",
   "execution_count": null,
   "metadata": {},
   "outputs": [],
   "source": [
    "# visualize groupby_obj\n",
    "#groupby_obj.apply(list)"
   ]
  },
  {
   "cell_type": "code",
   "execution_count": null,
   "metadata": {},
   "outputs": [],
   "source": [
    "#type(groupby_obj.apply(list))"
   ]
  },
  {
   "cell_type": "code",
   "execution_count": null,
   "metadata": {},
   "outputs": [],
   "source": [
    "# a nice way to visualize the groupby_obj\n",
    "#groupby_obj.describe()"
   ]
  },
  {
   "cell_type": "markdown",
   "metadata": {},
   "source": [
    "### create a dictionary that associates assigned tourist points with each city"
   ]
  },
  {
   "cell_type": "code",
   "execution_count": null,
   "metadata": {},
   "outputs": [],
   "source": [
    "city_tourist_pt_dict = {}\n",
    "for name, group in groupby_obj:\n",
    "    #print(group)\n",
    "    for items in group.iteritems(): \n",
    "        #print(items[1])\n",
    "        if items[1] not in city_tourist_pt_dict:\n",
    "            city_tourist_pt_dict[items[1]] = [items[0]]\n",
    "        else:\n",
    "            #append value to list in dict value\n",
    "            city_tourist_pt_dict[items[1]].append(items[0])\n",
    "    #print(type(group))\n",
    "    #print(group.head(1))\n",
    "\n",
    "    #print(name)\n",
    "    #print(city_tourist_pt_dict[group])"
   ]
  },
  {
   "cell_type": "code",
   "execution_count": null,
   "metadata": {},
   "outputs": [],
   "source": [
    "city_tourist_pt_dict"
   ]
  },
  {
   "cell_type": "markdown",
   "metadata": {},
   "source": [
    "## Loop through dictionary in order to do a calculate_OD for each airport's nearest cities"
   ]
  },
  {
   "cell_type": "code",
   "execution_count": null,
   "metadata": {},
   "outputs": [],
   "source": [
    "OD = {}\n",
    "OD_df_dict = {}\n",
    "for city,tourist_pts in city_tourist_pt_dict.items():\n",
    "    OD[city] = gn.calculate_OD(G, [city], tourist_pts, fail_value = 9999999)\n",
    "    OD_df_dict[city] = pd.DataFrame(OD[city], index = [city], columns = tourist_pts)"
   ]
  },
  {
   "cell_type": "code",
   "execution_count": null,
   "metadata": {},
   "outputs": [],
   "source": [
    "#sample_df = OD_df_dict[4784044133]\n",
    "#sample_df"
   ]
  },
  {
   "cell_type": "code",
   "execution_count": null,
   "metadata": {},
   "outputs": [],
   "source": [
    "OD_df_dict"
   ]
  },
  {
   "cell_type": "markdown",
   "metadata": {},
   "source": [
    "### Optional step:  calculateOD time for an origin and its set of destinations"
   ]
  },
  {
   "cell_type": "code",
   "execution_count": null,
   "metadata": {},
   "outputs": [],
   "source": [
    "#start = time.time()\n",
    "#OD[4784044133] = gn.calculate_OD(G, [4784044133], tourist_pts, fail_value = 9999999)\n",
    "#print(time.time() - start)"
   ]
  },
  {
   "cell_type": "code",
   "execution_count": null,
   "metadata": {},
   "outputs": [],
   "source": [
    "# sum of all shortest routes\n",
    "#OD[4784044133][0].sum()"
   ]
  },
  {
   "cell_type": "markdown",
   "metadata": {},
   "source": [
    "## Now work on generating routes and visualizing them"
   ]
  },
  {
   "cell_type": "code",
   "execution_count": null,
   "metadata": {},
   "outputs": [],
   "source": [
    "from shapely.ops import linemerge\n",
    "from itertools import islice"
   ]
  },
  {
   "cell_type": "markdown",
   "metadata": {},
   "source": [
    "### speed dictionaries used to model bringing an improved highway to an average speed"
   ]
  },
  {
   "cell_type": "code",
   "execution_count": null,
   "metadata": {},
   "outputs": [],
   "source": [
    "max_speeds = {\n",
    "    'secondary': 50,\n",
    "    'secondary_link': 45,\n",
    "    'tertiary': 40,\n",
    "    'tertiary_link': 40,\n",
    "    'residential': 25,\n",
    "    'unclassified': 25,\n",
    "}"
   ]
  },
  {
   "cell_type": "code",
   "execution_count": null,
   "metadata": {},
   "outputs": [],
   "source": [
    "mapbox_mean_speeds = {\n",
    "    'secondary': 34,\n",
    "    'secondary_link': 9,\n",
    "    'tertiary': 25,\n",
    "    'tertiary_link': 13,\n",
    "    'residential': 20,\n",
    "    'unclassified': 20,\n",
    "}"
   ]
  },
  {
   "cell_type": "code",
   "execution_count": null,
   "metadata": {},
   "outputs": [],
   "source": [
    "def tabulate_edges(route):\n",
    "    edge_table = []\n",
    "    route_geometry = LineString()\n",
    "    for idx in range(0, len(route) - 1):\n",
    "        #edge_table.append([route[idx], route[idx+1]])\n",
    "        # look up line\n",
    "        #print('to node')\n",
    "        #print(route[idx])\n",
    "        #print('from node')\n",
    "        #print(route[idx+1])\n",
    "        edge_geometry = G.get_edge_data(route[idx],route[idx+1])[0]['geometry']\n",
    "        # get edge speed\n",
    "        edge_speed = G.get_edge_data(route[idx],route[idx+1])[0]['speed']\n",
    "        #print('print edge_speed')\n",
    "        #print(edge_speed)\n",
    "        \n",
    "        # compare edge speed to median speed\n",
    "        rural_roads_list = ['residential','secondary','secondary_link','tertiary','tertiary_link','unclassified']\n",
    "        \n",
    "        edge_infra_type = G.get_edge_data(route[idx],route[idx+1])[0]['infra_type']\n",
    "        \n",
    "        edge_length = G.get_edge_data(route[idx],route[idx+1])[0]['length']\n",
    "        edge_time = G.get_edge_data(route[idx],route[idx+1])[0]['time']\n",
    "        \n",
    "        mean_speed = G.get_edge_data(route[idx],route[idx+1])[0]['mean_speed']\n",
    "        \n",
    "        try:\n",
    "            edge_imp_cost = G.get_edge_data(route[idx],route[idx+1])[0]['imp_cost']\n",
    "        except:\n",
    "            edge_imp_cost = 0\n",
    "            pass\n",
    "        \n",
    "        if mean_speed > 0:      \n",
    "            if edge_infra_type in rural_roads_list:\n",
    "                print('print edge attributes')\n",
    "                print(G.get_edge_data(route[idx],route[idx+1])[0])\n",
    "                #print('print improved speed')\n",
    "                #print(mapbox_traffic_mean_speeds[edge_infra_type])\n",
    "                #assumes that current edge length is in km\n",
    "                #use either the max_speeds dictionary or the mapbox_mean_speeds dictionary here\n",
    "                new_time_s = (edge_length / mapbox_mean_speeds[edge_infra_type]) * 3600\n",
    "                #new_time_s = ((edge_length / 1000) / maxspeed_mean_speeds[edge_infra_type]) * 3600\n",
    "                #print(\"print new_time_s\")\n",
    "                #print(new_time_s)\n",
    "                #print('print old time')\n",
    "                #print(edge_time)\n",
    "                edge_savings = edge_time - new_time_s\n",
    "                # assign savings time\n",
    "                edge_table.append([route[idx], route[idx+1], edge_savings, edge_imp_cost, edge_length, edge_infra_type, mean_speed, edge_geometry])\n",
    "                # data['sec_saved'] = data['length'] / new_time\n",
    "                # data['improvement_cost'] = 174861 * data['length'] / 1000\n",
    "            else:\n",
    "                # data['sec_saved'] = 0\n",
    "                # very high number\n",
    "                # data['improvement_cost'] = 10000000000\n",
    "                #print(\"not a rural road\")\n",
    "                edge_table.append([route[idx], route[idx+1], 0, 0, edge_length, edge_infra_type, mean_speed, edge_geometry])\n",
    "        else:\n",
    "            edge_table.append([route[idx], route[idx+1], 0, 0, edge_length, edge_infra_type, mean_speed, edge_geometry])\n",
    "            \n",
    "        route_geometry = route_geometry.union(edge_geometry)\n",
    "        \n",
    "    #print('print route_geometry')\n",
    "    #print(route_geometry)\n",
    "    \n",
    "    return(edge_table, route_geometry)"
   ]
  },
  {
   "cell_type": "code",
   "execution_count": null,
   "metadata": {},
   "outputs": [],
   "source": [
    "def generate_complete_edges_and_routes(input_df):\n",
    "\n",
    "    LIMIT = 1000000\n",
    "\n",
    "    complete_edges = []\n",
    "    complete_routes = []\n",
    "\n",
    "    count = 0\n",
    "\n",
    "    # for origin, row in sample_df.iterrows(): \n",
    "    for origin, row in islice(input_df.iterrows(), LIMIT):    \n",
    "        for destination, value in islice(row.items(), LIMIT):\n",
    "            try:\n",
    "                origin = int(origin)\n",
    "            except:\n",
    "                pass\n",
    "            try:\n",
    "                destination = int(destination)\n",
    "            except:\n",
    "                pass\n",
    "\n",
    "            count = count + 1\n",
    "\n",
    "            route = nx.dijkstra_path(G, origin, destination, weight = 'time')\n",
    "            #path_edges = zip(route,route[1:])\n",
    "            #print('print path_edges')\n",
    "            #print(list(path_edges))\n",
    "            # print(route)\n",
    "            edge_table, route_geometry = tabulate_edges(route)\n",
    "            #print('print edge_table:')\n",
    "            #print(edge_table)\n",
    "            complete_edges = complete_edges + edge_table\n",
    "            #print('route_time')\n",
    "            #print(value)\n",
    "            complete_routes.append([edge_table[0][0], edge_table[-1][1], value, route_geometry])\n",
    "            #print('edge_table[:-1]')\n",
    "            #print(edge_table[-1][1])\n",
    "            \n",
    "    # convert complete_edges to gdf\n",
    "    complete = pd.DataFrame(complete_edges, columns = ['o', 'd', 'sec_saved', 'imp_cost', 'length', 'infra_type', 'mean_speed', 'geometry'])\n",
    "    complete['w'] = 1\n",
    "    complete_count = complete.groupby(['o','d']).agg(\n",
    "        {\n",
    "            'w':\"count\",\n",
    "            'sec_saved': 'first',\n",
    "            'imp_cost': 'first',\n",
    "            'mean_speed': 'first',\n",
    "            'length':'first',\n",
    "            'infra_type':'first',\n",
    "            'geometry':'first'\n",
    "        }\n",
    "    )\n",
    "    complete_count.reset_index(inplace = True)\n",
    "    complete_count['o'] = complete_count['o'].astype(str)\n",
    "    complete_count['d'] = complete_count['d'].astype(str)\n",
    "    complete_count['weighted_sec_saved'] = complete_count.w * complete_count.sec_saved\n",
    "    complete_count.sort_values(by=['weighted_sec_saved'], ascending=False)\n",
    "    complete_count_gdf = gpd.GeoDataFrame(complete_count, crs = 'epsg:4326')\n",
    "    \n",
    "    # convert complete_routes to gdf\n",
    "    complete_routes_df = pd.DataFrame(complete_routes, columns = ['origin','destination','time','geometry'])\n",
    "    complete_routes_gdf = gpd.GeoDataFrame(complete_routes_df, crs = 'epsg:4326')\n",
    "        \n",
    "    return [complete_count_gdf, complete_routes_gdf]"
   ]
  },
  {
   "cell_type": "code",
   "execution_count": null,
   "metadata": {},
   "outputs": [],
   "source": [
    "OD_df_dict"
   ]
  },
  {
   "cell_type": "code",
   "execution_count": null,
   "metadata": {},
   "outputs": [],
   "source": [
    "for key in OD_df_dict:\n",
    "    print(key)"
   ]
  },
  {
   "cell_type": "code",
   "execution_count": null,
   "metadata": {
    "scrolled": true
   },
   "outputs": [],
   "source": [
    "#results = generate_complete_edges_and_routes(OD_df_dict[3935302581])"
   ]
  },
  {
   "cell_type": "code",
   "execution_count": null,
   "metadata": {},
   "outputs": [],
   "source": [
    "import time\n",
    "\n",
    "start = time.time()\n",
    "\n",
    "results = {}\n",
    "\n",
    "count = 0\n",
    "for key in OD_df_dict:\n",
    "    #while count > 1 and count < 6:\n",
    "    results[key] = generate_complete_edges_and_routes(OD_df_dict[key])\n",
    "    count += 1\n",
    "    \n",
    "print(time.time() - start)"
   ]
  },
  {
   "cell_type": "code",
   "execution_count": null,
   "metadata": {},
   "outputs": [],
   "source": [
    "for key in results:\n",
    "    # print edges\n",
    "    #print(results[key][0])\n",
    "    file_name = f\"./output_edges/cities_weighted_sec_saved_edges_{key}_traffic_mean_speed.shp\"\n",
    "    #print(file_name)\n",
    "    results[key][0].to_file(driver = 'ESRI Shapefile', filename = file_name)"
   ]
  },
  {
   "cell_type": "code",
   "execution_count": null,
   "metadata": {},
   "outputs": [],
   "source": [
    "#file_name = f\"./airport_output_edges_20200628_traffic_mean/weighted_sec_saved_edges_3935302581.shp\"\n",
    "#print(file_name)\n",
    "#results[0].to_file(driver = 'ESRI Shapefile', filename = file_name)"
   ]
  },
  {
   "cell_type": "code",
   "execution_count": null,
   "metadata": {},
   "outputs": [],
   "source": [
    "#results[1243386867][0]"
   ]
  },
  {
   "cell_type": "code",
   "execution_count": null,
   "metadata": {},
   "outputs": [],
   "source": [
    "# save as shapefile\n",
    "#results[0].to_file(driver = 'ESRI Shapefile', filename = \"./weighted_sec_saved_edges.shp\")"
   ]
  },
  {
   "cell_type": "code",
   "execution_count": null,
   "metadata": {},
   "outputs": [],
   "source": [
    "# save as shapefile\n",
    "#results[1].to_file(driver = 'ESRI Shapefile', filename = \"./shortest_path_routes.shp\")"
   ]
  }
 ],
 "metadata": {
  "kernelspec": {
   "display_name": "Python 3",
   "language": "python",
   "name": "python3"
  },
  "language_info": {
   "codemirror_mode": {
    "name": "ipython",
    "version": 3
   },
   "file_extension": ".py",
   "mimetype": "text/x-python",
   "name": "python",
   "nbconvert_exporter": "python",
   "pygments_lexer": "ipython3",
   "version": "3.7.7"
  }
 },
 "nbformat": 4,
 "nbformat_minor": 2
}
